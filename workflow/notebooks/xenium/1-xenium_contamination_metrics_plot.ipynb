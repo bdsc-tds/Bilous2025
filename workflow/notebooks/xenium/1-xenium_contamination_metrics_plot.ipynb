{
 "cells": [
  {
   "cell_type": "code",
   "execution_count": 1,
   "metadata": {},
   "outputs": [
    {
     "name": "stderr",
     "output_type": "stream",
     "text": [
      "/work/PRTNR/CHUV/DIR/rgottar1/spatial/env/jbac/miniforge3/envs/spatial/lib/python3.11/importlib/__init__.py:126: FutureWarning: The legacy Dask DataFrame implementation is deprecated and will be removed in a future version. Set the configuration option `dataframe.query-planning` to `True` or None to enable the new Dask Dataframe implementation and silence this warning.\n",
      "  return _bootstrap._gcd_import(name[level:], package, level)\n",
      "/work/PRTNR/CHUV/DIR/rgottar1/spatial/env/jbac/miniforge3/envs/spatial/lib/python3.11/site-packages/cudf/utils/_ptxcompiler.py:64: UserWarning: Error getting driver and runtime versions:\n",
      "\n",
      "stdout:\n",
      "\n",
      "\n",
      "\n",
      "stderr:\n",
      "\n",
      "Traceback (most recent call last):\n",
      "  File \"<string>\", line 4, in <module>\n",
      "  File \"/work/PRTNR/CHUV/DIR/rgottar1/spatial/env/jbac/miniforge3/envs/spatial/lib/python3.11/site-packages/numba_cuda/numba/cuda/cudadrv/driver.py\", line 272, in __getattr__\n",
      "    raise CudaSupportError(\"Error at driver init: \\n%s:\" %\n",
      "numba.cuda.cudadrv.error.CudaSupportError: Error at driver init: \n",
      "\n",
      "CUDA driver library cannot be found.\n",
      "If you are sure that a CUDA driver is installed,\n",
      "try setting environment variable NUMBA_CUDA_DRIVER\n",
      "with the file path of the CUDA driver shared library.\n",
      ":\n",
      "\n",
      "\n",
      "Not patching Numba\n",
      "  warnings.warn(msg, UserWarning)\n",
      "/work/PRTNR/CHUV/DIR/rgottar1/spatial/env/jbac/miniforge3/envs/spatial/lib/python3.11/site-packages/cudf/utils/gpu_utils.py:62: UserWarning: Failed to dlopen libcuda.so.1\n",
      "  warnings.warn(str(e))\n",
      "/work/PRTNR/CHUV/DIR/rgottar1/spatial/env/jbac/miniforge3/envs/spatial/lib/python3.11/site-packages/anndata/utils.py:429: FutureWarning: Importing read_text from `anndata` is deprecated. Import anndata.io.read_text instead.\n",
      "  warnings.warn(msg, FutureWarning)\n"
     ]
    }
   ],
   "source": [
    "import dask\n",
    "dask.config.set({\"dataframe.query-planning\": False})\n",
    "\n",
    "\n",
    "import numpy as np\n",
    "from pathlib import Path\n",
    "import json\n",
    "import pandas as pd\n",
    "import scanpy as sc\n",
    "import seaborn as sns\n",
    "import matplotlib.pyplot as plt\n",
    "import sys\n",
    "sys.path.extend(['../../scripts','../../scripts/xenium'])\n",
    "import readwrite\n",
    "cfg = readwrite.config()"
   ]
  },
  {
   "cell_type": "markdown",
   "metadata": {},
   "source": [
    "## Load data"
   ]
  },
  {
   "cell_type": "code",
   "execution_count": null,
   "metadata": {},
   "outputs": [],
   "source": [
    "# cfg paths\n",
    "xenium_dir = Path(cfg['xenium_processed_data_dir'])\n",
    "xenium_raw_data_dir = Path(cfg['xenium_raw_data_dir'])\n",
    "results_dir = Path(cfg['results_dir'])\n",
    "\n",
    "# Segmentation, mapping paths\n",
    "dir_segmentations = {\n",
    "    dir_segmentation.name: (dir_segmentation)\n",
    "    for dir_segmentation in xenium_dir.iterdir()\n",
    "}\n",
    "# dir_segmentations['default'] = xenium_raw_data_dir\n",
    "\n",
    "# Read resegmentations and RCTD\n",
    "xenium_paths = {}\n",
    "umaps = {}\n",
    "\n",
    "for segmentation in (segmentations := xenium_dir.iterdir()):\n",
    "    for condition in (conditions := segmentation.iterdir()): \n",
    "        for panel in (panels := condition.iterdir()):\n",
    "            for donor in (donors := panel.iterdir()):\n",
    "                for sample in (samples := donor.iterdir()):\n",
    "                    \n",
    "                    k = (segmentation.stem,condition.stem,panel.stem,donor.stem,sample.stem)\n",
    "\n",
    "                    if segmentation.stem == 'proseg':\n",
    "                        sample_path = sample / 'raw_results'\n",
    "                    else:\n",
    "                        sample_path = sample / \"normalised_results/outs\"\n",
    "                    name = '/'.join(k)\n",
    "\n",
    "                    xenium_paths[k] = sample_path\n",
    "                    # if (sample_path / 'analysis/umap/gene_expression_2_components/projection.csv').exists():\n",
    "                    #     umaps[k] = pd.read_csv(sample_path / 'analysis/umap/gene_expression_2_components/projection.csv',index_col=0)\n",
    "\n",
    "\n",
    "# CC, pos_rate = readwrite.read_coexpression_files(cc_paths, results_dir)\n",
    "xenium_levels = ('segmentation','condition','panel','donor','sample')\n",
    "ads = readwrite.read_xenium_samples(xenium_paths,anndata=True,transcripts=False,sample_name_as_key=False)\n",
    "# ads = pd.Series(ads.values(),\n",
    "#                 index=pd.Index(ads.keys(),name = xenium_levels),\n",
    "#                 dtype=object).sort_index()"
   ]
  }
 ],
 "metadata": {
  "kernelspec": {
   "display_name": "spatial",
   "language": "python",
   "name": "python3"
  },
  "language_info": {
   "codemirror_mode": {
    "name": "ipython",
    "version": 3
   },
   "file_extension": ".py",
   "mimetype": "text/x-python",
   "name": "python",
   "nbconvert_exporter": "python",
   "pygments_lexer": "ipython3",
   "version": "3.11.11"
  }
 },
 "nbformat": 4,
 "nbformat_minor": 2
}
