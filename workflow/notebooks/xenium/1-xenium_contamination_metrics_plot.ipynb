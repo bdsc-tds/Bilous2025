{
 "cells": [
  {
   "cell_type": "code",
   "execution_count": 2,
   "metadata": {},
   "outputs": [],
   "source": [
    "import dask\n",
    "dask.config.set({\"dataframe.query-planning\": False})\n",
    "\n",
    "\n",
    "import numpy as np\n",
    "from pathlib import Path\n",
    "import json\n",
    "import pandas as pd\n",
    "import scanpy as sc\n",
    "import seaborn as sns\n",
    "import matplotlib.pyplot as plt\n",
    "import sys\n",
    "sys.path.extend(['../../scripts','../../scripts/xenium'])\n",
    "import readwrite\n",
    "cfg = readwrite.config()"
   ]
  },
  {
   "cell_type": "markdown",
   "metadata": {},
   "source": [
    "## Load data"
   ]
  },
  {
   "cell_type": "code",
   "execution_count": 3,
   "metadata": {},
   "outputs": [],
   "source": [
    "# cfg paths\n",
    "xenium_dir = Path(cfg['xenium_processed_data_dir'])\n",
    "xenium_std_seurat_analysis_dir = Path(cfg['xenium_std_seurat_analysis_dir'])\n",
    "xenium_cell_type_annotation_dir = Path(cfg['xenium_cell_type_annotation_dir'])\n",
    "results_dir = Path(cfg['results_dir'])\n",
    "palette_dir = Path(cfg['xenium_metadata_dir'])\n",
    "\n",
    "# Params\n",
    "# probably only need to run for lognorm data\n",
    "normalisations = ['lognorm',]\n",
    "layers = ['data',]\n",
    "references = ['matched_reference_combo']\n",
    "methods = ['rctd_class_aware']\n",
    "levels = ['Level2']\n",
    "\n",
    "n_neighbors = 10\n",
    "n_permutations = 30\n",
    "n_repeats = 5\n",
    "top_n = 20\n",
    "top_n_lr = 10\n",
    "scoring = 'f1'\n",
    "markers = 'diffexpr' #'/work/PRTNR/CHUV/DIR/rgottar1/spatial/env/xenium_paper/data/markers/cellmarker_cell_types_markers.json'\n",
    "\n",
    "# needed to get unique cell types names for each level\n",
    "# cell_types_palette = pd.read_csv(palette_dir / 'col_palette_cell_types_combo.csv')\n",
    "\n",
    "df_diffexpr = {}\n",
    "df_markers_rank_significance_diffexpr = {}\n",
    "for segmentation in (segmentations := xenium_std_seurat_analysis_dir.iterdir()):\n",
    "    if segmentation.stem in ['proseg_mode','proseg_expected']:\n",
    "        continue\n",
    "    for condition in (conditions := segmentation.iterdir()): \n",
    "        for panel in (panels := condition.iterdir()):\n",
    "            for donor in (donors := panel.iterdir()):\n",
    "                for sample in (samples := donor.iterdir()):\n",
    "                    for normalisation in normalisations:\n",
    "                        for layer in layers:\n",
    "                            # for reference in references:\n",
    "                            #     for method in methods:\n",
    "                            #         for level in levels:\n",
    "\n",
    "                                        k = (segmentation.stem,condition.stem,panel.stem,donor.stem,sample.stem)\n",
    "                                        name = '/'.join(k)\n",
    "\n",
    "                                        out_file_df_diffexpr = results_dir / f'contamination_metrics/{name}/{normalisation}/{layer}_diffexpr.parquet'\n",
    "                                        out_file_df_markers_rank_significance_diffexpr = results_dir / f'contamination_metrics/{name}/{normalisation}/{layer}_markers_rank_significance_diffexpr.json'\n",
    "\n",
    "                                        df_diffexpr[k] = pd.read_parquet(out_file_df_diffexpr)\n",
    "                                        df_markers_rank_significance_diffexpr[k] = pd.read_parquet(out_file_df_markers_rank_significance_diffexpr)"
   ]
  },
  {
   "cell_type": "code",
   "execution_count": null,
   "metadata": {},
   "outputs": [
    {
     "data": {
      "text/plain": [
       "MultiIndex([(   'endothelial cell', 'malignant cell', 0),\n",
       "            (         'fibroblast', 'malignant cell', 0),\n",
       "            (    'epithelial cell', 'malignant cell', 0),\n",
       "            ( 'cycling lymphocyte', 'malignant cell', 0),\n",
       "            (     'dendritic cell', 'malignant cell', 0),\n",
       "            (        'plasma cell', 'malignant cell', 0),\n",
       "            (           'pericyte', 'malignant cell', 0),\n",
       "            (             'T cell', 'malignant cell', 0),\n",
       "            (           'monocyte', 'malignant cell', 0),\n",
       "            ( 'smooth muscle cell', 'malignant cell', 0),\n",
       "            ...\n",
       "            (     'dendritic cell',         'B cell', 0),\n",
       "            (        'plasma cell',         'B cell', 0),\n",
       "            (           'pericyte',         'B cell', 0),\n",
       "            (             'T cell',         'B cell', 0),\n",
       "            (           'monocyte',         'B cell', 0),\n",
       "            ( 'smooth muscle cell',         'B cell', 0),\n",
       "            ('natural killer cell',         'B cell', 0),\n",
       "            (         'macrophage',         'B cell', 0),\n",
       "            (          'mast cell',         'B cell', 0),\n",
       "            (        'granulocyte',         'B cell', 0)],\n",
       "           length=240)"
      ]
     },
     "execution_count": 8,
     "metadata": {},
     "output_type": "execute_result"
    }
   ],
   "source": [
    "df_markers_rank_significance_diffexpr[k]#.groupby['hypergeometric_pvalue']"
   ]
  }
 ],
 "metadata": {
  "kernelspec": {
   "display_name": "spatial",
   "language": "python",
   "name": "python3"
  },
  "language_info": {
   "codemirror_mode": {
    "name": "ipython",
    "version": 3
   },
   "file_extension": ".py",
   "mimetype": "text/x-python",
   "name": "python",
   "nbconvert_exporter": "python",
   "pygments_lexer": "ipython3",
   "version": "3.11.11"
  }
 },
 "nbformat": 4,
 "nbformat_minor": 2
}
