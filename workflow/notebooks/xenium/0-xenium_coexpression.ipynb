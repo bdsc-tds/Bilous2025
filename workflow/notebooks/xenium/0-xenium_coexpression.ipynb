{
 "cells": [
  {
   "cell_type": "code",
   "execution_count": 9,
   "metadata": {},
   "outputs": [],
   "source": [
    "import numpy as np\n",
    "from pathlib import Path\n",
    "import spatialdata_io\n",
    "import spatialdata\n",
    "import json\n",
    "import time\n",
    "import pandas as pd\n",
    "import scanpy as sc\n",
    "import seaborn as sns\n",
    "import matplotlib.pyplot as plt\n",
    "import concurrent.futures\n",
    "from joblib import Parallel, delayed\n",
    "\n",
    "import sys\n",
    "sys.path.extend(['../../scripts','../../scripts/xenium'])\n",
    "import coexpression\n",
    "import readwrite\n",
    "cfg = readwrite.config()"
   ]
  },
  {
   "cell_type": "markdown",
   "metadata": {},
   "source": [
    "## Load data"
   ]
  },
  {
   "cell_type": "code",
   "execution_count": 48,
   "metadata": {},
   "outputs": [
    {
     "name": "stdout",
     "output_type": "stream",
     "text": [
      "\u001b[34mINFO    \u001b[0m reading                                                                                                   \n",
      "         \u001b[35m/work/PRTNR/CHUV/DIR/rgottar1/spatial/env/xenium_paper/data/xenium/processed/segmentation/segger/breast/br\u001b[0m\n",
      "         \u001b[35meast/1FYB/1FYB/normalised_results/outs/\u001b[0m\u001b[95mcell_feature_matrix.h5\u001b[0m                                             \n",
      "\u001b[34mINFO    \u001b[0m reading                                                                                                   \n",
      "         \u001b[35m/work/PRTNR/CHUV/DIR/rgottar1/spatial/env/xenium_paper/data/xenium/processed/segmentation/segger/breast/br\u001b[0m\n",
      "         \u001b[35meast/OPHI/OPHI_3/normalised_results/outs/\u001b[0m\u001b[95mcell_feature_matrix.h5\u001b[0m                                           \n",
      "\u001b[34mINFO    \u001b[0m reading                                                                                                   \n",
      "         \u001b[35m/work/PRTNR/CHUV/DIR/rgottar1/spatial/env/xenium_paper/data/xenium/processed/segmentation/segger/breast/br\u001b[0m\n",
      "         \u001b[35meast/OPHI/OPHI_1/normalised_results/outs/\u001b[0m\u001b[95mcell_feature_matrix.h5\u001b[0m                                           \n",
      "\u001b[34mINFO    \u001b[0m reading                                                                                                   \n",
      "         \u001b[35m/work/PRTNR/CHUV/DIR/rgottar1/spatial/env/xenium_paper/data/xenium/processed/segmentation/segger/breast/br\u001b[0m\n",
      "         \u001b[35meast/1BCA/1BCA/normalised_results/outs/\u001b[0m\u001b[95mcell_feature_matrix.h5\u001b[0m                                             \n",
      "\u001b[34mINFO    \u001b[0m reading                                                                                                   \n",
      "         \u001b[35m/work/PRTNR/CHUV/DIR/rgottar1/spatial/env/xenium_paper/data/xenium/processed/segmentation/segger/breast/br\u001b[0m\n",
      "         \u001b[35meast/OPHI/OPHI_2/normalised_results/outs/\u001b[0m\u001b[95mcell_feature_matrix.h5\u001b[0m                                           \n",
      "\u001b[34mINFO    \u001b[0m reading                                                                                                   \n",
      "         \u001b[35m/work/PRTNR/CHUV/DIR/rgottar1/spatial/env/xenium_paper/data/xenium/processed/segmentation/segger/breast/br\u001b[0m\n",
      "         \u001b[35meast/0PD6/0PD6/normalised_results/outs/\u001b[0m\u001b[95mcell_feature_matrix.h5\u001b[0m                                             \n",
      "\u001b[34mINFO    \u001b[0m reading                                                                                                   \n",
      "         \u001b[35m/work/PRTNR/CHUV/DIR/rgottar1/spatial/env/xenium_paper/data/xenium/processed/segmentation/segger/NSCLC/lun\u001b[0m\n",
      "         \u001b[35mg/1GA2/1GA2/normalised_results/outs/\u001b[0m\u001b[95mcell_feature_matrix.h5\u001b[0m                                                \n",
      "\u001b[34mINFO    \u001b[0m reading                                                                                                   \n",
      "         \u001b[35m/work/PRTNR/CHUV/DIR/rgottar1/spatial/env/xenium_paper/data/xenium/processed/segmentation/segger/breast/br\u001b[0m\n",
      "         \u001b[35meast/1ESQ/1ESQ/normalised_results/outs/\u001b[0m\u001b[95mcell_feature_matrix.h5\u001b[0m                                             \n",
      "\u001b[34mINFO    \u001b[0m reading                                                                                                   \n",
      "         \u001b[35m/work/PRTNR/CHUV/DIR/rgottar1/spatial/env/xenium_paper/data/xenium/processed/segmentation/segger/breast/br\u001b[0m\n",
      "         \u001b[35meast/1FHZ/1FHZ/normalised_results/outs/\u001b[0m\u001b[95mcell_feature_matrix.h5\u001b[0m                                             \n",
      "\u001b[34mINFO    \u001b[0m reading                                                                                                   \n",
      "         \u001b[35m/work/PRTNR/CHUV/DIR/rgottar1/spatial/env/xenium_paper/data/xenium/processed/segmentation/segger/breast/br\u001b[0m\n",
      "         \u001b[35meast/19TB/19TB/normalised_results/outs/\u001b[0m\u001b[95mcell_feature_matrix.h5\u001b[0m                                             \n",
      "\u001b[34mINFO    \u001b[0m reading                                                                                                   \n",
      "         \u001b[35m/work/PRTNR/CHUV/DIR/rgottar1/spatial/env/xenium_paper/data/xenium/processed/segmentation/segger/breast/br\u001b[0m\n",
      "         \u001b[35meast/0VRA/0VRA/normalised_results/outs/\u001b[0m\u001b[95mcell_feature_matrix.h5\u001b[0m                                             \n",
      "\u001b[34mINFO    \u001b[0m reading                                                                                                   \n",
      "         \u001b[35m/work/PRTNR/CHUV/DIR/rgottar1/spatial/env/xenium_paper/data/xenium/processed/segmentation/proseg_v1/breast\u001b[0m\n",
      "         \u001b[35m/breast/OPHI/OPHI_1/normalised_results/outs/\u001b[0m\u001b[95mcell_feature_matrix.h5\u001b[0m                                        \n",
      "\u001b[34mINFO    \u001b[0m reading                                                                                                   \n",
      "         \u001b[35m/work/PRTNR/CHUV/DIR/rgottar1/spatial/env/xenium_paper/data/xenium/processed/segmentation/segger/breast/br\u001b[0m\n",
      "         \u001b[35meast/0U9A/0U9A/normalised_results/outs/\u001b[0m\u001b[95mcell_feature_matrix.h5\u001b[0m                                             \n",
      "\u001b[34mINFO    \u001b[0m reading                                                                                                   \n",
      "         \u001b[35m/work/PRTNR/CHUV/DIR/rgottar1/spatial/env/xenium_paper/data/xenium/processed/segmentation/segger/breast/br\u001b[0m\n",
      "         \u001b[35meast/1256/1256/normalised_results/outs/\u001b[0m\u001b[95mcell_feature_matrix.h5\u001b[0m                                             \n",
      "\u001b[34mINFO    \u001b[0m reading                                                                                                   \n",
      "         \u001b[35m/work/PRTNR/CHUV/DIR/rgottar1/spatial/env/xenium_paper/data/xenium/processed/segmentation/segger/NSCLC/5k/\u001b[0m\n",
      "         \u001b[35m1GQ9/1GQ9/normalised_results/outs/\u001b[0m\u001b[95mcell_feature_matrix.h5\u001b[0m                                                  \n",
      "\u001b[34mINFO    \u001b[0m reading                                                                                                   \n",
      "         \u001b[35m/work/PRTNR/CHUV/DIR/rgottar1/spatial/env/xenium_paper/data/xenium/processed/segmentation/segger/NSCLC/5k/\u001b[0m\n",
      "         \u001b[35m1GVD/1GVD/normalised_results/outs/\u001b[0m\u001b[95mcell_feature_matrix.h5\u001b[0m                                                  \n",
      "\u001b[34mINFO    \u001b[0m reading                                                                                                   \n",
      "         \u001b[35m/work/PRTNR/CHUV/DIR/rgottar1/spatial/env/xenium_paper/data/xenium/processed/segmentation/segger/NSCLC/5k/\u001b[0m\n",
      "         \u001b[35m1GDD/1GDD/normalised_results/outs/\u001b[0m\u001b[95mcell_feature_matrix.h5\u001b[0m                                                  \n",
      "\u001b[34mINFO    \u001b[0m reading                                                                                                   \n",
      "         \u001b[35m/work/PRTNR/CHUV/DIR/rgottar1/spatial/env/xenium_paper/data/xenium/processed/segmentation/segger/NSCLC/5k/\u001b[0m\n",
      "         \u001b[35m1G73/1G73/normalised_results/outs/\u001b[0m\u001b[95mcell_feature_matrix.h5\u001b[0m                                                  \n",
      "\u001b[34mINFO    \u001b[0m reading                                                                                                   \n",
      "         \u001b[35m/work/PRTNR/CHUV/DIR/rgottar1/spatial/env/xenium_paper/data/xenium/processed/segmentation/segger/breast/br\u001b[0m\n",
      "         \u001b[35meast/1FO7/1FO7/normalised_results/outs/\u001b[0m\u001b[95mcell_feature_matrix.h5\u001b[0m                                             \n",
      "\u001b[34mINFO    \u001b[0m reading                                                                                                   \n",
      "         \u001b[35m/work/PRTNR/CHUV/DIR/rgottar1/spatial/env/xenium_paper/data/xenium/processed/segmentation/proseg_v1/breast\u001b[0m\n",
      "         \u001b[35m/breast/0PD6/0PD6/normalised_results/outs/\u001b[0m\u001b[95mcell_feature_matrix.h5\u001b[0m                                          \n",
      "\u001b[34mINFO    \u001b[0m reading                                                                                                   \n",
      "         \u001b[35m/work/PRTNR/CHUV/DIR/rgottar1/spatial/env/xenium_paper/data/xenium/processed/segmentation/segger/NSCLC/lun\u001b[0m\n",
      "         \u001b[35mg/0PSV/0PSV/normalised_results/outs/\u001b[0m\u001b[95mcell_feature_matrix.h5\u001b[0m                                                \n",
      "\u001b[34mINFO    \u001b[0m reading                                                                                                   \n",
      "         \u001b[35m/work/PRTNR/CHUV/DIR/rgottar1/spatial/env/xenium_paper/data/xenium/processed/segmentation/proseg_v1/breast\u001b[0m\n",
      "         \u001b[35m/breast/1256/1256/normalised_results/outs/\u001b[0m\u001b[95mcell_feature_matrix.h5\u001b[0m                                          \n",
      "\u001b[34mINFO    \u001b[0m reading                                                                                                   \n",
      "         \u001b[35m/work/PRTNR/CHUV/DIR/rgottar1/spatial/env/xenium_paper/data/xenium/processed/segmentation/segger/NSCLC/5k/\u001b[0m\n",
      "         \u001b[35m1GAC/1GAC/normalised_results/outs/\u001b[0m\u001b[95mcell_feature_matrix.h5\u001b[0m                                                  \n",
      "\u001b[34mINFO    \u001b[0m reading                                                                                                   \n",
      "         \u001b[35m/work/PRTNR/CHUV/DIR/rgottar1/spatial/env/xenium_paper/data/xenium/processed/segmentation/segger/NSCLC/lun\u001b[0m\n",
      "         \u001b[35mg/1GQ9/1GQ9/normalised_results/outs/\u001b[0m\u001b[95mcell_feature_matrix.h5\u001b[0m                                                \n",
      "\u001b[34mINFO    \u001b[0m reading                                                                                                   \n",
      "         \u001b[35m/work/PRTNR/CHUV/DIR/rgottar1/spatial/env/xenium_paper/data/xenium/processed/segmentation/proseg_v1/breast\u001b[0m\n",
      "         \u001b[35m/breast/1FYB/1FYB/normalised_results/outs/\u001b[0m\u001b[95mcell_feature_matrix.h5\u001b[0m                                          \n",
      "\u001b[34mINFO    \u001b[0m reading                                                                                                   \n",
      "         \u001b[35m/work/PRTNR/CHUV/DIR/rgottar1/spatial/env/xenium_paper/data/xenium/processed/segmentation/segger/breast/br\u001b[0m\n",
      "         \u001b[35meast/14LZ/14LZ/normalised_results/outs/\u001b[0m\u001b[95mcell_feature_matrix.h5\u001b[0m                                             \n",
      "\u001b[34mINFO    \u001b[0m reading                                                                                                   \n",
      "         \u001b[35m/work/PRTNR/CHUV/DIR/rgottar1/spatial/env/xenium_paper/data/xenium/processed/segmentation/segger/NSCLC/chu\u001b[0m\n",
      "         \u001b[35mvio/0PSV/0PSV_1/normalised_results/outs/\u001b[0m\u001b[95mcell_feature_matrix.h5\u001b[0m                                            \n",
      "\u001b[34mINFO    \u001b[0m reading                                                                                                   \n",
      "         \u001b[35m/work/PRTNR/CHUV/DIR/rgottar1/spatial/env/xenium_paper/data/xenium/processed/segmentation/segger/NSCLC/chu\u001b[0m\n",
      "         \u001b[35mvio/0WMU/0WMU/normalised_results/outs/\u001b[0m\u001b[95mcell_feature_matrix.h5\u001b[0m                                              \n",
      "\u001b[34mINFO    \u001b[0m reading                                                                                                   \n",
      "         \u001b[35m/work/PRTNR/CHUV/DIR/rgottar1/spatial/env/xenium_paper/data/xenium/processed/segmentation/segger/NSCLC/5k/\u001b[0m\n",
      "         \u001b[35m0PSV/0PSV/normalised_results/outs/\u001b[0m\u001b[95mcell_feature_matrix.h5\u001b[0m                                                  \n",
      "\u001b[34mINFO    \u001b[0m reading                                                                                                   \n",
      "         \u001b[35m/work/PRTNR/CHUV/DIR/rgottar1/spatial/env/xenium_paper/data/xenium/processed/segmentation/segger/NSCLC/lun\u001b[0m\n",
      "         \u001b[35mg/0S8R/0S8R/normalised_results/outs/\u001b[0m\u001b[95mcell_feature_matrix.h5\u001b[0m                                                \n",
      "\u001b[34mINFO    \u001b[0m reading                                                                                                   \n",
      "         \u001b[35m/work/PRTNR/CHUV/DIR/rgottar1/spatial/env/xenium_paper/data/xenium/processed/segmentation/segger/breast/br\u001b[0m\n",
      "         \u001b[35meast/1GV1/1GV1/normalised_results/outs/\u001b[0m\u001b[95mcell_feature_matrix.h5\u001b[0m                                             \n",
      "\u001b[34mINFO    \u001b[0m reading                                                                                                   \n",
      "         \u001b[35m/work/PRTNR/CHUV/DIR/rgottar1/spatial/env/xenium_paper/data/xenium/processed/segmentation/segger/NSCLC/lun\u001b[0m\n",
      "         \u001b[35mg/1GVD/1GVD/normalised_results/outs/\u001b[0m\u001b[95mcell_feature_matrix.h5\u001b[0m                                                \n",
      "\u001b[34mINFO    \u001b[0m reading                                                                                                   \n",
      "         \u001b[35m/work/PRTNR/CHUV/DIR/rgottar1/spatial/env/xenium_paper/data/xenium/processed/segmentation/segger/breast/br\u001b[0m\n",
      "         \u001b[35meast/1H27/1H27/normalised_results/outs/\u001b[0m\u001b[95mcell_feature_matrix.h5\u001b[0m                                             \n",
      "\u001b[34mINFO    \u001b[0m reading                                                                                                   \n",
      "         \u001b[35m/work/PRTNR/CHUV/DIR/rgottar1/spatial/env/xenium_paper/data/xenium/processed/segmentation/proseg_v1/breast\u001b[0m\n",
      "         \u001b[35m/breast/1BCA/1BCA/normalised_results/outs/\u001b[0m\u001b[95mcell_feature_matrix.h5\u001b[0m                                          \n",
      "\u001b[34mINFO    \u001b[0m reading                                                                                                   \n",
      "         \u001b[35m/work/PRTNR/CHUV/DIR/rgottar1/spatial/env/xenium_paper/data/xenium/processed/segmentation/segger/NSCLC/lun\u001b[0m\n",
      "         \u001b[35mg/1GAC/1GAC/normalised_results/outs/\u001b[0m\u001b[95mcell_feature_matrix.h5\u001b[0m                                                \n",
      "\u001b[34mINFO    \u001b[0m reading                                                                                                   \n",
      "         \u001b[35m/work/PRTNR/CHUV/DIR/rgottar1/spatial/env/xenium_paper/data/xenium/processed/segmentation/proseg_v1/breast\u001b[0m\n",
      "         \u001b[35m/breast/OPHI/OPHI_3/normalised_results/outs/\u001b[0m\u001b[95mcell_feature_matrix.h5\u001b[0m                                        \n",
      "\u001b[34mINFO    \u001b[0m reading                                                                                                   \n",
      "         \u001b[35m/work/PRTNR/CHUV/DIR/rgottar1/spatial/env/xenium_paper/data/xenium/processed/segmentation/segger/breast/br\u001b[0m\n",
      "         \u001b[35meast/1GVR/1GVR/normalised_results/outs/\u001b[0m\u001b[95mcell_feature_matrix.h5\u001b[0m                                             \n",
      "\u001b[34mINFO    \u001b[0m reading                                                                                                   \n",
      "         \u001b[35m/work/PRTNR/CHUV/DIR/rgottar1/spatial/env/xenium_paper/data/xenium/processed/segmentation/segger/NSCLC/lun\u001b[0m\n",
      "         \u001b[35mg/1GDD/1GDD/normalised_results/outs/\u001b[0m\u001b[95mcell_feature_matrix.h5\u001b[0m                                                \n",
      "\u001b[34mINFO    \u001b[0m reading                                                                                                   \n",
      "         \u001b[35m/work/PRTNR/CHUV/DIR/rgottar1/spatial/env/xenium_paper/data/xenium/processed/segmentation/segger/NSCLC/lun\u001b[0m\n",
      "         \u001b[35mg/1GFF/1GFF/normalised_results/outs/\u001b[0m\u001b[95mcell_feature_matrix.h5\u001b[0m                                                \n",
      "\u001b[34mINFO    \u001b[0m reading                                                                                                   \n",
      "         \u001b[35m/work/PRTNR/CHUV/DIR/rgottar1/spatial/env/xenium_paper/data/xenium/processed/segmentation/proseg_v1/breast\u001b[0m\n",
      "         \u001b[35m/breast/OPHI/OPHI_2/normalised_results/outs/\u001b[0m\u001b[95mcell_feature_matrix.h5\u001b[0m                                        \n",
      "\u001b[34mINFO    \u001b[0m reading                                                                                                   \n",
      "         \u001b[35m/work/PRTNR/CHUV/DIR/rgottar1/spatial/env/xenium_paper/data/xenium/processed/segmentation/segger/NSCLC/chu\u001b[0m\n",
      "         \u001b[35mvio/0PSV/0PSV_2/normalised_results/outs/\u001b[0m\u001b[95mcell_feature_matrix.h5\u001b[0m                                            \n",
      "\u001b[34mINFO    \u001b[0m reading                                                                                                   \n",
      "         \u001b[35m/work/PRTNR/CHUV/DIR/rgottar1/spatial/env/xenium_paper/data/xenium/processed/segmentation/segger/NSCLC/chu\u001b[0m\n",
      "         \u001b[35mvio/1G73/1G73/normalised_results/outs/\u001b[0m\u001b[95mcell_feature_matrix.h5\u001b[0m                                              \n",
      "\u001b[34mINFO    \u001b[0m reading                                                                                                   \n",
      "         \u001b[35m/work/PRTNR/CHUV/DIR/rgottar1/spatial/env/xenium_paper/data/xenium/processed/segmentation/segger/breast/br\u001b[0m\n",
      "         \u001b[35meast/1GUC/1GUC/normalised_results/outs/\u001b[0m\u001b[95mcell_feature_matrix.h5\u001b[0m                                             \n",
      "\u001b[34mINFO    \u001b[0m reading                                                                                                   \n",
      "         \u001b[35m/work/PRTNR/CHUV/DIR/rgottar1/spatial/env/xenium_paper/data/xenium/processed/segmentation/segger/breast/br\u001b[0m\n",
      "         \u001b[35meast/0OE1/0OE1/normalised_results/outs/\u001b[0m\u001b[95mcell_feature_matrix.h5\u001b[0m                                             \n",
      "\u001b[34mINFO    \u001b[0m reading                                                                                                   \n",
      "         \u001b[35m/work/PRTNR/CHUV/DIR/rgottar1/spatial/env/xenium_paper/data/xenium/processed/segmentation/segger/NSCLC/lun\u001b[0m\n",
      "         \u001b[35mg/1G73/1G73_1/normalised_results/outs/\u001b[0m\u001b[95mcell_feature_matrix.h5\u001b[0m                                              \n",
      "\u001b[34mINFO    \u001b[0m reading                                                                                                   \n",
      "         \u001b[35m/work/PRTNR/CHUV/DIR/rgottar1/spatial/env/xenium_paper/data/xenium/processed/segmentation/segger/NSCLC/lun\u001b[0m\n",
      "         \u001b[35mg/0WMU/0WMU/normalised_results/outs/\u001b[0m\u001b[95mcell_feature_matrix.h5\u001b[0m                                                \n",
      "\u001b[34mINFO    \u001b[0m reading                                                                                                   \n",
      "         \u001b[35m/work/PRTNR/CHUV/DIR/rgottar1/spatial/env/xenium_paper/data/xenium/processed/segmentation/segger/NSCLC/lun\u001b[0m\n",
      "         \u001b[35mg/1G73/1G73_2/normalised_results/outs/\u001b[0m\u001b[95mcell_feature_matrix.h5\u001b[0m                                              \n",
      "\u001b[34mINFO    \u001b[0m reading                                                                                                   \n",
      "         \u001b[35m/work/PRTNR/CHUV/DIR/rgottar1/spatial/env/xenium_paper/data/xenium/processed/segmentation/segger/NSCLC/chu\u001b[0m\n",
      "         \u001b[35mvio/1GA2/1GA2/normalised_results/outs/\u001b[0m\u001b[95mcell_feature_matrix.h5\u001b[0m                                              \n"
     ]
    },
    {
     "name": "stderr",
     "output_type": "stream",
     "text": [
      "/work/PRTNR/CHUV/DIR/rgottar1/spatial/env/jbac/miniforge3/envs/spatial/lib/python3.11/site-packages/spatialdata/_core/spatialdata.py:185: UserWarning: The table is annotating 'cell_labels', which is not present in the SpatialData object.\n",
      "  self.validate_table_in_spatialdata(v)\n"
     ]
    },
    {
     "name": "stdout",
     "output_type": "stream",
     "text": [
      "\u001b[34mINFO    \u001b[0m reading                                                                                                   \n",
      "         \u001b[35m/work/PRTNR/CHUV/DIR/rgottar1/spatial/env/xenium_paper/data/xenium/processed/segmentation/proseg_v1/breast\u001b[0m\n",
      "         \u001b[35m/breast/1GV1/1GV1/normalised_results/outs/\u001b[0m\u001b[95mcell_feature_matrix.h5\u001b[0m                                          \n"
     ]
    },
    {
     "name": "stderr",
     "output_type": "stream",
     "text": [
      "/work/PRTNR/CHUV/DIR/rgottar1/spatial/env/jbac/miniforge3/envs/spatial/lib/python3.11/site-packages/spatialdata/_core/spatialdata.py:185: UserWarning: The table is annotating 'cell_labels', which is not present in the SpatialData object.\n",
      "  self.validate_table_in_spatialdata(v)\n"
     ]
    },
    {
     "name": "stdout",
     "output_type": "stream",
     "text": [
      "\u001b[34mINFO    \u001b[0m reading                                                                                                   \n",
      "         \u001b[35m/work/PRTNR/CHUV/DIR/rgottar1/spatial/env/xenium_paper/data/xenium/processed/segmentation/proseg_v1/breast\u001b[0m\n",
      "         \u001b[35m/breast/1GVR/1GVR/normalised_results/outs/\u001b[0m\u001b[95mcell_feature_matrix.h5\u001b[0m                                          \n"
     ]
    },
    {
     "name": "stderr",
     "output_type": "stream",
     "text": [
      "/work/PRTNR/CHUV/DIR/rgottar1/spatial/env/jbac/miniforge3/envs/spatial/lib/python3.11/site-packages/spatialdata/_core/spatialdata.py:185: UserWarning: The table is annotating 'cell_labels', which is not present in the SpatialData object.\n",
      "  self.validate_table_in_spatialdata(v)\n",
      "/work/PRTNR/CHUV/DIR/rgottar1/spatial/env/jbac/miniforge3/envs/spatial/lib/python3.11/site-packages/spatialdata/_core/spatialdata.py:185: UserWarning: The table is annotating 'cell_labels', which is not present in the SpatialData object.\n",
      "  self.validate_table_in_spatialdata(v)\n",
      "/work/PRTNR/CHUV/DIR/rgottar1/spatial/env/jbac/miniforge3/envs/spatial/lib/python3.11/site-packages/spatialdata/_core/spatialdata.py:185: UserWarning: The table is annotating 'cell_labels', which is not present in the SpatialData object.\n",
      "  self.validate_table_in_spatialdata(v)\n"
     ]
    },
    {
     "name": "stdout",
     "output_type": "stream",
     "text": [
      "\u001b[34mINFO    \u001b[0m reading                                                                                                   \n",
      "         \u001b[35m/work/PRTNR/CHUV/DIR/rgottar1/spatial/env/xenium_paper/data/xenium/processed/segmentation/proseg_v1/breast\u001b[0m\n",
      "         \u001b[35m/breast/1FHZ/1FHZ/normalised_results/outs/\u001b[0m\u001b[95mcell_feature_matrix.h5\u001b[0m                                          \n"
     ]
    },
    {
     "name": "stderr",
     "output_type": "stream",
     "text": [
      "/work/PRTNR/CHUV/DIR/rgottar1/spatial/env/jbac/miniforge3/envs/spatial/lib/python3.11/site-packages/spatialdata/_core/spatialdata.py:185: UserWarning: The table is annotating 'cell_labels', which is not present in the SpatialData object.\n",
      "  self.validate_table_in_spatialdata(v)\n",
      "/work/PRTNR/CHUV/DIR/rgottar1/spatial/env/jbac/miniforge3/envs/spatial/lib/python3.11/site-packages/spatialdata/_core/spatialdata.py:185: UserWarning: The table is annotating 'cell_labels', which is not present in the SpatialData object.\n",
      "  self.validate_table_in_spatialdata(v)\n"
     ]
    },
    {
     "name": "stdout",
     "output_type": "stream",
     "text": [
      "\u001b[34mINFO    \u001b[0m reading                                                                                                   \n",
      "         \u001b[35m/work/PRTNR/CHUV/DIR/rgottar1/spatial/env/xenium_paper/data/xenium/processed/segmentation/proseg_v1/breast\u001b[0m\n",
      "         \u001b[35m/breast/0U9A/0U9A/normalised_results/outs/\u001b[0m\u001b[95mcell_feature_matrix.h5\u001b[0m                                          \n"
     ]
    },
    {
     "name": "stderr",
     "output_type": "stream",
     "text": [
      "/work/PRTNR/CHUV/DIR/rgottar1/spatial/env/jbac/miniforge3/envs/spatial/lib/python3.11/site-packages/spatialdata/_core/spatialdata.py:185: UserWarning: The table is annotating 'cell_labels', which is not present in the SpatialData object.\n",
      "  self.validate_table_in_spatialdata(v)\n"
     ]
    },
    {
     "name": "stdout",
     "output_type": "stream",
     "text": [
      "\u001b[34mINFO    \u001b[0m reading                                                                                                   \n",
      "         \u001b[35m/work/PRTNR/CHUV/DIR/rgottar1/spatial/env/xenium_paper/data/xenium/processed/segmentation/proseg_v1/breast\u001b[0m\n",
      "         \u001b[35m/breast/1ESQ/1ESQ/normalised_results/outs/\u001b[0m\u001b[95mcell_feature_matrix.h5\u001b[0m                                          \n",
      "\u001b[34mINFO    \u001b[0m reading                                                                                                   \n",
      "         \u001b[35m/work/PRTNR/CHUV/DIR/rgottar1/spatial/env/xenium_paper/data/xenium/processed/segmentation/proseg_v1/breast\u001b[0m\n",
      "         \u001b[35m/breast/0VRA/0VRA/normalised_results/outs/\u001b[0m\u001b[95mcell_feature_matrix.h5\u001b[0m                                          \n"
     ]
    },
    {
     "name": "stderr",
     "output_type": "stream",
     "text": [
      "/work/PRTNR/CHUV/DIR/rgottar1/spatial/env/jbac/miniforge3/envs/spatial/lib/python3.11/site-packages/spatialdata/_core/spatialdata.py:185: UserWarning: The table is annotating 'cell_labels', which is not present in the SpatialData object.\n",
      "  self.validate_table_in_spatialdata(v)\n",
      "/work/PRTNR/CHUV/DIR/rgottar1/spatial/env/jbac/miniforge3/envs/spatial/lib/python3.11/site-packages/spatialdata/_core/spatialdata.py:185: UserWarning: The table is annotating 'cell_labels', which is not present in the SpatialData object.\n",
      "  self.validate_table_in_spatialdata(v)\n",
      "/work/PRTNR/CHUV/DIR/rgottar1/spatial/env/jbac/miniforge3/envs/spatial/lib/python3.11/site-packages/spatialdata/_core/spatialdata.py:185: UserWarning: The table is annotating 'cell_labels', which is not present in the SpatialData object.\n",
      "  self.validate_table_in_spatialdata(v)\n",
      "/work/PRTNR/CHUV/DIR/rgottar1/spatial/env/jbac/miniforge3/envs/spatial/lib/python3.11/site-packages/spatialdata/_core/spatialdata.py:185: UserWarning: The table is annotating 'cell_labels', which is not present in the SpatialData object.\n",
      "  self.validate_table_in_spatialdata(v)\n"
     ]
    },
    {
     "name": "stdout",
     "output_type": "stream",
     "text": [
      "\u001b[34mINFO    \u001b[0m reading                                                                                                   \n",
      "         \u001b[35m/work/PRTNR/CHUV/DIR/rgottar1/spatial/env/xenium_paper/data/xenium/processed/segmentation/proseg_v1/breast\u001b[0m\n",
      "         \u001b[35m/breast/14LZ/14LZ/normalised_results/outs/\u001b[0m\u001b[95mcell_feature_matrix.h5\u001b[0m                                          \n"
     ]
    },
    {
     "name": "stderr",
     "output_type": "stream",
     "text": [
      "/work/PRTNR/CHUV/DIR/rgottar1/spatial/env/jbac/miniforge3/envs/spatial/lib/python3.11/site-packages/spatialdata/_core/spatialdata.py:185: UserWarning: The table is annotating 'cell_labels', which is not present in the SpatialData object.\n",
      "  self.validate_table_in_spatialdata(v)\n",
      "/work/PRTNR/CHUV/DIR/rgottar1/spatial/env/jbac/miniforge3/envs/spatial/lib/python3.11/site-packages/spatialdata/_core/spatialdata.py:185: UserWarning: The table is annotating 'cell_labels', which is not present in the SpatialData object.\n",
      "  self.validate_table_in_spatialdata(v)\n",
      "/work/PRTNR/CHUV/DIR/rgottar1/spatial/env/jbac/miniforge3/envs/spatial/lib/python3.11/site-packages/spatialdata/_core/spatialdata.py:185: UserWarning: The table is annotating 'cell_labels', which is not present in the SpatialData object.\n",
      "  self.validate_table_in_spatialdata(v)\n",
      "/work/PRTNR/CHUV/DIR/rgottar1/spatial/env/jbac/miniforge3/envs/spatial/lib/python3.11/site-packages/spatialdata/_core/spatialdata.py:185: UserWarning: The table is annotating 'cell_labels', which is not present in the SpatialData object.\n",
      "  self.validate_table_in_spatialdata(v)\n",
      "/work/PRTNR/CHUV/DIR/rgottar1/spatial/env/jbac/miniforge3/envs/spatial/lib/python3.11/site-packages/spatialdata/_core/spatialdata.py:185: UserWarning: The table is annotating 'cell_labels', which is not present in the SpatialData object.\n",
      "  self.validate_table_in_spatialdata(v)\n"
     ]
    },
    {
     "name": "stdout",
     "output_type": "stream",
     "text": [
      "\u001b[34mINFO    \u001b[0m reading                                                                                                   \n",
      "         \u001b[35m/work/PRTNR/CHUV/DIR/rgottar1/spatial/env/xenium_paper/data/xenium/processed/segmentation/proseg_v1/breast\u001b[0m\n",
      "         \u001b[35m/breast/1H27/1H27/normalised_results/outs/\u001b[0m\u001b[95mcell_feature_matrix.h5\u001b[0m                                          \n"
     ]
    },
    {
     "name": "stderr",
     "output_type": "stream",
     "text": [
      "/work/PRTNR/CHUV/DIR/rgottar1/spatial/env/jbac/miniforge3/envs/spatial/lib/python3.11/site-packages/spatialdata/_core/spatialdata.py:185: UserWarning: The table is annotating 'cell_labels', which is not present in the SpatialData object.\n",
      "  self.validate_table_in_spatialdata(v)\n",
      "/work/PRTNR/CHUV/DIR/rgottar1/spatial/env/jbac/miniforge3/envs/spatial/lib/python3.11/site-packages/spatialdata/_core/spatialdata.py:185: UserWarning: The table is annotating 'cell_labels', which is not present in the SpatialData object.\n",
      "  self.validate_table_in_spatialdata(v)\n",
      "/work/PRTNR/CHUV/DIR/rgottar1/spatial/env/jbac/miniforge3/envs/spatial/lib/python3.11/site-packages/spatialdata/_core/spatialdata.py:185: UserWarning: The table is annotating 'cell_labels', which is not present in the SpatialData object.\n",
      "  self.validate_table_in_spatialdata(v)\n"
     ]
    },
    {
     "name": "stdout",
     "output_type": "stream",
     "text": [
      "\u001b[34mINFO    \u001b[0m reading                                                                                                   \n",
      "         \u001b[35m/work/PRTNR/CHUV/DIR/rgottar1/spatial/env/xenium_paper/data/xenium/processed/segmentation/proseg_v1/breast\u001b[0m\n",
      "         \u001b[35m/breast/1GUC/1GUC/normalised_results/outs/\u001b[0m\u001b[95mcell_feature_matrix.h5\u001b[0m                                          \n"
     ]
    },
    {
     "name": "stderr",
     "output_type": "stream",
     "text": [
      "/work/PRTNR/CHUV/DIR/rgottar1/spatial/env/jbac/miniforge3/envs/spatial/lib/python3.11/site-packages/spatialdata/_core/spatialdata.py:185: UserWarning: The table is annotating 'cell_labels', which is not present in the SpatialData object.\n",
      "  self.validate_table_in_spatialdata(v)\n",
      "/work/PRTNR/CHUV/DIR/rgottar1/spatial/env/jbac/miniforge3/envs/spatial/lib/python3.11/site-packages/spatialdata/_core/spatialdata.py:185: UserWarning: The table is annotating 'cell_labels', which is not present in the SpatialData object.\n",
      "  self.validate_table_in_spatialdata(v)\n"
     ]
    },
    {
     "name": "stdout",
     "output_type": "stream",
     "text": [
      "\u001b[34mINFO    \u001b[0m reading                                                                                                   \n",
      "         \u001b[35m/work/PRTNR/CHUV/DIR/rgottar1/spatial/env/xenium_paper/data/xenium/processed/segmentation/proseg_v1/breast\u001b[0m\n",
      "         \u001b[35m/breast/0OE1/0OE1/normalised_results/outs/\u001b[0m\u001b[95mcell_feature_matrix.h5\u001b[0m                                          \n"
     ]
    },
    {
     "name": "stderr",
     "output_type": "stream",
     "text": [
      "/work/PRTNR/CHUV/DIR/rgottar1/spatial/env/jbac/miniforge3/envs/spatial/lib/python3.11/site-packages/spatialdata/_core/spatialdata.py:185: UserWarning: The table is annotating 'cell_labels', which is not present in the SpatialData object.\n",
      "  self.validate_table_in_spatialdata(v)\n",
      "/work/PRTNR/CHUV/DIR/rgottar1/spatial/env/jbac/miniforge3/envs/spatial/lib/python3.11/site-packages/spatialdata/_core/spatialdata.py:185: UserWarning: The table is annotating 'cell_labels', which is not present in the SpatialData object.\n",
      "  self.validate_table_in_spatialdata(v)\n",
      "/work/PRTNR/CHUV/DIR/rgottar1/spatial/env/jbac/miniforge3/envs/spatial/lib/python3.11/site-packages/spatialdata/_core/spatialdata.py:185: UserWarning: The table is annotating 'cell_labels', which is not present in the SpatialData object.\n",
      "  self.validate_table_in_spatialdata(v)\n",
      "/work/PRTNR/CHUV/DIR/rgottar1/spatial/env/jbac/miniforge3/envs/spatial/lib/python3.11/site-packages/spatialdata/_core/spatialdata.py:185: UserWarning: The table is annotating 'cell_labels', which is not present in the SpatialData object.\n",
      "  self.validate_table_in_spatialdata(v)\n"
     ]
    },
    {
     "name": "stdout",
     "output_type": "stream",
     "text": [
      "\u001b[34mINFO    \u001b[0m reading                                                                                                   \n",
      "         \u001b[35m/work/PRTNR/CHUV/DIR/rgottar1/spatial/env/xenium_paper/data/xenium/processed/segmentation/proseg_v1/breast\u001b[0m\n",
      "         \u001b[35m/breast/19TB/19TB/normalised_results/outs/\u001b[0m\u001b[95mcell_feature_matrix.h5\u001b[0m                                          \n"
     ]
    },
    {
     "name": "stderr",
     "output_type": "stream",
     "text": [
      "/work/PRTNR/CHUV/DIR/rgottar1/spatial/env/jbac/miniforge3/envs/spatial/lib/python3.11/site-packages/spatialdata/_core/spatialdata.py:185: UserWarning: The table is annotating 'cell_labels', which is not present in the SpatialData object.\n",
      "  self.validate_table_in_spatialdata(v)\n",
      "/work/PRTNR/CHUV/DIR/rgottar1/spatial/env/jbac/miniforge3/envs/spatial/lib/python3.11/site-packages/spatialdata/_core/spatialdata.py:185: UserWarning: The table is annotating 'cell_labels', which is not present in the SpatialData object.\n",
      "  self.validate_table_in_spatialdata(v)\n",
      "/work/PRTNR/CHUV/DIR/rgottar1/spatial/env/jbac/miniforge3/envs/spatial/lib/python3.11/site-packages/spatialdata/_core/spatialdata.py:185: UserWarning: The table is annotating 'cell_labels', which is not present in the SpatialData object.\n",
      "  self.validate_table_in_spatialdata(v)\n",
      "/work/PRTNR/CHUV/DIR/rgottar1/spatial/env/jbac/miniforge3/envs/spatial/lib/python3.11/site-packages/spatialdata/_core/spatialdata.py:185: UserWarning: The table is annotating 'cell_labels', which is not present in the SpatialData object.\n",
      "  self.validate_table_in_spatialdata(v)\n",
      "/work/PRTNR/CHUV/DIR/rgottar1/spatial/env/jbac/miniforge3/envs/spatial/lib/python3.11/site-packages/spatialdata/_core/spatialdata.py:185: UserWarning: The table is annotating 'cell_labels', which is not present in the SpatialData object.\n",
      "  self.validate_table_in_spatialdata(v)\n"
     ]
    },
    {
     "name": "stdout",
     "output_type": "stream",
     "text": [
      "\u001b[34mINFO    \u001b[0m reading                                                                                                   \n",
      "         \u001b[35m/work/PRTNR/CHUV/DIR/rgottar1/spatial/env/xenium_paper/data/xenium/processed/segmentation/proseg_v1/breast\u001b[0m\n",
      "         \u001b[35m/breast/1FO7/1FO7/normalised_results/outs/\u001b[0m\u001b[95mcell_feature_matrix.h5\u001b[0m                                          \n",
      "\u001b[34mINFO    \u001b[0m reading                                                                                                   \n",
      "         \u001b[35m/work/PRTNR/CHUV/DIR/rgottar1/spatial/env/xenium_paper/data/xenium/processed/segmentation/proseg_v1/NSCLC/\u001b[0m\n",
      "         \u001b[35mlung/1GA2/1GA2/normalised_results/outs/\u001b[0m\u001b[95mcell_feature_matrix.h5\u001b[0m                                             \n"
     ]
    },
    {
     "name": "stderr",
     "output_type": "stream",
     "text": [
      "/work/PRTNR/CHUV/DIR/rgottar1/spatial/env/jbac/miniforge3/envs/spatial/lib/python3.11/site-packages/spatialdata/_core/spatialdata.py:185: UserWarning: The table is annotating 'cell_labels', which is not present in the SpatialData object.\n",
      "  self.validate_table_in_spatialdata(v)\n"
     ]
    },
    {
     "name": "stdout",
     "output_type": "stream",
     "text": [
      "\u001b[34mINFO    \u001b[0m reading                                                                                                   \n",
      "         \u001b[35m/work/PRTNR/CHUV/DIR/rgottar1/spatial/env/xenium_paper/data/xenium/processed/segmentation/proseg_v1/NSCLC/\u001b[0m\n",
      "         \u001b[35mlung/0PSV/0PSV/normalised_results/outs/\u001b[0m\u001b[95mcell_feature_matrix.h5\u001b[0m                                             \n"
     ]
    },
    {
     "name": "stderr",
     "output_type": "stream",
     "text": [
      "/work/PRTNR/CHUV/DIR/rgottar1/spatial/env/jbac/miniforge3/envs/spatial/lib/python3.11/site-packages/spatialdata/_core/spatialdata.py:185: UserWarning: The table is annotating 'cell_labels', which is not present in the SpatialData object.\n",
      "  self.validate_table_in_spatialdata(v)\n",
      "/work/PRTNR/CHUV/DIR/rgottar1/spatial/env/jbac/miniforge3/envs/spatial/lib/python3.11/site-packages/spatialdata/_core/spatialdata.py:185: UserWarning: The table is annotating 'cell_labels', which is not present in the SpatialData object.\n",
      "  self.validate_table_in_spatialdata(v)\n",
      "/work/PRTNR/CHUV/DIR/rgottar1/spatial/env/jbac/miniforge3/envs/spatial/lib/python3.11/site-packages/spatialdata/_core/spatialdata.py:185: UserWarning: The table is annotating 'cell_labels', which is not present in the SpatialData object.\n",
      "  self.validate_table_in_spatialdata(v)\n",
      "/work/PRTNR/CHUV/DIR/rgottar1/spatial/env/jbac/miniforge3/envs/spatial/lib/python3.11/site-packages/spatialdata/_core/spatialdata.py:185: UserWarning: The table is annotating 'cell_labels', which is not present in the SpatialData object.\n",
      "  self.validate_table_in_spatialdata(v)\n"
     ]
    },
    {
     "name": "stdout",
     "output_type": "stream",
     "text": [
      "\u001b[34mINFO    \u001b[0m reading                                                                                                   \n",
      "         \u001b[35m/work/PRTNR/CHUV/DIR/rgottar1/spatial/env/xenium_paper/data/xenium/processed/segmentation/proseg_v1/NSCLC/\u001b[0m\n",
      "         \u001b[35mlung/0S8R/0S8R/normalised_results/outs/\u001b[0m\u001b[95mcell_feature_matrix.h5\u001b[0m                                             \n",
      "\u001b[34mINFO    \u001b[0m reading                                                                                                   \n",
      "         \u001b[35m/work/PRTNR/CHUV/DIR/rgottar1/spatial/env/xenium_paper/data/xenium/processed/segmentation/proseg_v1/NSCLC/\u001b[0m\n",
      "         \u001b[35mlung/1G73/1G73_1/normalised_results/outs/\u001b[0m\u001b[95mcell_feature_matrix.h5\u001b[0m                                           \n"
     ]
    },
    {
     "name": "stderr",
     "output_type": "stream",
     "text": [
      "/work/PRTNR/CHUV/DIR/rgottar1/spatial/env/jbac/miniforge3/envs/spatial/lib/python3.11/site-packages/spatialdata/_core/spatialdata.py:185: UserWarning: The table is annotating 'cell_labels', which is not present in the SpatialData object.\n",
      "  self.validate_table_in_spatialdata(v)\n",
      "/work/PRTNR/CHUV/DIR/rgottar1/spatial/env/jbac/miniforge3/envs/spatial/lib/python3.11/site-packages/spatialdata/_core/spatialdata.py:185: UserWarning: The table is annotating 'cell_labels', which is not present in the SpatialData object.\n",
      "  self.validate_table_in_spatialdata(v)\n",
      "/work/PRTNR/CHUV/DIR/rgottar1/spatial/env/jbac/miniforge3/envs/spatial/lib/python3.11/site-packages/spatialdata/_core/spatialdata.py:185: UserWarning: The table is annotating 'cell_labels', which is not present in the SpatialData object.\n",
      "  self.validate_table_in_spatialdata(v)\n",
      "/work/PRTNR/CHUV/DIR/rgottar1/spatial/env/jbac/miniforge3/envs/spatial/lib/python3.11/site-packages/spatialdata/_core/spatialdata.py:185: UserWarning: The table is annotating 'cell_labels', which is not present in the SpatialData object.\n",
      "  self.validate_table_in_spatialdata(v)\n"
     ]
    },
    {
     "name": "stdout",
     "output_type": "stream",
     "text": [
      "\u001b[34mINFO    \u001b[0m reading                                                                                                   \n",
      "         \u001b[35m/work/PRTNR/CHUV/DIR/rgottar1/spatial/env/xenium_paper/data/xenium/processed/segmentation/proseg_v1/NSCLC/\u001b[0m\n",
      "         \u001b[35mlung/1G73/1G73_2/normalised_results/outs/\u001b[0m\u001b[95mcell_feature_matrix.h5\u001b[0m                                           \n"
     ]
    },
    {
     "name": "stderr",
     "output_type": "stream",
     "text": [
      "/work/PRTNR/CHUV/DIR/rgottar1/spatial/env/jbac/miniforge3/envs/spatial/lib/python3.11/site-packages/spatialdata/_core/spatialdata.py:185: UserWarning: The table is annotating 'cell_labels', which is not present in the SpatialData object.\n",
      "  self.validate_table_in_spatialdata(v)\n",
      "/work/PRTNR/CHUV/DIR/rgottar1/spatial/env/jbac/miniforge3/envs/spatial/lib/python3.11/site-packages/spatialdata/_core/spatialdata.py:185: UserWarning: The table is annotating 'cell_labels', which is not present in the SpatialData object.\n",
      "  self.validate_table_in_spatialdata(v)\n",
      "/work/PRTNR/CHUV/DIR/rgottar1/spatial/env/jbac/miniforge3/envs/spatial/lib/python3.11/site-packages/spatialdata/_core/spatialdata.py:185: UserWarning: The table is annotating 'cell_labels', which is not present in the SpatialData object.\n",
      "  self.validate_table_in_spatialdata(v)\n",
      "/work/PRTNR/CHUV/DIR/rgottar1/spatial/env/jbac/miniforge3/envs/spatial/lib/python3.11/site-packages/spatialdata/_core/spatialdata.py:185: UserWarning: The table is annotating 'cell_labels', which is not present in the SpatialData object.\n",
      "  self.validate_table_in_spatialdata(v)\n",
      "/work/PRTNR/CHUV/DIR/rgottar1/spatial/env/jbac/miniforge3/envs/spatial/lib/python3.11/site-packages/spatialdata/_core/spatialdata.py:185: UserWarning: The table is annotating 'cell_labels', which is not present in the SpatialData object.\n",
      "  self.validate_table_in_spatialdata(v)\n"
     ]
    },
    {
     "name": "stdout",
     "output_type": "stream",
     "text": [
      "\u001b[34mINFO    \u001b[0m reading                                                                                                   \n",
      "         \u001b[35m/work/PRTNR/CHUV/DIR/rgottar1/spatial/env/xenium_paper/data/xenium/processed/segmentation/proseg_v1/NSCLC/\u001b[0m\n",
      "         \u001b[35mlung/1GDD/1GDD/normalised_results/outs/\u001b[0m\u001b[95mcell_feature_matrix.h5\u001b[0m                                             \n"
     ]
    },
    {
     "name": "stderr",
     "output_type": "stream",
     "text": [
      "/work/PRTNR/CHUV/DIR/rgottar1/spatial/env/jbac/miniforge3/envs/spatial/lib/python3.11/site-packages/spatialdata/_core/spatialdata.py:185: UserWarning: The table is annotating 'cell_labels', which is not present in the SpatialData object.\n",
      "  self.validate_table_in_spatialdata(v)\n"
     ]
    },
    {
     "name": "stdout",
     "output_type": "stream",
     "text": [
      "\u001b[34mINFO    \u001b[0m reading                                                                                                   \n",
      "         \u001b[35m/work/PRTNR/CHUV/DIR/rgottar1/spatial/env/xenium_paper/data/xenium/processed/segmentation/proseg_v1/NSCLC/\u001b[0m\n",
      "         \u001b[35mlung/1GFF/1GFF/normalised_results/outs/\u001b[0m\u001b[95mcell_feature_matrix.h5\u001b[0m                                             \n"
     ]
    },
    {
     "name": "stderr",
     "output_type": "stream",
     "text": [
      "/work/PRTNR/CHUV/DIR/rgottar1/spatial/env/jbac/miniforge3/envs/spatial/lib/python3.11/site-packages/spatialdata/_core/spatialdata.py:185: UserWarning: The table is annotating 'cell_labels', which is not present in the SpatialData object.\n",
      "  self.validate_table_in_spatialdata(v)\n",
      "/work/PRTNR/CHUV/DIR/rgottar1/spatial/env/jbac/miniforge3/envs/spatial/lib/python3.11/site-packages/spatialdata/_core/spatialdata.py:185: UserWarning: The table is annotating 'cell_labels', which is not present in the SpatialData object.\n",
      "  self.validate_table_in_spatialdata(v)\n"
     ]
    },
    {
     "name": "stdout",
     "output_type": "stream",
     "text": [
      "\u001b[34mINFO    \u001b[0m reading                                                                                                   \n",
      "         \u001b[35m/work/PRTNR/CHUV/DIR/rgottar1/spatial/env/xenium_paper/data/xenium/processed/segmentation/proseg_v1/NSCLC/\u001b[0m\n",
      "         \u001b[35mlung/1GAC/1GAC/normalised_results/outs/\u001b[0m\u001b[95mcell_feature_matrix.h5\u001b[0m                                             \n"
     ]
    },
    {
     "name": "stderr",
     "output_type": "stream",
     "text": [
      "/work/PRTNR/CHUV/DIR/rgottar1/spatial/env/jbac/miniforge3/envs/spatial/lib/python3.11/site-packages/spatialdata/_core/spatialdata.py:185: UserWarning: The table is annotating 'cell_labels', which is not present in the SpatialData object.\n",
      "  self.validate_table_in_spatialdata(v)\n",
      "/work/PRTNR/CHUV/DIR/rgottar1/spatial/env/jbac/miniforge3/envs/spatial/lib/python3.11/site-packages/spatialdata/_core/spatialdata.py:185: UserWarning: The table is annotating 'cell_labels', which is not present in the SpatialData object.\n",
      "  self.validate_table_in_spatialdata(v)\n",
      "/work/PRTNR/CHUV/DIR/rgottar1/spatial/env/jbac/miniforge3/envs/spatial/lib/python3.11/site-packages/spatialdata/_core/spatialdata.py:185: UserWarning: The table is annotating 'cell_labels', which is not present in the SpatialData object.\n",
      "  self.validate_table_in_spatialdata(v)\n"
     ]
    },
    {
     "name": "stdout",
     "output_type": "stream",
     "text": [
      "\u001b[34mINFO    \u001b[0m reading                                                                                                   \n",
      "         \u001b[35m/work/PRTNR/CHUV/DIR/rgottar1/spatial/env/xenium_paper/data/xenium/processed/segmentation/proseg_v1/NSCLC/\u001b[0m\n",
      "         \u001b[35mlung/0WMU/0WMU/normalised_results/outs/\u001b[0m\u001b[95mcell_feature_matrix.h5\u001b[0m                                             \n"
     ]
    },
    {
     "name": "stderr",
     "output_type": "stream",
     "text": [
      "/work/PRTNR/CHUV/DIR/rgottar1/spatial/env/jbac/miniforge3/envs/spatial/lib/python3.11/site-packages/spatialdata/_core/spatialdata.py:185: UserWarning: The table is annotating 'cell_labels', which is not present in the SpatialData object.\n",
      "  self.validate_table_in_spatialdata(v)\n"
     ]
    },
    {
     "name": "stdout",
     "output_type": "stream",
     "text": [
      "\u001b[34mINFO    \u001b[0m reading                                                                                                   \n",
      "         \u001b[35m/work/PRTNR/CHUV/DIR/rgottar1/spatial/env/xenium_paper/data/xenium/processed/segmentation/proseg_v1/NSCLC/\u001b[0m\n",
      "         \u001b[35mlung/1GQ9/1GQ9/normalised_results/outs/\u001b[0m\u001b[95mcell_feature_matrix.h5\u001b[0m                                             \n"
     ]
    },
    {
     "name": "stderr",
     "output_type": "stream",
     "text": [
      "/work/PRTNR/CHUV/DIR/rgottar1/spatial/env/jbac/miniforge3/envs/spatial/lib/python3.11/site-packages/spatialdata/_core/spatialdata.py:185: UserWarning: The table is annotating 'cell_labels', which is not present in the SpatialData object.\n",
      "  self.validate_table_in_spatialdata(v)\n"
     ]
    },
    {
     "name": "stdout",
     "output_type": "stream",
     "text": [
      "\u001b[34mINFO    \u001b[0m reading                                                                                                   \n",
      "         \u001b[35m/work/PRTNR/CHUV/DIR/rgottar1/spatial/env/xenium_paper/data/xenium/processed/segmentation/proseg_v1/NSCLC/\u001b[0m\n",
      "         \u001b[35mlung/1GVD/1GVD/normalised_results/outs/\u001b[0m\u001b[95mcell_feature_matrix.h5\u001b[0m                                             \n"
     ]
    },
    {
     "name": "stderr",
     "output_type": "stream",
     "text": [
      "/work/PRTNR/CHUV/DIR/rgottar1/spatial/env/jbac/miniforge3/envs/spatial/lib/python3.11/site-packages/spatialdata/_core/spatialdata.py:185: UserWarning: The table is annotating 'cell_labels', which is not present in the SpatialData object.\n",
      "  self.validate_table_in_spatialdata(v)\n",
      "/work/PRTNR/CHUV/DIR/rgottar1/spatial/env/jbac/miniforge3/envs/spatial/lib/python3.11/site-packages/spatialdata/_core/spatialdata.py:185: UserWarning: The table is annotating 'cell_labels', which is not present in the SpatialData object.\n",
      "  self.validate_table_in_spatialdata(v)\n",
      "/work/PRTNR/CHUV/DIR/rgottar1/spatial/env/jbac/miniforge3/envs/spatial/lib/python3.11/site-packages/spatialdata/_core/spatialdata.py:185: UserWarning: The table is annotating 'cell_labels', which is not present in the SpatialData object.\n",
      "  self.validate_table_in_spatialdata(v)\n"
     ]
    },
    {
     "name": "stdout",
     "output_type": "stream",
     "text": [
      "\u001b[34mINFO    \u001b[0m reading                                                                                                   \n",
      "         \u001b[35m/work/PRTNR/CHUV/DIR/rgottar1/spatial/env/xenium_paper/data/xenium/processed/segmentation/proseg_v1/NSCLC/\u001b[0m\n",
      "         \u001b[35mchuvio/1GA2/1GA2/normalised_results/outs/\u001b[0m\u001b[95mcell_feature_matrix.h5\u001b[0m                                           \n"
     ]
    },
    {
     "name": "stderr",
     "output_type": "stream",
     "text": [
      "/work/PRTNR/CHUV/DIR/rgottar1/spatial/env/jbac/miniforge3/envs/spatial/lib/python3.11/site-packages/spatialdata/_core/spatialdata.py:185: UserWarning: The table is annotating 'cell_labels', which is not present in the SpatialData object.\n",
      "  self.validate_table_in_spatialdata(v)\n",
      "/work/PRTNR/CHUV/DIR/rgottar1/spatial/env/jbac/miniforge3/envs/spatial/lib/python3.11/site-packages/spatialdata/_core/spatialdata.py:185: UserWarning: The table is annotating 'cell_labels', which is not present in the SpatialData object.\n",
      "  self.validate_table_in_spatialdata(v)\n"
     ]
    },
    {
     "name": "stdout",
     "output_type": "stream",
     "text": [
      "\u001b[34mINFO    \u001b[0m reading                                                                                                   \n",
      "         \u001b[35m/work/PRTNR/CHUV/DIR/rgottar1/spatial/env/xenium_paper/data/xenium/processed/segmentation/proseg_v1/NSCLC/\u001b[0m\n",
      "         \u001b[35mchuvio/0PSV/0PSV_1/normalised_results/outs/\u001b[0m\u001b[95mcell_feature_matrix.h5\u001b[0m                                         \n"
     ]
    },
    {
     "name": "stderr",
     "output_type": "stream",
     "text": [
      "/work/PRTNR/CHUV/DIR/rgottar1/spatial/env/jbac/miniforge3/envs/spatial/lib/python3.11/site-packages/spatialdata/_core/spatialdata.py:185: UserWarning: The table is annotating 'cell_labels', which is not present in the SpatialData object.\n",
      "  self.validate_table_in_spatialdata(v)\n",
      "/work/PRTNR/CHUV/DIR/rgottar1/spatial/env/jbac/miniforge3/envs/spatial/lib/python3.11/site-packages/spatialdata/_core/spatialdata.py:185: UserWarning: The table is annotating 'cell_labels', which is not present in the SpatialData object.\n",
      "  self.validate_table_in_spatialdata(v)\n",
      "/work/PRTNR/CHUV/DIR/rgottar1/spatial/env/jbac/miniforge3/envs/spatial/lib/python3.11/site-packages/spatialdata/_core/spatialdata.py:185: UserWarning: The table is annotating 'cell_labels', which is not present in the SpatialData object.\n",
      "  self.validate_table_in_spatialdata(v)\n"
     ]
    },
    {
     "name": "stdout",
     "output_type": "stream",
     "text": [
      "\u001b[34mINFO    \u001b[0m reading                                                                                                   \n",
      "         \u001b[35m/work/PRTNR/CHUV/DIR/rgottar1/spatial/env/xenium_paper/data/xenium/processed/segmentation/proseg_v1/NSCLC/\u001b[0m\n",
      "         \u001b[35mchuvio/0PSV/0PSV_2/normalised_results/outs/\u001b[0m\u001b[95mcell_feature_matrix.h5\u001b[0m                                         \n"
     ]
    },
    {
     "name": "stderr",
     "output_type": "stream",
     "text": [
      "/work/PRTNR/CHUV/DIR/rgottar1/spatial/env/jbac/miniforge3/envs/spatial/lib/python3.11/site-packages/spatialdata/_core/spatialdata.py:185: UserWarning: The table is annotating 'cell_labels', which is not present in the SpatialData object.\n",
      "  self.validate_table_in_spatialdata(v)\n",
      "/work/PRTNR/CHUV/DIR/rgottar1/spatial/env/jbac/miniforge3/envs/spatial/lib/python3.11/site-packages/spatialdata/_core/spatialdata.py:185: UserWarning: The table is annotating 'cell_labels', which is not present in the SpatialData object.\n",
      "  self.validate_table_in_spatialdata(v)\n",
      "/work/PRTNR/CHUV/DIR/rgottar1/spatial/env/jbac/miniforge3/envs/spatial/lib/python3.11/site-packages/spatialdata/_core/spatialdata.py:185: UserWarning: The table is annotating 'cell_labels', which is not present in the SpatialData object.\n",
      "  self.validate_table_in_spatialdata(v)\n"
     ]
    },
    {
     "name": "stdout",
     "output_type": "stream",
     "text": [
      "\u001b[34mINFO    \u001b[0m reading                                                                                                   \n",
      "         \u001b[35m/work/PRTNR/CHUV/DIR/rgottar1/spatial/env/xenium_paper/data/xenium/processed/segmentation/proseg_v1/NSCLC/\u001b[0m\n",
      "         \u001b[35mchuvio/1G73/1G73/normalised_results/outs/\u001b[0m\u001b[95mcell_feature_matrix.h5\u001b[0m                                           \n",
      "\u001b[34mINFO    \u001b[0m reading                                                                                                   \n",
      "         \u001b[35m/work/PRTNR/CHUV/DIR/rgottar1/spatial/env/xenium_paper/data/xenium/processed/segmentation/proseg_v1/NSCLC/\u001b[0m\n",
      "         \u001b[35mchuvio/0WMU/0WMU/normalised_results/outs/\u001b[0m\u001b[95mcell_feature_matrix.h5\u001b[0m                                           \n",
      "\u001b[34mINFO    \u001b[0m reading                                                                                                   \n",
      "         \u001b[35m/work/PRTNR/CHUV/DIR/rgottar1/spatial/env/xenium_paper/data/xenium/processed/segmentation/proseg_v1/NSCLC/\u001b[0m\n",
      "         \u001b[35m5k/0PSV/0PSV/normalised_results/outs/\u001b[0m\u001b[95mcell_feature_matrix.h5\u001b[0m                                               \n",
      "\u001b[34mINFO    \u001b[0m reading                                                                                                   \n",
      "         \u001b[35m/work/PRTNR/CHUV/DIR/rgottar1/spatial/env/xenium_paper/data/xenium/processed/segmentation/proseg_v1/NSCLC/\u001b[0m\n",
      "         \u001b[35m5k/1G73/1G73/normalised_results/outs/\u001b[0m\u001b[95mcell_feature_matrix.h5\u001b[0m                                               \n",
      "\u001b[34mINFO    \u001b[0m reading                                                                                                   \n",
      "         \u001b[35m/work/PRTNR/CHUV/DIR/rgottar1/spatial/env/xenium_paper/data/xenium/processed/segmentation/proseg_v1/NSCLC/\u001b[0m\n",
      "         \u001b[35m5k/1GDD/1GDD/normalised_results/outs/\u001b[0m\u001b[95mcell_feature_matrix.h5\u001b[0m                                               \n"
     ]
    },
    {
     "name": "stderr",
     "output_type": "stream",
     "text": [
      "/work/PRTNR/CHUV/DIR/rgottar1/spatial/env/jbac/miniforge3/envs/spatial/lib/python3.11/site-packages/spatialdata/_core/spatialdata.py:185: UserWarning: The table is annotating 'cell_labels', which is not present in the SpatialData object.\n",
      "  self.validate_table_in_spatialdata(v)\n",
      "/work/PRTNR/CHUV/DIR/rgottar1/spatial/env/jbac/miniforge3/envs/spatial/lib/python3.11/site-packages/spatialdata/_core/spatialdata.py:185: UserWarning: The table is annotating 'cell_labels', which is not present in the SpatialData object.\n",
      "  self.validate_table_in_spatialdata(v)\n"
     ]
    },
    {
     "name": "stdout",
     "output_type": "stream",
     "text": [
      "\u001b[34mINFO    \u001b[0m reading                                                                                                   \n",
      "         \u001b[35m/work/PRTNR/CHUV/DIR/rgottar1/spatial/env/xenium_paper/data/xenium/processed/segmentation/proseg_v1/NSCLC/\u001b[0m\n",
      "         \u001b[35m5k/1GAC/1GAC/normalised_results/outs/\u001b[0m\u001b[95mcell_feature_matrix.h5\u001b[0m                                               \n"
     ]
    },
    {
     "name": "stderr",
     "output_type": "stream",
     "text": [
      "/work/PRTNR/CHUV/DIR/rgottar1/spatial/env/jbac/miniforge3/envs/spatial/lib/python3.11/site-packages/spatialdata/_core/spatialdata.py:185: UserWarning: The table is annotating 'cell_labels', which is not present in the SpatialData object.\n",
      "  self.validate_table_in_spatialdata(v)\n",
      "/work/PRTNR/CHUV/DIR/rgottar1/spatial/env/jbac/miniforge3/envs/spatial/lib/python3.11/site-packages/spatialdata/_core/spatialdata.py:185: UserWarning: The table is annotating 'cell_labels', which is not present in the SpatialData object.\n",
      "  self.validate_table_in_spatialdata(v)\n",
      "/work/PRTNR/CHUV/DIR/rgottar1/spatial/env/jbac/miniforge3/envs/spatial/lib/python3.11/site-packages/spatialdata/_core/spatialdata.py:185: UserWarning: The table is annotating 'cell_labels', which is not present in the SpatialData object.\n",
      "  self.validate_table_in_spatialdata(v)\n"
     ]
    },
    {
     "name": "stdout",
     "output_type": "stream",
     "text": [
      "\u001b[34mINFO    \u001b[0m reading                                                                                                   \n",
      "         \u001b[35m/work/PRTNR/CHUV/DIR/rgottar1/spatial/env/xenium_paper/data/xenium/processed/segmentation/proseg_v1/NSCLC/\u001b[0m\n",
      "         \u001b[35m5k/1GQ9/1GQ9/normalised_results/outs/\u001b[0m\u001b[95mcell_feature_matrix.h5\u001b[0m                                               \n",
      "\u001b[34mINFO    \u001b[0m reading                                                                                                   \n",
      "         \u001b[35m/work/PRTNR/CHUV/DIR/rgottar1/spatial/env/xenium_paper/data/xenium/processed/segmentation/proseg_v1/NSCLC/\u001b[0m\n",
      "         \u001b[35m5k/1GVD/1GVD/normalised_results/outs/\u001b[0m\u001b[95mcell_feature_matrix.h5\u001b[0m                                               \n"
     ]
    },
    {
     "name": "stderr",
     "output_type": "stream",
     "text": [
      "/work/PRTNR/CHUV/DIR/rgottar1/spatial/env/jbac/miniforge3/envs/spatial/lib/python3.11/site-packages/spatialdata/_core/spatialdata.py:185: UserWarning: The table is annotating 'cell_labels', which is not present in the SpatialData object.\n",
      "  self.validate_table_in_spatialdata(v)\n"
     ]
    },
    {
     "name": "stdout",
     "output_type": "stream",
     "text": [
      "\u001b[34mINFO    \u001b[0m reading                                                                                                   \n",
      "         \u001b[35m/work/PRTNR/CHUV/DIR/rgottar1/spatial/env/xenium_paper/data/xenium/processed/segmentation/10x_mm_0um/NSCLC\u001b[0m\n",
      "         \u001b[35m/5k/0PSV/0PSV/normalised_results/outs/\u001b[0m\u001b[95mcell_feature_matrix.h5\u001b[0m                                              \n"
     ]
    },
    {
     "name": "stderr",
     "output_type": "stream",
     "text": [
      "/work/PRTNR/CHUV/DIR/rgottar1/spatial/env/jbac/miniforge3/envs/spatial/lib/python3.11/site-packages/spatialdata/_core/spatialdata.py:185: UserWarning: The table is annotating 'cell_labels', which is not present in the SpatialData object.\n",
      "  self.validate_table_in_spatialdata(v)\n"
     ]
    },
    {
     "name": "stdout",
     "output_type": "stream",
     "text": [
      "\u001b[34mINFO    \u001b[0m reading                                                                                                   \n",
      "         \u001b[35m/work/PRTNR/CHUV/DIR/rgottar1/spatial/env/xenium_paper/data/xenium/processed/segmentation/10x_mm_0um/NSCLC\u001b[0m\n",
      "         \u001b[35m/5k/1G73/1G73/normalised_results/outs/\u001b[0m\u001b[95mcell_feature_matrix.h5\u001b[0m                                              \n"
     ]
    },
    {
     "name": "stderr",
     "output_type": "stream",
     "text": [
      "/work/PRTNR/CHUV/DIR/rgottar1/spatial/env/jbac/miniforge3/envs/spatial/lib/python3.11/site-packages/spatialdata/_core/spatialdata.py:185: UserWarning: The table is annotating 'cell_labels', which is not present in the SpatialData object.\n",
      "  self.validate_table_in_spatialdata(v)\n"
     ]
    },
    {
     "name": "stdout",
     "output_type": "stream",
     "text": [
      "\u001b[34mINFO    \u001b[0m reading                                                                                                   \n",
      "         \u001b[35m/work/PRTNR/CHUV/DIR/rgottar1/spatial/env/xenium_paper/data/xenium/processed/segmentation/10x_mm_0um/NSCLC\u001b[0m\n",
      "         \u001b[35m/5k/1GDD/1GDD/normalised_results/outs/\u001b[0m\u001b[95mcell_feature_matrix.h5\u001b[0m                                              \n",
      "\u001b[34mINFO    \u001b[0m reading                                                                                                   \n",
      "         \u001b[35m/work/PRTNR/CHUV/DIR/rgottar1/spatial/env/xenium_paper/data/xenium/processed/segmentation/10x_mm_0um/NSCLC\u001b[0m\n",
      "         \u001b[35m/5k/1GAC/1GAC/normalised_results/outs/\u001b[0m\u001b[95mcell_feature_matrix.h5\u001b[0m                                              \n",
      "\u001b[34mINFO    \u001b[0m reading                                                                                                   \n",
      "         \u001b[35m/work/PRTNR/CHUV/DIR/rgottar1/spatial/env/xenium_paper/data/xenium/processed/segmentation/10x_mm_0um/NSCLC\u001b[0m\n",
      "         \u001b[35m/5k/1GQ9/1GQ9/normalised_results/outs/\u001b[0m\u001b[95mcell_feature_matrix.h5\u001b[0m                                              \n",
      "\u001b[34mINFO    \u001b[0m reading                                                                                                   \n",
      "         \u001b[35m/work/PRTNR/CHUV/DIR/rgottar1/spatial/env/xenium_paper/data/xenium/processed/segmentation/10x_mm_0um/NSCLC\u001b[0m\n",
      "         \u001b[35m/5k/1GVD/1GVD/normalised_results/outs/\u001b[0m\u001b[95mcell_feature_matrix.h5\u001b[0m                                              \n",
      "\u001b[34mINFO    \u001b[0m reading                                                                                                   \n",
      "         \u001b[35m/work/PRTNR/CHUV/DIR/rgottar1/spatial/env/xenium_paper/data/xenium/processed/segmentation/10x_5um/breast/b\u001b[0m\n",
      "         \u001b[35mreast/1FYB/1FYB/normalised_results/outs/\u001b[0m\u001b[95mcell_feature_matrix.h5\u001b[0m                                            \n"
     ]
    },
    {
     "name": "stderr",
     "output_type": "stream",
     "text": [
      "/work/PRTNR/CHUV/DIR/rgottar1/spatial/env/jbac/miniforge3/envs/spatial/lib/python3.11/site-packages/spatialdata/_core/spatialdata.py:185: UserWarning: The table is annotating 'cell_labels', which is not present in the SpatialData object.\n",
      "  self.validate_table_in_spatialdata(v)\n"
     ]
    },
    {
     "name": "stdout",
     "output_type": "stream",
     "text": [
      "\u001b[34mINFO    \u001b[0m reading                                                                                                   \n",
      "         \u001b[35m/work/PRTNR/CHUV/DIR/rgottar1/spatial/env/xenium_paper/data/xenium/processed/segmentation/10x_5um/breast/b\u001b[0m\n",
      "         \u001b[35mreast/OPHI/OPHI_3/normalised_results/outs/\u001b[0m\u001b[95mcell_feature_matrix.h5\u001b[0m                                          \n",
      "\u001b[34mINFO    \u001b[0m reading                                                                                                   \n",
      "         \u001b[35m/work/PRTNR/CHUV/DIR/rgottar1/spatial/env/xenium_paper/data/xenium/processed/segmentation/10x_5um/breast/b\u001b[0m\n",
      "         \u001b[35mreast/OPHI/OPHI_1/normalised_results/outs/\u001b[0m\u001b[95mcell_feature_matrix.h5\u001b[0m                                          \n"
     ]
    },
    {
     "name": "stderr",
     "output_type": "stream",
     "text": [
      "/work/PRTNR/CHUV/DIR/rgottar1/spatial/env/jbac/miniforge3/envs/spatial/lib/python3.11/site-packages/spatialdata/_core/spatialdata.py:185: UserWarning: The table is annotating 'cell_labels', which is not present in the SpatialData object.\n",
      "  self.validate_table_in_spatialdata(v)\n"
     ]
    },
    {
     "name": "stdout",
     "output_type": "stream",
     "text": [
      "\u001b[34mINFO    \u001b[0m reading                                                                                                   \n",
      "         \u001b[35m/work/PRTNR/CHUV/DIR/rgottar1/spatial/env/xenium_paper/data/xenium/processed/segmentation/10x_5um/breast/b\u001b[0m\n",
      "         \u001b[35mreast/OPHI/OPHI_2/normalised_results/outs/\u001b[0m\u001b[95mcell_feature_matrix.h5\u001b[0m                                          \n"
     ]
    },
    {
     "name": "stderr",
     "output_type": "stream",
     "text": [
      "/work/PRTNR/CHUV/DIR/rgottar1/spatial/env/jbac/miniforge3/envs/spatial/lib/python3.11/site-packages/spatialdata/_core/spatialdata.py:185: UserWarning: The table is annotating 'cell_labels', which is not present in the SpatialData object.\n",
      "  self.validate_table_in_spatialdata(v)\n"
     ]
    },
    {
     "name": "stdout",
     "output_type": "stream",
     "text": [
      "\u001b[34mINFO    \u001b[0m reading                                                                                                   \n",
      "         \u001b[35m/work/PRTNR/CHUV/DIR/rgottar1/spatial/env/xenium_paper/data/xenium/processed/segmentation/10x_5um/breast/b\u001b[0m\n",
      "         \u001b[35mreast/1BCA/1BCA/normalised_results/outs/\u001b[0m\u001b[95mcell_feature_matrix.h5\u001b[0m                                            \n"
     ]
    },
    {
     "name": "stderr",
     "output_type": "stream",
     "text": [
      "/work/PRTNR/CHUV/DIR/rgottar1/spatial/env/jbac/miniforge3/envs/spatial/lib/python3.11/site-packages/spatialdata/_core/spatialdata.py:185: UserWarning: The table is annotating 'cell_labels', which is not present in the SpatialData object.\n",
      "  self.validate_table_in_spatialdata(v)\n"
     ]
    },
    {
     "name": "stdout",
     "output_type": "stream",
     "text": [
      "\u001b[34mINFO    \u001b[0m reading                                                                                                   \n",
      "         \u001b[35m/work/PRTNR/CHUV/DIR/rgottar1/spatial/env/xenium_paper/data/xenium/processed/segmentation/10x_5um/breast/b\u001b[0m\n",
      "         \u001b[35mreast/0PD6/0PD6/normalised_results/outs/\u001b[0m\u001b[95mcell_feature_matrix.h5\u001b[0m                                            \n",
      "\u001b[34mINFO    \u001b[0m reading                                                                                                   \n",
      "         \u001b[35m/work/PRTNR/CHUV/DIR/rgottar1/spatial/env/xenium_paper/data/xenium/processed/segmentation/10x_5um/breast/b\u001b[0m\n",
      "         \u001b[35mreast/1256/1256/normalised_results/outs/\u001b[0m\u001b[95mcell_feature_matrix.h5\u001b[0m                                            \n",
      "\u001b[34mINFO    \u001b[0m reading                                                                                                   \n",
      "         \u001b[35m/work/PRTNR/CHUV/DIR/rgottar1/spatial/env/xenium_paper/data/xenium/processed/segmentation/10x_5um/breast/b\u001b[0m\n",
      "         \u001b[35mreast/1GV1/1GV1/normalised_results/outs/\u001b[0m\u001b[95mcell_feature_matrix.h5\u001b[0m                                            \n",
      "\u001b[34mINFO    \u001b[0m reading                                                                                                   \n",
      "         \u001b[35m/work/PRTNR/CHUV/DIR/rgottar1/spatial/env/xenium_paper/data/xenium/processed/segmentation/10x_5um/breast/b\u001b[0m\n",
      "         \u001b[35mreast/1GVR/1GVR/normalised_results/outs/\u001b[0m\u001b[95mcell_feature_matrix.h5\u001b[0m                                            \n"
     ]
    },
    {
     "name": "stderr",
     "output_type": "stream",
     "text": [
      "/work/PRTNR/CHUV/DIR/rgottar1/spatial/env/jbac/miniforge3/envs/spatial/lib/python3.11/site-packages/spatialdata/_core/spatialdata.py:185: UserWarning: The table is annotating 'cell_labels', which is not present in the SpatialData object.\n",
      "  self.validate_table_in_spatialdata(v)\n",
      "/work/PRTNR/CHUV/DIR/rgottar1/spatial/env/jbac/miniforge3/envs/spatial/lib/python3.11/site-packages/spatialdata/_core/spatialdata.py:185: UserWarning: The table is annotating 'cell_labels', which is not present in the SpatialData object.\n",
      "  self.validate_table_in_spatialdata(v)\n"
     ]
    },
    {
     "name": "stdout",
     "output_type": "stream",
     "text": [
      "\u001b[34mINFO    \u001b[0m reading                                                                                                   \n",
      "         \u001b[35m/work/PRTNR/CHUV/DIR/rgottar1/spatial/env/xenium_paper/data/xenium/processed/segmentation/10x_5um/breast/b\u001b[0m\n",
      "         \u001b[35mreast/1FHZ/1FHZ/normalised_results/outs/\u001b[0m\u001b[95mcell_feature_matrix.h5\u001b[0m                                            \n"
     ]
    },
    {
     "name": "stderr",
     "output_type": "stream",
     "text": [
      "/work/PRTNR/CHUV/DIR/rgottar1/spatial/env/jbac/miniforge3/envs/spatial/lib/python3.11/site-packages/spatialdata/_core/spatialdata.py:185: UserWarning: The table is annotating 'cell_labels', which is not present in the SpatialData object.\n",
      "  self.validate_table_in_spatialdata(v)\n",
      "/work/PRTNR/CHUV/DIR/rgottar1/spatial/env/jbac/miniforge3/envs/spatial/lib/python3.11/site-packages/spatialdata/_core/spatialdata.py:185: UserWarning: The table is annotating 'cell_labels', which is not present in the SpatialData object.\n",
      "  self.validate_table_in_spatialdata(v)\n"
     ]
    },
    {
     "name": "stdout",
     "output_type": "stream",
     "text": [
      "\u001b[34mINFO    \u001b[0m reading                                                                                                   \n",
      "         \u001b[35m/work/PRTNR/CHUV/DIR/rgottar1/spatial/env/xenium_paper/data/xenium/processed/segmentation/10x_5um/breast/b\u001b[0m\n",
      "         \u001b[35mreast/0U9A/0U9A/normalised_results/outs/\u001b[0m\u001b[95mcell_feature_matrix.h5\u001b[0m                                            \n"
     ]
    },
    {
     "name": "stderr",
     "output_type": "stream",
     "text": [
      "/work/PRTNR/CHUV/DIR/rgottar1/spatial/env/jbac/miniforge3/envs/spatial/lib/python3.11/site-packages/spatialdata/_core/spatialdata.py:185: UserWarning: The table is annotating 'cell_labels', which is not present in the SpatialData object.\n",
      "  self.validate_table_in_spatialdata(v)\n",
      "/work/PRTNR/CHUV/DIR/rgottar1/spatial/env/jbac/miniforge3/envs/spatial/lib/python3.11/site-packages/spatialdata/_core/spatialdata.py:185: UserWarning: The table is annotating 'cell_labels', which is not present in the SpatialData object.\n",
      "  self.validate_table_in_spatialdata(v)\n",
      "/work/PRTNR/CHUV/DIR/rgottar1/spatial/env/jbac/miniforge3/envs/spatial/lib/python3.11/site-packages/spatialdata/_core/spatialdata.py:185: UserWarning: The table is annotating 'cell_labels', which is not present in the SpatialData object.\n",
      "  self.validate_table_in_spatialdata(v)\n",
      "/work/PRTNR/CHUV/DIR/rgottar1/spatial/env/jbac/miniforge3/envs/spatial/lib/python3.11/site-packages/spatialdata/_core/spatialdata.py:185: UserWarning: The table is annotating 'cell_labels', which is not present in the SpatialData object.\n",
      "  self.validate_table_in_spatialdata(v)\n",
      "/work/PRTNR/CHUV/DIR/rgottar1/spatial/env/jbac/miniforge3/envs/spatial/lib/python3.11/site-packages/spatialdata/_core/spatialdata.py:185: UserWarning: The table is annotating 'cell_labels', which is not present in the SpatialData object.\n",
      "  self.validate_table_in_spatialdata(v)\n",
      "/work/PRTNR/CHUV/DIR/rgottar1/spatial/env/jbac/miniforge3/envs/spatial/lib/python3.11/site-packages/spatialdata/_core/spatialdata.py:185: UserWarning: The table is annotating 'cell_labels', which is not present in the SpatialData object.\n",
      "  self.validate_table_in_spatialdata(v)\n",
      "/work/PRTNR/CHUV/DIR/rgottar1/spatial/env/jbac/miniforge3/envs/spatial/lib/python3.11/site-packages/spatialdata/_core/spatialdata.py:185: UserWarning: The table is annotating 'cell_labels', which is not present in the SpatialData object.\n",
      "  self.validate_table_in_spatialdata(v)\n",
      "/work/PRTNR/CHUV/DIR/rgottar1/spatial/env/jbac/miniforge3/envs/spatial/lib/python3.11/site-packages/spatialdata/_core/spatialdata.py:185: UserWarning: The table is annotating 'cell_labels', which is not present in the SpatialData object.\n",
      "  self.validate_table_in_spatialdata(v)\n",
      "/work/PRTNR/CHUV/DIR/rgottar1/spatial/env/jbac/miniforge3/envs/spatial/lib/python3.11/site-packages/spatialdata/_core/spatialdata.py:185: UserWarning: The table is annotating 'cell_labels', which is not present in the SpatialData object.\n",
      "  self.validate_table_in_spatialdata(v)\n",
      "/work/PRTNR/CHUV/DIR/rgottar1/spatial/env/jbac/miniforge3/envs/spatial/lib/python3.11/site-packages/spatialdata/_core/spatialdata.py:185: UserWarning: The table is annotating 'cell_labels', which is not present in the SpatialData object.\n",
      "  self.validate_table_in_spatialdata(v)\n"
     ]
    },
    {
     "name": "stdout",
     "output_type": "stream",
     "text": [
      "\u001b[34mINFO    \u001b[0m reading                                                                                                   \n",
      "         \u001b[35m/work/PRTNR/CHUV/DIR/rgottar1/spatial/env/xenium_paper/data/xenium/processed/segmentation/10x_5um/breast/b\u001b[0m\n",
      "         \u001b[35mreast/1ESQ/1ESQ/normalised_results/outs/\u001b[0m\u001b[95mcell_feature_matrix.h5\u001b[0m                                            \n"
     ]
    },
    {
     "name": "stderr",
     "output_type": "stream",
     "text": [
      "/work/PRTNR/CHUV/DIR/rgottar1/spatial/env/jbac/miniforge3/envs/spatial/lib/python3.11/site-packages/spatialdata/_core/spatialdata.py:185: UserWarning: The table is annotating 'cell_labels', which is not present in the SpatialData object.\n",
      "  self.validate_table_in_spatialdata(v)\n",
      "/work/PRTNR/CHUV/DIR/rgottar1/spatial/env/jbac/miniforge3/envs/spatial/lib/python3.11/site-packages/spatialdata/_core/spatialdata.py:185: UserWarning: The table is annotating 'cell_labels', which is not present in the SpatialData object.\n",
      "  self.validate_table_in_spatialdata(v)\n"
     ]
    },
    {
     "name": "stdout",
     "output_type": "stream",
     "text": [
      "\u001b[34mINFO    \u001b[0m reading                                                                                                   \n",
      "         \u001b[35m/work/PRTNR/CHUV/DIR/rgottar1/spatial/env/xenium_paper/data/xenium/processed/segmentation/10x_5um/breast/b\u001b[0m\n",
      "         \u001b[35mreast/0VRA/0VRA/normalised_results/outs/\u001b[0m\u001b[95mcell_feature_matrix.h5\u001b[0m                                            \n"
     ]
    },
    {
     "name": "stderr",
     "output_type": "stream",
     "text": [
      "/work/PRTNR/CHUV/DIR/rgottar1/spatial/env/jbac/miniforge3/envs/spatial/lib/python3.11/site-packages/spatialdata/_core/spatialdata.py:185: UserWarning: The table is annotating 'cell_labels', which is not present in the SpatialData object.\n",
      "  self.validate_table_in_spatialdata(v)\n"
     ]
    },
    {
     "name": "stdout",
     "output_type": "stream",
     "text": [
      "\u001b[34mINFO    \u001b[0m reading                                                                                                   \n",
      "         \u001b[35m/work/PRTNR/CHUV/DIR/rgottar1/spatial/env/xenium_paper/data/xenium/processed/segmentation/10x_5um/breast/b\u001b[0m\n",
      "         \u001b[35mreast/14LZ/14LZ/normalised_results/outs/\u001b[0m\u001b[95mcell_feature_matrix.h5\u001b[0m                                            \n"
     ]
    },
    {
     "name": "stderr",
     "output_type": "stream",
     "text": [
      "/work/PRTNR/CHUV/DIR/rgottar1/spatial/env/jbac/miniforge3/envs/spatial/lib/python3.11/site-packages/spatialdata/_core/spatialdata.py:185: UserWarning: The table is annotating 'cell_labels', which is not present in the SpatialData object.\n",
      "  self.validate_table_in_spatialdata(v)\n",
      "/work/PRTNR/CHUV/DIR/rgottar1/spatial/env/jbac/miniforge3/envs/spatial/lib/python3.11/site-packages/spatialdata/_core/spatialdata.py:185: UserWarning: The table is annotating 'cell_labels', which is not present in the SpatialData object.\n",
      "  self.validate_table_in_spatialdata(v)\n",
      "/work/PRTNR/CHUV/DIR/rgottar1/spatial/env/jbac/miniforge3/envs/spatial/lib/python3.11/site-packages/spatialdata/_core/spatialdata.py:185: UserWarning: The table is annotating 'cell_labels', which is not present in the SpatialData object.\n",
      "  self.validate_table_in_spatialdata(v)\n",
      "/work/PRTNR/CHUV/DIR/rgottar1/spatial/env/jbac/miniforge3/envs/spatial/lib/python3.11/site-packages/spatialdata/_core/spatialdata.py:185: UserWarning: The table is annotating 'cell_labels', which is not present in the SpatialData object.\n",
      "  self.validate_table_in_spatialdata(v)\n"
     ]
    },
    {
     "name": "stdout",
     "output_type": "stream",
     "text": [
      "\u001b[34mINFO    \u001b[0m reading                                                                                                   \n",
      "         \u001b[35m/work/PRTNR/CHUV/DIR/rgottar1/spatial/env/xenium_paper/data/xenium/processed/segmentation/10x_5um/breast/b\u001b[0m\n",
      "         \u001b[35mreast/1H27/1H27/normalised_results/outs/\u001b[0m\u001b[95mcell_feature_matrix.h5\u001b[0m                                            \n",
      "\u001b[34mINFO    \u001b[0m reading                                                                                                   \n",
      "         \u001b[35m/work/PRTNR/CHUV/DIR/rgottar1/spatial/env/xenium_paper/data/xenium/processed/segmentation/10x_5um/breast/b\u001b[0m\n",
      "         \u001b[35mreast/1GUC/1GUC/normalised_results/outs/\u001b[0m\u001b[95mcell_feature_matrix.h5\u001b[0m                                            \n",
      "\u001b[34mINFO    \u001b[0m reading                                                                                                   \n",
      "         \u001b[35m/work/PRTNR/CHUV/DIR/rgottar1/spatial/env/xenium_paper/data/xenium/processed/segmentation/10x_5um/breast/b\u001b[0m\n",
      "         \u001b[35mreast/0OE1/0OE1/normalised_results/outs/\u001b[0m\u001b[95mcell_feature_matrix.h5\u001b[0m                                            \n"
     ]
    },
    {
     "name": "stderr",
     "output_type": "stream",
     "text": [
      "/work/PRTNR/CHUV/DIR/rgottar1/spatial/env/jbac/miniforge3/envs/spatial/lib/python3.11/site-packages/spatialdata/_core/spatialdata.py:185: UserWarning: The table is annotating 'cell_labels', which is not present in the SpatialData object.\n",
      "  self.validate_table_in_spatialdata(v)\n"
     ]
    },
    {
     "name": "stdout",
     "output_type": "stream",
     "text": [
      "\u001b[34mINFO    \u001b[0m reading                                                                                                   \n",
      "         \u001b[35m/work/PRTNR/CHUV/DIR/rgottar1/spatial/env/xenium_paper/data/xenium/processed/segmentation/10x_5um/breast/b\u001b[0m\n",
      "         \u001b[35mreast/19TB/19TB/normalised_results/outs/\u001b[0m\u001b[95mcell_feature_matrix.h5\u001b[0m                                            \n",
      "\u001b[34mINFO    \u001b[0m reading                                                                                                   \n",
      "         \u001b[35m/work/PRTNR/CHUV/DIR/rgottar1/spatial/env/xenium_paper/data/xenium/processed/segmentation/10x_5um/breast/b\u001b[0m\n",
      "         \u001b[35mreast/1FO7/1FO7/normalised_results/outs/\u001b[0m\u001b[95mcell_feature_matrix.h5\u001b[0m                                            \n"
     ]
    },
    {
     "name": "stderr",
     "output_type": "stream",
     "text": [
      "/work/PRTNR/CHUV/DIR/rgottar1/spatial/env/jbac/miniforge3/envs/spatial/lib/python3.11/site-packages/spatialdata/_core/spatialdata.py:185: UserWarning: The table is annotating 'cell_labels', which is not present in the SpatialData object.\n",
      "  self.validate_table_in_spatialdata(v)\n",
      "/work/PRTNR/CHUV/DIR/rgottar1/spatial/env/jbac/miniforge3/envs/spatial/lib/python3.11/site-packages/spatialdata/_core/spatialdata.py:185: UserWarning: The table is annotating 'cell_labels', which is not present in the SpatialData object.\n",
      "  self.validate_table_in_spatialdata(v)\n",
      "/work/PRTNR/CHUV/DIR/rgottar1/spatial/env/jbac/miniforge3/envs/spatial/lib/python3.11/site-packages/spatialdata/_core/spatialdata.py:185: UserWarning: The table is annotating 'cell_labels', which is not present in the SpatialData object.\n",
      "  self.validate_table_in_spatialdata(v)\n"
     ]
    },
    {
     "name": "stdout",
     "output_type": "stream",
     "text": [
      "\u001b[34mINFO    \u001b[0m reading                                                                                                   \n",
      "         \u001b[35m/work/PRTNR/CHUV/DIR/rgottar1/spatial/env/xenium_paper/data/xenium/processed/segmentation/10x_5um/NSCLC/lu\u001b[0m\n",
      "         \u001b[35mng/1GA2/1GA2/normalised_results/outs/\u001b[0m\u001b[95mcell_feature_matrix.h5\u001b[0m                                               \n"
     ]
    },
    {
     "name": "stderr",
     "output_type": "stream",
     "text": [
      "/work/PRTNR/CHUV/DIR/rgottar1/spatial/env/jbac/miniforge3/envs/spatial/lib/python3.11/site-packages/spatialdata/_core/spatialdata.py:185: UserWarning: The table is annotating 'cell_labels', which is not present in the SpatialData object.\n",
      "  self.validate_table_in_spatialdata(v)\n"
     ]
    },
    {
     "name": "stdout",
     "output_type": "stream",
     "text": [
      "\u001b[34mINFO    \u001b[0m reading                                                                                                   \n",
      "         \u001b[35m/work/PRTNR/CHUV/DIR/rgottar1/spatial/env/xenium_paper/data/xenium/processed/segmentation/10x_5um/NSCLC/lu\u001b[0m\n",
      "         \u001b[35mng/0PSV/0PSV/normalised_results/outs/\u001b[0m\u001b[95mcell_feature_matrix.h5\u001b[0m                                               \n"
     ]
    },
    {
     "name": "stderr",
     "output_type": "stream",
     "text": [
      "/work/PRTNR/CHUV/DIR/rgottar1/spatial/env/jbac/miniforge3/envs/spatial/lib/python3.11/site-packages/spatialdata/_core/spatialdata.py:185: UserWarning: The table is annotating 'cell_labels', which is not present in the SpatialData object.\n",
      "  self.validate_table_in_spatialdata(v)\n"
     ]
    },
    {
     "name": "stdout",
     "output_type": "stream",
     "text": [
      "\u001b[34mINFO    \u001b[0m reading                                                                                                   \n",
      "         \u001b[35m/work/PRTNR/CHUV/DIR/rgottar1/spatial/env/xenium_paper/data/xenium/processed/segmentation/10x_5um/NSCLC/lu\u001b[0m\n",
      "         \u001b[35mng/0S8R/0S8R/normalised_results/outs/\u001b[0m\u001b[95mcell_feature_matrix.h5\u001b[0m                                               \n"
     ]
    },
    {
     "name": "stderr",
     "output_type": "stream",
     "text": [
      "/work/PRTNR/CHUV/DIR/rgottar1/spatial/env/jbac/miniforge3/envs/spatial/lib/python3.11/site-packages/spatialdata/_core/spatialdata.py:185: UserWarning: The table is annotating 'cell_labels', which is not present in the SpatialData object.\n",
      "  self.validate_table_in_spatialdata(v)\n",
      "/work/PRTNR/CHUV/DIR/rgottar1/spatial/env/jbac/miniforge3/envs/spatial/lib/python3.11/site-packages/spatialdata/_core/spatialdata.py:185: UserWarning: The table is annotating 'cell_labels', which is not present in the SpatialData object.\n",
      "  self.validate_table_in_spatialdata(v)\n"
     ]
    },
    {
     "name": "stdout",
     "output_type": "stream",
     "text": [
      "\u001b[34mINFO    \u001b[0m reading                                                                                                   \n",
      "         \u001b[35m/work/PRTNR/CHUV/DIR/rgottar1/spatial/env/xenium_paper/data/xenium/processed/segmentation/10x_5um/NSCLC/lu\u001b[0m\n",
      "         \u001b[35mng/1G73/1G73_1/normalised_results/outs/\u001b[0m\u001b[95mcell_feature_matrix.h5\u001b[0m                                             \n"
     ]
    },
    {
     "name": "stderr",
     "output_type": "stream",
     "text": [
      "/work/PRTNR/CHUV/DIR/rgottar1/spatial/env/jbac/miniforge3/envs/spatial/lib/python3.11/site-packages/spatialdata/_core/spatialdata.py:185: UserWarning: The table is annotating 'cell_labels', which is not present in the SpatialData object.\n",
      "  self.validate_table_in_spatialdata(v)\n",
      "/work/PRTNR/CHUV/DIR/rgottar1/spatial/env/jbac/miniforge3/envs/spatial/lib/python3.11/site-packages/spatialdata/_core/spatialdata.py:185: UserWarning: The table is annotating 'cell_labels', which is not present in the SpatialData object.\n",
      "  self.validate_table_in_spatialdata(v)\n",
      "/work/PRTNR/CHUV/DIR/rgottar1/spatial/env/jbac/miniforge3/envs/spatial/lib/python3.11/site-packages/spatialdata/_core/spatialdata.py:185: UserWarning: The table is annotating 'cell_labels', which is not present in the SpatialData object.\n",
      "  self.validate_table_in_spatialdata(v)\n"
     ]
    },
    {
     "name": "stdout",
     "output_type": "stream",
     "text": [
      "\u001b[34mINFO    \u001b[0m reading                                                                                                   \n",
      "         \u001b[35m/work/PRTNR/CHUV/DIR/rgottar1/spatial/env/xenium_paper/data/xenium/processed/segmentation/10x_5um/NSCLC/lu\u001b[0m\n",
      "         \u001b[35mng/1G73/1G73_2/normalised_results/outs/\u001b[0m\u001b[95mcell_feature_matrix.h5\u001b[0m                                             \n",
      "\u001b[34mINFO    \u001b[0m reading                                                                                                   \n",
      "         \u001b[35m/work/PRTNR/CHUV/DIR/rgottar1/spatial/env/xenium_paper/data/xenium/processed/segmentation/10x_5um/NSCLC/lu\u001b[0m\n",
      "         \u001b[35mng/1GDD/1GDD/normalised_results/outs/\u001b[0m\u001b[95mcell_feature_matrix.h5\u001b[0m                                               \n",
      "\u001b[34mINFO    \u001b[0m reading                                                                                                   \n",
      "         \u001b[35m/work/PRTNR/CHUV/DIR/rgottar1/spatial/env/xenium_paper/data/xenium/processed/segmentation/10x_5um/NSCLC/lu\u001b[0m\n",
      "         \u001b[35mng/1GFF/1GFF/normalised_results/outs/\u001b[0m\u001b[95mcell_feature_matrix.h5\u001b[0m                                               \n",
      "\u001b[34mINFO    \u001b[0m reading                                                                                                   \n",
      "         \u001b[35m/work/PRTNR/CHUV/DIR/rgottar1/spatial/env/xenium_paper/data/xenium/processed/segmentation/10x_5um/NSCLC/lu\u001b[0m\n",
      "         \u001b[35mng/1GAC/1GAC/normalised_results/outs/\u001b[0m\u001b[95mcell_feature_matrix.h5\u001b[0m                                               \n",
      "\u001b[34mINFO    \u001b[0m reading                                                                                                   \n",
      "         \u001b[35m/work/PRTNR/CHUV/DIR/rgottar1/spatial/env/xenium_paper/data/xenium/processed/segmentation/10x_5um/NSCLC/lu\u001b[0m\n",
      "         \u001b[35mng/0WMU/0WMU/normalised_results/outs/\u001b[0m\u001b[95mcell_feature_matrix.h5\u001b[0m                                               \n"
     ]
    },
    {
     "name": "stderr",
     "output_type": "stream",
     "text": [
      "/work/PRTNR/CHUV/DIR/rgottar1/spatial/env/jbac/miniforge3/envs/spatial/lib/python3.11/site-packages/spatialdata/_core/spatialdata.py:185: UserWarning: The table is annotating 'cell_labels', which is not present in the SpatialData object.\n",
      "  self.validate_table_in_spatialdata(v)\n",
      "/work/PRTNR/CHUV/DIR/rgottar1/spatial/env/jbac/miniforge3/envs/spatial/lib/python3.11/site-packages/spatialdata/_core/spatialdata.py:185: UserWarning: The table is annotating 'cell_labels', which is not present in the SpatialData object.\n",
      "  self.validate_table_in_spatialdata(v)\n",
      "/work/PRTNR/CHUV/DIR/rgottar1/spatial/env/jbac/miniforge3/envs/spatial/lib/python3.11/site-packages/spatialdata/_core/spatialdata.py:185: UserWarning: The table is annotating 'cell_labels', which is not present in the SpatialData object.\n",
      "  self.validate_table_in_spatialdata(v)\n"
     ]
    },
    {
     "name": "stdout",
     "output_type": "stream",
     "text": [
      "\u001b[34mINFO    \u001b[0m reading                                                                                                   \n",
      "         \u001b[35m/work/PRTNR/CHUV/DIR/rgottar1/spatial/env/xenium_paper/data/xenium/processed/segmentation/10x_5um/NSCLC/lu\u001b[0m\n",
      "         \u001b[35mng/1GQ9/1GQ9/normalised_results/outs/\u001b[0m\u001b[95mcell_feature_matrix.h5\u001b[0m                                               \n"
     ]
    },
    {
     "name": "stderr",
     "output_type": "stream",
     "text": [
      "/work/PRTNR/CHUV/DIR/rgottar1/spatial/env/jbac/miniforge3/envs/spatial/lib/python3.11/site-packages/spatialdata/_core/spatialdata.py:185: UserWarning: The table is annotating 'cell_labels', which is not present in the SpatialData object.\n",
      "  self.validate_table_in_spatialdata(v)\n",
      "/work/PRTNR/CHUV/DIR/rgottar1/spatial/env/jbac/miniforge3/envs/spatial/lib/python3.11/site-packages/spatialdata/_core/spatialdata.py:185: UserWarning: The table is annotating 'cell_labels', which is not present in the SpatialData object.\n",
      "  self.validate_table_in_spatialdata(v)\n",
      "/work/PRTNR/CHUV/DIR/rgottar1/spatial/env/jbac/miniforge3/envs/spatial/lib/python3.11/site-packages/spatialdata/_core/spatialdata.py:185: UserWarning: The table is annotating 'cell_labels', which is not present in the SpatialData object.\n",
      "  self.validate_table_in_spatialdata(v)\n"
     ]
    },
    {
     "name": "stdout",
     "output_type": "stream",
     "text": [
      "\u001b[34mINFO    \u001b[0m reading                                                                                                   \n",
      "         \u001b[35m/work/PRTNR/CHUV/DIR/rgottar1/spatial/env/xenium_paper/data/xenium/processed/segmentation/10x_5um/NSCLC/lu\u001b[0m\n",
      "         \u001b[35mng/1GVD/1GVD/normalised_results/outs/\u001b[0m\u001b[95mcell_feature_matrix.h5\u001b[0m                                               \n",
      "\u001b[34mINFO    \u001b[0m reading                                                                                                   \n",
      "         \u001b[35m/work/PRTNR/CHUV/DIR/rgottar1/spatial/env/xenium_paper/data/xenium/processed/segmentation/10x_5um/NSCLC/ch\u001b[0m\n",
      "         \u001b[35muvio/1GA2/1GA2/normalised_results/outs/\u001b[0m\u001b[95mcell_feature_matrix.h5\u001b[0m                                             \n"
     ]
    },
    {
     "name": "stderr",
     "output_type": "stream",
     "text": [
      "/work/PRTNR/CHUV/DIR/rgottar1/spatial/env/jbac/miniforge3/envs/spatial/lib/python3.11/site-packages/spatialdata/_core/spatialdata.py:185: UserWarning: The table is annotating 'cell_labels', which is not present in the SpatialData object.\n",
      "  self.validate_table_in_spatialdata(v)\n",
      "/work/PRTNR/CHUV/DIR/rgottar1/spatial/env/jbac/miniforge3/envs/spatial/lib/python3.11/site-packages/spatialdata/_core/spatialdata.py:185: UserWarning: The table is annotating 'cell_labels', which is not present in the SpatialData object.\n",
      "  self.validate_table_in_spatialdata(v)\n",
      "/work/PRTNR/CHUV/DIR/rgottar1/spatial/env/jbac/miniforge3/envs/spatial/lib/python3.11/site-packages/spatialdata/_core/spatialdata.py:185: UserWarning: The table is annotating 'cell_labels', which is not present in the SpatialData object.\n",
      "  self.validate_table_in_spatialdata(v)\n"
     ]
    },
    {
     "name": "stdout",
     "output_type": "stream",
     "text": [
      "\u001b[34mINFO    \u001b[0m reading                                                                                                   \n",
      "         \u001b[35m/work/PRTNR/CHUV/DIR/rgottar1/spatial/env/xenium_paper/data/xenium/processed/segmentation/10x_5um/NSCLC/ch\u001b[0m\n",
      "         \u001b[35muvio/0PSV/0PSV_1/normalised_results/outs/\u001b[0m\u001b[95mcell_feature_matrix.h5\u001b[0m                                           \n",
      "\u001b[34mINFO    \u001b[0m reading                                                                                                   \n",
      "         \u001b[35m/work/PRTNR/CHUV/DIR/rgottar1/spatial/env/xenium_paper/data/xenium/processed/segmentation/10x_5um/NSCLC/ch\u001b[0m\n",
      "         \u001b[35muvio/0PSV/0PSV_2/normalised_results/outs/\u001b[0m\u001b[95mcell_feature_matrix.h5\u001b[0m                                           \n",
      "\u001b[34mINFO    \u001b[0m reading                                                                                                   \n",
      "         \u001b[35m/work/PRTNR/CHUV/DIR/rgottar1/spatial/env/xenium_paper/data/xenium/processed/segmentation/10x_5um/NSCLC/ch\u001b[0m\n",
      "         \u001b[35muvio/1G73/1G73/normalised_results/outs/\u001b[0m\u001b[95mcell_feature_matrix.h5\u001b[0m                                             \n",
      "\u001b[34mINFO    \u001b[0m reading                                                                                                   \n",
      "         \u001b[35m/work/PRTNR/CHUV/DIR/rgottar1/spatial/env/xenium_paper/data/xenium/processed/segmentation/10x_5um/NSCLC/ch\u001b[0m\n",
      "         \u001b[35muvio/0WMU/0WMU/normalised_results/outs/\u001b[0m\u001b[95mcell_feature_matrix.h5\u001b[0m                                             \n"
     ]
    },
    {
     "name": "stderr",
     "output_type": "stream",
     "text": [
      "/work/PRTNR/CHUV/DIR/rgottar1/spatial/env/jbac/miniforge3/envs/spatial/lib/python3.11/site-packages/spatialdata/_core/spatialdata.py:185: UserWarning: The table is annotating 'cell_labels', which is not present in the SpatialData object.\n",
      "  self.validate_table_in_spatialdata(v)\n",
      "/work/PRTNR/CHUV/DIR/rgottar1/spatial/env/jbac/miniforge3/envs/spatial/lib/python3.11/site-packages/spatialdata/_core/spatialdata.py:185: UserWarning: The table is annotating 'cell_labels', which is not present in the SpatialData object.\n",
      "  self.validate_table_in_spatialdata(v)\n",
      "/work/PRTNR/CHUV/DIR/rgottar1/spatial/env/jbac/miniforge3/envs/spatial/lib/python3.11/site-packages/spatialdata/_core/spatialdata.py:185: UserWarning: The table is annotating 'cell_labels', which is not present in the SpatialData object.\n",
      "  self.validate_table_in_spatialdata(v)\n",
      "/work/PRTNR/CHUV/DIR/rgottar1/spatial/env/jbac/miniforge3/envs/spatial/lib/python3.11/site-packages/spatialdata/_core/spatialdata.py:185: UserWarning: The table is annotating 'cell_labels', which is not present in the SpatialData object.\n",
      "  self.validate_table_in_spatialdata(v)\n"
     ]
    },
    {
     "name": "stdout",
     "output_type": "stream",
     "text": [
      "\u001b[34mINFO    \u001b[0m reading                                                                                                   \n",
      "         \u001b[35m/work/PRTNR/CHUV/DIR/rgottar1/spatial/env/xenium_paper/data/xenium/processed/segmentation/10x_5um/NSCLC/5k\u001b[0m\n",
      "         \u001b[35m/0PSV/0PSV/normalised_results/outs/\u001b[0m\u001b[95mcell_feature_matrix.h5\u001b[0m                                                 \n",
      "\u001b[34mINFO    \u001b[0m reading                                                                                                   \n",
      "         \u001b[35m/work/PRTNR/CHUV/DIR/rgottar1/spatial/env/xenium_paper/data/xenium/processed/segmentation/10x_5um/NSCLC/5k\u001b[0m\n",
      "         \u001b[35m/1G73/1G73/normalised_results/outs/\u001b[0m\u001b[95mcell_feature_matrix.h5\u001b[0m                                                 \n",
      "\u001b[34mINFO    \u001b[0m reading                                                                                                   \n",
      "         \u001b[35m/work/PRTNR/CHUV/DIR/rgottar1/spatial/env/xenium_paper/data/xenium/processed/segmentation/10x_5um/NSCLC/5k\u001b[0m\n",
      "         \u001b[35m/1GDD/1GDD/normalised_results/outs/\u001b[0m\u001b[95mcell_feature_matrix.h5\u001b[0m                                                 \n",
      "\u001b[34mINFO    \u001b[0m reading                                                                                                   \n",
      "         \u001b[35m/work/PRTNR/CHUV/DIR/rgottar1/spatial/env/xenium_paper/data/xenium/processed/segmentation/10x_5um/NSCLC/5k\u001b[0m\n",
      "         \u001b[35m/1GAC/1GAC/normalised_results/outs/\u001b[0m\u001b[95mcell_feature_matrix.h5\u001b[0m                                                 \n"
     ]
    },
    {
     "name": "stderr",
     "output_type": "stream",
     "text": [
      "/work/PRTNR/CHUV/DIR/rgottar1/spatial/env/jbac/miniforge3/envs/spatial/lib/python3.11/site-packages/spatialdata/_core/spatialdata.py:185: UserWarning: The table is annotating 'cell_labels', which is not present in the SpatialData object.\n",
      "  self.validate_table_in_spatialdata(v)\n"
     ]
    },
    {
     "name": "stdout",
     "output_type": "stream",
     "text": [
      "\u001b[34mINFO    \u001b[0m reading                                                                                                   \n",
      "         \u001b[35m/work/PRTNR/CHUV/DIR/rgottar1/spatial/env/xenium_paper/data/xenium/processed/segmentation/10x_5um/NSCLC/5k\u001b[0m\n",
      "         \u001b[35m/1GQ9/1GQ9/normalised_results/outs/\u001b[0m\u001b[95mcell_feature_matrix.h5\u001b[0m                                                 \n",
      "\u001b[34mINFO    \u001b[0m reading                                                                                                   \n",
      "         \u001b[35m/work/PRTNR/CHUV/DIR/rgottar1/spatial/env/xenium_paper/data/xenium/processed/segmentation/10x_5um/NSCLC/5k\u001b[0m\n",
      "         \u001b[35m/1GVD/1GVD/normalised_results/outs/\u001b[0m\u001b[95mcell_feature_matrix.h5\u001b[0m                                                 \n"
     ]
    },
    {
     "name": "stderr",
     "output_type": "stream",
     "text": [
      "/work/PRTNR/CHUV/DIR/rgottar1/spatial/env/jbac/miniforge3/envs/spatial/lib/python3.11/site-packages/spatialdata/_core/spatialdata.py:185: UserWarning: The table is annotating 'cell_labels', which is not present in the SpatialData object.\n",
      "  self.validate_table_in_spatialdata(v)\n"
     ]
    },
    {
     "name": "stdout",
     "output_type": "stream",
     "text": [
      "\u001b[34mINFO    \u001b[0m reading                                                                                                   \n",
      "         \u001b[35m/work/PRTNR/CHUV/DIR/rgottar1/spatial/env/xenium_paper/data/xenium/processed/segmentation/10x_15um/breast/\u001b[0m\n",
      "         \u001b[35mbreast/1FYB/1FYB/normalised_results/outs/\u001b[0m\u001b[95mcell_feature_matrix.h5\u001b[0m                                           \n",
      "\u001b[34mINFO    \u001b[0m reading                                                                                                   \n",
      "         \u001b[35m/work/PRTNR/CHUV/DIR/rgottar1/spatial/env/xenium_paper/data/xenium/processed/segmentation/10x_15um/breast/\u001b[0m\n",
      "         \u001b[35mbreast/OPHI/OPHI_3/normalised_results/outs/\u001b[0m\u001b[95mcell_feature_matrix.h5\u001b[0m                                         \n",
      "\u001b[34mINFO    \u001b[0m reading                                                                                                   \n",
      "         \u001b[35m/work/PRTNR/CHUV/DIR/rgottar1/spatial/env/xenium_paper/data/xenium/processed/segmentation/10x_15um/breast/\u001b[0m\n",
      "         \u001b[35mbreast/OPHI/OPHI_1/normalised_results/outs/\u001b[0m\u001b[95mcell_feature_matrix.h5\u001b[0m                                         \n"
     ]
    },
    {
     "name": "stderr",
     "output_type": "stream",
     "text": [
      "/work/PRTNR/CHUV/DIR/rgottar1/spatial/env/jbac/miniforge3/envs/spatial/lib/python3.11/site-packages/spatialdata/_core/spatialdata.py:185: UserWarning: The table is annotating 'cell_labels', which is not present in the SpatialData object.\n",
      "  self.validate_table_in_spatialdata(v)\n"
     ]
    },
    {
     "name": "stdout",
     "output_type": "stream",
     "text": [
      "\u001b[34mINFO    \u001b[0m reading                                                                                                   \n",
      "         \u001b[35m/work/PRTNR/CHUV/DIR/rgottar1/spatial/env/xenium_paper/data/xenium/processed/segmentation/10x_15um/breast/\u001b[0m\n",
      "         \u001b[35mbreast/OPHI/OPHI_2/normalised_results/outs/\u001b[0m\u001b[95mcell_feature_matrix.h5\u001b[0m                                         \n"
     ]
    },
    {
     "name": "stderr",
     "output_type": "stream",
     "text": [
      "/work/PRTNR/CHUV/DIR/rgottar1/spatial/env/jbac/miniforge3/envs/spatial/lib/python3.11/site-packages/spatialdata/_core/spatialdata.py:185: UserWarning: The table is annotating 'cell_labels', which is not present in the SpatialData object.\n",
      "  self.validate_table_in_spatialdata(v)\n",
      "/work/PRTNR/CHUV/DIR/rgottar1/spatial/env/jbac/miniforge3/envs/spatial/lib/python3.11/site-packages/spatialdata/_core/spatialdata.py:185: UserWarning: The table is annotating 'cell_labels', which is not present in the SpatialData object.\n",
      "  self.validate_table_in_spatialdata(v)\n",
      "/work/PRTNR/CHUV/DIR/rgottar1/spatial/env/jbac/miniforge3/envs/spatial/lib/python3.11/site-packages/spatialdata/_core/spatialdata.py:185: UserWarning: The table is annotating 'cell_labels', which is not present in the SpatialData object.\n",
      "  self.validate_table_in_spatialdata(v)\n"
     ]
    },
    {
     "name": "stdout",
     "output_type": "stream",
     "text": [
      "\u001b[34mINFO    \u001b[0m reading                                                                                                   \n",
      "         \u001b[35m/work/PRTNR/CHUV/DIR/rgottar1/spatial/env/xenium_paper/data/xenium/processed/segmentation/10x_15um/breast/\u001b[0m\n",
      "         \u001b[35mbreast/1BCA/1BCA/normalised_results/outs/\u001b[0m\u001b[95mcell_feature_matrix.h5\u001b[0m                                           \n"
     ]
    },
    {
     "name": "stderr",
     "output_type": "stream",
     "text": [
      "/work/PRTNR/CHUV/DIR/rgottar1/spatial/env/jbac/miniforge3/envs/spatial/lib/python3.11/site-packages/spatialdata/_core/spatialdata.py:185: UserWarning: The table is annotating 'cell_labels', which is not present in the SpatialData object.\n",
      "  self.validate_table_in_spatialdata(v)\n",
      "/work/PRTNR/CHUV/DIR/rgottar1/spatial/env/jbac/miniforge3/envs/spatial/lib/python3.11/site-packages/spatialdata/_core/spatialdata.py:185: UserWarning: The table is annotating 'cell_labels', which is not present in the SpatialData object.\n",
      "  self.validate_table_in_spatialdata(v)\n",
      "/work/PRTNR/CHUV/DIR/rgottar1/spatial/env/jbac/miniforge3/envs/spatial/lib/python3.11/site-packages/spatialdata/_core/spatialdata.py:185: UserWarning: The table is annotating 'cell_labels', which is not present in the SpatialData object.\n",
      "  self.validate_table_in_spatialdata(v)\n"
     ]
    },
    {
     "name": "stdout",
     "output_type": "stream",
     "text": [
      "\u001b[34mINFO    \u001b[0m reading                                                                                                   \n",
      "         \u001b[35m/work/PRTNR/CHUV/DIR/rgottar1/spatial/env/xenium_paper/data/xenium/processed/segmentation/10x_15um/breast/\u001b[0m\n",
      "         \u001b[35mbreast/0PD6/0PD6/normalised_results/outs/\u001b[0m\u001b[95mcell_feature_matrix.h5\u001b[0m                                           \n"
     ]
    },
    {
     "name": "stderr",
     "output_type": "stream",
     "text": [
      "/work/PRTNR/CHUV/DIR/rgottar1/spatial/env/jbac/miniforge3/envs/spatial/lib/python3.11/site-packages/spatialdata/_core/spatialdata.py:185: UserWarning: The table is annotating 'cell_labels', which is not present in the SpatialData object.\n",
      "  self.validate_table_in_spatialdata(v)\n",
      "/work/PRTNR/CHUV/DIR/rgottar1/spatial/env/jbac/miniforge3/envs/spatial/lib/python3.11/site-packages/spatialdata/_core/spatialdata.py:185: UserWarning: The table is annotating 'cell_labels', which is not present in the SpatialData object.\n",
      "  self.validate_table_in_spatialdata(v)\n",
      "/work/PRTNR/CHUV/DIR/rgottar1/spatial/env/jbac/miniforge3/envs/spatial/lib/python3.11/site-packages/spatialdata/_core/spatialdata.py:185: UserWarning: The table is annotating 'cell_labels', which is not present in the SpatialData object.\n",
      "  self.validate_table_in_spatialdata(v)\n",
      "/work/PRTNR/CHUV/DIR/rgottar1/spatial/env/jbac/miniforge3/envs/spatial/lib/python3.11/site-packages/spatialdata/_core/spatialdata.py:185: UserWarning: The table is annotating 'cell_labels', which is not present in the SpatialData object.\n",
      "  self.validate_table_in_spatialdata(v)\n"
     ]
    },
    {
     "name": "stdout",
     "output_type": "stream",
     "text": [
      "\u001b[34mINFO    \u001b[0m reading                                                                                                   \n",
      "         \u001b[35m/work/PRTNR/CHUV/DIR/rgottar1/spatial/env/xenium_paper/data/xenium/processed/segmentation/10x_15um/breast/\u001b[0m\n",
      "         \u001b[35mbreast/1256/1256/normalised_results/outs/\u001b[0m\u001b[95mcell_feature_matrix.h5\u001b[0m                                           \n",
      "\u001b[34mINFO    \u001b[0m reading                                                                                                   \n",
      "         \u001b[35m/work/PRTNR/CHUV/DIR/rgottar1/spatial/env/xenium_paper/data/xenium/processed/segmentation/10x_15um/breast/\u001b[0m\n",
      "         \u001b[35mbreast/1GV1/1GV1/normalised_results/outs/\u001b[0m\u001b[95mcell_feature_matrix.h5\u001b[0m                                           \n"
     ]
    },
    {
     "name": "stderr",
     "output_type": "stream",
     "text": [
      "/work/PRTNR/CHUV/DIR/rgottar1/spatial/env/jbac/miniforge3/envs/spatial/lib/python3.11/site-packages/spatialdata/_core/spatialdata.py:185: UserWarning: The table is annotating 'cell_labels', which is not present in the SpatialData object.\n",
      "  self.validate_table_in_spatialdata(v)\n",
      "/work/PRTNR/CHUV/DIR/rgottar1/spatial/env/jbac/miniforge3/envs/spatial/lib/python3.11/site-packages/spatialdata/_core/spatialdata.py:185: UserWarning: The table is annotating 'cell_labels', which is not present in the SpatialData object.\n",
      "  self.validate_table_in_spatialdata(v)\n"
     ]
    },
    {
     "name": "stdout",
     "output_type": "stream",
     "text": [
      "\u001b[34mINFO    \u001b[0m reading                                                                                                   \n",
      "         \u001b[35m/work/PRTNR/CHUV/DIR/rgottar1/spatial/env/xenium_paper/data/xenium/processed/segmentation/10x_15um/breast/\u001b[0m\n",
      "         \u001b[35mbreast/1GVR/1GVR/normalised_results/outs/\u001b[0m\u001b[95mcell_feature_matrix.h5\u001b[0m                                           \n",
      "\u001b[34mINFO    \u001b[0m reading                                                                                                   \n",
      "         \u001b[35m/work/PRTNR/CHUV/DIR/rgottar1/spatial/env/xenium_paper/data/xenium/processed/segmentation/10x_15um/breast/\u001b[0m\n",
      "         \u001b[35mbreast/1FHZ/1FHZ/normalised_results/outs/\u001b[0m\u001b[95mcell_feature_matrix.h5\u001b[0m                                           \n"
     ]
    },
    {
     "name": "stderr",
     "output_type": "stream",
     "text": [
      "/work/PRTNR/CHUV/DIR/rgottar1/spatial/env/jbac/miniforge3/envs/spatial/lib/python3.11/site-packages/spatialdata/_core/spatialdata.py:185: UserWarning: The table is annotating 'cell_labels', which is not present in the SpatialData object.\n",
      "  self.validate_table_in_spatialdata(v)\n"
     ]
    },
    {
     "name": "stdout",
     "output_type": "stream",
     "text": [
      "\u001b[34mINFO    \u001b[0m reading                                                                                                   \n",
      "         \u001b[35m/work/PRTNR/CHUV/DIR/rgottar1/spatial/env/xenium_paper/data/xenium/processed/segmentation/10x_15um/breast/\u001b[0m\n",
      "         \u001b[35mbreast/0U9A/0U9A/normalised_results/outs/\u001b[0m\u001b[95mcell_feature_matrix.h5\u001b[0m                                           \n"
     ]
    },
    {
     "name": "stderr",
     "output_type": "stream",
     "text": [
      "/work/PRTNR/CHUV/DIR/rgottar1/spatial/env/jbac/miniforge3/envs/spatial/lib/python3.11/site-packages/spatialdata/_core/spatialdata.py:185: UserWarning: The table is annotating 'cell_labels', which is not present in the SpatialData object.\n",
      "  self.validate_table_in_spatialdata(v)\n",
      "/work/PRTNR/CHUV/DIR/rgottar1/spatial/env/jbac/miniforge3/envs/spatial/lib/python3.11/site-packages/spatialdata/_core/spatialdata.py:185: UserWarning: The table is annotating 'cell_labels', which is not present in the SpatialData object.\n",
      "  self.validate_table_in_spatialdata(v)\n",
      "/work/PRTNR/CHUV/DIR/rgottar1/spatial/env/jbac/miniforge3/envs/spatial/lib/python3.11/site-packages/spatialdata/_core/spatialdata.py:185: UserWarning: The table is annotating 'cell_labels', which is not present in the SpatialData object.\n",
      "  self.validate_table_in_spatialdata(v)\n"
     ]
    },
    {
     "name": "stdout",
     "output_type": "stream",
     "text": [
      "\u001b[34mINFO    \u001b[0m reading                                                                                                   \n",
      "         \u001b[35m/work/PRTNR/CHUV/DIR/rgottar1/spatial/env/xenium_paper/data/xenium/processed/segmentation/10x_15um/breast/\u001b[0m\n",
      "         \u001b[35mbreast/1ESQ/1ESQ/normalised_results/outs/\u001b[0m\u001b[95mcell_feature_matrix.h5\u001b[0m                                           \n",
      "\u001b[34mINFO    \u001b[0m reading                                                                                                   \n",
      "         \u001b[35m/work/PRTNR/CHUV/DIR/rgottar1/spatial/env/xenium_paper/data/xenium/processed/segmentation/10x_15um/breast/\u001b[0m\n",
      "         \u001b[35mbreast/0VRA/0VRA/normalised_results/outs/\u001b[0m\u001b[95mcell_feature_matrix.h5\u001b[0m                                           \n",
      "\u001b[34mINFO    \u001b[0m reading                                                                                                   \n",
      "         \u001b[35m/work/PRTNR/CHUV/DIR/rgottar1/spatial/env/xenium_paper/data/xenium/processed/segmentation/10x_15um/breast/\u001b[0m\n",
      "         \u001b[35mbreast/14LZ/14LZ/normalised_results/outs/\u001b[0m\u001b[95mcell_feature_matrix.h5\u001b[0m                                           \n"
     ]
    },
    {
     "name": "stderr",
     "output_type": "stream",
     "text": [
      "/work/PRTNR/CHUV/DIR/rgottar1/spatial/env/jbac/miniforge3/envs/spatial/lib/python3.11/site-packages/spatialdata/_core/spatialdata.py:185: UserWarning: The table is annotating 'cell_labels', which is not present in the SpatialData object.\n",
      "  self.validate_table_in_spatialdata(v)\n",
      "/work/PRTNR/CHUV/DIR/rgottar1/spatial/env/jbac/miniforge3/envs/spatial/lib/python3.11/site-packages/spatialdata/_core/spatialdata.py:185: UserWarning: The table is annotating 'cell_labels', which is not present in the SpatialData object.\n",
      "  self.validate_table_in_spatialdata(v)\n"
     ]
    },
    {
     "name": "stdout",
     "output_type": "stream",
     "text": [
      "\u001b[34mINFO    \u001b[0m reading                                                                                                   \n",
      "         \u001b[35m/work/PRTNR/CHUV/DIR/rgottar1/spatial/env/xenium_paper/data/xenium/processed/segmentation/10x_15um/breast/\u001b[0m\n",
      "         \u001b[35mbreast/1H27/1H27/normalised_results/outs/\u001b[0m\u001b[95mcell_feature_matrix.h5\u001b[0m                                           \n"
     ]
    },
    {
     "name": "stderr",
     "output_type": "stream",
     "text": [
      "/work/PRTNR/CHUV/DIR/rgottar1/spatial/env/jbac/miniforge3/envs/spatial/lib/python3.11/site-packages/spatialdata/_core/spatialdata.py:185: UserWarning: The table is annotating 'cell_labels', which is not present in the SpatialData object.\n",
      "  self.validate_table_in_spatialdata(v)\n"
     ]
    },
    {
     "name": "stdout",
     "output_type": "stream",
     "text": [
      "\u001b[34mINFO    \u001b[0m reading                                                                                                   \n",
      "         \u001b[35m/work/PRTNR/CHUV/DIR/rgottar1/spatial/env/xenium_paper/data/xenium/processed/segmentation/10x_15um/breast/\u001b[0m\n",
      "         \u001b[35mbreast/1GUC/1GUC/normalised_results/outs/\u001b[0m\u001b[95mcell_feature_matrix.h5\u001b[0m                                           \n"
     ]
    },
    {
     "name": "stderr",
     "output_type": "stream",
     "text": [
      "/work/PRTNR/CHUV/DIR/rgottar1/spatial/env/jbac/miniforge3/envs/spatial/lib/python3.11/site-packages/spatialdata/_core/spatialdata.py:185: UserWarning: The table is annotating 'cell_labels', which is not present in the SpatialData object.\n",
      "  self.validate_table_in_spatialdata(v)\n"
     ]
    },
    {
     "name": "stdout",
     "output_type": "stream",
     "text": [
      "\u001b[34mINFO    \u001b[0m reading                                                                                                   \n",
      "         \u001b[35m/work/PRTNR/CHUV/DIR/rgottar1/spatial/env/xenium_paper/data/xenium/processed/segmentation/10x_15um/breast/\u001b[0m\n",
      "         \u001b[35mbreast/0OE1/0OE1/normalised_results/outs/\u001b[0m\u001b[95mcell_feature_matrix.h5\u001b[0m                                           \n",
      "\u001b[34mINFO    \u001b[0m reading                                                                                                   \n",
      "         \u001b[35m/work/PRTNR/CHUV/DIR/rgottar1/spatial/env/xenium_paper/data/xenium/processed/segmentation/10x_15um/breast/\u001b[0m\n",
      "         \u001b[35mbreast/19TB/19TB/normalised_results/outs/\u001b[0m\u001b[95mcell_feature_matrix.h5\u001b[0m                                           \n",
      "\u001b[34mINFO    \u001b[0m reading                                                                                                   \n",
      "         \u001b[35m/work/PRTNR/CHUV/DIR/rgottar1/spatial/env/xenium_paper/data/xenium/processed/segmentation/10x_15um/breast/\u001b[0m\n",
      "         \u001b[35mbreast/1FO7/1FO7/normalised_results/outs/\u001b[0m\u001b[95mcell_feature_matrix.h5\u001b[0m                                           \n"
     ]
    },
    {
     "name": "stderr",
     "output_type": "stream",
     "text": [
      "/work/PRTNR/CHUV/DIR/rgottar1/spatial/env/jbac/miniforge3/envs/spatial/lib/python3.11/site-packages/spatialdata/_core/spatialdata.py:185: UserWarning: The table is annotating 'cell_labels', which is not present in the SpatialData object.\n",
      "  self.validate_table_in_spatialdata(v)\n",
      "/work/PRTNR/CHUV/DIR/rgottar1/spatial/env/jbac/miniforge3/envs/spatial/lib/python3.11/site-packages/spatialdata/_core/spatialdata.py:185: UserWarning: The table is annotating 'cell_labels', which is not present in the SpatialData object.\n",
      "  self.validate_table_in_spatialdata(v)\n"
     ]
    },
    {
     "name": "stdout",
     "output_type": "stream",
     "text": [
      "\u001b[34mINFO    \u001b[0m reading                                                                                                   \n",
      "         \u001b[35m/work/PRTNR/CHUV/DIR/rgottar1/spatial/env/xenium_paper/data/xenium/processed/segmentation/10x_15um/NSCLC/l\u001b[0m\n",
      "         \u001b[35mung/1GA2/1GA2/normalised_results/outs/\u001b[0m\u001b[95mcell_feature_matrix.h5\u001b[0m                                              \n",
      "\u001b[34mINFO    \u001b[0m reading                                                                                                   \n",
      "         \u001b[35m/work/PRTNR/CHUV/DIR/rgottar1/spatial/env/xenium_paper/data/xenium/processed/segmentation/10x_15um/NSCLC/l\u001b[0m\n",
      "         \u001b[35mung/0PSV/0PSV/normalised_results/outs/\u001b[0m\u001b[95mcell_feature_matrix.h5\u001b[0m                                              \n"
     ]
    },
    {
     "name": "stderr",
     "output_type": "stream",
     "text": [
      "/work/PRTNR/CHUV/DIR/rgottar1/spatial/env/jbac/miniforge3/envs/spatial/lib/python3.11/site-packages/spatialdata/_core/spatialdata.py:185: UserWarning: The table is annotating 'cell_labels', which is not present in the SpatialData object.\n",
      "  self.validate_table_in_spatialdata(v)\n"
     ]
    },
    {
     "name": "stdout",
     "output_type": "stream",
     "text": [
      "\u001b[34mINFO    \u001b[0m reading                                                                                                   \n",
      "         \u001b[35m/work/PRTNR/CHUV/DIR/rgottar1/spatial/env/xenium_paper/data/xenium/processed/segmentation/10x_15um/NSCLC/l\u001b[0m\n",
      "         \u001b[35mung/0S8R/0S8R/normalised_results/outs/\u001b[0m\u001b[95mcell_feature_matrix.h5\u001b[0m                                              \n"
     ]
    },
    {
     "name": "stderr",
     "output_type": "stream",
     "text": [
      "/work/PRTNR/CHUV/DIR/rgottar1/spatial/env/jbac/miniforge3/envs/spatial/lib/python3.11/site-packages/spatialdata/_core/spatialdata.py:185: UserWarning: The table is annotating 'cell_labels', which is not present in the SpatialData object.\n",
      "  self.validate_table_in_spatialdata(v)\n",
      "/work/PRTNR/CHUV/DIR/rgottar1/spatial/env/jbac/miniforge3/envs/spatial/lib/python3.11/site-packages/spatialdata/_core/spatialdata.py:185: UserWarning: The table is annotating 'cell_labels', which is not present in the SpatialData object.\n",
      "  self.validate_table_in_spatialdata(v)\n"
     ]
    },
    {
     "name": "stdout",
     "output_type": "stream",
     "text": [
      "\u001b[34mINFO    \u001b[0m reading                                                                                                   \n",
      "         \u001b[35m/work/PRTNR/CHUV/DIR/rgottar1/spatial/env/xenium_paper/data/xenium/processed/segmentation/10x_15um/NSCLC/l\u001b[0m\n",
      "         \u001b[35mung/1G73/1G73_1/normalised_results/outs/\u001b[0m\u001b[95mcell_feature_matrix.h5\u001b[0m                                            \n"
     ]
    },
    {
     "name": "stderr",
     "output_type": "stream",
     "text": [
      "/work/PRTNR/CHUV/DIR/rgottar1/spatial/env/jbac/miniforge3/envs/spatial/lib/python3.11/site-packages/spatialdata/_core/spatialdata.py:185: UserWarning: The table is annotating 'cell_labels', which is not present in the SpatialData object.\n",
      "  self.validate_table_in_spatialdata(v)\n",
      "/work/PRTNR/CHUV/DIR/rgottar1/spatial/env/jbac/miniforge3/envs/spatial/lib/python3.11/site-packages/spatialdata/_core/spatialdata.py:185: UserWarning: The table is annotating 'cell_labels', which is not present in the SpatialData object.\n",
      "  self.validate_table_in_spatialdata(v)\n"
     ]
    },
    {
     "name": "stdout",
     "output_type": "stream",
     "text": [
      "\u001b[34mINFO    \u001b[0m reading                                                                                                   \n",
      "         \u001b[35m/work/PRTNR/CHUV/DIR/rgottar1/spatial/env/xenium_paper/data/xenium/processed/segmentation/10x_15um/NSCLC/l\u001b[0m\n",
      "         \u001b[35mung/1G73/1G73_2/normalised_results/outs/\u001b[0m\u001b[95mcell_feature_matrix.h5\u001b[0m                                            \n"
     ]
    },
    {
     "name": "stderr",
     "output_type": "stream",
     "text": [
      "/work/PRTNR/CHUV/DIR/rgottar1/spatial/env/jbac/miniforge3/envs/spatial/lib/python3.11/site-packages/spatialdata/_core/spatialdata.py:185: UserWarning: The table is annotating 'cell_labels', which is not present in the SpatialData object.\n",
      "  self.validate_table_in_spatialdata(v)\n"
     ]
    },
    {
     "name": "stdout",
     "output_type": "stream",
     "text": [
      "\u001b[34mINFO    \u001b[0m reading                                                                                                   \n",
      "         \u001b[35m/work/PRTNR/CHUV/DIR/rgottar1/spatial/env/xenium_paper/data/xenium/processed/segmentation/10x_15um/NSCLC/l\u001b[0m\n",
      "         \u001b[35mung/1GDD/1GDD/normalised_results/outs/\u001b[0m\u001b[95mcell_feature_matrix.h5\u001b[0m                                              \n",
      "\u001b[34mINFO    \u001b[0m reading                                                                                                   \n",
      "         \u001b[35m/work/PRTNR/CHUV/DIR/rgottar1/spatial/env/xenium_paper/data/xenium/processed/segmentation/10x_15um/NSCLC/l\u001b[0m\n",
      "         \u001b[35mung/1GFF/1GFF/normalised_results/outs/\u001b[0m\u001b[95mcell_feature_matrix.h5\u001b[0m                                              \n"
     ]
    },
    {
     "name": "stderr",
     "output_type": "stream",
     "text": [
      "/work/PRTNR/CHUV/DIR/rgottar1/spatial/env/jbac/miniforge3/envs/spatial/lib/python3.11/site-packages/spatialdata/_core/spatialdata.py:185: UserWarning: The table is annotating 'cell_labels', which is not present in the SpatialData object.\n",
      "  self.validate_table_in_spatialdata(v)\n"
     ]
    },
    {
     "name": "stdout",
     "output_type": "stream",
     "text": [
      "\u001b[34mINFO    \u001b[0m reading                                                                                                   \n",
      "         \u001b[35m/work/PRTNR/CHUV/DIR/rgottar1/spatial/env/xenium_paper/data/xenium/processed/segmentation/10x_15um/NSCLC/l\u001b[0m\n",
      "         \u001b[35mung/1GAC/1GAC/normalised_results/outs/\u001b[0m\u001b[95mcell_feature_matrix.h5\u001b[0m                                              \n",
      "\u001b[34mINFO    \u001b[0m reading                                                                                                   \n",
      "         \u001b[35m/work/PRTNR/CHUV/DIR/rgottar1/spatial/env/xenium_paper/data/xenium/processed/segmentation/10x_15um/NSCLC/l\u001b[0m\n",
      "         \u001b[35mung/0WMU/0WMU/normalised_results/outs/\u001b[0m\u001b[95mcell_feature_matrix.h5\u001b[0m                                              \n",
      "\u001b[34mINFO    \u001b[0m reading                                                                                                   \n",
      "         \u001b[35m/work/PRTNR/CHUV/DIR/rgottar1/spatial/env/xenium_paper/data/xenium/processed/segmentation/10x_15um/NSCLC/l\u001b[0m\n",
      "         \u001b[35mung/1GQ9/1GQ9/normalised_results/outs/\u001b[0m\u001b[95mcell_feature_matrix.h5\u001b[0m                                              \n"
     ]
    },
    {
     "name": "stderr",
     "output_type": "stream",
     "text": [
      "/work/PRTNR/CHUV/DIR/rgottar1/spatial/env/jbac/miniforge3/envs/spatial/lib/python3.11/site-packages/spatialdata/_core/spatialdata.py:185: UserWarning: The table is annotating 'cell_labels', which is not present in the SpatialData object.\n",
      "  self.validate_table_in_spatialdata(v)\n",
      "/work/PRTNR/CHUV/DIR/rgottar1/spatial/env/jbac/miniforge3/envs/spatial/lib/python3.11/site-packages/spatialdata/_core/spatialdata.py:185: UserWarning: The table is annotating 'cell_labels', which is not present in the SpatialData object.\n",
      "  self.validate_table_in_spatialdata(v)\n",
      "/work/PRTNR/CHUV/DIR/rgottar1/spatial/env/jbac/miniforge3/envs/spatial/lib/python3.11/site-packages/spatialdata/_core/spatialdata.py:185: UserWarning: The table is annotating 'cell_labels', which is not present in the SpatialData object.\n",
      "  self.validate_table_in_spatialdata(v)\n",
      "/work/PRTNR/CHUV/DIR/rgottar1/spatial/env/jbac/miniforge3/envs/spatial/lib/python3.11/site-packages/spatialdata/_core/spatialdata.py:185: UserWarning: The table is annotating 'cell_labels', which is not present in the SpatialData object.\n",
      "  self.validate_table_in_spatialdata(v)\n",
      "/work/PRTNR/CHUV/DIR/rgottar1/spatial/env/jbac/miniforge3/envs/spatial/lib/python3.11/site-packages/spatialdata/_core/spatialdata.py:185: UserWarning: The table is annotating 'cell_labels', which is not present in the SpatialData object.\n",
      "  self.validate_table_in_spatialdata(v)\n"
     ]
    },
    {
     "name": "stdout",
     "output_type": "stream",
     "text": [
      "\u001b[34mINFO    \u001b[0m reading                                                                                                   \n",
      "         \u001b[35m/work/PRTNR/CHUV/DIR/rgottar1/spatial/env/xenium_paper/data/xenium/processed/segmentation/10x_15um/NSCLC/l\u001b[0m\n",
      "         \u001b[35mung/1GVD/1GVD/normalised_results/outs/\u001b[0m\u001b[95mcell_feature_matrix.h5\u001b[0m                                              \n",
      "\u001b[34mINFO    \u001b[0m reading                                                                                                   \n",
      "         \u001b[35m/work/PRTNR/CHUV/DIR/rgottar1/spatial/env/xenium_paper/data/xenium/processed/segmentation/10x_15um/NSCLC/c\u001b[0m\n",
      "         \u001b[35mhuvio/1GA2/1GA2/normalised_results/outs/\u001b[0m\u001b[95mcell_feature_matrix.h5\u001b[0m                                            \n",
      "\u001b[34mINFO    \u001b[0m reading                                                                                                   \n",
      "         \u001b[35m/work/PRTNR/CHUV/DIR/rgottar1/spatial/env/xenium_paper/data/xenium/processed/segmentation/10x_15um/NSCLC/c\u001b[0m\n",
      "         \u001b[35mhuvio/0PSV/0PSV_1/normalised_results/outs/\u001b[0m\u001b[95mcell_feature_matrix.h5\u001b[0m                                          \n"
     ]
    },
    {
     "name": "stderr",
     "output_type": "stream",
     "text": [
      "/work/PRTNR/CHUV/DIR/rgottar1/spatial/env/jbac/miniforge3/envs/spatial/lib/python3.11/site-packages/spatialdata/_core/spatialdata.py:185: UserWarning: The table is annotating 'cell_labels', which is not present in the SpatialData object.\n",
      "  self.validate_table_in_spatialdata(v)\n"
     ]
    },
    {
     "name": "stdout",
     "output_type": "stream",
     "text": [
      "\u001b[34mINFO    \u001b[0m reading                                                                                                   \n",
      "         \u001b[35m/work/PRTNR/CHUV/DIR/rgottar1/spatial/env/xenium_paper/data/xenium/processed/segmentation/10x_15um/NSCLC/c\u001b[0m\n",
      "         \u001b[35mhuvio/0PSV/0PSV_2/normalised_results/outs/\u001b[0m\u001b[95mcell_feature_matrix.h5\u001b[0m                                          \n",
      "\u001b[34mINFO    \u001b[0m reading                                                                                                   \n",
      "         \u001b[35m/work/PRTNR/CHUV/DIR/rgottar1/spatial/env/xenium_paper/data/xenium/processed/segmentation/10x_15um/NSCLC/c\u001b[0m\n",
      "         \u001b[35mhuvio/1G73/1G73/normalised_results/outs/\u001b[0m\u001b[95mcell_feature_matrix.h5\u001b[0m                                            \n",
      "\u001b[34mINFO    \u001b[0m reading                                                                                                   \n",
      "         \u001b[35m/work/PRTNR/CHUV/DIR/rgottar1/spatial/env/xenium_paper/data/xenium/processed/segmentation/10x_15um/NSCLC/c\u001b[0m\n",
      "         \u001b[35mhuvio/0WMU/0WMU/normalised_results/outs/\u001b[0m\u001b[95mcell_feature_matrix.h5\u001b[0m                                            \n"
     ]
    },
    {
     "name": "stderr",
     "output_type": "stream",
     "text": [
      "/work/PRTNR/CHUV/DIR/rgottar1/spatial/env/jbac/miniforge3/envs/spatial/lib/python3.11/site-packages/spatialdata/_core/spatialdata.py:185: UserWarning: The table is annotating 'cell_labels', which is not present in the SpatialData object.\n",
      "  self.validate_table_in_spatialdata(v)\n",
      "/work/PRTNR/CHUV/DIR/rgottar1/spatial/env/jbac/miniforge3/envs/spatial/lib/python3.11/site-packages/spatialdata/_core/spatialdata.py:185: UserWarning: The table is annotating 'cell_labels', which is not present in the SpatialData object.\n",
      "  self.validate_table_in_spatialdata(v)\n",
      "/work/PRTNR/CHUV/DIR/rgottar1/spatial/env/jbac/miniforge3/envs/spatial/lib/python3.11/site-packages/spatialdata/_core/spatialdata.py:185: UserWarning: The table is annotating 'cell_labels', which is not present in the SpatialData object.\n",
      "  self.validate_table_in_spatialdata(v)\n"
     ]
    },
    {
     "name": "stdout",
     "output_type": "stream",
     "text": [
      "\u001b[34mINFO    \u001b[0m reading                                                                                                   \n",
      "         \u001b[35m/work/PRTNR/CHUV/DIR/rgottar1/spatial/env/xenium_paper/data/xenium/processed/segmentation/10x_15um/NSCLC/5\u001b[0m\n",
      "         \u001b[35mk/0PSV/0PSV/normalised_results/outs/\u001b[0m\u001b[95mcell_feature_matrix.h5\u001b[0m                                                \n",
      "\u001b[34mINFO    \u001b[0m reading                                                                                                   \n",
      "         \u001b[35m/work/PRTNR/CHUV/DIR/rgottar1/spatial/env/xenium_paper/data/xenium/processed/segmentation/10x_15um/NSCLC/5\u001b[0m\n",
      "         \u001b[35mk/1G73/1G73/normalised_results/outs/\u001b[0m\u001b[95mcell_feature_matrix.h5\u001b[0m                                                \n",
      "\u001b[34mINFO    \u001b[0m reading                                                                                                   \n",
      "         \u001b[35m/work/PRTNR/CHUV/DIR/rgottar1/spatial/env/xenium_paper/data/xenium/processed/segmentation/10x_15um/NSCLC/5\u001b[0m\n",
      "         \u001b[35mk/1GDD/1GDD/normalised_results/outs/\u001b[0m\u001b[95mcell_feature_matrix.h5\u001b[0m                                                \n",
      "\u001b[34mINFO    \u001b[0m reading                                                                                                   \n",
      "         \u001b[35m/work/PRTNR/CHUV/DIR/rgottar1/spatial/env/xenium_paper/data/xenium/processed/segmentation/10x_15um/NSCLC/5\u001b[0m\n",
      "         \u001b[35mk/1GAC/1GAC/normalised_results/outs/\u001b[0m\u001b[95mcell_feature_matrix.h5\u001b[0m                                                \n"
     ]
    },
    {
     "name": "stderr",
     "output_type": "stream",
     "text": [
      "/work/PRTNR/CHUV/DIR/rgottar1/spatial/env/jbac/miniforge3/envs/spatial/lib/python3.11/site-packages/spatialdata/_core/spatialdata.py:185: UserWarning: The table is annotating 'cell_labels', which is not present in the SpatialData object.\n",
      "  self.validate_table_in_spatialdata(v)\n"
     ]
    },
    {
     "name": "stdout",
     "output_type": "stream",
     "text": [
      "\u001b[34mINFO    \u001b[0m reading                                                                                                   \n",
      "         \u001b[35m/work/PRTNR/CHUV/DIR/rgottar1/spatial/env/xenium_paper/data/xenium/processed/segmentation/10x_15um/NSCLC/5\u001b[0m\n",
      "         \u001b[35mk/1GQ9/1GQ9/normalised_results/outs/\u001b[0m\u001b[95mcell_feature_matrix.h5\u001b[0m                                                \n",
      "\u001b[34mINFO    \u001b[0m reading                                                                                                   \n",
      "         \u001b[35m/work/PRTNR/CHUV/DIR/rgottar1/spatial/env/xenium_paper/data/xenium/processed/segmentation/10x_15um/NSCLC/5\u001b[0m\n",
      "         \u001b[35mk/1GVD/1GVD/normalised_results/outs/\u001b[0m\u001b[95mcell_feature_matrix.h5\u001b[0m                                                \n"
     ]
    },
    {
     "name": "stderr",
     "output_type": "stream",
     "text": [
      "/work/PRTNR/CHUV/DIR/rgottar1/spatial/env/jbac/miniforge3/envs/spatial/lib/python3.11/site-packages/spatialdata/_core/spatialdata.py:185: UserWarning: The table is annotating 'cell_labels', which is not present in the SpatialData object.\n",
      "  self.validate_table_in_spatialdata(v)\n"
     ]
    },
    {
     "name": "stdout",
     "output_type": "stream",
     "text": [
      "\u001b[34mINFO    \u001b[0m reading                                                                                                   \n",
      "         \u001b[35m/work/PRTNR/CHUV/DIR/rgottar1/spatial/env/xenium_paper/data/xenium/processed/segmentation/10x_mm_5um/NSCLC\u001b[0m\n",
      "         \u001b[35m/5k/0PSV/0PSV/normalised_results/outs/\u001b[0m\u001b[95mcell_feature_matrix.h5\u001b[0m                                              \n",
      "\u001b[34mINFO    \u001b[0m reading                                                                                                   \n",
      "         \u001b[35m/work/PRTNR/CHUV/DIR/rgottar1/spatial/env/xenium_paper/data/xenium/processed/segmentation/10x_mm_5um/NSCLC\u001b[0m\n",
      "         \u001b[35m/5k/1G73/1G73/normalised_results/outs/\u001b[0m\u001b[95mcell_feature_matrix.h5\u001b[0m                                              \n",
      "\u001b[34mINFO    \u001b[0m reading                                                                                                   \n",
      "         \u001b[35m/work/PRTNR/CHUV/DIR/rgottar1/spatial/env/xenium_paper/data/xenium/processed/segmentation/10x_mm_5um/NSCLC\u001b[0m\n",
      "         \u001b[35m/5k/1GDD/1GDD/normalised_results/outs/\u001b[0m\u001b[95mcell_feature_matrix.h5\u001b[0m                                              \n"
     ]
    },
    {
     "name": "stderr",
     "output_type": "stream",
     "text": [
      "/work/PRTNR/CHUV/DIR/rgottar1/spatial/env/jbac/miniforge3/envs/spatial/lib/python3.11/site-packages/spatialdata/_core/spatialdata.py:185: UserWarning: The table is annotating 'cell_labels', which is not present in the SpatialData object.\n",
      "  self.validate_table_in_spatialdata(v)\n",
      "/work/PRTNR/CHUV/DIR/rgottar1/spatial/env/jbac/miniforge3/envs/spatial/lib/python3.11/site-packages/spatialdata/_core/spatialdata.py:185: UserWarning: The table is annotating 'cell_labels', which is not present in the SpatialData object.\n",
      "  self.validate_table_in_spatialdata(v)\n"
     ]
    },
    {
     "name": "stdout",
     "output_type": "stream",
     "text": [
      "\u001b[34mINFO    \u001b[0m reading                                                                                                   \n",
      "         \u001b[35m/work/PRTNR/CHUV/DIR/rgottar1/spatial/env/xenium_paper/data/xenium/processed/segmentation/10x_mm_5um/NSCLC\u001b[0m\n",
      "         \u001b[35m/5k/1GAC/1GAC/normalised_results/outs/\u001b[0m\u001b[95mcell_feature_matrix.h5\u001b[0m                                              \n"
     ]
    },
    {
     "name": "stderr",
     "output_type": "stream",
     "text": [
      "/work/PRTNR/CHUV/DIR/rgottar1/spatial/env/jbac/miniforge3/envs/spatial/lib/python3.11/site-packages/spatialdata/_core/spatialdata.py:185: UserWarning: The table is annotating 'cell_labels', which is not present in the SpatialData object.\n",
      "  self.validate_table_in_spatialdata(v)\n"
     ]
    },
    {
     "name": "stdout",
     "output_type": "stream",
     "text": [
      "\u001b[34mINFO    \u001b[0m reading                                                                                                   \n",
      "         \u001b[35m/work/PRTNR/CHUV/DIR/rgottar1/spatial/env/xenium_paper/data/xenium/processed/segmentation/10x_mm_5um/NSCLC\u001b[0m\n",
      "         \u001b[35m/5k/1GQ9/1GQ9/normalised_results/outs/\u001b[0m\u001b[95mcell_feature_matrix.h5\u001b[0m                                              \n"
     ]
    },
    {
     "name": "stderr",
     "output_type": "stream",
     "text": [
      "/work/PRTNR/CHUV/DIR/rgottar1/spatial/env/jbac/miniforge3/envs/spatial/lib/python3.11/site-packages/spatialdata/_core/spatialdata.py:185: UserWarning: The table is annotating 'cell_labels', which is not present in the SpatialData object.\n",
      "  self.validate_table_in_spatialdata(v)\n"
     ]
    },
    {
     "name": "stdout",
     "output_type": "stream",
     "text": [
      "\u001b[34mINFO    \u001b[0m reading                                                                                                   \n",
      "         \u001b[35m/work/PRTNR/CHUV/DIR/rgottar1/spatial/env/xenium_paper/data/xenium/processed/segmentation/10x_mm_5um/NSCLC\u001b[0m\n",
      "         \u001b[35m/5k/1GVD/1GVD/normalised_results/outs/\u001b[0m\u001b[95mcell_feature_matrix.h5\u001b[0m                                              \n"
     ]
    },
    {
     "name": "stderr",
     "output_type": "stream",
     "text": [
      "/work/PRTNR/CHUV/DIR/rgottar1/spatial/env/jbac/miniforge3/envs/spatial/lib/python3.11/site-packages/spatialdata/_core/spatialdata.py:185: UserWarning: The table is annotating 'cell_labels', which is not present in the SpatialData object.\n",
      "  self.validate_table_in_spatialdata(v)\n"
     ]
    },
    {
     "name": "stdout",
     "output_type": "stream",
     "text": [
      "\u001b[34mINFO    \u001b[0m reading                                                                                                   \n",
      "         \u001b[35m/work/PRTNR/CHUV/DIR/rgottar1/spatial/env/xenium_paper/data/xenium/processed/segmentation/baysor/breast/br\u001b[0m\n",
      "         \u001b[35meast/1FYB/1FYB/normalised_results/outs/\u001b[0m\u001b[95mcell_feature_matrix.h5\u001b[0m                                             \n",
      "\u001b[34mINFO    \u001b[0m reading                                                                                                   \n",
      "         \u001b[35m/work/PRTNR/CHUV/DIR/rgottar1/spatial/env/xenium_paper/data/xenium/processed/segmentation/baysor/breast/br\u001b[0m\n",
      "         \u001b[35meast/OPHI/OPHI_3/normalised_results/outs/\u001b[0m\u001b[95mcell_feature_matrix.h5\u001b[0m                                           \n",
      "\u001b[34mINFO    \u001b[0m reading                                                                                                   \n",
      "         \u001b[35m/work/PRTNR/CHUV/DIR/rgottar1/spatial/env/xenium_paper/data/xenium/processed/segmentation/baysor/breast/br\u001b[0m\n",
      "         \u001b[35meast/OPHI/OPHI_1/normalised_results/outs/\u001b[0m\u001b[95mcell_feature_matrix.h5\u001b[0m                                           \n"
     ]
    },
    {
     "name": "stderr",
     "output_type": "stream",
     "text": [
      "/work/PRTNR/CHUV/DIR/rgottar1/spatial/env/jbac/miniforge3/envs/spatial/lib/python3.11/site-packages/spatialdata/_core/spatialdata.py:185: UserWarning: The table is annotating 'cell_labels', which is not present in the SpatialData object.\n",
      "  self.validate_table_in_spatialdata(v)\n"
     ]
    },
    {
     "name": "stdout",
     "output_type": "stream",
     "text": [
      "\u001b[34mINFO    \u001b[0m reading                                                                                                   \n",
      "         \u001b[35m/work/PRTNR/CHUV/DIR/rgottar1/spatial/env/xenium_paper/data/xenium/processed/segmentation/baysor/breast/br\u001b[0m\n",
      "         \u001b[35meast/OPHI/OPHI_2/normalised_results/outs/\u001b[0m\u001b[95mcell_feature_matrix.h5\u001b[0m                                           \n"
     ]
    },
    {
     "name": "stderr",
     "output_type": "stream",
     "text": [
      "/work/PRTNR/CHUV/DIR/rgottar1/spatial/env/jbac/miniforge3/envs/spatial/lib/python3.11/site-packages/spatialdata/_core/spatialdata.py:185: UserWarning: The table is annotating 'cell_labels', which is not present in the SpatialData object.\n",
      "  self.validate_table_in_spatialdata(v)\n"
     ]
    },
    {
     "name": "stdout",
     "output_type": "stream",
     "text": [
      "\u001b[34mINFO    \u001b[0m reading                                                                                                   \n",
      "         \u001b[35m/work/PRTNR/CHUV/DIR/rgottar1/spatial/env/xenium_paper/data/xenium/processed/segmentation/baysor/breast/br\u001b[0m\n",
      "         \u001b[35meast/1BCA/1BCA/normalised_results/outs/\u001b[0m\u001b[95mcell_feature_matrix.h5\u001b[0m                                             \n"
     ]
    },
    {
     "name": "stderr",
     "output_type": "stream",
     "text": [
      "/work/PRTNR/CHUV/DIR/rgottar1/spatial/env/jbac/miniforge3/envs/spatial/lib/python3.11/site-packages/spatialdata/_core/spatialdata.py:185: UserWarning: The table is annotating 'cell_labels', which is not present in the SpatialData object.\n",
      "  self.validate_table_in_spatialdata(v)\n",
      "/work/PRTNR/CHUV/DIR/rgottar1/spatial/env/jbac/miniforge3/envs/spatial/lib/python3.11/site-packages/spatialdata/_core/spatialdata.py:185: UserWarning: The table is annotating 'cell_labels', which is not present in the SpatialData object.\n",
      "  self.validate_table_in_spatialdata(v)\n",
      "/work/PRTNR/CHUV/DIR/rgottar1/spatial/env/jbac/miniforge3/envs/spatial/lib/python3.11/site-packages/spatialdata/_core/spatialdata.py:185: UserWarning: The table is annotating 'cell_labels', which is not present in the SpatialData object.\n",
      "  self.validate_table_in_spatialdata(v)\n",
      "/work/PRTNR/CHUV/DIR/rgottar1/spatial/env/jbac/miniforge3/envs/spatial/lib/python3.11/site-packages/spatialdata/_core/spatialdata.py:185: UserWarning: The table is annotating 'cell_labels', which is not present in the SpatialData object.\n",
      "  self.validate_table_in_spatialdata(v)\n",
      "/work/PRTNR/CHUV/DIR/rgottar1/spatial/env/jbac/miniforge3/envs/spatial/lib/python3.11/site-packages/spatialdata/_core/spatialdata.py:185: UserWarning: The table is annotating 'cell_labels', which is not present in the SpatialData object.\n",
      "  self.validate_table_in_spatialdata(v)\n",
      "/work/PRTNR/CHUV/DIR/rgottar1/spatial/env/jbac/miniforge3/envs/spatial/lib/python3.11/site-packages/spatialdata/_core/spatialdata.py:185: UserWarning: The table is annotating 'cell_labels', which is not present in the SpatialData object.\n",
      "  self.validate_table_in_spatialdata(v)\n",
      "/work/PRTNR/CHUV/DIR/rgottar1/spatial/env/jbac/miniforge3/envs/spatial/lib/python3.11/site-packages/spatialdata/_core/spatialdata.py:185: UserWarning: The table is annotating 'cell_labels', which is not present in the SpatialData object.\n",
      "  self.validate_table_in_spatialdata(v)\n",
      "/work/PRTNR/CHUV/DIR/rgottar1/spatial/env/jbac/miniforge3/envs/spatial/lib/python3.11/site-packages/spatialdata/_core/spatialdata.py:185: UserWarning: The table is annotating 'cell_labels', which is not present in the SpatialData object.\n",
      "  self.validate_table_in_spatialdata(v)\n"
     ]
    },
    {
     "name": "stdout",
     "output_type": "stream",
     "text": [
      "\u001b[34mINFO    \u001b[0m reading                                                                                                   \n",
      "         \u001b[35m/work/PRTNR/CHUV/DIR/rgottar1/spatial/env/xenium_paper/data/xenium/processed/segmentation/baysor/breast/br\u001b[0m\n",
      "         \u001b[35meast/0PD6/0PD6/normalised_results/outs/\u001b[0m\u001b[95mcell_feature_matrix.h5\u001b[0m                                             \n"
     ]
    },
    {
     "name": "stderr",
     "output_type": "stream",
     "text": [
      "/work/PRTNR/CHUV/DIR/rgottar1/spatial/env/jbac/miniforge3/envs/spatial/lib/python3.11/site-packages/spatialdata/_core/spatialdata.py:185: UserWarning: The table is annotating 'cell_labels', which is not present in the SpatialData object.\n",
      "  self.validate_table_in_spatialdata(v)\n",
      "/work/PRTNR/CHUV/DIR/rgottar1/spatial/env/jbac/miniforge3/envs/spatial/lib/python3.11/site-packages/spatialdata/_core/spatialdata.py:185: UserWarning: The table is annotating 'cell_labels', which is not present in the SpatialData object.\n",
      "  self.validate_table_in_spatialdata(v)\n"
     ]
    },
    {
     "name": "stdout",
     "output_type": "stream",
     "text": [
      "\u001b[34mINFO    \u001b[0m reading                                                                                                   \n",
      "         \u001b[35m/work/PRTNR/CHUV/DIR/rgottar1/spatial/env/xenium_paper/data/xenium/processed/segmentation/baysor/breast/br\u001b[0m\n",
      "         \u001b[35meast/1256/1256/normalised_results/outs/\u001b[0m\u001b[95mcell_feature_matrix.h5\u001b[0m                                             \n",
      "\u001b[34mINFO    \u001b[0m reading                                                                                                   \n",
      "         \u001b[35m/work/PRTNR/CHUV/DIR/rgottar1/spatial/env/xenium_paper/data/xenium/processed/segmentation/baysor/breast/br\u001b[0m\n",
      "         \u001b[35meast/1GV1/1GV1/normalised_results/outs/\u001b[0m\u001b[95mcell_feature_matrix.h5\u001b[0m                                             \n",
      "\u001b[34mINFO    \u001b[0m reading                                                                                                   \n",
      "         \u001b[35m/work/PRTNR/CHUV/DIR/rgottar1/spatial/env/xenium_paper/data/xenium/processed/segmentation/baysor/breast/br\u001b[0m\n",
      "         \u001b[35meast/1GVR/1GVR/normalised_results/outs/\u001b[0m\u001b[95mcell_feature_matrix.h5\u001b[0m                                             \n",
      "\u001b[34mINFO    \u001b[0m reading                                                                                                   \n",
      "         \u001b[35m/work/PRTNR/CHUV/DIR/rgottar1/spatial/env/xenium_paper/data/xenium/processed/segmentation/baysor/breast/br\u001b[0m\n",
      "         \u001b[35meast/1FHZ/1FHZ/normalised_results/outs/\u001b[0m\u001b[95mcell_feature_matrix.h5\u001b[0m                                             \n",
      "\u001b[34mINFO    \u001b[0m reading                                                                                                   \n",
      "         \u001b[35m/work/PRTNR/CHUV/DIR/rgottar1/spatial/env/xenium_paper/data/xenium/processed/segmentation/baysor/breast/br\u001b[0m\n",
      "         \u001b[35meast/0U9A/0U9A/normalised_results/outs/\u001b[0m\u001b[95mcell_feature_matrix.h5\u001b[0m                                             \n"
     ]
    },
    {
     "name": "stderr",
     "output_type": "stream",
     "text": [
      "/work/PRTNR/CHUV/DIR/rgottar1/spatial/env/jbac/miniforge3/envs/spatial/lib/python3.11/site-packages/spatialdata/_core/spatialdata.py:185: UserWarning: The table is annotating 'cell_labels', which is not present in the SpatialData object.\n",
      "  self.validate_table_in_spatialdata(v)\n",
      "/work/PRTNR/CHUV/DIR/rgottar1/spatial/env/jbac/miniforge3/envs/spatial/lib/python3.11/site-packages/spatialdata/_core/spatialdata.py:185: UserWarning: The table is annotating 'cell_labels', which is not present in the SpatialData object.\n",
      "  self.validate_table_in_spatialdata(v)\n",
      "/work/PRTNR/CHUV/DIR/rgottar1/spatial/env/jbac/miniforge3/envs/spatial/lib/python3.11/site-packages/spatialdata/_core/spatialdata.py:185: UserWarning: The table is annotating 'cell_labels', which is not present in the SpatialData object.\n",
      "  self.validate_table_in_spatialdata(v)\n",
      "/work/PRTNR/CHUV/DIR/rgottar1/spatial/env/jbac/miniforge3/envs/spatial/lib/python3.11/site-packages/spatialdata/_core/spatialdata.py:185: UserWarning: The table is annotating 'cell_labels', which is not present in the SpatialData object.\n",
      "  self.validate_table_in_spatialdata(v)\n",
      "/work/PRTNR/CHUV/DIR/rgottar1/spatial/env/jbac/miniforge3/envs/spatial/lib/python3.11/site-packages/spatialdata/_core/spatialdata.py:185: UserWarning: The table is annotating 'cell_labels', which is not present in the SpatialData object.\n",
      "  self.validate_table_in_spatialdata(v)\n",
      "/work/PRTNR/CHUV/DIR/rgottar1/spatial/env/jbac/miniforge3/envs/spatial/lib/python3.11/site-packages/spatialdata/_core/spatialdata.py:185: UserWarning: The table is annotating 'cell_labels', which is not present in the SpatialData object.\n",
      "  self.validate_table_in_spatialdata(v)\n"
     ]
    },
    {
     "name": "stdout",
     "output_type": "stream",
     "text": [
      "\u001b[34mINFO    \u001b[0m reading                                                                                                   \n",
      "         \u001b[35m/work/PRTNR/CHUV/DIR/rgottar1/spatial/env/xenium_paper/data/xenium/processed/segmentation/baysor/breast/br\u001b[0m\n",
      "         \u001b[35meast/1ESQ/1ESQ/normalised_results/outs/\u001b[0m\u001b[95mcell_feature_matrix.h5\u001b[0m                                             \n",
      "\u001b[34mINFO    \u001b[0m reading                                                                                                   \n",
      "         \u001b[35m/work/PRTNR/CHUV/DIR/rgottar1/spatial/env/xenium_paper/data/xenium/processed/segmentation/baysor/breast/br\u001b[0m\n",
      "         \u001b[35meast/0VRA/0VRA/normalised_results/outs/\u001b[0m\u001b[95mcell_feature_matrix.h5\u001b[0m                                             \n",
      "\u001b[34mINFO    \u001b[0m reading                                                                                                   \n",
      "         \u001b[35m/work/PRTNR/CHUV/DIR/rgottar1/spatial/env/xenium_paper/data/xenium/processed/segmentation/baysor/breast/br\u001b[0m\n",
      "         \u001b[35meast/14LZ/14LZ/normalised_results/outs/\u001b[0m\u001b[95mcell_feature_matrix.h5\u001b[0m                                             \n",
      "\u001b[34mINFO    \u001b[0m reading                                                                                                   \n",
      "         \u001b[35m/work/PRTNR/CHUV/DIR/rgottar1/spatial/env/xenium_paper/data/xenium/processed/segmentation/baysor/breast/br\u001b[0m\n",
      "         \u001b[35meast/1H27/1H27/normalised_results/outs/\u001b[0m\u001b[95mcell_feature_matrix.h5\u001b[0m                                             \n",
      "\u001b[34mINFO    \u001b[0m reading                                                                                                   \n",
      "         \u001b[35m/work/PRTNR/CHUV/DIR/rgottar1/spatial/env/xenium_paper/data/xenium/processed/segmentation/baysor/breast/br\u001b[0m\n",
      "         \u001b[35meast/1GUC/1GUC/normalised_results/outs/\u001b[0m\u001b[95mcell_feature_matrix.h5\u001b[0m                                             \n"
     ]
    },
    {
     "name": "stderr",
     "output_type": "stream",
     "text": [
      "/work/PRTNR/CHUV/DIR/rgottar1/spatial/env/jbac/miniforge3/envs/spatial/lib/python3.11/site-packages/spatialdata/_core/spatialdata.py:185: UserWarning: The table is annotating 'cell_labels', which is not present in the SpatialData object.\n",
      "  self.validate_table_in_spatialdata(v)\n"
     ]
    },
    {
     "name": "stdout",
     "output_type": "stream",
     "text": [
      "\u001b[34mINFO    \u001b[0m reading                                                                                                   \n",
      "         \u001b[35m/work/PRTNR/CHUV/DIR/rgottar1/spatial/env/xenium_paper/data/xenium/processed/segmentation/baysor/breast/br\u001b[0m\n",
      "         \u001b[35meast/0OE1/0OE1/normalised_results/outs/\u001b[0m\u001b[95mcell_feature_matrix.h5\u001b[0m                                             \n"
     ]
    },
    {
     "name": "stderr",
     "output_type": "stream",
     "text": [
      "/work/PRTNR/CHUV/DIR/rgottar1/spatial/env/jbac/miniforge3/envs/spatial/lib/python3.11/site-packages/spatialdata/_core/spatialdata.py:185: UserWarning: The table is annotating 'cell_labels', which is not present in the SpatialData object.\n",
      "  self.validate_table_in_spatialdata(v)\n",
      "/work/PRTNR/CHUV/DIR/rgottar1/spatial/env/jbac/miniforge3/envs/spatial/lib/python3.11/site-packages/spatialdata/_core/spatialdata.py:185: UserWarning: The table is annotating 'cell_labels', which is not present in the SpatialData object.\n",
      "  self.validate_table_in_spatialdata(v)\n",
      "/work/PRTNR/CHUV/DIR/rgottar1/spatial/env/jbac/miniforge3/envs/spatial/lib/python3.11/site-packages/spatialdata/_core/spatialdata.py:185: UserWarning: The table is annotating 'cell_labels', which is not present in the SpatialData object.\n",
      "  self.validate_table_in_spatialdata(v)\n"
     ]
    },
    {
     "name": "stdout",
     "output_type": "stream",
     "text": [
      "\u001b[34mINFO    \u001b[0m reading                                                                                                   \n",
      "         \u001b[35m/work/PRTNR/CHUV/DIR/rgottar1/spatial/env/xenium_paper/data/xenium/processed/segmentation/baysor/breast/br\u001b[0m\n",
      "         \u001b[35meast/19TB/19TB/normalised_results/outs/\u001b[0m\u001b[95mcell_feature_matrix.h5\u001b[0m                                             \n"
     ]
    },
    {
     "name": "stderr",
     "output_type": "stream",
     "text": [
      "/work/PRTNR/CHUV/DIR/rgottar1/spatial/env/jbac/miniforge3/envs/spatial/lib/python3.11/site-packages/spatialdata/_core/spatialdata.py:185: UserWarning: The table is annotating 'cell_labels', which is not present in the SpatialData object.\n",
      "  self.validate_table_in_spatialdata(v)\n"
     ]
    },
    {
     "name": "stdout",
     "output_type": "stream",
     "text": [
      "\u001b[34mINFO    \u001b[0m reading                                                                                                   \n",
      "         \u001b[35m/work/PRTNR/CHUV/DIR/rgottar1/spatial/env/xenium_paper/data/xenium/processed/segmentation/baysor/breast/br\u001b[0m\n",
      "         \u001b[35meast/1FO7/1FO7/normalised_results/outs/\u001b[0m\u001b[95mcell_feature_matrix.h5\u001b[0m                                             \n",
      "\u001b[34mINFO    \u001b[0m reading                                                                                                   \n",
      "         \u001b[35m/work/PRTNR/CHUV/DIR/rgottar1/spatial/env/xenium_paper/data/xenium/processed/segmentation/baysor/NSCLC/lun\u001b[0m\n",
      "         \u001b[35mg/1GA2/1GA2/normalised_results/outs/\u001b[0m\u001b[95mcell_feature_matrix.h5\u001b[0m                                                \n",
      "\u001b[34mINFO    \u001b[0m reading                                                                                                   \n",
      "         \u001b[35m/work/PRTNR/CHUV/DIR/rgottar1/spatial/env/xenium_paper/data/xenium/processed/segmentation/baysor/NSCLC/lun\u001b[0m\n",
      "         \u001b[35mg/0PSV/0PSV/normalised_results/outs/\u001b[0m\u001b[95mcell_feature_matrix.h5\u001b[0m                                                \n"
     ]
    },
    {
     "name": "stderr",
     "output_type": "stream",
     "text": [
      "/work/PRTNR/CHUV/DIR/rgottar1/spatial/env/jbac/miniforge3/envs/spatial/lib/python3.11/site-packages/spatialdata/_core/spatialdata.py:185: UserWarning: The table is annotating 'cell_labels', which is not present in the SpatialData object.\n",
      "  self.validate_table_in_spatialdata(v)\n"
     ]
    },
    {
     "name": "stdout",
     "output_type": "stream",
     "text": [
      "\u001b[34mINFO    \u001b[0m reading                                                                                                   \n",
      "         \u001b[35m/work/PRTNR/CHUV/DIR/rgottar1/spatial/env/xenium_paper/data/xenium/processed/segmentation/baysor/NSCLC/lun\u001b[0m\n",
      "         \u001b[35mg/0S8R/0S8R/normalised_results/outs/\u001b[0m\u001b[95mcell_feature_matrix.h5\u001b[0m                                                \n",
      "\u001b[34mINFO    \u001b[0m reading                                                                                                   \n",
      "         \u001b[35m/work/PRTNR/CHUV/DIR/rgottar1/spatial/env/xenium_paper/data/xenium/processed/segmentation/baysor/NSCLC/lun\u001b[0m\n",
      "         \u001b[35mg/1G73/1G73_1/normalised_results/outs/\u001b[0m\u001b[95mcell_feature_matrix.h5\u001b[0m                                              \n",
      "\u001b[34mINFO    \u001b[0m reading                                                                                                   \n",
      "         \u001b[35m/work/PRTNR/CHUV/DIR/rgottar1/spatial/env/xenium_paper/data/xenium/processed/segmentation/baysor/NSCLC/lun\u001b[0m\n",
      "         \u001b[35mg/1G73/1G73_2/normalised_results/outs/\u001b[0m\u001b[95mcell_feature_matrix.h5\u001b[0m                                              \n"
     ]
    },
    {
     "name": "stderr",
     "output_type": "stream",
     "text": [
      "/work/PRTNR/CHUV/DIR/rgottar1/spatial/env/jbac/miniforge3/envs/spatial/lib/python3.11/site-packages/spatialdata/_core/spatialdata.py:185: UserWarning: The table is annotating 'cell_labels', which is not present in the SpatialData object.\n",
      "  self.validate_table_in_spatialdata(v)\n",
      "/work/PRTNR/CHUV/DIR/rgottar1/spatial/env/jbac/miniforge3/envs/spatial/lib/python3.11/site-packages/spatialdata/_core/spatialdata.py:185: UserWarning: The table is annotating 'cell_labels', which is not present in the SpatialData object.\n",
      "  self.validate_table_in_spatialdata(v)\n"
     ]
    },
    {
     "name": "stdout",
     "output_type": "stream",
     "text": [
      "\u001b[34mINFO    \u001b[0m reading                                                                                                   \n",
      "         \u001b[35m/work/PRTNR/CHUV/DIR/rgottar1/spatial/env/xenium_paper/data/xenium/processed/segmentation/baysor/NSCLC/lun\u001b[0m\n",
      "         \u001b[35mg/1GDD/1GDD/normalised_results/outs/\u001b[0m\u001b[95mcell_feature_matrix.h5\u001b[0m                                                \n",
      "\u001b[34mINFO    \u001b[0m reading                                                                                                   \n",
      "         \u001b[35m/work/PRTNR/CHUV/DIR/rgottar1/spatial/env/xenium_paper/data/xenium/processed/segmentation/baysor/NSCLC/lun\u001b[0m\n",
      "         \u001b[35mg/1GFF/1GFF/normalised_results/outs/\u001b[0m\u001b[95mcell_feature_matrix.h5\u001b[0m                                                \n"
     ]
    },
    {
     "name": "stderr",
     "output_type": "stream",
     "text": [
      "/work/PRTNR/CHUV/DIR/rgottar1/spatial/env/jbac/miniforge3/envs/spatial/lib/python3.11/site-packages/spatialdata/_core/spatialdata.py:185: UserWarning: The table is annotating 'cell_labels', which is not present in the SpatialData object.\n",
      "  self.validate_table_in_spatialdata(v)\n"
     ]
    },
    {
     "name": "stdout",
     "output_type": "stream",
     "text": [
      "\u001b[34mINFO    \u001b[0m reading                                                                                                   \n",
      "         \u001b[35m/work/PRTNR/CHUV/DIR/rgottar1/spatial/env/xenium_paper/data/xenium/processed/segmentation/baysor/NSCLC/lun\u001b[0m\n",
      "         \u001b[35mg/1GAC/1GAC/normalised_results/outs/\u001b[0m\u001b[95mcell_feature_matrix.h5\u001b[0m                                                \n",
      "\u001b[34mINFO    \u001b[0m reading                                                                                                   \n",
      "         \u001b[35m/work/PRTNR/CHUV/DIR/rgottar1/spatial/env/xenium_paper/data/xenium/processed/segmentation/baysor/NSCLC/lun\u001b[0m\n",
      "         \u001b[35mg/0WMU/0WMU/normalised_results/outs/\u001b[0m\u001b[95mcell_feature_matrix.h5\u001b[0m                                                \n"
     ]
    },
    {
     "name": "stderr",
     "output_type": "stream",
     "text": [
      "/work/PRTNR/CHUV/DIR/rgottar1/spatial/env/jbac/miniforge3/envs/spatial/lib/python3.11/site-packages/spatialdata/_core/spatialdata.py:185: UserWarning: The table is annotating 'cell_labels', which is not present in the SpatialData object.\n",
      "  self.validate_table_in_spatialdata(v)\n",
      "/work/PRTNR/CHUV/DIR/rgottar1/spatial/env/jbac/miniforge3/envs/spatial/lib/python3.11/site-packages/spatialdata/_core/spatialdata.py:185: UserWarning: The table is annotating 'cell_labels', which is not present in the SpatialData object.\n",
      "  self.validate_table_in_spatialdata(v)\n",
      "/work/PRTNR/CHUV/DIR/rgottar1/spatial/env/jbac/miniforge3/envs/spatial/lib/python3.11/site-packages/spatialdata/_core/spatialdata.py:185: UserWarning: The table is annotating 'cell_labels', which is not present in the SpatialData object.\n",
      "  self.validate_table_in_spatialdata(v)\n",
      "/work/PRTNR/CHUV/DIR/rgottar1/spatial/env/jbac/miniforge3/envs/spatial/lib/python3.11/site-packages/spatialdata/_core/spatialdata.py:185: UserWarning: The table is annotating 'cell_labels', which is not present in the SpatialData object.\n",
      "  self.validate_table_in_spatialdata(v)\n",
      "/work/PRTNR/CHUV/DIR/rgottar1/spatial/env/jbac/miniforge3/envs/spatial/lib/python3.11/site-packages/spatialdata/_core/spatialdata.py:185: UserWarning: The table is annotating 'cell_labels', which is not present in the SpatialData object.\n",
      "  self.validate_table_in_spatialdata(v)\n",
      "/work/PRTNR/CHUV/DIR/rgottar1/spatial/env/jbac/miniforge3/envs/spatial/lib/python3.11/site-packages/spatialdata/_core/spatialdata.py:185: UserWarning: The table is annotating 'cell_labels', which is not present in the SpatialData object.\n",
      "  self.validate_table_in_spatialdata(v)\n"
     ]
    },
    {
     "name": "stdout",
     "output_type": "stream",
     "text": [
      "\u001b[34mINFO    \u001b[0m reading                                                                                                   \n",
      "         \u001b[35m/work/PRTNR/CHUV/DIR/rgottar1/spatial/env/xenium_paper/data/xenium/processed/segmentation/baysor/NSCLC/lun\u001b[0m\n",
      "         \u001b[35mg/1GQ9/1GQ9/normalised_results/outs/\u001b[0m\u001b[95mcell_feature_matrix.h5\u001b[0m                                                \n",
      "\u001b[34mINFO    \u001b[0m reading                                                                                                   \n",
      "         \u001b[35m/work/PRTNR/CHUV/DIR/rgottar1/spatial/env/xenium_paper/data/xenium/processed/segmentation/baysor/NSCLC/lun\u001b[0m\n",
      "         \u001b[35mg/1GVD/1GVD/normalised_results/outs/\u001b[0m\u001b[95mcell_feature_matrix.h5\u001b[0m                                                \n"
     ]
    },
    {
     "name": "stderr",
     "output_type": "stream",
     "text": [
      "/work/PRTNR/CHUV/DIR/rgottar1/spatial/env/jbac/miniforge3/envs/spatial/lib/python3.11/site-packages/spatialdata/_core/spatialdata.py:185: UserWarning: The table is annotating 'cell_labels', which is not present in the SpatialData object.\n",
      "  self.validate_table_in_spatialdata(v)\n",
      "/work/PRTNR/CHUV/DIR/rgottar1/spatial/env/jbac/miniforge3/envs/spatial/lib/python3.11/site-packages/spatialdata/_core/spatialdata.py:185: UserWarning: The table is annotating 'cell_labels', which is not present in the SpatialData object.\n",
      "  self.validate_table_in_spatialdata(v)\n",
      "/work/PRTNR/CHUV/DIR/rgottar1/spatial/env/jbac/miniforge3/envs/spatial/lib/python3.11/site-packages/spatialdata/_core/spatialdata.py:185: UserWarning: The table is annotating 'cell_labels', which is not present in the SpatialData object.\n",
      "  self.validate_table_in_spatialdata(v)\n"
     ]
    },
    {
     "name": "stdout",
     "output_type": "stream",
     "text": [
      "\u001b[34mINFO    \u001b[0m reading                                                                                                   \n",
      "         \u001b[35m/work/PRTNR/CHUV/DIR/rgottar1/spatial/env/xenium_paper/data/xenium/processed/segmentation/baysor/NSCLC/chu\u001b[0m\n",
      "         \u001b[35mvio/1GA2/1GA2/normalised_results/outs/\u001b[0m\u001b[95mcell_feature_matrix.h5\u001b[0m                                              \n",
      "\u001b[34mINFO    \u001b[0m reading                                                                                                   \n",
      "         \u001b[35m/work/PRTNR/CHUV/DIR/rgottar1/spatial/env/xenium_paper/data/xenium/processed/segmentation/baysor/NSCLC/chu\u001b[0m\n",
      "         \u001b[35mvio/0PSV/0PSV_1/normalised_results/outs/\u001b[0m\u001b[95mcell_feature_matrix.h5\u001b[0m                                            \n",
      "\u001b[34mINFO    \u001b[0m reading                                                                                                   \n",
      "         \u001b[35m/work/PRTNR/CHUV/DIR/rgottar1/spatial/env/xenium_paper/data/xenium/processed/segmentation/baysor/NSCLC/chu\u001b[0m\n",
      "         \u001b[35mvio/0PSV/0PSV_2/normalised_results/outs/\u001b[0m\u001b[95mcell_feature_matrix.h5\u001b[0m                                            \n",
      "\u001b[34mINFO    \u001b[0m reading                                                                                                   \n",
      "         \u001b[35m/work/PRTNR/CHUV/DIR/rgottar1/spatial/env/xenium_paper/data/xenium/processed/segmentation/baysor/NSCLC/chu\u001b[0m\n",
      "         \u001b[35mvio/1G73/1G73/normalised_results/outs/\u001b[0m\u001b[95mcell_feature_matrix.h5\u001b[0m                                              \n"
     ]
    },
    {
     "name": "stderr",
     "output_type": "stream",
     "text": [
      "/work/PRTNR/CHUV/DIR/rgottar1/spatial/env/jbac/miniforge3/envs/spatial/lib/python3.11/site-packages/spatialdata/_core/spatialdata.py:185: UserWarning: The table is annotating 'cell_labels', which is not present in the SpatialData object.\n",
      "  self.validate_table_in_spatialdata(v)\n",
      "/work/PRTNR/CHUV/DIR/rgottar1/spatial/env/jbac/miniforge3/envs/spatial/lib/python3.11/site-packages/spatialdata/_core/spatialdata.py:185: UserWarning: The table is annotating 'cell_labels', which is not present in the SpatialData object.\n",
      "  self.validate_table_in_spatialdata(v)\n",
      "/work/PRTNR/CHUV/DIR/rgottar1/spatial/env/jbac/miniforge3/envs/spatial/lib/python3.11/site-packages/spatialdata/_core/spatialdata.py:185: UserWarning: The table is annotating 'cell_labels', which is not present in the SpatialData object.\n",
      "  self.validate_table_in_spatialdata(v)\n",
      "/work/PRTNR/CHUV/DIR/rgottar1/spatial/env/jbac/miniforge3/envs/spatial/lib/python3.11/site-packages/spatialdata/_core/spatialdata.py:185: UserWarning: The table is annotating 'cell_labels', which is not present in the SpatialData object.\n",
      "  self.validate_table_in_spatialdata(v)\n"
     ]
    },
    {
     "name": "stdout",
     "output_type": "stream",
     "text": [
      "\u001b[34mINFO    \u001b[0m reading                                                                                                   \n",
      "         \u001b[35m/work/PRTNR/CHUV/DIR/rgottar1/spatial/env/xenium_paper/data/xenium/processed/segmentation/baysor/NSCLC/chu\u001b[0m\n",
      "         \u001b[35mvio/0WMU/0WMU/normalised_results/outs/\u001b[0m\u001b[95mcell_feature_matrix.h5\u001b[0m                                              \n",
      "\u001b[34mINFO    \u001b[0m reading                                                                                                   \n",
      "         \u001b[35m/work/PRTNR/CHUV/DIR/rgottar1/spatial/env/xenium_paper/data/xenium/processed/segmentation/baysor/NSCLC/5k/\u001b[0m\n",
      "         \u001b[35m0PSV/0PSV/normalised_results/outs/\u001b[0m\u001b[95mcell_feature_matrix.h5\u001b[0m                                                  \n",
      "\u001b[34mINFO    \u001b[0m reading                                                                                                   \n",
      "         \u001b[35m/work/PRTNR/CHUV/DIR/rgottar1/spatial/env/xenium_paper/data/xenium/processed/segmentation/baysor/NSCLC/5k/\u001b[0m\n",
      "         \u001b[35m1GDD/1GDD/normalised_results/outs/\u001b[0m\u001b[95mcell_feature_matrix.h5\u001b[0m                                                  \n",
      "\u001b[34mINFO    \u001b[0m reading                                                                                                   \n",
      "         \u001b[35m/work/PRTNR/CHUV/DIR/rgottar1/spatial/env/xenium_paper/data/xenium/processed/segmentation/baysor/NSCLC/5k/\u001b[0m\n",
      "         \u001b[35m1GAC/1GAC/normalised_results/outs/\u001b[0m\u001b[95mcell_feature_matrix.h5\u001b[0m                                                  \n",
      "\u001b[34mINFO    \u001b[0m reading                                                                                                   \n",
      "         \u001b[35m/work/PRTNR/CHUV/DIR/rgottar1/spatial/env/xenium_paper/data/xenium/processed/segmentation/baysor/NSCLC/5k/\u001b[0m\n",
      "         \u001b[35m1GQ9/1GQ9/normalised_results/outs/\u001b[0m\u001b[95mcell_feature_matrix.h5\u001b[0m                                                  \n",
      "\u001b[34mINFO    \u001b[0m reading                                                                                                   \n",
      "         \u001b[35m/work/PRTNR/CHUV/DIR/rgottar1/spatial/env/xenium_paper/data/xenium/processed/segmentation/baysor/NSCLC/5k/\u001b[0m\n",
      "         \u001b[35m1GVD/1GVD/normalised_results/outs/\u001b[0m\u001b[95mcell_feature_matrix.h5\u001b[0m                                                  \n"
     ]
    },
    {
     "name": "stderr",
     "output_type": "stream",
     "text": [
      "/work/PRTNR/CHUV/DIR/rgottar1/spatial/env/jbac/miniforge3/envs/spatial/lib/python3.11/site-packages/spatialdata/_core/spatialdata.py:185: UserWarning: The table is annotating 'cell_labels', which is not present in the SpatialData object.\n",
      "  self.validate_table_in_spatialdata(v)\n",
      "/work/PRTNR/CHUV/DIR/rgottar1/spatial/env/jbac/miniforge3/envs/spatial/lib/python3.11/site-packages/spatialdata/_core/spatialdata.py:185: UserWarning: The table is annotating 'cell_labels', which is not present in the SpatialData object.\n",
      "  self.validate_table_in_spatialdata(v)\n",
      "/work/PRTNR/CHUV/DIR/rgottar1/spatial/env/jbac/miniforge3/envs/spatial/lib/python3.11/site-packages/spatialdata/_core/spatialdata.py:185: UserWarning: The table is annotating 'cell_labels', which is not present in the SpatialData object.\n",
      "  self.validate_table_in_spatialdata(v)\n"
     ]
    },
    {
     "name": "stdout",
     "output_type": "stream",
     "text": [
      "\u001b[34mINFO    \u001b[0m reading                                                                                                   \n",
      "         \u001b[35m/work/PRTNR/CHUV/DIR/rgottar1/spatial/env/xenium_paper/data/xenium/processed/segmentation/proseg/breast/br\u001b[0m\n",
      "         \u001b[35meast/1FYB/1FYB/normalised_results/outs/\u001b[0m\u001b[95mcell_feature_matrix.h5\u001b[0m                                             \n"
     ]
    },
    {
     "name": "stderr",
     "output_type": "stream",
     "text": [
      "/work/PRTNR/CHUV/DIR/rgottar1/spatial/env/jbac/miniforge3/envs/spatial/lib/python3.11/site-packages/spatialdata/_core/spatialdata.py:185: UserWarning: The table is annotating 'cell_labels', which is not present in the SpatialData object.\n",
      "  self.validate_table_in_spatialdata(v)\n",
      "/work/PRTNR/CHUV/DIR/rgottar1/spatial/env/jbac/miniforge3/envs/spatial/lib/python3.11/site-packages/spatialdata/_core/spatialdata.py:185: UserWarning: The table is annotating 'cell_labels', which is not present in the SpatialData object.\n",
      "  self.validate_table_in_spatialdata(v)\n",
      "/work/PRTNR/CHUV/DIR/rgottar1/spatial/env/jbac/miniforge3/envs/spatial/lib/python3.11/site-packages/spatialdata/_core/spatialdata.py:185: UserWarning: The table is annotating 'cell_labels', which is not present in the SpatialData object.\n",
      "  self.validate_table_in_spatialdata(v)\n"
     ]
    },
    {
     "name": "stdout",
     "output_type": "stream",
     "text": [
      "\u001b[34mINFO    \u001b[0m reading                                                                                                   \n",
      "         \u001b[35m/work/PRTNR/CHUV/DIR/rgottar1/spatial/env/xenium_paper/data/xenium/processed/segmentation/proseg/breast/br\u001b[0m\n",
      "         \u001b[35meast/OPHI/OPHI_3/normalised_results/outs/\u001b[0m\u001b[95mcell_feature_matrix.h5\u001b[0m                                           \n"
     ]
    },
    {
     "name": "stderr",
     "output_type": "stream",
     "text": [
      "/work/PRTNR/CHUV/DIR/rgottar1/spatial/env/jbac/miniforge3/envs/spatial/lib/python3.11/site-packages/spatialdata/_core/spatialdata.py:185: UserWarning: The table is annotating 'cell_labels', which is not present in the SpatialData object.\n",
      "  self.validate_table_in_spatialdata(v)\n"
     ]
    },
    {
     "name": "stdout",
     "output_type": "stream",
     "text": [
      "\u001b[34mINFO    \u001b[0m reading                                                                                                   \n",
      "         \u001b[35m/work/PRTNR/CHUV/DIR/rgottar1/spatial/env/xenium_paper/data/xenium/processed/segmentation/proseg/breast/br\u001b[0m\n",
      "         \u001b[35meast/OPHI/OPHI_1/normalised_results/outs/\u001b[0m\u001b[95mcell_feature_matrix.h5\u001b[0m                                           \n"
     ]
    },
    {
     "name": "stderr",
     "output_type": "stream",
     "text": [
      "/work/PRTNR/CHUV/DIR/rgottar1/spatial/env/jbac/miniforge3/envs/spatial/lib/python3.11/site-packages/spatialdata/_core/spatialdata.py:185: UserWarning: The table is annotating 'cell_labels', which is not present in the SpatialData object.\n",
      "  self.validate_table_in_spatialdata(v)\n"
     ]
    },
    {
     "name": "stdout",
     "output_type": "stream",
     "text": [
      "\u001b[34mINFO    \u001b[0m reading                                                                                                   \n",
      "         \u001b[35m/work/PRTNR/CHUV/DIR/rgottar1/spatial/env/xenium_paper/data/xenium/processed/segmentation/proseg/breast/br\u001b[0m\n",
      "         \u001b[35meast/OPHI/OPHI_2/normalised_results/outs/\u001b[0m\u001b[95mcell_feature_matrix.h5\u001b[0m                                           \n",
      "\u001b[34mINFO    \u001b[0m reading                                                                                                   \n",
      "         \u001b[35m/work/PRTNR/CHUV/DIR/rgottar1/spatial/env/xenium_paper/data/xenium/processed/segmentation/proseg/breast/br\u001b[0m\n",
      "         \u001b[35meast/1BCA/1BCA/normalised_results/outs/\u001b[0m\u001b[95mcell_feature_matrix.h5\u001b[0m                                             \n",
      "\u001b[34mINFO    \u001b[0m reading                                                                                                   \n",
      "         \u001b[35m/work/PRTNR/CHUV/DIR/rgottar1/spatial/env/xenium_paper/data/xenium/processed/segmentation/proseg/breast/br\u001b[0m\n",
      "         \u001b[35meast/0PD6/0PD6/normalised_results/outs/\u001b[0m\u001b[95mcell_feature_matrix.h5\u001b[0m                                             \n"
     ]
    },
    {
     "name": "stderr",
     "output_type": "stream",
     "text": [
      "/work/PRTNR/CHUV/DIR/rgottar1/spatial/env/jbac/miniforge3/envs/spatial/lib/python3.11/site-packages/spatialdata/_core/spatialdata.py:185: UserWarning: The table is annotating 'cell_labels', which is not present in the SpatialData object.\n",
      "  self.validate_table_in_spatialdata(v)\n"
     ]
    },
    {
     "name": "stdout",
     "output_type": "stream",
     "text": [
      "\u001b[34mINFO    \u001b[0m reading                                                                                                   \n",
      "         \u001b[35m/work/PRTNR/CHUV/DIR/rgottar1/spatial/env/xenium_paper/data/xenium/processed/segmentation/proseg/breast/br\u001b[0m\n",
      "         \u001b[35meast/1256/1256/normalised_results/outs/\u001b[0m\u001b[95mcell_feature_matrix.h5\u001b[0m                                             \n"
     ]
    },
    {
     "name": "stderr",
     "output_type": "stream",
     "text": [
      "/work/PRTNR/CHUV/DIR/rgottar1/spatial/env/jbac/miniforge3/envs/spatial/lib/python3.11/site-packages/spatialdata/_core/spatialdata.py:185: UserWarning: The table is annotating 'cell_labels', which is not present in the SpatialData object.\n",
      "  self.validate_table_in_spatialdata(v)\n",
      "/work/PRTNR/CHUV/DIR/rgottar1/spatial/env/jbac/miniforge3/envs/spatial/lib/python3.11/site-packages/spatialdata/_core/spatialdata.py:185: UserWarning: The table is annotating 'cell_labels', which is not present in the SpatialData object.\n",
      "  self.validate_table_in_spatialdata(v)\n",
      "/work/PRTNR/CHUV/DIR/rgottar1/spatial/env/jbac/miniforge3/envs/spatial/lib/python3.11/site-packages/spatialdata/_core/spatialdata.py:185: UserWarning: The table is annotating 'cell_labels', which is not present in the SpatialData object.\n",
      "  self.validate_table_in_spatialdata(v)\n",
      "/work/PRTNR/CHUV/DIR/rgottar1/spatial/env/jbac/miniforge3/envs/spatial/lib/python3.11/site-packages/spatialdata/_core/spatialdata.py:185: UserWarning: The table is annotating 'cell_labels', which is not present in the SpatialData object.\n",
      "  self.validate_table_in_spatialdata(v)\n"
     ]
    },
    {
     "name": "stdout",
     "output_type": "stream",
     "text": [
      "\u001b[34mINFO    \u001b[0m reading                                                                                                   \n",
      "         \u001b[35m/work/PRTNR/CHUV/DIR/rgottar1/spatial/env/xenium_paper/data/xenium/processed/segmentation/proseg/breast/br\u001b[0m\n",
      "         \u001b[35meast/1GV1/1GV1/normalised_results/outs/\u001b[0m\u001b[95mcell_feature_matrix.h5\u001b[0m                                             \n"
     ]
    },
    {
     "name": "stderr",
     "output_type": "stream",
     "text": [
      "/work/PRTNR/CHUV/DIR/rgottar1/spatial/env/jbac/miniforge3/envs/spatial/lib/python3.11/site-packages/spatialdata/_core/spatialdata.py:185: UserWarning: The table is annotating 'cell_labels', which is not present in the SpatialData object.\n",
      "  self.validate_table_in_spatialdata(v)\n"
     ]
    },
    {
     "name": "stdout",
     "output_type": "stream",
     "text": [
      "\u001b[34mINFO    \u001b[0m reading                                                                                                   \n",
      "         \u001b[35m/work/PRTNR/CHUV/DIR/rgottar1/spatial/env/xenium_paper/data/xenium/processed/segmentation/proseg/breast/br\u001b[0m\n",
      "         \u001b[35meast/1GVR/1GVR/normalised_results/outs/\u001b[0m\u001b[95mcell_feature_matrix.h5\u001b[0m                                             \n",
      "\u001b[34mINFO    \u001b[0m reading                                                                                                   \n",
      "         \u001b[35m/work/PRTNR/CHUV/DIR/rgottar1/spatial/env/xenium_paper/data/xenium/processed/segmentation/proseg/breast/br\u001b[0m\n",
      "         \u001b[35meast/1FHZ/1FHZ/normalised_results/outs/\u001b[0m\u001b[95mcell_feature_matrix.h5\u001b[0m                                             \n"
     ]
    },
    {
     "name": "stderr",
     "output_type": "stream",
     "text": [
      "/work/PRTNR/CHUV/DIR/rgottar1/spatial/env/jbac/miniforge3/envs/spatial/lib/python3.11/site-packages/spatialdata/_core/spatialdata.py:185: UserWarning: The table is annotating 'cell_labels', which is not present in the SpatialData object.\n",
      "  self.validate_table_in_spatialdata(v)\n",
      "/work/PRTNR/CHUV/DIR/rgottar1/spatial/env/jbac/miniforge3/envs/spatial/lib/python3.11/site-packages/spatialdata/_core/spatialdata.py:185: UserWarning: The table is annotating 'cell_labels', which is not present in the SpatialData object.\n",
      "  self.validate_table_in_spatialdata(v)\n"
     ]
    },
    {
     "name": "stdout",
     "output_type": "stream",
     "text": [
      "\u001b[34mINFO    \u001b[0m reading                                                                                                   \n",
      "         \u001b[35m/work/PRTNR/CHUV/DIR/rgottar1/spatial/env/xenium_paper/data/xenium/processed/segmentation/proseg/breast/br\u001b[0m\n",
      "         \u001b[35meast/0U9A/0U9A/normalised_results/outs/\u001b[0m\u001b[95mcell_feature_matrix.h5\u001b[0m                                             \n",
      "\u001b[34mINFO    \u001b[0m reading                                                                                                   \n",
      "         \u001b[35m/work/PRTNR/CHUV/DIR/rgottar1/spatial/env/xenium_paper/data/xenium/processed/segmentation/proseg/breast/br\u001b[0m\n",
      "         \u001b[35meast/1ESQ/1ESQ/normalised_results/outs/\u001b[0m\u001b[95mcell_feature_matrix.h5\u001b[0m                                             \n"
     ]
    },
    {
     "name": "stderr",
     "output_type": "stream",
     "text": [
      "/work/PRTNR/CHUV/DIR/rgottar1/spatial/env/jbac/miniforge3/envs/spatial/lib/python3.11/site-packages/spatialdata/_core/spatialdata.py:185: UserWarning: The table is annotating 'cell_labels', which is not present in the SpatialData object.\n",
      "  self.validate_table_in_spatialdata(v)\n",
      "/work/PRTNR/CHUV/DIR/rgottar1/spatial/env/jbac/miniforge3/envs/spatial/lib/python3.11/site-packages/spatialdata/_core/spatialdata.py:185: UserWarning: The table is annotating 'cell_labels', which is not present in the SpatialData object.\n",
      "  self.validate_table_in_spatialdata(v)\n",
      "/work/PRTNR/CHUV/DIR/rgottar1/spatial/env/jbac/miniforge3/envs/spatial/lib/python3.11/site-packages/spatialdata/_core/spatialdata.py:185: UserWarning: The table is annotating 'cell_labels', which is not present in the SpatialData object.\n",
      "  self.validate_table_in_spatialdata(v)\n"
     ]
    },
    {
     "name": "stdout",
     "output_type": "stream",
     "text": [
      "\u001b[34mINFO    \u001b[0m reading                                                                                                   \n",
      "         \u001b[35m/work/PRTNR/CHUV/DIR/rgottar1/spatial/env/xenium_paper/data/xenium/processed/segmentation/proseg/breast/br\u001b[0m\n",
      "         \u001b[35meast/0VRA/0VRA/normalised_results/outs/\u001b[0m\u001b[95mcell_feature_matrix.h5\u001b[0m                                             \n",
      "\u001b[34mINFO    \u001b[0m reading                                                                                                   \n",
      "         \u001b[35m/work/PRTNR/CHUV/DIR/rgottar1/spatial/env/xenium_paper/data/xenium/processed/segmentation/proseg/breast/br\u001b[0m\n",
      "         \u001b[35meast/14LZ/14LZ/normalised_results/outs/\u001b[0m\u001b[95mcell_feature_matrix.h5\u001b[0m                                             \n"
     ]
    },
    {
     "name": "stderr",
     "output_type": "stream",
     "text": [
      "/work/PRTNR/CHUV/DIR/rgottar1/spatial/env/jbac/miniforge3/envs/spatial/lib/python3.11/site-packages/spatialdata/_core/spatialdata.py:185: UserWarning: The table is annotating 'cell_labels', which is not present in the SpatialData object.\n",
      "  self.validate_table_in_spatialdata(v)\n",
      "/work/PRTNR/CHUV/DIR/rgottar1/spatial/env/jbac/miniforge3/envs/spatial/lib/python3.11/site-packages/spatialdata/_core/spatialdata.py:185: UserWarning: The table is annotating 'cell_labels', which is not present in the SpatialData object.\n",
      "  self.validate_table_in_spatialdata(v)\n"
     ]
    },
    {
     "name": "stdout",
     "output_type": "stream",
     "text": [
      "\u001b[34mINFO    \u001b[0m reading                                                                                                   \n",
      "         \u001b[35m/work/PRTNR/CHUV/DIR/rgottar1/spatial/env/xenium_paper/data/xenium/processed/segmentation/proseg/breast/br\u001b[0m\n",
      "         \u001b[35meast/1H27/1H27/normalised_results/outs/\u001b[0m\u001b[95mcell_feature_matrix.h5\u001b[0m                                             \n",
      "\u001b[34mINFO    \u001b[0m reading                                                                                                   \n",
      "         \u001b[35m/work/PRTNR/CHUV/DIR/rgottar1/spatial/env/xenium_paper/data/xenium/processed/segmentation/proseg/breast/br\u001b[0m\n",
      "         \u001b[35meast/1GUC/1GUC/normalised_results/outs/\u001b[0m\u001b[95mcell_feature_matrix.h5\u001b[0m                                             \n",
      "\u001b[34mINFO    \u001b[0m reading                                                                                                   \n",
      "         \u001b[35m/work/PRTNR/CHUV/DIR/rgottar1/spatial/env/xenium_paper/data/xenium/processed/segmentation/proseg/breast/br\u001b[0m\n",
      "         \u001b[35meast/0OE1/0OE1/normalised_results/outs/\u001b[0m\u001b[95mcell_feature_matrix.h5\u001b[0m                                             \n",
      "\u001b[34mINFO    \u001b[0m reading                                                                                                   \n",
      "         \u001b[35m/work/PRTNR/CHUV/DIR/rgottar1/spatial/env/xenium_paper/data/xenium/processed/segmentation/proseg/breast/br\u001b[0m\n",
      "         \u001b[35meast/19TB/19TB/normalised_results/outs/\u001b[0m\u001b[95mcell_feature_matrix.h5\u001b[0m                                             \n"
     ]
    },
    {
     "name": "stderr",
     "output_type": "stream",
     "text": [
      "/work/PRTNR/CHUV/DIR/rgottar1/spatial/env/jbac/miniforge3/envs/spatial/lib/python3.11/site-packages/spatialdata/_core/spatialdata.py:185: UserWarning: The table is annotating 'cell_labels', which is not present in the SpatialData object.\n",
      "  self.validate_table_in_spatialdata(v)\n",
      "/work/PRTNR/CHUV/DIR/rgottar1/spatial/env/jbac/miniforge3/envs/spatial/lib/python3.11/site-packages/spatialdata/_core/spatialdata.py:185: UserWarning: The table is annotating 'cell_labels', which is not present in the SpatialData object.\n",
      "  self.validate_table_in_spatialdata(v)\n",
      "/work/PRTNR/CHUV/DIR/rgottar1/spatial/env/jbac/miniforge3/envs/spatial/lib/python3.11/site-packages/spatialdata/_core/spatialdata.py:185: UserWarning: The table is annotating 'cell_labels', which is not present in the SpatialData object.\n",
      "  self.validate_table_in_spatialdata(v)\n",
      "/work/PRTNR/CHUV/DIR/rgottar1/spatial/env/jbac/miniforge3/envs/spatial/lib/python3.11/site-packages/spatialdata/_core/spatialdata.py:185: UserWarning: The table is annotating 'cell_labels', which is not present in the SpatialData object.\n",
      "  self.validate_table_in_spatialdata(v)\n"
     ]
    },
    {
     "name": "stdout",
     "output_type": "stream",
     "text": [
      "\u001b[34mINFO    \u001b[0m reading                                                                                                   \n",
      "         \u001b[35m/work/PRTNR/CHUV/DIR/rgottar1/spatial/env/xenium_paper/data/xenium/processed/segmentation/proseg/breast/br\u001b[0m\n",
      "         \u001b[35meast/1FO7/1FO7/normalised_results/outs/\u001b[0m\u001b[95mcell_feature_matrix.h5\u001b[0m                                             \n",
      "\u001b[34mINFO    \u001b[0m reading                                                                                                   \n",
      "         \u001b[35m/work/PRTNR/CHUV/DIR/rgottar1/spatial/env/xenium_paper/data/xenium/processed/segmentation/proseg/NSCLC/lun\u001b[0m\n",
      "         \u001b[35mg/1GA2/1GA2/normalised_results/outs/\u001b[0m\u001b[95mcell_feature_matrix.h5\u001b[0m                                                \n",
      "\u001b[34mINFO    \u001b[0m reading                                                                                                   \n",
      "         \u001b[35m/work/PRTNR/CHUV/DIR/rgottar1/spatial/env/xenium_paper/data/xenium/processed/segmentation/proseg/NSCLC/lun\u001b[0m\n",
      "         \u001b[35mg/0PSV/0PSV/normalised_results/outs/\u001b[0m\u001b[95mcell_feature_matrix.h5\u001b[0m                                                \n",
      "\u001b[34mINFO    \u001b[0m reading                                                                                                   \n",
      "         \u001b[35m/work/PRTNR/CHUV/DIR/rgottar1/spatial/env/xenium_paper/data/xenium/processed/segmentation/proseg/NSCLC/lun\u001b[0m\n",
      "         \u001b[35mg/0S8R/0S8R/normalised_results/outs/\u001b[0m\u001b[95mcell_feature_matrix.h5\u001b[0m                                                \n",
      "\u001b[34mINFO    \u001b[0m reading                                                                                                   \n",
      "         \u001b[35m/work/PRTNR/CHUV/DIR/rgottar1/spatial/env/xenium_paper/data/xenium/processed/segmentation/proseg/NSCLC/lun\u001b[0m\n",
      "         \u001b[35mg/1G73/1G73_1/normalised_results/outs/\u001b[0m\u001b[95mcell_feature_matrix.h5\u001b[0m                                              \n"
     ]
    },
    {
     "name": "stderr",
     "output_type": "stream",
     "text": [
      "/work/PRTNR/CHUV/DIR/rgottar1/spatial/env/jbac/miniforge3/envs/spatial/lib/python3.11/site-packages/spatialdata/_core/spatialdata.py:185: UserWarning: The table is annotating 'cell_labels', which is not present in the SpatialData object.\n",
      "  self.validate_table_in_spatialdata(v)\n",
      "/work/PRTNR/CHUV/DIR/rgottar1/spatial/env/jbac/miniforge3/envs/spatial/lib/python3.11/site-packages/spatialdata/_core/spatialdata.py:185: UserWarning: The table is annotating 'cell_labels', which is not present in the SpatialData object.\n",
      "  self.validate_table_in_spatialdata(v)\n",
      "/work/PRTNR/CHUV/DIR/rgottar1/spatial/env/jbac/miniforge3/envs/spatial/lib/python3.11/site-packages/spatialdata/_core/spatialdata.py:185: UserWarning: The table is annotating 'cell_labels', which is not present in the SpatialData object.\n",
      "  self.validate_table_in_spatialdata(v)\n"
     ]
    },
    {
     "name": "stdout",
     "output_type": "stream",
     "text": [
      "\u001b[34mINFO    \u001b[0m reading                                                                                                   \n",
      "         \u001b[35m/work/PRTNR/CHUV/DIR/rgottar1/spatial/env/xenium_paper/data/xenium/processed/segmentation/proseg/NSCLC/lun\u001b[0m\n",
      "         \u001b[35mg/1G73/1G73_2/normalised_results/outs/\u001b[0m\u001b[95mcell_feature_matrix.h5\u001b[0m                                              \n"
     ]
    },
    {
     "name": "stderr",
     "output_type": "stream",
     "text": [
      "/work/PRTNR/CHUV/DIR/rgottar1/spatial/env/jbac/miniforge3/envs/spatial/lib/python3.11/site-packages/spatialdata/_core/spatialdata.py:185: UserWarning: The table is annotating 'cell_labels', which is not present in the SpatialData object.\n",
      "  self.validate_table_in_spatialdata(v)\n",
      "/work/PRTNR/CHUV/DIR/rgottar1/spatial/env/jbac/miniforge3/envs/spatial/lib/python3.11/site-packages/spatialdata/_core/spatialdata.py:185: UserWarning: The table is annotating 'cell_labels', which is not present in the SpatialData object.\n",
      "  self.validate_table_in_spatialdata(v)\n"
     ]
    },
    {
     "name": "stdout",
     "output_type": "stream",
     "text": [
      "\u001b[34mINFO    \u001b[0m reading                                                                                                   \n",
      "         \u001b[35m/work/PRTNR/CHUV/DIR/rgottar1/spatial/env/xenium_paper/data/xenium/processed/segmentation/proseg/NSCLC/lun\u001b[0m\n",
      "         \u001b[35mg/1GDD/1GDD/normalised_results/outs/\u001b[0m\u001b[95mcell_feature_matrix.h5\u001b[0m                                                \n",
      "\u001b[34mINFO    \u001b[0m reading                                                                                                   \n",
      "         \u001b[35m/work/PRTNR/CHUV/DIR/rgottar1/spatial/env/xenium_paper/data/xenium/processed/segmentation/proseg/NSCLC/lun\u001b[0m\n",
      "         \u001b[35mg/1GFF/1GFF/normalised_results/outs/\u001b[0m\u001b[95mcell_feature_matrix.h5\u001b[0m                                                \n"
     ]
    },
    {
     "name": "stderr",
     "output_type": "stream",
     "text": [
      "/work/PRTNR/CHUV/DIR/rgottar1/spatial/env/jbac/miniforge3/envs/spatial/lib/python3.11/site-packages/spatialdata/_core/spatialdata.py:185: UserWarning: The table is annotating 'cell_labels', which is not present in the SpatialData object.\n",
      "  self.validate_table_in_spatialdata(v)\n",
      "/work/PRTNR/CHUV/DIR/rgottar1/spatial/env/jbac/miniforge3/envs/spatial/lib/python3.11/site-packages/spatialdata/_core/spatialdata.py:185: UserWarning: The table is annotating 'cell_labels', which is not present in the SpatialData object.\n",
      "  self.validate_table_in_spatialdata(v)\n"
     ]
    },
    {
     "name": "stdout",
     "output_type": "stream",
     "text": [
      "\u001b[34mINFO    \u001b[0m reading                                                                                                   \n",
      "         \u001b[35m/work/PRTNR/CHUV/DIR/rgottar1/spatial/env/xenium_paper/data/xenium/processed/segmentation/proseg/NSCLC/lun\u001b[0m\n",
      "         \u001b[35mg/1GAC/1GAC/normalised_results/outs/\u001b[0m\u001b[95mcell_feature_matrix.h5\u001b[0m                                                \n",
      "\u001b[34mINFO    \u001b[0m reading                                                                                                   \n",
      "         \u001b[35m/work/PRTNR/CHUV/DIR/rgottar1/spatial/env/xenium_paper/data/xenium/processed/segmentation/proseg/NSCLC/lun\u001b[0m\n",
      "         \u001b[35mg/0WMU/0WMU/normalised_results/outs/\u001b[0m\u001b[95mcell_feature_matrix.h5\u001b[0m                                                \n",
      "\u001b[34mINFO    \u001b[0m reading                                                                                                   \n",
      "         \u001b[35m/work/PRTNR/CHUV/DIR/rgottar1/spatial/env/xenium_paper/data/xenium/processed/segmentation/proseg/NSCLC/lun\u001b[0m\n",
      "         \u001b[35mg/1GQ9/1GQ9/normalised_results/outs/\u001b[0m\u001b[95mcell_feature_matrix.h5\u001b[0m                                                \n"
     ]
    },
    {
     "name": "stderr",
     "output_type": "stream",
     "text": [
      "/work/PRTNR/CHUV/DIR/rgottar1/spatial/env/jbac/miniforge3/envs/spatial/lib/python3.11/site-packages/spatialdata/_core/spatialdata.py:185: UserWarning: The table is annotating 'cell_labels', which is not present in the SpatialData object.\n",
      "  self.validate_table_in_spatialdata(v)\n"
     ]
    },
    {
     "name": "stdout",
     "output_type": "stream",
     "text": [
      "\u001b[34mINFO    \u001b[0m reading                                                                                                   \n",
      "         \u001b[35m/work/PRTNR/CHUV/DIR/rgottar1/spatial/env/xenium_paper/data/xenium/processed/segmentation/proseg/NSCLC/lun\u001b[0m\n",
      "         \u001b[35mg/1GVD/1GVD/normalised_results/outs/\u001b[0m\u001b[95mcell_feature_matrix.h5\u001b[0m                                                \n"
     ]
    },
    {
     "name": "stderr",
     "output_type": "stream",
     "text": [
      "/work/PRTNR/CHUV/DIR/rgottar1/spatial/env/jbac/miniforge3/envs/spatial/lib/python3.11/site-packages/spatialdata/_core/spatialdata.py:185: UserWarning: The table is annotating 'cell_labels', which is not present in the SpatialData object.\n",
      "  self.validate_table_in_spatialdata(v)\n"
     ]
    },
    {
     "name": "stdout",
     "output_type": "stream",
     "text": [
      "\u001b[34mINFO    \u001b[0m reading                                                                                                   \n",
      "         \u001b[35m/work/PRTNR/CHUV/DIR/rgottar1/spatial/env/xenium_paper/data/xenium/processed/segmentation/proseg/NSCLC/chu\u001b[0m\n",
      "         \u001b[35mvio/1GA2/1GA2/normalised_results/outs/\u001b[0m\u001b[95mcell_feature_matrix.h5\u001b[0m                                              \n",
      "\u001b[34mINFO    \u001b[0m reading                                                                                                   \n",
      "         \u001b[35m/work/PRTNR/CHUV/DIR/rgottar1/spatial/env/xenium_paper/data/xenium/processed/segmentation/proseg/NSCLC/chu\u001b[0m\n",
      "         \u001b[35mvio/0PSV/0PSV_1/normalised_results/outs/\u001b[0m\u001b[95mcell_feature_matrix.h5\u001b[0m                                            \n",
      "\u001b[34mINFO    \u001b[0m reading                                                                                                   \n",
      "         \u001b[35m/work/PRTNR/CHUV/DIR/rgottar1/spatial/env/xenium_paper/data/xenium/processed/segmentation/proseg/NSCLC/chu\u001b[0m\n",
      "         \u001b[35mvio/0PSV/0PSV_2/normalised_results/outs/\u001b[0m\u001b[95mcell_feature_matrix.h5\u001b[0m                                            \n",
      "\u001b[34mINFO    \u001b[0m reading                                                                                                   \n",
      "         \u001b[35m/work/PRTNR/CHUV/DIR/rgottar1/spatial/env/xenium_paper/data/xenium/processed/segmentation/proseg/NSCLC/chu\u001b[0m\n",
      "         \u001b[35mvio/1G73/1G73/normalised_results/outs/\u001b[0m\u001b[95mcell_feature_matrix.h5\u001b[0m                                              \n"
     ]
    },
    {
     "name": "stderr",
     "output_type": "stream",
     "text": [
      "/work/PRTNR/CHUV/DIR/rgottar1/spatial/env/jbac/miniforge3/envs/spatial/lib/python3.11/site-packages/spatialdata/_core/spatialdata.py:185: UserWarning: The table is annotating 'cell_labels', which is not present in the SpatialData object.\n",
      "  self.validate_table_in_spatialdata(v)\n"
     ]
    },
    {
     "name": "stdout",
     "output_type": "stream",
     "text": [
      "\u001b[34mINFO    \u001b[0m reading                                                                                                   \n",
      "         \u001b[35m/work/PRTNR/CHUV/DIR/rgottar1/spatial/env/xenium_paper/data/xenium/processed/segmentation/proseg/NSCLC/chu\u001b[0m\n",
      "         \u001b[35mvio/0WMU/0WMU/normalised_results/outs/\u001b[0m\u001b[95mcell_feature_matrix.h5\u001b[0m                                              \n",
      "\u001b[34mINFO    \u001b[0m reading                                                                                                   \n",
      "         \u001b[35m/work/PRTNR/CHUV/DIR/rgottar1/spatial/env/xenium_paper/data/xenium/processed/segmentation/proseg/NSCLC/5k/\u001b[0m\n",
      "         \u001b[35m0PSV/0PSV/normalised_results/outs/\u001b[0m\u001b[95mcell_feature_matrix.h5\u001b[0m                                                  \n"
     ]
    },
    {
     "name": "stderr",
     "output_type": "stream",
     "text": [
      "/work/PRTNR/CHUV/DIR/rgottar1/spatial/env/jbac/miniforge3/envs/spatial/lib/python3.11/site-packages/spatialdata/_core/spatialdata.py:185: UserWarning: The table is annotating 'cell_labels', which is not present in the SpatialData object.\n",
      "  self.validate_table_in_spatialdata(v)\n",
      "/work/PRTNR/CHUV/DIR/rgottar1/spatial/env/jbac/miniforge3/envs/spatial/lib/python3.11/site-packages/spatialdata/_core/spatialdata.py:185: UserWarning: The table is annotating 'cell_labels', which is not present in the SpatialData object.\n",
      "  self.validate_table_in_spatialdata(v)\n",
      "/work/PRTNR/CHUV/DIR/rgottar1/spatial/env/jbac/miniforge3/envs/spatial/lib/python3.11/site-packages/spatialdata/_core/spatialdata.py:185: UserWarning: The table is annotating 'cell_labels', which is not present in the SpatialData object.\n",
      "  self.validate_table_in_spatialdata(v)\n"
     ]
    },
    {
     "name": "stdout",
     "output_type": "stream",
     "text": [
      "\u001b[34mINFO    \u001b[0m reading                                                                                                   \n",
      "         \u001b[35m/work/PRTNR/CHUV/DIR/rgottar1/spatial/env/xenium_paper/data/xenium/processed/segmentation/proseg/NSCLC/5k/\u001b[0m\n",
      "         \u001b[35m1G73/1G73/normalised_results/outs/\u001b[0m\u001b[95mcell_feature_matrix.h5\u001b[0m                                                  \n"
     ]
    },
    {
     "name": "stderr",
     "output_type": "stream",
     "text": [
      "/work/PRTNR/CHUV/DIR/rgottar1/spatial/env/jbac/miniforge3/envs/spatial/lib/python3.11/site-packages/spatialdata/_core/spatialdata.py:185: UserWarning: The table is annotating 'cell_labels', which is not present in the SpatialData object.\n",
      "  self.validate_table_in_spatialdata(v)\n"
     ]
    },
    {
     "name": "stdout",
     "output_type": "stream",
     "text": [
      "\u001b[34mINFO    \u001b[0m reading                                                                                                   \n",
      "         \u001b[35m/work/PRTNR/CHUV/DIR/rgottar1/spatial/env/xenium_paper/data/xenium/processed/segmentation/proseg/NSCLC/5k/\u001b[0m\n",
      "         \u001b[35m1GDD/1GDD/normalised_results/outs/\u001b[0m\u001b[95mcell_feature_matrix.h5\u001b[0m                                                  \n",
      "\u001b[34mINFO    \u001b[0m reading                                                                                                   \n",
      "         \u001b[35m/work/PRTNR/CHUV/DIR/rgottar1/spatial/env/xenium_paper/data/xenium/processed/segmentation/proseg/NSCLC/5k/\u001b[0m\n",
      "         \u001b[35m1GAC/1GAC/normalised_results/outs/\u001b[0m\u001b[95mcell_feature_matrix.h5\u001b[0m                                                  \n",
      "\u001b[34mINFO    \u001b[0m reading                                                                                                   \n",
      "         \u001b[35m/work/PRTNR/CHUV/DIR/rgottar1/spatial/env/xenium_paper/data/xenium/processed/segmentation/proseg/NSCLC/5k/\u001b[0m\n",
      "         \u001b[35m1GQ9/1GQ9/normalised_results/outs/\u001b[0m\u001b[95mcell_feature_matrix.h5\u001b[0m                                                  \n"
     ]
    },
    {
     "name": "stderr",
     "output_type": "stream",
     "text": [
      "/work/PRTNR/CHUV/DIR/rgottar1/spatial/env/jbac/miniforge3/envs/spatial/lib/python3.11/site-packages/spatialdata/_core/spatialdata.py:185: UserWarning: The table is annotating 'cell_labels', which is not present in the SpatialData object.\n",
      "  self.validate_table_in_spatialdata(v)\n"
     ]
    },
    {
     "name": "stdout",
     "output_type": "stream",
     "text": [
      "\u001b[34mINFO    \u001b[0m reading                                                                                                   \n",
      "         \u001b[35m/work/PRTNR/CHUV/DIR/rgottar1/spatial/env/xenium_paper/data/xenium/processed/segmentation/proseg/NSCLC/5k/\u001b[0m\n",
      "         \u001b[35m1GVD/1GVD/normalised_results/outs/\u001b[0m\u001b[95mcell_feature_matrix.h5\u001b[0m                                                  \n"
     ]
    },
    {
     "name": "stderr",
     "output_type": "stream",
     "text": [
      "/work/PRTNR/CHUV/DIR/rgottar1/spatial/env/jbac/miniforge3/envs/spatial/lib/python3.11/site-packages/spatialdata/_core/spatialdata.py:185: UserWarning: The table is annotating 'cell_labels', which is not present in the SpatialData object.\n",
      "  self.validate_table_in_spatialdata(v)\n"
     ]
    },
    {
     "name": "stdout",
     "output_type": "stream",
     "text": [
      "\u001b[34mINFO    \u001b[0m reading                                                                                                   \n",
      "         \u001b[35m/work/PRTNR/CHUV/DIR/rgottar1/spatial/env/xenium_paper/data/xenium/processed/segmentation/10x_0um/breast/b\u001b[0m\n",
      "         \u001b[35mreast/1FYB/1FYB/normalised_results/outs/\u001b[0m\u001b[95mcell_feature_matrix.h5\u001b[0m                                            \n"
     ]
    },
    {
     "name": "stderr",
     "output_type": "stream",
     "text": [
      "/work/PRTNR/CHUV/DIR/rgottar1/spatial/env/jbac/miniforge3/envs/spatial/lib/python3.11/site-packages/spatialdata/_core/spatialdata.py:185: UserWarning: The table is annotating 'cell_labels', which is not present in the SpatialData object.\n",
      "  self.validate_table_in_spatialdata(v)\n",
      "/work/PRTNR/CHUV/DIR/rgottar1/spatial/env/jbac/miniforge3/envs/spatial/lib/python3.11/site-packages/spatialdata/_core/spatialdata.py:185: UserWarning: The table is annotating 'cell_labels', which is not present in the SpatialData object.\n",
      "  self.validate_table_in_spatialdata(v)\n",
      "/work/PRTNR/CHUV/DIR/rgottar1/spatial/env/jbac/miniforge3/envs/spatial/lib/python3.11/site-packages/spatialdata/_core/spatialdata.py:185: UserWarning: The table is annotating 'cell_labels', which is not present in the SpatialData object.\n",
      "  self.validate_table_in_spatialdata(v)\n"
     ]
    },
    {
     "name": "stdout",
     "output_type": "stream",
     "text": [
      "\u001b[34mINFO    \u001b[0m reading                                                                                                   \n",
      "         \u001b[35m/work/PRTNR/CHUV/DIR/rgottar1/spatial/env/xenium_paper/data/xenium/processed/segmentation/10x_0um/breast/b\u001b[0m\n",
      "         \u001b[35mreast/OPHI/OPHI_3/normalised_results/outs/\u001b[0m\u001b[95mcell_feature_matrix.h5\u001b[0m                                          \n"
     ]
    },
    {
     "name": "stderr",
     "output_type": "stream",
     "text": [
      "/work/PRTNR/CHUV/DIR/rgottar1/spatial/env/jbac/miniforge3/envs/spatial/lib/python3.11/site-packages/spatialdata/_core/spatialdata.py:185: UserWarning: The table is annotating 'cell_labels', which is not present in the SpatialData object.\n",
      "  self.validate_table_in_spatialdata(v)\n",
      "/work/PRTNR/CHUV/DIR/rgottar1/spatial/env/jbac/miniforge3/envs/spatial/lib/python3.11/site-packages/spatialdata/_core/spatialdata.py:185: UserWarning: The table is annotating 'cell_labels', which is not present in the SpatialData object.\n",
      "  self.validate_table_in_spatialdata(v)\n",
      "/work/PRTNR/CHUV/DIR/rgottar1/spatial/env/jbac/miniforge3/envs/spatial/lib/python3.11/site-packages/spatialdata/_core/spatialdata.py:185: UserWarning: The table is annotating 'cell_labels', which is not present in the SpatialData object.\n",
      "  self.validate_table_in_spatialdata(v)\n",
      "/work/PRTNR/CHUV/DIR/rgottar1/spatial/env/jbac/miniforge3/envs/spatial/lib/python3.11/site-packages/spatialdata/_core/spatialdata.py:185: UserWarning: The table is annotating 'cell_labels', which is not present in the SpatialData object.\n",
      "  self.validate_table_in_spatialdata(v)\n"
     ]
    },
    {
     "name": "stdout",
     "output_type": "stream",
     "text": [
      "\u001b[34mINFO    \u001b[0m reading                                                                                                   \n",
      "         \u001b[35m/work/PRTNR/CHUV/DIR/rgottar1/spatial/env/xenium_paper/data/xenium/processed/segmentation/10x_0um/breast/b\u001b[0m\n",
      "         \u001b[35mreast/OPHI/OPHI_1/normalised_results/outs/\u001b[0m\u001b[95mcell_feature_matrix.h5\u001b[0m                                          \n"
     ]
    },
    {
     "name": "stderr",
     "output_type": "stream",
     "text": [
      "/work/PRTNR/CHUV/DIR/rgottar1/spatial/env/jbac/miniforge3/envs/spatial/lib/python3.11/site-packages/spatialdata/_core/spatialdata.py:185: UserWarning: The table is annotating 'cell_labels', which is not present in the SpatialData object.\n",
      "  self.validate_table_in_spatialdata(v)\n"
     ]
    },
    {
     "name": "stdout",
     "output_type": "stream",
     "text": [
      "\u001b[34mINFO    \u001b[0m reading                                                                                                   \n",
      "         \u001b[35m/work/PRTNR/CHUV/DIR/rgottar1/spatial/env/xenium_paper/data/xenium/processed/segmentation/10x_0um/breast/b\u001b[0m\n",
      "         \u001b[35mreast/OPHI/OPHI_2/normalised_results/outs/\u001b[0m\u001b[95mcell_feature_matrix.h5\u001b[0m                                          \n",
      "\u001b[34mINFO    \u001b[0m reading                                                                                                   \n",
      "         \u001b[35m/work/PRTNR/CHUV/DIR/rgottar1/spatial/env/xenium_paper/data/xenium/processed/segmentation/10x_0um/breast/b\u001b[0m\n",
      "         \u001b[35mreast/1BCA/1BCA/normalised_results/outs/\u001b[0m\u001b[95mcell_feature_matrix.h5\u001b[0m                                            \n",
      "\u001b[34mINFO    \u001b[0m reading                                                                                                   \n",
      "         \u001b[35m/work/PRTNR/CHUV/DIR/rgottar1/spatial/env/xenium_paper/data/xenium/processed/segmentation/10x_0um/breast/b\u001b[0m\n",
      "         \u001b[35mreast/0PD6/0PD6/normalised_results/outs/\u001b[0m\u001b[95mcell_feature_matrix.h5\u001b[0m                                            \n"
     ]
    },
    {
     "name": "stderr",
     "output_type": "stream",
     "text": [
      "/work/PRTNR/CHUV/DIR/rgottar1/spatial/env/jbac/miniforge3/envs/spatial/lib/python3.11/site-packages/spatialdata/_core/spatialdata.py:185: UserWarning: The table is annotating 'cell_labels', which is not present in the SpatialData object.\n",
      "  self.validate_table_in_spatialdata(v)\n",
      "/work/PRTNR/CHUV/DIR/rgottar1/spatial/env/jbac/miniforge3/envs/spatial/lib/python3.11/site-packages/spatialdata/_core/spatialdata.py:185: UserWarning: The table is annotating 'cell_labels', which is not present in the SpatialData object.\n",
      "  self.validate_table_in_spatialdata(v)\n",
      "/work/PRTNR/CHUV/DIR/rgottar1/spatial/env/jbac/miniforge3/envs/spatial/lib/python3.11/site-packages/spatialdata/_core/spatialdata.py:185: UserWarning: The table is annotating 'cell_labels', which is not present in the SpatialData object.\n",
      "  self.validate_table_in_spatialdata(v)\n",
      "/work/PRTNR/CHUV/DIR/rgottar1/spatial/env/jbac/miniforge3/envs/spatial/lib/python3.11/site-packages/spatialdata/_core/spatialdata.py:185: UserWarning: The table is annotating 'cell_labels', which is not present in the SpatialData object.\n",
      "  self.validate_table_in_spatialdata(v)\n"
     ]
    },
    {
     "name": "stdout",
     "output_type": "stream",
     "text": [
      "\u001b[34mINFO    \u001b[0m reading                                                                                                   \n",
      "         \u001b[35m/work/PRTNR/CHUV/DIR/rgottar1/spatial/env/xenium_paper/data/xenium/processed/segmentation/10x_0um/breast/b\u001b[0m\n",
      "         \u001b[35mreast/1256/1256/normalised_results/outs/\u001b[0m\u001b[95mcell_feature_matrix.h5\u001b[0m                                            \n",
      "\u001b[34mINFO    \u001b[0m reading                                                                                                   \n",
      "         \u001b[35m/work/PRTNR/CHUV/DIR/rgottar1/spatial/env/xenium_paper/data/xenium/processed/segmentation/10x_0um/breast/b\u001b[0m\n",
      "         \u001b[35mreast/1GV1/1GV1/normalised_results/outs/\u001b[0m\u001b[95mcell_feature_matrix.h5\u001b[0m                                            \n",
      "\u001b[34mINFO    \u001b[0m reading                                                                                                   \n",
      "         \u001b[35m/work/PRTNR/CHUV/DIR/rgottar1/spatial/env/xenium_paper/data/xenium/processed/segmentation/10x_0um/breast/b\u001b[0m\n",
      "         \u001b[35mreast/1GVR/1GVR/normalised_results/outs/\u001b[0m\u001b[95mcell_feature_matrix.h5\u001b[0m                                            \n",
      "\u001b[34mINFO    \u001b[0m reading                                                                                                   \n",
      "         \u001b[35m/work/PRTNR/CHUV/DIR/rgottar1/spatial/env/xenium_paper/data/xenium/processed/segmentation/10x_0um/breast/b\u001b[0m\n",
      "         \u001b[35mreast/1FHZ/1FHZ/normalised_results/outs/\u001b[0m\u001b[95mcell_feature_matrix.h5\u001b[0m                                            \n"
     ]
    },
    {
     "name": "stderr",
     "output_type": "stream",
     "text": [
      "/work/PRTNR/CHUV/DIR/rgottar1/spatial/env/jbac/miniforge3/envs/spatial/lib/python3.11/site-packages/spatialdata/_core/spatialdata.py:185: UserWarning: The table is annotating 'cell_labels', which is not present in the SpatialData object.\n",
      "  self.validate_table_in_spatialdata(v)\n",
      "/work/PRTNR/CHUV/DIR/rgottar1/spatial/env/jbac/miniforge3/envs/spatial/lib/python3.11/site-packages/spatialdata/_core/spatialdata.py:185: UserWarning: The table is annotating 'cell_labels', which is not present in the SpatialData object.\n",
      "  self.validate_table_in_spatialdata(v)\n",
      "/work/PRTNR/CHUV/DIR/rgottar1/spatial/env/jbac/miniforge3/envs/spatial/lib/python3.11/site-packages/spatialdata/_core/spatialdata.py:185: UserWarning: The table is annotating 'cell_labels', which is not present in the SpatialData object.\n",
      "  self.validate_table_in_spatialdata(v)\n",
      "/work/PRTNR/CHUV/DIR/rgottar1/spatial/env/jbac/miniforge3/envs/spatial/lib/python3.11/site-packages/spatialdata/_core/spatialdata.py:185: UserWarning: The table is annotating 'cell_labels', which is not present in the SpatialData object.\n",
      "  self.validate_table_in_spatialdata(v)\n"
     ]
    },
    {
     "name": "stdout",
     "output_type": "stream",
     "text": [
      "\u001b[34mINFO    \u001b[0m reading                                                                                                   \n",
      "         \u001b[35m/work/PRTNR/CHUV/DIR/rgottar1/spatial/env/xenium_paper/data/xenium/processed/segmentation/10x_0um/breast/b\u001b[0m\n",
      "         \u001b[35mreast/0U9A/0U9A/normalised_results/outs/\u001b[0m\u001b[95mcell_feature_matrix.h5\u001b[0m                                            \n"
     ]
    },
    {
     "name": "stderr",
     "output_type": "stream",
     "text": [
      "/work/PRTNR/CHUV/DIR/rgottar1/spatial/env/jbac/miniforge3/envs/spatial/lib/python3.11/site-packages/spatialdata/_core/spatialdata.py:185: UserWarning: The table is annotating 'cell_labels', which is not present in the SpatialData object.\n",
      "  self.validate_table_in_spatialdata(v)\n",
      "/work/PRTNR/CHUV/DIR/rgottar1/spatial/env/jbac/miniforge3/envs/spatial/lib/python3.11/site-packages/spatialdata/_core/spatialdata.py:185: UserWarning: The table is annotating 'cell_labels', which is not present in the SpatialData object.\n",
      "  self.validate_table_in_spatialdata(v)\n"
     ]
    },
    {
     "name": "stdout",
     "output_type": "stream",
     "text": [
      "\u001b[34mINFO    \u001b[0m reading                                                                                                   \n",
      "         \u001b[35m/work/PRTNR/CHUV/DIR/rgottar1/spatial/env/xenium_paper/data/xenium/processed/segmentation/10x_0um/breast/b\u001b[0m\n",
      "         \u001b[35mreast/1ESQ/1ESQ/normalised_results/outs/\u001b[0m\u001b[95mcell_feature_matrix.h5\u001b[0m                                            \n",
      "\u001b[34mINFO    \u001b[0m reading                                                                                                   \n",
      "         \u001b[35m/work/PRTNR/CHUV/DIR/rgottar1/spatial/env/xenium_paper/data/xenium/processed/segmentation/10x_0um/breast/b\u001b[0m\n",
      "         \u001b[35mreast/0VRA/0VRA/normalised_results/outs/\u001b[0m\u001b[95mcell_feature_matrix.h5\u001b[0m                                            \n"
     ]
    },
    {
     "name": "stderr",
     "output_type": "stream",
     "text": [
      "/work/PRTNR/CHUV/DIR/rgottar1/spatial/env/jbac/miniforge3/envs/spatial/lib/python3.11/site-packages/spatialdata/_core/spatialdata.py:185: UserWarning: The table is annotating 'cell_labels', which is not present in the SpatialData object.\n",
      "  self.validate_table_in_spatialdata(v)\n",
      "/work/PRTNR/CHUV/DIR/rgottar1/spatial/env/jbac/miniforge3/envs/spatial/lib/python3.11/site-packages/spatialdata/_core/spatialdata.py:185: UserWarning: The table is annotating 'cell_labels', which is not present in the SpatialData object.\n",
      "  self.validate_table_in_spatialdata(v)\n"
     ]
    },
    {
     "name": "stdout",
     "output_type": "stream",
     "text": [
      "\u001b[34mINFO    \u001b[0m reading                                                                                                   \n",
      "         \u001b[35m/work/PRTNR/CHUV/DIR/rgottar1/spatial/env/xenium_paper/data/xenium/processed/segmentation/10x_0um/breast/b\u001b[0m\n",
      "         \u001b[35mreast/14LZ/14LZ/normalised_results/outs/\u001b[0m\u001b[95mcell_feature_matrix.h5\u001b[0m                                            \n"
     ]
    },
    {
     "name": "stderr",
     "output_type": "stream",
     "text": [
      "/work/PRTNR/CHUV/DIR/rgottar1/spatial/env/jbac/miniforge3/envs/spatial/lib/python3.11/site-packages/spatialdata/_core/spatialdata.py:185: UserWarning: The table is annotating 'cell_labels', which is not present in the SpatialData object.\n",
      "  self.validate_table_in_spatialdata(v)\n"
     ]
    },
    {
     "name": "stdout",
     "output_type": "stream",
     "text": [
      "\u001b[34mINFO    \u001b[0m reading                                                                                                   \n",
      "         \u001b[35m/work/PRTNR/CHUV/DIR/rgottar1/spatial/env/xenium_paper/data/xenium/processed/segmentation/10x_0um/breast/b\u001b[0m\n",
      "         \u001b[35mreast/1H27/1H27/normalised_results/outs/\u001b[0m\u001b[95mcell_feature_matrix.h5\u001b[0m                                            \n",
      "\u001b[34mINFO    \u001b[0m reading                                                                                                   \n",
      "         \u001b[35m/work/PRTNR/CHUV/DIR/rgottar1/spatial/env/xenium_paper/data/xenium/processed/segmentation/10x_0um/breast/b\u001b[0m\n",
      "         \u001b[35mreast/1GUC/1GUC/normalised_results/outs/\u001b[0m\u001b[95mcell_feature_matrix.h5\u001b[0m                                            \n",
      "\u001b[34mINFO    \u001b[0m reading                                                                                                   \n",
      "         \u001b[35m/work/PRTNR/CHUV/DIR/rgottar1/spatial/env/xenium_paper/data/xenium/processed/segmentation/10x_0um/breast/b\u001b[0m\n",
      "         \u001b[35mreast/0OE1/0OE1/normalised_results/outs/\u001b[0m\u001b[95mcell_feature_matrix.h5\u001b[0m                                            \n",
      "\u001b[34mINFO    \u001b[0m reading                                                                                                   \n",
      "         \u001b[35m/work/PRTNR/CHUV/DIR/rgottar1/spatial/env/xenium_paper/data/xenium/processed/segmentation/10x_0um/breast/b\u001b[0m\n",
      "         \u001b[35mreast/19TB/19TB/normalised_results/outs/\u001b[0m\u001b[95mcell_feature_matrix.h5\u001b[0m                                            \n"
     ]
    },
    {
     "name": "stderr",
     "output_type": "stream",
     "text": [
      "/work/PRTNR/CHUV/DIR/rgottar1/spatial/env/jbac/miniforge3/envs/spatial/lib/python3.11/site-packages/spatialdata/_core/spatialdata.py:185: UserWarning: The table is annotating 'cell_labels', which is not present in the SpatialData object.\n",
      "  self.validate_table_in_spatialdata(v)\n"
     ]
    },
    {
     "name": "stdout",
     "output_type": "stream",
     "text": [
      "\u001b[34mINFO    \u001b[0m reading                                                                                                   \n",
      "         \u001b[35m/work/PRTNR/CHUV/DIR/rgottar1/spatial/env/xenium_paper/data/xenium/processed/segmentation/10x_0um/breast/b\u001b[0m\n",
      "         \u001b[35mreast/1FO7/1FO7/normalised_results/outs/\u001b[0m\u001b[95mcell_feature_matrix.h5\u001b[0m                                            \n",
      "\u001b[34mINFO    \u001b[0m reading                                                                                                   \n",
      "         \u001b[35m/work/PRTNR/CHUV/DIR/rgottar1/spatial/env/xenium_paper/data/xenium/processed/segmentation/10x_0um/NSCLC/lu\u001b[0m\n",
      "         \u001b[35mng/1GA2/1GA2/normalised_results/outs/\u001b[0m\u001b[95mcell_feature_matrix.h5\u001b[0m                                               \n"
     ]
    },
    {
     "name": "stderr",
     "output_type": "stream",
     "text": [
      "/work/PRTNR/CHUV/DIR/rgottar1/spatial/env/jbac/miniforge3/envs/spatial/lib/python3.11/site-packages/spatialdata/_core/spatialdata.py:185: UserWarning: The table is annotating 'cell_labels', which is not present in the SpatialData object.\n",
      "  self.validate_table_in_spatialdata(v)\n"
     ]
    },
    {
     "name": "stdout",
     "output_type": "stream",
     "text": [
      "\u001b[34mINFO    \u001b[0m reading                                                                                                   \n",
      "         \u001b[35m/work/PRTNR/CHUV/DIR/rgottar1/spatial/env/xenium_paper/data/xenium/processed/segmentation/10x_0um/NSCLC/lu\u001b[0m\n",
      "         \u001b[35mng/0PSV/0PSV/normalised_results/outs/\u001b[0m\u001b[95mcell_feature_matrix.h5\u001b[0m                                               \n",
      "\u001b[34mINFO    \u001b[0m reading                                                                                                   \n",
      "         \u001b[35m/work/PRTNR/CHUV/DIR/rgottar1/spatial/env/xenium_paper/data/xenium/processed/segmentation/10x_0um/NSCLC/lu\u001b[0m\n",
      "         \u001b[35mng/0S8R/0S8R/normalised_results/outs/\u001b[0m\u001b[95mcell_feature_matrix.h5\u001b[0m                                               \n",
      "\u001b[34mINFO    \u001b[0m reading                                                                                                   \n",
      "         \u001b[35m/work/PRTNR/CHUV/DIR/rgottar1/spatial/env/xenium_paper/data/xenium/processed/segmentation/10x_0um/NSCLC/lu\u001b[0m\n",
      "         \u001b[35mng/1G73/1G73_1/normalised_results/outs/\u001b[0m\u001b[95mcell_feature_matrix.h5\u001b[0m                                             \n"
     ]
    },
    {
     "name": "stderr",
     "output_type": "stream",
     "text": [
      "/work/PRTNR/CHUV/DIR/rgottar1/spatial/env/jbac/miniforge3/envs/spatial/lib/python3.11/site-packages/spatialdata/_core/spatialdata.py:185: UserWarning: The table is annotating 'cell_labels', which is not present in the SpatialData object.\n",
      "  self.validate_table_in_spatialdata(v)\n",
      "/work/PRTNR/CHUV/DIR/rgottar1/spatial/env/jbac/miniforge3/envs/spatial/lib/python3.11/site-packages/spatialdata/_core/spatialdata.py:185: UserWarning: The table is annotating 'cell_labels', which is not present in the SpatialData object.\n",
      "  self.validate_table_in_spatialdata(v)\n",
      "/work/PRTNR/CHUV/DIR/rgottar1/spatial/env/jbac/miniforge3/envs/spatial/lib/python3.11/site-packages/spatialdata/_core/spatialdata.py:185: UserWarning: The table is annotating 'cell_labels', which is not present in the SpatialData object.\n",
      "  self.validate_table_in_spatialdata(v)\n",
      "/work/PRTNR/CHUV/DIR/rgottar1/spatial/env/jbac/miniforge3/envs/spatial/lib/python3.11/site-packages/spatialdata/_core/spatialdata.py:185: UserWarning: The table is annotating 'cell_labels', which is not present in the SpatialData object.\n",
      "  self.validate_table_in_spatialdata(v)\n",
      "/work/PRTNR/CHUV/DIR/rgottar1/spatial/env/jbac/miniforge3/envs/spatial/lib/python3.11/site-packages/spatialdata/_core/spatialdata.py:185: UserWarning: The table is annotating 'cell_labels', which is not present in the SpatialData object.\n",
      "  self.validate_table_in_spatialdata(v)\n",
      "/work/PRTNR/CHUV/DIR/rgottar1/spatial/env/jbac/miniforge3/envs/spatial/lib/python3.11/site-packages/spatialdata/_core/spatialdata.py:185: UserWarning: The table is annotating 'cell_labels', which is not present in the SpatialData object.\n",
      "  self.validate_table_in_spatialdata(v)\n"
     ]
    },
    {
     "name": "stdout",
     "output_type": "stream",
     "text": [
      "\u001b[34mINFO    \u001b[0m reading                                                                                                   \n",
      "         \u001b[35m/work/PRTNR/CHUV/DIR/rgottar1/spatial/env/xenium_paper/data/xenium/processed/segmentation/10x_0um/NSCLC/lu\u001b[0m\n",
      "         \u001b[35mng/1G73/1G73_2/normalised_results/outs/\u001b[0m\u001b[95mcell_feature_matrix.h5\u001b[0m                                             \n"
     ]
    },
    {
     "name": "stderr",
     "output_type": "stream",
     "text": [
      "/work/PRTNR/CHUV/DIR/rgottar1/spatial/env/jbac/miniforge3/envs/spatial/lib/python3.11/site-packages/spatialdata/_core/spatialdata.py:185: UserWarning: The table is annotating 'cell_labels', which is not present in the SpatialData object.\n",
      "  self.validate_table_in_spatialdata(v)\n"
     ]
    },
    {
     "name": "stdout",
     "output_type": "stream",
     "text": [
      "\u001b[34mINFO    \u001b[0m reading                                                                                                   \n",
      "         \u001b[35m/work/PRTNR/CHUV/DIR/rgottar1/spatial/env/xenium_paper/data/xenium/processed/segmentation/10x_0um/NSCLC/lu\u001b[0m\n",
      "         \u001b[35mng/1GDD/1GDD/normalised_results/outs/\u001b[0m\u001b[95mcell_feature_matrix.h5\u001b[0m                                               \n",
      "\u001b[34mINFO    \u001b[0m reading                                                                                                   \n",
      "         \u001b[35m/work/PRTNR/CHUV/DIR/rgottar1/spatial/env/xenium_paper/data/xenium/processed/segmentation/10x_0um/NSCLC/lu\u001b[0m\n",
      "         \u001b[35mng/1GFF/1GFF/normalised_results/outs/\u001b[0m\u001b[95mcell_feature_matrix.h5\u001b[0m                                               \n",
      "\u001b[34mINFO    \u001b[0m reading                                                                                                   \n",
      "         \u001b[35m/work/PRTNR/CHUV/DIR/rgottar1/spatial/env/xenium_paper/data/xenium/processed/segmentation/10x_0um/NSCLC/lu\u001b[0m\n",
      "         \u001b[35mng/1GAC/1GAC/normalised_results/outs/\u001b[0m\u001b[95mcell_feature_matrix.h5\u001b[0m                                               \n"
     ]
    },
    {
     "name": "stderr",
     "output_type": "stream",
     "text": [
      "/work/PRTNR/CHUV/DIR/rgottar1/spatial/env/jbac/miniforge3/envs/spatial/lib/python3.11/site-packages/spatialdata/_core/spatialdata.py:185: UserWarning: The table is annotating 'cell_labels', which is not present in the SpatialData object.\n",
      "  self.validate_table_in_spatialdata(v)\n",
      "/work/PRTNR/CHUV/DIR/rgottar1/spatial/env/jbac/miniforge3/envs/spatial/lib/python3.11/site-packages/spatialdata/_core/spatialdata.py:185: UserWarning: The table is annotating 'cell_labels', which is not present in the SpatialData object.\n",
      "  self.validate_table_in_spatialdata(v)\n",
      "/work/PRTNR/CHUV/DIR/rgottar1/spatial/env/jbac/miniforge3/envs/spatial/lib/python3.11/site-packages/spatialdata/_core/spatialdata.py:185: UserWarning: The table is annotating 'cell_labels', which is not present in the SpatialData object.\n",
      "  self.validate_table_in_spatialdata(v)\n"
     ]
    },
    {
     "name": "stdout",
     "output_type": "stream",
     "text": [
      "\u001b[34mINFO    \u001b[0m reading                                                                                                   \n",
      "         \u001b[35m/work/PRTNR/CHUV/DIR/rgottar1/spatial/env/xenium_paper/data/xenium/processed/segmentation/10x_0um/NSCLC/lu\u001b[0m\n",
      "         \u001b[35mng/0WMU/0WMU/normalised_results/outs/\u001b[0m\u001b[95mcell_feature_matrix.h5\u001b[0m                                               \n",
      "\u001b[34mINFO    \u001b[0m reading                                                                                                   \n",
      "         \u001b[35m/work/PRTNR/CHUV/DIR/rgottar1/spatial/env/xenium_paper/data/xenium/processed/segmentation/10x_0um/NSCLC/lu\u001b[0m\n",
      "         \u001b[35mng/1GQ9/1GQ9/normalised_results/outs/\u001b[0m\u001b[95mcell_feature_matrix.h5\u001b[0m                                               \n",
      "\u001b[34mINFO    \u001b[0m reading                                                                                                   \n",
      "         \u001b[35m/work/PRTNR/CHUV/DIR/rgottar1/spatial/env/xenium_paper/data/xenium/processed/segmentation/10x_0um/NSCLC/lu\u001b[0m\n",
      "         \u001b[35mng/1GVD/1GVD/normalised_results/outs/\u001b[0m\u001b[95mcell_feature_matrix.h5\u001b[0m                                               \n"
     ]
    },
    {
     "name": "stderr",
     "output_type": "stream",
     "text": [
      "/work/PRTNR/CHUV/DIR/rgottar1/spatial/env/jbac/miniforge3/envs/spatial/lib/python3.11/site-packages/spatialdata/_core/spatialdata.py:185: UserWarning: The table is annotating 'cell_labels', which is not present in the SpatialData object.\n",
      "  self.validate_table_in_spatialdata(v)\n"
     ]
    },
    {
     "name": "stdout",
     "output_type": "stream",
     "text": [
      "\u001b[34mINFO    \u001b[0m reading                                                                                                   \n",
      "         \u001b[35m/work/PRTNR/CHUV/DIR/rgottar1/spatial/env/xenium_paper/data/xenium/processed/segmentation/10x_0um/NSCLC/ch\u001b[0m\n",
      "         \u001b[35muvio/1GA2/1GA2/normalised_results/outs/\u001b[0m\u001b[95mcell_feature_matrix.h5\u001b[0m                                             \n",
      "\u001b[34mINFO    \u001b[0m reading                                                                                                   \n",
      "         \u001b[35m/work/PRTNR/CHUV/DIR/rgottar1/spatial/env/xenium_paper/data/xenium/processed/segmentation/10x_0um/NSCLC/ch\u001b[0m\n",
      "         \u001b[35muvio/0PSV/0PSV_1/normalised_results/outs/\u001b[0m\u001b[95mcell_feature_matrix.h5\u001b[0m                                           \n",
      "\u001b[34mINFO    \u001b[0m reading                                                                                                   \n",
      "         \u001b[35m/work/PRTNR/CHUV/DIR/rgottar1/spatial/env/xenium_paper/data/xenium/processed/segmentation/10x_0um/NSCLC/ch\u001b[0m\n",
      "         \u001b[35muvio/0PSV/0PSV_2/normalised_results/outs/\u001b[0m\u001b[95mcell_feature_matrix.h5\u001b[0m                                           \n",
      "\u001b[34mINFO    \u001b[0m reading                                                                                                   \n",
      "         \u001b[35m/work/PRTNR/CHUV/DIR/rgottar1/spatial/env/xenium_paper/data/xenium/processed/segmentation/10x_0um/NSCLC/ch\u001b[0m\n",
      "         \u001b[35muvio/1G73/1G73/normalised_results/outs/\u001b[0m\u001b[95mcell_feature_matrix.h5\u001b[0m                                             \n"
     ]
    },
    {
     "name": "stderr",
     "output_type": "stream",
     "text": [
      "/work/PRTNR/CHUV/DIR/rgottar1/spatial/env/jbac/miniforge3/envs/spatial/lib/python3.11/site-packages/spatialdata/_core/spatialdata.py:185: UserWarning: The table is annotating 'cell_labels', which is not present in the SpatialData object.\n",
      "  self.validate_table_in_spatialdata(v)\n"
     ]
    },
    {
     "name": "stdout",
     "output_type": "stream",
     "text": [
      "\u001b[34mINFO    \u001b[0m reading                                                                                                   \n",
      "         \u001b[35m/work/PRTNR/CHUV/DIR/rgottar1/spatial/env/xenium_paper/data/xenium/processed/segmentation/10x_0um/NSCLC/ch\u001b[0m\n",
      "         \u001b[35muvio/0WMU/0WMU/normalised_results/outs/\u001b[0m\u001b[95mcell_feature_matrix.h5\u001b[0m                                             \n",
      "\u001b[34mINFO    \u001b[0m reading                                                                                                   \n",
      "         \u001b[35m/work/PRTNR/CHUV/DIR/rgottar1/spatial/env/xenium_paper/data/xenium/processed/segmentation/10x_0um/NSCLC/5k\u001b[0m\n",
      "         \u001b[35m/0PSV/0PSV/normalised_results/outs/\u001b[0m\u001b[95mcell_feature_matrix.h5\u001b[0m                                                 \n",
      "\u001b[34mINFO    \u001b[0m reading                                                                                                   \n",
      "         \u001b[35m/work/PRTNR/CHUV/DIR/rgottar1/spatial/env/xenium_paper/data/xenium/processed/segmentation/10x_0um/NSCLC/5k\u001b[0m\n",
      "         \u001b[35m/1G73/1G73/normalised_results/outs/\u001b[0m\u001b[95mcell_feature_matrix.h5\u001b[0m                                                 \n"
     ]
    },
    {
     "name": "stderr",
     "output_type": "stream",
     "text": [
      "/work/PRTNR/CHUV/DIR/rgottar1/spatial/env/jbac/miniforge3/envs/spatial/lib/python3.11/site-packages/spatialdata/_core/spatialdata.py:185: UserWarning: The table is annotating 'cell_labels', which is not present in the SpatialData object.\n",
      "  self.validate_table_in_spatialdata(v)\n",
      "/work/PRTNR/CHUV/DIR/rgottar1/spatial/env/jbac/miniforge3/envs/spatial/lib/python3.11/site-packages/spatialdata/_core/spatialdata.py:185: UserWarning: The table is annotating 'cell_labels', which is not present in the SpatialData object.\n",
      "  self.validate_table_in_spatialdata(v)\n",
      "/work/PRTNR/CHUV/DIR/rgottar1/spatial/env/jbac/miniforge3/envs/spatial/lib/python3.11/site-packages/spatialdata/_core/spatialdata.py:185: UserWarning: The table is annotating 'cell_labels', which is not present in the SpatialData object.\n",
      "  self.validate_table_in_spatialdata(v)\n"
     ]
    },
    {
     "name": "stdout",
     "output_type": "stream",
     "text": [
      "\u001b[34mINFO    \u001b[0m reading                                                                                                   \n",
      "         \u001b[35m/work/PRTNR/CHUV/DIR/rgottar1/spatial/env/xenium_paper/data/xenium/processed/segmentation/10x_0um/NSCLC/5k\u001b[0m\n",
      "         \u001b[35m/1GDD/1GDD/normalised_results/outs/\u001b[0m\u001b[95mcell_feature_matrix.h5\u001b[0m                                                 \n"
     ]
    },
    {
     "name": "stderr",
     "output_type": "stream",
     "text": [
      "/work/PRTNR/CHUV/DIR/rgottar1/spatial/env/jbac/miniforge3/envs/spatial/lib/python3.11/site-packages/spatialdata/_core/spatialdata.py:185: UserWarning: The table is annotating 'cell_labels', which is not present in the SpatialData object.\n",
      "  self.validate_table_in_spatialdata(v)\n",
      "/work/PRTNR/CHUV/DIR/rgottar1/spatial/env/jbac/miniforge3/envs/spatial/lib/python3.11/site-packages/spatialdata/_core/spatialdata.py:185: UserWarning: The table is annotating 'cell_labels', which is not present in the SpatialData object.\n",
      "  self.validate_table_in_spatialdata(v)\n"
     ]
    },
    {
     "name": "stdout",
     "output_type": "stream",
     "text": [
      "\u001b[34mINFO    \u001b[0m reading                                                                                                   \n",
      "         \u001b[35m/work/PRTNR/CHUV/DIR/rgottar1/spatial/env/xenium_paper/data/xenium/processed/segmentation/10x_0um/NSCLC/5k\u001b[0m\n",
      "         \u001b[35m/1GAC/1GAC/normalised_results/outs/\u001b[0m\u001b[95mcell_feature_matrix.h5\u001b[0m                                                 \n",
      "\u001b[34mINFO    \u001b[0m reading                                                                                                   \n",
      "         \u001b[35m/work/PRTNR/CHUV/DIR/rgottar1/spatial/env/xenium_paper/data/xenium/processed/segmentation/10x_0um/NSCLC/5k\u001b[0m\n",
      "         \u001b[35m/1GQ9/1GQ9/normalised_results/outs/\u001b[0m\u001b[95mcell_feature_matrix.h5\u001b[0m                                                 \n"
     ]
    },
    {
     "name": "stderr",
     "output_type": "stream",
     "text": [
      "/work/PRTNR/CHUV/DIR/rgottar1/spatial/env/jbac/miniforge3/envs/spatial/lib/python3.11/site-packages/spatialdata/_core/spatialdata.py:185: UserWarning: The table is annotating 'cell_labels', which is not present in the SpatialData object.\n",
      "  self.validate_table_in_spatialdata(v)\n"
     ]
    },
    {
     "name": "stdout",
     "output_type": "stream",
     "text": [
      "\u001b[34mINFO    \u001b[0m reading                                                                                                   \n",
      "         \u001b[35m/work/PRTNR/CHUV/DIR/rgottar1/spatial/env/xenium_paper/data/xenium/processed/segmentation/10x_0um/NSCLC/5k\u001b[0m\n",
      "         \u001b[35m/1GVD/1GVD/normalised_results/outs/\u001b[0m\u001b[95mcell_feature_matrix.h5\u001b[0m                                                 \n",
      "\u001b[34mINFO    \u001b[0m reading                                                                                                   \n",
      "         \u001b[35m/work/PRTNR/CHUV/DIR/rgottar1/spatial/env/xenium_paper/data/xenium/processed/segmentation/10x_mm_15um/NSCL\u001b[0m\n",
      "         \u001b[35mC/5k/0PSV/0PSV/normalised_results/outs/\u001b[0m\u001b[95mcell_feature_matrix.h5\u001b[0m                                             \n",
      "\u001b[34mINFO    \u001b[0m reading                                                                                                   \n",
      "         \u001b[35m/work/PRTNR/CHUV/DIR/rgottar1/spatial/env/xenium_paper/data/xenium/processed/segmentation/10x_mm_15um/NSCL\u001b[0m\n",
      "         \u001b[35mC/5k/1G73/1G73/normalised_results/outs/\u001b[0m\u001b[95mcell_feature_matrix.h5\u001b[0m                                             \n",
      "\u001b[34mINFO    \u001b[0m reading                                                                                                   \n",
      "         \u001b[35m/work/PRTNR/CHUV/DIR/rgottar1/spatial/env/xenium_paper/data/xenium/processed/segmentation/10x_mm_15um/NSCL\u001b[0m\n",
      "         \u001b[35mC/5k/1GDD/1GDD/normalised_results/outs/\u001b[0m\u001b[95mcell_feature_matrix.h5\u001b[0m                                             \n"
     ]
    },
    {
     "name": "stderr",
     "output_type": "stream",
     "text": [
      "/work/PRTNR/CHUV/DIR/rgottar1/spatial/env/jbac/miniforge3/envs/spatial/lib/python3.11/site-packages/spatialdata/_core/spatialdata.py:185: UserWarning: The table is annotating 'cell_labels', which is not present in the SpatialData object.\n",
      "  self.validate_table_in_spatialdata(v)\n",
      "/work/PRTNR/CHUV/DIR/rgottar1/spatial/env/jbac/miniforge3/envs/spatial/lib/python3.11/site-packages/spatialdata/_core/spatialdata.py:185: UserWarning: The table is annotating 'cell_labels', which is not present in the SpatialData object.\n",
      "  self.validate_table_in_spatialdata(v)\n"
     ]
    },
    {
     "name": "stdout",
     "output_type": "stream",
     "text": [
      "\u001b[34mINFO    \u001b[0m reading                                                                                                   \n",
      "         \u001b[35m/work/PRTNR/CHUV/DIR/rgottar1/spatial/env/xenium_paper/data/xenium/processed/segmentation/10x_mm_15um/NSCL\u001b[0m\n",
      "         \u001b[35mC/5k/1GAC/1GAC/normalised_results/outs/\u001b[0m\u001b[95mcell_feature_matrix.h5\u001b[0m                                             \n"
     ]
    },
    {
     "name": "stderr",
     "output_type": "stream",
     "text": [
      "/work/PRTNR/CHUV/DIR/rgottar1/spatial/env/jbac/miniforge3/envs/spatial/lib/python3.11/site-packages/spatialdata/_core/spatialdata.py:185: UserWarning: The table is annotating 'cell_labels', which is not present in the SpatialData object.\n",
      "  self.validate_table_in_spatialdata(v)\n",
      "/work/PRTNR/CHUV/DIR/rgottar1/spatial/env/jbac/miniforge3/envs/spatial/lib/python3.11/site-packages/spatialdata/_core/spatialdata.py:185: UserWarning: The table is annotating 'cell_labels', which is not present in the SpatialData object.\n",
      "  self.validate_table_in_spatialdata(v)\n"
     ]
    },
    {
     "name": "stdout",
     "output_type": "stream",
     "text": [
      "\u001b[34mINFO    \u001b[0m reading                                                                                                   \n",
      "         \u001b[35m/work/PRTNR/CHUV/DIR/rgottar1/spatial/env/xenium_paper/data/xenium/processed/segmentation/10x_mm_15um/NSCL\u001b[0m\n",
      "         \u001b[35mC/5k/1GQ9/1GQ9/normalised_results/outs/\u001b[0m\u001b[95mcell_feature_matrix.h5\u001b[0m                                             \n"
     ]
    },
    {
     "name": "stderr",
     "output_type": "stream",
     "text": [
      "/work/PRTNR/CHUV/DIR/rgottar1/spatial/env/jbac/miniforge3/envs/spatial/lib/python3.11/site-packages/spatialdata/_core/spatialdata.py:185: UserWarning: The table is annotating 'cell_labels', which is not present in the SpatialData object.\n",
      "  self.validate_table_in_spatialdata(v)\n"
     ]
    },
    {
     "name": "stdout",
     "output_type": "stream",
     "text": [
      "\u001b[34mINFO    \u001b[0m reading                                                                                                   \n",
      "         \u001b[35m/work/PRTNR/CHUV/DIR/rgottar1/spatial/env/xenium_paper/data/xenium/processed/segmentation/10x_mm_15um/NSCL\u001b[0m\n",
      "         \u001b[35mC/5k/1GVD/1GVD/normalised_results/outs/\u001b[0m\u001b[95mcell_feature_matrix.h5\u001b[0m                                             \n"
     ]
    },
    {
     "name": "stderr",
     "output_type": "stream",
     "text": [
      "/work/PRTNR/CHUV/DIR/rgottar1/spatial/env/jbac/miniforge3/envs/spatial/lib/python3.11/site-packages/spatialdata/_core/spatialdata.py:185: UserWarning: The table is annotating 'cell_labels', which is not present in the SpatialData object.\n",
      "  self.validate_table_in_spatialdata(v)\n",
      "/work/PRTNR/CHUV/DIR/rgottar1/spatial/env/jbac/miniforge3/envs/spatial/lib/python3.11/site-packages/spatialdata/_core/spatialdata.py:185: UserWarning: The table is annotating 'cell_labels', which is not present in the SpatialData object.\n",
      "  self.validate_table_in_spatialdata(v)\n",
      "/work/PRTNR/CHUV/DIR/rgottar1/spatial/env/jbac/miniforge3/envs/spatial/lib/python3.11/site-packages/spatialdata/_core/spatialdata.py:185: UserWarning: The table is annotating 'cell_labels', which is not present in the SpatialData object.\n",
      "  self.validate_table_in_spatialdata(v)\n",
      "/work/PRTNR/CHUV/DIR/rgottar1/spatial/env/jbac/miniforge3/envs/spatial/lib/python3.11/site-packages/spatialdata/_core/spatialdata.py:185: UserWarning: The table is annotating 'cell_labels', which is not present in the SpatialData object.\n",
      "  self.validate_table_in_spatialdata(v)\n",
      "/work/PRTNR/CHUV/DIR/rgottar1/spatial/env/jbac/miniforge3/envs/spatial/lib/python3.11/site-packages/spatialdata/_core/spatialdata.py:185: UserWarning: The table is annotating 'cell_labels', which is not present in the SpatialData object.\n",
      "  self.validate_table_in_spatialdata(v)\n",
      "/work/PRTNR/CHUV/DIR/rgottar1/spatial/env/jbac/miniforge3/envs/spatial/lib/python3.11/site-packages/spatialdata/_core/spatialdata.py:185: UserWarning: The table is annotating 'cell_labels', which is not present in the SpatialData object.\n",
      "  self.validate_table_in_spatialdata(v)\n",
      "/work/PRTNR/CHUV/DIR/rgottar1/spatial/env/jbac/miniforge3/envs/spatial/lib/python3.11/site-packages/spatialdata/_core/spatialdata.py:185: UserWarning: The table is annotating 'cell_labels', which is not present in the SpatialData object.\n",
      "  self.validate_table_in_spatialdata(v)\n",
      "/work/PRTNR/CHUV/DIR/rgottar1/spatial/env/jbac/miniforge3/envs/spatial/lib/python3.11/site-packages/spatialdata/_core/spatialdata.py:185: UserWarning: The table is annotating 'cell_labels', which is not present in the SpatialData object.\n",
      "  self.validate_table_in_spatialdata(v)\n"
     ]
    }
   ],
   "source": [
    "# cfg paths\n",
    "xenium_dir = Path(cfg['xenium_processed_data_dir'])\n",
    "xenium_raw_data_dir = Path(cfg['xenium_raw_data_dir'])\n",
    "results_dir = Path(cfg['results_dir'])\n",
    "\n",
    "# Segmentation, mapping paths\n",
    "dir_segmentations = {\n",
    "    dir_segmentation.name: (dir_segmentation)\n",
    "    for dir_segmentation in xenium_dir.iterdir()\n",
    "}\n",
    "# dir_segmentations['default'] = xenium_raw_data_dir\n",
    "\n",
    "# Params\n",
    "# SEGMENTATIONS = list(dir_segmentations.keys())\n",
    "# conditions = [p.stem for p in xenium_raw_data_dir.iterdir() if p.is_dir()]\n",
    "# conditions_PANELS = {condition: [p.stem for p in (xenium_raw_data_dir / condition).iterdir()] for condition in conditions}\n",
    "# conditions_donors = {(condition,panel): \n",
    "#                         [sample.stem \n",
    "#                         for donor in (xenium_raw_data_dir / condition / panel).iterdir()\n",
    "#                         for sample in donor.iterdir()\n",
    "#                         if 'corrupt' not in sample.name and 'output' not in sample.name and sample.is_dir()] \n",
    "#                     for condition in conditions \n",
    "#                     for panel in conditions_PANELS[condition]}\n",
    "\n",
    "\n",
    "# Read resegmentations and RCTD\n",
    "xenium_paths = {}\n",
    "umaps = {}\n",
    "\n",
    "for segmentation in (segmentations := xenium_dir.iterdir()):\n",
    "    for condition in (conditions := segmentation.iterdir()): \n",
    "        for panel in (panels := condition.iterdir()):\n",
    "            for donor in (donors := panel.iterdir()):\n",
    "                for sample in (samples := donor.iterdir()):\n",
    "                    \n",
    "                    k = (segmentation.stem,condition.stem,panel.stem,donor.stem,sample.stem)\n",
    "                    sample_path = sample / \"normalised_results/outs\"\n",
    "                    name = '/'.join(k)\n",
    "\n",
    "                    xenium_paths[k] = sample_path\n",
    "                    # if (sample_path / 'analysis/umap/gene_expression_2_components/projection.csv').exists():\n",
    "                    #     umaps[k] = pd.read_csv(sample_path / 'analysis/umap/gene_expression_2_components/projection.csv',index_col=0)\n",
    "\n",
    "\n",
    "\n",
    "# CC, pos_rate = readwrite.read_coexpression_files(cc_paths, results_dir)\n",
    "xenium_levels = ('segmentation','condition','panel','donor','sample')\n",
    "ads = readwrite.read_xenium_samples(xenium_paths,anndata_only=True,transcripts=False,sample_name_as_key=False)\n",
    "# ads = pd.Series(ads.values(),\n",
    "#                 index=pd.Index(ads.keys(),name = xenium_levels),\n",
    "#                 dtype=object).sort_index()"
   ]
  },
  {
   "cell_type": "code",
   "execution_count": 96,
   "metadata": {},
   "outputs": [
    {
     "name": "stderr",
     "output_type": "stream",
     "text": [
      "/tmp/ipykernel_653942/1838020542.py:23: ImplicitModificationWarning: Trying to modify attribute `.obs` of view, initializing view as actual.\n",
      "  ad_common.obs['n_counts'] = ad_common.X.sum(1).A1\n",
      "/tmp/ipykernel_653942/1838020542.py:23: ImplicitModificationWarning: Trying to modify attribute `.obs` of view, initializing view as actual.\n",
      "  ad_common.obs['n_counts'] = ad_common.X.sum(1).A1\n",
      "/tmp/ipykernel_653942/1838020542.py:23: ImplicitModificationWarning: Trying to modify attribute `.obs` of view, initializing view as actual.\n",
      "  ad_common.obs['n_counts'] = ad_common.X.sum(1).A1\n",
      "/tmp/ipykernel_653942/1838020542.py:23: ImplicitModificationWarning: Trying to modify attribute `.obs` of view, initializing view as actual.\n",
      "  ad_common.obs['n_counts'] = ad_common.X.sum(1).A1\n",
      "/tmp/ipykernel_653942/1838020542.py:23: ImplicitModificationWarning: Trying to modify attribute `.obs` of view, initializing view as actual.\n",
      "  ad_common.obs['n_counts'] = ad_common.X.sum(1).A1\n",
      "/tmp/ipykernel_653942/1838020542.py:23: ImplicitModificationWarning: Trying to modify attribute `.obs` of view, initializing view as actual.\n",
      "  ad_common.obs['n_counts'] = ad_common.X.sum(1).A1\n",
      "/tmp/ipykernel_653942/1838020542.py:23: ImplicitModificationWarning: Trying to modify attribute `.obs` of view, initializing view as actual.\n",
      "  ad_common.obs['n_counts'] = ad_common.X.sum(1).A1\n",
      "/tmp/ipykernel_653942/1838020542.py:23: ImplicitModificationWarning: Trying to modify attribute `.obs` of view, initializing view as actual.\n",
      "  ad_common.obs['n_counts'] = ad_common.X.sum(1).A1\n",
      "/tmp/ipykernel_653942/1838020542.py:23: ImplicitModificationWarning: Trying to modify attribute `.obs` of view, initializing view as actual.\n",
      "  ad_common.obs['n_counts'] = ad_common.X.sum(1).A1\n",
      "/tmp/ipykernel_653942/1838020542.py:23: ImplicitModificationWarning: Trying to modify attribute `.obs` of view, initializing view as actual.\n",
      "  ad_common.obs['n_counts'] = ad_common.X.sum(1).A1\n",
      "/tmp/ipykernel_653942/1838020542.py:23: ImplicitModificationWarning: Trying to modify attribute `.obs` of view, initializing view as actual.\n",
      "  ad_common.obs['n_counts'] = ad_common.X.sum(1).A1\n",
      "/tmp/ipykernel_653942/1838020542.py:23: ImplicitModificationWarning: Trying to modify attribute `.obs` of view, initializing view as actual.\n",
      "  ad_common.obs['n_counts'] = ad_common.X.sum(1).A1\n",
      "/tmp/ipykernel_653942/1838020542.py:23: ImplicitModificationWarning: Trying to modify attribute `.obs` of view, initializing view as actual.\n",
      "  ad_common.obs['n_counts'] = ad_common.X.sum(1).A1\n",
      "/tmp/ipykernel_653942/1838020542.py:23: ImplicitModificationWarning: Trying to modify attribute `.obs` of view, initializing view as actual.\n",
      "  ad_common.obs['n_counts'] = ad_common.X.sum(1).A1\n",
      "/tmp/ipykernel_653942/1838020542.py:23: ImplicitModificationWarning: Trying to modify attribute `.obs` of view, initializing view as actual.\n",
      "  ad_common.obs['n_counts'] = ad_common.X.sum(1).A1\n",
      "/tmp/ipykernel_653942/1838020542.py:23: ImplicitModificationWarning: Trying to modify attribute `.obs` of view, initializing view as actual.\n",
      "  ad_common.obs['n_counts'] = ad_common.X.sum(1).A1\n",
      "/tmp/ipykernel_653942/1838020542.py:23: ImplicitModificationWarning: Trying to modify attribute `.obs` of view, initializing view as actual.\n",
      "  ad_common.obs['n_counts'] = ad_common.X.sum(1).A1\n",
      "/tmp/ipykernel_653942/1838020542.py:23: ImplicitModificationWarning: Trying to modify attribute `.obs` of view, initializing view as actual.\n",
      "  ad_common.obs['n_counts'] = ad_common.X.sum(1).A1\n",
      "/tmp/ipykernel_653942/1838020542.py:23: ImplicitModificationWarning: Trying to modify attribute `.obs` of view, initializing view as actual.\n",
      "  ad_common.obs['n_counts'] = ad_common.X.sum(1).A1\n",
      "/tmp/ipykernel_653942/1838020542.py:23: ImplicitModificationWarning: Trying to modify attribute `.obs` of view, initializing view as actual.\n",
      "  ad_common.obs['n_counts'] = ad_common.X.sum(1).A1\n",
      "/tmp/ipykernel_653942/1838020542.py:23: ImplicitModificationWarning: Trying to modify attribute `.obs` of view, initializing view as actual.\n",
      "  ad_common.obs['n_counts'] = ad_common.X.sum(1).A1\n",
      "/tmp/ipykernel_653942/1838020542.py:23: ImplicitModificationWarning: Trying to modify attribute `.obs` of view, initializing view as actual.\n",
      "  ad_common.obs['n_counts'] = ad_common.X.sum(1).A1\n",
      "/tmp/ipykernel_653942/1838020542.py:23: ImplicitModificationWarning: Trying to modify attribute `.obs` of view, initializing view as actual.\n",
      "  ad_common.obs['n_counts'] = ad_common.X.sum(1).A1\n",
      "/tmp/ipykernel_653942/1838020542.py:23: ImplicitModificationWarning: Trying to modify attribute `.obs` of view, initializing view as actual.\n",
      "  ad_common.obs['n_counts'] = ad_common.X.sum(1).A1\n",
      "/tmp/ipykernel_653942/1838020542.py:23: ImplicitModificationWarning: Trying to modify attribute `.obs` of view, initializing view as actual.\n",
      "  ad_common.obs['n_counts'] = ad_common.X.sum(1).A1\n",
      "/tmp/ipykernel_653942/1838020542.py:23: ImplicitModificationWarning: Trying to modify attribute `.obs` of view, initializing view as actual.\n",
      "  ad_common.obs['n_counts'] = ad_common.X.sum(1).A1\n",
      "/tmp/ipykernel_653942/1838020542.py:23: ImplicitModificationWarning: Trying to modify attribute `.obs` of view, initializing view as actual.\n",
      "  ad_common.obs['n_counts'] = ad_common.X.sum(1).A1\n",
      "/tmp/ipykernel_653942/1838020542.py:23: ImplicitModificationWarning: Trying to modify attribute `.obs` of view, initializing view as actual.\n",
      "  ad_common.obs['n_counts'] = ad_common.X.sum(1).A1\n",
      "/tmp/ipykernel_653942/1838020542.py:23: ImplicitModificationWarning: Trying to modify attribute `.obs` of view, initializing view as actual.\n",
      "  ad_common.obs['n_counts'] = ad_common.X.sum(1).A1\n",
      "/tmp/ipykernel_653942/1838020542.py:23: ImplicitModificationWarning: Trying to modify attribute `.obs` of view, initializing view as actual.\n",
      "  ad_common.obs['n_counts'] = ad_common.X.sum(1).A1\n",
      "/tmp/ipykernel_653942/1838020542.py:23: ImplicitModificationWarning: Trying to modify attribute `.obs` of view, initializing view as actual.\n",
      "  ad_common.obs['n_counts'] = ad_common.X.sum(1).A1\n",
      "/tmp/ipykernel_653942/1838020542.py:23: ImplicitModificationWarning: Trying to modify attribute `.obs` of view, initializing view as actual.\n",
      "  ad_common.obs['n_counts'] = ad_common.X.sum(1).A1\n",
      "/tmp/ipykernel_653942/1838020542.py:23: ImplicitModificationWarning: Trying to modify attribute `.obs` of view, initializing view as actual.\n",
      "  ad_common.obs['n_counts'] = ad_common.X.sum(1).A1\n",
      "/tmp/ipykernel_653942/1838020542.py:23: ImplicitModificationWarning: Trying to modify attribute `.obs` of view, initializing view as actual.\n",
      "  ad_common.obs['n_counts'] = ad_common.X.sum(1).A1\n",
      "/tmp/ipykernel_653942/1838020542.py:23: ImplicitModificationWarning: Trying to modify attribute `.obs` of view, initializing view as actual.\n",
      "  ad_common.obs['n_counts'] = ad_common.X.sum(1).A1\n",
      "/tmp/ipykernel_653942/1838020542.py:23: ImplicitModificationWarning: Trying to modify attribute `.obs` of view, initializing view as actual.\n",
      "  ad_common.obs['n_counts'] = ad_common.X.sum(1).A1\n",
      "/tmp/ipykernel_653942/1838020542.py:23: ImplicitModificationWarning: Trying to modify attribute `.obs` of view, initializing view as actual.\n",
      "  ad_common.obs['n_counts'] = ad_common.X.sum(1).A1\n",
      "/tmp/ipykernel_653942/1838020542.py:23: ImplicitModificationWarning: Trying to modify attribute `.obs` of view, initializing view as actual.\n",
      "  ad_common.obs['n_counts'] = ad_common.X.sum(1).A1\n",
      "/tmp/ipykernel_653942/1838020542.py:23: ImplicitModificationWarning: Trying to modify attribute `.obs` of view, initializing view as actual.\n",
      "  ad_common.obs['n_counts'] = ad_common.X.sum(1).A1\n",
      "/tmp/ipykernel_653942/1838020542.py:23: ImplicitModificationWarning: Trying to modify attribute `.obs` of view, initializing view as actual.\n",
      "  ad_common.obs['n_counts'] = ad_common.X.sum(1).A1\n",
      "/tmp/ipykernel_653942/1838020542.py:23: ImplicitModificationWarning: Trying to modify attribute `.obs` of view, initializing view as actual.\n",
      "  ad_common.obs['n_counts'] = ad_common.X.sum(1).A1\n",
      "/tmp/ipykernel_653942/1838020542.py:23: ImplicitModificationWarning: Trying to modify attribute `.obs` of view, initializing view as actual.\n",
      "  ad_common.obs['n_counts'] = ad_common.X.sum(1).A1\n",
      "/tmp/ipykernel_653942/1838020542.py:23: ImplicitModificationWarning: Trying to modify attribute `.obs` of view, initializing view as actual.\n",
      "  ad_common.obs['n_counts'] = ad_common.X.sum(1).A1\n",
      "/tmp/ipykernel_653942/1838020542.py:23: ImplicitModificationWarning: Trying to modify attribute `.obs` of view, initializing view as actual.\n",
      "  ad_common.obs['n_counts'] = ad_common.X.sum(1).A1\n",
      "/tmp/ipykernel_653942/1838020542.py:23: ImplicitModificationWarning: Trying to modify attribute `.obs` of view, initializing view as actual.\n",
      "  ad_common.obs['n_counts'] = ad_common.X.sum(1).A1\n",
      "/tmp/ipykernel_653942/1838020542.py:23: ImplicitModificationWarning: Trying to modify attribute `.obs` of view, initializing view as actual.\n",
      "  ad_common.obs['n_counts'] = ad_common.X.sum(1).A1\n",
      "/tmp/ipykernel_653942/1838020542.py:23: ImplicitModificationWarning: Trying to modify attribute `.obs` of view, initializing view as actual.\n",
      "  ad_common.obs['n_counts'] = ad_common.X.sum(1).A1\n",
      "/tmp/ipykernel_653942/1838020542.py:23: ImplicitModificationWarning: Trying to modify attribute `.obs` of view, initializing view as actual.\n",
      "  ad_common.obs['n_counts'] = ad_common.X.sum(1).A1\n",
      "/tmp/ipykernel_653942/1838020542.py:23: ImplicitModificationWarning: Trying to modify attribute `.obs` of view, initializing view as actual.\n",
      "  ad_common.obs['n_counts'] = ad_common.X.sum(1).A1\n",
      "/tmp/ipykernel_653942/1838020542.py:23: ImplicitModificationWarning: Trying to modify attribute `.obs` of view, initializing view as actual.\n",
      "  ad_common.obs['n_counts'] = ad_common.X.sum(1).A1\n",
      "/tmp/ipykernel_653942/1838020542.py:23: ImplicitModificationWarning: Trying to modify attribute `.obs` of view, initializing view as actual.\n",
      "  ad_common.obs['n_counts'] = ad_common.X.sum(1).A1\n",
      "/tmp/ipykernel_653942/1838020542.py:23: ImplicitModificationWarning: Trying to modify attribute `.obs` of view, initializing view as actual.\n",
      "  ad_common.obs['n_counts'] = ad_common.X.sum(1).A1\n",
      "/tmp/ipykernel_653942/1838020542.py:23: ImplicitModificationWarning: Trying to modify attribute `.obs` of view, initializing view as actual.\n",
      "  ad_common.obs['n_counts'] = ad_common.X.sum(1).A1\n",
      "/tmp/ipykernel_653942/1838020542.py:23: ImplicitModificationWarning: Trying to modify attribute `.obs` of view, initializing view as actual.\n",
      "  ad_common.obs['n_counts'] = ad_common.X.sum(1).A1\n",
      "/tmp/ipykernel_653942/1838020542.py:23: ImplicitModificationWarning: Trying to modify attribute `.obs` of view, initializing view as actual.\n",
      "  ad_common.obs['n_counts'] = ad_common.X.sum(1).A1\n",
      "/tmp/ipykernel_653942/1838020542.py:23: ImplicitModificationWarning: Trying to modify attribute `.obs` of view, initializing view as actual.\n",
      "  ad_common.obs['n_counts'] = ad_common.X.sum(1).A1\n",
      "/tmp/ipykernel_653942/1838020542.py:23: ImplicitModificationWarning: Trying to modify attribute `.obs` of view, initializing view as actual.\n",
      "  ad_common.obs['n_counts'] = ad_common.X.sum(1).A1\n",
      "/tmp/ipykernel_653942/1838020542.py:23: ImplicitModificationWarning: Trying to modify attribute `.obs` of view, initializing view as actual.\n",
      "  ad_common.obs['n_counts'] = ad_common.X.sum(1).A1\n",
      "/tmp/ipykernel_653942/1838020542.py:23: ImplicitModificationWarning: Trying to modify attribute `.obs` of view, initializing view as actual.\n",
      "  ad_common.obs['n_counts'] = ad_common.X.sum(1).A1\n",
      "/tmp/ipykernel_653942/1838020542.py:23: ImplicitModificationWarning: Trying to modify attribute `.obs` of view, initializing view as actual.\n",
      "  ad_common.obs['n_counts'] = ad_common.X.sum(1).A1\n",
      "/tmp/ipykernel_653942/1838020542.py:23: ImplicitModificationWarning: Trying to modify attribute `.obs` of view, initializing view as actual.\n",
      "  ad_common.obs['n_counts'] = ad_common.X.sum(1).A1\n",
      "/tmp/ipykernel_653942/1838020542.py:23: ImplicitModificationWarning: Trying to modify attribute `.obs` of view, initializing view as actual.\n",
      "  ad_common.obs['n_counts'] = ad_common.X.sum(1).A1\n",
      "/tmp/ipykernel_653942/1838020542.py:23: ImplicitModificationWarning: Trying to modify attribute `.obs` of view, initializing view as actual.\n",
      "  ad_common.obs['n_counts'] = ad_common.X.sum(1).A1\n",
      "/tmp/ipykernel_653942/1838020542.py:23: ImplicitModificationWarning: Trying to modify attribute `.obs` of view, initializing view as actual.\n",
      "  ad_common.obs['n_counts'] = ad_common.X.sum(1).A1\n",
      "/tmp/ipykernel_653942/1838020542.py:23: ImplicitModificationWarning: Trying to modify attribute `.obs` of view, initializing view as actual.\n",
      "  ad_common.obs['n_counts'] = ad_common.X.sum(1).A1\n",
      "/tmp/ipykernel_653942/1838020542.py:23: ImplicitModificationWarning: Trying to modify attribute `.obs` of view, initializing view as actual.\n",
      "  ad_common.obs['n_counts'] = ad_common.X.sum(1).A1\n",
      "/tmp/ipykernel_653942/1838020542.py:23: ImplicitModificationWarning: Trying to modify attribute `.obs` of view, initializing view as actual.\n",
      "  ad_common.obs['n_counts'] = ad_common.X.sum(1).A1\n",
      "/tmp/ipykernel_653942/1838020542.py:23: ImplicitModificationWarning: Trying to modify attribute `.obs` of view, initializing view as actual.\n",
      "  ad_common.obs['n_counts'] = ad_common.X.sum(1).A1\n",
      "/tmp/ipykernel_653942/1838020542.py:23: ImplicitModificationWarning: Trying to modify attribute `.obs` of view, initializing view as actual.\n",
      "  ad_common.obs['n_counts'] = ad_common.X.sum(1).A1\n",
      "/tmp/ipykernel_653942/1838020542.py:23: ImplicitModificationWarning: Trying to modify attribute `.obs` of view, initializing view as actual.\n",
      "  ad_common.obs['n_counts'] = ad_common.X.sum(1).A1\n",
      "/tmp/ipykernel_653942/1838020542.py:23: ImplicitModificationWarning: Trying to modify attribute `.obs` of view, initializing view as actual.\n",
      "  ad_common.obs['n_counts'] = ad_common.X.sum(1).A1\n",
      "/tmp/ipykernel_653942/1838020542.py:23: ImplicitModificationWarning: Trying to modify attribute `.obs` of view, initializing view as actual.\n",
      "  ad_common.obs['n_counts'] = ad_common.X.sum(1).A1\n",
      "/tmp/ipykernel_653942/1838020542.py:23: ImplicitModificationWarning: Trying to modify attribute `.obs` of view, initializing view as actual.\n",
      "  ad_common.obs['n_counts'] = ad_common.X.sum(1).A1\n",
      "/tmp/ipykernel_653942/1838020542.py:23: ImplicitModificationWarning: Trying to modify attribute `.obs` of view, initializing view as actual.\n",
      "  ad_common.obs['n_counts'] = ad_common.X.sum(1).A1\n",
      "/tmp/ipykernel_653942/1838020542.py:23: ImplicitModificationWarning: Trying to modify attribute `.obs` of view, initializing view as actual.\n",
      "  ad_common.obs['n_counts'] = ad_common.X.sum(1).A1\n",
      "/tmp/ipykernel_653942/1838020542.py:23: ImplicitModificationWarning: Trying to modify attribute `.obs` of view, initializing view as actual.\n",
      "  ad_common.obs['n_counts'] = ad_common.X.sum(1).A1\n",
      "/tmp/ipykernel_653942/1838020542.py:23: ImplicitModificationWarning: Trying to modify attribute `.obs` of view, initializing view as actual.\n",
      "  ad_common.obs['n_counts'] = ad_common.X.sum(1).A1\n",
      "/tmp/ipykernel_653942/1838020542.py:23: ImplicitModificationWarning: Trying to modify attribute `.obs` of view, initializing view as actual.\n",
      "  ad_common.obs['n_counts'] = ad_common.X.sum(1).A1\n",
      "/tmp/ipykernel_653942/1838020542.py:23: ImplicitModificationWarning: Trying to modify attribute `.obs` of view, initializing view as actual.\n",
      "  ad_common.obs['n_counts'] = ad_common.X.sum(1).A1\n",
      "/tmp/ipykernel_653942/1838020542.py:23: ImplicitModificationWarning: Trying to modify attribute `.obs` of view, initializing view as actual.\n",
      "  ad_common.obs['n_counts'] = ad_common.X.sum(1).A1\n",
      "/tmp/ipykernel_653942/1838020542.py:23: ImplicitModificationWarning: Trying to modify attribute `.obs` of view, initializing view as actual.\n",
      "  ad_common.obs['n_counts'] = ad_common.X.sum(1).A1\n",
      "/tmp/ipykernel_653942/1838020542.py:23: ImplicitModificationWarning: Trying to modify attribute `.obs` of view, initializing view as actual.\n",
      "  ad_common.obs['n_counts'] = ad_common.X.sum(1).A1\n",
      "/tmp/ipykernel_653942/1838020542.py:23: ImplicitModificationWarning: Trying to modify attribute `.obs` of view, initializing view as actual.\n",
      "  ad_common.obs['n_counts'] = ad_common.X.sum(1).A1\n",
      "/tmp/ipykernel_653942/1838020542.py:23: ImplicitModificationWarning: Trying to modify attribute `.obs` of view, initializing view as actual.\n",
      "  ad_common.obs['n_counts'] = ad_common.X.sum(1).A1\n",
      "/tmp/ipykernel_653942/1838020542.py:23: ImplicitModificationWarning: Trying to modify attribute `.obs` of view, initializing view as actual.\n",
      "  ad_common.obs['n_counts'] = ad_common.X.sum(1).A1\n",
      "/tmp/ipykernel_653942/1838020542.py:23: ImplicitModificationWarning: Trying to modify attribute `.obs` of view, initializing view as actual.\n",
      "  ad_common.obs['n_counts'] = ad_common.X.sum(1).A1\n",
      "/tmp/ipykernel_653942/1838020542.py:23: ImplicitModificationWarning: Trying to modify attribute `.obs` of view, initializing view as actual.\n",
      "  ad_common.obs['n_counts'] = ad_common.X.sum(1).A1\n",
      "/tmp/ipykernel_653942/1838020542.py:23: ImplicitModificationWarning: Trying to modify attribute `.obs` of view, initializing view as actual.\n",
      "  ad_common.obs['n_counts'] = ad_common.X.sum(1).A1\n",
      "/tmp/ipykernel_653942/1838020542.py:23: ImplicitModificationWarning: Trying to modify attribute `.obs` of view, initializing view as actual.\n",
      "  ad_common.obs['n_counts'] = ad_common.X.sum(1).A1\n",
      "/tmp/ipykernel_653942/1838020542.py:23: ImplicitModificationWarning: Trying to modify attribute `.obs` of view, initializing view as actual.\n",
      "  ad_common.obs['n_counts'] = ad_common.X.sum(1).A1\n",
      "/tmp/ipykernel_653942/1838020542.py:23: ImplicitModificationWarning: Trying to modify attribute `.obs` of view, initializing view as actual.\n",
      "  ad_common.obs['n_counts'] = ad_common.X.sum(1).A1\n",
      "/tmp/ipykernel_653942/1838020542.py:23: ImplicitModificationWarning: Trying to modify attribute `.obs` of view, initializing view as actual.\n",
      "  ad_common.obs['n_counts'] = ad_common.X.sum(1).A1\n",
      "/tmp/ipykernel_653942/1838020542.py:23: ImplicitModificationWarning: Trying to modify attribute `.obs` of view, initializing view as actual.\n",
      "  ad_common.obs['n_counts'] = ad_common.X.sum(1).A1\n",
      "/tmp/ipykernel_653942/1838020542.py:23: ImplicitModificationWarning: Trying to modify attribute `.obs` of view, initializing view as actual.\n",
      "  ad_common.obs['n_counts'] = ad_common.X.sum(1).A1\n",
      "/tmp/ipykernel_653942/1838020542.py:23: ImplicitModificationWarning: Trying to modify attribute `.obs` of view, initializing view as actual.\n",
      "  ad_common.obs['n_counts'] = ad_common.X.sum(1).A1\n",
      "/tmp/ipykernel_653942/1838020542.py:23: ImplicitModificationWarning: Trying to modify attribute `.obs` of view, initializing view as actual.\n",
      "  ad_common.obs['n_counts'] = ad_common.X.sum(1).A1\n",
      "/tmp/ipykernel_653942/1838020542.py:23: ImplicitModificationWarning: Trying to modify attribute `.obs` of view, initializing view as actual.\n",
      "  ad_common.obs['n_counts'] = ad_common.X.sum(1).A1\n",
      "/tmp/ipykernel_653942/1838020542.py:23: ImplicitModificationWarning: Trying to modify attribute `.obs` of view, initializing view as actual.\n",
      "  ad_common.obs['n_counts'] = ad_common.X.sum(1).A1\n",
      "/tmp/ipykernel_653942/1838020542.py:23: ImplicitModificationWarning: Trying to modify attribute `.obs` of view, initializing view as actual.\n",
      "  ad_common.obs['n_counts'] = ad_common.X.sum(1).A1\n",
      "/tmp/ipykernel_653942/1838020542.py:23: ImplicitModificationWarning: Trying to modify attribute `.obs` of view, initializing view as actual.\n",
      "  ad_common.obs['n_counts'] = ad_common.X.sum(1).A1\n",
      "/tmp/ipykernel_653942/1838020542.py:23: ImplicitModificationWarning: Trying to modify attribute `.obs` of view, initializing view as actual.\n",
      "  ad_common.obs['n_counts'] = ad_common.X.sum(1).A1\n",
      "/tmp/ipykernel_653942/1838020542.py:23: ImplicitModificationWarning: Trying to modify attribute `.obs` of view, initializing view as actual.\n",
      "  ad_common.obs['n_counts'] = ad_common.X.sum(1).A1\n",
      "/tmp/ipykernel_653942/1838020542.py:23: ImplicitModificationWarning: Trying to modify attribute `.obs` of view, initializing view as actual.\n",
      "  ad_common.obs['n_counts'] = ad_common.X.sum(1).A1\n",
      "/tmp/ipykernel_653942/1838020542.py:23: ImplicitModificationWarning: Trying to modify attribute `.obs` of view, initializing view as actual.\n",
      "  ad_common.obs['n_counts'] = ad_common.X.sum(1).A1\n",
      "/tmp/ipykernel_653942/1838020542.py:23: ImplicitModificationWarning: Trying to modify attribute `.obs` of view, initializing view as actual.\n",
      "  ad_common.obs['n_counts'] = ad_common.X.sum(1).A1\n",
      "/tmp/ipykernel_653942/1838020542.py:23: ImplicitModificationWarning: Trying to modify attribute `.obs` of view, initializing view as actual.\n",
      "  ad_common.obs['n_counts'] = ad_common.X.sum(1).A1\n",
      "/tmp/ipykernel_653942/1838020542.py:23: ImplicitModificationWarning: Trying to modify attribute `.obs` of view, initializing view as actual.\n",
      "  ad_common.obs['n_counts'] = ad_common.X.sum(1).A1\n",
      "/tmp/ipykernel_653942/1838020542.py:23: ImplicitModificationWarning: Trying to modify attribute `.obs` of view, initializing view as actual.\n",
      "  ad_common.obs['n_counts'] = ad_common.X.sum(1).A1\n",
      "/tmp/ipykernel_653942/1838020542.py:23: ImplicitModificationWarning: Trying to modify attribute `.obs` of view, initializing view as actual.\n",
      "  ad_common.obs['n_counts'] = ad_common.X.sum(1).A1\n",
      "/tmp/ipykernel_653942/1838020542.py:23: ImplicitModificationWarning: Trying to modify attribute `.obs` of view, initializing view as actual.\n",
      "  ad_common.obs['n_counts'] = ad_common.X.sum(1).A1\n",
      "/tmp/ipykernel_653942/1838020542.py:23: ImplicitModificationWarning: Trying to modify attribute `.obs` of view, initializing view as actual.\n",
      "  ad_common.obs['n_counts'] = ad_common.X.sum(1).A1\n",
      "/tmp/ipykernel_653942/1838020542.py:23: ImplicitModificationWarning: Trying to modify attribute `.obs` of view, initializing view as actual.\n",
      "  ad_common.obs['n_counts'] = ad_common.X.sum(1).A1\n",
      "/tmp/ipykernel_653942/1838020542.py:23: ImplicitModificationWarning: Trying to modify attribute `.obs` of view, initializing view as actual.\n",
      "  ad_common.obs['n_counts'] = ad_common.X.sum(1).A1\n",
      "/tmp/ipykernel_653942/1838020542.py:23: ImplicitModificationWarning: Trying to modify attribute `.obs` of view, initializing view as actual.\n",
      "  ad_common.obs['n_counts'] = ad_common.X.sum(1).A1\n",
      "/tmp/ipykernel_653942/1838020542.py:23: ImplicitModificationWarning: Trying to modify attribute `.obs` of view, initializing view as actual.\n",
      "  ad_common.obs['n_counts'] = ad_common.X.sum(1).A1\n",
      "/tmp/ipykernel_653942/1838020542.py:23: ImplicitModificationWarning: Trying to modify attribute `.obs` of view, initializing view as actual.\n",
      "  ad_common.obs['n_counts'] = ad_common.X.sum(1).A1\n",
      "/tmp/ipykernel_653942/1838020542.py:23: ImplicitModificationWarning: Trying to modify attribute `.obs` of view, initializing view as actual.\n",
      "  ad_common.obs['n_counts'] = ad_common.X.sum(1).A1\n",
      "/tmp/ipykernel_653942/1838020542.py:23: ImplicitModificationWarning: Trying to modify attribute `.obs` of view, initializing view as actual.\n",
      "  ad_common.obs['n_counts'] = ad_common.X.sum(1).A1\n",
      "/tmp/ipykernel_653942/1838020542.py:23: ImplicitModificationWarning: Trying to modify attribute `.obs` of view, initializing view as actual.\n",
      "  ad_common.obs['n_counts'] = ad_common.X.sum(1).A1\n",
      "/tmp/ipykernel_653942/1838020542.py:23: ImplicitModificationWarning: Trying to modify attribute `.obs` of view, initializing view as actual.\n",
      "  ad_common.obs['n_counts'] = ad_common.X.sum(1).A1\n",
      "/tmp/ipykernel_653942/1838020542.py:23: ImplicitModificationWarning: Trying to modify attribute `.obs` of view, initializing view as actual.\n",
      "  ad_common.obs['n_counts'] = ad_common.X.sum(1).A1\n",
      "/tmp/ipykernel_653942/1838020542.py:23: ImplicitModificationWarning: Trying to modify attribute `.obs` of view, initializing view as actual.\n",
      "  ad_common.obs['n_counts'] = ad_common.X.sum(1).A1\n",
      "/tmp/ipykernel_653942/1838020542.py:23: ImplicitModificationWarning: Trying to modify attribute `.obs` of view, initializing view as actual.\n",
      "  ad_common.obs['n_counts'] = ad_common.X.sum(1).A1\n",
      "/tmp/ipykernel_653942/1838020542.py:23: ImplicitModificationWarning: Trying to modify attribute `.obs` of view, initializing view as actual.\n",
      "  ad_common.obs['n_counts'] = ad_common.X.sum(1).A1\n",
      "/tmp/ipykernel_653942/1838020542.py:23: ImplicitModificationWarning: Trying to modify attribute `.obs` of view, initializing view as actual.\n",
      "  ad_common.obs['n_counts'] = ad_common.X.sum(1).A1\n",
      "/tmp/ipykernel_653942/1838020542.py:23: ImplicitModificationWarning: Trying to modify attribute `.obs` of view, initializing view as actual.\n",
      "  ad_common.obs['n_counts'] = ad_common.X.sum(1).A1\n",
      "/tmp/ipykernel_653942/1838020542.py:23: ImplicitModificationWarning: Trying to modify attribute `.obs` of view, initializing view as actual.\n",
      "  ad_common.obs['n_counts'] = ad_common.X.sum(1).A1\n",
      "/tmp/ipykernel_653942/1838020542.py:23: ImplicitModificationWarning: Trying to modify attribute `.obs` of view, initializing view as actual.\n",
      "  ad_common.obs['n_counts'] = ad_common.X.sum(1).A1\n",
      "/tmp/ipykernel_653942/1838020542.py:23: ImplicitModificationWarning: Trying to modify attribute `.obs` of view, initializing view as actual.\n",
      "  ad_common.obs['n_counts'] = ad_common.X.sum(1).A1\n",
      "/tmp/ipykernel_653942/1838020542.py:23: ImplicitModificationWarning: Trying to modify attribute `.obs` of view, initializing view as actual.\n",
      "  ad_common.obs['n_counts'] = ad_common.X.sum(1).A1\n",
      "/tmp/ipykernel_653942/1838020542.py:23: ImplicitModificationWarning: Trying to modify attribute `.obs` of view, initializing view as actual.\n",
      "  ad_common.obs['n_counts'] = ad_common.X.sum(1).A1\n",
      "/tmp/ipykernel_653942/1838020542.py:23: ImplicitModificationWarning: Trying to modify attribute `.obs` of view, initializing view as actual.\n",
      "  ad_common.obs['n_counts'] = ad_common.X.sum(1).A1\n",
      "/tmp/ipykernel_653942/1838020542.py:23: ImplicitModificationWarning: Trying to modify attribute `.obs` of view, initializing view as actual.\n",
      "  ad_common.obs['n_counts'] = ad_common.X.sum(1).A1\n",
      "/tmp/ipykernel_653942/1838020542.py:23: ImplicitModificationWarning: Trying to modify attribute `.obs` of view, initializing view as actual.\n",
      "  ad_common.obs['n_counts'] = ad_common.X.sum(1).A1\n",
      "/tmp/ipykernel_653942/1838020542.py:23: ImplicitModificationWarning: Trying to modify attribute `.obs` of view, initializing view as actual.\n",
      "  ad_common.obs['n_counts'] = ad_common.X.sum(1).A1\n",
      "/tmp/ipykernel_653942/1838020542.py:23: ImplicitModificationWarning: Trying to modify attribute `.obs` of view, initializing view as actual.\n",
      "  ad_common.obs['n_counts'] = ad_common.X.sum(1).A1\n",
      "/tmp/ipykernel_653942/1838020542.py:23: ImplicitModificationWarning: Trying to modify attribute `.obs` of view, initializing view as actual.\n",
      "  ad_common.obs['n_counts'] = ad_common.X.sum(1).A1\n",
      "/tmp/ipykernel_653942/1838020542.py:23: ImplicitModificationWarning: Trying to modify attribute `.obs` of view, initializing view as actual.\n",
      "  ad_common.obs['n_counts'] = ad_common.X.sum(1).A1\n",
      "/tmp/ipykernel_653942/1838020542.py:23: ImplicitModificationWarning: Trying to modify attribute `.obs` of view, initializing view as actual.\n",
      "  ad_common.obs['n_counts'] = ad_common.X.sum(1).A1\n",
      "/tmp/ipykernel_653942/1838020542.py:23: ImplicitModificationWarning: Trying to modify attribute `.obs` of view, initializing view as actual.\n",
      "  ad_common.obs['n_counts'] = ad_common.X.sum(1).A1\n",
      "/tmp/ipykernel_653942/1838020542.py:23: ImplicitModificationWarning: Trying to modify attribute `.obs` of view, initializing view as actual.\n",
      "  ad_common.obs['n_counts'] = ad_common.X.sum(1).A1\n",
      "/tmp/ipykernel_653942/1838020542.py:23: ImplicitModificationWarning: Trying to modify attribute `.obs` of view, initializing view as actual.\n",
      "  ad_common.obs['n_counts'] = ad_common.X.sum(1).A1\n",
      "/tmp/ipykernel_653942/1838020542.py:23: ImplicitModificationWarning: Trying to modify attribute `.obs` of view, initializing view as actual.\n",
      "  ad_common.obs['n_counts'] = ad_common.X.sum(1).A1\n",
      "/tmp/ipykernel_653942/1838020542.py:23: ImplicitModificationWarning: Trying to modify attribute `.obs` of view, initializing view as actual.\n",
      "  ad_common.obs['n_counts'] = ad_common.X.sum(1).A1\n",
      "/tmp/ipykernel_653942/1838020542.py:23: ImplicitModificationWarning: Trying to modify attribute `.obs` of view, initializing view as actual.\n",
      "  ad_common.obs['n_counts'] = ad_common.X.sum(1).A1\n",
      "/tmp/ipykernel_653942/1838020542.py:23: ImplicitModificationWarning: Trying to modify attribute `.obs` of view, initializing view as actual.\n",
      "  ad_common.obs['n_counts'] = ad_common.X.sum(1).A1\n",
      "/tmp/ipykernel_653942/1838020542.py:23: ImplicitModificationWarning: Trying to modify attribute `.obs` of view, initializing view as actual.\n",
      "  ad_common.obs['n_counts'] = ad_common.X.sum(1).A1\n",
      "/tmp/ipykernel_653942/1838020542.py:23: ImplicitModificationWarning: Trying to modify attribute `.obs` of view, initializing view as actual.\n",
      "  ad_common.obs['n_counts'] = ad_common.X.sum(1).A1\n",
      "/tmp/ipykernel_653942/1838020542.py:23: ImplicitModificationWarning: Trying to modify attribute `.obs` of view, initializing view as actual.\n",
      "  ad_common.obs['n_counts'] = ad_common.X.sum(1).A1\n",
      "/tmp/ipykernel_653942/1838020542.py:23: ImplicitModificationWarning: Trying to modify attribute `.obs` of view, initializing view as actual.\n",
      "  ad_common.obs['n_counts'] = ad_common.X.sum(1).A1\n",
      "/tmp/ipykernel_653942/1838020542.py:23: ImplicitModificationWarning: Trying to modify attribute `.obs` of view, initializing view as actual.\n",
      "  ad_common.obs['n_counts'] = ad_common.X.sum(1).A1\n",
      "/tmp/ipykernel_653942/1838020542.py:23: ImplicitModificationWarning: Trying to modify attribute `.obs` of view, initializing view as actual.\n",
      "  ad_common.obs['n_counts'] = ad_common.X.sum(1).A1\n",
      "/tmp/ipykernel_653942/1838020542.py:23: ImplicitModificationWarning: Trying to modify attribute `.obs` of view, initializing view as actual.\n",
      "  ad_common.obs['n_counts'] = ad_common.X.sum(1).A1\n",
      "/tmp/ipykernel_653942/1838020542.py:23: ImplicitModificationWarning: Trying to modify attribute `.obs` of view, initializing view as actual.\n",
      "  ad_common.obs['n_counts'] = ad_common.X.sum(1).A1\n",
      "/tmp/ipykernel_653942/1838020542.py:23: ImplicitModificationWarning: Trying to modify attribute `.obs` of view, initializing view as actual.\n",
      "  ad_common.obs['n_counts'] = ad_common.X.sum(1).A1\n",
      "/tmp/ipykernel_653942/1838020542.py:23: ImplicitModificationWarning: Trying to modify attribute `.obs` of view, initializing view as actual.\n",
      "  ad_common.obs['n_counts'] = ad_common.X.sum(1).A1\n",
      "/tmp/ipykernel_653942/1838020542.py:23: ImplicitModificationWarning: Trying to modify attribute `.obs` of view, initializing view as actual.\n",
      "  ad_common.obs['n_counts'] = ad_common.X.sum(1).A1\n",
      "/tmp/ipykernel_653942/1838020542.py:23: ImplicitModificationWarning: Trying to modify attribute `.obs` of view, initializing view as actual.\n",
      "  ad_common.obs['n_counts'] = ad_common.X.sum(1).A1\n",
      "/tmp/ipykernel_653942/1838020542.py:23: ImplicitModificationWarning: Trying to modify attribute `.obs` of view, initializing view as actual.\n",
      "  ad_common.obs['n_counts'] = ad_common.X.sum(1).A1\n",
      "/tmp/ipykernel_653942/1838020542.py:23: ImplicitModificationWarning: Trying to modify attribute `.obs` of view, initializing view as actual.\n",
      "  ad_common.obs['n_counts'] = ad_common.X.sum(1).A1\n",
      "/tmp/ipykernel_653942/1838020542.py:23: ImplicitModificationWarning: Trying to modify attribute `.obs` of view, initializing view as actual.\n",
      "  ad_common.obs['n_counts'] = ad_common.X.sum(1).A1\n",
      "/tmp/ipykernel_653942/1838020542.py:23: ImplicitModificationWarning: Trying to modify attribute `.obs` of view, initializing view as actual.\n",
      "  ad_common.obs['n_counts'] = ad_common.X.sum(1).A1\n",
      "/tmp/ipykernel_653942/1838020542.py:23: ImplicitModificationWarning: Trying to modify attribute `.obs` of view, initializing view as actual.\n",
      "  ad_common.obs['n_counts'] = ad_common.X.sum(1).A1\n",
      "/tmp/ipykernel_653942/1838020542.py:23: ImplicitModificationWarning: Trying to modify attribute `.obs` of view, initializing view as actual.\n",
      "  ad_common.obs['n_counts'] = ad_common.X.sum(1).A1\n",
      "/tmp/ipykernel_653942/1838020542.py:23: ImplicitModificationWarning: Trying to modify attribute `.obs` of view, initializing view as actual.\n",
      "  ad_common.obs['n_counts'] = ad_common.X.sum(1).A1\n",
      "/tmp/ipykernel_653942/1838020542.py:23: ImplicitModificationWarning: Trying to modify attribute `.obs` of view, initializing view as actual.\n",
      "  ad_common.obs['n_counts'] = ad_common.X.sum(1).A1\n",
      "/tmp/ipykernel_653942/1838020542.py:23: ImplicitModificationWarning: Trying to modify attribute `.obs` of view, initializing view as actual.\n",
      "  ad_common.obs['n_counts'] = ad_common.X.sum(1).A1\n",
      "/tmp/ipykernel_653942/1838020542.py:23: ImplicitModificationWarning: Trying to modify attribute `.obs` of view, initializing view as actual.\n",
      "  ad_common.obs['n_counts'] = ad_common.X.sum(1).A1\n",
      "/tmp/ipykernel_653942/1838020542.py:23: ImplicitModificationWarning: Trying to modify attribute `.obs` of view, initializing view as actual.\n",
      "  ad_common.obs['n_counts'] = ad_common.X.sum(1).A1\n",
      "/tmp/ipykernel_653942/1838020542.py:23: ImplicitModificationWarning: Trying to modify attribute `.obs` of view, initializing view as actual.\n",
      "  ad_common.obs['n_counts'] = ad_common.X.sum(1).A1\n",
      "/tmp/ipykernel_653942/1838020542.py:23: ImplicitModificationWarning: Trying to modify attribute `.obs` of view, initializing view as actual.\n",
      "  ad_common.obs['n_counts'] = ad_common.X.sum(1).A1\n",
      "/tmp/ipykernel_653942/1838020542.py:23: ImplicitModificationWarning: Trying to modify attribute `.obs` of view, initializing view as actual.\n",
      "  ad_common.obs['n_counts'] = ad_common.X.sum(1).A1\n",
      "/tmp/ipykernel_653942/1838020542.py:23: ImplicitModificationWarning: Trying to modify attribute `.obs` of view, initializing view as actual.\n",
      "  ad_common.obs['n_counts'] = ad_common.X.sum(1).A1\n",
      "/tmp/ipykernel_653942/1838020542.py:23: ImplicitModificationWarning: Trying to modify attribute `.obs` of view, initializing view as actual.\n",
      "  ad_common.obs['n_counts'] = ad_common.X.sum(1).A1\n",
      "/tmp/ipykernel_653942/1838020542.py:23: ImplicitModificationWarning: Trying to modify attribute `.obs` of view, initializing view as actual.\n",
      "  ad_common.obs['n_counts'] = ad_common.X.sum(1).A1\n",
      "/tmp/ipykernel_653942/1838020542.py:23: ImplicitModificationWarning: Trying to modify attribute `.obs` of view, initializing view as actual.\n",
      "  ad_common.obs['n_counts'] = ad_common.X.sum(1).A1\n",
      "/tmp/ipykernel_653942/1838020542.py:23: ImplicitModificationWarning: Trying to modify attribute `.obs` of view, initializing view as actual.\n",
      "  ad_common.obs['n_counts'] = ad_common.X.sum(1).A1\n",
      "/tmp/ipykernel_653942/1838020542.py:23: ImplicitModificationWarning: Trying to modify attribute `.obs` of view, initializing view as actual.\n",
      "  ad_common.obs['n_counts'] = ad_common.X.sum(1).A1\n",
      "/tmp/ipykernel_653942/1838020542.py:23: ImplicitModificationWarning: Trying to modify attribute `.obs` of view, initializing view as actual.\n",
      "  ad_common.obs['n_counts'] = ad_common.X.sum(1).A1\n",
      "/tmp/ipykernel_653942/1838020542.py:23: ImplicitModificationWarning: Trying to modify attribute `.obs` of view, initializing view as actual.\n",
      "  ad_common.obs['n_counts'] = ad_common.X.sum(1).A1\n",
      "/tmp/ipykernel_653942/1838020542.py:23: ImplicitModificationWarning: Trying to modify attribute `.obs` of view, initializing view as actual.\n",
      "  ad_common.obs['n_counts'] = ad_common.X.sum(1).A1\n",
      "/tmp/ipykernel_653942/1838020542.py:23: ImplicitModificationWarning: Trying to modify attribute `.obs` of view, initializing view as actual.\n",
      "  ad_common.obs['n_counts'] = ad_common.X.sum(1).A1\n",
      "/tmp/ipykernel_653942/1838020542.py:23: ImplicitModificationWarning: Trying to modify attribute `.obs` of view, initializing view as actual.\n",
      "  ad_common.obs['n_counts'] = ad_common.X.sum(1).A1\n",
      "/tmp/ipykernel_653942/1838020542.py:23: ImplicitModificationWarning: Trying to modify attribute `.obs` of view, initializing view as actual.\n",
      "  ad_common.obs['n_counts'] = ad_common.X.sum(1).A1\n",
      "/tmp/ipykernel_653942/1838020542.py:23: ImplicitModificationWarning: Trying to modify attribute `.obs` of view, initializing view as actual.\n",
      "  ad_common.obs['n_counts'] = ad_common.X.sum(1).A1\n",
      "/tmp/ipykernel_653942/1838020542.py:23: ImplicitModificationWarning: Trying to modify attribute `.obs` of view, initializing view as actual.\n",
      "  ad_common.obs['n_counts'] = ad_common.X.sum(1).A1\n",
      "/tmp/ipykernel_653942/1838020542.py:23: ImplicitModificationWarning: Trying to modify attribute `.obs` of view, initializing view as actual.\n",
      "  ad_common.obs['n_counts'] = ad_common.X.sum(1).A1\n",
      "/tmp/ipykernel_653942/1838020542.py:23: ImplicitModificationWarning: Trying to modify attribute `.obs` of view, initializing view as actual.\n",
      "  ad_common.obs['n_counts'] = ad_common.X.sum(1).A1\n",
      "/tmp/ipykernel_653942/1838020542.py:23: ImplicitModificationWarning: Trying to modify attribute `.obs` of view, initializing view as actual.\n",
      "  ad_common.obs['n_counts'] = ad_common.X.sum(1).A1\n",
      "/tmp/ipykernel_653942/1838020542.py:23: ImplicitModificationWarning: Trying to modify attribute `.obs` of view, initializing view as actual.\n",
      "  ad_common.obs['n_counts'] = ad_common.X.sum(1).A1\n",
      "/tmp/ipykernel_653942/1838020542.py:23: ImplicitModificationWarning: Trying to modify attribute `.obs` of view, initializing view as actual.\n",
      "  ad_common.obs['n_counts'] = ad_common.X.sum(1).A1\n",
      "/tmp/ipykernel_653942/1838020542.py:23: ImplicitModificationWarning: Trying to modify attribute `.obs` of view, initializing view as actual.\n",
      "  ad_common.obs['n_counts'] = ad_common.X.sum(1).A1\n",
      "/tmp/ipykernel_653942/1838020542.py:23: ImplicitModificationWarning: Trying to modify attribute `.obs` of view, initializing view as actual.\n",
      "  ad_common.obs['n_counts'] = ad_common.X.sum(1).A1\n",
      "/tmp/ipykernel_653942/1838020542.py:23: ImplicitModificationWarning: Trying to modify attribute `.obs` of view, initializing view as actual.\n",
      "  ad_common.obs['n_counts'] = ad_common.X.sum(1).A1\n",
      "/tmp/ipykernel_653942/1838020542.py:23: ImplicitModificationWarning: Trying to modify attribute `.obs` of view, initializing view as actual.\n",
      "  ad_common.obs['n_counts'] = ad_common.X.sum(1).A1\n",
      "/tmp/ipykernel_653942/1838020542.py:23: ImplicitModificationWarning: Trying to modify attribute `.obs` of view, initializing view as actual.\n",
      "  ad_common.obs['n_counts'] = ad_common.X.sum(1).A1\n",
      "/tmp/ipykernel_653942/1838020542.py:23: ImplicitModificationWarning: Trying to modify attribute `.obs` of view, initializing view as actual.\n",
      "  ad_common.obs['n_counts'] = ad_common.X.sum(1).A1\n",
      "/tmp/ipykernel_653942/1838020542.py:23: ImplicitModificationWarning: Trying to modify attribute `.obs` of view, initializing view as actual.\n",
      "  ad_common.obs['n_counts'] = ad_common.X.sum(1).A1\n",
      "/tmp/ipykernel_653942/1838020542.py:23: ImplicitModificationWarning: Trying to modify attribute `.obs` of view, initializing view as actual.\n",
      "  ad_common.obs['n_counts'] = ad_common.X.sum(1).A1\n",
      "/tmp/ipykernel_653942/1838020542.py:23: ImplicitModificationWarning: Trying to modify attribute `.obs` of view, initializing view as actual.\n",
      "  ad_common.obs['n_counts'] = ad_common.X.sum(1).A1\n",
      "/tmp/ipykernel_653942/1838020542.py:23: ImplicitModificationWarning: Trying to modify attribute `.obs` of view, initializing view as actual.\n",
      "  ad_common.obs['n_counts'] = ad_common.X.sum(1).A1\n",
      "/tmp/ipykernel_653942/1838020542.py:23: ImplicitModificationWarning: Trying to modify attribute `.obs` of view, initializing view as actual.\n",
      "  ad_common.obs['n_counts'] = ad_common.X.sum(1).A1\n",
      "/tmp/ipykernel_653942/1838020542.py:23: ImplicitModificationWarning: Trying to modify attribute `.obs` of view, initializing view as actual.\n",
      "  ad_common.obs['n_counts'] = ad_common.X.sum(1).A1\n",
      "/tmp/ipykernel_653942/1838020542.py:23: ImplicitModificationWarning: Trying to modify attribute `.obs` of view, initializing view as actual.\n",
      "  ad_common.obs['n_counts'] = ad_common.X.sum(1).A1\n",
      "/tmp/ipykernel_653942/1838020542.py:23: ImplicitModificationWarning: Trying to modify attribute `.obs` of view, initializing view as actual.\n",
      "  ad_common.obs['n_counts'] = ad_common.X.sum(1).A1\n",
      "/tmp/ipykernel_653942/1838020542.py:23: ImplicitModificationWarning: Trying to modify attribute `.obs` of view, initializing view as actual.\n",
      "  ad_common.obs['n_counts'] = ad_common.X.sum(1).A1\n",
      "/tmp/ipykernel_653942/1838020542.py:23: ImplicitModificationWarning: Trying to modify attribute `.obs` of view, initializing view as actual.\n",
      "  ad_common.obs['n_counts'] = ad_common.X.sum(1).A1\n",
      "/tmp/ipykernel_653942/1838020542.py:23: ImplicitModificationWarning: Trying to modify attribute `.obs` of view, initializing view as actual.\n",
      "  ad_common.obs['n_counts'] = ad_common.X.sum(1).A1\n",
      "/tmp/ipykernel_653942/1838020542.py:23: ImplicitModificationWarning: Trying to modify attribute `.obs` of view, initializing view as actual.\n",
      "  ad_common.obs['n_counts'] = ad_common.X.sum(1).A1\n",
      "/tmp/ipykernel_653942/1838020542.py:23: ImplicitModificationWarning: Trying to modify attribute `.obs` of view, initializing view as actual.\n",
      "  ad_common.obs['n_counts'] = ad_common.X.sum(1).A1\n",
      "/tmp/ipykernel_653942/1838020542.py:23: ImplicitModificationWarning: Trying to modify attribute `.obs` of view, initializing view as actual.\n",
      "  ad_common.obs['n_counts'] = ad_common.X.sum(1).A1\n",
      "/tmp/ipykernel_653942/1838020542.py:23: ImplicitModificationWarning: Trying to modify attribute `.obs` of view, initializing view as actual.\n",
      "  ad_common.obs['n_counts'] = ad_common.X.sum(1).A1\n",
      "/tmp/ipykernel_653942/1838020542.py:23: ImplicitModificationWarning: Trying to modify attribute `.obs` of view, initializing view as actual.\n",
      "  ad_common.obs['n_counts'] = ad_common.X.sum(1).A1\n",
      "/tmp/ipykernel_653942/1838020542.py:23: ImplicitModificationWarning: Trying to modify attribute `.obs` of view, initializing view as actual.\n",
      "  ad_common.obs['n_counts'] = ad_common.X.sum(1).A1\n",
      "/tmp/ipykernel_653942/1838020542.py:23: ImplicitModificationWarning: Trying to modify attribute `.obs` of view, initializing view as actual.\n",
      "  ad_common.obs['n_counts'] = ad_common.X.sum(1).A1\n",
      "/tmp/ipykernel_653942/1838020542.py:23: ImplicitModificationWarning: Trying to modify attribute `.obs` of view, initializing view as actual.\n",
      "  ad_common.obs['n_counts'] = ad_common.X.sum(1).A1\n",
      "/tmp/ipykernel_653942/1838020542.py:23: ImplicitModificationWarning: Trying to modify attribute `.obs` of view, initializing view as actual.\n",
      "  ad_common.obs['n_counts'] = ad_common.X.sum(1).A1\n",
      "/tmp/ipykernel_653942/1838020542.py:23: ImplicitModificationWarning: Trying to modify attribute `.obs` of view, initializing view as actual.\n",
      "  ad_common.obs['n_counts'] = ad_common.X.sum(1).A1\n",
      "/tmp/ipykernel_653942/1838020542.py:23: ImplicitModificationWarning: Trying to modify attribute `.obs` of view, initializing view as actual.\n",
      "  ad_common.obs['n_counts'] = ad_common.X.sum(1).A1\n",
      "/tmp/ipykernel_653942/1838020542.py:23: ImplicitModificationWarning: Trying to modify attribute `.obs` of view, initializing view as actual.\n",
      "  ad_common.obs['n_counts'] = ad_common.X.sum(1).A1\n",
      "/tmp/ipykernel_653942/1838020542.py:23: ImplicitModificationWarning: Trying to modify attribute `.obs` of view, initializing view as actual.\n",
      "  ad_common.obs['n_counts'] = ad_common.X.sum(1).A1\n",
      "/tmp/ipykernel_653942/1838020542.py:23: ImplicitModificationWarning: Trying to modify attribute `.obs` of view, initializing view as actual.\n",
      "  ad_common.obs['n_counts'] = ad_common.X.sum(1).A1\n",
      "/tmp/ipykernel_653942/1838020542.py:23: ImplicitModificationWarning: Trying to modify attribute `.obs` of view, initializing view as actual.\n",
      "  ad_common.obs['n_counts'] = ad_common.X.sum(1).A1\n",
      "/tmp/ipykernel_653942/1838020542.py:23: ImplicitModificationWarning: Trying to modify attribute `.obs` of view, initializing view as actual.\n",
      "  ad_common.obs['n_counts'] = ad_common.X.sum(1).A1\n",
      "/tmp/ipykernel_653942/1838020542.py:23: ImplicitModificationWarning: Trying to modify attribute `.obs` of view, initializing view as actual.\n",
      "  ad_common.obs['n_counts'] = ad_common.X.sum(1).A1\n",
      "/tmp/ipykernel_653942/1838020542.py:23: ImplicitModificationWarning: Trying to modify attribute `.obs` of view, initializing view as actual.\n",
      "  ad_common.obs['n_counts'] = ad_common.X.sum(1).A1\n",
      "/tmp/ipykernel_653942/1838020542.py:23: ImplicitModificationWarning: Trying to modify attribute `.obs` of view, initializing view as actual.\n",
      "  ad_common.obs['n_counts'] = ad_common.X.sum(1).A1\n",
      "/tmp/ipykernel_653942/1838020542.py:23: ImplicitModificationWarning: Trying to modify attribute `.obs` of view, initializing view as actual.\n",
      "  ad_common.obs['n_counts'] = ad_common.X.sum(1).A1\n",
      "/tmp/ipykernel_653942/1838020542.py:23: ImplicitModificationWarning: Trying to modify attribute `.obs` of view, initializing view as actual.\n",
      "  ad_common.obs['n_counts'] = ad_common.X.sum(1).A1\n",
      "/tmp/ipykernel_653942/1838020542.py:23: ImplicitModificationWarning: Trying to modify attribute `.obs` of view, initializing view as actual.\n",
      "  ad_common.obs['n_counts'] = ad_common.X.sum(1).A1\n",
      "/tmp/ipykernel_653942/1838020542.py:23: ImplicitModificationWarning: Trying to modify attribute `.obs` of view, initializing view as actual.\n",
      "  ad_common.obs['n_counts'] = ad_common.X.sum(1).A1\n",
      "/tmp/ipykernel_653942/1838020542.py:23: ImplicitModificationWarning: Trying to modify attribute `.obs` of view, initializing view as actual.\n",
      "  ad_common.obs['n_counts'] = ad_common.X.sum(1).A1\n",
      "/tmp/ipykernel_653942/1838020542.py:23: ImplicitModificationWarning: Trying to modify attribute `.obs` of view, initializing view as actual.\n",
      "  ad_common.obs['n_counts'] = ad_common.X.sum(1).A1\n",
      "/tmp/ipykernel_653942/1838020542.py:23: ImplicitModificationWarning: Trying to modify attribute `.obs` of view, initializing view as actual.\n",
      "  ad_common.obs['n_counts'] = ad_common.X.sum(1).A1\n",
      "/tmp/ipykernel_653942/1838020542.py:23: ImplicitModificationWarning: Trying to modify attribute `.obs` of view, initializing view as actual.\n",
      "  ad_common.obs['n_counts'] = ad_common.X.sum(1).A1\n",
      "/tmp/ipykernel_653942/1838020542.py:23: ImplicitModificationWarning: Trying to modify attribute `.obs` of view, initializing view as actual.\n",
      "  ad_common.obs['n_counts'] = ad_common.X.sum(1).A1\n",
      "/tmp/ipykernel_653942/1838020542.py:23: ImplicitModificationWarning: Trying to modify attribute `.obs` of view, initializing view as actual.\n",
      "  ad_common.obs['n_counts'] = ad_common.X.sum(1).A1\n",
      "/tmp/ipykernel_653942/1838020542.py:23: ImplicitModificationWarning: Trying to modify attribute `.obs` of view, initializing view as actual.\n",
      "  ad_common.obs['n_counts'] = ad_common.X.sum(1).A1\n",
      "/tmp/ipykernel_653942/1838020542.py:23: ImplicitModificationWarning: Trying to modify attribute `.obs` of view, initializing view as actual.\n",
      "  ad_common.obs['n_counts'] = ad_common.X.sum(1).A1\n",
      "/tmp/ipykernel_653942/1838020542.py:23: ImplicitModificationWarning: Trying to modify attribute `.obs` of view, initializing view as actual.\n",
      "  ad_common.obs['n_counts'] = ad_common.X.sum(1).A1\n",
      "/tmp/ipykernel_653942/1838020542.py:23: ImplicitModificationWarning: Trying to modify attribute `.obs` of view, initializing view as actual.\n",
      "  ad_common.obs['n_counts'] = ad_common.X.sum(1).A1\n",
      "/tmp/ipykernel_653942/1838020542.py:23: ImplicitModificationWarning: Trying to modify attribute `.obs` of view, initializing view as actual.\n",
      "  ad_common.obs['n_counts'] = ad_common.X.sum(1).A1\n",
      "/tmp/ipykernel_653942/1838020542.py:23: ImplicitModificationWarning: Trying to modify attribute `.obs` of view, initializing view as actual.\n",
      "  ad_common.obs['n_counts'] = ad_common.X.sum(1).A1\n",
      "/tmp/ipykernel_653942/1838020542.py:23: ImplicitModificationWarning: Trying to modify attribute `.obs` of view, initializing view as actual.\n",
      "  ad_common.obs['n_counts'] = ad_common.X.sum(1).A1\n",
      "/tmp/ipykernel_653942/1838020542.py:23: ImplicitModificationWarning: Trying to modify attribute `.obs` of view, initializing view as actual.\n",
      "  ad_common.obs['n_counts'] = ad_common.X.sum(1).A1\n",
      "/tmp/ipykernel_653942/1838020542.py:23: ImplicitModificationWarning: Trying to modify attribute `.obs` of view, initializing view as actual.\n",
      "  ad_common.obs['n_counts'] = ad_common.X.sum(1).A1\n",
      "/tmp/ipykernel_653942/1838020542.py:23: ImplicitModificationWarning: Trying to modify attribute `.obs` of view, initializing view as actual.\n",
      "  ad_common.obs['n_counts'] = ad_common.X.sum(1).A1\n",
      "/tmp/ipykernel_653942/1838020542.py:23: ImplicitModificationWarning: Trying to modify attribute `.obs` of view, initializing view as actual.\n",
      "  ad_common.obs['n_counts'] = ad_common.X.sum(1).A1\n",
      "/tmp/ipykernel_653942/1838020542.py:23: ImplicitModificationWarning: Trying to modify attribute `.obs` of view, initializing view as actual.\n",
      "  ad_common.obs['n_counts'] = ad_common.X.sum(1).A1\n",
      "/tmp/ipykernel_653942/1838020542.py:23: ImplicitModificationWarning: Trying to modify attribute `.obs` of view, initializing view as actual.\n",
      "  ad_common.obs['n_counts'] = ad_common.X.sum(1).A1\n",
      "/tmp/ipykernel_653942/1838020542.py:23: ImplicitModificationWarning: Trying to modify attribute `.obs` of view, initializing view as actual.\n",
      "  ad_common.obs['n_counts'] = ad_common.X.sum(1).A1\n",
      "/tmp/ipykernel_653942/1838020542.py:23: ImplicitModificationWarning: Trying to modify attribute `.obs` of view, initializing view as actual.\n",
      "  ad_common.obs['n_counts'] = ad_common.X.sum(1).A1\n",
      "/tmp/ipykernel_653942/1838020542.py:23: ImplicitModificationWarning: Trying to modify attribute `.obs` of view, initializing view as actual.\n",
      "  ad_common.obs['n_counts'] = ad_common.X.sum(1).A1\n",
      "/tmp/ipykernel_653942/1838020542.py:23: ImplicitModificationWarning: Trying to modify attribute `.obs` of view, initializing view as actual.\n",
      "  ad_common.obs['n_counts'] = ad_common.X.sum(1).A1\n",
      "/tmp/ipykernel_653942/1838020542.py:23: ImplicitModificationWarning: Trying to modify attribute `.obs` of view, initializing view as actual.\n",
      "  ad_common.obs['n_counts'] = ad_common.X.sum(1).A1\n",
      "/tmp/ipykernel_653942/1838020542.py:23: ImplicitModificationWarning: Trying to modify attribute `.obs` of view, initializing view as actual.\n",
      "  ad_common.obs['n_counts'] = ad_common.X.sum(1).A1\n",
      "/tmp/ipykernel_653942/1838020542.py:23: ImplicitModificationWarning: Trying to modify attribute `.obs` of view, initializing view as actual.\n",
      "  ad_common.obs['n_counts'] = ad_common.X.sum(1).A1\n",
      "/tmp/ipykernel_653942/1838020542.py:23: ImplicitModificationWarning: Trying to modify attribute `.obs` of view, initializing view as actual.\n",
      "  ad_common.obs['n_counts'] = ad_common.X.sum(1).A1\n",
      "/tmp/ipykernel_653942/1838020542.py:23: ImplicitModificationWarning: Trying to modify attribute `.obs` of view, initializing view as actual.\n",
      "  ad_common.obs['n_counts'] = ad_common.X.sum(1).A1\n",
      "/tmp/ipykernel_653942/1838020542.py:23: ImplicitModificationWarning: Trying to modify attribute `.obs` of view, initializing view as actual.\n",
      "  ad_common.obs['n_counts'] = ad_common.X.sum(1).A1\n",
      "/tmp/ipykernel_653942/1838020542.py:23: ImplicitModificationWarning: Trying to modify attribute `.obs` of view, initializing view as actual.\n",
      "  ad_common.obs['n_counts'] = ad_common.X.sum(1).A1\n",
      "/tmp/ipykernel_653942/1838020542.py:23: ImplicitModificationWarning: Trying to modify attribute `.obs` of view, initializing view as actual.\n",
      "  ad_common.obs['n_counts'] = ad_common.X.sum(1).A1\n",
      "/tmp/ipykernel_653942/1838020542.py:23: ImplicitModificationWarning: Trying to modify attribute `.obs` of view, initializing view as actual.\n",
      "  ad_common.obs['n_counts'] = ad_common.X.sum(1).A1\n",
      "/tmp/ipykernel_653942/1838020542.py:23: ImplicitModificationWarning: Trying to modify attribute `.obs` of view, initializing view as actual.\n",
      "  ad_common.obs['n_counts'] = ad_common.X.sum(1).A1\n",
      "/tmp/ipykernel_653942/1838020542.py:23: ImplicitModificationWarning: Trying to modify attribute `.obs` of view, initializing view as actual.\n",
      "  ad_common.obs['n_counts'] = ad_common.X.sum(1).A1\n",
      "/tmp/ipykernel_653942/1838020542.py:23: ImplicitModificationWarning: Trying to modify attribute `.obs` of view, initializing view as actual.\n",
      "  ad_common.obs['n_counts'] = ad_common.X.sum(1).A1\n",
      "/tmp/ipykernel_653942/1838020542.py:23: ImplicitModificationWarning: Trying to modify attribute `.obs` of view, initializing view as actual.\n",
      "  ad_common.obs['n_counts'] = ad_common.X.sum(1).A1\n",
      "/tmp/ipykernel_653942/1838020542.py:23: ImplicitModificationWarning: Trying to modify attribute `.obs` of view, initializing view as actual.\n",
      "  ad_common.obs['n_counts'] = ad_common.X.sum(1).A1\n",
      "/tmp/ipykernel_653942/1838020542.py:23: ImplicitModificationWarning: Trying to modify attribute `.obs` of view, initializing view as actual.\n",
      "  ad_common.obs['n_counts'] = ad_common.X.sum(1).A1\n",
      "/tmp/ipykernel_653942/1838020542.py:23: ImplicitModificationWarning: Trying to modify attribute `.obs` of view, initializing view as actual.\n",
      "  ad_common.obs['n_counts'] = ad_common.X.sum(1).A1\n",
      "/tmp/ipykernel_653942/1838020542.py:23: ImplicitModificationWarning: Trying to modify attribute `.obs` of view, initializing view as actual.\n",
      "  ad_common.obs['n_counts'] = ad_common.X.sum(1).A1\n",
      "/tmp/ipykernel_653942/1838020542.py:23: ImplicitModificationWarning: Trying to modify attribute `.obs` of view, initializing view as actual.\n",
      "  ad_common.obs['n_counts'] = ad_common.X.sum(1).A1\n",
      "/tmp/ipykernel_653942/1838020542.py:23: ImplicitModificationWarning: Trying to modify attribute `.obs` of view, initializing view as actual.\n",
      "  ad_common.obs['n_counts'] = ad_common.X.sum(1).A1\n",
      "/tmp/ipykernel_653942/1838020542.py:23: ImplicitModificationWarning: Trying to modify attribute `.obs` of view, initializing view as actual.\n",
      "  ad_common.obs['n_counts'] = ad_common.X.sum(1).A1\n",
      "/tmp/ipykernel_653942/1838020542.py:23: ImplicitModificationWarning: Trying to modify attribute `.obs` of view, initializing view as actual.\n",
      "  ad_common.obs['n_counts'] = ad_common.X.sum(1).A1\n",
      "/tmp/ipykernel_653942/1838020542.py:23: ImplicitModificationWarning: Trying to modify attribute `.obs` of view, initializing view as actual.\n",
      "  ad_common.obs['n_counts'] = ad_common.X.sum(1).A1\n",
      "/tmp/ipykernel_653942/1838020542.py:23: ImplicitModificationWarning: Trying to modify attribute `.obs` of view, initializing view as actual.\n",
      "  ad_common.obs['n_counts'] = ad_common.X.sum(1).A1\n",
      "/tmp/ipykernel_653942/1838020542.py:23: ImplicitModificationWarning: Trying to modify attribute `.obs` of view, initializing view as actual.\n",
      "  ad_common.obs['n_counts'] = ad_common.X.sum(1).A1\n",
      "/tmp/ipykernel_653942/1838020542.py:23: ImplicitModificationWarning: Trying to modify attribute `.obs` of view, initializing view as actual.\n",
      "  ad_common.obs['n_counts'] = ad_common.X.sum(1).A1\n",
      "/tmp/ipykernel_653942/1838020542.py:23: ImplicitModificationWarning: Trying to modify attribute `.obs` of view, initializing view as actual.\n",
      "  ad_common.obs['n_counts'] = ad_common.X.sum(1).A1\n",
      "/tmp/ipykernel_653942/1838020542.py:23: ImplicitModificationWarning: Trying to modify attribute `.obs` of view, initializing view as actual.\n",
      "  ad_common.obs['n_counts'] = ad_common.X.sum(1).A1\n",
      "/tmp/ipykernel_653942/1838020542.py:23: ImplicitModificationWarning: Trying to modify attribute `.obs` of view, initializing view as actual.\n",
      "  ad_common.obs['n_counts'] = ad_common.X.sum(1).A1\n",
      "/tmp/ipykernel_653942/1838020542.py:23: ImplicitModificationWarning: Trying to modify attribute `.obs` of view, initializing view as actual.\n",
      "  ad_common.obs['n_counts'] = ad_common.X.sum(1).A1\n",
      "/tmp/ipykernel_653942/1838020542.py:23: ImplicitModificationWarning: Trying to modify attribute `.obs` of view, initializing view as actual.\n",
      "  ad_common.obs['n_counts'] = ad_common.X.sum(1).A1\n",
      "/tmp/ipykernel_653942/1838020542.py:23: ImplicitModificationWarning: Trying to modify attribute `.obs` of view, initializing view as actual.\n",
      "  ad_common.obs['n_counts'] = ad_common.X.sum(1).A1\n",
      "/tmp/ipykernel_653942/1838020542.py:23: ImplicitModificationWarning: Trying to modify attribute `.obs` of view, initializing view as actual.\n",
      "  ad_common.obs['n_counts'] = ad_common.X.sum(1).A1\n",
      "/tmp/ipykernel_653942/1838020542.py:23: ImplicitModificationWarning: Trying to modify attribute `.obs` of view, initializing view as actual.\n",
      "  ad_common.obs['n_counts'] = ad_common.X.sum(1).A1\n",
      "/tmp/ipykernel_653942/1838020542.py:23: ImplicitModificationWarning: Trying to modify attribute `.obs` of view, initializing view as actual.\n",
      "  ad_common.obs['n_counts'] = ad_common.X.sum(1).A1\n",
      "/tmp/ipykernel_653942/1838020542.py:23: ImplicitModificationWarning: Trying to modify attribute `.obs` of view, initializing view as actual.\n",
      "  ad_common.obs['n_counts'] = ad_common.X.sum(1).A1\n",
      "/tmp/ipykernel_653942/1838020542.py:23: ImplicitModificationWarning: Trying to modify attribute `.obs` of view, initializing view as actual.\n",
      "  ad_common.obs['n_counts'] = ad_common.X.sum(1).A1\n",
      "/tmp/ipykernel_653942/1838020542.py:23: ImplicitModificationWarning: Trying to modify attribute `.obs` of view, initializing view as actual.\n",
      "  ad_common.obs['n_counts'] = ad_common.X.sum(1).A1\n",
      "/tmp/ipykernel_653942/1838020542.py:23: ImplicitModificationWarning: Trying to modify attribute `.obs` of view, initializing view as actual.\n",
      "  ad_common.obs['n_counts'] = ad_common.X.sum(1).A1\n",
      "/tmp/ipykernel_653942/1838020542.py:23: ImplicitModificationWarning: Trying to modify attribute `.obs` of view, initializing view as actual.\n",
      "  ad_common.obs['n_counts'] = ad_common.X.sum(1).A1\n",
      "/tmp/ipykernel_653942/1838020542.py:23: ImplicitModificationWarning: Trying to modify attribute `.obs` of view, initializing view as actual.\n",
      "  ad_common.obs['n_counts'] = ad_common.X.sum(1).A1\n",
      "/tmp/ipykernel_653942/1838020542.py:23: ImplicitModificationWarning: Trying to modify attribute `.obs` of view, initializing view as actual.\n",
      "  ad_common.obs['n_counts'] = ad_common.X.sum(1).A1\n",
      "/tmp/ipykernel_653942/1838020542.py:23: ImplicitModificationWarning: Trying to modify attribute `.obs` of view, initializing view as actual.\n",
      "  ad_common.obs['n_counts'] = ad_common.X.sum(1).A1\n",
      "/tmp/ipykernel_653942/1838020542.py:23: ImplicitModificationWarning: Trying to modify attribute `.obs` of view, initializing view as actual.\n",
      "  ad_common.obs['n_counts'] = ad_common.X.sum(1).A1\n",
      "/tmp/ipykernel_653942/1838020542.py:23: ImplicitModificationWarning: Trying to modify attribute `.obs` of view, initializing view as actual.\n",
      "  ad_common.obs['n_counts'] = ad_common.X.sum(1).A1\n",
      "/tmp/ipykernel_653942/1838020542.py:23: ImplicitModificationWarning: Trying to modify attribute `.obs` of view, initializing view as actual.\n",
      "  ad_common.obs['n_counts'] = ad_common.X.sum(1).A1\n",
      "/tmp/ipykernel_653942/1838020542.py:23: ImplicitModificationWarning: Trying to modify attribute `.obs` of view, initializing view as actual.\n",
      "  ad_common.obs['n_counts'] = ad_common.X.sum(1).A1\n",
      "/tmp/ipykernel_653942/1838020542.py:23: ImplicitModificationWarning: Trying to modify attribute `.obs` of view, initializing view as actual.\n",
      "  ad_common.obs['n_counts'] = ad_common.X.sum(1).A1\n",
      "/tmp/ipykernel_653942/1838020542.py:23: ImplicitModificationWarning: Trying to modify attribute `.obs` of view, initializing view as actual.\n",
      "  ad_common.obs['n_counts'] = ad_common.X.sum(1).A1\n",
      "/tmp/ipykernel_653942/1838020542.py:23: ImplicitModificationWarning: Trying to modify attribute `.obs` of view, initializing view as actual.\n",
      "  ad_common.obs['n_counts'] = ad_common.X.sum(1).A1\n",
      "/tmp/ipykernel_653942/1838020542.py:23: ImplicitModificationWarning: Trying to modify attribute `.obs` of view, initializing view as actual.\n",
      "  ad_common.obs['n_counts'] = ad_common.X.sum(1).A1\n"
     ]
    }
   ],
   "source": [
    "# df_qc = {}\n",
    "# for k,p in xenium_paths.items():\n",
    "#     df_qc[k] = pd.read_csv(p / 'metrics_summary.csv')\n",
    "# df_qc = pd.concat(df_qc).reset_index()\n",
    "# df_qc.columns = xenium_levels + tuple(df_qc.columns[len(xenium_levels):])\n",
    "\n",
    "# common genes between panels\n",
    "# panels_genes = [\n",
    "#     ads[('10x_0um','NSCLC','5k','0PSV','0PSV')].var_names,\n",
    "#     ads[('10x_0um','NSCLC','lung','0PSV','0PSV')].var_names,\n",
    "#     ads[('10x_0um','NSCLC','chuvio','0PSV','0PSV_1')].var_names,\n",
    "#     ads[('10x_0um','breast','breast','0OE1','0OE1')].var_names,\n",
    "#     ]\n",
    "\n",
    "panels_genes = [ad.var_names for ad in ads.values() ]\n",
    "common_genes = list(set.intersection(*map(set, panels_genes)))\n",
    "ads_common = {k: ad[:,common_genes] for k,ad in ads.items()}\n",
    "# ads_common_filtered = {}\n",
    "df_median_counts = {}\n",
    "df_median_genes = {}\n",
    "for k,ad in ads_common.items():\n",
    "    ad_common = ad[:,common_genes]\n",
    "    ad_common.obs['n_counts'] = ad_common.X.sum(1).A1 \n",
    "    ad_common.obs['n_genes'] = (ad_common.X>0).sum(1).A1 \n",
    "\n",
    "    df_median_counts[k] = np.median(ad_common.obs['n_counts'][ad_common.obs['n_counts'] >= 5])\n",
    "    df_median_genes[k] =np.median(ad_common.obs['n_genes'][ad_common.obs['n_counts'] >= 5])\n",
    "df_median_counts = pd.Series(df_median_counts).reset_index()\n",
    "df_median_counts.columns = xenium_levels + ('median counts per cell',)\n",
    "\n",
    "df_median_genes = pd.Series(df_median_genes).reset_index()\n",
    "df_median_genes.columns = xenium_levels + ('median genes per cell',)"
   ]
  },
  {
   "cell_type": "code",
   "execution_count": 99,
   "metadata": {},
   "outputs": [
    {
     "data": {
      "image/png": "[encoded data removed]",
      "text/plain": [
       "<Figure size 800x1500 with 1 Axes>"
      ]
     },
     "metadata": {},
     "output_type": "display_data"
    },
    {
     "data": {
      "image/png": "[encoded data removed]",
      "text/plain": [
       "<Figure size 800x1500 with 1 Axes>"
      ]
     },
     "metadata": {},
     "output_type": "display_data"
    }
   ],
   "source": [
    "plt.figure(figsize=(8,15))\n",
    "g = sns.boxplot(\n",
    "    data=df_median_counts,\n",
    "    x=\"median counts per cell\",\n",
    "    y=\"segmentation\",\n",
    "    hue='panel',\n",
    "    # cut=0,\n",
    "    # width=0.8,\n",
    "    # inner=\"quart\",\n",
    ")\n",
    "\n",
    "plt.figure(figsize=(8,15))\n",
    "g = sns.boxplot(\n",
    "    data=df_median_genes,\n",
    "    x=\"median genes per cell\",\n",
    "    y=\"segmentation\",\n",
    "    hue='panel',\n",
    "    # cut=0,\n",
    "    # width=0.8,\n",
    "    # inner=\"quart\",\n",
    ")"
   ]
  },
  {
   "cell_type": "markdown",
   "metadata": {},
   "source": [
    "## plotting script panel"
   ]
  },
  {
   "cell_type": "code",
   "execution_count": null,
   "metadata": {},
   "outputs": [
    {
     "data": {
      "image/png": "[encoded data removed]",
      "text/plain": [
       "<Figure size 600x600 with 1 Axes>"
      ]
     },
     "metadata": {},
     "output_type": "display_data"
    }
   ],
   "source": [
    "from pathlib import Path\n",
    "import sys\n",
    "import argparse\n",
    "import pandas as pd\n",
    "import numpy as np\n",
    "import matplotlib.pyplot as plt\n",
    "import seaborn as sns\n",
    "import warnings\n",
    "import natsort\n",
    "\n",
    "sys.path.append(\"workflow/scripts/\")\n",
    "import readwrite\n",
    "import coexpression\n",
    "\n",
    "results_dir = Path(cfg['results_dir'])\n",
    "figures_dir = Path(cfg['figures_dir'])\n",
    "palette_dir = Path(cfg['xenium_metadata_dir'])\n",
    "\n",
    "# Params\n",
    "segmentation_palette = palette_dir / 'col_palette_segmentation.csv'\n",
    "\n",
    "# Access the arguments\n",
    "panel = Path('/work/PRTNR/CHUV/DIR/rgottar1/spatial/env/xenium_paper/results/coexpression/10x_0um/breast/breast')\n",
    "method = 'jaccard'\n",
    "target_count = 50\n",
    "min_positivity_rate = 0.01\n",
    "cc_cutoff = 1.5\n",
    "log2 = True\n",
    "ref_segmentation = '10x_0um'\n",
    "ref_oversegmentation = '10x_15um'\n",
    "palette = pd.read_csv(segmentation_palette, index_col=0).iloc[:, 0]\n",
    "\n",
    "# vars\n",
    "coexpression_dir = panel.parents[2]\n",
    "plot_panel = panel.stem\n",
    "plot_condition = panel.parents[0].stem\n",
    "xenium_levels = [\"segmentation\", \"condition\", \"panel\", \"donor\", \"sample\"]\n",
    "hue = \"segmentation\"\n",
    "hue_order = ['10x_mm_0um','10x_mm_5um','10x_mm_15um','10x_0um','10x_5um','10x_15um','baysor','proseg','segger']\n",
    "\n",
    "# Read coexpression results\n",
    "# cc_paths = []\n",
    "# for segmentation in (segmentations := coexpression_dir.iterdir()):\n",
    "#     for condition in (conditions := segmentation.iterdir()):\n",
    "#         if condition.stem != plot_condition:\n",
    "#             continue\n",
    "#         for panel in (panels := condition.iterdir()):\n",
    "#             if panel.stem != plot_panel:\n",
    "#                 continue\n",
    "#             for donor in (donors := panel.iterdir()):\n",
    "#                 for sample in (samples := donor.iterdir()):\n",
    "#                     k = (\n",
    "#                         segmentation.stem,\n",
    "#                         condition.stem,\n",
    "#                         panel.stem,\n",
    "#                         donor.stem,\n",
    "#                         sample.stem,\n",
    "#                     )\n",
    "\n",
    "#                     cc_paths.append((k, method, target_count))\n",
    "\n",
    "\n",
    "# CC, pos_rate = readwrite.read_coexpression_files(cc_paths, coexpression_dir)\n",
    "\n",
    "if method in [\"conditional\", \"jaccard\"]:\n",
    "    min_cond_coex = float(\n",
    "        np.min(\n",
    "            [\n",
    "                np.nanmin(CC[k][method, target_count].replace(0.0, np.nan))\n",
    "                for k in CC.keys()\n",
    "            ]\n",
    "        )\n",
    "    )\n",
    "else:\n",
    "    min_cond_coex = 0.0\n",
    "\n",
    "# compute ratio with ref_segmentation\n",
    "CCdiff = {}\n",
    "spurious_gene_pairs = {}\n",
    "for k in CC.keys():\n",
    "    if k[0] == ref_segmentation:\n",
    "        continue\n",
    "\n",
    "    CCdiff[k] = {}\n",
    "    spurious_gene_pairs[k] = {}\n",
    "\n",
    "    k_ref = (ref_segmentation, *k[1:])\n",
    "\n",
    "    (CCdiff[k][method, target_count], spurious_gene_pairs[k][method, target_count]) = (\n",
    "        coexpression.compare_segmentations(\n",
    "            CC_ref_seg=CC[k_ref][method, target_count],\n",
    "            CC_other_seg=CC[k][method, target_count],\n",
    "            pos_rate_ref_seg=pos_rate[k_ref][method, target_count],\n",
    "            pos_rate_other_seg=pos_rate[k][method, target_count],\n",
    "            min_positivity_rate=min_positivity_rate,\n",
    "            min_cond_coex=min_cond_coex,\n",
    "            cc_cutoff=cc_cutoff,\n",
    "            method=method,\n",
    "            log2=False,\n",
    "        )\n",
    "    )\n",
    "\n",
    "\n",
    "# extract spurious gene pairs based on ref_oversegmentation/ref_segmentation ratio\n",
    "# and stack into one df\n",
    "keys = pd.DataFrame(CCdiff.keys(), columns=xenium_levels)\n",
    "\n",
    "data = []\n",
    "for _, k in keys.iterrows():\n",
    "    k_ref_over = (ref_oversegmentation, *k[1:])\n",
    "\n",
    "    mat = CCdiff[*k][method, target_count]\n",
    "    if log2:\n",
    "        with warnings.catch_warnings(action=\"ignore\"):\n",
    "            mat = np.log2(mat)\n",
    "\n",
    "    i = spurious_gene_pairs[k_ref_over][method, target_count][:, 0]\n",
    "    j = spurious_gene_pairs[k_ref_over][method, target_count][:, 1]\n",
    "    flat_values = mat.values[mat.index.get_indexer(i), mat.columns.get_indexer(j)]\n",
    "    data.extend(\n",
    "        np.hstack(\n",
    "            (np.tile(k, (len(i), 1)), i[:, None], j[:, None], flat_values[:, None])\n",
    "        )\n",
    "    )\n",
    "\n",
    "\n",
    "# Convert to DataFrame for plotting\n",
    "df = pd.DataFrame(\n",
    "    data, columns=xenium_levels + [\"genei\", \"genej\", \"log2 relative coexpression\"]\n",
    ")\n",
    "df[\"log2 relative coexpression\"] = df[\"log2 relative coexpression\"].astype(float)\n",
    "\n",
    "# set inf values to max\n",
    "# max = df[\"log2 relative coexpression\"][df[\"log2 relative coexpression\"]!=np.inf].max()\n",
    "# df[\"log2 relative coexpression\"] = df[\"log2 relative coexpression\"].replace(np.inf, max)\n",
    "\n",
    "\n",
    "# plotting params, palette\n",
    "unique_labels = [ct for ct in hue_order if ct in np.unique(df[hue].dropna())]\n",
    "unique_labels = unique_labels + [ct for ct in np.unique(df[hue].dropna()) if ct not in unique_labels]\n",
    "palette = {u: palette[u] for u in unique_labels}\n",
    "\n",
    "# Create sample violinplot\n",
    "plt.figure(figsize=(6, df[\"sample\"].nunique()))\n",
    "g = sns.violinplot(\n",
    "    data=df,\n",
    "    x=\"log2 relative coexpression\",\n",
    "    y=\"sample\",\n",
    "    hue=hue,\n",
    "    hue_order=unique_labels,\n",
    "    palette=palette,\n",
    "    cut=0,\n",
    "    width=0.8,\n",
    "    inner=\"quart\",\n",
    ")\n",
    "\n",
    "plt.title(f\"{plot_condition=} {plot_panel=} {method=} {target_count=}\")\n",
    "plt.legend(loc=\"center left\", bbox_to_anchor=(1, 0.5), title=hue, frameon=False)\n",
    "sns.despine(offset=10, trim=True)\n",
    "plt.gca().xaxis.grid(True)\n",
    "# plt.savefig(out_file_plot_sample, dpi=300, bbox_inches=\"tight\")\n",
    "plt.close()\n",
    "\n",
    "\n",
    "# Create panel violinplot\n",
    "plt.figure(figsize=(6, 6))\n",
    "g = sns.violinplot(\n",
    "    data=df,\n",
    "    x=\"log2 relative coexpression\",\n",
    "    y=\"panel\",\n",
    "    hue=hue,\n",
    "    hue_order=unique_labels,\n",
    "    palette=palette,\n",
    "    cut=0,\n",
    "    width=0.8,\n",
    ")\n",
    "\n",
    "plt.title(f\"{plot_condition=} {method=} {target_count=}\")\n",
    "plt.legend(loc=\"center left\", bbox_to_anchor=(1, 0.5), title=hue, frameon=False)\n",
    "sns.despine(offset=10, trim=True)\n",
    "plt.gca().xaxis.grid(True)\n",
    "# plt.savefig(out_file_plot_panel, dpi=300, bbox_inches=\"tight\")\n",
    "plt.show()"
   ]
  },
  {
   "cell_type": "markdown",
   "metadata": {},
   "source": [
    "## plotting script panel markers"
   ]
  },
  {
   "cell_type": "code",
   "execution_count": 46,
   "metadata": {},
   "outputs": [],
   "source": [
    "cell_type_markers_path = '/work/PRTNR/CHUV/DIR/rgottar1/spatial/env/xenium_paper/data/markers/cellmarker_cell_types_markers.json'\n",
    "# cell_type_markers_path = '/work/PRTNR/CHUV/DIR/rgottar1/spatial/env/mesothelioma/data/markers/hubmap_cell_types_markers_DB.json'\n",
    "column = 'canonical'\n",
    "df_markers  = pd.read_json(cell_type_markers_path)\n",
    "df_markers = df_markers[column].explode().reset_index().rename(columns={'index': 'cell_type', column: 'marker'})\n",
    "\n",
    "if 'mesothelioma' in cell_type_markers_path:\n",
    "    df_markers['cell_type'] = df_markers['cell_type'].rename({\n",
    "        'type I pneumocyte':'pneumocyte',\n",
    "        'type II pneumocyte':'pneumocyte',\n",
    "        'fibroblast of lung':'fibroblast',\n",
    "        'pulmonary artery endothelial cell':'endothelial cell',\n",
    "        'endothelial cell of lymphatic vessel':'endothelial cell'})\n",
    "        \n",
    "df_markers.loc[len(df_markers)]= ['T cell','CD3E']\n",
    "df_markers = df_markers[~(df_markers.duplicated('marker', keep=False))]\n",
    "# df_markers = df_markers.groupby('cell_type')[df_markers.columns].apply(lambda x: x.sample(min(len(x), 30), random_state=0)).reset_index(drop=True)\n",
    "df_markers.to_csv(cfg['markers_dir']+'non_overlapping_cell_type_markers.csv')"
   ]
  },
  {
   "cell_type": "code",
   "execution_count": 60,
   "metadata": {},
   "outputs": [
    {
     "data": {
      "image/png": "[encoded data removed]",
      "text/plain": [
       "<Figure size 600x1900 with 1 Axes>"
      ]
     },
     "metadata": {},
     "output_type": "display_data"
    },
    {
     "data": {
      "image/png": "[encoded data removed]",
      "text/plain": [
       "<Figure size 600x600 with 1 Axes>"
      ]
     },
     "metadata": {},
     "output_type": "display_data"
    }
   ],
   "source": [
    "from pathlib import Path\n",
    "import sys\n",
    "import argparse\n",
    "import pandas as pd\n",
    "import numpy as np\n",
    "import matplotlib.pyplot as plt\n",
    "import seaborn as sns\n",
    "import warnings\n",
    "\n",
    "sys.path.append(\"workflow/scripts/\")\n",
    "import readwrite\n",
    "import coexpression\n",
    "\n",
    "results_dir = Path(cfg['results_dir'])\n",
    "figures_dir = Path(cfg['figures_dir'])\n",
    "palette_dir = Path(cfg['xenium_metadata_dir'])\n",
    "\n",
    "# Params\n",
    "segmentation_palette = palette_dir / 'col_palette_segmentation.csv'\n",
    "\n",
    "# Access the arguments\n",
    "panel = Path('/work/PRTNR/CHUV/DIR/rgottar1/spatial/env/xenium_paper/results/coexpression/10x_0um/breast/breast')\n",
    "method = 'jaccard'\n",
    "target_count = 50\n",
    "min_positivity_rate = 0.01\n",
    "cc_cutoff = -np.inf\n",
    "log2 = True\n",
    "ref_segmentation = '10x_0um'\n",
    "ref_oversegmentation = '10x_15um'\n",
    "palette = pd.read_csv(segmentation_palette, index_col=0).iloc[:, 0]\n",
    "df_markers = pd.read_csv(cfg['markers_dir']+'non_overlapping_cell_type_markers.csv',index_col=0)\n",
    "\n",
    "# vars\n",
    "coexpression_dir = panel.parents[2]\n",
    "plot_panel = panel.stem\n",
    "plot_condition = panel.parents[0].stem\n",
    "xenium_levels = [\"segmentation\", \"condition\", \"panel\", \"donor\", \"sample\"]\n",
    "hue = \"segmentation\"\n",
    "hue_order = ['10x_mm_0um','10x_mm_5um','10x_mm_15um','10x_0um','10x_5um','10x_15um','baysor','proseg','segger']\n",
    "\n",
    "# Read coexpression results\n",
    "cc_paths = []\n",
    "for segmentation in (segmentations := coexpression_dir.iterdir()):\n",
    "    for condition in (conditions := segmentation.iterdir()):\n",
    "        if condition.stem != plot_condition:\n",
    "            continue\n",
    "        for panel in (panels := condition.iterdir()):\n",
    "            if panel.stem != plot_panel:\n",
    "                continue\n",
    "            for donor in (donors := panel.iterdir()):\n",
    "                for sample in (samples := donor.iterdir()):\n",
    "                    k = (\n",
    "                        segmentation.stem,\n",
    "                        condition.stem,\n",
    "                        panel.stem,\n",
    "                        donor.stem,\n",
    "                        sample.stem,\n",
    "                    )\n",
    "\n",
    "                    cc_paths.append((k, method, target_count))\n",
    "\n",
    "\n",
    "CC, pos_rate = readwrite.read_coexpression_files(cc_paths, coexpression_dir)\n",
    "\n",
    "if method in [\"conditional\", \"jaccard\"]:\n",
    "    min_cond_coex = float(\n",
    "        np.min(\n",
    "            [\n",
    "                np.nanmin(CC[k][method, target_count].replace(0.0, np.nan))\n",
    "                for k in CC.keys()\n",
    "            ]\n",
    "        )\n",
    "    )\n",
    "else:\n",
    "    min_cond_coex = 0.0\n",
    "\n",
    "# compute ratio with ref_segmentation\n",
    "CCdiff = {}\n",
    "spurious_gene_pairs = {}\n",
    "for k in CC.keys():\n",
    "    if k[0] == ref_segmentation:\n",
    "        continue\n",
    "\n",
    "    CCdiff[k] = {}\n",
    "    spurious_gene_pairs[k] = {}\n",
    "\n",
    "    k_ref = (ref_segmentation, *k[1:])\n",
    "\n",
    "    (CCdiff[k][method, target_count], spurious_gene_pairs[k][method, target_count]) = (\n",
    "        coexpression.compare_segmentations(\n",
    "            CC_ref_seg=CC[k_ref][method, target_count],\n",
    "            CC_other_seg=CC[k][method, target_count],\n",
    "            pos_rate_ref_seg=pos_rate[k_ref][method, target_count],\n",
    "            pos_rate_other_seg=pos_rate[k][method, target_count],\n",
    "            min_positivity_rate=min_positivity_rate,\n",
    "            cc_cutoff=cc_cutoff,\n",
    "            min_cond_coex=min_cond_coex,\n",
    "            method=method,\n",
    "            log2=False,\n",
    "        )\n",
    "    )\n",
    "\n",
    "\n",
    "\n",
    "# extract exclusive gene pairs \n",
    "genes = CC[list(CC)[0]][method,target_count].columns\n",
    "df_markers = df_markers[df_markers.iloc[:,1].isin(genes)]\n",
    "exclusive_gene_pairs = coexpression.get_exclusive_gene_pairs(df_markers)\n",
    "i = exclusive_gene_pairs.iloc[:,0].values\n",
    "j = exclusive_gene_pairs.iloc[:,1].values\n",
    "\n",
    "# extract spurious gene pairs based on ref_oversegmentation/ref_segmentation ratio\n",
    "# and stack into one df\n",
    "keys = pd.DataFrame(CCdiff.keys(), columns=xenium_levels)\n",
    "\n",
    "data = []\n",
    "for _, k in keys.iterrows():\n",
    "    k_ref_over = (ref_oversegmentation, *k[1:])\n",
    "\n",
    "    mat = CCdiff[*k][method, target_count]\n",
    "    if log2:\n",
    "        with warnings.catch_warnings(action=\"ignore\"):\n",
    "            mat = np.log2(mat)\n",
    "\n",
    "    flat_values = mat.values[mat.index.get_indexer(i), mat.columns.get_indexer(j)]\n",
    "    data.extend(\n",
    "        np.hstack(\n",
    "            (np.tile(k, (len(i), 1)), i[:, None], j[:, None], flat_values[:, None])\n",
    "        )\n",
    "    )\n",
    "\n",
    "\n",
    "# Convert to DataFrame for plotting\n",
    "df = pd.DataFrame(\n",
    "    data, columns=xenium_levels + [\"genei\", \"genej\", \"log2 relative coexpression\"]\n",
    ")\n",
    "df[\"log2 relative coexpression\"] = df[\"log2 relative coexpression\"].astype(float)\n",
    "\n",
    "# set inf values to max\n",
    "# max = df[\"log2 relative coexpression\"][df[\"log2 relative coexpression\"]!=np.inf].max()\n",
    "# df[\"log2 relative coexpression\"] = df[\"log2 relative coexpression\"].replace(np.inf, max)\n",
    "\n",
    "\n",
    "# plotting params, palette\n",
    "unique_labels = [ct for ct in hue_order if ct in np.unique(df[hue].dropna())]\n",
    "unique_labels = unique_labels + [ct for ct in np.unique(df[hue].dropna()) if ct not in unique_labels]\n",
    "palette = {u: palette[u] for u in unique_labels}\n",
    "\n",
    "# Create sample violinplot\n",
    "plt.figure(figsize=(6, df[\"sample\"].nunique()))\n",
    "g = sns.violinplot(\n",
    "    data=df,\n",
    "    x=\"log2 relative coexpression\",\n",
    "    y=\"sample\",\n",
    "    hue=hue,\n",
    "    hue_order=unique_labels,\n",
    "    palette=palette,\n",
    "    cut=0,\n",
    "    width=0.8,\n",
    "    inner=\"quart\",\n",
    ")\n",
    "\n",
    "plt.title(f\"{plot_condition=} {plot_panel=} {method=} {target_count=}\")\n",
    "plt.legend(loc=\"center left\", bbox_to_anchor=(1, 0.5), title=hue, frameon=False)\n",
    "sns.despine(offset=10, trim=True)\n",
    "plt.gca().xaxis.grid(True)\n",
    "# plt.savefig(out_file_plot_sample, dpi=300, bbox_inches=\"tight\")\n",
    "plt.show()\n",
    "\n",
    "\n",
    "# Create panel violinplot\n",
    "plt.figure(figsize=(6, 6))\n",
    "g = sns.violinplot(\n",
    "    data=df,\n",
    "    x=\"log2 relative coexpression\",\n",
    "    y=\"panel\",\n",
    "    hue=hue,\n",
    "    hue_order=unique_labels,\n",
    "    palette=palette,\n",
    "    cut=0,\n",
    "    width=0.8,\n",
    ")\n",
    "\n",
    "plt.title(f\"{plot_condition=} {method=} {target_count=}\")\n",
    "plt.legend(loc=\"center left\", bbox_to_anchor=(1, 0.5), title=hue, frameon=False)\n",
    "sns.despine(offset=10, trim=True)\n",
    "plt.gca().xaxis.grid(True)\n",
    "# plt.savefig(out_file_plot_panel, dpi=300, bbox_inches=\"tight\")\n",
    "plt.show()"
   ]
  },
  {
   "cell_type": "markdown",
   "metadata": {},
   "source": [
    "## plotting script condition"
   ]
  },
  {
   "cell_type": "code",
   "execution_count": null,
   "metadata": {},
   "outputs": [
    {
     "data": {
      "image/png": "[encoded data removed]",
      "text/plain": [
       "<Figure size 600x600 with 1 Axes>"
      ]
     },
     "metadata": {},
     "output_type": "display_data"
    }
   ],
   "source": [
    "from pathlib import Path\n",
    "import sys\n",
    "import argparse\n",
    "import pandas as pd\n",
    "import numpy as np\n",
    "import matplotlib.pyplot as plt\n",
    "import seaborn as sns\n",
    "import warnings\n",
    "import natsort\n",
    "\n",
    "sys.path.append(\"workflow/scripts/\")\n",
    "import readwrite\n",
    "import coexpression\n",
    "\n",
    "results_dir = Path(cfg['results_dir'])\n",
    "figures_dir = Path(cfg['figures_dir'])\n",
    "palette_dir = Path(cfg['xenium_metadata_dir'])\n",
    "\n",
    "# Params\n",
    "segmentation_palette = palette_dir / 'col_palette_segmentation.csv'\n",
    "\n",
    "# Access the arguments\n",
    "condition = Path('/work/PRTNR/CHUV/DIR/rgottar1/spatial/env/xenium_paper/results/coexpression/10x_0um/NSCLC/')\n",
    "method = 'conditional'\n",
    "target_count = 50\n",
    "min_positivity_rate = 0.01\n",
    "min_cond_coex = 0.0\n",
    "cc_cutoff = 1.5\n",
    "log2 = False\n",
    "ref_segmentation = '10x_0um'\n",
    "ref_oversegmentation = '10x_15um'\n",
    "palette = pd.read_csv(segmentation_palette, index_col=0).iloc[:, 0]\n",
    "n_top_gene_pairs = 5000000000\n",
    "\n",
    "# vars\n",
    "coexpression_dir = condition.parents[1]\n",
    "plot_condition = condition.stem\n",
    "xenium_levels = [\"segmentation\", \"condition\", \"panel\", \"donor\", \"sample\"]\n",
    "hue = \"segmentation\"\n",
    "hue_order = ['10x_mm_0um','10x_mm_5um','10x_mm_15um','10x_0um','10x_5um','10x_15um','baysor','proseg','segger']\n",
    "\n",
    "# Read coexpression results\n",
    "cc_paths = []\n",
    "for segmentation in (segmentations := coexpression_dir.iterdir()):\n",
    "    for condition in (conditions := segmentation.iterdir()):\n",
    "        for panel in (panels := condition.iterdir()):\n",
    "            for donor in (donors := panel.iterdir()):\n",
    "                for sample in (samples := donor.iterdir()):\n",
    "                    k = (\n",
    "                        segmentation.stem,\n",
    "                        condition.stem,\n",
    "                        panel.stem,\n",
    "                        donor.stem,\n",
    "                        sample.stem,\n",
    "                    )\n",
    "\n",
    "                    cc_paths.append((k, method, target_count))\n",
    "\n",
    "\n",
    "CC, pos_rate = readwrite.read_coexpression_files(cc_paths, coexpression_dir)\n",
    "\n",
    "if method in [\"conditional\", \"jaccard\"]:\n",
    "    min_cond_coex = float(\n",
    "        np.min(\n",
    "            [\n",
    "                np.nanmin(CC[k][method, target_count].replace(0.0, np.nan))\n",
    "                for k in CC.keys()\n",
    "            ]\n",
    "        )\n",
    "    )\n",
    "else:\n",
    "    min_cond_coex = 0.0\n",
    "\n",
    "# compute ratio with ref_segmentation\n",
    "CCdiff = {}\n",
    "spurious_gene_pairs = {}\n",
    "for k in CC.keys():\n",
    "    if k[0] == ref_segmentation:\n",
    "        continue\n",
    "\n",
    "    CCdiff[k] = {}\n",
    "    spurious_gene_pairs[k] = {}\n",
    "\n",
    "    k_ref = (ref_segmentation, *k[1:])\n",
    "\n",
    "    (CCdiff[k][method, target_count], spurious_gene_pairs[k][method, target_count]) = (\n",
    "        coexpression.compare_segmentations(\n",
    "            CC_ref_seg=CC[k_ref][method, target_count],\n",
    "            CC_other_seg=CC[k][method, target_count],\n",
    "            pos_rate_ref_seg=pos_rate[k_ref][method, target_count],\n",
    "            pos_rate_other_seg=pos_rate[k][method, target_count],\n",
    "            min_positivity_rate=min_positivity_rate,\n",
    "            min_cond_coex=min_cond_coex,\n",
    "            cc_cutoff=cc_cutoff,\n",
    "            method=method,\n",
    "            log2=False,\n",
    "        )\n",
    "    )\n",
    "\n",
    "\n",
    "# genes in each panel\n",
    "panels_genes = [ CCdiff[k][method, target_count].columns for k in CCdiff.keys() if k[0]==ref_oversegmentation ]\n",
    "\n",
    "# spurious genes in each panel for ref_oversegmentation\n",
    "panels_spurious_gene_pairs =  pd.concat(\n",
    "    [ pd.DataFrame(spurious_gene_pairs[k][method,target_count]) \n",
    "      for k in CCdiff.keys() if k[0] == ref_oversegmentation ]\n",
    ").drop_duplicates()\n",
    "\n",
    "# common genes between panels\n",
    "common_genes = list(set.intersection(*map(set, panels_genes)))\n",
    "\n",
    "# common spurious genes across panels\n",
    "common_spurious_gene_pairs = panels_spurious_gene_pairs[panels_spurious_gene_pairs.isin(common_genes).all(1)].values\n",
    "i = common_spurious_gene_pairs[:,0]\n",
    "j = common_spurious_gene_pairs[:,1]\n",
    "\n",
    "# reduce to top 50\n",
    "if n_top_gene_pairs < len(i):\n",
    "    top_values = []\n",
    "    for k in CCdiff.keys():\n",
    "        if k[0]==ref_oversegmentation:\n",
    "            mat = CCdiff[k][method, target_count]\n",
    "\n",
    "            top_values.append(mat.values[mat.index.get_indexer(i), mat.columns.get_indexer(j)])\n",
    "\n",
    "    top_values = np.nanmean(top_values,axis=0)\n",
    "    top_values_idx = np.argsort(top_values)[::-1][:n_top_gene_pairs]\n",
    "\n",
    "    i = i[top_values_idx]\n",
    "    j = j[top_values_idx]\n",
    "else:\n",
    "    n_top_gene_pairs = len(i)\n",
    "\n",
    "\n",
    "# extract spurious gene pairs based on ref_oversegmentation/ref_segmentation ratio\n",
    "# and stack into one df\n",
    "keys = pd.DataFrame(CCdiff.keys(), columns=xenium_levels)\n",
    "\n",
    "data = []\n",
    "for _, k in keys.iterrows():\n",
    "    k_ref_over = (ref_oversegmentation, *k[1:])\n",
    "\n",
    "    mat = CCdiff[*k][method, target_count]\n",
    "    \n",
    "    if log2:\n",
    "        with warnings.catch_warnings(action=\"ignore\"):\n",
    "            mat = np.log2(mat)\n",
    "\n",
    "    flat_values = mat.values[mat.index.get_indexer(i), mat.columns.get_indexer(j)]\n",
    "    data.extend(np.hstack((np.tile(k, (len(i), 1)), i[:, None], j[:,None], flat_values[:, None])))\n",
    "\n",
    "\n",
    "# Convert to DataFrame for plotting\n",
    "relative_coexpression_colname = \"log2 relative coexpression\" if log2 else \"relative coexpression\" \n",
    "df = pd.DataFrame(data, columns=xenium_levels + [\"genei\", \"genej\", relative_coexpression_colname])\n",
    "df[relative_coexpression_colname] = df[relative_coexpression_colname].astype(float)\n",
    "\n",
    "if not log2:\n",
    "    df = df[df[relative_coexpression_colname]>0].replace([np.inf, -np.inf], np.nan).dropna()\n",
    "\n",
    "# plotting params, palette\n",
    "unique_labels = [ct for ct in hue_order if ct in np.unique(df[hue].dropna())]\n",
    "unique_labels = unique_labels + [ct for ct in np.unique(df[hue].dropna()) if ct not in unique_labels]\n",
    "palette = {u: palette[u] for u in unique_labels}\n",
    "\n",
    "# Create joint boxplot\n",
    "plt.figure(figsize=(6, df[\"panel\"].nunique()*1.5))\n",
    "ax = plt.subplot()\n",
    "g = sns.boxplot(\n",
    "    data=df,\n",
    "    x=relative_coexpression_colname,\n",
    "    y=\"panel\",\n",
    "    hue=hue,\n",
    "    hue_order=unique_labels,\n",
    "    palette=palette,\n",
    "    # cut=0,\n",
    "    width=0.8,\n",
    "    # inner=\"quart\",\n",
    "    showfliers=True,\n",
    "    flierprops={'marker': 'o', 'color': 'black', 'markersize': 1, 'markerfacecolor':'w',}  ,\n",
    "    log_scale = not log2,\n",
    "    ax=ax\n",
    ")\n",
    "\n",
    "sns.despine(offset=10, trim=True)\n",
    "\n",
    "if not log2:\n",
    "    def format_(x):\n",
    "        if x < .1:\n",
    "            return \"\"\n",
    "        elif x < 1:\n",
    "            return f\".{str(x.round(6))[2:]}\" \n",
    "        else:\n",
    "            return int(x) \n",
    "    ax.set_xticklabels([format_(x) for x in ax.get_xticks(minor=True) ],minor=True)\n",
    "    ax.set_xticklabels([format_(x) for x in ax.get_xticks() ])\n",
    "    ax.tick_params(axis='both', which='minor', labelsize=6)\n",
    "\n",
    "plt.title(f\"{plot_condition=} {method=} {target_count=} {n_top_gene_pairs=}\")\n",
    "# plt.axvline(0, c=\"k\", linestyle=\"-\", zorder=-1, alpha=0.5)\n",
    "plt.legend(loc=\"center left\", bbox_to_anchor=(1, 0.5), title=hue, frameon=False)\n",
    "ax.xaxis.grid(True)\n",
    "plt.show()"
   ]
  },
  {
   "cell_type": "markdown",
   "metadata": {},
   "source": [
    "## Coexpression genes"
   ]
  },
  {
   "cell_type": "code",
   "execution_count": null,
   "metadata": {},
   "outputs": [],
   "source": [
    "segmentation = '10x_0um'\n",
    "condition = 'NSCLC'\n",
    "panel = 'lung'\n",
    "method = 'conditional'\n",
    "target_count = 50\n",
    "df = pd.read_parquet(Path(cfg['results_dir'])/f'coexpression_gene_pairs/{segmentation}/{condition}/{panel}/coexpression_gene_pairs_{method}_{target_count=}.parquet')\n",
    "\n",
    "df = df.dropna()\n",
    "df['is_marker'] = df['genei'].isin(df_markers['marker']) & df['genej'].isin(df_markers['marker'])\n",
    "sns.violinplot(df,x='log2 relative coexpression',y='segmentation',hue='is_marker')\n",
    "plt.legend(loc=\"center left\", bbox_to_anchor=(1, 0.5), title='is_marker', frameon=False)\n",
    "sns.despine(offset=10, trim=True)\n",
    "plt.gca().xaxis.grid(True)"
   ]
  },
  {
   "cell_type": "code",
   "execution_count": null,
   "metadata": {},
   "outputs": [],
   "source": [
    "pd.set_option('display.max_rows', 500)\n",
    "\n",
    "df_=df[np.inf!=df['log2 relative coexpression']].sort_values('log2 relative coexpression',ascending=False)[['genei','genej','log2 relative coexpression']][:100]\n",
    "print(df_.to_string(index=False))"
   ]
  },
  {
   "cell_type": "markdown",
   "metadata": {},
   "source": [
    "## Find coexpressed and spurious genes scRNA"
   ]
  },
  {
   "cell_type": "code",
   "execution_count": null,
   "metadata": {},
   "outputs": [],
   "source": [
    "ad = sc.read(cfg['scrnaseq_processed_flex_full_zurich_h5ad'])\n",
    "ad_panel = ad[:,[g for g in sd1.var_names if g in ad.var_names]]\n",
    "\n",
    "# compute CC\n",
    "CCnuc_found = CCnuc.loc[ad_panel.var_names,ad_panel.var_names]\n",
    "CCnuc_sc, Xnuc_downdonord_sc, pos_nuc_sc, pos_rate_nuc_sc, mask_nuc_sc = coexpression.coexpression(ad_panel,return_all=1)\n",
    "CCdiff_sc, spurious_gene_pairs_sc = coexpression.compare_segmentations(pos_rate_nuc_sc, pos_rate_nuc, CCnuc_sc, CCnuc_found, min_positivity_rate=0.01,cc_cutoff = 2)\n",
    "spurious_genes_idx_sc = np.unique(np.where(spurious_gene_pairs_sc))\n",
    "spurious_genes_sc = ad_panel.var_names[spurious_genes_idx_sc]\n",
    "spurious_genes_markers_sc = df_markers_panel.loc[df_markers_panel['canonical'].isin(spurious_genes_sc),'canonical'].unique()\n",
    "\n",
    "print(len(spurious_genes_markers_sc), 'marker genes /', len(spurious_genes_sc),'spurious panel genes found')\n",
    "\n",
    "# plot\n",
    "sns.set(font_scale=.8)\n",
    "# sns.clustermap(CCnuc.loc[spurious_genes,spurious_genes],yticklabels=True,xticklabels=True,figsize=(10,10))\n",
    "sns.clustermap(CCdiff_sc.loc[spurious_genes_markers_sc,spurious_genes_markers_sc],\n",
    "    yticklabels=True,xticklabels=True,figsize=(15,15),vmin=None,vmax=4,cmap='RdBu_r',center=1)\n",
    "plt.show()\n",
    "\n",
    "df_ct_markers_cc_nuc_sc, df_cc_melt_nuc_sc = coexpression.coexpression_by_cell_type(CCnuc_sc,spurious_genes_markers_sc,df_markers_panel)\n",
    "sns.heatmap(df_ct_markers_cc,cmap='Purples')\n",
    "plt.show()\n",
    "\n",
    "df_ct_markers_cc_diff_sc, df_cc_melt_diff_sc = coexpression.coexpression_by_cell_type(CCdiff_sc,spurious_genes_markers_sc,df_markers_panel)\n",
    "sns.heatmap(df_ct_markers_cc,cmap='RdBu_r',center=1)\n",
    "plt.show()"
   ]
  },
  {
   "cell_type": "code",
   "execution_count": null,
   "metadata": {},
   "outputs": [],
   "source": [
    "## \n",
    "df_markers_panel_ct = df_markers_panel.set_index(\"canonical\")\n",
    "df_cc_melt = df_cc_melt_nuc_sc.copy()\n",
    "df_cc_melt['ct_genei'] = ''\n",
    "df_cc_melt['ct_genej'] = ''\n",
    "for i, row in df_cc_melt.iterrows():\n",
    "    ct_genei = df_markers_panel_ct.loc[row[\"genei\"], \"index\"]\n",
    "    ct_genej = df_markers_panel_ct.loc[row[\"genej\"], \"index\"]\n",
    "\n",
    "    if isinstance(ct_genei, str):\n",
    "        ct_genei = [ct_genei]\n",
    "    if isinstance(ct_genej, str):\n",
    "        ct_genej = [ct_genej]\n",
    "    df_cc_melt.loc[df_cc_melt[\"genei\"] == row[\"genei\"],'ct_genei'] = ' & '.join(ct_genei) \n",
    "    df_cc_melt.loc[df_cc_melt[\"genej\"] == row[\"genej\"],'ct_genej'] = ' & '.join(ct_genej)\n",
    "\n",
    "display(df_cc_melt[:20])"
   ]
  },
  {
   "cell_type": "markdown",
   "metadata": {},
   "source": [
    "## Coexpression based on computational marker genes"
   ]
  },
  {
   "cell_type": "markdown",
   "metadata": {},
   "source": [
    "### Estimate genes coexpression from scRNA"
   ]
  },
  {
   "cell_type": "code",
   "execution_count": null,
   "metadata": {},
   "outputs": [],
   "source": [
    "# load doublets\n",
    "# result = pyreadr.read_r('/work/PRTNR/CHUV/DIR/rgottar1/spatial/env/dbuszta/meso/processed_data/new_data/doublets_by_donor.rds')[None]\n",
    "\n",
    "# load data\n",
    "ad_sc = sc.read_h5ad(cfg['scrnaseq_processed_flex_full_zurich_h5ad'])\n",
    "# ad_sc.obs['doublet_status'] = result.iloc[:,0]\n",
    "# ad_sc = ad_sc[ad_sc.obs['doublet_status']=='singlet']\n",
    "# ad_sc.obs = ad_sc.obs.join(pd.read_csv(cfg['results_dir']+'annotation/cell_type_annotation.csv',index_col=0))\n",
    "\n",
    "# filter to xenium genes\n",
    "xenium_panel_genes = pd.read_csv(cfg['data_dir']+'xenium_chuvio_panel_genes.csv',index_col=0)['0']\n",
    "ad_sc_panel = ad_sc[:,ad_sc.var_names.isin(xenium_panel_genes)]\n",
    "\n",
    "CT_KEY = 'cell_type_harmonized_level2_consensus'\n",
    "u_cell_types = ad_sc_panel.obs[CT_KEY].unique()\n",
    "\n",
    "# get df with max fraction for each cell type\n",
    "(df_fraction,df_difference, \n",
    "df_max_difference) = coexpression.find_markers(ad_sc_panel, CT_KEY, threshold_fraction = 1., threshold_diff = 0.)\n",
    "df_difference_sorted = df_difference[df_difference.max().sort_values().index]\n",
    "\n",
    "# get df with thresholded max fraction for each cell type\n",
    "(_,df_difference_thresholded, \n",
    " df_max_difference_thresholded) = coexpression.find_markers(ad_sc_panel, CT_KEY, threshold_fraction = 0.01, threshold_diff = 0.25)\n",
    "df_difference_thresholded_sorted = df_difference_thresholded[df_difference_thresholded.max().sort_values().index]\n",
    "\n",
    "for df_difference_sorted_, df_max_difference_ in zip([df_difference_sorted,df_difference_thresholded_sorted],\n",
    "                                                     [df_max_difference,df_max_difference_thresholded]):\n",
    "\n",
    "    ### Boxplots\n",
    "    plt.figure(figsize=(8,30))\n",
    "\n",
    "    flierprops = dict(marker='o', markersize=1, linestyle='none', markerfacecolor='black')\n",
    "    ax = sns.boxplot(data=df_difference_sorted_, orient='h', flierprops=flierprops)\n",
    "\n",
    "    # Loop over columns to find and highlight max fliers\n",
    "    for i, col in enumerate(df_difference_sorted_.columns):\n",
    "        data = df_difference_sorted_[col]\n",
    "        max_val = data.max()  # Find maximum value in the column\n",
    "        ax.scatter(max_val,i, color='red', edgecolor='black', zorder=5, s=20)\n",
    "\n",
    "    plt.title(\"Difference in % of cells expressing\")\n",
    "    plt.show()\n",
    "\n",
    "    ### Heatmap\n",
    "    sns.heatmap(df_max_difference_)\n",
    "\n",
    "# Define markers\n",
    "df_markers_scores = pd.DataFrame(index=ad_sc_panel.var_names,columns=u_cell_types)\n",
    "\n",
    "for cti in u_cell_types:\n",
    "    cti_columns = df_difference_thresholded.columns.str.split(\"_\").str[0] == cti\n",
    "\n",
    "    df_markers_scores[cti] = df_difference_thresholded.loc[:,cti_columns].mean(1)\n",
    "\n",
    "ct_markers = {}\n",
    "for ct in u_cell_types:\n",
    "    ct_scores = df_markers_scores[ct].sort_values(ascending=False).dropna()\n",
    "    markers_ = list(ct_scores[(ct_scores>0.)][:10].index)\n",
    "\n",
    "    if len(markers_) > 0:\n",
    "        ct_markers[ct] = markers_\n",
    "\n",
    "df_markers_computational = pd.DataFrame([\n",
    "    {\"index\": k, \"canonical\": v}\n",
    "    for k, values in ct_markers.items()\n",
    "    for v in values\n",
    "])"
   ]
  },
  {
   "cell_type": "markdown",
   "metadata": {},
   "source": [
    "### Coexpression"
   ]
  },
  {
   "cell_type": "code",
   "execution_count": null,
   "metadata": {},
   "outputs": [],
   "source": [
    "rctd_weights_key = 'weights_FLEX_original'\n",
    "\n",
    "normalized_entropy_computational = {}\n",
    "CC_computational = {}\n",
    "CC_cells_sum_normalized_computational = {}\n",
    "\n",
    "for segmentation in SEGMENTATIONS:\n",
    "\n",
    "    normalized_entropy_computational[segmentation] = {}\n",
    "    CC_computational[segmentation] = {}\n",
    "    CC_cells_sum_normalized_computational[segmentation] = {}\n",
    "        \n",
    "    for k,ad_ in ads[segmentation].items():\n",
    "        print(k)\n",
    "\n",
    "        ad = ad_[ad_.uns[rctd_weights_key].index]\n",
    "\n",
    "        ### Entropy\n",
    "        W = ad.uns[rctd_weights_key].copy()\n",
    "        W[W<0] = 0.\n",
    "        W = sklearn.preprocessing.normalize(W,axis=0,norm='l1')\n",
    "        normalized_entropy_computational[segmentation][k] = scipy.stats.entropy(W,axis=1)/np.log(W.shape[1])\n",
    "\n",
    "        ### Coexpression\n",
    "        # compute CC\n",
    "        CC, X_downdonord, pos, pos_rate, mask = coexpression.coexpression(ad,target_count=30,method='jaccard')\n",
    "        CC_computational[segmentation][k] = CC\n",
    "\n",
    "        # load markers\n",
    "        # df_markers_computational_panel = df_markers_computational[df_markers_computational['canonical'].isin(ad.var_names)]\n",
    "        # u_markers_panel = df_markers_computational_panel['canonical'].unique()\n",
    "        # marker_genes_idx = ad.var_names.isin(u_markers_panel)\n",
    "        # print(len(u_markers_panel), 'marker genes /', ad.shape[1],'panel genes found')\n",
    "\n",
    "        # df_ct_markers_cc = coexpression.coexpression_by_cell_type(CC,u_markers_panel,df_markers_computational_panel)\n",
    "#         CC_cells = coexpression.coexpression_cells(pos)\n",
    "#         CC_cells_sum = coexpression.coexpression_cells_score(CC_cells, marker_genes_idx)\n",
    "#         CC_cells_sum_normalized_computational[k] = np.array(CC_cells_sum)/(marker_genes_idx.sum()**2)\n",
    "#         break\n",
    "\n",
    "# palette = {'singlet':'green','doublet_certain':'blue','doublet_uncertain':'orange','reject':'red'}\n",
    "# for segmentation in SEGMENTATIONS[:1]:\n",
    "#     for k,ad_ in ads[segmentation].items():\n",
    "#         ad = ad_[ad_.uns[rctd_weights_key].index]\n",
    "\n",
    "#         g = sns.jointplot(x=normalized_entropy_computational[k], y=CC_cells_sum_normalized_computational[k], palette=palette,hue=ad.obs['spot_class_FLEX_original'],kind=\"scatter\", height=5,s=8,alpha=.3)\n",
    "#         g.set_axis_labels(f'{k} - normalized RCTD weights normalized entropy', f'{k} - normalized coexpression score')\n",
    "#         plt.show()\n",
    "#         break"
   ]
  },
  {
   "cell_type": "code",
   "execution_count": null,
   "metadata": {},
   "outputs": [],
   "source": [
    "rctd_weights_key = 'weights_FLEX_original'\n",
    "\n",
    "# Define a function for processing one (segmentation, k) pair\n",
    "def process_task(segmentation, k, ad_, rctd_weights_key):\n",
    "    print(f\"Processing {segmentation}, {k}\")\n",
    "\n",
    "    # Filter data\n",
    "    ad = ad_[ad_.uns[rctd_weights_key].index]\n",
    "\n",
    "    # Entropy computation\n",
    "    W = ad.uns[rctd_weights_key].copy()\n",
    "    W[W < 0] = 0.0\n",
    "    W = sklearn.preprocessing.normalize(W, axis=0, norm='l1')\n",
    "    normalized_entropy = scipy.stats.entropy(W, axis=1) / np.log(W.shape[1])\n",
    "\n",
    "    # Coexpression computation\n",
    "    CC, X_downdonord, pos, pos_rate, mask = coexpression.coexpression(ad, target_count=30, method='jaccard')\n",
    "\n",
    "    return segmentation, k, normalized_entropy, CC\n",
    "\n",
    "# Prepare the tasks\n",
    "tasks = []\n",
    "for segmentation in SEGMENTATIONS:\n",
    "    for k, ad_ in ads[segmentation].items():\n",
    "        tasks.append((segmentation, k, ad_, rctd_weights_key))\n",
    "\n",
    "# Run tasks in parallel\n",
    "results = Parallel(n_jobs=-1, backend=\"loky\")(\n",
    "    delayed(process_task)(segmentation, k, ad_, rctd_weights_key) for segmentation, k, ad_, rctd_weights_key in tasks\n",
    ")\n",
    "\n",
    "# Collect results\n",
    "normalized_entropy_computational = {seg: {} for seg in SEGMENTATIONS}\n",
    "CC_computational = {seg: {} for seg in SEGMENTATIONS}\n",
    "\n",
    "for segmentation, k, entropy, CC in results:\n",
    "    normalized_entropy_computational[segmentation][k] = entropy\n",
    "    CC_computational[segmentation][k] = CC\n"
   ]
  },
  {
   "cell_type": "code",
   "execution_count": null,
   "metadata": {},
   "outputs": [],
   "source": [
    "donor = '16MD_run14'\n",
    "coexpr_scores = pd.DataFrame()\n",
    "normalized_entropy_computational_scores = pd.DataFrame()\n",
    "for segmentation,CC_segmentations in CC_computational.items():\n",
    "    for donor, CC_donor in CC_segmentations.items():\n",
    "        coexpr_scores.loc[segmentation,donor] = CC_donor.values[np.triu_indices_from(CC_donor,1)].sum()\n",
    "        normalized_entropy_computational_scores.loc[segmentation,donor] = normalized_entropy_computational[segmentation][donor].sum()\n",
    "\n",
    "sns.clustermap(coexpr_scores.fillna(coexpr_scores.mean()),figsize=(10,5),cmap='Reds')\n",
    "\n",
    "coexpr_scores_norm = coexpr_scores.fillna(coexpr_scores.mean())\n",
    "sns.clustermap(coexpr_scores_norm/coexpr_scores_norm.max(),figsize=(10,5),cmap='Reds')\n",
    "\n",
    "sns.clustermap(normalized_entropy_computational_scores,figsize=(10,5),cmap='Reds')\n",
    "sns.clustermap(normalized_entropy_computational_scores/normalized_entropy_computational_scores.max(),figsize=(10,5),cmap='Reds')"
   ]
  },
  {
   "cell_type": "code",
   "execution_count": null,
   "metadata": {},
   "outputs": [],
   "source": [
    "median_transcripts_per_cell = pd.DataFrame()\n",
    "for segmentation, ads_seg in ads.items():\n",
    "    for donor, ad in ads_seg.items():\n",
    "        median_transcripts_per_cell.loc[segmentation,donor] = ad.uns['metrics_summary'].loc[0,'median_transcripts_per_cell']"
   ]
  },
  {
   "cell_type": "code",
   "execution_count": null,
   "metadata": {},
   "outputs": [],
   "source": [
    "df1 = normalized_entropy_computational_scores\n",
    "df2 = coexpr_scores\n",
    "\n",
    "plot_data = []\n",
    "for idx in df1.index:\n",
    "    for col in df1.columns:\n",
    "        plot_data.append({\n",
    "            'segmentation': idx,\n",
    "            'donors': col,\n",
    "            'normalized_entropy_computational_scores': df1.loc[idx, col],\n",
    "            'coexpr_scores': df2.loc[idx, col]\n",
    "        })\n",
    "\n",
    "plot_df = pd.DataFrame(plot_data)\n",
    "\n",
    "sns.boxplot(plot_df,x='segmentation',y='coexpr_scores');plt.show()\n",
    "sns.boxplot(plot_df,x='segmentation',y='normalized_entropy_computational_scores')\n",
    "\n",
    "# Scatter plot\n",
    "plt.figure(figsize=(10, 6))\n",
    "sns.scatterplot(\n",
    "    data=plot_df,\n",
    "    x='normalized_entropy_computational_scores',  # x-axis: values from df1\n",
    "    y='coexpr_scores',  # y-axis: values from df2\n",
    "    hue='segmentation',  # color based on segmentation\n",
    "    style='donors',  # marker type based on donors\n",
    "    s=50  # marker size\n",
    ")\n",
    "\n",
    "# plt.title('Scatter Plot: df1 vs df2')\n",
    "# plt.xlabel('Values from df1')\n",
    "# plt.ylabel('Values from df2')\n",
    "plt.legend(title='Legend', bbox_to_anchor=(1.05, 1), loc='upper left')\n",
    "plt.tight_layout()\n",
    "plt.show()\n",
    "\n"
   ]
  },
  {
   "cell_type": "code",
   "execution_count": null,
   "metadata": {},
   "outputs": [],
   "source": [
    "# Find universal markers\n",
    "ad_sc_panel.var['n_cells'] = (ad_sc_panel.X>0).sum(0).A1\n",
    "ad_sc_panel.var['n_cells'].hist(bins=100)\n",
    "CC, X_downdonord, pos_, pos_rate_, mask_ = coexpression.coexpression(ad_sc_panel,target_count=None,min_cond_coex=0.)\n",
    "\n",
    "threshold = 0.01\n",
    "pos_rate_threshold = 0.01\n",
    "\n",
    "valid_genes = np.where(pos_rate > pos_rate_threshold)[0]\n",
    "\n",
    "gene_pairs_idx = np.vstack((CC.values<threshold).nonzero()).T\n",
    "gene_pairs_idx_u = pd.DataFrame(gene_pairs_idx)\n",
    "gene_pairs_idx_u['Key'] = gene_pairs_idx_u.apply(lambda row: tuple(sorted(row)), axis=1)\n",
    "gene_pairs_idx_u = gene_pairs_idx_u.drop_duplicates(subset='Key').drop(columns='Key')\n",
    "gene_pairs_idx_u = gene_pairs_idx_u[gene_pairs_idx_u.isin(valid_genes).sum(1)==2]\n",
    "gene_pairs_idx_u = gene_pairs_idx_u.values\n",
    "print(len(gene_pairs_idx_u))\n",
    "\n",
    "# Score xenium donors per gene\n",
    "# CC_computational_scores = {}\n",
    "# for segmentation in SEGMENTATIONS:\n",
    "#     for k,ad_ in ads[segmentation].items():\n",
    "#         CC_computational_scores[segmentation][k] = CC_computational[segmentation][k].values[gene_pairs_idx_u[:,0],gene_pairs_idx_u[:,1]].sum(1)\n",
    "\n",
    "# Score xenium donors per cell\n",
    "# CC_cells_score = coexpression.coexpression_cells_score_gene_pairs(CC_cells, gene_pairs_idx_u)\n",
    "\n",
    "# ad.obs['CC_cells_score'] = CC_cells_score\n",
    "# ad.obs['CC_cells_score'].hist(bins=100)\n",
    "\n",
    "# sc.set_figure_params(figsize=(10,10))\n",
    "# sc.pl.spatial(ad,color='CC_cells_score',spot_size=10,)\n",
    "# (ad.obs['CC_cells_score']>0).sum()"
   ]
  },
  {
   "cell_type": "code",
   "execution_count": null,
   "metadata": {},
   "outputs": [],
   "source": []
  }
 ],
 "metadata": {
  "kernelspec": {
   "display_name": "spatial",
   "language": "python",
   "name": "python3"
  },
  "language_info": {
   "codemirror_mode": {
    "name": "ipython",
    "version": 3
   },
   "file_extension": ".py",
   "mimetype": "text/x-python",
   "name": "python",
   "nbconvert_exporter": "python",
   "pygments_lexer": "ipython3",
   "version": "3.11.11"
  }
 },
 "nbformat": 4,
 "nbformat_minor": 2
}
