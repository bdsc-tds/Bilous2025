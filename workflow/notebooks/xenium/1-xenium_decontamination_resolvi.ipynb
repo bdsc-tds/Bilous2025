{
 "cells": [
  {
   "cell_type": "code",
   "execution_count": 1,
   "metadata": {},
   "outputs": [],
   "source": [
    "from pathlib import Path\n",
    "import numpy as np\n",
    "import pandas as pd\n",
    "import scvi\n",
    "\n",
    "import sys\n",
    "sys.path.extend(['../../scripts','../../scripts/xenium'])\n",
    "import readwrite\n",
    "cfg = readwrite.config()"
   ]
  },
  {
   "cell_type": "markdown",
   "metadata": {},
   "source": [
    "## Load data"
   ]
  },
  {
   "cell_type": "code",
   "execution_count": 2,
   "metadata": {},
   "outputs": [],
   "source": [
    "# cfg paths\n",
    "xenium_dir = Path(cfg['xenium_processed_data_dir'])\n",
    "results_dir = Path(cfg['results_dir'])\n",
    "\n",
    "# Segmentation, mapping paths\n",
    "dir_segmentations = {\n",
    "    dir_segmentation.name: (dir_segmentation)\n",
    "    for dir_segmentation in xenium_dir.iterdir()\n",
    "}\n",
    "\n",
    "# Read resegmentations and RCTD\n",
    "xenium_paths = {}\n",
    "cc_paths = []\n",
    "\n",
    "for segmentation in (segmentations := xenium_dir.iterdir()):\n",
    "    for condition in (conditions := segmentation.iterdir()): \n",
    "        for panel in (panels := condition.iterdir()):\n",
    "            for donor in (donors := panel.iterdir()):\n",
    "                for sample in (samples := donor.iterdir()):\n",
    "                    \n",
    "                    k = (segmentation.stem,condition.stem,panel.stem,donor.stem,sample.stem)\n",
    "                    sample_path = sample / \"normalised_results/outs\"\n",
    "                    name = '/'.join(k)\n",
    "\n",
    "                    xenium_paths[k] = sample_path\n",
    "\n",
    "xenium_paths = {list(xenium_paths)[0]:xenium_paths[list(xenium_paths)[0]]}\n",
    "\n",
    "xenium_levels = ('segmentation','condition','panel','donor','sample')\n",
    "# ads = readwrite.read_xenium_donors(xenium_paths,anndata_only=True,transcripts=False,donor_name_as_key=False)"
   ]
  },
  {
   "cell_type": "code",
   "execution_count": 8,
   "metadata": {},
   "outputs": [
    {
     "name": "stdout",
     "output_type": "stream",
     "text": [
      "\u001b[34mINFO    \u001b[0m reading                                                                                                   \n",
      "         \u001b[35m/work/PRTNR/CHUV/DIR/rgottar1/spatial/env/xenium_paper/data/xenium/processed/segmentation/segger/breast/br\u001b[0m\n",
      "         \u001b[35meast/1FYB/1FYB/normalised_results/outs/\u001b[0m\u001b[95mcell_feature_matrix.h5\u001b[0m                                             \n"
     ]
    },
    {
     "name": "stderr",
     "output_type": "stream",
     "text": [
      "/work/PRTNR/CHUV/DIR/rgottar1/spatial/env/jbac/miniforge3/envs/spatial/lib/python3.11/site-packages/spatialdata/_core/spatialdata.py:158: UserWarning: The table is annotating 'cell_labels', which is not present in the SpatialData object.\n",
      "  self.validate_table_in_spatialdata(v)\n"
     ]
    }
   ],
   "source": [
    "adata = spatialdata_io.xenium(\n",
    "    path,\n",
    "    cells_as_circles=False,\n",
    "    cells_boundaries=False,\n",
    "    nucleus_boundaries=False,\n",
    "    cells_labels=False,\n",
    "    nucleus_labels=False,\n",
    "    transcripts=False,\n",
    "    morphology_mip=False,\n",
    "    morphology_focus=False,\n",
    "    aligned_images=False,\n",
    ")[\"table\"]\n"
   ]
  },
  {
   "cell_type": "code",
   "execution_count": null,
   "metadata": {},
   "outputs": [
    {
     "name": "stdout",
     "output_type": "stream",
     "text": [
      "\u001b[34mINFO    \u001b[0m Generating sequential column names                                                                        \n",
      "\u001b[34mINFO    \u001b[0m Generating sequential column names                                                                        \n"
     ]
    },
    {
     "name": "stderr",
     "output_type": "stream",
     "text": [
      "/work/PRTNR/CHUV/DIR/rgottar1/spatial/env/jbac/miniforge3/envs/resolvi/lib/python3.13/site-packages/scvi/data/fields/_dataframe_field.py:187: UserWarning: Category 0 in adata.obs['_scvi_ind_x'] has fewer than 3 cells. Models may not train properly.\n",
      "  categorical_mapping = _make_column_categorical(\n",
      "/work/PRTNR/CHUV/DIR/rgottar1/spatial/env/jbac/miniforge3/envs/resolvi/lib/python3.13/site-packages/lightning/fabric/plugins/environments/slurm.py:204: The `srun` command is available on your system but is not used. HINT: If your intention is to run Lightning on SLURM, prepend your python command with `srun` like so: srun python /work/PRTNR/CHUV/DIR/rgottar1/spatial/env/jbac/minif ...\n",
      "GPU available: False, used: False\n",
      "TPU available: False, using: 0 TPU cores\n",
      "HPU available: False, using: 0 HPUs\n",
      "/work/PRTNR/CHUV/DIR/rgottar1/spatial/env/jbac/miniforge3/envs/resolvi/lib/python3.13/site-packages/lightning/fabric/plugins/environments/slurm.py:204: The `srun` command is available on your system but is not used. HINT: If your intention is to run Lightning on SLURM, prepend your python command with `srun` like so: srun python /work/PRTNR/CHUV/DIR/rgottar1/spatial/env/jbac/minif ...\n",
      "/work/PRTNR/CHUV/DIR/rgottar1/spatial/env/jbac/miniforge3/envs/resolvi/lib/python3.13/site-packages/lightning/pytorch/trainer/configuration_validator.py:68: You passed in a `val_dataloader` but have no `validation_step`. Skipping val loop.\n",
      "/work/PRTNR/CHUV/DIR/rgottar1/spatial/env/jbac/miniforge3/envs/resolvi/lib/python3.13/site-packages/lightning/pytorch/trainer/connectors/data_connector.py:425: The 'train_dataloader' does not have many workers which may be a bottleneck. Consider increasing the value of the `num_workers` argument` to `num_workers=5` in the `DataLoader` to improve performance.\n",
      "/work/PRTNR/CHUV/DIR/rgottar1/spatial/env/jbac/miniforge3/envs/resolvi/lib/python3.13/site-packages/scvi/data/_utils.py:68: UserWarning: Sparse CSR tensor support is in beta state. If you miss a functionality in the sparse tensor support, please submit a feature request to https://github.com/pytorch/pytorch/issues. (Triggered internally at ../aten/src/ATen/SparseCsrTensorImpl.cpp:53.)\n",
      "  return sparse_csr_tensor(\n"
     ]
    },
    {
     "name": "stdout",
     "output_type": "stream",
     "text": [
      "Epoch 50/50: 100%|██████████| 50/50 [09:01<00:00, 10.92s/it, v_num=1, elbo_train=1.85e+7]"
     ]
    },
    {
     "name": "stderr",
     "output_type": "stream",
     "text": [
      "`Trainer.fit` stopped: `max_epochs=50` reached.\n"
     ]
    },
    {
     "name": "stdout",
     "output_type": "stream",
     "text": [
      "Epoch 50/50: 100%|██████████| 50/50 [09:01<00:00, 10.83s/it, v_num=1, elbo_train=1.85e+7]"
     ]
    },
    {
     "name": "stderr",
     "output_type": "stream",
     "text": [
      "/work/PRTNR/CHUV/DIR/rgottar1/spatial/env/jbac/miniforge3/envs/resolvi/lib/python3.13/site-packages/lightning/fabric/plugins/environments/slurm.py:204: The `srun` command is available on your system but is not used. HINT: If your intention is to run Lightning on SLURM, prepend your python command with `srun` like so: srun python /work/PRTNR/CHUV/DIR/rgottar1/spatial/env/jbac/minif ...\n"
     ]
    },
    {
     "name": "stdout",
     "output_type": "stream",
     "text": [
      "\n",
      "Sampling local variables, batch: 100%|██████████| 294/294 [00:21<00:00, 13.44it/s]\n"
     ]
    }
   ],
   "source": [
    "ref_adata = ads[list(ads)[0]]\n",
    "\n",
    "scvi.external.RESOLVI.setup_anndata(ref_adata, labels_key=None, layer=None, prepare_data_kwargs={\"spatial_rep\": \"spatial\"})\n",
    "resolvi = scvi.external.RESOLVI(ref_adata, semisupervised=False)\n",
    "resolvi.train(max_epochs=50)\n",
    "\n",
    "donors_corr = resolvi.donor_posterior(\n",
    "    model=resolvi.module.model_corrected,\n",
    "    return_sites=[\"px_rate\"],\n",
    "    summary_fun={\"post_donor_q50\": np.median},\n",
    "    num_donors=3,\n",
    "    summary_frequency=30,\n",
    ")\n",
    "donors_corr = pd.DataFrame(donors_corr).T\n",
    "\n",
    "donors = resolvi.donor_posterior(\n",
    "    model=resolvi.module.model_residuals,\n",
    "    return_sites=[\"mixture_proportions\"],\n",
    "    summary_fun={\"post_donor_means\": np.mean},\n",
    "    num_donors=3,\n",
    "    summary_frequency=100,\n",
    ")\n",
    "donors = pd.DataFrame(donors).T\n",
    "\n",
    "donors_corr = pd.DataFrame(donors_corr.loc[\"post_donor_q50\", \"px_rate\"],index=ref_adata.obs_names,columns=ref_adata.var_names)\n",
    "donors_proportions =pd.DataFrame(donors.loc[\"post_donor_means\", \"mixture_proportions\"],index=ref_adata.obs_names,columns=[\"true_proportion\", \"diffusion_proportion\", \"background_proportion\"])\n",
    "\n",
    "donors_corr.to_parquet(results_dir / \"resolvi_corrected.parquet\")\n",
    "donors_proportions.to_parquet(results_dir / \"resolvi_proportions.parquet\")"
   ]
  },
  {
   "cell_type": "code",
   "execution_count": 34,
   "metadata": {},
   "outputs": [
    {
     "name": "stderr",
     "output_type": "stream",
     "text": [
      "/work/PRTNR/CHUV/DIR/rgottar1/spatial/env/jbac/miniforge3/envs/resolvi/lib/python3.13/site-packages/lightning/fabric/plugins/environments/slurm.py:204: The `srun` command is available on your system but is not used. HINT: If your intention is to run Lightning on SLURM, prepend your python command with `srun` like so: srun python /work/PRTNR/CHUV/DIR/rgottar1/spatial/env/jbac/minif ...\n"
     ]
    },
    {
     "name": "stdout",
     "output_type": "stream",
     "text": [
      "Sampling local variables, batch: 100%|██████████| 294/294 [00:18<00:00, 15.51it/s]\n"
     ]
    }
   ],
   "source": [
    "donors = resolvi.donor_posterior(\n",
    "    model=resolvi.module.model_residuals,\n",
    "    return_sites=[\"mixture_proportions\"],\n",
    "    summary_fun={\"post_donor_means\": np.mean},\n",
    "    num_donors=3,\n",
    "    summary_frequency=100,\n",
    ")\n",
    "donors = pd.DataFrame(donors).T\n",
    "\n",
    "ref_adata.obs[[\"true_proportion\", \"diffusion_proportion\", \"background_proportion\"]] = donors.loc[\n",
    "    \"post_donor_means\", \"mixture_proportions\"\n",
    "]"
   ]
  },
  {
   "cell_type": "code",
   "execution_count": 42,
   "metadata": {},
   "outputs": [
    {
     "data": {
      "text/html": [
       "<div>\n",
       "<style scoped>\n",
       "    .dataframe tbody tr th:only-of-type {\n",
       "        vertical-align: middle;\n",
       "    }\n",
       "\n",
       "    .dataframe tbody tr th {\n",
       "        vertical-align: top;\n",
       "    }\n",
       "\n",
       "    .dataframe thead th {\n",
       "        text-align: right;\n",
       "    }\n",
       "</style>\n",
       "<table border=\"1\" class=\"dataframe\">\n",
       "  <thead>\n",
       "    <tr style=\"text-align: right;\">\n",
       "      <th></th>\n",
       "      <th>true_proportion</th>\n",
       "      <th>diffusion_proportion</th>\n",
       "      <th>background_proportion</th>\n",
       "    </tr>\n",
       "  </thead>\n",
       "  <tbody>\n",
       "    <tr>\n",
       "      <th>aaabbffd-1</th>\n",
       "      <td>1.000998</td>\n",
       "      <td>0.011002</td>\n",
       "      <td>0.001</td>\n",
       "    </tr>\n",
       "    <tr>\n",
       "      <th>aaabhgeo-1</th>\n",
       "      <td>1.000997</td>\n",
       "      <td>0.011003</td>\n",
       "      <td>0.001</td>\n",
       "    </tr>\n",
       "    <tr>\n",
       "      <th>aaacokdi-1</th>\n",
       "      <td>1.000996</td>\n",
       "      <td>0.011004</td>\n",
       "      <td>0.001</td>\n",
       "    </tr>\n",
       "    <tr>\n",
       "      <th>aaafocon-1</th>\n",
       "      <td>1.000997</td>\n",
       "      <td>0.011003</td>\n",
       "      <td>0.001</td>\n",
       "    </tr>\n",
       "    <tr>\n",
       "      <th>aaahgjag-1</th>\n",
       "      <td>1.000997</td>\n",
       "      <td>0.011003</td>\n",
       "      <td>0.001</td>\n",
       "    </tr>\n",
       "    <tr>\n",
       "      <th>...</th>\n",
       "      <td>...</td>\n",
       "      <td>...</td>\n",
       "      <td>...</td>\n",
       "    </tr>\n",
       "    <tr>\n",
       "      <th>oilhnodh-1</th>\n",
       "      <td>1.000997</td>\n",
       "      <td>0.011003</td>\n",
       "      <td>0.001</td>\n",
       "    </tr>\n",
       "    <tr>\n",
       "      <th>oilidbpj-1</th>\n",
       "      <td>1.000997</td>\n",
       "      <td>0.011003</td>\n",
       "      <td>0.001</td>\n",
       "    </tr>\n",
       "    <tr>\n",
       "      <th>oilifkch-1</th>\n",
       "      <td>1.000996</td>\n",
       "      <td>0.011004</td>\n",
       "      <td>0.001</td>\n",
       "    </tr>\n",
       "    <tr>\n",
       "      <th>oilkgabl-1</th>\n",
       "      <td>1.000997</td>\n",
       "      <td>0.011003</td>\n",
       "      <td>0.001</td>\n",
       "    </tr>\n",
       "    <tr>\n",
       "      <th>oillcobm-1</th>\n",
       "      <td>1.000997</td>\n",
       "      <td>0.011003</td>\n",
       "      <td>0.001</td>\n",
       "    </tr>\n",
       "  </tbody>\n",
       "</table>\n",
       "<p>37565 rows × 3 columns</p>\n",
       "</div>"
      ],
      "text/plain": [
       "            true_proportion  diffusion_proportion  background_proportion\n",
       "aaabbffd-1         1.000998              0.011002                  0.001\n",
       "aaabhgeo-1         1.000997              0.011003                  0.001\n",
       "aaacokdi-1         1.000996              0.011004                  0.001\n",
       "aaafocon-1         1.000997              0.011003                  0.001\n",
       "aaahgjag-1         1.000997              0.011003                  0.001\n",
       "...                     ...                   ...                    ...\n",
       "oilhnodh-1         1.000997              0.011003                  0.001\n",
       "oilidbpj-1         1.000997              0.011003                  0.001\n",
       "oilifkch-1         1.000996              0.011004                  0.001\n",
       "oilkgabl-1         1.000997              0.011003                  0.001\n",
       "oillcobm-1         1.000997              0.011003                  0.001\n",
       "\n",
       "[37565 rows x 3 columns]"
      ]
     },
     "execution_count": 42,
     "metadata": {},
     "output_type": "execute_result"
    }
   ],
   "source": []
  }
 ],
 "metadata": {
  "kernelspec": {
   "display_name": "spatial",
   "language": "python",
   "name": "python3"
  },
  "language_info": {
   "codemirror_mode": {
    "name": "ipython",
    "version": 3
   },
   "file_extension": ".py",
   "mimetype": "text/x-python",
   "name": "python",
   "nbconvert_exporter": "python",
   "pygments_lexer": "ipython3",
   "version": "3.11.10"
  }
 },
 "nbformat": 4,
 "nbformat_minor": 2
}
