{
 "cells": [
  {
   "cell_type": "code",
   "execution_count": 3,
   "metadata": {},
   "outputs": [],
   "source": [
    "import dask\n",
    "dask.config.set({\"dataframe.query-planning\": False})\n",
    "\n",
    "import scanpy as sc\n",
    "import spatialdata_io\n",
    "import numpy as np\n",
    "import pandas as pd\n",
    "import sys\n",
    "import argparse\n",
    "from pathlib import Path\n",
    "\n",
    "sys.path.append(\"../../../workflow/scripts/\")\n",
    "import preprocessing\n",
    "import readwrite\n",
    "\n",
    "cfg = readwrite.config()"
   ]
  },
  {
   "cell_type": "markdown",
   "metadata": {},
   "source": [
    "# sample"
   ]
  },
  {
   "cell_type": "code",
   "execution_count": 2,
   "metadata": {},
   "outputs": [
    {
     "name": "stderr",
     "output_type": "stream",
     "text": [
      "/work/PRTNR/CHUV/DIR/rgottar1/spatial/env/jbac/miniforge3/envs/spatial/lib/python3.11/site-packages/anndata/_core/aligned_df.py:68: ImplicitModificationWarning: Transforming to str index.\n",
      "  warnings.warn(\"Transforming to str index.\", ImplicitModificationWarning)\n"
     ]
    },
    {
     "name": "stdout",
     "output_type": "stream",
     "text": [
      "metrics_summary.csv not found at: ../../../data/xenium/processed/segmentation/proseg/breast/breast/0OE1/0OE1/raw_results/metrics_summary.csv\n"
     ]
    },
    {
     "name": "stderr",
     "output_type": "stream",
     "text": [
      "/work/PRTNR/CHUV/DIR/rgottar1/spatial/env/jbac/miniforge3/envs/spatial/lib/python3.11/site-packages/spatialdata/_core/spatialdata.py:185: UserWarning: The table is annotating 'cell_polygons', which is not present in the SpatialData object.\n",
      "  self.validate_table_in_spatialdata(v)\n",
      "/work/PRTNR/CHUV/DIR/rgottar1/spatial/env/jbac/miniforge3/envs/spatial/lib/python3.11/site-packages/anndata/_core/anndata.py:822: UserWarning: \n",
      "AnnData expects .obs.index to contain strings, but got values like:\n",
      "    [0, 1, 2, 3, 4]\n",
      "\n",
      "    Inferred to be: integer\n",
      "\n",
      "  names = self._prep_dim_index(names, \"obs\")\n"
     ]
    }
   ],
   "source": [
    "# read counts\n",
    "adata = readwrite.read_xenium_sample(\n",
    "    '../../../data/xenium/processed/segmentation/proseg/breast/breast/0OE1/0OE1/raw_results',\n",
    "    cells_as_circles=False,\n",
    "    cells_boundaries=False,\n",
    "    cells_boundaries_layers=False,\n",
    "    nucleus_boundaries=False,\n",
    "    cells_labels=False,\n",
    "    nucleus_labels=False,\n",
    "    transcripts=False,\n",
    "    morphology_mip=False,\n",
    "    morphology_focus=False,\n",
    "    aligned_images=False,\n",
    "    anndata=True,\n",
    ")\n",
    "\n",
    "# need to round proseg expected counts for resolVI to run\n",
    "# no need for if statement, doesn't change anything to other segmentation methods\n",
    "adata.X.data = adata.X.data.astype(np.float32).round()\n",
    "adata.obs_names = adata.obs_names.astype(str)"
   ]
  },
  {
   "cell_type": "code",
   "execution_count": 4,
   "metadata": {},
   "outputs": [
    {
     "name": "stdout",
     "output_type": "stream",
     "text": [
      "\u001b[34mINFO    \u001b[0m reading                                                                                                   \n",
      "         \u001b[35m/work/PRTNR/CHUV/DIR/rgottar1/spatial/env/xenium_paper/data/xenium/processed/segmentation/10x_0um/breast/b\u001b[0m\n",
      "         \u001b[35mreast/0OE1/0OE1/normalised_results/outs/\u001b[0m\u001b[95mcell_feature_matrix.h5\u001b[0m                                            \n"
     ]
    },
    {
     "name": "stderr",
     "output_type": "stream",
     "text": [
      "/work/PRTNR/CHUV/DIR/rgottar1/spatial/env/jbac/miniforge3/envs/spatial/lib/python3.11/site-packages/spatialdata/_core/spatialdata.py:185: UserWarning: The table is annotating 'cell_labels', which is not present in the SpatialData object.\n",
      "  self.validate_table_in_spatialdata(v)\n",
      "/work/PRTNR/CHUV/DIR/rgottar1/spatial/env/jbac/miniforge3/envs/spatial/lib/python3.11/site-packages/scanpy/preprocessing/_simple.py:284: ImplicitModificationWarning: Trying to modify attribute `.var` of view, initializing view as actual.\n",
      "  adata.var[\"n_cells\"] = number\n"
     ]
    },
    {
     "name": "stdout",
     "output_type": "stream",
     "text": [
      "Removed 0  cells...\n",
      "Removed 0  genes...\n"
     ]
    },
    {
     "name": "stderr",
     "output_type": "stream",
     "text": [
      "/work/PRTNR/CHUV/DIR/rgottar1/spatial/env/jbac/miniforge3/envs/spatial/lib/python3.11/site-packages/scanpy/neighbors/__init__.py:700: FutureWarning: `transformer='rapids'` is deprecated. Use `rapids_singlecell.tl.neighbors` instead.\n",
      "  warn(msg, FutureWarning)\n",
      "/work/PRTNR/CHUV/DIR/rgottar1/spatial/env/jbac/miniforge3/envs/spatial/lib/python3.11/site-packages/sklearn/base.py:474: FutureWarning: `BaseEstimator._validate_data` is deprecated in 1.6 and will be removed in 1.7. Use `sklearn.utils.validation.validate_data` instead. This function becomes public and is part of the scikit-learn developer API.\n",
      "  warnings.warn(\n"
     ]
    },
    {
     "name": "stdout",
     "output_type": "stream",
     "text": [
      "\u001b[34mINFO    \u001b[0m Generating sequential column names                                                                        \n",
      "\u001b[34mINFO    \u001b[0m Generating sequential column names                                                                        \n"
     ]
    },
    {
     "name": "stderr",
     "output_type": "stream",
     "text": [
      "/work/PRTNR/CHUV/DIR/rgottar1/spatial/env/jbac/miniforge3/envs/spatial/lib/python3.11/site-packages/scvi/data/fields/_dataframe_field.py:187: UserWarning: Category 0 in adata.obs['_scvi_ind_x'] has fewer than 3 cells. Models may not train properly.\n",
      "  categorical_mapping = _make_column_categorical(\n"
     ]
    }
   ],
   "source": [
    "import dask\n",
    "dask.config.set({\"dataframe.query-planning\": False})\n",
    "\n",
    "import scanpy as sc\n",
    "import spatialdata_io\n",
    "import numpy as np\n",
    "import pandas as pd\n",
    "import scvi\n",
    "import sys\n",
    "import argparse\n",
    "from pathlib import Path\n",
    "\n",
    "sys.path.append(\"../../../workflow/scripts/\")\n",
    "import preprocessing\n",
    "import readwrite\n",
    "cfg = readwrite.config()\n",
    "\n",
    "# Access the arguments\n",
    "sample_dir = Path('/work/PRTNR/CHUV/DIR/rgottar1/spatial/env/xenium_paper/data/xenium/processed/segmentation/10x_0um/breast/breast/0OE1/0OE1')\n",
    "cell_type_labels = Path('/work/PRTNR/CHUV/DIR/rgottar1/spatial/env/xenium_paper/data/xenium/processed/cell_type_annotation/10x_0um/breast/breast/0OE1/0OE1/lognorm/reference_based/matched_reference_combo/rctd_class_aware/Level2/single_cell/labels.parquet')\n",
    "# cell_type_labels = None\n",
    "proseg_results_dir = sample_dir / 'raw_results'\n",
    "xeniumranger_dir = sample_dir / 'normalised_results/outs'\n",
    "\n",
    "\n",
    "# params from pipeline config\n",
    "min_counts = 10\n",
    "min_features = 5\n",
    "max_counts = float(\"inf\")\n",
    "max_features = float(\"inf\")\n",
    "min_cells = 5\n",
    "\n",
    "mixture_k = 50\n",
    "max_epochs = 50\n",
    "\n",
    "adata = readwrite.read_xenium_sample(\n",
    "    xeniumranger_dir,\n",
    "    cells_as_circles=False,\n",
    "    cells_boundaries=False,\n",
    "    cells_boundaries_layers=False,\n",
    "    nucleus_boundaries=False,\n",
    "    cells_labels=False,\n",
    "    nucleus_labels=False,\n",
    "    transcripts=False,\n",
    "    morphology_mip=False,\n",
    "    morphology_focus=False,\n",
    "    aligned_images=False,\n",
    "    anndata=True,\n",
    ")\n",
    "\n",
    "# need to round proseg expected counts for resolVI to run\n",
    "# no need for if statement, doesn't change anything to other segmentation methods\n",
    "adata.X.data = adata.X.data.astype(np.float32).round()\n",
    "adata.obs_names = adata.obs_names.astype(str)\n",
    "\n",
    "if cell_type_labels is not None:\n",
    "    labels_key = \"labels_key\"\n",
    "    semisupervised = True\n",
    "    adata.obs[labels_key] = pd.read_parquet(cell_type_labels).set_index(\"cell_id\").iloc[:, 0].astype('category')\n",
    "    adata = adata[adata.obs[labels_key].notna()]\n",
    "else:\n",
    "    labels_key = None\n",
    "    semisupervised = False\n",
    "\n",
    "# preprocess (QC filters only)\n",
    "# resolvi requires at least 5 counts in each cell\n",
    "preprocessing.preprocess(\n",
    "    adata,\n",
    "    normalize=False,\n",
    "    log1p=False,\n",
    "    scale=\"none\",\n",
    "    pca=False,\n",
    "    umap=False,\n",
    "    save_raw=False,\n",
    "    min_counts=min_counts,\n",
    "    min_genes=min_features,\n",
    "    max_counts=max_counts,\n",
    "    max_genes=max_features,\n",
    "    min_cells=min_cells,\n",
    "    backend=\"cpu\",\n",
    ")\n",
    "\n",
    "\n",
    "scvi.external.RESOLVI.setup_anndata(\n",
    "    adata, labels_key=labels_key, layer=None, prepare_data_kwargs={\"spatial_rep\": \"spatial\"}\n",
    ")\n",
    "resolvi = scvi.external.RESOLVI(adata, mixture_k=mixture_k, semisupervised=semisupervised)\n",
    "# resolvi.train(max_epochs=max_epochs)\n",
    "resolvi.save('model',overwrite=True)"
   ]
  },
  {
   "cell_type": "code",
   "execution_count": 13,
   "metadata": {},
   "outputs": [
    {
     "name": "stdout",
     "output_type": "stream",
     "text": [
      "\u001b[34mINFO    \u001b[0m reading                                                                                                   \n",
      "         \u001b[35m/work/PRTNR/CHUV/DIR/rgottar1/spatial/env/xenium_paper/data/xenium/processed/segmentation/10x_0um/breast/b\u001b[0m\n",
      "         \u001b[35mreast/0OE1/0OE1/normalised_results/outs/\u001b[0m\u001b[95mcell_feature_matrix.h5\u001b[0m                                            \n",
      "Removed 11449  cells...\n",
      "Removed 0  genes...\n",
      "\u001b[34mINFO    \u001b[0m File                                                                                                      \n",
      "         \u001b[35m/work/PRTNR/CHUV/DIR/rgottar1/spatial/env/xenium_paper/results/resolvi/10x_0um/breast/breast/0OE1/0OE1/\u001b[0m\u001b[95mmix\u001b[0m\n",
      "         \u001b[95mture_k\u001b[0m=\u001b[1;36m50\u001b[0m/model/model.pt already downloaded                                                               \n"
     ]
    },
    {
     "name": "stderr",
     "output_type": "stream",
     "text": [
      "/work/PRTNR/CHUV/DIR/rgottar1/spatial/env/jbac/miniforge3/envs/spatial/lib/python3.11/site-packages/spatialdata/_core/spatialdata.py:185: UserWarning: The table is annotating 'cell_labels', which is not present in the SpatialData object.\n",
      "  self.validate_table_in_spatialdata(v)\n",
      "/work/PRTNR/CHUV/DIR/rgottar1/spatial/env/jbac/miniforge3/envs/spatial/lib/python3.11/site-packages/lightning/fabric/plugins/environments/slurm.py:191: The `srun` command is available on your system but is not used. HINT: If your intention is to run Lightning on SLURM, prepend your python command with `srun` like so: srun python /work/PRTNR/CHUV/DIR/rgottar1/spatial/env/jbac/minif ...\n",
      "/work/PRTNR/CHUV/DIR/rgottar1/spatial/env/jbac/miniforge3/envs/spatial/lib/python3.11/site-packages/scanpy/neighbors/__init__.py:700: FutureWarning: `transformer='rapids'` is deprecated. Use `rapids_singlecell.tl.neighbors` instead.\n",
      "  warn(msg, FutureWarning)\n",
      "/work/PRTNR/CHUV/DIR/rgottar1/spatial/env/jbac/miniforge3/envs/spatial/lib/python3.11/site-packages/sklearn/base.py:474: FutureWarning: `BaseEstimator._validate_data` is deprecated in 1.6 and will be removed in 1.7. Use `sklearn.utils.validation.validate_data` instead. This function becomes public and is part of the scikit-learn developer API.\n",
      "  warnings.warn(\n",
      "/work/PRTNR/CHUV/DIR/rgottar1/spatial/env/jbac/miniforge3/envs/spatial/lib/python3.11/site-packages/scvi/data/fields/_dataframe_field.py:227: UserWarning: Category 0 in adata.obs['_scvi_ind_x'] has fewer than 3 cells. Models may not train properly.\n",
      "  new_mapping = _make_column_categorical(\n",
      "/work/PRTNR/CHUV/DIR/rgottar1/spatial/env/jbac/miniforge3/envs/spatial/lib/python3.11/site-packages/lightning/fabric/plugins/environments/slurm.py:191: The `srun` command is available on your system but is not used. HINT: If your intention is to run Lightning on SLURM, prepend your python command with `srun` like so: srun python /work/PRTNR/CHUV/DIR/rgottar1/spatial/env/jbac/minif ...\n",
      "GPU available: True (cuda), used: True\n",
      "TPU available: False, using: 0 TPU cores\n",
      "IPU available: False, using: 0 IPUs\n",
      "HPU available: False, using: 0 HPUs\n",
      "/work/PRTNR/CHUV/DIR/rgottar1/spatial/env/jbac/miniforge3/envs/spatial/lib/python3.11/site-packages/lightning/fabric/plugins/environments/slurm.py:191: The `srun` command is available on your system but is not used. HINT: If your intention is to run Lightning on SLURM, prepend your python command with `srun` like so: srun python /work/PRTNR/CHUV/DIR/rgottar1/spatial/env/jbac/minif ...\n",
      "/work/PRTNR/CHUV/DIR/rgottar1/spatial/env/jbac/miniforge3/envs/spatial/lib/python3.11/site-packages/lightning/pytorch/trainer/configuration_validator.py:72: You passed in a `val_dataloader` but have no `validation_step`. Skipping val loop.\n",
      "LOCAL_RANK: 0 - CUDA_VISIBLE_DEVICES: [0]\n",
      "/work/PRTNR/CHUV/DIR/rgottar1/spatial/env/jbac/miniforge3/envs/spatial/lib/python3.11/site-packages/lightning/pytorch/trainer/connectors/data_connector.py:441: The 'train_dataloader' does not have many workers which may be a bottleneck. Consider increasing the value of the `num_workers` argument` to `num_workers=5` in the `DataLoader` to improve performance.\n"
     ]
    },
    {
     "name": "stdout",
     "output_type": "stream",
     "text": [
      "Epoch 1/50:   2%|▏         | 1/50 [00:00<00:03, 13.93it/s, v_num=1]"
     ]
    },
    {
     "name": "stderr",
     "output_type": "stream",
     "text": [
      "`Trainer.fit` stopped: `max_steps=1` reached.\n"
     ]
    },
    {
     "name": "stdout",
     "output_type": "stream",
     "text": [
      "Epoch 1/50:   2%|▏         | 1/50 [00:00<00:03, 13.37it/s, v_num=1]"
     ]
    },
    {
     "name": "stderr",
     "output_type": "stream",
     "text": [
      "/work/PRTNR/CHUV/DIR/rgottar1/spatial/env/jbac/miniforge3/envs/spatial/lib/python3.11/site-packages/lightning/fabric/plugins/environments/slurm.py:191: The `srun` command is available on your system but is not used. HINT: If your intention is to run Lightning on SLURM, prepend your python command with `srun` like so: srun python /work/PRTNR/CHUV/DIR/rgottar1/spatial/env/jbac/minif ...\n"
     ]
    },
    {
     "name": "stdout",
     "output_type": "stream",
     "text": [
      "\n",
      "Sampling local variables, batch: 100%|██████████| 58/58 [00:48<00:00,  1.19it/s]\n"
     ]
    },
    {
     "name": "stderr",
     "output_type": "stream",
     "text": [
      "/work/PRTNR/CHUV/DIR/rgottar1/spatial/env/jbac/miniforge3/envs/spatial/lib/python3.11/site-packages/lightning/fabric/plugins/environments/slurm.py:191: The `srun` command is available on your system but is not used. HINT: If your intention is to run Lightning on SLURM, prepend your python command with `srun` like so: srun python /work/PRTNR/CHUV/DIR/rgottar1/spatial/env/jbac/minif ...\n"
     ]
    },
    {
     "name": "stdout",
     "output_type": "stream",
     "text": [
      "Sampling local variables, batch: 100%|██████████| 58/58 [00:31<00:00,  1.84it/s]\n"
     ]
    }
   ],
   "source": [
    "import dask\n",
    "dask.config.set({\"dataframe.query-planning\": False})\n",
    "\n",
    "import spatialdata_io\n",
    "import numpy as np\n",
    "import pandas as pd\n",
    "import scvi\n",
    "import sys\n",
    "import argparse\n",
    "from pathlib import Path\n",
    "\n",
    "sys.path.append(\"../../../workflow/scripts/\")\n",
    "import preprocessing\n",
    "import readwrite\n",
    "cfg = readwrite.config()\n",
    "\n",
    "# Access the arguments\n",
    "sample_dir = Path('/work/PRTNR/CHUV/DIR/rgottar1/spatial/env/xenium_paper/data/xenium/processed/segmentation/10x_0um/breast/breast/0OE1/0OE1')\n",
    "# cell_type_labels = Path('/work/PRTNR/CHUV/DIR/rgottar1/spatial/env/xenium_paper/data/xenium/processed/cell_type_annotation/10x_0um/breast/breast/0OE1/0OE1/lognorm/reference_based/matched_reference_combo/rctd_class_aware/Level2/single_cell/labels.parquet')\n",
    "cell_type_labels = None\n",
    "proseg_results_dir = sample_dir / 'raw_results'\n",
    "xeniumranger_dir = sample_dir / 'normalised_results/outs'\n",
    "dir_resolvi_model= '/work/PRTNR/CHUV/DIR/rgottar1/spatial/env/xenium_paper/results/resolvi/10x_0um/breast/breast/0OE1/0OE1/mixture_k=50/model'\n",
    "dir_resolvi_model_supervised = '/work/PRTNR/CHUV/DIR/rgottar1/spatial/env/xenium_paper/results/resolvi_supervised/10x_0um/breast/breast/0OE1/0OE1/lognorm/model'\n",
    "\n",
    "# dir_resolvi_model='model'\n",
    "\n",
    "# params from pipeline config\n",
    "min_counts = 10\n",
    "min_features = 5\n",
    "max_counts = float(\"inf\")\n",
    "max_features = float(\"inf\")\n",
    "min_cells = 5\n",
    "\n",
    "mixture_k = 50\n",
    "max_epochs = 50\n",
    "\n",
    "\n",
    "num_samples=30\n",
    "batch_size=1000\n",
    "\n",
    "adata = readwrite.read_xenium_sample(\n",
    "    xeniumranger_dir,\n",
    "    cells_as_circles=False,\n",
    "    cells_boundaries=False,\n",
    "    cells_boundaries_layers=False,\n",
    "    nucleus_boundaries=False,\n",
    "    cells_labels=False,\n",
    "    nucleus_labels=False,\n",
    "    transcripts=False,\n",
    "    morphology_mip=False,\n",
    "    morphology_focus=False,\n",
    "    aligned_images=False,\n",
    "    anndata=True,\n",
    ")\n",
    "\n",
    "# need to round proseg expected counts for resolVI to run\n",
    "# no need for if statement, doesn't change anything to other segmentation methods\n",
    "adata.X.data = adata.X.data.astype(np.float32).round()\n",
    "adata.obs_names = adata.obs_names.astype(str)\n",
    "\n",
    "if cell_type_labels is not None:\n",
    "    labels_key = \"labels_key\"\n",
    "    semisupervised = True\n",
    "    adata.obs[labels_key] = pd.read_parquet(cell_type_labels).set_index(\"cell_id\").iloc[:, 0].astype('category')\n",
    "    adata = adata[adata.obs[labels_key].notna()]\n",
    "else:\n",
    "    labels_key = None\n",
    "    semisupervised = False\n",
    "\n",
    "# preprocess (QC filters only)\n",
    "# resolvi requires at least 5 counts in each cell\n",
    "preprocessing.preprocess(\n",
    "    adata,\n",
    "    normalize=False,\n",
    "    log1p=False,\n",
    "    scale=\"none\",\n",
    "    pca=False,\n",
    "    umap=False,\n",
    "    save_raw=False,\n",
    "    min_counts=min_counts,\n",
    "    min_genes=min_features,\n",
    "    max_counts=max_counts,\n",
    "    max_genes=max_features,\n",
    "    min_cells=min_cells,\n",
    "    backend=\"cpu\",\n",
    ")\n",
    "\n",
    "\n",
    "\n",
    "resolvi = scvi.external.RESOLVI.load(dir_resolvi_model, adata=adata)\n",
    "\n",
    "samples_corr = resolvi.sample_posterior(\n",
    "    model=resolvi.module.model_corrected,\n",
    "    return_sites=[\"obs\"],\n",
    "    return_observed=True,\n",
    "    summary_fun={\"post_donor_q50\": np.median},\n",
    "    num_samples=num_samples,\n",
    "    batch_size=batch_size,\n",
    "    summary_frequency=100,\n",
    ")\n",
    "samples_corr = pd.DataFrame(samples_corr).T\n",
    "\n",
    "samples = resolvi.sample_posterior(\n",
    "    model=resolvi.module.model_residuals,\n",
    "    return_sites=[\"mixture_proportions\"],\n",
    "    summary_fun={\"post_donor_means\": np.mean},\n",
    "    num_samples=num_samples,\n",
    "    batch_size=batch_size,\n",
    "    summary_frequency=100,\n",
    ")\n",
    "samples_proportions = pd.DataFrame(samples).T\n",
    "\n",
    "### save\n",
    "samples_corr = pd.DataFrame(\n",
    "    samples_corr.loc[\"post_donor_q50\", \"obs\"],\n",
    "    index=adata.obs_names,\n",
    "    columns=adata.var_names,\n",
    ")\n",
    "samples_proportions = pd.DataFrame(\n",
    "    samples_proportions.loc[\"post_donor_means\", \"mixture_proportions\"],\n",
    "    index=adata.obs_names,\n",
    "    columns=[\"true_proportion\", \"diffusion_proportion\", \"background_proportion\"],\n",
    ")\n"
   ]
  },
  {
   "cell_type": "markdown",
   "metadata": {},
   "source": [
    "# panel"
   ]
  },
  {
   "cell_type": "code",
   "execution_count": 43,
   "metadata": {},
   "outputs": [],
   "source": [
    "class Args():\n",
    "    panel = Path('/work/PRTNR/CHUV/DIR/rgottar1/spatial/env/xenium_paper/data/xenium/processed/segmentation/10x_0um/breast/breast')\n",
    "    xenium_processed_data_dir = Path(cfg['xenium_processed_data_dir'])\n",
    "    cell_type_annotation_dir = Path(cfg['xenium_cell_type_annotation_dir'])\n",
    "    segmentation='10x_0um'\n",
    "    normalisation = 'lognorm'\n",
    "    reference = 'matched_reference_combo'\n",
    "    method = 'rctd_class_aware'\n",
    "    level = 'Level2.1'\n",
    "    min_counts=10\n",
    "    min_features=5\n",
    "    max_counts=float(\"inf\")\n",
    "    max_features=float(\"inf\")\n",
    "    min_cells=5\n",
    "    use_batch=True\n",
    "    l=None\n",
    "    e=None\n",
    "    mixture_k=50\n",
    "    max_epochs=1\n",
    "    batch_size=5000\n",
    "    num_samples=1\n",
    "\n",
    "args = Args()"
   ]
  },
  {
   "cell_type": "code",
   "execution_count": null,
   "metadata": {},
   "outputs": [
    {
     "name": "stdout",
     "output_type": "stream",
     "text": [
      "Reading samples and cell type annotation\n",
      "Using batch_key='sample' for RESOLVI\n",
      "1FYB 1FYB\n",
      "\u001b[34mINFO    \u001b[0m reading                                                                                                   \n",
      "         \u001b[35m/work/PRTNR/CHUV/DIR/rgottar1/spatial/env/xenium_paper/data/xenium/processed/segmentation/10x_0um/breast/b\u001b[0m\n",
      "         \u001b[35mreast/1FYB/1FYB/normalised_results/outs/\u001b[0m\u001b[95mcell_feature_matrix.h5\u001b[0m                                            \n"
     ]
    },
    {
     "name": "stderr",
     "output_type": "stream",
     "text": [
      "/work/PRTNR/CHUV/DIR/rgottar1/spatial/env/jbac/miniforge3/envs/spatial/lib/python3.13/site-packages/spatialdata/_core/spatialdata.py:158: UserWarning: The table is annotating 'cell_labels', which is not present in the SpatialData object.\n",
      "  self.validate_table_in_spatialdata(v)\n"
     ]
    },
    {
     "name": "stdout",
     "output_type": "stream",
     "text": [
      "OPHI OPHI_3\n",
      "\u001b[34mINFO    \u001b[0m reading                                                                                                   \n",
      "         \u001b[35m/work/PRTNR/CHUV/DIR/rgottar1/spatial/env/xenium_paper/data/xenium/processed/segmentation/10x_0um/breast/b\u001b[0m\n",
      "         \u001b[35mreast/OPHI/OPHI_3/normalised_results/outs/\u001b[0m\u001b[95mcell_feature_matrix.h5\u001b[0m                                          \n"
     ]
    },
    {
     "name": "stderr",
     "output_type": "stream",
     "text": [
      "/work/PRTNR/CHUV/DIR/rgottar1/spatial/env/jbac/miniforge3/envs/spatial/lib/python3.13/site-packages/spatialdata/_core/spatialdata.py:158: UserWarning: The table is annotating 'cell_labels', which is not present in the SpatialData object.\n",
      "  self.validate_table_in_spatialdata(v)\n"
     ]
    },
    {
     "name": "stdout",
     "output_type": "stream",
     "text": [
      "OPHI OPHI_1\n",
      "\u001b[34mINFO    \u001b[0m reading                                                                                                   \n",
      "         \u001b[35m/work/PRTNR/CHUV/DIR/rgottar1/spatial/env/xenium_paper/data/xenium/processed/segmentation/10x_0um/breast/b\u001b[0m\n",
      "         \u001b[35mreast/OPHI/OPHI_1/normalised_results/outs/\u001b[0m\u001b[95mcell_feature_matrix.h5\u001b[0m                                          \n"
     ]
    },
    {
     "name": "stderr",
     "output_type": "stream",
     "text": [
      "/work/PRTNR/CHUV/DIR/rgottar1/spatial/env/jbac/miniforge3/envs/spatial/lib/python3.13/site-packages/spatialdata/_core/spatialdata.py:158: UserWarning: The table is annotating 'cell_labels', which is not present in the SpatialData object.\n",
      "  self.validate_table_in_spatialdata(v)\n"
     ]
    },
    {
     "name": "stdout",
     "output_type": "stream",
     "text": [
      "OPHI OPHI_2\n",
      "\u001b[34mINFO    \u001b[0m reading                                                                                                   \n",
      "         \u001b[35m/work/PRTNR/CHUV/DIR/rgottar1/spatial/env/xenium_paper/data/xenium/processed/segmentation/10x_0um/breast/b\u001b[0m\n",
      "         \u001b[35mreast/OPHI/OPHI_2/normalised_results/outs/\u001b[0m\u001b[95mcell_feature_matrix.h5\u001b[0m                                          \n"
     ]
    },
    {
     "name": "stderr",
     "output_type": "stream",
     "text": [
      "/work/PRTNR/CHUV/DIR/rgottar1/spatial/env/jbac/miniforge3/envs/spatial/lib/python3.13/site-packages/spatialdata/_core/spatialdata.py:158: UserWarning: The table is annotating 'cell_labels', which is not present in the SpatialData object.\n",
      "  self.validate_table_in_spatialdata(v)\n"
     ]
    },
    {
     "name": "stdout",
     "output_type": "stream",
     "text": [
      "1BCA 1BCA\n",
      "\u001b[34mINFO    \u001b[0m reading                                                                                                   \n",
      "         \u001b[35m/work/PRTNR/CHUV/DIR/rgottar1/spatial/env/xenium_paper/data/xenium/processed/segmentation/10x_0um/breast/b\u001b[0m\n",
      "         \u001b[35mreast/1BCA/1BCA/normalised_results/outs/\u001b[0m\u001b[95mcell_feature_matrix.h5\u001b[0m                                            \n"
     ]
    },
    {
     "name": "stderr",
     "output_type": "stream",
     "text": [
      "/work/PRTNR/CHUV/DIR/rgottar1/spatial/env/jbac/miniforge3/envs/spatial/lib/python3.13/site-packages/spatialdata/_core/spatialdata.py:158: UserWarning: The table is annotating 'cell_labels', which is not present in the SpatialData object.\n",
      "  self.validate_table_in_spatialdata(v)\n"
     ]
    },
    {
     "name": "stdout",
     "output_type": "stream",
     "text": [
      "0PD6 0PD6\n",
      "\u001b[34mINFO    \u001b[0m reading                                                                                                   \n",
      "         \u001b[35m/work/PRTNR/CHUV/DIR/rgottar1/spatial/env/xenium_paper/data/xenium/processed/segmentation/10x_0um/breast/b\u001b[0m\n",
      "         \u001b[35mreast/0PD6/0PD6/normalised_results/outs/\u001b[0m\u001b[95mcell_feature_matrix.h5\u001b[0m                                            \n"
     ]
    },
    {
     "name": "stderr",
     "output_type": "stream",
     "text": [
      "/work/PRTNR/CHUV/DIR/rgottar1/spatial/env/jbac/miniforge3/envs/spatial/lib/python3.13/site-packages/spatialdata/_core/spatialdata.py:158: UserWarning: The table is annotating 'cell_labels', which is not present in the SpatialData object.\n",
      "  self.validate_table_in_spatialdata(v)\n"
     ]
    },
    {
     "name": "stdout",
     "output_type": "stream",
     "text": [
      "1256 1256\n",
      "\u001b[34mINFO    \u001b[0m reading                                                                                                   \n",
      "         \u001b[35m/work/PRTNR/CHUV/DIR/rgottar1/spatial/env/xenium_paper/data/xenium/processed/segmentation/10x_0um/breast/b\u001b[0m\n",
      "         \u001b[35mreast/1256/1256/normalised_results/outs/\u001b[0m\u001b[95mcell_feature_matrix.h5\u001b[0m                                            \n"
     ]
    },
    {
     "name": "stderr",
     "output_type": "stream",
     "text": [
      "/work/PRTNR/CHUV/DIR/rgottar1/spatial/env/jbac/miniforge3/envs/spatial/lib/python3.13/site-packages/spatialdata/_core/spatialdata.py:158: UserWarning: The table is annotating 'cell_labels', which is not present in the SpatialData object.\n",
      "  self.validate_table_in_spatialdata(v)\n"
     ]
    },
    {
     "name": "stdout",
     "output_type": "stream",
     "text": [
      "1GV1 1GV1\n",
      "\u001b[34mINFO    \u001b[0m reading                                                                                                   \n",
      "         \u001b[35m/work/PRTNR/CHUV/DIR/rgottar1/spatial/env/xenium_paper/data/xenium/processed/segmentation/10x_0um/breast/b\u001b[0m\n",
      "         \u001b[35mreast/1GV1/1GV1/normalised_results/outs/\u001b[0m\u001b[95mcell_feature_matrix.h5\u001b[0m                                            \n"
     ]
    },
    {
     "name": "stderr",
     "output_type": "stream",
     "text": [
      "/work/PRTNR/CHUV/DIR/rgottar1/spatial/env/jbac/miniforge3/envs/spatial/lib/python3.13/site-packages/spatialdata/_core/spatialdata.py:158: UserWarning: The table is annotating 'cell_labels', which is not present in the SpatialData object.\n",
      "  self.validate_table_in_spatialdata(v)\n"
     ]
    },
    {
     "name": "stdout",
     "output_type": "stream",
     "text": [
      "1GVR 1GVR\n",
      "\u001b[34mINFO    \u001b[0m reading                                                                                                   \n",
      "         \u001b[35m/work/PRTNR/CHUV/DIR/rgottar1/spatial/env/xenium_paper/data/xenium/processed/segmentation/10x_0um/breast/b\u001b[0m\n",
      "         \u001b[35mreast/1GVR/1GVR/normalised_results/outs/\u001b[0m\u001b[95mcell_feature_matrix.h5\u001b[0m                                            \n"
     ]
    },
    {
     "name": "stderr",
     "output_type": "stream",
     "text": [
      "/work/PRTNR/CHUV/DIR/rgottar1/spatial/env/jbac/miniforge3/envs/spatial/lib/python3.13/site-packages/spatialdata/_core/spatialdata.py:158: UserWarning: The table is annotating 'cell_labels', which is not present in the SpatialData object.\n",
      "  self.validate_table_in_spatialdata(v)\n"
     ]
    },
    {
     "name": "stdout",
     "output_type": "stream",
     "text": [
      "1FHZ 1FHZ\n",
      "\u001b[34mINFO    \u001b[0m reading                                                                                                   \n",
      "         \u001b[35m/work/PRTNR/CHUV/DIR/rgottar1/spatial/env/xenium_paper/data/xenium/processed/segmentation/10x_0um/breast/b\u001b[0m\n",
      "         \u001b[35mreast/1FHZ/1FHZ/normalised_results/outs/\u001b[0m\u001b[95mcell_feature_matrix.h5\u001b[0m                                            \n"
     ]
    },
    {
     "name": "stderr",
     "output_type": "stream",
     "text": [
      "/work/PRTNR/CHUV/DIR/rgottar1/spatial/env/jbac/miniforge3/envs/spatial/lib/python3.13/site-packages/spatialdata/_core/spatialdata.py:158: UserWarning: The table is annotating 'cell_labels', which is not present in the SpatialData object.\n",
      "  self.validate_table_in_spatialdata(v)\n"
     ]
    },
    {
     "name": "stdout",
     "output_type": "stream",
     "text": [
      "0U9A 0U9A\n",
      "\u001b[34mINFO    \u001b[0m reading                                                                                                   \n",
      "         \u001b[35m/work/PRTNR/CHUV/DIR/rgottar1/spatial/env/xenium_paper/data/xenium/processed/segmentation/10x_0um/breast/b\u001b[0m\n",
      "         \u001b[35mreast/0U9A/0U9A/normalised_results/outs/\u001b[0m\u001b[95mcell_feature_matrix.h5\u001b[0m                                            \n"
     ]
    },
    {
     "name": "stderr",
     "output_type": "stream",
     "text": [
      "/work/PRTNR/CHUV/DIR/rgottar1/spatial/env/jbac/miniforge3/envs/spatial/lib/python3.13/site-packages/spatialdata/_core/spatialdata.py:158: UserWarning: The table is annotating 'cell_labels', which is not present in the SpatialData object.\n",
      "  self.validate_table_in_spatialdata(v)\n"
     ]
    },
    {
     "name": "stdout",
     "output_type": "stream",
     "text": [
      "1ESQ 1ESQ\n",
      "\u001b[34mINFO    \u001b[0m reading                                                                                                   \n",
      "         \u001b[35m/work/PRTNR/CHUV/DIR/rgottar1/spatial/env/xenium_paper/data/xenium/processed/segmentation/10x_0um/breast/b\u001b[0m\n",
      "         \u001b[35mreast/1ESQ/1ESQ/normalised_results/outs/\u001b[0m\u001b[95mcell_feature_matrix.h5\u001b[0m                                            \n"
     ]
    },
    {
     "name": "stderr",
     "output_type": "stream",
     "text": [
      "/work/PRTNR/CHUV/DIR/rgottar1/spatial/env/jbac/miniforge3/envs/spatial/lib/python3.13/site-packages/spatialdata/_core/spatialdata.py:158: UserWarning: The table is annotating 'cell_labels', which is not present in the SpatialData object.\n",
      "  self.validate_table_in_spatialdata(v)\n"
     ]
    },
    {
     "name": "stdout",
     "output_type": "stream",
     "text": [
      "0VRA 0VRA\n",
      "\u001b[34mINFO    \u001b[0m reading                                                                                                   \n",
      "         \u001b[35m/work/PRTNR/CHUV/DIR/rgottar1/spatial/env/xenium_paper/data/xenium/processed/segmentation/10x_0um/breast/b\u001b[0m\n",
      "         \u001b[35mreast/0VRA/0VRA/normalised_results/outs/\u001b[0m\u001b[95mcell_feature_matrix.h5\u001b[0m                                            \n"
     ]
    },
    {
     "name": "stderr",
     "output_type": "stream",
     "text": [
      "/work/PRTNR/CHUV/DIR/rgottar1/spatial/env/jbac/miniforge3/envs/spatial/lib/python3.13/site-packages/spatialdata/_core/spatialdata.py:158: UserWarning: The table is annotating 'cell_labels', which is not present in the SpatialData object.\n",
      "  self.validate_table_in_spatialdata(v)\n"
     ]
    },
    {
     "name": "stdout",
     "output_type": "stream",
     "text": [
      "14LZ 14LZ\n",
      "\u001b[34mINFO    \u001b[0m reading                                                                                                   \n",
      "         \u001b[35m/work/PRTNR/CHUV/DIR/rgottar1/spatial/env/xenium_paper/data/xenium/processed/segmentation/10x_0um/breast/b\u001b[0m\n",
      "         \u001b[35mreast/14LZ/14LZ/normalised_results/outs/\u001b[0m\u001b[95mcell_feature_matrix.h5\u001b[0m                                            \n"
     ]
    },
    {
     "name": "stderr",
     "output_type": "stream",
     "text": [
      "/work/PRTNR/CHUV/DIR/rgottar1/spatial/env/jbac/miniforge3/envs/spatial/lib/python3.13/site-packages/spatialdata/_core/spatialdata.py:158: UserWarning: The table is annotating 'cell_labels', which is not present in the SpatialData object.\n",
      "  self.validate_table_in_spatialdata(v)\n"
     ]
    },
    {
     "name": "stdout",
     "output_type": "stream",
     "text": [
      "1H27 1H27\n",
      "\u001b[34mINFO    \u001b[0m reading                                                                                                   \n",
      "         \u001b[35m/work/PRTNR/CHUV/DIR/rgottar1/spatial/env/xenium_paper/data/xenium/processed/segmentation/10x_0um/breast/b\u001b[0m\n",
      "         \u001b[35mreast/1H27/1H27/normalised_results/outs/\u001b[0m\u001b[95mcell_feature_matrix.h5\u001b[0m                                            \n"
     ]
    },
    {
     "name": "stderr",
     "output_type": "stream",
     "text": [
      "/work/PRTNR/CHUV/DIR/rgottar1/spatial/env/jbac/miniforge3/envs/spatial/lib/python3.13/site-packages/spatialdata/_core/spatialdata.py:158: UserWarning: The table is annotating 'cell_labels', which is not present in the SpatialData object.\n",
      "  self.validate_table_in_spatialdata(v)\n"
     ]
    },
    {
     "name": "stdout",
     "output_type": "stream",
     "text": [
      "1GUC 1GUC\n",
      "\u001b[34mINFO    \u001b[0m reading                                                                                                   \n",
      "         \u001b[35m/work/PRTNR/CHUV/DIR/rgottar1/spatial/env/xenium_paper/data/xenium/processed/segmentation/10x_0um/breast/b\u001b[0m\n",
      "         \u001b[35mreast/1GUC/1GUC/normalised_results/outs/\u001b[0m\u001b[95mcell_feature_matrix.h5\u001b[0m                                            \n"
     ]
    },
    {
     "name": "stderr",
     "output_type": "stream",
     "text": [
      "/work/PRTNR/CHUV/DIR/rgottar1/spatial/env/jbac/miniforge3/envs/spatial/lib/python3.13/site-packages/spatialdata/_core/spatialdata.py:158: UserWarning: The table is annotating 'cell_labels', which is not present in the SpatialData object.\n",
      "  self.validate_table_in_spatialdata(v)\n"
     ]
    },
    {
     "name": "stdout",
     "output_type": "stream",
     "text": [
      "0OE1 0OE1\n",
      "\u001b[34mINFO    \u001b[0m reading                                                                                                   \n",
      "         \u001b[35m/work/PRTNR/CHUV/DIR/rgottar1/spatial/env/xenium_paper/data/xenium/processed/segmentation/10x_0um/breast/b\u001b[0m\n",
      "         \u001b[35mreast/0OE1/0OE1/normalised_results/outs/\u001b[0m\u001b[95mcell_feature_matrix.h5\u001b[0m                                            \n"
     ]
    },
    {
     "name": "stderr",
     "output_type": "stream",
     "text": [
      "/work/PRTNR/CHUV/DIR/rgottar1/spatial/env/jbac/miniforge3/envs/spatial/lib/python3.13/site-packages/spatialdata/_core/spatialdata.py:158: UserWarning: The table is annotating 'cell_labels', which is not present in the SpatialData object.\n",
      "  self.validate_table_in_spatialdata(v)\n"
     ]
    },
    {
     "name": "stdout",
     "output_type": "stream",
     "text": [
      "19TB 19TB\n",
      "\u001b[34mINFO    \u001b[0m reading                                                                                                   \n",
      "         \u001b[35m/work/PRTNR/CHUV/DIR/rgottar1/spatial/env/xenium_paper/data/xenium/processed/segmentation/10x_0um/breast/b\u001b[0m\n",
      "         \u001b[35mreast/19TB/19TB/normalised_results/outs/\u001b[0m\u001b[95mcell_feature_matrix.h5\u001b[0m                                            \n"
     ]
    },
    {
     "name": "stderr",
     "output_type": "stream",
     "text": [
      "/work/PRTNR/CHUV/DIR/rgottar1/spatial/env/jbac/miniforge3/envs/spatial/lib/python3.13/site-packages/spatialdata/_core/spatialdata.py:158: UserWarning: The table is annotating 'cell_labels', which is not present in the SpatialData object.\n",
      "  self.validate_table_in_spatialdata(v)\n"
     ]
    },
    {
     "name": "stdout",
     "output_type": "stream",
     "text": [
      "1FO7 1FO7\n",
      "\u001b[34mINFO    \u001b[0m reading                                                                                                   \n",
      "         \u001b[35m/work/PRTNR/CHUV/DIR/rgottar1/spatial/env/xenium_paper/data/xenium/processed/segmentation/10x_0um/breast/b\u001b[0m\n",
      "         \u001b[35mreast/1FO7/1FO7/normalised_results/outs/\u001b[0m\u001b[95mcell_feature_matrix.h5\u001b[0m                                            \n"
     ]
    },
    {
     "name": "stderr",
     "output_type": "stream",
     "text": [
      "/work/PRTNR/CHUV/DIR/rgottar1/spatial/env/jbac/miniforge3/envs/spatial/lib/python3.13/site-packages/spatialdata/_core/spatialdata.py:158: UserWarning: The table is annotating 'cell_labels', which is not present in the SpatialData object.\n",
      "  self.validate_table_in_spatialdata(v)\n"
     ]
    },
    {
     "name": "stdout",
     "output_type": "stream",
     "text": [
      "Concatenating\n"
     ]
    },
    {
     "name": "stderr",
     "output_type": "stream",
     "text": [
      "/work/PRTNR/CHUV/DIR/rgottar1/spatial/env/jbac/miniforge3/envs/spatial/lib/python3.13/site-packages/anndata/_core/anndata.py:1756: UserWarning: Observation names are not unique. To make them unique, call `.obs_names_make_unique`.\n",
      "  utils.warn_names_duplicates(\"obs\")\n",
      "/work/PRTNR/CHUV/DIR/rgottar1/spatial/env/jbac/miniforge3/envs/spatial/lib/python3.13/site-packages/anndata/_core/anndata.py:1756: UserWarning: Observation names are not unique. To make them unique, call `.obs_names_make_unique`.\n",
      "  utils.warn_names_duplicates(\"obs\")\n"
     ]
    },
    {
     "name": "stdout",
     "output_type": "stream",
     "text": [
      "Done\n"
     ]
    },
    {
     "name": "stderr",
     "output_type": "stream",
     "text": [
      "/work/PRTNR/CHUV/DIR/rgottar1/spatial/env/jbac/miniforge3/envs/spatial/lib/python3.13/site-packages/anndata/_core/anndata.py:1756: UserWarning: Observation names are not unique. To make them unique, call `.obs_names_make_unique`.\n",
      "  utils.warn_names_duplicates(\"obs\")\n",
      "/work/PRTNR/CHUV/DIR/rgottar1/spatial/env/jbac/miniforge3/envs/spatial/lib/python3.13/site-packages/anndata/_core/anndata.py:1756: UserWarning: Observation names are not unique. To make them unique, call `.obs_names_make_unique`.\n",
      "  utils.warn_names_duplicates(\"obs\")\n",
      "/work/PRTNR/CHUV/DIR/rgottar1/spatial/env/jbac/miniforge3/envs/spatial/lib/python3.13/site-packages/anndata/_core/anndata.py:1756: UserWarning: Observation names are not unique. To make them unique, call `.obs_names_make_unique`.\n",
      "  utils.warn_names_duplicates(\"obs\")\n"
     ]
    },
    {
     "name": "stdout",
     "output_type": "stream",
     "text": [
      "Removed 0  cells...\n",
      "Removed 0  genes...\n",
      "\u001b[34mINFO    \u001b[0m Generating sequential column names                                                                        \n",
      "\u001b[34mINFO    \u001b[0m Generating sequential column names                                                                        \n"
     ]
    },
    {
     "name": "stderr",
     "output_type": "stream",
     "text": [
      "/work/PRTNR/CHUV/DIR/rgottar1/spatial/env/jbac/miniforge3/envs/spatial/lib/python3.13/site-packages/scvi/data/fields/_dataframe_field.py:187: UserWarning: Category 0 in adata.obs['_scvi_ind_x'] has fewer than 3 cells. Models may not train properly.\n",
      "  categorical_mapping = _make_column_categorical(\n"
     ]
    },
    {
     "ename": "AttributeError",
     "evalue": "'Args' object has no attribute 'mixture_k'",
     "output_type": "error",
     "traceback": [
      "\u001b[0;31m---------------------------------------------------------------------------\u001b[0m",
      "\u001b[0;31mAttributeError\u001b[0m                            Traceback (most recent call last)",
      "Cell \u001b[0;32mIn[28], line 163\u001b[0m\n\u001b[1;32m    144\u001b[0m preprocessing\u001b[38;5;241m.\u001b[39mpreprocess(\n\u001b[1;32m    145\u001b[0m     adata,\n\u001b[1;32m    146\u001b[0m     normalize\u001b[38;5;241m=\u001b[39m\u001b[38;5;28;01mFalse\u001b[39;00m,\n\u001b[0;32m   (...)\u001b[0m\n\u001b[1;32m    157\u001b[0m     backend\u001b[38;5;241m=\u001b[39m\u001b[38;5;124m\"\u001b[39m\u001b[38;5;124mcpu\u001b[39m\u001b[38;5;124m\"\u001b[39m,\n\u001b[1;32m    158\u001b[0m )\n\u001b[1;32m    160\u001b[0m scvi\u001b[38;5;241m.\u001b[39mexternal\u001b[38;5;241m.\u001b[39mRESOLVI\u001b[38;5;241m.\u001b[39msetup_anndata(\n\u001b[1;32m    161\u001b[0m     adata, batch_key\u001b[38;5;241m=\u001b[39mbatch_key, labels_key\u001b[38;5;241m=\u001b[39mlabels_key, layer\u001b[38;5;241m=\u001b[39m\u001b[38;5;28;01mNone\u001b[39;00m, prepare_data_kwargs\u001b[38;5;241m=\u001b[39m{\u001b[38;5;124m\"\u001b[39m\u001b[38;5;124mspatial_rep\u001b[39m\u001b[38;5;124m\"\u001b[39m: \u001b[38;5;124m\"\u001b[39m\u001b[38;5;124mspatial\u001b[39m\u001b[38;5;124m\"\u001b[39m}\n\u001b[1;32m    162\u001b[0m )\n\u001b[0;32m--> 163\u001b[0m resolvi \u001b[38;5;241m=\u001b[39m scvi\u001b[38;5;241m.\u001b[39mexternal\u001b[38;5;241m.\u001b[39mRESOLVI(adata, mixture_k\u001b[38;5;241m=\u001b[39m\u001b[43margs\u001b[49m\u001b[38;5;241;43m.\u001b[39;49m\u001b[43mmixture_k\u001b[49m, semisupervised\u001b[38;5;241m=\u001b[39msemisupervised)\n\u001b[1;32m    164\u001b[0m resolvi\u001b[38;5;241m.\u001b[39mtrain(max_epochs\u001b[38;5;241m=\u001b[39margs\u001b[38;5;241m.\u001b[39mmax_epochs)\n\u001b[1;32m    165\u001b[0m resolvi\u001b[38;5;241m.\u001b[39msave(args\u001b[38;5;241m.\u001b[39mout_dir_resolvi_model, overwrite\u001b[38;5;241m=\u001b[39m\u001b[38;5;28;01mTrue\u001b[39;00m)\n",
      "\u001b[0;31mAttributeError\u001b[0m: 'Args' object has no attribute 'mixture_k'"
     ]
    }
   ],
   "source": [
    "import dask\n",
    "\n",
    "dask.config.set({\"dataframe.query-planning\": False})\n",
    "\n",
    "from pathlib import Path\n",
    "import numpy as np\n",
    "import pandas as pd\n",
    "import scanpy as sc\n",
    "import scvi\n",
    "import torch\n",
    "import argparse\n",
    "import os\n",
    "import sys\n",
    "\n",
    "sys.path.append(\"workflow/scripts/\")\n",
    "import preprocessing\n",
    "import readwrite\n",
    "torch.set_float32_matmul_precision('medium')\n",
    "\n",
    "\n",
    "# Set up argument parser\n",
    "def parse_args():\n",
    "    parser = argparse.ArgumentParser(description=\"Run RESOLVI on a Xenium sample.\")\n",
    "    parser.add_argument(\"--panel\", type=Path, help=\"Path to the args.panel file.\")\n",
    "    parser.add_argument(\"--xenium_processed_data_dir\", type=Path, help=\"Path to the xenium processed data directories\")\n",
    "    parser.add_argument(\"--cell_type_annotation_dir\", type=Path, help=\"Path to the cell_type_annotation_dir.\")\n",
    "    parser.add_argument(\"--normalisation\", type=str, help=\"annotation normalisation args.method\")\n",
    "    parser.add_argument(\"--reference\", type=str, help=\"annotation reference\")\n",
    "    parser.add_argument(\"--method\", type=str, help=\"annotation method\")\n",
    "    parser.add_argument(\"--level\", type=str, help=\"annotation level\")\n",
    "    parser.add_argument(\"--out_dir_resolvi_model\", type=str, help=\"output directory with RESOLVI model weights\")\n",
    "    parser.add_argument(\"--min_counts\", type=int, help=\"QC parameter from pipeline config\")\n",
    "    parser.add_argument(\"--min_features\", type=int, help=\"QC parameter from pipeline config\")\n",
    "    parser.add_argument(\"--max_counts\", type=float, help=\"QC parameter from pipeline config\")\n",
    "    parser.add_argument(\"--max_features\", type=float, help=\"QC parameter from pipeline config\")\n",
    "    parser.add_argument(\"--min_cells\", type=int, help=\"QC parameter from pipeline config\")\n",
    "    parser.add_argument(\n",
    "        \"--max_epochs\",\n",
    "        type=int,\n",
    "        default=50,\n",
    "        help=\"Maximum number of epochs to train the model.\",\n",
    "    )\n",
    "    parser.add_argument(\"--cell_type_labels\", type=str, help=\"optional cell_type_labels for semi-supervised mode\")\n",
    "    parser.add_argument(\"--mixture_k\", type=int, help=\"mixture_k parameter for unsupervised RESOLVI\")\n",
    "    parser.add_argument(\"--use_batch\", action=\"store_true\", help=\"whether to use batch parameter for RESOLVI\")\n",
    "    parser.add_argument(\n",
    "        \"-l\",\n",
    "        type=str,\n",
    "        default=None,\n",
    "        help=\"path to the log file\",\n",
    "    )\n",
    "\n",
    "    ret = parser.parse_args()\n",
    "    if not os.path.isdir(ret.path):\n",
    "        raise RuntimeError(f\"Error! Input directory does not exist: {ret.path}\")\n",
    "    if ret.max_epochs <= 0:\n",
    "        ret.max_epochs = 50\n",
    "\n",
    "    return ret\n",
    "\n",
    "\n",
    "if __name__ == \"__main__\":\n",
    "    # args = parse_args()\n",
    "\n",
    "    if args.l is not None:\n",
    "        old_stdout = sys.stdout\n",
    "        old_stderr = sys.stderr\n",
    "\n",
    "        _log = open(args.l, \"w\", encoding=\"utf-8\")\n",
    "\n",
    "        sys.stdout = _log\n",
    "        sys.stderr = _log\n",
    "\n",
    "    # process params\n",
    "    if args.level is not None:\n",
    "        print(\"Reading samples and cell type annotation\")\n",
    "        labels_key = \"labels_key\"\n",
    "        semisupervised = True\n",
    "    else:\n",
    "        print(\"Reading samples\")\n",
    "        labels_key = None\n",
    "        semisupervised = False\n",
    "\n",
    "    if args.use_batch:\n",
    "        batch_key = \"sample\"\n",
    "        print(f\"Using {batch_key=} for RESOLVI\")\n",
    "    else:\n",
    "        batch_key = None\n",
    "\n",
    "    condition = args.panel.parents[0].stem\n",
    "    segmentation = args.panel.parents[1].stem\n",
    "\n",
    "    # load data\n",
    "    ads = {}\n",
    "    for donor in (donors := args.panel.iterdir()):\n",
    "        for sample in (samples_ := donor.iterdir()):\n",
    "            print(donor.stem, sample.stem)\n",
    "\n",
    "            if segmentation == \"proseg_expected\":\n",
    "                k = (\"proseg\", condition, args.panel.stem, donor.stem, sample.stem)\n",
    "                k_annot = (segmentation, condition, args.panel.stem, donor.stem, sample.stem)\n",
    "                name = \"/\".join(k)\n",
    "                name_annot = \"/\".join(k_annot)\n",
    "                sample_dir = args.xenium_processed_data_dir / f\"{name}/raw_results\"\n",
    "            else:\n",
    "                k = (\n",
    "                    segmentation.replace(\"proseg_mode\", \"proseg\"),\n",
    "                    condition,\n",
    "                    args.panel.stem,\n",
    "                    donor.stem,\n",
    "                    sample.stem,\n",
    "                )\n",
    "                name = name_annot = \"/\".join(k)\n",
    "                sample_dir = args.xenium_processed_data_dir / f\"{name}/normalised_results/outs\"\n",
    "\n",
    "            ads[k] = readwrite.read_xenium_sample(sample_dir,anndata=True)\n",
    "            ads[k].obs_names = ads[k].obs_names.astype(str)\n",
    "\n",
    "            if segmentation == \"proseg_expected\":\n",
    "                ads[k].obs_names = \"proseg-\" + ads[k].obs_names\n",
    "                # need to round proseg expected counts for resolVI to run\n",
    "                adata.X.data = adata.X.data.round()\n",
    "\n",
    "            if args.level is not None:\n",
    "                annot_file = (\n",
    "                    args.cell_type_annotation_dir\n",
    "                    / name_annot\n",
    "                    / f\"{args.normalisation}/reference_based/{args.reference}/{args.method}/{args.level}/single_cell/labels.parquet\"\n",
    "                )\n",
    "                ads[k].obs[labels_key] = pd.read_parquet(annot_file).set_index(\"cell_id\").iloc[:, 0]\n",
    "\n",
    "    print(\"Concatenating\")\n",
    "    # concatenate\n",
    "    xenium_levels = [\"segmentation\", \"condition\", \"panel\", \"donor\", \"sample\"]\n",
    "    for k in ads.keys():\n",
    "        for i, lvl in enumerate(xenium_levels):\n",
    "            ads[k].obs[lvl] = k[i]\n",
    "    adata = sc.concat(ads)\n",
    "    adata = adata[adata.obs[labels_key].notna()].copy()\n",
    "    print(\"Done\")\n",
    "\n",
    "    adata.X.data = adata.X.data.astype(np.float32)\n",
    "\n",
    "    # preprocess (QC filters only)\n",
    "    # resolvi requires at least 5 counts in each cell\n",
    "    preprocessing.preprocess(\n",
    "        adata,\n",
    "        normalize=False,\n",
    "        log1p=False,\n",
    "        scale=\"none\",\n",
    "        pca=False,\n",
    "        umap=False,\n",
    "        save_raw=False,\n",
    "        min_counts=args.min_counts,\n",
    "        min_genes=args.min_features,\n",
    "        max_counts=args.max_counts,\n",
    "        max_genes=args.max_features,\n",
    "        min_cells=args.min_cells,\n",
    "        backend=\"cpu\",\n",
    "    )\n",
    "\n",
    "    scvi.external.RESOLVI.setup_anndata(\n",
    "        adata, batch_key=batch_key, labels_key=labels_key, layer=None, prepare_data_kwargs={\"spatial_rep\": \"spatial\"}\n",
    "    )\n",
    "    resolvi = scvi.external.RESOLVI(adata, mixture_k=args.mixture_k, semisupervised=semisupervised)\n",
    "    resolvi.train(max_epochs=args.max_epochs)\n",
    "    resolvi.save(args.out_dir_resolvi_model, overwrite=True)\n",
    "\n",
    "    if args.l is not None:\n",
    "        _log.close()\n",
    "        sys.stdout = old_stdout\n",
    "        sys.stderr = old_stderr\n"
   ]
  },
  {
   "cell_type": "code",
   "execution_count": 44,
   "metadata": {},
   "outputs": [
    {
     "name": "stdout",
     "output_type": "stream",
     "text": [
      "Reading samples and cell type annotation\n",
      "Using batch_key='sample' for RESOLVI\n",
      "1FYB 1FYB\n",
      "\u001b[34mINFO    \u001b[0m reading                                                                                                   \n",
      "         \u001b[35m/work/PRTNR/CHUV/DIR/rgottar1/spatial/env/xenium_paper/data/xenium/processed/segmentation/10x_0um/breast/b\u001b[0m\n",
      "         \u001b[35mreast/1FYB/1FYB/normalised_results/outs/\u001b[0m\u001b[95mcell_feature_matrix.h5\u001b[0m                                            \n",
      "OPHI OPHI_3\n",
      "\u001b[34mINFO    \u001b[0m reading                                                                                                   \n",
      "         \u001b[35m/work/PRTNR/CHUV/DIR/rgottar1/spatial/env/xenium_paper/data/xenium/processed/segmentation/10x_0um/breast/b\u001b[0m\n",
      "         \u001b[35mreast/OPHI/OPHI_3/normalised_results/outs/\u001b[0m\u001b[95mcell_feature_matrix.h5\u001b[0m                                          \n"
     ]
    },
    {
     "name": "stderr",
     "output_type": "stream",
     "text": [
      "/work/PRTNR/CHUV/DIR/rgottar1/spatial/env/jbac/miniforge3/envs/spatial/lib/python3.13/site-packages/spatialdata/_core/spatialdata.py:158: UserWarning: The table is annotating 'cell_labels', which is not present in the SpatialData object.\n",
      "  self.validate_table_in_spatialdata(v)\n"
     ]
    },
    {
     "name": "stdout",
     "output_type": "stream",
     "text": [
      "OPHI OPHI_1\n",
      "\u001b[34mINFO    \u001b[0m reading                                                                                                   \n",
      "         \u001b[35m/work/PRTNR/CHUV/DIR/rgottar1/spatial/env/xenium_paper/data/xenium/processed/segmentation/10x_0um/breast/b\u001b[0m\n",
      "         \u001b[35mreast/OPHI/OPHI_1/normalised_results/outs/\u001b[0m\u001b[95mcell_feature_matrix.h5\u001b[0m                                          \n"
     ]
    },
    {
     "name": "stderr",
     "output_type": "stream",
     "text": [
      "/work/PRTNR/CHUV/DIR/rgottar1/spatial/env/jbac/miniforge3/envs/spatial/lib/python3.13/site-packages/spatialdata/_core/spatialdata.py:158: UserWarning: The table is annotating 'cell_labels', which is not present in the SpatialData object.\n",
      "  self.validate_table_in_spatialdata(v)\n"
     ]
    },
    {
     "name": "stdout",
     "output_type": "stream",
     "text": [
      "OPHI OPHI_2\n",
      "\u001b[34mINFO    \u001b[0m reading                                                                                                   \n",
      "         \u001b[35m/work/PRTNR/CHUV/DIR/rgottar1/spatial/env/xenium_paper/data/xenium/processed/segmentation/10x_0um/breast/b\u001b[0m\n",
      "         \u001b[35mreast/OPHI/OPHI_2/normalised_results/outs/\u001b[0m\u001b[95mcell_feature_matrix.h5\u001b[0m                                          \n"
     ]
    },
    {
     "name": "stderr",
     "output_type": "stream",
     "text": [
      "/work/PRTNR/CHUV/DIR/rgottar1/spatial/env/jbac/miniforge3/envs/spatial/lib/python3.13/site-packages/spatialdata/_core/spatialdata.py:158: UserWarning: The table is annotating 'cell_labels', which is not present in the SpatialData object.\n",
      "  self.validate_table_in_spatialdata(v)\n"
     ]
    },
    {
     "name": "stdout",
     "output_type": "stream",
     "text": [
      "1BCA 1BCA\n",
      "\u001b[34mINFO    \u001b[0m reading                                                                                                   \n",
      "         \u001b[35m/work/PRTNR/CHUV/DIR/rgottar1/spatial/env/xenium_paper/data/xenium/processed/segmentation/10x_0um/breast/b\u001b[0m\n",
      "         \u001b[35mreast/1BCA/1BCA/normalised_results/outs/\u001b[0m\u001b[95mcell_feature_matrix.h5\u001b[0m                                            \n"
     ]
    },
    {
     "name": "stderr",
     "output_type": "stream",
     "text": [
      "/work/PRTNR/CHUV/DIR/rgottar1/spatial/env/jbac/miniforge3/envs/spatial/lib/python3.13/site-packages/spatialdata/_core/spatialdata.py:158: UserWarning: The table is annotating 'cell_labels', which is not present in the SpatialData object.\n",
      "  self.validate_table_in_spatialdata(v)\n"
     ]
    },
    {
     "name": "stdout",
     "output_type": "stream",
     "text": [
      "0PD6 0PD6\n",
      "\u001b[34mINFO    \u001b[0m reading                                                                                                   \n",
      "         \u001b[35m/work/PRTNR/CHUV/DIR/rgottar1/spatial/env/xenium_paper/data/xenium/processed/segmentation/10x_0um/breast/b\u001b[0m\n",
      "         \u001b[35mreast/0PD6/0PD6/normalised_results/outs/\u001b[0m\u001b[95mcell_feature_matrix.h5\u001b[0m                                            \n",
      "1256 1256\n",
      "\u001b[34mINFO    \u001b[0m reading                                                                                                   \n",
      "         \u001b[35m/work/PRTNR/CHUV/DIR/rgottar1/spatial/env/xenium_paper/data/xenium/processed/segmentation/10x_0um/breast/b\u001b[0m\n",
      "         \u001b[35mreast/1256/1256/normalised_results/outs/\u001b[0m\u001b[95mcell_feature_matrix.h5\u001b[0m                                            \n"
     ]
    },
    {
     "name": "stderr",
     "output_type": "stream",
     "text": [
      "/work/PRTNR/CHUV/DIR/rgottar1/spatial/env/jbac/miniforge3/envs/spatial/lib/python3.13/site-packages/spatialdata/_core/spatialdata.py:158: UserWarning: The table is annotating 'cell_labels', which is not present in the SpatialData object.\n",
      "  self.validate_table_in_spatialdata(v)\n",
      "/work/PRTNR/CHUV/DIR/rgottar1/spatial/env/jbac/miniforge3/envs/spatial/lib/python3.13/site-packages/spatialdata/_core/spatialdata.py:158: UserWarning: The table is annotating 'cell_labels', which is not present in the SpatialData object.\n",
      "  self.validate_table_in_spatialdata(v)\n"
     ]
    },
    {
     "name": "stdout",
     "output_type": "stream",
     "text": [
      "1GV1 1GV1\n",
      "\u001b[34mINFO    \u001b[0m reading                                                                                                   \n",
      "         \u001b[35m/work/PRTNR/CHUV/DIR/rgottar1/spatial/env/xenium_paper/data/xenium/processed/segmentation/10x_0um/breast/b\u001b[0m\n",
      "         \u001b[35mreast/1GV1/1GV1/normalised_results/outs/\u001b[0m\u001b[95mcell_feature_matrix.h5\u001b[0m                                            \n"
     ]
    },
    {
     "name": "stderr",
     "output_type": "stream",
     "text": [
      "/work/PRTNR/CHUV/DIR/rgottar1/spatial/env/jbac/miniforge3/envs/spatial/lib/python3.13/site-packages/spatialdata/_core/spatialdata.py:158: UserWarning: The table is annotating 'cell_labels', which is not present in the SpatialData object.\n",
      "  self.validate_table_in_spatialdata(v)\n"
     ]
    },
    {
     "name": "stdout",
     "output_type": "stream",
     "text": [
      "1GVR 1GVR\n",
      "\u001b[34mINFO    \u001b[0m reading                                                                                                   \n",
      "         \u001b[35m/work/PRTNR/CHUV/DIR/rgottar1/spatial/env/xenium_paper/data/xenium/processed/segmentation/10x_0um/breast/b\u001b[0m\n",
      "         \u001b[35mreast/1GVR/1GVR/normalised_results/outs/\u001b[0m\u001b[95mcell_feature_matrix.h5\u001b[0m                                            \n"
     ]
    },
    {
     "name": "stderr",
     "output_type": "stream",
     "text": [
      "/work/PRTNR/CHUV/DIR/rgottar1/spatial/env/jbac/miniforge3/envs/spatial/lib/python3.13/site-packages/spatialdata/_core/spatialdata.py:158: UserWarning: The table is annotating 'cell_labels', which is not present in the SpatialData object.\n",
      "  self.validate_table_in_spatialdata(v)\n"
     ]
    },
    {
     "name": "stdout",
     "output_type": "stream",
     "text": [
      "1FHZ 1FHZ\n",
      "\u001b[34mINFO    \u001b[0m reading                                                                                                   \n",
      "         \u001b[35m/work/PRTNR/CHUV/DIR/rgottar1/spatial/env/xenium_paper/data/xenium/processed/segmentation/10x_0um/breast/b\u001b[0m\n",
      "         \u001b[35mreast/1FHZ/1FHZ/normalised_results/outs/\u001b[0m\u001b[95mcell_feature_matrix.h5\u001b[0m                                            \n"
     ]
    },
    {
     "name": "stderr",
     "output_type": "stream",
     "text": [
      "/work/PRTNR/CHUV/DIR/rgottar1/spatial/env/jbac/miniforge3/envs/spatial/lib/python3.13/site-packages/spatialdata/_core/spatialdata.py:158: UserWarning: The table is annotating 'cell_labels', which is not present in the SpatialData object.\n",
      "  self.validate_table_in_spatialdata(v)\n",
      "/work/PRTNR/CHUV/DIR/rgottar1/spatial/env/jbac/miniforge3/envs/spatial/lib/python3.13/site-packages/spatialdata/_core/spatialdata.py:158: UserWarning: The table is annotating 'cell_labels', which is not present in the SpatialData object.\n",
      "  self.validate_table_in_spatialdata(v)\n"
     ]
    },
    {
     "name": "stdout",
     "output_type": "stream",
     "text": [
      "0U9A 0U9A\n",
      "\u001b[34mINFO    \u001b[0m reading                                                                                                   \n",
      "         \u001b[35m/work/PRTNR/CHUV/DIR/rgottar1/spatial/env/xenium_paper/data/xenium/processed/segmentation/10x_0um/breast/b\u001b[0m\n",
      "         \u001b[35mreast/0U9A/0U9A/normalised_results/outs/\u001b[0m\u001b[95mcell_feature_matrix.h5\u001b[0m                                            \n",
      "1ESQ 1ESQ\n",
      "\u001b[34mINFO    \u001b[0m reading                                                                                                   \n",
      "         \u001b[35m/work/PRTNR/CHUV/DIR/rgottar1/spatial/env/xenium_paper/data/xenium/processed/segmentation/10x_0um/breast/b\u001b[0m\n",
      "         \u001b[35mreast/1ESQ/1ESQ/normalised_results/outs/\u001b[0m\u001b[95mcell_feature_matrix.h5\u001b[0m                                            \n"
     ]
    },
    {
     "name": "stderr",
     "output_type": "stream",
     "text": [
      "/work/PRTNR/CHUV/DIR/rgottar1/spatial/env/jbac/miniforge3/envs/spatial/lib/python3.13/site-packages/spatialdata/_core/spatialdata.py:158: UserWarning: The table is annotating 'cell_labels', which is not present in the SpatialData object.\n",
      "  self.validate_table_in_spatialdata(v)\n"
     ]
    },
    {
     "name": "stdout",
     "output_type": "stream",
     "text": [
      "0VRA 0VRA\n",
      "\u001b[34mINFO    \u001b[0m reading                                                                                                   \n",
      "         \u001b[35m/work/PRTNR/CHUV/DIR/rgottar1/spatial/env/xenium_paper/data/xenium/processed/segmentation/10x_0um/breast/b\u001b[0m\n",
      "         \u001b[35mreast/0VRA/0VRA/normalised_results/outs/\u001b[0m\u001b[95mcell_feature_matrix.h5\u001b[0m                                            \n"
     ]
    },
    {
     "name": "stderr",
     "output_type": "stream",
     "text": [
      "/work/PRTNR/CHUV/DIR/rgottar1/spatial/env/jbac/miniforge3/envs/spatial/lib/python3.13/site-packages/spatialdata/_core/spatialdata.py:158: UserWarning: The table is annotating 'cell_labels', which is not present in the SpatialData object.\n",
      "  self.validate_table_in_spatialdata(v)\n"
     ]
    },
    {
     "name": "stdout",
     "output_type": "stream",
     "text": [
      "14LZ 14LZ\n",
      "\u001b[34mINFO    \u001b[0m reading                                                                                                   \n",
      "         \u001b[35m/work/PRTNR/CHUV/DIR/rgottar1/spatial/env/xenium_paper/data/xenium/processed/segmentation/10x_0um/breast/b\u001b[0m\n",
      "         \u001b[35mreast/14LZ/14LZ/normalised_results/outs/\u001b[0m\u001b[95mcell_feature_matrix.h5\u001b[0m                                            \n",
      "1H27 1H27\n",
      "\u001b[34mINFO    \u001b[0m reading                                                                                                   \n",
      "         \u001b[35m/work/PRTNR/CHUV/DIR/rgottar1/spatial/env/xenium_paper/data/xenium/processed/segmentation/10x_0um/breast/b\u001b[0m\n",
      "         \u001b[35mreast/1H27/1H27/normalised_results/outs/\u001b[0m\u001b[95mcell_feature_matrix.h5\u001b[0m                                            \n"
     ]
    },
    {
     "name": "stderr",
     "output_type": "stream",
     "text": [
      "/work/PRTNR/CHUV/DIR/rgottar1/spatial/env/jbac/miniforge3/envs/spatial/lib/python3.13/site-packages/spatialdata/_core/spatialdata.py:158: UserWarning: The table is annotating 'cell_labels', which is not present in the SpatialData object.\n",
      "  self.validate_table_in_spatialdata(v)\n",
      "/work/PRTNR/CHUV/DIR/rgottar1/spatial/env/jbac/miniforge3/envs/spatial/lib/python3.13/site-packages/spatialdata/_core/spatialdata.py:158: UserWarning: The table is annotating 'cell_labels', which is not present in the SpatialData object.\n",
      "  self.validate_table_in_spatialdata(v)\n"
     ]
    },
    {
     "name": "stdout",
     "output_type": "stream",
     "text": [
      "1GUC 1GUC\n",
      "\u001b[34mINFO    \u001b[0m reading                                                                                                   \n",
      "         \u001b[35m/work/PRTNR/CHUV/DIR/rgottar1/spatial/env/xenium_paper/data/xenium/processed/segmentation/10x_0um/breast/b\u001b[0m\n",
      "         \u001b[35mreast/1GUC/1GUC/normalised_results/outs/\u001b[0m\u001b[95mcell_feature_matrix.h5\u001b[0m                                            \n"
     ]
    },
    {
     "name": "stderr",
     "output_type": "stream",
     "text": [
      "/work/PRTNR/CHUV/DIR/rgottar1/spatial/env/jbac/miniforge3/envs/spatial/lib/python3.13/site-packages/spatialdata/_core/spatialdata.py:158: UserWarning: The table is annotating 'cell_labels', which is not present in the SpatialData object.\n",
      "  self.validate_table_in_spatialdata(v)\n"
     ]
    },
    {
     "name": "stdout",
     "output_type": "stream",
     "text": [
      "0OE1 0OE1\n",
      "\u001b[34mINFO    \u001b[0m reading                                                                                                   \n",
      "         \u001b[35m/work/PRTNR/CHUV/DIR/rgottar1/spatial/env/xenium_paper/data/xenium/processed/segmentation/10x_0um/breast/b\u001b[0m\n",
      "         \u001b[35mreast/0OE1/0OE1/normalised_results/outs/\u001b[0m\u001b[95mcell_feature_matrix.h5\u001b[0m                                            \n"
     ]
    },
    {
     "name": "stderr",
     "output_type": "stream",
     "text": [
      "/work/PRTNR/CHUV/DIR/rgottar1/spatial/env/jbac/miniforge3/envs/spatial/lib/python3.13/site-packages/spatialdata/_core/spatialdata.py:158: UserWarning: The table is annotating 'cell_labels', which is not present in the SpatialData object.\n",
      "  self.validate_table_in_spatialdata(v)\n",
      "/work/PRTNR/CHUV/DIR/rgottar1/spatial/env/jbac/miniforge3/envs/spatial/lib/python3.13/site-packages/spatialdata/_core/spatialdata.py:158: UserWarning: The table is annotating 'cell_labels', which is not present in the SpatialData object.\n",
      "  self.validate_table_in_spatialdata(v)\n"
     ]
    },
    {
     "name": "stdout",
     "output_type": "stream",
     "text": [
      "19TB 19TB\n",
      "\u001b[34mINFO    \u001b[0m reading                                                                                                   \n",
      "         \u001b[35m/work/PRTNR/CHUV/DIR/rgottar1/spatial/env/xenium_paper/data/xenium/processed/segmentation/10x_0um/breast/b\u001b[0m\n",
      "         \u001b[35mreast/19TB/19TB/normalised_results/outs/\u001b[0m\u001b[95mcell_feature_matrix.h5\u001b[0m                                            \n",
      "1FO7 1FO7\n",
      "\u001b[34mINFO    \u001b[0m reading                                                                                                   \n",
      "         \u001b[35m/work/PRTNR/CHUV/DIR/rgottar1/spatial/env/xenium_paper/data/xenium/processed/segmentation/10x_0um/breast/b\u001b[0m\n",
      "         \u001b[35mreast/1FO7/1FO7/normalised_results/outs/\u001b[0m\u001b[95mcell_feature_matrix.h5\u001b[0m                                            \n"
     ]
    },
    {
     "name": "stderr",
     "output_type": "stream",
     "text": [
      "/work/PRTNR/CHUV/DIR/rgottar1/spatial/env/jbac/miniforge3/envs/spatial/lib/python3.13/site-packages/spatialdata/_core/spatialdata.py:158: UserWarning: The table is annotating 'cell_labels', which is not present in the SpatialData object.\n",
      "  self.validate_table_in_spatialdata(v)\n",
      "/work/PRTNR/CHUV/DIR/rgottar1/spatial/env/jbac/miniforge3/envs/spatial/lib/python3.13/site-packages/spatialdata/_core/spatialdata.py:158: UserWarning: The table is annotating 'cell_labels', which is not present in the SpatialData object.\n",
      "  self.validate_table_in_spatialdata(v)\n"
     ]
    },
    {
     "name": "stdout",
     "output_type": "stream",
     "text": [
      "Concatenating\n"
     ]
    },
    {
     "name": "stderr",
     "output_type": "stream",
     "text": [
      "/work/PRTNR/CHUV/DIR/rgottar1/spatial/env/jbac/miniforge3/envs/spatial/lib/python3.13/site-packages/anndata/_core/anndata.py:1756: UserWarning: Observation names are not unique. To make them unique, call `.obs_names_make_unique`.\n",
      "  utils.warn_names_duplicates(\"obs\")\n",
      "/work/PRTNR/CHUV/DIR/rgottar1/spatial/env/jbac/miniforge3/envs/spatial/lib/python3.13/site-packages/anndata/_core/anndata.py:1756: UserWarning: Observation names are not unique. To make them unique, call `.obs_names_make_unique`.\n",
      "  utils.warn_names_duplicates(\"obs\")\n"
     ]
    },
    {
     "name": "stdout",
     "output_type": "stream",
     "text": [
      "Done\n"
     ]
    },
    {
     "name": "stderr",
     "output_type": "stream",
     "text": [
      "/work/PRTNR/CHUV/DIR/rgottar1/spatial/env/jbac/miniforge3/envs/spatial/lib/python3.13/site-packages/anndata/_core/anndata.py:1756: UserWarning: Observation names are not unique. To make them unique, call `.obs_names_make_unique`.\n",
      "  utils.warn_names_duplicates(\"obs\")\n",
      "/work/PRTNR/CHUV/DIR/rgottar1/spatial/env/jbac/miniforge3/envs/spatial/lib/python3.13/site-packages/anndata/_core/anndata.py:1756: UserWarning: Observation names are not unique. To make them unique, call `.obs_names_make_unique`.\n",
      "  utils.warn_names_duplicates(\"obs\")\n",
      "/work/PRTNR/CHUV/DIR/rgottar1/spatial/env/jbac/miniforge3/envs/spatial/lib/python3.13/site-packages/anndata/_core/anndata.py:1756: UserWarning: Observation names are not unique. To make them unique, call `.obs_names_make_unique`.\n",
      "  utils.warn_names_duplicates(\"obs\")\n",
      "/work/PRTNR/CHUV/DIR/rgottar1/spatial/env/jbac/miniforge3/envs/spatial/lib/python3.13/site-packages/lightning/fabric/plugins/environments/slurm.py:204: The `srun` command is available on your system but is not used. HINT: If your intention is to run Lightning on SLURM, prepend your python command with `srun` like so: srun python /work/PRTNR/CHUV/DIR/rgottar1/spatial/env/jbac/minif ...\n"
     ]
    },
    {
     "name": "stdout",
     "output_type": "stream",
     "text": [
      "Removed 0  cells...\n",
      "Removed 0  genes...\n",
      "Epoch 1/1:   0%|          | 0/1 [05:00<?, ?it/s]| 0/291 [00:00<?, ?it/s]\n",
      "Sampling local variables, batch: 100%|██████████| 291/291 [02:49<00:00,  1.71it/s]\n"
     ]
    },
    {
     "name": "stderr",
     "output_type": "stream",
     "text": [
      "/work/PRTNR/CHUV/DIR/rgottar1/spatial/env/jbac/miniforge3/envs/spatial/lib/python3.13/site-packages/lightning/fabric/plugins/environments/slurm.py:204: The `srun` command is available on your system but is not used. HINT: If your intention is to run Lightning on SLURM, prepend your python command with `srun` like so: srun python /work/PRTNR/CHUV/DIR/rgottar1/spatial/env/jbac/minif ...\n"
     ]
    },
    {
     "name": "stdout",
     "output_type": "stream",
     "text": [
      "Sampling local variables, batch: 100%|██████████| 291/291 [02:34<00:00,  1.88it/s]\n"
     ]
    },
    {
     "name": "stderr",
     "output_type": "stream",
     "text": [
      "/work/PRTNR/CHUV/DIR/rgottar1/spatial/env/jbac/miniforge3/envs/spatial/lib/python3.13/site-packages/anndata/_core/anndata.py:1756: UserWarning: Observation names are not unique. To make them unique, call `.obs_names_make_unique`.\n",
      "  utils.warn_names_duplicates(\"obs\")\n"
     ]
    },
    {
     "ename": "AttributeError",
     "evalue": "'Args' object has no attribute 'out_file_resolvi_corrected_counts'",
     "output_type": "error",
     "traceback": [
      "\u001b[0;31m---------------------------------------------------------------------------\u001b[0m",
      "\u001b[0;31mAttributeError\u001b[0m                            Traceback (most recent call last)",
      "Cell \u001b[0;32mIn[44], line 197\u001b[0m\n\u001b[1;32m    190\u001b[0m samples_proportions \u001b[38;5;241m=\u001b[39m pd\u001b[38;5;241m.\u001b[39mDataFrame(\n\u001b[1;32m    191\u001b[0m     samples_proportions\u001b[38;5;241m.\u001b[39mloc[\u001b[38;5;124m\"\u001b[39m\u001b[38;5;124mpost_sample_means\u001b[39m\u001b[38;5;124m\"\u001b[39m, \u001b[38;5;124m\"\u001b[39m\u001b[38;5;124mmixture_proportions\u001b[39m\u001b[38;5;124m\"\u001b[39m],\n\u001b[1;32m    192\u001b[0m     index\u001b[38;5;241m=\u001b[39madata\u001b[38;5;241m.\u001b[39mobs_names,\n\u001b[1;32m    193\u001b[0m     columns\u001b[38;5;241m=\u001b[39m[\u001b[38;5;124m\"\u001b[39m\u001b[38;5;124mtrue_proportion\u001b[39m\u001b[38;5;124m\"\u001b[39m, \u001b[38;5;124m\"\u001b[39m\u001b[38;5;124mdiffusion_proportion\u001b[39m\u001b[38;5;124m\"\u001b[39m, \u001b[38;5;124m\"\u001b[39m\u001b[38;5;124mbackground_proportion\u001b[39m\u001b[38;5;124m\"\u001b[39m],\n\u001b[1;32m    194\u001b[0m )\n\u001b[1;32m    196\u001b[0m adata_out \u001b[38;5;241m=\u001b[39m ad\u001b[38;5;241m.\u001b[39mAnnData(samples_corr)\n\u001b[0;32m--> 197\u001b[0m readwrite\u001b[38;5;241m.\u001b[39mwrite_10X_h5(adata_out, \u001b[43margs\u001b[49m\u001b[38;5;241;43m.\u001b[39;49m\u001b[43mout_file_resolvi_corrected_counts\u001b[49m)\n\u001b[1;32m    198\u001b[0m samples_proportions\u001b[38;5;241m.\u001b[39mto_parquet(args\u001b[38;5;241m.\u001b[39mout_file_resolvi_proportions)\n\u001b[1;32m    200\u001b[0m \u001b[38;5;28;01mif\u001b[39;00m args\u001b[38;5;241m.\u001b[39ml \u001b[38;5;129;01mis\u001b[39;00m \u001b[38;5;129;01mnot\u001b[39;00m \u001b[38;5;28;01mNone\u001b[39;00m:\n",
      "\u001b[0;31mAttributeError\u001b[0m: 'Args' object has no attribute 'out_file_resolvi_corrected_counts'"
     ]
    }
   ],
   "source": [
    "import dask\n",
    "\n",
    "dask.config.set({\"dataframe.query-planning\": False})\n",
    "\n",
    "import anndata as ad\n",
    "import numpy as np\n",
    "import pandas as pd\n",
    "import scvi\n",
    "import torch\n",
    "import argparse\n",
    "import os\n",
    "import sys\n",
    "\n",
    "sys.path.append(\"workflow/scripts/\")\n",
    "import preprocessing\n",
    "import readwrite\n",
    "torch.set_float32_matmul_precision('medium')\n",
    "\n",
    "\n",
    "# Set up argument parser\n",
    "def parse_args():\n",
    "    parser = argparse.ArgumentParser(description=\"Embed panel of Xenium samples.\")\n",
    "    parser.add_argument(\"--path\", type=str, help=\"Path to the xenium sample file.\")\n",
    "    parser.add_argument(\"--dir_resolvi_model\", type=str, help=\"directory with saved RESOLVI model weights\")\n",
    "    parser.add_argument(\n",
    "        \"--out_file_resolvi_corrected_counts\",\n",
    "        type=str,\n",
    "        help=\"Path to resolvi corrected counts parquet file.\",\n",
    "    )\n",
    "    parser.add_argument(\n",
    "        \"--out_file_resolvi_proportions\",\n",
    "        type=str,\n",
    "        help=\"Path to resolvi proportions parquet file.\",\n",
    "    )\n",
    "    parser.add_argument(\"--min_counts\", type=int, help=\"QC parameter from pipeline config\")\n",
    "    parser.add_argument(\"--min_features\", type=int, help=\"QC parameter from pipeline config\")\n",
    "    parser.add_argument(\"--max_counts\", type=float, help=\"QC parameter from pipeline config\")\n",
    "    parser.add_argument(\"--max_features\", type=float, help=\"QC parameter from pipeline config\")\n",
    "    parser.add_argument(\"--min_cells\", type=int, help=\"QC parameter from pipeline config\")\n",
    "    parser.add_argument(\n",
    "        \"--num_samples\",\n",
    "        type=int,\n",
    "        help=\"Number of samples for RESOLVI generative model.\",\n",
    "    )\n",
    "    parser.add_argument(\"--batch_size\", type=int, help=\"batch size parameter\")\n",
    "    parser.add_argument(\"--cell_type_labels\", type=str, help=\"optional cell_type_labels for semi-supervised mode\")\n",
    "    parser.add_argument(\n",
    "        \"-l\",\n",
    "        type=str,\n",
    "        default=None,\n",
    "        help=\"path to the log file\",\n",
    "    )\n",
    "\n",
    "    ret = parser.parse_args()\n",
    "    if not os.path.isdir(ret.path):\n",
    "        raise RuntimeError(f\"Error! Input directory does not exist: {ret.path}\")\n",
    "\n",
    "    return ret\n",
    "\n",
    "\n",
    "if __name__ == \"__main__\":\n",
    "    # args = parse_args()\n",
    "\n",
    "    if args.l is not None:\n",
    "        old_stdout = sys.stdout\n",
    "        old_stderr = sys.stderr\n",
    "\n",
    "        _log = open(args.l, \"w\", encoding=\"utf-8\")\n",
    "\n",
    "        sys.stdout = _log\n",
    "        sys.stderr = _log\n",
    "\n",
    "    # process params\n",
    "    if args.level is not None:\n",
    "        print(\"Reading samples and cell type annotation\")\n",
    "        labels_key = \"labels_key\"\n",
    "        semisupervised = True\n",
    "    else:\n",
    "        print(\"Reading samples\")\n",
    "        labels_key = None\n",
    "        semisupervised = False\n",
    "\n",
    "    if args.use_batch:\n",
    "        batch_key = \"sample\"\n",
    "        print(f\"Using {batch_key=} for RESOLVI\")\n",
    "    else:\n",
    "        batch_key = None\n",
    "\n",
    "    condition = args.panel.parents[0].stem\n",
    "    segmentation = args.panel.parents[1].stem\n",
    "\n",
    "    # load data\n",
    "    ads = {}\n",
    "    for donor in (donors := args.panel.iterdir()):\n",
    "        for sample in (samples_ := donor.iterdir()):\n",
    "            print(donor.stem, sample.stem)\n",
    "\n",
    "            if segmentation == \"proseg_expected\":\n",
    "                k = (\"proseg\", condition, args.panel.stem, donor.stem, sample.stem)\n",
    "                k_annot = (segmentation, condition, args.panel.stem, donor.stem, sample.stem)\n",
    "                name = \"/\".join(k)\n",
    "                name_annot = \"/\".join(k_annot)\n",
    "                sample_dir = args.xenium_processed_data_dir / f\"{name}/raw_results\"\n",
    "            else:\n",
    "                k = (\n",
    "                    segmentation.replace(\"proseg_mode\", \"proseg\"),\n",
    "                    condition,\n",
    "                    args.panel.stem,\n",
    "                    donor.stem,\n",
    "                    sample.stem,\n",
    "                )\n",
    "                name = name_annot = \"/\".join(k)\n",
    "                sample_dir = args.xenium_processed_data_dir / f\"{name}/normalised_results/outs\"\n",
    "\n",
    "            ads[k] = readwrite.read_xenium_sample(sample_dir,anndata=True)\n",
    "            ads[k].obs_names = ads[k].obs_names.astype(str)\n",
    "\n",
    "            if segmentation == \"proseg_expected\":\n",
    "                ads[k].obs_names = \"proseg-\" + ads[k].obs_names\n",
    "                # need to round proseg expected counts for resolVI to run\n",
    "                adata.X.data = adata.X.data.round()\n",
    "\n",
    "            if args.level is not None:\n",
    "                annot_file = (\n",
    "                    args.cell_type_annotation_dir\n",
    "                    / name_annot\n",
    "                    / f\"{args.normalisation}/reference_based/{args.reference}/{args.method}/{args.level}/single_cell/labels.parquet\"\n",
    "                )\n",
    "                ads[k].obs[labels_key] = pd.read_parquet(annot_file).set_index(\"cell_id\").iloc[:, 0]\n",
    "\n",
    "    print(\"Concatenating\")\n",
    "    # concatenate\n",
    "    xenium_levels = [\"segmentation\", \"condition\", \"panel\", \"donor\", \"sample\"]\n",
    "    for k in ads.keys():\n",
    "        for i, lvl in enumerate(xenium_levels):\n",
    "            ads[k].obs[lvl] = k[i]\n",
    "    adata = sc.concat(ads)\n",
    "    adata = adata[adata.obs[labels_key].notna()].copy()\n",
    "    print(\"Done\")\n",
    "\n",
    "    adata.X.data = adata.X.data.astype(np.float32)\n",
    "\n",
    "    # preprocess (QC filters only)\n",
    "    # resolvi requires at least 5 counts in each cell\n",
    "    preprocessing.preprocess(\n",
    "        adata,\n",
    "        normalize=False,\n",
    "        log1p=False,\n",
    "        scale=\"none\",\n",
    "        pca=False,\n",
    "        umap=False,\n",
    "        save_raw=False,\n",
    "        min_counts=args.min_counts,\n",
    "        min_genes=args.min_features,\n",
    "        max_counts=args.max_counts,\n",
    "        max_genes=args.max_features,\n",
    "        min_cells=args.min_cells,\n",
    "        backend=\"cpu\",\n",
    "    )\n",
    "\n",
    "    # resolvi = scvi.external.RESOLVI.load(args.dir_resolvi_model, adata=adata)\n",
    "\n",
    "    samples_corr = resolvi.sample_posterior(\n",
    "        model=resolvi.module.model_corrected,\n",
    "        return_sites=[\"obs\"],\n",
    "        return_observed=True,\n",
    "        summary_fun={\"post_sample_q50\": np.median},\n",
    "        num_samples=args.num_samples,\n",
    "        batch_size=args.batch_size,\n",
    "        summary_frequency=100,\n",
    "    )\n",
    "    samples_corr = pd.DataFrame(samples_corr).T\n",
    "\n",
    "    samples = resolvi.sample_posterior(\n",
    "        model=resolvi.module.model_residuals,\n",
    "        return_sites=[\"mixture_proportions\"],\n",
    "        summary_fun={\"post_sample_means\": np.mean},\n",
    "        num_samples=args.num_samples,\n",
    "        batch_size=args.batch_size,\n",
    "        summary_frequency=100,\n",
    "    )\n",
    "    samples_proportions = pd.DataFrame(samples).T\n",
    "\n",
    "    ### save\n",
    "    samples_corr = pd.DataFrame(\n",
    "        samples_corr.loc[\"post_sample_q50\", \"obs\"],\n",
    "        index=adata.obs_names,\n",
    "        columns=adata.var_names,\n",
    "    )\n",
    "    samples_proportions = pd.DataFrame(\n",
    "        samples_proportions.loc[\"post_sample_means\", \"mixture_proportions\"],\n",
    "        index=adata.obs_names,\n",
    "        columns=[\"true_proportion\", \"diffusion_proportion\", \"background_proportion\"],\n",
    "    )\n",
    "\n",
    "    adata_out = ad.AnnData(samples_corr)\n",
    "    readwrite.write_10X_h5(adata_out, args.out_file_resolvi_corrected_counts)\n",
    "    samples_proportions.to_parquet(args.out_file_resolvi_proportions)\n",
    "\n",
    "    if args.l is not None:\n",
    "        _log.close()\n",
    "        sys.stdout = old_stdout\n",
    "        sys.stderr = old_stderr\n"
   ]
  },
  {
   "cell_type": "code",
   "execution_count": null,
   "metadata": {},
   "outputs": [],
   "source": []
  }
 ],
 "metadata": {
  "kernelspec": {
   "display_name": "spatial",
   "language": "python",
   "name": "python3"
  },
  "language_info": {
   "codemirror_mode": {
    "name": "ipython",
    "version": 3
   },
   "file_extension": ".py",
   "mimetype": "text/x-python",
   "name": "python",
   "nbconvert_exporter": "python",
   "pygments_lexer": "ipython3",
   "version": "3.13.1"
  }
 },
 "nbformat": 4,
 "nbformat_minor": 2
}
