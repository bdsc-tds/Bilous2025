{
 "cells": [
  {
   "cell_type": "code",
   "execution_count": 2,
   "metadata": {},
   "outputs": [],
   "source": [
    "import dask\n",
    "dask.config.set({\"dataframe.query-planning\": False})\n",
    "\n",
    "import scanpy as sc\n",
    "import spatialdata_io\n",
    "import numpy as np\n",
    "import pandas as pd\n",
    "import sys\n",
    "import argparse\n",
    "from pathlib import Path\n",
    "\n",
    "sys.path.append(\"../../../workflow/scripts/\")\n",
    "import preprocessing\n",
    "import readwrite\n",
    "\n",
    "cfg = readwrite.config()"
   ]
  },
  {
   "cell_type": "code",
   "execution_count": 4,
   "metadata": {},
   "outputs": [
    {
     "name": "stdout",
     "output_type": "stream",
     "text": [
      "\u001b[34mINFO    \u001b[0m reading                                                                                                   \n",
      "         \u001b[35m/work/PRTNR/CHUV/DIR/rgottar1/spatial/env/xenium_paper/data/xenium/processed/segmentation/10x_0um/breast/b\u001b[0m\n",
      "         \u001b[35mreast/0OE1/0OE1/normalised_results/outs/\u001b[0m\u001b[95mcell_feature_matrix.h5\u001b[0m                                            \n"
     ]
    },
    {
     "name": "stderr",
     "output_type": "stream",
     "text": [
      "/work/PRTNR/CHUV/DIR/rgottar1/spatial/env/jbac/miniforge3/envs/spatial/lib/python3.11/site-packages/spatialdata/_core/spatialdata.py:185: UserWarning: The table is annotating 'cell_labels', which is not present in the SpatialData object.\n",
      "  self.validate_table_in_spatialdata(v)\n",
      "/work/PRTNR/CHUV/DIR/rgottar1/spatial/env/jbac/miniforge3/envs/spatial/lib/python3.11/site-packages/scanpy/preprocessing/_simple.py:284: ImplicitModificationWarning: Trying to modify attribute `.var` of view, initializing view as actual.\n",
      "  adata.var[\"n_cells\"] = number\n"
     ]
    },
    {
     "name": "stdout",
     "output_type": "stream",
     "text": [
      "Removed 0  cells...\n",
      "Removed 0  genes...\n"
     ]
    },
    {
     "name": "stderr",
     "output_type": "stream",
     "text": [
      "/work/PRTNR/CHUV/DIR/rgottar1/spatial/env/jbac/miniforge3/envs/spatial/lib/python3.11/site-packages/scanpy/neighbors/__init__.py:700: FutureWarning: `transformer='rapids'` is deprecated. Use `rapids_singlecell.tl.neighbors` instead.\n",
      "  warn(msg, FutureWarning)\n",
      "/work/PRTNR/CHUV/DIR/rgottar1/spatial/env/jbac/miniforge3/envs/spatial/lib/python3.11/site-packages/sklearn/base.py:474: FutureWarning: `BaseEstimator._validate_data` is deprecated in 1.6 and will be removed in 1.7. Use `sklearn.utils.validation.validate_data` instead. This function becomes public and is part of the scikit-learn developer API.\n",
      "  warnings.warn(\n"
     ]
    },
    {
     "name": "stdout",
     "output_type": "stream",
     "text": [
      "\u001b[34mINFO    \u001b[0m Generating sequential column names                                                                        \n",
      "\u001b[34mINFO    \u001b[0m Generating sequential column names                                                                        \n"
     ]
    },
    {
     "name": "stderr",
     "output_type": "stream",
     "text": [
      "/work/PRTNR/CHUV/DIR/rgottar1/spatial/env/jbac/miniforge3/envs/spatial/lib/python3.11/site-packages/scvi/data/fields/_dataframe_field.py:187: UserWarning: Category 0 in adata.obs['_scvi_ind_x'] has fewer than 3 cells. Models may not train properly.\n",
      "  categorical_mapping = _make_column_categorical(\n"
     ]
    }
   ],
   "source": [
    "import dask\n",
    "dask.config.set({\"dataframe.query-planning\": False})\n",
    "\n",
    "import scanpy as sc\n",
    "import spatialdata_io\n",
    "import numpy as np\n",
    "import pandas as pd\n",
    "import scvi\n",
    "import sys\n",
    "import argparse\n",
    "from pathlib import Path\n",
    "\n",
    "sys.path.append(\"../../../workflow/scripts/\")\n",
    "import preprocessing\n",
    "import readwrite\n",
    "cfg = readwrite.config()\n",
    "\n",
    "# Access the arguments\n",
    "sample_dir = Path('/work/PRTNR/CHUV/DIR/rgottar1/spatial/env/xenium_paper/data/xenium/processed/segmentation/10x_0um/breast/breast/0OE1/0OE1')\n",
    "cell_type_labels = Path('/work/PRTNR/CHUV/DIR/rgottar1/spatial/env/xenium_paper/data/xenium/processed/cell_type_annotation/10x_0um/breast/breast/0OE1/0OE1/lognorm/reference_based/matched_reference_combo/rctd_class_aware/Level2/single_cell/labels.parquet')\n",
    "# cell_type_labels = None\n",
    "proseg_results_dir = sample_dir / 'raw_results'\n",
    "xeniumranger_dir = sample_dir / 'normalised_results/outs'\n",
    "\n",
    "\n",
    "# params from pipeline config\n",
    "min_counts = 10\n",
    "min_features = 5\n",
    "max_counts = float(\"inf\")\n",
    "max_features = float(\"inf\")\n",
    "min_cells = 5\n",
    "\n",
    "mixture_k = 50\n",
    "max_epochs = 50\n",
    "\n",
    "adata = readwrite.read_xenium_sample(\n",
    "    xeniumranger_dir,\n",
    "    cells_as_circles=False,\n",
    "    cells_boundaries=False,\n",
    "    cells_boundaries_layers=False,\n",
    "    nucleus_boundaries=False,\n",
    "    cells_labels=False,\n",
    "    nucleus_labels=False,\n",
    "    transcripts=False,\n",
    "    morphology_mip=False,\n",
    "    morphology_focus=False,\n",
    "    aligned_images=False,\n",
    "    anndata=True,\n",
    ")\n",
    "\n",
    "# need to round proseg expected counts for resolVI to run\n",
    "# no need for if statement, doesn't change anything to other segmentation methods\n",
    "adata.X.data = adata.X.data.astype(np.float32).round()\n",
    "adata.obs_names = adata.obs_names.astype(str)\n",
    "\n",
    "if cell_type_labels is not None:\n",
    "    labels_key = \"labels_key\"\n",
    "    semisupervised = True\n",
    "    adata.obs[labels_key] = pd.read_parquet(cell_type_labels).set_index(\"cell_id\").iloc[:, 0].astype('category')\n",
    "    adata = adata[adata.obs[labels_key].notna()]\n",
    "else:\n",
    "    labels_key = None\n",
    "    semisupervised = False\n",
    "\n",
    "# preprocess (QC filters only)\n",
    "# resolvi requires at least 5 counts in each cell\n",
    "preprocessing.preprocess(\n",
    "    adata,\n",
    "    normalize=False,\n",
    "    log1p=False,\n",
    "    scale=\"none\",\n",
    "    pca=False,\n",
    "    umap=False,\n",
    "    save_raw=False,\n",
    "    min_counts=min_counts,\n",
    "    min_genes=min_features,\n",
    "    max_counts=max_counts,\n",
    "    max_genes=max_features,\n",
    "    min_cells=min_cells,\n",
    "    backend=\"cpu\",\n",
    ")\n",
    "\n",
    "\n",
    "scvi.external.RESOLVI.setup_anndata(\n",
    "    adata, labels_key=labels_key, layer=None, prepare_data_kwargs={\"spatial_rep\": \"spatial\"}\n",
    ")\n",
    "resolvi = scvi.external.RESOLVI(adata, mixture_k=mixture_k, semisupervised=semisupervised)\n",
    "# resolvi.train(max_epochs=max_epochs)\n",
    "resolvi.save('model',overwrite=True)"
   ]
  },
  {
   "cell_type": "code",
   "execution_count": 13,
   "metadata": {},
   "outputs": [
    {
     "name": "stdout",
     "output_type": "stream",
     "text": [
      "\u001b[34mINFO    \u001b[0m reading                                                                                                   \n",
      "         \u001b[35m/work/PRTNR/CHUV/DIR/rgottar1/spatial/env/xenium_paper/data/xenium/processed/segmentation/10x_0um/breast/b\u001b[0m\n",
      "         \u001b[35mreast/0OE1/0OE1/normalised_results/outs/\u001b[0m\u001b[95mcell_feature_matrix.h5\u001b[0m                                            \n",
      "Removed 11449  cells...\n",
      "Removed 0  genes...\n",
      "\u001b[34mINFO    \u001b[0m File                                                                                                      \n",
      "         \u001b[35m/work/PRTNR/CHUV/DIR/rgottar1/spatial/env/xenium_paper/results/resolvi/10x_0um/breast/breast/0OE1/0OE1/\u001b[0m\u001b[95mmix\u001b[0m\n",
      "         \u001b[95mture_k\u001b[0m=\u001b[1;36m50\u001b[0m/model/model.pt already downloaded                                                               \n"
     ]
    },
    {
     "name": "stderr",
     "output_type": "stream",
     "text": [
      "/work/PRTNR/CHUV/DIR/rgottar1/spatial/env/jbac/miniforge3/envs/spatial/lib/python3.11/site-packages/spatialdata/_core/spatialdata.py:185: UserWarning: The table is annotating 'cell_labels', which is not present in the SpatialData object.\n",
      "  self.validate_table_in_spatialdata(v)\n",
      "/work/PRTNR/CHUV/DIR/rgottar1/spatial/env/jbac/miniforge3/envs/spatial/lib/python3.11/site-packages/lightning/fabric/plugins/environments/slurm.py:191: The `srun` command is available on your system but is not used. HINT: If your intention is to run Lightning on SLURM, prepend your python command with `srun` like so: srun python /work/PRTNR/CHUV/DIR/rgottar1/spatial/env/jbac/minif ...\n",
      "/work/PRTNR/CHUV/DIR/rgottar1/spatial/env/jbac/miniforge3/envs/spatial/lib/python3.11/site-packages/scanpy/neighbors/__init__.py:700: FutureWarning: `transformer='rapids'` is deprecated. Use `rapids_singlecell.tl.neighbors` instead.\n",
      "  warn(msg, FutureWarning)\n",
      "/work/PRTNR/CHUV/DIR/rgottar1/spatial/env/jbac/miniforge3/envs/spatial/lib/python3.11/site-packages/sklearn/base.py:474: FutureWarning: `BaseEstimator._validate_data` is deprecated in 1.6 and will be removed in 1.7. Use `sklearn.utils.validation.validate_data` instead. This function becomes public and is part of the scikit-learn developer API.\n",
      "  warnings.warn(\n",
      "/work/PRTNR/CHUV/DIR/rgottar1/spatial/env/jbac/miniforge3/envs/spatial/lib/python3.11/site-packages/scvi/data/fields/_dataframe_field.py:227: UserWarning: Category 0 in adata.obs['_scvi_ind_x'] has fewer than 3 cells. Models may not train properly.\n",
      "  new_mapping = _make_column_categorical(\n",
      "/work/PRTNR/CHUV/DIR/rgottar1/spatial/env/jbac/miniforge3/envs/spatial/lib/python3.11/site-packages/lightning/fabric/plugins/environments/slurm.py:191: The `srun` command is available on your system but is not used. HINT: If your intention is to run Lightning on SLURM, prepend your python command with `srun` like so: srun python /work/PRTNR/CHUV/DIR/rgottar1/spatial/env/jbac/minif ...\n",
      "GPU available: True (cuda), used: True\n",
      "TPU available: False, using: 0 TPU cores\n",
      "IPU available: False, using: 0 IPUs\n",
      "HPU available: False, using: 0 HPUs\n",
      "/work/PRTNR/CHUV/DIR/rgottar1/spatial/env/jbac/miniforge3/envs/spatial/lib/python3.11/site-packages/lightning/fabric/plugins/environments/slurm.py:191: The `srun` command is available on your system but is not used. HINT: If your intention is to run Lightning on SLURM, prepend your python command with `srun` like so: srun python /work/PRTNR/CHUV/DIR/rgottar1/spatial/env/jbac/minif ...\n",
      "/work/PRTNR/CHUV/DIR/rgottar1/spatial/env/jbac/miniforge3/envs/spatial/lib/python3.11/site-packages/lightning/pytorch/trainer/configuration_validator.py:72: You passed in a `val_dataloader` but have no `validation_step`. Skipping val loop.\n",
      "LOCAL_RANK: 0 - CUDA_VISIBLE_DEVICES: [0]\n",
      "/work/PRTNR/CHUV/DIR/rgottar1/spatial/env/jbac/miniforge3/envs/spatial/lib/python3.11/site-packages/lightning/pytorch/trainer/connectors/data_connector.py:441: The 'train_dataloader' does not have many workers which may be a bottleneck. Consider increasing the value of the `num_workers` argument` to `num_workers=5` in the `DataLoader` to improve performance.\n"
     ]
    },
    {
     "name": "stdout",
     "output_type": "stream",
     "text": [
      "Epoch 1/50:   2%|▏         | 1/50 [00:00<00:03, 13.93it/s, v_num=1]"
     ]
    },
    {
     "name": "stderr",
     "output_type": "stream",
     "text": [
      "`Trainer.fit` stopped: `max_steps=1` reached.\n"
     ]
    },
    {
     "name": "stdout",
     "output_type": "stream",
     "text": [
      "Epoch 1/50:   2%|▏         | 1/50 [00:00<00:03, 13.37it/s, v_num=1]"
     ]
    },
    {
     "name": "stderr",
     "output_type": "stream",
     "text": [
      "/work/PRTNR/CHUV/DIR/rgottar1/spatial/env/jbac/miniforge3/envs/spatial/lib/python3.11/site-packages/lightning/fabric/plugins/environments/slurm.py:191: The `srun` command is available on your system but is not used. HINT: If your intention is to run Lightning on SLURM, prepend your python command with `srun` like so: srun python /work/PRTNR/CHUV/DIR/rgottar1/spatial/env/jbac/minif ...\n"
     ]
    },
    {
     "name": "stdout",
     "output_type": "stream",
     "text": [
      "\n",
      "Sampling local variables, batch: 100%|██████████| 58/58 [00:48<00:00,  1.19it/s]\n"
     ]
    },
    {
     "name": "stderr",
     "output_type": "stream",
     "text": [
      "/work/PRTNR/CHUV/DIR/rgottar1/spatial/env/jbac/miniforge3/envs/spatial/lib/python3.11/site-packages/lightning/fabric/plugins/environments/slurm.py:191: The `srun` command is available on your system but is not used. HINT: If your intention is to run Lightning on SLURM, prepend your python command with `srun` like so: srun python /work/PRTNR/CHUV/DIR/rgottar1/spatial/env/jbac/minif ...\n"
     ]
    },
    {
     "name": "stdout",
     "output_type": "stream",
     "text": [
      "Sampling local variables, batch: 100%|██████████| 58/58 [00:31<00:00,  1.84it/s]\n"
     ]
    }
   ],
   "source": [
    "import dask\n",
    "dask.config.set({\"dataframe.query-planning\": False})\n",
    "\n",
    "import spatialdata_io\n",
    "import numpy as np\n",
    "import pandas as pd\n",
    "import scvi\n",
    "import sys\n",
    "import argparse\n",
    "from pathlib import Path\n",
    "\n",
    "sys.path.append(\"../../../workflow/scripts/\")\n",
    "import preprocessing\n",
    "import readwrite\n",
    "cfg = readwrite.config()\n",
    "\n",
    "# Access the arguments\n",
    "sample_dir = Path('/work/PRTNR/CHUV/DIR/rgottar1/spatial/env/xenium_paper/data/xenium/processed/segmentation/10x_0um/breast/breast/0OE1/0OE1')\n",
    "# cell_type_labels = Path('/work/PRTNR/CHUV/DIR/rgottar1/spatial/env/xenium_paper/data/xenium/processed/cell_type_annotation/10x_0um/breast/breast/0OE1/0OE1/lognorm/reference_based/matched_reference_combo/rctd_class_aware/Level2/single_cell/labels.parquet')\n",
    "cell_type_labels = None\n",
    "proseg_results_dir = sample_dir / 'raw_results'\n",
    "xeniumranger_dir = sample_dir / 'normalised_results/outs'\n",
    "dir_resolvi_model= '/work/PRTNR/CHUV/DIR/rgottar1/spatial/env/xenium_paper/results/resolvi/10x_0um/breast/breast/0OE1/0OE1/mixture_k=50/model'\n",
    "dir_resolvi_model_supervised = '/work/PRTNR/CHUV/DIR/rgottar1/spatial/env/xenium_paper/results/resolvi_supervised/10x_0um/breast/breast/0OE1/0OE1/lognorm/model'\n",
    "\n",
    "# dir_resolvi_model='model'\n",
    "\n",
    "# params from pipeline config\n",
    "min_counts = 10\n",
    "min_features = 5\n",
    "max_counts = float(\"inf\")\n",
    "max_features = float(\"inf\")\n",
    "min_cells = 5\n",
    "\n",
    "mixture_k = 50\n",
    "max_epochs = 50\n",
    "\n",
    "\n",
    "num_samples=30\n",
    "batch_size=1000\n",
    "\n",
    "adata = readwrite.read_xenium_sample(\n",
    "    xeniumranger_dir,\n",
    "    cells_as_circles=False,\n",
    "    cells_boundaries=False,\n",
    "    cells_boundaries_layers=False,\n",
    "    nucleus_boundaries=False,\n",
    "    cells_labels=False,\n",
    "    nucleus_labels=False,\n",
    "    transcripts=False,\n",
    "    morphology_mip=False,\n",
    "    morphology_focus=False,\n",
    "    aligned_images=False,\n",
    "    anndata=True,\n",
    ")\n",
    "\n",
    "# need to round proseg expected counts for resolVI to run\n",
    "# no need for if statement, doesn't change anything to other segmentation methods\n",
    "adata.X.data = adata.X.data.astype(np.float32).round()\n",
    "adata.obs_names = adata.obs_names.astype(str)\n",
    "\n",
    "if cell_type_labels is not None:\n",
    "    labels_key = \"labels_key\"\n",
    "    semisupervised = True\n",
    "    adata.obs[labels_key] = pd.read_parquet(cell_type_labels).set_index(\"cell_id\").iloc[:, 0].astype('category')\n",
    "    adata = adata[adata.obs[labels_key].notna()]\n",
    "else:\n",
    "    labels_key = None\n",
    "    semisupervised = False\n",
    "\n",
    "# preprocess (QC filters only)\n",
    "# resolvi requires at least 5 counts in each cell\n",
    "preprocessing.preprocess(\n",
    "    adata,\n",
    "    normalize=False,\n",
    "    log1p=False,\n",
    "    scale=\"none\",\n",
    "    pca=False,\n",
    "    umap=False,\n",
    "    save_raw=False,\n",
    "    min_counts=min_counts,\n",
    "    min_genes=min_features,\n",
    "    max_counts=max_counts,\n",
    "    max_genes=max_features,\n",
    "    min_cells=min_cells,\n",
    "    backend=\"cpu\",\n",
    ")\n",
    "\n",
    "\n",
    "\n",
    "resolvi = scvi.external.RESOLVI.load(dir_resolvi_model, adata=adata)\n",
    "\n",
    "samples_corr = resolvi.sample_posterior(\n",
    "    model=resolvi.module.model_corrected,\n",
    "    return_sites=[\"obs\"],\n",
    "    return_observed=True,\n",
    "    summary_fun={\"post_donor_q50\": np.median},\n",
    "    num_samples=num_samples,\n",
    "    batch_size=batch_size,\n",
    "    summary_frequency=100,\n",
    ")\n",
    "samples_corr = pd.DataFrame(samples_corr).T\n",
    "\n",
    "samples = resolvi.sample_posterior(\n",
    "    model=resolvi.module.model_residuals,\n",
    "    return_sites=[\"mixture_proportions\"],\n",
    "    summary_fun={\"post_donor_means\": np.mean},\n",
    "    num_samples=num_samples,\n",
    "    batch_size=batch_size,\n",
    "    summary_frequency=100,\n",
    ")\n",
    "samples_proportions = pd.DataFrame(samples).T\n",
    "\n",
    "### save\n",
    "samples_corr = pd.DataFrame(\n",
    "    samples_corr.loc[\"post_donor_q50\", \"obs\"],\n",
    "    index=adata.obs_names,\n",
    "    columns=adata.var_names,\n",
    ")\n",
    "samples_proportions = pd.DataFrame(\n",
    "    samples_proportions.loc[\"post_donor_means\", \"mixture_proportions\"],\n",
    "    index=adata.obs_names,\n",
    "    columns=[\"true_proportion\", \"diffusion_proportion\", \"background_proportion\"],\n",
    ")\n"
   ]
  },
  {
   "cell_type": "code",
   "execution_count": 30,
   "metadata": {},
   "outputs": [],
   "source": [
    "from pomegranate.distributions import Poisson\n",
    "from pomegranate.gmm import GeneralMixtureModel\n",
    "from matplotlib.gridspec import GridSpec\n",
    "from matplotlib import pyplot as plt\n",
    "import seaborn as sns\n",
    "import torch\n",
    "DPI = 100\n",
    "\n",
    "def double_positive_pmm(adata, marker_list, marker_dict=None, layer_key='counts', output_dir=\"\", file_save='', vmax=0.3):\n",
    "    if True: # 'positive_pmm_counts' not in adata.obsm:\n",
    "        adata.obsm['positive_pmm_counts'] = pd.DataFrame(\n",
    "            0, index=adata.obs_names, columns=marker_list)\n",
    "        for gene_x in marker_list:\n",
    "            model = GeneralMixtureModel(\n",
    "                [Poisson([0.001], inertia=0.99), Poisson([0.5], inertia=0.999)], verbose=False).cuda()\n",
    "            model_fit = model.fit(\n",
    "                torch.tensor(adata.obsm['counts'][gene_x].values[..., np.newaxis]).cuda())\n",
    "            adata.obsm['positive_pmm_counts'][gene_x] = model_fit.predict(torch.tensor(adata.obsm['counts'][gene_x].values[..., np.newaxis]).cuda()).cpu()\n",
    "    \n",
    "    adata.obsm[f'positive_pmm_{layer_key}'] = pd.DataFrame(\n",
    "            0, index=adata.obs_names, columns=marker_list)\n",
    "    for gene_x in marker_list:\n",
    "        model = GeneralMixtureModel(\n",
    "            [Poisson([0.001], inertia=0.99), Poisson([0.5], inertia=0.999)], verbose=False).cuda()\n",
    "        model_fit = model.fit(\n",
    "                torch.tensor(adata.obsm[layer_key][gene_x].values[..., np.newaxis]).cuda())\n",
    "        adata.obsm[f'positive_pmm_{layer_key}'][gene_x] = model_fit.predict(torch.tensor(adata.obsm[layer_key][gene_x].values[..., np.newaxis]).cuda()).cpu()\n",
    "        \n",
    "    adata.uns[f'double_positive_{layer_key}'] = pd.DataFrame(\n",
    "        0, index=marker_list, columns=marker_list)\n",
    "        \n",
    "    for ind_x, gene_x in enumerate(marker_list):  \n",
    "        for ind_y, gene_y in enumerate(marker_list):\n",
    "            if ind_x<ind_y:\n",
    "                positives = adata.obsm['positive_pmm_counts'][[gene_x, gene_y]].sum(1)\n",
    "                adata.uns[f'double_positive_{layer_key}'].loc[gene_x, gene_y] = np.sum(positives==2) / np.sum(positives>0) if np.sum(positives)>0 else None\n",
    "            else:\n",
    "                positives = adata.obsm[f'positive_pmm_{layer_key}'][[gene_x, gene_y]].sum(1)\n",
    "                adata.uns[f'double_positive_{layer_key}'].loc[gene_x, gene_y] = np.sum(positives==2) / np.sum(positives>0) if np.sum(positives)>0 else None\n",
    "                \n",
    "    fig = plt.figure(figsize=(10, 10), dpi=DPI)\n",
    "    gs = GridSpec(1, 1)\n",
    "    ax = fig.add_subplot(gs[0])\n",
    "    sns.set(font_scale=1.) # for label size\n",
    "    sns.heatmap(adata.uns[f'double_positive_{layer_key}'], annot=True, annot_kws={\"size\": 6},\n",
    "                square=True, linecolor='black', fmt=\".1%\", mask=np.identity(len(marker_list)),\n",
    "                cmap='viridis', linewidths=1.2, vmax=vmax, xticklabels=True, yticklabels=True, ax=ax)\n",
    "    \n",
    "    if marker_dict:\n",
    "        current_pos = 0\n",
    "        for group, genes in marker_dict.items():\n",
    "            gene_count = len(genes)\n",
    "            if gene_count > 0:\n",
    "                position = (current_pos, current_pos + gene_count - 1)\n",
    "                current_pos += gene_count\n",
    "                ax.text((position[0] + position[1]) / 2, - 1.3, group, ha='center', va='bottom', color='navy', fontsize=12)\n",
    "                ax.plot([position[0] + 0.5, position[1] + 0.5], [- 0.5, - 0.5], lw=4, c='navy')\n",
    "\n",
    "        ax.set_ylim([len(marker_list), -2])\n",
    "        plt.subplots_adjust(top=0.9, bottom=0.5, left=0.07, right=0.93, hspace=0.2, wspace=0.2)\n",
    "    ax.set_xticklabels(ax.get_xticklabels(), rotation=45, horizontalalignment='right')\n",
    "    ax.set_yticklabels(ax.get_yticklabels(), rotation=0)\n",
    "    # plt.savefig(f'{output_dir}/double_positives_{layer_key}{file_save}.pdf')"
   ]
  },
  {
   "cell_type": "code",
   "execution_count": 80,
   "metadata": {},
   "outputs": [],
   "source": [
    "marker_list = adata.var_names[:2]\n",
    "adata.obsm['positive_pmm_counts'] = pd.DataFrame(\n",
    "    0, index=adata.obs_names, columns=marker_list)\n",
    "for gene_x in marker_list:\n",
    "    model = GeneralMixtureModel(\n",
    "        [Poisson([0.01], inertia=0.99), Poisson([0.5], inertia=0.999)], verbose=False).cuda()\n",
    "    model_fit = model.fit(\n",
    "        torch.tensor(adata[:,gene_x].X.todense()).cuda())\n",
    "    adata.obsm['positive_pmm_counts'][gene_x] = model_fit.predict(torch.tensor(adata[:,gene_x].X.todense()).cuda()).cpu()"
   ]
  },
  {
   "cell_type": "code",
   "execution_count": 81,
   "metadata": {},
   "outputs": [
    {
     "data": {
      "text/plain": [
       "<matplotlib.collections.PathCollection at 0x7fa9b15c6210>"
      ]
     },
     "execution_count": 81,
     "metadata": {},
     "output_type": "execute_result"
    },
    {
     "data": {
      "image/png": "[encoded data removed]",
      "text/plain": [
       "<Figure size 640x480 with 1 Axes>"
      ]
     },
     "metadata": {},
     "output_type": "display_data"
    }
   ],
   "source": [
    "plt.scatter(adata[:,0].X.todense().flat,adata.obsm['positive_pmm_counts'].iloc[:,0])"
   ]
  },
  {
   "cell_type": "code",
   "execution_count": 26,
   "metadata": {},
   "outputs": [],
   "source": [
    "adata.obsm['counts']=adata.to_df()"
   ]
  },
  {
   "cell_type": "code",
   "execution_count": 32,
   "metadata": {},
   "outputs": [
    {
     "data": {
      "image/png": "[encoded data removed]",
      "text/plain": [
       "<Figure size 1000x1000 with 2 Axes>"
      ]
     },
     "metadata": {},
     "output_type": "display_data"
    }
   ],
   "source": [
    "double_positive_pmm(adata,adata.var_names[:2])"
   ]
  }
 ],
 "metadata": {
  "kernelspec": {
   "display_name": "spatial",
   "language": "python",
   "name": "python3"
  },
  "language_info": {
   "codemirror_mode": {
    "name": "ipython",
    "version": 3
   },
   "file_extension": ".py",
   "mimetype": "text/x-python",
   "name": "python",
   "nbconvert_exporter": "python",
   "pygments_lexer": "ipython3",
   "version": "3.11.11"
  }
 },
 "nbformat": 4,
 "nbformat_minor": 2
}
