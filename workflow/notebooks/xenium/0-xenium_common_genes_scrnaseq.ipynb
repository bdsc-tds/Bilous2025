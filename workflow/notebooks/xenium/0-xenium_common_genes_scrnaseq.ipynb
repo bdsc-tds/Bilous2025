{
 "cells": [
  {
   "cell_type": "code",
   "execution_count": 58,
   "metadata": {},
   "outputs": [],
   "source": [
    "import dask\n",
    "dask.config.set({'dataframe.query-planning': False})\n",
    "\n",
    "import h5py\n",
    "from pathlib import Path\n",
    "from functools import reduce\n",
    "import pandas as pd\n",
    "import sys\n",
    "sys.path.append(\"../../../workflow/scripts/\")\n",
    "import readwrite\n",
    "cfg = readwrite.config()"
   ]
  },
  {
   "cell_type": "code",
   "execution_count": null,
   "metadata": {},
   "outputs": [],
   "source": [
    "# get chromium refs gene panels\n",
    "seurat_to_h5_dir = Path(cfg['results_dir']) / 'seurat_to_h5'\n",
    "gene_panels = {}\n",
    "for dir in seurat_to_h5_dir.iterdir():\n",
    "    if dir.is_dir():\n",
    "        with h5py.File(dir / 'RNA_counts.h5', 'r') as f:\n",
    "            gene_panels[dir.name] = f[list(f.keys())[0]]['gene_names'].asstr()[:].tolist()\n",
    "\n",
    "\n",
    "# get xenium gene panels info\n",
    "u_condition_panel = [\n",
    "    ['NSCLC','5k'],\n",
    "    ['NSCLC','lung']\n",
    " ]\n",
    "for condition_panel in u_condition_panel:\n",
    "    condition, panel = condition_panel\n",
    "    name = '/'.join(condition_panel)\n",
    "    panel_path = Path(f'/work/PRTNR/CHUV/DIR/rgottar1/spatial/env/xenium_paper/data/xenium/processed/segmentation/10x_5um/{condition}/{panel}')\n",
    "    \n",
    "    # get gene panel info from first sample\n",
    "    donor = list(panel_path.iterdir())[0]\n",
    "    sample = list(donor.iterdir())[0]\n",
    "    p = sample / 'normalised_results/outs/gene_panel.json'\n",
    "\n",
    "    df = readwrite.get_gene_panel_info(p)\n",
    "    gene_panels[condition, panel] = df[df['id'].notna()]['name'].tolist()\n",
    "\n",
    "\n",
    "# get common genes between lung, 5k, chromium\n",
    "common_genes = list(reduce(set.intersection, map(set, gene_panels.values())))\n",
    "common_genes = pd.DataFrame({'gene': common_genes})\n",
    "common_genes.to_csv(cfg['markers_dir']+'Xenium_NSCLC_5k_lung_chromium_common_genes.csv')"
   ]
  }
 ],
 "metadata": {
  "kernelspec": {
   "display_name": "spatial",
   "language": "python",
   "name": "python3"
  },
  "language_info": {
   "codemirror_mode": {
    "name": "ipython",
    "version": 3
   },
   "file_extension": ".py",
   "mimetype": "text/x-python",
   "name": "python",
   "nbconvert_exporter": "python",
   "pygments_lexer": "ipython3",
   "version": "3.11.11"
  }
 },
 "nbformat": 4,
 "nbformat_minor": 2
}
