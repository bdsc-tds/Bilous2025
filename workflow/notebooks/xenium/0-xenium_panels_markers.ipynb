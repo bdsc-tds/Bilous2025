{
 "cells": [
  {
   "cell_type": "code",
   "execution_count": 11,
   "metadata": {},
   "outputs": [],
   "source": [
    "import pandas as pd\n",
    "from pathlib import Path\n",
    "\n",
    "chuvio_markers_path = '/work/PRTNR/CHUV/DIR/rgottar1/spatial/env/xenium_paper/data/markers/CHUV_IO_340_panel.csv'\n",
    "breast_markers_path = '/work/PRTNR/CHUV/DIR/rgottar1/spatial/env/xenium_paper/data/markers/Xenium_hBreast_v1_metadata.csv'\n",
    "lung_markers_path = '/work/PRTNR/CHUV/DIR/rgottar1/spatial/env/xenium_paper/data/markers/Xenium_hLung_v1_metadata.csv'\n",
    "lung5k_markers_path = '/work/PRTNR/CHUV/DIR/rgottar1/spatial/env/xenium_paper/data/markers/XeniumPrimeHuman5Kpan_tissue_pathways_metadata.csv'\n",
    "\n",
    "df_panel_markers = {}\n",
    "for panel_path in [chuvio_markers_path, breast_markers_path, lung_markers_path, lung5k_markers_path]:\n",
    "\n",
    "    df_markers = pd.read_csv(panel_path)\n",
    "    df_markers = df_markers.rename(columns={'Gene':'gene_name','Annotation':'cell_type','Gene ID':'gene_name','1st definition':'cell_type'})[['gene_name','cell_type']]\n",
    "    df_panel_markers[Path(panel_path).stem] = df_markers.set_index('gene_name')\n",
    "\n",
    "df_panel_markers = pd.concat(df_panel_markers,axis=1).dropna()\n",
    "df_panel_markers['cell_type'] = df_panel_markers['Xenium_hBreast_v1_metadata','cell_type'].replace({\n",
    "    'B cells': 'B cell',\n",
    "    'T cells': 'T cell',\n",
    "    'NK cells': 'natural killer cell',\n",
    "    'Monocytes': 'monocyte',\n",
    "    'Macrophages': 'macrophage',\n",
    "    'Dendritic cells': 'dendritic cell',\n",
    "    'Endothelial cells': 'endothelial cell',\n",
    "    'Fibroblasts': 'fibroblast',\n",
    "    'Epithelial cells': 'epithelial cell',\n",
    "    'Myeloid cells': 'myeloid cell',\n",
    "    'Granulocytes': 'granulocyte',\n",
    "    'Plasma cells': 'plasma cell',\n",
    "    'Smooth muscle cells': 'smooth muscle cell',\n",
    "    'Vascular endothelial cells': 'endothelial cell',\n",
    "    'Pericytes': 'pericyte',\n",
    "    'Adipocytes': 'adipocyte',\n",
    "    'Breast cancer':'malignant cell',\n",
    "})\n",
    "\n",
    "# df_panel_markers = df_panel_markers.drop(['SELL','PDGFRB'])\n",
    "df_panel_markers.loc['KDR'] = 'endothelial cell'\n",
    "df_panel_markers.loc['CDH1'] = 'epithelial cell'\n",
    "df_panel_markers.loc['EGFR'] = 'epithelial cell'\n",
    "df_panel_markers['cell_type'] = df_panel_markers['cell_type'].replace({\n",
    "    'monocyte': 'myeloid cell',\n",
    "    'macrophage': 'myeloid cell', \n",
    "    'dendritic cell': 'myeloid cell',\n",
    "    'plasma cell': 'lymphoid cell',\n",
    "    'endothelial cell': 'stromal cell',\n",
    "    'pericyte': 'stromal cell',\n",
    "    'fibroblast': 'stromal cell',\n",
    "    'smooth muscle cell': 'stromal cell',\n",
    "    'adipocyte': 'stromal cell',\n",
    "    'epithelial cell': 'epithelial cell',\n",
    "    'malignant cell': 'malignant cell'\n",
    "})\n",
    "df_panel_markers.columns = df_panel_markers.columns.get_level_values(0)\n",
    "df_panel_markers = df_panel_markers.reset_index()[['cell_type','gene_name',*df_panel_markers.columns[:-1]]]\n",
    "df_panel_markers.to_csv('../../../data/markers/Xenium_panels_common_markers.csv')"
   ]
  }
 ],
 "metadata": {
  "kernelspec": {
   "display_name": "spatial",
   "language": "python",
   "name": "python3"
  },
  "language_info": {
   "codemirror_mode": {
    "name": "ipython",
    "version": 3
   },
   "file_extension": ".py",
   "mimetype": "text/x-python",
   "name": "python",
   "nbconvert_exporter": "python",
   "pygments_lexer": "ipython3",
   "version": "3.11.11"
  }
 },
 "nbformat": 4,
 "nbformat_minor": 2
}
