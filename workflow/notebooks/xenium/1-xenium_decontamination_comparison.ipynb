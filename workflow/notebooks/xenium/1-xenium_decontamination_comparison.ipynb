{
 "cells": [
  {
   "cell_type": "code",
   "execution_count": 2,
   "metadata": {},
   "outputs": [
    {
     "name": "stderr",
     "output_type": "stream",
     "text": [
      "/work/PRTNR/CHUV/DIR/rgottar1/spatial/env/jbac/miniforge3/envs/spatial/lib/python3.11/importlib/__init__.py:126: FutureWarning: The legacy Dask DataFrame implementation is deprecated and will be removed in a future version. Set the configuration option `dataframe.query-planning` to `True` or None to enable the new Dask Dataframe implementation and silence this warning.\n",
      "  return _bootstrap._gcd_import(name[level:], package, level)\n",
      "/work/PRTNR/CHUV/DIR/rgottar1/spatial/env/jbac/miniforge3/envs/spatial/lib/python3.11/site-packages/cudf/utils/_ptxcompiler.py:64: UserWarning: Error getting driver and runtime versions:\n",
      "\n",
      "stdout:\n",
      "\n",
      "\n",
      "\n",
      "stderr:\n",
      "\n",
      "Traceback (most recent call last):\n",
      "  File \"<string>\", line 4, in <module>\n",
      "  File \"/work/PRTNR/CHUV/DIR/rgottar1/spatial/env/jbac/miniforge3/envs/spatial/lib/python3.11/site-packages/numba_cuda/numba/cuda/cudadrv/driver.py\", line 272, in __getattr__\n",
      "    raise CudaSupportError(\"Error at driver init: \\n%s:\" %\n",
      "numba.cuda.cudadrv.error.CudaSupportError: Error at driver init: \n",
      "\n",
      "CUDA driver library cannot be found.\n",
      "If you are sure that a CUDA driver is installed,\n",
      "try setting environment variable NUMBA_CUDA_DRIVER\n",
      "with the file path of the CUDA driver shared library.\n",
      ":\n",
      "\n",
      "\n",
      "Not patching Numba\n",
      "  warnings.warn(msg, UserWarning)\n",
      "/work/PRTNR/CHUV/DIR/rgottar1/spatial/env/jbac/miniforge3/envs/spatial/lib/python3.11/site-packages/cudf/utils/gpu_utils.py:62: UserWarning: Failed to dlopen libcuda.so.1\n",
      "  warnings.warn(str(e))\n",
      "/work/PRTNR/CHUV/DIR/rgottar1/spatial/env/jbac/miniforge3/envs/spatial/lib/python3.11/site-packages/anndata/utils.py:429: FutureWarning: Importing read_text from `anndata` is deprecated. Import anndata.io.read_text instead.\n",
      "  warnings.warn(msg, FutureWarning)\n"
     ]
    }
   ],
   "source": [
    "import dask\n",
    "dask.config.set({\"dataframe.query-planning\": False})\n",
    "\n",
    "import anndata\n",
    "import scanpy as sc\n",
    "import scipy\n",
    "import numpy as np\n",
    "import pandas as pd\n",
    "import sys\n",
    "import gc\n",
    "import matplotlib.patches as mpatches\n",
    "import seaborn as sns\n",
    "import matplotlib.pyplot as plt\n",
    "from pathlib import Path\n",
    "from concurrent.futures import ThreadPoolExecutor, as_completed\n",
    "from tqdm import tqdm\n",
    "from typing import Dict, List\n",
    "\n",
    "sys.path.append(\"../../../workflow/scripts/\")\n",
    "import _utils\n",
    "import readwrite\n",
    "cfg = readwrite.config()\n",
    "sns.set_style('ticks')\n",
    "\n",
    "\n",
    "def process_count_correction_samples_out_of_core(xenium_paths,correction_methods,func):\n",
    "    \"\"\"\n",
    "    Reads corrected count samples in parallel using ThreadPoolExecutor.\n",
    "\n",
    "    Args:\n",
    "        xenium_paths (dict): A dictionary where keys are correction methods and values are dictionaries\n",
    "                            mapping sample names to corrected counts file paths.  Assumes `xenium_paths[correction_method]`\n",
    "                            is a dictionary with keys as sample name and values as path to the .h5 file.\n",
    "        correction_methods (list): A list of correction methods.\n",
    "        func: A function to apply to each sample\n",
    "    Returns:\n",
    "        dict: A dictionary where keys are correction methods, and values are dictionaries mapping sample names\n",
    "              to AnnData objects (or None if reading failed).\n",
    "    \"\"\"\n",
    "\n",
    "    xenium_corrected_counts = {}\n",
    "\n",
    "    for correction_method in correction_methods:  # Skip the first correction method\n",
    "        xenium_corrected_counts[correction_method] = {}\n",
    "\n",
    "        with ThreadPoolExecutor() as executor:\n",
    "            futures = {\n",
    "                executor.submit(readwrite._read_count_correction_sample, k, xenium_corr_path): (correction_method, k)\n",
    "                for k, xenium_corr_path in xenium_paths[correction_method].items()\n",
    "            }\n",
    "\n",
    "            # Progress bar with total number of samples\n",
    "            for future in tqdm(as_completed(futures), total=len(futures), desc=f\"Processing {correction_method}\"):\n",
    "                try:\n",
    "                    k, adata = future.result()\n",
    "                    if adata is not None:\n",
    "                        # fix raw obs names for proseg\n",
    "                        if correction_method == 'raw' and k[0] == \"proseg_expected\": \n",
    "                            adata.obs_names = \"proseg-\" + adata.obs_names.astype(str)\n",
    "\n",
    "                        # compute func\n",
    "                        xenium_corrected_counts[correction_method][k] = func(adata)\n",
    "\n",
    "                        # free memory\n",
    "                        del adata\n",
    "                        gc.collect()\n",
    "                    else:\n",
    "                         xenium_corrected_counts[correction_method][k] = None\n",
    "                except Exception as e:\n",
    "                    correction_method, k = futures[future]\n",
    "                    xenium_corrected_counts[correction_method][k] = None  # Store None in case of error\n",
    "\n",
    "    return xenium_corrected_counts\n",
    "\n",
    "\n",
    "\n",
    "def get_mean_n_genes(\n",
    "    ads: Dict[str, Dict[str, anndata.AnnData]],\n",
    "    correction_methods: List[str],\n",
    "    labels_key: str,\n",
    "    columns=None\n",
    ") -> pd.DataFrame:\n",
    "    \"\"\"\n",
    "    Calculates the mean number of genes (`n_genes`) for all unique cell types (`cti`) found\n",
    "    in the `labels_key` column across different AnnData objects and correction methods.\n",
    "\n",
    "    Args:\n",
    "        ads (Dict[str, Dict[str, anndata.AnnData]]): A nested dictionary structure containing\n",
    "            AnnData objects. The outer dictionary's keys are correction methods, and the\n",
    "            inner dictionary's keys are sample identifiers. Each inner dictionary value\n",
    "            is an AnnData object. Assumes `ads[correction_method][k]` is an AnnData object.\n",
    "        correction_methods (List[str]): A list of correction methods to iterate through.\n",
    "        labels_key (str): The key in `ad.obs` that contains cell type labels.\n",
    "        columns (list): optional column names for the returned DataFrame\n",
    "    Returns:\n",
    "        pd.DataFrame: A DataFrame where each row represents a unique combination of sample\n",
    "            identifier, correction method, and cell type. The columns include sample identifiers,\n",
    "            correction method, cell type (`cti`), and the calculated mean number of genes\n",
    "            ('n_genes').\n",
    "    \"\"\"\n",
    "\n",
    "    data = []\n",
    "    for correction_method in correction_methods:\n",
    "        for k, ad in ads[correction_method].items():\n",
    "            if ad is not None:\n",
    "                # Get unique cell types for the current AnnData object\n",
    "                ad.obs['n_genes'] = (ad.X>0).sum(1).A1\n",
    "                unique_ctis = ad.obs[labels_key].unique()\n",
    "\n",
    "                for cti in unique_ctis:\n",
    "                    mean_n_genes = np.mean(ad[ad.obs[labels_key] == cti].obs['n_genes'])\n",
    "                    data.append((*k, correction_method, cti, mean_n_genes))  # Append cell type to the data\n",
    "\n",
    "    # Create the DataFrame from the collected data\n",
    "    df = pd.DataFrame(data, columns=columns)\n",
    "\n",
    "    if columns is not None:\n",
    "        df.columns = columns\n",
    "    return df\n",
    "\n",
    "def get_mean_cell_identity_score_markers(\n",
    "    ads: Dict[str, Dict[str, anndata.AnnData]],\n",
    "    df_markers: pd.DataFrame,\n",
    "    correction_methods: List[str],\n",
    "    labels_key: str,\n",
    "    columns=None\n",
    ") -> pd.DataFrame:\n",
    "    \"\"\"\n",
    "    Calculates the mean number of genes (`n_genes`) for all unique cell types (`cti`) found\n",
    "    in the `labels_key` column across different AnnData objects and correction methods.\n",
    "\n",
    "    Args:\n",
    "        ads (Dict[str, Dict[str, anndata.AnnData]]): A nested dictionary structure containing\n",
    "            AnnData objects. The outer dictionary's keys are correction methods, and the\n",
    "            inner dictionary's keys are sample identifiers. Each inner dictionary value\n",
    "            is an AnnData object. Assumes `ads[correction_method][k]` is an AnnData object.\n",
    "        df_markers (pd.DataFrame): A DataFrame containing cell type markers.\n",
    "        correction_methods (List[str]): A list of correction methods to iterate through.\n",
    "        labels_key (str): The key in `ad.obs` that contains cell type labels.\n",
    "        columns (list): optional column names for the returned DataFrame\n",
    "    Returns:\n",
    "        pd.DataFrame: A DataFrame where each row represents a unique combination of sample\n",
    "            identifier, correction method, and cell type. The columns include sample identifiers,\n",
    "            correction method, cell type (`cti`), and the calculated mean number of genes\n",
    "            ('n_genes').\n",
    "    \"\"\"\n",
    "\n",
    "    data = []\n",
    "    for correction_method in correction_methods:\n",
    "        for k, ad in ads[correction_method].items():\n",
    "            if ad is not None:\n",
    "                unique_ctis = ad.obs[labels_key].unique()\n",
    "\n",
    "                for cti in unique_ctis:\n",
    "                    cti_markers = df_markers.query(\"cell_type == @cti\")['gene_name'].tolist()\n",
    "                    cti_markers = [g for g in cti_markers if g in ad.var_names]\n",
    "                    if len(cti_markers):\n",
    "                        n_genes_cti_markers = (ad[ad.obs[labels_key] == cti,cti_markers].X>0).sum(1).A1\n",
    "                        mean_n_genes = np.mean(n_genes_cti_markers)\n",
    "                        data.append((*k, correction_method, cti, mean_n_genes))  # Append cell type to the data\n",
    "\n",
    "    # Create the DataFrame from the collected data\n",
    "    df = pd.DataFrame(data, columns=columns)\n",
    "\n",
    "    if columns is not None:\n",
    "        df.columns = columns\n",
    "    return df\n",
    "\n",
    "\n",
    "def get_mean_cell_identity_score_scrna(\n",
    "    ads: Dict[str, Dict[str, anndata.AnnData]],\n",
    "    ads_scrnaseq: Dict[str, anndata.AnnData],\n",
    "    genes: Dict[str, List[str]],\n",
    "    correction_methods: List[str],\n",
    "    labels_key: str,\n",
    "    columns=None\n",
    ") -> pd.DataFrame:\n",
    "    \"\"\"\n",
    "    Calculates the mean number of genes (`n_genes`) for all unique cell types (`cti`) found\n",
    "    in the `labels_key` column across different AnnData objects and correction methods.\n",
    "\n",
    "    Args:\n",
    "        ads (Dict[str, Dict[str, anndata.AnnData]]): A nested dictionary structure containing\n",
    "            AnnData objects. The outer dictionary's keys are correction methods, and the\n",
    "            inner dictionary's keys are sample identifiers. Each inner dictionary value\n",
    "            is an AnnData object. Assumes `ads[correction_method][k]` is an AnnData object.\n",
    "        ads_scrnaseq Dict[str, anndata.AnnData]: A dictionary structure containing\n",
    "            AnnData objects. The dictionary's keys are tissue identifiers corresponding to keys in `ads`.\n",
    "        correction_methods (List[str]): A list of correction methods to iterate through.\n",
    "        labels_key (str): The key in `ad.obs` that contains cell type labels.\n",
    "        columns (list): optional column names for the returned DataFrame\n",
    "    Returns:\n",
    "        pd.DataFrame: A DataFrame where each row represents a unique combination of sample\n",
    "            identifier, correction method, and cell type. The columns include sample identifiers,\n",
    "            correction method, cell type (`cti`), and the calculated mean number of genes\n",
    "            ('n_genes').\n",
    "    \"\"\"\n",
    "\n",
    "    data = []\n",
    "    for correction_method in correction_methods:\n",
    "        for k, ad in ads[correction_method].items():\n",
    "            if ad is not None:\n",
    "                unique_ctis = ad.obs[labels_key].unique()\n",
    "\n",
    "                for cti in unique_ctis:\n",
    "                    cti_markers = df_markers.query(\"cell_type == @cti\")['gene_name'].tolist()\n",
    "                    cti_markers = [g for g in cti_markers if g in ad.var_names]\n",
    "                    if len(cti_markers):\n",
    "                        n_genes_cti_markers = (ad[ad.obs[labels_key] == cti,cti_markers].X>0).sum(1).A1\n",
    "                        mean_n_genes = np.mean(n_genes_cti_markers)\n",
    "                        data.append((*k, correction_method, cti, mean_n_genes))  # Append cell type to the data\n",
    "\n",
    "    # Create the DataFrame from the collected data\n",
    "    df = pd.DataFrame(data, columns=columns)\n",
    "\n",
    "    if columns is not None:\n",
    "        df.columns = columns\n",
    "    return df"
   ]
  },
  {
   "cell_type": "markdown",
   "metadata": {},
   "source": [
    "# Params"
   ]
  },
  {
   "cell_type": "code",
   "execution_count": 3,
   "metadata": {},
   "outputs": [],
   "source": [
    "# cfg paths\n",
    "xenium_dir = Path(cfg['xenium_processed_data_dir'])\n",
    "xenium_count_correction_dir = Path(cfg['xenium_count_correction_dir'])\n",
    "xenium_std_seurat_analysis_dir = Path(cfg['xenium_std_seurat_analysis_dir'])\n",
    "xenium_cell_type_annotation_dir = Path(cfg['xenium_cell_type_annotation_dir'])\n",
    "results_dir = Path(cfg['results_dir'])\n",
    "palette_dir = Path(cfg['xenium_metadata_dir'])\n",
    "std_seurat_analysis_dir = Path(cfg['xenium_std_seurat_analysis_dir'])\n",
    "scrnaseq_processed_data_dir = Path(cfg['scrnaseq_processed_data_dir'])\n",
    "seurat_to_h5_dir = results_dir / 'seurat_to_h5'\n",
    "\n",
    "# Params\n",
    "signal_integrity_thresholds = [0.5, 0.7]\n",
    "correction_methods = ['raw', 'split_fully_purified', 'resolvi', 'resolvi_supervised']\n",
    "correction_methods += [f'ovrlpy_correction_{signal_integrity_threshold=}' for signal_integrity_threshold in signal_integrity_thresholds]\n",
    "num_samples = 30\n",
    "mixture_k = 50\n",
    "normalisation = 'lognorm'\n",
    "layer = 'data'\n",
    "reference = 'matched_reference_combo'\n",
    "method = 'rctd_class_aware'\n",
    "level = 'Level2.1'\n",
    "segmentation_palette = palette_dir / 'col_palette_segmentation.csv'\n",
    "count_correction_palette = palette_dir / 'col_palette_correction_method.csv'\n",
    "\n",
    "n_neighbors = 10\n",
    "n_permutations = 30\n",
    "n_repeats = 5\n",
    "top_n = 20\n",
    "scoring = 'f1'\n",
    "markers = 'diffexpr'\n",
    "\n",
    "xenium_levels = [\"segmentation\", \"condition\", \"panel\", \"donor\", \"sample\"]\n",
    "order = ['breast','chuvio','lung','5k']\n",
    "\n",
    "\n",
    "hue_segmentation = \"segmentation\"\n",
    "hue_segmentation_order = [\n",
    "    \"10x_mm_0um\",\n",
    "    \"10x_mm_5um\",\n",
    "    \"10x_mm_15um\",\n",
    "    \"10x_0um\",\n",
    "    \"10x_5um\",\n",
    "    \"10x_15um\",\n",
    "    \"baysor\",\n",
    "    \"proseg_expected\",\n",
    "    \"proseg_mode\",\n",
    "    \"segger\",\n",
    "]\n",
    "\n",
    "hue_correction = 'correction_method'\n",
    "hue_correction_order = [\n",
    "'raw',\n",
    "'resolvi',\n",
    "'resolvi_supervised',\n",
    "'ovrlpy_0.5',\n",
    "'ovrlpy_0.7'\n",
    "'split',\n",
    "]\n",
    "\n",
    "rank_metrics = [\"logfoldchanges\", \"-log10pvals_x_logfoldchanges\", \"-log10pvals_x_sign_logfoldchanges\"]\n",
    "plot_metrics = ['hypergeometric_pvalue','NES',f\"n_hits_{top_n=}\"]\n",
    "\n",
    "labels_key = level"
   ]
  },
  {
   "cell_type": "markdown",
   "metadata": {},
   "source": [
    "# Load results diffexpr"
   ]
  },
  {
   "cell_type": "code",
   "execution_count": 4,
   "metadata": {},
   "outputs": [
    {
     "name": "stdout",
     "output_type": "stream",
     "text": [
      "raw ('proseg_expected', 'breast', 'breast', '1BCA', '1BCA')\n",
      "raw ('proseg_expected', 'breast', 'breast', '1FYB', '1FYB')\n",
      "raw ('proseg_expected', 'breast', 'breast', 'OPHI', 'OPHI_1')\n",
      "raw ('proseg_expected', 'breast', 'breast', '0PD6', '0PD6')\n",
      "raw ('proseg_expected', 'breast', 'breast', 'OPHI', 'OPHI_3')\n",
      "raw ('proseg_expected', 'breast', 'breast', '1GV1', '1GV1')\n",
      "raw ('proseg_expected', 'breast', 'breast', '1256', '1256')\n",
      "raw ('proseg_expected', 'breast', 'breast', '1GVR', '1GVR')\n",
      "raw ('proseg_expected', 'breast', 'breast', '19TB', '19TB')\n",
      "raw ('proseg_expected', 'NSCLC', 'lung', '0PSV', '0PSV')\n",
      "raw ('proseg_expected', 'breast', 'breast', '1FO7', '1FO7')\n",
      "raw ('proseg_expected', 'breast', 'breast', '0OE1', '0OE1')\n",
      "raw ('proseg_expected', 'breast', 'breast', '1FHZ', '1FHZ')\n",
      "raw ('proseg_expected', 'breast', 'breast', 'OPHI', 'OPHI_2')\n",
      "raw ('proseg_expected', 'NSCLC', 'lung', '1G73', '1G73')\n",
      "raw ('proseg_expected', 'breast', 'breast', '1ESQ', '1ESQ')\n",
      "raw ('proseg_expected', 'breast', 'breast', '1GUC', '1GUC')\n",
      "raw ('proseg_expected', 'NSCLC', 'lung', '1GFF', '1GFF')\n",
      "raw ('proseg_expected', 'NSCLC', 'lung', '1GAC', '1GAC')\n",
      "raw ('proseg_expected', 'breast', 'breast', '1H27', '1H27')\n",
      "raw ('proseg_expected', 'NSCLC', 'lung', '0WMU', '0WMU_1')\n",
      "raw ('proseg_expected', 'breast', 'breast', '14LZ', '14LZ')\n",
      "raw ('proseg_expected', 'NSCLC', 'lung', '0S8R', '0S8R')\n",
      "raw ('proseg_expected', 'NSCLC', 'lung', '1GDD', '1GDD')\n",
      "raw ('proseg_expected', 'NSCLC', 'lung', '1GA2', '1GA2')\n",
      "raw ('proseg_expected', 'NSCLC', 'lung', '0WMU', '0WMU_2')\n",
      "raw ('proseg_expected', 'breast', 'breast', '0VRA', '0VRA')\n",
      "raw ('proseg_expected', 'breast', 'breast', '0U9A', '0U9A')\n",
      "raw ('proseg_expected', 'NSCLC', 'lung', '1GQ9', '1GQ9')\n",
      "raw ('proseg_expected', 'NSCLC', 'lung', '1GVD', '1GVD')\n",
      "raw ('proseg_expected', 'NSCLC', 'chuvio', '1GA2', '1GA2')\n",
      "raw ('proseg_expected', 'NSCLC', 'chuvio', '0PSV', '0PSV_1')\n",
      "raw ('proseg_expected', 'NSCLC', 'chuvio', '0WMU', '0WMU')\n",
      "raw ('proseg_expected', 'NSCLC', 'chuvio', '1G73', '1G73')\n",
      "raw ('proseg_expected', 'NSCLC', 'chuvio', '0PSV', '0PSV_2')\n",
      "raw ('proseg_expected', 'NSCLC', '5k', '0PSV', '0PSV')\n",
      "raw ('proseg_expected', 'NSCLC', '5k', '1GDD', '1GDD')\n",
      "raw ('proseg_expected', 'NSCLC', '5k', '1G73', '1G73')\n",
      "raw ('proseg_expected', 'NSCLC', '5k', '1GAC', '1GAC')\n",
      "raw ('proseg_expected', 'NSCLC', '5k', '1GQ9', '1GQ9')\n",
      "raw ('proseg_expected', 'NSCLC', '5k', '1GVD', '1GVD')\n",
      "raw ('segger', 'breast', 'breast', '1FYB', '1FYB')\n",
      "raw ('segger', 'breast', 'breast', '1BCA', '1BCA')\n",
      "raw ('segger', 'breast', 'breast', 'OPHI', 'OPHI_3')\n",
      "raw ('segger', 'breast', 'breast', 'OPHI', 'OPHI_2')\n",
      "raw ('segger', 'breast', 'breast', '1GV1', '1GV1')\n",
      "raw ('segger', 'breast', 'breast', '0U9A', '0U9A')\n",
      "raw ('segger', 'breast', 'breast', '1FHZ', '1FHZ')\n",
      "raw ('segger', 'breast', 'breast', '14LZ', '14LZ')\n",
      "raw ('segger', 'breast', 'breast', 'OPHI', 'OPHI_1')\n",
      "raw ('segger', 'breast', 'breast', '1H27', '1H27')\n",
      "raw ('segger', 'breast', 'breast', '0OE1', '0OE1')\n",
      "raw ('segger', 'breast', 'breast', '19TB', '19TB')\n",
      "raw ('segger', 'breast', 'breast', '0VRA', '0VRA')\n",
      "raw ('segger', 'NSCLC', 'lung', '1GA2', '1GA2')\n",
      "raw ('segger', 'breast', 'breast', '1ESQ', '1ESQ')\n",
      "raw ('segger', 'breast', 'breast', '0PD6', '0PD6')\n",
      "raw ('segger', 'breast', 'breast', '1GUC', '1GUC')\n",
      "raw ('segger', 'breast', 'breast', '1GVR', '1GVR')\n",
      "raw ('segger', 'NSCLC', 'lung', '0PSV', '0PSV')\n",
      "raw ('segger', 'NSCLC', 'lung', '0S8R', '0S8R')\n",
      "raw ('segger', 'breast', 'breast', '1FO7', '1FO7')\n",
      "raw ('segger', 'NSCLC', 'lung', '1G73', '1G73')\n",
      "raw ('segger', 'breast', 'breast', '1256', '1256')\n",
      "raw ('segger', 'NSCLC', 'lung', '1GDD', '1GDD')\n",
      "raw ('segger', 'NSCLC', 'lung', '1GFF', '1GFF')\n",
      "raw ('segger', 'NSCLC', 'lung', '0WMU', '0WMU_1')\n",
      "raw ('segger', 'NSCLC', 'lung', '1GAC', '1GAC')\n",
      "raw ('segger', 'NSCLC', 'lung', '0WMU', '0WMU_2')\n",
      "raw ('segger', 'NSCLC', 'lung', '1GQ9', '1GQ9')\n",
      "raw ('segger', 'NSCLC', 'chuvio', '1GA2', '1GA2')\n",
      "raw ('segger', 'NSCLC', 'lung', '1GVD', '1GVD')\n",
      "raw ('segger', 'NSCLC', 'chuvio', '0PSV', '0PSV_1')\n",
      "raw ('segger', 'NSCLC', 'chuvio', '0PSV', '0PSV_2')\n",
      "raw ('segger', 'NSCLC', 'chuvio', '1G73', '1G73')\n",
      "raw ('segger', 'NSCLC', 'chuvio', '0WMU', '0WMU')\n",
      "raw ('segger', 'NSCLC', '5k', '0PSV', '0PSV')\n",
      "raw ('segger', 'NSCLC', '5k', '1G73', '1G73')\n",
      "raw ('segger', 'NSCLC', '5k', '1GDD', '1GDD')\n",
      "raw ('segger', 'NSCLC', '5k', '1GQ9', '1GQ9')\n",
      "raw ('segger', 'NSCLC', '5k', '1GAC', '1GAC')\n",
      "raw ('segger', 'NSCLC', '5k', '1GVD', '1GVD')\n",
      "raw ('10x_5um', 'breast', 'breast', '1FYB', '1FYB')\n",
      "raw ('10x_5um', 'breast', 'breast', 'OPHI', 'OPHI_3')\n",
      "raw ('10x_5um', 'breast', 'breast', 'OPHI', 'OPHI_1')\n",
      "raw ('10x_5um', 'breast', 'breast', 'OPHI', 'OPHI_2')\n",
      "raw ('10x_5um', 'breast', 'breast', '1BCA', '1BCA')\n",
      "raw ('10x_5um', 'breast', 'breast', '1256', '1256')\n",
      "raw ('10x_5um', 'breast', 'breast', '0PD6', '0PD6')\n",
      "raw ('10x_5um', 'breast', 'breast', '1GV1', '1GV1')\n",
      "raw ('10x_5um', 'breast', 'breast', '1GVR', '1GVR')\n",
      "raw ('10x_5um', 'breast', 'breast', '1FHZ', '1FHZ')\n",
      "raw ('10x_5um', 'breast', 'breast', '0U9A', '0U9A')\n",
      "raw ('10x_5um', 'breast', 'breast', '1ESQ', '1ESQ')\n",
      "raw ('10x_5um', 'breast', 'breast', '0VRA', '0VRA')\n",
      "raw ('10x_5um', 'breast', 'breast', '14LZ', '14LZ')\n",
      "raw ('10x_5um', 'breast', 'breast', '1H27', '1H27')\n",
      "raw ('10x_5um', 'breast', 'breast', '1GUC', '1GUC')\n",
      "raw ('10x_5um', 'breast', 'breast', '0OE1', '0OE1')\n",
      "raw ('10x_5um', 'breast', 'breast', '19TB', '19TB')\n",
      "raw ('10x_5um', 'breast', 'breast', '1FO7', '1FO7')\n",
      "raw ('10x_5um', 'NSCLC', 'lung', '1GA2', '1GA2')\n",
      "raw ('10x_5um', 'NSCLC', 'lung', '0PSV', '0PSV')\n",
      "raw ('10x_5um', 'NSCLC', 'lung', '0S8R', '0S8R')\n",
      "raw ('10x_5um', 'NSCLC', 'lung', '1G73', '1G73')\n",
      "raw ('10x_5um', 'NSCLC', 'lung', '1GFF', '1GFF')\n",
      "raw ('10x_5um', 'NSCLC', 'lung', '1GDD', '1GDD')\n",
      "raw ('10x_5um', 'NSCLC', 'lung', '1GAC', '1GAC')\n",
      "raw ('10x_5um', 'NSCLC', 'lung', '0WMU', '0WMU_1')\n",
      "raw ('10x_5um', 'NSCLC', 'lung', '0WMU', '0WMU_2')\n",
      "raw ('10x_5um', 'NSCLC', 'lung', '1GQ9', '1GQ9')\n",
      "raw ('10x_5um', 'NSCLC', 'lung', '1GVD', '1GVD')\n",
      "raw ('10x_5um', 'NSCLC', 'chuvio', '1GA2', '1GA2')\n",
      "raw ('10x_5um', 'NSCLC', 'chuvio', '0PSV', '0PSV_1')\n",
      "raw ('10x_5um', 'NSCLC', 'chuvio', '0PSV', '0PSV_2')\n",
      "raw ('10x_5um', 'NSCLC', 'chuvio', '1G73', '1G73')\n",
      "raw ('10x_5um', 'NSCLC', 'chuvio', '0WMU', '0WMU')\n",
      "raw ('10x_5um', 'NSCLC', '5k', '0PSV', '0PSV')\n",
      "raw ('10x_5um', 'NSCLC', '5k', '1G73', '1G73')\n",
      "raw ('10x_5um', 'NSCLC', '5k', '1GDD', '1GDD')\n",
      "raw ('10x_5um', 'NSCLC', '5k', '1GAC', '1GAC')\n",
      "raw ('10x_5um', 'NSCLC', '5k', '1GQ9', '1GQ9')\n",
      "raw ('10x_15um', 'breast', 'breast', '1FYB', '1FYB')\n",
      "raw ('10x_5um', 'NSCLC', '5k', '1GVD', '1GVD')\n",
      "raw ('10x_15um', 'breast', 'breast', 'OPHI', 'OPHI_3')\n",
      "raw ('10x_15um', 'breast', 'breast', 'OPHI', 'OPHI_1')\n",
      "raw ('10x_15um', 'breast', 'breast', 'OPHI', 'OPHI_2')\n",
      "raw ('10x_15um', 'breast', 'breast', '1BCA', '1BCA')\n",
      "raw ('10x_15um', 'breast', 'breast', '0PD6', '0PD6')\n",
      "raw ('10x_15um', 'breast', 'breast', '1GV1', '1GV1')\n",
      "raw ('10x_15um', 'breast', 'breast', '1256', '1256')\n",
      "raw ('10x_15um', 'breast', 'breast', '1GVR', '1GVR')\n",
      "raw ('10x_15um', 'breast', 'breast', '1FHZ', '1FHZ')\n",
      "raw ('10x_15um', 'breast', 'breast', '1ESQ', '1ESQ')\n",
      "raw ('10x_15um', 'breast', 'breast', '0U9A', '0U9A')\n",
      "raw ('10x_15um', 'breast', 'breast', '0OE1', '0OE1')\n",
      "raw ('10x_15um', 'breast', 'breast', '14LZ', '14LZ')\n",
      "raw ('10x_15um', 'breast', 'breast', '0VRA', '0VRA')\n",
      "raw ('10x_15um', 'breast', 'breast', '1GUC', '1GUC')\n",
      "raw ('10x_15um', 'breast', 'breast', '1H27', '1H27')\n",
      "raw ('10x_15um', 'breast', 'breast', '19TB', '19TB')\n",
      "raw ('10x_15um', 'breast', 'breast', '1FO7', '1FO7')\n",
      "raw ('10x_15um', 'NSCLC', 'lung', '1GA2', '1GA2')\n",
      "raw ('10x_15um', 'NSCLC', 'lung', '0PSV', '0PSV')\n",
      "raw ('10x_15um', 'NSCLC', 'lung', '0S8R', '0S8R')\n",
      "raw ('10x_15um', 'NSCLC', 'lung', '1GDD', '1GDD')\n",
      "raw ('10x_15um', 'NSCLC', 'lung', '1G73', '1G73')\n",
      "raw ('10x_15um', 'NSCLC', 'lung', '1GFF', '1GFF')\n",
      "raw ('10x_15um', 'NSCLC', 'lung', '1GAC', '1GAC')\n",
      "raw ('10x_15um', 'NSCLC', 'lung', '0WMU', '0WMU_1')\n",
      "raw ('10x_15um', 'NSCLC', 'lung', '0WMU', '0WMU_2')\n",
      "raw ('10x_15um', 'NSCLC', 'lung', '1GQ9', '1GQ9')\n",
      "raw ('10x_15um', 'NSCLC', 'lung', '1GVD', '1GVD')\n",
      "raw ('10x_15um', 'NSCLC', 'chuvio', '1GA2', '1GA2')\n",
      "raw ('10x_15um', 'NSCLC', 'chuvio', '0PSV', '0PSV_1')\n",
      "raw ('10x_15um', 'NSCLC', 'chuvio', '0PSV', '0PSV_2')\n",
      "raw ('10x_15um', 'NSCLC', 'chuvio', '1G73', '1G73')\n",
      "raw ('10x_15um', 'NSCLC', 'chuvio', '0WMU', '0WMU')\n",
      "raw ('10x_15um', 'NSCLC', '5k', '0PSV', '0PSV')\n",
      "raw ('10x_15um', 'NSCLC', '5k', '1G73', '1G73')\n",
      "raw ('10x_15um', 'NSCLC', '5k', '1GDD', '1GDD')\n",
      "raw ('10x_15um', 'NSCLC', '5k', '1GAC', '1GAC')\n",
      "raw ('10x_15um', 'NSCLC', '5k', '1GQ9', '1GQ9')\n",
      "raw ('10x_15um', 'NSCLC', '5k', '1GVD', '1GVD')\n",
      "raw ('10x_mm_5um', 'NSCLC', '5k', '0PSV', '0PSV')\n",
      "raw ('10x_mm_5um', 'NSCLC', '5k', '1G73', '1G73')\n",
      "raw ('10x_mm_5um', 'NSCLC', '5k', '1GDD', '1GDD')\n",
      "rawraw ('10x_mm_5um', 'NSCLC', '5k', '1GQ9', '1GQ9')\n",
      "raw ('baysor', 'breast', 'breast', '1FYB', '1FYB')\n",
      "raw ('baysor', 'breast', 'breast', 'OPHI', 'OPHI_3')\n",
      " ('10x_mm_5um', 'NSCLC', '5k', '1GAC', '1GAC')\n",
      "raw ('10x_mm_5um', 'NSCLC', '5k', '1GVD', '1GVD')\n",
      "raw ('baysor', 'breast', 'breast', 'OPHI', 'OPHI_1')\n",
      "raw ('baysor', 'breast', 'breast', 'OPHI', 'OPHI_2')\n",
      "raw ('baysor', 'breast', 'breast', '1BCA', '1BCA')\n",
      "raw ('baysor', 'breast', 'breast', '0PD6', '0PD6')\n",
      "raw ('baysor', 'breast', 'breast', '1GV1', '1GV1')\n",
      "raw ('baysor', 'breast', 'breast', '1GVR', '1GVR')\n",
      "raw ('baysor', 'breast', 'breast', '1256', '1256')\n",
      "raw ('baysor', 'breast', 'breast', '1FHZ', '1FHZ')\n",
      "raw ('baysor', 'breast', 'breast', '0U9A', '0U9A')\n",
      "raw ('baysor', 'breast', 'breast', '1ESQ', '1ESQ')\n",
      "raw ('baysor', 'breast', 'breast', '0VRA', '0VRA')\n",
      "raw ('baysor', 'breast', 'breast', '14LZ', '14LZ')\n",
      "raw ('baysor', 'breast', 'breast', '1H27', '1H27')\n",
      "raw ('baysor', 'breast', 'breast', '1GUC', '1GUC')\n",
      "raw ('baysor', 'breast', 'breast', '0OE1', '0OE1')\n",
      "raw ('baysor', 'breast', 'breast', '19TB', '19TB')\n",
      "raw ('baysor', 'breast', 'breast', '1FO7', '1FO7')\n",
      "rawraw ('baysor', 'NSCLC', 'lung', '1GA2', '1GA2')\n",
      " ('baysor', 'NSCLC', 'lung', '0PSV', '0PSV')\n",
      "raw ('baysor', 'NSCLC', 'lung', '0S8R', '0S8R')\n",
      "raw ('baysor', 'NSCLC', 'lung', '1G73', '1G73')\n",
      "raw ('baysor', 'NSCLC', 'lung', '1GDD', '1GDD')\n",
      "raw ('baysor', 'NSCLC', 'lung', '1GFF', '1GFF')\n",
      "raw ('baysor', 'NSCLC', 'lung', '1GAC', '1GAC')\n",
      "raw ('baysor', 'NSCLC', 'lung', '0WMU', '0WMU_1')\n",
      "raw ('baysor', 'NSCLC', 'lung', '0WMU', '0WMU_2')\n",
      "raw ('baysor', 'NSCLC', 'lung', '1GQ9', '1GQ9')\n",
      "raw ('baysor', 'NSCLC', 'lung', '1GVD', '1GVD')\n",
      "raw ('baysor', 'NSCLC', 'chuvio', '0PSV', '0PSV_1')\n",
      "raw ('baysor', 'NSCLC', 'chuvio', '1GA2', '1GA2')\n",
      "raw ('baysor', 'NSCLC', 'chuvio', '0PSV', '0PSV_2')\n",
      "raw ('baysor', 'NSCLC', 'chuvio', '1G73', '1G73')\n",
      "raw ('baysor', 'NSCLC', 'chuvio', '0WMU', '0WMU')\n",
      "raw ('baysor', 'NSCLC', '5k', '0PSV', '0PSV')\n",
      "raw ('baysor', 'NSCLC', '5k', '1GDD', '1GDD')\n",
      "raw ('baysor', 'NSCLC', '5k', '1GAC', '1GAC')\n",
      "raw ('baysor', 'NSCLC', '5k', '1GQ9', '1GQ9')\n",
      "raw ('baysor', 'NSCLC', '5k', '1GVD', '1GVD')\n",
      "raw ('10x_0um', 'breast', 'breast', '1FYB', '1FYB')\n",
      "raw ('10x_0um', 'breast', 'breast', 'OPHI', 'OPHI_3')\n",
      "raw ('10x_0um', 'breast', 'breast', 'OPHI', 'OPHI_1')\n",
      "raw ('10x_0um', 'breast', 'breast', 'OPHI', 'OPHI_2')\n",
      "raw ('10x_0um', 'breast', 'breast', '1BCA', '1BCA')\n",
      "raw ('10x_0um', 'breast', 'breast', '0PD6', '0PD6')\n",
      "raw ('10x_0um', 'breast', 'breast', '1256', '1256')\n",
      "raw ('10x_0um', 'breast', 'breast', '1FHZ', '1FHZ')\n",
      "raw ('10x_0um', 'breast', 'breast', '1GVR', '1GVR')\n",
      "raw ('10x_0um', 'breast', 'breast', '1GV1', '1GV1')\n",
      "raw ('10x_0um', 'breast', 'breast', '0U9A', '0U9A')\n",
      "raw ('10x_0um', 'breast', 'breast', '1ESQ', '1ESQ')\n",
      "raw ('10x_0um', 'breast', 'breast', '0VRA', '0VRA')\n",
      "raw ('10x_0um', 'breast', 'breast', '14LZ', '14LZ')\n",
      "raw ('10x_0um', 'breast', 'breast', '1H27', '1H27')\n",
      "raw ('10x_0um', 'breast', 'breast', '0OE1', '0OE1')\n",
      "raw ('10x_0um', 'breast', 'breast', '1GUC', '1GUC')\n",
      "raw ('10x_0um', 'breast', 'breast', '19TB', '19TB')\n",
      "raw ('10x_0um', 'breast', 'breast', '1FO7', '1FO7')\n",
      "raw ('10x_0um', 'NSCLC', 'lung', '1GA2', '1GA2')\n",
      "raw ('10x_0um', 'NSCLC', 'lung', '0PSV', '0PSV')\n",
      "raw ('10x_0um', 'NSCLC', 'lung', '0S8R', '0S8R')\n",
      "raw ('10x_0um', 'NSCLC', 'lung', '1GFF', '1GFF')\n",
      "raw ('10x_0um', 'NSCLC', 'lung', '1G73', '1G73')\n",
      "raw ('10x_0um', 'NSCLC', 'lung', '0WMU', '0WMU_1')\n",
      "raw ('10x_0um', 'NSCLC', 'lung', '1GDD', '1GDD')\n",
      "raw ('10x_0um', 'NSCLC', 'lung', '0WMU', '0WMU_2')\n",
      "raw ('10x_0um', 'NSCLC', 'lung', '1GAC', '1GAC')\n",
      "raw ('10x_0um', 'NSCLC', 'lung', '1GQ9', '1GQ9')\n",
      "raw ('10x_0um', 'NSCLC', 'lung', '1GVD', '1GVD')\n",
      "raw ('10x_0um', 'NSCLC', 'chuvio', '1GA2', '1GA2')\n",
      "raw ('10x_0um', 'NSCLC', 'chuvio', '0PSV', '0PSV_1')\n",
      "raw ('10x_0um', 'NSCLC', 'chuvio', '0PSV', '0PSV_2')\n",
      "raw ('10x_0um', 'NSCLC', 'chuvio', '1G73', '1G73')\n",
      "raw ('10x_0um', 'NSCLC', 'chuvio', '0WMU', '0WMU')\n",
      "raw ('10x_0um', 'NSCLC', '5k', '0PSV', '0PSV')\n",
      "raw ('10x_0um', 'NSCLC', '5k', '1G73', '1G73')\n",
      "raw ('10x_0um', 'NSCLC', '5k', '1GDD', '1GDD')\n",
      "raw ('10x_0um', 'NSCLC', '5k', '1GAC', '1GAC')\n",
      "raw ('10x_0um', 'NSCLC', '5k', '1GVD', '1GVD')\n",
      "raw ('10x_0um', 'NSCLC', '5k', '1GQ9', '1GQ9')\n",
      "File does not exist: /work/PRTNR/CHUV/DIR/rgottar1/spatial/env/xenium_paper/results/contamination_metrics_diffexpr_corrected_counts/proseg_expected/breast/breast/OPHI/OPHI_3/lognorm/data_matched_reference_combo_rctd_class_aware_Level2.1_diffexpr.parquet\n",
      "File does not exist: /work/PRTNR/CHUV/DIR/rgottar1/spatial/env/xenium_paper/results/contamination_metrics_diffexpr_corrected_counts/proseg_expected/breast/breast/OPHI/OPHI_1/lognorm/data_matched_reference_combo_rctd_class_aware_Level2.1_diffexpr.parquet\n",
      "File does not exist: /work/PRTNR/CHUV/DIR/rgottar1/spatial/env/xenium_paper/results/contamination_metrics_diffexpr_corrected_counts/proseg_expected/breast/breast/1FYB/1FYB/lognorm/data_matched_reference_combo_rctd_class_aware_Level2.1_diffexpr.parquet\n",
      "File does not exist: /work/PRTNR/CHUV/DIR/rgottar1/spatial/env/xenium_paper/results/contamination_metrics_diffexpr_corrected_counts/proseg_expected/breast/breast/1BCA/1BCA/lognorm/data_matched_reference_combo_rctd_class_aware_Level2.1_diffexpr.parquet\n",
      "File does not exist: /work/PRTNR/CHUV/DIR/rgottar1/spatial/env/xenium_paper/results/contamination_metrics_diffexpr_corrected_counts/proseg_expected/breast/breast/0PD6/0PD6/lognorm/data_matched_reference_combo_rctd_class_aware_Level2.1_diffexpr.parquet\n",
      "File does not exist: /work/PRTNR/CHUV/DIR/rgottar1/spatial/env/xenium_paper/results/contamination_metrics_diffexpr_corrected_counts/proseg_expected/breast/breast/1256/1256/lognorm/data_matched_reference_combo_rctd_class_aware_Level2.1_diffexpr.parquet\n",
      "File does not exist: /work/PRTNR/CHUV/DIR/rgottar1/spatial/env/xenium_paper/results/contamination_metrics_diffexpr_corrected_counts/proseg_expected/breast/breast/1GV1/1GV1/lognorm/data_matched_reference_combo_rctd_class_aware_Level2.1_diffexpr.parquet\n",
      "File does not exist: /work/PRTNR/CHUV/DIR/rgottar1/spatial/env/xenium_paper/results/contamination_metrics_diffexpr_corrected_counts/proseg_expected/breast/breast/OPHI/OPHI_2/lognorm/data_matched_reference_combo_rctd_class_aware_Level2.1_diffexpr.parquet\n",
      "File does not exist: /work/PRTNR/CHUV/DIR/rgottar1/spatial/env/xenium_paper/results/contamination_metrics_diffexpr_corrected_counts/proseg_expected/breast/breast/1FHZ/1FHZ/lognorm/data_matched_reference_combo_rctd_class_aware_Level2.1_diffexpr.parquet\n",
      "File does not exist: /work/PRTNR/CHUV/DIR/rgottar1/spatial/env/xenium_paper/results/contamination_metrics_diffexpr_corrected_counts/proseg_expected/breast/breast/0U9A/0U9A/lognorm/data_matched_reference_combo_rctd_class_aware_Level2.1_diffexpr.parquet\n",
      "File does not exist: /work/PRTNR/CHUV/DIR/rgottar1/spatial/env/xenium_paper/results/contamination_metrics_diffexpr_corrected_counts/proseg_expected/breast/breast/1GVR/1GVR/lognorm/data_matched_reference_combo_rctd_class_aware_Level2.1_diffexpr.parquet\n",
      "File does not exist: /work/PRTNR/CHUV/DIR/rgottar1/spatial/env/xenium_paper/results/contamination_metrics_diffexpr_corrected_counts/proseg_expected/breast/breast/0VRA/0VRA/lognorm/data_matched_reference_combo_rctd_class_aware_Level2.1_diffexpr.parquet\n",
      "File does not exist: /work/PRTNR/CHUV/DIR/rgottar1/spatial/env/xenium_paper/results/contamination_metrics_diffexpr_corrected_counts/proseg_expected/breast/breast/1ESQ/1ESQ/lognorm/data_matched_reference_combo_rctd_class_aware_Level2.1_diffexpr.parquet\n",
      "File does not exist: /work/PRTNR/CHUV/DIR/rgottar1/spatial/env/xenium_paper/results/contamination_metrics_diffexpr_corrected_counts/proseg_expected/breast/breast/1H27/1H27/lognorm/data_matched_reference_combo_rctd_class_aware_Level2.1_diffexpr.parquet\n",
      "File does not exist: /work/PRTNR/CHUV/DIR/rgottar1/spatial/env/xenium_paper/results/contamination_metrics_diffexpr_corrected_counts/proseg_expected/breast/breast/14LZ/14LZ/lognorm/data_matched_reference_combo_rctd_class_aware_Level2.1_diffexpr.parquet\n",
      "File does not exist: /work/PRTNR/CHUV/DIR/rgottar1/spatial/env/xenium_paper/results/contamination_metrics_diffexpr_corrected_counts/proseg_expected/breast/breast/0OE1/0OE1/lognorm/data_matched_reference_combo_rctd_class_aware_Level2.1_diffexpr.parquet\n",
      "File does not exist: /work/PRTNR/CHUV/DIR/rgottar1/spatial/env/xenium_paper/results/contamination_metrics_diffexpr_corrected_counts/proseg_expected/breast/breast/19TB/19TB/lognorm/data_matched_reference_combo_rctd_class_aware_Level2.1_diffexpr.parquet\n",
      "File does not exist: /work/PRTNR/CHUV/DIR/rgottar1/spatial/env/xenium_paper/results/contamination_metrics_diffexpr_corrected_counts/proseg_expected/breast/breast/1FO7/1FO7/lognorm/data_matched_reference_combo_rctd_class_aware_Level2.1_diffexpr.parquet\n",
      "File does not exist: /work/PRTNR/CHUV/DIR/rgottar1/spatial/env/xenium_paper/results/contamination_metrics_diffexpr_corrected_counts/proseg_expected/breast/breast/1GUC/1GUC/lognorm/data_matched_reference_combo_rctd_class_aware_Level2.1_diffexpr.parquet\n",
      "File does not exist: /work/PRTNR/CHUV/DIR/rgottar1/spatial/env/xenium_paper/results/contamination_metrics_diffexpr_corrected_counts/proseg_expected/NSCLC/lung/0PSV/0PSV/lognorm/data_matched_reference_combo_rctd_class_aware_Level2.1_diffexpr.parquet\n",
      "File does not exist: /work/PRTNR/CHUV/DIR/rgottar1/spatial/env/xenium_paper/results/contamination_metrics_diffexpr_corrected_counts/proseg_expected/NSCLC/lung/0S8R/0S8R/lognorm/data_matched_reference_combo_rctd_class_aware_Level2.1_diffexpr.parquet\n",
      "File does not exist: /work/PRTNR/CHUV/DIR/rgottar1/spatial/env/xenium_paper/results/contamination_metrics_diffexpr_corrected_counts/proseg_expected/NSCLC/lung/1G73/1G73/lognorm/data_matched_reference_combo_rctd_class_aware_Level2.1_diffexpr.parquet\n",
      "File does not exist: /work/PRTNR/CHUV/DIR/rgottar1/spatial/env/xenium_paper/results/contamination_metrics_diffexpr_corrected_counts/proseg_expected/NSCLC/lung/1GA2/1GA2/lognorm/data_matched_reference_combo_rctd_class_aware_Level2.1_diffexpr.parquet\n",
      "File does not exist: /work/PRTNR/CHUV/DIR/rgottar1/spatial/env/xenium_paper/results/contamination_metrics_diffexpr_corrected_counts/proseg_expected/NSCLC/lung/1GFF/1GFF/lognorm/data_matched_reference_combo_rctd_class_aware_Level2.1_diffexpr.parquet\n",
      "File does not exist: /work/PRTNR/CHUV/DIR/rgottar1/spatial/env/xenium_paper/results/contamination_metrics_diffexpr_corrected_counts/proseg_expected/NSCLC/lung/1GDD/1GDD/lognorm/data_matched_reference_combo_rctd_class_aware_Level2.1_diffexpr.parquet\n",
      "File does not exist: /work/PRTNR/CHUV/DIR/rgottar1/spatial/env/xenium_paper/results/contamination_metrics_diffexpr_corrected_counts/proseg_expected/NSCLC/lung/1GAC/1GAC/lognorm/data_matched_reference_combo_rctd_class_aware_Level2.1_diffexpr.parquet\n",
      "File does not exist: /work/PRTNR/CHUV/DIR/rgottar1/spatial/env/xenium_paper/results/contamination_metrics_diffexpr_corrected_counts/proseg_expected/NSCLC/lung/0WMU/0WMU_2/lognorm/data_matched_reference_combo_rctd_class_aware_Level2.1_diffexpr.parquet\n",
      "File does not exist: /work/PRTNR/CHUV/DIR/rgottar1/spatial/env/xenium_paper/results/contamination_metrics_diffexpr_corrected_counts/proseg_expected/NSCLC/lung/0WMU/0WMU_1/lognorm/data_matched_reference_combo_rctd_class_aware_Level2.1_diffexpr.parquet\n",
      "File does not exist: /work/PRTNR/CHUV/DIR/rgottar1/spatial/env/xenium_paper/results/contamination_metrics_diffexpr_corrected_counts/proseg_expected/NSCLC/lung/1GVD/1GVD/lognorm/data_matched_reference_combo_rctd_class_aware_Level2.1_diffexpr.parquet\n",
      "File does not exist: /work/PRTNR/CHUV/DIR/rgottar1/spatial/env/xenium_paper/results/contamination_metrics_diffexpr_corrected_counts/proseg_expected/NSCLC/chuvio/1GA2/1GA2/lognorm/data_matched_reference_combo_rctd_class_aware_Level2.1_diffexpr.parquet\n",
      "File does not exist: /work/PRTNR/CHUV/DIR/rgottar1/spatial/env/xenium_paper/results/contamination_metrics_diffexpr_corrected_counts/proseg_expected/NSCLC/chuvio/0PSV/0PSV_1/lognorm/data_matched_reference_combo_rctd_class_aware_Level2.1_diffexpr.parquet\n",
      "File does not exist: /work/PRTNR/CHUV/DIR/rgottar1/spatial/env/xenium_paper/results/contamination_metrics_diffexpr_corrected_counts/proseg_expected/NSCLC/chuvio/0PSV/0PSV_2/lognorm/data_matched_reference_combo_rctd_class_aware_Level2.1_diffexpr.parquet\n",
      "File does not exist: /work/PRTNR/CHUV/DIR/rgottar1/spatial/env/xenium_paper/results/contamination_metrics_diffexpr_corrected_counts/proseg_expected/NSCLC/chuvio/1G73/1G73/lognorm/data_matched_reference_combo_rctd_class_aware_Level2.1_diffexpr.parquet\n",
      "File does not exist: /work/PRTNR/CHUV/DIR/rgottar1/spatial/env/xenium_paper/results/contamination_metrics_diffexpr_corrected_counts/proseg_expected/NSCLC/chuvio/0WMU/0WMU/lognorm/data_matched_reference_combo_rctd_class_aware_Level2.1_diffexpr.parquet\n",
      "File does not exist: /work/PRTNR/CHUV/DIR/rgottar1/spatial/env/xenium_paper/results/contamination_metrics_diffexpr_corrected_counts/proseg_expected/NSCLC/5k/0PSV/0PSV/lognorm/data_matched_reference_combo_rctd_class_aware_Level2.1_diffexpr.parquet\n",
      "File does not exist: /work/PRTNR/CHUV/DIR/rgottar1/spatial/env/xenium_paper/results/contamination_metrics_diffexpr_corrected_counts/proseg_expected/NSCLC/5k/1G73/1G73/lognorm/data_matched_reference_combo_rctd_class_aware_Level2.1_diffexpr.parquet\n",
      "File does not exist: /work/PRTNR/CHUV/DIR/rgottar1/spatial/env/xenium_paper/results/contamination_metrics_diffexpr_corrected_counts/proseg_expected/NSCLC/5k/1GDD/1GDD/lognorm/data_matched_reference_combo_rctd_class_aware_Level2.1_diffexpr.parquet\n",
      "File does not exist: /work/PRTNR/CHUV/DIR/rgottar1/spatial/env/xenium_paper/results/contamination_metrics_diffexpr_corrected_counts/proseg_expected/NSCLC/5k/1GAC/1GAC/lognorm/data_matched_reference_combo_rctd_class_aware_Level2.1_diffexpr.parquet\n",
      "File does not exist: /work/PRTNR/CHUV/DIR/rgottar1/spatial/env/xenium_paper/results/contamination_metrics_diffexpr_corrected_counts/proseg_expected/NSCLC/5k/1GQ9/1GQ9/lognorm/data_matched_reference_combo_rctd_class_aware_Level2.1_diffexpr.parquet\n",
      "File does not exist: /work/PRTNR/CHUV/DIR/rgottar1/spatial/env/xenium_paper/results/contamination_metrics_diffexpr_corrected_counts/proseg_expected/NSCLC/5k/1GVD/1GVD/lognorm/data_matched_reference_combo_rctd_class_aware_Level2.1_diffexpr.parquet\n",
      "File does not exist: /work/PRTNR/CHUV/DIR/rgottar1/spatial/env/xenium_paper/results/contamination_metrics_diffexpr_corrected_counts/segger/breast/breast/1FYB/1FYB/lognorm/data_matched_reference_combo_rctd_class_aware_Level2.1_diffexpr.parquet\n",
      "File does not exist: /work/PRTNR/CHUV/DIR/rgottar1/spatial/env/xenium_paper/results/contamination_metrics_diffexpr_corrected_counts/segger/breast/breast/OPHI/OPHI_3/lognorm/data_matched_reference_combo_rctd_class_aware_Level2.1_diffexpr.parquet\n",
      "File does not exist: /work/PRTNR/CHUV/DIR/rgottar1/spatial/env/xenium_paper/results/contamination_metrics_diffexpr_corrected_counts/segger/breast/breast/OPHI/OPHI_1/lognorm/data_matched_reference_combo_rctd_class_aware_Level2.1_diffexpr.parquet\n",
      "File does not exist: /work/PRTNR/CHUV/DIR/rgottar1/spatial/env/xenium_paper/results/contamination_metrics_diffexpr_corrected_counts/segger/breast/breast/OPHI/OPHI_2/lognorm/data_matched_reference_combo_rctd_class_aware_Level2.1_diffexpr.parquet\n",
      "File does not exist: /work/PRTNR/CHUV/DIR/rgottar1/spatial/env/xenium_paper/results/contamination_metrics_diffexpr_corrected_counts/segger/breast/breast/1BCA/1BCA/lognorm/data_matched_reference_combo_rctd_class_aware_Level2.1_diffexpr.parquet\n",
      "File does not exist: /work/PRTNR/CHUV/DIR/rgottar1/spatial/env/xenium_paper/results/contamination_metrics_diffexpr_corrected_counts/segger/breast/breast/0PD6/0PD6/lognorm/data_matched_reference_combo_rctd_class_aware_Level2.1_diffexpr.parquet\n",
      "File does not exist: /work/PRTNR/CHUV/DIR/rgottar1/spatial/env/xenium_paper/results/contamination_metrics_diffexpr_corrected_counts/segger/breast/breast/1256/1256/lognorm/data_matched_reference_combo_rctd_class_aware_Level2.1_diffexpr.parquet\n",
      "File does not exist: /work/PRTNR/CHUV/DIR/rgottar1/spatial/env/xenium_paper/results/contamination_metrics_diffexpr_corrected_counts/segger/breast/breast/1GV1/1GV1/lognorm/data_matched_reference_combo_rctd_class_aware_Level2.1_diffexpr.parquet\n",
      "File does not exist: /work/PRTNR/CHUV/DIR/rgottar1/spatial/env/xenium_paper/results/contamination_metrics_diffexpr_corrected_counts/segger/breast/breast/1GVR/1GVR/lognorm/data_matched_reference_combo_rctd_class_aware_Level2.1_diffexpr.parquet\n",
      "File does not exist: /work/PRTNR/CHUV/DIR/rgottar1/spatial/env/xenium_paper/results/contamination_metrics_diffexpr_corrected_counts/segger/breast/breast/1FHZ/1FHZ/lognorm/data_matched_reference_combo_rctd_class_aware_Level2.1_diffexpr.parquet\n",
      "File does not exist: /work/PRTNR/CHUV/DIR/rgottar1/spatial/env/xenium_paper/results/contamination_metrics_diffexpr_corrected_counts/segger/breast/breast/0U9A/0U9A/lognorm/data_matched_reference_combo_rctd_class_aware_Level2.1_diffexpr.parquet\n",
      "File does not exist: /work/PRTNR/CHUV/DIR/rgottar1/spatial/env/xenium_paper/results/contamination_metrics_diffexpr_corrected_counts/segger/breast/breast/1ESQ/1ESQ/lognorm/data_matched_reference_combo_rctd_class_aware_Level2.1_diffexpr.parquet\n",
      "File does not exist: /work/PRTNR/CHUV/DIR/rgottar1/spatial/env/xenium_paper/results/contamination_metrics_diffexpr_corrected_counts/segger/breast/breast/0VRA/0VRA/lognorm/data_matched_reference_combo_rctd_class_aware_Level2.1_diffexpr.parquet\n",
      "File does not exist: /work/PRTNR/CHUV/DIR/rgottar1/spatial/env/xenium_paper/results/contamination_metrics_diffexpr_corrected_counts/segger/breast/breast/14LZ/14LZ/lognorm/data_matched_reference_combo_rctd_class_aware_Level2.1_diffexpr.parquet\n",
      "File does not exist: /work/PRTNR/CHUV/DIR/rgottar1/spatial/env/xenium_paper/results/contamination_metrics_diffexpr_corrected_counts/segger/breast/breast/1H27/1H27/lognorm/data_matched_reference_combo_rctd_class_aware_Level2.1_diffexpr.parquet\n",
      "File does not exist: /work/PRTNR/CHUV/DIR/rgottar1/spatial/env/xenium_paper/results/contamination_metrics_diffexpr_corrected_counts/segger/breast/breast/1GUC/1GUC/lognorm/data_matched_reference_combo_rctd_class_aware_Level2.1_diffexpr.parquet\n",
      "File does not exist: /work/PRTNR/CHUV/DIR/rgottar1/spatial/env/xenium_paper/results/contamination_metrics_diffexpr_corrected_counts/segger/breast/breast/0OE1/0OE1/lognorm/data_matched_reference_combo_rctd_class_aware_Level2.1_diffexpr.parquet\n",
      "File does not exist: /work/PRTNR/CHUV/DIR/rgottar1/spatial/env/xenium_paper/results/contamination_metrics_diffexpr_corrected_counts/segger/breast/breast/19TB/19TB/lognorm/data_matched_reference_combo_rctd_class_aware_Level2.1_diffexpr.parquet\n",
      "File does not exist: /work/PRTNR/CHUV/DIR/rgottar1/spatial/env/xenium_paper/results/contamination_metrics_diffexpr_corrected_counts/segger/breast/breast/1FO7/1FO7/lognorm/data_matched_reference_combo_rctd_class_aware_Level2.1_diffexpr.parquet\n",
      "File does not exist: /work/PRTNR/CHUV/DIR/rgottar1/spatial/env/xenium_paper/results/contamination_metrics_diffexpr_corrected_counts/segger/NSCLC/lung/1GA2/1GA2/lognorm/data_matched_reference_combo_rctd_class_aware_Level2.1_diffexpr.parquet\n",
      "File does not exist: /work/PRTNR/CHUV/DIR/rgottar1/spatial/env/xenium_paper/results/contamination_metrics_diffexpr_corrected_counts/segger/NSCLC/lung/0PSV/0PSV/lognorm/data_matched_reference_combo_rctd_class_aware_Level2.1_diffexpr.parquet\n",
      "File does not exist: /work/PRTNR/CHUV/DIR/rgottar1/spatial/env/xenium_paper/results/contamination_metrics_diffexpr_corrected_counts/segger/NSCLC/lung/0S8R/0S8R/lognorm/data_matched_reference_combo_rctd_class_aware_Level2.1_diffexpr.parquet\n",
      "File does not exist: /work/PRTNR/CHUV/DIR/rgottar1/spatial/env/xenium_paper/results/contamination_metrics_diffexpr_corrected_counts/segger/NSCLC/lung/1G73/1G73/lognorm/data_matched_reference_combo_rctd_class_aware_Level2.1_diffexpr.parquet\n",
      "File does not exist: /work/PRTNR/CHUV/DIR/rgottar1/spatial/env/xenium_paper/results/contamination_metrics_diffexpr_corrected_counts/segger/NSCLC/lung/1GDD/1GDD/lognorm/data_matched_reference_combo_rctd_class_aware_Level2.1_diffexpr.parquet\n",
      "File does not exist: /work/PRTNR/CHUV/DIR/rgottar1/spatial/env/xenium_paper/results/contamination_metrics_diffexpr_corrected_counts/segger/NSCLC/lung/1GFF/1GFF/lognorm/data_matched_reference_combo_rctd_class_aware_Level2.1_diffexpr.parquet\n",
      "File does not exist: /work/PRTNR/CHUV/DIR/rgottar1/spatial/env/xenium_paper/results/contamination_metrics_diffexpr_corrected_counts/segger/NSCLC/lung/1GAC/1GAC/lognorm/data_matched_reference_combo_rctd_class_aware_Level2.1_diffexpr.parquet\n",
      "File does not exist: /work/PRTNR/CHUV/DIR/rgottar1/spatial/env/xenium_paper/results/contamination_metrics_diffexpr_corrected_counts/segger/NSCLC/lung/0WMU/0WMU_1/lognorm/data_matched_reference_combo_rctd_class_aware_Level2.1_diffexpr.parquet\n",
      "File does not exist: /work/PRTNR/CHUV/DIR/rgottar1/spatial/env/xenium_paper/results/contamination_metrics_diffexpr_corrected_counts/segger/NSCLC/lung/0WMU/0WMU_2/lognorm/data_matched_reference_combo_rctd_class_aware_Level2.1_diffexpr.parquet\n",
      "File does not exist: /work/PRTNR/CHUV/DIR/rgottar1/spatial/env/xenium_paper/results/contamination_metrics_diffexpr_corrected_counts/segger/NSCLC/lung/1GQ9/1GQ9/lognorm/data_matched_reference_combo_rctd_class_aware_Level2.1_diffexpr.parquet\n",
      "File does not exist: /work/PRTNR/CHUV/DIR/rgottar1/spatial/env/xenium_paper/results/contamination_metrics_diffexpr_corrected_counts/segger/NSCLC/lung/1GVD/1GVD/lognorm/data_matched_reference_combo_rctd_class_aware_Level2.1_diffexpr.parquet\n",
      "File does not exist: /work/PRTNR/CHUV/DIR/rgottar1/spatial/env/xenium_paper/results/contamination_metrics_diffexpr_corrected_counts/proseg_expected/NSCLC/lung/1GQ9/1GQ9/lognorm/data_matched_reference_combo_rctd_class_aware_Level2.1_diffexpr.parquet\n",
      "File does not exist: /work/PRTNR/CHUV/DIR/rgottar1/spatial/env/xenium_paper/results/contamination_metrics_diffexpr_corrected_counts/segger/NSCLC/chuvio/0PSV/0PSV_1/lognorm/data_matched_reference_combo_rctd_class_aware_Level2.1_diffexpr.parquet\n",
      "File does not exist: /work/PRTNR/CHUV/DIR/rgottar1/spatial/env/xenium_paper/results/contamination_metrics_diffexpr_corrected_counts/segger/NSCLC/chuvio/0PSV/0PSV_2/lognorm/data_matched_reference_combo_rctd_class_aware_Level2.1_diffexpr.parquet\n",
      "File does not exist: /work/PRTNR/CHUV/DIR/rgottar1/spatial/env/xenium_paper/results/contamination_metrics_diffexpr_corrected_counts/segger/NSCLC/chuvio/1G73/1G73/lognorm/data_matched_reference_combo_rctd_class_aware_Level2.1_diffexpr.parquet\n",
      "File does not exist: /work/PRTNR/CHUV/DIR/rgottar1/spatial/env/xenium_paper/results/contamination_metrics_diffexpr_corrected_counts/segger/NSCLC/chuvio/0WMU/0WMU/lognorm/data_matched_reference_combo_rctd_class_aware_Level2.1_diffexpr.parquet\n",
      "File does not exist: /work/PRTNR/CHUV/DIR/rgottar1/spatial/env/xenium_paper/results/contamination_metrics_diffexpr_corrected_counts/segger/NSCLC/5k/0PSV/0PSV/lognorm/data_matched_reference_combo_rctd_class_aware_Level2.1_diffexpr.parquet\n",
      "File does not exist: /work/PRTNR/CHUV/DIR/rgottar1/spatial/env/xenium_paper/results/contamination_metrics_diffexpr_corrected_counts/segger/NSCLC/5k/1G73/1G73/lognorm/data_matched_reference_combo_rctd_class_aware_Level2.1_diffexpr.parquet\n",
      "File does not exist: /work/PRTNR/CHUV/DIR/rgottar1/spatial/env/xenium_paper/results/contamination_metrics_diffexpr_corrected_counts/segger/NSCLC/5k/1GDD/1GDD/lognorm/data_matched_reference_combo_rctd_class_aware_Level2.1_diffexpr.parquet\n",
      "File does not exist: /work/PRTNR/CHUV/DIR/rgottar1/spatial/env/xenium_paper/results/contamination_metrics_diffexpr_corrected_counts/segger/NSCLC/5k/1GAC/1GAC/lognorm/data_matched_reference_combo_rctd_class_aware_Level2.1_diffexpr.parquet\n",
      "File does not exist: /work/PRTNR/CHUV/DIR/rgottar1/spatial/env/xenium_paper/results/contamination_metrics_diffexpr_corrected_counts/segger/NSCLC/5k/1GQ9/1GQ9/lognorm/data_matched_reference_combo_rctd_class_aware_Level2.1_diffexpr.parquet\n",
      "File does not exist: /work/PRTNR/CHUV/DIR/rgottar1/spatial/env/xenium_paper/results/contamination_metrics_diffexpr_corrected_counts/segger/NSCLC/5k/1GVD/1GVD/lognorm/data_matched_reference_combo_rctd_class_aware_Level2.1_diffexpr.parquet\n",
      "File does not exist: /work/PRTNR/CHUV/DIR/rgottar1/spatial/env/xenium_paper/results/contamination_metrics_diffexpr_corrected_counts/10x_5um/breast/breast/1FYB/1FYB/lognorm/data_matched_reference_combo_rctd_class_aware_Level2.1_diffexpr.parquet\n",
      "File does not exist: /work/PRTNR/CHUV/DIR/rgottar1/spatial/env/xenium_paper/results/contamination_metrics_diffexpr_corrected_counts/10x_5um/breast/breast/OPHI/OPHI_3/lognorm/data_matched_reference_combo_rctd_class_aware_Level2.1_diffexpr.parquet\n",
      "File does not exist: /work/PRTNR/CHUV/DIR/rgottar1/spatial/env/xenium_paper/results/contamination_metrics_diffexpr_corrected_counts/segger/NSCLC/chuvio/1GA2/1GA2/lognorm/data_matched_reference_combo_rctd_class_aware_Level2.1_diffexpr.parquet\n",
      "File does not exist: /work/PRTNR/CHUV/DIR/rgottar1/spatial/env/xenium_paper/results/contamination_metrics_diffexpr_corrected_counts/10x_5um/breast/breast/OPHI/OPHI_2/lognorm/data_matched_reference_combo_rctd_class_aware_Level2.1_diffexpr.parquet\n",
      "File does not exist: /work/PRTNR/CHUV/DIR/rgottar1/spatial/env/xenium_paper/results/contamination_metrics_diffexpr_corrected_counts/10x_5um/breast/breast/1BCA/1BCA/lognorm/data_matched_reference_combo_rctd_class_aware_Level2.1_diffexpr.parquet\n",
      "File does not exist: /work/PRTNR/CHUV/DIR/rgottar1/spatial/env/xenium_paper/results/contamination_metrics_diffexpr_corrected_counts/10x_5um/breast/breast/0PD6/0PD6/lognorm/data_matched_reference_combo_rctd_class_aware_Level2.1_diffexpr.parquet\n",
      "File does not exist: /work/PRTNR/CHUV/DIR/rgottar1/spatial/env/xenium_paper/results/contamination_metrics_diffexpr_corrected_counts/10x_5um/breast/breast/1256/1256/lognorm/data_matched_reference_combo_rctd_class_aware_Level2.1_diffexpr.parquet\n",
      "File does not exist: /work/PRTNR/CHUV/DIR/rgottar1/spatial/env/xenium_paper/results/contamination_metrics_diffexpr_corrected_counts/10x_5um/breast/breast/1GV1/1GV1/lognorm/data_matched_reference_combo_rctd_class_aware_Level2.1_diffexpr.parquet\n",
      "File does not exist: /work/PRTNR/CHUV/DIR/rgottar1/spatial/env/xenium_paper/results/contamination_metrics_diffexpr_corrected_counts/10x_5um/breast/breast/1GVR/1GVR/lognorm/data_matched_reference_combo_rctd_class_aware_Level2.1_diffexpr.parquet\n",
      "File does not exist: /work/PRTNR/CHUV/DIR/rgottar1/spatial/env/xenium_paper/results/contamination_metrics_diffexpr_corrected_counts/10x_5um/breast/breast/1FHZ/1FHZ/lognorm/data_matched_reference_combo_rctd_class_aware_Level2.1_diffexpr.parquet\n",
      "File does not exist: /work/PRTNR/CHUV/DIR/rgottar1/spatial/env/xenium_paper/results/contamination_metrics_diffexpr_corrected_counts/10x_5um/breast/breast/0U9A/0U9A/lognorm/data_matched_reference_combo_rctd_class_aware_Level2.1_diffexpr.parquet\n",
      "File does not exist: /work/PRTNR/CHUV/DIR/rgottar1/spatial/env/xenium_paper/results/contamination_metrics_diffexpr_corrected_counts/10x_5um/breast/breast/1ESQ/1ESQ/lognorm/data_matched_reference_combo_rctd_class_aware_Level2.1_diffexpr.parquet\n",
      "File does not exist: /work/PRTNR/CHUV/DIR/rgottar1/spatial/env/xenium_paper/results/contamination_metrics_diffexpr_corrected_counts/10x_5um/breast/breast/0VRA/0VRA/lognorm/data_matched_reference_combo_rctd_class_aware_Level2.1_diffexpr.parquet\n",
      "File does not exist: /work/PRTNR/CHUV/DIR/rgottar1/spatial/env/xenium_paper/results/contamination_metrics_diffexpr_corrected_counts/10x_5um/breast/breast/14LZ/14LZ/lognorm/data_matched_reference_combo_rctd_class_aware_Level2.1_diffexpr.parquet\n",
      "File does not exist: /work/PRTNR/CHUV/DIR/rgottar1/spatial/env/xenium_paper/results/contamination_metrics_diffexpr_corrected_counts/10x_5um/breast/breast/1H27/1H27/lognorm/data_matched_reference_combo_rctd_class_aware_Level2.1_diffexpr.parquet\n",
      "File does not exist: /work/PRTNR/CHUV/DIR/rgottar1/spatial/env/xenium_paper/results/contamination_metrics_diffexpr_corrected_counts/10x_5um/breast/breast/1GUC/1GUC/lognorm/data_matched_reference_combo_rctd_class_aware_Level2.1_diffexpr.parquet\n",
      "File does not exist: /work/PRTNR/CHUV/DIR/rgottar1/spatial/env/xenium_paper/results/contamination_metrics_diffexpr_corrected_counts/10x_5um/breast/breast/0OE1/0OE1/lognorm/data_matched_reference_combo_rctd_class_aware_Level2.1_diffexpr.parquet\n",
      "File does not exist: /work/PRTNR/CHUV/DIR/rgottar1/spatial/env/xenium_paper/results/contamination_metrics_diffexpr_corrected_counts/10x_5um/breast/breast/19TB/19TB/lognorm/data_matched_reference_combo_rctd_class_aware_Level2.1_diffexpr.parquet\n",
      "File does not exist: /work/PRTNR/CHUV/DIR/rgottar1/spatial/env/xenium_paper/results/contamination_metrics_diffexpr_corrected_counts/10x_5um/breast/breast/1FO7/1FO7/lognorm/data_matched_reference_combo_rctd_class_aware_Level2.1_diffexpr.parquet\n",
      "File does not exist: /work/PRTNR/CHUV/DIR/rgottar1/spatial/env/xenium_paper/results/contamination_metrics_diffexpr_corrected_counts/10x_5um/NSCLC/lung/1GA2/1GA2/lognorm/data_matched_reference_combo_rctd_class_aware_Level2.1_diffexpr.parquet\n",
      "File does not exist: /work/PRTNR/CHUV/DIR/rgottar1/spatial/env/xenium_paper/results/contamination_metrics_diffexpr_corrected_counts/10x_5um/NSCLC/lung/0PSV/0PSV/lognorm/data_matched_reference_combo_rctd_class_aware_Level2.1_diffexpr.parquet\n",
      "File does not exist: /work/PRTNR/CHUV/DIR/rgottar1/spatial/env/xenium_paper/results/contamination_metrics_diffexpr_corrected_counts/10x_5um/NSCLC/lung/0S8R/0S8R/lognorm/data_matched_reference_combo_rctd_class_aware_Level2.1_diffexpr.parquet\n",
      "File does not exist: /work/PRTNR/CHUV/DIR/rgottar1/spatial/env/xenium_paper/results/contamination_metrics_diffexpr_corrected_counts/10x_5um/NSCLC/lung/1G73/1G73/lognorm/data_matched_reference_combo_rctd_class_aware_Level2.1_diffexpr.parquet\n",
      "File does not exist: /work/PRTNR/CHUV/DIR/rgottar1/spatial/env/xenium_paper/results/contamination_metrics_diffexpr_corrected_counts/10x_5um/NSCLC/lung/1GDD/1GDD/lognorm/data_matched_reference_combo_rctd_class_aware_Level2.1_diffexpr.parquet\n",
      "File does not exist: /work/PRTNR/CHUV/DIR/rgottar1/spatial/env/xenium_paper/results/contamination_metrics_diffexpr_corrected_counts/10x_5um/NSCLC/lung/1GFF/1GFF/lognorm/data_matched_reference_combo_rctd_class_aware_Level2.1_diffexpr.parquet\n",
      "File does not exist: /work/PRTNR/CHUV/DIR/rgottar1/spatial/env/xenium_paper/results/contamination_metrics_diffexpr_corrected_counts/10x_5um/NSCLC/lung/1GAC/1GAC/lognorm/data_matched_reference_combo_rctd_class_aware_Level2.1_diffexpr.parquet\n",
      "File does not exist: /work/PRTNR/CHUV/DIR/rgottar1/spatial/env/xenium_paper/results/contamination_metrics_diffexpr_corrected_counts/10x_5um/NSCLC/lung/0WMU/0WMU_1/lognorm/data_matched_reference_combo_rctd_class_aware_Level2.1_diffexpr.parquet\n",
      "File does not exist: /work/PRTNR/CHUV/DIR/rgottar1/spatial/env/xenium_paper/results/contamination_metrics_diffexpr_corrected_counts/10x_5um/NSCLC/lung/0WMU/0WMU_2/lognorm/data_matched_reference_combo_rctd_class_aware_Level2.1_diffexpr.parquet\n",
      "File does not exist: /work/PRTNR/CHUV/DIR/rgottar1/spatial/env/xenium_paper/results/contamination_metrics_diffexpr_corrected_counts/10x_5um/NSCLC/lung/1GQ9/1GQ9/lognorm/data_matched_reference_combo_rctd_class_aware_Level2.1_diffexpr.parquet\n",
      "File does not exist: /work/PRTNR/CHUV/DIR/rgottar1/spatial/env/xenium_paper/results/contamination_metrics_diffexpr_corrected_counts/10x_5um/NSCLC/lung/1GVD/1GVD/lognorm/data_matched_reference_combo_rctd_class_aware_Level2.1_diffexpr.parquet\n",
      "File does not exist: /work/PRTNR/CHUV/DIR/rgottar1/spatial/env/xenium_paper/results/contamination_metrics_diffexpr_corrected_counts/10x_5um/NSCLC/chuvio/1GA2/1GA2/lognorm/data_matched_reference_combo_rctd_class_aware_Level2.1_diffexpr.parquet\n",
      "File does not exist: /work/PRTNR/CHUV/DIR/rgottar1/spatial/env/xenium_paper/results/contamination_metrics_diffexpr_corrected_counts/10x_5um/NSCLC/chuvio/0PSV/0PSV_1/lognorm/data_matched_reference_combo_rctd_class_aware_Level2.1_diffexpr.parquet\n",
      "File does not exist: /work/PRTNR/CHUV/DIR/rgottar1/spatial/env/xenium_paper/results/contamination_metrics_diffexpr_corrected_counts/10x_5um/NSCLC/chuvio/0PSV/0PSV_2/lognorm/data_matched_reference_combo_rctd_class_aware_Level2.1_diffexpr.parquet\n",
      "File does not exist: /work/PRTNR/CHUV/DIR/rgottar1/spatial/env/xenium_paper/results/contamination_metrics_diffexpr_corrected_counts/10x_5um/NSCLC/chuvio/1G73/1G73/lognorm/data_matched_reference_combo_rctd_class_aware_Level2.1_diffexpr.parquet\n",
      "File does not exist: /work/PRTNR/CHUV/DIR/rgottar1/spatial/env/xenium_paper/results/contamination_metrics_diffexpr_corrected_counts/10x_5um/NSCLC/chuvio/0WMU/0WMU/lognorm/data_matched_reference_combo_rctd_class_aware_Level2.1_diffexpr.parquet\n",
      "File does not exist: /work/PRTNR/CHUV/DIR/rgottar1/spatial/env/xenium_paper/results/contamination_metrics_diffexpr_corrected_counts/10x_5um/NSCLC/5k/0PSV/0PSV/lognorm/data_matched_reference_combo_rctd_class_aware_Level2.1_diffexpr.parquet\n",
      "File does not exist: /work/PRTNR/CHUV/DIR/rgottar1/spatial/env/xenium_paper/results/contamination_metrics_diffexpr_corrected_counts/10x_5um/NSCLC/5k/1G73/1G73/lognorm/data_matched_reference_combo_rctd_class_aware_Level2.1_diffexpr.parquet\n",
      "File does not exist: /work/PRTNR/CHUV/DIR/rgottar1/spatial/env/xenium_paper/results/contamination_metrics_diffexpr_corrected_counts/10x_5um/NSCLC/5k/1GDD/1GDD/lognorm/data_matched_reference_combo_rctd_class_aware_Level2.1_diffexpr.parquet\n",
      "File does not exist: /work/PRTNR/CHUV/DIR/rgottar1/spatial/env/xenium_paper/results/contamination_metrics_diffexpr_corrected_counts/10x_5um/NSCLC/5k/1GAC/1GAC/lognorm/data_matched_reference_combo_rctd_class_aware_Level2.1_diffexpr.parquet\n",
      "File does not exist: /work/PRTNR/CHUV/DIR/rgottar1/spatial/env/xenium_paper/results/contamination_metrics_diffexpr_corrected_counts/10x_5um/NSCLC/5k/1GQ9/1GQ9/lognorm/data_matched_reference_combo_rctd_class_aware_Level2.1_diffexpr.parquet\n",
      "File does not exist: /work/PRTNR/CHUV/DIR/rgottar1/spatial/env/xenium_paper/results/contamination_metrics_diffexpr_corrected_counts/10x_5um/NSCLC/5k/1GVD/1GVD/lognorm/data_matched_reference_combo_rctd_class_aware_Level2.1_diffexpr.parquet\n",
      "File does not exist: /work/PRTNR/CHUV/DIR/rgottar1/spatial/env/xenium_paper/results/contamination_metrics_diffexpr_corrected_counts/10x_15um/breast/breast/1FYB/1FYB/lognorm/data_matched_reference_combo_rctd_class_aware_Level2.1_diffexpr.parquet\n",
      "File does not exist: /work/PRTNR/CHUV/DIR/rgottar1/spatial/env/xenium_paper/results/contamination_metrics_diffexpr_corrected_counts/10x_5um/breast/breast/OPHI/OPHI_1/lognorm/data_matched_reference_combo_rctd_class_aware_Level2.1_diffexpr.parquet\n",
      "File does not exist: /work/PRTNR/CHUV/DIR/rgottar1/spatial/env/xenium_paper/results/contamination_metrics_diffexpr_corrected_counts/10x_15um/breast/breast/OPHI/OPHI_1/lognorm/data_matched_reference_combo_rctd_class_aware_Level2.1_diffexpr.parquet\n",
      "File does not exist: /work/PRTNR/CHUV/DIR/rgottar1/spatial/env/xenium_paper/results/contamination_metrics_diffexpr_corrected_counts/10x_15um/breast/breast/OPHI/OPHI_3/lognorm/data_matched_reference_combo_rctd_class_aware_Level2.1_diffexpr.parquet\n",
      "File does not exist: /work/PRTNR/CHUV/DIR/rgottar1/spatial/env/xenium_paper/results/contamination_metrics_diffexpr_corrected_counts/10x_15um/breast/breast/1BCA/1BCA/lognorm/data_matched_reference_combo_rctd_class_aware_Level2.1_diffexpr.parquet\n",
      "File does not exist: /work/PRTNR/CHUV/DIR/rgottar1/spatial/env/xenium_paper/results/contamination_metrics_diffexpr_corrected_counts/10x_15um/breast/breast/0PD6/0PD6/lognorm/data_matched_reference_combo_rctd_class_aware_Level2.1_diffexpr.parquet\n",
      "File does not exist: /work/PRTNR/CHUV/DIR/rgottar1/spatial/env/xenium_paper/results/contamination_metrics_diffexpr_corrected_counts/10x_15um/breast/breast/1256/1256/lognorm/data_matched_reference_combo_rctd_class_aware_Level2.1_diffexpr.parquet\n",
      "File does not exist: /work/PRTNR/CHUV/DIR/rgottar1/spatial/env/xenium_paper/results/contamination_metrics_diffexpr_corrected_counts/10x_15um/breast/breast/1GV1/1GV1/lognorm/data_matched_reference_combo_rctd_class_aware_Level2.1_diffexpr.parquet\n",
      "File does not exist: /work/PRTNR/CHUV/DIR/rgottar1/spatial/env/xenium_paper/results/contamination_metrics_diffexpr_corrected_counts/10x_15um/breast/breast/OPHI/OPHI_2/lognorm/data_matched_reference_combo_rctd_class_aware_Level2.1_diffexpr.parquet\n",
      "File does not exist: /work/PRTNR/CHUV/DIR/rgottar1/spatial/env/xenium_paper/results/contamination_metrics_diffexpr_corrected_counts/10x_15um/breast/breast/1FHZ/1FHZ/lognorm/data_matched_reference_combo_rctd_class_aware_Level2.1_diffexpr.parquet\n",
      "File does not exist: /work/PRTNR/CHUV/DIR/rgottar1/spatial/env/xenium_paper/results/contamination_metrics_diffexpr_corrected_counts/10x_15um/breast/breast/0U9A/0U9A/lognorm/data_matched_reference_combo_rctd_class_aware_Level2.1_diffexpr.parquet\n",
      "File does not exist: /work/PRTNR/CHUV/DIR/rgottar1/spatial/env/xenium_paper/results/contamination_metrics_diffexpr_corrected_counts/10x_15um/breast/breast/1ESQ/1ESQ/lognorm/data_matched_reference_combo_rctd_class_aware_Level2.1_diffexpr.parquet\n",
      "File does not exist: /work/PRTNR/CHUV/DIR/rgottar1/spatial/env/xenium_paper/results/contamination_metrics_diffexpr_corrected_counts/10x_15um/breast/breast/1GVR/1GVR/lognorm/data_matched_reference_combo_rctd_class_aware_Level2.1_diffexpr.parquet\n",
      "File does not exist: /work/PRTNR/CHUV/DIR/rgottar1/spatial/env/xenium_paper/results/contamination_metrics_diffexpr_corrected_counts/10x_15um/breast/breast/14LZ/14LZ/lognorm/data_matched_reference_combo_rctd_class_aware_Level2.1_diffexpr.parquet\n",
      "File does not exist: /work/PRTNR/CHUV/DIR/rgottar1/spatial/env/xenium_paper/results/contamination_metrics_diffexpr_corrected_counts/10x_15um/breast/breast/1H27/1H27/lognorm/data_matched_reference_combo_rctd_class_aware_Level2.1_diffexpr.parquet\n",
      "File does not exist: /work/PRTNR/CHUV/DIR/rgottar1/spatial/env/xenium_paper/results/contamination_metrics_diffexpr_corrected_counts/10x_15um/breast/breast/1GUC/1GUC/lognorm/data_matched_reference_combo_rctd_class_aware_Level2.1_diffexpr.parquet\n",
      "File does not exist: /work/PRTNR/CHUV/DIR/rgottar1/spatial/env/xenium_paper/results/contamination_metrics_diffexpr_corrected_counts/10x_15um/breast/breast/0OE1/0OE1/lognorm/data_matched_reference_combo_rctd_class_aware_Level2.1_diffexpr.parquet\n",
      "File does not exist: /work/PRTNR/CHUV/DIR/rgottar1/spatial/env/xenium_paper/results/contamination_metrics_diffexpr_corrected_counts/10x_15um/breast/breast/19TB/19TB/lognorm/data_matched_reference_combo_rctd_class_aware_Level2.1_diffexpr.parquet\n",
      "File does not exist: /work/PRTNR/CHUV/DIR/rgottar1/spatial/env/xenium_paper/results/contamination_metrics_diffexpr_corrected_counts/10x_15um/breast/breast/1FO7/1FO7/lognorm/data_matched_reference_combo_rctd_class_aware_Level2.1_diffexpr.parquet\n",
      "File does not exist: /work/PRTNR/CHUV/DIR/rgottar1/spatial/env/xenium_paper/results/contamination_metrics_diffexpr_corrected_counts/10x_15um/NSCLC/lung/1GA2/1GA2/lognorm/data_matched_reference_combo_rctd_class_aware_Level2.1_diffexpr.parquet\n",
      "File does not exist: /work/PRTNR/CHUV/DIR/rgottar1/spatial/env/xenium_paper/results/contamination_metrics_diffexpr_corrected_counts/10x_15um/NSCLC/lung/0PSV/0PSV/lognorm/data_matched_reference_combo_rctd_class_aware_Level2.1_diffexpr.parquet\n",
      "File does not exist: /work/PRTNR/CHUV/DIR/rgottar1/spatial/env/xenium_paper/results/contamination_metrics_diffexpr_corrected_counts/10x_15um/NSCLC/lung/0S8R/0S8R/lognorm/data_matched_reference_combo_rctd_class_aware_Level2.1_diffexpr.parquet\n",
      "File does not exist: /work/PRTNR/CHUV/DIR/rgottar1/spatial/env/xenium_paper/results/contamination_metrics_diffexpr_corrected_counts/10x_15um/NSCLC/lung/1G73/1G73/lognorm/data_matched_reference_combo_rctd_class_aware_Level2.1_diffexpr.parquet\n",
      "File does not exist: /work/PRTNR/CHUV/DIR/rgottar1/spatial/env/xenium_paper/results/contamination_metrics_diffexpr_corrected_counts/10x_15um/NSCLC/lung/1GDD/1GDD/lognorm/data_matched_reference_combo_rctd_class_aware_Level2.1_diffexpr.parquet\n",
      "File does not exist: /work/PRTNR/CHUV/DIR/rgottar1/spatial/env/xenium_paper/results/contamination_metrics_diffexpr_corrected_counts/10x_15um/NSCLC/lung/1GFF/1GFF/lognorm/data_matched_reference_combo_rctd_class_aware_Level2.1_diffexpr.parquet\n",
      "File does not exist: /work/PRTNR/CHUV/DIR/rgottar1/spatial/env/xenium_paper/results/contamination_metrics_diffexpr_corrected_counts/10x_15um/NSCLC/lung/1GAC/1GAC/lognorm/data_matched_reference_combo_rctd_class_aware_Level2.1_diffexpr.parquet\n",
      "File does not exist: /work/PRTNR/CHUV/DIR/rgottar1/spatial/env/xenium_paper/results/contamination_metrics_diffexpr_corrected_counts/10x_15um/NSCLC/lung/0WMU/0WMU_1/lognorm/data_matched_reference_combo_rctd_class_aware_Level2.1_diffexpr.parquet\n",
      "File does not exist: /work/PRTNR/CHUV/DIR/rgottar1/spatial/env/xenium_paper/results/contamination_metrics_diffexpr_corrected_counts/10x_15um/breast/breast/0VRA/0VRA/lognorm/data_matched_reference_combo_rctd_class_aware_Level2.1_diffexpr.parquet\n",
      "File does not exist: /work/PRTNR/CHUV/DIR/rgottar1/spatial/env/xenium_paper/results/contamination_metrics_diffexpr_corrected_counts/10x_15um/NSCLC/lung/1GQ9/1GQ9/lognorm/data_matched_reference_combo_rctd_class_aware_Level2.1_diffexpr.parquet\n",
      "File does not exist: /work/PRTNR/CHUV/DIR/rgottar1/spatial/env/xenium_paper/results/contamination_metrics_diffexpr_corrected_counts/10x_15um/NSCLC/lung/0WMU/0WMU_2/lognorm/data_matched_reference_combo_rctd_class_aware_Level2.1_diffexpr.parquet\n",
      "File does not exist: /work/PRTNR/CHUV/DIR/rgottar1/spatial/env/xenium_paper/results/contamination_metrics_diffexpr_corrected_counts/10x_15um/NSCLC/chuvio/1GA2/1GA2/lognorm/data_matched_reference_combo_rctd_class_aware_Level2.1_diffexpr.parquet\n",
      "File does not exist: /work/PRTNR/CHUV/DIR/rgottar1/spatial/env/xenium_paper/results/contamination_metrics_diffexpr_corrected_counts/10x_15um/NSCLC/chuvio/0PSV/0PSV_1/lognorm/data_matched_reference_combo_rctd_class_aware_Level2.1_diffexpr.parquet\n",
      "File does not exist: /work/PRTNR/CHUV/DIR/rgottar1/spatial/env/xenium_paper/results/contamination_metrics_diffexpr_corrected_counts/10x_15um/NSCLC/chuvio/0PSV/0PSV_2/lognorm/data_matched_reference_combo_rctd_class_aware_Level2.1_diffexpr.parquet\n",
      "File does not exist: /work/PRTNR/CHUV/DIR/rgottar1/spatial/env/xenium_paper/results/contamination_metrics_diffexpr_corrected_counts/10x_15um/NSCLC/lung/1GVD/1GVD/lognorm/data_matched_reference_combo_rctd_class_aware_Level2.1_diffexpr.parquet\n",
      "File does not exist: /work/PRTNR/CHUV/DIR/rgottar1/spatial/env/xenium_paper/results/contamination_metrics_diffexpr_corrected_counts/10x_15um/NSCLC/chuvio/0WMU/0WMU/lognorm/data_matched_reference_combo_rctd_class_aware_Level2.1_diffexpr.parquet\n",
      "File does not exist: /work/PRTNR/CHUV/DIR/rgottar1/spatial/env/xenium_paper/results/contamination_metrics_diffexpr_corrected_counts/10x_15um/NSCLC/5k/0PSV/0PSV/lognorm/data_matched_reference_combo_rctd_class_aware_Level2.1_diffexpr.parquet\n",
      "File does not exist: /work/PRTNR/CHUV/DIR/rgottar1/spatial/env/xenium_paper/results/contamination_metrics_diffexpr_corrected_counts/10x_15um/NSCLC/5k/1G73/1G73/lognorm/data_matched_reference_combo_rctd_class_aware_Level2.1_diffexpr.parquet\n",
      "File does not exist: /work/PRTNR/CHUV/DIR/rgottar1/spatial/env/xenium_paper/results/contamination_metrics_diffexpr_corrected_counts/10x_15um/NSCLC/chuvio/1G73/1G73/lognorm/data_matched_reference_combo_rctd_class_aware_Level2.1_diffexpr.parquet\n",
      "File does not exist: /work/PRTNR/CHUV/DIR/rgottar1/spatial/env/xenium_paper/results/contamination_metrics_diffexpr_corrected_counts/10x_15um/NSCLC/5k/1GQ9/1GQ9/lognorm/data_matched_reference_combo_rctd_class_aware_Level2.1_diffexpr.parquet\n",
      "File does not exist: /work/PRTNR/CHUV/DIR/rgottar1/spatial/env/xenium_paper/results/contamination_metrics_diffexpr_corrected_counts/10x_15um/NSCLC/5k/1GAC/1GAC/lognorm/data_matched_reference_combo_rctd_class_aware_Level2.1_diffexpr.parquet\n",
      "File does not exist: /work/PRTNR/CHUV/DIR/rgottar1/spatial/env/xenium_paper/results/contamination_metrics_diffexpr_corrected_counts/10x_mm_5um/NSCLC/5k/0PSV/0PSV/lognorm/data_matched_reference_combo_rctd_class_aware_Level2.1_diffexpr.parquet\n",
      "File does not exist: /work/PRTNR/CHUV/DIR/rgottar1/spatial/env/xenium_paper/results/contamination_metrics_diffexpr_corrected_counts/10x_mm_5um/NSCLC/5k/1G73/1G73/lognorm/data_matched_reference_combo_rctd_class_aware_Level2.1_diffexpr.parquet\n",
      "File does not exist: /work/PRTNR/CHUV/DIR/rgottar1/spatial/env/xenium_paper/results/contamination_metrics_diffexpr_corrected_counts/10x_mm_5um/NSCLC/5k/1GDD/1GDD/lognorm/data_matched_reference_combo_rctd_class_aware_Level2.1_diffexpr.parquet\n",
      "File does not exist: /work/PRTNR/CHUV/DIR/rgottar1/spatial/env/xenium_paper/results/contamination_metrics_diffexpr_corrected_counts/10x_mm_5um/NSCLC/5k/1GAC/1GAC/lognorm/data_matched_reference_combo_rctd_class_aware_Level2.1_diffexpr.parquet\n",
      "File does not exist: /work/PRTNR/CHUV/DIR/rgottar1/spatial/env/xenium_paper/results/contamination_metrics_diffexpr_corrected_counts/10x_15um/NSCLC/5k/1GDD/1GDD/lognorm/data_matched_reference_combo_rctd_class_aware_Level2.1_diffexpr.parquet\n",
      "File does not exist: /work/PRTNR/CHUV/DIR/rgottar1/spatial/env/xenium_paper/results/contamination_metrics_diffexpr_corrected_counts/10x_mm_5um/NSCLC/5k/1GVD/1GVD/lognorm/data_matched_reference_combo_rctd_class_aware_Level2.1_diffexpr.parquet\n",
      "File does not exist: /work/PRTNR/CHUV/DIR/rgottar1/spatial/env/xenium_paper/results/contamination_metrics_diffexpr_corrected_counts/baysor/breast/breast/1FYB/1FYB/lognorm/data_matched_reference_combo_rctd_class_aware_Level2.1_diffexpr.parquet\n",
      "File does not exist: /work/PRTNR/CHUV/DIR/rgottar1/spatial/env/xenium_paper/results/contamination_metrics_diffexpr_corrected_counts/10x_15um/NSCLC/5k/1GVD/1GVD/lognorm/data_matched_reference_combo_rctd_class_aware_Level2.1_diffexpr.parquet\n",
      "File does not exist: /work/PRTNR/CHUV/DIR/rgottar1/spatial/env/xenium_paper/results/contamination_metrics_diffexpr_corrected_counts/baysor/breast/breast/OPHI/OPHI_1/lognorm/data_matched_reference_combo_rctd_class_aware_Level2.1_diffexpr.parquet\n",
      "File does not exist: /work/PRTNR/CHUV/DIR/rgottar1/spatial/env/xenium_paper/results/contamination_metrics_diffexpr_corrected_counts/baysor/breast/breast/OPHI/OPHI_2/lognorm/data_matched_reference_combo_rctd_class_aware_Level2.1_diffexpr.parquet\n",
      "File does not exist: /work/PRTNR/CHUV/DIR/rgottar1/spatial/env/xenium_paper/results/contamination_metrics_diffexpr_corrected_counts/baysor/breast/breast/1BCA/1BCA/lognorm/data_matched_reference_combo_rctd_class_aware_Level2.1_diffexpr.parquet\n",
      "File does not exist: /work/PRTNR/CHUV/DIR/rgottar1/spatial/env/xenium_paper/results/contamination_metrics_diffexpr_corrected_counts/baysor/breast/breast/0PD6/0PD6/lognorm/data_matched_reference_combo_rctd_class_aware_Level2.1_diffexpr.parquet\n",
      "File does not exist: /work/PRTNR/CHUV/DIR/rgottar1/spatial/env/xenium_paper/results/contamination_metrics_diffexpr_corrected_counts/baysor/breast/breast/1256/1256/lognorm/data_matched_reference_combo_rctd_class_aware_Level2.1_diffexpr.parquet\n",
      "File does not exist: /work/PRTNR/CHUV/DIR/rgottar1/spatial/env/xenium_paper/results/contamination_metrics_diffexpr_corrected_counts/10x_mm_5um/NSCLC/5k/1GQ9/1GQ9/lognorm/data_matched_reference_combo_rctd_class_aware_Level2.1_diffexpr.parquet\n",
      "File does not exist: /work/PRTNR/CHUV/DIR/rgottar1/spatial/env/xenium_paper/results/contamination_metrics_diffexpr_corrected_counts/baysor/breast/breast/1GVR/1GVR/lognorm/data_matched_reference_combo_rctd_class_aware_Level2.1_diffexpr.parquet\n",
      "File does not exist: /work/PRTNR/CHUV/DIR/rgottar1/spatial/env/xenium_paper/results/contamination_metrics_diffexpr_corrected_counts/baysor/breast/breast/1FHZ/1FHZ/lognorm/data_matched_reference_combo_rctd_class_aware_Level2.1_diffexpr.parquet\n",
      "File does not exist: /work/PRTNR/CHUV/DIR/rgottar1/spatial/env/xenium_paper/results/contamination_metrics_diffexpr_corrected_counts/baysor/breast/breast/0U9A/0U9A/lognorm/data_matched_reference_combo_rctd_class_aware_Level2.1_diffexpr.parquet\n",
      "File does not exist: /work/PRTNR/CHUV/DIR/rgottar1/spatial/env/xenium_paper/results/contamination_metrics_diffexpr_corrected_counts/baysor/breast/breast/1GV1/1GV1/lognorm/data_matched_reference_combo_rctd_class_aware_Level2.1_diffexpr.parquet\n",
      "File does not exist: /work/PRTNR/CHUV/DIR/rgottar1/spatial/env/xenium_paper/results/contamination_metrics_diffexpr_corrected_counts/baysor/breast/breast/0VRA/0VRA/lognorm/data_matched_reference_combo_rctd_class_aware_Level2.1_diffexpr.parquet\n",
      "File does not exist: /work/PRTNR/CHUV/DIR/rgottar1/spatial/env/xenium_paper/results/contamination_metrics_diffexpr_corrected_counts/baysor/breast/breast/1ESQ/1ESQ/lognorm/data_matched_reference_combo_rctd_class_aware_Level2.1_diffexpr.parquet\n",
      "File does not exist: /work/PRTNR/CHUV/DIR/rgottar1/spatial/env/xenium_paper/results/contamination_metrics_diffexpr_corrected_counts/baysor/breast/breast/OPHI/OPHI_3/lognorm/data_matched_reference_combo_rctd_class_aware_Level2.1_diffexpr.parquet\n",
      "File does not exist: /work/PRTNR/CHUV/DIR/rgottar1/spatial/env/xenium_paper/results/contamination_metrics_diffexpr_corrected_counts/baysor/breast/breast/14LZ/14LZ/lognorm/data_matched_reference_combo_rctd_class_aware_Level2.1_diffexpr.parquet\n",
      "File does not exist: /work/PRTNR/CHUV/DIR/rgottar1/spatial/env/xenium_paper/results/contamination_metrics_diffexpr_corrected_counts/baysor/breast/breast/19TB/19TB/lognorm/data_matched_reference_combo_rctd_class_aware_Level2.1_diffexpr.parquet\n",
      "File does not exist: /work/PRTNR/CHUV/DIR/rgottar1/spatial/env/xenium_paper/results/contamination_metrics_diffexpr_corrected_counts/baysor/breast/breast/0OE1/0OE1/lognorm/data_matched_reference_combo_rctd_class_aware_Level2.1_diffexpr.parquet\n",
      "File does not exist: /work/PRTNR/CHUV/DIR/rgottar1/spatial/env/xenium_paper/results/contamination_metrics_diffexpr_corrected_counts/baysor/breast/breast/1H27/1H27/lognorm/data_matched_reference_combo_rctd_class_aware_Level2.1_diffexpr.parquet\n",
      "File does not exist: /work/PRTNR/CHUV/DIR/rgottar1/spatial/env/xenium_paper/results/contamination_metrics_diffexpr_corrected_counts/baysor/NSCLC/lung/0PSV/0PSV/lognorm/data_matched_reference_combo_rctd_class_aware_Level2.1_diffexpr.parquet\n",
      "File does not exist: /work/PRTNR/CHUV/DIR/rgottar1/spatial/env/xenium_paper/results/contamination_metrics_diffexpr_corrected_counts/baysor/breast/breast/1GUC/1GUC/lognorm/data_matched_reference_combo_rctd_class_aware_Level2.1_diffexpr.parquet\n",
      "File does not exist: /work/PRTNR/CHUV/DIR/rgottar1/spatial/env/xenium_paper/results/contamination_metrics_diffexpr_corrected_counts/baysor/NSCLC/lung/0S8R/0S8R/lognorm/data_matched_reference_combo_rctd_class_aware_Level2.1_diffexpr.parquet\n",
      "File does not exist: /work/PRTNR/CHUV/DIR/rgottar1/spatial/env/xenium_paper/results/contamination_metrics_diffexpr_corrected_counts/baysor/NSCLC/lung/1GA2/1GA2/lognorm/data_matched_reference_combo_rctd_class_aware_Level2.1_diffexpr.parquet\n",
      "File does not exist: /work/PRTNR/CHUV/DIR/rgottar1/spatial/env/xenium_paper/results/contamination_metrics_diffexpr_corrected_counts/baysor/breast/breast/1FO7/1FO7/lognorm/data_matched_reference_combo_rctd_class_aware_Level2.1_diffexpr.parquet\n",
      "File does not exist: /work/PRTNR/CHUV/DIR/rgottar1/spatial/env/xenium_paper/results/contamination_metrics_diffexpr_corrected_counts/baysor/NSCLC/lung/1G73/1G73/lognorm/data_matched_reference_combo_rctd_class_aware_Level2.1_diffexpr.parquet\n",
      "File does not exist: /work/PRTNR/CHUV/DIR/rgottar1/spatial/env/xenium_paper/results/contamination_metrics_diffexpr_corrected_counts/baysor/NSCLC/lung/0WMU/0WMU_2/lognorm/data_matched_reference_combo_rctd_class_aware_Level2.1_diffexpr.parquet\n",
      "File does not exist: /work/PRTNR/CHUV/DIR/rgottar1/spatial/env/xenium_paper/results/contamination_metrics_diffexpr_corrected_counts/baysor/NSCLC/lung/1GDD/1GDD/lognorm/data_matched_reference_combo_rctd_class_aware_Level2.1_diffexpr.parquet\n",
      "File does not exist: /work/PRTNR/CHUV/DIR/rgottar1/spatial/env/xenium_paper/results/contamination_metrics_diffexpr_corrected_counts/baysor/NSCLC/lung/1GVD/1GVD/lognorm/data_matched_reference_combo_rctd_class_aware_Level2.1_diffexpr.parquet\n",
      "File does not exist: /work/PRTNR/CHUV/DIR/rgottar1/spatial/env/xenium_paper/results/contamination_metrics_diffexpr_corrected_counts/baysor/NSCLC/lung/1GFF/1GFF/lognorm/data_matched_reference_combo_rctd_class_aware_Level2.1_diffexpr.parquet\n",
      "File does not exist: /work/PRTNR/CHUV/DIR/rgottar1/spatial/env/xenium_paper/results/contamination_metrics_diffexpr_corrected_counts/baysor/NSCLC/lung/0WMU/0WMU_1/lognorm/data_matched_reference_combo_rctd_class_aware_Level2.1_diffexpr.parquet\n",
      "File does not exist: /work/PRTNR/CHUV/DIR/rgottar1/spatial/env/xenium_paper/results/contamination_metrics_diffexpr_corrected_counts/baysor/NSCLC/chuvio/0PSV/0PSV_2/lognorm/data_matched_reference_combo_rctd_class_aware_Level2.1_diffexpr.parquet\n",
      "File does not exist: /work/PRTNR/CHUV/DIR/rgottar1/spatial/env/xenium_paper/results/contamination_metrics_diffexpr_corrected_counts/baysor/NSCLC/chuvio/1GA2/1GA2/lognorm/data_matched_reference_combo_rctd_class_aware_Level2.1_diffexpr.parquet\n",
      "File does not exist: /work/PRTNR/CHUV/DIR/rgottar1/spatial/env/xenium_paper/results/contamination_metrics_diffexpr_corrected_counts/baysor/NSCLC/chuvio/0PSV/0PSV_1/lognorm/data_matched_reference_combo_rctd_class_aware_Level2.1_diffexpr.parquet\n",
      "File does not exist: /work/PRTNR/CHUV/DIR/rgottar1/spatial/env/xenium_paper/results/contamination_metrics_diffexpr_corrected_counts/baysor/NSCLC/lung/1GAC/1GAC/lognorm/data_matched_reference_combo_rctd_class_aware_Level2.1_diffexpr.parquet\n",
      "File does not exist:File does not exist: /work/PRTNR/CHUV/DIR/rgottar1/spatial/env/xenium_paper/results/contamination_metrics_diffexpr_corrected_counts/baysor/NSCLC/5k/1GDD/1GDD/lognorm/data_matched_reference_combo_rctd_class_aware_Level2.1_diffexpr.parquet\n",
      "File does not exist: /work/PRTNR/CHUV/DIR/rgottar1/spatial/env/xenium_paper/results/contamination_metrics_diffexpr_corrected_counts/baysor/NSCLC/5k/1GAC/1GAC/lognorm/data_matched_reference_combo_rctd_class_aware_Level2.1_diffexpr.parquet\n",
      "File does not exist: /work/PRTNR/CHUV/DIR/rgottar1/spatial/env/xenium_paper/results/contamination_metrics_diffexpr_corrected_counts/baysor/NSCLC/chuvio/0WMU/0WMU/lognorm/data_matched_reference_combo_rctd_class_aware_Level2.1_diffexpr.parquet\n",
      "File does not exist: /work/PRTNR/CHUV/DIR/rgottar1/spatial/env/xenium_paper/results/contamination_metrics_diffexpr_corrected_counts/baysor/NSCLC/5k/1GVD/1GVD/lognorm/data_matched_reference_combo_rctd_class_aware_Level2.1_diffexpr.parquet\n",
      "File does not exist: /work/PRTNR/CHUV/DIR/rgottar1/spatial/env/xenium_paper/results/contamination_metrics_diffexpr_corrected_counts/baysor/NSCLC/5k/1GQ9/1GQ9/lognorm/data_matched_reference_combo_rctd_class_aware_Level2.1_diffexpr.parquet\n",
      "File does not exist: /work/PRTNR/CHUV/DIR/rgottar1/spatial/env/xenium_paper/results/contamination_metrics_diffexpr_corrected_counts/10x_0um/breast/breast/OPHI/OPHI_1/lognorm/data_matched_reference_combo_rctd_class_aware_Level2.1_diffexpr.parquet\n",
      "File does not exist: /work/PRTNR/CHUV/DIR/rgottar1/spatial/env/xenium_paper/results/contamination_metrics_diffexpr_corrected_counts/baysor/NSCLC/chuvio/1G73/1G73/lognorm/data_matched_reference_combo_rctd_class_aware_Level2.1_diffexpr.parquet\n",
      "File does not exist: /work/PRTNR/CHUV/DIR/rgottar1/spatial/env/xenium_paper/results/contamination_metrics_diffexpr_corrected_counts/10x_0um/breast/breast/0PD6/0PD6/lognorm/data_matched_reference_combo_rctd_class_aware_Level2.1_diffexpr.parquet\n",
      "File does not exist: /work/PRTNR/CHUV/DIR/rgottar1/spatial/env/xenium_paper/results/contamination_metrics_diffexpr_corrected_counts/10x_0um/breast/breast/1256/1256/lognorm/data_matched_reference_combo_rctd_class_aware_Level2.1_diffexpr.parquet\n",
      "File does not exist: /work/PRTNR/CHUV/DIR/rgottar1/spatial/env/xenium_paper/results/contamination_metrics_diffexpr_corrected_counts/10x_0um/breast/breast/1GV1/1GV1/lognorm/data_matched_reference_combo_rctd_class_aware_Level2.1_diffexpr.parquet\n",
      "File does not exist: /work/PRTNR/CHUV/DIR/rgottar1/spatial/env/xenium_paper/results/contamination_metrics_diffexpr_corrected_counts/10x_0um/breast/breast/1GVR/1GVR/lognorm/data_matched_reference_combo_rctd_class_aware_Level2.1_diffexpr.parquet\n",
      "File does not exist: /work/PRTNR/CHUV/DIR/rgottar1/spatial/env/xenium_paper/results/contamination_metrics_diffexpr_corrected_counts/10x_0um/breast/breast/1FHZ/1FHZ/lognorm/data_matched_reference_combo_rctd_class_aware_Level2.1_diffexpr.parquet\n",
      "File does not exist: /work/PRTNR/CHUV/DIR/rgottar1/spatial/env/xenium_paper/results/contamination_metrics_diffexpr_corrected_counts/10x_0um/breast/breast/OPHI/OPHI_3/lognorm/data_matched_reference_combo_rctd_class_aware_Level2.1_diffexpr.parquet\n",
      " /work/PRTNR/CHUV/DIR/rgottar1/spatial/env/xenium_paper/results/contamination_metrics_diffexpr_corrected_counts/baysor/NSCLC/5k/0PSV/0PSV/lognorm/data_matched_reference_combo_rctd_class_aware_Level2.1_diffexpr.parquet\n",
      "File does not exist: /work/PRTNR/CHUV/DIR/rgottar1/spatial/env/xenium_paper/results/contamination_metrics_diffexpr_corrected_counts/10x_0um/breast/breast/OPHI/OPHI_2/lognorm/data_matched_reference_combo_rctd_class_aware_Level2.1_diffexpr.parquet\n",
      "File does not exist: /work/PRTNR/CHUV/DIR/rgottar1/spatial/env/xenium_paper/results/contamination_metrics_diffexpr_corrected_counts/10x_0um/breast/breast/1FYB/1FYB/lognorm/data_matched_reference_combo_rctd_class_aware_Level2.1_diffexpr.parquet\n",
      "File does not exist: /work/PRTNR/CHUV/DIR/rgottar1/spatial/env/xenium_paper/results/contamination_metrics_diffexpr_corrected_counts/10x_0um/breast/breast/1BCA/1BCA/lognorm/data_matched_reference_combo_rctd_class_aware_Level2.1_diffexpr.parquet\n",
      "File does not exist: /work/PRTNR/CHUV/DIR/rgottar1/spatial/env/xenium_paper/results/contamination_metrics_diffexpr_corrected_counts/10x_0um/breast/breast/1GUC/1GUC/lognorm/data_matched_reference_combo_rctd_class_aware_Level2.1_diffexpr.parquet\n",
      "File does not exist: /work/PRTNR/CHUV/DIR/rgottar1/spatial/env/xenium_paper/results/contamination_metrics_diffexpr_corrected_counts/10x_0um/breast/breast/0OE1/0OE1/lognorm/data_matched_reference_combo_rctd_class_aware_Level2.1_diffexpr.parquet\n",
      "File does not exist: /work/PRTNR/CHUV/DIR/rgottar1/spatial/env/xenium_paper/results/contamination_metrics_diffexpr_corrected_counts/10x_0um/breast/breast/19TB/19TB/lognorm/data_matched_reference_combo_rctd_class_aware_Level2.1_diffexpr.parquet\n",
      "File does not exist: /work/PRTNR/CHUV/DIR/rgottar1/spatial/env/xenium_paper/results/contamination_metrics_diffexpr_corrected_counts/10x_0um/breast/breast/1FO7/1FO7/lognorm/data_matched_reference_combo_rctd_class_aware_Level2.1_diffexpr.parquet\n",
      "File does not exist: /work/PRTNR/CHUV/DIR/rgottar1/spatial/env/xenium_paper/results/contamination_metrics_diffexpr_corrected_counts/10x_0um/NSCLC/lung/1GA2/1GA2/lognorm/data_matched_reference_combo_rctd_class_aware_Level2.1_diffexpr.parquet\n",
      "File does not exist: /work/PRTNR/CHUV/DIR/rgottar1/spatial/env/xenium_paper/results/contamination_metrics_diffexpr_corrected_counts/10x_0um/NSCLC/lung/0S8R/0S8R/lognorm/data_matched_reference_combo_rctd_class_aware_Level2.1_diffexpr.parquet\n",
      "File does not exist: /work/PRTNR/CHUV/DIR/rgottar1/spatial/env/xenium_paper/results/contamination_metrics_diffexpr_corrected_counts/10x_0um/NSCLC/lung/1G73/1G73/lognorm/data_matched_reference_combo_rctd_class_aware_Level2.1_diffexpr.parquet\n",
      "File does not exist: /work/PRTNR/CHUV/DIR/rgottar1/spatial/env/xenium_paper/results/contamination_metrics_diffexpr_corrected_counts/10x_0um/breast/breast/1ESQ/1ESQ/lognorm/data_matched_reference_combo_rctd_class_aware_Level2.1_diffexpr.parquet\n",
      "File does not exist: /work/PRTNR/CHUV/DIR/rgottar1/spatial/env/xenium_paper/results/contamination_metrics_diffexpr_corrected_counts/10x_0um/NSCLC/lung/1GAC/1GAC/lognorm/data_matched_reference_combo_rctd_class_aware_Level2.1_diffexpr.parquet\n",
      "File does not exist: /work/PRTNR/CHUV/DIR/rgottar1/spatial/env/xenium_paper/results/contamination_metrics_diffexpr_corrected_counts/10x_0um/NSCLC/lung/0WMU/0WMU_1/lognorm/data_matched_reference_combo_rctd_class_aware_Level2.1_diffexpr.parquet\n",
      "File does not exist: /work/PRTNR/CHUV/DIR/rgottar1/spatial/env/xenium_paper/results/contamination_metrics_diffexpr_corrected_counts/10x_0um/NSCLC/lung/0PSV/0PSV/lognorm/data_matched_reference_combo_rctd_class_aware_Level2.1_diffexpr.parquet\n",
      "File does not exist: /work/PRTNR/CHUV/DIR/rgottar1/spatial/env/xenium_paper/results/contamination_metrics_diffexpr_corrected_counts/10x_0um/NSCLC/lung/1GQ9/1GQ9/lognorm/data_matched_reference_combo_rctd_class_aware_Level2.1_diffexpr.parquet\n",
      "File does not exist: /work/PRTNR/CHUV/DIR/rgottar1/spatial/env/xenium_paper/results/contamination_metrics_diffexpr_corrected_counts/10x_0um/NSCLC/lung/1GFF/1GFF/lognorm/data_matched_reference_combo_rctd_class_aware_Level2.1_diffexpr.parquet\n",
      "File does not exist: /work/PRTNR/CHUV/DIR/rgottar1/spatial/env/xenium_paper/results/contamination_metrics_diffexpr_corrected_counts/10x_0um/NSCLC/chuvio/1GA2/1GA2/lognorm/data_matched_reference_combo_rctd_class_aware_Level2.1_diffexpr.parquet\n",
      "File does not exist: /work/PRTNR/CHUV/DIR/rgottar1/spatial/env/xenium_paper/results/contamination_metrics_diffexpr_corrected_counts/10x_0um/NSCLC/chuvio/0PSV/0PSV_1/lognorm/data_matched_reference_combo_rctd_class_aware_Level2.1_diffexpr.parquet\n",
      "File does not exist: /work/PRTNR/CHUV/DIR/rgottar1/spatial/env/xenium_paper/results/contamination_metrics_diffexpr_corrected_counts/10x_0um/NSCLC/lung/0WMU/0WMU_2/lognorm/data_matched_reference_combo_rctd_class_aware_Level2.1_diffexpr.parquet\n",
      "File does not exist: /work/PRTNR/CHUV/DIR/rgottar1/spatial/env/xenium_paper/results/contamination_metrics_diffexpr_corrected_counts/10x_0um/NSCLC/chuvio/1G73/1G73/lognorm/data_matched_reference_combo_rctd_class_aware_Level2.1_diffexpr.parquet\n",
      "File does not exist: /work/PRTNR/CHUV/DIR/rgottar1/spatial/env/xenium_paper/results/contamination_metrics_diffexpr_corrected_counts/10x_0um/NSCLC/chuvio/0WMU/0WMU/lognorm/data_matched_reference_combo_rctd_class_aware_Level2.1_diffexpr.parquet\n",
      "File does not exist: /work/PRTNR/CHUV/DIR/rgottar1/spatial/env/xenium_paper/results/contamination_metrics_diffexpr_corrected_counts/10x_0um/NSCLC/5k/0PSV/0PSV/lognorm/data_matched_reference_combo_rctd_class_aware_Level2.1_diffexpr.parquet\n",
      "File does not exist: /work/PRTNR/CHUV/DIR/rgottar1/spatial/env/xenium_paper/results/contamination_metrics_diffexpr_corrected_counts/10x_0um/NSCLC/5k/1G73/1G73/lognorm/data_matched_reference_combo_rctd_class_aware_Level2.1_diffexpr.parquet\n",
      "File does not exist: /work/PRTNR/CHUV/DIR/rgottar1/spatial/env/xenium_paper/results/contamination_metrics_diffexpr_corrected_counts/10x_0um/NSCLC/5k/1GDD/1GDD/lognorm/data_matched_reference_combo_rctd_class_aware_Level2.1_diffexpr.parquet\n",
      "File does not exist: /work/PRTNR/CHUV/DIR/rgottar1/spatial/env/xenium_paper/results/contamination_metrics_diffexpr_corrected_counts/10x_0um/NSCLC/5k/1GAC/1GAC/lognorm/data_matched_reference_combo_rctd_class_aware_Level2.1_diffexpr.parquet\n",
      "File does not exist: /work/PRTNR/CHUV/DIR/rgottar1/spatial/env/xenium_paper/results/contamination_metrics_diffexpr_corrected_counts/10x_0um/NSCLC/lung/1GDD/1GDD/lognorm/data_matched_reference_combo_rctd_class_aware_Level2.1_diffexpr.parquet\n",
      "File does not exist: /work/PRTNR/CHUV/DIR/rgottar1/spatial/env/xenium_paper/results/contamination_metrics_diffexpr_corrected_counts/10x_0um/NSCLC/5k/1GVD/1GVD/lognorm/data_matched_reference_combo_rctd_class_aware_Level2.1_diffexpr.parquet\n",
      "File does not exist: /work/PRTNR/CHUV/DIR/rgottar1/spatial/env/xenium_paper/results/contamination_metrics_diffexpr_corrected_counts/10x_0um/breast/breast/14LZ/14LZ/lognorm/data_matched_reference_combo_rctd_class_aware_Level2.1_diffexpr.parquet\n",
      "File does not exist: /work/PRTNR/CHUV/DIR/rgottar1/spatial/env/xenium_paper/results/contamination_metrics_diffexpr_corrected_counts/10x_0um/NSCLC/lung/1GVD/1GVD/lognorm/data_matched_reference_combo_rctd_class_aware_Level2.1_diffexpr.parquet\n",
      "File does not exist: /work/PRTNR/CHUV/DIR/rgottar1/spatial/env/xenium_paper/results/contamination_metrics_diffexpr_corrected_counts/10x_0um/breast/breast/0VRA/0VRA/lognorm/data_matched_reference_combo_rctd_class_aware_Level2.1_diffexpr.parquet\n",
      "File does not exist: /work/PRTNR/CHUV/DIR/rgottar1/spatial/env/xenium_paper/results/contamination_metrics_diffexpr_corrected_counts/10x_0um/NSCLC/chuvio/0PSV/0PSV_2/lognorm/data_matched_reference_combo_rctd_class_aware_Level2.1_diffexpr.parquet\n",
      "File does not exist: /work/PRTNR/CHUV/DIR/rgottar1/spatial/env/xenium_paper/results/contamination_metrics_diffexpr_corrected_counts/10x_0um/NSCLC/5k/1GQ9/1GQ9/lognorm/data_matched_reference_combo_rctd_class_aware_Level2.1_diffexpr.parquet\n",
      "File does not exist: /work/PRTNR/CHUV/DIR/rgottar1/spatial/env/xenium_paper/results/contamination_metrics_diffexpr_corrected_counts/10x_0um/breast/breast/0U9A/0U9A/lognorm/data_matched_reference_combo_rctd_class_aware_Level2.1_diffexpr.parquet\n",
      "resolvi ('proseg_expected', 'breast', 'breast', 'OPHI', 'OPHI_2')\n",
      "File does not exist: /work/PRTNR/CHUV/DIR/rgottar1/spatial/env/xenium_paper/results/contamination_metrics_diffexpr_corrected_counts/10x_0um/breast/breast/1H27/1H27/lognorm/data_matched_reference_combo_rctd_class_aware_Level2.1_diffexpr.parquet\n",
      "resolvi ('proseg_expected', 'breast', 'breast', '1256', '1256')\n",
      "File does not exist: /work/PRTNR/CHUV/DIR/rgottar1/spatial/env/xenium_paper/results/contamination_metrics_diffexpr_corrected_counts/baysor/NSCLC/lung/1GQ9/1GQ9/lognorm/data_matched_reference_combo_rctd_class_aware_Level2.1_diffexpr.parquet\n",
      "resolvi ('proseg_expected', 'breast', 'breast', '1FYB', '1FYB')\n",
      "resolvi ('proseg_expected', 'breast', 'breast', '1GV1', '1GV1')\n",
      "resolvi ('proseg_expected', 'breast', 'breast', '0U9A', '0U9A')\n",
      "resolvi ('proseg_expected', 'breast', 'breast', 'OPHI', 'OPHI_1')\n",
      "resolvi ('proseg_expected', 'breast', 'breast', 'OPHI', 'OPHI_3')\n",
      "resolvi ('proseg_expected', 'breast', 'breast', '0PD6', '0PD6')\n",
      "resolvi ('proseg_expected', 'breast', 'breast', '1GVR', '1GVR')\n",
      "resolvi ('proseg_expected', 'breast', 'breast', '1FHZ', '1FHZ')\n",
      "resolvi ('proseg_expected', 'breast', 'breast', '1BCA', '1BCA')\n",
      "resolvi ('proseg_expected', 'breast', 'breast', '14LZ', '14LZ')\n",
      "resolvi ('proseg_expected', 'breast', 'breast', '0VRA', '0VRA')\n",
      "resolvi ('proseg_expected', 'breast', 'breast', '1ESQ', '1ESQ')\n",
      "resolvi ('proseg_expected', 'breast', 'breast', '1H27', '1H27')\n",
      "resolvi ('proseg_expected', 'breast', 'breast', '1GUC', '1GUC')\n",
      "resolvi ('proseg_expected', 'breast', 'breast', '0OE1', '0OE1')\n",
      "resolvi ('proseg_expected', 'breast', 'breast', '19TB', '19TB')\n",
      "resolvi ('proseg_expected', 'breast', 'breast', '1FO7', '1FO7')\n",
      "resolvi ('proseg_expected', 'NSCLC', 'lung', '0S8R', '0S8R')\n",
      "resolvi ('proseg_expected', 'NSCLC', 'lung', '1GA2', '1GA2')\n",
      "resolvi ('proseg_expected', 'NSCLC', 'lung', '0PSV', '0PSV')\n",
      "resolvi ('proseg_expected', 'NSCLC', 'lung', '1G73', '1G73')\n",
      "resolvi ('proseg_expected', 'NSCLC', 'lung', '1GDD', '1GDD')\n",
      "resolvi ('proseg_expected', 'NSCLC', 'lung', '1GFF', '1GFF')\n",
      "resolvi ('proseg_expected', 'NSCLC', 'lung', '1GAC', '1GAC')\n",
      "resolvi ('proseg_expected', 'NSCLC', 'lung', '0WMU', '0WMU_1')\n",
      "resolvi ('proseg_expected', 'NSCLC', 'lung', '0WMU', '0WMU_2')\n",
      "resolvi ('proseg_expected', 'NSCLC', 'lung', '1GQ9', '1GQ9')\n",
      "resolvi ('proseg_expected', 'NSCLC', 'lung', '1GVD', '1GVD')\n",
      "resolvi ('proseg_expected', 'NSCLC', 'chuvio', '1GA2', '1GA2')\n",
      "resolvi ('proseg_expected', 'NSCLC', '5k', '0PSV', '0PSV')\n",
      "resolvi ('proseg_expected', 'NSCLC', 'chuvio', '0WMU', '0WMU')\n",
      "resolvi ('proseg_expected', 'NSCLC', 'chuvio', '0PSV', '0PSV_2')\n",
      "resolvi ('proseg_expected', 'NSCLC', 'chuvio', '1G73', '1G73')\n",
      "resolvi ('proseg_expected', 'NSCLC', 'chuvio', '0PSV', '0PSV_1')\n",
      "resolvi ('proseg_expected', 'NSCLC', '5k', '1G73', '1G73')\n",
      "resolvi ('proseg_expected', 'NSCLC', '5k', '1GDD', '1GDD')\n",
      "resolvi ('proseg_expected', 'NSCLC', '5k', '1GQ9', '1GQ9')\n",
      "resolvi ('proseg_expected', 'NSCLC', '5k', '1GAC', '1GAC')\n",
      "resolvi ('proseg_expected', 'NSCLC', '5k', '1GVD', '1GVD')\n",
      "resolvi ('segger', 'breast', 'breast', '1FYB', '1FYB')\n",
      "resolvi ('segger', 'breast', 'breast', 'OPHI', 'OPHI_3')\n",
      "resolvi ('segger', 'breast', 'breast', 'OPHI', 'OPHI_1')\n",
      "resolvi ('segger', 'breast', 'breast', 'OPHI', 'OPHI_2')\n",
      "resolvi ('segger', 'breast', 'breast', '1BCA', '1BCA')\n",
      "resolvi ('segger', 'breast', 'breast', '0PD6', '0PD6')\n",
      "resolvi ('segger', 'breast', 'breast', '1GV1', '1GV1')\n",
      "resolvi ('segger', 'breast', 'breast', '1256', '1256')\n",
      "resolvi ('segger', 'breast', 'breast', '1GVR', '1GVR')\n",
      "resolvi ('segger', 'breast', 'breast', '1FHZ', '1FHZ')\n",
      "resolvi ('segger', 'breast', 'breast', '0U9A', '0U9A')\n",
      "resolvi ('segger', 'breast', 'breast', '1ESQ', '1ESQ')\n",
      "resolvi ('segger', 'breast', 'breast', '0VRA', '0VRA')\n",
      "resolvi ('segger', 'breast', 'breast', '14LZ', '14LZ')\n",
      "resolvi ('segger', 'breast', 'breast', '1H27', '1H27')\n",
      "resolvi ('segger', 'breast', 'breast', '1GUC', '1GUC')\n",
      "resolvi ('segger', 'breast', 'breast', '0OE1', '0OE1')\n",
      "resolvi ('segger', 'breast', 'breast', '19TB', '19TB')\n",
      "resolvi ('segger', 'NSCLC', 'lung', '1GA2', '1GA2')\n",
      "resolvi ('segger', 'NSCLC', 'lung', '0PSV', '0PSV')\n",
      "resolvi ('segger', 'breast', 'breast', '1FO7', '1FO7')\n",
      "resolvi ('segger', 'NSCLC', 'lung', '0S8R', '0S8R')\n",
      "resolvi ('segger', 'NSCLC', 'lung', '1G73', '1G73')\n",
      "resolvi ('segger', 'NSCLC', 'lung', '1GDD', '1GDD')\n",
      "resolvi ('segger', 'NSCLC', 'lung', '1GFF', '1GFF')\n",
      "resolvi ('segger', 'NSCLC', 'lung', '1GAC', '1GAC')\n",
      "resolvi ('segger', 'NSCLC', 'lung', '0WMU', '0WMU_1')\n",
      "resolvi ('segger', 'NSCLC', 'lung', '1GQ9', '1GQ9')\n",
      "resolvi ('segger', 'NSCLC', 'lung', '0WMU', '0WMU_2')\n",
      "resolvi ('segger', 'NSCLC', 'lung', '1GVD', '1GVD')\n",
      "resolvi ('segger', 'NSCLC', 'chuvio', '1GA2', '1GA2')\n",
      "resolvi ('segger', 'NSCLC', 'chuvio', '1G73', '1G73')\n",
      "resolvi ('segger', 'NSCLC', 'chuvio', '0PSV', '0PSV_1')\n",
      "resolvi ('segger', 'NSCLC', 'chuvio', '0PSV', '0PSV_2')\n",
      "resolvi ('segger', 'NSCLC', 'chuvio', '0WMU', '0WMU')\n",
      "resolvi ('segger', 'NSCLC', '5k', '0PSV', '0PSV')\n",
      "resolvi ('segger', 'NSCLC', '5k', '1G73', '1G73')\n",
      "resolvi ('segger', 'NSCLC', '5k', '1GDD', '1GDD')\n",
      "resolvi ('segger', 'NSCLC', '5k', '1GAC', '1GAC')\n",
      "resolvi ('segger', 'NSCLC', '5k', '1GQ9', '1GQ9')\n",
      "resolvi ('segger', 'NSCLC', '5k', '1GVD', '1GVD')\n",
      "resolvi ('10x_5um', 'breast', 'breast', '1FYB', '1FYB')\n",
      "resolvi ('10x_5um', 'breast', 'breast', 'OPHI', 'OPHI_3')\n",
      "resolvi ('10x_5um', 'breast', 'breast', 'OPHI', 'OPHI_1')\n",
      "resolvi ('10x_5um', 'breast', 'breast', 'OPHI', 'OPHI_2')\n",
      "resolvi ('10x_5um', 'breast', 'breast', '1BCA', '1BCA')\n",
      "resolvi ('10x_5um', 'breast', 'breast', '0PD6', '0PD6')\n",
      "resolvi ('10x_5um', 'breast', 'breast', '1256', '1256')\n",
      "resolvi ('10x_5um', 'breast', 'breast', '1GV1', '1GV1')\n",
      "resolvi ('10x_5um', 'breast', 'breast', '1FHZ', '1FHZ')\n",
      "resolvi ('10x_5um', 'breast', 'breast', '0U9A', '0U9A')\n",
      "resolvi ('10x_5um', 'breast', 'breast', '1GVR', '1GVR')\n",
      "resolvi ('10x_5um', 'breast', 'breast', '1ESQ', '1ESQ')\n",
      "resolvi ('10x_5um', 'breast', 'breast', '0VRA', '0VRA')\n",
      "resolvi ('10x_5um', 'breast', 'breast', '14LZ', '14LZ')\n",
      "resolvi ('10x_5um', 'breast', 'breast', '1H27', '1H27')\n",
      "resolvi ('10x_5um', 'breast', 'breast', '1GUC', '1GUC')\n",
      "resolvi ('10x_5um', 'breast', 'breast', '19TB', '19TB')\n",
      "resolvi ('10x_5um', 'breast', 'breast', '1FO7', '1FO7')\n",
      "resolvi ('10x_5um', 'NSCLC', 'lung', '1GA2', '1GA2')\n",
      "resolvi ('10x_5um', 'breast', 'breast', '0OE1', '0OE1')\n",
      "resolvi ('10x_5um', 'NSCLC', 'lung', '0PSV', '0PSV')\n",
      "resolvi ('10x_5um', 'NSCLC', 'lung', '0S8R', '0S8R')\n",
      "resolvi ('10x_5um', 'NSCLC', 'lung', '1G73', '1G73')\n",
      "resolvi ('10x_5um', 'NSCLC', 'lung', '1GDD', '1GDD')\n",
      "resolvi ('10x_5um', 'NSCLC', 'lung', '1GAC', '1GAC')\n",
      "resolvi ('10x_5um', 'NSCLC', 'lung', '1GFF', '1GFF')\n",
      "resolvi ('10x_5um', 'NSCLC', 'lung', '0WMU', '0WMU_2')\n",
      "resolvi ('10x_5um', 'NSCLC', 'lung', '0WMU', '0WMU_1')\n",
      "resolvi ('10x_5um', 'NSCLC', 'chuvio', '1GA2', '1GA2')\n",
      "resolvi ('10x_5um', 'NSCLC', 'lung', '1GQ9', '1GQ9')\n",
      "resolvi ('10x_5um', 'NSCLC', 'lung', '1GVD', '1GVD')\n",
      "resolvi ('10x_5um', 'NSCLC', 'chuvio', '0PSV', '0PSV_1')\n",
      "resolvi ('10x_5um', 'NSCLC', 'chuvio', '1G73', '1G73')\n",
      "resolvi ('10x_5um', 'NSCLC', 'chuvio', '0PSV', '0PSV_2')\n",
      "resolvi ('10x_5um', 'NSCLC', '5k', '0PSV', '0PSV')\n",
      "resolvi ('10x_5um', 'NSCLC', 'chuvio', '0WMU', '0WMU')\n",
      "resolvi ('10x_5um', 'NSCLC', '5k', '1GDD', '1GDD')\n",
      "resolvi ('10x_5um', 'NSCLC', '5k', '1G73', '1G73')\n",
      "resolviresolvi ('10x_5um', 'NSCLC', '5k', '1GQ9', '1GQ9')\n",
      " ('10x_5um', 'NSCLC', '5k', '1GAC', '1GAC')\n",
      "resolvi ('10x_5um', 'NSCLC', '5k', '1GVD', '1GVD')\n",
      "resolvi ('10x_15um', 'breast', 'breast', '1FYB', '1FYB')\n",
      "resolvi ('10x_15um', 'breast', 'breast', 'OPHI', 'OPHI_1')\n",
      "resolvi ('10x_15um', 'breast', 'breast', 'OPHI', 'OPHI_3')\n",
      "resolvi ('10x_15um', 'breast', 'breast', '1BCA', '1BCA')\n",
      "resolvi ('10x_15um', 'breast', 'breast', 'OPHI', 'OPHI_2')\n",
      "resolvi ('10x_15um', 'breast', 'breast', '0PD6', '0PD6')\n",
      "resolvi ('10x_15um', 'breast', 'breast', '1GV1', '1GV1')\n",
      "resolvi ('10x_15um', 'breast', 'breast', '1256', '1256')\n",
      "resolvi ('10x_15um', 'breast', 'breast', '1GVR', '1GVR')\n",
      "resolvi ('10x_15um', 'breast', 'breast', '1FHZ', '1FHZ')\n",
      "resolvi ('10x_15um', 'breast', 'breast', '0U9A', '0U9A')\n",
      "resolvi ('10x_15um', 'breast', 'breast', '1ESQ', '1ESQ')\n",
      "resolvi ('10x_15um', 'breast', 'breast', '0VRA', '0VRA')\n",
      "resolvi ('10x_15um', 'breast', 'breast', '14LZ', '14LZ')\n",
      "resolvi ('10x_15um', 'breast', 'breast', '1H27', '1H27')\n",
      "resolvi ('10x_15um', 'breast', 'breast', '0OE1', '0OE1')\n",
      "resolvi ('10x_15um', 'breast', 'breast', '19TB', '19TB')\n",
      "resolvi ('10x_15um', 'breast', 'breast', '1GUC', '1GUC')\n",
      "resolvi ('10x_15um', 'NSCLC', 'lung', '1GA2', '1GA2')\n",
      "resolvi ('10x_15um', 'breast', 'breast', '1FO7', '1FO7')\n",
      "resolvi ('10x_15um', 'NSCLC', 'lung', '0S8R', '0S8R')\n",
      "resolvi ('10x_15um', 'NSCLC', 'lung', '0PSV', '0PSV')\n",
      "resolvi ('10x_15um', 'NSCLC', 'lung', '1G73', '1G73')\n",
      "resolvi ('10x_15um', 'NSCLC', 'lung', '1GDD', '1GDD')\n",
      "resolvi ('10x_15um', 'NSCLC', 'lung', '1GFF', '1GFF')\n",
      "resolvi ('10x_15um', 'NSCLC', 'lung', '1GAC', '1GAC')\n",
      "resolvi ('10x_15um', 'NSCLC', 'lung', '0WMU', '0WMU_1')\n",
      "resolvi ('10x_15um', 'NSCLC', 'lung', '0WMU', '0WMU_2')\n",
      "resolvi ('10x_15um', 'NSCLC', 'lung', '1GQ9', '1GQ9')\n",
      "resolvi ('10x_15um', 'NSCLC', 'lung', '1GVD', '1GVD')\n",
      "resolvi ('10x_15um', 'NSCLC', 'chuvio', '1GA2', '1GA2')\n",
      "resolvi ('10x_15um', 'NSCLC', 'chuvio', '0PSV', '0PSV_1')\n",
      "resolvi ('10x_15um', 'NSCLC', 'chuvio', '0PSV', '0PSV_2')\n",
      "resolvi ('10x_15um', 'NSCLC', 'chuvio', '1G73', '1G73')\n",
      "resolvi ('10x_15um', 'NSCLC', '5k', '0PSV', '0PSV')\n",
      "resolvi ('10x_15um', 'NSCLC', 'chuvio', '0WMU', '0WMU')\n",
      "resolvi ('10x_15um', 'NSCLC', '5k', '1G73', '1G73')\n",
      "resolvi ('10x_15um', 'NSCLC', '5k', '1GAC', '1GAC')\n",
      "resolvi ('10x_15um', 'NSCLC', '5k', '1GDD', '1GDD')\n",
      "resolvi ('10x_15um', 'NSCLC', '5k', '1GQ9', '1GQ9')\n",
      "resolvi ('10x_15um', 'NSCLC', '5k', '1GVD', '1GVD')\n",
      "resolvi ('10x_mm_5um', 'NSCLC', '5k', '1G73', '1G73')\n",
      "resolvi ('10x_mm_5um', 'NSCLC', '5k', '0PSV', '0PSV')\n",
      "resolvi ('10x_mm_5um', 'NSCLC', '5k', '1GDD', '1GDD')\n",
      "resolvi ('10x_mm_5um', 'NSCLC', '5k', '1GVD', '1GVD')\n",
      "resolvi ('baysor', 'breast', 'breast', '1FYB', '1FYB')\n",
      "resolvi ('10x_mm_5um', 'NSCLC', '5k', '1GQ9', '1GQ9')\n",
      "resolvi ('10x_mm_5um', 'NSCLC', '5k', '1GAC', '1GAC')\n",
      "resolvi ('baysor', 'breast', 'breast', 'OPHI', 'OPHI_1')\n",
      "resolvi ('baysor', 'breast', 'breast', 'OPHI', 'OPHI_3')\n",
      "resolvi ('baysor', 'breast', 'breast', '0PD6', '0PD6')\n",
      "resolvi ('baysor', 'breast', 'breast', '1BCA', '1BCA')\n",
      "resolvi ('baysor', 'breast', 'breast', 'OPHI', 'OPHI_2')\n",
      "resolvi ('baysor', 'breast', 'breast', '1256', '1256')\n",
      "resolvi ('baysor', 'breast', 'breast', '1GV1', '1GV1')\n",
      "resolvi ('baysor', 'breast', 'breast', '1GVR', '1GVR')\n",
      "resolvi ('baysor', 'breast', 'breast', '0U9A', '0U9A')\n",
      "resolvi ('baysor', 'breast', 'breast', '1FHZ', '1FHZ')\n",
      "resolvi ('baysor', 'breast', 'breast', '0VRA', '0VRA')\n",
      "resolvi ('baysor', 'breast', 'breast', '1ESQ', '1ESQ')\n",
      "resolvi ('baysor', 'breast', 'breast', '14LZ', '14LZ')\n",
      "resolvi ('baysor', 'breast', 'breast', '1H27', '1H27')\n",
      "resolvi ('baysor', 'breast', 'breast', '1GUC', '1GUC')\n",
      "resolvi ('baysor', 'breast', 'breast', '0OE1', '0OE1')\n",
      "resolvi ('baysor', 'breast', 'breast', '19TB', '19TB')\n",
      "resolvi ('baysor', 'NSCLC', 'lung', '1GA2', '1GA2')\n",
      "resolvi ('baysor', 'breast', 'breast', '1FO7', '1FO7')\n",
      "resolvi ('baysor', 'NSCLC', 'lung', '0PSV', '0PSV')\n",
      "resolvi ('baysor', 'NSCLC', 'lung', '1GDD', '1GDD')\n",
      "resolvi ('baysor', 'NSCLC', 'lung', '1G73', '1G73')\n",
      "resolvi ('baysor', 'NSCLC', 'lung', '0S8R', '0S8R')\n",
      "resolvi ('baysor', 'NSCLC', 'lung', '1GAC', '1GAC')\n",
      "resolvi ('baysor', 'NSCLC', 'lung', '1GFF', '1GFF')\n",
      "resolvi ('baysor', 'NSCLC', 'lung', '0WMU', '0WMU_1')\n",
      "resolvi ('baysor', 'NSCLC', 'lung', '1GQ9', '1GQ9')\n",
      "resolvi ('baysor', 'NSCLC', 'lung', '0WMU', '0WMU_2')\n",
      "resolvi ('baysor', 'NSCLC', 'chuvio', '1GA2', '1GA2')\n",
      "resolvi ('baysor', 'NSCLC', 'chuvio', '0PSV', '0PSV_1')\n",
      "resolvi ('baysor', 'NSCLC', 'lung', '1GVD', '1GVD')\n",
      "resolvi ('baysor', 'NSCLC', 'chuvio', '0PSV', '0PSV_2')\n",
      "resolvi ('baysor', 'NSCLC', 'chuvio', '1G73', '1G73')\n",
      "resolvi ('baysor', 'NSCLC', 'chuvio', '0WMU', '0WMU')\n",
      "resolvi ('baysor', 'NSCLC', '5k', '0PSV', '0PSV')\n",
      "resolvi ('baysor', 'NSCLC', '5k', '1GAC', '1GAC')\n",
      "resolvi ('baysor', 'NSCLC', '5k', '1GQ9', '1GQ9')\n",
      "resolvi ('baysor', 'NSCLC', '5k', '1GDD', '1GDD')\n",
      "resolvi ('baysor', 'NSCLC', '5k', '1GVD', '1GVD')\n",
      "resolvi ('10x_0um', 'breast', 'breast', '1FYB', '1FYB')\n",
      "resolvi ('10x_0um', 'breast', 'breast', 'OPHI', 'OPHI_3')\n",
      "resolvi ('10x_0um', 'breast', 'breast', 'OPHI', 'OPHI_1')\n",
      "resolvi ('10x_0um', 'breast', 'breast', 'OPHI', 'OPHI_2')\n",
      "resolvi ('10x_0um', 'breast', 'breast', '1BCA', '1BCA')\n",
      "resolvi ('10x_0um', 'breast', 'breast', '1GV1', '1GV1')\n",
      "resolvi ('10x_0um', 'breast', 'breast', '1ESQ', '1ESQ')\n",
      "resolvi ('10x_0um', 'breast', 'breast', '1FHZ', '1FHZ')\n",
      "resolvi ('10x_0um', 'breast', 'breast', '1256', '1256')\n",
      "resolvi ('10x_0um', 'breast', 'breast', '0PD6', '0PD6')\n",
      "resolvi ('10x_0um', 'breast', 'breast', '0U9A', '0U9A')\n",
      "resolvi ('10x_0um', 'breast', 'breast', '1H27', '1H27')\n",
      "resolvi ('10x_0um', 'breast', 'breast', '0OE1', '0OE1')\n",
      "resolvi ('10x_0um', 'breast', 'breast', '14LZ', '14LZ')\n",
      "resolvi ('10x_0um', 'breast', 'breast', '0VRA', '0VRA')\n",
      "resolvi ('10x_0um', 'breast', 'breast', '1GUC', '1GUC')\n",
      "resolvi ('10x_0um', 'breast', 'breast', '1GVR', '1GVR')\n",
      "resolvi ('10x_0um', 'breast', 'breast', '19TB', '19TB')\n",
      "resolvi ('10x_0um', 'breast', 'breast', '1FO7', '1FO7')\n",
      "resolvi ('10x_0um', 'NSCLC', 'lung', '1GA2', '1GA2')\n",
      "resolvi ('10x_0um', 'NSCLC', 'lung', '0S8R', '0S8R')\n",
      "resolvi ('10x_0um', 'NSCLC', 'lung', '0PSV', '0PSV')\n",
      "resolvi ('10x_0um', 'NSCLC', 'lung', '1G73', '1G73')\n",
      "resolvi ('10x_0um', 'NSCLC', 'lung', '1GDD', '1GDD')\n",
      "resolvi ('10x_0um', 'NSCLC', 'lung', '1GFF', '1GFF')\n",
      "resolvi ('10x_0um', 'NSCLC', 'lung', '0WMU', '0WMU_1')\n",
      "resolvi ('10x_0um', 'NSCLC', 'lung', '0WMU', '0WMU_2')\n",
      "resolvi ('10x_0um', 'NSCLC', 'lung', '1GAC', '1GAC')\n",
      "resolvi ('10x_0um', 'NSCLC', 'lung', '1GQ9', '1GQ9')\n",
      "resolvi ('10x_0um', 'NSCLC', 'lung', '1GVD', '1GVD')\n",
      "resolvi ('10x_0um', 'NSCLC', 'chuvio', '1GA2', '1GA2')\n",
      "resolvi ('10x_0um', 'NSCLC', 'chuvio', '0PSV', '0PSV_1')\n",
      "resolvi ('10x_0um', 'NSCLC', 'chuvio', '0PSV', '0PSV_2')\n",
      "resolvi ('10x_0um', 'NSCLC', 'chuvio', '1G73', '1G73')\n",
      "resolvi ('10x_0um', 'NSCLC', 'chuvio', '0WMU', '0WMU')\n",
      "resolvi ('10x_0um', 'NSCLC', '5k', '0PSV', '0PSV')\n",
      "resolvi ('10x_0um', 'NSCLC', '5k', '1G73', '1G73')\n",
      "resolvi ('10x_0um', 'NSCLC', '5k', '1GDD', '1GDD')\n",
      "resolvi ('10x_0um', 'NSCLC', '5k', '1GAC', '1GAC')\n",
      "resolvi ('10x_0um', 'NSCLC', '5k', '1GQ9', '1GQ9')\n",
      "resolvi ('10x_0um', 'NSCLC', '5k', '1GVD', '1GVD')\n",
      "resolvi_supervised ('proseg_expected', 'breast', 'breast', '1FYB', '1FYB')\n",
      "resolvi_supervised ('proseg_expected', 'breast', 'breast', 'OPHI', 'OPHI_3')\n",
      "resolvi_supervised ('proseg_expected', 'breast', 'breast', 'OPHI', 'OPHI_2')\n",
      "resolvi_supervised ('proseg_expected', 'breast', 'breast', 'OPHI', 'OPHI_1')\n",
      "resolvi_supervised ('proseg_expected', 'breast', 'breast', '1BCA', '1BCA')\n",
      "resolvi_supervised ('proseg_expected', 'breast', 'breast', '1256', '1256')\n",
      "resolvi_supervised ('proseg_expected', 'breast', 'breast', '0PD6', '0PD6')\n",
      "resolvi_supervised ('proseg_expected', 'breast', 'breast', '1ESQ', '1ESQ')\n",
      "resolvi_supervised ('proseg_expected', 'breast', 'breast', '1GVR', '1GVR')\n",
      "resolvi_supervised ('proseg_expected', 'breast', 'breast', '1FHZ', '1FHZ')\n",
      "resolvi_supervised ('proseg_expected', 'breast', 'breast', '1GV1', '1GV1')\n",
      "resolvi_supervised ('proseg_expected', 'breast', 'breast', '0U9A', '0U9A')\n",
      "resolvi_supervised ('proseg_expected', 'breast', 'breast', '1GUC', '1GUC')\n",
      "resolvi_supervised ('proseg_expected', 'breast', 'breast', '0VRA', '0VRA')\n",
      "resolvi_supervised ('proseg_expected', 'breast', 'breast', '1H27', '1H27')\n",
      "resolvi_supervised ('proseg_expected', 'breast', 'breast', '19TB', '19TB')\n",
      "resolvi_supervised ('proseg_expected', 'breast', 'breast', '0OE1', '0OE1')\n",
      "resolvi_supervised ('proseg_expected', 'breast', 'breast', '14LZ', '14LZ')\n",
      "resolvi_supervised ('proseg_expected', 'NSCLC', 'lung', '1GA2', '1GA2')\n",
      "resolvi_supervised ('proseg_expected', 'NSCLC', 'lung', '0PSV', '0PSV')\n",
      "resolvi_supervised ('proseg_expected', 'NSCLC', 'lung', '0S8R', '0S8R')\n",
      "resolvi_supervised ('proseg_expected', 'breast', 'breast', '1FO7', '1FO7')\n",
      "resolvi_supervised ('proseg_expected', 'NSCLC', 'lung', '1GDD', '1GDD')\n",
      "resolvi_supervised ('proseg_expected', 'NSCLC', 'lung', '1G73', '1G73')\n",
      "resolvi_supervised ('proseg_expected', 'NSCLC', 'lung', '1GFF', '1GFF')\n",
      "resolvi_supervised ('proseg_expected', 'NSCLC', 'lung', '1GAC', '1GAC')\n",
      "resolvi_supervised ('proseg_expected', 'NSCLC', 'lung', '0WMU', '0WMU_1')\n",
      "resolvi_supervised ('proseg_expected', 'NSCLC', 'lung', '0WMU', '0WMU_2')\n",
      "resolvi_supervised ('proseg_expected', 'NSCLC', 'lung', '1GQ9', '1GQ9')\n",
      "resolvi_supervised ('proseg_expected', 'NSCLC', 'lung', '1GVD', '1GVD')\n",
      "resolvi_supervised ('proseg_expected', 'NSCLC', 'chuvio', '0PSV', '0PSV_1')\n",
      "resolvi_supervised ('proseg_expected', 'NSCLC', 'chuvio', '1GA2', '1GA2')\n",
      "resolvi_supervised ('proseg_expected', 'NSCLC', 'chuvio', '0PSV', '0PSV_2')\n",
      "resolvi_supervised ('proseg_expected', 'NSCLC', 'chuvio', '1G73', '1G73')\n",
      "resolvi_supervised ('proseg_expected', 'NSCLC', 'chuvio', '0WMU', '0WMU')\n",
      "resolvi_supervised ('proseg_expected', 'NSCLC', '5k', '1G73', '1G73')\n",
      "resolvi_supervised ('proseg_expected', 'NSCLC', '5k', '0PSV', '0PSV')\n",
      "resolvi_supervised ('proseg_expected', 'NSCLC', '5k', '1GDD', '1GDD')\n",
      "resolvi_supervised ('proseg_expected', 'NSCLC', '5k', '1GAC', '1GAC')\n",
      "resolvi_supervised ('proseg_expected', 'NSCLC', '5k', '1GQ9', '1GQ9')\n",
      "resolvi_supervised ('proseg_expected', 'NSCLC', '5k', '1GVD', '1GVD')\n",
      "resolvi_supervised ('segger', 'breast', 'breast', 'OPHI', 'OPHI_3')\n",
      "resolvi_supervised ('segger', 'breast', 'breast', '1FYB', '1FYB')\n",
      "resolvi_supervised ('segger', 'breast', 'breast', 'OPHI', 'OPHI_1')\n",
      "resolvi_supervised ('segger', 'breast', 'breast', 'OPHI', 'OPHI_2')\n",
      "resolvi_supervised ('segger', 'breast', 'breast', '1BCA', '1BCA')\n",
      "resolvi_supervised ('segger', 'breast', 'breast', '1256', '1256')\n",
      "resolvi_supervised ('segger', 'breast', 'breast', '0PD6', '0PD6')\n",
      "resolvi_supervised ('segger', 'breast', 'breast', '1GVR', '1GVR')\n",
      "resolvi_supervised ('segger', 'breast', 'breast', '0U9A', '0U9A')\n",
      "resolvi_supervised ('segger', 'breast', 'breast', '1FHZ', '1FHZ')\n",
      "resolvi_supervised ('segger', 'breast', 'breast', '1GV1', '1GV1')\n",
      "resolvi_supervised ('segger', 'breast', 'breast', '1ESQ', '1ESQ')\n",
      "resolvi_supervised ('segger', 'breast', 'breast', '0VRA', '0VRA')\n",
      "resolvi_supervised ('segger', 'breast', 'breast', '14LZ', '14LZ')\n",
      "resolvi_supervised ('segger', 'breast', 'breast', '1H27', '1H27')\n",
      "resolvi_supervised ('segger', 'breast', 'breast', '1GUC', '1GUC')\n",
      "resolvi_supervised ('segger', 'breast', 'breast', '0OE1', '0OE1')\n",
      "resolvi_supervised ('segger', 'breast', 'breast', '19TB', '19TB')\n",
      "resolvi_supervised ('segger', 'breast', 'breast', '1FO7', '1FO7')\n",
      "resolvi_supervised ('segger', 'NSCLC', 'lung', '1GA2', '1GA2')\n",
      "resolvi_supervised ('segger', 'NSCLC', 'lung', '0PSV', '0PSV')\n",
      "resolvi_supervised ('segger', 'NSCLC', 'lung', '0S8R', '0S8R')\n",
      "resolvi_supervised ('segger', 'NSCLC', 'lung', '1G73', '1G73')\n",
      "resolvi_supervised ('segger', 'NSCLC', 'lung', '1GDD', '1GDD')\n",
      "resolvi_supervised ('segger', 'NSCLC', 'lung', '1GFF', '1GFF')\n",
      "resolvi_supervised ('segger', 'NSCLC', 'lung', '1GAC', '1GAC')\n",
      "resolvi_supervised ('segger', 'NSCLC', 'lung', '0WMU', '0WMU_1')\n",
      "resolvi_supervised ('segger', 'NSCLC', 'lung', '1GVD', '1GVD')\n",
      "resolvi_supervised ('segger', 'NSCLC', 'chuvio', '0PSV', '0PSV_1')\n",
      "resolvi_supervised ('segger', 'NSCLC', 'chuvio', '1GA2', '1GA2')\n",
      "resolvi_supervised ('segger', 'NSCLC', 'lung', '0WMU', '0WMU_2')\n",
      "resolvi_supervised ('segger', 'NSCLC', 'lung', '1GQ9', '1GQ9')\n",
      "resolvi_supervised ('segger', 'NSCLC', 'chuvio', '0PSV', '0PSV_2')\n",
      "resolvi_supervised ('segger', 'NSCLC', 'chuvio', '1G73', '1G73')\n",
      "resolvi_supervised ('segger', 'NSCLC', '5k', '1G73', '1G73')\n",
      "resolvi_supervised ('segger', 'NSCLC', 'chuvio', '0WMU', '0WMU')\n",
      "resolvi_supervised ('segger', 'NSCLC', '5k', '0PSV', '0PSV')\n",
      "resolvi_supervised ('segger', 'NSCLC', '5k', '1GQ9', '1GQ9')\n",
      "resolvi_supervised ('segger', 'NSCLC', '5k', '1GVD', '1GVD')\n",
      "resolvi_supervised ('segger', 'NSCLC', '5k', '1GAC', '1GAC')\n",
      "resolvi_supervised ('10x_5um', 'breast', 'breast', '1FYB', '1FYB')\n",
      "resolvi_supervised ('segger', 'NSCLC', '5k', '1GDD', '1GDD')\n",
      "resolvi_supervised ('10x_5um', 'breast', 'breast', 'OPHI', 'OPHI_1')\n",
      "resolvi_supervised ('10x_5um', 'breast', 'breast', 'OPHI', 'OPHI_3')\n",
      "resolvi_supervised ('10x_5um', 'breast', 'breast', 'OPHI', 'OPHI_2')\n",
      "resolvi_supervised ('10x_5um', 'breast', 'breast', '1BCA', '1BCA')\n",
      "resolvi_supervised ('10x_5um', 'breast', 'breast', '0PD6', '0PD6')\n",
      "resolvi_supervised ('10x_5um', 'breast', 'breast', '1256', '1256')\n",
      "resolvi_supervised ('10x_5um', 'breast', 'breast', '1GV1', '1GV1')\n",
      "resolvi_supervised ('10x_5um', 'breast', 'breast', '1GVR', '1GVR')\n",
      "resolvi_supervised ('10x_5um', 'breast', 'breast', '1FHZ', '1FHZ')\n",
      "resolvi_supervised ('10x_5um', 'breast', 'breast', '0U9A', '0U9A')\n",
      "resolvi_supervised ('10x_5um', 'breast', 'breast', '1ESQ', '1ESQ')\n",
      "resolvi_supervised ('10x_5um', 'breast', 'breast', '14LZ', '14LZ')\n",
      "resolvi_supervised ('10x_5um', 'breast', 'breast', '0VRA', '0VRA')\n",
      "resolvi_supervised ('10x_5um', 'breast', 'breast', '1H27', '1H27')\n",
      "resolvi_supervised ('10x_5um', 'breast', 'breast', '1GUC', '1GUC')\n",
      "resolvi_supervised ('10x_5um', 'breast', 'breast', '19TB', '19TB')\n",
      "resolvi_supervised ('10x_5um', 'breast', 'breast', '0OE1', '0OE1')\n",
      "resolvi_supervised ('10x_5um', 'breast', 'breast', '1FO7', '1FO7')\n",
      "resolvi_supervised ('10x_5um', 'NSCLC', 'lung', '1GA2', '1GA2')\n",
      "resolvi_supervised ('10x_5um', 'NSCLC', 'lung', '0PSV', '0PSV')\n",
      "resolvi_supervised ('10x_5um', 'NSCLC', 'lung', '0S8R', '0S8R')\n",
      "resolvi_supervised ('10x_5um', 'NSCLC', 'lung', '1G73', '1G73')\n",
      "resolvi_supervised ('10x_5um', 'NSCLC', 'lung', '1GDD', '1GDD')\n",
      "resolvi_supervised ('10x_5um', 'NSCLC', 'lung', '1GFF', '1GFF')\n",
      "resolvi_supervised ('10x_5um', 'NSCLC', 'lung', '0WMU', '0WMU_2')\n",
      "resolvi_supervised ('10x_5um', 'NSCLC', 'lung', '0WMU', '0WMU_1')\n",
      "resolvi_supervised ('10x_5um', 'NSCLC', 'lung', '1GAC', '1GAC')\n",
      "resolvi_supervised ('10x_5um', 'NSCLC', 'chuvio', '1GA2', '1GA2')\n",
      "resolvi_supervised ('10x_5um', 'NSCLC', 'lung', '1GVD', '1GVD')\n",
      "resolvi_supervised ('10x_5um', 'NSCLC', 'chuvio', '0PSV', '0PSV_2')\n",
      "resolvi_supervised ('10x_5um', 'NSCLC', 'chuvio', '0PSV', '0PSV_1')\n",
      "resolvi_supervised ('10x_5um', 'NSCLC', 'lung', '1GQ9', '1GQ9')\n",
      "resolvi_supervised ('10x_5um', 'NSCLC', 'chuvio', '0WMU', '0WMU')\n",
      "resolvi_supervised ('10x_5um', 'NSCLC', 'chuvio', '1G73', '1G73')\n",
      "resolvi_supervised ('10x_5um', 'NSCLC', '5k', '0PSV', '0PSV')\n",
      "resolvi_supervised ('10x_5um', 'NSCLC', '5k', '1G73', '1G73')\n",
      "resolvi_supervised ('10x_5um', 'NSCLC', '5k', '1GDD', '1GDD')\n",
      "resolvi_supervised ('10x_5um', 'NSCLC', '5k', '1GAC', '1GAC')\n",
      "resolvi_supervised ('10x_5um', 'NSCLC', '5k', '1GQ9', '1GQ9')\n",
      "resolvi_supervised ('10x_5um', 'NSCLC', '5k', '1GVD', '1GVD')\n",
      "resolvi_supervised ('10x_15um', 'breast', 'breast', '1FYB', '1FYB')\n",
      "resolvi_supervised ('10x_15um', 'breast', 'breast', '1BCA', '1BCA')\n",
      "resolvi_supervised ('10x_15um', 'breast', 'breast', '0PD6', '0PD6')\n",
      "resolvi_supervised ('10x_15um', 'breast', 'breast', 'OPHI', 'OPHI_3')\n",
      "resolvi_supervised ('10x_15um', 'breast', 'breast', 'OPHI', 'OPHI_1')\n",
      "resolvi_supervised ('10x_15um', 'breast', 'breast', 'OPHI', 'OPHI_2')\n",
      "resolvi_supervised ('10x_15um', 'breast', 'breast', '1256', '1256')\n",
      "resolvi_supervised ('10x_15um', 'breast', 'breast', '1FHZ', '1FHZ')\n",
      "resolvi_supervised ('10x_15um', 'breast', 'breast', '1GV1', '1GV1')\n",
      "resolvi_supervised ('10x_15um', 'breast', 'breast', '1GVR', '1GVR')\n",
      "resolvi_supervised ('10x_15um', 'breast', 'breast', '0U9A', '0U9A')\n",
      "resolvi_supervised ('10x_15um', 'breast', 'breast', '1ESQ', '1ESQ')\n",
      "resolvi_supervised ('10x_15um', 'breast', 'breast', '0VRA', '0VRA')\n",
      "resolvi_supervised ('10x_15um', 'breast', 'breast', '14LZ', '14LZ')\n",
      "resolvi_supervised ('10x_15um', 'breast', 'breast', '1GUC', '1GUC')\n",
      "resolvi_supervised ('10x_15um', 'breast', 'breast', '1H27', '1H27')\n",
      "resolvi_supervised ('10x_15um', 'breast', 'breast', '0OE1', '0OE1')\n",
      "resolvi_supervised ('10x_15um', 'breast', 'breast', '19TB', '19TB')\n",
      "resolvi_supervised ('10x_15um', 'NSCLC', 'lung', '0PSV', '0PSV')\n",
      "resolvi_supervised ('10x_15um', 'NSCLC', 'lung', '1GA2', '1GA2')\n",
      "resolvi_supervised ('10x_15um', 'breast', 'breast', '1FO7', '1FO7')\n",
      "resolvi_supervised ('10x_15um', 'NSCLC', 'lung', '0S8R', '0S8R')\n",
      "resolvi_supervised ('10x_15um', 'NSCLC', 'lung', '1G73', '1G73')\n",
      "resolvi_supervised ('10x_15um', 'NSCLC', 'lung', '1GDD', '1GDD')\n",
      "resolvi_supervised ('10x_15um', 'NSCLC', 'lung', '1GAC', '1GAC')\n",
      "resolvi_supervised ('10x_15um', 'NSCLC', 'lung', '1GFF', '1GFF')\n",
      "resolvi_supervised ('10x_15um', 'NSCLC', 'lung', '0WMU', '0WMU_1')\n",
      "resolvi_supervised ('10x_15um', 'NSCLC', 'lung', '0WMU', '0WMU_2')\n",
      "resolvi_supervised ('10x_15um', 'NSCLC', 'lung', '1GQ9', '1GQ9')\n",
      "resolvi_supervised ('10x_15um', 'NSCLC', 'chuvio', '1GA2', '1GA2')\n",
      "resolvi_supervised ('10x_15um', 'NSCLC', 'lung', '1GVD', '1GVD')\n",
      "resolvi_supervised ('10x_15um', 'NSCLC', 'chuvio', '0PSV', '0PSV_1')\n",
      "resolvi_supervised ('10x_15um', 'NSCLC', 'chuvio', '0PSV', '0PSV_2')\n",
      "resolvi_supervised ('10x_15um', 'NSCLC', 'chuvio', '1G73', '1G73')\n",
      "resolvi_supervised ('10x_15um', 'NSCLC', 'chuvio', '0WMU', '0WMU')\n",
      "resolvi_supervised ('10x_15um', 'NSCLC', '5k', '0PSV', '0PSV')\n",
      "resolvi_supervised ('10x_15um', 'NSCLC', '5k', '1GDD', '1GDD')\n",
      "resolvi_supervised ('10x_15um', 'NSCLC', '5k', '1G73', '1G73')\n",
      "resolvi_supervised ('10x_15um', 'NSCLC', '5k', '1GAC', '1GAC')\n",
      "resolvi_supervised ('10x_15um', 'NSCLC', '5k', '1GVD', '1GVD')\n",
      "resolvi_supervised ('10x_15um', 'NSCLC', '5k', '1GQ9', '1GQ9')\n",
      "resolvi_supervised ('10x_mm_5um', 'NSCLC', '5k', '1G73', '1G73')\n",
      "resolvi_supervisedresolvi_supervised ('10x_mm_5um', 'NSCLC', '5k', '0PSV', '0PSV')\n",
      "resolvi_supervised ('10x_mm_5um', 'NSCLC', '5k', '1GAC', '1GAC')\n",
      " ('10x_mm_5um', 'NSCLC', '5k', '1GDD', '1GDD')\n",
      "resolvi_supervised ('10x_mm_5um', 'NSCLC', '5k', '1GQ9', '1GQ9')\n",
      "resolvi_supervised ('baysor', 'breast', 'breast', '1FYB', '1FYB')\n",
      "resolvi_supervised ('baysor', 'breast', 'breast', 'OPHI', 'OPHI_1')\n",
      "resolvi_supervised ('10x_mm_5um', 'NSCLC', '5k', '1GVD', '1GVD')\n",
      "resolvi_supervised ('baysor', 'breast', 'breast', 'OPHI', 'OPHI_3')\n",
      "resolvi_supervised ('baysor', 'breast', 'breast', 'OPHI', 'OPHI_2')\n",
      "resolvi_supervised ('baysor', 'breast', 'breast', '1BCA', '1BCA')\n",
      "resolvi_supervised ('baysor', 'breast', 'breast', '0PD6', '0PD6')\n",
      "resolvi_supervised ('baysor', 'breast', 'breast', '1GV1', '1GV1')\n",
      "resolvi_supervised ('baysor', 'breast', 'breast', '1256', '1256')\n",
      "resolvi_supervised ('baysor', 'breast', 'breast', '1GVR', '1GVR')\n",
      "resolvi_supervised ('baysor', 'breast', 'breast', '1FHZ', '1FHZ')\n",
      "resolvi_supervised ('baysor', 'breast', 'breast', '1ESQ', '1ESQ')\n",
      "resolvi_supervised ('baysor', 'breast', 'breast', '0U9A', '0U9A')\n",
      "resolvi_supervisedresolvi_supervised ('baysor', 'breast', 'breast', '14LZ', '14LZ')\n",
      " ('baysor', 'breast', 'breast', '0VRA', '0VRA')\n",
      "resolvi_supervised ('baysor', 'breast', 'breast', '1GUC', '1GUC')\n",
      "resolvi_supervised ('baysor', 'breast', 'breast', '1H27', '1H27')\n",
      "resolvi_supervised ('baysor', 'breast', 'breast', '0OE1', '0OE1')\n",
      "resolvi_supervised ('baysor', 'breast', 'breast', '19TB', '19TB')\n",
      "resolvi_supervised ('baysor', 'breast', 'breast', '1FO7', '1FO7')\n",
      "resolvi_supervised ('baysor', 'NSCLC', 'lung', '1GA2', '1GA2')\n",
      "resolvi_supervised ('baysor', 'NSCLC', 'lung', '0PSV', '0PSV')\n",
      "resolvi_supervised ('baysor', 'NSCLC', 'lung', '0S8R', '0S8R')\n",
      "resolvi_supervised ('baysor', 'NSCLC', 'lung', '1G73', '1G73')\n",
      "resolvi_supervised ('baysor', 'NSCLC', 'lung', '1GDD', '1GDD')\n",
      "resolvi_supervised ('baysor', 'NSCLC', 'lung', '1GFF', '1GFF')\n",
      "resolvi_supervised ('baysor', 'NSCLC', 'lung', '1GAC', '1GAC')\n",
      "resolvi_supervised ('baysor', 'NSCLC', 'lung', '0WMU', '0WMU_1')\n",
      "resolvi_supervised ('baysor', 'NSCLC', 'lung', '1GQ9', '1GQ9')\n",
      "resolvi_supervised ('baysor', 'NSCLC', 'lung', '1GVD', '1GVD')\n",
      "resolvi_supervised ('baysor', 'NSCLC', 'chuvio', '1GA2', '1GA2')\n",
      "resolvi_supervised ('baysor', 'NSCLC', 'chuvio', '0PSV', '0PSV_1')\n",
      "resolvi_supervised ('baysor', 'NSCLC', 'lung', '0WMU', '0WMU_2')\n",
      "resolvi_supervised ('baysor', 'NSCLC', 'chuvio', '0PSV', '0PSV_2')\n",
      "resolvi_supervised ('baysor', 'NSCLC', 'chuvio', '1G73', '1G73')\n",
      "resolvi_supervised ('baysor', 'NSCLC', 'chuvio', '0WMU', '0WMU')\n",
      "resolvi_supervised ('baysor', 'NSCLC', '5k', '1GDD', '1GDD')\n",
      "resolvi_supervised ('baysor', 'NSCLC', '5k', '0PSV', '0PSV')\n",
      "resolvi_supervised ('baysor', 'NSCLC', '5k', '1GAC', '1GAC')\n",
      "resolvi_supervised ('baysor', 'NSCLC', '5k', '1GVD', '1GVD')\n",
      "resolvi_supervised ('baysor', 'NSCLC', '5k', '1GQ9', '1GQ9')\n",
      "resolvi_supervised ('10x_0um', 'breast', 'breast', 'OPHI', 'OPHI_3')\n",
      "resolvi_supervised ('10x_0um', 'breast', 'breast', '1FYB', '1FYB')\n",
      "resolvi_supervised ('10x_0um', 'breast', 'breast', 'OPHI', 'OPHI_1')\n",
      "resolvi_supervised ('10x_0um', 'breast', 'breast', '1BCA', '1BCA')\n",
      "resolvi_supervised ('10x_0um', 'breast', 'breast', 'OPHI', 'OPHI_2')\n",
      "resolvi_supervised ('10x_0um', 'breast', 'breast', '0PD6', '0PD6')\n",
      "resolvi_supervised ('10x_0um', 'breast', 'breast', '1256', '1256')\n",
      "resolvi_supervised ('10x_0um', 'breast', 'breast', '1GV1', '1GV1')\n",
      "resolvi_supervised ('10x_0um', 'breast', 'breast', '1GVR', '1GVR')\n",
      "resolvi_supervised ('10x_0um', 'breast', 'breast', '1FHZ', '1FHZ')\n",
      "resolvi_supervised ('10x_0um', 'breast', 'breast', '0U9A', '0U9A')\n",
      "resolvi_supervised ('10x_0um', 'breast', 'breast', '1ESQ', '1ESQ')\n",
      "resolvi_supervised ('10x_0um', 'breast', 'breast', '0VRA', '0VRA')\n",
      "resolvi_supervised ('10x_0um', 'breast', 'breast', '14LZ', '14LZ')\n",
      "resolvi_supervised ('10x_0um', 'breast', 'breast', '1H27', '1H27')\n",
      "resolvi_supervised ('10x_0um', 'breast', 'breast', '1GUC', '1GUC')\n",
      "resolvi_supervised ('10x_0um', 'breast', 'breast', '0OE1', '0OE1')\n",
      "resolvi_supervised ('10x_0um', 'breast', 'breast', '19TB', '19TB')\n",
      "resolvi_supervised ('10x_0um', 'breast', 'breast', '1FO7', '1FO7')\n",
      "resolvi_supervised ('10x_0um', 'NSCLC', 'lung', '0PSV', '0PSV')\n",
      "resolvi_supervised ('10x_0um', 'NSCLC', 'lung', '1GA2', '1GA2')\n",
      "resolvi_supervised ('10x_0um', 'NSCLC', 'lung', '0S8R', '0S8R')\n",
      "resolvi_supervised ('10x_0um', 'NSCLC', 'lung', '1G73', '1G73')\n",
      "resolvi_supervised ('10x_0um', 'NSCLC', 'lung', '0WMU', '0WMU_1')\n",
      "resolvi_supervised ('10x_0um', 'NSCLC', 'lung', '1GDD', '1GDD')\n",
      "resolvi_supervised ('10x_0um', 'NSCLC', 'lung', '1GQ9', '1GQ9')\n",
      "resolvi_supervised ('10x_0um', 'NSCLC', 'lung', '1GAC', '1GAC')\n",
      "resolvi_supervised ('10x_0um', 'NSCLC', 'lung', '1GFF', '1GFF')\n",
      "resolvi_supervised ('10x_0um', 'NSCLC', 'lung', '0WMU', '0WMU_2')\n",
      "resolvi_supervised ('10x_0um', 'NSCLC', 'chuvio', '1GA2', '1GA2')\n",
      "resolvi_supervised ('10x_0um', 'NSCLC', 'lung', '1GVD', '1GVD')\n",
      "resolvi_supervised ('10x_0um', 'NSCLC', 'chuvio', '0PSV', '0PSV_2')\n",
      "resolvi_supervised ('10x_0um', 'NSCLC', '5k', '1G73', '1G73')\n",
      "resolvi_supervised ('10x_0um', 'NSCLC', 'chuvio', '0PSV', '0PSV_1')\n",
      "resolvi_supervised ('10x_0um', 'NSCLC', 'chuvio', '1G73', '1G73')\n",
      "resolvi_supervised ('10x_0um', 'NSCLC', 'chuvio', '0WMU', '0WMU')\n",
      "resolvi_supervised ('10x_0um', 'NSCLC', '5k', '0PSV', '0PSV')\n",
      "resolvi_supervised ('10x_0um', 'NSCLC', '5k', '1GDD', '1GDD')\n",
      "resolvi_supervised ('10x_0um', 'NSCLC', '5k', '1GAC', '1GAC')\n",
      "resolvi_supervised ('10x_0um', 'NSCLC', '5k', '1GQ9', '1GQ9')\n",
      "resolvi_supervised ('10x_0um', 'NSCLC', '5k', '1GVD', '1GVD')\n",
      "File does not exist: /work/PRTNR/CHUV/DIR/rgottar1/spatial/env/xenium_paper/results/contamination_metrics_diffexpr_corrected_counts/ovrlpy_correction_signal_integrity_threshold=0.5/proseg_expected/breast/breast/1FYB/1FYB/lognorm/data_matched_reference_combo_rctd_class_aware_Level2.1_diffexpr.parquet\n",
      "File does not exist: /work/PRTNR/CHUV/DIR/rgottar1/spatial/env/xenium_paper/results/contamination_metrics_diffexpr_corrected_counts/ovrlpy_correction_signal_integrity_threshold=0.5/proseg_expected/breast/breast/OPHI/OPHI_3/lognorm/data_matched_reference_combo_rctd_class_aware_Level2.1_diffexpr.parquet\n",
      "File does not exist: /work/PRTNR/CHUV/DIR/rgottar1/spatial/env/xenium_paper/results/contamination_metrics_diffexpr_corrected_counts/ovrlpy_correction_signal_integrity_threshold=0.5/proseg_expected/breast/breast/OPHI/OPHI_1/lognorm/data_matched_reference_combo_rctd_class_aware_Level2.1_diffexpr.parquet\n",
      "File does not exist: /work/PRTNR/CHUV/DIR/rgottar1/spatial/env/xenium_paper/results/contamination_metrics_diffexpr_corrected_counts/ovrlpy_correction_signal_integrity_threshold=0.5/proseg_expected/breast/breast/OPHI/OPHI_2/lognorm/data_matched_reference_combo_rctd_class_aware_Level2.1_diffexpr.parquet\n",
      "File does not exist: /work/PRTNR/CHUV/DIR/rgottar1/spatial/env/xenium_paper/results/contamination_metrics_diffexpr_corrected_counts/ovrlpy_correction_signal_integrity_threshold=0.5/proseg_expected/breast/breast/1BCA/1BCA/lognorm/data_matched_reference_combo_rctd_class_aware_Level2.1_diffexpr.parquet\n",
      "File does not exist: /work/PRTNR/CHUV/DIR/rgottar1/spatial/env/xenium_paper/results/contamination_metrics_diffexpr_corrected_counts/ovrlpy_correction_signal_integrity_threshold=0.5/proseg_expected/breast/breast/0PD6/0PD6/lognorm/data_matched_reference_combo_rctd_class_aware_Level2.1_diffexpr.parquet\n",
      "File does not exist: /work/PRTNR/CHUV/DIR/rgottar1/spatial/env/xenium_paper/results/contamination_metrics_diffexpr_corrected_counts/ovrlpy_correction_signal_integrity_threshold=0.5/proseg_expected/breast/breast/1256/1256/lognorm/data_matched_reference_combo_rctd_class_aware_Level2.1_diffexpr.parquet\n",
      "File does not exist: /work/PRTNR/CHUV/DIR/rgottar1/spatial/env/xenium_paper/results/contamination_metrics_diffexpr_corrected_counts/ovrlpy_correction_signal_integrity_threshold=0.5/proseg_expected/breast/breast/1GV1/1GV1/lognorm/data_matched_reference_combo_rctd_class_aware_Level2.1_diffexpr.parquet\n",
      "File does not exist: /work/PRTNR/CHUV/DIR/rgottar1/spatial/env/xenium_paper/results/contamination_metrics_diffexpr_corrected_counts/ovrlpy_correction_signal_integrity_threshold=0.5/proseg_expected/breast/breast/1GVR/1GVR/lognorm/data_matched_reference_combo_rctd_class_aware_Level2.1_diffexpr.parquet\n",
      "File does not exist: /work/PRTNR/CHUV/DIR/rgottar1/spatial/env/xenium_paper/results/contamination_metrics_diffexpr_corrected_counts/ovrlpy_correction_signal_integrity_threshold=0.5/proseg_expected/breast/breast/1FHZ/1FHZ/lognorm/data_matched_reference_combo_rctd_class_aware_Level2.1_diffexpr.parquet\n",
      "File does not exist: /work/PRTNR/CHUV/DIR/rgottar1/spatial/env/xenium_paper/results/contamination_metrics_diffexpr_corrected_counts/ovrlpy_correction_signal_integrity_threshold=0.5/proseg_expected/breast/breast/0U9A/0U9A/lognorm/data_matched_reference_combo_rctd_class_aware_Level2.1_diffexpr.parquet\n",
      "File does not exist: /work/PRTNR/CHUV/DIR/rgottar1/spatial/env/xenium_paper/results/contamination_metrics_diffexpr_corrected_counts/ovrlpy_correction_signal_integrity_threshold=0.5/proseg_expected/breast/breast/1ESQ/1ESQ/lognorm/data_matched_reference_combo_rctd_class_aware_Level2.1_diffexpr.parquet\n",
      "File does not exist: /work/PRTNR/CHUV/DIR/rgottar1/spatial/env/xenium_paper/results/contamination_metrics_diffexpr_corrected_counts/ovrlpy_correction_signal_integrity_threshold=0.5/proseg_expected/breast/breast/0VRA/0VRA/lognorm/data_matched_reference_combo_rctd_class_aware_Level2.1_diffexpr.parquet\n",
      "File does not exist: /work/PRTNR/CHUV/DIR/rgottar1/spatial/env/xenium_paper/results/contamination_metrics_diffexpr_corrected_counts/ovrlpy_correction_signal_integrity_threshold=0.5/proseg_expected/breast/breast/14LZ/14LZ/lognorm/data_matched_reference_combo_rctd_class_aware_Level2.1_diffexpr.parquet\n",
      "File does not exist: /work/PRTNR/CHUV/DIR/rgottar1/spatial/env/xenium_paper/results/contamination_metrics_diffexpr_corrected_counts/ovrlpy_correction_signal_integrity_threshold=0.5/proseg_expected/breast/breast/1H27/1H27/lognorm/data_matched_reference_combo_rctd_class_aware_Level2.1_diffexpr.parquet\n",
      "File does not exist: /work/PRTNR/CHUV/DIR/rgottar1/spatial/env/xenium_paper/results/contamination_metrics_diffexpr_corrected_counts/ovrlpy_correction_signal_integrity_threshold=0.5/proseg_expected/breast/breast/1GUC/1GUC/lognorm/data_matched_reference_combo_rctd_class_aware_Level2.1_diffexpr.parquet\n",
      "File does not exist: /work/PRTNR/CHUV/DIR/rgottar1/spatial/env/xenium_paper/results/contamination_metrics_diffexpr_corrected_counts/ovrlpy_correction_signal_integrity_threshold=0.5/proseg_expected/breast/breast/0OE1/0OE1/lognorm/data_matched_reference_combo_rctd_class_aware_Level2.1_diffexpr.parquet\n",
      "File does not exist: /work/PRTNR/CHUV/DIR/rgottar1/spatial/env/xenium_paper/results/contamination_metrics_diffexpr_corrected_counts/ovrlpy_correction_signal_integrity_threshold=0.5/proseg_expected/breast/breast/19TB/19TB/lognorm/data_matched_reference_combo_rctd_class_aware_Level2.1_diffexpr.parquet\n",
      "File does not exist: /work/PRTNR/CHUV/DIR/rgottar1/spatial/env/xenium_paper/results/contamination_metrics_diffexpr_corrected_counts/ovrlpy_correction_signal_integrity_threshold=0.5/proseg_expected/breast/breast/1FO7/1FO7/lognorm/data_matched_reference_combo_rctd_class_aware_Level2.1_diffexpr.parquet\n",
      "File does not exist: /work/PRTNR/CHUV/DIR/rgottar1/spatial/env/xenium_paper/results/contamination_metrics_diffexpr_corrected_counts/ovrlpy_correction_signal_integrity_threshold=0.5/proseg_expected/NSCLC/lung/1GA2/1GA2/lognorm/data_matched_reference_combo_rctd_class_aware_Level2.1_diffexpr.parquet\n",
      "File does not exist: /work/PRTNR/CHUV/DIR/rgottar1/spatial/env/xenium_paper/results/contamination_metrics_diffexpr_corrected_counts/ovrlpy_correction_signal_integrity_threshold=0.5/proseg_expected/NSCLC/lung/0PSV/0PSV/lognorm/data_matched_reference_combo_rctd_class_aware_Level2.1_diffexpr.parquet\n",
      "File does not exist: /work/PRTNR/CHUV/DIR/rgottar1/spatial/env/xenium_paper/results/contamination_metrics_diffexpr_corrected_counts/ovrlpy_correction_signal_integrity_threshold=0.5/proseg_expected/NSCLC/lung/0S8R/0S8R/lognorm/data_matched_reference_combo_rctd_class_aware_Level2.1_diffexpr.parquet\n",
      "File does not exist: /work/PRTNR/CHUV/DIR/rgottar1/spatial/env/xenium_paper/results/contamination_metrics_diffexpr_corrected_counts/ovrlpy_correction_signal_integrity_threshold=0.5/proseg_expected/NSCLC/lung/1G73/1G73/lognorm/data_matched_reference_combo_rctd_class_aware_Level2.1_diffexpr.parquet\n",
      "File does not exist: /work/PRTNR/CHUV/DIR/rgottar1/spatial/env/xenium_paper/results/contamination_metrics_diffexpr_corrected_counts/ovrlpy_correction_signal_integrity_threshold=0.5/proseg_expected/NSCLC/lung/1GDD/1GDD/lognorm/data_matched_reference_combo_rctd_class_aware_Level2.1_diffexpr.parquet\n",
      "File does not exist: /work/PRTNR/CHUV/DIR/rgottar1/spatial/env/xenium_paper/results/contamination_metrics_diffexpr_corrected_counts/ovrlpy_correction_signal_integrity_threshold=0.5/proseg_expected/NSCLC/lung/1GFF/1GFF/lognorm/data_matched_reference_combo_rctd_class_aware_Level2.1_diffexpr.parquet\n",
      "File does not exist: /work/PRTNR/CHUV/DIR/rgottar1/spatial/env/xenium_paper/results/contamination_metrics_diffexpr_corrected_counts/ovrlpy_correction_signal_integrity_threshold=0.5/proseg_expected/NSCLC/lung/1GAC/1GAC/lognorm/data_matched_reference_combo_rctd_class_aware_Level2.1_diffexpr.parquet\n",
      "File does not exist: /work/PRTNR/CHUV/DIR/rgottar1/spatial/env/xenium_paper/results/contamination_metrics_diffexpr_corrected_counts/ovrlpy_correction_signal_integrity_threshold=0.5/proseg_expected/NSCLC/lung/0WMU/0WMU_1/lognorm/data_matched_reference_combo_rctd_class_aware_Level2.1_diffexpr.parquet\n",
      "File does not exist: /work/PRTNR/CHUV/DIR/rgottar1/spatial/env/xenium_paper/results/contamination_metrics_diffexpr_corrected_counts/ovrlpy_correction_signal_integrity_threshold=0.5/proseg_expected/NSCLC/lung/0WMU/0WMU_2/lognorm/data_matched_reference_combo_rctd_class_aware_Level2.1_diffexpr.parquet\n",
      "File does not exist: /work/PRTNR/CHUV/DIR/rgottar1/spatial/env/xenium_paper/results/contamination_metrics_diffexpr_corrected_counts/ovrlpy_correction_signal_integrity_threshold=0.5/proseg_expected/NSCLC/lung/1GQ9/1GQ9/lognorm/data_matched_reference_combo_rctd_class_aware_Level2.1_diffexpr.parquet\n",
      "File does not exist: /work/PRTNR/CHUV/DIR/rgottar1/spatial/env/xenium_paper/results/contamination_metrics_diffexpr_corrected_counts/ovrlpy_correction_signal_integrity_threshold=0.5/proseg_expected/NSCLC/lung/1GVD/1GVD/lognorm/data_matched_reference_combo_rctd_class_aware_Level2.1_diffexpr.parquet\n",
      "File does not exist: /work/PRTNR/CHUV/DIR/rgottar1/spatial/env/xenium_paper/results/contamination_metrics_diffexpr_corrected_counts/ovrlpy_correction_signal_integrity_threshold=0.5/proseg_expected/NSCLC/chuvio/1GA2/1GA2/lognorm/data_matched_reference_combo_rctd_class_aware_Level2.1_diffexpr.parquet\n",
      "File does not exist: /work/PRTNR/CHUV/DIR/rgottar1/spatial/env/xenium_paper/results/contamination_metrics_diffexpr_corrected_counts/ovrlpy_correction_signal_integrity_threshold=0.5/proseg_expected/NSCLC/chuvio/0PSV/0PSV_2/lognorm/data_matched_reference_combo_rctd_class_aware_Level2.1_diffexpr.parquet\n",
      "File does not exist: /work/PRTNR/CHUV/DIR/rgottar1/spatial/env/xenium_paper/results/contamination_metrics_diffexpr_corrected_counts/ovrlpy_correction_signal_integrity_threshold=0.5/proseg_expected/NSCLC/chuvio/0PSV/0PSV_1/lognorm/data_matched_reference_combo_rctd_class_aware_Level2.1_diffexpr.parquet\n",
      "File does not exist: /work/PRTNR/CHUV/DIR/rgottar1/spatial/env/xenium_paper/results/contamination_metrics_diffexpr_corrected_counts/ovrlpy_correction_signal_integrity_threshold=0.5/proseg_expected/NSCLC/chuvio/0WMU/0WMU/lognorm/data_matched_reference_combo_rctd_class_aware_Level2.1_diffexpr.parquet\n",
      "File does not exist: /work/PRTNR/CHUV/DIR/rgottar1/spatial/env/xenium_paper/results/contamination_metrics_diffexpr_corrected_counts/ovrlpy_correction_signal_integrity_threshold=0.5/proseg_expected/NSCLC/5k/0PSV/0PSV/lognorm/data_matched_reference_combo_rctd_class_aware_Level2.1_diffexpr.parquet\n",
      "File does not exist: /work/PRTNR/CHUV/DIR/rgottar1/spatial/env/xenium_paper/results/contamination_metrics_diffexpr_corrected_counts/ovrlpy_correction_signal_integrity_threshold=0.5/proseg_expected/NSCLC/5k/1G73/1G73/lognorm/data_matched_reference_combo_rctd_class_aware_Level2.1_diffexpr.parquet\n",
      "File does not exist: /work/PRTNR/CHUV/DIR/rgottar1/spatial/env/xenium_paper/results/contamination_metrics_diffexpr_corrected_counts/ovrlpy_correction_signal_integrity_threshold=0.5/proseg_expected/NSCLC/chuvio/1G73/1G73/lognorm/data_matched_reference_combo_rctd_class_aware_Level2.1_diffexpr.parquet\n",
      "File does not exist: /work/PRTNR/CHUV/DIR/rgottar1/spatial/env/xenium_paper/results/contamination_metrics_diffexpr_corrected_counts/ovrlpy_correction_signal_integrity_threshold=0.5/proseg_expected/NSCLC/5k/1GDD/1GDD/lognorm/data_matched_reference_combo_rctd_class_aware_Level2.1_diffexpr.parquet\n",
      "File does not exist: /work/PRTNR/CHUV/DIR/rgottar1/spatial/env/xenium_paper/results/contamination_metrics_diffexpr_corrected_counts/ovrlpy_correction_signal_integrity_threshold=0.5/proseg_expected/NSCLC/5k/1GAC/1GAC/lognorm/data_matched_reference_combo_rctd_class_aware_Level2.1_diffexpr.parquet\n",
      "File does not exist: /work/PRTNR/CHUV/DIR/rgottar1/spatial/env/xenium_paper/results/contamination_metrics_diffexpr_corrected_counts/ovrlpy_correction_signal_integrity_threshold=0.5/proseg_expected/NSCLC/5k/1GQ9/1GQ9/lognorm/data_matched_reference_combo_rctd_class_aware_Level2.1_diffexpr.parquet\n",
      "File does not exist: /work/PRTNR/CHUV/DIR/rgottar1/spatial/env/xenium_paper/results/contamination_metrics_diffexpr_corrected_counts/ovrlpy_correction_signal_integrity_threshold=0.5/proseg_expected/NSCLC/5k/1GVD/1GVD/lognorm/data_matched_reference_combo_rctd_class_aware_Level2.1_diffexpr.parquet\n",
      "ovrlpy_correction_signal_integrity_threshold=0.5 ('segger', 'breast', 'breast', 'OPHI', 'OPHI_3')\n",
      "ovrlpy_correction_signal_integrity_threshold=0.5 ('segger', 'breast', 'breast', '1FYB', '1FYB')\n",
      "ovrlpy_correction_signal_integrity_threshold=0.5 ('segger', 'breast', 'breast', 'OPHI', 'OPHI_1')\n",
      "ovrlpy_correction_signal_integrity_threshold=0.5 ('segger', 'breast', 'breast', 'OPHI', 'OPHI_2')\n",
      "ovrlpy_correction_signal_integrity_threshold=0.5 ('segger', 'breast', 'breast', '1GV1', '1GV1')\n",
      "ovrlpy_correction_signal_integrity_threshold=0.5 ('segger', 'breast', 'breast', '1GVR', '1GVR')\n",
      "ovrlpy_correction_signal_integrity_threshold=0.5 ('segger', 'breast', 'breast', '0PD6', '0PD6')\n",
      "ovrlpy_correction_signal_integrity_threshold=0.5 ('segger', 'breast', 'breast', '1BCA', '1BCA')\n",
      "ovrlpy_correction_signal_integrity_threshold=0.5 ('segger', 'breast', 'breast', '1256', '1256')\n",
      "ovrlpy_correction_signal_integrity_threshold=0.5 ('segger', 'breast', 'breast', '1FHZ', '1FHZ')\n",
      "ovrlpy_correction_signal_integrity_threshold=0.5 ('segger', 'breast', 'breast', '0U9A', '0U9A')\n",
      "ovrlpy_correction_signal_integrity_threshold=0.5 ('segger', 'breast', 'breast', '14LZ', '14LZ')\n",
      "ovrlpy_correction_signal_integrity_threshold=0.5 ('segger', 'breast', 'breast', '1ESQ', '1ESQ')\n",
      "ovrlpy_correction_signal_integrity_threshold=0.5 ('segger', 'breast', 'breast', '0VRA', '0VRA')\n",
      "ovrlpy_correction_signal_integrity_threshold=0.5 ('segger', 'breast', 'breast', '1H27', '1H27')\n",
      "ovrlpy_correction_signal_integrity_threshold=0.5 ('segger', 'breast', 'breast', '1GUC', '1GUC')\n",
      "ovrlpy_correction_signal_integrity_threshold=0.5 ('segger', 'breast', 'breast', '19TB', '19TB')\n",
      "ovrlpy_correction_signal_integrity_threshold=0.5 ('segger', 'breast', 'breast', '1FO7', '1FO7')\n",
      "ovrlpy_correction_signal_integrity_threshold=0.5 ('segger', 'NSCLC', 'lung', '1GA2', '1GA2')\n",
      "ovrlpy_correction_signal_integrity_threshold=0.5 ('segger', 'NSCLC', 'lung', '0PSV', '0PSV')\n",
      "ovrlpy_correction_signal_integrity_threshold=0.5 ('segger', 'breast', 'breast', '0OE1', '0OE1')\n",
      "ovrlpy_correction_signal_integrity_threshold=0.5 ('segger', 'NSCLC', 'lung', '0S8R', '0S8R')\n",
      "ovrlpy_correction_signal_integrity_threshold=0.5 ('segger', 'NSCLC', 'lung', '1GDD', '1GDD')\n",
      "ovrlpy_correction_signal_integrity_threshold=0.5 ('segger', 'NSCLC', 'lung', '1GFF', '1GFF')\n",
      "ovrlpy_correction_signal_integrity_threshold=0.5 ('segger', 'NSCLC', 'lung', '1G73', '1G73')\n",
      "ovrlpy_correction_signal_integrity_threshold=0.5 ('segger', 'NSCLC', 'lung', '1GAC', '1GAC')\n",
      "ovrlpy_correction_signal_integrity_threshold=0.5 ('segger', 'NSCLC', 'lung', '0WMU', '0WMU_2')\n",
      "ovrlpy_correction_signal_integrity_threshold=0.5 ('segger', 'NSCLC', 'lung', '0WMU', '0WMU_1')\n",
      "ovrlpy_correction_signal_integrity_threshold=0.5 ('segger', 'NSCLC', 'lung', '1GQ9', '1GQ9')\n",
      "ovrlpy_correction_signal_integrity_threshold=0.5 ('segger', 'NSCLC', 'lung', '1GVD', '1GVD')\n",
      "ovrlpy_correction_signal_integrity_threshold=0.5 ('segger', 'NSCLC', 'chuvio', '1GA2', '1GA2')\n",
      "ovrlpy_correction_signal_integrity_threshold=0.5 ('segger', 'NSCLC', 'chuvio', '0PSV', '0PSV_1')\n",
      "ovrlpy_correction_signal_integrity_threshold=0.5 ('segger', 'NSCLC', 'chuvio', '0PSV', '0PSV_2')\n",
      "ovrlpy_correction_signal_integrity_threshold=0.5 ('segger', 'NSCLC', 'chuvio', '1G73', '1G73')\n",
      "ovrlpy_correction_signal_integrity_threshold=0.5 ('segger', 'NSCLC', 'chuvio', '0WMU', '0WMU')\n",
      "File does not exist: /work/PRTNR/CHUV/DIR/rgottar1/spatial/env/xenium_paper/results/contamination_metrics_diffexpr_corrected_counts/ovrlpy_correction_signal_integrity_threshold=0.5/segger/NSCLC/5k/0PSV/0PSV/lognorm/data_matched_reference_combo_rctd_class_aware_Level2.1_diffexpr.parquet\n",
      "File does not exist: /work/PRTNR/CHUV/DIR/rgottar1/spatial/env/xenium_paper/results/contamination_metrics_diffexpr_corrected_counts/ovrlpy_correction_signal_integrity_threshold=0.5/segger/NSCLC/5k/1G73/1G73/lognorm/data_matched_reference_combo_rctd_class_aware_Level2.1_diffexpr.parquet\n",
      "File does not exist: /work/PRTNR/CHUV/DIR/rgottar1/spatial/env/xenium_paper/results/contamination_metrics_diffexpr_corrected_counts/ovrlpy_correction_signal_integrity_threshold=0.5/segger/NSCLC/5k/1GDD/1GDD/lognorm/data_matched_reference_combo_rctd_class_aware_Level2.1_diffexpr.parquet\n",
      "File does not exist: /work/PRTNR/CHUV/DIR/rgottar1/spatial/env/xenium_paper/results/contamination_metrics_diffexpr_corrected_counts/ovrlpy_correction_signal_integrity_threshold=0.5/segger/NSCLC/5k/1GAC/1GAC/lognorm/data_matched_reference_combo_rctd_class_aware_Level2.1_diffexpr.parquet\n",
      "File does not exist: /work/PRTNR/CHUV/DIR/rgottar1/spatial/env/xenium_paper/results/contamination_metrics_diffexpr_corrected_counts/ovrlpy_correction_signal_integrity_threshold=0.5/segger/NSCLC/5k/1GQ9/1GQ9/lognorm/data_matched_reference_combo_rctd_class_aware_Level2.1_diffexpr.parquet\n",
      "File does not exist: /work/PRTNR/CHUV/DIR/rgottar1/spatial/env/xenium_paper/results/contamination_metrics_diffexpr_corrected_counts/ovrlpy_correction_signal_integrity_threshold=0.5/segger/NSCLC/5k/1GVD/1GVD/lognorm/data_matched_reference_combo_rctd_class_aware_Level2.1_diffexpr.parquet\n",
      "ovrlpy_correction_signal_integrity_threshold=0.5 ('10x_5um', 'breast', 'breast', '1FYB', '1FYB')\n",
      "ovrlpy_correction_signal_integrity_threshold=0.5 ('10x_5um', 'breast', 'breast', 'OPHI', 'OPHI_1')\n",
      "ovrlpy_correction_signal_integrity_threshold=0.5 ('10x_5um', 'breast', 'breast', 'OPHI', 'OPHI_3')\n",
      "ovrlpy_correction_signal_integrity_threshold=0.5 ('10x_5um', 'breast', 'breast', 'OPHI', 'OPHI_2')\n",
      "ovrlpy_correction_signal_integrity_threshold=0.5 ('10x_5um', 'breast', 'breast', '1BCA', '1BCA')\n",
      "ovrlpy_correction_signal_integrity_threshold=0.5 ('10x_5um', 'breast', 'breast', '0PD6', '0PD6')\n",
      "ovrlpy_correction_signal_integrity_threshold=0.5 ('10x_5um', 'breast', 'breast', '1256', '1256')\n",
      "ovrlpy_correction_signal_integrity_threshold=0.5 ('10x_5um', 'breast', 'breast', '1FHZ', '1FHZ')\n",
      "ovrlpy_correction_signal_integrity_threshold=0.5 ('10x_5um', 'breast', 'breast', '1GVR', '1GVR')\n",
      "ovrlpy_correction_signal_integrity_threshold=0.5 ('10x_5um', 'breast', 'breast', '1GV1', '1GV1')\n",
      "ovrlpy_correction_signal_integrity_threshold=0.5 ('10x_5um', 'breast', 'breast', '0U9A', '0U9A')\n",
      "ovrlpy_correction_signal_integrity_threshold=0.5 ('10x_5um', 'breast', 'breast', '0OE1', '0OE1')\n",
      "ovrlpy_correction_signal_integrity_threshold=0.5 ('10x_5um', 'breast', 'breast', '0VRA', '0VRA')\n",
      "ovrlpy_correction_signal_integrity_threshold=0.5 ('10x_5um', 'breast', 'breast', '1GUC', '1GUC')\n",
      "ovrlpy_correction_signal_integrity_threshold=0.5 ('10x_5um', 'breast', 'breast', '1FO7', '1FO7')\n",
      "ovrlpy_correction_signal_integrity_threshold=0.5 ('10x_5um', 'breast', 'breast', '1ESQ', '1ESQ')\n",
      "ovrlpy_correction_signal_integrity_threshold=0.5 ('10x_5um', 'breast', 'breast', '14LZ', '14LZ')\n",
      "ovrlpy_correction_signal_integrity_threshold=0.5 ('10x_5um', 'NSCLC', 'lung', '0PSV', '0PSV')\n",
      "ovrlpy_correction_signal_integrity_threshold=0.5 ('10x_5um', 'breast', 'breast', '19TB', '19TB')\n",
      "ovrlpy_correction_signal_integrity_threshold=0.5 ('10x_5um', 'NSCLC', 'lung', '1GA2', '1GA2')\n",
      "ovrlpy_correction_signal_integrity_threshold=0.5 ('10x_5um', 'NSCLC', 'lung', '1G73', '1G73')\n",
      "ovrlpy_correction_signal_integrity_threshold=0.5 ('10x_5um', 'breast', 'breast', '1H27', '1H27')\n",
      "ovrlpy_correction_signal_integrity_threshold=0.5 ('10x_5um', 'NSCLC', 'lung', '0S8R', '0S8R')\n",
      "ovrlpy_correction_signal_integrity_threshold=0.5 ('10x_5um', 'NSCLC', 'lung', '1GDD', '1GDD')\n",
      "ovrlpy_correction_signal_integrity_threshold=0.5 ('10x_5um', 'NSCLC', 'lung', '1GFF', '1GFF')\n",
      "ovrlpy_correction_signal_integrity_threshold=0.5 ('10x_5um', 'NSCLC', 'lung', '1GAC', '1GAC')\n",
      "ovrlpy_correction_signal_integrity_threshold=0.5 ('10x_5um', 'NSCLC', 'lung', '0WMU', '0WMU_1')\n",
      "ovrlpy_correction_signal_integrity_threshold=0.5 ('10x_5um', 'NSCLC', 'lung', '0WMU', '0WMU_2')\n",
      "ovrlpy_correction_signal_integrity_threshold=0.5 ('10x_5um', 'NSCLC', 'lung', '1GQ9', '1GQ9')\n",
      "ovrlpy_correction_signal_integrity_threshold=0.5 ('10x_5um', 'NSCLC', 'lung', '1GVD', '1GVD')\n",
      "ovrlpy_correction_signal_integrity_threshold=0.5 ('10x_5um', 'NSCLC', 'chuvio', '1GA2', '1GA2')\n",
      "ovrlpy_correction_signal_integrity_threshold=0.5 ('10x_5um', 'NSCLC', 'chuvio', '0PSV', '0PSV_1')\n",
      "ovrlpy_correction_signal_integrity_threshold=0.5 ('10x_5um', 'NSCLC', 'chuvio', '1G73', '1G73')\n",
      "File does not exist: /work/PRTNR/CHUV/DIR/rgottar1/spatial/env/xenium_paper/results/contamination_metrics_diffexpr_corrected_counts/ovrlpy_correction_signal_integrity_threshold=0.5/10x_5um/NSCLC/5k/0PSV/0PSV/lognorm/data_matched_reference_combo_rctd_class_aware_Level2.1_diffexpr.parquet\n",
      "File does not exist: /work/PRTNR/CHUV/DIR/rgottar1/spatial/env/xenium_paper/results/contamination_metrics_diffexpr_corrected_counts/ovrlpy_correction_signal_integrity_threshold=0.5/10x_5um/NSCLC/5k/1G73/1G73/lognorm/data_matched_reference_combo_rctd_class_aware_Level2.1_diffexpr.parquet\n",
      "File does not exist: /work/PRTNR/CHUV/DIR/rgottar1/spatial/env/xenium_paper/results/contamination_metrics_diffexpr_corrected_counts/ovrlpy_correction_signal_integrity_threshold=0.5/10x_5um/NSCLC/5k/1GAC/1GAC/lognorm/data_matched_reference_combo_rctd_class_aware_Level2.1_diffexpr.parquet\n",
      "File does not exist: /work/PRTNR/CHUV/DIR/rgottar1/spatial/env/xenium_paper/results/contamination_metrics_diffexpr_corrected_counts/ovrlpy_correction_signal_integrity_threshold=0.5/10x_5um/NSCLC/5k/1GQ9/1GQ9/lognorm/data_matched_reference_combo_rctd_class_aware_Level2.1_diffexpr.parquet\n",
      "File does not exist: /work/PRTNR/CHUV/DIR/rgottar1/spatial/env/xenium_paper/results/contamination_metrics_diffexpr_corrected_counts/ovrlpy_correction_signal_integrity_threshold=0.5/10x_5um/NSCLC/5k/1GDD/1GDD/lognorm/data_matched_reference_combo_rctd_class_aware_Level2.1_diffexpr.parquet\n",
      "File does not exist: /work/PRTNR/CHUV/DIR/rgottar1/spatial/env/xenium_paper/results/contamination_metrics_diffexpr_corrected_counts/ovrlpy_correction_signal_integrity_threshold=0.5/10x_5um/NSCLC/5k/1GVD/1GVD/lognorm/data_matched_reference_combo_rctd_class_aware_Level2.1_diffexpr.parquet\n",
      "ovrlpy_correction_signal_integrity_threshold=0.5 ('10x_15um', 'breast', 'breast', 'OPHI', 'OPHI_3')\n",
      "ovrlpy_correction_signal_integrity_threshold=0.5 ('10x_5um', 'NSCLC', 'chuvio', '0WMU', '0WMU')\n",
      "ovrlpy_correction_signal_integrity_threshold=0.5 ('10x_5um', 'NSCLC', 'chuvio', '0PSV', '0PSV_2')\n",
      "ovrlpy_correction_signal_integrity_threshold=0.5 ('10x_15um', 'breast', 'breast', 'OPHI', 'OPHI_2')\n",
      "ovrlpy_correction_signal_integrity_threshold=0.5 ('10x_15um', 'breast', 'breast', '1FYB', '1FYB')\n",
      "ovrlpy_correction_signal_integrity_threshold=0.5 ('10x_15um', 'breast', 'breast', '0PD6', '0PD6')\n",
      "ovrlpy_correction_signal_integrity_threshold=0.5 ('10x_15um', 'breast', 'breast', 'OPHI', 'OPHI_1')\n",
      "ovrlpy_correction_signal_integrity_threshold=0.5 ('10x_15um', 'breast', 'breast', '1GV1', '1GV1')\n",
      "ovrlpy_correction_signal_integrity_threshold=0.5 ('10x_15um', 'breast', 'breast', '1BCA', '1BCA')\n",
      "ovrlpy_correction_signal_integrity_threshold=0.5 ('10x_15um', 'breast', 'breast', '1256', '1256')\n",
      "ovrlpy_correction_signal_integrity_threshold=0.5 ('10x_15um', 'breast', 'breast', '0U9A', '0U9A')\n",
      "ovrlpy_correction_signal_integrity_threshold=0.5 ('10x_15um', 'breast', 'breast', '1GUC', '1GUC')\n",
      "ovrlpy_correction_signal_integrity_threshold=0.5 ('10x_15um', 'breast', 'breast', '0OE1', '0OE1')\n",
      "ovrlpy_correction_signal_integrity_threshold=0.5 ('10x_15um', 'breast', 'breast', '19TB', '19TB')\n",
      "ovrlpy_correction_signal_integrity_threshold=0.5 ('10x_15um', 'NSCLC', 'lung', '0PSV', '0PSV')\n",
      "ovrlpy_correction_signal_integrity_threshold=0.5 ('10x_15um', 'breast', 'breast', '1ESQ', '1ESQ')\n",
      "ovrlpy_correction_signal_integrity_threshold=0.5 ('10x_15um', 'breast', 'breast', '0VRA', '0VRA')\n",
      "ovrlpy_correction_signal_integrity_threshold=0.5 ('10x_15um', 'breast', 'breast', '1FHZ', '1FHZ')\n",
      "ovrlpy_correction_signal_integrity_threshold=0.5 ('10x_15um', 'breast', 'breast', '14LZ', '14LZ')\n",
      "ovrlpy_correction_signal_integrity_threshold=0.5 ('10x_15um', 'NSCLC', 'lung', '1GA2', '1GA2')\n",
      "ovrlpy_correction_signal_integrity_threshold=0.5 ('10x_15um', 'breast', 'breast', '1FO7', '1FO7')\n",
      "ovrlpy_correction_signal_integrity_threshold=0.5 ('10x_15um', 'breast', 'breast', '1GVR', '1GVR')\n",
      "ovrlpy_correction_signal_integrity_threshold=0.5 ('10x_15um', 'breast', 'breast', '1H27', '1H27')\n",
      "ovrlpy_correction_signal_integrity_threshold=0.5 ('10x_15um', 'NSCLC', 'lung', '0S8R', '0S8R')\n",
      "ovrlpy_correction_signal_integrity_threshold=0.5 ('10x_15um', 'NSCLC', 'lung', '1G73', '1G73')\n",
      "ovrlpy_correction_signal_integrity_threshold=0.5 ('10x_15um', 'NSCLC', 'lung', '1GDD', '1GDD')\n",
      "ovrlpy_correction_signal_integrity_threshold=0.5 ('10x_15um', 'NSCLC', 'lung', '1GFF', '1GFF')\n",
      "ovrlpy_correction_signal_integrity_threshold=0.5 ('10x_15um', 'NSCLC', 'lung', '1GAC', '1GAC')\n",
      "ovrlpy_correction_signal_integrity_threshold=0.5 ('10x_15um', 'NSCLC', 'lung', '0WMU', '0WMU_1')\n",
      "ovrlpy_correction_signal_integrity_threshold=0.5 ('10x_15um', 'NSCLC', 'lung', '0WMU', '0WMU_2')\n",
      "ovrlpy_correction_signal_integrity_threshold=0.5 ('10x_15um', 'NSCLC', 'lung', '1GQ9', '1GQ9')\n",
      "ovrlpy_correction_signal_integrity_threshold=0.5 ('10x_15um', 'NSCLC', 'lung', '1GVD', '1GVD')\n",
      "ovrlpy_correction_signal_integrity_threshold=0.5 ('10x_15um', 'NSCLC', 'chuvio', '1GA2', '1GA2')\n",
      "ovrlpy_correction_signal_integrity_threshold=0.5 ('10x_15um', 'NSCLC', 'chuvio', '0PSV', '0PSV_1')\n",
      "ovrlpy_correction_signal_integrity_threshold=0.5 ('10x_15um', 'NSCLC', 'chuvio', '0PSV', '0PSV_2')\n",
      "File does not exist: /work/PRTNR/CHUV/DIR/rgottar1/spatial/env/xenium_paper/results/contamination_metrics_diffexpr_corrected_counts/ovrlpy_correction_signal_integrity_threshold=0.5/10x_15um/NSCLC/5k/0PSV/0PSV/lognorm/data_matched_reference_combo_rctd_class_aware_Level2.1_diffexpr.parquet\n",
      "ovrlpy_correction_signal_integrity_threshold=0.5 ('10x_15um', 'NSCLC', 'chuvio', '1G73', '1G73')\n",
      "ovrlpy_correction_signal_integrity_threshold=0.5 ('10x_15um', 'NSCLC', 'chuvio', '0WMU', '0WMU')\n",
      "File does not exist: /work/PRTNR/CHUV/DIR/rgottar1/spatial/env/xenium_paper/results/contamination_metrics_diffexpr_corrected_counts/ovrlpy_correction_signal_integrity_threshold=0.5/10x_15um/NSCLC/5k/1GDD/1GDD/lognorm/data_matched_reference_combo_rctd_class_aware_Level2.1_diffexpr.parquet\n",
      "File does not exist: /work/PRTNR/CHUV/DIR/rgottar1/spatial/env/xenium_paper/results/contamination_metrics_diffexpr_corrected_counts/ovrlpy_correction_signal_integrity_threshold=0.5/10x_15um/NSCLC/5k/1G73/1G73/lognorm/data_matched_reference_combo_rctd_class_aware_Level2.1_diffexpr.parquet\n",
      "File does not exist: /work/PRTNR/CHUV/DIR/rgottar1/spatial/env/xenium_paper/results/contamination_metrics_diffexpr_corrected_counts/ovrlpy_correction_signal_integrity_threshold=0.5/10x_15um/NSCLC/5k/1GVD/1GVD/lognorm/data_matched_reference_combo_rctd_class_aware_Level2.1_diffexpr.parquet\n",
      "File does not exist: /work/PRTNR/CHUV/DIR/rgottar1/spatial/env/xenium_paper/results/contamination_metrics_diffexpr_corrected_counts/ovrlpy_correction_signal_integrity_threshold=0.5/10x_15um/NSCLC/5k/1GAC/1GAC/lognorm/data_matched_reference_combo_rctd_class_aware_Level2.1_diffexpr.parquet\n",
      "File does not exist: /work/PRTNR/CHUV/DIR/rgottar1/spatial/env/xenium_paper/results/contamination_metrics_diffexpr_corrected_counts/ovrlpy_correction_signal_integrity_threshold=0.5/10x_15um/NSCLC/5k/1GQ9/1GQ9/lognorm/data_matched_reference_combo_rctd_class_aware_Level2.1_diffexpr.parquet\n",
      "File does not exist: /work/PRTNR/CHUV/DIR/rgottar1/spatial/env/xenium_paper/results/contamination_metrics_diffexpr_corrected_counts/ovrlpy_correction_signal_integrity_threshold=0.5/10x_mm_5um/NSCLC/5k/0PSV/0PSV/lognorm/data_matched_reference_combo_rctd_class_aware_Level2.1_diffexpr.parquet\n",
      "File does not exist: /work/PRTNR/CHUV/DIR/rgottar1/spatial/env/xenium_paper/results/contamination_metrics_diffexpr_corrected_counts/ovrlpy_correction_signal_integrity_threshold=0.5/10x_mm_5um/NSCLC/5k/1GQ9/1GQ9/lognorm/data_matched_reference_combo_rctd_class_aware_Level2.1_diffexpr.parquet\n",
      "File does not exist: /work/PRTNR/CHUV/DIR/rgottar1/spatial/env/xenium_paper/results/contamination_metrics_diffexpr_corrected_counts/ovrlpy_correction_signal_integrity_threshold=0.5/10x_mm_5um/NSCLC/5k/1G73/1G73/lognorm/data_matched_reference_combo_rctd_class_aware_Level2.1_diffexpr.parquet\n",
      "File does not exist: /work/PRTNR/CHUV/DIR/rgottar1/spatial/env/xenium_paper/results/contamination_metrics_diffexpr_corrected_counts/ovrlpy_correction_signal_integrity_threshold=0.5/10x_mm_5um/NSCLC/5k/1GDD/1GDD/lognorm/data_matched_reference_combo_rctd_class_aware_Level2.1_diffexpr.parquet\n",
      "File does not exist: /work/PRTNR/CHUV/DIR/rgottar1/spatial/env/xenium_paper/results/contamination_metrics_diffexpr_corrected_counts/ovrlpy_correction_signal_integrity_threshold=0.5/10x_mm_5um/NSCLC/5k/1GVD/1GVD/lognorm/data_matched_reference_combo_rctd_class_aware_Level2.1_diffexpr.parquet\n",
      "File does not exist: /work/PRTNR/CHUV/DIR/rgottar1/spatial/env/xenium_paper/results/contamination_metrics_diffexpr_corrected_counts/ovrlpy_correction_signal_integrity_threshold=0.5/10x_mm_5um/NSCLC/5k/1GAC/1GAC/lognorm/data_matched_reference_combo_rctd_class_aware_Level2.1_diffexpr.parquet\n",
      "ovrlpy_correction_signal_integrity_threshold=0.5 ('baysor', 'breast', 'breast', 'OPHI', 'OPHI_2')\n",
      "ovrlpy_correction_signal_integrity_threshold=0.5 ('baysor', 'breast', 'breast', '1FYB', '1FYB')\n",
      "ovrlpy_correction_signal_integrity_threshold=0.5 ('baysor', 'breast', 'breast', '1BCA', '1BCA')\n",
      "ovrlpy_correction_signal_integrity_threshold=0.5 ('baysor', 'breast', 'breast', 'OPHI', 'OPHI_3')\n",
      "ovrlpy_correction_signal_integrity_threshold=0.5 ('baysor', 'breast', 'breast', 'OPHI', 'OPHI_1')\n",
      "ovrlpy_correction_signal_integrity_threshold=0.5 ('baysor', 'breast', 'breast', '1GV1', '1GV1')\n",
      "ovrlpy_correction_signal_integrity_threshold=0.5 ('baysor', 'breast', 'breast', '0PD6', '0PD6')\n",
      "ovrlpy_correction_signal_integrity_threshold=0.5 ('baysor', 'breast', 'breast', '1256', '1256')\n",
      "ovrlpy_correction_signal_integrity_threshold=0.5 ('baysor', 'breast', 'breast', '0U9A', '0U9A')\n",
      "ovrlpy_correction_signal_integrity_threshold=0.5 ('baysor', 'breast', 'breast', '1FHZ', '1FHZ')\n",
      "ovrlpy_correction_signal_integrity_threshold=0.5 ('baysor', 'breast', 'breast', '1ESQ', '1ESQ')\n",
      "ovrlpy_correction_signal_integrity_threshold=0.5 ('baysor', 'breast', 'breast', '0VRA', '0VRA')\n",
      "ovrlpy_correction_signal_integrity_threshold=0.5 ('baysor', 'breast', 'breast', '14LZ', '14LZ')\n",
      "ovrlpy_correction_signal_integrity_threshold=0.5 ('baysor', 'breast', 'breast', '1GVR', '1GVR')\n",
      "ovrlpy_correction_signal_integrity_threshold=0.5 ('baysor', 'breast', 'breast', '0OE1', '0OE1')\n",
      "ovrlpy_correction_signal_integrity_threshold=0.5 ('baysor', 'breast', 'breast', '1H27', '1H27')\n",
      "ovrlpy_correction_signal_integrity_threshold=0.5 ('baysor', 'breast', 'breast', '1GUC', '1GUC')\n",
      "ovrlpy_correction_signal_integrity_threshold=0.5 ('baysor', 'breast', 'breast', '19TB', '19TB')\n",
      "ovrlpy_correction_signal_integrity_threshold=0.5 ('baysor', 'breast', 'breast', '1FO7', '1FO7')\n",
      "ovrlpy_correction_signal_integrity_threshold=0.5 ('baysor', 'NSCLC', 'lung', '0PSV', '0PSV')\n",
      "ovrlpy_correction_signal_integrity_threshold=0.5 ('baysor', 'NSCLC', 'lung', '1GA2', '1GA2')\n",
      "ovrlpy_correction_signal_integrity_threshold=0.5 ('baysor', 'NSCLC', 'lung', '0S8R', '0S8R')\n",
      "ovrlpy_correction_signal_integrity_threshold=0.5 ('baysor', 'NSCLC', 'lung', '1G73', '1G73')\n",
      "ovrlpy_correction_signal_integrity_threshold=0.5 ('baysor', 'NSCLC', 'lung', '1GDD', '1GDD')\n",
      "ovrlpy_correction_signal_integrity_threshold=0.5 ('baysor', 'NSCLC', 'lung', '1GFF', '1GFF')\n",
      "ovrlpy_correction_signal_integrity_threshold=0.5 ('baysor', 'NSCLC', 'lung', '0WMU', '0WMU_1')\n",
      "ovrlpy_correction_signal_integrity_threshold=0.5 ('baysor', 'NSCLC', 'lung', '0WMU', '0WMU_2')\n",
      "ovrlpy_correction_signal_integrity_threshold=0.5 ('baysor', 'NSCLC', 'lung', '1GAC', '1GAC')\n",
      "ovrlpy_correction_signal_integrity_threshold=0.5 ('baysor', 'NSCLC', 'chuvio', '0PSV', '0PSV_1')\n",
      "ovrlpy_correction_signal_integrity_threshold=0.5 ('baysor', 'NSCLC', 'chuvio', '1GA2', '1GA2')\n",
      "ovrlpy_correction_signal_integrity_threshold=0.5 ('baysor', 'NSCLC', 'lung', '1GVD', '1GVD')\n",
      "ovrlpy_correction_signal_integrity_threshold=0.5 ('baysor', 'NSCLC', 'chuvio', '0PSV', '0PSV_2')\n",
      "ovrlpy_correction_signal_integrity_threshold=0.5 ('baysor', 'NSCLC', 'lung', '1GQ9', '1GQ9')\n",
      "File does not exist: /work/PRTNR/CHUV/DIR/rgottar1/spatial/env/xenium_paper/results/contamination_metrics_diffexpr_corrected_counts/ovrlpy_correction_signal_integrity_threshold=0.5/baysor/NSCLC/5k/0PSV/0PSV/lognorm/data_matched_reference_combo_rctd_class_aware_Level2.1_diffexpr.parquet\n",
      "File does not exist: /work/PRTNR/CHUV/DIR/rgottar1/spatial/env/xenium_paper/results/contamination_metrics_diffexpr_corrected_counts/ovrlpy_correction_signal_integrity_threshold=0.5/baysor/NSCLC/5k/1GDD/1GDD/lognorm/data_matched_reference_combo_rctd_class_aware_Level2.1_diffexpr.parquet\n",
      "File does not exist: /work/PRTNR/CHUV/DIR/rgottar1/spatial/env/xenium_paper/results/contamination_metrics_diffexpr_corrected_counts/ovrlpy_correction_signal_integrity_threshold=0.5/baysor/NSCLC/5k/1GQ9/1GQ9/lognorm/data_matched_reference_combo_rctd_class_aware_Level2.1_diffexpr.parquet\n",
      "File does not exist: /work/PRTNR/CHUV/DIR/rgottar1/spatial/env/xenium_paper/results/contamination_metrics_diffexpr_corrected_counts/ovrlpy_correction_signal_integrity_threshold=0.5/baysor/NSCLC/5k/1GAC/1GAC/lognorm/data_matched_reference_combo_rctd_class_aware_Level2.1_diffexpr.parquet\n",
      "File does not exist: /work/PRTNR/CHUV/DIR/rgottar1/spatial/env/xenium_paper/results/contamination_metrics_diffexpr_corrected_counts/ovrlpy_correction_signal_integrity_threshold=0.5/baysor/NSCLC/5k/1GVD/1GVD/lognorm/data_matched_reference_combo_rctd_class_aware_Level2.1_diffexpr.parquet\n",
      "ovrlpy_correction_signal_integrity_threshold=0.5 ('10x_0um', 'breast', 'breast', '1FYB', '1FYB')\n",
      "ovrlpy_correction_signal_integrity_threshold=0.5 ('baysor', 'NSCLC', 'chuvio', '1G73', '1G73')\n",
      "ovrlpy_correction_signal_integrity_threshold=0.5 ('10x_0um', 'breast', 'breast', 'OPHI', 'OPHI_2')\n",
      "ovrlpy_correction_signal_integrity_threshold=0.5 ('baysor', 'NSCLC', 'chuvio', '0WMU', '0WMU')\n",
      "ovrlpy_correction_signal_integrity_threshold=0.5 ('10x_0um', 'breast', 'breast', 'OPHI', 'OPHI_1')\n",
      "ovrlpy_correction_signal_integrity_threshold=0.5 ('10x_0um', 'breast', 'breast', 'OPHI', 'OPHI_3')\n",
      "ovrlpy_correction_signal_integrity_threshold=0.5 ('10x_0um', 'breast', 'breast', '1GV1', '1GV1')\n",
      "ovrlpy_correction_signal_integrity_threshold=0.5 ('10x_0um', 'breast', 'breast', '1BCA', '1BCA')\n",
      "ovrlpy_correction_signal_integrity_threshold=0.5 ('10x_0um', 'breast', 'breast', '1256', '1256')\n",
      "ovrlpy_correction_signal_integrity_threshold=0.5 ('10x_0um', 'breast', 'breast', '0PD6', '0PD6')\n",
      "ovrlpy_correction_signal_integrity_threshold=0.5 ('10x_0um', 'breast', 'breast', '1GVR', '1GVR')\n",
      "ovrlpy_correction_signal_integrity_threshold=0.5 ('10x_0um', 'breast', 'breast', '0U9A', '0U9A')\n",
      "ovrlpy_correction_signal_integrity_threshold=0.5 ('10x_0um', 'breast', 'breast', '1FHZ', '1FHZ')\n",
      "ovrlpy_correction_signal_integrity_threshold=0.5 ('10x_0um', 'breast', 'breast', '1ESQ', '1ESQ')\n",
      "ovrlpy_correction_signal_integrity_threshold=0.5 ('10x_0um', 'breast', 'breast', '1H27', '1H27')\n",
      "ovrlpy_correction_signal_integrity_threshold=0.5 ('10x_0um', 'breast', 'breast', '14LZ', '14LZ')\n",
      "ovrlpy_correction_signal_integrity_threshold=0.5 ('10x_0um', 'breast', 'breast', '0VRA', '0VRA')\n",
      "ovrlpy_correction_signal_integrity_threshold=0.5 ('10x_0um', 'breast', 'breast', '1GUC', '1GUC')\n",
      "ovrlpy_correction_signal_integrity_threshold=0.5 ('10x_0um', 'breast', 'breast', '0OE1', '0OE1')\n",
      "ovrlpy_correction_signal_integrity_threshold=0.5 ('10x_0um', 'breast', 'breast', '19TB', '19TB')\n",
      "ovrlpy_correction_signal_integrity_threshold=0.5 ('10x_0um', 'breast', 'breast', '1FO7', '1FO7')\n",
      "ovrlpy_correction_signal_integrity_threshold=0.5 ('10x_0um', 'NSCLC', 'lung', '1GA2', '1GA2')\n",
      "ovrlpy_correction_signal_integrity_threshold=0.5 ('10x_0um', 'NSCLC', 'lung', '0PSV', '0PSV')\n",
      "ovrlpy_correction_signal_integrity_threshold=0.5 ('10x_0um', 'NSCLC', 'lung', '0S8R', '0S8R')\n",
      "ovrlpy_correction_signal_integrity_threshold=0.5 ('10x_0um', 'NSCLC', 'lung', '1G73', '1G73')\n",
      "ovrlpy_correction_signal_integrity_threshold=0.5 ('10x_0um', 'NSCLC', 'lung', '1GAC', '1GAC')\n",
      "ovrlpy_correction_signal_integrity_threshold=0.5 ('10x_0um', 'NSCLC', 'lung', '1GFF', '1GFF')\n",
      "ovrlpy_correction_signal_integrity_threshold=0.5 ('10x_0um', 'NSCLC', 'lung', '0WMU', '0WMU_2')\n",
      "ovrlpy_correction_signal_integrity_threshold=0.5 ('10x_0um', 'NSCLC', 'lung', '1GVD', '1GVD')\n",
      "ovrlpy_correction_signal_integrity_threshold=0.5 ('10x_0um', 'NSCLC', 'lung', '1GDD', '1GDD')\n",
      "ovrlpy_correction_signal_integrity_threshold=0.5 ('10x_0um', 'NSCLC', 'lung', '0WMU', '0WMU_1')\n",
      "ovrlpy_correction_signal_integrity_threshold=0.5 ('10x_0um', 'NSCLC', 'chuvio', '1GA2', '1GA2')\n",
      "ovrlpy_correction_signal_integrity_threshold=0.5 ('10x_0um', 'NSCLC', 'lung', '1GQ9', '1GQ9')\n",
      "ovrlpy_correction_signal_integrity_threshold=0.5 ('10x_0um', 'NSCLC', 'chuvio', '0PSV', '0PSV_1')\n",
      "File does not exist: /work/PRTNR/CHUV/DIR/rgottar1/spatial/env/xenium_paper/results/contamination_metrics_diffexpr_corrected_counts/ovrlpy_correction_signal_integrity_threshold=0.5/10x_0um/NSCLC/5k/0PSV/0PSV/lognorm/data_matched_reference_combo_rctd_class_aware_Level2.1_diffexpr.parquet\n",
      "ovrlpy_correction_signal_integrity_threshold=0.5 ('10x_0um', 'NSCLC', 'chuvio', '0WMU', '0WMU')\n",
      "ovrlpy_correction_signal_integrity_threshold=0.5 ('10x_0um', 'NSCLC', 'chuvio', '1G73', '1G73')\n",
      "ovrlpy_correction_signal_integrity_threshold=0.5 ('10x_0um', 'NSCLC', 'chuvio', '0PSV', '0PSV_2')\n",
      "File does not exist: /work/PRTNR/CHUV/DIR/rgottar1/spatial/env/xenium_paper/results/contamination_metrics_diffexpr_corrected_counts/ovrlpy_correction_signal_integrity_threshold=0.5/10x_0um/NSCLC/5k/1GDD/1GDD/lognorm/data_matched_reference_combo_rctd_class_aware_Level2.1_diffexpr.parquet\n",
      "File does not exist: /work/PRTNR/CHUV/DIR/rgottar1/spatial/env/xenium_paper/results/contamination_metrics_diffexpr_corrected_counts/ovrlpy_correction_signal_integrity_threshold=0.5/10x_0um/NSCLC/5k/1GAC/1GAC/lognorm/data_matched_reference_combo_rctd_class_aware_Level2.1_diffexpr.parquet\n",
      "File does not exist: /work/PRTNR/CHUV/DIR/rgottar1/spatial/env/xenium_paper/results/contamination_metrics_diffexpr_corrected_counts/ovrlpy_correction_signal_integrity_threshold=0.5/10x_0um/NSCLC/5k/1GQ9/1GQ9/lognorm/data_matched_reference_combo_rctd_class_aware_Level2.1_diffexpr.parquet\n",
      "File does not exist: /work/PRTNR/CHUV/DIR/rgottar1/spatial/env/xenium_paper/results/contamination_metrics_diffexpr_corrected_counts/ovrlpy_correction_signal_integrity_threshold=0.5/10x_0um/NSCLC/5k/1GVD/1GVD/lognorm/data_matched_reference_combo_rctd_class_aware_Level2.1_diffexpr.parquet\n",
      "File does not exist: /work/PRTNR/CHUV/DIR/rgottar1/spatial/env/xenium_paper/results/contamination_metrics_diffexpr_corrected_counts/ovrlpy_correction_signal_integrity_threshold=0.7/proseg_expected/breast/breast/1FYB/1FYB/lognorm/data_matched_reference_combo_rctd_class_aware_Level2.1_diffexpr.parquet\n",
      "File does not exist: /work/PRTNR/CHUV/DIR/rgottar1/spatial/env/xenium_paper/results/contamination_metrics_diffexpr_corrected_counts/ovrlpy_correction_signal_integrity_threshold=0.7/proseg_expected/breast/breast/OPHI/OPHI_3/lognorm/data_matched_reference_combo_rctd_class_aware_Level2.1_diffexpr.parquet\n",
      "File does not exist: /work/PRTNR/CHUV/DIR/rgottar1/spatial/env/xenium_paper/results/contamination_metrics_diffexpr_corrected_counts/ovrlpy_correction_signal_integrity_threshold=0.7/proseg_expected/breast/breast/OPHI/OPHI_1/lognorm/data_matched_reference_combo_rctd_class_aware_Level2.1_diffexpr.parquet\n",
      "File does not exist: /work/PRTNR/CHUV/DIR/rgottar1/spatial/env/xenium_paper/results/contamination_metrics_diffexpr_corrected_counts/ovrlpy_correction_signal_integrity_threshold=0.7/proseg_expected/breast/breast/OPHI/OPHI_2/lognorm/data_matched_reference_combo_rctd_class_aware_Level2.1_diffexpr.parquet\n",
      "File does not exist: /work/PRTNR/CHUV/DIR/rgottar1/spatial/env/xenium_paper/results/contamination_metrics_diffexpr_corrected_counts/ovrlpy_correction_signal_integrity_threshold=0.7/proseg_expected/breast/breast/1BCA/1BCA/lognorm/data_matched_reference_combo_rctd_class_aware_Level2.1_diffexpr.parquet\n",
      "File does not exist: /work/PRTNR/CHUV/DIR/rgottar1/spatial/env/xenium_paper/results/contamination_metrics_diffexpr_corrected_counts/ovrlpy_correction_signal_integrity_threshold=0.7/proseg_expected/breast/breast/0PD6/0PD6/lognorm/data_matched_reference_combo_rctd_class_aware_Level2.1_diffexpr.parquet\n",
      "File does not exist: /work/PRTNR/CHUV/DIR/rgottar1/spatial/env/xenium_paper/results/contamination_metrics_diffexpr_corrected_counts/ovrlpy_correction_signal_integrity_threshold=0.5/10x_0um/NSCLC/5k/1G73/1G73/lognorm/data_matched_reference_combo_rctd_class_aware_Level2.1_diffexpr.parquet\n",
      "File does not exist: /work/PRTNR/CHUV/DIR/rgottar1/spatial/env/xenium_paper/results/contamination_metrics_diffexpr_corrected_counts/ovrlpy_correction_signal_integrity_threshold=0.7/proseg_expected/breast/breast/1GV1/1GV1/lognorm/data_matched_reference_combo_rctd_class_aware_Level2.1_diffexpr.parquet\n",
      "File does not exist: /work/PRTNR/CHUV/DIR/rgottar1/spatial/env/xenium_paper/results/contamination_metrics_diffexpr_corrected_counts/ovrlpy_correction_signal_integrity_threshold=0.7/proseg_expected/breast/breast/1GVR/1GVR/lognorm/data_matched_reference_combo_rctd_class_aware_Level2.1_diffexpr.parquet\n",
      "File does not exist: /work/PRTNR/CHUV/DIR/rgottar1/spatial/env/xenium_paper/results/contamination_metrics_diffexpr_corrected_counts/ovrlpy_correction_signal_integrity_threshold=0.7/proseg_expected/breast/breast/1FHZ/1FHZ/lognorm/data_matched_reference_combo_rctd_class_aware_Level2.1_diffexpr.parquet\n",
      "File does not exist: /work/PRTNR/CHUV/DIR/rgottar1/spatial/env/xenium_paper/results/contamination_metrics_diffexpr_corrected_counts/ovrlpy_correction_signal_integrity_threshold=0.7/proseg_expected/breast/breast/1256/1256/lognorm/data_matched_reference_combo_rctd_class_aware_Level2.1_diffexpr.parquet\n",
      "File does not exist: /work/PRTNR/CHUV/DIR/rgottar1/spatial/env/xenium_paper/results/contamination_metrics_diffexpr_corrected_counts/ovrlpy_correction_signal_integrity_threshold=0.7/proseg_expected/breast/breast/0U9A/0U9A/lognorm/data_matched_reference_combo_rctd_class_aware_Level2.1_diffexpr.parquet\n",
      "File does not exist: /work/PRTNR/CHUV/DIR/rgottar1/spatial/env/xenium_paper/results/contamination_metrics_diffexpr_corrected_counts/ovrlpy_correction_signal_integrity_threshold=0.7/proseg_expected/breast/breast/0VRA/0VRA/lognorm/data_matched_reference_combo_rctd_class_aware_Level2.1_diffexpr.parquet\n",
      "File does not exist: /work/PRTNR/CHUV/DIR/rgottar1/spatial/env/xenium_paper/results/contamination_metrics_diffexpr_corrected_counts/ovrlpy_correction_signal_integrity_threshold=0.7/proseg_expected/breast/breast/1H27/1H27/lognorm/data_matched_reference_combo_rctd_class_aware_Level2.1_diffexpr.parquet\n",
      "File does not exist: /work/PRTNR/CHUV/DIR/rgottar1/spatial/env/xenium_paper/results/contamination_metrics_diffexpr_corrected_counts/ovrlpy_correction_signal_integrity_threshold=0.7/proseg_expected/breast/breast/1GUC/1GUC/lognorm/data_matched_reference_combo_rctd_class_aware_Level2.1_diffexpr.parquet\n",
      "File does not exist: /work/PRTNR/CHUV/DIR/rgottar1/spatial/env/xenium_paper/results/contamination_metrics_diffexpr_corrected_counts/ovrlpy_correction_signal_integrity_threshold=0.7/proseg_expected/breast/breast/0OE1/0OE1/lognorm/data_matched_reference_combo_rctd_class_aware_Level2.1_diffexpr.parquet\n",
      "File does not exist: /work/PRTNR/CHUV/DIR/rgottar1/spatial/env/xenium_paper/results/contamination_metrics_diffexpr_corrected_counts/ovrlpy_correction_signal_integrity_threshold=0.7/proseg_expected/breast/breast/19TB/19TB/lognorm/data_matched_reference_combo_rctd_class_aware_Level2.1_diffexpr.parquet\n",
      "File does not exist: /work/PRTNR/CHUV/DIR/rgottar1/spatial/env/xenium_paper/results/contamination_metrics_diffexpr_corrected_counts/ovrlpy_correction_signal_integrity_threshold=0.7/proseg_expected/breast/breast/1FO7/1FO7/lognorm/data_matched_reference_combo_rctd_class_aware_Level2.1_diffexpr.parquet\n",
      "File does not exist: /work/PRTNR/CHUV/DIR/rgottar1/spatial/env/xenium_paper/results/contamination_metrics_diffexpr_corrected_counts/ovrlpy_correction_signal_integrity_threshold=0.7/proseg_expected/NSCLC/lung/1GA2/1GA2/lognorm/data_matched_reference_combo_rctd_class_aware_Level2.1_diffexpr.parquet\n",
      "File does not exist: /work/PRTNR/CHUV/DIR/rgottar1/spatial/env/xenium_paper/results/contamination_metrics_diffexpr_corrected_counts/ovrlpy_correction_signal_integrity_threshold=0.7/proseg_expected/NSCLC/lung/0PSV/0PSV/lognorm/data_matched_reference_combo_rctd_class_aware_Level2.1_diffexpr.parquet\n",
      "File does not exist: /work/PRTNR/CHUV/DIR/rgottar1/spatial/env/xenium_paper/results/contamination_metrics_diffexpr_corrected_counts/ovrlpy_correction_signal_integrity_threshold=0.7/proseg_expected/NSCLC/lung/0S8R/0S8R/lognorm/data_matched_reference_combo_rctd_class_aware_Level2.1_diffexpr.parquet\n",
      "File does not exist: /work/PRTNR/CHUV/DIR/rgottar1/spatial/env/xenium_paper/results/contamination_metrics_diffexpr_corrected_counts/ovrlpy_correction_signal_integrity_threshold=0.7/proseg_expected/NSCLC/lung/1G73/1G73/lognorm/data_matched_reference_combo_rctd_class_aware_Level2.1_diffexpr.parquet\n",
      "File does not exist: /work/PRTNR/CHUV/DIR/rgottar1/spatial/env/xenium_paper/results/contamination_metrics_diffexpr_corrected_counts/ovrlpy_correction_signal_integrity_threshold=0.7/proseg_expected/NSCLC/lung/1GDD/1GDD/lognorm/data_matched_reference_combo_rctd_class_aware_Level2.1_diffexpr.parquet\n",
      "File does not exist: /work/PRTNR/CHUV/DIR/rgottar1/spatial/env/xenium_paper/results/contamination_metrics_diffexpr_corrected_counts/ovrlpy_correction_signal_integrity_threshold=0.7/proseg_expected/NSCLC/lung/1GFF/1GFF/lognorm/data_matched_reference_combo_rctd_class_aware_Level2.1_diffexpr.parquet\n",
      "File does not exist: /work/PRTNR/CHUV/DIR/rgottar1/spatial/env/xenium_paper/results/contamination_metrics_diffexpr_corrected_counts/ovrlpy_correction_signal_integrity_threshold=0.7/proseg_expected/NSCLC/lung/1GAC/1GAC/lognorm/data_matched_reference_combo_rctd_class_aware_Level2.1_diffexpr.parquet\n",
      "File does not exist: /work/PRTNR/CHUV/DIR/rgottar1/spatial/env/xenium_paper/results/contamination_metrics_diffexpr_corrected_counts/ovrlpy_correction_signal_integrity_threshold=0.7/proseg_expected/NSCLC/lung/0WMU/0WMU_1/lognorm/data_matched_reference_combo_rctd_class_aware_Level2.1_diffexpr.parquet\n",
      "File does not exist: /work/PRTNR/CHUV/DIR/rgottar1/spatial/env/xenium_paper/results/contamination_metrics_diffexpr_corrected_counts/ovrlpy_correction_signal_integrity_threshold=0.7/proseg_expected/NSCLC/lung/0WMU/0WMU_2/lognorm/data_matched_reference_combo_rctd_class_aware_Level2.1_diffexpr.parquet\n",
      "File does not exist: /work/PRTNR/CHUV/DIR/rgottar1/spatial/env/xenium_paper/results/contamination_metrics_diffexpr_corrected_counts/ovrlpy_correction_signal_integrity_threshold=0.7/proseg_expected/NSCLC/lung/1GQ9/1GQ9/lognorm/data_matched_reference_combo_rctd_class_aware_Level2.1_diffexpr.parquet\n",
      "File does not exist: /work/PRTNR/CHUV/DIR/rgottar1/spatial/env/xenium_paper/results/contamination_metrics_diffexpr_corrected_counts/ovrlpy_correction_signal_integrity_threshold=0.7/proseg_expected/breast/breast/14LZ/14LZ/lognorm/data_matched_reference_combo_rctd_class_aware_Level2.1_diffexpr.parquet\n",
      "File does not exist: /work/PRTNR/CHUV/DIR/rgottar1/spatial/env/xenium_paper/results/contamination_metrics_diffexpr_corrected_counts/ovrlpy_correction_signal_integrity_threshold=0.7/proseg_expected/NSCLC/lung/1GVD/1GVD/lognorm/data_matched_reference_combo_rctd_class_aware_Level2.1_diffexpr.parquet\n",
      "File does not exist: /work/PRTNR/CHUV/DIR/rgottar1/spatial/env/xenium_paper/results/contamination_metrics_diffexpr_corrected_counts/ovrlpy_correction_signal_integrity_threshold=0.7/proseg_expected/NSCLC/chuvio/0PSV/0PSV_1/lognorm/data_matched_reference_combo_rctd_class_aware_Level2.1_diffexpr.parquet\n",
      "File does not exist: /work/PRTNR/CHUV/DIR/rgottar1/spatial/env/xenium_paper/results/contamination_metrics_diffexpr_corrected_counts/ovrlpy_correction_signal_integrity_threshold=0.7/proseg_expected/NSCLC/chuvio/0PSV/0PSV_2/lognorm/data_matched_reference_combo_rctd_class_aware_Level2.1_diffexpr.parquet\n",
      "File does not exist: /work/PRTNR/CHUV/DIR/rgottar1/spatial/env/xenium_paper/results/contamination_metrics_diffexpr_corrected_counts/ovrlpy_correction_signal_integrity_threshold=0.7/proseg_expected/NSCLC/chuvio/1G73/1G73/lognorm/data_matched_reference_combo_rctd_class_aware_Level2.1_diffexpr.parquet\n",
      "File does not exist: /work/PRTNR/CHUV/DIR/rgottar1/spatial/env/xenium_paper/results/contamination_metrics_diffexpr_corrected_counts/ovrlpy_correction_signal_integrity_threshold=0.7/proseg_expected/NSCLC/chuvio/0WMU/0WMU/lognorm/data_matched_reference_combo_rctd_class_aware_Level2.1_diffexpr.parquet\n",
      "File does not exist: /work/PRTNR/CHUV/DIR/rgottar1/spatial/env/xenium_paper/results/contamination_metrics_diffexpr_corrected_counts/ovrlpy_correction_signal_integrity_threshold=0.7/proseg_expected/NSCLC/5k/0PSV/0PSV/lognorm/data_matched_reference_combo_rctd_class_aware_Level2.1_diffexpr.parquet\n",
      "File does not exist: /work/PRTNR/CHUV/DIR/rgottar1/spatial/env/xenium_paper/results/contamination_metrics_diffexpr_corrected_counts/ovrlpy_correction_signal_integrity_threshold=0.7/proseg_expected/NSCLC/5k/1G73/1G73/lognorm/data_matched_reference_combo_rctd_class_aware_Level2.1_diffexpr.parquet\n",
      "File does not exist: /work/PRTNR/CHUV/DIR/rgottar1/spatial/env/xenium_paper/results/contamination_metrics_diffexpr_corrected_counts/ovrlpy_correction_signal_integrity_threshold=0.7/proseg_expected/NSCLC/5k/1GDD/1GDD/lognorm/data_matched_reference_combo_rctd_class_aware_Level2.1_diffexpr.parquet\n",
      "File does not exist: /work/PRTNR/CHUV/DIR/rgottar1/spatial/env/xenium_paper/results/contamination_metrics_diffexpr_corrected_counts/ovrlpy_correction_signal_integrity_threshold=0.7/proseg_expected/NSCLC/5k/1GAC/1GAC/lognorm/data_matched_reference_combo_rctd_class_aware_Level2.1_diffexpr.parquet\n",
      "File does not exist: /work/PRTNR/CHUV/DIR/rgottar1/spatial/env/xenium_paper/results/contamination_metrics_diffexpr_corrected_counts/ovrlpy_correction_signal_integrity_threshold=0.7/proseg_expected/NSCLC/5k/1GQ9/1GQ9/lognorm/data_matched_reference_combo_rctd_class_aware_Level2.1_diffexpr.parquet\n",
      "File does not exist: /work/PRTNR/CHUV/DIR/rgottar1/spatial/env/xenium_paper/results/contamination_metrics_diffexpr_corrected_counts/ovrlpy_correction_signal_integrity_threshold=0.7/proseg_expected/NSCLC/5k/1GVD/1GVD/lognorm/data_matched_reference_combo_rctd_class_aware_Level2.1_diffexpr.parquet\n",
      "File does not exist: /work/PRTNR/CHUV/DIR/rgottar1/spatial/env/xenium_paper/results/contamination_metrics_diffexpr_corrected_counts/ovrlpy_correction_signal_integrity_threshold=0.7/proseg_expected/breast/breast/1ESQ/1ESQ/lognorm/data_matched_reference_combo_rctd_class_aware_Level2.1_diffexpr.parquet\n",
      "File does not exist: /work/PRTNR/CHUV/DIR/rgottar1/spatial/env/xenium_paper/results/contamination_metrics_diffexpr_corrected_counts/ovrlpy_correction_signal_integrity_threshold=0.7/proseg_expected/NSCLC/chuvio/1GA2/1GA2/lognorm/data_matched_reference_combo_rctd_class_aware_Level2.1_diffexpr.parquet\n",
      "ovrlpy_correction_signal_integrity_threshold=0.7 ('segger', 'breast', 'breast', 'OPHI', 'OPHI_3')\n",
      "ovrlpy_correction_signal_integrity_threshold=0.7 ('segger', 'breast', 'breast', '1FYB', '1FYB')\n",
      "ovrlpy_correction_signal_integrity_threshold=0.7 ('segger', 'breast', 'breast', 'OPHI', 'OPHI_1')\n",
      "ovrlpy_correction_signal_integrity_threshold=0.7 ('segger', 'breast', 'breast', 'OPHI', 'OPHI_2')\n",
      "ovrlpy_correction_signal_integrity_threshold=0.7 ('segger', 'breast', 'breast', '1BCA', '1BCA')\n",
      "ovrlpy_correction_signal_integrity_threshold=0.7ovrlpy_correction_signal_integrity_threshold=0.7 ('segger', 'breast', 'breast', '1GVR', '1GVR')\n",
      "ovrlpy_correction_signal_integrity_threshold=0.7 ('segger', 'breast', 'breast', '1FHZ', '1FHZ')\n",
      "ovrlpy_correction_signal_integrity_threshold=0.7 ('segger', 'breast', 'breast', '1GV1', '1GV1')\n",
      "ovrlpy_correction_signal_integrity_threshold=0.7 ('segger', 'breast', 'breast', '1256', '1256')\n",
      "ovrlpy_correction_signal_integrity_threshold=0.7 ('segger', 'breast', 'breast', '1ESQ', '1ESQ')\n",
      "ovrlpy_correction_signal_integrity_threshold=0.7 ('segger', 'breast', 'breast', '0U9A', '0U9A')\n",
      "ovrlpy_correction_signal_integrity_threshold=0.7 ('segger', 'breast', 'breast', '14LZ', '14LZ')\n",
      " ('segger', 'breast', 'breast', '0PD6', '0PD6')\n",
      "ovrlpy_correction_signal_integrity_threshold=0.7 ('segger', 'breast', 'breast', '0VRA', '0VRA')\n",
      "ovrlpy_correction_signal_integrity_threshold=0.7 ('segger', 'breast', 'breast', '1H27', '1H27')\n",
      "ovrlpy_correction_signal_integrity_threshold=0.7 ('segger', 'breast', 'breast', '1GUC', '1GUC')\n",
      "ovrlpy_correction_signal_integrity_threshold=0.7 ('segger', 'breast', 'breast', '0OE1', '0OE1')\n",
      "ovrlpy_correction_signal_integrity_threshold=0.7 ('segger', 'breast', 'breast', '19TB', '19TB')\n",
      "ovrlpy_correction_signal_integrity_threshold=0.7 ('segger', 'breast', 'breast', '1FO7', '1FO7')\n",
      "ovrlpy_correction_signal_integrity_threshold=0.7 ('segger', 'NSCLC', 'lung', '1GA2', '1GA2')\n",
      "ovrlpy_correction_signal_integrity_threshold=0.7 ('segger', 'NSCLC', 'lung', '0PSV', '0PSV')\n",
      "ovrlpy_correction_signal_integrity_threshold=0.7 ('segger', 'NSCLC', 'lung', '1GFF', '1GFF')\n",
      "ovrlpy_correction_signal_integrity_threshold=0.7 ('segger', 'NSCLC', 'lung', '1G73', '1G73')\n",
      "ovrlpy_correction_signal_integrity_threshold=0.7 ('segger', 'NSCLC', 'lung', '0S8R', '0S8R')\n",
      "ovrlpy_correction_signal_integrity_threshold=0.7 ('segger', 'NSCLC', 'lung', '1GDD', '1GDD')\n",
      "ovrlpy_correction_signal_integrity_threshold=0.7 ('segger', 'NSCLC', 'lung', '1GAC', '1GAC')\n",
      "ovrlpy_correction_signal_integrity_threshold=0.7 ('segger', 'NSCLC', 'lung', '0WMU', '0WMU_1')\n",
      "ovrlpy_correction_signal_integrity_threshold=0.7 ('segger', 'NSCLC', 'lung', '0WMU', '0WMU_2')\n",
      "ovrlpy_correction_signal_integrity_threshold=0.7 ('segger', 'NSCLC', 'chuvio', '1GA2', '1GA2')\n",
      "ovrlpy_correction_signal_integrity_threshold=0.7 ('segger', 'NSCLC', 'lung', '1GVD', '1GVD')\n",
      "ovrlpy_correction_signal_integrity_threshold=0.7 ('segger', 'NSCLC', 'lung', '1GQ9', '1GQ9')\n",
      "File does not exist: /work/PRTNR/CHUV/DIR/rgottar1/spatial/env/xenium_paper/results/contamination_metrics_diffexpr_corrected_counts/ovrlpy_correction_signal_integrity_threshold=0.7/segger/NSCLC/5k/0PSV/0PSV/lognorm/data_matched_reference_combo_rctd_class_aware_Level2.1_diffexpr.parquet\n",
      "File does not exist: /work/PRTNR/CHUV/DIR/rgottar1/spatial/env/xenium_paper/results/contamination_metrics_diffexpr_corrected_counts/ovrlpy_correction_signal_integrity_threshold=0.7/segger/NSCLC/5k/1G73/1G73/lognorm/data_matched_reference_combo_rctd_class_aware_Level2.1_diffexpr.parquet\n",
      "ovrlpy_correction_signal_integrity_threshold=0.7 ('segger', 'NSCLC', 'chuvio', '0WMU', '0WMU')\n",
      "File does not exist: /work/PRTNR/CHUV/DIR/rgottar1/spatial/env/xenium_paper/results/contamination_metrics_diffexpr_corrected_counts/ovrlpy_correction_signal_integrity_threshold=0.7/segger/NSCLC/5k/1GDD/1GDD/lognorm/data_matched_reference_combo_rctd_class_aware_Level2.1_diffexpr.parquet\n",
      "File does not exist: /work/PRTNR/CHUV/DIR/rgottar1/spatial/env/xenium_paper/results/contamination_metrics_diffexpr_corrected_counts/ovrlpy_correction_signal_integrity_threshold=0.7/segger/NSCLC/5k/1GAC/1GAC/lognorm/data_matched_reference_combo_rctd_class_aware_Level2.1_diffexpr.parquet\n",
      "File does not exist: /work/PRTNR/CHUV/DIR/rgottar1/spatial/env/xenium_paper/results/contamination_metrics_diffexpr_corrected_counts/ovrlpy_correction_signal_integrity_threshold=0.7/segger/NSCLC/5k/1GQ9/1GQ9/lognorm/data_matched_reference_combo_rctd_class_aware_Level2.1_diffexpr.parquet\n",
      "ovrlpy_correction_signal_integrity_threshold=0.7 ('segger', 'NSCLC', 'chuvio', '0PSV', '0PSV_1')\n",
      "ovrlpy_correction_signal_integrity_threshold=0.7 ('segger', 'NSCLC', 'chuvio', '1G73', '1G73')\n",
      "File does not exist: /work/PRTNR/CHUV/DIR/rgottar1/spatial/env/xenium_paper/results/contamination_metrics_diffexpr_corrected_counts/ovrlpy_correction_signal_integrity_threshold=0.7/segger/NSCLC/5k/1GVD/1GVD/lognorm/data_matched_reference_combo_rctd_class_aware_Level2.1_diffexpr.parquet\n",
      "ovrlpy_correction_signal_integrity_threshold=0.7 ('10x_5um', 'breast', 'breast', 'OPHI', 'OPHI_1')\n",
      "ovrlpy_correction_signal_integrity_threshold=0.7 ('segger', 'NSCLC', 'chuvio', '0PSV', '0PSV_2')\n",
      "ovrlpy_correction_signal_integrity_threshold=0.7 ('10x_5um', 'breast', 'breast', 'OPHI', 'OPHI_3')\n",
      "ovrlpy_correction_signal_integrity_threshold=0.7 ('10x_5um', 'breast', 'breast', 'OPHI', 'OPHI_2')\n",
      "ovrlpy_correction_signal_integrity_threshold=0.7 ('10x_5um', 'breast', 'breast', '1GV1', '1GV1')\n",
      "ovrlpy_correction_signal_integrity_threshold=0.7 ('10x_5um', 'breast', 'breast', '1256', '1256')\n",
      "ovrlpy_correction_signal_integrity_threshold=0.7 ('10x_5um', 'breast', 'breast', '0PD6', '0PD6')\n",
      "ovrlpy_correction_signal_integrity_threshold=0.7 ('10x_5um', 'breast', 'breast', '1BCA', '1BCA')\n",
      "ovrlpy_correction_signal_integrity_threshold=0.7 ('10x_5um', 'breast', 'breast', '1FYB', '1FYB')\n",
      "ovrlpy_correction_signal_integrity_threshold=0.7 ('10x_5um', 'breast', 'breast', '1GVR', '1GVR')\n",
      "ovrlpy_correction_signal_integrity_threshold=0.7 ('10x_5um', 'breast', 'breast', '1FHZ', '1FHZ')\n",
      "ovrlpy_correction_signal_integrity_threshold=0.7 ('10x_5um', 'breast', 'breast', '1ESQ', '1ESQ')\n",
      "ovrlpy_correction_signal_integrity_threshold=0.7 ('10x_5um', 'breast', 'breast', '14LZ', '14LZ')\n",
      "ovrlpy_correction_signal_integrity_threshold=0.7 ('10x_5um', 'breast', 'breast', '0U9A', '0U9A')\n",
      "ovrlpy_correction_signal_integrity_threshold=0.7 ('10x_5um', 'breast', 'breast', '0VRA', '0VRA')\n",
      "ovrlpy_correction_signal_integrity_threshold=0.7 ('10x_5um', 'breast', 'breast', '1H27', '1H27')\n",
      "ovrlpy_correction_signal_integrity_threshold=0.7 ('10x_5um', 'breast', 'breast', '1GUC', '1GUC')\n",
      "ovrlpy_correction_signal_integrity_threshold=0.7 ('10x_5um', 'breast', 'breast', '0OE1', '0OE1')\n",
      "ovrlpy_correction_signal_integrity_threshold=0.7 ('10x_5um', 'breast', 'breast', '19TB', '19TB')\n",
      "ovrlpy_correction_signal_integrity_threshold=0.7 ('10x_5um', 'NSCLC', 'lung', '1GA2', '1GA2')\n",
      "ovrlpy_correction_signal_integrity_threshold=0.7 ('10x_5um', 'NSCLC', 'lung', '0PSV', '0PSV')\n",
      "ovrlpy_correction_signal_integrity_threshold=0.7 ('10x_5um', 'breast', 'breast', '1FO7', '1FO7')\n",
      "ovrlpy_correction_signal_integrity_threshold=0.7 ('10x_5um', 'NSCLC', 'lung', '0S8R', '0S8R')\n",
      "ovrlpy_correction_signal_integrity_threshold=0.7 ('10x_5um', 'NSCLC', 'lung', '1GFF', '1GFF')\n",
      "ovrlpy_correction_signal_integrity_threshold=0.7 ('10x_5um', 'NSCLC', 'lung', '1G73', '1G73')\n",
      "ovrlpy_correction_signal_integrity_threshold=0.7 ('10x_5um', 'NSCLC', 'lung', '1GDD', '1GDD')\n",
      "ovrlpy_correction_signal_integrity_threshold=0.7 ('10x_5um', 'NSCLC', 'lung', '1GAC', '1GAC')\n",
      "ovrlpy_correction_signal_integrity_threshold=0.7 ('10x_5um', 'NSCLC', 'lung', '0WMU', '0WMU_1')\n",
      "ovrlpy_correction_signal_integrity_threshold=0.7 ('10x_5um', 'NSCLC', 'lung', '1GQ9', '1GQ9')\n",
      "ovrlpy_correction_signal_integrity_threshold=0.7 ('10x_5um', 'NSCLC', 'lung', '0WMU', '0WMU_2')\n",
      "ovrlpy_correction_signal_integrity_threshold=0.7 ('10x_5um', 'NSCLC', 'lung', '1GVD', '1GVD')\n",
      "ovrlpy_correction_signal_integrity_threshold=0.7 ('10x_5um', 'NSCLC', 'chuvio', '1GA2', '1GA2')\n",
      "ovrlpy_correction_signal_integrity_threshold=0.7 ('10x_5um', 'NSCLC', 'chuvio', '0PSV', '0PSV_1')\n",
      "ovrlpy_correction_signal_integrity_threshold=0.7 ('10x_5um', 'NSCLC', 'chuvio', '0WMU', '0WMU')\n",
      "ovrlpy_correction_signal_integrity_threshold=0.7 ('10x_5um', 'NSCLC', 'chuvio', '1G73', '1G73')\n",
      "ovrlpy_correction_signal_integrity_threshold=0.7 ('10x_5um', 'NSCLC', 'chuvio', '0PSV', '0PSV_2')\n",
      "File does not exist: /work/PRTNR/CHUV/DIR/rgottar1/spatial/env/xenium_paper/results/contamination_metrics_diffexpr_corrected_counts/ovrlpy_correction_signal_integrity_threshold=0.7/10x_5um/NSCLC/5k/0PSV/0PSV/lognorm/data_matched_reference_combo_rctd_class_aware_Level2.1_diffexpr.parquet\n",
      "File does not exist: /work/PRTNR/CHUV/DIR/rgottar1/spatial/env/xenium_paper/results/contamination_metrics_diffexpr_corrected_counts/ovrlpy_correction_signal_integrity_threshold=0.7/10x_5um/NSCLC/5k/1G73/1G73/lognorm/data_matched_reference_combo_rctd_class_aware_Level2.1_diffexpr.parquet\n",
      "File does not exist: /work/PRTNR/CHUV/DIR/rgottar1/spatial/env/xenium_paper/results/contamination_metrics_diffexpr_corrected_counts/ovrlpy_correction_signal_integrity_threshold=0.7/10x_5um/NSCLC/5k/1GDD/1GDD/lognorm/data_matched_reference_combo_rctd_class_aware_Level2.1_diffexpr.parquet\n",
      "File does not exist: /work/PRTNR/CHUV/DIR/rgottar1/spatial/env/xenium_paper/results/contamination_metrics_diffexpr_corrected_counts/ovrlpy_correction_signal_integrity_threshold=0.7/10x_5um/NSCLC/5k/1GAC/1GAC/lognorm/data_matched_reference_combo_rctd_class_aware_Level2.1_diffexpr.parquet\n",
      "File does not exist: /work/PRTNR/CHUV/DIR/rgottar1/spatial/env/xenium_paper/results/contamination_metrics_diffexpr_corrected_counts/ovrlpy_correction_signal_integrity_threshold=0.7/10x_5um/NSCLC/5k/1GQ9/1GQ9/lognorm/data_matched_reference_combo_rctd_class_aware_Level2.1_diffexpr.parquet\n",
      "File does not exist: /work/PRTNR/CHUV/DIR/rgottar1/spatial/env/xenium_paper/results/contamination_metrics_diffexpr_corrected_counts/ovrlpy_correction_signal_integrity_threshold=0.7/10x_5um/NSCLC/5k/1GVD/1GVD/lognorm/data_matched_reference_combo_rctd_class_aware_Level2.1_diffexpr.parquet\n",
      "ovrlpy_correction_signal_integrity_threshold=0.7 ('10x_15um', 'breast', 'breast', '1FYB', '1FYB')\n",
      "ovrlpy_correction_signal_integrity_threshold=0.7 ('10x_15um', 'breast', 'breast', 'OPHI', 'OPHI_1')\n",
      "ovrlpy_correction_signal_integrity_threshold=0.7 ('10x_15um', 'breast', 'breast', 'OPHI', 'OPHI_3')\n",
      "ovrlpy_correction_signal_integrity_threshold=0.7 ('10x_15um', 'breast', 'breast', 'OPHI', 'OPHI_2')\n",
      "ovrlpy_correction_signal_integrity_threshold=0.7 ('10x_15um', 'breast', 'breast', '1256', '1256')\n",
      "ovrlpy_correction_signal_integrity_threshold=0.7 ('10x_15um', 'breast', 'breast', '1BCA', '1BCA')\n",
      "ovrlpy_correction_signal_integrity_threshold=0.7ovrlpy_correction_signal_integrity_threshold=0.7 ('10x_15um', 'breast', 'breast', '0PD6', '0PD6')\n",
      " ('10x_15um', 'breast', 'breast', '1GV1', '1GV1')\n",
      "ovrlpy_correction_signal_integrity_threshold=0.7 ('10x_15um', 'breast', 'breast', '1FHZ', '1FHZ')\n",
      "ovrlpy_correction_signal_integrity_threshold=0.7 ('10x_15um', 'breast', 'breast', '0U9A', '0U9A')\n",
      "ovrlpy_correction_signal_integrity_threshold=0.7 ('10x_15um', 'breast', 'breast', '1GVR', '1GVR')\n",
      "ovrlpy_correction_signal_integrity_threshold=0.7 ('10x_15um', 'breast', 'breast', '1ESQ', '1ESQ')\n",
      "ovrlpy_correction_signal_integrity_threshold=0.7 ('10x_15um', 'breast', 'breast', '0VRA', '0VRA')\n",
      "ovrlpy_correction_signal_integrity_threshold=0.7 ('10x_15um', 'breast', 'breast', '1H27', '1H27')\n",
      "ovrlpy_correction_signal_integrity_threshold=0.7 ('10x_15um', 'breast', 'breast', '1GUC', '1GUC')\n",
      "ovrlpy_correction_signal_integrity_threshold=0.7 ('10x_15um', 'breast', 'breast', '14LZ', '14LZ')\n",
      "ovrlpy_correction_signal_integrity_threshold=0.7 ('10x_15um', 'breast', 'breast', '0OE1', '0OE1')\n",
      "ovrlpy_correction_signal_integrity_threshold=0.7 ('10x_15um', 'breast', 'breast', '19TB', '19TB')\n",
      "ovrlpy_correction_signal_integrity_threshold=0.7 ('10x_15um', 'breast', 'breast', '1FO7', '1FO7')\n",
      "ovrlpy_correction_signal_integrity_threshold=0.7 ('10x_15um', 'NSCLC', 'lung', '1GA2', '1GA2')\n",
      "ovrlpy_correction_signal_integrity_threshold=0.7 ('10x_15um', 'NSCLC', 'lung', '0PSV', '0PSV')\n",
      "ovrlpy_correction_signal_integrity_threshold=0.7 ('10x_15um', 'NSCLC', 'lung', '1G73', '1G73')\n",
      "ovrlpy_correction_signal_integrity_threshold=0.7 ('10x_15um', 'NSCLC', 'lung', '0S8R', '0S8R')\n",
      "ovrlpy_correction_signal_integrity_threshold=0.7 ('10x_15um', 'NSCLC', 'lung', '1GFF', '1GFF')\n",
      "ovrlpy_correction_signal_integrity_threshold=0.7 ('10x_15um', 'NSCLC', 'lung', '1GAC', '1GAC')\n",
      "ovrlpy_correction_signal_integrity_threshold=0.7 ('10x_15um', 'NSCLC', 'lung', '0WMU', '0WMU_2')\n",
      "ovrlpy_correction_signal_integrity_threshold=0.7 ('10x_15um', 'NSCLC', 'lung', '1GDD', '1GDD')\n",
      "ovrlpy_correction_signal_integrity_threshold=0.7 ('10x_15um', 'NSCLC', 'lung', '1GVD', '1GVD')\n",
      "ovrlpy_correction_signal_integrity_threshold=0.7 ('10x_15um', 'NSCLC', 'lung', '0WMU', '0WMU_1')\n",
      "ovrlpy_correction_signal_integrity_threshold=0.7 ('10x_15um', 'NSCLC', 'lung', '1GQ9', '1GQ9')\n",
      "ovrlpy_correction_signal_integrity_threshold=0.7 ('10x_15um', 'NSCLC', 'chuvio', '1GA2', '1GA2')\n",
      "ovrlpy_correction_signal_integrity_threshold=0.7 ('10x_15um', 'NSCLC', 'chuvio', '0PSV', '0PSV_1')\n",
      "ovrlpy_correction_signal_integrity_threshold=0.7 ('10x_15um', 'NSCLC', 'chuvio', '0PSV', '0PSV_2')\n",
      "File does not exist: /work/PRTNR/CHUV/DIR/rgottar1/spatial/env/xenium_paper/results/contamination_metrics_diffexpr_corrected_counts/ovrlpy_correction_signal_integrity_threshold=0.7/10x_15um/NSCLC/5k/0PSV/0PSV/lognorm/data_matched_reference_combo_rctd_class_aware_Level2.1_diffexpr.parquet\n",
      "File does not exist: /work/PRTNR/CHUV/DIR/rgottar1/spatial/env/xenium_paper/results/contamination_metrics_diffexpr_corrected_counts/ovrlpy_correction_signal_integrity_threshold=0.7/10x_15um/NSCLC/5k/1GDD/1GDD/lognorm/data_matched_reference_combo_rctd_class_aware_Level2.1_diffexpr.parquet\n",
      "File does not exist: /work/PRTNR/CHUV/DIR/rgottar1/spatial/env/xenium_paper/results/contamination_metrics_diffexpr_corrected_counts/ovrlpy_correction_signal_integrity_threshold=0.7/10x_15um/NSCLC/5k/1G73/1G73/lognorm/data_matched_reference_combo_rctd_class_aware_Level2.1_diffexpr.parquet\n",
      "File does not exist: /work/PRTNR/CHUV/DIR/rgottar1/spatial/env/xenium_paper/results/contamination_metrics_diffexpr_corrected_counts/ovrlpy_correction_signal_integrity_threshold=0.7/10x_15um/NSCLC/5k/1GQ9/1GQ9/lognorm/data_matched_reference_combo_rctd_class_aware_Level2.1_diffexpr.parquet\n",
      "File does not exist: /work/PRTNR/CHUV/DIR/rgottar1/spatial/env/xenium_paper/results/contamination_metrics_diffexpr_corrected_counts/ovrlpy_correction_signal_integrity_threshold=0.7/10x_15um/NSCLC/5k/1GVD/1GVD/lognorm/data_matched_reference_combo_rctd_class_aware_Level2.1_diffexpr.parquet\n",
      "File does not exist: /work/PRTNR/CHUV/DIR/rgottar1/spatial/env/xenium_paper/results/contamination_metrics_diffexpr_corrected_counts/ovrlpy_correction_signal_integrity_threshold=0.7/10x_mm_5um/NSCLC/5k/0PSV/0PSV/lognorm/data_matched_reference_combo_rctd_class_aware_Level2.1_diffexpr.parquet\n",
      "File does not exist: /work/PRTNR/CHUV/DIR/rgottar1/spatial/env/xenium_paper/results/contamination_metrics_diffexpr_corrected_counts/ovrlpy_correction_signal_integrity_threshold=0.7/10x_mm_5um/NSCLC/5k/1G73/1G73/lognorm/data_matched_reference_combo_rctd_class_aware_Level2.1_diffexpr.parquet\n",
      "File does not exist: /work/PRTNR/CHUV/DIR/rgottar1/spatial/env/xenium_paper/results/contamination_metrics_diffexpr_corrected_counts/ovrlpy_correction_signal_integrity_threshold=0.7/10x_mm_5um/NSCLC/5k/1GDD/1GDD/lognorm/data_matched_reference_combo_rctd_class_aware_Level2.1_diffexpr.parquet\n",
      "File does not exist: /work/PRTNR/CHUV/DIR/rgottar1/spatial/env/xenium_paper/results/contamination_metrics_diffexpr_corrected_counts/ovrlpy_correction_signal_integrity_threshold=0.7/10x_mm_5um/NSCLC/5k/1GAC/1GAC/lognorm/data_matched_reference_combo_rctd_class_aware_Level2.1_diffexpr.parquet\n",
      "File does not exist: /work/PRTNR/CHUV/DIR/rgottar1/spatial/env/xenium_paper/results/contamination_metrics_diffexpr_corrected_counts/ovrlpy_correction_signal_integrity_threshold=0.7/10x_mm_5um/NSCLC/5k/1GQ9/1GQ9/lognorm/data_matched_reference_combo_rctd_class_aware_Level2.1_diffexpr.parquet\n",
      "File does not exist: /work/PRTNR/CHUV/DIR/rgottar1/spatial/env/xenium_paper/results/contamination_metrics_diffexpr_corrected_counts/ovrlpy_correction_signal_integrity_threshold=0.7/10x_mm_5um/NSCLC/5k/1GVD/1GVD/lognorm/data_matched_reference_combo_rctd_class_aware_Level2.1_diffexpr.parquet\n",
      "ovrlpy_correction_signal_integrity_threshold=0.7 ('10x_15um', 'NSCLC', 'chuvio', '1G73', '1G73')\n",
      "File does not exist: /work/PRTNR/CHUV/DIR/rgottar1/spatial/env/xenium_paper/results/contamination_metrics_diffexpr_corrected_counts/ovrlpy_correction_signal_integrity_threshold=0.7/10x_15um/NSCLC/5k/1GAC/1GAC/lognorm/data_matched_reference_combo_rctd_class_aware_Level2.1_diffexpr.parquet\n",
      "ovrlpy_correction_signal_integrity_threshold=0.7 ('baysor', 'breast', 'breast', 'OPHI', 'OPHI_3')\n",
      "ovrlpy_correction_signal_integrity_threshold=0.7 ('10x_15um', 'NSCLC', 'chuvio', '0WMU', '0WMU')\n",
      "ovrlpy_correction_signal_integrity_threshold=0.7 ('baysor', 'breast', 'breast', 'OPHI', 'OPHI_2')\n",
      "ovrlpy_correction_signal_integrity_threshold=0.7 ('baysor', 'breast', 'breast', 'OPHI', 'OPHI_1')\n",
      "ovrlpy_correction_signal_integrity_threshold=0.7 ('baysor', 'breast', 'breast', '1FYB', '1FYB')\n",
      "ovrlpy_correction_signal_integrity_threshold=0.7 ('baysor', 'breast', 'breast', '1BCA', '1BCA')\n",
      "ovrlpy_correction_signal_integrity_threshold=0.7 ('baysor', 'breast', 'breast', '0PD6', '0PD6')\n",
      "ovrlpy_correction_signal_integrity_threshold=0.7 ('baysor', 'breast', 'breast', '1GVR', '1GVR')\n",
      "ovrlpy_correction_signal_integrity_threshold=0.7 ('baysor', 'breast', 'breast', '1GV1', '1GV1')\n",
      "ovrlpy_correction_signal_integrity_threshold=0.7 ('baysor', 'breast', 'breast', '1256', '1256')\n",
      "ovrlpy_correction_signal_integrity_threshold=0.7 ('baysor', 'breast', 'breast', '1FHZ', '1FHZ')\n",
      "ovrlpy_correction_signal_integrity_threshold=0.7 ('baysor', 'breast', 'breast', '0U9A', '0U9A')\n",
      "ovrlpy_correction_signal_integrity_threshold=0.7 ('baysor', 'breast', 'breast', '14LZ', '14LZ')\n",
      "ovrlpy_correction_signal_integrity_threshold=0.7 ('baysor', 'breast', 'breast', '0VRA', '0VRA')\n",
      "ovrlpy_correction_signal_integrity_threshold=0.7 ('baysor', 'breast', 'breast', '1ESQ', '1ESQ')\n",
      "ovrlpy_correction_signal_integrity_threshold=0.7 ('baysor', 'breast', 'breast', '1H27', '1H27')\n",
      "ovrlpy_correction_signal_integrity_threshold=0.7 ('baysor', 'breast', 'breast', '1GUC', '1GUC')\n",
      "ovrlpy_correction_signal_integrity_threshold=0.7 ('baysor', 'breast', 'breast', '0OE1', '0OE1')\n",
      "ovrlpy_correction_signal_integrity_threshold=0.7 ('baysor', 'breast', 'breast', '19TB', '19TB')\n",
      "ovrlpy_correction_signal_integrity_threshold=0.7 ('baysor', 'breast', 'breast', '1FO7', '1FO7')\n",
      "ovrlpy_correction_signal_integrity_threshold=0.7 ('baysor', 'NSCLC', 'lung', '1GA2', '1GA2')\n",
      "ovrlpy_correction_signal_integrity_threshold=0.7 ('baysor', 'NSCLC', 'lung', '0S8R', '0S8R')\n",
      "ovrlpy_correction_signal_integrity_threshold=0.7 ('baysor', 'NSCLC', 'lung', '0PSV', '0PSV')\n",
      "ovrlpy_correction_signal_integrity_threshold=0.7 ('baysor', 'NSCLC', 'lung', '1G73', '1G73')\n",
      "ovrlpy_correction_signal_integrity_threshold=0.7 ('baysor', 'NSCLC', 'lung', '1GDD', '1GDD')\n",
      "ovrlpy_correction_signal_integrity_threshold=0.7 ('baysor', 'NSCLC', 'lung', '1GAC', '1GAC')\n",
      "ovrlpy_correction_signal_integrity_threshold=0.7 ('baysor', 'NSCLC', 'lung', '1GFF', '1GFF')\n",
      "ovrlpy_correction_signal_integrity_threshold=0.7 ('baysor', 'NSCLC', 'lung', '1GVD', '1GVD')\n",
      "ovrlpy_correction_signal_integrity_threshold=0.7 ('baysor', 'NSCLC', 'lung', '0WMU', '0WMU_2')\n",
      "ovrlpy_correction_signal_integrity_threshold=0.7 ('baysor', 'NSCLC', 'lung', '1GQ9', '1GQ9')\n",
      "ovrlpy_correction_signal_integrity_threshold=0.7 ('baysor', 'NSCLC', 'lung', '0WMU', '0WMU_1')\n",
      "ovrlpy_correction_signal_integrity_threshold=0.7 ('baysor', 'NSCLC', 'chuvio', '1GA2', '1GA2')\n",
      "ovrlpy_correction_signal_integrity_threshold=0.7 ('baysor', 'NSCLC', 'chuvio', '0PSV', '0PSV_1')\n",
      "ovrlpy_correction_signal_integrity_threshold=0.7 ('baysor', 'NSCLC', 'chuvio', '1G73', '1G73')\n",
      "ovrlpy_correction_signal_integrity_threshold=0.7 ('baysor', 'NSCLC', 'chuvio', '0PSV', '0PSV_2')\n",
      "File does not exist: /work/PRTNR/CHUV/DIR/rgottar1/spatial/env/xenium_paper/results/contamination_metrics_diffexpr_corrected_counts/ovrlpy_correction_signal_integrity_threshold=0.7/baysor/NSCLC/5k/0PSV/0PSV/lognorm/data_matched_reference_combo_rctd_class_aware_Level2.1_diffexpr.parquet\n",
      "File does not exist: /work/PRTNR/CHUV/DIR/rgottar1/spatial/env/xenium_paper/results/contamination_metrics_diffexpr_corrected_counts/ovrlpy_correction_signal_integrity_threshold=0.7/baysor/NSCLC/5k/1GDD/1GDD/lognorm/data_matched_reference_combo_rctd_class_aware_Level2.1_diffexpr.parquet\n",
      "File does not exist: /work/PRTNR/CHUV/DIR/rgottar1/spatial/env/xenium_paper/results/contamination_metrics_diffexpr_corrected_counts/ovrlpy_correction_signal_integrity_threshold=0.7/baysor/NSCLC/5k/1GAC/1GAC/lognorm/data_matched_reference_combo_rctd_class_aware_Level2.1_diffexpr.parquet\n",
      "File does not exist: /work/PRTNR/CHUV/DIR/rgottar1/spatial/env/xenium_paper/results/contamination_metrics_diffexpr_corrected_counts/ovrlpy_correction_signal_integrity_threshold=0.7/baysor/NSCLC/5k/1GQ9/1GQ9/lognorm/data_matched_reference_combo_rctd_class_aware_Level2.1_diffexpr.parquet\n",
      "File does not exist: /work/PRTNR/CHUV/DIR/rgottar1/spatial/env/xenium_paper/results/contamination_metrics_diffexpr_corrected_counts/ovrlpy_correction_signal_integrity_threshold=0.7/baysor/NSCLC/5k/1GVD/1GVD/lognorm/data_matched_reference_combo_rctd_class_aware_Level2.1_diffexpr.parquet\n",
      "ovrlpy_correction_signal_integrity_threshold=0.7 ('baysor', 'NSCLC', 'chuvio', '0WMU', '0WMU')\n",
      "ovrlpy_correction_signal_integrity_threshold=0.7 ('10x_0um', 'breast', 'breast', '1FYB', '1FYB')\n",
      "ovrlpy_correction_signal_integrity_threshold=0.7 ('10x_0um', 'breast', 'breast', 'OPHI', 'OPHI_3')\n",
      "ovrlpy_correction_signal_integrity_threshold=0.7 ('10x_0um', 'breast', 'breast', 'OPHI', 'OPHI_1')\n",
      "ovrlpy_correction_signal_integrity_threshold=0.7 ('10x_0um', 'breast', 'breast', '1BCA', '1BCA')\n",
      "ovrlpy_correction_signal_integrity_threshold=0.7 ('10x_0um', 'breast', 'breast', 'OPHI', 'OPHI_2')\n",
      "ovrlpy_correction_signal_integrity_threshold=0.7 ('10x_0um', 'breast', 'breast', '0PD6', '0PD6')\n",
      "ovrlpy_correction_signal_integrity_threshold=0.7 ('10x_0um', 'breast', 'breast', '1256', '1256')\n",
      "ovrlpy_correction_signal_integrity_threshold=0.7 ('10x_0um', 'breast', 'breast', '1GV1', '1GV1')\n",
      "ovrlpy_correction_signal_integrity_threshold=0.7 ('10x_0um', 'breast', 'breast', '1GVR', '1GVR')\n",
      "ovrlpy_correction_signal_integrity_threshold=0.7 ('10x_0um', 'breast', 'breast', '1FHZ', '1FHZ')\n",
      "ovrlpy_correction_signal_integrity_threshold=0.7 ('10x_0um', 'breast', 'breast', '0U9A', '0U9A')\n",
      "ovrlpy_correction_signal_integrity_threshold=0.7 ('10x_0um', 'breast', 'breast', '14LZ', '14LZ')\n",
      "ovrlpy_correction_signal_integrity_threshold=0.7 ('10x_0um', 'breast', 'breast', '0VRA', '0VRA')\n",
      "ovrlpy_correction_signal_integrity_threshold=0.7 ('10x_0um', 'breast', 'breast', '1ESQ', '1ESQ')\n",
      "ovrlpy_correction_signal_integrity_threshold=0.7 ('10x_0um', 'breast', 'breast', '1GUC', '1GUC')\n",
      "ovrlpy_correction_signal_integrity_threshold=0.7 ('10x_0um', 'breast', 'breast', '19TB', '19TB')\n",
      "ovrlpy_correction_signal_integrity_threshold=0.7 ('10x_0um', 'breast', 'breast', '0OE1', '0OE1')\n",
      "ovrlpy_correction_signal_integrity_threshold=0.7 ('10x_0um', 'breast', 'breast', '1H27', '1H27')\n",
      "ovrlpy_correction_signal_integrity_threshold=0.7 ('10x_0um', 'NSCLC', 'lung', '1GA2', '1GA2')\n",
      "ovrlpy_correction_signal_integrity_threshold=0.7 ('10x_0um', 'breast', 'breast', '1FO7', '1FO7')\n",
      "ovrlpy_correction_signal_integrity_threshold=0.7 ('10x_0um', 'NSCLC', 'lung', '0PSV', '0PSV')\n",
      "ovrlpy_correction_signal_integrity_threshold=0.7 ('10x_0um', 'NSCLC', 'lung', '0S8R', '0S8R')\n",
      "ovrlpy_correction_signal_integrity_threshold=0.7 ('10x_0um', 'NSCLC', 'lung', '1G73', '1G73')\n",
      "ovrlpy_correction_signal_integrity_threshold=0.7 ('10x_0um', 'NSCLC', 'lung', '1GDD', '1GDD')\n",
      "ovrlpy_correction_signal_integrity_threshold=0.7 ('10x_0um', 'NSCLC', 'lung', '1GFF', '1GFF')\n",
      "ovrlpy_correction_signal_integrity_threshold=0.7 ('10x_0um', 'NSCLC', 'lung', '1GAC', '1GAC')\n",
      "ovrlpy_correction_signal_integrity_threshold=0.7 ('10x_0um', 'NSCLC', 'lung', '0WMU', '0WMU_2')\n",
      "ovrlpy_correction_signal_integrity_threshold=0.7 ('10x_0um', 'NSCLC', 'lung', '0WMU', '0WMU_1')\n",
      "ovrlpy_correction_signal_integrity_threshold=0.7 ('10x_0um', 'NSCLC', 'lung', '1GQ9', '1GQ9')\n",
      "ovrlpy_correction_signal_integrity_threshold=0.7 ('10x_0um', 'NSCLC', 'chuvio', '1GA2', '1GA2')\n",
      "ovrlpy_correction_signal_integrity_threshold=0.7 ('10x_0um', 'NSCLC', 'chuvio', '0PSV', '0PSV_1')\n",
      "ovrlpy_correction_signal_integrity_threshold=0.7 ('10x_0um', 'NSCLC', 'lung', '1GVD', '1GVD')\n",
      "ovrlpy_correction_signal_integrity_threshold=0.7 ('10x_0um', 'NSCLC', 'chuvio', '0PSV', '0PSV_2')\n",
      "File does not exist: /work/PRTNR/CHUV/DIR/rgottar1/spatial/env/xenium_paper/results/contamination_metrics_diffexpr_corrected_counts/ovrlpy_correction_signal_integrity_threshold=0.7/10x_0um/NSCLC/5k/1G73/1G73/lognorm/data_matched_reference_combo_rctd_class_aware_Level2.1_diffexpr.parquet\n",
      "File does not exist: /work/PRTNR/CHUV/DIR/rgottar1/spatial/env/xenium_paper/results/contamination_metrics_diffexpr_corrected_counts/ovrlpy_correction_signal_integrity_threshold=0.7/10x_0um/NSCLC/5k/0PSV/0PSV/lognorm/data_matched_reference_combo_rctd_class_aware_Level2.1_diffexpr.parquet\n",
      "File does not exist: /work/PRTNR/CHUV/DIR/rgottar1/spatial/env/xenium_paper/results/contamination_metrics_diffexpr_corrected_counts/ovrlpy_correction_signal_integrity_threshold=0.7/10x_0um/NSCLC/5k/1GAC/1GAC/lognorm/data_matched_reference_combo_rctd_class_aware_Level2.1_diffexpr.parquet\n",
      "ovrlpy_correction_signal_integrity_threshold=0.7 ('10x_0um', 'NSCLC', 'chuvio', '1G73', '1G73')\n",
      "File does not exist: /work/PRTNR/CHUV/DIR/rgottar1/spatial/env/xenium_paper/results/contamination_metrics_diffexpr_corrected_counts/ovrlpy_correction_signal_integrity_threshold=0.7/10x_0um/NSCLC/5k/1GQ9/1GQ9/lognorm/data_matched_reference_combo_rctd_class_aware_Level2.1_diffexpr.parquet\n",
      "File does not exist: /work/PRTNR/CHUV/DIR/rgottar1/spatial/env/xenium_paper/results/contamination_metrics_diffexpr_corrected_counts/ovrlpy_correction_signal_integrity_threshold=0.7/10x_0um/NSCLC/5k/1GVD/1GVD/lognorm/data_matched_reference_combo_rctd_class_aware_Level2.1_diffexpr.parquet\n",
      "File does not exist: /work/PRTNR/CHUV/DIR/rgottar1/spatial/env/xenium_paper/results/contamination_metrics_diffexpr_corrected_counts/ovrlpy_correction_signal_integrity_threshold=0.7/10x_0um/NSCLC/5k/1GDD/1GDD/lognorm/data_matched_reference_combo_rctd_class_aware_Level2.1_diffexpr.parquet\n",
      "ovrlpy_correction_signal_integrity_threshold=0.7 ('10x_0um', 'NSCLC', 'chuvio', '0WMU', '0WMU')\n"
     ]
    }
   ],
   "source": [
    "df_markers_rank_significance_diffexpr, df_ctj_markers, df_diffexpr = readwrite.read_diffexpr_results_samples(\n",
    "    results_dir,\n",
    "    correction_methods,\n",
    "    xenium_std_seurat_analysis_dir,\n",
    "    reference,\n",
    "    method,\n",
    "    level,\n",
    "    mixture_k,\n",
    "    num_samples,\n",
    "    normalisation,\n",
    "    layer,\n",
    "    load_diffexpr=True\n",
    ")"
   ]
  },
  {
   "cell_type": "markdown",
   "metadata": {},
   "source": [
    "# Load corrected counts"
   ]
  },
  {
   "cell_type": "code",
   "execution_count": 4,
   "metadata": {},
   "outputs": [
    {
     "name": "stdout",
     "output_type": "stream",
     "text": [
      "split_fully_purified ('proseg_expected', 'NSCLC', 'lung', '1GA2', '1GA2')\n",
      "split_fully_purified ('proseg_expected', 'NSCLC', 'chuvio', '1GA2', '1GA2')\n",
      "split_fully_purified ('proseg_expected', 'NSCLC', '5k', '1G73', '1G73')\n",
      "split_fully_purified ('segger', 'NSCLC', 'lung', '1GA2', '1GA2')\n",
      "split_fully_purified ('segger', 'NSCLC', 'chuvio', '1GA2', '1GA2')\n",
      "split_fully_purified ('segger', 'NSCLC', '5k', '1G73', '1G73')\n",
      "split_fully_purified ('segger', 'NSCLC', '5k', '1GDD', '1GDD')\n",
      "split_fully_purified ('10x_5um', 'NSCLC', 'lung', '1GA2', '1GA2')\n",
      "split_fully_purified ('10x_5um', 'NSCLC', 'chuvio', '1GA2', '1GA2')\n",
      "split_fully_purified ('10x_5um', 'NSCLC', '5k', '1G73', '1G73')\n",
      "split_fully_purified ('10x_5um', 'NSCLC', '5k', '1GDD', '1GDD')\n",
      "split_fully_purified ('10x_15um', 'NSCLC', 'lung', '1GA2', '1GA2')\n",
      "split_fully_purified ('10x_15um', 'NSCLC', 'chuvio', '1GA2', '1GA2')\n",
      "split_fully_purified ('10x_15um', 'NSCLC', '5k', '0PSV', '0PSV')\n",
      "split_fully_purified ('10x_15um', 'NSCLC', '5k', '1G73', '1G73')\n",
      "split_fully_purified ('10x_15um', 'NSCLC', '5k', '1GDD', '1GDD')\n",
      "split_fully_purified ('10x_mm_5um', 'NSCLC', '5k', '0PSV', '0PSV')\n",
      "split_fully_purified ('10x_mm_5um', 'NSCLC', '5k', '1G73', '1G73')\n",
      "split_fully_purified ('10x_mm_5um', 'NSCLC', '5k', '1GDD', '1GDD')\n",
      "split_fully_purified ('10x_mm_5um', 'NSCLC', '5k', '1GAC', '1GAC')\n",
      "split_fully_purified ('10x_mm_5um', 'NSCLC', '5k', '1GQ9', '1GQ9')\n",
      "split_fully_purified ('10x_mm_5um', 'NSCLC', '5k', '1GVD', '1GVD')\n",
      "split_fully_purified ('baysor', 'NSCLC', 'lung', '1GA2', '1GA2')\n",
      "split_fully_purified ('baysor', 'NSCLC', 'chuvio', '1GA2', '1GA2')\n",
      "split_fully_purified ('baysor', 'NSCLC', '5k', '0PSV', '0PSV')\n",
      "split_fully_purified ('baysor', 'NSCLC', '5k', '1GDD', '1GDD')\n",
      "split_fully_purified ('baysor', 'NSCLC', '5k', '1GAC', '1GAC')\n",
      "split_fully_purified ('baysor', 'NSCLC', '5k', '1GVD', '1GVD')\n",
      "split_fully_purified ('10x_0um', 'NSCLC', 'lung', '1GA2', '1GA2')\n",
      "split_fully_purified ('10x_0um', 'NSCLC', 'chuvio', '1GA2', '1GA2')\n",
      "split_fully_purified ('10x_0um', 'NSCLC', '5k', '1G73', '1G73')\n",
      "ovrlpy_correction_signal_integrity_threshold=0.5 ('proseg_expected', 'breast', 'breast', '1FYB', '1FYB')\n",
      "ovrlpy_correction_signal_integrity_threshold=0.5 ('proseg_expected', 'breast', 'breast', 'OPHI', 'OPHI_3')\n",
      "ovrlpy_correction_signal_integrity_threshold=0.5 ('proseg_expected', 'breast', 'breast', 'OPHI', 'OPHI_1')\n",
      "ovrlpy_correction_signal_integrity_threshold=0.5 ('proseg_expected', 'breast', 'breast', 'OPHI', 'OPHI_2')\n",
      "ovrlpy_correction_signal_integrity_threshold=0.5 ('proseg_expected', 'breast', 'breast', '1BCA', '1BCA')\n",
      "ovrlpy_correction_signal_integrity_threshold=0.5 ('proseg_expected', 'breast', 'breast', '0PD6', '0PD6')\n",
      "ovrlpy_correction_signal_integrity_threshold=0.5 ('proseg_expected', 'breast', 'breast', '1256', '1256')\n",
      "ovrlpy_correction_signal_integrity_threshold=0.5 ('proseg_expected', 'breast', 'breast', '1GV1', '1GV1')\n",
      "ovrlpy_correction_signal_integrity_threshold=0.5 ('proseg_expected', 'breast', 'breast', '1GVR', '1GVR')\n",
      "ovrlpy_correction_signal_integrity_threshold=0.5 ('proseg_expected', 'breast', 'breast', '1FHZ', '1FHZ')\n",
      "ovrlpy_correction_signal_integrity_threshold=0.5 ('proseg_expected', 'breast', 'breast', '0U9A', '0U9A')\n",
      "ovrlpy_correction_signal_integrity_threshold=0.5 ('proseg_expected', 'breast', 'breast', '1ESQ', '1ESQ')\n",
      "ovrlpy_correction_signal_integrity_threshold=0.5 ('proseg_expected', 'breast', 'breast', '0VRA', '0VRA')\n",
      "ovrlpy_correction_signal_integrity_threshold=0.5 ('proseg_expected', 'breast', 'breast', '14LZ', '14LZ')\n",
      "ovrlpy_correction_signal_integrity_threshold=0.5 ('proseg_expected', 'breast', 'breast', '1H27', '1H27')\n",
      "ovrlpy_correction_signal_integrity_threshold=0.5 ('proseg_expected', 'breast', 'breast', '1GUC', '1GUC')\n",
      "ovrlpy_correction_signal_integrity_threshold=0.5 ('proseg_expected', 'breast', 'breast', '0OE1', '0OE1')\n",
      "ovrlpy_correction_signal_integrity_threshold=0.5 ('proseg_expected', 'breast', 'breast', '19TB', '19TB')\n",
      "ovrlpy_correction_signal_integrity_threshold=0.5 ('proseg_expected', 'breast', 'breast', '1FO7', '1FO7')\n",
      "ovrlpy_correction_signal_integrity_threshold=0.5 ('proseg_expected', 'NSCLC', 'lung', '1GA2', '1GA2')\n",
      "ovrlpy_correction_signal_integrity_threshold=0.5 ('proseg_expected', 'NSCLC', 'lung', '0PSV', '0PSV')\n",
      "ovrlpy_correction_signal_integrity_threshold=0.5 ('proseg_expected', 'NSCLC', 'lung', '0S8R', '0S8R')\n",
      "ovrlpy_correction_signal_integrity_threshold=0.5 ('proseg_expected', 'NSCLC', 'lung', '1G73', '1G73')\n",
      "ovrlpy_correction_signal_integrity_threshold=0.5 ('proseg_expected', 'NSCLC', 'lung', '1GDD', '1GDD')\n",
      "ovrlpy_correction_signal_integrity_threshold=0.5 ('proseg_expected', 'NSCLC', 'lung', '1GFF', '1GFF')\n",
      "ovrlpy_correction_signal_integrity_threshold=0.5 ('proseg_expected', 'NSCLC', 'lung', '1GAC', '1GAC')\n",
      "ovrlpy_correction_signal_integrity_threshold=0.5 ('proseg_expected', 'NSCLC', 'lung', '0WMU', '0WMU_1')\n",
      "ovrlpy_correction_signal_integrity_threshold=0.5 ('proseg_expected', 'NSCLC', 'lung', '0WMU', '0WMU_2')\n",
      "ovrlpy_correction_signal_integrity_threshold=0.5 ('proseg_expected', 'NSCLC', 'lung', '1GQ9', '1GQ9')\n",
      "ovrlpy_correction_signal_integrity_threshold=0.5 ('proseg_expected', 'NSCLC', 'lung', '1GVD', '1GVD')\n",
      "ovrlpy_correction_signal_integrity_threshold=0.5 ('proseg_expected', 'NSCLC', 'chuvio', '1GA2', '1GA2')\n",
      "ovrlpy_correction_signal_integrity_threshold=0.5 ('proseg_expected', 'NSCLC', 'chuvio', '0PSV', '0PSV_1')\n",
      "ovrlpy_correction_signal_integrity_threshold=0.5 ('proseg_expected', 'NSCLC', 'chuvio', '0PSV', '0PSV_2')\n",
      "ovrlpy_correction_signal_integrity_threshold=0.5 ('proseg_expected', 'NSCLC', 'chuvio', '1G73', '1G73')\n",
      "ovrlpy_correction_signal_integrity_threshold=0.5 ('proseg_expected', 'NSCLC', 'chuvio', '0WMU', '0WMU')\n",
      "ovrlpy_correction_signal_integrity_threshold=0.5 ('proseg_expected', 'NSCLC', '5k', '0PSV', '0PSV')\n",
      "ovrlpy_correction_signal_integrity_threshold=0.5 ('proseg_expected', 'NSCLC', '5k', '1G73', '1G73')\n",
      "ovrlpy_correction_signal_integrity_threshold=0.5 ('proseg_expected', 'NSCLC', '5k', '1GDD', '1GDD')\n",
      "ovrlpy_correction_signal_integrity_threshold=0.5 ('proseg_expected', 'NSCLC', '5k', '1GAC', '1GAC')\n",
      "ovrlpy_correction_signal_integrity_threshold=0.5 ('proseg_expected', 'NSCLC', '5k', '1GQ9', '1GQ9')\n",
      "ovrlpy_correction_signal_integrity_threshold=0.5 ('proseg_expected', 'NSCLC', '5k', '1GVD', '1GVD')\n",
      "ovrlpy_correction_signal_integrity_threshold=0.5 ('segger', 'NSCLC', '5k', '0PSV', '0PSV')\n",
      "ovrlpy_correction_signal_integrity_threshold=0.5 ('segger', 'NSCLC', '5k', '1G73', '1G73')\n",
      "ovrlpy_correction_signal_integrity_threshold=0.5 ('segger', 'NSCLC', '5k', '1GDD', '1GDD')\n",
      "ovrlpy_correction_signal_integrity_threshold=0.5 ('segger', 'NSCLC', '5k', '1GAC', '1GAC')\n",
      "ovrlpy_correction_signal_integrity_threshold=0.5 ('segger', 'NSCLC', '5k', '1GQ9', '1GQ9')\n",
      "ovrlpy_correction_signal_integrity_threshold=0.5 ('segger', 'NSCLC', '5k', '1GVD', '1GVD')\n",
      "ovrlpy_correction_signal_integrity_threshold=0.5 ('10x_5um', 'NSCLC', '5k', '0PSV', '0PSV')\n",
      "ovrlpy_correction_signal_integrity_threshold=0.5 ('10x_5um', 'NSCLC', '5k', '1G73', '1G73')\n",
      "ovrlpy_correction_signal_integrity_threshold=0.5 ('10x_5um', 'NSCLC', '5k', '1GDD', '1GDD')\n",
      "ovrlpy_correction_signal_integrity_threshold=0.5 ('10x_5um', 'NSCLC', '5k', '1GAC', '1GAC')\n",
      "ovrlpy_correction_signal_integrity_threshold=0.5 ('10x_5um', 'NSCLC', '5k', '1GQ9', '1GQ9')\n",
      "ovrlpy_correction_signal_integrity_threshold=0.5 ('10x_5um', 'NSCLC', '5k', '1GVD', '1GVD')\n",
      "ovrlpy_correction_signal_integrity_threshold=0.5 ('10x_15um', 'NSCLC', '5k', '0PSV', '0PSV')\n",
      "ovrlpy_correction_signal_integrity_threshold=0.5 ('10x_15um', 'NSCLC', '5k', '1G73', '1G73')\n",
      "ovrlpy_correction_signal_integrity_threshold=0.5 ('10x_15um', 'NSCLC', '5k', '1GDD', '1GDD')\n",
      "ovrlpy_correction_signal_integrity_threshold=0.5 ('10x_15um', 'NSCLC', '5k', '1GAC', '1GAC')\n",
      "ovrlpy_correction_signal_integrity_threshold=0.5 ('10x_15um', 'NSCLC', '5k', '1GQ9', '1GQ9')\n",
      "ovrlpy_correction_signal_integrity_threshold=0.5 ('10x_15um', 'NSCLC', '5k', '1GVD', '1GVD')\n",
      "ovrlpy_correction_signal_integrity_threshold=0.5 ('10x_mm_5um', 'NSCLC', '5k', '0PSV', '0PSV')\n",
      "ovrlpy_correction_signal_integrity_threshold=0.5 ('10x_mm_5um', 'NSCLC', '5k', '1G73', '1G73')\n",
      "ovrlpy_correction_signal_integrity_threshold=0.5 ('10x_mm_5um', 'NSCLC', '5k', '1GDD', '1GDD')\n",
      "ovrlpy_correction_signal_integrity_threshold=0.5 ('10x_mm_5um', 'NSCLC', '5k', '1GAC', '1GAC')\n",
      "ovrlpy_correction_signal_integrity_threshold=0.5 ('10x_mm_5um', 'NSCLC', '5k', '1GQ9', '1GQ9')\n",
      "ovrlpy_correction_signal_integrity_threshold=0.5 ('10x_mm_5um', 'NSCLC', '5k', '1GVD', '1GVD')\n",
      "ovrlpy_correction_signal_integrity_threshold=0.5 ('baysor', 'NSCLC', '5k', '0PSV', '0PSV')\n",
      "ovrlpy_correction_signal_integrity_threshold=0.5 ('baysor', 'NSCLC', '5k', '1GDD', '1GDD')\n",
      "ovrlpy_correction_signal_integrity_threshold=0.5 ('baysor', 'NSCLC', '5k', '1GAC', '1GAC')\n",
      "ovrlpy_correction_signal_integrity_threshold=0.5 ('baysor', 'NSCLC', '5k', '1GQ9', '1GQ9')\n",
      "ovrlpy_correction_signal_integrity_threshold=0.5 ('baysor', 'NSCLC', '5k', '1GVD', '1GVD')\n",
      "ovrlpy_correction_signal_integrity_threshold=0.5 ('10x_0um', 'NSCLC', '5k', '0PSV', '0PSV')\n",
      "ovrlpy_correction_signal_integrity_threshold=0.5 ('10x_0um', 'NSCLC', '5k', '1G73', '1G73')\n",
      "ovrlpy_correction_signal_integrity_threshold=0.5 ('10x_0um', 'NSCLC', '5k', '1GDD', '1GDD')\n",
      "ovrlpy_correction_signal_integrity_threshold=0.5 ('10x_0um', 'NSCLC', '5k', '1GAC', '1GAC')\n",
      "ovrlpy_correction_signal_integrity_threshold=0.5 ('10x_0um', 'NSCLC', '5k', '1GQ9', '1GQ9')\n",
      "ovrlpy_correction_signal_integrity_threshold=0.5 ('10x_0um', 'NSCLC', '5k', '1GVD', '1GVD')\n",
      "ovrlpy_correction_signal_integrity_threshold=0.7 ('proseg_expected', 'breast', 'breast', '1FYB', '1FYB')\n",
      "ovrlpy_correction_signal_integrity_threshold=0.7 ('proseg_expected', 'breast', 'breast', 'OPHI', 'OPHI_3')\n",
      "ovrlpy_correction_signal_integrity_threshold=0.7 ('proseg_expected', 'breast', 'breast', 'OPHI', 'OPHI_1')\n",
      "ovrlpy_correction_signal_integrity_threshold=0.7 ('proseg_expected', 'breast', 'breast', 'OPHI', 'OPHI_2')\n",
      "ovrlpy_correction_signal_integrity_threshold=0.7 ('proseg_expected', 'breast', 'breast', '1BCA', '1BCA')\n",
      "ovrlpy_correction_signal_integrity_threshold=0.7 ('proseg_expected', 'breast', 'breast', '0PD6', '0PD6')\n",
      "ovrlpy_correction_signal_integrity_threshold=0.7 ('proseg_expected', 'breast', 'breast', '1256', '1256')\n",
      "ovrlpy_correction_signal_integrity_threshold=0.7 ('proseg_expected', 'breast', 'breast', '1GV1', '1GV1')\n",
      "ovrlpy_correction_signal_integrity_threshold=0.7 ('proseg_expected', 'breast', 'breast', '1GVR', '1GVR')\n",
      "ovrlpy_correction_signal_integrity_threshold=0.7 ('proseg_expected', 'breast', 'breast', '1FHZ', '1FHZ')\n",
      "ovrlpy_correction_signal_integrity_threshold=0.7 ('proseg_expected', 'breast', 'breast', '0U9A', '0U9A')\n",
      "ovrlpy_correction_signal_integrity_threshold=0.7 ('proseg_expected', 'breast', 'breast', '1ESQ', '1ESQ')\n",
      "ovrlpy_correction_signal_integrity_threshold=0.7 ('proseg_expected', 'breast', 'breast', '0VRA', '0VRA')\n",
      "ovrlpy_correction_signal_integrity_threshold=0.7 ('proseg_expected', 'breast', 'breast', '14LZ', '14LZ')\n",
      "ovrlpy_correction_signal_integrity_threshold=0.7 ('proseg_expected', 'breast', 'breast', '1H27', '1H27')\n",
      "ovrlpy_correction_signal_integrity_threshold=0.7 ('proseg_expected', 'breast', 'breast', '1GUC', '1GUC')\n",
      "ovrlpy_correction_signal_integrity_threshold=0.7 ('proseg_expected', 'breast', 'breast', '0OE1', '0OE1')\n",
      "ovrlpy_correction_signal_integrity_threshold=0.7 ('proseg_expected', 'breast', 'breast', '19TB', '19TB')\n",
      "ovrlpy_correction_signal_integrity_threshold=0.7 ('proseg_expected', 'breast', 'breast', '1FO7', '1FO7')\n",
      "ovrlpy_correction_signal_integrity_threshold=0.7 ('proseg_expected', 'NSCLC', 'lung', '1GA2', '1GA2')\n",
      "ovrlpy_correction_signal_integrity_threshold=0.7 ('proseg_expected', 'NSCLC', 'lung', '0PSV', '0PSV')\n",
      "ovrlpy_correction_signal_integrity_threshold=0.7 ('proseg_expected', 'NSCLC', 'lung', '0S8R', '0S8R')\n",
      "ovrlpy_correction_signal_integrity_threshold=0.7 ('proseg_expected', 'NSCLC', 'lung', '1G73', '1G73')\n",
      "ovrlpy_correction_signal_integrity_threshold=0.7 ('proseg_expected', 'NSCLC', 'lung', '1GDD', '1GDD')\n",
      "ovrlpy_correction_signal_integrity_threshold=0.7 ('proseg_expected', 'NSCLC', 'lung', '1GFF', '1GFF')\n",
      "ovrlpy_correction_signal_integrity_threshold=0.7 ('proseg_expected', 'NSCLC', 'lung', '1GAC', '1GAC')\n",
      "ovrlpy_correction_signal_integrity_threshold=0.7 ('proseg_expected', 'NSCLC', 'lung', '0WMU', '0WMU_1')\n",
      "ovrlpy_correction_signal_integrity_threshold=0.7 ('proseg_expected', 'NSCLC', 'lung', '0WMU', '0WMU_2')\n",
      "ovrlpy_correction_signal_integrity_threshold=0.7 ('proseg_expected', 'NSCLC', 'lung', '1GQ9', '1GQ9')\n",
      "ovrlpy_correction_signal_integrity_threshold=0.7 ('proseg_expected', 'NSCLC', 'lung', '1GVD', '1GVD')\n",
      "ovrlpy_correction_signal_integrity_threshold=0.7 ('proseg_expected', 'NSCLC', 'chuvio', '1GA2', '1GA2')\n",
      "ovrlpy_correction_signal_integrity_threshold=0.7 ('proseg_expected', 'NSCLC', 'chuvio', '0PSV', '0PSV_1')\n",
      "ovrlpy_correction_signal_integrity_threshold=0.7 ('proseg_expected', 'NSCLC', 'chuvio', '0PSV', '0PSV_2')\n",
      "ovrlpy_correction_signal_integrity_threshold=0.7 ('proseg_expected', 'NSCLC', 'chuvio', '1G73', '1G73')\n",
      "ovrlpy_correction_signal_integrity_threshold=0.7 ('proseg_expected', 'NSCLC', 'chuvio', '0WMU', '0WMU')\n",
      "ovrlpy_correction_signal_integrity_threshold=0.7 ('proseg_expected', 'NSCLC', '5k', '0PSV', '0PSV')\n",
      "ovrlpy_correction_signal_integrity_threshold=0.7 ('proseg_expected', 'NSCLC', '5k', '1G73', '1G73')\n",
      "ovrlpy_correction_signal_integrity_threshold=0.7 ('proseg_expected', 'NSCLC', '5k', '1GDD', '1GDD')\n",
      "ovrlpy_correction_signal_integrity_threshold=0.7 ('proseg_expected', 'NSCLC', '5k', '1GAC', '1GAC')\n",
      "ovrlpy_correction_signal_integrity_threshold=0.7 ('proseg_expected', 'NSCLC', '5k', '1GQ9', '1GQ9')\n",
      "ovrlpy_correction_signal_integrity_threshold=0.7 ('proseg_expected', 'NSCLC', '5k', '1GVD', '1GVD')\n",
      "ovrlpy_correction_signal_integrity_threshold=0.7 ('segger', 'NSCLC', '5k', '0PSV', '0PSV')\n",
      "ovrlpy_correction_signal_integrity_threshold=0.7 ('segger', 'NSCLC', '5k', '1G73', '1G73')\n",
      "ovrlpy_correction_signal_integrity_threshold=0.7 ('segger', 'NSCLC', '5k', '1GDD', '1GDD')\n",
      "ovrlpy_correction_signal_integrity_threshold=0.7 ('segger', 'NSCLC', '5k', '1GAC', '1GAC')\n",
      "ovrlpy_correction_signal_integrity_threshold=0.7 ('segger', 'NSCLC', '5k', '1GQ9', '1GQ9')\n",
      "ovrlpy_correction_signal_integrity_threshold=0.7 ('segger', 'NSCLC', '5k', '1GVD', '1GVD')\n",
      "ovrlpy_correction_signal_integrity_threshold=0.7 ('10x_5um', 'NSCLC', '5k', '0PSV', '0PSV')\n",
      "ovrlpy_correction_signal_integrity_threshold=0.7 ('10x_5um', 'NSCLC', '5k', '1G73', '1G73')\n",
      "ovrlpy_correction_signal_integrity_threshold=0.7 ('10x_5um', 'NSCLC', '5k', '1GDD', '1GDD')\n",
      "ovrlpy_correction_signal_integrity_threshold=0.7 ('10x_5um', 'NSCLC', '5k', '1GAC', '1GAC')\n",
      "ovrlpy_correction_signal_integrity_threshold=0.7 ('10x_5um', 'NSCLC', '5k', '1GQ9', '1GQ9')\n",
      "ovrlpy_correction_signal_integrity_threshold=0.7 ('10x_5um', 'NSCLC', '5k', '1GVD', '1GVD')\n",
      "ovrlpy_correction_signal_integrity_threshold=0.7 ('10x_15um', 'NSCLC', '5k', '0PSV', '0PSV')\n",
      "ovrlpy_correction_signal_integrity_threshold=0.7 ('10x_15um', 'NSCLC', '5k', '1G73', '1G73')\n",
      "ovrlpy_correction_signal_integrity_threshold=0.7 ('10x_15um', 'NSCLC', '5k', '1GDD', '1GDD')\n",
      "ovrlpy_correction_signal_integrity_threshold=0.7 ('10x_15um', 'NSCLC', '5k', '1GAC', '1GAC')\n",
      "ovrlpy_correction_signal_integrity_threshold=0.7 ('10x_15um', 'NSCLC', '5k', '1GQ9', '1GQ9')\n",
      "ovrlpy_correction_signal_integrity_threshold=0.7 ('10x_15um', 'NSCLC', '5k', '1GVD', '1GVD')\n",
      "ovrlpy_correction_signal_integrity_threshold=0.7 ('10x_mm_5um', 'NSCLC', '5k', '0PSV', '0PSV')\n",
      "ovrlpy_correction_signal_integrity_threshold=0.7 ('10x_mm_5um', 'NSCLC', '5k', '1G73', '1G73')\n",
      "ovrlpy_correction_signal_integrity_threshold=0.7 ('10x_mm_5um', 'NSCLC', '5k', '1GDD', '1GDD')\n",
      "ovrlpy_correction_signal_integrity_threshold=0.7 ('10x_mm_5um', 'NSCLC', '5k', '1GAC', '1GAC')\n",
      "ovrlpy_correction_signal_integrity_threshold=0.7 ('10x_mm_5um', 'NSCLC', '5k', '1GQ9', '1GQ9')\n",
      "ovrlpy_correction_signal_integrity_threshold=0.7 ('10x_mm_5um', 'NSCLC', '5k', '1GVD', '1GVD')\n",
      "ovrlpy_correction_signal_integrity_threshold=0.7 ('baysor', 'NSCLC', '5k', '0PSV', '0PSV')\n",
      "ovrlpy_correction_signal_integrity_threshold=0.7 ('baysor', 'NSCLC', '5k', '1GDD', '1GDD')\n",
      "ovrlpy_correction_signal_integrity_threshold=0.7 ('baysor', 'NSCLC', '5k', '1GAC', '1GAC')\n",
      "ovrlpy_correction_signal_integrity_threshold=0.7 ('baysor', 'NSCLC', '5k', '1GQ9', '1GQ9')\n",
      "ovrlpy_correction_signal_integrity_threshold=0.7 ('baysor', 'NSCLC', '5k', '1GVD', '1GVD')\n",
      "ovrlpy_correction_signal_integrity_threshold=0.7 ('10x_0um', 'NSCLC', '5k', '0PSV', '0PSV')\n",
      "ovrlpy_correction_signal_integrity_threshold=0.7 ('10x_0um', 'NSCLC', '5k', '1G73', '1G73')\n",
      "ovrlpy_correction_signal_integrity_threshold=0.7 ('10x_0um', 'NSCLC', '5k', '1GDD', '1GDD')\n",
      "ovrlpy_correction_signal_integrity_threshold=0.7 ('10x_0um', 'NSCLC', '5k', '1GAC', '1GAC')\n",
      "ovrlpy_correction_signal_integrity_threshold=0.7 ('10x_0um', 'NSCLC', '5k', '1GQ9', '1GQ9')\n",
      "ovrlpy_correction_signal_integrity_threshold=0.7 ('10x_0um', 'NSCLC', '5k', '1GVD', '1GVD')\n"
     ]
    }
   ],
   "source": [
    "xenium_paths = {}\n",
    "xenium_annot_paths = {}\n",
    "\n",
    "for correction_method in correction_methods:\n",
    "    xenium_paths[correction_method] = {}\n",
    "    xenium_annot_paths[correction_method] = {}\n",
    "    \n",
    "    for segmentation in (segmentations := xenium_std_seurat_analysis_dir.iterdir()):\n",
    "        if segmentation.stem == 'proseg_mode':\n",
    "            continue\n",
    "        for condition in (conditions := segmentation.iterdir()): \n",
    "            for panel in (panels := condition.iterdir()):\n",
    "                for donor in (donors := panel.iterdir()):\n",
    "                    for sample in (samples := donor.iterdir()):\n",
    "\n",
    "                        k = (segmentation.stem,condition.stem,panel.stem,donor.stem,sample.stem)\n",
    "                        name = '/'.join(k)\n",
    "\n",
    "                        # raw samples\n",
    "                        if 'proseg' in segmentation.stem:\n",
    "                            k_proseg = ('proseg',condition.stem,panel.stem,donor.stem,sample.stem)\n",
    "                            name_proseg = '/'.join(k_proseg)\n",
    "                            sample_dir = xenium_dir / f'{name_proseg}/raw_results'\n",
    "                        else:\n",
    "                            sample_dir = xenium_dir / f'{name}/normalised_results/outs'\n",
    "\n",
    "                        sample_annotation = xenium_cell_type_annotation_dir / f'{name}/{normalisation}/reference_based/{reference}/{method}/{level}/single_cell/labels.parquet'\n",
    "                        \n",
    "                        if correction_method == 'raw':\n",
    "                            xenium_paths[correction_method][k] = sample_dir\n",
    "                            xenium_annot_paths[correction_method][k] = sample_annotation\n",
    "                        \n",
    "                        # corrected samples\n",
    "                        else:\n",
    "                            if correction_method == \"split_fully_purified\":\n",
    "                                name_corrected = f'{name}/{normalisation}/reference_based/{reference}/{method}/{level}/single_cell/split_fully_purified/'\n",
    "                                sample_corrected_counts_path = xenium_count_correction_dir / f\"{name_corrected}/corrected_counts.h5\"\n",
    "\n",
    "                            else:\n",
    "                                if correction_method == \"resolvi\":\n",
    "                                    name_corrected = f'{name}/{mixture_k=}/{num_samples=}/'\n",
    "                                elif correction_method == \"resolvi_supervised\":\n",
    "                                    name_corrected = f'{name}/{normalisation}/reference_based/{reference}/{method}/{level}/{mixture_k=}/{num_samples=}'\n",
    "                                elif \"ovrlpy\" in correction_method:\n",
    "                                    name_corrected = f'{name}'\n",
    "\n",
    "                                sample_corrected_counts_path = results_dir / f\"{correction_method}/{name_corrected}/corrected_counts.h5\"\n",
    "                            sample_normalised_counts = xenium_std_seurat_analysis_dir / f'{name}/{normalisation}/normalised_counts/{layer}.parquet'\n",
    "                            sample_idx = xenium_std_seurat_analysis_dir / f'{name}/{normalisation}/normalised_counts/cells.parquet'\n",
    "\n",
    "                            xenium_paths[correction_method][k] = sample_corrected_counts_path\n",
    "                            if not sample_corrected_counts_path.exists():\n",
    "                                print(correction_method,k)"
   ]
  },
  {
   "cell_type": "code",
   "execution_count": 8,
   "metadata": {},
   "outputs": [
    {
     "name": "stderr",
     "output_type": "stream",
     "text": [
      "Processing split_fully_purified:   0%|          | 0/251 [00:00<?, ?it/s]"
     ]
    },
    {
     "name": "stdout",
     "output_type": "stream",
     "text": [
      "Error reading /work/PRTNR/CHUV/DIR/rgottar1/spatial/env/xenium_paper/data/xenium/processed/count_correction/proseg_expected/NSCLC/chuvio/1GA2/1GA2/lognorm/reference_based/matched_reference_combo/rctd_class_aware/Level2.1/single_cell/split_fully_purified/corrected_counts.h5: [Errno 2] Unable to synchronously open file (unable to open file: name = '/work/PRTNR/CHUV/DIR/rgottar1/spatial/env/xenium_paper/data/xenium/processed/count_correction/proseg_expected/NSCLC/chuvio/1GA2/1GA2/lognorm/reference_based/matched_reference_combo/rctd_class_aware/Level2.1/single_cell/split_fully_purified/corrected_counts.h5', errno = 2, error message = 'No such file or directory', flags = 0, o_flags = 0)\n",
      "Error reading /work/PRTNR/CHUV/DIR/rgottar1/spatial/env/xenium_paper/data/xenium/processed/count_correction/proseg_expected/NSCLC/lung/1GA2/1GA2/lognorm/reference_based/matched_reference_combo/rctd_class_aware/Level2.1/single_cell/split_fully_purified/corrected_counts.h5: [Errno 2] Unable to synchronously open file (unable to open file: name = '/work/PRTNR/CHUV/DIR/rgottar1/spatial/env/xenium_paper/data/xenium/processed/count_correction/proseg_expected/NSCLC/lung/1GA2/1GA2/lognorm/reference_based/matched_reference_combo/rctd_class_aware/Level2.1/single_cell/split_fully_purified/corrected_counts.h5', errno = 2, error message = 'No such file or directory', flags = 0, o_flags = 0)\n"
     ]
    },
    {
     "name": "stderr",
     "output_type": "stream",
     "text": [
      "Processing split_fully_purified:   4%|▍         | 11/251 [00:19<04:39,  1.17s/it]"
     ]
    },
    {
     "name": "stdout",
     "output_type": "stream",
     "text": [
      "Error reading /work/PRTNR/CHUV/DIR/rgottar1/spatial/env/xenium_paper/data/xenium/processed/count_correction/proseg_expected/NSCLC/5k/1G73/1G73/lognorm/reference_based/matched_reference_combo/rctd_class_aware/Level2.1/single_cell/split_fully_purified/corrected_counts.h5: [Errno 2] Unable to synchronously open file (unable to open file: name = '/work/PRTNR/CHUV/DIR/rgottar1/spatial/env/xenium_paper/data/xenium/processed/count_correction/proseg_expected/NSCLC/5k/1G73/1G73/lognorm/reference_based/matched_reference_combo/rctd_class_aware/Level2.1/single_cell/split_fully_purified/corrected_counts.h5', errno = 2, error message = 'No such file or directory', flags = 0, o_flags = 0)\n"
     ]
    },
    {
     "name": "stderr",
     "output_type": "stream",
     "text": [
      "Processing split_fully_purified:  12%|█▏        | 31/251 [00:38<01:24,  2.60it/s]"
     ]
    },
    {
     "name": "stdout",
     "output_type": "stream",
     "text": [
      "Error reading /work/PRTNR/CHUV/DIR/rgottar1/spatial/env/xenium_paper/data/xenium/processed/count_correction/segger/NSCLC/lung/1GA2/1GA2/lognorm/reference_based/matched_reference_combo/rctd_class_aware/Level2.1/single_cell/split_fully_purified/corrected_counts.h5: [Errno 2] Unable to synchronously open file (unable to open file: name = '/work/PRTNR/CHUV/DIR/rgottar1/spatial/env/xenium_paper/data/xenium/processed/count_correction/segger/NSCLC/lung/1GA2/1GA2/lognorm/reference_based/matched_reference_combo/rctd_class_aware/Level2.1/single_cell/split_fully_purified/corrected_counts.h5', errno = 2, error message = 'No such file or directory', flags = 0, o_flags = 0)\n"
     ]
    },
    {
     "name": "stderr",
     "output_type": "stream",
     "text": [
      "Processing split_fully_purified:  16%|█▋        | 41/251 [00:54<04:57,  1.42s/it]"
     ]
    },
    {
     "name": "stdout",
     "output_type": "stream",
     "text": [
      "Error reading /work/PRTNR/CHUV/DIR/rgottar1/spatial/env/xenium_paper/data/xenium/processed/count_correction/segger/NSCLC/chuvio/1GA2/1GA2/lognorm/reference_based/matched_reference_combo/rctd_class_aware/Level2.1/single_cell/split_fully_purified/corrected_counts.h5: [Errno 2] Unable to synchronously open file (unable to open file: name = '/work/PRTNR/CHUV/DIR/rgottar1/spatial/env/xenium_paper/data/xenium/processed/count_correction/segger/NSCLC/chuvio/1GA2/1GA2/lognorm/reference_based/matched_reference_combo/rctd_class_aware/Level2.1/single_cell/split_fully_purified/corrected_counts.h5', errno = 2, error message = 'No such file or directory', flags = 0, o_flags = 0)\n"
     ]
    },
    {
     "name": "stderr",
     "output_type": "stream",
     "text": [
      "Processing split_fully_purified:  18%|█▊        | 45/251 [00:55<02:10,  1.58it/s]"
     ]
    },
    {
     "name": "stdout",
     "output_type": "stream",
     "text": [
      "Error reading /work/PRTNR/CHUV/DIR/rgottar1/spatial/env/xenium_paper/data/xenium/processed/count_correction/segger/NSCLC/5k/1G73/1G73/lognorm/reference_based/matched_reference_combo/rctd_class_aware/Level2.1/single_cell/split_fully_purified/corrected_counts.h5: [Errno 2] Unable to synchronously open file (unable to open file: name = '/work/PRTNR/CHUV/DIR/rgottar1/spatial/env/xenium_paper/data/xenium/processed/count_correction/segger/NSCLC/5k/1G73/1G73/lognorm/reference_based/matched_reference_combo/rctd_class_aware/Level2.1/single_cell/split_fully_purified/corrected_counts.h5', errno = 2, error message = 'No such file or directory', flags = 0, o_flags = 0)\n"
     ]
    },
    {
     "name": "stderr",
     "output_type": "stream",
     "text": [
      "Processing split_fully_purified:  22%|██▏       | 54/251 [00:58<00:44,  4.47it/s]"
     ]
    },
    {
     "name": "stdout",
     "output_type": "stream",
     "text": [
      "Error reading /work/PRTNR/CHUV/DIR/rgottar1/spatial/env/xenium_paper/data/xenium/processed/count_correction/segger/NSCLC/5k/1GDD/1GDD/lognorm/reference_based/matched_reference_combo/rctd_class_aware/Level2.1/single_cell/split_fully_purified/corrected_counts.h5: [Errno 2] Unable to synchronously open file (unable to open file: name = '/work/PRTNR/CHUV/DIR/rgottar1/spatial/env/xenium_paper/data/xenium/processed/count_correction/segger/NSCLC/5k/1GDD/1GDD/lognorm/reference_based/matched_reference_combo/rctd_class_aware/Level2.1/single_cell/split_fully_purified/corrected_counts.h5', errno = 2, error message = 'No such file or directory', flags = 0, o_flags = 0)\n"
     ]
    },
    {
     "name": "stderr",
     "output_type": "stream",
     "text": [
      "Processing split_fully_purified:  29%|██▉       | 73/251 [01:05<00:34,  5.21it/s]"
     ]
    },
    {
     "name": "stdout",
     "output_type": "stream",
     "text": [
      "Error reading /work/PRTNR/CHUV/DIR/rgottar1/spatial/env/xenium_paper/data/xenium/processed/count_correction/10x_5um/NSCLC/lung/1GA2/1GA2/lognorm/reference_based/matched_reference_combo/rctd_class_aware/Level2.1/single_cell/split_fully_purified/corrected_counts.h5: [Errno 2] Unable to synchronously open file (unable to open file: name = '/work/PRTNR/CHUV/DIR/rgottar1/spatial/env/xenium_paper/data/xenium/processed/count_correction/10x_5um/NSCLC/lung/1GA2/1GA2/lognorm/reference_based/matched_reference_combo/rctd_class_aware/Level2.1/single_cell/split_fully_purified/corrected_counts.h5', errno = 2, error message = 'No such file or directory', flags = 0, o_flags = 0)\n"
     ]
    },
    {
     "name": "stderr",
     "output_type": "stream",
     "text": [
      "Processing split_fully_purified:  32%|███▏      | 81/251 [01:12<01:48,  1.57it/s]"
     ]
    },
    {
     "name": "stdout",
     "output_type": "stream",
     "text": [
      "Error reading /work/PRTNR/CHUV/DIR/rgottar1/spatial/env/xenium_paper/data/xenium/processed/count_correction/10x_5um/NSCLC/chuvio/1GA2/1GA2/lognorm/reference_based/matched_reference_combo/rctd_class_aware/Level2.1/single_cell/split_fully_purified/corrected_counts.h5: [Errno 2] Unable to synchronously open file (unable to open file: name = '/work/PRTNR/CHUV/DIR/rgottar1/spatial/env/xenium_paper/data/xenium/processed/count_correction/10x_5um/NSCLC/chuvio/1GA2/1GA2/lognorm/reference_based/matched_reference_combo/rctd_class_aware/Level2.1/single_cell/split_fully_purified/corrected_counts.h5', errno = 2, error message = 'No such file or directory', flags = 0, o_flags = 0)\n"
     ]
    },
    {
     "name": "stderr",
     "output_type": "stream",
     "text": [
      "Processing split_fully_purified:  35%|███▍      | 87/251 [01:14<01:12,  2.28it/s]"
     ]
    },
    {
     "name": "stdout",
     "output_type": "stream",
     "text": [
      "Error reading /work/PRTNR/CHUV/DIR/rgottar1/spatial/env/xenium_paper/data/xenium/processed/count_correction/10x_5um/NSCLC/5k/1G73/1G73/lognorm/reference_based/matched_reference_combo/rctd_class_aware/Level2.1/single_cell/split_fully_purified/corrected_counts.h5: [Errno 2] Unable to synchronously open file (unable to open file: name = '/work/PRTNR/CHUV/DIR/rgottar1/spatial/env/xenium_paper/data/xenium/processed/count_correction/10x_5um/NSCLC/5k/1G73/1G73/lognorm/reference_based/matched_reference_combo/rctd_class_aware/Level2.1/single_cell/split_fully_purified/corrected_counts.h5', errno = 2, error message = 'No such file or directory', flags = 0, o_flags = 0)\n"
     ]
    },
    {
     "name": "stderr",
     "output_type": "stream",
     "text": [
      "Processing split_fully_purified:  38%|███▊      | 95/251 [01:15<00:37,  4.15it/s]"
     ]
    },
    {
     "name": "stdout",
     "output_type": "stream",
     "text": [
      "Error reading /work/PRTNR/CHUV/DIR/rgottar1/spatial/env/xenium_paper/data/xenium/processed/count_correction/10x_5um/NSCLC/5k/1GDD/1GDD/lognorm/reference_based/matched_reference_combo/rctd_class_aware/Level2.1/single_cell/split_fully_purified/corrected_counts.h5: [Errno 2] Unable to synchronously open file (unable to open file: name = '/work/PRTNR/CHUV/DIR/rgottar1/spatial/env/xenium_paper/data/xenium/processed/count_correction/10x_5um/NSCLC/5k/1GDD/1GDD/lognorm/reference_based/matched_reference_combo/rctd_class_aware/Level2.1/single_cell/split_fully_purified/corrected_counts.h5', errno = 2, error message = 'No such file or directory', flags = 0, o_flags = 0)\n"
     ]
    },
    {
     "name": "stderr",
     "output_type": "stream",
     "text": [
      "Processing split_fully_purified:  45%|████▌     | 113/251 [01:24<01:34,  1.46it/s]"
     ]
    },
    {
     "name": "stdout",
     "output_type": "stream",
     "text": [
      "Error reading /work/PRTNR/CHUV/DIR/rgottar1/spatial/env/xenium_paper/data/xenium/processed/count_correction/10x_15um/NSCLC/lung/1GA2/1GA2/lognorm/reference_based/matched_reference_combo/rctd_class_aware/Level2.1/single_cell/split_fully_purified/corrected_counts.h5: [Errno 2] Unable to synchronously open file (unable to open file: name = '/work/PRTNR/CHUV/DIR/rgottar1/spatial/env/xenium_paper/data/xenium/processed/count_correction/10x_15um/NSCLC/lung/1GA2/1GA2/lognorm/reference_based/matched_reference_combo/rctd_class_aware/Level2.1/single_cell/split_fully_purified/corrected_counts.h5', errno = 2, error message = 'No such file or directory', flags = 0, o_flags = 0)\n"
     ]
    },
    {
     "name": "stderr",
     "output_type": "stream",
     "text": [
      "Processing split_fully_purified:  49%|████▊     | 122/251 [01:29<01:05,  1.97it/s]"
     ]
    },
    {
     "name": "stdout",
     "output_type": "stream",
     "text": [
      "Error reading /work/PRTNR/CHUV/DIR/rgottar1/spatial/env/xenium_paper/data/xenium/processed/count_correction/10x_15um/NSCLC/chuvio/1GA2/1GA2/lognorm/reference_based/matched_reference_combo/rctd_class_aware/Level2.1/single_cell/split_fully_purified/corrected_counts.h5: [Errno 2] Unable to synchronously open file (unable to open file: name = '/work/PRTNR/CHUV/DIR/rgottar1/spatial/env/xenium_paper/data/xenium/processed/count_correction/10x_15um/NSCLC/chuvio/1GA2/1GA2/lognorm/reference_based/matched_reference_combo/rctd_class_aware/Level2.1/single_cell/split_fully_purified/corrected_counts.h5', errno = 2, error message = 'No such file or directory', flags = 0, o_flags = 0)\n"
     ]
    },
    {
     "name": "stderr",
     "output_type": "stream",
     "text": [
      "Processing split_fully_purified:  50%|█████     | 126/251 [01:32<01:25,  1.46it/s]"
     ]
    },
    {
     "name": "stdout",
     "output_type": "stream",
     "text": [
      "Error reading /work/PRTNR/CHUV/DIR/rgottar1/spatial/env/xenium_paper/data/xenium/processed/count_correction/10x_15um/NSCLC/5k/1G73/1G73/lognorm/reference_based/matched_reference_combo/rctd_class_aware/Level2.1/single_cell/split_fully_purified/corrected_counts.h5: [Errno 2] Unable to synchronously open file (unable to open file: name = '/work/PRTNR/CHUV/DIR/rgottar1/spatial/env/xenium_paper/data/xenium/processed/count_correction/10x_15um/NSCLC/5k/1G73/1G73/lognorm/reference_based/matched_reference_combo/rctd_class_aware/Level2.1/single_cell/split_fully_purified/corrected_counts.h5', errno = 2, error message = 'No such file or directory', flags = 0, o_flags = 0)\n",
      "Error reading /work/PRTNR/CHUV/DIR/rgottar1/spatial/env/xenium_paper/data/xenium/processed/count_correction/10x_15um/NSCLC/5k/0PSV/0PSV/lognorm/reference_based/matched_reference_combo/rctd_class_aware/Level2.1/single_cell/split_fully_purified/corrected_counts.h5: [Errno 2] Unable to synchronously open file (unable to open file: name = '/work/PRTNR/CHUV/DIR/rgottar1/spatial/env/xenium_paper/data/xenium/processed/count_correction/10x_15um/NSCLC/5k/0PSV/0PSV/lognorm/reference_based/matched_reference_combo/rctd_class_aware/Level2.1/single_cell/split_fully_purified/corrected_counts.h5', errno = 2, error message = 'No such file or directory', flags = 0, o_flags = 0)\n"
     ]
    },
    {
     "name": "stderr",
     "output_type": "stream",
     "text": [
      "Processing split_fully_purified:  52%|█████▏    | 130/251 [01:34<01:11,  1.70it/s]"
     ]
    },
    {
     "name": "stdout",
     "output_type": "stream",
     "text": [
      "Error reading /work/PRTNR/CHUV/DIR/rgottar1/spatial/env/xenium_paper/data/xenium/processed/count_correction/10x_15um/NSCLC/5k/1GDD/1GDD/lognorm/reference_based/matched_reference_combo/rctd_class_aware/Level2.1/single_cell/split_fully_purified/corrected_counts.h5: [Errno 2] Unable to synchronously open file (unable to open file: name = '/work/PRTNR/CHUV/DIR/rgottar1/spatial/env/xenium_paper/data/xenium/processed/count_correction/10x_15um/NSCLC/5k/1GDD/1GDD/lognorm/reference_based/matched_reference_combo/rctd_class_aware/Level2.1/single_cell/split_fully_purified/corrected_counts.h5', errno = 2, error message = 'No such file or directory', flags = 0, o_flags = 0)\n"
     ]
    },
    {
     "name": "stderr",
     "output_type": "stream",
     "text": [
      "Processing split_fully_purified:  54%|█████▍    | 135/251 [01:35<00:40,  2.88it/s]"
     ]
    },
    {
     "name": "stdout",
     "output_type": "stream",
     "text": [
      "Error reading /work/PRTNR/CHUV/DIR/rgottar1/spatial/env/xenium_paper/data/xenium/processed/count_correction/10x_mm_5um/NSCLC/5k/1G73/1G73/lognorm/reference_based/matched_reference_combo/rctd_class_aware/Level2.1/single_cell/split_fully_purified/corrected_counts.h5: [Errno 2] Unable to synchronously open file (unable to open file: name = '/work/PRTNR/CHUV/DIR/rgottar1/spatial/env/xenium_paper/data/xenium/processed/count_correction/10x_mm_5um/NSCLC/5k/1G73/1G73/lognorm/reference_based/matched_reference_combo/rctd_class_aware/Level2.1/single_cell/split_fully_purified/corrected_counts.h5', errno = 2, error message = 'No such file or directory', flags = 0, o_flags = 0)\n"
     ]
    },
    {
     "name": "stderr",
     "output_type": "stream",
     "text": [
      "Processing split_fully_purified:  55%|█████▍    | 137/251 [01:36<00:37,  3.01it/s]"
     ]
    },
    {
     "name": "stdout",
     "output_type": "stream",
     "text": [
      "Error reading /work/PRTNR/CHUV/DIR/rgottar1/spatial/env/xenium_paper/data/xenium/processed/count_correction/10x_mm_5um/NSCLC/5k/0PSV/0PSV/lognorm/reference_based/matched_reference_combo/rctd_class_aware/Level2.1/single_cell/split_fully_purified/corrected_counts.h5: [Errno 2] Unable to synchronously open file (unable to open file: name = '/work/PRTNR/CHUV/DIR/rgottar1/spatial/env/xenium_paper/data/xenium/processed/count_correction/10x_mm_5um/NSCLC/5k/0PSV/0PSV/lognorm/reference_based/matched_reference_combo/rctd_class_aware/Level2.1/single_cell/split_fully_purified/corrected_counts.h5', errno = 2, error message = 'No such file or directory', flags = 0, o_flags = 0)\n",
      "Error reading /work/PRTNR/CHUV/DIR/rgottar1/spatial/env/xenium_paper/data/xenium/processed/count_correction/10x_mm_5um/NSCLC/5k/1GAC/1GAC/lognorm/reference_based/matched_reference_combo/rctd_class_aware/Level2.1/single_cell/split_fully_purified/corrected_counts.h5: [Errno 2] Unable to synchronously open file (unable to open file: name = '/work/PRTNR/CHUV/DIR/rgottar1/spatial/env/xenium_paper/data/xenium/processed/count_correction/10x_mm_5um/NSCLC/5k/1GAC/1GAC/lognorm/reference_based/matched_reference_combo/rctd_class_aware/Level2.1/single_cell/split_fully_purified/corrected_counts.h5', errno = 2, error message = 'No such file or directory', flags = 0, o_flags = 0)\n"
     ]
    },
    {
     "name": "stderr",
     "output_type": "stream",
     "text": [
      "Processing split_fully_purified:  58%|█████▊    | 146/251 [01:38<00:30,  3.45it/s]"
     ]
    },
    {
     "name": "stdout",
     "output_type": "stream",
     "text": [
      "Error reading /work/PRTNR/CHUV/DIR/rgottar1/spatial/env/xenium_paper/data/xenium/processed/count_correction/10x_mm_5um/NSCLC/5k/1GVD/1GVD/lognorm/reference_based/matched_reference_combo/rctd_class_aware/Level2.1/single_cell/split_fully_purified/corrected_counts.h5: [Errno 2] Unable to synchronously open file (unable to open file: name = '/work/PRTNR/CHUV/DIR/rgottar1/spatial/env/xenium_paper/data/xenium/processed/count_correction/10x_mm_5um/NSCLC/5k/1GVD/1GVD/lognorm/reference_based/matched_reference_combo/rctd_class_aware/Level2.1/single_cell/split_fully_purified/corrected_counts.h5', errno = 2, error message = 'No such file or directory', flags = 0, o_flags = 0)\n",
      "Error reading /work/PRTNR/CHUV/DIR/rgottar1/spatial/env/xenium_paper/data/xenium/processed/count_correction/10x_mm_5um/NSCLC/5k/1GQ9/1GQ9/lognorm/reference_based/matched_reference_combo/rctd_class_aware/Level2.1/single_cell/split_fully_purified/corrected_counts.h5: [Errno 2] Unable to synchronously open file (unable to open file: name = '/work/PRTNR/CHUV/DIR/rgottar1/spatial/env/xenium_paper/data/xenium/processed/count_correction/10x_mm_5um/NSCLC/5k/1GQ9/1GQ9/lognorm/reference_based/matched_reference_combo/rctd_class_aware/Level2.1/single_cell/split_fully_purified/corrected_counts.h5', errno = 2, error message = 'No such file or directory', flags = 0, o_flags = 0)\n",
      "Error reading /work/PRTNR/CHUV/DIR/rgottar1/spatial/env/xenium_paper/data/xenium/processed/count_correction/10x_mm_5um/NSCLC/5k/1GDD/1GDD/lognorm/reference_based/matched_reference_combo/rctd_class_aware/Level2.1/single_cell/split_fully_purified/corrected_counts.h5: [Errno 2] Unable to synchronously open file (unable to open file: name = '/work/PRTNR/CHUV/DIR/rgottar1/spatial/env/xenium_paper/data/xenium/processed/count_correction/10x_mm_5um/NSCLC/5k/1GDD/1GDD/lognorm/reference_based/matched_reference_combo/rctd_class_aware/Level2.1/single_cell/split_fully_purified/corrected_counts.h5', errno = 2, error message = 'No such file or directory', flags = 0, o_flags = 0)\n"
     ]
    },
    {
     "name": "stderr",
     "output_type": "stream",
     "text": [
      "Processing split_fully_purified:  64%|██████▎   | 160/251 [01:39<00:17,  5.33it/s]"
     ]
    },
    {
     "name": "stdout",
     "output_type": "stream",
     "text": [
      "Error reading /work/PRTNR/CHUV/DIR/rgottar1/spatial/env/xenium_paper/data/xenium/processed/count_correction/baysor/NSCLC/lung/1GA2/1GA2/lognorm/reference_based/matched_reference_combo/rctd_class_aware/Level2.1/single_cell/split_fully_purified/corrected_counts.h5: [Errno 2] Unable to synchronously open file (unable to open file: name = '/work/PRTNR/CHUV/DIR/rgottar1/spatial/env/xenium_paper/data/xenium/processed/count_correction/baysor/NSCLC/lung/1GA2/1GA2/lognorm/reference_based/matched_reference_combo/rctd_class_aware/Level2.1/single_cell/split_fully_purified/corrected_counts.h5', errno = 2, error message = 'No such file or directory', flags = 0, o_flags = 0)\n"
     ]
    },
    {
     "name": "stderr",
     "output_type": "stream",
     "text": [
      "Processing split_fully_purified:  68%|██████▊   | 170/251 [01:50<01:02,  1.30it/s]"
     ]
    },
    {
     "name": "stdout",
     "output_type": "stream",
     "text": [
      "Error reading /work/PRTNR/CHUV/DIR/rgottar1/spatial/env/xenium_paper/data/xenium/processed/count_correction/baysor/NSCLC/chuvio/1GA2/1GA2/lognorm/reference_based/matched_reference_combo/rctd_class_aware/Level2.1/single_cell/split_fully_purified/corrected_counts.h5: [Errno 2] Unable to synchronously open file (unable to open file: name = '/work/PRTNR/CHUV/DIR/rgottar1/spatial/env/xenium_paper/data/xenium/processed/count_correction/baysor/NSCLC/chuvio/1GA2/1GA2/lognorm/reference_based/matched_reference_combo/rctd_class_aware/Level2.1/single_cell/split_fully_purified/corrected_counts.h5', errno = 2, error message = 'No such file or directory', flags = 0, o_flags = 0)\n"
     ]
    },
    {
     "name": "stderr",
     "output_type": "stream",
     "text": [
      "Processing split_fully_purified:  70%|███████   | 176/251 [01:52<00:38,  1.93it/s]"
     ]
    },
    {
     "name": "stdout",
     "output_type": "stream",
     "text": [
      "Error reading /work/PRTNR/CHUV/DIR/rgottar1/spatial/env/xenium_paper/data/xenium/processed/count_correction/baysor/NSCLC/5k/1GDD/1GDD/lognorm/reference_based/matched_reference_combo/rctd_class_aware/Level2.1/single_cell/split_fully_purified/corrected_counts.h5: [Errno 2] Unable to synchronously open file (unable to open file: name = '/work/PRTNR/CHUV/DIR/rgottar1/spatial/env/xenium_paper/data/xenium/processed/count_correction/baysor/NSCLC/5k/1GDD/1GDD/lognorm/reference_based/matched_reference_combo/rctd_class_aware/Level2.1/single_cell/split_fully_purified/corrected_counts.h5', errno = 2, error message = 'No such file or directory', flags = 0, o_flags = 0)\n"
     ]
    },
    {
     "name": "stderr",
     "output_type": "stream",
     "text": [
      "Processing split_fully_purified:  72%|███████▏  | 181/251 [01:52<00:17,  4.06it/s]"
     ]
    },
    {
     "name": "stdout",
     "output_type": "stream",
     "text": [
      "Error reading /work/PRTNR/CHUV/DIR/rgottar1/spatial/env/xenium_paper/data/xenium/processed/count_correction/baysor/NSCLC/5k/0PSV/0PSV/lognorm/reference_based/matched_reference_combo/rctd_class_aware/Level2.1/single_cell/split_fully_purified/corrected_counts.h5: [Errno 2] Unable to synchronously open file (unable to open file: name = '/work/PRTNR/CHUV/DIR/rgottar1/spatial/env/xenium_paper/data/xenium/processed/count_correction/baysor/NSCLC/5k/0PSV/0PSV/lognorm/reference_based/matched_reference_combo/rctd_class_aware/Level2.1/single_cell/split_fully_purified/corrected_counts.h5', errno = 2, error message = 'No such file or directory', flags = 0, o_flags = 0)\n",
      "Error reading /work/PRTNR/CHUV/DIR/rgottar1/spatial/env/xenium_paper/data/xenium/processed/count_correction/baysor/NSCLC/5k/1GAC/1GAC/lognorm/reference_based/matched_reference_combo/rctd_class_aware/Level2.1/single_cell/split_fully_purified/corrected_counts.h5: [Errno 2] Unable to synchronously open file (unable to open file: name = '/work/PRTNR/CHUV/DIR/rgottar1/spatial/env/xenium_paper/data/xenium/processed/count_correction/baysor/NSCLC/5k/1GAC/1GAC/lognorm/reference_based/matched_reference_combo/rctd_class_aware/Level2.1/single_cell/split_fully_purified/corrected_counts.h5', errno = 2, error message = 'No such file or directory', flags = 0, o_flags = 0)\n",
      "Error reading /work/PRTNR/CHUV/DIR/rgottar1/spatial/env/xenium_paper/data/xenium/processed/count_correction/baysor/NSCLC/5k/1GVD/1GVD/lognorm/reference_based/matched_reference_combo/rctd_class_aware/Level2.1/single_cell/split_fully_purified/corrected_counts.h5: [Errno 2] Unable to synchronously open file (unable to open file: name = '/work/PRTNR/CHUV/DIR/rgottar1/spatial/env/xenium_paper/data/xenium/processed/count_correction/baysor/NSCLC/5k/1GVD/1GVD/lognorm/reference_based/matched_reference_combo/rctd_class_aware/Level2.1/single_cell/split_fully_purified/corrected_counts.h5', errno = 2, error message = 'No such file or directory', flags = 0, o_flags = 0)\n"
     ]
    },
    {
     "name": "stderr",
     "output_type": "stream",
     "text": [
      "Processing split_fully_purified:  78%|███████▊  | 196/251 [02:00<00:48,  1.14it/s]"
     ]
    },
    {
     "name": "stdout",
     "output_type": "stream",
     "text": [
      "Error reading /work/PRTNR/CHUV/DIR/rgottar1/spatial/env/xenium_paper/data/xenium/processed/count_correction/10x_0um/NSCLC/lung/1GA2/1GA2/lognorm/reference_based/matched_reference_combo/rctd_class_aware/Level2.1/single_cell/split_fully_purified/corrected_counts.h5: [Errno 2] Unable to synchronously open file (unable to open file: name = '/work/PRTNR/CHUV/DIR/rgottar1/spatial/env/xenium_paper/data/xenium/processed/count_correction/10x_0um/NSCLC/lung/1GA2/1GA2/lognorm/reference_based/matched_reference_combo/rctd_class_aware/Level2.1/single_cell/split_fully_purified/corrected_counts.h5', errno = 2, error message = 'No such file or directory', flags = 0, o_flags = 0)\n"
     ]
    },
    {
     "name": "stderr",
     "output_type": "stream",
     "text": [
      "Processing split_fully_purified:  84%|████████▎ | 210/251 [02:05<00:16,  2.50it/s]"
     ]
    },
    {
     "name": "stdout",
     "output_type": "stream",
     "text": [
      "Error reading /work/PRTNR/CHUV/DIR/rgottar1/spatial/env/xenium_paper/data/xenium/processed/count_correction/10x_0um/NSCLC/chuvio/1GA2/1GA2/lognorm/reference_based/matched_reference_combo/rctd_class_aware/Level2.1/single_cell/split_fully_purified/corrected_counts.h5: [Errno 2] Unable to synchronously open file (unable to open file: name = '/work/PRTNR/CHUV/DIR/rgottar1/spatial/env/xenium_paper/data/xenium/processed/count_correction/10x_0um/NSCLC/chuvio/1GA2/1GA2/lognorm/reference_based/matched_reference_combo/rctd_class_aware/Level2.1/single_cell/split_fully_purified/corrected_counts.h5', errno = 2, error message = 'No such file or directory', flags = 0, o_flags = 0)\n"
     ]
    },
    {
     "name": "stderr",
     "output_type": "stream",
     "text": [
      "Processing split_fully_purified:  87%|████████▋ | 219/251 [02:06<00:04,  6.55it/s]"
     ]
    },
    {
     "name": "stdout",
     "output_type": "stream",
     "text": [
      "Error reading /work/PRTNR/CHUV/DIR/rgottar1/spatial/env/xenium_paper/data/xenium/processed/count_correction/10x_0um/NSCLC/5k/1G73/1G73/lognorm/reference_based/matched_reference_combo/rctd_class_aware/Level2.1/single_cell/split_fully_purified/corrected_counts.h5: [Errno 2] Unable to synchronously open file (unable to open file: name = '/work/PRTNR/CHUV/DIR/rgottar1/spatial/env/xenium_paper/data/xenium/processed/count_correction/10x_0um/NSCLC/5k/1G73/1G73/lognorm/reference_based/matched_reference_combo/rctd_class_aware/Level2.1/single_cell/split_fully_purified/corrected_counts.h5', errno = 2, error message = 'No such file or directory', flags = 0, o_flags = 0)\n"
     ]
    },
    {
     "name": "stderr",
     "output_type": "stream",
     "text": [
      "Processing split_fully_purified: 100%|██████████| 251/251 [02:12<00:00,  1.89it/s]\n",
      "Processing resolvi: 100%|██████████| 251/251 [01:24<00:00,  2.98it/s]\n",
      "Processing resolvi_supervised: 100%|██████████| 251/251 [01:25<00:00,  2.93it/s]\n"
     ]
    },
    {
     "name": "stdout",
     "output_type": "stream",
     "text": [
      "Error reading /work/PRTNR/CHUV/DIR/rgottar1/spatial/env/xenium_paper/results/ovrlpy_correction_signal_integrity_threshold=0.5/proseg_expected/breast/breast/1FYB/1FYB/corrected_counts.h5: [Errno 2] Unable to synchronously open file (unable to open file: name = '/work/PRTNR/CHUV/DIR/rgottar1/spatial/env/xenium_paper/results/ovrlpy_correction_signal_integrity_threshold=0.5/proseg_expected/breast/breast/1FYB/1FYB/corrected_counts.h5', errno = 2, error message = 'No such file or directory', flags = 0, o_flags = 0)\n",
      "Error reading /work/PRTNR/CHUV/DIR/rgottar1/spatial/env/xenium_paper/results/ovrlpy_correction_signal_integrity_threshold=0.5/proseg_expected/breast/breast/OPHI/OPHI_3/corrected_counts.h5: [Errno 2] Unable to synchronously open file (unable to open file: name = '/work/PRTNR/CHUV/DIR/rgottar1/spatial/env/xenium_paper/results/ovrlpy_correction_signal_integrity_threshold=0.5/proseg_expected/breast/breast/OPHI/OPHI_3/corrected_counts.h5', errno = 2, error message = 'No such file or directory', flags = 0, o_flags = 0)\n",
      "Error reading /work/PRTNR/CHUV/DIR/rgottar1/spatial/env/xenium_paper/results/ovrlpy_correction_signal_integrity_threshold=0.5/proseg_expected/breast/breast/OPHI/OPHI_1/corrected_counts.h5: [Errno 2] Unable to synchronously open file (unable to open file: name = '/work/PRTNR/CHUV/DIR/rgottar1/spatial/env/xenium_paper/results/ovrlpy_correction_signal_integrity_threshold=0.5/proseg_expected/breast/breast/OPHI/OPHI_1/corrected_counts.h5', errno = 2, error message = 'No such file or directory', flags = 0, o_flags = 0)\n",
      "Error reading /work/PRTNR/CHUV/DIR/rgottar1/spatial/env/xenium_paper/results/ovrlpy_correction_signal_integrity_threshold=0.5/proseg_expected/breast/breast/OPHI/OPHI_2/corrected_counts.h5: [Errno 2] Unable to synchronously open file (unable to open file: name = '/work/PRTNR/CHUV/DIR/rgottar1/spatial/env/xenium_paper/results/ovrlpy_correction_signal_integrity_threshold=0.5/proseg_expected/breast/breast/OPHI/OPHI_2/corrected_counts.h5', errno = 2, error message = 'No such file or directory', flags = 0, o_flags = 0)\n",
      "Error reading /work/PRTNR/CHUV/DIR/rgottar1/spatial/env/xenium_paper/results/ovrlpy_correction_signal_integrity_threshold=0.5/proseg_expected/breast/breast/1BCA/1BCA/corrected_counts.h5: [Errno 2] Unable to synchronously open file (unable to open file: name = '/work/PRTNR/CHUV/DIR/rgottar1/spatial/env/xenium_paper/results/ovrlpy_correction_signal_integrity_threshold=0.5/proseg_expected/breast/breast/1BCA/1BCA/corrected_counts.h5', errno = 2, error message = 'No such file or directory', flags = 0, o_flags = 0)\n",
      "Error reading /work/PRTNR/CHUV/DIR/rgottar1/spatial/env/xenium_paper/results/ovrlpy_correction_signal_integrity_threshold=0.5/proseg_expected/breast/breast/0PD6/0PD6/corrected_counts.h5: [Errno 2] Unable to synchronously open file (unable to open file: name = '/work/PRTNR/CHUV/DIR/rgottar1/spatial/env/xenium_paper/results/ovrlpy_correction_signal_integrity_threshold=0.5/proseg_expected/breast/breast/0PD6/0PD6/corrected_counts.h5', errno = 2, error message = 'No such file or directory', flags = 0, o_flags = 0)\n",
      "Error reading /work/PRTNR/CHUV/DIR/rgottar1/spatial/env/xenium_paper/results/ovrlpy_correction_signal_integrity_threshold=0.5/proseg_expected/breast/breast/1256/1256/corrected_counts.h5: [Errno 2] Unable to synchronously open file (unable to open file: name = '/work/PRTNR/CHUV/DIR/rgottar1/spatial/env/xenium_paper/results/ovrlpy_correction_signal_integrity_threshold=0.5/proseg_expected/breast/breast/1256/1256/corrected_counts.h5', errno = 2, error message = 'No such file or directory', flags = 0, o_flags = 0)\n",
      "Error reading /work/PRTNR/CHUV/DIR/rgottar1/spatial/env/xenium_paper/results/ovrlpy_correction_signal_integrity_threshold=0.5/proseg_expected/breast/breast/1GV1/1GV1/corrected_counts.h5: [Errno 2] Unable to synchronously open file (unable to open file: name = '/work/PRTNR/CHUV/DIR/rgottar1/spatial/env/xenium_paper/results/ovrlpy_correction_signal_integrity_threshold=0.5/proseg_expected/breast/breast/1GV1/1GV1/corrected_counts.h5', errno = 2, error message = 'No such file or directory', flags = 0, o_flags = 0)\n",
      "Error reading /work/PRTNR/CHUV/DIR/rgottar1/spatial/env/xenium_paper/results/ovrlpy_correction_signal_integrity_threshold=0.5/proseg_expected/breast/breast/1GVR/1GVR/corrected_counts.h5: [Errno 2] Unable to synchronously open file (unable to open file: name = '/work/PRTNR/CHUV/DIR/rgottar1/spatial/env/xenium_paper/results/ovrlpy_correction_signal_integrity_threshold=0.5/proseg_expected/breast/breast/1GVR/1GVR/corrected_counts.h5', errno = 2, error message = 'No such file or directory', flags = 0, o_flags = 0)\n",
      "Error reading /work/PRTNR/CHUV/DIR/rgottar1/spatial/env/xenium_paper/results/ovrlpy_correction_signal_integrity_threshold=0.5/proseg_expected/breast/breast/1FHZ/1FHZ/corrected_counts.h5: [Errno 2] Unable to synchronously open file (unable to open file: name = '/work/PRTNR/CHUV/DIR/rgottar1/spatial/env/xenium_paper/results/ovrlpy_correction_signal_integrity_threshold=0.5/proseg_expected/breast/breast/1FHZ/1FHZ/corrected_counts.h5', errno = 2, error message = 'No such file or directory', flags = 0, o_flags = 0)\n",
      "Error reading /work/PRTNR/CHUV/DIR/rgottar1/spatial/env/xenium_paper/results/ovrlpy_correction_signal_integrity_threshold=0.5/proseg_expected/breast/breast/0U9A/0U9A/corrected_counts.h5: [Errno 2] Unable to synchronously open file (unable to open file: name = '/work/PRTNR/CHUV/DIR/rgottar1/spatial/env/xenium_paper/results/ovrlpy_correction_signal_integrity_threshold=0.5/proseg_expected/breast/breast/0U9A/0U9A/corrected_counts.h5', errno = 2, error message = 'No such file or directory', flags = 0, o_flags = 0)\n",
      "Error reading /work/PRTNR/CHUV/DIR/rgottar1/spatial/env/xenium_paper/results/ovrlpy_correction_signal_integrity_threshold=0.5/proseg_expected/breast/breast/1ESQ/1ESQ/corrected_counts.h5: [Errno 2] Unable to synchronously open file (unable to open file: name = '/work/PRTNR/CHUV/DIR/rgottar1/spatial/env/xenium_paper/results/ovrlpy_correction_signal_integrity_threshold=0.5/proseg_expected/breast/breast/1ESQ/1ESQ/corrected_counts.h5', errno = 2, error message = 'No such file or directory', flags = 0, o_flags = 0)\n",
      "Error reading /work/PRTNR/CHUV/DIR/rgottar1/spatial/env/xenium_paper/results/ovrlpy_correction_signal_integrity_threshold=0.5/proseg_expected/breast/breast/0VRA/0VRA/corrected_counts.h5: [Errno 2] Unable to synchronously open file (unable to open file: name = '/work/PRTNR/CHUV/DIR/rgottar1/spatial/env/xenium_paper/results/ovrlpy_correction_signal_integrity_threshold=0.5/proseg_expected/breast/breast/0VRA/0VRA/corrected_counts.h5', errno = 2, error message = 'No such file or directory', flags = 0, o_flags = 0)\n",
      "Error reading /work/PRTNR/CHUV/DIR/rgottar1/spatial/env/xenium_paper/results/ovrlpy_correction_signal_integrity_threshold=0.5/proseg_expected/breast/breast/14LZ/14LZ/corrected_counts.h5: [Errno 2] Unable to synchronously open file (unable to open file: name = '/work/PRTNR/CHUV/DIR/rgottar1/spatial/env/xenium_paper/results/ovrlpy_correction_signal_integrity_threshold=0.5/proseg_expected/breast/breast/14LZ/14LZ/corrected_counts.h5', errno = 2, error message = 'No such file or directory', flags = 0, o_flags = 0)\n",
      "Error reading /work/PRTNR/CHUV/DIR/rgottar1/spatial/env/xenium_paper/results/ovrlpy_correction_signal_integrity_threshold=0.5/proseg_expected/breast/breast/1H27/1H27/corrected_counts.h5: [Errno 2] Unable to synchronously open file (unable to open file: name = '/work/PRTNR/CHUV/DIR/rgottar1/spatial/env/xenium_paper/results/ovrlpy_correction_signal_integrity_threshold=0.5/proseg_expected/breast/breast/1H27/1H27/corrected_counts.h5', errno = 2, error message = 'No such file or directory', flags = 0, o_flags = 0)\n",
      "Error reading /work/PRTNR/CHUV/DIR/rgottar1/spatial/env/xenium_paper/results/ovrlpy_correction_signal_integrity_threshold=0.5/proseg_expected/breast/breast/1GUC/1GUC/corrected_counts.h5: [Errno 2] Unable to synchronously open file (unable to open file: name = '/work/PRTNR/CHUV/DIR/rgottar1/spatial/env/xenium_paper/results/ovrlpy_correction_signal_integrity_threshold=0.5/proseg_expected/breast/breast/1GUC/1GUC/corrected_counts.h5', errno = 2, error message = 'No such file or directory', flags = 0, o_flags = 0)\n",
      "Error reading /work/PRTNR/CHUV/DIR/rgottar1/spatial/env/xenium_paper/results/ovrlpy_correction_signal_integrity_threshold=0.5/proseg_expected/breast/breast/0OE1/0OE1/corrected_counts.h5: [Errno 2] Unable to synchronously open file (unable to open file: name = '/work/PRTNR/CHUV/DIR/rgottar1/spatial/env/xenium_paper/results/ovrlpy_correction_signal_integrity_threshold=0.5/proseg_expected/breast/breast/0OE1/0OE1/corrected_counts.h5', errno = 2, error message = 'No such file or directory', flags = 0, o_flags = 0)\n",
      "Error reading /work/PRTNR/CHUV/DIR/rgottar1/spatial/env/xenium_paper/results/ovrlpy_correction_signal_integrity_threshold=0.5/proseg_expected/breast/breast/19TB/19TB/corrected_counts.h5: [Errno 2] Unable to synchronously open file (unable to open file: name = '/work/PRTNR/CHUV/DIR/rgottar1/spatial/env/xenium_paper/results/ovrlpy_correction_signal_integrity_threshold=0.5/proseg_expected/breast/breast/19TB/19TB/corrected_counts.h5', errno = 2, error message = 'No such file or directory', flags = 0, o_flags = 0)\n",
      "Error reading /work/PRTNR/CHUV/DIR/rgottar1/spatial/env/xenium_paper/results/ovrlpy_correction_signal_integrity_threshold=0.5/proseg_expected/breast/breast/1FO7/1FO7/corrected_counts.h5: [Errno 2] Unable to synchronously open file (unable to open file: name = '/work/PRTNR/CHUV/DIR/rgottar1/spatial/env/xenium_paper/results/ovrlpy_correction_signal_integrity_threshold=0.5/proseg_expected/breast/breast/1FO7/1FO7/corrected_counts.h5', errno = 2, error message = 'No such file or directory', flags = 0, o_flags = 0)\n",
      "Error reading /work/PRTNR/CHUV/DIR/rgottar1/spatial/env/xenium_paper/results/ovrlpy_correction_signal_integrity_threshold=0.5/proseg_expected/NSCLC/lung/1GA2/1GA2/corrected_counts.h5: [Errno 2] Unable to synchronously open file (unable to open file: name = '/work/PRTNR/CHUV/DIR/rgottar1/spatial/env/xenium_paper/results/ovrlpy_correction_signal_integrity_threshold=0.5/proseg_expected/NSCLC/lung/1GA2/1GA2/corrected_counts.h5', errno = 2, error message = 'No such file or directory', flags = 0, o_flags = 0)\n",
      "Error reading /work/PRTNR/CHUV/DIR/rgottar1/spatial/env/xenium_paper/results/ovrlpy_correction_signal_integrity_threshold=0.5/proseg_expected/NSCLC/lung/0PSV/0PSV/corrected_counts.h5: [Errno 2] Unable to synchronously open file (unable to open file: name = '/work/PRTNR/CHUV/DIR/rgottar1/spatial/env/xenium_paper/results/ovrlpy_correction_signal_integrity_threshold=0.5/proseg_expected/NSCLC/lung/0PSV/0PSV/corrected_counts.h5', errno = 2, error message = 'No such file or directory', flags = 0, o_flags = 0)\n",
      "Error reading /work/PRTNR/CHUV/DIR/rgottar1/spatial/env/xenium_paper/results/ovrlpy_correction_signal_integrity_threshold=0.5/proseg_expected/NSCLC/lung/0S8R/0S8R/corrected_counts.h5: [Errno 2] Unable to synchronously open file (unable to open file: name = '/work/PRTNR/CHUV/DIR/rgottar1/spatial/env/xenium_paper/results/ovrlpy_correction_signal_integrity_threshold=0.5/proseg_expected/NSCLC/lung/0S8R/0S8R/corrected_counts.h5', errno = 2, error message = 'No such file or directory', flags = 0, o_flags = 0)\n",
      "Error reading /work/PRTNR/CHUV/DIR/rgottar1/spatial/env/xenium_paper/results/ovrlpy_correction_signal_integrity_threshold=0.5/proseg_expected/NSCLC/lung/1G73/1G73/corrected_counts.h5: [Errno 2] Unable to synchronously open file (unable to open file: name = '/work/PRTNR/CHUV/DIR/rgottar1/spatial/env/xenium_paper/results/ovrlpy_correction_signal_integrity_threshold=0.5/proseg_expected/NSCLC/lung/1G73/1G73/corrected_counts.h5', errno = 2, error message = 'No such file or directory', flags = 0, o_flags = 0)\n",
      "Error reading /work/PRTNR/CHUV/DIR/rgottar1/spatial/env/xenium_paper/results/ovrlpy_correction_signal_integrity_threshold=0.5/proseg_expected/NSCLC/lung/1GDD/1GDD/corrected_counts.h5: [Errno 2] Unable to synchronously open file (unable to open file: name = '/work/PRTNR/CHUV/DIR/rgottar1/spatial/env/xenium_paper/results/ovrlpy_correction_signal_integrity_threshold=0.5/proseg_expected/NSCLC/lung/1GDD/1GDD/corrected_counts.h5', errno = 2, error message = 'No such file or directory', flags = 0, o_flags = 0)\n",
      "Error reading /work/PRTNR/CHUV/DIR/rgottar1/spatial/env/xenium_paper/results/ovrlpy_correction_signal_integrity_threshold=0.5/proseg_expected/NSCLC/lung/1GFF/1GFF/corrected_counts.h5: [Errno 2] Unable to synchronously open file (unable to open file: name = '/work/PRTNR/CHUV/DIR/rgottar1/spatial/env/xenium_paper/results/ovrlpy_correction_signal_integrity_threshold=0.5/proseg_expected/NSCLC/lung/1GFF/1GFF/corrected_counts.h5', errno = 2, error message = 'No such file or directory', flags = 0, o_flags = 0)\n",
      "Error reading /work/PRTNR/CHUV/DIR/rgottar1/spatial/env/xenium_paper/results/ovrlpy_correction_signal_integrity_threshold=0.5/proseg_expected/NSCLC/lung/0WMU/0WMU_1/corrected_counts.h5: [Errno 2] Unable to synchronously open file (unable to open file: name = '/work/PRTNR/CHUV/DIR/rgottar1/spatial/env/xenium_paper/results/ovrlpy_correction_signal_integrity_threshold=0.5/proseg_expected/NSCLC/lung/0WMU/0WMU_1/corrected_counts.h5', errno = 2, error message = 'No such file or directory', flags = 0, o_flags = 0)\n",
      "Error reading /work/PRTNR/CHUV/DIR/rgottar1/spatial/env/xenium_paper/results/ovrlpy_correction_signal_integrity_threshold=0.5/proseg_expected/NSCLC/lung/0WMU/0WMU_2/corrected_counts.h5: [Errno 2] Unable to synchronously open file (unable to open file: name = '/work/PRTNR/CHUV/DIR/rgottar1/spatial/env/xenium_paper/results/ovrlpy_correction_signal_integrity_threshold=0.5/proseg_expected/NSCLC/lung/0WMU/0WMU_2/corrected_counts.h5', errno = 2, error message = 'No such file or directory', flags = 0, o_flags = 0)\n",
      "Error reading /work/PRTNR/CHUV/DIR/rgottar1/spatial/env/xenium_paper/results/ovrlpy_correction_signal_integrity_threshold=0.5/proseg_expected/NSCLC/lung/1GQ9/1GQ9/corrected_counts.h5: [Errno 2] Unable to synchronously open file (unable to open file: name = '/work/PRTNR/CHUV/DIR/rgottar1/spatial/env/xenium_paper/results/ovrlpy_correction_signal_integrity_threshold=0.5/proseg_expected/NSCLC/lung/1GQ9/1GQ9/corrected_counts.h5', errno = 2, error message = 'No such file or directory', flags = 0, o_flags = 0)\n",
      "Error reading /work/PRTNR/CHUV/DIR/rgottar1/spatial/env/xenium_paper/results/ovrlpy_correction_signal_integrity_threshold=0.5/proseg_expected/NSCLC/lung/1GVD/1GVD/corrected_counts.h5: [Errno 2] Unable to synchronously open file (unable to open file: name = '/work/PRTNR/CHUV/DIR/rgottar1/spatial/env/xenium_paper/results/ovrlpy_correction_signal_integrity_threshold=0.5/proseg_expected/NSCLC/lung/1GVD/1GVD/corrected_counts.h5', errno = 2, error message = 'No such file or directory', flags = 0, o_flags = 0)\n",
      "Error reading /work/PRTNR/CHUV/DIR/rgottar1/spatial/env/xenium_paper/results/ovrlpy_correction_signal_integrity_threshold=0.5/proseg_expected/NSCLC/chuvio/1GA2/1GA2/corrected_counts.h5: [Errno 2] Unable to synchronously open file (unable to open file: name = '/work/PRTNR/CHUV/DIR/rgottar1/spatial/env/xenium_paper/results/ovrlpy_correction_signal_integrity_threshold=0.5/proseg_expected/NSCLC/chuvio/1GA2/1GA2/corrected_counts.h5', errno = 2, error message = 'No such file or directory', flags = 0, o_flags = 0)\n",
      "Error reading /work/PRTNR/CHUV/DIR/rgottar1/spatial/env/xenium_paper/results/ovrlpy_correction_signal_integrity_threshold=0.5/proseg_expected/NSCLC/chuvio/0PSV/0PSV_1/corrected_counts.h5: [Errno 2] Unable to synchronously open file (unable to open file: name = '/work/PRTNR/CHUV/DIR/rgottar1/spatial/env/xenium_paper/results/ovrlpy_correction_signal_integrity_threshold=0.5/proseg_expected/NSCLC/chuvio/0PSV/0PSV_1/corrected_counts.h5', errno = 2, error message = 'No such file or directory', flags = 0, o_flags = 0)\n",
      "Error reading /work/PRTNR/CHUV/DIR/rgottar1/spatial/env/xenium_paper/results/ovrlpy_correction_signal_integrity_threshold=0.5/proseg_expected/NSCLC/chuvio/0PSV/0PSV_2/corrected_counts.h5: [Errno 2] Unable to synchronously open file (unable to open file: name = '/work/PRTNR/CHUV/DIR/rgottar1/spatial/env/xenium_paper/results/ovrlpy_correction_signal_integrity_threshold=0.5/proseg_expected/NSCLC/chuvio/0PSV/0PSV_2/corrected_counts.h5', errno = 2, error message = 'No such file or directory', flags = 0, o_flags = 0)\n",
      "Error reading /work/PRTNR/CHUV/DIR/rgottar1/spatial/env/xenium_paper/results/ovrlpy_correction_signal_integrity_threshold=0.5/proseg_expected/NSCLC/chuvio/1G73/1G73/corrected_counts.h5: [Errno 2] Unable to synchronously open file (unable to open file: name = '/work/PRTNR/CHUV/DIR/rgottar1/spatial/env/xenium_paper/results/ovrlpy_correction_signal_integrity_threshold=0.5/proseg_expected/NSCLC/chuvio/1G73/1G73/corrected_counts.h5', errno = 2, error message = 'No such file or directory', flags = 0, o_flags = 0)\n",
      "Error reading /work/PRTNR/CHUV/DIR/rgottar1/spatial/env/xenium_paper/results/ovrlpy_correction_signal_integrity_threshold=0.5/proseg_expected/NSCLC/chuvio/0WMU/0WMU/corrected_counts.h5: [Errno 2] Unable to synchronously open file (unable to open file: name = '/work/PRTNR/CHUV/DIR/rgottar1/spatial/env/xenium_paper/results/ovrlpy_correction_signal_integrity_threshold=0.5/proseg_expected/NSCLC/chuvio/0WMU/0WMU/corrected_counts.h5', errno = 2, error message = 'No such file or directory', flags = 0, o_flags = 0)\n"
     ]
    },
    {
     "name": "stderr",
     "output_type": "stream",
     "text": [
      "Processing ovrlpy_correction_signal_integrity_threshold=0.5:   0%|          | 0/251 [00:00<?, ?it/s]"
     ]
    },
    {
     "name": "stdout",
     "output_type": "stream",
     "text": [
      "Error reading /work/PRTNR/CHUV/DIR/rgottar1/spatial/env/xenium_paper/results/ovrlpy_correction_signal_integrity_threshold=0.5/proseg_expected/NSCLC/5k/0PSV/0PSV/corrected_counts.h5: [Errno 2] Unable to synchronously open file (unable to open file: name = '/work/PRTNR/CHUV/DIR/rgottar1/spatial/env/xenium_paper/results/ovrlpy_correction_signal_integrity_threshold=0.5/proseg_expected/NSCLC/5k/0PSV/0PSV/corrected_counts.h5', errno = 2, error message = 'No such file or directory', flags = 0, o_flags = 0)\n",
      "Error reading /work/PRTNR/CHUV/DIR/rgottar1/spatial/env/xenium_paper/results/ovrlpy_correction_signal_integrity_threshold=0.5/proseg_expected/NSCLC/5k/1G73/1G73/corrected_counts.h5: [Errno 2] Unable to synchronously open file (unable to open file: name = '/work/PRTNR/CHUV/DIR/rgottar1/spatial/env/xenium_paper/results/ovrlpy_correction_signal_integrity_threshold=0.5/proseg_expected/NSCLC/5k/1G73/1G73/corrected_counts.h5', errno = 2, error message = 'No such file or directory', flags = 0, o_flags = 0)\n",
      "Error reading /work/PRTNR/CHUV/DIR/rgottar1/spatial/env/xenium_paper/results/ovrlpy_correction_signal_integrity_threshold=0.5/proseg_expected/NSCLC/5k/1GAC/1GAC/corrected_counts.h5: [Errno 2] Unable to synchronously open file (unable to open file: name = '/work/PRTNR/CHUV/DIR/rgottar1/spatial/env/xenium_paper/results/ovrlpy_correction_signal_integrity_threshold=0.5/proseg_expected/NSCLC/5k/1GAC/1GAC/corrected_counts.h5', errno = 2, error message = 'No such file or directory', flags = 0, o_flags = 0)\n",
      "Error reading /work/PRTNR/CHUV/DIR/rgottar1/spatial/env/xenium_paper/results/ovrlpy_correction_signal_integrity_threshold=0.5/proseg_expected/NSCLC/5k/1GQ9/1GQ9/corrected_counts.h5: [Errno 2] Unable to synchronously open file (unable to open file: name = '/work/PRTNR/CHUV/DIR/rgottar1/spatial/env/xenium_paper/results/ovrlpy_correction_signal_integrity_threshold=0.5/proseg_expected/NSCLC/5k/1GQ9/1GQ9/corrected_counts.h5', errno = 2, error message = 'No such file or directory', flags = 0, o_flags = 0)\n",
      "Error reading /work/PRTNR/CHUV/DIR/rgottar1/spatial/env/xenium_paper/results/ovrlpy_correction_signal_integrity_threshold=0.5/proseg_expected/NSCLC/5k/1GVD/1GVD/corrected_counts.h5: [Errno 2] Unable to synchronously open file (unable to open file: name = '/work/PRTNR/CHUV/DIR/rgottar1/spatial/env/xenium_paper/results/ovrlpy_correction_signal_integrity_threshold=0.5/proseg_expected/NSCLC/5k/1GVD/1GVD/corrected_counts.h5', errno = 2, error message = 'No such file or directory', flags = 0, o_flags = 0)\n",
      "Error reading /work/PRTNR/CHUV/DIR/rgottar1/spatial/env/xenium_paper/results/ovrlpy_correction_signal_integrity_threshold=0.5/proseg_expected/NSCLC/lung/1GAC/1GAC/corrected_counts.h5: [Errno 2] Unable to synchronously open file (unable to open file: name = '/work/PRTNR/CHUV/DIR/rgottar1/spatial/env/xenium_paper/results/ovrlpy_correction_signal_integrity_threshold=0.5/proseg_expected/NSCLC/lung/1GAC/1GAC/corrected_counts.h5', errno = 2, error message = 'No such file or directory', flags = 0, o_flags = 0)\n"
     ]
    },
    {
     "name": "stderr",
     "output_type": "stream",
     "text": [
      "Processing ovrlpy_correction_signal_integrity_threshold=0.5:  12%|█▏        | 29/251 [00:00<00:02, 109.01it/s]"
     ]
    },
    {
     "name": "stdout",
     "output_type": "stream",
     "text": [
      "Error reading /work/PRTNR/CHUV/DIR/rgottar1/spatial/env/xenium_paper/results/ovrlpy_correction_signal_integrity_threshold=0.5/proseg_expected/NSCLC/5k/1GDD/1GDD/corrected_counts.h5: [Errno 2] Unable to synchronously open file (unable to open file: name = '/work/PRTNR/CHUV/DIR/rgottar1/spatial/env/xenium_paper/results/ovrlpy_correction_signal_integrity_threshold=0.5/proseg_expected/NSCLC/5k/1GDD/1GDD/corrected_counts.h5', errno = 2, error message = 'No such file or directory', flags = 0, o_flags = 0)\n"
     ]
    },
    {
     "name": "stderr",
     "output_type": "stream",
     "text": [
      "Processing ovrlpy_correction_signal_integrity_threshold=0.5:  21%|██        | 53/251 [00:05<00:25,  7.78it/s] "
     ]
    },
    {
     "name": "stdout",
     "output_type": "stream",
     "text": [
      "Error reading /work/PRTNR/CHUV/DIR/rgottar1/spatial/env/xenium_paper/results/ovrlpy_correction_signal_integrity_threshold=0.5/segger/NSCLC/5k/1GDD/1GDD/corrected_counts.h5: [Errno 2] Unable to synchronously open file (unable to open file: name = '/work/PRTNR/CHUV/DIR/rgottar1/spatial/env/xenium_paper/results/ovrlpy_correction_signal_integrity_threshold=0.5/segger/NSCLC/5k/1GDD/1GDD/corrected_counts.h5', errno = 2, error message = 'No such file or directory', flags = 0, o_flags = 0)\n",
      "Error reading /work/PRTNR/CHUV/DIR/rgottar1/spatial/env/xenium_paper/results/ovrlpy_correction_signal_integrity_threshold=0.5/segger/NSCLC/5k/1GQ9/1GQ9/corrected_counts.h5: [Errno 2] Unable to synchronously open file (unable to open file: name = '/work/PRTNR/CHUV/DIR/rgottar1/spatial/env/xenium_paper/results/ovrlpy_correction_signal_integrity_threshold=0.5/segger/NSCLC/5k/1GQ9/1GQ9/corrected_counts.h5', errno = 2, error message = 'No such file or directory', flags = 0, o_flags = 0)\n",
      "Error reading /work/PRTNR/CHUV/DIR/rgottar1/spatial/env/xenium_paper/results/ovrlpy_correction_signal_integrity_threshold=0.5/segger/NSCLC/5k/1GVD/1GVD/corrected_counts.h5: [Errno 2] Unable to synchronously open file (unable to open file: name = '/work/PRTNR/CHUV/DIR/rgottar1/spatial/env/xenium_paper/results/ovrlpy_correction_signal_integrity_threshold=0.5/segger/NSCLC/5k/1GVD/1GVD/corrected_counts.h5', errno = 2, error message = 'No such file or directory', flags = 0, o_flags = 0)\n",
      "Error reading /work/PRTNR/CHUV/DIR/rgottar1/spatial/env/xenium_paper/results/ovrlpy_correction_signal_integrity_threshold=0.5/segger/NSCLC/5k/1G73/1G73/corrected_counts.h5: [Errno 2] Unable to synchronously open file (unable to open file: name = '/work/PRTNR/CHUV/DIR/rgottar1/spatial/env/xenium_paper/results/ovrlpy_correction_signal_integrity_threshold=0.5/segger/NSCLC/5k/1G73/1G73/corrected_counts.h5', errno = 2, error message = 'No such file or directory', flags = 0, o_flags = 0)\n",
      "Error reading /work/PRTNR/CHUV/DIR/rgottar1/spatial/env/xenium_paper/results/ovrlpy_correction_signal_integrity_threshold=0.5/segger/NSCLC/5k/0PSV/0PSV/corrected_counts.h5: [Errno 2] Unable to synchronously open file (unable to open file: name = '/work/PRTNR/CHUV/DIR/rgottar1/spatial/env/xenium_paper/results/ovrlpy_correction_signal_integrity_threshold=0.5/segger/NSCLC/5k/0PSV/0PSV/corrected_counts.h5', errno = 2, error message = 'No such file or directory', flags = 0, o_flags = 0)\n"
     ]
    },
    {
     "name": "stderr",
     "output_type": "stream",
     "text": [
      "Processing ovrlpy_correction_signal_integrity_threshold=0.5:  24%|██▍       | 60/251 [00:05<00:17, 10.78it/s]"
     ]
    },
    {
     "name": "stdout",
     "output_type": "stream",
     "text": [
      "Error reading /work/PRTNR/CHUV/DIR/rgottar1/spatial/env/xenium_paper/results/ovrlpy_correction_signal_integrity_threshold=0.5/segger/NSCLC/5k/1GAC/1GAC/corrected_counts.h5: [Errno 2] Unable to synchronously open file (unable to open file: name = '/work/PRTNR/CHUV/DIR/rgottar1/spatial/env/xenium_paper/results/ovrlpy_correction_signal_integrity_threshold=0.5/segger/NSCLC/5k/1GAC/1GAC/corrected_counts.h5', errno = 2, error message = 'No such file or directory', flags = 0, o_flags = 0)\n"
     ]
    },
    {
     "name": "stderr",
     "output_type": "stream",
     "text": [
      "Processing ovrlpy_correction_signal_integrity_threshold=0.5:  35%|███▌      | 89/251 [00:13<00:21,  7.64it/s]"
     ]
    },
    {
     "name": "stdout",
     "output_type": "stream",
     "text": [
      "Error reading /work/PRTNR/CHUV/DIR/rgottar1/spatial/env/xenium_paper/results/ovrlpy_correction_signal_integrity_threshold=0.5/10x_5um/NSCLC/5k/1G73/1G73/corrected_counts.h5: [Errno 2] Unable to synchronously open file (unable to open file: name = '/work/PRTNR/CHUV/DIR/rgottar1/spatial/env/xenium_paper/results/ovrlpy_correction_signal_integrity_threshold=0.5/10x_5um/NSCLC/5k/1G73/1G73/corrected_counts.h5', errno = 2, error message = 'No such file or directory', flags = 0, o_flags = 0)\n",
      "Error reading /work/PRTNR/CHUV/DIR/rgottar1/spatial/env/xenium_paper/results/ovrlpy_correction_signal_integrity_threshold=0.5/10x_5um/NSCLC/5k/0PSV/0PSV/corrected_counts.h5: [Errno 2] Unable to synchronously open file (unable to open file: name = '/work/PRTNR/CHUV/DIR/rgottar1/spatial/env/xenium_paper/results/ovrlpy_correction_signal_integrity_threshold=0.5/10x_5um/NSCLC/5k/0PSV/0PSV/corrected_counts.h5', errno = 2, error message = 'No such file or directory', flags = 0, o_flags = 0)\n",
      "Error reading /work/PRTNR/CHUV/DIR/rgottar1/spatial/env/xenium_paper/results/ovrlpy_correction_signal_integrity_threshold=0.5/10x_5um/NSCLC/5k/1GAC/1GAC/corrected_counts.h5: [Errno 2] Unable to synchronously open file (unable to open file: name = '/work/PRTNR/CHUV/DIR/rgottar1/spatial/env/xenium_paper/results/ovrlpy_correction_signal_integrity_threshold=0.5/10x_5um/NSCLC/5k/1GAC/1GAC/corrected_counts.h5', errno = 2, error message = 'No such file or directory', flags = 0, o_flags = 0)\n"
     ]
    },
    {
     "name": "stderr",
     "output_type": "stream",
     "text": [
      "Processing ovrlpy_correction_signal_integrity_threshold=0.5:  36%|███▋      | 91/251 [00:13<00:19,  8.33it/s]"
     ]
    },
    {
     "name": "stdout",
     "output_type": "stream",
     "text": [
      "Error reading /work/PRTNR/CHUV/DIR/rgottar1/spatial/env/xenium_paper/results/ovrlpy_correction_signal_integrity_threshold=0.5/10x_5um/NSCLC/5k/1GDD/1GDD/corrected_counts.h5: [Errno 2] Unable to synchronously open file (unable to open file: name = '/work/PRTNR/CHUV/DIR/rgottar1/spatial/env/xenium_paper/results/ovrlpy_correction_signal_integrity_threshold=0.5/10x_5um/NSCLC/5k/1GDD/1GDD/corrected_counts.h5', errno = 2, error message = 'No such file or directory', flags = 0, o_flags = 0)\n"
     ]
    },
    {
     "name": "stderr",
     "output_type": "stream",
     "text": [
      "Processing ovrlpy_correction_signal_integrity_threshold=0.5:  38%|███▊      | 96/251 [00:15<00:27,  5.54it/s]"
     ]
    },
    {
     "name": "stdout",
     "output_type": "stream",
     "text": [
      "Error reading /work/PRTNR/CHUV/DIR/rgottar1/spatial/env/xenium_paper/results/ovrlpy_correction_signal_integrity_threshold=0.5/10x_5um/NSCLC/5k/1GQ9/1GQ9/corrected_counts.h5: [Errno 2] Unable to synchronously open file (unable to open file: name = '/work/PRTNR/CHUV/DIR/rgottar1/spatial/env/xenium_paper/results/ovrlpy_correction_signal_integrity_threshold=0.5/10x_5um/NSCLC/5k/1GQ9/1GQ9/corrected_counts.h5', errno = 2, error message = 'No such file or directory', flags = 0, o_flags = 0)\n",
      "Error reading /work/PRTNR/CHUV/DIR/rgottar1/spatial/env/xenium_paper/results/ovrlpy_correction_signal_integrity_threshold=0.5/10x_5um/NSCLC/5k/1GVD/1GVD/corrected_counts.h5: [Errno 2] Unable to synchronously open file (unable to open file: name = '/work/PRTNR/CHUV/DIR/rgottar1/spatial/env/xenium_paper/results/ovrlpy_correction_signal_integrity_threshold=0.5/10x_5um/NSCLC/5k/1GVD/1GVD/corrected_counts.h5', errno = 2, error message = 'No such file or directory', flags = 0, o_flags = 0)\n"
     ]
    },
    {
     "name": "stderr",
     "output_type": "stream",
     "text": [
      "Processing ovrlpy_correction_signal_integrity_threshold=0.5:  53%|█████▎    | 132/251 [00:25<00:15,  7.49it/s]"
     ]
    },
    {
     "name": "stdout",
     "output_type": "stream",
     "text": [
      "Error reading /work/PRTNR/CHUV/DIR/rgottar1/spatial/env/xenium_paper/results/ovrlpy_correction_signal_integrity_threshold=0.5/10x_15um/NSCLC/5k/1G73/1G73/corrected_counts.h5: [Errno 2] Unable to synchronously open file (unable to open file: name = '/work/PRTNR/CHUV/DIR/rgottar1/spatial/env/xenium_paper/results/ovrlpy_correction_signal_integrity_threshold=0.5/10x_15um/NSCLC/5k/1G73/1G73/corrected_counts.h5', errno = 2, error message = 'No such file or directory', flags = 0, o_flags = 0)\n",
      "Error reading /work/PRTNR/CHUV/DIR/rgottar1/spatial/env/xenium_paper/results/ovrlpy_correction_signal_integrity_threshold=0.5/10x_15um/NSCLC/5k/1GDD/1GDD/corrected_counts.h5: [Errno 2] Unable to synchronously open file (unable to open file: name = '/work/PRTNR/CHUV/DIR/rgottar1/spatial/env/xenium_paper/results/ovrlpy_correction_signal_integrity_threshold=0.5/10x_15um/NSCLC/5k/1GDD/1GDD/corrected_counts.h5', errno = 2, error message = 'No such file or directory', flags = 0, o_flags = 0)\n",
      "Error reading /work/PRTNR/CHUV/DIR/rgottar1/spatial/env/xenium_paper/results/ovrlpy_correction_signal_integrity_threshold=0.5/10x_15um/NSCLC/5k/0PSV/0PSV/corrected_counts.h5: [Errno 2] Unable to synchronously open file (unable to open file: name = '/work/PRTNR/CHUV/DIR/rgottar1/spatial/env/xenium_paper/results/ovrlpy_correction_signal_integrity_threshold=0.5/10x_15um/NSCLC/5k/0PSV/0PSV/corrected_counts.h5', errno = 2, error message = 'No such file or directory', flags = 0, o_flags = 0)\n"
     ]
    },
    {
     "name": "stderr",
     "output_type": "stream",
     "text": [
      "Processing ovrlpy_correction_signal_integrity_threshold=0.5:  55%|█████▍    | 138/251 [00:25<00:08, 12.62it/s]"
     ]
    },
    {
     "name": "stdout",
     "output_type": "stream",
     "text": [
      "Error reading /work/PRTNR/CHUV/DIR/rgottar1/spatial/env/xenium_paper/results/ovrlpy_correction_signal_integrity_threshold=0.5/10x_15um/NSCLC/5k/1GQ9/1GQ9/corrected_counts.h5: [Errno 2] Unable to synchronously open file (unable to open file: name = '/work/PRTNR/CHUV/DIR/rgottar1/spatial/env/xenium_paper/results/ovrlpy_correction_signal_integrity_threshold=0.5/10x_15um/NSCLC/5k/1GQ9/1GQ9/corrected_counts.h5', errno = 2, error message = 'No such file or directory', flags = 0, o_flags = 0)\n",
      "Error reading /work/PRTNR/CHUV/DIR/rgottar1/spatial/env/xenium_paper/results/ovrlpy_correction_signal_integrity_threshold=0.5/10x_15um/NSCLC/5k/1GAC/1GAC/corrected_counts.h5: [Errno 2] Unable to synchronously open file (unable to open file: name = '/work/PRTNR/CHUV/DIR/rgottar1/spatial/env/xenium_paper/results/ovrlpy_correction_signal_integrity_threshold=0.5/10x_15um/NSCLC/5k/1GAC/1GAC/corrected_counts.h5', errno = 2, error message = 'No such file or directory', flags = 0, o_flags = 0)\n",
      "Error reading /work/PRTNR/CHUV/DIR/rgottar1/spatial/env/xenium_paper/results/ovrlpy_correction_signal_integrity_threshold=0.5/10x_mm_5um/NSCLC/5k/1G73/1G73/corrected_counts.h5: [Errno 2] Unable to synchronously open file (unable to open file: name = '/work/PRTNR/CHUV/DIR/rgottar1/spatial/env/xenium_paper/results/ovrlpy_correction_signal_integrity_threshold=0.5/10x_mm_5um/NSCLC/5k/1G73/1G73/corrected_counts.h5', errno = 2, error message = 'No such file or directory', flags = 0, o_flags = 0)\n"
     ]
    },
    {
     "name": "stderr",
     "output_type": "stream",
     "text": [
      "Processing ovrlpy_correction_signal_integrity_threshold=0.5:  56%|█████▌    | 140/251 [00:26<00:17,  6.44it/s]"
     ]
    },
    {
     "name": "stdout",
     "output_type": "stream",
     "text": [
      "Error reading /work/PRTNR/CHUV/DIR/rgottar1/spatial/env/xenium_paper/results/ovrlpy_correction_signal_integrity_threshold=0.5/10x_mm_5um/NSCLC/5k/1GAC/1GAC/corrected_counts.h5: [Errno 2] Unable to synchronously open file (unable to open file: name = '/work/PRTNR/CHUV/DIR/rgottar1/spatial/env/xenium_paper/results/ovrlpy_correction_signal_integrity_threshold=0.5/10x_mm_5um/NSCLC/5k/1GAC/1GAC/corrected_counts.h5', errno = 2, error message = 'No such file or directory', flags = 0, o_flags = 0)\n",
      "Error reading /work/PRTNR/CHUV/DIR/rgottar1/spatial/env/xenium_paper/results/ovrlpy_correction_signal_integrity_threshold=0.5/10x_15um/NSCLC/5k/1GVD/1GVD/corrected_counts.h5: [Errno 2] Unable to synchronously open file (unable to open file: name = '/work/PRTNR/CHUV/DIR/rgottar1/spatial/env/xenium_paper/results/ovrlpy_correction_signal_integrity_threshold=0.5/10x_15um/NSCLC/5k/1GVD/1GVD/corrected_counts.h5', errno = 2, error message = 'No such file or directory', flags = 0, o_flags = 0)\n",
      "Error reading /work/PRTNR/CHUV/DIR/rgottar1/spatial/env/xenium_paper/results/ovrlpy_correction_signal_integrity_threshold=0.5/10x_mm_5um/NSCLC/5k/1GDD/1GDD/corrected_counts.h5: [Errno 2] Unable to synchronously open file (unable to open file: name = '/work/PRTNR/CHUV/DIR/rgottar1/spatial/env/xenium_paper/results/ovrlpy_correction_signal_integrity_threshold=0.5/10x_mm_5um/NSCLC/5k/1GDD/1GDD/corrected_counts.h5', errno = 2, error message = 'No such file or directory', flags = 0, o_flags = 0)\n",
      "Error reading /work/PRTNR/CHUV/DIR/rgottar1/spatial/env/xenium_paper/results/ovrlpy_correction_signal_integrity_threshold=0.5/10x_mm_5um/NSCLC/5k/1GVD/1GVD/corrected_counts.h5: [Errno 2] Unable to synchronously open file (unable to open file: name = '/work/PRTNR/CHUV/DIR/rgottar1/spatial/env/xenium_paper/results/ovrlpy_correction_signal_integrity_threshold=0.5/10x_mm_5um/NSCLC/5k/1GVD/1GVD/corrected_counts.h5', errno = 2, error message = 'No such file or directory', flags = 0, o_flags = 0)\n"
     ]
    },
    {
     "name": "stderr",
     "output_type": "stream",
     "text": [
      "Processing ovrlpy_correction_signal_integrity_threshold=0.5:  60%|█████▉    | 150/251 [00:26<00:07, 14.25it/s]"
     ]
    },
    {
     "name": "stdout",
     "output_type": "stream",
     "text": [
      "Error reading /work/PRTNR/CHUV/DIR/rgottar1/spatial/env/xenium_paper/results/ovrlpy_correction_signal_integrity_threshold=0.5/10x_mm_5um/NSCLC/5k/1GQ9/1GQ9/corrected_counts.h5: [Errno 2] Unable to synchronously open file (unable to open file: name = '/work/PRTNR/CHUV/DIR/rgottar1/spatial/env/xenium_paper/results/ovrlpy_correction_signal_integrity_threshold=0.5/10x_mm_5um/NSCLC/5k/1GQ9/1GQ9/corrected_counts.h5', errno = 2, error message = 'No such file or directory', flags = 0, o_flags = 0)\n",
      "Error reading /work/PRTNR/CHUV/DIR/rgottar1/spatial/env/xenium_paper/results/ovrlpy_correction_signal_integrity_threshold=0.5/10x_mm_5um/NSCLC/5k/0PSV/0PSV/corrected_counts.h5: [Errno 2] Unable to synchronously open file (unable to open file: name = '/work/PRTNR/CHUV/DIR/rgottar1/spatial/env/xenium_paper/results/ovrlpy_correction_signal_integrity_threshold=0.5/10x_mm_5um/NSCLC/5k/0PSV/0PSV/corrected_counts.h5', errno = 2, error message = 'No such file or directory', flags = 0, o_flags = 0)\n"
     ]
    },
    {
     "name": "stderr",
     "output_type": "stream",
     "text": [
      "Processing ovrlpy_correction_signal_integrity_threshold=0.5:  74%|███████▍  | 186/251 [00:36<00:03, 16.52it/s]"
     ]
    },
    {
     "name": "stdout",
     "output_type": "stream",
     "text": [
      "Error reading /work/PRTNR/CHUV/DIR/rgottar1/spatial/env/xenium_paper/results/ovrlpy_correction_signal_integrity_threshold=0.5/baysor/NSCLC/5k/0PSV/0PSV/corrected_counts.h5: [Errno 2] Unable to synchronously open file (unable to open file: name = '/work/PRTNR/CHUV/DIR/rgottar1/spatial/env/xenium_paper/results/ovrlpy_correction_signal_integrity_threshold=0.5/baysor/NSCLC/5k/0PSV/0PSV/corrected_counts.h5', errno = 2, error message = 'No such file or directory', flags = 0, o_flags = 0)\n",
      "Error reading /work/PRTNR/CHUV/DIR/rgottar1/spatial/env/xenium_paper/results/ovrlpy_correction_signal_integrity_threshold=0.5/baysor/NSCLC/5k/1GDD/1GDD/corrected_counts.h5: [Errno 2] Unable to synchronously open file (unable to open file: name = '/work/PRTNR/CHUV/DIR/rgottar1/spatial/env/xenium_paper/results/ovrlpy_correction_signal_integrity_threshold=0.5/baysor/NSCLC/5k/1GDD/1GDD/corrected_counts.h5', errno = 2, error message = 'No such file or directory', flags = 0, o_flags = 0)\n",
      "Error reading /work/PRTNR/CHUV/DIR/rgottar1/spatial/env/xenium_paper/results/ovrlpy_correction_signal_integrity_threshold=0.5/baysor/NSCLC/5k/1GQ9/1GQ9/corrected_counts.h5: [Errno 2] Unable to synchronously open file (unable to open file: name = '/work/PRTNR/CHUV/DIR/rgottar1/spatial/env/xenium_paper/results/ovrlpy_correction_signal_integrity_threshold=0.5/baysor/NSCLC/5k/1GQ9/1GQ9/corrected_counts.h5', errno = 2, error message = 'No such file or directory', flags = 0, o_flags = 0)\n",
      "Error reading /work/PRTNR/CHUV/DIR/rgottar1/spatial/env/xenium_paper/results/ovrlpy_correction_signal_integrity_threshold=0.5/baysor/NSCLC/5k/1GVD/1GVD/corrected_counts.h5: [Errno 2] Unable to synchronously open file (unable to open file: name = '/work/PRTNR/CHUV/DIR/rgottar1/spatial/env/xenium_paper/results/ovrlpy_correction_signal_integrity_threshold=0.5/baysor/NSCLC/5k/1GVD/1GVD/corrected_counts.h5', errno = 2, error message = 'No such file or directory', flags = 0, o_flags = 0)\n"
     ]
    },
    {
     "name": "stderr",
     "output_type": "stream",
     "text": [
      "Processing ovrlpy_correction_signal_integrity_threshold=0.5:  75%|███████▌  | 189/251 [00:37<00:03, 16.37it/s]"
     ]
    },
    {
     "name": "stdout",
     "output_type": "stream",
     "text": [
      "Error reading /work/PRTNR/CHUV/DIR/rgottar1/spatial/env/xenium_paper/results/ovrlpy_correction_signal_integrity_threshold=0.5/baysor/NSCLC/5k/1GAC/1GAC/corrected_counts.h5: [Errno 2] Unable to synchronously open file (unable to open file: name = '/work/PRTNR/CHUV/DIR/rgottar1/spatial/env/xenium_paper/results/ovrlpy_correction_signal_integrity_threshold=0.5/baysor/NSCLC/5k/1GAC/1GAC/corrected_counts.h5', errno = 2, error message = 'No such file or directory', flags = 0, o_flags = 0)\n"
     ]
    },
    {
     "name": "stderr",
     "output_type": "stream",
     "text": [
      "Processing ovrlpy_correction_signal_integrity_threshold=0.5:  88%|████████▊ | 220/251 [00:46<00:04,  7.32it/s]"
     ]
    },
    {
     "name": "stdout",
     "output_type": "stream",
     "text": [
      "Error reading /work/PRTNR/CHUV/DIR/rgottar1/spatial/env/xenium_paper/results/ovrlpy_correction_signal_integrity_threshold=0.5/10x_0um/NSCLC/5k/0PSV/0PSV/corrected_counts.h5: [Errno 2] Unable to synchronously open file (unable to open file: name = '/work/PRTNR/CHUV/DIR/rgottar1/spatial/env/xenium_paper/results/ovrlpy_correction_signal_integrity_threshold=0.5/10x_0um/NSCLC/5k/0PSV/0PSV/corrected_counts.h5', errno = 2, error message = 'No such file or directory', flags = 0, o_flags = 0)\n",
      "Error reading /work/PRTNR/CHUV/DIR/rgottar1/spatial/env/xenium_paper/results/ovrlpy_correction_signal_integrity_threshold=0.5/10x_0um/NSCLC/5k/1G73/1G73/corrected_counts.h5: [Errno 2] Unable to synchronously open file (unable to open file: name = '/work/PRTNR/CHUV/DIR/rgottar1/spatial/env/xenium_paper/results/ovrlpy_correction_signal_integrity_threshold=0.5/10x_0um/NSCLC/5k/1G73/1G73/corrected_counts.h5', errno = 2, error message = 'No such file or directory', flags = 0, o_flags = 0)\n",
      "Error reading /work/PRTNR/CHUV/DIR/rgottar1/spatial/env/xenium_paper/results/ovrlpy_correction_signal_integrity_threshold=0.5/10x_0um/NSCLC/5k/1GQ9/1GQ9/corrected_counts.h5: [Errno 2] Unable to synchronously open file (unable to open file: name = '/work/PRTNR/CHUV/DIR/rgottar1/spatial/env/xenium_paper/results/ovrlpy_correction_signal_integrity_threshold=0.5/10x_0um/NSCLC/5k/1GQ9/1GQ9/corrected_counts.h5', errno = 2, error message = 'No such file or directory', flags = 0, o_flags = 0)\n",
      "Error reading /work/PRTNR/CHUV/DIR/rgottar1/spatial/env/xenium_paper/results/ovrlpy_correction_signal_integrity_threshold=0.5/10x_0um/NSCLC/5k/1GDD/1GDD/corrected_counts.h5: [Errno 2] Unable to synchronously open file (unable to open file: name = '/work/PRTNR/CHUV/DIR/rgottar1/spatial/env/xenium_paper/results/ovrlpy_correction_signal_integrity_threshold=0.5/10x_0um/NSCLC/5k/1GDD/1GDD/corrected_counts.h5', errno = 2, error message = 'No such file or directory', flags = 0, o_flags = 0)\n",
      "Error reading /work/PRTNR/CHUV/DIR/rgottar1/spatial/env/xenium_paper/results/ovrlpy_correction_signal_integrity_threshold=0.5/10x_0um/NSCLC/5k/1GAC/1GAC/corrected_counts.h5: [Errno 2] Unable to synchronously open file (unable to open file: name = '/work/PRTNR/CHUV/DIR/rgottar1/spatial/env/xenium_paper/results/ovrlpy_correction_signal_integrity_threshold=0.5/10x_0um/NSCLC/5k/1GAC/1GAC/corrected_counts.h5', errno = 2, error message = 'No such file or directory', flags = 0, o_flags = 0)\n"
     ]
    },
    {
     "name": "stderr",
     "output_type": "stream",
     "text": [
      "Processing ovrlpy_correction_signal_integrity_threshold=0.5:  90%|█████████ | 226/251 [00:48<00:04,  5.98it/s]"
     ]
    },
    {
     "name": "stdout",
     "output_type": "stream",
     "text": [
      "Error reading /work/PRTNR/CHUV/DIR/rgottar1/spatial/env/xenium_paper/results/ovrlpy_correction_signal_integrity_threshold=0.5/10x_0um/NSCLC/5k/1GVD/1GVD/corrected_counts.h5: [Errno 2] Unable to synchronously open file (unable to open file: name = '/work/PRTNR/CHUV/DIR/rgottar1/spatial/env/xenium_paper/results/ovrlpy_correction_signal_integrity_threshold=0.5/10x_0um/NSCLC/5k/1GVD/1GVD/corrected_counts.h5', errno = 2, error message = 'No such file or directory', flags = 0, o_flags = 0)\n"
     ]
    },
    {
     "name": "stderr",
     "output_type": "stream",
     "text": [
      "Processing ovrlpy_correction_signal_integrity_threshold=0.5: 100%|██████████| 251/251 [00:48<00:00,  5.13it/s]\n"
     ]
    },
    {
     "name": "stdout",
     "output_type": "stream",
     "text": [
      "Error reading /work/PRTNR/CHUV/DIR/rgottar1/spatial/env/xenium_paper/results/ovrlpy_correction_signal_integrity_threshold=0.7/proseg_expected/breast/breast/1FYB/1FYB/corrected_counts.h5: [Errno 2] Unable to synchronously open file (unable to open file: name = '/work/PRTNR/CHUV/DIR/rgottar1/spatial/env/xenium_paper/results/ovrlpy_correction_signal_integrity_threshold=0.7/proseg_expected/breast/breast/1FYB/1FYB/corrected_counts.h5', errno = 2, error message = 'No such file or directory', flags = 0, o_flags = 0)\n",
      "Error reading /work/PRTNR/CHUV/DIR/rgottar1/spatial/env/xenium_paper/results/ovrlpy_correction_signal_integrity_threshold=0.7/proseg_expected/breast/breast/OPHI/OPHI_3/corrected_counts.h5: [Errno 2] Unable to synchronously open file (unable to open file: name = '/work/PRTNR/CHUV/DIR/rgottar1/spatial/env/xenium_paper/results/ovrlpy_correction_signal_integrity_threshold=0.7/proseg_expected/breast/breast/OPHI/OPHI_3/corrected_counts.h5', errno = 2, error message = 'No such file or directory', flags = 0, o_flags = 0)\n",
      "Error reading /work/PRTNR/CHUV/DIR/rgottar1/spatial/env/xenium_paper/results/ovrlpy_correction_signal_integrity_threshold=0.7/proseg_expected/breast/breast/OPHI/OPHI_1/corrected_counts.h5: [Errno 2] Unable to synchronously open file (unable to open file: name = '/work/PRTNR/CHUV/DIR/rgottar1/spatial/env/xenium_paper/results/ovrlpy_correction_signal_integrity_threshold=0.7/proseg_expected/breast/breast/OPHI/OPHI_1/corrected_counts.h5', errno = 2, error message = 'No such file or directory', flags = 0, o_flags = 0)\n",
      "Error reading /work/PRTNR/CHUV/DIR/rgottar1/spatial/env/xenium_paper/results/ovrlpy_correction_signal_integrity_threshold=0.7/proseg_expected/breast/breast/OPHI/OPHI_2/corrected_counts.h5: [Errno 2] Unable to synchronously open file (unable to open file: name = '/work/PRTNR/CHUV/DIR/rgottar1/spatial/env/xenium_paper/results/ovrlpy_correction_signal_integrity_threshold=0.7/proseg_expected/breast/breast/OPHI/OPHI_2/corrected_counts.h5', errno = 2, error message = 'No such file or directory', flags = 0, o_flags = 0)\n",
      "Error reading /work/PRTNR/CHUV/DIR/rgottar1/spatial/env/xenium_paper/results/ovrlpy_correction_signal_integrity_threshold=0.7/proseg_expected/breast/breast/1BCA/1BCA/corrected_counts.h5: [Errno 2] Unable to synchronously open file (unable to open file: name = '/work/PRTNR/CHUV/DIR/rgottar1/spatial/env/xenium_paper/results/ovrlpy_correction_signal_integrity_threshold=0.7/proseg_expected/breast/breast/1BCA/1BCA/corrected_counts.h5', errno = 2, error message = 'No such file or directory', flags = 0, o_flags = 0)\n",
      "Error reading /work/PRTNR/CHUV/DIR/rgottar1/spatial/env/xenium_paper/results/ovrlpy_correction_signal_integrity_threshold=0.7/proseg_expected/breast/breast/1256/1256/corrected_counts.h5: [Errno 2] Unable to synchronously open file (unable to open file: name = '/work/PRTNR/CHUV/DIR/rgottar1/spatial/env/xenium_paper/results/ovrlpy_correction_signal_integrity_threshold=0.7/proseg_expected/breast/breast/1256/1256/corrected_counts.h5', errno = 2, error message = 'No such file or directory', flags = 0, o_flags = 0)\n",
      "Error reading /work/PRTNR/CHUV/DIR/rgottar1/spatial/env/xenium_paper/results/ovrlpy_correction_signal_integrity_threshold=0.7/proseg_expected/breast/breast/0PD6/0PD6/corrected_counts.h5: [Errno 2] Unable to synchronously open file (unable to open file: name = '/work/PRTNR/CHUV/DIR/rgottar1/spatial/env/xenium_paper/results/ovrlpy_correction_signal_integrity_threshold=0.7/proseg_expected/breast/breast/0PD6/0PD6/corrected_counts.h5', errno = 2, error message = 'No such file or directory', flags = 0, o_flags = 0)\n",
      "Error reading /work/PRTNR/CHUV/DIR/rgottar1/spatial/env/xenium_paper/results/ovrlpy_correction_signal_integrity_threshold=0.7/proseg_expected/breast/breast/1GV1/1GV1/corrected_counts.h5: [Errno 2] Unable to synchronously open file (unable to open file: name = '/work/PRTNR/CHUV/DIR/rgottar1/spatial/env/xenium_paper/results/ovrlpy_correction_signal_integrity_threshold=0.7/proseg_expected/breast/breast/1GV1/1GV1/corrected_counts.h5', errno = 2, error message = 'No such file or directory', flags = 0, o_flags = 0)\n",
      "Error reading /work/PRTNR/CHUV/DIR/rgottar1/spatial/env/xenium_paper/results/ovrlpy_correction_signal_integrity_threshold=0.7/proseg_expected/breast/breast/1GVR/1GVR/corrected_counts.h5: [Errno 2] Unable to synchronously open file (unable to open file: name = '/work/PRTNR/CHUV/DIR/rgottar1/spatial/env/xenium_paper/results/ovrlpy_correction_signal_integrity_threshold=0.7/proseg_expected/breast/breast/1GVR/1GVR/corrected_counts.h5', errno = 2, error message = 'No such file or directory', flags = 0, o_flags = 0)\n",
      "Error reading /work/PRTNR/CHUV/DIR/rgottar1/spatial/env/xenium_paper/results/ovrlpy_correction_signal_integrity_threshold=0.7/proseg_expected/breast/breast/1FHZ/1FHZ/corrected_counts.h5: [Errno 2] Unable to synchronously open file (unable to open file: name = '/work/PRTNR/CHUV/DIR/rgottar1/spatial/env/xenium_paper/results/ovrlpy_correction_signal_integrity_threshold=0.7/proseg_expected/breast/breast/1FHZ/1FHZ/corrected_counts.h5', errno = 2, error message = 'No such file or directory', flags = 0, o_flags = 0)\n",
      "Error reading /work/PRTNR/CHUV/DIR/rgottar1/spatial/env/xenium_paper/results/ovrlpy_correction_signal_integrity_threshold=0.7/proseg_expected/breast/breast/0U9A/0U9A/corrected_counts.h5: [Errno 2] Unable to synchronously open file (unable to open file: name = '/work/PRTNR/CHUV/DIR/rgottar1/spatial/env/xenium_paper/results/ovrlpy_correction_signal_integrity_threshold=0.7/proseg_expected/breast/breast/0U9A/0U9A/corrected_counts.h5', errno = 2, error message = 'No such file or directory', flags = 0, o_flags = 0)\n",
      "Error reading /work/PRTNR/CHUV/DIR/rgottar1/spatial/env/xenium_paper/results/ovrlpy_correction_signal_integrity_threshold=0.7/proseg_expected/breast/breast/1ESQ/1ESQ/corrected_counts.h5: [Errno 2] Unable to synchronously open file (unable to open file: name = '/work/PRTNR/CHUV/DIR/rgottar1/spatial/env/xenium_paper/results/ovrlpy_correction_signal_integrity_threshold=0.7/proseg_expected/breast/breast/1ESQ/1ESQ/corrected_counts.h5', errno = 2, error message = 'No such file or directory', flags = 0, o_flags = 0)\n",
      "Error reading /work/PRTNR/CHUV/DIR/rgottar1/spatial/env/xenium_paper/results/ovrlpy_correction_signal_integrity_threshold=0.7/proseg_expected/breast/breast/0VRA/0VRA/corrected_counts.h5: [Errno 2] Unable to synchronously open file (unable to open file: name = '/work/PRTNR/CHUV/DIR/rgottar1/spatial/env/xenium_paper/results/ovrlpy_correction_signal_integrity_threshold=0.7/proseg_expected/breast/breast/0VRA/0VRA/corrected_counts.h5', errno = 2, error message = 'No such file or directory', flags = 0, o_flags = 0)\n",
      "Error reading /work/PRTNR/CHUV/DIR/rgottar1/spatial/env/xenium_paper/results/ovrlpy_correction_signal_integrity_threshold=0.7/proseg_expected/breast/breast/14LZ/14LZ/corrected_counts.h5: [Errno 2] Unable to synchronously open file (unable to open file: name = '/work/PRTNR/CHUV/DIR/rgottar1/spatial/env/xenium_paper/results/ovrlpy_correction_signal_integrity_threshold=0.7/proseg_expected/breast/breast/14LZ/14LZ/corrected_counts.h5', errno = 2, error message = 'No such file or directory', flags = 0, o_flags = 0)\n",
      "Error reading /work/PRTNR/CHUV/DIR/rgottar1/spatial/env/xenium_paper/results/ovrlpy_correction_signal_integrity_threshold=0.7/proseg_expected/breast/breast/1H27/1H27/corrected_counts.h5: [Errno 2] Unable to synchronously open file (unable to open file: name = '/work/PRTNR/CHUV/DIR/rgottar1/spatial/env/xenium_paper/results/ovrlpy_correction_signal_integrity_threshold=0.7/proseg_expected/breast/breast/1H27/1H27/corrected_counts.h5', errno = 2, error message = 'No such file or directory', flags = 0, o_flags = 0)\n",
      "Error reading /work/PRTNR/CHUV/DIR/rgottar1/spatial/env/xenium_paper/results/ovrlpy_correction_signal_integrity_threshold=0.7/proseg_expected/breast/breast/1GUC/1GUC/corrected_counts.h5: [Errno 2] Unable to synchronously open file (unable to open file: name = '/work/PRTNR/CHUV/DIR/rgottar1/spatial/env/xenium_paper/results/ovrlpy_correction_signal_integrity_threshold=0.7/proseg_expected/breast/breast/1GUC/1GUC/corrected_counts.h5', errno = 2, error message = 'No such file or directory', flags = 0, o_flags = 0)\n",
      "Error reading /work/PRTNR/CHUV/DIR/rgottar1/spatial/env/xenium_paper/results/ovrlpy_correction_signal_integrity_threshold=0.7/proseg_expected/breast/breast/0OE1/0OE1/corrected_counts.h5: [Errno 2] Unable to synchronously open file (unable to open file: name = '/work/PRTNR/CHUV/DIR/rgottar1/spatial/env/xenium_paper/results/ovrlpy_correction_signal_integrity_threshold=0.7/proseg_expected/breast/breast/0OE1/0OE1/corrected_counts.h5', errno = 2, error message = 'No such file or directory', flags = 0, o_flags = 0)\n",
      "Error reading /work/PRTNR/CHUV/DIR/rgottar1/spatial/env/xenium_paper/results/ovrlpy_correction_signal_integrity_threshold=0.7/proseg_expected/breast/breast/19TB/19TB/corrected_counts.h5: [Errno 2] Unable to synchronously open file (unable to open file: name = '/work/PRTNR/CHUV/DIR/rgottar1/spatial/env/xenium_paper/results/ovrlpy_correction_signal_integrity_threshold=0.7/proseg_expected/breast/breast/19TB/19TB/corrected_counts.h5', errno = 2, error message = 'No such file or directory', flags = 0, o_flags = 0)\n",
      "Error reading /work/PRTNR/CHUV/DIR/rgottar1/spatial/env/xenium_paper/results/ovrlpy_correction_signal_integrity_threshold=0.7/proseg_expected/breast/breast/1FO7/1FO7/corrected_counts.h5: [Errno 2] Unable to synchronously open file (unable to open file: name = '/work/PRTNR/CHUV/DIR/rgottar1/spatial/env/xenium_paper/results/ovrlpy_correction_signal_integrity_threshold=0.7/proseg_expected/breast/breast/1FO7/1FO7/corrected_counts.h5', errno = 2, error message = 'No such file or directory', flags = 0, o_flags = 0)\n",
      "Error reading /work/PRTNR/CHUV/DIR/rgottar1/spatial/env/xenium_paper/results/ovrlpy_correction_signal_integrity_threshold=0.7/proseg_expected/NSCLC/lung/1GA2/1GA2/corrected_counts.h5: [Errno 2] Unable to synchronously open file (unable to open file: name = '/work/PRTNR/CHUV/DIR/rgottar1/spatial/env/xenium_paper/results/ovrlpy_correction_signal_integrity_threshold=0.7/proseg_expected/NSCLC/lung/1GA2/1GA2/corrected_counts.h5', errno = 2, error message = 'No such file or directory', flags = 0, o_flags = 0)\n",
      "Error reading /work/PRTNR/CHUV/DIR/rgottar1/spatial/env/xenium_paper/results/ovrlpy_correction_signal_integrity_threshold=0.7/proseg_expected/NSCLC/lung/0PSV/0PSV/corrected_counts.h5: [Errno 2] Unable to synchronously open file (unable to open file: name = '/work/PRTNR/CHUV/DIR/rgottar1/spatial/env/xenium_paper/results/ovrlpy_correction_signal_integrity_threshold=0.7/proseg_expected/NSCLC/lung/0PSV/0PSV/corrected_counts.h5', errno = 2, error message = 'No such file or directory', flags = 0, o_flags = 0)\n",
      "Error reading /work/PRTNR/CHUV/DIR/rgottar1/spatial/env/xenium_paper/results/ovrlpy_correction_signal_integrity_threshold=0.7/proseg_expected/NSCLC/lung/0S8R/0S8R/corrected_counts.h5: [Errno 2] Unable to synchronously open file (unable to open file: name = '/work/PRTNR/CHUV/DIR/rgottar1/spatial/env/xenium_paper/results/ovrlpy_correction_signal_integrity_threshold=0.7/proseg_expected/NSCLC/lung/0S8R/0S8R/corrected_counts.h5', errno = 2, error message = 'No such file or directory', flags = 0, o_flags = 0)\n",
      "Error reading /work/PRTNR/CHUV/DIR/rgottar1/spatial/env/xenium_paper/results/ovrlpy_correction_signal_integrity_threshold=0.7/proseg_expected/NSCLC/lung/1G73/1G73/corrected_counts.h5: [Errno 2] Unable to synchronously open file (unable to open file: name = '/work/PRTNR/CHUV/DIR/rgottar1/spatial/env/xenium_paper/results/ovrlpy_correction_signal_integrity_threshold=0.7/proseg_expected/NSCLC/lung/1G73/1G73/corrected_counts.h5', errno = 2, error message = 'No such file or directory', flags = 0, o_flags = 0)\n",
      "Error reading /work/PRTNR/CHUV/DIR/rgottar1/spatial/env/xenium_paper/results/ovrlpy_correction_signal_integrity_threshold=0.7/proseg_expected/NSCLC/lung/1GDD/1GDD/corrected_counts.h5: [Errno 2] Unable to synchronously open file (unable to open file: name = '/work/PRTNR/CHUV/DIR/rgottar1/spatial/env/xenium_paper/results/ovrlpy_correction_signal_integrity_threshold=0.7/proseg_expected/NSCLC/lung/1GDD/1GDD/corrected_counts.h5', errno = 2, error message = 'No such file or directory', flags = 0, o_flags = 0)\n",
      "Error reading /work/PRTNR/CHUV/DIR/rgottar1/spatial/env/xenium_paper/results/ovrlpy_correction_signal_integrity_threshold=0.7/proseg_expected/NSCLC/lung/1GFF/1GFF/corrected_counts.h5: [Errno 2] Unable to synchronously open file (unable to open file: name = '/work/PRTNR/CHUV/DIR/rgottar1/spatial/env/xenium_paper/results/ovrlpy_correction_signal_integrity_threshold=0.7/proseg_expected/NSCLC/lung/1GFF/1GFF/corrected_counts.h5', errno = 2, error message = 'No such file or directory', flags = 0, o_flags = 0)\n",
      "Error reading /work/PRTNR/CHUV/DIR/rgottar1/spatial/env/xenium_paper/results/ovrlpy_correction_signal_integrity_threshold=0.7/proseg_expected/NSCLC/lung/1GAC/1GAC/corrected_counts.h5: [Errno 2] Unable to synchronously open file (unable to open file: name = '/work/PRTNR/CHUV/DIR/rgottar1/spatial/env/xenium_paper/results/ovrlpy_correction_signal_integrity_threshold=0.7/proseg_expected/NSCLC/lung/1GAC/1GAC/corrected_counts.h5', errno = 2, error message = 'No such file or directory', flags = 0, o_flags = 0)\n",
      "Error reading /work/PRTNR/CHUV/DIR/rgottar1/spatial/env/xenium_paper/results/ovrlpy_correction_signal_integrity_threshold=0.7/proseg_expected/NSCLC/lung/0WMU/0WMU_1/corrected_counts.h5: [Errno 2] Unable to synchronously open file (unable to open file: name = '/work/PRTNR/CHUV/DIR/rgottar1/spatial/env/xenium_paper/results/ovrlpy_correction_signal_integrity_threshold=0.7/proseg_expected/NSCLC/lung/0WMU/0WMU_1/corrected_counts.h5', errno = 2, error message = 'No such file or directory', flags = 0, o_flags = 0)\n",
      "Error reading /work/PRTNR/CHUV/DIR/rgottar1/spatial/env/xenium_paper/results/ovrlpy_correction_signal_integrity_threshold=0.7/proseg_expected/NSCLC/lung/0WMU/0WMU_2/corrected_counts.h5: [Errno 2] Unable to synchronously open file (unable to open file: name = '/work/PRTNR/CHUV/DIR/rgottar1/spatial/env/xenium_paper/results/ovrlpy_correction_signal_integrity_threshold=0.7/proseg_expected/NSCLC/lung/0WMU/0WMU_2/corrected_counts.h5', errno = 2, error message = 'No such file or directory', flags = 0, o_flags = 0)\n",
      "Error reading /work/PRTNR/CHUV/DIR/rgottar1/spatial/env/xenium_paper/results/ovrlpy_correction_signal_integrity_threshold=0.7/proseg_expected/NSCLC/lung/1GQ9/1GQ9/corrected_counts.h5: [Errno 2] Unable to synchronously open file (unable to open file: name = '/work/PRTNR/CHUV/DIR/rgottar1/spatial/env/xenium_paper/results/ovrlpy_correction_signal_integrity_threshold=0.7/proseg_expected/NSCLC/lung/1GQ9/1GQ9/corrected_counts.h5', errno = 2, error message = 'No such file or directory', flags = 0, o_flags = 0)\n",
      "Error reading /work/PRTNR/CHUV/DIR/rgottar1/spatial/env/xenium_paper/results/ovrlpy_correction_signal_integrity_threshold=0.7/proseg_expected/NSCLC/lung/1GVD/1GVD/corrected_counts.h5: [Errno 2] Unable to synchronously open file (unable to open file: name = '/work/PRTNR/CHUV/DIR/rgottar1/spatial/env/xenium_paper/results/ovrlpy_correction_signal_integrity_threshold=0.7/proseg_expected/NSCLC/lung/1GVD/1GVD/corrected_counts.h5', errno = 2, error message = 'No such file or directory', flags = 0, o_flags = 0)\n",
      "Error reading /work/PRTNR/CHUV/DIR/rgottar1/spatial/env/xenium_paper/results/ovrlpy_correction_signal_integrity_threshold=0.7/proseg_expected/NSCLC/chuvio/1GA2/1GA2/corrected_counts.h5: [Errno 2] Unable to synchronously open file (unable to open file: name = '/work/PRTNR/CHUV/DIR/rgottar1/spatial/env/xenium_paper/results/ovrlpy_correction_signal_integrity_threshold=0.7/proseg_expected/NSCLC/chuvio/1GA2/1GA2/corrected_counts.h5', errno = 2, error message = 'No such file or directory', flags = 0, o_flags = 0)\n",
      "Error reading /work/PRTNR/CHUV/DIR/rgottar1/spatial/env/xenium_paper/results/ovrlpy_correction_signal_integrity_threshold=0.7/proseg_expected/NSCLC/chuvio/0PSV/0PSV_1/corrected_counts.h5: [Errno 2] Unable to synchronously open file (unable to open file: name = '/work/PRTNR/CHUV/DIR/rgottar1/spatial/env/xenium_paper/results/ovrlpy_correction_signal_integrity_threshold=0.7/proseg_expected/NSCLC/chuvio/0PSV/0PSV_1/corrected_counts.h5', errno = 2, error message = 'No such file or directory', flags = 0, o_flags = 0)\n"
     ]
    },
    {
     "name": "stderr",
     "output_type": "stream",
     "text": [
      "Processing ovrlpy_correction_signal_integrity_threshold=0.7:  12%|█▏        | 31/251 [00:00<00:00, 305.59it/s]"
     ]
    },
    {
     "name": "stdout",
     "output_type": "stream",
     "text": [
      "Error reading /work/PRTNR/CHUV/DIR/rgottar1/spatial/env/xenium_paper/results/ovrlpy_correction_signal_integrity_threshold=0.7/proseg_expected/NSCLC/chuvio/0PSV/0PSV_2/corrected_counts.h5: [Errno 2] Unable to synchronously open file (unable to open file: name = '/work/PRTNR/CHUV/DIR/rgottar1/spatial/env/xenium_paper/results/ovrlpy_correction_signal_integrity_threshold=0.7/proseg_expected/NSCLC/chuvio/0PSV/0PSV_2/corrected_counts.h5', errno = 2, error message = 'No such file or directory', flags = 0, o_flags = 0)\n",
      "Error reading /work/PRTNR/CHUV/DIR/rgottar1/spatial/env/xenium_paper/results/ovrlpy_correction_signal_integrity_threshold=0.7/proseg_expected/NSCLC/chuvio/0WMU/0WMU/corrected_counts.h5: [Errno 2] Unable to synchronously open file (unable to open file: name = '/work/PRTNR/CHUV/DIR/rgottar1/spatial/env/xenium_paper/results/ovrlpy_correction_signal_integrity_threshold=0.7/proseg_expected/NSCLC/chuvio/0WMU/0WMU/corrected_counts.h5', errno = 2, error message = 'No such file or directory', flags = 0, o_flags = 0)\n",
      "Error reading /work/PRTNR/CHUV/DIR/rgottar1/spatial/env/xenium_paper/results/ovrlpy_correction_signal_integrity_threshold=0.7/proseg_expected/NSCLC/5k/0PSV/0PSV/corrected_counts.h5: [Errno 2] Unable to synchronously open file (unable to open file: name = '/work/PRTNR/CHUV/DIR/rgottar1/spatial/env/xenium_paper/results/ovrlpy_correction_signal_integrity_threshold=0.7/proseg_expected/NSCLC/5k/0PSV/0PSV/corrected_counts.h5', errno = 2, error message = 'No such file or directory', flags = 0, o_flags = 0)\n",
      "Error reading /work/PRTNR/CHUV/DIR/rgottar1/spatial/env/xenium_paper/results/ovrlpy_correction_signal_integrity_threshold=0.7/proseg_expected/NSCLC/5k/1G73/1G73/corrected_counts.h5: [Errno 2] Unable to synchronously open file (unable to open file: name = '/work/PRTNR/CHUV/DIR/rgottar1/spatial/env/xenium_paper/results/ovrlpy_correction_signal_integrity_threshold=0.7/proseg_expected/NSCLC/5k/1G73/1G73/corrected_counts.h5', errno = 2, error message = 'No such file or directory', flags = 0, o_flags = 0)\n",
      "Error reading /work/PRTNR/CHUV/DIR/rgottar1/spatial/env/xenium_paper/results/ovrlpy_correction_signal_integrity_threshold=0.7/proseg_expected/NSCLC/5k/1GDD/1GDD/corrected_counts.h5: [Errno 2] Unable to synchronously open file (unable to open file: name = '/work/PRTNR/CHUV/DIR/rgottar1/spatial/env/xenium_paper/results/ovrlpy_correction_signal_integrity_threshold=0.7/proseg_expected/NSCLC/5k/1GDD/1GDD/corrected_counts.h5', errno = 2, error message = 'No such file or directory', flags = 0, o_flags = 0)\n",
      "Error reading /work/PRTNR/CHUV/DIR/rgottar1/spatial/env/xenium_paper/results/ovrlpy_correction_signal_integrity_threshold=0.7/proseg_expected/NSCLC/5k/1GAC/1GAC/corrected_counts.h5: [Errno 2] Unable to synchronously open file (unable to open file: name = '/work/PRTNR/CHUV/DIR/rgottar1/spatial/env/xenium_paper/results/ovrlpy_correction_signal_integrity_threshold=0.7/proseg_expected/NSCLC/5k/1GAC/1GAC/corrected_counts.h5', errno = 2, error message = 'No such file or directory', flags = 0, o_flags = 0)\n",
      "Error reading /work/PRTNR/CHUV/DIR/rgottar1/spatial/env/xenium_paper/results/ovrlpy_correction_signal_integrity_threshold=0.7/proseg_expected/NSCLC/5k/1GQ9/1GQ9/corrected_counts.h5: [Errno 2] Unable to synchronously open file (unable to open file: name = '/work/PRTNR/CHUV/DIR/rgottar1/spatial/env/xenium_paper/results/ovrlpy_correction_signal_integrity_threshold=0.7/proseg_expected/NSCLC/5k/1GQ9/1GQ9/corrected_counts.h5', errno = 2, error message = 'No such file or directory', flags = 0, o_flags = 0)\n",
      "Error reading /work/PRTNR/CHUV/DIR/rgottar1/spatial/env/xenium_paper/results/ovrlpy_correction_signal_integrity_threshold=0.7/proseg_expected/NSCLC/5k/1GVD/1GVD/corrected_counts.h5: [Errno 2] Unable to synchronously open file (unable to open file: name = '/work/PRTNR/CHUV/DIR/rgottar1/spatial/env/xenium_paper/results/ovrlpy_correction_signal_integrity_threshold=0.7/proseg_expected/NSCLC/5k/1GVD/1GVD/corrected_counts.h5', errno = 2, error message = 'No such file or directory', flags = 0, o_flags = 0)\n",
      "Error reading /work/PRTNR/CHUV/DIR/rgottar1/spatial/env/xenium_paper/results/ovrlpy_correction_signal_integrity_threshold=0.7/proseg_expected/NSCLC/chuvio/1G73/1G73/corrected_counts.h5: [Errno 2] Unable to synchronously open file (unable to open file: name = '/work/PRTNR/CHUV/DIR/rgottar1/spatial/env/xenium_paper/results/ovrlpy_correction_signal_integrity_threshold=0.7/proseg_expected/NSCLC/chuvio/1G73/1G73/corrected_counts.h5', errno = 2, error message = 'No such file or directory', flags = 0, o_flags = 0)\n",
      "Error reading /work/PRTNR/CHUV/DIR/rgottar1/spatial/env/xenium_paper/results/ovrlpy_correction_signal_integrity_threshold=0.7/segger/NSCLC/5k/0PSV/0PSV/corrected_counts.h5: [Errno 2] Unable to synchronously open file (unable to open file: name = '/work/PRTNR/CHUV/DIR/rgottar1/spatial/env/xenium_paper/results/ovrlpy_correction_signal_integrity_threshold=0.7/segger/NSCLC/5k/0PSV/0PSV/corrected_counts.h5', errno = 2, error message = 'No such file or directory', flags = 0, o_flags = 0)\n",
      "Error reading /work/PRTNR/CHUV/DIR/rgottar1/spatial/env/xenium_paper/results/ovrlpy_correction_signal_integrity_threshold=0.7/segger/NSCLC/5k/1GDD/1GDD/corrected_counts.h5: [Errno 2] Unable to synchronously open file (unable to open file: name = '/work/PRTNR/CHUV/DIR/rgottar1/spatial/env/xenium_paper/results/ovrlpy_correction_signal_integrity_threshold=0.7/segger/NSCLC/5k/1GDD/1GDD/corrected_counts.h5', errno = 2, error message = 'No such file or directory', flags = 0, o_flags = 0)\n",
      "Error reading /work/PRTNR/CHUV/DIR/rgottar1/spatial/env/xenium_paper/results/ovrlpy_correction_signal_integrity_threshold=0.7/segger/NSCLC/5k/1G73/1G73/corrected_counts.h5: [Errno 2] Unable to synchronously open file (unable to open file: name = '/work/PRTNR/CHUV/DIR/rgottar1/spatial/env/xenium_paper/results/ovrlpy_correction_signal_integrity_threshold=0.7/segger/NSCLC/5k/1G73/1G73/corrected_counts.h5', errno = 2, error message = 'No such file or directory', flags = 0, o_flags = 0)\n",
      "Error reading /work/PRTNR/CHUV/DIR/rgottar1/spatial/env/xenium_paper/results/ovrlpy_correction_signal_integrity_threshold=0.7/segger/NSCLC/5k/1GVD/1GVD/corrected_counts.h5: [Errno 2] Unable to synchronously open file (unable to open file: name = '/work/PRTNR/CHUV/DIR/rgottar1/spatial/env/xenium_paper/results/ovrlpy_correction_signal_integrity_threshold=0.7/segger/NSCLC/5k/1GVD/1GVD/corrected_counts.h5', errno = 2, error message = 'No such file or directory', flags = 0, o_flags = 0)\n",
      "Error reading /work/PRTNR/CHUV/DIR/rgottar1/spatial/env/xenium_paper/results/ovrlpy_correction_signal_integrity_threshold=0.7/segger/NSCLC/5k/1GAC/1GAC/corrected_counts.h5: [Errno 2] Unable to synchronously open file (unable to open file: name = '/work/PRTNR/CHUV/DIR/rgottar1/spatial/env/xenium_paper/results/ovrlpy_correction_signal_integrity_threshold=0.7/segger/NSCLC/5k/1GAC/1GAC/corrected_counts.h5', errno = 2, error message = 'No such file or directory', flags = 0, o_flags = 0)\n"
     ]
    },
    {
     "name": "stderr",
     "output_type": "stream",
     "text": [
      "Processing ovrlpy_correction_signal_integrity_threshold=0.7:  25%|██▍       | 62/251 [00:05<00:21,  8.86it/s] "
     ]
    },
    {
     "name": "stdout",
     "output_type": "stream",
     "text": [
      "Error reading /work/PRTNR/CHUV/DIR/rgottar1/spatial/env/xenium_paper/results/ovrlpy_correction_signal_integrity_threshold=0.7/segger/NSCLC/5k/1GQ9/1GQ9/corrected_counts.h5: [Errno 2] Unable to synchronously open file (unable to open file: name = '/work/PRTNR/CHUV/DIR/rgottar1/spatial/env/xenium_paper/results/ovrlpy_correction_signal_integrity_threshold=0.7/segger/NSCLC/5k/1GQ9/1GQ9/corrected_counts.h5', errno = 2, error message = 'No such file or directory', flags = 0, o_flags = 0)\n"
     ]
    },
    {
     "name": "stderr",
     "output_type": "stream",
     "text": [
      "Processing ovrlpy_correction_signal_integrity_threshold=0.7:  35%|███▌      | 88/251 [00:10<00:21,  7.48it/s]"
     ]
    },
    {
     "name": "stdout",
     "output_type": "stream",
     "text": [
      "Error reading /work/PRTNR/CHUV/DIR/rgottar1/spatial/env/xenium_paper/results/ovrlpy_correction_signal_integrity_threshold=0.7/10x_5um/NSCLC/5k/1GDD/1GDD/corrected_counts.h5: [Errno 2] Unable to synchronously open file (unable to open file: name = '/work/PRTNR/CHUV/DIR/rgottar1/spatial/env/xenium_paper/results/ovrlpy_correction_signal_integrity_threshold=0.7/10x_5um/NSCLC/5k/1GDD/1GDD/corrected_counts.h5', errno = 2, error message = 'No such file or directory', flags = 0, o_flags = 0)\n",
      "Error reading /work/PRTNR/CHUV/DIR/rgottar1/spatial/env/xenium_paper/results/ovrlpy_correction_signal_integrity_threshold=0.7/10x_5um/NSCLC/5k/1GAC/1GAC/corrected_counts.h5: [Errno 2] Unable to synchronously open file (unable to open file: name = '/work/PRTNR/CHUV/DIR/rgottar1/spatial/env/xenium_paper/results/ovrlpy_correction_signal_integrity_threshold=0.7/10x_5um/NSCLC/5k/1GAC/1GAC/corrected_counts.h5', errno = 2, error message = 'No such file or directory', flags = 0, o_flags = 0)\n",
      "Error reading /work/PRTNR/CHUV/DIR/rgottar1/spatial/env/xenium_paper/results/ovrlpy_correction_signal_integrity_threshold=0.7/10x_5um/NSCLC/5k/1GQ9/1GQ9/corrected_counts.h5: [Errno 2] Unable to synchronously open file (unable to open file: name = '/work/PRTNR/CHUV/DIR/rgottar1/spatial/env/xenium_paper/results/ovrlpy_correction_signal_integrity_threshold=0.7/10x_5um/NSCLC/5k/1GQ9/1GQ9/corrected_counts.h5', errno = 2, error message = 'No such file or directory', flags = 0, o_flags = 0)\n",
      "Error reading /work/PRTNR/CHUV/DIR/rgottar1/spatial/env/xenium_paper/results/ovrlpy_correction_signal_integrity_threshold=0.7/10x_5um/NSCLC/5k/1G73/1G73/corrected_counts.h5: [Errno 2] Unable to synchronously open file (unable to open file: name = '/work/PRTNR/CHUV/DIR/rgottar1/spatial/env/xenium_paper/results/ovrlpy_correction_signal_integrity_threshold=0.7/10x_5um/NSCLC/5k/1G73/1G73/corrected_counts.h5', errno = 2, error message = 'No such file or directory', flags = 0, o_flags = 0)\n"
     ]
    },
    {
     "name": "stderr",
     "output_type": "stream",
     "text": [
      "Processing ovrlpy_correction_signal_integrity_threshold=0.7:  39%|███▊      | 97/251 [00:11<00:20,  7.34it/s]"
     ]
    },
    {
     "name": "stdout",
     "output_type": "stream",
     "text": [
      "Error reading /work/PRTNR/CHUV/DIR/rgottar1/spatial/env/xenium_paper/results/ovrlpy_correction_signal_integrity_threshold=0.7/10x_5um/NSCLC/5k/0PSV/0PSV/corrected_counts.h5: [Errno 2] Unable to synchronously open file (unable to open file: name = '/work/PRTNR/CHUV/DIR/rgottar1/spatial/env/xenium_paper/results/ovrlpy_correction_signal_integrity_threshold=0.7/10x_5um/NSCLC/5k/0PSV/0PSV/corrected_counts.h5', errno = 2, error message = 'No such file or directory', flags = 0, o_flags = 0)\n"
     ]
    },
    {
     "name": "stderr",
     "output_type": "stream",
     "text": [
      "Processing ovrlpy_correction_signal_integrity_threshold=0.7:  40%|███▉      | 100/251 [00:12<00:27,  5.54it/s]"
     ]
    },
    {
     "name": "stdout",
     "output_type": "stream",
     "text": [
      "Error reading /work/PRTNR/CHUV/DIR/rgottar1/spatial/env/xenium_paper/results/ovrlpy_correction_signal_integrity_threshold=0.7/10x_5um/NSCLC/5k/1GVD/1GVD/corrected_counts.h5: [Errno 2] Unable to synchronously open file (unable to open file: name = '/work/PRTNR/CHUV/DIR/rgottar1/spatial/env/xenium_paper/results/ovrlpy_correction_signal_integrity_threshold=0.7/10x_5um/NSCLC/5k/1GVD/1GVD/corrected_counts.h5', errno = 2, error message = 'No such file or directory', flags = 0, o_flags = 0)\n"
     ]
    },
    {
     "name": "stderr",
     "output_type": "stream",
     "text": [
      "Processing ovrlpy_correction_signal_integrity_threshold=0.7:  51%|█████     | 128/251 [00:17<00:17,  7.21it/s]"
     ]
    },
    {
     "name": "stdout",
     "output_type": "stream",
     "text": [
      "Error reading /work/PRTNR/CHUV/DIR/rgottar1/spatial/env/xenium_paper/results/ovrlpy_correction_signal_integrity_threshold=0.7/10x_15um/NSCLC/5k/1GAC/1GAC/corrected_counts.h5: [Errno 2] Unable to synchronously open file (unable to open file: name = '/work/PRTNR/CHUV/DIR/rgottar1/spatial/env/xenium_paper/results/ovrlpy_correction_signal_integrity_threshold=0.7/10x_15um/NSCLC/5k/1GAC/1GAC/corrected_counts.h5', errno = 2, error message = 'No such file or directory', flags = 0, o_flags = 0)\n",
      "Error reading /work/PRTNR/CHUV/DIR/rgottar1/spatial/env/xenium_paper/results/ovrlpy_correction_signal_integrity_threshold=0.7/10x_15um/NSCLC/5k/0PSV/0PSV/corrected_counts.h5: [Errno 2] Unable to synchronously open file (unable to open file: name = '/work/PRTNR/CHUV/DIR/rgottar1/spatial/env/xenium_paper/results/ovrlpy_correction_signal_integrity_threshold=0.7/10x_15um/NSCLC/5k/0PSV/0PSV/corrected_counts.h5', errno = 2, error message = 'No such file or directory', flags = 0, o_flags = 0)\n",
      "Error reading /work/PRTNR/CHUV/DIR/rgottar1/spatial/env/xenium_paper/results/ovrlpy_correction_signal_integrity_threshold=0.7/10x_15um/NSCLC/5k/1G73/1G73/corrected_counts.h5: [Errno 2] Unable to synchronously open file (unable to open file: name = '/work/PRTNR/CHUV/DIR/rgottar1/spatial/env/xenium_paper/results/ovrlpy_correction_signal_integrity_threshold=0.7/10x_15um/NSCLC/5k/1G73/1G73/corrected_counts.h5', errno = 2, error message = 'No such file or directory', flags = 0, o_flags = 0)\n"
     ]
    },
    {
     "name": "stderr",
     "output_type": "stream",
     "text": [
      "Processing ovrlpy_correction_signal_integrity_threshold=0.7:  53%|█████▎    | 133/251 [00:19<00:24,  4.82it/s]"
     ]
    },
    {
     "name": "stdout",
     "output_type": "stream",
     "text": [
      "Error reading /work/PRTNR/CHUV/DIR/rgottar1/spatial/env/xenium_paper/results/ovrlpy_correction_signal_integrity_threshold=0.7/10x_15um/NSCLC/5k/1GVD/1GVD/corrected_counts.h5: [Errno 2] Unable to synchronously open file (unable to open file: name = '/work/PRTNR/CHUV/DIR/rgottar1/spatial/env/xenium_paper/results/ovrlpy_correction_signal_integrity_threshold=0.7/10x_15um/NSCLC/5k/1GVD/1GVD/corrected_counts.h5', errno = 2, error message = 'No such file or directory', flags = 0, o_flags = 0)\n",
      "Error reading /work/PRTNR/CHUV/DIR/rgottar1/spatial/env/xenium_paper/results/ovrlpy_correction_signal_integrity_threshold=0.7/10x_15um/NSCLC/5k/1GQ9/1GQ9/corrected_counts.h5: [Errno 2] Unable to synchronously open file (unable to open file: name = '/work/PRTNR/CHUV/DIR/rgottar1/spatial/env/xenium_paper/results/ovrlpy_correction_signal_integrity_threshold=0.7/10x_15um/NSCLC/5k/1GQ9/1GQ9/corrected_counts.h5', errno = 2, error message = 'No such file or directory', flags = 0, o_flags = 0)\n",
      "Error reading /work/PRTNR/CHUV/DIR/rgottar1/spatial/env/xenium_paper/results/ovrlpy_correction_signal_integrity_threshold=0.7/10x_mm_5um/NSCLC/5k/0PSV/0PSV/corrected_counts.h5: [Errno 2] Unable to synchronously open file (unable to open file: name = '/work/PRTNR/CHUV/DIR/rgottar1/spatial/env/xenium_paper/results/ovrlpy_correction_signal_integrity_threshold=0.7/10x_mm_5um/NSCLC/5k/0PSV/0PSV/corrected_counts.h5', errno = 2, error message = 'No such file or directory', flags = 0, o_flags = 0)\n",
      "Error reading /work/PRTNR/CHUV/DIR/rgottar1/spatial/env/xenium_paper/results/ovrlpy_correction_signal_integrity_threshold=0.7/10x_mm_5um/NSCLC/5k/1G73/1G73/corrected_counts.h5: [Errno 2] Unable to synchronously open file (unable to open file: name = '/work/PRTNR/CHUV/DIR/rgottar1/spatial/env/xenium_paper/results/ovrlpy_correction_signal_integrity_threshold=0.7/10x_mm_5um/NSCLC/5k/1G73/1G73/corrected_counts.h5', errno = 2, error message = 'No such file or directory', flags = 0, o_flags = 0)\n"
     ]
    },
    {
     "name": "stderr",
     "output_type": "stream",
     "text": [
      "Processing ovrlpy_correction_signal_integrity_threshold=0.7:  57%|█████▋    | 143/251 [00:19<00:13,  8.22it/s]"
     ]
    },
    {
     "name": "stdout",
     "output_type": "stream",
     "text": [
      "Error reading /work/PRTNR/CHUV/DIR/rgottar1/spatial/env/xenium_paper/results/ovrlpy_correction_signal_integrity_threshold=0.7/10x_15um/NSCLC/5k/1GDD/1GDD/corrected_counts.h5: [Errno 2] Unable to synchronously open file (unable to open file: name = '/work/PRTNR/CHUV/DIR/rgottar1/spatial/env/xenium_paper/results/ovrlpy_correction_signal_integrity_threshold=0.7/10x_15um/NSCLC/5k/1GDD/1GDD/corrected_counts.h5', errno = 2, error message = 'No such file or directory', flags = 0, o_flags = 0)\n",
      "Error reading /work/PRTNR/CHUV/DIR/rgottar1/spatial/env/xenium_paper/results/ovrlpy_correction_signal_integrity_threshold=0.7/10x_mm_5um/NSCLC/5k/1GVD/1GVD/corrected_counts.h5: [Errno 2] Unable to synchronously open file (unable to open file: name = '/work/PRTNR/CHUV/DIR/rgottar1/spatial/env/xenium_paper/results/ovrlpy_correction_signal_integrity_threshold=0.7/10x_mm_5um/NSCLC/5k/1GVD/1GVD/corrected_counts.h5', errno = 2, error message = 'No such file or directory', flags = 0, o_flags = 0)\n",
      "Error reading /work/PRTNR/CHUV/DIR/rgottar1/spatial/env/xenium_paper/results/ovrlpy_correction_signal_integrity_threshold=0.7/10x_mm_5um/NSCLC/5k/1GDD/1GDD/corrected_counts.h5: [Errno 2] Unable to synchronously open file (unable to open file: name = '/work/PRTNR/CHUV/DIR/rgottar1/spatial/env/xenium_paper/results/ovrlpy_correction_signal_integrity_threshold=0.7/10x_mm_5um/NSCLC/5k/1GDD/1GDD/corrected_counts.h5', errno = 2, error message = 'No such file or directory', flags = 0, o_flags = 0)\n",
      "Error reading /work/PRTNR/CHUV/DIR/rgottar1/spatial/env/xenium_paper/results/ovrlpy_correction_signal_integrity_threshold=0.7/10x_mm_5um/NSCLC/5k/1GQ9/1GQ9/corrected_counts.h5: [Errno 2] Unable to synchronously open file (unable to open file: name = '/work/PRTNR/CHUV/DIR/rgottar1/spatial/env/xenium_paper/results/ovrlpy_correction_signal_integrity_threshold=0.7/10x_mm_5um/NSCLC/5k/1GQ9/1GQ9/corrected_counts.h5', errno = 2, error message = 'No such file or directory', flags = 0, o_flags = 0)\n"
     ]
    },
    {
     "name": "stderr",
     "output_type": "stream",
     "text": [
      "Processing ovrlpy_correction_signal_integrity_threshold=0.7:  58%|█████▊    | 145/251 [00:20<00:11,  8.85it/s]"
     ]
    },
    {
     "name": "stdout",
     "output_type": "stream",
     "text": [
      "Error reading /work/PRTNR/CHUV/DIR/rgottar1/spatial/env/xenium_paper/results/ovrlpy_correction_signal_integrity_threshold=0.7/10x_mm_5um/NSCLC/5k/1GAC/1GAC/corrected_counts.h5: [Errno 2] Unable to synchronously open file (unable to open file: name = '/work/PRTNR/CHUV/DIR/rgottar1/spatial/env/xenium_paper/results/ovrlpy_correction_signal_integrity_threshold=0.7/10x_mm_5um/NSCLC/5k/1GAC/1GAC/corrected_counts.h5', errno = 2, error message = 'No such file or directory', flags = 0, o_flags = 0)\n"
     ]
    },
    {
     "name": "stderr",
     "output_type": "stream",
     "text": [
      "Processing ovrlpy_correction_signal_integrity_threshold=0.7:  71%|███████   | 177/251 [00:24<00:10,  6.87it/s]"
     ]
    },
    {
     "name": "stdout",
     "output_type": "stream",
     "text": [
      "Error reading /work/PRTNR/CHUV/DIR/rgottar1/spatial/env/xenium_paper/results/ovrlpy_correction_signal_integrity_threshold=0.7/baysor/NSCLC/5k/1GDD/1GDD/corrected_counts.h5: [Errno 2] Unable to synchronously open file (unable to open file: name = '/work/PRTNR/CHUV/DIR/rgottar1/spatial/env/xenium_paper/results/ovrlpy_correction_signal_integrity_threshold=0.7/baysor/NSCLC/5k/1GDD/1GDD/corrected_counts.h5', errno = 2, error message = 'No such file or directory', flags = 0, o_flags = 0)\n",
      "Error reading /work/PRTNR/CHUV/DIR/rgottar1/spatial/env/xenium_paper/results/ovrlpy_correction_signal_integrity_threshold=0.7/baysor/NSCLC/5k/1GVD/1GVD/corrected_counts.h5: [Errno 2] Unable to synchronously open file (unable to open file: name = '/work/PRTNR/CHUV/DIR/rgottar1/spatial/env/xenium_paper/results/ovrlpy_correction_signal_integrity_threshold=0.7/baysor/NSCLC/5k/1GVD/1GVD/corrected_counts.h5', errno = 2, error message = 'No such file or directory', flags = 0, o_flags = 0)\n",
      "Error reading /work/PRTNR/CHUV/DIR/rgottar1/spatial/env/xenium_paper/results/ovrlpy_correction_signal_integrity_threshold=0.7/baysor/NSCLC/5k/1GAC/1GAC/corrected_counts.h5: [Errno 2] Unable to synchronously open file (unable to open file: name = '/work/PRTNR/CHUV/DIR/rgottar1/spatial/env/xenium_paper/results/ovrlpy_correction_signal_integrity_threshold=0.7/baysor/NSCLC/5k/1GAC/1GAC/corrected_counts.h5', errno = 2, error message = 'No such file or directory', flags = 0, o_flags = 0)\n"
     ]
    },
    {
     "name": "stderr",
     "output_type": "stream",
     "text": [
      "Processing ovrlpy_correction_signal_integrity_threshold=0.7:  73%|███████▎  | 183/251 [00:25<00:06, 11.01it/s]"
     ]
    },
    {
     "name": "stdout",
     "output_type": "stream",
     "text": [
      "Error reading /work/PRTNR/CHUV/DIR/rgottar1/spatial/env/xenium_paper/results/ovrlpy_correction_signal_integrity_threshold=0.7/baysor/NSCLC/5k/1GQ9/1GQ9/corrected_counts.h5: [Errno 2] Unable to synchronously open file (unable to open file: name = '/work/PRTNR/CHUV/DIR/rgottar1/spatial/env/xenium_paper/results/ovrlpy_correction_signal_integrity_threshold=0.7/baysor/NSCLC/5k/1GQ9/1GQ9/corrected_counts.h5', errno = 2, error message = 'No such file or directory', flags = 0, o_flags = 0)\n",
      "Error reading /work/PRTNR/CHUV/DIR/rgottar1/spatial/env/xenium_paper/results/ovrlpy_correction_signal_integrity_threshold=0.7/baysor/NSCLC/5k/0PSV/0PSV/corrected_counts.h5: [Errno 2] Unable to synchronously open file (unable to open file: name = '/work/PRTNR/CHUV/DIR/rgottar1/spatial/env/xenium_paper/results/ovrlpy_correction_signal_integrity_threshold=0.7/baysor/NSCLC/5k/0PSV/0PSV/corrected_counts.h5', errno = 2, error message = 'No such file or directory', flags = 0, o_flags = 0)\n"
     ]
    },
    {
     "name": "stderr",
     "output_type": "stream",
     "text": [
      "Processing ovrlpy_correction_signal_integrity_threshold=0.7:  87%|████████▋ | 218/251 [00:30<00:03,  9.55it/s]"
     ]
    },
    {
     "name": "stdout",
     "output_type": "stream",
     "text": [
      "Error reading /work/PRTNR/CHUV/DIR/rgottar1/spatial/env/xenium_paper/results/ovrlpy_correction_signal_integrity_threshold=0.7/10x_0um/NSCLC/5k/1G73/1G73/corrected_counts.h5: [Errno 2] Unable to synchronously open file (unable to open file: name = '/work/PRTNR/CHUV/DIR/rgottar1/spatial/env/xenium_paper/results/ovrlpy_correction_signal_integrity_threshold=0.7/10x_0um/NSCLC/5k/1G73/1G73/corrected_counts.h5', errno = 2, error message = 'No such file or directory', flags = 0, o_flags = 0)\n"
     ]
    },
    {
     "name": "stderr",
     "output_type": "stream",
     "text": [
      "Processing ovrlpy_correction_signal_integrity_threshold=0.7:  92%|█████████▏| 230/251 [00:31<00:00, 24.02it/s]"
     ]
    },
    {
     "name": "stdout",
     "output_type": "stream",
     "text": [
      "Error reading /work/PRTNR/CHUV/DIR/rgottar1/spatial/env/xenium_paper/results/ovrlpy_correction_signal_integrity_threshold=0.7/10x_0um/NSCLC/5k/1GAC/1GAC/corrected_counts.h5: [Errno 2] Unable to synchronously open file (unable to open file: name = '/work/PRTNR/CHUV/DIR/rgottar1/spatial/env/xenium_paper/results/ovrlpy_correction_signal_integrity_threshold=0.7/10x_0um/NSCLC/5k/1GAC/1GAC/corrected_counts.h5', errno = 2, error message = 'No such file or directory', flags = 0, o_flags = 0)\n",
      "Error reading /work/PRTNR/CHUV/DIR/rgottar1/spatial/env/xenium_paper/results/ovrlpy_correction_signal_integrity_threshold=0.7/10x_0um/NSCLC/5k/1GVD/1GVD/corrected_counts.h5: [Errno 2] Unable to synchronously open file (unable to open file: name = '/work/PRTNR/CHUV/DIR/rgottar1/spatial/env/xenium_paper/results/ovrlpy_correction_signal_integrity_threshold=0.7/10x_0um/NSCLC/5k/1GVD/1GVD/corrected_counts.h5', errno = 2, error message = 'No such file or directory', flags = 0, o_flags = 0)\n",
      "Error reading /work/PRTNR/CHUV/DIR/rgottar1/spatial/env/xenium_paper/results/ovrlpy_correction_signal_integrity_threshold=0.7/10x_0um/NSCLC/5k/0PSV/0PSV/corrected_counts.h5: [Errno 2] Unable to synchronously open file (unable to open file: name = '/work/PRTNR/CHUV/DIR/rgottar1/spatial/env/xenium_paper/results/ovrlpy_correction_signal_integrity_threshold=0.7/10x_0um/NSCLC/5k/0PSV/0PSV/corrected_counts.h5', errno = 2, error message = 'No such file or directory', flags = 0, o_flags = 0)\n",
      "Error reading /work/PRTNR/CHUV/DIR/rgottar1/spatial/env/xenium_paper/results/ovrlpy_correction_signal_integrity_threshold=0.7/10x_0um/NSCLC/5k/1GQ9/1GQ9/corrected_counts.h5: [Errno 2] Unable to synchronously open file (unable to open file: name = '/work/PRTNR/CHUV/DIR/rgottar1/spatial/env/xenium_paper/results/ovrlpy_correction_signal_integrity_threshold=0.7/10x_0um/NSCLC/5k/1GQ9/1GQ9/corrected_counts.h5', errno = 2, error message = 'No such file or directory', flags = 0, o_flags = 0)\n",
      "Error reading /work/PRTNR/CHUV/DIR/rgottar1/spatial/env/xenium_paper/results/ovrlpy_correction_signal_integrity_threshold=0.7/10x_0um/NSCLC/5k/1GDD/1GDD/corrected_counts.h5: [Errno 2] Unable to synchronously open file (unable to open file: name = '/work/PRTNR/CHUV/DIR/rgottar1/spatial/env/xenium_paper/results/ovrlpy_correction_signal_integrity_threshold=0.7/10x_0um/NSCLC/5k/1GDD/1GDD/corrected_counts.h5', errno = 2, error message = 'No such file or directory', flags = 0, o_flags = 0)\n"
     ]
    },
    {
     "name": "stderr",
     "output_type": "stream",
     "text": [
      "Processing ovrlpy_correction_signal_integrity_threshold=0.7: 100%|██████████| 251/251 [00:32<00:00,  7.73it/s]\n",
      "/work/PRTNR/CHUV/DIR/rgottar1/spatial/env/jbac/miniforge3/envs/spatial/lib/python3.11/site-packages/anndata/_core/aligned_df.py:68: ImplicitModificationWarning: Transforming to str index.\n",
      "  warnings.warn(\"Transforming to str index.\", ImplicitModificationWarning)\n",
      "/work/PRTNR/CHUV/DIR/rgottar1/spatial/env/jbac/miniforge3/envs/spatial/lib/python3.11/site-packages/spatialdata/_core/spatialdata.py:185: UserWarning: The table is annotating 'cell_polygons', which is not present in the SpatialData object.\n",
      "  self.validate_table_in_spatialdata(v)\n",
      "/work/PRTNR/CHUV/DIR/rgottar1/spatial/env/jbac/miniforge3/envs/spatial/lib/python3.11/site-packages/anndata/_core/anndata.py:822: UserWarning: \n",
      "AnnData expects .obs.index to contain strings, but got values like:\n",
      "    [0, 1, 2, 3, 4]\n",
      "\n",
      "    Inferred to be: integer\n",
      "\n",
      "  names = self._prep_dim_index(names, \"obs\")\n"
     ]
    },
    {
     "name": "stdout",
     "output_type": "stream",
     "text": [
      "metrics_summary.csv not found at: /work/PRTNR/CHUV/DIR/rgottar1/spatial/env/xenium_paper/data/xenium/processed/segmentation/proseg/breast/breast/0PD6/0PD6/raw_results/metrics_summary.csv\n"
     ]
    },
    {
     "name": "stderr",
     "output_type": "stream",
     "text": [
      "/work/PRTNR/CHUV/DIR/rgottar1/spatial/env/jbac/miniforge3/envs/spatial/lib/python3.11/site-packages/anndata/_core/aligned_df.py:68: ImplicitModificationWarning: Transforming to str index.\n",
      "  warnings.warn(\"Transforming to str index.\", ImplicitModificationWarning)\n",
      "/work/PRTNR/CHUV/DIR/rgottar1/spatial/env/jbac/miniforge3/envs/spatial/lib/python3.11/site-packages/anndata/_core/aligned_df.py:68: ImplicitModificationWarning: Transforming to str index.\n",
      "  warnings.warn(\"Transforming to str index.\", ImplicitModificationWarning)\n",
      "/work/PRTNR/CHUV/DIR/rgottar1/spatial/env/jbac/miniforge3/envs/spatial/lib/python3.11/site-packages/spatialdata/_core/spatialdata.py:185: UserWarning: The table is annotating 'cell_polygons', which is not present in the SpatialData object.\n",
      "  self.validate_table_in_spatialdata(v)\n",
      "/work/PRTNR/CHUV/DIR/rgottar1/spatial/env/jbac/miniforge3/envs/spatial/lib/python3.11/site-packages/anndata/_core/anndata.py:822: UserWarning: \n",
      "AnnData expects .obs.index to contain strings, but got values like:\n",
      "    [0, 1, 2, 3, 4]\n",
      "\n",
      "    Inferred to be: integer\n",
      "\n",
      "  names = self._prep_dim_index(names, \"obs\")\n"
     ]
    },
    {
     "name": "stdout",
     "output_type": "stream",
     "text": [
      "metrics_summary.csv not found at: /work/PRTNR/CHUV/DIR/rgottar1/spatial/env/xenium_paper/data/xenium/processed/segmentation/proseg/breast/breast/1FYB/1FYB/raw_results/metrics_summary.csv\n"
     ]
    },
    {
     "name": "stderr",
     "output_type": "stream",
     "text": [
      "/work/PRTNR/CHUV/DIR/rgottar1/spatial/env/jbac/miniforge3/envs/spatial/lib/python3.11/site-packages/anndata/_core/aligned_df.py:68: ImplicitModificationWarning: Transforming to str index.\n",
      "  warnings.warn(\"Transforming to str index.\", ImplicitModificationWarning)\n",
      "/work/PRTNR/CHUV/DIR/rgottar1/spatial/env/jbac/miniforge3/envs/spatial/lib/python3.11/site-packages/spatialdata/_core/spatialdata.py:185: UserWarning: The table is annotating 'cell_polygons', which is not present in the SpatialData object.\n",
      "  self.validate_table_in_spatialdata(v)\n",
      "/work/PRTNR/CHUV/DIR/rgottar1/spatial/env/jbac/miniforge3/envs/spatial/lib/python3.11/site-packages/anndata/_core/anndata.py:822: UserWarning: \n",
      "AnnData expects .obs.index to contain strings, but got values like:\n",
      "    [0, 1, 2, 3, 4]\n",
      "\n",
      "    Inferred to be: integer\n",
      "\n",
      "  names = self._prep_dim_index(names, \"obs\")\n"
     ]
    },
    {
     "name": "stdout",
     "output_type": "stream",
     "text": [
      "metrics_summary.csv not found at: /work/PRTNR/CHUV/DIR/rgottar1/spatial/env/xenium_paper/data/xenium/processed/segmentation/proseg/breast/breast/1BCA/1BCA/raw_results/metrics_summary.csv\n"
     ]
    },
    {
     "name": "stderr",
     "output_type": "stream",
     "text": [
      "/work/PRTNR/CHUV/DIR/rgottar1/spatial/env/jbac/miniforge3/envs/spatial/lib/python3.11/site-packages/anndata/_core/aligned_df.py:68: ImplicitModificationWarning: Transforming to str index.\n",
      "  warnings.warn(\"Transforming to str index.\", ImplicitModificationWarning)\n",
      "/work/PRTNR/CHUV/DIR/rgottar1/spatial/env/jbac/miniforge3/envs/spatial/lib/python3.11/site-packages/anndata/_core/aligned_df.py:68: ImplicitModificationWarning: Transforming to str index.\n",
      "  warnings.warn(\"Transforming to str index.\", ImplicitModificationWarning)\n",
      "/work/PRTNR/CHUV/DIR/rgottar1/spatial/env/jbac/miniforge3/envs/spatial/lib/python3.11/site-packages/anndata/_core/aligned_df.py:68: ImplicitModificationWarning: Transforming to str index.\n",
      "  warnings.warn(\"Transforming to str index.\", ImplicitModificationWarning)\n",
      "/work/PRTNR/CHUV/DIR/rgottar1/spatial/env/jbac/miniforge3/envs/spatial/lib/python3.11/site-packages/anndata/_core/aligned_df.py:68: ImplicitModificationWarning: Transforming to str index.\n",
      "  warnings.warn(\"Transforming to str index.\", ImplicitModificationWarning)\n",
      "/work/PRTNR/CHUV/DIR/rgottar1/spatial/env/jbac/miniforge3/envs/spatial/lib/python3.11/site-packages/spatialdata/_core/spatialdata.py:185: UserWarning: The table is annotating 'cell_polygons', which is not present in the SpatialData object.\n",
      "  self.validate_table_in_spatialdata(v)\n",
      "/work/PRTNR/CHUV/DIR/rgottar1/spatial/env/jbac/miniforge3/envs/spatial/lib/python3.11/site-packages/anndata/_core/anndata.py:822: UserWarning: \n",
      "AnnData expects .obs.index to contain strings, but got values like:\n",
      "    [0, 1, 2, 3, 4]\n",
      "\n",
      "    Inferred to be: integer\n",
      "\n",
      "  names = self._prep_dim_index(names, \"obs\")\n"
     ]
    },
    {
     "name": "stdout",
     "output_type": "stream",
     "text": [
      "metrics_summary.csv not found at: /work/PRTNR/CHUV/DIR/rgottar1/spatial/env/xenium_paper/data/xenium/processed/segmentation/proseg/breast/breast/OPHI/OPHI_3/raw_results/metrics_summary.csv\n"
     ]
    },
    {
     "name": "stderr",
     "output_type": "stream",
     "text": [
      "/work/PRTNR/CHUV/DIR/rgottar1/spatial/env/jbac/miniforge3/envs/spatial/lib/python3.11/site-packages/spatialdata/_core/spatialdata.py:185: UserWarning: The table is annotating 'cell_polygons', which is not present in the SpatialData object.\n",
      "  self.validate_table_in_spatialdata(v)\n",
      "/work/PRTNR/CHUV/DIR/rgottar1/spatial/env/jbac/miniforge3/envs/spatial/lib/python3.11/site-packages/anndata/_core/anndata.py:822: UserWarning: \n",
      "AnnData expects .obs.index to contain strings, but got values like:\n",
      "    [0, 1, 2, 3, 4]\n",
      "\n",
      "    Inferred to be: integer\n",
      "\n",
      "  names = self._prep_dim_index(names, \"obs\")\n"
     ]
    },
    {
     "name": "stdout",
     "output_type": "stream",
     "text": [
      "metrics_summary.csv not found at: /work/PRTNR/CHUV/DIR/rgottar1/spatial/env/xenium_paper/data/xenium/processed/segmentation/proseg/breast/breast/OPHI/OPHI_1/raw_results/metrics_summary.csv\n"
     ]
    },
    {
     "name": "stderr",
     "output_type": "stream",
     "text": [
      "/work/PRTNR/CHUV/DIR/rgottar1/spatial/env/jbac/miniforge3/envs/spatial/lib/python3.11/site-packages/spatialdata/_core/spatialdata.py:185: UserWarning: The table is annotating 'cell_polygons', which is not present in the SpatialData object.\n",
      "  self.validate_table_in_spatialdata(v)\n",
      "/work/PRTNR/CHUV/DIR/rgottar1/spatial/env/jbac/miniforge3/envs/spatial/lib/python3.11/site-packages/anndata/_core/anndata.py:822: UserWarning: \n",
      "AnnData expects .obs.index to contain strings, but got values like:\n",
      "    [0, 1, 2, 3, 4]\n",
      "\n",
      "    Inferred to be: integer\n",
      "\n",
      "  names = self._prep_dim_index(names, \"obs\")\n"
     ]
    },
    {
     "name": "stdout",
     "output_type": "stream",
     "text": [
      "metrics_summary.csv not found at: /work/PRTNR/CHUV/DIR/rgottar1/spatial/env/xenium_paper/data/xenium/processed/segmentation/proseg/breast/breast/1GV1/1GV1/raw_results/metrics_summary.csv\n"
     ]
    },
    {
     "name": "stderr",
     "output_type": "stream",
     "text": [
      "/work/PRTNR/CHUV/DIR/rgottar1/spatial/env/jbac/miniforge3/envs/spatial/lib/python3.11/site-packages/spatialdata/_core/spatialdata.py:185: UserWarning: The table is annotating 'cell_polygons', which is not present in the SpatialData object.\n",
      "  self.validate_table_in_spatialdata(v)\n",
      "/work/PRTNR/CHUV/DIR/rgottar1/spatial/env/jbac/miniforge3/envs/spatial/lib/python3.11/site-packages/anndata/_core/anndata.py:822: UserWarning: \n",
      "AnnData expects .obs.index to contain strings, but got values like:\n",
      "    [0, 1, 2, 3, 4]\n",
      "\n",
      "    Inferred to be: integer\n",
      "\n",
      "  names = self._prep_dim_index(names, \"obs\")\n"
     ]
    },
    {
     "name": "stdout",
     "output_type": "stream",
     "text": [
      "metrics_summary.csv not found at: /work/PRTNR/CHUV/DIR/rgottar1/spatial/env/xenium_paper/data/xenium/processed/segmentation/proseg/breast/breast/OPHI/OPHI_2/raw_results/metrics_summary.csv\n"
     ]
    },
    {
     "name": "stderr",
     "output_type": "stream",
     "text": [
      "/work/PRTNR/CHUV/DIR/rgottar1/spatial/env/jbac/miniforge3/envs/spatial/lib/python3.11/site-packages/anndata/_core/aligned_df.py:68: ImplicitModificationWarning: Transforming to str index.\n",
      "  warnings.warn(\"Transforming to str index.\", ImplicitModificationWarning)\n",
      "/work/PRTNR/CHUV/DIR/rgottar1/spatial/env/jbac/miniforge3/envs/spatial/lib/python3.11/site-packages/anndata/_core/aligned_df.py:68: ImplicitModificationWarning: Transforming to str index.\n",
      "  warnings.warn(\"Transforming to str index.\", ImplicitModificationWarning)\n",
      "/work/PRTNR/CHUV/DIR/rgottar1/spatial/env/jbac/miniforge3/envs/spatial/lib/python3.11/site-packages/spatialdata/_core/spatialdata.py:185: UserWarning: The table is annotating 'cell_polygons', which is not present in the SpatialData object.\n",
      "  self.validate_table_in_spatialdata(v)\n",
      "/work/PRTNR/CHUV/DIR/rgottar1/spatial/env/jbac/miniforge3/envs/spatial/lib/python3.11/site-packages/anndata/_core/anndata.py:822: UserWarning: \n",
      "AnnData expects .obs.index to contain strings, but got values like:\n",
      "    [0, 1, 2, 3, 4]\n",
      "\n",
      "    Inferred to be: integer\n",
      "\n",
      "  names = self._prep_dim_index(names, \"obs\")\n",
      "/work/PRTNR/CHUV/DIR/rgottar1/spatial/env/jbac/miniforge3/envs/spatial/lib/python3.11/site-packages/anndata/_core/aligned_df.py:68: ImplicitModificationWarning: Transforming to str index.\n",
      "  warnings.warn(\"Transforming to str index.\", ImplicitModificationWarning)\n"
     ]
    },
    {
     "name": "stdout",
     "output_type": "stream",
     "text": [
      "metrics_summary.csv not found at: /work/PRTNR/CHUV/DIR/rgottar1/spatial/env/xenium_paper/data/xenium/processed/segmentation/proseg/breast/breast/1256/1256/raw_results/metrics_summary.csv\n"
     ]
    },
    {
     "name": "stderr",
     "output_type": "stream",
     "text": [
      "/work/PRTNR/CHUV/DIR/rgottar1/spatial/env/jbac/miniforge3/envs/spatial/lib/python3.11/site-packages/spatialdata/_core/spatialdata.py:185: UserWarning: The table is annotating 'cell_polygons', which is not present in the SpatialData object.\n",
      "  self.validate_table_in_spatialdata(v)\n",
      "/work/PRTNR/CHUV/DIR/rgottar1/spatial/env/jbac/miniforge3/envs/spatial/lib/python3.11/site-packages/anndata/_core/anndata.py:822: UserWarning: \n",
      "AnnData expects .obs.index to contain strings, but got values like:\n",
      "    [0, 1, 2, 3, 4]\n",
      "\n",
      "    Inferred to be: integer\n",
      "\n",
      "  names = self._prep_dim_index(names, \"obs\")\n"
     ]
    },
    {
     "name": "stdout",
     "output_type": "stream",
     "text": [
      "metrics_summary.csv not found at: /work/PRTNR/CHUV/DIR/rgottar1/spatial/env/xenium_paper/data/xenium/processed/segmentation/proseg/breast/breast/1FHZ/1FHZ/raw_results/metrics_summary.csv\n"
     ]
    },
    {
     "name": "stderr",
     "output_type": "stream",
     "text": [
      "/work/PRTNR/CHUV/DIR/rgottar1/spatial/env/jbac/miniforge3/envs/spatial/lib/python3.11/site-packages/spatialdata/_core/spatialdata.py:185: UserWarning: The table is annotating 'cell_polygons', which is not present in the SpatialData object.\n",
      "  self.validate_table_in_spatialdata(v)\n",
      "/work/PRTNR/CHUV/DIR/rgottar1/spatial/env/jbac/miniforge3/envs/spatial/lib/python3.11/site-packages/anndata/_core/anndata.py:822: UserWarning: \n",
      "AnnData expects .obs.index to contain strings, but got values like:\n",
      "    [0, 1, 2, 3, 4]\n",
      "\n",
      "    Inferred to be: integer\n",
      "\n",
      "  names = self._prep_dim_index(names, \"obs\")\n"
     ]
    },
    {
     "name": "stdout",
     "output_type": "stream",
     "text": [
      "metrics_summary.csv not found at: /work/PRTNR/CHUV/DIR/rgottar1/spatial/env/xenium_paper/data/xenium/processed/segmentation/proseg/breast/breast/0U9A/0U9A/raw_results/metrics_summary.csv\n"
     ]
    },
    {
     "name": "stderr",
     "output_type": "stream",
     "text": [
      "/work/PRTNR/CHUV/DIR/rgottar1/spatial/env/jbac/miniforge3/envs/spatial/lib/python3.11/site-packages/spatialdata/_core/spatialdata.py:185: UserWarning: The table is annotating 'cell_polygons', which is not present in the SpatialData object.\n",
      "  self.validate_table_in_spatialdata(v)\n",
      "/work/PRTNR/CHUV/DIR/rgottar1/spatial/env/jbac/miniforge3/envs/spatial/lib/python3.11/site-packages/anndata/_core/anndata.py:822: UserWarning: \n",
      "AnnData expects .obs.index to contain strings, but got values like:\n",
      "    [0, 1, 2, 3, 4]\n",
      "\n",
      "    Inferred to be: integer\n",
      "\n",
      "  names = self._prep_dim_index(names, \"obs\")\n"
     ]
    },
    {
     "name": "stdout",
     "output_type": "stream",
     "text": [
      "metrics_summary.csv not found at: /work/PRTNR/CHUV/DIR/rgottar1/spatial/env/xenium_paper/data/xenium/processed/segmentation/proseg/breast/breast/1GVR/1GVR/raw_results/metrics_summary.csv\n"
     ]
    },
    {
     "name": "stderr",
     "output_type": "stream",
     "text": [
      "/work/PRTNR/CHUV/DIR/rgottar1/spatial/env/jbac/miniforge3/envs/spatial/lib/python3.11/site-packages/anndata/_core/aligned_df.py:68: ImplicitModificationWarning: Transforming to str index.\n",
      "  warnings.warn(\"Transforming to str index.\", ImplicitModificationWarning)\n",
      "/work/PRTNR/CHUV/DIR/rgottar1/spatial/env/jbac/miniforge3/envs/spatial/lib/python3.11/site-packages/anndata/_core/aligned_df.py:68: ImplicitModificationWarning: Transforming to str index.\n",
      "  warnings.warn(\"Transforming to str index.\", ImplicitModificationWarning)\n",
      "/work/PRTNR/CHUV/DIR/rgottar1/spatial/env/jbac/miniforge3/envs/spatial/lib/python3.11/site-packages/anndata/_core/aligned_df.py:68: ImplicitModificationWarning: Transforming to str index.\n",
      "  warnings.warn(\"Transforming to str index.\", ImplicitModificationWarning)\n",
      "/work/PRTNR/CHUV/DIR/rgottar1/spatial/env/jbac/miniforge3/envs/spatial/lib/python3.11/site-packages/spatialdata/_core/spatialdata.py:185: UserWarning: The table is annotating 'cell_polygons', which is not present in the SpatialData object.\n",
      "  self.validate_table_in_spatialdata(v)\n",
      "/work/PRTNR/CHUV/DIR/rgottar1/spatial/env/jbac/miniforge3/envs/spatial/lib/python3.11/site-packages/anndata/_core/anndata.py:822: UserWarning: \n",
      "AnnData expects .obs.index to contain strings, but got values like:\n",
      "    [0, 1, 2, 3, 4]\n",
      "\n",
      "    Inferred to be: integer\n",
      "\n",
      "  names = self._prep_dim_index(names, \"obs\")\n"
     ]
    },
    {
     "name": "stdout",
     "output_type": "stream",
     "text": [
      "metrics_summary.csv not found at: /work/PRTNR/CHUV/DIR/rgottar1/spatial/env/xenium_paper/data/xenium/processed/segmentation/proseg/breast/breast/14LZ/14LZ/raw_results/metrics_summary.csv\n"
     ]
    },
    {
     "name": "stderr",
     "output_type": "stream",
     "text": [
      "/work/PRTNR/CHUV/DIR/rgottar1/spatial/env/jbac/miniforge3/envs/spatial/lib/python3.11/site-packages/anndata/_core/aligned_df.py:68: ImplicitModificationWarning: Transforming to str index.\n",
      "  warnings.warn(\"Transforming to str index.\", ImplicitModificationWarning)\n",
      "/work/PRTNR/CHUV/DIR/rgottar1/spatial/env/jbac/miniforge3/envs/spatial/lib/python3.11/site-packages/spatialdata/_core/spatialdata.py:185: UserWarning: The table is annotating 'cell_polygons', which is not present in the SpatialData object.\n",
      "  self.validate_table_in_spatialdata(v)\n",
      "/work/PRTNR/CHUV/DIR/rgottar1/spatial/env/jbac/miniforge3/envs/spatial/lib/python3.11/site-packages/anndata/_core/anndata.py:822: UserWarning: \n",
      "AnnData expects .obs.index to contain strings, but got values like:\n",
      "    [0, 1, 2, 3, 4]\n",
      "\n",
      "    Inferred to be: integer\n",
      "\n",
      "  names = self._prep_dim_index(names, \"obs\")\n"
     ]
    },
    {
     "name": "stdout",
     "output_type": "stream",
     "text": [
      "metrics_summary.csv not found at: /work/PRTNR/CHUV/DIR/rgottar1/spatial/env/xenium_paper/data/xenium/processed/segmentation/proseg/breast/breast/1ESQ/1ESQ/raw_results/metrics_summary.csv\n"
     ]
    },
    {
     "name": "stderr",
     "output_type": "stream",
     "text": [
      "/work/PRTNR/CHUV/DIR/rgottar1/spatial/env/jbac/miniforge3/envs/spatial/lib/python3.11/site-packages/spatialdata/_core/spatialdata.py:185: UserWarning: The table is annotating 'cell_polygons', which is not present in the SpatialData object.\n",
      "  self.validate_table_in_spatialdata(v)\n",
      "/work/PRTNR/CHUV/DIR/rgottar1/spatial/env/jbac/miniforge3/envs/spatial/lib/python3.11/site-packages/anndata/_core/anndata.py:822: UserWarning: \n",
      "AnnData expects .obs.index to contain strings, but got values like:\n",
      "    [0, 1, 2, 3, 4]\n",
      "\n",
      "    Inferred to be: integer\n",
      "\n",
      "  names = self._prep_dim_index(names, \"obs\")\n"
     ]
    },
    {
     "name": "stdout",
     "output_type": "stream",
     "text": [
      "metrics_summary.csv not found at: /work/PRTNR/CHUV/DIR/rgottar1/spatial/env/xenium_paper/data/xenium/processed/segmentation/proseg/breast/breast/1GUC/1GUC/raw_results/metrics_summary.csv\n"
     ]
    },
    {
     "name": "stderr",
     "output_type": "stream",
     "text": [
      "/work/PRTNR/CHUV/DIR/rgottar1/spatial/env/jbac/miniforge3/envs/spatial/lib/python3.11/site-packages/anndata/_core/aligned_df.py:68: ImplicitModificationWarning: Transforming to str index.\n",
      "  warnings.warn(\"Transforming to str index.\", ImplicitModificationWarning)\n",
      "/work/PRTNR/CHUV/DIR/rgottar1/spatial/env/jbac/miniforge3/envs/spatial/lib/python3.11/site-packages/spatialdata/_core/spatialdata.py:185: UserWarning: The table is annotating 'cell_polygons', which is not present in the SpatialData object.\n",
      "  self.validate_table_in_spatialdata(v)\n",
      "/work/PRTNR/CHUV/DIR/rgottar1/spatial/env/jbac/miniforge3/envs/spatial/lib/python3.11/site-packages/anndata/_core/anndata.py:822: UserWarning: \n",
      "AnnData expects .obs.index to contain strings, but got values like:\n",
      "    [0, 1, 2, 3, 4]\n",
      "\n",
      "    Inferred to be: integer\n",
      "\n",
      "  names = self._prep_dim_index(names, \"obs\")\n"
     ]
    },
    {
     "name": "stdout",
     "output_type": "stream",
     "text": [
      "metrics_summary.csv not found at: /work/PRTNR/CHUV/DIR/rgottar1/spatial/env/xenium_paper/data/xenium/processed/segmentation/proseg/breast/breast/0VRA/0VRA/raw_results/metrics_summary.csv\n"
     ]
    },
    {
     "name": "stderr",
     "output_type": "stream",
     "text": [
      "/work/PRTNR/CHUV/DIR/rgottar1/spatial/env/jbac/miniforge3/envs/spatial/lib/python3.11/site-packages/spatialdata/_core/spatialdata.py:185: UserWarning: The table is annotating 'cell_polygons', which is not present in the SpatialData object.\n",
      "  self.validate_table_in_spatialdata(v)\n",
      "/work/PRTNR/CHUV/DIR/rgottar1/spatial/env/jbac/miniforge3/envs/spatial/lib/python3.11/site-packages/anndata/_core/anndata.py:822: UserWarning: \n",
      "AnnData expects .obs.index to contain strings, but got values like:\n",
      "    [0, 1, 2, 3, 4]\n",
      "\n",
      "    Inferred to be: integer\n",
      "\n",
      "  names = self._prep_dim_index(names, \"obs\")\n"
     ]
    },
    {
     "name": "stdout",
     "output_type": "stream",
     "text": [
      "metrics_summary.csv not found at: /work/PRTNR/CHUV/DIR/rgottar1/spatial/env/xenium_paper/data/xenium/processed/segmentation/proseg/breast/breast/0OE1/0OE1/raw_results/metrics_summary.csv\n"
     ]
    },
    {
     "name": "stderr",
     "output_type": "stream",
     "text": [
      "/work/PRTNR/CHUV/DIR/rgottar1/spatial/env/jbac/miniforge3/envs/spatial/lib/python3.11/site-packages/anndata/_core/aligned_df.py:68: ImplicitModificationWarning: Transforming to str index.\n",
      "  warnings.warn(\"Transforming to str index.\", ImplicitModificationWarning)\n",
      "/work/PRTNR/CHUV/DIR/rgottar1/spatial/env/jbac/miniforge3/envs/spatial/lib/python3.11/site-packages/anndata/_core/aligned_df.py:68: ImplicitModificationWarning: Transforming to str index.\n",
      "  warnings.warn(\"Transforming to str index.\", ImplicitModificationWarning)\n",
      "/work/PRTNR/CHUV/DIR/rgottar1/spatial/env/jbac/miniforge3/envs/spatial/lib/python3.11/site-packages/anndata/_core/aligned_df.py:68: ImplicitModificationWarning: Transforming to str index.\n",
      "  warnings.warn(\"Transforming to str index.\", ImplicitModificationWarning)\n",
      "/work/PRTNR/CHUV/DIR/rgottar1/spatial/env/jbac/miniforge3/envs/spatial/lib/python3.11/site-packages/anndata/_core/aligned_df.py:68: ImplicitModificationWarning: Transforming to str index.\n",
      "  warnings.warn(\"Transforming to str index.\", ImplicitModificationWarning)\n",
      "/work/PRTNR/CHUV/DIR/rgottar1/spatial/env/jbac/miniforge3/envs/spatial/lib/python3.11/site-packages/anndata/_core/aligned_df.py:68: ImplicitModificationWarning: Transforming to str index.\n",
      "  warnings.warn(\"Transforming to str index.\", ImplicitModificationWarning)\n",
      "/work/PRTNR/CHUV/DIR/rgottar1/spatial/env/jbac/miniforge3/envs/spatial/lib/python3.11/site-packages/spatialdata/_core/spatialdata.py:185: UserWarning: The table is annotating 'cell_polygons', which is not present in the SpatialData object.\n",
      "  self.validate_table_in_spatialdata(v)\n",
      "/work/PRTNR/CHUV/DIR/rgottar1/spatial/env/jbac/miniforge3/envs/spatial/lib/python3.11/site-packages/anndata/_core/anndata.py:822: UserWarning: \n",
      "AnnData expects .obs.index to contain strings, but got values like:\n",
      "    [0, 1, 2, 3, 4]\n",
      "\n",
      "    Inferred to be: integer\n",
      "\n",
      "  names = self._prep_dim_index(names, \"obs\")\n"
     ]
    },
    {
     "name": "stdout",
     "output_type": "stream",
     "text": [
      "metrics_summary.csv not found at: /work/PRTNR/CHUV/DIR/rgottar1/spatial/env/xenium_paper/data/xenium/processed/segmentation/proseg/NSCLC/lung/0PSV/0PSV/raw_results/metrics_summary.csv\n"
     ]
    },
    {
     "name": "stderr",
     "output_type": "stream",
     "text": [
      "/work/PRTNR/CHUV/DIR/rgottar1/spatial/env/jbac/miniforge3/envs/spatial/lib/python3.11/site-packages/spatialdata/_core/spatialdata.py:185: UserWarning: The table is annotating 'cell_polygons', which is not present in the SpatialData object.\n",
      "  self.validate_table_in_spatialdata(v)\n",
      "/work/PRTNR/CHUV/DIR/rgottar1/spatial/env/jbac/miniforge3/envs/spatial/lib/python3.11/site-packages/anndata/_core/anndata.py:822: UserWarning: \n",
      "AnnData expects .obs.index to contain strings, but got values like:\n",
      "    [0, 1, 2, 3, 4]\n",
      "\n",
      "    Inferred to be: integer\n",
      "\n",
      "  names = self._prep_dim_index(names, \"obs\")\n"
     ]
    },
    {
     "name": "stdout",
     "output_type": "stream",
     "text": [
      "metrics_summary.csv not found at:"
     ]
    },
    {
     "name": "stderr",
     "output_type": "stream",
     "text": [
      "/work/PRTNR/CHUV/DIR/rgottar1/spatial/env/jbac/miniforge3/envs/spatial/lib/python3.11/site-packages/spatialdata/_core/spatialdata.py:185: UserWarning: The table is annotating 'cell_polygons', which is not present in the SpatialData object.\n",
      "  self.validate_table_in_spatialdata(v)\n"
     ]
    },
    {
     "name": "stdout",
     "output_type": "stream",
     "text": [
      " /work/PRTNR/CHUV/DIR/rgottar1/spatial/env/xenium_paper/data/xenium/processed/segmentation/proseg/NSCLC/lung/0S8R/0S8R/raw_results/metrics_summary.csv"
     ]
    },
    {
     "name": "stderr",
     "output_type": "stream",
     "text": [
      "/work/PRTNR/CHUV/DIR/rgottar1/spatial/env/jbac/miniforge3/envs/spatial/lib/python3.11/site-packages/anndata/_core/anndata.py:822: UserWarning: \n",
      "AnnData expects .obs.index to contain strings, but got values like:\n",
      "    [0, 1, 2, 3, 4]\n",
      "\n",
      "    Inferred to be: integer\n",
      "\n",
      "  names = self._prep_dim_index(names, \"obs\")\n"
     ]
    },
    {
     "name": "stdout",
     "output_type": "stream",
     "text": [
      "metrics_summary.csv not found at:\n",
      " /work/PRTNR/CHUV/DIR/rgottar1/spatial/env/xenium_paper/data/xenium/processed/segmentation/proseg/breast/breast/1FO7/1FO7/raw_results/metrics_summary.csv\n"
     ]
    },
    {
     "name": "stderr",
     "output_type": "stream",
     "text": [
      "/work/PRTNR/CHUV/DIR/rgottar1/spatial/env/jbac/miniforge3/envs/spatial/lib/python3.11/site-packages/spatialdata/_core/spatialdata.py:185: UserWarning: The table is annotating 'cell_polygons', which is not present in the SpatialData object.\n",
      "  self.validate_table_in_spatialdata(v)\n",
      "/work/PRTNR/CHUV/DIR/rgottar1/spatial/env/jbac/miniforge3/envs/spatial/lib/python3.11/site-packages/anndata/_core/anndata.py:822: UserWarning: \n",
      "AnnData expects .obs.index to contain strings, but got values like:\n",
      "    [0, 1, 2, 3, 4]\n",
      "\n",
      "    Inferred to be: integer\n",
      "\n",
      "  names = self._prep_dim_index(names, \"obs\")\n"
     ]
    },
    {
     "name": "stdout",
     "output_type": "stream",
     "text": [
      "metrics_summary.csv not found at: /work/PRTNR/CHUV/DIR/rgottar1/spatial/env/xenium_paper/data/xenium/processed/segmentation/proseg/breast/breast/1H27/1H27/raw_results/metrics_summary.csv\n"
     ]
    },
    {
     "name": "stderr",
     "output_type": "stream",
     "text": [
      "/work/PRTNR/CHUV/DIR/rgottar1/spatial/env/jbac/miniforge3/envs/spatial/lib/python3.11/site-packages/anndata/_core/aligned_df.py:68: ImplicitModificationWarning: Transforming to str index.\n",
      "  warnings.warn(\"Transforming to str index.\", ImplicitModificationWarning)\n",
      "/work/PRTNR/CHUV/DIR/rgottar1/spatial/env/jbac/miniforge3/envs/spatial/lib/python3.11/site-packages/anndata/_core/aligned_df.py:68: ImplicitModificationWarning: Transforming to str index.\n",
      "  warnings.warn(\"Transforming to str index.\", ImplicitModificationWarning)\n",
      "/work/PRTNR/CHUV/DIR/rgottar1/spatial/env/jbac/miniforge3/envs/spatial/lib/python3.11/site-packages/spatialdata/_core/spatialdata.py:185: UserWarning: The table is annotating 'cell_polygons', which is not present in the SpatialData object.\n",
      "  self.validate_table_in_spatialdata(v)\n",
      "/work/PRTNR/CHUV/DIR/rgottar1/spatial/env/jbac/miniforge3/envs/spatial/lib/python3.11/site-packages/anndata/_core/anndata.py:822: UserWarning: \n",
      "AnnData expects .obs.index to contain strings, but got values like:\n",
      "    [0, 1, 2, 3, 4]\n",
      "\n",
      "    Inferred to be: integer\n",
      "\n",
      "  names = self._prep_dim_index(names, \"obs\")\n"
     ]
    },
    {
     "name": "stdout",
     "output_type": "stream",
     "text": [
      "metrics_summary.csv not found at: /work/PRTNR/CHUV/DIR/rgottar1/spatial/env/xenium_paper/data/xenium/processed/segmentation/proseg/breast/breast/19TB/19TB/raw_results/metrics_summary.csv\n"
     ]
    },
    {
     "name": "stderr",
     "output_type": "stream",
     "text": [
      "/work/PRTNR/CHUV/DIR/rgottar1/spatial/env/jbac/miniforge3/envs/spatial/lib/python3.11/site-packages/spatialdata/_core/spatialdata.py:185: UserWarning: The table is annotating 'cell_polygons', which is not present in the SpatialData object.\n",
      "  self.validate_table_in_spatialdata(v)\n",
      "/work/PRTNR/CHUV/DIR/rgottar1/spatial/env/jbac/miniforge3/envs/spatial/lib/python3.11/site-packages/anndata/_core/anndata.py:822: UserWarning: \n",
      "AnnData expects .obs.index to contain strings, but got values like:\n",
      "    [0, 1, 2, 3, 4]\n",
      "\n",
      "    Inferred to be: integer\n",
      "\n",
      "  names = self._prep_dim_index(names, \"obs\")\n"
     ]
    },
    {
     "name": "stdout",
     "output_type": "stream",
     "text": [
      "metrics_summary.csv not found at: /work/PRTNR/CHUV/DIR/rgottar1/spatial/env/xenium_paper/data/xenium/processed/segmentation/proseg/NSCLC/lung/1GFF/1GFF/raw_results/metrics_summary.csv\n"
     ]
    },
    {
     "name": "stderr",
     "output_type": "stream",
     "text": [
      "/work/PRTNR/CHUV/DIR/rgottar1/spatial/env/jbac/miniforge3/envs/spatial/lib/python3.11/site-packages/spatialdata/_core/spatialdata.py:185: UserWarning: The table is annotating 'cell_polygons', which is not present in the SpatialData object.\n",
      "  self.validate_table_in_spatialdata(v)\n",
      "/work/PRTNR/CHUV/DIR/rgottar1/spatial/env/jbac/miniforge3/envs/spatial/lib/python3.11/site-packages/anndata/_core/anndata.py:822: UserWarning: \n",
      "AnnData expects .obs.index to contain strings, but got values like:\n",
      "    [0, 1, 2, 3, 4]\n",
      "\n",
      "    Inferred to be: integer\n",
      "\n",
      "  names = self._prep_dim_index(names, \"obs\")\n"
     ]
    },
    {
     "name": "stdout",
     "output_type": "stream",
     "text": [
      "metrics_summary.csv not found at: /work/PRTNR/CHUV/DIR/rgottar1/spatial/env/xenium_paper/data/xenium/processed/segmentation/proseg/NSCLC/lung/1GDD/1GDD/raw_results/metrics_summary.csv\n"
     ]
    },
    {
     "name": "stderr",
     "output_type": "stream",
     "text": [
      "/work/PRTNR/CHUV/DIR/rgottar1/spatial/env/jbac/miniforge3/envs/spatial/lib/python3.11/site-packages/anndata/_core/aligned_df.py:68: ImplicitModificationWarning: Transforming to str index.\n",
      "  warnings.warn(\"Transforming to str index.\", ImplicitModificationWarning)\n",
      "/work/PRTNR/CHUV/DIR/rgottar1/spatial/env/jbac/miniforge3/envs/spatial/lib/python3.11/site-packages/anndata/_core/aligned_df.py:68: ImplicitModificationWarning: Transforming to str index.\n",
      "  warnings.warn(\"Transforming to str index.\", ImplicitModificationWarning)\n",
      "/work/PRTNR/CHUV/DIR/rgottar1/spatial/env/jbac/miniforge3/envs/spatial/lib/python3.11/site-packages/anndata/_core/aligned_df.py:68: ImplicitModificationWarning: Transforming to str index.\n",
      "  warnings.warn(\"Transforming to str index.\", ImplicitModificationWarning)\n",
      "/work/PRTNR/CHUV/DIR/rgottar1/spatial/env/jbac/miniforge3/envs/spatial/lib/python3.11/site-packages/spatialdata/_core/spatialdata.py:185: UserWarning: The table is annotating 'cell_polygons', which is not present in the SpatialData object.\n",
      "  self.validate_table_in_spatialdata(v)\n",
      "/work/PRTNR/CHUV/DIR/rgottar1/spatial/env/jbac/miniforge3/envs/spatial/lib/python3.11/site-packages/anndata/_core/anndata.py:822: UserWarning: \n",
      "AnnData expects .obs.index to contain strings, but got values like:\n",
      "    [0, 1, 2, 3, 4]\n",
      "\n",
      "    Inferred to be: integer\n",
      "\n",
      "  names = self._prep_dim_index(names, \"obs\")\n"
     ]
    },
    {
     "name": "stdout",
     "output_type": "stream",
     "text": [
      "metrics_summary.csv not found at: /work/PRTNR/CHUV/DIR/rgottar1/spatial/env/xenium_paper/data/xenium/processed/segmentation/proseg/NSCLC/lung/1GAC/1GAC/raw_results/metrics_summary.csv\n"
     ]
    },
    {
     "name": "stderr",
     "output_type": "stream",
     "text": [
      "/work/PRTNR/CHUV/DIR/rgottar1/spatial/env/jbac/miniforge3/envs/spatial/lib/python3.11/site-packages/spatialdata/_core/spatialdata.py:185: UserWarning: The table is annotating 'cell_polygons', which is not present in the SpatialData object.\n",
      "  self.validate_table_in_spatialdata(v)\n",
      "/work/PRTNR/CHUV/DIR/rgottar1/spatial/env/jbac/miniforge3/envs/spatial/lib/python3.11/site-packages/anndata/_core/anndata.py:822: UserWarning: \n",
      "AnnData expects .obs.index to contain strings, but got values like:\n",
      "    [0, 1, 2, 3, 4]\n",
      "\n",
      "    Inferred to be: integer\n",
      "\n",
      "  names = self._prep_dim_index(names, \"obs\")\n"
     ]
    },
    {
     "name": "stdout",
     "output_type": "stream",
     "text": [
      "metrics_summary.csv not found at: /work/PRTNR/CHUV/DIR/rgottar1/spatial/env/xenium_paper/data/xenium/processed/segmentation/proseg/NSCLC/lung/1GQ9/1GQ9/raw_results/metrics_summary.csv\n"
     ]
    },
    {
     "name": "stderr",
     "output_type": "stream",
     "text": [
      "/work/PRTNR/CHUV/DIR/rgottar1/spatial/env/jbac/miniforge3/envs/spatial/lib/python3.11/site-packages/anndata/_core/aligned_df.py:68: ImplicitModificationWarning: Transforming to str index.\n",
      "  warnings.warn(\"Transforming to str index.\", ImplicitModificationWarning)\n",
      "/work/PRTNR/CHUV/DIR/rgottar1/spatial/env/jbac/miniforge3/envs/spatial/lib/python3.11/site-packages/spatialdata/_core/spatialdata.py:185: UserWarning: The table is annotating 'cell_polygons', which is not present in the SpatialData object.\n",
      "  self.validate_table_in_spatialdata(v)\n",
      "/work/PRTNR/CHUV/DIR/rgottar1/spatial/env/jbac/miniforge3/envs/spatial/lib/python3.11/site-packages/anndata/_core/anndata.py:822: UserWarning: \n",
      "AnnData expects .obs.index to contain strings, but got values like:\n",
      "    [0, 1, 2, 3, 4]\n",
      "\n",
      "    Inferred to be: integer\n",
      "\n",
      "  names = self._prep_dim_index(names, \"obs\")\n"
     ]
    },
    {
     "name": "stdout",
     "output_type": "stream",
     "text": [
      "metrics_summary.csv not found at: /work/PRTNR/CHUV/DIR/rgottar1/spatial/env/xenium_paper/data/xenium/processed/segmentation/proseg/NSCLC/lung/0WMU/0WMU_1/raw_results/metrics_summary.csv\n"
     ]
    },
    {
     "name": "stderr",
     "output_type": "stream",
     "text": [
      "/work/PRTNR/CHUV/DIR/rgottar1/spatial/env/jbac/miniforge3/envs/spatial/lib/python3.11/site-packages/anndata/_core/aligned_df.py:68: ImplicitModificationWarning: Transforming to str index.\n",
      "  warnings.warn(\"Transforming to str index.\", ImplicitModificationWarning)\n",
      "/work/PRTNR/CHUV/DIR/rgottar1/spatial/env/jbac/miniforge3/envs/spatial/lib/python3.11/site-packages/spatialdata/_core/spatialdata.py:185: UserWarning: The table is annotating 'cell_polygons', which is not present in the SpatialData object.\n",
      "  self.validate_table_in_spatialdata(v)\n",
      "/work/PRTNR/CHUV/DIR/rgottar1/spatial/env/jbac/miniforge3/envs/spatial/lib/python3.11/site-packages/anndata/_core/anndata.py:822: UserWarning: \n",
      "AnnData expects .obs.index to contain strings, but got values like:\n",
      "    [0, 1, 2, 3, 4]\n",
      "\n",
      "    Inferred to be: integer\n",
      "\n",
      "  names = self._prep_dim_index(names, \"obs\")\n"
     ]
    },
    {
     "name": "stdout",
     "output_type": "stream",
     "text": [
      "metrics_summary.csv not found at: /work/PRTNR/CHUV/DIR/rgottar1/spatial/env/xenium_paper/data/xenium/processed/segmentation/proseg/NSCLC/lung/0WMU/0WMU_2/raw_results/metrics_summary.csv\n"
     ]
    },
    {
     "name": "stderr",
     "output_type": "stream",
     "text": [
      "/work/PRTNR/CHUV/DIR/rgottar1/spatial/env/jbac/miniforge3/envs/spatial/lib/python3.11/site-packages/anndata/_core/aligned_df.py:68: ImplicitModificationWarning: Transforming to str index.\n",
      "  warnings.warn(\"Transforming to str index.\", ImplicitModificationWarning)\n",
      "/work/PRTNR/CHUV/DIR/rgottar1/spatial/env/jbac/miniforge3/envs/spatial/lib/python3.11/site-packages/spatialdata/_core/spatialdata.py:185: UserWarning: The table is annotating 'cell_polygons', which is not present in the SpatialData object.\n",
      "  self.validate_table_in_spatialdata(v)\n",
      "/work/PRTNR/CHUV/DIR/rgottar1/spatial/env/jbac/miniforge3/envs/spatial/lib/python3.11/site-packages/anndata/_core/anndata.py:822: UserWarning: \n",
      "AnnData expects .obs.index to contain strings, but got values like:\n",
      "    [0, 1, 2, 3, 4]\n",
      "\n",
      "    Inferred to be: integer\n",
      "\n",
      "  names = self._prep_dim_index(names, \"obs\")\n"
     ]
    },
    {
     "name": "stdout",
     "output_type": "stream",
     "text": [
      "metrics_summary.csv not found at: /work/PRTNR/CHUV/DIR/rgottar1/spatial/env/xenium_paper/data/xenium/processed/segmentation/proseg/NSCLC/lung/1GVD/1GVD/raw_results/metrics_summary.csv\n"
     ]
    },
    {
     "name": "stderr",
     "output_type": "stream",
     "text": [
      "/work/PRTNR/CHUV/DIR/rgottar1/spatial/env/jbac/miniforge3/envs/spatial/lib/python3.11/site-packages/anndata/_core/aligned_df.py:68: ImplicitModificationWarning: Transforming to str index.\n",
      "  warnings.warn(\"Transforming to str index.\", ImplicitModificationWarning)\n",
      "/work/PRTNR/CHUV/DIR/rgottar1/spatial/env/jbac/miniforge3/envs/spatial/lib/python3.11/site-packages/spatialdata/_core/spatialdata.py:185: UserWarning: The table is annotating 'cell_polygons', which is not present in the SpatialData object.\n",
      "  self.validate_table_in_spatialdata(v)\n",
      "/work/PRTNR/CHUV/DIR/rgottar1/spatial/env/jbac/miniforge3/envs/spatial/lib/python3.11/site-packages/anndata/_core/anndata.py:822: UserWarning: \n",
      "AnnData expects .obs.index to contain strings, but got values like:\n",
      "    [0, 1, 2, 3, 4]\n",
      "\n",
      "    Inferred to be: integer\n",
      "\n",
      "  names = self._prep_dim_index(names, \"obs\")\n"
     ]
    },
    {
     "name": "stdout",
     "output_type": "stream",
     "text": [
      "metrics_summary.csv not found at: /work/PRTNR/CHUV/DIR/rgottar1/spatial/env/xenium_paper/data/xenium/processed/segmentation/proseg/NSCLC/lung/1G73/1G73/raw_results/metrics_summary.csv\n"
     ]
    },
    {
     "name": "stderr",
     "output_type": "stream",
     "text": [
      "/work/PRTNR/CHUV/DIR/rgottar1/spatial/env/jbac/miniforge3/envs/spatial/lib/python3.11/site-packages/anndata/_core/aligned_df.py:68: ImplicitModificationWarning: Transforming to str index.\n",
      "  warnings.warn(\"Transforming to str index.\", ImplicitModificationWarning)\n",
      "/work/PRTNR/CHUV/DIR/rgottar1/spatial/env/jbac/miniforge3/envs/spatial/lib/python3.11/site-packages/spatialdata/_core/spatialdata.py:185: UserWarning: The table is annotating 'cell_polygons', which is not present in the SpatialData object.\n",
      "  self.validate_table_in_spatialdata(v)\n",
      "/work/PRTNR/CHUV/DIR/rgottar1/spatial/env/jbac/miniforge3/envs/spatial/lib/python3.11/site-packages/anndata/_core/anndata.py:822: UserWarning: \n",
      "AnnData expects .obs.index to contain strings, but got values like:\n",
      "    [0, 1, 2, 3, 4]\n",
      "\n",
      "    Inferred to be: integer\n",
      "\n",
      "  names = self._prep_dim_index(names, \"obs\")\n"
     ]
    },
    {
     "name": "stdout",
     "output_type": "stream",
     "text": [
      "metrics_summary.csv not found at: /work/PRTNR/CHUV/DIR/rgottar1/spatial/env/xenium_paper/data/xenium/processed/segmentation/proseg/NSCLC/chuvio/0PSV/0PSV_2/raw_results/metrics_summary.csv\n"
     ]
    },
    {
     "name": "stderr",
     "output_type": "stream",
     "text": [
      "/work/PRTNR/CHUV/DIR/rgottar1/spatial/env/jbac/miniforge3/envs/spatial/lib/python3.11/site-packages/spatialdata/_core/spatialdata.py:185: UserWarning: The table is annotating 'cell_polygons', which is not present in the SpatialData object.\n",
      "  self.validate_table_in_spatialdata(v)\n",
      "/work/PRTNR/CHUV/DIR/rgottar1/spatial/env/jbac/miniforge3/envs/spatial/lib/python3.11/site-packages/anndata/_core/anndata.py:822: UserWarning: \n",
      "AnnData expects .obs.index to contain strings, but got values like:\n",
      "    [0, 1, 2, 3, 4]\n",
      "\n",
      "    Inferred to be: integer\n",
      "\n",
      "  names = self._prep_dim_index(names, \"obs\")\n"
     ]
    },
    {
     "name": "stdout",
     "output_type": "stream",
     "text": [
      "metrics_summary.csv not found at: /work/PRTNR/CHUV/DIR/rgottar1/spatial/env/xenium_paper/data/xenium/processed/segmentation/proseg/NSCLC/chuvio/0PSV/0PSV_1/raw_results/metrics_summary.csv\n"
     ]
    },
    {
     "name": "stderr",
     "output_type": "stream",
     "text": [
      "/work/PRTNR/CHUV/DIR/rgottar1/spatial/env/jbac/miniforge3/envs/spatial/lib/python3.11/site-packages/anndata/_core/aligned_df.py:68: ImplicitModificationWarning: Transforming to str index.\n",
      "  warnings.warn(\"Transforming to str index.\", ImplicitModificationWarning)\n",
      "/work/PRTNR/CHUV/DIR/rgottar1/spatial/env/jbac/miniforge3/envs/spatial/lib/python3.11/site-packages/anndata/_core/aligned_df.py:68: ImplicitModificationWarning: Transforming to str index.\n",
      "  warnings.warn(\"Transforming to str index.\", ImplicitModificationWarning)\n",
      "/work/PRTNR/CHUV/DIR/rgottar1/spatial/env/jbac/miniforge3/envs/spatial/lib/python3.11/site-packages/spatialdata/_core/spatialdata.py:185: UserWarning: The table is annotating 'cell_polygons', which is not present in the SpatialData object.\n",
      "  self.validate_table_in_spatialdata(v)\n",
      "/work/PRTNR/CHUV/DIR/rgottar1/spatial/env/jbac/miniforge3/envs/spatial/lib/python3.11/site-packages/anndata/_core/anndata.py:822: UserWarning: \n",
      "AnnData expects .obs.index to contain strings, but got values like:\n",
      "    [0, 1, 2, 3, 4]\n",
      "\n",
      "    Inferred to be: integer\n",
      "\n",
      "  names = self._prep_dim_index(names, \"obs\")\n"
     ]
    },
    {
     "name": "stdout",
     "output_type": "stream",
     "text": [
      "metrics_summary.csv not found at: /work/PRTNR/CHUV/DIR/rgottar1/spatial/env/xenium_paper/data/xenium/processed/segmentation/proseg/NSCLC/chuvio/0WMU/0WMU/raw_results/metrics_summary.csv\n"
     ]
    },
    {
     "name": "stderr",
     "output_type": "stream",
     "text": [
      "/work/PRTNR/CHUV/DIR/rgottar1/spatial/env/jbac/miniforge3/envs/spatial/lib/python3.11/site-packages/anndata/_core/aligned_df.py:68: ImplicitModificationWarning: Transforming to str index.\n",
      "  warnings.warn(\"Transforming to str index.\", ImplicitModificationWarning)\n",
      "/work/PRTNR/CHUV/DIR/rgottar1/spatial/env/jbac/miniforge3/envs/spatial/lib/python3.11/site-packages/spatialdata/_core/spatialdata.py:185: UserWarning: The table is annotating 'cell_polygons', which is not present in the SpatialData object.\n",
      "  self.validate_table_in_spatialdata(v)\n",
      "/work/PRTNR/CHUV/DIR/rgottar1/spatial/env/jbac/miniforge3/envs/spatial/lib/python3.11/site-packages/anndata/_core/anndata.py:822: UserWarning: \n",
      "AnnData expects .obs.index to contain strings, but got values like:\n",
      "    [0, 1, 2, 3, 4]\n",
      "\n",
      "    Inferred to be: integer\n",
      "\n",
      "  names = self._prep_dim_index(names, \"obs\")\n"
     ]
    },
    {
     "name": "stdout",
     "output_type": "stream",
     "text": [
      "metrics_summary.csv not found at: /work/PRTNR/CHUV/DIR/rgottar1/spatial/env/xenium_paper/data/xenium/processed/segmentation/proseg/NSCLC/chuvio/1G73/1G73/raw_results/metrics_summary.csv\n"
     ]
    },
    {
     "name": "stderr",
     "output_type": "stream",
     "text": [
      "/work/PRTNR/CHUV/DIR/rgottar1/spatial/env/jbac/miniforge3/envs/spatial/lib/python3.11/site-packages/spatialdata/_core/spatialdata.py:185: UserWarning: The table is annotating 'cell_polygons', which is not present in the SpatialData object.\n",
      "  self.validate_table_in_spatialdata(v)\n",
      "/work/PRTNR/CHUV/DIR/rgottar1/spatial/env/jbac/miniforge3/envs/spatial/lib/python3.11/site-packages/anndata/_core/anndata.py:822: UserWarning: \n",
      "AnnData expects .obs.index to contain strings, but got values like:\n",
      "    [0, 1, 2, 3, 4]\n",
      "\n",
      "    Inferred to be: integer\n",
      "\n",
      "  names = self._prep_dim_index(names, \"obs\")\n"
     ]
    },
    {
     "name": "stdout",
     "output_type": "stream",
     "text": [
      "metrics_summary.csv not found at: /work/PRTNR/CHUV/DIR/rgottar1/spatial/env/xenium_paper/data/xenium/processed/segmentation/proseg/NSCLC/lung/1GA2/1GA2/raw_results/metrics_summary.csv\n"
     ]
    },
    {
     "name": "stderr",
     "output_type": "stream",
     "text": [
      "/work/PRTNR/CHUV/DIR/rgottar1/spatial/env/jbac/miniforge3/envs/spatial/lib/python3.11/site-packages/anndata/_core/aligned_df.py:68: ImplicitModificationWarning: Transforming to str index.\n",
      "  warnings.warn(\"Transforming to str index.\", ImplicitModificationWarning)\n",
      "/work/PRTNR/CHUV/DIR/rgottar1/spatial/env/jbac/miniforge3/envs/spatial/lib/python3.11/site-packages/anndata/_core/aligned_df.py:68: ImplicitModificationWarning: Transforming to str index.\n",
      "  warnings.warn(\"Transforming to str index.\", ImplicitModificationWarning)\n",
      "/work/PRTNR/CHUV/DIR/rgottar1/spatial/env/jbac/miniforge3/envs/spatial/lib/python3.11/site-packages/spatialdata/_core/spatialdata.py:185: UserWarning: The table is annotating 'cell_polygons', which is not present in the SpatialData object.\n",
      "  self.validate_table_in_spatialdata(v)\n",
      "/work/PRTNR/CHUV/DIR/rgottar1/spatial/env/jbac/miniforge3/envs/spatial/lib/python3.11/site-packages/anndata/_core/anndata.py:822: UserWarning: \n",
      "AnnData expects .obs.index to contain strings, but got values like:\n",
      "    [0, 1, 2, 3, 4]\n",
      "\n",
      "    Inferred to be: integer\n",
      "\n",
      "  names = self._prep_dim_index(names, \"obs\")\n"
     ]
    },
    {
     "name": "stdout",
     "output_type": "stream",
     "text": [
      "metrics_summary.csv not found at: /work/PRTNR/CHUV/DIR/rgottar1/spatial/env/xenium_paper/data/xenium/processed/segmentation/proseg/NSCLC/5k/1GQ9/1GQ9/raw_results/metrics_summary.csv\n"
     ]
    },
    {
     "name": "stderr",
     "output_type": "stream",
     "text": [
      "/work/PRTNR/CHUV/DIR/rgottar1/spatial/env/jbac/miniforge3/envs/spatial/lib/python3.11/site-packages/spatialdata/_core/spatialdata.py:185: UserWarning: The table is annotating 'cell_polygons', which is not present in the SpatialData object.\n",
      "  self.validate_table_in_spatialdata(v)\n",
      "/work/PRTNR/CHUV/DIR/rgottar1/spatial/env/jbac/miniforge3/envs/spatial/lib/python3.11/site-packages/anndata/_core/anndata.py:822: UserWarning: \n",
      "AnnData expects .obs.index to contain strings, but got values like:\n",
      "    [0, 1, 2, 3, 4]\n",
      "\n",
      "    Inferred to be: integer\n",
      "\n",
      "  names = self._prep_dim_index(names, \"obs\")\n"
     ]
    },
    {
     "name": "stdout",
     "output_type": "stream",
     "text": [
      "metrics_summary.csv not found at: /work/PRTNR/CHUV/DIR/rgottar1/spatial/env/xenium_paper/data/xenium/processed/segmentation/proseg/NSCLC/chuvio/1GA2/1GA2/raw_results/metrics_summary.csv\n",
      "\u001b[34mINFO    \u001b[0m reading                                                                                                   \n",
      "         \u001b[35m/work/PRTNR/CHUV/DIR/rgottar1/spatial/env/xenium_paper/data/xenium/processed/segmentation/segger/breast/br\u001b[0m\n",
      "         \u001b[35meast/1FYB/1FYB/normalised_results/outs/\u001b[0m\u001b[95mcell_feature_matrix.h5\u001b[0m                                             \n"
     ]
    },
    {
     "name": "stderr",
     "output_type": "stream",
     "text": [
      "/work/PRTNR/CHUV/DIR/rgottar1/spatial/env/jbac/miniforge3/envs/spatial/lib/python3.11/site-packages/spatialdata/_core/spatialdata.py:185: UserWarning: The table is annotating 'cell_labels', which is not present in the SpatialData object.\n",
      "  self.validate_table_in_spatialdata(v)\n"
     ]
    },
    {
     "name": "stdout",
     "output_type": "stream",
     "text": [
      "\u001b[34mINFO    \u001b[0m reading                                                                                                   \n",
      "         \u001b[35m/work/PRTNR/CHUV/DIR/rgottar1/spatial/env/xenium_paper/data/xenium/processed/segmentation/segger/breast/br\u001b[0m\n",
      "         \u001b[35meast/OPHI/OPHI_3/normalised_results/outs/\u001b[0m\u001b[95mcell_feature_matrix.h5\u001b[0m                                           \n"
     ]
    },
    {
     "name": "stderr",
     "output_type": "stream",
     "text": [
      "/work/PRTNR/CHUV/DIR/rgottar1/spatial/env/jbac/miniforge3/envs/spatial/lib/python3.11/site-packages/spatialdata/_core/spatialdata.py:185: UserWarning: The table is annotating 'cell_labels', which is not present in the SpatialData object.\n",
      "  self.validate_table_in_spatialdata(v)\n"
     ]
    },
    {
     "name": "stdout",
     "output_type": "stream",
     "text": [
      "\u001b[34mINFO    \u001b[0m reading                                                                                                   \n",
      "         \u001b[35m/work/PRTNR/CHUV/DIR/rgottar1/spatial/env/xenium_paper/data/xenium/processed/segmentation/segger/breast/br\u001b[0m\n",
      "         \u001b[35meast/OPHI/OPHI_1/normalised_results/outs/\u001b[0m\u001b[95mcell_feature_matrix.h5\u001b[0m                                           \n"
     ]
    },
    {
     "name": "stderr",
     "output_type": "stream",
     "text": [
      "/work/PRTNR/CHUV/DIR/rgottar1/spatial/env/jbac/miniforge3/envs/spatial/lib/python3.11/site-packages/spatialdata/_core/spatialdata.py:185: UserWarning: The table is annotating 'cell_labels', which is not present in the SpatialData object.\n",
      "  self.validate_table_in_spatialdata(v)\n"
     ]
    },
    {
     "name": "stdout",
     "output_type": "stream",
     "text": [
      "\u001b[34mINFO    \u001b[0m reading                                                                                                   \n",
      "         \u001b[35m/work/PRTNR/CHUV/DIR/rgottar1/spatial/env/xenium_paper/data/xenium/processed/segmentation/segger/breast/br\u001b[0m\n",
      "         \u001b[35meast/OPHI/OPHI_2/normalised_results/outs/\u001b[0m\u001b[95mcell_feature_matrix.h5\u001b[0m                                           \n"
     ]
    },
    {
     "name": "stderr",
     "output_type": "stream",
     "text": [
      "/work/PRTNR/CHUV/DIR/rgottar1/spatial/env/jbac/miniforge3/envs/spatial/lib/python3.11/site-packages/anndata/_core/aligned_df.py:68: ImplicitModificationWarning: Transforming to str index.\n",
      "  warnings.warn(\"Transforming to str index.\", ImplicitModificationWarning)\n",
      "/work/PRTNR/CHUV/DIR/rgottar1/spatial/env/jbac/miniforge3/envs/spatial/lib/python3.11/site-packages/anndata/_core/aligned_df.py:68: ImplicitModificationWarning: Transforming to str index.\n",
      "  warnings.warn(\"Transforming to str index.\", ImplicitModificationWarning)\n",
      "/work/PRTNR/CHUV/DIR/rgottar1/spatial/env/jbac/miniforge3/envs/spatial/lib/python3.11/site-packages/spatialdata/_core/spatialdata.py:185: UserWarning: The table is annotating 'cell_labels', which is not present in the SpatialData object.\n",
      "  self.validate_table_in_spatialdata(v)\n"
     ]
    },
    {
     "name": "stdout",
     "output_type": "stream",
     "text": [
      "\u001b[34mINFO    \u001b[0m reading                                                                                                   \n",
      "         \u001b[35m/work/PRTNR/CHUV/DIR/rgottar1/spatial/env/xenium_paper/data/xenium/processed/segmentation/segger/breast/br\u001b[0m\n",
      "         \u001b[35meast/1BCA/1BCA/normalised_results/outs/\u001b[0m\u001b[95mcell_feature_matrix.h5\u001b[0m                                             \n"
     ]
    },
    {
     "name": "stderr",
     "output_type": "stream",
     "text": [
      "/work/PRTNR/CHUV/DIR/rgottar1/spatial/env/jbac/miniforge3/envs/spatial/lib/python3.11/site-packages/spatialdata/_core/spatialdata.py:185: UserWarning: The table is annotating 'cell_labels', which is not present in the SpatialData object.\n",
      "  self.validate_table_in_spatialdata(v)\n"
     ]
    },
    {
     "name": "stdout",
     "output_type": "stream",
     "text": [
      "\u001b[34mINFO    \u001b[0m reading                                                                                                   \n",
      "         \u001b[35m/work/PRTNR/CHUV/DIR/rgottar1/spatial/env/xenium_paper/data/xenium/processed/segmentation/segger/breast/br\u001b[0m\n",
      "         \u001b[35meast/0PD6/0PD6/normalised_results/outs/\u001b[0m\u001b[95mcell_feature_matrix.h5\u001b[0m                                             \n"
     ]
    },
    {
     "name": "stderr",
     "output_type": "stream",
     "text": [
      "/work/PRTNR/CHUV/DIR/rgottar1/spatial/env/jbac/miniforge3/envs/spatial/lib/python3.11/site-packages/spatialdata/_core/spatialdata.py:185: UserWarning: The table is annotating 'cell_labels', which is not present in the SpatialData object.\n",
      "  self.validate_table_in_spatialdata(v)\n"
     ]
    },
    {
     "name": "stdout",
     "output_type": "stream",
     "text": [
      "\u001b[34mINFO    \u001b[0m reading                                                                                                   \n",
      "         \u001b[35m/work/PRTNR/CHUV/DIR/rgottar1/spatial/env/xenium_paper/data/xenium/processed/segmentation/segger/breast/br\u001b[0m\n",
      "         \u001b[35meast/1256/1256/normalised_results/outs/\u001b[0m\u001b[95mcell_feature_matrix.h5\u001b[0m                                             \n"
     ]
    },
    {
     "name": "stderr",
     "output_type": "stream",
     "text": [
      "/work/PRTNR/CHUV/DIR/rgottar1/spatial/env/jbac/miniforge3/envs/spatial/lib/python3.11/site-packages/spatialdata/_core/spatialdata.py:185: UserWarning: The table is annotating 'cell_labels', which is not present in the SpatialData object.\n",
      "  self.validate_table_in_spatialdata(v)\n"
     ]
    },
    {
     "name": "stdout",
     "output_type": "stream",
     "text": [
      "\u001b[34mINFO    \u001b[0m reading                                                                                                   \n",
      "         \u001b[35m/work/PRTNR/CHUV/DIR/rgottar1/spatial/env/xenium_paper/data/xenium/processed/segmentation/segger/breast/br\u001b[0m\n",
      "         \u001b[35meast/1GV1/1GV1/normalised_results/outs/\u001b[0m\u001b[95mcell_feature_matrix.h5\u001b[0m                                             \n"
     ]
    },
    {
     "name": "stderr",
     "output_type": "stream",
     "text": [
      "/work/PRTNR/CHUV/DIR/rgottar1/spatial/env/jbac/miniforge3/envs/spatial/lib/python3.11/site-packages/spatialdata/_core/spatialdata.py:185: UserWarning: The table is annotating 'cell_labels', which is not present in the SpatialData object.\n",
      "  self.validate_table_in_spatialdata(v)\n"
     ]
    },
    {
     "name": "stdout",
     "output_type": "stream",
     "text": [
      "\u001b[34mINFO    \u001b[0m reading                                                                                                   \n",
      "         \u001b[35m/work/PRTNR/CHUV/DIR/rgottar1/spatial/env/xenium_paper/data/xenium/processed/segmentation/segger/breast/br\u001b[0m\n",
      "         \u001b[35meast/1GVR/1GVR/normalised_results/outs/\u001b[0m\u001b[95mcell_feature_matrix.h5\u001b[0m                                             \n"
     ]
    },
    {
     "name": "stderr",
     "output_type": "stream",
     "text": [
      "/work/PRTNR/CHUV/DIR/rgottar1/spatial/env/jbac/miniforge3/envs/spatial/lib/python3.11/site-packages/spatialdata/_core/spatialdata.py:185: UserWarning: The table is annotating 'cell_labels', which is not present in the SpatialData object.\n",
      "  self.validate_table_in_spatialdata(v)\n"
     ]
    },
    {
     "name": "stdout",
     "output_type": "stream",
     "text": [
      "\u001b[34mINFO    \u001b[0m reading                                                                                                   \n",
      "         \u001b[35m/work/PRTNR/CHUV/DIR/rgottar1/spatial/env/xenium_paper/data/xenium/processed/segmentation/segger/breast/br\u001b[0m\n",
      "         \u001b[35meast/1FHZ/1FHZ/normalised_results/outs/\u001b[0m\u001b[95mcell_feature_matrix.h5\u001b[0m                                             \n"
     ]
    },
    {
     "name": "stderr",
     "output_type": "stream",
     "text": [
      "/work/PRTNR/CHUV/DIR/rgottar1/spatial/env/jbac/miniforge3/envs/spatial/lib/python3.11/site-packages/spatialdata/_core/spatialdata.py:185: UserWarning: The table is annotating 'cell_labels', which is not present in the SpatialData object.\n",
      "  self.validate_table_in_spatialdata(v)\n"
     ]
    },
    {
     "name": "stdout",
     "output_type": "stream",
     "text": [
      "\u001b[34mINFO    \u001b[0m reading                                                                                                   \n",
      "         \u001b[35m/work/PRTNR/CHUV/DIR/rgottar1/spatial/env/xenium_paper/data/xenium/processed/segmentation/segger/breast/br\u001b[0m\n",
      "         \u001b[35meast/0U9A/0U9A/normalised_results/outs/\u001b[0m\u001b[95mcell_feature_matrix.h5\u001b[0m                                             \n"
     ]
    },
    {
     "name": "stderr",
     "output_type": "stream",
     "text": [
      "/work/PRTNR/CHUV/DIR/rgottar1/spatial/env/jbac/miniforge3/envs/spatial/lib/python3.11/site-packages/spatialdata/_core/spatialdata.py:185: UserWarning: The table is annotating 'cell_labels', which is not present in the SpatialData object.\n",
      "  self.validate_table_in_spatialdata(v)\n"
     ]
    },
    {
     "name": "stdout",
     "output_type": "stream",
     "text": [
      "\u001b[34mINFO    \u001b[0m reading                                                                                                   \n",
      "         \u001b[35m/work/PRTNR/CHUV/DIR/rgottar1/spatial/env/xenium_paper/data/xenium/processed/segmentation/segger/breast/br\u001b[0m\n",
      "         \u001b[35meast/1ESQ/1ESQ/normalised_results/outs/\u001b[0m\u001b[95mcell_feature_matrix.h5\u001b[0m                                             \n"
     ]
    },
    {
     "name": "stderr",
     "output_type": "stream",
     "text": [
      "/work/PRTNR/CHUV/DIR/rgottar1/spatial/env/jbac/miniforge3/envs/spatial/lib/python3.11/site-packages/spatialdata/_core/spatialdata.py:185: UserWarning: The table is annotating 'cell_labels', which is not present in the SpatialData object.\n",
      "  self.validate_table_in_spatialdata(v)\n"
     ]
    },
    {
     "name": "stdout",
     "output_type": "stream",
     "text": [
      "\u001b[34mINFO    \u001b[0m reading                                                                                                   \n",
      "         \u001b[35m/work/PRTNR/CHUV/DIR/rgottar1/spatial/env/xenium_paper/data/xenium/processed/segmentation/segger/breast/br\u001b[0m\n",
      "         \u001b[35meast/0VRA/0VRA/normalised_results/outs/\u001b[0m\u001b[95mcell_feature_matrix.h5\u001b[0m                                             \n"
     ]
    },
    {
     "name": "stderr",
     "output_type": "stream",
     "text": [
      "/work/PRTNR/CHUV/DIR/rgottar1/spatial/env/jbac/miniforge3/envs/spatial/lib/python3.11/site-packages/anndata/_core/aligned_df.py:68: ImplicitModificationWarning: Transforming to str index.\n",
      "  warnings.warn(\"Transforming to str index.\", ImplicitModificationWarning)\n",
      "/work/PRTNR/CHUV/DIR/rgottar1/spatial/env/jbac/miniforge3/envs/spatial/lib/python3.11/site-packages/spatialdata/_core/spatialdata.py:185: UserWarning: The table is annotating 'cell_labels', which is not present in the SpatialData object.\n",
      "  self.validate_table_in_spatialdata(v)\n"
     ]
    },
    {
     "name": "stdout",
     "output_type": "stream",
     "text": [
      "\u001b[34mINFO    \u001b[0m reading                                                                                                   \n",
      "         \u001b[35m/work/PRTNR/CHUV/DIR/rgottar1/spatial/env/xenium_paper/data/xenium/processed/segmentation/segger/breast/br\u001b[0m\n",
      "         \u001b[35meast/14LZ/14LZ/normalised_results/outs/\u001b[0m\u001b[95mcell_feature_matrix.h5\u001b[0m                                             \n"
     ]
    },
    {
     "name": "stderr",
     "output_type": "stream",
     "text": [
      "/work/PRTNR/CHUV/DIR/rgottar1/spatial/env/jbac/miniforge3/envs/spatial/lib/python3.11/site-packages/spatialdata/_core/spatialdata.py:185: UserWarning: The table is annotating 'cell_labels', which is not present in the SpatialData object.\n",
      "  self.validate_table_in_spatialdata(v)\n"
     ]
    },
    {
     "name": "stdout",
     "output_type": "stream",
     "text": [
      "\u001b[34mINFO    \u001b[0m reading                                                                                                   \n",
      "         \u001b[35m/work/PRTNR/CHUV/DIR/rgottar1/spatial/env/xenium_paper/data/xenium/processed/segmentation/segger/breast/br\u001b[0m\n",
      "         \u001b[35meast/1H27/1H27/normalised_results/outs/\u001b[0m\u001b[95mcell_feature_matrix.h5\u001b[0m                                             \n"
     ]
    },
    {
     "name": "stderr",
     "output_type": "stream",
     "text": [
      "/work/PRTNR/CHUV/DIR/rgottar1/spatial/env/jbac/miniforge3/envs/spatial/lib/python3.11/site-packages/spatialdata/_core/spatialdata.py:185: UserWarning: The table is annotating 'cell_labels', which is not present in the SpatialData object.\n",
      "  self.validate_table_in_spatialdata(v)\n"
     ]
    },
    {
     "name": "stdout",
     "output_type": "stream",
     "text": [
      "\u001b[34mINFO    \u001b[0m reading                                                                                                   \n",
      "         \u001b[35m/work/PRTNR/CHUV/DIR/rgottar1/spatial/env/xenium_paper/data/xenium/processed/segmentation/segger/breast/br\u001b[0m\n",
      "         \u001b[35meast/1GUC/1GUC/normalised_results/outs/\u001b[0m\u001b[95mcell_feature_matrix.h5\u001b[0m                                             \n"
     ]
    },
    {
     "name": "stderr",
     "output_type": "stream",
     "text": [
      "/work/PRTNR/CHUV/DIR/rgottar1/spatial/env/jbac/miniforge3/envs/spatial/lib/python3.11/site-packages/spatialdata/_core/spatialdata.py:185: UserWarning: The table is annotating 'cell_labels', which is not present in the SpatialData object.\n",
      "  self.validate_table_in_spatialdata(v)\n"
     ]
    },
    {
     "name": "stdout",
     "output_type": "stream",
     "text": [
      "\u001b[34mINFO    \u001b[0m reading                                                                                                   \n",
      "         \u001b[35m/work/PRTNR/CHUV/DIR/rgottar1/spatial/env/xenium_paper/data/xenium/processed/segmentation/segger/breast/br\u001b[0m\n",
      "         \u001b[35meast/0OE1/0OE1/normalised_results/outs/\u001b[0m\u001b[95mcell_feature_matrix.h5\u001b[0m                                             \n"
     ]
    },
    {
     "name": "stderr",
     "output_type": "stream",
     "text": [
      "/work/PRTNR/CHUV/DIR/rgottar1/spatial/env/jbac/miniforge3/envs/spatial/lib/python3.11/site-packages/spatialdata/_core/spatialdata.py:185: UserWarning: The table is annotating 'cell_labels', which is not present in the SpatialData object.\n",
      "  self.validate_table_in_spatialdata(v)\n"
     ]
    },
    {
     "name": "stdout",
     "output_type": "stream",
     "text": [
      "\u001b[34mINFO    \u001b[0m reading                                                                                                   \n",
      "         \u001b[35m/work/PRTNR/CHUV/DIR/rgottar1/spatial/env/xenium_paper/data/xenium/processed/segmentation/segger/breast/br\u001b[0m\n",
      "         \u001b[35meast/19TB/19TB/normalised_results/outs/\u001b[0m\u001b[95mcell_feature_matrix.h5\u001b[0m                                             \n"
     ]
    },
    {
     "name": "stderr",
     "output_type": "stream",
     "text": [
      "/work/PRTNR/CHUV/DIR/rgottar1/spatial/env/jbac/miniforge3/envs/spatial/lib/python3.11/site-packages/spatialdata/_core/spatialdata.py:185: UserWarning: The table is annotating 'cell_labels', which is not present in the SpatialData object.\n",
      "  self.validate_table_in_spatialdata(v)\n",
      "/work/PRTNR/CHUV/DIR/rgottar1/spatial/env/jbac/miniforge3/envs/spatial/lib/python3.11/site-packages/spatialdata/_core/spatialdata.py:185: UserWarning: The table is annotating 'cell_polygons', which is not present in the SpatialData object.\n",
      "  self.validate_table_in_spatialdata(v)\n",
      "/work/PRTNR/CHUV/DIR/rgottar1/spatial/env/jbac/miniforge3/envs/spatial/lib/python3.11/site-packages/anndata/_core/anndata.py:822: UserWarning: \n",
      "AnnData expects .obs.index to contain strings, but got values like:\n",
      "    [0, 1, 2, 3, 4]\n",
      "\n",
      "    Inferred to be: integer\n",
      "\n",
      "  names = self._prep_dim_index(names, \"obs\")\n"
     ]
    },
    {
     "name": "stdout",
     "output_type": "stream",
     "text": [
      "metrics_summary.csv not found at: /work/PRTNR/CHUV/DIR/rgottar1/spatial/env/xenium_paper/data/xenium/processed/segmentation/proseg/NSCLC/5k/0PSV/0PSV/raw_results/metrics_summary.csv\n",
      "\u001b[34mINFO    \u001b[0m reading                                                                                                   \n",
      "         \u001b[35m/work/PRTNR/CHUV/DIR/rgottar1/spatial/env/xenium_paper/data/xenium/processed/segmentation/segger/breast/br\u001b[0m\n",
      "         \u001b[35meast/1FO7/1FO7/normalised_results/outs/\u001b[0m\u001b[95mcell_feature_matrix.h5\u001b[0m                                             \n"
     ]
    },
    {
     "name": "stderr",
     "output_type": "stream",
     "text": [
      "/work/PRTNR/CHUV/DIR/rgottar1/spatial/env/jbac/miniforge3/envs/spatial/lib/python3.11/site-packages/spatialdata/_core/spatialdata.py:185: UserWarning: The table is annotating 'cell_labels', which is not present in the SpatialData object.\n",
      "  self.validate_table_in_spatialdata(v)\n",
      "/work/PRTNR/CHUV/DIR/rgottar1/spatial/env/jbac/miniforge3/envs/spatial/lib/python3.11/site-packages/spatialdata/_core/spatialdata.py:185: UserWarning: The table is annotating 'cell_polygons', which is not present in the SpatialData object.\n",
      "  self.validate_table_in_spatialdata(v)\n",
      "/work/PRTNR/CHUV/DIR/rgottar1/spatial/env/jbac/miniforge3/envs/spatial/lib/python3.11/site-packages/anndata/_core/anndata.py:822: UserWarning: \n",
      "AnnData expects .obs.index to contain strings, but got values like:\n",
      "    [0, 1, 2, 3, 4]\n",
      "\n",
      "    Inferred to be: integer\n",
      "\n",
      "  names = self._prep_dim_index(names, \"obs\")\n"
     ]
    },
    {
     "name": "stdout",
     "output_type": "stream",
     "text": [
      "metrics_summary.csv not found at:\u001b[34mINFO    \u001b[0m reading                                                                                                   \n",
      "         \u001b[35m/work/PRTNR/CHUV/DIR/rgottar1/spatial/env/xenium_paper/data/xenium/processed/segmentation/segger/NSCLC/lun\u001b[0m\n",
      "         \u001b[35mg/1GA2/1GA2/normalised_results/outs/\u001b[0m\u001b[95mcell_feature_matrix.h5\u001b[0m                                                \n",
      " /work/PRTNR/CHUV/DIR/rgottar1/spatial/env/xenium_paper/data/xenium/processed/segmentation/proseg/NSCLC/5k/1GDD/1GDD/raw_results/metrics_summary.csv\n",
      "\u001b[34mINFO    \u001b[0m reading                                                                                                   \n",
      "         \u001b[35m/work/PRTNR/CHUV/DIR/rgottar1/spatial/env/xenium_paper/data/xenium/processed/segmentation/segger/NSCLC/lun\u001b[0m\n",
      "         \u001b[35mg/0PSV/0PSV/normalised_results/outs/\u001b[0m\u001b[95mcell_feature_matrix.h5\u001b[0m                                                \n"
     ]
    },
    {
     "name": "stderr",
     "output_type": "stream",
     "text": [
      "/work/PRTNR/CHUV/DIR/rgottar1/spatial/env/jbac/miniforge3/envs/spatial/lib/python3.11/site-packages/spatialdata/_core/spatialdata.py:185: UserWarning: The table is annotating 'cell_labels', which is not present in the SpatialData object.\n",
      "  self.validate_table_in_spatialdata(v)\n"
     ]
    },
    {
     "name": "stdout",
     "output_type": "stream",
     "text": [
      "\u001b[34mINFO    \u001b[0m reading                                                                                                   \n",
      "         \u001b[35m/work/PRTNR/CHUV/DIR/rgottar1/spatial/env/xenium_paper/data/xenium/processed/segmentation/segger/NSCLC/lun\u001b[0m\n",
      "         \u001b[35mg/0S8R/0S8R/normalised_results/outs/\u001b[0m\u001b[95mcell_feature_matrix.h5\u001b[0m                                                \n",
      "\u001b[34mINFO    \u001b[0m reading                                                                                                   \n",
      "         \u001b[35m/work/PRTNR/CHUV/DIR/rgottar1/spatial/env/xenium_paper/data/xenium/processed/segmentation/segger/NSCLC/lun\u001b[0m\n",
      "         \u001b[35mg/1G73/1G73/normalised_results/outs/\u001b[0m\u001b[95mcell_feature_matrix.h5\u001b[0m                                                \n"
     ]
    },
    {
     "name": "stderr",
     "output_type": "stream",
     "text": [
      "/work/PRTNR/CHUV/DIR/rgottar1/spatial/env/jbac/miniforge3/envs/spatial/lib/python3.11/site-packages/spatialdata/_core/spatialdata.py:185: UserWarning: The table is annotating 'cell_polygons', which is not present in the SpatialData object.\n",
      "  self.validate_table_in_spatialdata(v)\n",
      "/work/PRTNR/CHUV/DIR/rgottar1/spatial/env/jbac/miniforge3/envs/spatial/lib/python3.11/site-packages/anndata/_core/anndata.py:822: UserWarning: \n",
      "AnnData expects .obs.index to contain strings, but got values like:\n",
      "    [0, 1, 2, 3, 4]\n",
      "\n",
      "    Inferred to be: integer\n",
      "\n",
      "  names = self._prep_dim_index(names, \"obs\")\n"
     ]
    },
    {
     "name": "stdout",
     "output_type": "stream",
     "text": [
      "metrics_summary.csv not found at: /work/PRTNR/CHUV/DIR/rgottar1/spatial/env/xenium_paper/data/xenium/processed/segmentation/proseg/NSCLC/5k/1GAC/1GAC/raw_results/metrics_summary.csv\n"
     ]
    },
    {
     "name": "stderr",
     "output_type": "stream",
     "text": [
      "/work/PRTNR/CHUV/DIR/rgottar1/spatial/env/jbac/miniforge3/envs/spatial/lib/python3.11/site-packages/spatialdata/_core/spatialdata.py:185: UserWarning: The table is annotating 'cell_labels', which is not present in the SpatialData object.\n",
      "  self.validate_table_in_spatialdata(v)\n"
     ]
    },
    {
     "name": "stdout",
     "output_type": "stream",
     "text": [
      "\u001b[34mINFO    \u001b[0m reading                                                                                                   \n",
      "         \u001b[35m/work/PRTNR/CHUV/DIR/rgottar1/spatial/env/xenium_paper/data/xenium/processed/segmentation/segger/NSCLC/lun\u001b[0m\n",
      "         \u001b[35mg/1GDD/1GDD/normalised_results/outs/\u001b[0m\u001b[95mcell_feature_matrix.h5\u001b[0m                                                \n"
     ]
    },
    {
     "name": "stderr",
     "output_type": "stream",
     "text": [
      "/work/PRTNR/CHUV/DIR/rgottar1/spatial/env/jbac/miniforge3/envs/spatial/lib/python3.11/site-packages/spatialdata/_core/spatialdata.py:185: UserWarning: The table is annotating 'cell_labels', which is not present in the SpatialData object.\n",
      "  self.validate_table_in_spatialdata(v)\n",
      "/work/PRTNR/CHUV/DIR/rgottar1/spatial/env/jbac/miniforge3/envs/spatial/lib/python3.11/site-packages/spatialdata/_core/spatialdata.py:185: UserWarning: The table is annotating 'cell_labels', which is not present in the SpatialData object.\n",
      "  self.validate_table_in_spatialdata(v)\n",
      "/work/PRTNR/CHUV/DIR/rgottar1/spatial/env/jbac/miniforge3/envs/spatial/lib/python3.11/site-packages/spatialdata/_core/spatialdata.py:185: UserWarning: The table is annotating 'cell_labels', which is not present in the SpatialData object.\n",
      "  self.validate_table_in_spatialdata(v)\n"
     ]
    },
    {
     "name": "stdout",
     "output_type": "stream",
     "text": [
      "\u001b[34mINFO    \u001b[0m reading                                                                                                   \n",
      "         \u001b[35m/work/PRTNR/CHUV/DIR/rgottar1/spatial/env/xenium_paper/data/xenium/processed/segmentation/segger/NSCLC/lun\u001b[0m\n",
      "         \u001b[35mg/1GFF/1GFF/normalised_results/outs/\u001b[0m\u001b[95mcell_feature_matrix.h5\u001b[0m                                                \n",
      "\u001b[34mINFO    \u001b[0m reading                                                                                                   \n",
      "         \u001b[35m/work/PRTNR/CHUV/DIR/rgottar1/spatial/env/xenium_paper/data/xenium/processed/segmentation/segger/NSCLC/lun\u001b[0m\n",
      "         \u001b[35mg/1GAC/1GAC/normalised_results/outs/\u001b[0m\u001b[95mcell_feature_matrix.h5\u001b[0m                                                \n",
      "\u001b[34mINFO    \u001b[0m reading                                                                                                   \n",
      "         \u001b[35m/work/PRTNR/CHUV/DIR/rgottar1/spatial/env/xenium_paper/data/xenium/processed/segmentation/segger/NSCLC/lun\u001b[0m\n",
      "         \u001b[35mg/0WMU/0WMU_1/normalised_results/outs/\u001b[0m\u001b[95mcell_feature_matrix.h5\u001b[0m                                              \n",
      "\u001b[34mINFO    \u001b[0m reading                                                                                                   \n",
      "         \u001b[35m/work/PRTNR/CHUV/DIR/rgottar1/spatial/env/xenium_paper/data/xenium/processed/segmentation/segger/NSCLC/lun\u001b[0m\n",
      "         \u001b[35mg/0WMU/0WMU_2/normalised_results/outs/\u001b[0m\u001b[95mcell_feature_matrix.h5\u001b[0m                                              \n"
     ]
    },
    {
     "name": "stderr",
     "output_type": "stream",
     "text": [
      "/work/PRTNR/CHUV/DIR/rgottar1/spatial/env/jbac/miniforge3/envs/spatial/lib/python3.11/site-packages/spatialdata/_core/spatialdata.py:185: UserWarning: The table is annotating 'cell_labels', which is not present in the SpatialData object.\n",
      "  self.validate_table_in_spatialdata(v)\n",
      "/work/PRTNR/CHUV/DIR/rgottar1/spatial/env/jbac/miniforge3/envs/spatial/lib/python3.11/site-packages/spatialdata/_core/spatialdata.py:185: UserWarning: The table is annotating 'cell_labels', which is not present in the SpatialData object.\n",
      "  self.validate_table_in_spatialdata(v)\n",
      "/work/PRTNR/CHUV/DIR/rgottar1/spatial/env/jbac/miniforge3/envs/spatial/lib/python3.11/site-packages/spatialdata/_core/spatialdata.py:185: UserWarning: The table is annotating 'cell_labels', which is not present in the SpatialData object.\n",
      "  self.validate_table_in_spatialdata(v)\n"
     ]
    },
    {
     "name": "stdout",
     "output_type": "stream",
     "text": [
      "\u001b[34mINFO    \u001b[0m reading                                                                                                   \n",
      "         \u001b[35m/work/PRTNR/CHUV/DIR/rgottar1/spatial/env/xenium_paper/data/xenium/processed/segmentation/segger/NSCLC/lun\u001b[0m\n",
      "         \u001b[35mg/1GQ9/1GQ9/normalised_results/outs/\u001b[0m\u001b[95mcell_feature_matrix.h5\u001b[0m                                                \n",
      "\u001b[34mINFO    \u001b[0m reading                                                                                                   \n",
      "         \u001b[35m/work/PRTNR/CHUV/DIR/rgottar1/spatial/env/xenium_paper/data/xenium/processed/segmentation/segger/NSCLC/lun\u001b[0m\n",
      "         \u001b[35mg/1GVD/1GVD/normalised_results/outs/\u001b[0m\u001b[95mcell_feature_matrix.h5\u001b[0m                                                \n",
      "\u001b[34mINFO    \u001b[0m reading                                                                                                   \n",
      "         \u001b[35m/work/PRTNR/CHUV/DIR/rgottar1/spatial/env/xenium_paper/data/xenium/processed/segmentation/segger/NSCLC/chu\u001b[0m\n",
      "         \u001b[35mvio/1GA2/1GA2/normalised_results/outs/\u001b[0m\u001b[95mcell_feature_matrix.h5\u001b[0m                                              \n"
     ]
    },
    {
     "name": "stderr",
     "output_type": "stream",
     "text": [
      "/work/PRTNR/CHUV/DIR/rgottar1/spatial/env/jbac/miniforge3/envs/spatial/lib/python3.11/site-packages/spatialdata/_core/spatialdata.py:185: UserWarning: The table is annotating 'cell_labels', which is not present in the SpatialData object.\n",
      "  self.validate_table_in_spatialdata(v)\n"
     ]
    },
    {
     "name": "stdout",
     "output_type": "stream",
     "text": [
      "\u001b[34mINFO    \u001b[0m reading                                                                                                   \n",
      "         \u001b[35m/work/PRTNR/CHUV/DIR/rgottar1/spatial/env/xenium_paper/data/xenium/processed/segmentation/segger/NSCLC/chu\u001b[0m\n",
      "         \u001b[35mvio/0PSV/0PSV_1/normalised_results/outs/\u001b[0m\u001b[95mcell_feature_matrix.h5\u001b[0m                                            \n"
     ]
    },
    {
     "name": "stderr",
     "output_type": "stream",
     "text": [
      "/work/PRTNR/CHUV/DIR/rgottar1/spatial/env/jbac/miniforge3/envs/spatial/lib/python3.11/site-packages/spatialdata/_core/spatialdata.py:185: UserWarning: The table is annotating 'cell_labels', which is not present in the SpatialData object.\n",
      "  self.validate_table_in_spatialdata(v)\n"
     ]
    },
    {
     "name": "stdout",
     "output_type": "stream",
     "text": [
      "\u001b[34mINFO    \u001b[0m reading                                                                                                   \n",
      "         \u001b[35m/work/PRTNR/CHUV/DIR/rgottar1/spatial/env/xenium_paper/data/xenium/processed/segmentation/segger/NSCLC/chu\u001b[0m\n",
      "         \u001b[35mvio/0PSV/0PSV_2/normalised_results/outs/\u001b[0m\u001b[95mcell_feature_matrix.h5\u001b[0m                                            \n"
     ]
    },
    {
     "name": "stderr",
     "output_type": "stream",
     "text": [
      "/work/PRTNR/CHUV/DIR/rgottar1/spatial/env/jbac/miniforge3/envs/spatial/lib/python3.11/site-packages/spatialdata/_core/spatialdata.py:185: UserWarning: The table is annotating 'cell_labels', which is not present in the SpatialData object.\n",
      "  self.validate_table_in_spatialdata(v)\n"
     ]
    },
    {
     "name": "stdout",
     "output_type": "stream",
     "text": [
      "\u001b[34mINFO    \u001b[0m reading                                                                                                   \n",
      "         \u001b[35m/work/PRTNR/CHUV/DIR/rgottar1/spatial/env/xenium_paper/data/xenium/processed/segmentation/segger/NSCLC/chu\u001b[0m\n",
      "         \u001b[35mvio/1G73/1G73/normalised_results/outs/\u001b[0m\u001b[95mcell_feature_matrix.h5\u001b[0m                                              \n"
     ]
    },
    {
     "name": "stderr",
     "output_type": "stream",
     "text": [
      "/work/PRTNR/CHUV/DIR/rgottar1/spatial/env/jbac/miniforge3/envs/spatial/lib/python3.11/site-packages/spatialdata/_core/spatialdata.py:185: UserWarning: The table is annotating 'cell_labels', which is not present in the SpatialData object.\n",
      "  self.validate_table_in_spatialdata(v)\n"
     ]
    },
    {
     "name": "stdout",
     "output_type": "stream",
     "text": [
      "\u001b[34mINFO    \u001b[0m reading                                                                                                   \n",
      "         \u001b[35m/work/PRTNR/CHUV/DIR/rgottar1/spatial/env/xenium_paper/data/xenium/processed/segmentation/segger/NSCLC/chu\u001b[0m\n",
      "         \u001b[35mvio/0WMU/0WMU/normalised_results/outs/\u001b[0m\u001b[95mcell_feature_matrix.h5\u001b[0m                                              \n"
     ]
    },
    {
     "name": "stderr",
     "output_type": "stream",
     "text": [
      "/work/PRTNR/CHUV/DIR/rgottar1/spatial/env/jbac/miniforge3/envs/spatial/lib/python3.11/site-packages/spatialdata/_core/spatialdata.py:185: UserWarning: The table is annotating 'cell_labels', which is not present in the SpatialData object.\n",
      "  self.validate_table_in_spatialdata(v)\n"
     ]
    },
    {
     "name": "stdout",
     "output_type": "stream",
     "text": [
      "\u001b[34mINFO    \u001b[0m reading                                                                                                   \n",
      "         \u001b[35m/work/PRTNR/CHUV/DIR/rgottar1/spatial/env/xenium_paper/data/xenium/processed/segmentation/segger/NSCLC/5k/\u001b[0m\n",
      "         \u001b[35m0PSV/0PSV/normalised_results/outs/\u001b[0m\u001b[95mcell_feature_matrix.h5\u001b[0m                                                  \n"
     ]
    },
    {
     "name": "stderr",
     "output_type": "stream",
     "text": [
      "/work/PRTNR/CHUV/DIR/rgottar1/spatial/env/jbac/miniforge3/envs/spatial/lib/python3.11/site-packages/spatialdata/_core/spatialdata.py:185: UserWarning: The table is annotating 'cell_labels', which is not present in the SpatialData object.\n",
      "  self.validate_table_in_spatialdata(v)\n"
     ]
    },
    {
     "name": "stdout",
     "output_type": "stream",
     "text": [
      "\u001b[34mINFO    \u001b[0m reading                                                                                                   \n",
      "         \u001b[35m/work/PRTNR/CHUV/DIR/rgottar1/spatial/env/xenium_paper/data/xenium/processed/segmentation/segger/NSCLC/5k/\u001b[0m\n",
      "         \u001b[35m1G73/1G73/normalised_results/outs/\u001b[0m\u001b[95mcell_feature_matrix.h5\u001b[0m                                                  \n"
     ]
    },
    {
     "name": "stderr",
     "output_type": "stream",
     "text": [
      "/work/PRTNR/CHUV/DIR/rgottar1/spatial/env/jbac/miniforge3/envs/spatial/lib/python3.11/site-packages/spatialdata/_core/spatialdata.py:185: UserWarning: The table is annotating 'cell_labels', which is not present in the SpatialData object.\n",
      "  self.validate_table_in_spatialdata(v)\n"
     ]
    },
    {
     "name": "stdout",
     "output_type": "stream",
     "text": [
      "\u001b[34mINFO    \u001b[0m reading                                                                                                   \n",
      "         \u001b[35m/work/PRTNR/CHUV/DIR/rgottar1/spatial/env/xenium_paper/data/xenium/processed/segmentation/segger/NSCLC/5k/\u001b[0m\n",
      "         \u001b[35m1GDD/1GDD/normalised_results/outs/\u001b[0m\u001b[95mcell_feature_matrix.h5\u001b[0m                                                  \n"
     ]
    },
    {
     "name": "stderr",
     "output_type": "stream",
     "text": [
      "/work/PRTNR/CHUV/DIR/rgottar1/spatial/env/jbac/miniforge3/envs/spatial/lib/python3.11/site-packages/spatialdata/_core/spatialdata.py:185: UserWarning: The table is annotating 'cell_labels', which is not present in the SpatialData object.\n",
      "  self.validate_table_in_spatialdata(v)\n"
     ]
    },
    {
     "name": "stdout",
     "output_type": "stream",
     "text": [
      "\u001b[34mINFO    \u001b[0m reading                                                                                                   \n",
      "         \u001b[35m/work/PRTNR/CHUV/DIR/rgottar1/spatial/env/xenium_paper/data/xenium/processed/segmentation/segger/NSCLC/5k/\u001b[0m\n",
      "         \u001b[35m1GAC/1GAC/normalised_results/outs/\u001b[0m\u001b[95mcell_feature_matrix.h5\u001b[0m                                                  \n"
     ]
    },
    {
     "name": "stderr",
     "output_type": "stream",
     "text": [
      "/work/PRTNR/CHUV/DIR/rgottar1/spatial/env/jbac/miniforge3/envs/spatial/lib/python3.11/site-packages/spatialdata/_core/spatialdata.py:185: UserWarning: The table is annotating 'cell_labels', which is not present in the SpatialData object.\n",
      "  self.validate_table_in_spatialdata(v)\n",
      "/work/PRTNR/CHUV/DIR/rgottar1/spatial/env/jbac/miniforge3/envs/spatial/lib/python3.11/site-packages/spatialdata/_core/spatialdata.py:185: UserWarning: The table is annotating 'cell_labels', which is not present in the SpatialData object.\n",
      "  self.validate_table_in_spatialdata(v)\n",
      "/work/PRTNR/CHUV/DIR/rgottar1/spatial/env/jbac/miniforge3/envs/spatial/lib/python3.11/site-packages/spatialdata/_core/spatialdata.py:185: UserWarning: The table is annotating 'cell_labels', which is not present in the SpatialData object.\n",
      "  self.validate_table_in_spatialdata(v)\n"
     ]
    },
    {
     "name": "stdout",
     "output_type": "stream",
     "text": [
      "\u001b[34mINFO    \u001b[0m reading                                                                                                   \n",
      "         \u001b[35m/work/PRTNR/CHUV/DIR/rgottar1/spatial/env/xenium_paper/data/xenium/processed/segmentation/segger/NSCLC/5k/\u001b[0m\n",
      "         \u001b[35m1GQ9/1GQ9/normalised_results/outs/\u001b[0m\u001b[95mcell_feature_matrix.h5\u001b[0m                                                  \n",
      "\u001b[34mINFO    \u001b[0m reading                                                                                                   \n",
      "         \u001b[35m/work/PRTNR/CHUV/DIR/rgottar1/spatial/env/xenium_paper/data/xenium/processed/segmentation/segger/NSCLC/5k/\u001b[0m\n",
      "         \u001b[35m1GVD/1GVD/normalised_results/outs/\u001b[0m\u001b[95mcell_feature_matrix.h5\u001b[0m                                                  \n",
      "\u001b[34mINFO    \u001b[0m reading                                                                                                   \n",
      "         \u001b[35m/work/PRTNR/CHUV/DIR/rgottar1/spatial/env/xenium_paper/data/xenium/processed/segmentation/10x_5um/breast/b\u001b[0m\n",
      "         \u001b[35mreast/1FYB/1FYB/normalised_results/outs/\u001b[0m\u001b[95mcell_feature_matrix.h5\u001b[0m                                            \n"
     ]
    },
    {
     "name": "stderr",
     "output_type": "stream",
     "text": [
      "/work/PRTNR/CHUV/DIR/rgottar1/spatial/env/jbac/miniforge3/envs/spatial/lib/python3.11/site-packages/spatialdata/_core/spatialdata.py:185: UserWarning: The table is annotating 'cell_labels', which is not present in the SpatialData object.\n",
      "  self.validate_table_in_spatialdata(v)\n"
     ]
    },
    {
     "name": "stdout",
     "output_type": "stream",
     "text": [
      "\u001b[34mINFO    \u001b[0m reading                                                                                                   \n",
      "         \u001b[35m/work/PRTNR/CHUV/DIR/rgottar1/spatial/env/xenium_paper/data/xenium/processed/segmentation/10x_5um/breast/b\u001b[0m\n",
      "         \u001b[35mreast/OPHI/OPHI_3/normalised_results/outs/\u001b[0m\u001b[95mcell_feature_matrix.h5\u001b[0m                                          \n"
     ]
    },
    {
     "name": "stderr",
     "output_type": "stream",
     "text": [
      "/work/PRTNR/CHUV/DIR/rgottar1/spatial/env/jbac/miniforge3/envs/spatial/lib/python3.11/site-packages/spatialdata/_core/spatialdata.py:185: UserWarning: The table is annotating 'cell_labels', which is not present in the SpatialData object.\n",
      "  self.validate_table_in_spatialdata(v)\n",
      "/work/PRTNR/CHUV/DIR/rgottar1/spatial/env/jbac/miniforge3/envs/spatial/lib/python3.11/site-packages/spatialdata/_core/spatialdata.py:185: UserWarning: The table is annotating 'cell_labels', which is not present in the SpatialData object.\n",
      "  self.validate_table_in_spatialdata(v)\n",
      "/work/PRTNR/CHUV/DIR/rgottar1/spatial/env/jbac/miniforge3/envs/spatial/lib/python3.11/site-packages/spatialdata/_core/spatialdata.py:185: UserWarning: The table is annotating 'cell_labels', which is not present in the SpatialData object.\n",
      "  self.validate_table_in_spatialdata(v)\n",
      "/work/PRTNR/CHUV/DIR/rgottar1/spatial/env/jbac/miniforge3/envs/spatial/lib/python3.11/site-packages/spatialdata/_core/spatialdata.py:185: UserWarning: The table is annotating 'cell_labels', which is not present in the SpatialData object.\n",
      "  self.validate_table_in_spatialdata(v)\n"
     ]
    },
    {
     "name": "stdout",
     "output_type": "stream",
     "text": [
      "\u001b[34mINFO    \u001b[0m reading                                                                                                   \n",
      "         \u001b[35m/work/PRTNR/CHUV/DIR/rgottar1/spatial/env/xenium_paper/data/xenium/processed/segmentation/10x_5um/breast/b\u001b[0m\n",
      "         \u001b[35mreast/OPHI/OPHI_1/normalised_results/outs/\u001b[0m\u001b[95mcell_feature_matrix.h5\u001b[0m                                          \n",
      "\u001b[34mINFO    \u001b[0m reading                                                                                                   \n",
      "         \u001b[35m/work/PRTNR/CHUV/DIR/rgottar1/spatial/env/xenium_paper/data/xenium/processed/segmentation/10x_5um/breast/b\u001b[0m\n",
      "         \u001b[35mreast/OPHI/OPHI_2/normalised_results/outs/\u001b[0m\u001b[95mcell_feature_matrix.h5\u001b[0m                                          \n",
      "\u001b[34mINFO    \u001b[0m reading                                                                                                   \n",
      "         \u001b[35m/work/PRTNR/CHUV/DIR/rgottar1/spatial/env/xenium_paper/data/xenium/processed/segmentation/10x_5um/breast/b\u001b[0m\n",
      "         \u001b[35mreast/1BCA/1BCA/normalised_results/outs/\u001b[0m\u001b[95mcell_feature_matrix.h5\u001b[0m                                            \n",
      "\u001b[34mINFO    \u001b[0m reading                                                                                                   \n",
      "         \u001b[35m/work/PRTNR/CHUV/DIR/rgottar1/spatial/env/xenium_paper/data/xenium/processed/segmentation/10x_5um/breast/b\u001b[0m\n",
      "         \u001b[35mreast/0PD6/0PD6/normalised_results/outs/\u001b[0m\u001b[95mcell_feature_matrix.h5\u001b[0m                                            \n"
     ]
    },
    {
     "name": "stderr",
     "output_type": "stream",
     "text": [
      "/work/PRTNR/CHUV/DIR/rgottar1/spatial/env/jbac/miniforge3/envs/spatial/lib/python3.11/site-packages/spatialdata/_core/spatialdata.py:185: UserWarning: The table is annotating 'cell_labels', which is not present in the SpatialData object.\n",
      "  self.validate_table_in_spatialdata(v)\n"
     ]
    },
    {
     "name": "stdout",
     "output_type": "stream",
     "text": [
      "\u001b[34mINFO    \u001b[0m reading                                                                                                   \n",
      "         \u001b[35m/work/PRTNR/CHUV/DIR/rgottar1/spatial/env/xenium_paper/data/xenium/processed/segmentation/10x_5um/breast/b\u001b[0m\n",
      "         \u001b[35mreast/1256/1256/normalised_results/outs/\u001b[0m\u001b[95mcell_feature_matrix.h5\u001b[0m                                            \n"
     ]
    },
    {
     "name": "stderr",
     "output_type": "stream",
     "text": [
      "/work/PRTNR/CHUV/DIR/rgottar1/spatial/env/jbac/miniforge3/envs/spatial/lib/python3.11/site-packages/spatialdata/_core/spatialdata.py:185: UserWarning: The table is annotating 'cell_labels', which is not present in the SpatialData object.\n",
      "  self.validate_table_in_spatialdata(v)\n"
     ]
    },
    {
     "name": "stdout",
     "output_type": "stream",
     "text": [
      "\u001b[34mINFO    \u001b[0m reading                                                                                                   \n",
      "         \u001b[35m/work/PRTNR/CHUV/DIR/rgottar1/spatial/env/xenium_paper/data/xenium/processed/segmentation/10x_5um/breast/b\u001b[0m\n",
      "         \u001b[35mreast/1GV1/1GV1/normalised_results/outs/\u001b[0m\u001b[95mcell_feature_matrix.h5\u001b[0m                                            \n"
     ]
    },
    {
     "name": "stderr",
     "output_type": "stream",
     "text": [
      "/work/PRTNR/CHUV/DIR/rgottar1/spatial/env/jbac/miniforge3/envs/spatial/lib/python3.11/site-packages/spatialdata/_core/spatialdata.py:185: UserWarning: The table is annotating 'cell_labels', which is not present in the SpatialData object.\n",
      "  self.validate_table_in_spatialdata(v)\n"
     ]
    },
    {
     "name": "stdout",
     "output_type": "stream",
     "text": [
      "\u001b[34mINFO    \u001b[0m reading                                                                                                   \n",
      "         \u001b[35m/work/PRTNR/CHUV/DIR/rgottar1/spatial/env/xenium_paper/data/xenium/processed/segmentation/10x_5um/breast/b\u001b[0m\n",
      "         \u001b[35mreast/1GVR/1GVR/normalised_results/outs/\u001b[0m\u001b[95mcell_feature_matrix.h5\u001b[0m                                            \n"
     ]
    },
    {
     "name": "stderr",
     "output_type": "stream",
     "text": [
      "/work/PRTNR/CHUV/DIR/rgottar1/spatial/env/jbac/miniforge3/envs/spatial/lib/python3.11/site-packages/spatialdata/_core/spatialdata.py:185: UserWarning: The table is annotating 'cell_labels', which is not present in the SpatialData object.\n",
      "  self.validate_table_in_spatialdata(v)\n",
      "/work/PRTNR/CHUV/DIR/rgottar1/spatial/env/jbac/miniforge3/envs/spatial/lib/python3.11/site-packages/spatialdata/_core/spatialdata.py:185: UserWarning: The table is annotating 'cell_labels', which is not present in the SpatialData object.\n",
      "  self.validate_table_in_spatialdata(v)\n"
     ]
    },
    {
     "name": "stdout",
     "output_type": "stream",
     "text": [
      "\u001b[34mINFO    \u001b[0m reading                                                                                                   \n",
      "         \u001b[35m/work/PRTNR/CHUV/DIR/rgottar1/spatial/env/xenium_paper/data/xenium/processed/segmentation/10x_5um/breast/b\u001b[0m\n",
      "         \u001b[35mreast/1FHZ/1FHZ/normalised_results/outs/\u001b[0m\u001b[95mcell_feature_matrix.h5\u001b[0m                                            \n",
      "\u001b[34mINFO    \u001b[0m reading                                                                                                   \n",
      "         \u001b[35m/work/PRTNR/CHUV/DIR/rgottar1/spatial/env/xenium_paper/data/xenium/processed/segmentation/10x_5um/breast/b\u001b[0m\n",
      "         \u001b[35mreast/0U9A/0U9A/normalised_results/outs/\u001b[0m\u001b[95mcell_feature_matrix.h5\u001b[0m                                            \n"
     ]
    },
    {
     "name": "stderr",
     "output_type": "stream",
     "text": [
      "/work/PRTNR/CHUV/DIR/rgottar1/spatial/env/jbac/miniforge3/envs/spatial/lib/python3.11/site-packages/spatialdata/_core/spatialdata.py:185: UserWarning: The table is annotating 'cell_labels', which is not present in the SpatialData object.\n",
      "  self.validate_table_in_spatialdata(v)\n",
      "/work/PRTNR/CHUV/DIR/rgottar1/spatial/env/jbac/miniforge3/envs/spatial/lib/python3.11/site-packages/spatialdata/_core/spatialdata.py:185: UserWarning: The table is annotating 'cell_labels', which is not present in the SpatialData object.\n",
      "  self.validate_table_in_spatialdata(v)\n",
      "/work/PRTNR/CHUV/DIR/rgottar1/spatial/env/jbac/miniforge3/envs/spatial/lib/python3.11/site-packages/spatialdata/_core/spatialdata.py:185: UserWarning: The table is annotating 'cell_labels', which is not present in the SpatialData object.\n",
      "  self.validate_table_in_spatialdata(v)\n",
      "/work/PRTNR/CHUV/DIR/rgottar1/spatial/env/jbac/miniforge3/envs/spatial/lib/python3.11/site-packages/spatialdata/_core/spatialdata.py:185: UserWarning: The table is annotating 'cell_labels', which is not present in the SpatialData object.\n",
      "  self.validate_table_in_spatialdata(v)\n"
     ]
    },
    {
     "name": "stdout",
     "output_type": "stream",
     "text": [
      "\u001b[34mINFO    \u001b[0m reading                                                                                                   \n",
      "         \u001b[35m/work/PRTNR/CHUV/DIR/rgottar1/spatial/env/xenium_paper/data/xenium/processed/segmentation/10x_5um/breast/b\u001b[0m\n",
      "         \u001b[35mreast/1ESQ/1ESQ/normalised_results/outs/\u001b[0m\u001b[95mcell_feature_matrix.h5\u001b[0m                                            \n",
      "\u001b[34mINFO    \u001b[0m reading                                                                                                   \n",
      "         \u001b[35m/work/PRTNR/CHUV/DIR/rgottar1/spatial/env/xenium_paper/data/xenium/processed/segmentation/10x_5um/breast/b\u001b[0m\n",
      "         \u001b[35mreast/0VRA/0VRA/normalised_results/outs/\u001b[0m\u001b[95mcell_feature_matrix.h5\u001b[0m                                            \n",
      "\u001b[34mINFO    \u001b[0m reading                                                                                                   \n",
      "         \u001b[35m/work/PRTNR/CHUV/DIR/rgottar1/spatial/env/xenium_paper/data/xenium/processed/segmentation/10x_5um/breast/b\u001b[0m\n",
      "         \u001b[35mreast/14LZ/14LZ/normalised_results/outs/\u001b[0m\u001b[95mcell_feature_matrix.h5\u001b[0m                                            \n",
      "\u001b[34mINFO    \u001b[0m reading                                                                                                   \n",
      "         \u001b[35m/work/PRTNR/CHUV/DIR/rgottar1/spatial/env/xenium_paper/data/xenium/processed/segmentation/10x_5um/breast/b\u001b[0m\n",
      "         \u001b[35mreast/1H27/1H27/normalised_results/outs/\u001b[0m\u001b[95mcell_feature_matrix.h5\u001b[0m                                            \n"
     ]
    },
    {
     "name": "stderr",
     "output_type": "stream",
     "text": [
      "/work/PRTNR/CHUV/DIR/rgottar1/spatial/env/jbac/miniforge3/envs/spatial/lib/python3.11/site-packages/spatialdata/_core/spatialdata.py:185: UserWarning: The table is annotating 'cell_labels', which is not present in the SpatialData object.\n",
      "  self.validate_table_in_spatialdata(v)\n",
      "/work/PRTNR/CHUV/DIR/rgottar1/spatial/env/jbac/miniforge3/envs/spatial/lib/python3.11/site-packages/spatialdata/_core/spatialdata.py:185: UserWarning: The table is annotating 'cell_labels', which is not present in the SpatialData object.\n",
      "  self.validate_table_in_spatialdata(v)\n"
     ]
    },
    {
     "name": "stdout",
     "output_type": "stream",
     "text": [
      "\u001b[34mINFO    \u001b[0m reading                                                                                                   \n",
      "         \u001b[35m/work/PRTNR/CHUV/DIR/rgottar1/spatial/env/xenium_paper/data/xenium/processed/segmentation/10x_5um/breast/b\u001b[0m\n",
      "         \u001b[35mreast/1GUC/1GUC/normalised_results/outs/\u001b[0m\u001b[95mcell_feature_matrix.h5\u001b[0m                                            \n",
      "\u001b[34mINFO    \u001b[0m reading                                                                                                   \n",
      "         \u001b[35m/work/PRTNR/CHUV/DIR/rgottar1/spatial/env/xenium_paper/data/xenium/processed/segmentation/10x_5um/breast/b\u001b[0m\n",
      "         \u001b[35mreast/0OE1/0OE1/normalised_results/outs/\u001b[0m\u001b[95mcell_feature_matrix.h5\u001b[0m                                            \n"
     ]
    },
    {
     "name": "stderr",
     "output_type": "stream",
     "text": [
      "/work/PRTNR/CHUV/DIR/rgottar1/spatial/env/jbac/miniforge3/envs/spatial/lib/python3.11/site-packages/spatialdata/_core/spatialdata.py:185: UserWarning: The table is annotating 'cell_labels', which is not present in the SpatialData object.\n",
      "  self.validate_table_in_spatialdata(v)\n"
     ]
    },
    {
     "name": "stdout",
     "output_type": "stream",
     "text": [
      "\u001b[34mINFO    \u001b[0m reading                                                                                                   \n",
      "         \u001b[35m/work/PRTNR/CHUV/DIR/rgottar1/spatial/env/xenium_paper/data/xenium/processed/segmentation/10x_5um/breast/b\u001b[0m\n",
      "         \u001b[35mreast/19TB/19TB/normalised_results/outs/\u001b[0m\u001b[95mcell_feature_matrix.h5\u001b[0m                                            \n"
     ]
    },
    {
     "name": "stderr",
     "output_type": "stream",
     "text": [
      "/work/PRTNR/CHUV/DIR/rgottar1/spatial/env/jbac/miniforge3/envs/spatial/lib/python3.11/site-packages/spatialdata/_core/spatialdata.py:185: UserWarning: The table is annotating 'cell_labels', which is not present in the SpatialData object.\n",
      "  self.validate_table_in_spatialdata(v)\n"
     ]
    },
    {
     "name": "stdout",
     "output_type": "stream",
     "text": [
      "\u001b[34mINFO    \u001b[0m reading                                                                                                   \n",
      "         \u001b[35m/work/PRTNR/CHUV/DIR/rgottar1/spatial/env/xenium_paper/data/xenium/processed/segmentation/10x_5um/breast/b\u001b[0m\n",
      "         \u001b[35mreast/1FO7/1FO7/normalised_results/outs/\u001b[0m\u001b[95mcell_feature_matrix.h5\u001b[0m                                            \n"
     ]
    },
    {
     "name": "stderr",
     "output_type": "stream",
     "text": [
      "/work/PRTNR/CHUV/DIR/rgottar1/spatial/env/jbac/miniforge3/envs/spatial/lib/python3.11/site-packages/spatialdata/_core/spatialdata.py:185: UserWarning: The table is annotating 'cell_labels', which is not present in the SpatialData object.\n",
      "  self.validate_table_in_spatialdata(v)\n"
     ]
    },
    {
     "name": "stdout",
     "output_type": "stream",
     "text": [
      "\u001b[34mINFO    \u001b[0m reading                                                                                                   \n",
      "         \u001b[35m/work/PRTNR/CHUV/DIR/rgottar1/spatial/env/xenium_paper/data/xenium/processed/segmentation/10x_5um/NSCLC/lu\u001b[0m\n",
      "         \u001b[35mng/1GA2/1GA2/normalised_results/outs/\u001b[0m\u001b[95mcell_feature_matrix.h5\u001b[0m                                               \n"
     ]
    },
    {
     "name": "stderr",
     "output_type": "stream",
     "text": [
      "/work/PRTNR/CHUV/DIR/rgottar1/spatial/env/jbac/miniforge3/envs/spatial/lib/python3.11/site-packages/spatialdata/_core/spatialdata.py:185: UserWarning: The table is annotating 'cell_labels', which is not present in the SpatialData object.\n",
      "  self.validate_table_in_spatialdata(v)\n",
      "/work/PRTNR/CHUV/DIR/rgottar1/spatial/env/jbac/miniforge3/envs/spatial/lib/python3.11/site-packages/spatialdata/_core/spatialdata.py:185: UserWarning: The table is annotating 'cell_labels', which is not present in the SpatialData object.\n",
      "  self.validate_table_in_spatialdata(v)\n"
     ]
    },
    {
     "name": "stdout",
     "output_type": "stream",
     "text": [
      "\u001b[34mINFO    \u001b[0m reading                                                                                                   \n",
      "         \u001b[35m/work/PRTNR/CHUV/DIR/rgottar1/spatial/env/xenium_paper/data/xenium/processed/segmentation/10x_5um/NSCLC/lu\u001b[0m\n",
      "         \u001b[35mng/0PSV/0PSV/normalised_results/outs/\u001b[0m\u001b[95mcell_feature_matrix.h5\u001b[0m                                               \n"
     ]
    },
    {
     "name": "stderr",
     "output_type": "stream",
     "text": [
      "/work/PRTNR/CHUV/DIR/rgottar1/spatial/env/jbac/miniforge3/envs/spatial/lib/python3.11/site-packages/spatialdata/_core/spatialdata.py:185: UserWarning: The table is annotating 'cell_labels', which is not present in the SpatialData object.\n",
      "  self.validate_table_in_spatialdata(v)\n"
     ]
    },
    {
     "name": "stdout",
     "output_type": "stream",
     "text": [
      "\u001b[34mINFO    \u001b[0m reading                                                                                                   \n",
      "         \u001b[35m/work/PRTNR/CHUV/DIR/rgottar1/spatial/env/xenium_paper/data/xenium/processed/segmentation/10x_5um/NSCLC/lu\u001b[0m\n",
      "         \u001b[35mng/0S8R/0S8R/normalised_results/outs/\u001b[0m\u001b[95mcell_feature_matrix.h5\u001b[0m                                               \n"
     ]
    },
    {
     "name": "stderr",
     "output_type": "stream",
     "text": [
      "/work/PRTNR/CHUV/DIR/rgottar1/spatial/env/jbac/miniforge3/envs/spatial/lib/python3.11/site-packages/spatialdata/_core/spatialdata.py:185: UserWarning: The table is annotating 'cell_labels', which is not present in the SpatialData object.\n",
      "  self.validate_table_in_spatialdata(v)\n"
     ]
    },
    {
     "name": "stdout",
     "output_type": "stream",
     "text": [
      "\u001b[34mINFO    \u001b[0m reading                                                                                                   \n",
      "         \u001b[35m/work/PRTNR/CHUV/DIR/rgottar1/spatial/env/xenium_paper/data/xenium/processed/segmentation/10x_5um/NSCLC/lu\u001b[0m\n",
      "         \u001b[35mng/1G73/1G73/normalised_results/outs/\u001b[0m\u001b[95mcell_feature_matrix.h5\u001b[0m                                               \n",
      "\u001b[34mINFO    \u001b[0m reading                                                                                                   \n",
      "         \u001b[35m/work/PRTNR/CHUV/DIR/rgottar1/spatial/env/xenium_paper/data/xenium/processed/segmentation/10x_5um/NSCLC/lu\u001b[0m\n",
      "         \u001b[35mng/1GDD/1GDD/normalised_results/outs/\u001b[0m\u001b[95mcell_feature_matrix.h5\u001b[0m                                               \n"
     ]
    },
    {
     "name": "stderr",
     "output_type": "stream",
     "text": [
      "/work/PRTNR/CHUV/DIR/rgottar1/spatial/env/jbac/miniforge3/envs/spatial/lib/python3.11/site-packages/spatialdata/_core/spatialdata.py:185: UserWarning: The table is annotating 'cell_labels', which is not present in the SpatialData object.\n",
      "  self.validate_table_in_spatialdata(v)\n",
      "/work/PRTNR/CHUV/DIR/rgottar1/spatial/env/jbac/miniforge3/envs/spatial/lib/python3.11/site-packages/spatialdata/_core/spatialdata.py:185: UserWarning: The table is annotating 'cell_labels', which is not present in the SpatialData object.\n",
      "  self.validate_table_in_spatialdata(v)\n"
     ]
    },
    {
     "name": "stdout",
     "output_type": "stream",
     "text": [
      "\u001b[34mINFO    \u001b[0m reading                                                                                                   \n",
      "         \u001b[35m/work/PRTNR/CHUV/DIR/rgottar1/spatial/env/xenium_paper/data/xenium/processed/segmentation/10x_5um/NSCLC/lu\u001b[0m\n",
      "         \u001b[35mng/1GFF/1GFF/normalised_results/outs/\u001b[0m\u001b[95mcell_feature_matrix.h5\u001b[0m                                               \n",
      "\u001b[34mINFO    \u001b[0m reading                                                                                                   \n",
      "         \u001b[35m/work/PRTNR/CHUV/DIR/rgottar1/spatial/env/xenium_paper/data/xenium/processed/segmentation/10x_5um/NSCLC/lu\u001b[0m\n",
      "         \u001b[35mng/1GAC/1GAC/normalised_results/outs/\u001b[0m\u001b[95mcell_feature_matrix.h5\u001b[0m                                               \n"
     ]
    },
    {
     "name": "stderr",
     "output_type": "stream",
     "text": [
      "/work/PRTNR/CHUV/DIR/rgottar1/spatial/env/jbac/miniforge3/envs/spatial/lib/python3.11/site-packages/spatialdata/_core/spatialdata.py:185: UserWarning: The table is annotating 'cell_labels', which is not present in the SpatialData object.\n",
      "  self.validate_table_in_spatialdata(v)\n",
      "/work/PRTNR/CHUV/DIR/rgottar1/spatial/env/jbac/miniforge3/envs/spatial/lib/python3.11/site-packages/spatialdata/_core/spatialdata.py:185: UserWarning: The table is annotating 'cell_labels', which is not present in the SpatialData object.\n",
      "  self.validate_table_in_spatialdata(v)\n",
      "/work/PRTNR/CHUV/DIR/rgottar1/spatial/env/jbac/miniforge3/envs/spatial/lib/python3.11/site-packages/anndata/_core/aligned_df.py:68: ImplicitModificationWarning: Transforming to str index.\n",
      "  warnings.warn(\"Transforming to str index.\", ImplicitModificationWarning)\n",
      "/work/PRTNR/CHUV/DIR/rgottar1/spatial/env/jbac/miniforge3/envs/spatial/lib/python3.11/site-packages/spatialdata/_core/spatialdata.py:185: UserWarning: The table is annotating 'cell_labels', which is not present in the SpatialData object.\n",
      "  self.validate_table_in_spatialdata(v)\n"
     ]
    },
    {
     "name": "stdout",
     "output_type": "stream",
     "text": [
      "\u001b[34mINFO    \u001b[0m reading                                                                                                   \n",
      "         \u001b[35m/work/PRTNR/CHUV/DIR/rgottar1/spatial/env/xenium_paper/data/xenium/processed/segmentation/10x_5um/NSCLC/lu\u001b[0m\n",
      "         \u001b[35mng/0WMU/0WMU_1/normalised_results/outs/\u001b[0m\u001b[95mcell_feature_matrix.h5\u001b[0m                                             \n",
      "\u001b[34mINFO    \u001b[0m reading                                                                                                   \n",
      "         \u001b[35m/work/PRTNR/CHUV/DIR/rgottar1/spatial/env/xenium_paper/data/xenium/processed/segmentation/10x_5um/NSCLC/lu\u001b[0m\n",
      "         \u001b[35mng/0WMU/0WMU_2/normalised_results/outs/\u001b[0m\u001b[95mcell_feature_matrix.h5\u001b[0m                                             \n",
      "\u001b[34mINFO    \u001b[0m reading                                                                                                   \n",
      "         \u001b[35m/work/PRTNR/CHUV/DIR/rgottar1/spatial/env/xenium_paper/data/xenium/processed/segmentation/10x_5um/NSCLC/lu\u001b[0m\n",
      "         \u001b[35mng/1GQ9/1GQ9/normalised_results/outs/\u001b[0m\u001b[95mcell_feature_matrix.h5\u001b[0m                                               \n"
     ]
    },
    {
     "name": "stderr",
     "output_type": "stream",
     "text": [
      "/work/PRTNR/CHUV/DIR/rgottar1/spatial/env/jbac/miniforge3/envs/spatial/lib/python3.11/site-packages/spatialdata/_core/spatialdata.py:185: UserWarning: The table is annotating 'cell_labels', which is not present in the SpatialData object.\n",
      "  self.validate_table_in_spatialdata(v)\n",
      "/work/PRTNR/CHUV/DIR/rgottar1/spatial/env/jbac/miniforge3/envs/spatial/lib/python3.11/site-packages/spatialdata/_core/spatialdata.py:185: UserWarning: The table is annotating 'cell_labels', which is not present in the SpatialData object.\n",
      "  self.validate_table_in_spatialdata(v)\n"
     ]
    },
    {
     "name": "stdout",
     "output_type": "stream",
     "text": [
      "\u001b[34mINFO    \u001b[0m reading                                                                                                   \n",
      "         \u001b[35m/work/PRTNR/CHUV/DIR/rgottar1/spatial/env/xenium_paper/data/xenium/processed/segmentation/10x_5um/NSCLC/lu\u001b[0m\n",
      "         \u001b[35mng/1GVD/1GVD/normalised_results/outs/\u001b[0m\u001b[95mcell_feature_matrix.h5\u001b[0m                                               \n"
     ]
    },
    {
     "name": "stderr",
     "output_type": "stream",
     "text": [
      "/work/PRTNR/CHUV/DIR/rgottar1/spatial/env/jbac/miniforge3/envs/spatial/lib/python3.11/site-packages/spatialdata/_core/spatialdata.py:185: UserWarning: The table is annotating 'cell_labels', which is not present in the SpatialData object.\n",
      "  self.validate_table_in_spatialdata(v)\n",
      "/work/PRTNR/CHUV/DIR/rgottar1/spatial/env/jbac/miniforge3/envs/spatial/lib/python3.11/site-packages/spatialdata/_core/spatialdata.py:185: UserWarning: The table is annotating 'cell_labels', which is not present in the SpatialData object.\n",
      "  self.validate_table_in_spatialdata(v)\n"
     ]
    },
    {
     "name": "stdout",
     "output_type": "stream",
     "text": [
      "\u001b[34mINFO    \u001b[0m reading                                                                                                   \n",
      "         \u001b[35m/work/PRTNR/CHUV/DIR/rgottar1/spatial/env/xenium_paper/data/xenium/processed/segmentation/10x_5um/NSCLC/ch\u001b[0m\n",
      "         \u001b[35muvio/1GA2/1GA2/normalised_results/outs/\u001b[0m\u001b[95mcell_feature_matrix.h5\u001b[0m                                             \n",
      "\u001b[34mINFO    \u001b[0m reading                                                                                                   \n",
      "         \u001b[35m/work/PRTNR/CHUV/DIR/rgottar1/spatial/env/xenium_paper/data/xenium/processed/segmentation/10x_5um/NSCLC/ch\u001b[0m\n",
      "         \u001b[35muvio/0PSV/0PSV_1/normalised_results/outs/\u001b[0m\u001b[95mcell_feature_matrix.h5\u001b[0m                                           \n"
     ]
    },
    {
     "name": "stderr",
     "output_type": "stream",
     "text": [
      "/work/PRTNR/CHUV/DIR/rgottar1/spatial/env/jbac/miniforge3/envs/spatial/lib/python3.11/site-packages/spatialdata/_core/spatialdata.py:185: UserWarning: The table is annotating 'cell_labels', which is not present in the SpatialData object.\n",
      "  self.validate_table_in_spatialdata(v)\n",
      "/work/PRTNR/CHUV/DIR/rgottar1/spatial/env/jbac/miniforge3/envs/spatial/lib/python3.11/site-packages/spatialdata/_core/spatialdata.py:185: UserWarning: The table is annotating 'cell_labels', which is not present in the SpatialData object.\n",
      "  self.validate_table_in_spatialdata(v)\n"
     ]
    },
    {
     "name": "stdout",
     "output_type": "stream",
     "text": [
      "\u001b[34mINFO    \u001b[0m reading                                                                                                   \n",
      "         \u001b[35m/work/PRTNR/CHUV/DIR/rgottar1/spatial/env/xenium_paper/data/xenium/processed/segmentation/10x_5um/NSCLC/ch\u001b[0m\n",
      "         \u001b[35muvio/0PSV/0PSV_2/normalised_results/outs/\u001b[0m\u001b[95mcell_feature_matrix.h5\u001b[0m                                           \n",
      "\u001b[34mINFO    \u001b[0m reading                                                                                                   \n",
      "         \u001b[35m/work/PRTNR/CHUV/DIR/rgottar1/spatial/env/xenium_paper/data/xenium/processed/segmentation/10x_5um/NSCLC/ch\u001b[0m\n",
      "         \u001b[35muvio/1G73/1G73/normalised_results/outs/\u001b[0m\u001b[95mcell_feature_matrix.h5\u001b[0m                                             \n",
      "\u001b[34mINFO    \u001b[0m reading                                                                                                   \n",
      "         \u001b[35m/work/PRTNR/CHUV/DIR/rgottar1/spatial/env/xenium_paper/data/xenium/processed/segmentation/10x_5um/NSCLC/ch\u001b[0m\n",
      "         \u001b[35muvio/0WMU/0WMU/normalised_results/outs/\u001b[0m\u001b[95mcell_feature_matrix.h5\u001b[0m                                             \n",
      "Error processing A process in the process pool was terminated abruptly while the future was running or pending.\n",
      "Error processing A process in the process pool was terminated abruptly while the future was running or pending.\n",
      "Error processing A process in the process pool was terminated abruptly while the future was running or pending.\n",
      "Error processing A process in the process pool was terminated abruptly while the future was running or pending.\n",
      "Error processing A process in the process pool was terminated abruptly while the future was running or pending.\n",
      "Error processing A process in the process pool was terminated abruptly while the future was running or pending.\n",
      "Error processing A process in the process pool was terminated abruptly while the future was running or pending.\n",
      "Error processing A process in the process pool was terminated abruptly while the future was running or pending.\n",
      "Error processing A process in the process pool was terminated abruptly while the future was running or pending.\n",
      "Error processing A process in the process pool was terminated abruptly while the future was running or pending.\n",
      "Error processing A process in the process pool was terminated abruptly while the future was running or pending.\n",
      "Error processing A process in the process pool was terminated abruptly while the future was running or pending.\n",
      "Error processing A process in the process pool was terminated abruptly while the future was running or pending.\n",
      "Error processing A process in the process pool was terminated abruptly while the future was running or pending.\n",
      "Error processing A process in the process pool was terminated abruptly while the future was running or pending.\n",
      "Error processing A process in the process pool was terminated abruptly while the future was running or pending.\n",
      "Error processing A process in the process pool was terminated abruptly while the future was running or pending.\n",
      "Error processing A process in the process pool was terminated abruptly while the future was running or pending.\n",
      "Error processing A process in the process pool was terminated abruptly while the future was running or pending.\n",
      "Error processing A process in the process pool was terminated abruptly while the future was running or pending.\n",
      "Error processing A process in the process pool was terminated abruptly while the future was running or pending.\n",
      "Error processing A process in the process pool was terminated abruptly while the future was running or pending.\n",
      "Error processing A process in the process pool was terminated abruptly while the future was running or pending.\n",
      "Error processing A process in the process pool was terminated abruptly while the future was running or pending.\n",
      "Error processing A process in the process pool was terminated abruptly while the future was running or pending.\n",
      "Error processing A process in the process pool was terminated abruptly while the future was running or pending.\n",
      "Error processing A process in the process pool was terminated abruptly while the future was running or pending.\n",
      "Error processing A process in the process pool was terminated abruptly while the future was running or pending.\n",
      "Error processing A process in the process pool was terminated abruptly while the future was running or pending.\n",
      "Error processing A process in the process pool was terminated abruptly while the future was running or pending.\n",
      "Error processing A process in the process pool was terminated abruptly while the future was running or pending.\n",
      "Error processing A process in the process pool was terminated abruptly while the future was running or pending.\n",
      "Error processing A process in the process pool was terminated abruptly while the future was running or pending.\n",
      "Error processing A process in the process pool was terminated abruptly while the future was running or pending.\n",
      "Error processing A process in the process pool was terminated abruptly while the future was running or pending.\n",
      "Error processing A process in the process pool was terminated abruptly while the future was running or pending.\n",
      "Error processing A process in the process pool was terminated abruptly while the future was running or pending.\n",
      "Error processing A process in the process pool was terminated abruptly while the future was running or pending.\n",
      "Error processing A process in the process pool was terminated abruptly while the future was running or pending.\n",
      "Error processing A process in the process pool was terminated abruptly while the future was running or pending.\n",
      "Error processing A process in the process pool was terminated abruptly while the future was running or pending.\n",
      "Error processing A process in the process pool was terminated abruptly while the future was running or pending.\n",
      "Error processing A process in the process pool was terminated abruptly while the future was running or pending.\n",
      "Error processing A process in the process pool was terminated abruptly while the future was running or pending.\n",
      "Error processing A process in the process pool was terminated abruptly while the future was running or pending.\n",
      "Error processing A process in the process pool was terminated abruptly while the future was running or pending.\n",
      "Error processing A process in the process pool was terminated abruptly while the future was running or pending.\n",
      "Error processing A process in the process pool was terminated abruptly while the future was running or pending.\n",
      "Error processing A process in the process pool was terminated abruptly while the future was running or pending.\n",
      "Error processing A process in the process pool was terminated abruptly while the future was running or pending.\n",
      "Error processing A process in the process pool was terminated abruptly while the future was running or pending.\n",
      "Error processing A process in the process pool was terminated abruptly while the future was running or pending.\n",
      "Error processing A process in the process pool was terminated abruptly while the future was running or pending.\n",
      "Error processing A process in the process pool was terminated abruptly while the future was running or pending.\n",
      "Error processing A process in the process pool was terminated abruptly while the future was running or pending.\n",
      "Error processing A process in the process pool was terminated abruptly while the future was running or pending.\n",
      "Error processing A process in the process pool was terminated abruptly while the future was running or pending.\n",
      "Error processing A process in the process pool was terminated abruptly while the future was running or pending.\n",
      "Error processing A process in the process pool was terminated abruptly while the future was running or pending.\n",
      "Error processing A process in the process pool was terminated abruptly while the future was running or pending.\n",
      "Error processing A process in the process pool was terminated abruptly while the future was running or pending.\n",
      "Error processing A process in the process pool was terminated abruptly while the future was running or pending.\n",
      "Error processing A process in the process pool was terminated abruptly while the future was running or pending.\n",
      "Error processing A process in the process pool was terminated abruptly while the future was running or pending.\n",
      "Error processing A process in the process pool was terminated abruptly while the future was running or pending.\n",
      "Error processing A process in the process pool was terminated abruptly while the future was running or pending.\n",
      "Error processing A process in the process pool was terminated abruptly while the future was running or pending.\n",
      "Error processing A process in the process pool was terminated abruptly while the future was running or pending.\n",
      "Error processing A process in the process pool was terminated abruptly while the future was running or pending.\n",
      "Error processing A process in the process pool was terminated abruptly while the future was running or pending.\n",
      "Error processing A process in the process pool was terminated abruptly while the future was running or pending.\n",
      "Error processing A process in the process pool was terminated abruptly while the future was running or pending.\n",
      "Error processing A process in the process pool was terminated abruptly while the future was running or pending.\n",
      "Error processing A process in the process pool was terminated abruptly while the future was running or pending.\n",
      "Error processing A process in the process pool was terminated abruptly while the future was running or pending.\n",
      "Error processing A process in the process pool was terminated abruptly while the future was running or pending.\n",
      "Error processing A process in the process pool was terminated abruptly while the future was running or pending.\n",
      "Error processing A process in the process pool was terminated abruptly while the future was running or pending.\n",
      "Error processing A process in the process pool was terminated abruptly while the future was running or pending.\n",
      "Error processing A process in the process pool was terminated abruptly while the future was running or pending.\n",
      "Error processing A process in the process pool was terminated abruptly while the future was running or pending.\n",
      "Error processing A process in the process pool was terminated abruptly while the future was running or pending.\n",
      "Error processing A process in the process pool was terminated abruptly while the future was running or pending.\n",
      "Error processing A process in the process pool was terminated abruptly while the future was running or pending.\n",
      "Error processing A process in the process pool was terminated abruptly while the future was running or pending.\n",
      "Error processing A process in the process pool was terminated abruptly while the future was running or pending.\n",
      "Error processing A process in the process pool was terminated abruptly while the future was running or pending.\n",
      "Error processing A process in the process pool was terminated abruptly while the future was running or pending.\n",
      "Error processing A process in the process pool was terminated abruptly while the future was running or pending.\n",
      "Error processing A process in the process pool was terminated abruptly while the future was running or pending.\n",
      "Error processing A process in the process pool was terminated abruptly while the future was running or pending.\n",
      "Error processing A process in the process pool was terminated abruptly while the future was running or pending.\n",
      "Error processing A process in the process pool was terminated abruptly while the future was running or pending.\n",
      "Error processing A process in the process pool was terminated abruptly while the future was running or pending.\n",
      "Error processing A process in the process pool was terminated abruptly while the future was running or pending.\n",
      "Error processing A process in the process pool was terminated abruptly while the future was running or pending.\n",
      "Error processing A process in the process pool was terminated abruptly while the future was running or pending.\n",
      "Error processing A process in the process pool was terminated abruptly while the future was running or pending.\n",
      "Error processing A process in the process pool was terminated abruptly while the future was running or pending.\n",
      "Error processing A process in the process pool was terminated abruptly while the future was running or pending.\n",
      "Error processing A process in the process pool was terminated abruptly while the future was running or pending.\n",
      "Error processing A process in the process pool was terminated abruptly while the future was running or pending.\n",
      "Error processing A process in the process pool was terminated abruptly while the future was running or pending.\n",
      "Error processing A process in the process pool was terminated abruptly while the future was running or pending.\n",
      "Error processing A process in the process pool was terminated abruptly while the future was running or pending.\n",
      "Error processing A process in the process pool was terminated abruptly while the future was running or pending.\n",
      "Error processing A process in the process pool was terminated abruptly while the future was running or pending.\n",
      "Error processing A process in the process pool was terminated abruptly while the future was running or pending.\n",
      "Error processing A process in the process pool was terminated abruptly while the future was running or pending.\n",
      "Error processing A process in the process pool was terminated abruptly while the future was running or pending.\n",
      "Error processing A process in the process pool was terminated abruptly while the future was running or pending.\n",
      "Error processing A process in the process pool was terminated abruptly while the future was running or pending.\n",
      "Error processing A process in the process pool was terminated abruptly while the future was running or pending.\n",
      "Error processing A process in the process pool was terminated abruptly while the future was running or pending.\n",
      "Error processing A process in the process pool was terminated abruptly while the future was running or pending.\n",
      "Error processing A process in the process pool was terminated abruptly while the future was running or pending.\n",
      "Error processing A process in the process pool was terminated abruptly while the future was running or pending.\n",
      "Error processing A process in the process pool was terminated abruptly while the future was running or pending.\n",
      "Error processing A process in the process pool was terminated abruptly while the future was running or pending.\n",
      "Error processing A process in the process pool was terminated abruptly while the future was running or pending.\n",
      "Error processing A process in the process pool was terminated abruptly while the future was running or pending.\n",
      "Error processing A process in the process pool was terminated abruptly while the future was running or pending.\n",
      "Error processing A process in the process pool was terminated abruptly while the future was running or pending.\n",
      "Error processing A process in the process pool was terminated abruptly while the future was running or pending.\n",
      "Error processing A process in the process pool was terminated abruptly while the future was running or pending.\n",
      "Error processing A process in the process pool was terminated abruptly while the future was running or pending.\n",
      "Error processing A process in the process pool was terminated abruptly while the future was running or pending.\n",
      "Error processing A process in the process pool was terminated abruptly while the future was running or pending.\n",
      "Error processing A process in the process pool was terminated abruptly while the future was running or pending.\n",
      "Error processing A process in the process pool was terminated abruptly while the future was running or pending.\n",
      "Error processing A process in the process pool was terminated abruptly while the future was running or pending.\n",
      "Error processing A process in the process pool was terminated abruptly while the future was running or pending.\n",
      "Error processing A process in the process pool was terminated abruptly while the future was running or pending.\n",
      "Error processing A process in the process pool was terminated abruptly while the future was running or pending.\n",
      "Error processing A process in the process pool was terminated abruptly while the future was running or pending.\n",
      "Error processing A process in the process pool was terminated abruptly while the future was running or pending.\n",
      "Error processing A process in the process pool was terminated abruptly while the future was running or pending.\n",
      "Error processing A process in the process pool was terminated abruptly while the future was running or pending.\n",
      "Error processing A process in the process pool was terminated abruptly while the future was running or pending.\n",
      "Error processing A process in the process pool was terminated abruptly while the future was running or pending.\n"
     ]
    },
    {
     "ename": "KeyboardInterrupt",
     "evalue": "",
     "output_type": "error",
     "traceback": [
      "\u001b[0;31m---------------------------------------------------------------------------\u001b[0m",
      "\u001b[0;31mKeyboardInterrupt\u001b[0m                         Traceback (most recent call last)",
      "Cell \u001b[0;32mIn[8], line 77\u001b[0m\n\u001b[1;32m     75\u001b[0m \u001b[38;5;28;01mif\u001b[39;00m correction_method \u001b[38;5;241m!=\u001b[39m \u001b[38;5;124m'\u001b[39m\u001b[38;5;124mraw\u001b[39m\u001b[38;5;124m'\u001b[39m:\n\u001b[1;32m     76\u001b[0m     ad\u001b[38;5;241m.\u001b[39mobs[labels_key] \u001b[38;5;241m=\u001b[39m ads[\u001b[38;5;124m'\u001b[39m\u001b[38;5;124mraw\u001b[39m\u001b[38;5;124m'\u001b[39m][k]\u001b[38;5;241m.\u001b[39mobs[labels_key]\n\u001b[0;32m---> 77\u001b[0m     ad \u001b[38;5;241m=\u001b[39m \u001b[43mad\u001b[49m\u001b[43m[\u001b[49m\u001b[43m[\u001b[49m\u001b[43mc\u001b[49m\u001b[43m \u001b[49m\u001b[38;5;28;43;01mfor\u001b[39;49;00m\u001b[43m \u001b[49m\u001b[43mc\u001b[49m\u001b[43m \u001b[49m\u001b[38;5;129;43;01min\u001b[39;49;00m\u001b[43m \u001b[49m\u001b[43mads\u001b[49m\u001b[43m[\u001b[49m\u001b[38;5;124;43m'\u001b[39;49m\u001b[38;5;124;43mraw\u001b[39;49m\u001b[38;5;124;43m'\u001b[39;49m\u001b[43m]\u001b[49m\u001b[43m[\u001b[49m\u001b[43mk\u001b[49m\u001b[43m]\u001b[49m\u001b[38;5;241;43m.\u001b[39;49m\u001b[43mobs_names\u001b[49m\u001b[43m \u001b[49m\u001b[38;5;28;43;01mif\u001b[39;49;00m\u001b[43m \u001b[49m\u001b[43mc\u001b[49m\u001b[43m \u001b[49m\u001b[38;5;129;43;01min\u001b[39;49;00m\u001b[43m \u001b[49m\u001b[43mad\u001b[49m\u001b[38;5;241;43m.\u001b[39;49m\u001b[43mobs_names\u001b[49m\u001b[43m]\u001b[49m\u001b[43m]\u001b[49m\n\u001b[1;32m     78\u001b[0m     ads[correction_method][k] \u001b[38;5;241m=\u001b[39m ad\n",
      "File \u001b[0;32m/work/PRTNR/CHUV/DIR/rgottar1/spatial/env/jbac/miniforge3/envs/spatial/lib/python3.11/site-packages/anndata/_core/anndata.py:1023\u001b[0m, in \u001b[0;36mAnnData.__getitem__\u001b[0;34m(self, index)\u001b[0m\n\u001b[1;32m   1021\u001b[0m \u001b[38;5;250m\u001b[39m\u001b[38;5;124;03m\"\"\"Returns a sliced view of the object.\"\"\"\u001b[39;00m\n\u001b[1;32m   1022\u001b[0m oidx, vidx \u001b[38;5;241m=\u001b[39m \u001b[38;5;28mself\u001b[39m\u001b[38;5;241m.\u001b[39m_normalize_indices(index)\n\u001b[0;32m-> 1023\u001b[0m \u001b[38;5;28;01mreturn\u001b[39;00m \u001b[43mAnnData\u001b[49m\u001b[43m(\u001b[49m\u001b[38;5;28;43mself\u001b[39;49m\u001b[43m,\u001b[49m\u001b[43m \u001b[49m\u001b[43moidx\u001b[49m\u001b[38;5;241;43m=\u001b[39;49m\u001b[43moidx\u001b[49m\u001b[43m,\u001b[49m\u001b[43m \u001b[49m\u001b[43mvidx\u001b[49m\u001b[38;5;241;43m=\u001b[39;49m\u001b[43mvidx\u001b[49m\u001b[43m,\u001b[49m\u001b[43m \u001b[49m\u001b[43masview\u001b[49m\u001b[38;5;241;43m=\u001b[39;49m\u001b[38;5;28;43;01mTrue\u001b[39;49;00m\u001b[43m)\u001b[49m\n",
      "File \u001b[0;32m/work/PRTNR/CHUV/DIR/rgottar1/spatial/env/jbac/miniforge3/envs/spatial/lib/python3.11/site-packages/anndata/_core/anndata.py:250\u001b[0m, in \u001b[0;36mAnnData.__init__\u001b[0;34m(self, X, obs, var, uns, obsm, varm, layers, raw, dtype, shape, filename, filemode, asview, obsp, varp, oidx, vidx)\u001b[0m\n\u001b[1;32m    248\u001b[0m     \u001b[38;5;28;01mif\u001b[39;00m \u001b[38;5;129;01mnot\u001b[39;00m \u001b[38;5;28misinstance\u001b[39m(X, AnnData):\n\u001b[1;32m    249\u001b[0m         \u001b[38;5;28;01mraise\u001b[39;00m \u001b[38;5;167;01mValueError\u001b[39;00m(\u001b[38;5;124m\"\u001b[39m\u001b[38;5;124m`X` has to be an AnnData object.\u001b[39m\u001b[38;5;124m\"\u001b[39m)\n\u001b[0;32m--> 250\u001b[0m     \u001b[38;5;28;43mself\u001b[39;49m\u001b[38;5;241;43m.\u001b[39;49m\u001b[43m_init_as_view\u001b[49m\u001b[43m(\u001b[49m\u001b[43mX\u001b[49m\u001b[43m,\u001b[49m\u001b[43m \u001b[49m\u001b[43moidx\u001b[49m\u001b[43m,\u001b[49m\u001b[43m \u001b[49m\u001b[43mvidx\u001b[49m\u001b[43m)\u001b[49m\n\u001b[1;32m    251\u001b[0m \u001b[38;5;28;01melse\u001b[39;00m:\n\u001b[1;32m    252\u001b[0m     \u001b[38;5;28mself\u001b[39m\u001b[38;5;241m.\u001b[39m_init_as_actual(\n\u001b[1;32m    253\u001b[0m         X\u001b[38;5;241m=\u001b[39mX,\n\u001b[1;32m    254\u001b[0m         obs\u001b[38;5;241m=\u001b[39mobs,\n\u001b[0;32m   (...)\u001b[0m\n\u001b[1;32m    266\u001b[0m         filemode\u001b[38;5;241m=\u001b[39mfilemode,\n\u001b[1;32m    267\u001b[0m     )\n",
      "File \u001b[0;32m/work/PRTNR/CHUV/DIR/rgottar1/spatial/env/jbac/miniforge3/envs/spatial/lib/python3.11/site-packages/anndata/_core/anndata.py:297\u001b[0m, in \u001b[0;36mAnnData._init_as_view\u001b[0;34m(self, adata_ref, oidx, vidx)\u001b[0m\n\u001b[1;32m    295\u001b[0m \u001b[38;5;28mself\u001b[39m\u001b[38;5;241m.\u001b[39mfile \u001b[38;5;241m=\u001b[39m adata_ref\u001b[38;5;241m.\u001b[39mfile\n\u001b[1;32m    296\u001b[0m \u001b[38;5;66;03m# views on attributes of adata_ref\u001b[39;00m\n\u001b[0;32m--> 297\u001b[0m obs_sub \u001b[38;5;241m=\u001b[39m \u001b[43madata_ref\u001b[49m\u001b[38;5;241;43m.\u001b[39;49m\u001b[43mobs\u001b[49m\u001b[38;5;241;43m.\u001b[39;49m\u001b[43miloc\u001b[49m\u001b[43m[\u001b[49m\u001b[43moidx\u001b[49m\u001b[43m]\u001b[49m\n\u001b[1;32m    298\u001b[0m var_sub \u001b[38;5;241m=\u001b[39m adata_ref\u001b[38;5;241m.\u001b[39mvar\u001b[38;5;241m.\u001b[39miloc[vidx]\n\u001b[1;32m    299\u001b[0m \u001b[38;5;66;03m# fix categories\u001b[39;00m\n",
      "File \u001b[0;32m/work/PRTNR/CHUV/DIR/rgottar1/spatial/env/jbac/miniforge3/envs/spatial/lib/python3.11/site-packages/pandas/core/indexing.py:1191\u001b[0m, in \u001b[0;36m_LocationIndexer.__getitem__\u001b[0;34m(self, key)\u001b[0m\n\u001b[1;32m   1189\u001b[0m maybe_callable \u001b[38;5;241m=\u001b[39m com\u001b[38;5;241m.\u001b[39mapply_if_callable(key, \u001b[38;5;28mself\u001b[39m\u001b[38;5;241m.\u001b[39mobj)\n\u001b[1;32m   1190\u001b[0m maybe_callable \u001b[38;5;241m=\u001b[39m \u001b[38;5;28mself\u001b[39m\u001b[38;5;241m.\u001b[39m_check_deprecated_callable_usage(key, maybe_callable)\n\u001b[0;32m-> 1191\u001b[0m \u001b[38;5;28;01mreturn\u001b[39;00m \u001b[38;5;28;43mself\u001b[39;49m\u001b[38;5;241;43m.\u001b[39;49m\u001b[43m_getitem_axis\u001b[49m\u001b[43m(\u001b[49m\u001b[43mmaybe_callable\u001b[49m\u001b[43m,\u001b[49m\u001b[43m \u001b[49m\u001b[43maxis\u001b[49m\u001b[38;5;241;43m=\u001b[39;49m\u001b[43maxis\u001b[49m\u001b[43m)\u001b[49m\n",
      "File \u001b[0;32m/work/PRTNR/CHUV/DIR/rgottar1/spatial/env/jbac/miniforge3/envs/spatial/lib/python3.11/site-packages/pandas/core/indexing.py:1743\u001b[0m, in \u001b[0;36m_iLocIndexer._getitem_axis\u001b[0;34m(self, key, axis)\u001b[0m\n\u001b[1;32m   1741\u001b[0m \u001b[38;5;66;03m# a list of integers\u001b[39;00m\n\u001b[1;32m   1742\u001b[0m \u001b[38;5;28;01melif\u001b[39;00m is_list_like_indexer(key):\n\u001b[0;32m-> 1743\u001b[0m     \u001b[38;5;28;01mreturn\u001b[39;00m \u001b[38;5;28;43mself\u001b[39;49m\u001b[38;5;241;43m.\u001b[39;49m\u001b[43m_get_list_axis\u001b[49m\u001b[43m(\u001b[49m\u001b[43mkey\u001b[49m\u001b[43m,\u001b[49m\u001b[43m \u001b[49m\u001b[43maxis\u001b[49m\u001b[38;5;241;43m=\u001b[39;49m\u001b[43maxis\u001b[49m\u001b[43m)\u001b[49m\n\u001b[1;32m   1745\u001b[0m \u001b[38;5;66;03m# a single integer\u001b[39;00m\n\u001b[1;32m   1746\u001b[0m \u001b[38;5;28;01melse\u001b[39;00m:\n\u001b[1;32m   1747\u001b[0m     key \u001b[38;5;241m=\u001b[39m item_from_zerodim(key)\n",
      "File \u001b[0;32m/work/PRTNR/CHUV/DIR/rgottar1/spatial/env/jbac/miniforge3/envs/spatial/lib/python3.11/site-packages/pandas/core/indexing.py:1714\u001b[0m, in \u001b[0;36m_iLocIndexer._get_list_axis\u001b[0;34m(self, key, axis)\u001b[0m\n\u001b[1;32m   1697\u001b[0m \u001b[38;5;250m\u001b[39m\u001b[38;5;124;03m\"\"\"\u001b[39;00m\n\u001b[1;32m   1698\u001b[0m \u001b[38;5;124;03mReturn Series values by list or array of integers.\u001b[39;00m\n\u001b[1;32m   1699\u001b[0m \n\u001b[0;32m   (...)\u001b[0m\n\u001b[1;32m   1711\u001b[0m \u001b[38;5;124;03m`axis` can only be zero.\u001b[39;00m\n\u001b[1;32m   1712\u001b[0m \u001b[38;5;124;03m\"\"\"\u001b[39;00m\n\u001b[1;32m   1713\u001b[0m \u001b[38;5;28;01mtry\u001b[39;00m:\n\u001b[0;32m-> 1714\u001b[0m     \u001b[38;5;28;01mreturn\u001b[39;00m \u001b[38;5;28;43mself\u001b[39;49m\u001b[38;5;241;43m.\u001b[39;49m\u001b[43mobj\u001b[49m\u001b[38;5;241;43m.\u001b[39;49m\u001b[43m_take_with_is_copy\u001b[49m\u001b[43m(\u001b[49m\u001b[43mkey\u001b[49m\u001b[43m,\u001b[49m\u001b[43m \u001b[49m\u001b[43maxis\u001b[49m\u001b[38;5;241;43m=\u001b[39;49m\u001b[43maxis\u001b[49m\u001b[43m)\u001b[49m\n\u001b[1;32m   1715\u001b[0m \u001b[38;5;28;01mexcept\u001b[39;00m \u001b[38;5;167;01mIndexError\u001b[39;00m \u001b[38;5;28;01mas\u001b[39;00m err:\n\u001b[1;32m   1716\u001b[0m     \u001b[38;5;66;03m# re-raise with different error message, e.g. test_getitem_ndarray_3d\u001b[39;00m\n\u001b[1;32m   1717\u001b[0m     \u001b[38;5;28;01mraise\u001b[39;00m \u001b[38;5;167;01mIndexError\u001b[39;00m(\u001b[38;5;124m\"\u001b[39m\u001b[38;5;124mpositional indexers are out-of-bounds\u001b[39m\u001b[38;5;124m\"\u001b[39m) \u001b[38;5;28;01mfrom\u001b[39;00m\u001b[38;5;250m \u001b[39m\u001b[38;5;21;01merr\u001b[39;00m\n",
      "File \u001b[0;32m/work/PRTNR/CHUV/DIR/rgottar1/spatial/env/jbac/miniforge3/envs/spatial/lib/python3.11/site-packages/pandas/core/generic.py:4155\u001b[0m, in \u001b[0;36mNDFrame._take_with_is_copy\u001b[0;34m(self, indices, axis)\u001b[0m\n\u001b[1;32m   4153\u001b[0m result \u001b[38;5;241m=\u001b[39m \u001b[38;5;28mself\u001b[39m\u001b[38;5;241m.\u001b[39mtake(indices\u001b[38;5;241m=\u001b[39mindices, axis\u001b[38;5;241m=\u001b[39maxis)\n\u001b[1;32m   4154\u001b[0m \u001b[38;5;66;03m# Maybe set copy if we didn't actually change the index.\u001b[39;00m\n\u001b[0;32m-> 4155\u001b[0m \u001b[38;5;28;01mif\u001b[39;00m \u001b[38;5;28mself\u001b[39m\u001b[38;5;241m.\u001b[39mndim \u001b[38;5;241m==\u001b[39m \u001b[38;5;241m2\u001b[39m \u001b[38;5;129;01mand\u001b[39;00m \u001b[38;5;129;01mnot\u001b[39;00m \u001b[43mresult\u001b[49m\u001b[38;5;241;43m.\u001b[39;49m\u001b[43m_get_axis\u001b[49m\u001b[43m(\u001b[49m\u001b[43maxis\u001b[49m\u001b[43m)\u001b[49m\u001b[38;5;241;43m.\u001b[39;49m\u001b[43mequals\u001b[49m\u001b[43m(\u001b[49m\u001b[38;5;28;43mself\u001b[39;49m\u001b[38;5;241;43m.\u001b[39;49m\u001b[43m_get_axis\u001b[49m\u001b[43m(\u001b[49m\u001b[43maxis\u001b[49m\u001b[43m)\u001b[49m\u001b[43m)\u001b[49m:\n\u001b[1;32m   4156\u001b[0m     result\u001b[38;5;241m.\u001b[39m_set_is_copy(\u001b[38;5;28mself\u001b[39m)\n\u001b[1;32m   4157\u001b[0m \u001b[38;5;28;01mreturn\u001b[39;00m result\n",
      "File \u001b[0;32m/work/PRTNR/CHUV/DIR/rgottar1/spatial/env/jbac/miniforge3/envs/spatial/lib/python3.11/site-packages/pandas/core/indexes/base.py:5649\u001b[0m, in \u001b[0;36mIndex.equals\u001b[0;34m(self, other)\u001b[0m\n\u001b[1;32m   5645\u001b[0m \u001b[38;5;28;01mif\u001b[39;00m \u001b[38;5;28misinstance\u001b[39m(other\u001b[38;5;241m.\u001b[39mdtype, ExtensionDtype):\n\u001b[1;32m   5646\u001b[0m     \u001b[38;5;66;03m# All EA-backed Index subclasses override equals\u001b[39;00m\n\u001b[1;32m   5647\u001b[0m     \u001b[38;5;28;01mreturn\u001b[39;00m other\u001b[38;5;241m.\u001b[39mequals(\u001b[38;5;28mself\u001b[39m)\n\u001b[0;32m-> 5649\u001b[0m \u001b[38;5;28;01mreturn\u001b[39;00m \u001b[43marray_equivalent\u001b[49m\u001b[43m(\u001b[49m\u001b[38;5;28;43mself\u001b[39;49m\u001b[38;5;241;43m.\u001b[39;49m\u001b[43m_values\u001b[49m\u001b[43m,\u001b[49m\u001b[43m \u001b[49m\u001b[43mother\u001b[49m\u001b[38;5;241;43m.\u001b[39;49m\u001b[43m_values\u001b[49m\u001b[43m)\u001b[49m\n",
      "File \u001b[0;32m/work/PRTNR/CHUV/DIR/rgottar1/spatial/env/jbac/miniforge3/envs/spatial/lib/python3.11/site-packages/pandas/core/dtypes/missing.py:531\u001b[0m, in \u001b[0;36marray_equivalent\u001b[0;34m(left, right, strict_nan, dtype_equal)\u001b[0m\n\u001b[1;32m    525\u001b[0m \u001b[38;5;66;03m# Slow path when we allow comparing different dtypes.\u001b[39;00m\n\u001b[1;32m    526\u001b[0m \u001b[38;5;66;03m# Object arrays can contain None, NaN and NaT.\u001b[39;00m\n\u001b[1;32m    527\u001b[0m \u001b[38;5;66;03m# string dtypes must be come to this path for NumPy 1.7.1 compat\u001b[39;00m\n\u001b[1;32m    528\u001b[0m \u001b[38;5;28;01mif\u001b[39;00m left\u001b[38;5;241m.\u001b[39mdtype\u001b[38;5;241m.\u001b[39mkind \u001b[38;5;129;01min\u001b[39;00m \u001b[38;5;124m\"\u001b[39m\u001b[38;5;124mOSU\u001b[39m\u001b[38;5;124m\"\u001b[39m \u001b[38;5;129;01mor\u001b[39;00m right\u001b[38;5;241m.\u001b[39mdtype\u001b[38;5;241m.\u001b[39mkind \u001b[38;5;129;01min\u001b[39;00m \u001b[38;5;124m\"\u001b[39m\u001b[38;5;124mOSU\u001b[39m\u001b[38;5;124m\"\u001b[39m:\n\u001b[1;32m    529\u001b[0m     \u001b[38;5;66;03m# Note: `in \"OSU\"` is non-trivially faster than `in [\"O\", \"S\", \"U\"]`\u001b[39;00m\n\u001b[1;32m    530\u001b[0m     \u001b[38;5;66;03m#  or `in (\"O\", \"S\", \"U\")`\u001b[39;00m\n\u001b[0;32m--> 531\u001b[0m     \u001b[38;5;28;01mreturn\u001b[39;00m \u001b[43m_array_equivalent_object\u001b[49m\u001b[43m(\u001b[49m\u001b[43mleft\u001b[49m\u001b[43m,\u001b[49m\u001b[43m \u001b[49m\u001b[43mright\u001b[49m\u001b[43m,\u001b[49m\u001b[43m \u001b[49m\u001b[43mstrict_nan\u001b[49m\u001b[43m)\u001b[49m\n\u001b[1;32m    533\u001b[0m \u001b[38;5;66;03m# NaNs can occur in float and complex arrays.\u001b[39;00m\n\u001b[1;32m    534\u001b[0m \u001b[38;5;28;01mif\u001b[39;00m left\u001b[38;5;241m.\u001b[39mdtype\u001b[38;5;241m.\u001b[39mkind \u001b[38;5;129;01min\u001b[39;00m \u001b[38;5;124m\"\u001b[39m\u001b[38;5;124mfc\u001b[39m\u001b[38;5;124m\"\u001b[39m:\n",
      "File \u001b[0;32m/work/PRTNR/CHUV/DIR/rgottar1/spatial/env/jbac/miniforge3/envs/spatial/lib/python3.11/site-packages/pandas/core/dtypes/missing.py:576\u001b[0m, in \u001b[0;36m_array_equivalent_object\u001b[0;34m(left, right, strict_nan)\u001b[0m\n\u001b[1;32m    574\u001b[0m \u001b[38;5;28;01mtry\u001b[39;00m:\n\u001b[1;32m    575\u001b[0m     \u001b[38;5;28;01mif\u001b[39;00m mask \u001b[38;5;129;01mis\u001b[39;00m \u001b[38;5;28;01mNone\u001b[39;00m:\n\u001b[0;32m--> 576\u001b[0m         \u001b[38;5;28;01mreturn\u001b[39;00m \u001b[43mlib\u001b[49m\u001b[38;5;241;43m.\u001b[39;49m\u001b[43marray_equivalent_object\u001b[49m\u001b[43m(\u001b[49m\u001b[43mleft\u001b[49m\u001b[43m,\u001b[49m\u001b[43m \u001b[49m\u001b[43mright\u001b[49m\u001b[43m)\u001b[49m\n\u001b[1;32m    577\u001b[0m     \u001b[38;5;28;01mif\u001b[39;00m \u001b[38;5;129;01mnot\u001b[39;00m lib\u001b[38;5;241m.\u001b[39marray_equivalent_object(left[\u001b[38;5;241m~\u001b[39mmask], right[\u001b[38;5;241m~\u001b[39mmask]):\n\u001b[1;32m    578\u001b[0m         \u001b[38;5;28;01mreturn\u001b[39;00m \u001b[38;5;28;01mFalse\u001b[39;00m\n",
      "\u001b[0;31mKeyboardInterrupt\u001b[0m: "
     ]
    }
   ],
   "source": [
    "xenium_paths = {}\n",
    "xenium_annot_paths = {}\n",
    "\n",
    "for correction_method in correction_methods:\n",
    "    xenium_paths[correction_method] = {}\n",
    "    xenium_annot_paths[correction_method] = {}\n",
    "    \n",
    "    for segmentation in (segmentations := xenium_std_seurat_analysis_dir.iterdir()):\n",
    "        if segmentation.stem == 'proseg_mode':\n",
    "            continue\n",
    "        for condition in (conditions := segmentation.iterdir()): \n",
    "            for panel in (panels := condition.iterdir()):\n",
    "                for donor in (donors := panel.iterdir()):\n",
    "                    for sample in (samples := donor.iterdir()):\n",
    "\n",
    "                        k = (segmentation.stem,condition.stem,panel.stem,donor.stem,sample.stem)\n",
    "                        name = '/'.join(k)\n",
    "\n",
    "                        # raw samples\n",
    "                        if 'proseg' in segmentation.stem:\n",
    "                            k_proseg = ('proseg',condition.stem,panel.stem,donor.stem,sample.stem)\n",
    "                            name_proseg = '/'.join(k_proseg)\n",
    "                            sample_dir = xenium_dir / f'{name_proseg}/raw_results'\n",
    "                        else:\n",
    "                            sample_dir = xenium_dir / f'{name}/normalised_results/outs'\n",
    "\n",
    "                        sample_annotation = xenium_cell_type_annotation_dir / f'{name}/{normalisation}/reference_based/{reference}/{method}/{level}/single_cell/labels.parquet'\n",
    "                        \n",
    "                        if correction_method == 'raw':\n",
    "                            xenium_paths[correction_method][k] = sample_dir\n",
    "                            xenium_annot_paths[correction_method][k] = sample_annotation\n",
    "                        \n",
    "                        # corrected samples\n",
    "                        else:\n",
    "                            if correction_method == \"split_fully_purified\":\n",
    "                                name_corrected = f'{name}/{normalisation}/reference_based/{reference}/{method}/{level}/single_cell/split_fully_purified/'\n",
    "                                sample_corrected_counts_path = xenium_count_correction_dir / f\"{name_corrected}/corrected_counts.h5\"\n",
    "\n",
    "                            else:\n",
    "                                if correction_method == \"resolvi\":\n",
    "                                    name_corrected = f'{name}/{mixture_k=}/{num_samples=}/'\n",
    "                                elif correction_method == \"resolvi_supervised\":\n",
    "                                    name_corrected = f'{name}/{normalisation}/reference_based/{reference}/{method}/{level}/{mixture_k=}/{num_samples=}'\n",
    "                                elif \"ovrlpy\" in correction_method:\n",
    "                                    name_corrected = f'{name}'\n",
    "\n",
    "                                sample_corrected_counts_path = results_dir / f\"{correction_method}/{name_corrected}/corrected_counts.h5\"\n",
    "                            sample_normalised_counts = xenium_std_seurat_analysis_dir / f'{name}/{normalisation}/normalised_counts/{layer}.parquet'\n",
    "                            sample_idx = xenium_std_seurat_analysis_dir / f'{name}/{normalisation}/normalised_counts/cells.parquet'\n",
    "\n",
    "                            xenium_paths[correction_method][k] = sample_corrected_counts_path\n",
    "\n",
    "\n",
    "ads = readwrite.read_count_correction_samples(xenium_paths,correction_methods[1:])\n",
    "ads['raw'] = readwrite.read_xenium_samples(xenium_paths['raw'],anndata=True,transcripts=False,max_workers=6)\n",
    "\n",
    "# fix obs names for proseg expected, load cell types\n",
    "# filter out cells without labels (this will apply QC thresholds as well since annotation is done after QC)\n",
    "for correction_method in correction_methods:\n",
    "    for k, ad in ads[correction_method].items():\n",
    "        if ad is not None and k in ads['raw']:\n",
    "\n",
    "            if correction_method == 'raw':\n",
    "                if k[0] == \"proseg_expected\": \n",
    "                    ad.obs_names = ad.obs_names.astype(str)\n",
    "                    ad.obs_names = \"proseg-\" + ad.obs_names\n",
    "\n",
    "                # filter cells and read labels for raw\n",
    "                ad.obs[labels_key] = (\n",
    "                    pd.read_parquet(xenium_annot_paths['raw'][k]).set_index(\"cell_id\").iloc[:, 0].astype(\"category\")\n",
    "                )\n",
    "                ads['raw'][k] = ad[ad.obs[labels_key].notna()]\n",
    "\n",
    "            # filter cells and add labels from raw\n",
    "            if correction_method != 'raw':\n",
    "                ad.obs[labels_key] = ads['raw'][k].obs[labels_key]\n",
    "                ad = ad[[c for c in ads['raw'][k].obs_names if c in ad.obs_names]]\n",
    "                ads[correction_method][k] = ad\n"
   ]
  },
  {
   "cell_type": "code",
   "execution_count": 6,
   "metadata": {},
   "outputs": [],
   "source": [
    "# def get_n_genes(adata):\n",
    "#     return (ad.X>0).sum(1).A1\n",
    "\n",
    "# process_count_correction_samples_out_of_core(xenium_paths, correction_methods, get_n_genes)"
   ]
  },
  {
   "cell_type": "markdown",
   "metadata": {},
   "source": [
    "# Load scRNA"
   ]
  },
  {
   "cell_type": "code",
   "execution_count": null,
   "metadata": {},
   "outputs": [],
   "source": [
    "layer = 'RNA_counts'\n",
    "genes = {}\n",
    "genes['NSCLC'] = pd.read_csv('/work/PRTNR/CHUV/DIR/rgottar1/spatial/env/xenium_paper/data/markers/Xenium_hLung_v1_metadata.csv')['Gene'].tolist()\n",
    "genes['breast'] = pd.read_csv('/work/PRTNR/CHUV/DIR/rgottar1/spatial/env/xenium_paper/data/markers/Xenium_hLung_v1_metadata.csv')['Gene'].tolist()\n",
    "\n",
    "ads_scrna = {}\n",
    "for ref in (refs := scrnaseq_processed_data_dir.iterdir()):\n",
    "    ref_name = ref.stem\n",
    "    ref_dir = seurat_to_h5_dir / ref_name\n",
    "\n",
    "    if 'matched_combo_standard' not in ref_name:\n",
    "        continue\n",
    "\n",
    "    print(ref_name)\n",
    "\n",
    "    ad = sc.read_10x_h5(ref_dir / f\"{layer}.h5\")\n",
    "    ad.obs[level] = pd.read_parquet(ref_dir / \"metadata.parquet\").set_index(\"cell_id\")[level]\n",
    "    ad.obs.loc[ad.obs[level].str.contains(\"malignant\"),level] = \"malignant cell\"\n",
    "    ads_scrna[ref_name] = ad[ad.obs[level].notna()]\n",
    "\n",
    "ads_scrna['NSCLC'] = ads_scrna.pop('matched_combo_standard_breast_specific')\n",
    "ads_scrna['breast'] = ads_scrna.pop('matched_combo_standard_lung_specific')"
   ]
  },
  {
   "cell_type": "markdown",
   "metadata": {},
   "source": [
    "# Plot decontamination results diffexpr"
   ]
  },
  {
   "cell_type": "code",
   "execution_count": null,
   "metadata": {},
   "outputs": [],
   "source": [
    "count_correction_method = correction_methods[1]\n",
    "\n",
    "cti = 'T cell'\n",
    "ctj = 'malignant cell'\n",
    "\n",
    "palette = pd.read_csv(segmentation_palette, index_col=0).iloc[:, 0]\n",
    "\n",
    "for rank_metric in rank_metrics:\n",
    "    for plot_metric in plot_metrics:\n",
    "\n",
    "        # extract df for rank_metric used for diffexpr and plot_metric used for GSEA/hypergeometric test\n",
    "        df = pd.concat({k: v.loc[rank_metric,v.columns.get_level_values(2)==plot_metric] \n",
    "                            for k, v in df_markers_rank_significance_diffexpr[count_correction_method].items()}).reset_index()\n",
    "        df.columns = xenium_levels + [\"cti\",\"ctj\"] + df.columns[len(xenium_levels)+2 :-1].tolist() + [plot_metric]\n",
    "        df = df.query(\"cti == @cti and ctj == @ctj\")\n",
    "\n",
    "        if plot_metric == 'hypergeometric_pvalue':\n",
    "            df['-log10pvalue'] = -np.log10(df[plot_metric].astype(float))\n",
    "            plot_metric = '-log10pvalue'\n",
    "\n",
    "        # plotting params, palette\n",
    "        title = f\"Reference: {reference}, Method: {method}, Level: {level} \\n{cti} contaminated by {ctj}\\n rank metric: {rank_metric}, plot metric: {plot_metric}\"\n",
    "        unique_labels = [c for c in hue_segmentation_order if c in np.unique(df[hue_segmentation].dropna())]\n",
    "        unique_labels = unique_labels + [c for c in np.unique(df[hue_segmentation].dropna()) if c not in unique_labels]\n",
    "        palette = {u: palette[u] for u in unique_labels}\n",
    "        legend_handles = [mpatches.Patch(color=color, label=label) for label, color in palette.items()]\n",
    "\n",
    "        sns.set(style=\"ticks\")\n",
    "\n",
    "        ### hypergeometric pvalue boxplot\n",
    "        f = plt.figure(figsize=(6, 4))\n",
    "        ax = plt.subplot()\n",
    "        g = sns.boxplot(df,x='panel',y=plot_metric, \n",
    "                        hue=hue_segmentation, hue_order=unique_labels, order = order,\n",
    "                        legend = False, palette=palette,ax=ax\n",
    "                        )\n",
    "        if plot_metric == '-log10pvalue':\n",
    "            plt.ylabel(r'$-\\log_{10} \\text{ p-value}$')\n",
    "        sns.despine(offset=10, trim=True)\n",
    "        ax.yaxis.grid(True)\n",
    "\n",
    "        plt.suptitle(title)\n",
    "        f.legend(\n",
    "            handles=legend_handles,\n",
    "            loc=\"center left\",\n",
    "            bbox_to_anchor=(1, 0.5),\n",
    "            title=hue_segmentation,\n",
    "            frameon=False,\n",
    "        )\n",
    "        plt.tight_layout(rect=[0, 0, 1, 0.95])\n",
    "        # plt.savefig(out_file, dpi=dpi, bbox_inches=\"tight\")\n",
    "        plt.show()\n"
   ]
  },
  {
   "cell_type": "code",
   "execution_count": null,
   "metadata": {},
   "outputs": [],
   "source": [
    "count_correction_method = correction_methods[0]\n",
    "\n",
    "cti = 'T cell'\n",
    "ctj = 'malignant cell'\n",
    "\n",
    "palette = pd.read_csv(segmentation_palette, index_col=0).iloc[:, 0]\n",
    "\n",
    "for rank_metric in rank_metrics:\n",
    "    for plot_metric in plot_metrics:\n",
    "\n",
    "        # extract df for rank_metric used for diffexpr and plot_metric used for GSEA/hypergeometric test\n",
    "        df = pd.concat({k: v.loc[rank_metric,v.columns.get_level_values(2)==plot_metric] \n",
    "                            for k, v in df_markers_rank_significance_diffexpr[count_correction_method].items()}).reset_index()\n",
    "        df.columns = xenium_levels + [\"cti\",\"ctj\"] + df.columns[len(xenium_levels)+2 :-1].tolist() + [plot_metric]\n",
    "        df = df.query(\"cti == @cti and ctj == @ctj\")\n",
    "\n",
    "        if plot_metric == 'hypergeometric_pvalue':\n",
    "            df['-log10pvalue'] = -np.log10(df[plot_metric].astype(float))\n",
    "            plot_metric = '-log10pvalue'\n",
    "\n",
    "        # plotting params, palette\n",
    "        title = f\"Reference: {reference}, Method: {method}, Level: {level} \\n{cti} contaminated by {ctj}\\n rank metric: {rank_metric}, plot metric: {plot_metric}\"\n",
    "        unique_labels = [c for c in hue_segmentation_order if c in np.unique(df[hue_segmentation].dropna())]\n",
    "        unique_labels = unique_labels + [c for c in np.unique(df[hue_segmentation].dropna()) if c not in unique_labels]\n",
    "        palette = {u: palette[u] for u in unique_labels}\n",
    "        legend_handles = [mpatches.Patch(color=color, label=label) for label, color in palette.items()]\n",
    "\n",
    "        sns.set(style=\"ticks\")\n",
    "\n",
    "        ### hypergeometric pvalue boxplot\n",
    "        f = plt.figure(figsize=(6, 4))\n",
    "        ax = plt.subplot()\n",
    "        g = sns.boxplot(df,x='panel',y=plot_metric, \n",
    "                        hue=hue_segmentation, hue_order=unique_labels, order = order,\n",
    "                        legend = False, palette=palette,ax=ax\n",
    "                        )\n",
    "        if plot_metric == '-log10pvalue':\n",
    "            plt.ylabel(r'$-\\log_{10} \\text{ p-value}$')\n",
    "        sns.despine(offset=10, trim=True)\n",
    "        ax.yaxis.grid(True)\n",
    "\n",
    "        plt.suptitle(title)\n",
    "        f.legend(\n",
    "            handles=legend_handles,\n",
    "            loc=\"center left\",\n",
    "            bbox_to_anchor=(1, 0.5),\n",
    "            title=hue_segmentation,\n",
    "            frameon=False,\n",
    "        )\n",
    "        plt.tight_layout(rect=[0, 0, 1, 0.95])\n",
    "        # plt.savefig(out_file, dpi=dpi, bbox_inches=\"tight\")\n",
    "        plt.show()\n"
   ]
  },
  {
   "cell_type": "code",
   "execution_count": null,
   "metadata": {},
   "outputs": [],
   "source": [
    "ref_segmentation = '10x_5um'\n",
    "cti = 'T cell'\n",
    "ctj = 'malignant cell'\n",
    "\n",
    "palette = pd.read_csv(count_correction_palette, index_col=0).iloc[:, 0]\n",
    "\n",
    "for rank_metric in rank_metrics:\n",
    "    for plot_metric in plot_metrics:\n",
    "        df = pd.concat({(count_correction_method,*k): v.loc[rank_metric,v.columns.get_level_values(2)==plot_metric] \n",
    "                            for count_correction_method in correction_methods\n",
    "                            for k, v in df_markers_rank_significance_diffexpr[count_correction_method].items()\n",
    "                            }).reset_index()\n",
    "        df.columns = ['correction_method'] + xenium_levels + [\"cti\",\"ctj\"] + df.columns[len(xenium_levels)+3 :-1].tolist() + [plot_metric]\n",
    "\n",
    "        df['correction_method'] = df['correction_method'].replace({\n",
    "            'ovrlpy_correction_signal_integrity_threshold=0.5':'ovrlpy_0.5',\n",
    "            'ovrlpy_correction_signal_integrity_threshold=0.7':'ovrlpy_0.7'})\n",
    "\n",
    "        df = df.query(f\"segmentation == '{ref_segmentation}' and cti == @cti and ctj == @ctj\")\n",
    "\n",
    "        if plot_metric == 'hypergeometric_pvalue':\n",
    "            df['-log10pvalue'] = -np.log10(df[plot_metric].astype(float))\n",
    "            plot_metric = '-log10pvalue'\n",
    "\n",
    "        # plotting params, palette\n",
    "        title = f\"Segmentation: {ref_segmentation}, Reference: {reference}, Method: {method}, Level: {level} \\n{cti} contaminated by {ctj}\\n rank metric: {rank_metric}, plot metric: {plot_metric}\"\n",
    "        unique_labels = [c for c in hue_correction_order if c in np.unique(df[hue_correction].dropna())]\n",
    "        unique_labels = unique_labels + [c for c in np.unique(df[hue_correction].dropna()) if c not in unique_labels]\n",
    "        palette = {u: palette[u] for u in unique_labels}\n",
    "        legend_handles = [mpatches.Patch(color=color, label=label) for label, color in palette.items()]\n",
    "\n",
    "        ### hypergeometric pvalue boxplot\n",
    "        f = plt.figure(figsize=(6, 4))\n",
    "        ax = plt.subplot()\n",
    "        g = sns.boxplot(df,x='panel',y=plot_metric, \n",
    "                        hue=hue_correction, hue_order=unique_labels, \n",
    "                        legend=False, palette=palette,ax=ax,\n",
    "                        order=order\n",
    "                        )\n",
    "\n",
    "        sns.despine(offset=10, trim=True)\n",
    "        ax.yaxis.grid(True)\n",
    "\n",
    "        plt.suptitle(title,y=1.05)\n",
    "        f.legend(\n",
    "            handles=legend_handles,\n",
    "            loc=\"center left\",\n",
    "            bbox_to_anchor=(1, 0.5),\n",
    "            title=hue_correction,\n",
    "            frameon=False,\n",
    "        )\n",
    "        # plt.tight_layout(rect=[0, 0, 1, 0.95])\n",
    "        # plt.savefig(out_file, dpi=dpi, bbox_inches=\"tight\")\n",
    "        plt.show()"
   ]
  },
  {
   "cell_type": "code",
   "execution_count": null,
   "metadata": {},
   "outputs": [],
   "source": [
    "ref_panel = 'lung'\n",
    "cti = 'T cell'\n",
    "ctj = 'malignant cell'\n",
    "\n",
    "palette = pd.read_csv(count_correction_palette, index_col=0).iloc[:, 0]\n",
    "\n",
    "for rank_metric in rank_metrics:\n",
    "    for plot_metric in plot_metrics:\n",
    "        df = pd.concat({(count_correction_method,*k): v.loc[rank_metric,v.columns.get_level_values(2)==plot_metric] \n",
    "                            for count_correction_method in correction_methods\n",
    "                            for k, v in df_markers_rank_significance_diffexpr[count_correction_method].items()\n",
    "                            }).reset_index()\n",
    "        df.columns = ['correction_method'] + xenium_levels + [\"cti\",\"ctj\"] + df.columns[len(xenium_levels)+3 :-1].tolist() + [plot_metric]\n",
    "\n",
    "        df['correction_method'] = df['correction_method'].replace({\n",
    "            'ovrlpy_correction_signal_integrity_threshold=0.5':'ovrlpy_0.5',\n",
    "            'ovrlpy_correction_signal_integrity_threshold=0.7':'ovrlpy_0.7'})\n",
    "\n",
    "        df = df.query(f\"panel == '{ref_panel}' and cti == @cti and ctj == @ctj\")\n",
    "\n",
    "        if plot_metric == 'hypergeometric_pvalue':\n",
    "            df['-log10pvalue'] = -np.log10(df[plot_metric].astype(float))\n",
    "            plot_metric = '-log10pvalue'\n",
    "\n",
    "        # plotting params, palette\n",
    "        title = f\"Panel: {ref_panel}, Reference: {reference}, Method: {method}, Level: {level} \\n{cti} contaminated by {ctj}\\n rank metric: {rank_metric}, plot metric: {plot_metric}\"\n",
    "        unique_labels = [c for c in hue_correction_order if c in np.unique(df[hue_correction].dropna())]\n",
    "        unique_labels = unique_labels + [c for c in np.unique(df[hue_correction].dropna()) if c not in unique_labels]\n",
    "        palette = {u: palette[u] for u in unique_labels}\n",
    "        legend_handles = [mpatches.Patch(color=color, label=label) for label, color in palette.items()]\n",
    "\n",
    "        ### hypergeometric pvalue boxplot\n",
    "        f = plt.figure(figsize=(10, 4))\n",
    "        ax = plt.subplot()\n",
    "        g = sns.boxplot(df,x='segmentation',y=plot_metric, \n",
    "                        hue=hue_correction, hue_order=unique_labels, \n",
    "                        legend=False, palette=palette,ax=ax,\n",
    "                        order=[s for s in hue_segmentation_order if s in df['segmentation'].unique()]\n",
    "                        )\n",
    "\n",
    "        sns.despine(offset=10, trim=True)\n",
    "        ax.yaxis.grid(True)\n",
    "\n",
    "        plt.suptitle(title,y=1.05)\n",
    "        f.legend(\n",
    "            handles=legend_handles,\n",
    "            loc=\"center left\",\n",
    "            bbox_to_anchor=(1, 0.5),\n",
    "            title=hue_correction,\n",
    "            frameon=False,\n",
    "        )\n",
    "        # plt.tight_layout(rect=[0, 0, 1, 0.95])\n",
    "        # plt.savefig(out_file, dpi=dpi, bbox_inches=\"tight\")\n",
    "        plt.show()"
   ]
  },
  {
   "cell_type": "code",
   "execution_count": null,
   "metadata": {},
   "outputs": [],
   "source": [
    "ref_panel = '5k'\n",
    "cti = 'T cell'\n",
    "ctj = 'malignant cell'\n",
    "\n",
    "palette = pd.read_csv(count_correction_palette, index_col=0).iloc[:, 0]\n",
    "\n",
    "for rank_metric in rank_metrics:\n",
    "    for plot_metric in plot_metrics:\n",
    "        df = pd.concat({(count_correction_method,*k): v.loc[rank_metric,v.columns.get_level_values(2)==plot_metric] \n",
    "                            for count_correction_method in correction_methods\n",
    "                            for k, v in df_markers_rank_significance_diffexpr[count_correction_method].items()\n",
    "                            }).reset_index()\n",
    "        df.columns = ['correction_method'] + xenium_levels + [\"cti\",\"ctj\"] + df.columns[len(xenium_levels)+3 :-1].tolist() + [plot_metric]\n",
    "\n",
    "        df['correction_method'] = df['correction_method'].replace({\n",
    "            'ovrlpy_correction_signal_integrity_threshold=0.5':'ovrlpy_0.5',\n",
    "            'ovrlpy_correction_signal_integrity_threshold=0.7':'ovrlpy_0.7'})\n",
    "\n",
    "        df = df.query(f\"panel == '{ref_panel}' and cti == @cti and ctj == @ctj\")\n",
    "\n",
    "        if plot_metric == 'hypergeometric_pvalue':\n",
    "            df['-log10pvalue'] = -np.log10(df[plot_metric].astype(float))\n",
    "            plot_metric = '-log10pvalue'\n",
    "\n",
    "        # plotting params, palette\n",
    "        title = f\"Panel: {ref_panel}, Reference: {reference}, Method: {method}, Level: {level} \\n{cti} contaminated by {ctj}\\n rank metric: {rank_metric}, plot metric: {plot_metric}\"\n",
    "        unique_labels = [c for c in hue_correction_order if c in np.unique(df[hue_correction].dropna())]\n",
    "        unique_labels = unique_labels + [c for c in np.unique(df[hue_correction].dropna()) if c not in unique_labels]\n",
    "        palette = {u: palette[u] for u in unique_labels}\n",
    "        legend_handles = [mpatches.Patch(color=color, label=label) for label, color in palette.items()]\n",
    "\n",
    "        ### hypergeometric pvalue boxplot\n",
    "        f = plt.figure(figsize=(10, 4))\n",
    "        ax = plt.subplot()\n",
    "        g = sns.boxplot(df,x='segmentation',y=plot_metric, \n",
    "                        hue=hue_correction, hue_order=unique_labels, \n",
    "                        legend=False, palette=palette,ax=ax,\n",
    "                        order=[s for s in hue_segmentation_order if s in df['segmentation'].unique()]\n",
    "                        )\n",
    "\n",
    "        sns.despine(offset=10, trim=True)\n",
    "        ax.yaxis.grid(True)\n",
    "\n",
    "        plt.suptitle(title,y=1.05)\n",
    "        f.legend(\n",
    "            handles=legend_handles,\n",
    "            loc=\"center left\",\n",
    "            bbox_to_anchor=(1, 0.5),\n",
    "            title=hue_correction,\n",
    "            frameon=False,\n",
    "        )\n",
    "        # plt.tight_layout(rect=[0, 0, 1, 0.95])\n",
    "        # plt.savefig(out_file, dpi=dpi, bbox_inches=\"tight\")\n",
    "        plt.show()"
   ]
  },
  {
   "cell_type": "code",
   "execution_count": null,
   "metadata": {},
   "outputs": [],
   "source": [
    "ref_segmentation = '10x_5um'\n",
    "cti = 'T cell'\n",
    "ctj = 'malignant cell'\n",
    "\n",
    "for rank_metric in rank_metrics:\n",
    "    for plot_metric in plot_metrics:\n",
    "        # extract df for rank_metric used for diffexpr and plot_metric used for GSEA/hypergeometric test\n",
    "        df = pd.concat({(count_correction_method,*k): v.loc[rank_metric,v.columns.get_level_values(2)==plot_metric] \n",
    "                            for count_correction_method in correction_methods\n",
    "                            for k, v in df_markers_rank_significance_diffexpr[count_correction_method].items()\n",
    "                            }).reset_index()\n",
    "        df.columns = ['correction_method'] + xenium_levels + [\"cti\",\"ctj\"] + df.columns[len(xenium_levels)+3 :-1].tolist() + [plot_metric]\n",
    "        df[plot_metric] = df[plot_metric].astype(float)\n",
    "        \n",
    "        if plot_metric == 'hypergeometric_pvalue':\n",
    "            df['-log10pvalue'] = -np.log10(df[plot_metric])\n",
    "            plot_metric = '-log10pvalue'\n",
    "\n",
    "        u_condition_panel = df[['condition','panel']].drop_duplicates().values\n",
    "\n",
    "        for condition,panel in u_condition_panel:\n",
    "\n",
    "            df_plot = df.query(f\"segmentation == '{ref_segmentation}' and condition == '{condition}' and panel == '{panel}'\")\n",
    "            df_plot = df_plot.groupby(['cti', 'ctj'])[plot_metric].mean().unstack()\n",
    "            df_plot = df_plot.loc[df_plot.sum(1).sort_values(ascending=False).index]\n",
    "            df_plot = df_plot[df_plot.sum(0).sort_values(ascending=False).index]\n",
    "\n",
    "            title = f\"Reference: {reference}, Method: {method}, Level: {level} \\nrank metric: {rank_metric}, plot metric: {plot_metric}\"\n",
    "\n",
    "            f = plt.figure(figsize=(8,8))\n",
    "            ax = plt.subplot()\n",
    "            ax.set_title(title,fontsize=20)\n",
    "            g = sns.heatmap(df_plot,cmap='coolwarm',center=-np.log10(0.05) if plot_metric == '-log10pvalue' else 0.)\n",
    "            plt.show()"
   ]
  },
  {
   "cell_type": "markdown",
   "metadata": {},
   "source": [
    "# Plot number of genes"
   ]
  },
  {
   "cell_type": "code",
   "execution_count": null,
   "metadata": {},
   "outputs": [],
   "source": [
    "cti = 'T cell'\n",
    "\n",
    "df = get_mean_n_genes(ads, correction_methods, labels_key, columns = xenium_levels + ['correction_method','mean_n_genes'])\n",
    "\n",
    "df['correction_method'] = df['correction_method'].replace({\n",
    "    'ovrlpy_correction_signal_integrity_threshold=0.5':'ovrlpy_0.5',\n",
    "    'ovrlpy_correction_signal_integrity_threshold=0.7':'ovrlpy_0.7'})\n",
    "    \n",
    "# plotting params, palette\n",
    "title = f\"Mean number of genes for {cti=}\"\n",
    "unique_labels = [c for c in hue_correction_order if c in np.unique(df[hue_correction].dropna())]\n",
    "unique_labels = unique_labels + [c for c in np.unique(df[hue_correction].dropna()) if c not in unique_labels]\n",
    "# palette = {u: palette[u] for u in unique_labels}\n",
    "palette = dict(zip(unique_labels,sns.palettes.hls_palette(len(unique_labels))))\n",
    "legend_handles = [mpatches.Patch(color=color, label=label) for label, color in palette.items()]\n",
    "\n",
    "### hypergeometric pvalue boxplot\n",
    "f = plt.figure(figsize=(6, 6))\n",
    "ax = plt.subplot()\n",
    "g = sns.boxplot(df,x='panel',y='mean_n_genes', \n",
    "                hue=hue_correction, hue_order=unique_labels, \n",
    "                legend=False, palette=palette,ax=ax,\n",
    "                order=order\n",
    "                )\n",
    "\n",
    "sns.despine(offset=10, trim=True)\n",
    "ax.yaxis.grid(True)\n",
    "\n",
    "plt.suptitle(title)\n",
    "f.legend(\n",
    "    handles=legend_handles,\n",
    "    loc=\"center left\",\n",
    "    bbox_to_anchor=(1, 0.5),\n",
    "    title=hue_correction,\n",
    "    frameon=False,\n",
    ")\n",
    "# plt.tight_layout(rect=[0, 0, 1, 0.95])\n",
    "# plt.savefig(out_file, dpi=dpi, bbox_inches=\"tight\")\n",
    "plt.show()"
   ]
  },
  {
   "cell_type": "markdown",
   "metadata": {},
   "source": [
    "# Plot cell type identity score from markers"
   ]
  },
  {
   "cell_type": "code",
   "execution_count": null,
   "metadata": {},
   "outputs": [],
   "source": [
    "cti = 'T cell'\n",
    "ref_panel = 'lung'            \n",
    "\n",
    "# get cell identity score df\n",
    "df_markers = pd.read_csv(cfg['markers_dir']+'Xenium_panels_common_markers.csv',index_col=0)\n",
    "df = get_mean_cell_identity_score_markers(ads, df_markers, correction_methods, labels_key, columns = xenium_levels + ['correction_method','cti','mean_n_marker_genes'])\n",
    "\n",
    "df = df.query(f\"panel == '{ref_panel}' and cti == '{cti}'\")\n",
    "df['correction_method'] = df['correction_method'].replace({\n",
    "    'ovrlpy_correction_signal_integrity_threshold=0.5':'ovrlpy_0.5',\n",
    "    'ovrlpy_correction_signal_integrity_threshold=0.7':'ovrlpy_0.7'})\n",
    "    \n",
    "# plotting params, palette\n",
    "title = f\"Cell type identity score for {cti=}\"\n",
    "unique_labels = [c for c in hue_correction_order if c in np.unique(df[hue_correction].dropna())]\n",
    "unique_labels = unique_labels + [c for c in np.unique(df[hue_correction].dropna()) if c not in unique_labels]\n",
    "# palette = {u: palette[u] for u in unique_labels}\n",
    "palette = dict(zip(unique_labels,sns.palettes.hls_palette(len(unique_labels))))\n",
    "legend_handles = [mpatches.Patch(color=color, label=label) for label, color in palette.items()]\n",
    "\n",
    "### hypergeometric pvalue boxplot\n",
    "f = plt.figure(figsize=(10, 4))\n",
    "ax = plt.subplot()\n",
    "g = sns.boxplot(df,x='segmentation',y='mean_n_marker_genes', \n",
    "                hue=hue_correction, hue_order=unique_labels, \n",
    "                legend=False, palette=palette,ax=ax,\n",
    "                order=[s for s in hue_segmentation_order if s in df['segmentation'].unique()]\n",
    "                )\n",
    "\n",
    "sns.despine(offset=10, trim=True)\n",
    "ax.yaxis.grid(True)\n",
    "\n",
    "plt.suptitle(title)\n",
    "f.legend(\n",
    "    handles=legend_handles,\n",
    "    loc=\"center left\",\n",
    "    bbox_to_anchor=(1, 0.5),\n",
    "    title=hue_correction,\n",
    "    frameon=False,\n",
    ")\n",
    "# plt.tight_layout(rect=[0, 0, 1, 0.95])\n",
    "# plt.savefig(out_file, dpi=dpi, bbox_inches=\"tight\")\n",
    "plt.show()"
   ]
  },
  {
   "cell_type": "markdown",
   "metadata": {},
   "source": [
    "# Plot cell type identity score from scRNA correlation"
   ]
  },
  {
   "cell_type": "code",
   "execution_count": null,
   "metadata": {},
   "outputs": [],
   "source": [
    "columns = xenium_levels + ['correction_method','cti','cosine_distance']\n",
    "\n",
    "pbs_scrna = {}\n",
    "for k, ad in ads_scrna.items():\n",
    "    pbs_scrna[k] = {}\n",
    "\n",
    "    unique_ctis_scrna = ad.obs[labels_key].unique()\n",
    "    for cti in unique_ctis_scrna:\n",
    "        pb_cti_scrna = ad[ad.obs[labels_key] == cti].X.mean(0).A1\n",
    "        pbs_scrna[k][cti] = pd.Series(pb_cti_scrna,index=ad.var_names)\n",
    "    pbs_scrna[k] = pd.DataFrame(pbs_scrna[k])\n",
    "    \n",
    "data = []\n",
    "for correction_method in correction_methods:\n",
    "    for k, ad in ads[correction_method].items():\n",
    "        print(correction_method,k)\n",
    "        if ad is not None:\n",
    "            tissue = k[1]\n",
    "            pb_scrna = pbs_scrna[tissue]\n",
    "\n",
    "            # genes_tissue = genes[tissue]\n",
    "            genes_tissue = np.intersect1d(ad.var_names,pb_scrna.index)\n",
    "            unique_ctis = ad.obs[labels_key].unique()\n",
    "            for cti in unique_ctis:\n",
    "                if cti in pb_scrna:\n",
    "                    pb_cti = ad[ad.obs[labels_key] == cti,genes_tissue].X.mean(0).A1\n",
    "                \n",
    "                    dist = scipy.spatial.distance.cosine(pb_scrna[cti][genes_tissue], pb_cti)\n",
    "                    data.append((*k, correction_method, cti, dist))  # Append cell type to the data\n",
    "\n",
    "    #             break\n",
    "    #         break\n",
    "    #     break\n",
    "    # break\n",
    "\n",
    "# Create the DataFrame from the collected data\n",
    "df = pd.DataFrame(data, columns=columns)\n",
    "\n",
    "if columns is not None:\n",
    "    df.columns = columns"
   ]
  },
  {
   "cell_type": "code",
   "execution_count": null,
   "metadata": {},
   "outputs": [],
   "source": []
  },
  {
   "cell_type": "code",
   "execution_count": null,
   "metadata": {},
   "outputs": [],
   "source": [
    "cti = 'T cell'\n",
    "ref_panel = 'lung'        \n",
    "plot_metric = 'cosine_distance'    \n",
    "\n",
    "# get cell identity score df\n",
    "# df = get_mean_cell_identity_score_scrna(ads, df_markers, correction_methods, labels_key, columns = xenium_levels + ['correction_method','cti','mean_n_marker_genes'])\n",
    "\n",
    "df = df.query(f\"panel == '{ref_panel}' and cti == '{cti}'\")\n",
    "df['correction_method'] = df['correction_method'].replace({\n",
    "    'ovrlpy_correction_signal_integrity_threshold=0.5':'ovrlpy_0.5',\n",
    "    'ovrlpy_correction_signal_integrity_threshold=0.7':'ovrlpy_0.7'})\n",
    "    \n",
    "# plotting params, palette\n",
    "title = f\"Cell type identity score for {cti=}\"\n",
    "unique_labels = [c for c in hue_correction_order if c in np.unique(df[hue_correction].dropna())]\n",
    "unique_labels = unique_labels + [c for c in np.unique(df[hue_correction].dropna()) if c not in unique_labels]\n",
    "# palette = {u: palette[u] for u in unique_labels}\n",
    "palette = dict(zip(unique_labels,sns.palettes.hls_palette(len(unique_labels))))\n",
    "legend_handles = [mpatches.Patch(color=color, label=label) for label, color in palette.items()]\n",
    "\n",
    "### hypergeometric pvalue boxplot\n",
    "f = plt.figure(figsize=(10, 4))\n",
    "ax = plt.subplot()\n",
    "g = sns.boxplot(df,x='segmentation',y=plot_metric, \n",
    "                hue=hue_correction, hue_order=unique_labels, \n",
    "                legend=False, palette=palette,ax=ax,\n",
    "                order=[s for s in hue_segmentation_order if s in df['segmentation'].unique()]\n",
    "                )\n",
    "\n",
    "sns.despine(offset=10, trim=True)\n",
    "ax.yaxis.grid(True)\n",
    "\n",
    "plt.suptitle(title)\n",
    "f.legend(\n",
    "    handles=legend_handles,\n",
    "    loc=\"center left\",\n",
    "    bbox_to_anchor=(1, 0.5),\n",
    "    title=hue_correction,\n",
    "    frameon=False,\n",
    ")\n",
    "# plt.tight_layout(rect=[0, 0, 1, 0.95])\n",
    "# plt.savefig(out_file, dpi=dpi, bbox_inches=\"tight\")\n",
    "plt.show()"
   ]
  },
  {
   "cell_type": "code",
   "execution_count": null,
   "metadata": {},
   "outputs": [],
   "source": []
  },
  {
   "cell_type": "markdown",
   "metadata": {},
   "source": [
    "# Plot decontamination strength vs number of genes"
   ]
  },
  {
   "cell_type": "code",
   "execution_count": null,
   "metadata": {},
   "outputs": [],
   "source": [
    "# params\n",
    "ref_segmentation = '10x_5um'\n",
    "cti = 'T cell'\n",
    "ctj = 'malignant cell'\n",
    "\n",
    "# get n_genes df\n",
    "df_n_genes = get_mean_n_genes(ads, correction_methods, labels_key, columns = xenium_levels + ['correction_method','cti','mean_n_genes'])\n",
    "\n",
    "# get contamination df\n",
    "df_contamination = pd.concat({(count_correction_method,*k): v.loc[rank_metric,v.columns.get_level_values(2)==plot_metric] \n",
    "                    for count_correction_method in correction_methods\n",
    "                    for k, v in df_markers_rank_significance_diffexpr[count_correction_method].items()\n",
    "                    }).reset_index()\n",
    "df_contamination.columns = ['correction_method'] + xenium_levels + [\"cti\",\"ctj\"] + df_contamination.columns[len(xenium_levels)+3 :-1].tolist() + [plot_metric]\n",
    "\n",
    "# merge and filter for segmentation and cell type pair of interest (df_n_genes is only cti specific)\n",
    "df = pd.merge(df_n_genes,df_contamination,on=xenium_levels+['cti','correction_method'])\n",
    "df = df.query(f\"segmentation == '{ref_segmentation}' and cti == @cti and ctj == @ctj\")\n",
    "\n",
    "# shorten ovrlpy names\n",
    "df['correction_method'] = df['correction_method'].replace({\n",
    "    'ovrlpy_correction_signal_integrity_threshold=0.5':'ovrlpy_0.5',\n",
    "    'ovrlpy_correction_signal_integrity_threshold=0.7':'ovrlpy_0.7'})\n",
    "\n",
    "\n",
    "\n",
    "\n",
    "# Convert p-values to -log10 scale\n",
    "if plot_metric == 'hypergeometric_pvalue':\n",
    "    df['-log10pvalue'] = -np.log10(df[plot_metric].astype(float)) \n",
    "    plot_metric = '-log10pvalue'\n",
    "\n",
    "# Plot title\n",
    "title = (f\"Segmentation: {ref_segmentation}, Reference: {reference}, Method: {method}, Level: {level} \\n\"\n",
    "         f\"{cti} contaminated by {ctj}\\n Rank metric: {rank_metric}, Plot metric: {plot_metric}\")\n",
    "\n",
    "# Get unique labels for hue\n",
    "unique_labels = [c for c in hue_correction_order if c in np.unique(df[hue_correction].dropna())]\n",
    "unique_labels += [c for c in np.unique(df[hue_correction].dropna()) if c not in unique_labels]\n",
    "\n",
    "# Generate color palette\n",
    "palette = dict(zip(unique_labels, sns.color_palette(\"hls\", len(unique_labels))))\n",
    "\n",
    "# Create legend handles for colors\n",
    "legend_handles = [mpatches.Patch(color=color, label=label) for label, color in palette.items()]\n",
    "\n",
    "# Define FacetGrid with `panel` as row-wise separation\n",
    "g = sns.FacetGrid(df, col=\"panel\", col_wrap=2, height=5, sharex=True, sharey=True)\n",
    "\n",
    "# Add scatter plots to each facet\n",
    "g.map_dataframe(sns.scatterplot, x=\"mean_n_genes\", y=plot_metric, hue=hue_correction, palette=palette, s=100, alpha=0.6)\n",
    "\n",
    "# Adjust legend placement\n",
    "g.add_legend(title=hue_correction, frameon=False)\n",
    "\n",
    "# Set title\n",
    "plt.subplots_adjust(top=0.9)\n",
    "g.fig.suptitle(title)\n",
    "\n",
    "# Adjust layout\n",
    "plt.tight_layout(rect=[0, 0, .85, 0.95])\n",
    "\n",
    "# Show plot\n",
    "plt.show()\n"
   ]
  },
  {
   "cell_type": "markdown",
   "metadata": {},
   "source": [
    "# Plot cell type identity score vs number of genes"
   ]
  },
  {
   "cell_type": "code",
   "execution_count": null,
   "metadata": {},
   "outputs": [],
   "source": [
    "# params\n",
    "ref_segmentation = '10x_5um'\n",
    "cti = 'T cell'\n",
    "ctj = 'malignant cell'\n",
    "plot_metric = 'mean_n_marker_genes'\n",
    "\n",
    "# get n_genes df\n",
    "df_n_genes = _utils.get_mean_n_genes(ads, correction_methods, labels_key, columns = xenium_levels + ['correction_method','cti','mean_n_genes'])\n",
    "\n",
    "# get cell identity score df\n",
    "df_markers = pd.read_csv(cfg['markers_dir']+'Xenium_panels_common_markers.csv',index_col=0)\n",
    "df_cell_identity_score = _utils.get_mean_cell_identity_score_markers(ads, df_markers, correction_methods, labels_key, columns = xenium_levels + ['correction_method','cti','mean_n_marker_genes'])\n",
    "\n",
    "# merge and filter for segmentation and cell type pair of interest (df_cell_identity_score is only cti specific)\n",
    "df = pd.merge(df_n_genes,df_cell_identity_score,on=xenium_levels+['cti','correction_method'])\n",
    "df = df.query(f\"segmentation == '{ref_segmentation}' and cti == @cti\")\n",
    "\n",
    "# shorten ovrlpy names\n",
    "df['correction_method'] = df['correction_method'].replace({\n",
    "    'ovrlpy_correction_signal_integrity_threshold=0.5':'ovrlpy_0.5',\n",
    "    'ovrlpy_correction_signal_integrity_threshold=0.7':'ovrlpy_0.7'})\n",
    "\n",
    "\n",
    "\n",
    "# Convert p-values to -log10 scale\n",
    "if plot_metric == 'hypergeometric_pvalue':\n",
    "    df['-log10pvalue'] = -np.log10(df[plot_metric].astype(float))\n",
    "    plot_metric = '-log10pvalue'\n",
    "\n",
    "# Plot title\n",
    "title = (f\"Segmentation: {ref_segmentation}, Reference: {reference}, Method: {method}, Level: {level} \\n\"\n",
    "         f\"{cti} contaminated by {ctj}\\n\")\n",
    "\n",
    "# Get unique labels for hue\n",
    "unique_labels = [c for c in hue_correction_order if c in np.unique(df[hue_correction].dropna())]\n",
    "unique_labels += [c for c in np.unique(df[hue_correction].dropna()) if c not in unique_labels]\n",
    "\n",
    "# Generate color palette\n",
    "palette = dict(zip(unique_labels, sns.color_palette(\"hls\", len(unique_labels))))\n",
    "\n",
    "# Create legend handles for colors\n",
    "legend_handles = [mpatches.Patch(color=color, label=label) for label, color in palette.items()]\n",
    "\n",
    "# Define FacetGrid with `panel` as row-wise separation\n",
    "g = sns.FacetGrid(df, col=\"panel\", col_wrap=2, height=5, sharex=True, sharey=True)\n",
    "\n",
    "# Add scatter plots to each facet\n",
    "g.map_dataframe(sns.scatterplot, x=\"mean_n_genes\", y=plot_metric, hue=hue_correction, palette=palette, s=100, alpha=0.6)\n",
    "\n",
    "# Adjust legend placement\n",
    "g.add_legend(title=hue_correction, frameon=False)\n",
    "\n",
    "# Set title\n",
    "plt.subplots_adjust(top=0.9)\n",
    "g.fig.suptitle(title)\n",
    "\n",
    "# Adjust layout\n",
    "plt.tight_layout(rect=[0, 0, .85, 0.95])\n",
    "\n",
    "# Show plot\n",
    "plt.show()\n"
   ]
  },
  {
   "cell_type": "markdown",
   "metadata": {},
   "source": [
    "# Plot cell type identity score vs contamination score"
   ]
  },
  {
   "cell_type": "code",
   "execution_count": null,
   "metadata": {},
   "outputs": [],
   "source": [
    "# params\n",
    "ref_segmentation = '10x_5um'\n",
    "cti = 'T cell'\n",
    "ctj = 'malignant cell'\n",
    "plot_metric = plot_metrics[-1]\n",
    "\n",
    "# get cell identity score df\n",
    "df_markers = pd.read_csv(cfg['markers_dir']+'Xenium_panels_common_markers.csv',index_col=0)\n",
    "df_cell_identity_score = _utils.get_mean_cell_identity_score(ads, df_markers, correction_methods, labels_key, columns = xenium_levels + ['correction_method','cti','mean_n_marker_genes'])\n",
    "\n",
    "# get contamination df\n",
    "df_contamination = pd.concat({(count_correction_method,*k): v.loc[rank_metric,v.columns.get_level_values(2)==plot_metric] \n",
    "                    for count_correction_method in correction_methods\n",
    "                    for k, v in df_markers_rank_significance_diffexpr[count_correction_method].items()\n",
    "                    }).reset_index()\n",
    "df_contamination.columns = ['correction_method'] + xenium_levels + [\"cti\",\"ctj\"] + df_contamination.columns[len(xenium_levels)+3 :-1].tolist() + [plot_metric]\n",
    "\n",
    "# merge and filter for segmentation and cell type pair of interest (df_n_genes is only cti specific)\n",
    "df = pd.merge(df_cell_identity_score,df_contamination,on=xenium_levels+['cti','correction_method'])\n",
    "df = df.query(f\"segmentation == '{ref_segmentation}' and cti == @cti and ctj == @ctj\")\n",
    "\n",
    "\n",
    "# shorten ovrlpy names\n",
    "df['correction_method'] = df['correction_method'].replace({\n",
    "    'ovrlpy_correction_signal_integrity_threshold=0.5':'ovrlpy_0.5',\n",
    "    'ovrlpy_correction_signal_integrity_threshold=0.7':'ovrlpy_0.7'})\n",
    "\n",
    "\n",
    "\n",
    "# Convert p-values to -log10 scale\n",
    "if plot_metric == 'hypergeometric_pvalue':\n",
    "    df['-log10pvalue'] = -np.log10(df[plot_metric].astype(float))\n",
    "    plot_metric = '-log10pvalue'\n",
    "\n",
    "# Plot title\n",
    "title = (f\"Segmentation: {ref_segmentation}, Reference: {reference}, Method: {method}, Level: {level} \\n\"\n",
    "         f\"{cti} contaminated by {ctj}\\n\")\n",
    "\n",
    "# Get unique labels for hue\n",
    "unique_labels = [c for c in hue_correction_order if c in np.unique(df[hue_correction].dropna())]\n",
    "unique_labels += [c for c in np.unique(df[hue_correction].dropna()) if c not in unique_labels]\n",
    "\n",
    "# Generate color palette\n",
    "palette = dict(zip(unique_labels, sns.color_palette(\"hls\", len(unique_labels))))\n",
    "\n",
    "# Create legend handles for colors\n",
    "legend_handles = [mpatches.Patch(color=color, label=label) for label, color in palette.items()]\n",
    "\n",
    "# Define FacetGrid with `panel` as row-wise separation\n",
    "g = sns.FacetGrid(df, col=\"panel\", col_wrap=2, height=5, sharex=True, sharey=True)\n",
    "\n",
    "# Add scatter plots to each facet\n",
    "g.map_dataframe(sns.scatterplot, x=\"mean_n_marker_genes\", y=plot_metric, hue=hue_correction, palette=palette, s=100, alpha=0.6)\n",
    "\n",
    "# Adjust legend placement\n",
    "g.add_legend(title=hue_correction, frameon=False)\n",
    "\n",
    "# Set title\n",
    "plt.subplots_adjust(top=0.9)\n",
    "g.fig.suptitle(title)\n",
    "\n",
    "# Adjust layout\n",
    "plt.tight_layout(rect=[0, 0, .85, 0.95])\n",
    "\n",
    "# Show plot\n",
    "plt.show()\n"
   ]
  }
 ],
 "metadata": {
  "kernelspec": {
   "display_name": "spatial",
   "language": "python",
   "name": "python3"
  },
  "language_info": {
   "codemirror_mode": {
    "name": "ipython",
    "version": 3
   },
   "file_extension": ".py",
   "mimetype": "text/x-python",
   "name": "python",
   "nbconvert_exporter": "python",
   "pygments_lexer": "ipython3",
   "version": "3.11.11"
  }
 },
 "nbformat": 4,
 "nbformat_minor": 2
}
