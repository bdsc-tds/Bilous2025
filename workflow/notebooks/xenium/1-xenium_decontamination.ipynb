{
 "cells": [
  {
   "cell_type": "code",
   "execution_count": 93,
   "metadata": {},
   "outputs": [],
   "source": [
    "from pathlib import Path\n",
    "import numpy as np\n",
    "import pandas as pd\n",
    "import scanpy as sc\n",
    "import seaborn as sns\n",
    "import matplotlib.pyplot as plt\n",
    "import concurrent.futures\n",
    "from joblib import Parallel, delayed\n",
    "import ovrlpy\n",
    "\n",
    "import sys\n",
    "sys.path.extend(['../../scripts','../../scripts/xenium'])\n",
    "import readwrite\n",
    "cfg = readwrite.config()"
   ]
  },
  {
   "cell_type": "markdown",
   "metadata": {},
   "source": [
    "## Load data"
   ]
  },
  {
   "cell_type": "code",
   "execution_count": 30,
   "metadata": {},
   "outputs": [
    {
     "name": "stdout",
     "output_type": "stream",
     "text": [
      "\u001b[34mINFO    \u001b[0m reading                                                                                                   \n",
      "         \u001b[35m/work/PRTNR/CHUV/DIR/rgottar1/spatial/env/xenium_paper/data/xenium/processed/segmentation/proseg_v1/NSCLC/\u001b[0m\n",
      "         \u001b[35mlung/1GFF/1GFF/normalised_results/outs/\u001b[0m\u001b[95mcell_feature_matrix.h5\u001b[0m                                             \n"
     ]
    },
    {
     "name": "stderr",
     "output_type": "stream",
     "text": [
      "/work/PRTNR/CHUV/DIR/rgottar1/spatial/env/jbac/miniforge3/envs/spatial/lib/python3.11/site-packages/spatialdata/_core/spatialdata.py:158: UserWarning: The table is annotating 'cell_labels', which is not present in the SpatialData object.\n",
      "  self.validate_table_in_spatialdata(v)\n"
     ]
    },
    {
     "name": "stdout",
     "output_type": "stream",
     "text": [
      "Error processing Can't pickle local object '_get_points.<locals>.<lambda>'\n"
     ]
    }
   ],
   "source": [
    "# cfg paths\n",
    "xenium_dir = Path(cfg['xenium_processed_data_dir'])\n",
    "xenium_raw_data_dir = Path(cfg['xenium_raw_data_dir'])\n",
    "results_dir = Path(cfg['results_dir'])\n",
    "\n",
    "# Segmentation, mapping paths\n",
    "dir_segmentations = {\n",
    "    dir_segmentation.name: (dir_segmentation)\n",
    "    for dir_segmentation in xenium_dir.iterdir()\n",
    "}\n",
    "\n",
    "# Read resegmentations and RCTD\n",
    "xenium_paths = {}\n",
    "cc_paths = []\n",
    "\n",
    "for segmentation in (segmentations := xenium_dir.iterdir()):\n",
    "    for cohort in (cohorts := segmentation.iterdir()): \n",
    "        for panel in (panels := cohort.iterdir()):\n",
    "            for sample in (samples := panel.iterdir()):\n",
    "                for replicate in (replicates := sample.iterdir()):\n",
    "                    \n",
    "                    k = (segmentation.stem,cohort.stem,panel.stem,sample.stem,replicate.stem)\n",
    "                    replicate_path = replicate / \"normalised_results/outs\"\n",
    "                    name = '/'.join(k)\n",
    "\n",
    "                    xenium_paths[k] = replicate_path\n",
    "\n",
    "xenium_paths = {list(xenium_paths)[30]:xenium_paths[list(xenium_paths)[30]]}\n",
    "\n",
    "xenium_levels = ('segmentation','cohort','panel','sample','replicate')\n",
    "sds = readwrite.read_xenium_samples(xenium_paths,anndata_only=False,transcripts=True,sample_name_as_key=False)\n",
    "sds = pd.Series(sds.values(),\n",
    "                index=pd.Index(sds.keys(),name = xenium_levels),\n",
    "                dtype=object).sort_index()"
   ]
  },
  {
   "cell_type": "code",
   "execution_count": 171,
   "metadata": {},
   "outputs": [
    {
     "name": "stdout",
     "output_type": "stream",
     "text": [
      "Running vertical adjustment\n",
      "Creating gene expression embeddings for visualization:\n",
      "Analyzing in 3d mode:\n",
      "determining pseudocells:\n",
      "found 10681 pseudocells\n",
      "sampling expression:\n"
     ]
    },
    {
     "name": "stderr",
     "output_type": "stream",
     "text": [
      "ZYX: 100%|██████████| 5001/5001 [12:01<00:00,  6.93it/s]      \n"
     ]
    },
    {
     "name": "stdout",
     "output_type": "stream",
     "text": [
      "Modeling 20 pseudo-celltype clusters;\n"
     ]
    },
    {
     "ename": "",
     "evalue": "",
     "output_type": "error",
     "traceback": [
      "\u001b[1;31mThe Kernel crashed while executing code in the current cell or a previous cell. \n",
      "\u001b[1;31mPlease review the code in the cell(s) to identify a possible cause of the failure. \n",
      "\u001b[1;31mClick <a href='https://aka.ms/vscodeJupyterKernelCrash'>here</a> for more info. \n",
      "\u001b[1;31mView Jupyter <a href='command:jupyter.viewOutput'>log</a> for further details."
     ]
    }
   ],
   "source": [
    "\n",
    "path = Path('/work/PRTNR/CHUV/DIR/rgottar1/spatial/env/xenium_paper/data/xenium/processed/segmentation/10x_mm_15um/NSCLC/5k/0PSV/0PSV/normalised_results/outs/transcripts.parquet')\n",
    "coordinate_df = pd.read_parquet(path).query(\"is_gene & (qv >= 20)\") \\\n",
    "    .rename(\n",
    "        columns={\n",
    "            \"x_location\": \"x\",\n",
    "            \"y_location\": \"y\",\n",
    "            \"z_location\": \"z\",\n",
    "            \"feature_name\": \"gene\",\n",
    "        }) \\\n",
    "    .query(\"is_gene & (qv >= 20)\")  # remove dummy molecules\n",
    "\n",
    "\n",
    "# coordinate_df[::1000].plot.scatter(x=\"x\", y=\"y\", s=1)\n",
    "# coordinate_df = coordinate_df.copy()  # make a copy to avoid SettingWithCopyWarning\n",
    "\n",
    "signal_integrity, signal_strength, visualizer = ovrlpy.run(\n",
    "    df=coordinate_df, cell_diameter=10, n_expected_celltypes=20\n",
    ")\n",
    "\n",
    "fig, ax = ovrlpy.plot_signal_integrity(\n",
    "    signal_integrity, signal_strength, signal_threshold=3\n",
    ")\n",
    "\n",
    "doublet_df = ovrlpy.detect_doublets(\n",
    "    signal_integrity, signal_strength, minimum_signal_strength=3, integrity_sigma=2\n",
    ")\n",
    "\n",
    "_ = plt.scatter(\n",
    "    doublet_df[\"x\"],\n",
    "    doublet_df[\"y\"],\n",
    "    c=doublet_df[\"integrity\"],\n",
    "    s=1,\n",
    "    cmap=\"viridis\",\n",
    "    vmin=0,\n",
    "    vmax=1,\n",
    ")\n",
    "plt.gca().set_aspect(\"equal\")\n",
    "plt.colorbar()\n",
    "\n",
    "\n",
    "window_size = 60\n",
    "doublet_case = 0\n",
    "\n",
    "x, y = doublet_df.loc[doublet_case, [\"x\", \"y\"]]\n",
    "\n",
    "ovrlpy.plot_region_of_interest(\n",
    "    x,\n",
    "    y,\n",
    "    coordinate_df,\n",
    "    visualizer,\n",
    "    signal_integrity,\n",
    "    signal_strength,\n",
    "    window_size=window_size,\n",
    ")\n",
    "\n",
    "\n",
    "# visualizer.save(result_folder / \"Xenium-text-visualizer.vis\")\n",
    "\n",
    "# vis = ovrlpy.load_visualizer(result_folder / \"Xenium-text-visualizer.vis\")\n",
    "\n",
    "plt.figure(figsize=(20, 5))\n",
    "\n",
    "ax = plt.subplot(111, projection=\"3d\")\n",
    "\n",
    "for i in range(-2, 3):\n",
    "    subset = coordinate_df[(coordinate_df.z - coordinate_df.z_delim).between(i, i + 1)]\n",
    "\n",
    "    ax.scatter(\n",
    "        subset.x[::100],\n",
    "        subset.y[::100],\n",
    "        np.zeros(1 + (len(subset) // 100)) + i,\n",
    "        s=1,\n",
    "        alpha=0.1,\n",
    "    )"
   ]
  }
 ],
 "metadata": {
  "kernelspec": {
   "display_name": "spatial",
   "language": "python",
   "name": "python3"
  },
  "language_info": {
   "codemirror_mode": {
    "name": "ipython",
    "version": 3
   },
   "file_extension": ".py",
   "mimetype": "text/x-python",
   "name": "python",
   "nbconvert_exporter": "python",
   "pygments_lexer": "ipython3",
   "version": "3.11.10"
  }
 },
 "nbformat": 4,
 "nbformat_minor": 2
}
