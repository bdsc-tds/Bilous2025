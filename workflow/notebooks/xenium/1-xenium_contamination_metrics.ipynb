{
 "cells": [
  {
   "cell_type": "code",
   "execution_count": 2,
   "metadata": {},
   "outputs": [],
   "source": [
    "import dask\n",
    "dask.config.set({\"dataframe.query-planning\": False})\n",
    "\n",
    "import itertools\n",
    "import scanpy as sc\n",
    "import gseapy\n",
    "import liana\n",
    "import scipy\n",
    "import numpy as np\n",
    "import pandas as pd\n",
    "import sys\n",
    "import argparse\n",
    "import json\n",
    "import matplotlib.patches as mpatches\n",
    "import seaborn as sns\n",
    "import matplotlib.pyplot as plt\n",
    "from sklearn.preprocessing import StandardScaler\n",
    "from pathlib import Path\n",
    "\n",
    "sys.path.append(\"../../../workflow/scripts/\")\n",
    "import _utils\n",
    "import readwrite\n",
    "cfg = readwrite.config()"
   ]
  },
  {
   "cell_type": "markdown",
   "metadata": {},
   "source": [
    "## Compute metrics diffexpr logreg"
   ]
  },
  {
   "cell_type": "code",
   "execution_count": 333,
   "metadata": {},
   "outputs": [
    {
     "name": "stdout",
     "output_type": "stream",
     "text": [
      "\u001b[34mINFO    \u001b[0m reading                                                                                                   \n",
      "         ..\u001b[35m/../../data/xenium/processed/segmentation/10x_mm_5um/NSCLC/5k/1GQ9/1GQ9/normalised_results/outs/\u001b[0m\u001b[95mcell_fea\u001b[0m\n",
      "         \u001b[95mture_matrix.h5\u001b[0m                                                                                            \n"
     ]
    },
    {
     "name": "stderr",
     "output_type": "stream",
     "text": [
      "/work/PRTNR/CHUV/DIR/rgottar1/spatial/env/jbac/miniforge3/envs/spatial/lib/python3.11/site-packages/spatialdata/_core/spatialdata.py:185: UserWarning: The table is annotating 'cell_labels', which is not present in the SpatialData object.\n",
      "/tmp/ipykernel_4034932/1738316690.py:88: ImplicitModificationWarning: Setting element `.layers['X_normalised']` of view, initializing view as actual.\n",
      "/work/PRTNR/CHUV/DIR/rgottar1/spatial/env/jbac/miniforge3/envs/spatial/lib/python3.11/site-packages/scanpy/preprocessing/_normalization.py:234: UserWarning: Some cells have zero counts\n",
      "/tmp/ipykernel_4034932/1738316690.py:139: ImplicitModificationWarning: Setting element `.obsp['spatial_connectivities']` of view, initializing view as actual.\n",
      "... storing 'label_key' as categorical\n",
      "... storing 'feature_types' as categorical\n",
      "... storing 'genome' as categorical\n",
      "/tmp/ipykernel_4034932/1738316690.py:188: ImplicitModificationWarning: Trying to modify attribute `.obs` of view, initializing view as actual.\n",
      "... storing 'has_macrophage_neighbor_str' as categorical\n"
     ]
    },
    {
     "name": "stdout",
     "output_type": "stream",
     "text": [
      "monocyte macrophage\n"
     ]
    },
    {
     "name": "stderr",
     "output_type": "stream",
     "text": [
      "2025-03-21 17:00:25,979 [WARNING] Duplicated values found in preranked stats: 91.60% of genes\n",
      "The order of those genes will be arbitrary, which may produce unexpected results.\n",
      "2025-03-21 17:00:26,103 [WARNING] Duplicated values found in preranked stats: 91.60% of genes\n",
      "The order of those genes will be arbitrary, which may produce unexpected results.\n",
      "2025-03-21 17:00:26,216 [WARNING] Duplicated values found in preranked stats: 95.46% of genes\n",
      "The order of those genes will be arbitrary, which may produce unexpected results.\n",
      "/tmp/ipykernel_4034932/1738316690.py:188: ImplicitModificationWarning: Trying to modify attribute `.obs` of view, initializing view as actual.\n",
      "... storing 'has_macrophage_neighbor_str' as categorical\n"
     ]
    },
    {
     "name": "stdout",
     "output_type": "stream",
     "text": [
      "T cell macrophage\n"
     ]
    },
    {
     "name": "stderr",
     "output_type": "stream",
     "text": [
      "2025-03-21 17:00:26,656 [WARNING] Duplicated values found in preranked stats: 95.32% of genes\n",
      "The order of those genes will be arbitrary, which may produce unexpected results.\n",
      "2025-03-21 17:00:26,771 [WARNING] Duplicated values found in preranked stats: 95.30% of genes\n",
      "The order of those genes will be arbitrary, which may produce unexpected results.\n",
      "2025-03-21 17:00:26,883 [WARNING] Duplicated values found in preranked stats: 97.50% of genes\n",
      "The order of those genes will be arbitrary, which may produce unexpected results.\n",
      "/tmp/ipykernel_4034932/1738316690.py:188: ImplicitModificationWarning: Trying to modify attribute `.obs` of view, initializing view as actual.\n",
      "... storing 'has_macrophage_neighbor_str' as categorical\n",
      "2025-03-21 17:00:27,047 [WARNING] Duplicated values found in preranked stats: 98.10% of genes\n",
      "The order of those genes will be arbitrary, which may produce unexpected results.\n",
      "2025-03-21 17:00:27,166 [WARNING] Duplicated values found in preranked stats: 98.10% of genes\n",
      "The order of those genes will be arbitrary, which may produce unexpected results.\n"
     ]
    },
    {
     "name": "stdout",
     "output_type": "stream",
     "text": [
      "natural killer cell macrophage\n"
     ]
    },
    {
     "name": "stderr",
     "output_type": "stream",
     "text": [
      "2025-03-21 17:00:27,280 [WARNING] Duplicated values found in preranked stats: 98.74% of genes\n",
      "The order of those genes will be arbitrary, which may produce unexpected results.\n",
      "/tmp/ipykernel_4034932/1738316690.py:188: ImplicitModificationWarning: Trying to modify attribute `.obs` of view, initializing view as actual.\n",
      "... storing 'has_macrophage_neighbor_str' as categorical\n"
     ]
    },
    {
     "name": "stdout",
     "output_type": "stream",
     "text": [
      "endothelial cell macrophage\n"
     ]
    },
    {
     "name": "stderr",
     "output_type": "stream",
     "text": [
      "2025-03-21 17:00:27,682 [WARNING] Duplicated values found in preranked stats: 83.77% of genes\n",
      "The order of those genes will be arbitrary, which may produce unexpected results.\n",
      "2025-03-21 17:00:27,799 [WARNING] Duplicated values found in preranked stats: 83.77% of genes\n",
      "The order of those genes will be arbitrary, which may produce unexpected results.\n",
      "2025-03-21 17:00:27,911 [WARNING] Duplicated values found in preranked stats: 88.00% of genes\n",
      "The order of those genes will be arbitrary, which may produce unexpected results.\n",
      "/tmp/ipykernel_4034932/1738316690.py:188: ImplicitModificationWarning: Trying to modify attribute `.obs` of view, initializing view as actual.\n",
      "... storing 'has_macrophage_neighbor_str' as categorical\n",
      "2025-03-21 17:00:28,114 [WARNING] Duplicated values found in preranked stats: 99.72% of genes\n",
      "The order of those genes will be arbitrary, which may produce unexpected results.\n"
     ]
    },
    {
     "name": "stdout",
     "output_type": "stream",
     "text": [
      "epithelial cell of lung macrophage\n"
     ]
    },
    {
     "name": "stderr",
     "output_type": "stream",
     "text": [
      "2025-03-21 17:00:28,232 [WARNING] Duplicated values found in preranked stats: 99.72% of genes\n",
      "The order of those genes will be arbitrary, which may produce unexpected results.\n",
      "2025-03-21 17:00:28,346 [WARNING] Duplicated values found in preranked stats: 99.78% of genes\n",
      "The order of those genes will be arbitrary, which may produce unexpected results.\n",
      "/tmp/ipykernel_4034932/1738316690.py:188: ImplicitModificationWarning: Trying to modify attribute `.obs` of view, initializing view as actual.\n",
      "... storing 'has_macrophage_neighbor_str' as categorical\n"
     ]
    },
    {
     "name": "stdout",
     "output_type": "stream",
     "text": [
      "granulocyte macrophage\n"
     ]
    },
    {
     "name": "stderr",
     "output_type": "stream",
     "text": [
      "2025-03-21 17:00:28,788 [WARNING] Duplicated values found in preranked stats: 93.40% of genes\n",
      "The order of those genes will be arbitrary, which may produce unexpected results.\n",
      "2025-03-21 17:00:28,898 [WARNING] Duplicated values found in preranked stats: 93.36% of genes\n",
      "The order of those genes will be arbitrary, which may produce unexpected results.\n",
      "2025-03-21 17:00:29,007 [WARNING] Duplicated values found in preranked stats: 96.06% of genes\n",
      "The order of those genes will be arbitrary, which may produce unexpected results.\n",
      "/tmp/ipykernel_4034932/1738316690.py:188: ImplicitModificationWarning: Trying to modify attribute `.obs` of view, initializing view as actual.\n",
      "... storing 'has_macrophage_neighbor_str' as categorical\n"
     ]
    },
    {
     "name": "stdout",
     "output_type": "stream",
     "text": [
      "dendritic cell macrophage\n"
     ]
    },
    {
     "name": "stderr",
     "output_type": "stream",
     "text": [
      "2025-03-21 17:00:29,357 [WARNING] Duplicated values found in preranked stats: 89.74% of genes\n",
      "The order of those genes will be arbitrary, which may produce unexpected results.\n",
      "2025-03-21 17:00:29,492 [WARNING] Duplicated values found in preranked stats: 89.74% of genes\n",
      "The order of those genes will be arbitrary, which may produce unexpected results.\n",
      "2025-03-21 17:00:29,609 [WARNING] Duplicated values found in preranked stats: 93.52% of genes\n",
      "The order of those genes will be arbitrary, which may produce unexpected results.\n",
      "/tmp/ipykernel_4034932/1738316690.py:188: ImplicitModificationWarning: Trying to modify attribute `.obs` of view, initializing view as actual.\n",
      "... storing 'has_macrophage_neighbor_str' as categorical\n"
     ]
    },
    {
     "name": "stdout",
     "output_type": "stream",
     "text": [
      "fibroblast of lung macrophage\n"
     ]
    },
    {
     "name": "stderr",
     "output_type": "stream",
     "text": [
      "2025-03-21 17:00:30,269 [WARNING] Duplicated values found in preranked stats: 84.55% of genes\n",
      "The order of those genes will be arbitrary, which may produce unexpected results.\n",
      "2025-03-21 17:00:30,385 [WARNING] Duplicated values found in preranked stats: 84.55% of genes\n",
      "The order of those genes will be arbitrary, which may produce unexpected results.\n",
      "2025-03-21 17:00:30,496 [WARNING] Duplicated values found in preranked stats: 89.64% of genes\n",
      "The order of those genes will be arbitrary, which may produce unexpected results.\n",
      "/tmp/ipykernel_4034932/1738316690.py:188: ImplicitModificationWarning: Trying to modify attribute `.obs` of view, initializing view as actual.\n",
      "... storing 'has_macrophage_neighbor_str' as categorical\n",
      "2025-03-21 17:00:30,737 [WARNING] Duplicated values found in preranked stats: 96.58% of genes\n",
      "The order of those genes will be arbitrary, which may produce unexpected results.\n"
     ]
    },
    {
     "name": "stdout",
     "output_type": "stream",
     "text": [
      "cycling lymphocyte macrophage\n"
     ]
    },
    {
     "name": "stderr",
     "output_type": "stream",
     "text": [
      "2025-03-21 17:00:30,855 [WARNING] Duplicated values found in preranked stats: 96.58% of genes\n",
      "The order of those genes will be arbitrary, which may produce unexpected results.\n",
      "2025-03-21 17:00:30,969 [WARNING] Duplicated values found in preranked stats: 98.30% of genes\n",
      "The order of those genes will be arbitrary, which may produce unexpected results.\n",
      "/tmp/ipykernel_4034932/1738316690.py:188: ImplicitModificationWarning: Trying to modify attribute `.obs` of view, initializing view as actual.\n",
      "... storing 'has_macrophage_neighbor_str' as categorical\n",
      "2025-03-21 17:00:31,188 [WARNING] Duplicated values found in preranked stats: 93.92% of genes\n",
      "The order of those genes will be arbitrary, which may produce unexpected results.\n"
     ]
    },
    {
     "name": "stdout",
     "output_type": "stream",
     "text": [
      "smooth muscle cell macrophage\n"
     ]
    },
    {
     "name": "stderr",
     "output_type": "stream",
     "text": [
      "2025-03-21 17:00:31,303 [WARNING] Duplicated values found in preranked stats: 93.92% of genes\n",
      "The order of those genes will be arbitrary, which may produce unexpected results.\n",
      "2025-03-21 17:00:31,418 [WARNING] Duplicated values found in preranked stats: 95.68% of genes\n",
      "The order of those genes will be arbitrary, which may produce unexpected results.\n",
      "/tmp/ipykernel_4034932/1738316690.py:188: ImplicitModificationWarning: Trying to modify attribute `.obs` of view, initializing view as actual.\n",
      "... storing 'has_macrophage_neighbor_str' as categorical\n",
      "2025-03-21 17:00:31,646 [WARNING] Duplicated values found in preranked stats: 99.00% of genes\n",
      "The order of those genes will be arbitrary, which may produce unexpected results.\n"
     ]
    },
    {
     "name": "stdout",
     "output_type": "stream",
     "text": [
      "B cell macrophage\n"
     ]
    },
    {
     "name": "stderr",
     "output_type": "stream",
     "text": [
      "2025-03-21 17:00:31,763 [WARNING] Duplicated values found in preranked stats: 99.00% of genes\n",
      "The order of those genes will be arbitrary, which may produce unexpected results.\n",
      "2025-03-21 17:00:31,882 [WARNING] Duplicated values found in preranked stats: 99.32% of genes\n",
      "The order of those genes will be arbitrary, which may produce unexpected results.\n",
      "/tmp/ipykernel_4034932/1738316690.py:188: ImplicitModificationWarning: Trying to modify attribute `.obs` of view, initializing view as actual.\n",
      "... storing 'has_macrophage_neighbor_str' as categorical\n",
      "2025-03-21 17:00:32,041 [WARNING] Duplicated values found in preranked stats: 98.46% of genes\n",
      "The order of those genes will be arbitrary, which may produce unexpected results.\n",
      "2025-03-21 17:00:32,161 [WARNING] Duplicated values found in preranked stats: 98.46% of genes\n",
      "The order of those genes will be arbitrary, which may produce unexpected results.\n"
     ]
    },
    {
     "name": "stdout",
     "output_type": "stream",
     "text": [
      "plasma cell macrophage\n"
     ]
    },
    {
     "name": "stderr",
     "output_type": "stream",
     "text": [
      "2025-03-21 17:00:32,278 [WARNING] Duplicated values found in preranked stats: 99.00% of genes\n",
      "The order of those genes will be arbitrary, which may produce unexpected results.\n",
      "/tmp/ipykernel_4034932/1738316690.py:188: ImplicitModificationWarning: Trying to modify attribute `.obs` of view, initializing view as actual.\n",
      "... storing 'has_macrophage_neighbor_str' as categorical\n"
     ]
    },
    {
     "name": "stdout",
     "output_type": "stream",
     "text": [
      "malignant cell macrophage\n"
     ]
    },
    {
     "name": "stderr",
     "output_type": "stream",
     "text": [
      "2025-03-21 17:00:32,616 [WARNING] Duplicated values found in preranked stats: 99.18% of genes\n",
      "The order of those genes will be arbitrary, which may produce unexpected results.\n",
      "2025-03-21 17:00:32,735 [WARNING] Duplicated values found in preranked stats: 99.18% of genes\n",
      "The order of those genes will be arbitrary, which may produce unexpected results.\n",
      "2025-03-21 17:00:32,846 [WARNING] Duplicated values found in preranked stats: 99.50% of genes\n",
      "The order of those genes will be arbitrary, which may produce unexpected results.\n",
      "/tmp/ipykernel_4034932/1738316690.py:188: ImplicitModificationWarning: Trying to modify attribute `.obs` of view, initializing view as actual.\n",
      "... storing 'has_macrophage_neighbor_str' as categorical\n",
      "2025-03-21 17:00:33,002 [WARNING] Duplicated values found in preranked stats: 98.48% of genes\n",
      "The order of those genes will be arbitrary, which may produce unexpected results.\n",
      "2025-03-21 17:00:33,111 [WARNING] Duplicated values found in preranked stats: 98.48% of genes\n",
      "The order of those genes will be arbitrary, which may produce unexpected results.\n"
     ]
    },
    {
     "name": "stdout",
     "output_type": "stream",
     "text": [
      "mast cell macrophage\n"
     ]
    },
    {
     "name": "stderr",
     "output_type": "stream",
     "text": [
      "2025-03-21 17:00:33,220 [WARNING] Duplicated values found in preranked stats: 98.94% of genes\n",
      "The order of those genes will be arbitrary, which may produce unexpected results.\n",
      "/tmp/ipykernel_4034932/1738316690.py:188: ImplicitModificationWarning: Trying to modify attribute `.obs` of view, initializing view as actual.\n",
      "... storing 'has_macrophage_neighbor_str' as categorical\n",
      "2025-03-21 17:00:33,448 [WARNING] Duplicated values found in preranked stats: 89.88% of genes\n",
      "The order of those genes will be arbitrary, which may produce unexpected results.\n"
     ]
    },
    {
     "name": "stdout",
     "output_type": "stream",
     "text": [
      "pericyte macrophage\n"
     ]
    },
    {
     "name": "stderr",
     "output_type": "stream",
     "text": [
      "2025-03-21 17:00:33,560 [WARNING] Duplicated values found in preranked stats: 89.88% of genes\n",
      "The order of those genes will be arbitrary, which may produce unexpected results.\n",
      "2025-03-21 17:00:33,667 [WARNING] Duplicated values found in preranked stats: 92.98% of genes\n",
      "The order of those genes will be arbitrary, which may produce unexpected results.\n",
      "/tmp/ipykernel_4034932/1738316690.py:188: ImplicitModificationWarning: Trying to modify attribute `.obs` of view, initializing view as actual.\n",
      "... storing 'has_monocyte_neighbor_str' as categorical\n"
     ]
    },
    {
     "name": "stdout",
     "output_type": "stream",
     "text": [
      "macrophage monocyte\n"
     ]
    },
    {
     "name": "stderr",
     "output_type": "stream",
     "text": [
      "2025-03-21 17:00:37,961 [WARNING] Duplicated values found in preranked stats: 72.83% of genes\n",
      "The order of those genes will be arbitrary, which may produce unexpected results.\n",
      "2025-03-21 17:00:38,077 [WARNING] Duplicated values found in preranked stats: 72.83% of genes\n",
      "The order of those genes will be arbitrary, which may produce unexpected results.\n",
      "2025-03-21 17:00:38,191 [WARNING] Duplicated values found in preranked stats: 79.05% of genes\n",
      "The order of those genes will be arbitrary, which may produce unexpected results.\n",
      "/tmp/ipykernel_4034932/1738316690.py:188: ImplicitModificationWarning: Trying to modify attribute `.obs` of view, initializing view as actual.\n",
      "... storing 'has_monocyte_neighbor_str' as categorical\n"
     ]
    },
    {
     "name": "stdout",
     "output_type": "stream",
     "text": [
      "T cell monocyte\n"
     ]
    },
    {
     "name": "stderr",
     "output_type": "stream",
     "text": [
      "2025-03-21 17:00:38,630 [WARNING] Duplicated values found in preranked stats: 95.30% of genes\n",
      "The order of those genes will be arbitrary, which may produce unexpected results.\n",
      "2025-03-21 17:00:38,745 [WARNING] Duplicated values found in preranked stats: 95.28% of genes\n",
      "The order of those genes will be arbitrary, which may produce unexpected results.\n",
      "2025-03-21 17:00:38,857 [WARNING] Duplicated values found in preranked stats: 96.60% of genes\n",
      "The order of those genes will be arbitrary, which may produce unexpected results.\n",
      "/tmp/ipykernel_4034932/1738316690.py:188: ImplicitModificationWarning: Trying to modify attribute `.obs` of view, initializing view as actual.\n",
      "... storing 'has_monocyte_neighbor_str' as categorical\n",
      "2025-03-21 17:00:39,027 [WARNING] Duplicated values found in preranked stats: 98.10% of genes\n",
      "The order of those genes will be arbitrary, which may produce unexpected results.\n",
      "2025-03-21 17:00:39,136 [WARNING] Duplicated values found in preranked stats: 98.10% of genes\n",
      "The order of those genes will be arbitrary, which may produce unexpected results.\n"
     ]
    },
    {
     "name": "stdout",
     "output_type": "stream",
     "text": [
      "natural killer cell monocyte\n"
     ]
    },
    {
     "name": "stderr",
     "output_type": "stream",
     "text": [
      "2025-03-21 17:00:39,245 [WARNING] Duplicated values found in preranked stats: 98.74% of genes\n",
      "The order of those genes will be arbitrary, which may produce unexpected results.\n",
      "/tmp/ipykernel_4034932/1738316690.py:188: ImplicitModificationWarning: Trying to modify attribute `.obs` of view, initializing view as actual.\n",
      "... storing 'has_monocyte_neighbor_str' as categorical\n"
     ]
    },
    {
     "name": "stdout",
     "output_type": "stream",
     "text": [
      "endothelial cell monocyte\n"
     ]
    },
    {
     "name": "stderr",
     "output_type": "stream",
     "text": [
      "2025-03-21 17:00:39,645 [WARNING] Duplicated values found in preranked stats: 83.77% of genes\n",
      "The order of those genes will be arbitrary, which may produce unexpected results.\n",
      "2025-03-21 17:00:39,759 [WARNING] Duplicated values found in preranked stats: 83.77% of genes\n",
      "The order of those genes will be arbitrary, which may produce unexpected results.\n",
      "2025-03-21 17:00:39,869 [WARNING] Duplicated values found in preranked stats: 88.84% of genes\n",
      "The order of those genes will be arbitrary, which may produce unexpected results.\n",
      "/tmp/ipykernel_4034932/1738316690.py:188: ImplicitModificationWarning: Trying to modify attribute `.obs` of view, initializing view as actual.\n",
      "... storing 'has_monocyte_neighbor_str' as categorical\n",
      "2025-03-21 17:00:40,073 [WARNING] Duplicated values found in preranked stats: 99.72% of genes\n",
      "The order of those genes will be arbitrary, which may produce unexpected results.\n"
     ]
    },
    {
     "name": "stdout",
     "output_type": "stream",
     "text": [
      "epithelial cell of lung monocyte\n"
     ]
    },
    {
     "name": "stderr",
     "output_type": "stream",
     "text": [
      "2025-03-21 17:00:40,186 [WARNING] Duplicated values found in preranked stats: 99.72% of genes\n",
      "The order of those genes will be arbitrary, which may produce unexpected results.\n",
      "2025-03-21 17:00:40,298 [WARNING] Duplicated values found in preranked stats: 99.80% of genes\n",
      "The order of those genes will be arbitrary, which may produce unexpected results.\n",
      "/tmp/ipykernel_4034932/1738316690.py:188: ImplicitModificationWarning: Trying to modify attribute `.obs` of view, initializing view as actual.\n",
      "... storing 'has_monocyte_neighbor_str' as categorical\n"
     ]
    },
    {
     "name": "stdout",
     "output_type": "stream",
     "text": [
      "granulocyte monocyte\n"
     ]
    },
    {
     "name": "stderr",
     "output_type": "stream",
     "text": [
      "2025-03-21 17:00:40,743 [WARNING] Duplicated values found in preranked stats: 93.40% of genes\n",
      "The order of those genes will be arbitrary, which may produce unexpected results.\n",
      "2025-03-21 17:00:40,852 [WARNING] Duplicated values found in preranked stats: 93.38% of genes\n",
      "The order of those genes will be arbitrary, which may produce unexpected results.\n",
      "2025-03-21 17:00:40,961 [WARNING] Duplicated values found in preranked stats: 95.66% of genes\n",
      "The order of those genes will be arbitrary, which may produce unexpected results.\n",
      "/tmp/ipykernel_4034932/1738316690.py:188: ImplicitModificationWarning: Trying to modify attribute `.obs` of view, initializing view as actual.\n",
      "... storing 'has_monocyte_neighbor_str' as categorical\n"
     ]
    },
    {
     "name": "stdout",
     "output_type": "stream",
     "text": [
      "dendritic cell monocyte\n"
     ]
    },
    {
     "name": "stderr",
     "output_type": "stream",
     "text": [
      "2025-03-21 17:00:41,284 [WARNING] Duplicated values found in preranked stats: 89.72% of genes\n",
      "The order of those genes will be arbitrary, which may produce unexpected results.\n",
      "2025-03-21 17:00:41,392 [WARNING] Duplicated values found in preranked stats: 89.72% of genes\n",
      "The order of those genes will be arbitrary, which may produce unexpected results.\n",
      "2025-03-21 17:00:41,500 [WARNING] Duplicated values found in preranked stats: 92.54% of genes\n",
      "The order of those genes will be arbitrary, which may produce unexpected results.\n",
      "/tmp/ipykernel_4034932/1738316690.py:188: ImplicitModificationWarning: Trying to modify attribute `.obs` of view, initializing view as actual.\n",
      "... storing 'has_monocyte_neighbor_str' as categorical\n"
     ]
    },
    {
     "name": "stdout",
     "output_type": "stream",
     "text": [
      "fibroblast of lung monocyte\n"
     ]
    },
    {
     "name": "stderr",
     "output_type": "stream",
     "text": [
      "2025-03-21 17:00:42,103 [WARNING] Duplicated values found in preranked stats: 84.53% of genes\n",
      "The order of those genes will be arbitrary, which may produce unexpected results.\n",
      "2025-03-21 17:00:42,211 [WARNING] Duplicated values found in preranked stats: 84.53% of genes\n",
      "The order of those genes will be arbitrary, which may produce unexpected results.\n",
      "2025-03-21 17:00:42,321 [WARNING] Duplicated values found in preranked stats: 89.32% of genes\n",
      "The order of those genes will be arbitrary, which may produce unexpected results.\n",
      "/tmp/ipykernel_4034932/1738316690.py:188: ImplicitModificationWarning: Trying to modify attribute `.obs` of view, initializing view as actual.\n",
      "... storing 'has_monocyte_neighbor_str' as categorical\n",
      "2025-03-21 17:00:42,545 [WARNING] Duplicated values found in preranked stats: 96.58% of genes\n",
      "The order of those genes will be arbitrary, which may produce unexpected results.\n"
     ]
    },
    {
     "name": "stdout",
     "output_type": "stream",
     "text": [
      "cycling lymphocyte monocyte\n"
     ]
    },
    {
     "name": "stderr",
     "output_type": "stream",
     "text": [
      "2025-03-21 17:00:42,653 [WARNING] Duplicated values found in preranked stats: 96.58% of genes\n",
      "The order of those genes will be arbitrary, which may produce unexpected results.\n",
      "2025-03-21 17:00:42,762 [WARNING] Duplicated values found in preranked stats: 98.30% of genes\n",
      "The order of those genes will be arbitrary, which may produce unexpected results.\n",
      "/tmp/ipykernel_4034932/1738316690.py:188: ImplicitModificationWarning: Trying to modify attribute `.obs` of view, initializing view as actual.\n",
      "... storing 'has_monocyte_neighbor_str' as categorical\n",
      "2025-03-21 17:00:42,966 [WARNING] Duplicated values found in preranked stats: 93.92% of genes\n",
      "The order of those genes will be arbitrary, which may produce unexpected results.\n"
     ]
    },
    {
     "name": "stdout",
     "output_type": "stream",
     "text": [
      "smooth muscle cell monocyte\n"
     ]
    },
    {
     "name": "stderr",
     "output_type": "stream",
     "text": [
      "2025-03-21 17:00:43,075 [WARNING] Duplicated values found in preranked stats: 93.92% of genes\n",
      "The order of those genes will be arbitrary, which may produce unexpected results.\n",
      "2025-03-21 17:00:43,183 [WARNING] Duplicated values found in preranked stats: 95.66% of genes\n",
      "The order of those genes will be arbitrary, which may produce unexpected results.\n",
      "/tmp/ipykernel_4034932/1738316690.py:188: ImplicitModificationWarning: Trying to modify attribute `.obs` of view, initializing view as actual.\n",
      "... storing 'has_monocyte_neighbor_str' as categorical\n",
      "2025-03-21 17:00:43,395 [WARNING] Duplicated values found in preranked stats: 99.02% of genes\n",
      "The order of those genes will be arbitrary, which may produce unexpected results.\n"
     ]
    },
    {
     "name": "stdout",
     "output_type": "stream",
     "text": [
      "B cell monocyte\n"
     ]
    },
    {
     "name": "stderr",
     "output_type": "stream",
     "text": [
      "2025-03-21 17:00:43,503 [WARNING] Duplicated values found in preranked stats: 99.02% of genes\n",
      "The order of those genes will be arbitrary, which may produce unexpected results.\n",
      "2025-03-21 17:00:43,611 [WARNING] Duplicated values found in preranked stats: 99.34% of genes\n",
      "The order of those genes will be arbitrary, which may produce unexpected results.\n",
      "/tmp/ipykernel_4034932/1738316690.py:188: ImplicitModificationWarning: Trying to modify attribute `.obs` of view, initializing view as actual.\n",
      "... storing 'has_monocyte_neighbor_str' as categorical\n",
      "2025-03-21 17:00:43,753 [WARNING] Duplicated values found in preranked stats: 98.46% of genes\n",
      "The order of those genes will be arbitrary, which may produce unexpected results.\n",
      "2025-03-21 17:00:43,864 [WARNING] Duplicated values found in preranked stats: 98.46% of genes\n",
      "The order of those genes will be arbitrary, which may produce unexpected results.\n"
     ]
    },
    {
     "name": "stdout",
     "output_type": "stream",
     "text": [
      "plasma cell monocyte\n"
     ]
    },
    {
     "name": "stderr",
     "output_type": "stream",
     "text": [
      "2025-03-21 17:00:43,972 [WARNING] Duplicated values found in preranked stats: 99.02% of genes\n",
      "The order of those genes will be arbitrary, which may produce unexpected results.\n",
      "/tmp/ipykernel_4034932/1738316690.py:188: ImplicitModificationWarning: Trying to modify attribute `.obs` of view, initializing view as actual.\n",
      "... storing 'has_monocyte_neighbor_str' as categorical\n"
     ]
    },
    {
     "name": "stdout",
     "output_type": "stream",
     "text": [
      "malignant cell monocyte\n"
     ]
    },
    {
     "name": "stderr",
     "output_type": "stream",
     "text": [
      "2025-03-21 17:00:44,289 [WARNING] Duplicated values found in preranked stats: 99.26% of genes\n",
      "The order of those genes will be arbitrary, which may produce unexpected results.\n",
      "2025-03-21 17:00:44,399 [WARNING] Duplicated values found in preranked stats: 99.26% of genes\n",
      "The order of those genes will be arbitrary, which may produce unexpected results.\n",
      "2025-03-21 17:00:44,507 [WARNING] Duplicated values found in preranked stats: 99.56% of genes\n",
      "The order of those genes will be arbitrary, which may produce unexpected results.\n",
      "/tmp/ipykernel_4034932/1738316690.py:188: ImplicitModificationWarning: Trying to modify attribute `.obs` of view, initializing view as actual.\n",
      "... storing 'has_monocyte_neighbor_str' as categorical\n",
      "2025-03-21 17:00:44,663 [WARNING] Duplicated values found in preranked stats: 98.48% of genes\n",
      "The order of those genes will be arbitrary, which may produce unexpected results.\n",
      "2025-03-21 17:00:44,772 [WARNING] Duplicated values found in preranked stats: 98.48% of genes\n",
      "The order of those genes will be arbitrary, which may produce unexpected results.\n"
     ]
    },
    {
     "name": "stdout",
     "output_type": "stream",
     "text": [
      "mast cell monocyte\n"
     ]
    },
    {
     "name": "stderr",
     "output_type": "stream",
     "text": [
      "2025-03-21 17:00:44,881 [WARNING] Duplicated values found in preranked stats: 98.98% of genes\n",
      "The order of those genes will be arbitrary, which may produce unexpected results.\n",
      "/tmp/ipykernel_4034932/1738316690.py:188: ImplicitModificationWarning: Trying to modify attribute `.obs` of view, initializing view as actual.\n",
      "... storing 'has_monocyte_neighbor_str' as categorical\n",
      "2025-03-21 17:00:45,107 [WARNING] Duplicated values found in preranked stats: 89.90% of genes\n",
      "The order of those genes will be arbitrary, which may produce unexpected results.\n"
     ]
    },
    {
     "name": "stdout",
     "output_type": "stream",
     "text": [
      "pericyte monocyte\n"
     ]
    },
    {
     "name": "stderr",
     "output_type": "stream",
     "text": [
      "2025-03-21 17:00:45,218 [WARNING] Duplicated values found in preranked stats: 89.90% of genes\n",
      "The order of those genes will be arbitrary, which may produce unexpected results.\n",
      "2025-03-21 17:00:45,325 [WARNING] Duplicated values found in preranked stats: 93.46% of genes\n",
      "The order of those genes will be arbitrary, which may produce unexpected results.\n",
      "/tmp/ipykernel_4034932/1738316690.py:188: ImplicitModificationWarning: Trying to modify attribute `.obs` of view, initializing view as actual.\n",
      "... storing 'has_T cell_neighbor_str' as categorical\n"
     ]
    },
    {
     "name": "stdout",
     "output_type": "stream",
     "text": [
      "macrophage T cell\n"
     ]
    },
    {
     "name": "stderr",
     "output_type": "stream",
     "text": [
      "2025-03-21 17:00:49,473 [WARNING] Duplicated values found in preranked stats: 72.81% of genes\n",
      "The order of those genes will be arbitrary, which may produce unexpected results.\n",
      "2025-03-21 17:00:49,582 [WARNING] Duplicated values found in preranked stats: 72.81% of genes\n",
      "The order of those genes will be arbitrary, which may produce unexpected results.\n",
      "2025-03-21 17:00:49,691 [WARNING] Duplicated values found in preranked stats: 79.25% of genes\n",
      "The order of those genes will be arbitrary, which may produce unexpected results.\n",
      "/tmp/ipykernel_4034932/1738316690.py:188: ImplicitModificationWarning: Trying to modify attribute `.obs` of view, initializing view as actual.\n",
      "... storing 'has_T cell_neighbor_str' as categorical\n"
     ]
    },
    {
     "name": "stdout",
     "output_type": "stream",
     "text": [
      "monocyte T cell\n"
     ]
    },
    {
     "name": "stderr",
     "output_type": "stream",
     "text": [
      "2025-03-21 17:00:50,002 [WARNING] Duplicated values found in preranked stats: 91.60% of genes\n",
      "The order of those genes will be arbitrary, which may produce unexpected results.\n",
      "2025-03-21 17:00:50,110 [WARNING] Duplicated values found in preranked stats: 91.60% of genes\n",
      "The order of those genes will be arbitrary, which may produce unexpected results.\n",
      "2025-03-21 17:00:50,218 [WARNING] Duplicated values found in preranked stats: 94.02% of genes\n",
      "The order of those genes will be arbitrary, which may produce unexpected results.\n",
      "/tmp/ipykernel_4034932/1738316690.py:188: ImplicitModificationWarning: Trying to modify attribute `.obs` of view, initializing view as actual.\n",
      "... storing 'has_T cell_neighbor_str' as categorical\n",
      "2025-03-21 17:00:50,383 [WARNING] Duplicated values found in preranked stats: 98.10% of genes\n",
      "The order of those genes will be arbitrary, which may produce unexpected results.\n",
      "2025-03-21 17:00:50,493 [WARNING] Duplicated values found in preranked stats: 98.10% of genes\n",
      "The order of those genes will be arbitrary, which may produce unexpected results.\n"
     ]
    },
    {
     "name": "stdout",
     "output_type": "stream",
     "text": [
      "natural killer cell T cell\n"
     ]
    },
    {
     "name": "stderr",
     "output_type": "stream",
     "text": [
      "2025-03-21 17:00:50,602 [WARNING] Duplicated values found in preranked stats: 98.70% of genes\n",
      "The order of those genes will be arbitrary, which may produce unexpected results.\n",
      "/tmp/ipykernel_4034932/1738316690.py:188: ImplicitModificationWarning: Trying to modify attribute `.obs` of view, initializing view as actual.\n",
      "... storing 'has_T cell_neighbor_str' as categorical\n"
     ]
    },
    {
     "name": "stdout",
     "output_type": "stream",
     "text": [
      "endothelial cell T cell\n"
     ]
    },
    {
     "name": "stderr",
     "output_type": "stream",
     "text": [
      "2025-03-21 17:00:51,004 [WARNING] Duplicated values found in preranked stats: 83.77% of genes\n",
      "The order of those genes will be arbitrary, which may produce unexpected results.\n",
      "2025-03-21 17:00:51,113 [WARNING] Duplicated values found in preranked stats: 83.77% of genes\n",
      "The order of those genes will be arbitrary, which may produce unexpected results.\n",
      "2025-03-21 17:00:51,221 [WARNING] Duplicated values found in preranked stats: 88.16% of genes\n",
      "The order of those genes will be arbitrary, which may produce unexpected results.\n",
      "/tmp/ipykernel_4034932/1738316690.py:188: ImplicitModificationWarning: Trying to modify attribute `.obs` of view, initializing view as actual.\n",
      "... storing 'has_T cell_neighbor_str' as categorical\n",
      "/tmp/ipykernel_4034932/1738316690.py:188: ImplicitModificationWarning: Trying to modify attribute `.obs` of view, initializing view as actual.\n",
      "... storing 'has_T cell_neighbor_str' as categorical\n"
     ]
    },
    {
     "name": "stdout",
     "output_type": "stream",
     "text": [
      "epithelial cell of lung T cell\n",
      "Warning: all zero or all zero gene set importance vector. Returning empty dataframe.\n",
      "Warning: all zero or all zero gene set importance vector. Returning empty dataframe.\n",
      "Warning: all zero or all zero gene set importance vector. Returning empty dataframe.\n",
      "granulocyte T cell\n"
     ]
    },
    {
     "name": "stderr",
     "output_type": "stream",
     "text": [
      "2025-03-21 17:00:51,752 [WARNING] Duplicated values found in preranked stats: 93.36% of genes\n",
      "The order of those genes will be arbitrary, which may produce unexpected results.\n",
      "2025-03-21 17:00:51,861 [WARNING] Duplicated values found in preranked stats: 93.36% of genes\n",
      "The order of those genes will be arbitrary, which may produce unexpected results.\n",
      "2025-03-21 17:00:51,971 [WARNING] Duplicated values found in preranked stats: 95.34% of genes\n",
      "The order of those genes will be arbitrary, which may produce unexpected results.\n",
      "/tmp/ipykernel_4034932/1738316690.py:188: ImplicitModificationWarning: Trying to modify attribute `.obs` of view, initializing view as actual.\n",
      "... storing 'has_T cell_neighbor_str' as categorical\n"
     ]
    },
    {
     "name": "stdout",
     "output_type": "stream",
     "text": [
      "dendritic cell T cell\n"
     ]
    },
    {
     "name": "stderr",
     "output_type": "stream",
     "text": [
      "2025-03-21 17:00:52,322 [WARNING] Duplicated values found in preranked stats: 89.72% of genes\n",
      "The order of those genes will be arbitrary, which may produce unexpected results.\n",
      "2025-03-21 17:00:52,436 [WARNING] Duplicated values found in preranked stats: 89.72% of genes\n",
      "The order of those genes will be arbitrary, which may produce unexpected results.\n",
      "2025-03-21 17:00:52,546 [WARNING] Duplicated values found in preranked stats: 92.30% of genes\n",
      "The order of those genes will be arbitrary, which may produce unexpected results.\n",
      "/tmp/ipykernel_4034932/1738316690.py:188: ImplicitModificationWarning: Trying to modify attribute `.obs` of view, initializing view as actual.\n",
      "... storing 'has_T cell_neighbor_str' as categorical\n"
     ]
    },
    {
     "name": "stdout",
     "output_type": "stream",
     "text": [
      "fibroblast of lung T cell\n"
     ]
    },
    {
     "name": "stderr",
     "output_type": "stream",
     "text": [
      "2025-03-21 17:00:53,167 [WARNING] Duplicated values found in preranked stats: 84.55% of genes\n",
      "The order of those genes will be arbitrary, which may produce unexpected results.\n",
      "2025-03-21 17:00:53,283 [WARNING] Duplicated values found in preranked stats: 84.55% of genes\n",
      "The order of those genes will be arbitrary, which may produce unexpected results.\n",
      "2025-03-21 17:00:53,396 [WARNING] Duplicated values found in preranked stats: 88.92% of genes\n",
      "The order of those genes will be arbitrary, which may produce unexpected results.\n",
      "/tmp/ipykernel_4034932/1738316690.py:188: ImplicitModificationWarning: Trying to modify attribute `.obs` of view, initializing view as actual.\n",
      "... storing 'has_T cell_neighbor_str' as categorical\n",
      "2025-03-21 17:00:53,620 [WARNING] Duplicated values found in preranked stats: 96.58% of genes\n",
      "The order of those genes will be arbitrary, which may produce unexpected results.\n"
     ]
    },
    {
     "name": "stdout",
     "output_type": "stream",
     "text": [
      "cycling lymphocyte T cell\n"
     ]
    },
    {
     "name": "stderr",
     "output_type": "stream",
     "text": [
      "2025-03-21 17:00:53,728 [WARNING] Duplicated values found in preranked stats: 96.58% of genes\n",
      "The order of those genes will be arbitrary, which may produce unexpected results.\n",
      "2025-03-21 17:00:53,836 [WARNING] Duplicated values found in preranked stats: 98.30% of genes\n",
      "The order of those genes will be arbitrary, which may produce unexpected results.\n",
      "/tmp/ipykernel_4034932/1738316690.py:188: ImplicitModificationWarning: Trying to modify attribute `.obs` of view, initializing view as actual.\n",
      "... storing 'has_T cell_neighbor_str' as categorical\n",
      "2025-03-21 17:00:54,046 [WARNING] Duplicated values found in preranked stats: 93.90% of genes\n",
      "The order of those genes will be arbitrary, which may produce unexpected results.\n"
     ]
    },
    {
     "name": "stdout",
     "output_type": "stream",
     "text": [
      "smooth muscle cell T cell\n"
     ]
    },
    {
     "name": "stderr",
     "output_type": "stream",
     "text": [
      "2025-03-21 17:00:54,156 [WARNING] Duplicated values found in preranked stats: 93.90% of genes\n",
      "The order of those genes will be arbitrary, which may produce unexpected results.\n",
      "2025-03-21 17:00:54,264 [WARNING] Duplicated values found in preranked stats: 95.56% of genes\n",
      "The order of those genes will be arbitrary, which may produce unexpected results.\n",
      "/tmp/ipykernel_4034932/1738316690.py:188: ImplicitModificationWarning: Trying to modify attribute `.obs` of view, initializing view as actual.\n",
      "... storing 'has_T cell_neighbor_str' as categorical\n",
      "2025-03-21 17:00:54,478 [WARNING] Duplicated values found in preranked stats: 99.00% of genes\n",
      "The order of those genes will be arbitrary, which may produce unexpected results.\n"
     ]
    },
    {
     "name": "stdout",
     "output_type": "stream",
     "text": [
      "B cell T cell\n"
     ]
    },
    {
     "name": "stderr",
     "output_type": "stream",
     "text": [
      "2025-03-21 17:00:54,587 [WARNING] Duplicated values found in preranked stats: 99.00% of genes\n",
      "The order of those genes will be arbitrary, which may produce unexpected results.\n",
      "2025-03-21 17:00:54,695 [WARNING] Duplicated values found in preranked stats: 99.32% of genes\n",
      "The order of those genes will be arbitrary, which may produce unexpected results.\n",
      "/tmp/ipykernel_4034932/1738316690.py:188: ImplicitModificationWarning: Trying to modify attribute `.obs` of view, initializing view as actual.\n",
      "... storing 'has_T cell_neighbor_str' as categorical\n",
      "2025-03-21 17:00:54,836 [WARNING] Duplicated values found in preranked stats: 98.46% of genes\n",
      "The order of those genes will be arbitrary, which may produce unexpected results.\n",
      "2025-03-21 17:00:54,944 [WARNING] Duplicated values found in preranked stats: 98.46% of genes\n",
      "The order of those genes will be arbitrary, which may produce unexpected results.\n"
     ]
    },
    {
     "name": "stdout",
     "output_type": "stream",
     "text": [
      "plasma cell T cell\n"
     ]
    },
    {
     "name": "stderr",
     "output_type": "stream",
     "text": [
      "2025-03-21 17:00:55,051 [WARNING] Duplicated values found in preranked stats: 99.02% of genes\n",
      "The order of those genes will be arbitrary, which may produce unexpected results.\n",
      "/tmp/ipykernel_4034932/1738316690.py:188: ImplicitModificationWarning: Trying to modify attribute `.obs` of view, initializing view as actual.\n",
      "... storing 'has_T cell_neighbor_str' as categorical\n"
     ]
    },
    {
     "name": "stdout",
     "output_type": "stream",
     "text": [
      "malignant cell T cell\n"
     ]
    },
    {
     "name": "stderr",
     "output_type": "stream",
     "text": [
      "2025-03-21 17:00:55,375 [WARNING] Duplicated values found in preranked stats: 99.22% of genes\n",
      "The order of those genes will be arbitrary, which may produce unexpected results.\n",
      "2025-03-21 17:00:55,483 [WARNING] Duplicated values found in preranked stats: 99.20% of genes\n",
      "The order of those genes will be arbitrary, which may produce unexpected results.\n",
      "2025-03-21 17:00:55,592 [WARNING] Duplicated values found in preranked stats: 99.48% of genes\n",
      "The order of those genes will be arbitrary, which may produce unexpected results.\n",
      "/tmp/ipykernel_4034932/1738316690.py:188: ImplicitModificationWarning: Trying to modify attribute `.obs` of view, initializing view as actual.\n",
      "... storing 'has_T cell_neighbor_str' as categorical\n",
      "2025-03-21 17:00:55,750 [WARNING] Duplicated values found in preranked stats: 98.48% of genes\n",
      "The order of those genes will be arbitrary, which may produce unexpected results.\n",
      "2025-03-21 17:00:55,859 [WARNING] Duplicated values found in preranked stats: 98.48% of genes\n",
      "The order of those genes will be arbitrary, which may produce unexpected results.\n"
     ]
    },
    {
     "name": "stdout",
     "output_type": "stream",
     "text": [
      "mast cell T cell\n"
     ]
    },
    {
     "name": "stderr",
     "output_type": "stream",
     "text": [
      "2025-03-21 17:00:55,968 [WARNING] Duplicated values found in preranked stats: 98.96% of genes\n",
      "The order of those genes will be arbitrary, which may produce unexpected results.\n",
      "/tmp/ipykernel_4034932/1738316690.py:188: ImplicitModificationWarning: Trying to modify attribute `.obs` of view, initializing view as actual.\n",
      "... storing 'has_T cell_neighbor_str' as categorical\n",
      "2025-03-21 17:00:56,194 [WARNING] Duplicated values found in preranked stats: 89.88% of genes\n",
      "The order of those genes will be arbitrary, which may produce unexpected results.\n"
     ]
    },
    {
     "name": "stdout",
     "output_type": "stream",
     "text": [
      "pericyte T cell\n"
     ]
    },
    {
     "name": "stderr",
     "output_type": "stream",
     "text": [
      "2025-03-21 17:00:56,304 [WARNING] Duplicated values found in preranked stats: 89.88% of genes\n",
      "The order of those genes will be arbitrary, which may produce unexpected results.\n",
      "2025-03-21 17:00:56,412 [WARNING] Duplicated values found in preranked stats: 92.94% of genes\n",
      "The order of those genes will be arbitrary, which may produce unexpected results.\n",
      "/tmp/ipykernel_4034932/1738316690.py:188: ImplicitModificationWarning: Trying to modify attribute `.obs` of view, initializing view as actual.\n",
      "... storing 'has_natural killer cell_neighbor_str' as categorical\n"
     ]
    },
    {
     "name": "stdout",
     "output_type": "stream",
     "text": [
      "macrophage natural killer cell\n"
     ]
    },
    {
     "name": "stderr",
     "output_type": "stream",
     "text": [
      "2025-03-21 17:01:00,595 [WARNING] Duplicated values found in preranked stats: 72.83% of genes\n",
      "The order of those genes will be arbitrary, which may produce unexpected results.\n",
      "2025-03-21 17:01:00,709 [WARNING] Duplicated values found in preranked stats: 72.83% of genes\n",
      "The order of those genes will be arbitrary, which may produce unexpected results.\n",
      "2025-03-21 17:01:00,818 [WARNING] Duplicated values found in preranked stats: 84.87% of genes\n",
      "The order of those genes will be arbitrary, which may produce unexpected results.\n",
      "/tmp/ipykernel_4034932/1738316690.py:188: ImplicitModificationWarning: Trying to modify attribute `.obs` of view, initializing view as actual.\n",
      "... storing 'has_natural killer cell_neighbor_str' as categorical\n",
      "2025-03-21 17:01:01,121 [WARNING] Duplicated values found in preranked stats: 91.60% of genes\n",
      "The order of those genes will be arbitrary, which may produce unexpected results.\n"
     ]
    },
    {
     "name": "stdout",
     "output_type": "stream",
     "text": [
      "monocyte natural killer cell\n"
     ]
    },
    {
     "name": "stderr",
     "output_type": "stream",
     "text": [
      "2025-03-21 17:01:01,239 [WARNING] Duplicated values found in preranked stats: 91.60% of genes\n",
      "The order of those genes will be arbitrary, which may produce unexpected results.\n",
      "2025-03-21 17:01:01,350 [WARNING] Duplicated values found in preranked stats: 95.04% of genes\n",
      "The order of those genes will be arbitrary, which may produce unexpected results.\n",
      "/tmp/ipykernel_4034932/1738316690.py:188: ImplicitModificationWarning: Trying to modify attribute `.obs` of view, initializing view as actual.\n",
      "... storing 'has_natural killer cell_neighbor_str' as categorical\n"
     ]
    },
    {
     "name": "stdout",
     "output_type": "stream",
     "text": [
      "T cell natural killer cell\n"
     ]
    },
    {
     "name": "stderr",
     "output_type": "stream",
     "text": [
      "2025-03-21 17:01:01,773 [WARNING] Duplicated values found in preranked stats: 95.28% of genes\n",
      "The order of those genes will be arbitrary, which may produce unexpected results.\n",
      "2025-03-21 17:01:01,883 [WARNING] Duplicated values found in preranked stats: 95.28% of genes\n",
      "The order of those genes will be arbitrary, which may produce unexpected results.\n",
      "2025-03-21 17:01:01,995 [WARNING] Duplicated values found in preranked stats: 97.14% of genes\n",
      "The order of those genes will be arbitrary, which may produce unexpected results.\n",
      "/tmp/ipykernel_4034932/1738316690.py:188: ImplicitModificationWarning: Trying to modify attribute `.obs` of view, initializing view as actual.\n",
      "... storing 'has_natural killer cell_neighbor_str' as categorical\n"
     ]
    },
    {
     "name": "stdout",
     "output_type": "stream",
     "text": [
      "endothelial cell natural killer cell\n"
     ]
    },
    {
     "name": "stderr",
     "output_type": "stream",
     "text": [
      "2025-03-21 17:01:02,384 [WARNING] Duplicated values found in preranked stats: 83.77% of genes\n",
      "The order of those genes will be arbitrary, which may produce unexpected results.\n",
      "2025-03-21 17:01:02,494 [WARNING] Duplicated values found in preranked stats: 83.77% of genes\n",
      "The order of those genes will be arbitrary, which may produce unexpected results.\n",
      "2025-03-21 17:01:02,604 [WARNING] Duplicated values found in preranked stats: 89.66% of genes\n",
      "The order of those genes will be arbitrary, which may produce unexpected results.\n",
      "/tmp/ipykernel_4034932/1738316690.py:188: ImplicitModificationWarning: Trying to modify attribute `.obs` of view, initializing view as actual.\n",
      "... storing 'has_natural killer cell_neighbor_str' as categorical\n",
      "2025-03-21 17:01:02,804 [WARNING] Duplicated values found in preranked stats: 99.72% of genes\n",
      "The order of those genes will be arbitrary, which may produce unexpected results.\n"
     ]
    },
    {
     "name": "stdout",
     "output_type": "stream",
     "text": [
      "epithelial cell of lung natural killer cell\n"
     ]
    },
    {
     "name": "stderr",
     "output_type": "stream",
     "text": [
      "2025-03-21 17:01:02,915 [WARNING] Duplicated values found in preranked stats: 99.72% of genes\n",
      "The order of those genes will be arbitrary, which may produce unexpected results.\n",
      "2025-03-21 17:01:03,026 [WARNING] Duplicated values found in preranked stats: 99.78% of genes\n",
      "The order of those genes will be arbitrary, which may produce unexpected results.\n",
      "/tmp/ipykernel_4034932/1738316690.py:188: ImplicitModificationWarning: Trying to modify attribute `.obs` of view, initializing view as actual.\n",
      "... storing 'has_natural killer cell_neighbor_str' as categorical\n"
     ]
    },
    {
     "name": "stdout",
     "output_type": "stream",
     "text": [
      "granulocyte natural killer cell\n"
     ]
    },
    {
     "ename": "KeyboardInterrupt",
     "evalue": "",
     "output_type": "error",
     "traceback": [
      "\u001b[0;31m---------------------------------------------------------------------------\u001b[0m",
      "\u001b[0;31mKeyboardInterrupt\u001b[0m                         Traceback (most recent call last)",
      "Cell \u001b[0;32mIn[333], line 189\u001b[0m\n\u001b[1;32m    184\u001b[0m \u001b[38;5;66;03m###\u001b[39;00m\n\u001b[1;32m    185\u001b[0m \u001b[38;5;66;03m### DIFF EXPR TEST: check DE genes between cti with ctj neighbor or not\u001b[39;00m\n\u001b[1;32m    186\u001b[0m \u001b[38;5;66;03m###\u001b[39;00m\n\u001b[1;32m    188\u001b[0m adata_cti\u001b[38;5;241m.\u001b[39mobs[\u001b[38;5;124mf\u001b[39m\u001b[38;5;124m\"\u001b[39m\u001b[38;5;124mhas_\u001b[39m\u001b[38;5;132;01m{\u001b[39;00mctj\u001b[38;5;132;01m}\u001b[39;00m\u001b[38;5;124m_neighbor_str\u001b[39m\u001b[38;5;124m\"\u001b[39m] \u001b[38;5;241m=\u001b[39m adata_cti\u001b[38;5;241m.\u001b[39mobs[\u001b[38;5;124mf\u001b[39m\u001b[38;5;124m\"\u001b[39m\u001b[38;5;124mhas_\u001b[39m\u001b[38;5;132;01m{\u001b[39;00mctj\u001b[38;5;132;01m}\u001b[39;00m\u001b[38;5;124m_neighbor\u001b[39m\u001b[38;5;124m\"\u001b[39m]\u001b[38;5;241m.\u001b[39mastype(\u001b[38;5;28mstr\u001b[39m)\n\u001b[0;32m--> 189\u001b[0m \u001b[43msc\u001b[49m\u001b[38;5;241;43m.\u001b[39;49m\u001b[43mtl\u001b[49m\u001b[38;5;241;43m.\u001b[39;49m\u001b[43mrank_genes_groups\u001b[49m\u001b[43m(\u001b[49m\n\u001b[1;32m    190\u001b[0m \u001b[43m    \u001b[49m\u001b[43madata_cti\u001b[49m\u001b[43m,\u001b[49m\u001b[43m \u001b[49m\u001b[43mgroupby\u001b[49m\u001b[38;5;241;43m=\u001b[39;49m\u001b[38;5;124;43mf\u001b[39;49m\u001b[38;5;124;43m\"\u001b[39;49m\u001b[38;5;124;43mhas_\u001b[39;49m\u001b[38;5;132;43;01m{\u001b[39;49;00m\u001b[43mctj\u001b[49m\u001b[38;5;132;43;01m}\u001b[39;49;00m\u001b[38;5;124;43m_neighbor_str\u001b[39;49m\u001b[38;5;124;43m\"\u001b[39;49m\u001b[43m,\u001b[49m\u001b[43m \u001b[49m\u001b[43mgroups\u001b[49m\u001b[38;5;241;43m=\u001b[39;49m\u001b[43m[\u001b[49m\u001b[38;5;124;43m\"\u001b[39;49m\u001b[38;5;124;43mTrue\u001b[39;49m\u001b[38;5;124;43m\"\u001b[39;49m\u001b[43m]\u001b[49m\u001b[43m,\u001b[49m\u001b[43m \u001b[49m\u001b[43mreference\u001b[49m\u001b[38;5;241;43m=\u001b[39;49m\u001b[38;5;124;43m\"\u001b[39;49m\u001b[38;5;124;43mFalse\u001b[39;49m\u001b[38;5;124;43m\"\u001b[39;49m\u001b[43m,\u001b[49m\u001b[43m \u001b[49m\u001b[43mmethod\u001b[49m\u001b[38;5;241;43m=\u001b[39;49m\u001b[38;5;124;43m\"\u001b[39;49m\u001b[38;5;124;43mwilcoxon\u001b[39;49m\u001b[38;5;124;43m\"\u001b[39;49m\n\u001b[1;32m    191\u001b[0m \u001b[43m\u001b[49m\u001b[43m)\u001b[49m\n\u001b[1;32m    192\u001b[0m df_diffexpr[cti, ctj] \u001b[38;5;241m=\u001b[39m sc\u001b[38;5;241m.\u001b[39mget\u001b[38;5;241m.\u001b[39mrank_genes_groups_df(adata_cti, group\u001b[38;5;241m=\u001b[39m\u001b[38;5;124m\"\u001b[39m\u001b[38;5;124mTrue\u001b[39m\u001b[38;5;124m\"\u001b[39m)\n\u001b[1;32m    194\u001b[0m \u001b[38;5;66;03m# add ranking score by -log10pvals_x_logfoldchanges. Use offset to avoid -log10(pval) = inf\u001b[39;00m\n",
      "File \u001b[0;32m/work/PRTNR/CHUV/DIR/rgottar1/spatial/env/jbac/miniforge3/envs/spatial/lib/python3.11/site-packages/legacy_api_wrap/__init__.py:82\u001b[0m, in \u001b[0;36mlegacy_api.<locals>.wrapper.<locals>.fn_compatible\u001b[0;34m(*args_all, **kw)\u001b[0m\n\u001b[1;32m     79\u001b[0m \u001b[38;5;129m@wraps\u001b[39m(fn)\n\u001b[1;32m     80\u001b[0m \u001b[38;5;28;01mdef\u001b[39;00m\u001b[38;5;250m \u001b[39m\u001b[38;5;21mfn_compatible\u001b[39m(\u001b[38;5;241m*\u001b[39margs_all: P\u001b[38;5;241m.\u001b[39margs, \u001b[38;5;241m*\u001b[39m\u001b[38;5;241m*\u001b[39mkw: P\u001b[38;5;241m.\u001b[39mkwargs) \u001b[38;5;241m-\u001b[39m\u001b[38;5;241m>\u001b[39m R:\n\u001b[1;32m     81\u001b[0m     \u001b[38;5;28;01mif\u001b[39;00m \u001b[38;5;28mlen\u001b[39m(args_all) \u001b[38;5;241m<\u001b[39m\u001b[38;5;241m=\u001b[39m n_positional:\n\u001b[0;32m---> 82\u001b[0m         \u001b[38;5;28;01mreturn\u001b[39;00m \u001b[43mfn\u001b[49m\u001b[43m(\u001b[49m\u001b[38;5;241;43m*\u001b[39;49m\u001b[43margs_all\u001b[49m\u001b[43m,\u001b[49m\u001b[43m \u001b[49m\u001b[38;5;241;43m*\u001b[39;49m\u001b[38;5;241;43m*\u001b[39;49m\u001b[43mkw\u001b[49m\u001b[43m)\u001b[49m\n\u001b[1;32m     84\u001b[0m     args_pos: P\u001b[38;5;241m.\u001b[39margs\n\u001b[1;32m     85\u001b[0m     args_pos, args_rest \u001b[38;5;241m=\u001b[39m args_all[:n_positional], args_all[n_positional:]\n",
      "File \u001b[0;32m/work/PRTNR/CHUV/DIR/rgottar1/spatial/env/jbac/miniforge3/envs/spatial/lib/python3.11/site-packages/scanpy/tools/_rank_genes_groups.py:676\u001b[0m, in \u001b[0;36mrank_genes_groups\u001b[0;34m(adata, groupby, mask_var, use_raw, groups, reference, n_genes, rankby_abs, pts, key_added, copy, method, corr_method, tie_correct, layer, **kwds)\u001b[0m\n\u001b[1;32m    673\u001b[0m logg\u001b[38;5;241m.\u001b[39mdebug(\u001b[38;5;124mf\u001b[39m\u001b[38;5;124m\"\u001b[39m\u001b[38;5;124mconsider \u001b[39m\u001b[38;5;132;01m{\u001b[39;00mgroupby\u001b[38;5;132;01m!r}\u001b[39;00m\u001b[38;5;124m groups:\u001b[39m\u001b[38;5;124m\"\u001b[39m)\n\u001b[1;32m    674\u001b[0m logg\u001b[38;5;241m.\u001b[39mdebug(\u001b[38;5;124mf\u001b[39m\u001b[38;5;124m\"\u001b[39m\u001b[38;5;124mwith sizes: \u001b[39m\u001b[38;5;132;01m{\u001b[39;00mnp\u001b[38;5;241m.\u001b[39mcount_nonzero(test_obj\u001b[38;5;241m.\u001b[39mgroups_masks_obs,\u001b[38;5;250m \u001b[39maxis\u001b[38;5;241m=\u001b[39m\u001b[38;5;241m1\u001b[39m)\u001b[38;5;132;01m}\u001b[39;00m\u001b[38;5;124m\"\u001b[39m)\n\u001b[0;32m--> 676\u001b[0m \u001b[43mtest_obj\u001b[49m\u001b[38;5;241;43m.\u001b[39;49m\u001b[43mcompute_statistics\u001b[49m\u001b[43m(\u001b[49m\n\u001b[1;32m    677\u001b[0m \u001b[43m    \u001b[49m\u001b[43mmethod\u001b[49m\u001b[43m,\u001b[49m\n\u001b[1;32m    678\u001b[0m \u001b[43m    \u001b[49m\u001b[43mcorr_method\u001b[49m\u001b[38;5;241;43m=\u001b[39;49m\u001b[43mcorr_method\u001b[49m\u001b[43m,\u001b[49m\n\u001b[1;32m    679\u001b[0m \u001b[43m    \u001b[49m\u001b[43mn_genes_user\u001b[49m\u001b[38;5;241;43m=\u001b[39;49m\u001b[43mn_genes_user\u001b[49m\u001b[43m,\u001b[49m\n\u001b[1;32m    680\u001b[0m \u001b[43m    \u001b[49m\u001b[43mrankby_abs\u001b[49m\u001b[38;5;241;43m=\u001b[39;49m\u001b[43mrankby_abs\u001b[49m\u001b[43m,\u001b[49m\n\u001b[1;32m    681\u001b[0m \u001b[43m    \u001b[49m\u001b[43mtie_correct\u001b[49m\u001b[38;5;241;43m=\u001b[39;49m\u001b[43mtie_correct\u001b[49m\u001b[43m,\u001b[49m\n\u001b[1;32m    682\u001b[0m \u001b[43m    \u001b[49m\u001b[38;5;241;43m*\u001b[39;49m\u001b[38;5;241;43m*\u001b[39;49m\u001b[43mkwds\u001b[49m\u001b[43m,\u001b[49m\n\u001b[1;32m    683\u001b[0m \u001b[43m\u001b[49m\u001b[43m)\u001b[49m\n\u001b[1;32m    685\u001b[0m \u001b[38;5;28;01mif\u001b[39;00m test_obj\u001b[38;5;241m.\u001b[39mpts \u001b[38;5;129;01mis\u001b[39;00m \u001b[38;5;129;01mnot\u001b[39;00m \u001b[38;5;28;01mNone\u001b[39;00m:\n\u001b[1;32m    686\u001b[0m     groups_names \u001b[38;5;241m=\u001b[39m [\u001b[38;5;28mstr\u001b[39m(name) \u001b[38;5;28;01mfor\u001b[39;00m name \u001b[38;5;129;01min\u001b[39;00m test_obj\u001b[38;5;241m.\u001b[39mgroups_order]\n",
      "File \u001b[0;32m/work/PRTNR/CHUV/DIR/rgottar1/spatial/env/jbac/miniforge3/envs/spatial/lib/python3.11/site-packages/scanpy/tools/_rank_genes_groups.py:413\u001b[0m, in \u001b[0;36m_RankGenes.compute_statistics\u001b[0;34m(self, method, corr_method, n_genes_user, rankby_abs, tie_correct, **kwds)\u001b[0m\n\u001b[1;32m    409\u001b[0m \u001b[38;5;28mself\u001b[39m\u001b[38;5;241m.\u001b[39mstats \u001b[38;5;241m=\u001b[39m \u001b[38;5;28;01mNone\u001b[39;00m\n\u001b[1;32m    411\u001b[0m n_genes \u001b[38;5;241m=\u001b[39m \u001b[38;5;28mself\u001b[39m\u001b[38;5;241m.\u001b[39mX\u001b[38;5;241m.\u001b[39mshape[\u001b[38;5;241m1\u001b[39m]\n\u001b[0;32m--> 413\u001b[0m \u001b[43m\u001b[49m\u001b[38;5;28;43;01mfor\u001b[39;49;00m\u001b[43m \u001b[49m\u001b[43mgroup_index\u001b[49m\u001b[43m,\u001b[49m\u001b[43m \u001b[49m\u001b[43mscores\u001b[49m\u001b[43m,\u001b[49m\u001b[43m \u001b[49m\u001b[43mpvals\u001b[49m\u001b[43m \u001b[49m\u001b[38;5;129;43;01min\u001b[39;49;00m\u001b[43m \u001b[49m\u001b[43mgenerate_test_results\u001b[49m\u001b[43m:\u001b[49m\n\u001b[1;32m    414\u001b[0m \u001b[43m    \u001b[49m\u001b[43mgroup_name\u001b[49m\u001b[43m \u001b[49m\u001b[38;5;241;43m=\u001b[39;49m\u001b[43m \u001b[49m\u001b[38;5;28;43mstr\u001b[39;49m\u001b[43m(\u001b[49m\u001b[38;5;28;43mself\u001b[39;49m\u001b[38;5;241;43m.\u001b[39;49m\u001b[43mgroups_order\u001b[49m\u001b[43m[\u001b[49m\u001b[43mgroup_index\u001b[49m\u001b[43m]\u001b[49m\u001b[43m)\u001b[49m\n\u001b[1;32m    416\u001b[0m \u001b[43m    \u001b[49m\u001b[38;5;28;43;01mif\u001b[39;49;00m\u001b[43m \u001b[49m\u001b[43mn_genes_user\u001b[49m\u001b[43m \u001b[49m\u001b[38;5;129;43;01mis\u001b[39;49;00m\u001b[43m \u001b[49m\u001b[38;5;129;43;01mnot\u001b[39;49;00m\u001b[43m \u001b[49m\u001b[38;5;28;43;01mNone\u001b[39;49;00m\u001b[43m:\u001b[49m\n",
      "File \u001b[0;32m/work/PRTNR/CHUV/DIR/rgottar1/spatial/env/jbac/miniforge3/envs/spatial/lib/python3.11/site-packages/scanpy/tools/_rank_genes_groups.py:308\u001b[0m, in \u001b[0;36m_RankGenes.wilcoxon\u001b[0;34m(self, tie_correct)\u001b[0m\n\u001b[1;32m    302\u001b[0m     logg\u001b[38;5;241m.\u001b[39mhint(\n\u001b[1;32m    303\u001b[0m         \u001b[38;5;124m\"\u001b[39m\u001b[38;5;124mFew observations in a group for \u001b[39m\u001b[38;5;124m\"\u001b[39m\n\u001b[1;32m    304\u001b[0m         \u001b[38;5;124m\"\u001b[39m\u001b[38;5;124mnormal approximation (<=25). Lower test accuracy.\u001b[39m\u001b[38;5;124m\"\u001b[39m\n\u001b[1;32m    305\u001b[0m     )\n\u001b[1;32m    307\u001b[0m \u001b[38;5;66;03m# Calculate rank sums for each chunk for the current mask\u001b[39;00m\n\u001b[0;32m--> 308\u001b[0m \u001b[43m\u001b[49m\u001b[38;5;28;43;01mfor\u001b[39;49;00m\u001b[43m \u001b[49m\u001b[43mranks\u001b[49m\u001b[43m,\u001b[49m\u001b[43m \u001b[49m\u001b[43mleft\u001b[49m\u001b[43m,\u001b[49m\u001b[43m \u001b[49m\u001b[43mright\u001b[49m\u001b[43m \u001b[49m\u001b[38;5;129;43;01min\u001b[39;49;00m\u001b[43m \u001b[49m\u001b[43m_ranks\u001b[49m\u001b[43m(\u001b[49m\u001b[38;5;28;43mself\u001b[39;49m\u001b[38;5;241;43m.\u001b[39;49m\u001b[43mX\u001b[49m\u001b[43m,\u001b[49m\u001b[43m \u001b[49m\u001b[43mmask_obs\u001b[49m\u001b[43m,\u001b[49m\u001b[43m \u001b[49m\u001b[43mmask_obs_rest\u001b[49m\u001b[43m)\u001b[49m\u001b[43m:\u001b[49m\n\u001b[1;32m    309\u001b[0m \u001b[43m    \u001b[49m\u001b[43mscores\u001b[49m\u001b[43m[\u001b[49m\u001b[43mleft\u001b[49m\u001b[43m:\u001b[49m\u001b[43mright\u001b[49m\u001b[43m]\u001b[49m\u001b[43m \u001b[49m\u001b[38;5;241;43m=\u001b[39;49m\u001b[43m \u001b[49m\u001b[43mranks\u001b[49m\u001b[38;5;241;43m.\u001b[39;49m\u001b[43miloc\u001b[49m\u001b[43m[\u001b[49m\u001b[38;5;241;43m0\u001b[39;49m\u001b[43m:\u001b[49m\u001b[43mn_active\u001b[49m\u001b[43m,\u001b[49m\u001b[43m \u001b[49m\u001b[43m:\u001b[49m\u001b[43m]\u001b[49m\u001b[38;5;241;43m.\u001b[39;49m\u001b[43msum\u001b[49m\u001b[43m(\u001b[49m\u001b[43maxis\u001b[49m\u001b[38;5;241;43m=\u001b[39;49m\u001b[38;5;241;43m0\u001b[39;49m\u001b[43m)\u001b[49m\n\u001b[1;32m    310\u001b[0m \u001b[43m    \u001b[49m\u001b[38;5;28;43;01mif\u001b[39;49;00m\u001b[43m \u001b[49m\u001b[43mtie_correct\u001b[49m\u001b[43m:\u001b[49m\n",
      "File \u001b[0;32m/work/PRTNR/CHUV/DIR/rgottar1/spatial/env/jbac/miniforge3/envs/spatial/lib/python3.11/site-packages/scanpy/tools/_rank_genes_groups.py:79\u001b[0m, in \u001b[0;36m_ranks\u001b[0;34m(X, mask_obs, mask_obs_rest)\u001b[0m\n\u001b[1;32m     76\u001b[0m right \u001b[38;5;241m=\u001b[39m \u001b[38;5;28mmin\u001b[39m(left \u001b[38;5;241m+\u001b[39m max_chunk, n_genes)\n\u001b[1;32m     78\u001b[0m df \u001b[38;5;241m=\u001b[39m pd\u001b[38;5;241m.\u001b[39mDataFrame(data\u001b[38;5;241m=\u001b[39mget_chunk(X, left, right))\n\u001b[0;32m---> 79\u001b[0m ranks \u001b[38;5;241m=\u001b[39m \u001b[43mdf\u001b[49m\u001b[38;5;241;43m.\u001b[39;49m\u001b[43mrank\u001b[49m\u001b[43m(\u001b[49m\u001b[43m)\u001b[49m\n\u001b[1;32m     80\u001b[0m \u001b[38;5;28;01myield\u001b[39;00m ranks, left, right\n",
      "File \u001b[0;32m/work/PRTNR/CHUV/DIR/rgottar1/spatial/env/jbac/miniforge3/envs/spatial/lib/python3.11/site-packages/pandas/core/generic.py:10104\u001b[0m, in \u001b[0;36mNDFrame.rank\u001b[0;34m(self, axis, method, numeric_only, na_option, ascending, pct)\u001b[0m\n\u001b[1;32m  10101\u001b[0m \u001b[38;5;28;01melse\u001b[39;00m:\n\u001b[1;32m  10102\u001b[0m     data \u001b[38;5;241m=\u001b[39m \u001b[38;5;28mself\u001b[39m\n\u001b[0;32m> 10104\u001b[0m \u001b[38;5;28;01mreturn\u001b[39;00m \u001b[43mranker\u001b[49m\u001b[43m(\u001b[49m\u001b[43mdata\u001b[49m\u001b[43m)\u001b[49m\n",
      "File \u001b[0;32m/work/PRTNR/CHUV/DIR/rgottar1/spatial/env/jbac/miniforge3/envs/spatial/lib/python3.11/site-packages/pandas/core/generic.py:10081\u001b[0m, in \u001b[0;36mNDFrame.rank.<locals>.ranker\u001b[0;34m(data)\u001b[0m\n\u001b[1;32m  10073\u001b[0m     ranks \u001b[38;5;241m=\u001b[39m values\u001b[38;5;241m.\u001b[39m_rank(\n\u001b[1;32m  10074\u001b[0m         axis\u001b[38;5;241m=\u001b[39maxis_int,\n\u001b[1;32m  10075\u001b[0m         method\u001b[38;5;241m=\u001b[39mmethod,\n\u001b[0;32m   (...)\u001b[0m\n\u001b[1;32m  10078\u001b[0m         pct\u001b[38;5;241m=\u001b[39mpct,\n\u001b[1;32m  10079\u001b[0m     )\n\u001b[1;32m  10080\u001b[0m \u001b[38;5;28;01melse\u001b[39;00m:\n\u001b[0;32m> 10081\u001b[0m     ranks \u001b[38;5;241m=\u001b[39m \u001b[43malgos\u001b[49m\u001b[38;5;241;43m.\u001b[39;49m\u001b[43mrank\u001b[49m\u001b[43m(\u001b[49m\n\u001b[1;32m  10082\u001b[0m \u001b[43m        \u001b[49m\u001b[43mvalues\u001b[49m\u001b[43m,\u001b[49m\n\u001b[1;32m  10083\u001b[0m \u001b[43m        \u001b[49m\u001b[43maxis\u001b[49m\u001b[38;5;241;43m=\u001b[39;49m\u001b[43maxis_int\u001b[49m\u001b[43m,\u001b[49m\n\u001b[1;32m  10084\u001b[0m \u001b[43m        \u001b[49m\u001b[43mmethod\u001b[49m\u001b[38;5;241;43m=\u001b[39;49m\u001b[43mmethod\u001b[49m\u001b[43m,\u001b[49m\n\u001b[1;32m  10085\u001b[0m \u001b[43m        \u001b[49m\u001b[43mascending\u001b[49m\u001b[38;5;241;43m=\u001b[39;49m\u001b[43mascending\u001b[49m\u001b[43m,\u001b[49m\n\u001b[1;32m  10086\u001b[0m \u001b[43m        \u001b[49m\u001b[43mna_option\u001b[49m\u001b[38;5;241;43m=\u001b[39;49m\u001b[43mna_option\u001b[49m\u001b[43m,\u001b[49m\n\u001b[1;32m  10087\u001b[0m \u001b[43m        \u001b[49m\u001b[43mpct\u001b[49m\u001b[38;5;241;43m=\u001b[39;49m\u001b[43mpct\u001b[49m\u001b[43m,\u001b[49m\n\u001b[1;32m  10088\u001b[0m \u001b[43m    \u001b[49m\u001b[43m)\u001b[49m\n\u001b[1;32m  10090\u001b[0m ranks_obj \u001b[38;5;241m=\u001b[39m \u001b[38;5;28mself\u001b[39m\u001b[38;5;241m.\u001b[39m_constructor(ranks, \u001b[38;5;241m*\u001b[39m\u001b[38;5;241m*\u001b[39mdata\u001b[38;5;241m.\u001b[39m_construct_axes_dict())\n\u001b[1;32m  10091\u001b[0m \u001b[38;5;28;01mreturn\u001b[39;00m ranks_obj\u001b[38;5;241m.\u001b[39m__finalize__(\u001b[38;5;28mself\u001b[39m, method\u001b[38;5;241m=\u001b[39m\u001b[38;5;124m\"\u001b[39m\u001b[38;5;124mrank\u001b[39m\u001b[38;5;124m\"\u001b[39m)\n",
      "File \u001b[0;32m/work/PRTNR/CHUV/DIR/rgottar1/spatial/env/jbac/miniforge3/envs/spatial/lib/python3.11/site-packages/pandas/core/algorithms.py:1111\u001b[0m, in \u001b[0;36mrank\u001b[0;34m(values, axis, method, na_option, ascending, pct)\u001b[0m\n\u001b[1;32m   1102\u001b[0m     ranks \u001b[38;5;241m=\u001b[39m algos\u001b[38;5;241m.\u001b[39mrank_1d(\n\u001b[1;32m   1103\u001b[0m         values,\n\u001b[1;32m   1104\u001b[0m         is_datetimelike\u001b[38;5;241m=\u001b[39mis_datetimelike,\n\u001b[0;32m   (...)\u001b[0m\n\u001b[1;32m   1108\u001b[0m         pct\u001b[38;5;241m=\u001b[39mpct,\n\u001b[1;32m   1109\u001b[0m     )\n\u001b[1;32m   1110\u001b[0m \u001b[38;5;28;01melif\u001b[39;00m values\u001b[38;5;241m.\u001b[39mndim \u001b[38;5;241m==\u001b[39m \u001b[38;5;241m2\u001b[39m:\n\u001b[0;32m-> 1111\u001b[0m     ranks \u001b[38;5;241m=\u001b[39m \u001b[43malgos\u001b[49m\u001b[38;5;241;43m.\u001b[39;49m\u001b[43mrank_2d\u001b[49m\u001b[43m(\u001b[49m\n\u001b[1;32m   1112\u001b[0m \u001b[43m        \u001b[49m\u001b[43mvalues\u001b[49m\u001b[43m,\u001b[49m\n\u001b[1;32m   1113\u001b[0m \u001b[43m        \u001b[49m\u001b[43maxis\u001b[49m\u001b[38;5;241;43m=\u001b[39;49m\u001b[43maxis\u001b[49m\u001b[43m,\u001b[49m\n\u001b[1;32m   1114\u001b[0m \u001b[43m        \u001b[49m\u001b[43mis_datetimelike\u001b[49m\u001b[38;5;241;43m=\u001b[39;49m\u001b[43mis_datetimelike\u001b[49m\u001b[43m,\u001b[49m\n\u001b[1;32m   1115\u001b[0m \u001b[43m        \u001b[49m\u001b[43mties_method\u001b[49m\u001b[38;5;241;43m=\u001b[39;49m\u001b[43mmethod\u001b[49m\u001b[43m,\u001b[49m\n\u001b[1;32m   1116\u001b[0m \u001b[43m        \u001b[49m\u001b[43mascending\u001b[49m\u001b[38;5;241;43m=\u001b[39;49m\u001b[43mascending\u001b[49m\u001b[43m,\u001b[49m\n\u001b[1;32m   1117\u001b[0m \u001b[43m        \u001b[49m\u001b[43mna_option\u001b[49m\u001b[38;5;241;43m=\u001b[39;49m\u001b[43mna_option\u001b[49m\u001b[43m,\u001b[49m\n\u001b[1;32m   1118\u001b[0m \u001b[43m        \u001b[49m\u001b[43mpct\u001b[49m\u001b[38;5;241;43m=\u001b[39;49m\u001b[43mpct\u001b[49m\u001b[43m,\u001b[49m\n\u001b[1;32m   1119\u001b[0m \u001b[43m    \u001b[49m\u001b[43m)\u001b[49m\n\u001b[1;32m   1120\u001b[0m \u001b[38;5;28;01melse\u001b[39;00m:\n\u001b[1;32m   1121\u001b[0m     \u001b[38;5;28;01mraise\u001b[39;00m \u001b[38;5;167;01mTypeError\u001b[39;00m(\u001b[38;5;124m\"\u001b[39m\u001b[38;5;124mArray with ndim > 2 are not supported.\u001b[39m\u001b[38;5;124m\"\u001b[39m)\n",
      "\u001b[0;31mKeyboardInterrupt\u001b[0m: "
     ]
    }
   ],
   "source": [
    "segmentation = '10x_mm_5um'\n",
    "condition = 'NSCLC'\n",
    "panel = '5k'\n",
    "donor = '1GQ9'\n",
    "sample = '1GQ9'\n",
    "normalisation = 'lognorm'\n",
    "layer = 'data'\n",
    "reference = 'matched_reference_combo'\n",
    "method = 'rctd_class_aware'\n",
    "level = 'Level2.1'\n",
    "\n",
    "k = (segmentation,condition,panel,donor,sample)\n",
    "if 'proseg' in segmentation:\n",
    "    k_dir = ('proseg',condition,panel,donor,sample)\n",
    "else:\n",
    "    k_dir = k\n",
    "name = '/'.join(k)\n",
    "name_dir = '/'.join(k_dir)\n",
    "sample_corrected_counts_path = Path(f\"../../../results/resolvi_supervised/{name}/lognorm/reference_based/matched_reference_combo/rctd_class_aware/Level2.1/mixture_k=50/num_samples=30/corrected_counts.h5\")\n",
    "sample_dir = Path(f'../../../data/xenium/processed/segmentation/{name_dir}') / 'normalised_results/outs' #'raw_results'\n",
    "sample_counts = Path(f'../../../data/xenium/processed/std_seurat_analysis/{name}/lognorm/normalised_counts/data.parquet')\n",
    "sample_idx = Path(f'../../../data/xenium/processed/std_seurat_analysis/{name}/lognorm/normalised_counts/cells.parquet')\n",
    "sample_annotation = Path(f'../../../data/xenium/_backups/_processed_problematic_matched_combo/cell_type_annotation/{name}/lognorm/reference_based/matched_reference_combo/rctd_class_aware/{level}/single_cell/labels.parquet')\n",
    "# ctj_markers_file = Path(f'../../../results/contamination_metrics_diffexpr/{name}/lognorm/{layer}_{reference}_{method}_{level}_marker_genes.parquet')\n",
    "ctj_markers_file = None\n",
    "# precomputed_adata_obs = adata.obs.copy()\n",
    "precomputed_adata_obs = None\n",
    "\n",
    "out_file_df_permutations = sample_dir / 'permutation_summary.parquet'\n",
    "out_file_df_importances = sample_dir / 'importances.parquet'\n",
    "out_file_df_diffexpr = sample_dir / 'diffexpr.parquet'\n",
    "out_file_df_markers_rank_significance_logreg = sample_dir / 'markers_rank_significance_logreg.json'\n",
    "out_file_df_markers_rank_significance_diffexpr = sample_dir / 'markers_rank_significance_diffexpr.json'\n",
    "# out_dir_liana_lrdata = sample_dir / 'liana_lrdata_folder'\n",
    "\n",
    "radius = 20\n",
    "n_neighbors = None\n",
    "n_permutations = 30\n",
    "n_repeats = 5\n",
    "top_n = 20\n",
    "top_n_lr = 10\n",
    "cti = \"macrophage\"\n",
    "ctj = \"malignant cell\"\n",
    "scoring = 'f1'\n",
    "markers = 'diffexpr'\n",
    "# markers = \"xenium_common_markers_file\"\n",
    "rank_metrics = [\"logfoldchanges\", \"-log10pvals_x_logfoldchanges\", \"-log10pvals_x_sign_logfoldchanges\"]\n",
    "index_diffexpr_metrics=[\"Name\",\"Term\",\"ES\",\"NES\",\"NOM p-val\",\"FDR q-val\",\"FWER p-val\",\"Tag %\",\"Gene %\",\"Lead_genes\",\"hypergeometric_pvalue\",\"mean_zscore\",\"mean_zscore_pvalue\"]\n",
    "\n",
    "####\n",
    "#### READ DATA\n",
    "####\n",
    "# read raw data to get spatial coordinates\n",
    "adata = readwrite.read_xenium_sample(\n",
    "    sample_dir,\n",
    "    cells_as_circles=False,\n",
    "    cells_boundaries=False,\n",
    "    cells_boundaries_layers=False,\n",
    "    nucleus_boundaries=False,\n",
    "    cells_labels=False,\n",
    "    nucleus_labels=False,\n",
    "    transcripts=False,\n",
    "    morphology_mip=False,\n",
    "    morphology_focus=False,\n",
    "    aligned_images=False,\n",
    "    anndata=True,\n",
    ")\n",
    "if 'proseg_expected' in sample_counts.as_posix():\n",
    "    adata.obs_names = 'proseg-'+adata.obs_names.astype(str)\n",
    "\n",
    "# read corrected counts\n",
    "if sample_corrected_counts_path is not None:\n",
    "    adata_corrected_counts = sc.read_10x_h5(\n",
    "        sample_corrected_counts_path,\n",
    "    )\n",
    "\n",
    "    adata_corrected_counts.obsm[\"spatial\"] = adata[adata_corrected_counts.obs_names].obsm[\"spatial\"]\n",
    "    adata = adata_corrected_counts\n",
    "\n",
    "\n",
    "# read normalised data, filter cells\n",
    "X_normalised = pd.read_parquet(sample_counts)\n",
    "X_normalised.index = pd.read_parquet(sample_idx).iloc[:, 0]\n",
    "X_normalised.columns = X_normalised.columns.str.replace('.','-')\n",
    "obs_found = [c for c in X_normalised.index if c in adata.obs_names]\n",
    "var_found = [g for g in X_normalised.columns if g in adata.var_names]\n",
    "adata = adata[obs_found,var_found]\n",
    "adata.layers['X_normalised'] = X_normalised.loc[obs_found,var_found]\n",
    "\n",
    "# log-normalize before DE\n",
    "sc.pp.normalize_total(adata)\n",
    "sc.pp.log1p(adata)\n",
    "\n",
    "\n",
    "# read labels\n",
    "label_key = \"label_key\"\n",
    "adata.obs[label_key] = pd.read_parquet(sample_annotation).set_index(\"cell_id\").iloc[:, 0]\n",
    "adata = adata[adata.obs[label_key].notna()]\n",
    "\n",
    "\n",
    "if \"Level2.1\" in sample_annotation.as_posix():\n",
    "    # for custom Level2.1, simplify malignant subtypes to malignant\n",
    "    adata.obs.loc[adata.obs[label_key].str.contains(\"malignant\"), label_key] = \"malignant cell\"\n",
    "    adata.obs.loc[adata.obs[label_key].str.contains(\"T cell\"), label_key] = \"T cell\"\n",
    "\n",
    "# read markers if needed\n",
    "if markers != \"diffexpr\":\n",
    "    if markers == \"xenium_common_markers_file\":\n",
    "        level_simplified = 'Level1'\n",
    "        palette = pd.read_csv('/work/PRTNR/CHUV/DIR/rgottar1/spatial/env/xenium_paper/data/xenium/metadata/col_palette_cell_types_combo.csv')\n",
    "        cell_types_mapping = palette.set_index(level)[level_simplified].replace(r' of .+', '', regex=True)\n",
    "        cell_types_mapping[cell_types_mapping.str.contains('malignant')] = 'malignant cell'\n",
    "        adata.obs[label_key] = adata.obs[label_key].replace(cell_types_mapping)\n",
    "        df_markers = pd.read_csv('/work/PRTNR/CHUV/DIR/rgottar1/spatial/env/xenium_paper/data/markers/Xenium_panels_common_markers.csv')[[\"cell_type\",\"gene_name\"]]\n",
    "    else:\n",
    "        df_markers = pd.read_csv(markers)[[\"cell_type\",\"gene_name\"]]\n",
    "\n",
    "    ct_not_found = adata.obs[label_key][~adata.obs[label_key].isin(df_markers['cell_type'])].unique()\n",
    "    print(f\"Could not find {ct_not_found} in markers file\")\n",
    "    adata = adata[adata.obs[label_key].isin(df_markers['cell_type'])]\n",
    "else:\n",
    "    # get precomputed markers from raw data\n",
    "    if ctj_markers_file is not None:\n",
    "        print(f\"Loading precomputed {ctj} markers\")\n",
    "        df_ctj_marker_genes_precomputed = pd.read_parquet(ctj_markers_file)\n",
    "\n",
    "# define target (cell type j presence in kNN)\n",
    "if precomputed_adata_obs is not None:\n",
    "    print(\"Loading precomputed adata obs\")\n",
    "    # adata.obs = pd.read_parquet(precomputed_adata_obs)\n",
    "    adata.obs = precomputed_adata_obs\n",
    "else:\n",
    "    # get kNN graph\n",
    "    obsm = \"spatial\"\n",
    "    knnlabels, knndis, knnidx, knn_graph = _utils.get_knn_labels(\n",
    "        adata, n_neighbors=n_neighbors, radius=radius, label_key=label_key, obsm=obsm, return_sparse_neighbors=True\n",
    "    )\n",
    "\n",
    "    adata.obsp[f\"{obsm}_connectivities\"] = knn_graph\n",
    "\n",
    "\n",
    "# iterate over targets permutations (cell type i with cell type j presence in kNN)\n",
    "df_diffexpr = {}\n",
    "df_markers_rank_significance_diffexpr = {}\n",
    "u_cell_types = adata.obs[label_key].unique()\n",
    "df_ctj_marker_genes = {}\n",
    "\n",
    "for ctj in u_cell_types:\n",
    "    if (adata.obs[label_key] == ctj).sum() < 30:\n",
    "        print(f\"Not enough cells from class {ctj}\")\n",
    "        continue\n",
    "\n",
    "    # get markers\n",
    "    if markers == \"diffexpr\":\n",
    "        if ctj_markers_file is not None:\n",
    "            print(f\"Loading precomputed {ctj} markers\")\n",
    "            ctj_marker_genes_precomputed = df_ctj_marker_genes_precomputed[ctj]\n",
    "\n",
    "        sc.tl.rank_genes_groups(adata, groupby=label_key, groups=[ctj], reference=\"rest\", method=\"wilcoxon\")\n",
    "        ctj_marker_genes = sc.get.rank_genes_groups_df(adata, group=ctj)[\"names\"][: top_n].tolist()\n",
    "    else:\n",
    "        ctj_marker_genes = df_markers[df_markers[\"cell_type\"] == ctj][\"gene\"].tolist()\n",
    "        ctj_marker_genes = [g for g in ctj_marker_genes if g in adata.var_names]\n",
    "\n",
    "        assert len(ctj_marker_genes), f\"no markers found for {ctj}\"\n",
    "\n",
    "    df_ctj_marker_genes[ctj] = ctj_marker_genes\n",
    "\n",
    "    for cti in u_cell_types:\n",
    "        if cti == ctj:\n",
    "            continue\n",
    "        print(cti, ctj)\n",
    "        \n",
    "        if precomputed_adata_obs is None:\n",
    "            adata.obs[f\"has_{ctj}_neighbor\"] = knnlabels[ctj] > 0\n",
    "\n",
    "        # Filter for cti\n",
    "        adata_cti = adata[adata.obs[label_key] == cti]\n",
    "\n",
    "        if (adata_cti.obs[f\"has_{ctj}_neighbor\"]).sum() < 30 or (~adata_cti.obs[f\"has_{ctj}_neighbor\"]).sum() < 30:\n",
    "            print(f\"Not enough cells from each class to test {cti} with {ctj} neighbors\")\n",
    "            continue\n",
    "\n",
    "        ###\n",
    "        ### DIFF EXPR TEST: check DE genes between cti with ctj neighbor or not\n",
    "        ###\n",
    "\n",
    "        adata_cti.obs[f\"has_{ctj}_neighbor_str\"] = adata_cti.obs[f\"has_{ctj}_neighbor\"].astype(str)\n",
    "        sc.tl.rank_genes_groups(\n",
    "            adata_cti, groupby=f\"has_{ctj}_neighbor_str\", groups=[\"True\"], reference=\"False\", method=\"wilcoxon\"\n",
    "        )\n",
    "        df_diffexpr[cti, ctj] = sc.get.rank_genes_groups_df(adata_cti, group=\"True\")\n",
    "\n",
    "        # add ranking score by -log10pvals_x_logfoldchanges. Use offset to avoid -log10(pval) = inf\n",
    "        pvals = df_diffexpr[cti, ctj][\"pvals\"]\n",
    "        df_diffexpr[cti, ctj][\"pvals_offset\"] = pvals + pvals[pvals > 0].min() * 0.1\n",
    "        df_diffexpr[cti, ctj][\"-log10pvals_x_logfoldchanges\"] = (\n",
    "            -np.log10(df_diffexpr[cti, ctj][\"pvals_offset\"]) * df_diffexpr[cti, ctj][\"logfoldchanges\"]\n",
    "        )\n",
    "\n",
    "        # add ranking score by log10pvals_x_signlogFC\n",
    "        df_diffexpr[cti, ctj][\"-log10pvals_x_sign_logfoldchanges\"] = -np.log10(df_diffexpr[cti, ctj][\"pvals\"]) * np.sign(\n",
    "            df_diffexpr[cti, ctj][\"logfoldchanges\"]\n",
    "        )\n",
    "\n",
    "        # get significance from gsea and hypergeometric test\n",
    "        df_markers_rank_significance_diffexpr[cti, ctj] = pd.DataFrame(index=index_diffexpr_metrics)\n",
    "        dict_ctj_marker_genes = {'':ctj_marker_genes}\n",
    "\n",
    "        if ctj_markers_file is not None:\n",
    "            # also compute scores for precomputed marker gene list\n",
    "            dict_ctj_marker_genes['_precomputed'] = (ctj_marker_genes_precomputed)\n",
    "        \n",
    "        for k_,markers_ in dict_ctj_marker_genes.items():\n",
    "        \n",
    "            for rank_metric in rank_metrics:\n",
    "                df_markers_rank_significance_diffexpr[cti, ctj][rank_metric+k_] = _utils.get_marker_rank_significance(\n",
    "                    rnk=df_diffexpr[cti, ctj].set_index(\"names\")[rank_metric].sort_values(ascending=False),\n",
    "                    gene_set=markers_,\n",
    "                    top_n=top_n,\n",
    "                ).iloc[0]\n",
    "\n",
    "\n",
    "            # add pvalue metrics\n",
    "            mean_zscore = df_diffexpr[cti, ctj].set_index(\"names\")[\"scores\"].loc[markers_].mean()\n",
    "            mean_zscore_pvalue =  scipy.stats.norm.sf(np.abs(mean_zscore)) * 2 # Two-tailed p-value\n",
    "            df_markers_rank_significance_diffexpr[cti, ctj][\"mean_zscore\" + k_] = pd.Series([mean_zscore,mean_zscore_pvalue],index=['mean_zscore','mean_zscore_pvalue'])\n",
    "\n",
    "\n",
    "# count number of True/False for each has_{ctj}_neighbor column\n",
    "cols = [f\"has_{ctj}_neighbor\" for ctj in u_cell_types]\n",
    "df_has_neighbor_counts = (\n",
    "    adata.obs.melt(id_vars=[label_key], value_vars=cols).groupby([label_key, 'variable'],observed=True)['value']\n",
    "    .value_counts()\n",
    "    .reset_index(name='count')\n",
    ")\n",
    "\n",
    "adata.obs['n_genes'] = (adata.X>0).sum(axis=1).A1\n",
    "\n",
    "###\n",
    "### SAVE OUTPUTS\n",
    "###\n",
    "# general stats\n",
    "summary_stats = {\n",
    "    \"n_cells\": len(adata),\n",
    "    \"n_cells_by_type\": adata.obs[label_key].value_counts().to_dict(),\n",
    "    \"mean_n_genes_by_type\": adata.obs.groupby(label_key,observed=True)[\"n_genes\"].mean().to_dict(),\n",
    "    \"median_n_genes_by_type\": adata.obs.groupby(label_key,observed=True)[\"n_genes\"].median().to_dict(),\n",
    "    \"mean_n_genes\": adata.obs[\"n_genes\"].mean(),\n",
    "    \"median_n_genes\": adata.obs[\"n_genes\"].median(),\n",
    "    \"df_has_neighbor_counts\": df_has_neighbor_counts.to_dict(),  # Storing the DataFrame\n",
    "}\n",
    "\n",
    "# with open(\"summary_stats.json\", \"w\") as f:\n",
    "#     json.dump(summary_stats,f)\n",
    "\n",
    "# df_permutations_logreg = pd.concat(df_permutations_logreg)\n",
    "# df_importances_logreg = pd.concat(df_importances_logreg)\n",
    "# df_diffexpr = pd.concat(df_diffexpr)\n",
    "# df_markers_rank_significance_logreg = pd.concat(df_markers_rank_significance_logreg)\n",
    "# df_markers_rank_significance_diffexpr = pd.concat(df_markers_rank_significance_diffexpr)\n",
    "\n",
    "#logreg\n",
    "# df_permutations.to_parquet(out_file_df_permutations)\n",
    "# df_importances.to_parquet(out_file_df_importances)\n",
    "# df_markers_rank_significance_logreg.to_parquet(out_file_df_markers_rank_significance_logreg)\n",
    "\n",
    "# #diffexpr\n",
    "# df_diffexpr.to_parquet(out_file_df_diffexpr)\n",
    "# df_markers_rank_significance_diffexpr.to_parquet(out_file_df_markers_rank_significance_diffexpr)\n",
    "\n",
    "#liana\n",
    "# readwrite.write_anndata_folder(lrdata, outm_dir_liana_lrdata)"
   ]
  },
  {
   "cell_type": "markdown",
   "metadata": {},
   "source": [
    "## Compute metrics marker purity"
   ]
  },
  {
   "cell_type": "code",
   "execution_count": 89,
   "metadata": {},
   "outputs": [
    {
     "name": "stderr",
     "output_type": "stream",
     "text": [
      "/work/PRTNR/CHUV/DIR/rgottar1/spatial/env/jbac/miniforge3/envs/spatial/lib/python3.11/site-packages/anndata/_core/aligned_df.py:68: ImplicitModificationWarning: Transforming to str index.\n",
      "/work/PRTNR/CHUV/DIR/rgottar1/spatial/env/jbac/miniforge3/envs/spatial/lib/python3.11/site-packages/spatialdata/_core/spatialdata.py:185: UserWarning: The table is annotating 'cell_polygons', which is not present in the SpatialData object.\n",
      "/work/PRTNR/CHUV/DIR/rgottar1/spatial/env/jbac/miniforge3/envs/spatial/lib/python3.11/site-packages/anndata/_core/anndata.py:822: UserWarning: \n",
      "AnnData expects .obs.index to contain strings, but got values like:\n",
      "    [0, 1, 2, 3, 4]\n",
      "\n",
      "    Inferred to be: integer\n",
      "\n",
      "/tmp/ipykernel_1891581/602649072.py:69: ImplicitModificationWarning: Setting element `.layers['X_normalised']` of view, initializing view as actual.\n"
     ]
    },
    {
     "name": "stdout",
     "output_type": "stream",
     "text": [
      "metrics_summary.csv not found at: /work/PRTNR/CHUV/DIR/rgottar1/spatial/env/xenium_paper/data/xenium/processed/segmentation/proseg/NSCLC/lung/0S8R/0S8R/raw_results/metrics_summary.csv\n",
      "Could not find ['cycling lymphocyte'] in markers file\n",
      "stromal cell malignant cell\n"
     ]
    },
    {
     "name": "stderr",
     "output_type": "stream",
     "text": [
      "/tmp/ipykernel_1891581/602649072.py:79: ImplicitModificationWarning: Trying to modify attribute `.obs` of view, initializing view as actual.\n",
      "/tmp/ipykernel_1891581/602649072.py:136: ImplicitModificationWarning: Trying to modify attribute `.obs` of view, initializing view as actual.\n"
     ]
    }
   ],
   "source": [
    "segmentation = 'proseg_expected'\n",
    "condition = 'NSCLC'\n",
    "panel = 'lung'\n",
    "donor = '0S8R'\n",
    "sample = '0S8R'\n",
    "k = (segmentation,condition,panel,donor,sample)\n",
    "if 'proseg' in segmentation:\n",
    "    k_dir = ('proseg',condition,panel,donor,sample)\n",
    "else:\n",
    "    k_dir = k\n",
    "name = '/'.join(k)\n",
    "name_dir = '/'.join(k_dir)\n",
    "sample_dir = Path(f'/work/PRTNR/CHUV/DIR/rgottar1/spatial/env/xenium_paper/data/xenium/processed/segmentation/{name_dir}') / 'raw_results'\n",
    "sample_counts = Path(f'/work/PRTNR/CHUV/DIR/rgottar1/spatial/env/xenium_paper/data/xenium/processed/std_seurat_analysis/{name}/lognorm/normalised_counts/data.parquet')\n",
    "sample_idx = Path(f'/work/PRTNR/CHUV/DIR/rgottar1/spatial/env/xenium_paper/data/xenium/processed/std_seurat_analysis/{name}/lognorm/normalised_counts/cells.parquet')\n",
    "cell_type_labels = Path(f'/work/PRTNR/CHUV/DIR/rgottar1/spatial/env/xenium_paper/data/xenium/processed/cell_type_annotation/{name}/lognorm/reference_based/matched_reference_combo/rctd_class_aware/Level2.1/single_cell/labels.parquet')\n",
    "\n",
    "out_file_df_permutations = sample_dir / 'permutation_summary.parquet'\n",
    "out_file_df_importances = sample_dir / 'importances.parquet'\n",
    "out_file_df_diffexpr = sample_dir / 'diffexpr.parquet'\n",
    "out_file_df_markers_rank_significance_logreg = sample_dir / 'markers_rank_significance_logreg.json'\n",
    "out_file_df_markers_rank_significance_diffexpr = sample_dir / 'markers_rank_significance_diffexpr.json'\n",
    "# out_dir_liana_lrdata = sample_dir / 'liana_lrdata_folder'\n",
    "\n",
    "n_neighbors = 10\n",
    "n_permutations = 30\n",
    "n_repeats = 5\n",
    "top_n = 20\n",
    "top_n_lr = 10\n",
    "cti = \"macrophage\"\n",
    "ctj = \"malignant cell\"\n",
    "scoring = 'f1'\n",
    "markers = '/work/PRTNR/CHUV/DIR/rgottar1/spatial/env/xenium_paper/data/markers/Xenium_panels_common_markers.csv'\n",
    "# markers = 'diffexpr'\n",
    "\n",
    "\n",
    "level_simplified = 'Level1'\n",
    "palette = pd.read_csv('/work/PRTNR/CHUV/DIR/rgottar1/spatial/env/xenium_paper/data/xenium/metadata/col_palette_cell_types_combo.csv')\n",
    "cell_types_mapping = palette.set_index('Level2.1')[level_simplified]\n",
    "cell_types_mapping[cell_types_mapping.str.contains('malignant')] = 'malignant cell'\n",
    "\n",
    "####\n",
    "#### READ DATA\n",
    "####\n",
    "# read raw data to get spatial coordinates\n",
    "adata = readwrite.read_xenium_sample(\n",
    "    sample_dir,\n",
    "    cells_as_circles=False,\n",
    "    cells_boundaries=False,\n",
    "    cells_boundaries_layers=False,\n",
    "    nucleus_boundaries=False,\n",
    "    cells_labels=False,\n",
    "    nucleus_labels=False,\n",
    "    transcripts=False,\n",
    "    morphology_mip=False,\n",
    "    morphology_focus=False,\n",
    "    aligned_images=False,\n",
    "    anndata=True,\n",
    ")\n",
    "if 'proseg_expected' in sample_counts.as_posix():\n",
    "    adata.obs_names = 'proseg-'+adata.obs_names.astype(str)\n",
    "\n",
    "\n",
    "# read normalised data, filter cells\n",
    "X_normalised = pd.read_parquet(sample_counts)\n",
    "X_normalised.index = pd.read_parquet(sample_idx).iloc[:, 0]\n",
    "X_normalised.columns = X_normalised.columns.str.replace('.','-')\n",
    "adata = adata[X_normalised.index,X_normalised.columns]\n",
    "adata.layers['X_normalised'] = X_normalised\n",
    "\n",
    "# log-normalize before DE\n",
    "sc.pp.normalize_total(adata)\n",
    "sc.pp.log1p(adata)\n",
    "\n",
    "# read labels\n",
    "label_key = \"label_key\"\n",
    "adata.obs[label_key] = pd.read_parquet(cell_type_labels).set_index(\"cell_id\").iloc[:, 0]\n",
    "adata = adata[adata.obs[label_key].notna()]\n",
    "adata.obs[label_key] = adata.obs[label_key].replace(cell_types_mapping)\n",
    "\n",
    "# read markers if needed\n",
    "if markers != \"diffexpr\":\n",
    "    if markers == \"xenium_common_markers_file\":\n",
    "        level_simplified = 'Level1'\n",
    "        palette = pd.read_csv('/work/PRTNR/CHUV/DIR/rgottar1/spatial/env/xenium_paper/data/xenium/metadata/col_palette_cell_types_combo.csv')\n",
    "        cell_types_mapping = palette.set_index(level)[level_simplified].replace(r' of .+', '', regex=True)\n",
    "        cell_types_mapping[cell_types_mapping.str.contains('malignant')] = 'malignant cell'\n",
    "        adata.obs[label_key] = adata.obs[label_key].replace(cell_types_mapping)\n",
    "        df_markers = pd.read_csv('/work/PRTNR/CHUV/DIR/rgottar1/spatial/env/xenium_paper/data/markers/Xenium_panels_common_markers.csv')[[\"cell_type\",\"gene_name\"]]\n",
    "    else:\n",
    "        df_markers = pd.read_csv(markers)[[\"cell_type\",\"gene_name\"]]\n",
    "\n",
    "    ct_not_found = adata.obs[label_key][~adata.obs[label_key].isin(df_markers['cell_type'])].unique()\n",
    "    print(f\"Could not find {ct_not_found} in markers file\")\n",
    "    adata = adata[adata.obs[label_key].isin(df_markers['cell_type'])]\n",
    "\n",
    "\n",
    "# get kNN graph\n",
    "# obsm = 'spatial'\n",
    "# knnlabels, knndis, knnidx, knn_graph = _utils.get_knn_labels(\n",
    "#     adata,n_neighbors=n_neighbors,\n",
    "#     label_key=label_key,obsm=obsm,\n",
    "#     return_sparse_neighbors=True)\n",
    "# adata.obsp[f'{obsm}_connectivities'] = knn_graph\n",
    "\n",
    "\n",
    "# iterate over targets permutations (cell type i with cell type j presence in kNN)\n",
    "u_cell_types = adata.obs[label_key].unique()\n",
    "df_ctj_marker_genes = {}\n",
    "\n",
    "\n",
    "for ctj in u_cell_types:\n",
    "    if  (adata.obs[label_key]==ctj).sum() < 30:\n",
    "        print(f\"Not enough cells from class {ctj}\")\n",
    "        continue\n",
    "\n",
    "    # get markers\n",
    "    if markers == \"diffexpr\":\n",
    "        sc.tl.rank_genes_groups(adata, groupby=label_key, groups=[ctj], reference='rest', method=\"wilcoxon\")\n",
    "        ctj_marker_genes = sc.get.rank_genes_groups_df(adata, group=ctj)['names'][: top_n].tolist()\n",
    "    else:\n",
    "        ctj_marker_genes = df_markers[df_markers[\"cell_type\"] == ctj][\"gene_name\"].tolist()\n",
    "        ctj_marker_genes = [g for g in ctj_marker_genes if g in adata.var_names]\n",
    "\n",
    "        if len(ctj_marker_genes) == 0:\n",
    "            print(f\"no markers found for {ctj}\")\n",
    "            continue\n",
    "\n",
    "    df_ctj_marker_genes[ctj] = ctj_marker_genes\n",
    "\n",
    "    for cti in u_cell_types:\n",
    "        if cti == ctj:\n",
    "            continue\n",
    "        print(cti, ctj)\n",
    "\n",
    "        adata.obs[f\"has_{ctj}_neighbor\"] = knnlabels[ctj]>0\n",
    "\n",
    "        # Filter for cti\n",
    "        adata_cti = adata[adata.obs[label_key] == cti]\n",
    "\n",
    "        if (   (adata_cti.obs[f\"has_{ctj}_neighbor\"]).sum() < 30\n",
    "            or (~adata_cti.obs[f\"has_{ctj}_neighbor\"]).sum() < 30\n",
    "            ):\n",
    "            print(f\"Not enough cells from each class to test {cti} with {ctj} neighbors\")\n",
    "            continue\n",
    "\n",
    "\n",
    "        ###\n",
    "        ### DIFF EXPR TEST: check DE genes between cti with ctj neighbor or not\n",
    "        ###\n",
    "        # adata_cti.obs[f'has_{ctj}_neighbor_str'] = adata_cti.obs[f'has_{ctj}_neighbor'].astype(str)\n",
    "        # sc.tl.rank_genes_groups(adata_cti, groupby=f\"has_{ctj}_neighbor_str\", groups=['True'], reference='False', method=\"wilcoxon\")\n",
    "        # df_diffexpr[cti,ctj] = sc.get.rank_genes_groups_df(adata_cti, group='True').sort_values('pvals_adj')\n",
    "\n",
    "\n",
    "        # # get significance from gsea and hypergeometric test\n",
    "        # df_markers_rank_significance_diffexpr[cti, ctj] = _utils.get_marker_rank_significance(\n",
    "        #     rnk=df_diffexpr[cti, ctj].set_index(\"names\")[\"logfoldchanges\"],\n",
    "        #     gene_set=ctj_marker_genes,\n",
    "        #     top_n=top_n,\n",
    "        # )"
   ]
  },
  {
   "cell_type": "markdown",
   "metadata": {},
   "source": [
    "## Plot results diffexpr"
   ]
  },
  {
   "cell_type": "code",
   "execution_count": null,
   "metadata": {},
   "outputs": [],
   "source": [
    "# cfg paths\n",
    "xenium_dir = Path(cfg['xenium_processed_data_dir'])\n",
    "xenium_std_seurat_analysis_dir = Path(cfg['xenium_std_seurat_analysis_dir'])\n",
    "xenium_cell_type_annotation_dir = Path(cfg['xenium_cell_type_annotation_dir'])\n",
    "results_dir = Path(cfg['results_dir'])\n",
    "palette_dir = Path(cfg['xenium_metadata_dir'])\n",
    "\n",
    "# Params\n",
    "# probably only need to run for lognorm data\n",
    "normalisations = ['lognorm',]\n",
    "layers = ['data',]\n",
    "reference = 'matched_reference_combo'\n",
    "method = 'rctd_class_aware'\n",
    "level = 'Level2.1'\n",
    "segmentation_palette = palette_dir / 'col_palette_segmentation.csv'\n",
    "\n",
    "n_neighbors = 10\n",
    "n_permutations = 30\n",
    "n_repeats = 5\n",
    "top_n = 20\n",
    "scoring = 'f1'\n",
    "markers = 'diffexpr' #'/work/PRTNR/CHUV/DIR/rgottar1/spatial/env/xenium_paper/data/markers/cellmarker_cell_types_markers.json'\n",
    "\n",
    "# needed to get unique cell types names for each level\n",
    "# cell_types_palette = pd.read_csv(palette_dir / 'col_palette_cell_types_combo.csv')\n",
    "\n",
    "df_diffexpr = {}\n",
    "df_markers_rank_significance_diffexpr = {}\n",
    "for segmentation in (segmentations := xenium_std_seurat_analysis_dir.iterdir()):\n",
    "    for condition in (conditions := segmentation.iterdir()): \n",
    "        for panel in (panels := condition.iterdir()):\n",
    "            for donor in (donors := panel.iterdir()):\n",
    "                for sample in (samples := donor.iterdir()):\n",
    "                    for normalisation in normalisations:\n",
    "                        for layer in layers:\n",
    "                            # for reference in references:\n",
    "                            #     for method in methods:\n",
    "                            #         for level in levels:\n",
    "\n",
    "                            k = (segmentation.stem,condition.stem,panel.stem,donor.stem,sample.stem)\n",
    "                            name = '/'.join(k)\n",
    "\n",
    "                            out_file_df_diffexpr = results_dir / f'contamination_metrics_diffexpr/{name}/{normalisation}/{layer}_{reference}_{method}_{level}_diffexpr.parquet'\n",
    "                            out_file_df_markers_rank_significance_diffexpr = results_dir / f'contamination_metrics_diffexpr/{name}/{normalisation}/{layer}_{reference}_{method}_{level}_markers_rank_significance_diffexpr.parquet'\n",
    "\n",
    "                            if out_file_df_diffexpr.exists():\n",
    "                                # df_diffexpr[k] = pd.read_parquet(out_file_df_diffexpr)\n",
    "                                df_markers_rank_significance_diffexpr[k] = pd.read_parquet(out_file_df_markers_rank_significance_diffexpr)"
   ]
  },
  {
   "cell_type": "code",
   "execution_count": null,
   "metadata": {},
   "outputs": [],
   "source": [
    "cti = 'T cell'\n",
    "ctj = 'malignant cell'\n",
    "xenium_levels = [\"segmentation\", \"condition\", \"panel\", \"donor\", \"sample\",\"cti\",\"ctj\"]\n",
    "\n",
    "hue = \"segmentation\"\n",
    "hue_order = [\n",
    "    \"10x_mm_0um\",\n",
    "    \"10x_mm_5um\",\n",
    "    \"10x_mm_15um\",\n",
    "    \"10x_0um\",\n",
    "    \"10x_5um\",\n",
    "    \"10x_15um\",\n",
    "    \"baysor\",\n",
    "    \"proseg_expected\",\n",
    "    \"proseg_mode\",\n",
    "    \"segger\",\n",
    "]\n",
    "\n",
    "\n",
    "palette = pd.read_csv(segmentation_palette, index_col=0).iloc[:, 0]\n",
    "\n",
    "\n",
    "df = pd.concat(df_markers_rank_significance_diffexpr).reset_index()\n",
    "df.columns = xenium_levels + df.columns[len(xenium_levels) :].tolist()\n",
    "df = df.query(\"cti == @cti and ctj == @ctj\")\n",
    "df['-log10pvalue'] = -np.log10(df['hypergeometric_pvalue'])\n",
    "\n",
    "\n",
    "# plotting params, palette\n",
    "title = f\"Reference: {reference}, Method: {method}, Level: {level} \\n{cti} contaminated by {ctj}\"\n",
    "unique_labels = [c for c in hue_order if c in np.unique(df[hue].dropna())]\n",
    "unique_labels = unique_labels + [c for c in np.unique(df[hue].dropna()) if c not in unique_labels]\n",
    "palette = {u: palette[u] for u in unique_labels}\n",
    "legend_handles = [mpatches.Patch(color=color, label=label) for label, color in palette.items()]\n",
    "\n",
    "sns.set(style=\"ticks\")\n",
    "\n",
    "### hypergeometric pvalue boxplot\n",
    "f = plt.figure(figsize=(6, 6))\n",
    "ax = plt.subplot()\n",
    "g = sns.boxplot(df,x='panel',y='-log10pvalue', \n",
    "                hue=hue, hue_order=unique_labels, \n",
    "                legend=False, palette=palette,ax=ax\n",
    "                )\n",
    "\n",
    "plt.ylabel(r'$-\\log_{10} \\text{ p-value}$')\n",
    "sns.despine(offset=10, trim=True)\n",
    "ax.yaxis.grid(True)\n",
    "\n",
    "plt.suptitle(title)\n",
    "f.legend(\n",
    "    handles=legend_handles,\n",
    "    loc=\"center left\",\n",
    "    bbox_to_anchor=(1, 0.5),\n",
    "    title=hue,\n",
    "    frameon=False,\n",
    ")\n",
    "plt.tight_layout(rect=[0, 0, 1, 0.95])\n",
    "# plt.savefig(out_file, dpi=dpi, bbox_inches=\"tight\")\n",
    "plt.show()\n",
    "\n",
    "\n",
    "### NES boxplot\n",
    "f = plt.figure(figsize=(6, 6))\n",
    "ax = plt.subplot()\n",
    "g = sns.boxplot(df,x='panel',y='NES', \n",
    "                hue=hue, hue_order=unique_labels, \n",
    "                legend=False, palette=palette,ax=ax\n",
    "                )\n",
    "\n",
    "sns.despine(offset=10, trim=True)\n",
    "ax.yaxis.grid(True)\n",
    "\n",
    "plt.suptitle(title)\n",
    "f.legend(\n",
    "    handles=legend_handles,\n",
    "    loc=\"center left\",\n",
    "    bbox_to_anchor=(1, 0.5),\n",
    "    title=hue,\n",
    "    frameon=False,\n",
    ")\n",
    "plt.tight_layout(rect=[0, 0, 1, 0.95])\n",
    "# plt.savefig(out_file, dpi=dpi, bbox_inches=\"tight\")\n",
    "plt.show()\n",
    "\n",
    "\n",
    "### number of hits boxplot\n",
    "f = plt.figure(figsize=(6, 6))\n",
    "ax = plt.subplot()\n",
    "g = sns.boxplot(df,x='panel',y=f'n_hits_{top_n=}', \n",
    "                hue=hue, hue_order=unique_labels, \n",
    "                legend=False, palette=palette,ax=ax\n",
    "                )\n",
    "\n",
    "sns.despine(offset=10, trim=True)\n",
    "ax.yaxis.grid(True)\n",
    "\n",
    "plt.suptitle(title)\n",
    "f.legend(\n",
    "    handles=legend_handles,\n",
    "    loc=\"center left\",\n",
    "    bbox_to_anchor=(1, 0.5),\n",
    "    title=hue,\n",
    "    frameon=False,\n",
    ")\n",
    "plt.tight_layout(rect=[0, 0, 1, 0.95])\n",
    "# plt.savefig(out_file, dpi=dpi, bbox_inches=\"tight\")\n",
    "plt.show()"
   ]
  },
  {
   "cell_type": "code",
   "execution_count": null,
   "metadata": {},
   "outputs": [],
   "source": [
    "sns.set_style('ticks')\n",
    "ref_segmentation = '10x_5um'\n",
    "\n",
    "df = pd.concat(df_markers_rank_significance_diffexpr).reset_index()\n",
    "df['-log10pvalue'] = -np.log10(df['hypergeometric_pvalue'])\n",
    "df.columns = xenium_levels + df.columns[len(xenium_levels) :].tolist()\n",
    "u_condition_panel = df[['condition','panel']].drop_duplicates().values\n",
    "\n",
    "metrics = ['NES', '-log10pvalue', f'n_hits_{top_n=}']\n",
    "\n",
    "for metric in metrics:\n",
    "    for condition,panel in u_condition_panel:\n",
    "\n",
    "        df_plot = df.query(f\"segmentation == '{ref_segmentation}' and condition == '{condition}' and panel == '{panel}'\")\n",
    "        df_plot = df_plot.groupby(['cti', 'ctj'])[metric].mean().unstack()\n",
    "        df_plot = df_plot.loc[df_plot.sum(1).sort_values(ascending=False).index]\n",
    "        df_plot = df_plot[df_plot.sum(0).sort_values(ascending=False).index]\n",
    "\n",
    "        f = plt.figure(figsize=(8,8))\n",
    "        ax = plt.subplot()\n",
    "        ax.set_title(f\"{condition=} {panel=} {metric=}\",fontsize=20)\n",
    "        g = sns.heatmap(df_plot,cmap='coolwarm',center=-np.log10(0.05) if metric == '-log10pvalue' else 0.)\n",
    "        plt.show()"
   ]
  },
  {
   "cell_type": "markdown",
   "metadata": {},
   "source": [
    "## Plot results logreg"
   ]
  },
  {
   "cell_type": "code",
   "execution_count": 7,
   "metadata": {},
   "outputs": [],
   "source": [
    "# cfg paths\n",
    "xenium_dir = Path(cfg['xenium_processed_data_dir'])\n",
    "xenium_std_seurat_analysis_dir = Path(cfg['xenium_std_seurat_analysis_dir'])\n",
    "xenium_cell_type_annotation_dir = Path(cfg['xenium_cell_type_annotation_dir'])\n",
    "results_dir = Path(cfg['results_dir'])\n",
    "palette_dir = Path(cfg['xenium_metadata_dir'])\n",
    "\n",
    "# Params\n",
    "normalisations = ['lognorm',]\n",
    "layers = ['data',]\n",
    "reference = 'matched_reference_combo'\n",
    "method = 'rctd_class_aware'\n",
    "level = 'Level2.1'\n",
    "segmentation_palette = palette_dir / 'col_palette_segmentation.csv'\n",
    "\n",
    "n_neighbors = 10\n",
    "n_permutations = 30\n",
    "n_repeats = 5\n",
    "top_n = 20\n",
    "scoring = 'f1'\n",
    "markers = 'diffexpr' #'/work/PRTNR/CHUV/DIR/rgottar1/spatial/env/xenium_paper/data/markers/cellmarker_cell_types_markers.json'\n",
    "\n",
    "# needed to get unique cell types names for each level\n",
    "# cell_types_palette = pd.read_csv(palette_dir / 'col_palette_cell_types_combo.csv')\n",
    "\n",
    "df_diffexpr = {}\n",
    "df_markers_rank_significance_diffexpr = {}\n",
    "for segmentation in (segmentations := xenium_std_seurat_analysis_dir.iterdir()):\n",
    "    for condition in (conditions := segmentation.iterdir()): \n",
    "        for panel in (panels := condition.iterdir()):\n",
    "            for donor in (donors := panel.iterdir()):\n",
    "                for sample in (samples := donor.iterdir()):\n",
    "                    for normalisation in normalisations:\n",
    "                        for layer in layers:\n",
    "                            # for reference in references:\n",
    "                            #     for method in methods:\n",
    "                            #         for level in levels:\n",
    "\n",
    "                            k = (segmentation.stem,condition.stem,panel.stem,donor.stem,sample.stem)\n",
    "                            name = '/'.join(k)\n",
    "\n",
    "                            out_file_df_permutations_logreg = results_dir / f'contamination_metrics_logreg/{name}/{normalisation}/{layer}_{reference}_{method}_{level}_permutations_logreg.parquet'\n",
    "                            out_file_df_importances_logreg = results_dir / f'contamination_metrics_logreg/{name}/{normalisation}/{layer}_{reference}_{method}_{level}_importances_logreg.parquet'\n",
    "                            out_file_df_markers_rank_significance_logreg = results_dir / f'contamination_metrics_logreg/{name}/{normalisation}/{layer}_{reference}_{method}_{level}_markers_rank_significance_logreg.json'\n",
    "\n",
    "                            if out_file_df_permutations_logreg.exists():\n",
    "                                # df_diffexpr[k] = pd.read_parquet(out_file_df_diffexpr)\n",
    "                                df_permutations_logreg[k] = pd.read_parquet(out_file_df_permutations_logreg)\n",
    "                                df_importances_logreg[k] = pd.read_parquet(out_file_df_importances_logreg)\n",
    "                                df_markers_rank_significance_logreg[k] = pd.read_parquet(out_file_df_markers_rank_significance_logreg)"
   ]
  },
  {
   "cell_type": "code",
   "execution_count": 6,
   "metadata": {},
   "outputs": [
    {
     "ename": "NameError",
     "evalue": "name 'df_markers_rank_significance_logreg' is not defined",
     "output_type": "error",
     "traceback": [
      "\u001b[0;31m---------------------------------------------------------------------------\u001b[0m",
      "\u001b[0;31mNameError\u001b[0m                                 Traceback (most recent call last)",
      "Cell \u001b[0;32mIn[6], line 5\u001b[0m\n\u001b[1;32m      2\u001b[0m ctj \u001b[38;5;241m=\u001b[39m \u001b[38;5;124m'\u001b[39m\u001b[38;5;124mmalignant cell\u001b[39m\u001b[38;5;124m'\u001b[39m\n\u001b[1;32m      3\u001b[0m xenium_levels \u001b[38;5;241m=\u001b[39m [\u001b[38;5;124m\"\u001b[39m\u001b[38;5;124msegmentation\u001b[39m\u001b[38;5;124m\"\u001b[39m, \u001b[38;5;124m\"\u001b[39m\u001b[38;5;124mcondition\u001b[39m\u001b[38;5;124m\"\u001b[39m, \u001b[38;5;124m\"\u001b[39m\u001b[38;5;124mpanel\u001b[39m\u001b[38;5;124m\"\u001b[39m, \u001b[38;5;124m\"\u001b[39m\u001b[38;5;124mdonor\u001b[39m\u001b[38;5;124m\"\u001b[39m, \u001b[38;5;124m\"\u001b[39m\u001b[38;5;124msample\u001b[39m\u001b[38;5;124m\"\u001b[39m,\u001b[38;5;124m\"\u001b[39m\u001b[38;5;124mcti\u001b[39m\u001b[38;5;124m\"\u001b[39m,\u001b[38;5;124m\"\u001b[39m\u001b[38;5;124mctj\u001b[39m\u001b[38;5;124m\"\u001b[39m]\n\u001b[0;32m----> 5\u001b[0m df \u001b[38;5;241m=\u001b[39m pd\u001b[38;5;241m.\u001b[39mconcat(\u001b[43mdf_markers_rank_significance_logreg\u001b[49m)\u001b[38;5;241m.\u001b[39mreset_index()\n\u001b[1;32m      6\u001b[0m df\u001b[38;5;241m.\u001b[39mcolumns \u001b[38;5;241m=\u001b[39m xenium_levels \u001b[38;5;241m+\u001b[39m df\u001b[38;5;241m.\u001b[39mcolumns[\u001b[38;5;28mlen\u001b[39m(xenium_levels) :]\u001b[38;5;241m.\u001b[39mtolist()\n\u001b[1;32m      7\u001b[0m df \u001b[38;5;241m=\u001b[39m df\u001b[38;5;241m.\u001b[39mquery(\u001b[38;5;124m\"\u001b[39m\u001b[38;5;124mcti == @cti and ctj == @ctj\u001b[39m\u001b[38;5;124m\"\u001b[39m)\n",
      "\u001b[0;31mNameError\u001b[0m: name 'df_markers_rank_significance_logreg' is not defined"
     ]
    }
   ],
   "source": [
    "cti = 'T cell'\n",
    "ctj = 'malignant cell'\n",
    "xenium_levels = [\"segmentation\", \"condition\", \"panel\", \"donor\", \"sample\",\"cti\",\"ctj\"]\n",
    "\n",
    "df = pd.concat(df_markers_rank_significance_logreg).reset_index()\n",
    "df.columns = xenium_levels + df.columns[len(xenium_levels) :].tolist()\n",
    "df = df.query(\"cti == @cti and ctj == @ctj\")\n",
    "df['-log10pvalue'] = -np.log10(df['hypergeometric_pvalue'])\n",
    "\n",
    "\n",
    "std_seurat_analysis_dir = Path(cfg['xenium_std_seurat_analysis_dir'])\n",
    "cell_type_annotation_dir = Path(cfg['xenium_cell_type_annotation_dir'])\n",
    "results_dir = Path(cfg['results_dir'])\n",
    "palette_dir = Path(cfg['xenium_metadata_dir'])\n",
    "segmentation_palette = palette_dir / 'col_palette_segmentation.csv'\n",
    "\n",
    "hue = \"segmentation\"\n",
    "hue_order = [\n",
    "    \"10x_mm_0um\",\n",
    "    \"10x_mm_5um\",\n",
    "    \"10x_mm_15um\",\n",
    "    \"10x_0um\",\n",
    "    \"10x_5um\",\n",
    "    \"10x_15um\",\n",
    "    \"baysor\",\n",
    "    \"proseg_expected\",\n",
    "    \"proseg_mode\",\n",
    "    \"segger\",\n",
    "]\n",
    "\n",
    "\n",
    "palette = pd.read_csv(segmentation_palette, index_col=0).iloc[:, 0]\n",
    "\n",
    "\n",
    "# plotting params, palette\n",
    "title = f\"Reference: {reference}, Method: {method}, Level: {level} \\n{cti} contaminated by {ctj}\"\n",
    "unique_labels = [c for c in hue_order if c in np.unique(df[hue].dropna())]\n",
    "unique_labels = unique_labels + [c for c in np.unique(df[hue].dropna()) if c not in unique_labels]\n",
    "palette = {u: palette[u] for u in unique_labels}\n",
    "legend_handles = [mpatches.Patch(color=color, label=label) for label, color in palette.items()]\n",
    "\n",
    "\n",
    "### hypergeometric pvalue boxplot\n",
    "f = plt.figure(figsize=(6, 6))\n",
    "ax = plt.subplot()\n",
    "g = sns.boxplot(df,x='panel',y='-log10pvalue', \n",
    "                hue=hue, hue_order=unique_labels, \n",
    "                legend=False, palette=palette,ax=ax\n",
    "                )\n",
    "\n",
    "plt.ylabel(r'$-\\log_{10} \\text{ p-value}$')\n",
    "sns.despine(offset=10, trim=True)\n",
    "ax.yaxis.grid(True)\n",
    "\n",
    "plt.suptitle(title)\n",
    "f.legend(\n",
    "    handles=legend_handles,\n",
    "    loc=\"center left\",\n",
    "    bbox_to_anchor=(1, 0.5),\n",
    "    title=hue,\n",
    "    frameon=False,\n",
    ")\n",
    "plt.tight_layout(rect=[0, 0, 1, 0.95])\n",
    "# plt.savefig(out_file, dpi=dpi, bbox_inches=\"tight\")\n",
    "plt.show()\n",
    "\n",
    "\n",
    "### NES boxplot\n",
    "f = plt.figure(figsize=(6, 6))\n",
    "ax = plt.subplot()\n",
    "g = sns.boxplot(df,x='panel',y='NES', \n",
    "                hue=hue, hue_order=unique_labels, \n",
    "                legend=False, palette=palette,ax=ax\n",
    "                )\n",
    "\n",
    "sns.despine(offset=10, trim=True)\n",
    "ax.yaxis.grid(True)\n",
    "\n",
    "plt.suptitle(title)\n",
    "f.legend(\n",
    "    handles=legend_handles,\n",
    "    loc=\"center left\",\n",
    "    bbox_to_anchor=(1, 0.5),\n",
    "    title=hue,\n",
    "    frameon=False,\n",
    ")\n",
    "plt.tight_layout(rect=[0, 0, 1, 0.95])\n",
    "# plt.savefig(out_file, dpi=dpi, bbox_inches=\"tight\")\n",
    "plt.show()\n",
    "\n",
    "\n",
    "### number of hits boxplot\n",
    "f = plt.figure(figsize=(6, 6))\n",
    "ax = plt.subplot()\n",
    "g = sns.boxplot(df,x='panel',y=f'n_hits_{top_n=}', \n",
    "                hue=hue, hue_order=unique_labels, \n",
    "                legend=False, palette=palette,ax=ax\n",
    "                )\n",
    "\n",
    "sns.despine(offset=10, trim=True)\n",
    "ax.yaxis.grid(True)\n",
    "\n",
    "plt.suptitle(title)\n",
    "f.legend(\n",
    "    handles=legend_handles,\n",
    "    loc=\"center left\",\n",
    "    bbox_to_anchor=(1, 0.5),\n",
    "    title=hue,\n",
    "    frameon=False,\n",
    ")\n",
    "plt.tight_layout(rect=[0, 0, 1, 0.95])\n",
    "# plt.savefig(out_file, dpi=dpi, bbox_inches=\"tight\")\n",
    "plt.show()"
   ]
  },
  {
   "cell_type": "code",
   "execution_count": null,
   "metadata": {},
   "outputs": [],
   "source": [
    "sns.set_style('ticks')\n",
    "ref_segmentation = '10x_5um'\n",
    "\n",
    "df = pd.concat(df_markers_rank_significance_diffexpr).reset_index()\n",
    "df['-log10pvalue'] = -np.log10(df['hypergeometric_pvalue'])\n",
    "df.columns = xenium_levels + df.columns[len(xenium_levels) :].tolist()\n",
    "u_condition_panel = df[['condition','panel']].drop_duplicates().values\n",
    "\n",
    "metrics = ['NES', '-log10pvalue', f'n_hits_{top_n=}']\n",
    "\n",
    "for metric in metrics:\n",
    "    for condition,panel in u_condition_panel:\n",
    "\n",
    "        df_plot = df.query(f\"segmentation == '{ref_segmentation}' and condition == '{condition}' and panel == '{panel}'\")\n",
    "        df_plot = df_plot.groupby(['cti', 'ctj'])[metric].mean().unstack()\n",
    "        df_plot = df_plot.loc[df_plot.sum(1).sort_values(ascending=False).index]\n",
    "        df_plot = df_plot[df_plot.sum(0).sort_values(ascending=False).index]\n",
    "\n",
    "        f = plt.figure(figsize=(8,8))\n",
    "        ax = plt.subplot()\n",
    "        ax.set_title(f\"{condition=} {panel=} {metric=}\",fontsize=20)\n",
    "        g = sns.heatmap(df_plot,cmap='coolwarm',center=-np.log10(0.05) if metric == '-log10pvalue' else 0.)\n",
    "        plt.show()"
   ]
  },
  {
   "cell_type": "code",
   "execution_count": null,
   "metadata": {},
   "outputs": [],
   "source": [
    "cti = 'T cell'\n",
    "ctj = 'malignant cell'\n",
    "xenium_levels = [\"segmentation\", \"condition\", \"panel\", \"donor\", \"sample\",\"cti\",\"ctj\"]\n",
    "\n",
    "df = pd.concat(df_markers_rank_significance_logreg).reset_index()\n",
    "df.columns = xenium_levels + df.columns[len(xenium_levels) :].tolist()\n",
    "df = df.query(\"cti == @cti and ctj == @ctj\")\n",
    "df['-log10pvalue'] = -np.log10(df['hypergeometric_pvalue'])\n",
    "\n",
    "\n",
    "### hypergeometric pvalue boxplot\n",
    "f = plt.figure(figsize=(6, 6))\n",
    "ax = plt.subplot()\n",
    "g = sns.boxplot(df,x='panel',y='-log10pvalue', \n",
    "                hue=hue, hue_order=unique_labels, \n",
    "                legend=False, palette=palette,ax=ax\n",
    "                )\n",
    "\n",
    "plt.ylabel(r'$-\\log_{10} \\text{ p-value}$')\n",
    "sns.despine(offset=10, trim=True)\n",
    "ax.yaxis.grid(True)\n",
    "\n",
    "plt.suptitle(title)\n",
    "f.legend(\n",
    "    handles=legend_handles,\n",
    "    loc=\"center left\",\n",
    "    bbox_to_anchor=(1, 0.5),\n",
    "    title=hue,\n",
    "    frameon=False,\n",
    ")\n",
    "plt.tight_layout(rect=[0, 0, 1, 0.95])\n",
    "# plt.savefig(out_file, dpi=dpi, bbox_inches=\"tight\")\n",
    "plt.show()\n",
    "\n",
    "\n",
    "### NES boxplot\n",
    "f = plt.figure(figsize=(6, 6))\n",
    "ax = plt.subplot()\n",
    "g = sns.boxplot(df,x='panel',y='NES', \n",
    "                hue=hue, hue_order=unique_labels, \n",
    "                legend=False, palette=palette,ax=ax\n",
    "                )\n",
    "\n",
    "sns.despine(offset=10, trim=True)\n",
    "ax.yaxis.grid(True)\n",
    "\n",
    "plt.suptitle(title)\n",
    "f.legend(\n",
    "    handles=legend_handles,\n",
    "    loc=\"center left\",\n",
    "    bbox_to_anchor=(1, 0.5),\n",
    "    title=hue,\n",
    "    frameon=False,\n",
    ")\n",
    "plt.tight_layout(rect=[0, 0, 1, 0.95])\n",
    "# plt.savefig(out_file, dpi=dpi, bbox_inches=\"tight\")\n",
    "plt.show()\n",
    "\n",
    "\n",
    "### number of hits boxplot\n",
    "f = plt.figure(figsize=(6, 6))\n",
    "ax = plt.subplot()\n",
    "g = sns.boxplot(df,x='panel',y=f'n_hits_{top_n=}', \n",
    "                hue=hue, hue_order=unique_labels, \n",
    "                legend=False, palette=palette,ax=ax\n",
    "                )\n",
    "\n",
    "sns.despine(offset=10, trim=True)\n",
    "ax.yaxis.grid(True)\n",
    "\n",
    "plt.suptitle(title)\n",
    "f.legend(\n",
    "    handles=legend_handles,\n",
    "    loc=\"center left\",\n",
    "    bbox_to_anchor=(1, 0.5),\n",
    "    title=hue,\n",
    "    frameon=False,\n",
    ")\n",
    "plt.tight_layout(rect=[0, 0, 1, 0.95])\n",
    "# plt.savefig(out_file, dpi=dpi, bbox_inches=\"tight\")\n",
    "plt.show()"
   ]
  },
  {
   "cell_type": "code",
   "execution_count": null,
   "metadata": {},
   "outputs": [],
   "source": [
    "df = pd.concat(df_permutations_logreg).reset_index()\n",
    "df.columns = xenium_levels + df.columns[len(xenium_levels) :].tolist()\n",
    "df"
   ]
  },
  {
   "cell_type": "code",
   "execution_count": null,
   "metadata": {},
   "outputs": [],
   "source": []
  }
 ],
 "metadata": {
  "kernelspec": {
   "display_name": "spatial",
   "language": "python",
   "name": "python3"
  },
  "language_info": {
   "codemirror_mode": {
    "name": "ipython",
    "version": 3
   },
   "file_extension": ".py",
   "mimetype": "text/x-python",
   "name": "python",
   "nbconvert_exporter": "python",
   "pygments_lexer": "ipython3",
   "version": "3.11.11"
  }
 },
 "nbformat": 4,
 "nbformat_minor": 2
}
