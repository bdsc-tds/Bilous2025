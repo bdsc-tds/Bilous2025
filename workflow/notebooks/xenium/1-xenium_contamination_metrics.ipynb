{
 "cells": [
  {
   "cell_type": "code",
   "execution_count": 1,
   "metadata": {},
   "outputs": [
    {
     "name": "stderr",
     "output_type": "stream",
     "text": [
      "/work/PRTNR/CHUV/DIR/rgottar1/spatial/env/jbac/miniforge3/envs/spatial/lib/python3.11/importlib/__init__.py:126: FutureWarning: The legacy Dask DataFrame implementation is deprecated and will be removed in a future version. Set the configuration option `dataframe.query-planning` to `True` or None to enable the new Dask Dataframe implementation and silence this warning.\n",
      "  return _bootstrap._gcd_import(name[level:], package, level)\n",
      "/work/PRTNR/CHUV/DIR/rgottar1/spatial/env/jbac/miniforge3/envs/spatial/lib/python3.11/site-packages/cudf/utils/_ptxcompiler.py:64: UserWarning: Error getting driver and runtime versions:\n",
      "\n",
      "stdout:\n",
      "\n",
      "\n",
      "\n",
      "stderr:\n",
      "\n",
      "Traceback (most recent call last):\n",
      "  File \"<string>\", line 4, in <module>\n",
      "  File \"/work/PRTNR/CHUV/DIR/rgottar1/spatial/env/jbac/miniforge3/envs/spatial/lib/python3.11/site-packages/numba_cuda/numba/cuda/cudadrv/driver.py\", line 272, in __getattr__\n",
      "    raise CudaSupportError(\"Error at driver init: \\n%s:\" %\n",
      "numba.cuda.cudadrv.error.CudaSupportError: Error at driver init: \n",
      "\n",
      "CUDA driver library cannot be found.\n",
      "If you are sure that a CUDA driver is installed,\n",
      "try setting environment variable NUMBA_CUDA_DRIVER\n",
      "with the file path of the CUDA driver shared library.\n",
      ":\n",
      "\n",
      "\n",
      "Not patching Numba\n",
      "  warnings.warn(msg, UserWarning)\n",
      "/work/PRTNR/CHUV/DIR/rgottar1/spatial/env/jbac/miniforge3/envs/spatial/lib/python3.11/site-packages/cudf/utils/gpu_utils.py:62: UserWarning: Failed to dlopen libcuda.so.1\n",
      "  warnings.warn(str(e))\n",
      "/work/PRTNR/CHUV/DIR/rgottar1/spatial/env/jbac/miniforge3/envs/spatial/lib/python3.11/site-packages/anndata/utils.py:429: FutureWarning: Importing read_text from `anndata` is deprecated. Import anndata.io.read_text instead.\n",
      "  warnings.warn(msg, FutureWarning)\n"
     ]
    }
   ],
   "source": [
    "import dask\n",
    "dask.config.set({\"dataframe.query-planning\": False})\n",
    "\n",
    "import scanpy as sc\n",
    "import scipy\n",
    "import numpy as np\n",
    "import pandas as pd\n",
    "import sys\n",
    "import matplotlib.patches as mpatches\n",
    "import seaborn as sns\n",
    "import matplotlib.pyplot as plt\n",
    "from pathlib import Path\n",
    "\n",
    "sys.path.append(\"../../../workflow/scripts/\")\n",
    "import _utils\n",
    "import readwrite\n",
    "cfg = readwrite.config()"
   ]
  },
  {
   "cell_type": "markdown",
   "metadata": {},
   "source": [
    "## Compute metrics diffexpr logreg"
   ]
  },
  {
   "cell_type": "code",
   "execution_count": null,
   "metadata": {},
   "outputs": [
    {
     "name": "stdout",
     "output_type": "stream",
     "text": [
      "\u001b[34mINFO    \u001b[0m reading                                                                                                   \n",
      "         ..\u001b[35m/../../data/xenium/processed/segmentation/10x_mm_5um/NSCLC/5k/1GQ9/1GQ9/normalised_results/outs/\u001b[0m\u001b[95mcell_fea\u001b[0m\n",
      "         \u001b[95mture_matrix.h5\u001b[0m                                                                                            \n"
     ]
    },
    {
     "name": "stderr",
     "output_type": "stream",
     "text": [
      "/work/PRTNR/CHUV/DIR/rgottar1/spatial/env/jbac/miniforge3/envs/spatial/lib/python3.11/site-packages/spatialdata/_core/spatialdata.py:185: UserWarning: The table is annotating 'cell_labels', which is not present in the SpatialData object.\n",
      "  self.validate_table_in_spatialdata(v)\n",
      "/tmp/ipykernel_3344069/1521488614.py:91: ImplicitModificationWarning: Setting element `.layers['X_normalised']` of view, initializing view as actual.\n",
      "  adata.layers['X_normalised'] = X_normalised.loc[obs_found,var_found]\n",
      "/tmp/ipykernel_3344069/1521488614.py:147: ImplicitModificationWarning: Setting element `.obsp['spatial_connectivities']` of view, initializing view as actual.\n",
      "  adata.obsp[f\"{obsm}_connectivities\"] = knn_graph\n"
     ]
    },
    {
     "name": "stdout",
     "output_type": "stream",
     "text": [
      "Calculation complete.\n"
     ]
    },
    {
     "name": "stderr",
     "output_type": "stream",
     "text": [
      "/work/PRTNR/CHUV/DIR/rgottar1/spatial/env/jbac/miniforge3/envs/spatial/lib/python3.11/site-packages/scanpy/preprocessing/_normalization.py:234: UserWarning: Some cells have zero counts\n",
      "  warn(UserWarning(\"Some cells have zero counts\"))\n",
      "/tmp/ipykernel_3344069/1521488614.py:208: ImplicitModificationWarning: Trying to modify attribute `.obs` of view, initializing view as actual.\n",
      "  adata_cti.obs[f\"has_{ctj}_neighbor_str\"] = adata_cti.obs[f\"has_{ctj}_neighbor\"].astype(str)\n",
      "2025-04-04 16:24:13,776 [WARNING] Duplicated values found in preranked stats: 91.82% of genes\n",
      "The order of those genes will be arbitrary, which may produce unexpected results.\n"
     ]
    },
    {
     "name": "stdout",
     "output_type": "stream",
     "text": [
      "monocyte macrophage\n"
     ]
    },
    {
     "name": "stderr",
     "output_type": "stream",
     "text": [
      "2025-04-04 16:24:13,952 [WARNING] Duplicated values found in preranked stats: 91.82% of genes\n",
      "The order of those genes will be arbitrary, which may produce unexpected results.\n",
      "2025-04-04 16:24:14,096 [WARNING] Duplicated values found in preranked stats: 95.34% of genes\n",
      "The order of those genes will be arbitrary, which may produce unexpected results.\n",
      "/tmp/ipykernel_3344069/1521488614.py:208: ImplicitModificationWarning: Trying to modify attribute `.obs` of view, initializing view as actual.\n",
      "  adata_cti.obs[f\"has_{ctj}_neighbor_str\"] = adata_cti.obs[f\"has_{ctj}_neighbor\"].astype(str)\n"
     ]
    },
    {
     "name": "stdout",
     "output_type": "stream",
     "text": [
      "T cell macrophage\n"
     ]
    },
    {
     "name": "stderr",
     "output_type": "stream",
     "text": [
      "2025-04-04 16:24:14,536 [WARNING] Duplicated values found in preranked stats: 95.10% of genes\n",
      "The order of those genes will be arbitrary, which may produce unexpected results.\n",
      "2025-04-04 16:24:14,676 [WARNING] Duplicated values found in preranked stats: 95.08% of genes\n",
      "The order of those genes will be arbitrary, which may produce unexpected results.\n",
      "2025-04-04 16:24:14,817 [WARNING] Duplicated values found in preranked stats: 97.44% of genes\n",
      "The order of those genes will be arbitrary, which may produce unexpected results.\n",
      "/tmp/ipykernel_3344069/1521488614.py:208: ImplicitModificationWarning: Trying to modify attribute `.obs` of view, initializing view as actual.\n",
      "  adata_cti.obs[f\"has_{ctj}_neighbor_str\"] = adata_cti.obs[f\"has_{ctj}_neighbor\"].astype(str)\n",
      "2025-04-04 16:24:15,010 [WARNING] Duplicated values found in preranked stats: 98.26% of genes\n",
      "The order of those genes will be arbitrary, which may produce unexpected results.\n",
      "2025-04-04 16:24:15,157 [WARNING] Duplicated values found in preranked stats: 98.26% of genes\n",
      "The order of those genes will be arbitrary, which may produce unexpected results.\n"
     ]
    },
    {
     "name": "stdout",
     "output_type": "stream",
     "text": [
      "natural killer cell macrophage\n"
     ]
    },
    {
     "name": "stderr",
     "output_type": "stream",
     "text": [
      "2025-04-04 16:24:15,297 [WARNING] Duplicated values found in preranked stats: 98.80% of genes\n",
      "The order of those genes will be arbitrary, which may produce unexpected results.\n",
      "/tmp/ipykernel_3344069/1521488614.py:208: ImplicitModificationWarning: Trying to modify attribute `.obs` of view, initializing view as actual.\n",
      "  adata_cti.obs[f\"has_{ctj}_neighbor_str\"] = adata_cti.obs[f\"has_{ctj}_neighbor\"].astype(str)\n"
     ]
    },
    {
     "name": "stdout",
     "output_type": "stream",
     "text": [
      "endothelial cell macrophage\n"
     ]
    },
    {
     "name": "stderr",
     "output_type": "stream",
     "text": [
      "2025-04-04 16:24:15,702 [WARNING] Duplicated values found in preranked stats: 83.01% of genes\n",
      "The order of those genes will be arbitrary, which may produce unexpected results.\n",
      "2025-04-04 16:24:15,843 [WARNING] Duplicated values found in preranked stats: 83.01% of genes\n",
      "The order of those genes will be arbitrary, which may produce unexpected results.\n",
      "2025-04-04 16:24:15,983 [WARNING] Duplicated values found in preranked stats: 88.02% of genes\n",
      "The order of those genes will be arbitrary, which may produce unexpected results.\n",
      "/tmp/ipykernel_3344069/1521488614.py:208: ImplicitModificationWarning: Trying to modify attribute `.obs` of view, initializing view as actual.\n",
      "  adata_cti.obs[f\"has_{ctj}_neighbor_str\"] = adata_cti.obs[f\"has_{ctj}_neighbor\"].astype(str)\n",
      "2025-04-04 16:24:16,221 [WARNING] Duplicated values found in preranked stats: 99.66% of genes\n",
      "The order of those genes will be arbitrary, which may produce unexpected results.\n"
     ]
    },
    {
     "name": "stdout",
     "output_type": "stream",
     "text": [
      "epithelial cell of lung macrophage\n"
     ]
    },
    {
     "name": "stderr",
     "output_type": "stream",
     "text": [
      "2025-04-04 16:24:16,352 [WARNING] Duplicated values found in preranked stats: 99.66% of genes\n",
      "The order of those genes will be arbitrary, which may produce unexpected results.\n",
      "2025-04-04 16:24:16,491 [WARNING] Duplicated values found in preranked stats: 99.74% of genes\n",
      "The order of those genes will be arbitrary, which may produce unexpected results.\n",
      "/tmp/ipykernel_3344069/1521488614.py:208: ImplicitModificationWarning: Trying to modify attribute `.obs` of view, initializing view as actual.\n",
      "  adata_cti.obs[f\"has_{ctj}_neighbor_str\"] = adata_cti.obs[f\"has_{ctj}_neighbor\"].astype(str)\n"
     ]
    },
    {
     "name": "stdout",
     "output_type": "stream",
     "text": [
      "granulocyte macrophage\n"
     ]
    },
    {
     "name": "stderr",
     "output_type": "stream",
     "text": [
      "2025-04-04 16:24:16,963 [WARNING] Duplicated values found in preranked stats: 93.26% of genes\n",
      "The order of those genes will be arbitrary, which may produce unexpected results.\n",
      "2025-04-04 16:24:17,114 [WARNING] Duplicated values found in preranked stats: 93.26% of genes\n",
      "The order of those genes will be arbitrary, which may produce unexpected results.\n",
      "2025-04-04 16:24:17,259 [WARNING] Duplicated values found in preranked stats: 96.08% of genes\n",
      "The order of those genes will be arbitrary, which may produce unexpected results.\n",
      "/tmp/ipykernel_3344069/1521488614.py:208: ImplicitModificationWarning: Trying to modify attribute `.obs` of view, initializing view as actual.\n",
      "  adata_cti.obs[f\"has_{ctj}_neighbor_str\"] = adata_cti.obs[f\"has_{ctj}_neighbor\"].astype(str)\n"
     ]
    },
    {
     "name": "stdout",
     "output_type": "stream",
     "text": [
      "dendritic cell macrophage\n"
     ]
    },
    {
     "name": "stderr",
     "output_type": "stream",
     "text": [
      "2025-04-04 16:24:17,637 [WARNING] Duplicated values found in preranked stats: 89.04% of genes\n",
      "The order of those genes will be arbitrary, which may produce unexpected results.\n",
      "2025-04-04 16:24:17,772 [WARNING] Duplicated values found in preranked stats: 89.04% of genes\n",
      "The order of those genes will be arbitrary, which may produce unexpected results.\n",
      "2025-04-04 16:24:17,906 [WARNING] Duplicated values found in preranked stats: 93.46% of genes\n",
      "The order of those genes will be arbitrary, which may produce unexpected results.\n",
      "/tmp/ipykernel_3344069/1521488614.py:208: ImplicitModificationWarning: Trying to modify attribute `.obs` of view, initializing view as actual.\n",
      "  adata_cti.obs[f\"has_{ctj}_neighbor_str\"] = adata_cti.obs[f\"has_{ctj}_neighbor\"].astype(str)\n"
     ]
    },
    {
     "name": "stdout",
     "output_type": "stream",
     "text": [
      "fibroblast of lung macrophage\n"
     ]
    },
    {
     "name": "stderr",
     "output_type": "stream",
     "text": [
      "2025-04-04 16:24:18,566 [WARNING] Duplicated values found in preranked stats: 85.61% of genes\n",
      "The order of those genes will be arbitrary, which may produce unexpected results.\n",
      "2025-04-04 16:24:18,694 [WARNING] Duplicated values found in preranked stats: 85.61% of genes\n",
      "The order of those genes will be arbitrary, which may produce unexpected results.\n",
      "2025-04-04 16:24:18,828 [WARNING] Duplicated values found in preranked stats: 90.24% of genes\n",
      "The order of those genes will be arbitrary, which may produce unexpected results.\n",
      "/tmp/ipykernel_3344069/1521488614.py:208: ImplicitModificationWarning: Trying to modify attribute `.obs` of view, initializing view as actual.\n",
      "  adata_cti.obs[f\"has_{ctj}_neighbor_str\"] = adata_cti.obs[f\"has_{ctj}_neighbor\"].astype(str)\n",
      "2025-04-04 16:24:19,082 [WARNING] Duplicated values found in preranked stats: 96.68% of genes\n",
      "The order of those genes will be arbitrary, which may produce unexpected results.\n"
     ]
    },
    {
     "name": "stdout",
     "output_type": "stream",
     "text": [
      "cycling lymphocyte macrophage\n"
     ]
    },
    {
     "name": "stderr",
     "output_type": "stream",
     "text": [
      "2025-04-04 16:24:19,214 [WARNING] Duplicated values found in preranked stats: 96.68% of genes\n",
      "The order of those genes will be arbitrary, which may produce unexpected results.\n",
      "2025-04-04 16:24:19,348 [WARNING] Duplicated values found in preranked stats: 98.38% of genes\n",
      "The order of those genes will be arbitrary, which may produce unexpected results.\n",
      "/tmp/ipykernel_3344069/1521488614.py:208: ImplicitModificationWarning: Trying to modify attribute `.obs` of view, initializing view as actual.\n",
      "  adata_cti.obs[f\"has_{ctj}_neighbor_str\"] = adata_cti.obs[f\"has_{ctj}_neighbor\"].astype(str)\n",
      "2025-04-04 16:24:19,579 [WARNING] Duplicated values found in preranked stats: 94.12% of genes\n",
      "The order of those genes will be arbitrary, which may produce unexpected results.\n"
     ]
    },
    {
     "name": "stdout",
     "output_type": "stream",
     "text": [
      "smooth muscle cell macrophage\n"
     ]
    },
    {
     "name": "stderr",
     "output_type": "stream",
     "text": [
      "2025-04-04 16:24:19,714 [WARNING] Duplicated values found in preranked stats: 94.12% of genes\n",
      "The order of those genes will be arbitrary, which may produce unexpected results.\n",
      "2025-04-04 16:24:19,850 [WARNING] Duplicated values found in preranked stats: 95.90% of genes\n",
      "The order of those genes will be arbitrary, which may produce unexpected results.\n",
      "/tmp/ipykernel_3344069/1521488614.py:208: ImplicitModificationWarning: Trying to modify attribute `.obs` of view, initializing view as actual.\n",
      "  adata_cti.obs[f\"has_{ctj}_neighbor_str\"] = adata_cti.obs[f\"has_{ctj}_neighbor\"].astype(str)\n",
      "2025-04-04 16:24:20,081 [WARNING] Duplicated values found in preranked stats: 98.86% of genes\n",
      "The order of those genes will be arbitrary, which may produce unexpected results.\n"
     ]
    },
    {
     "name": "stdout",
     "output_type": "stream",
     "text": [
      "B cell macrophage\n"
     ]
    },
    {
     "name": "stderr",
     "output_type": "stream",
     "text": [
      "2025-04-04 16:24:20,217 [WARNING] Duplicated values found in preranked stats: 98.86% of genes\n",
      "The order of those genes will be arbitrary, which may produce unexpected results.\n",
      "2025-04-04 16:24:20,353 [WARNING] Duplicated values found in preranked stats: 99.08% of genes\n",
      "The order of those genes will be arbitrary, which may produce unexpected results.\n",
      "/tmp/ipykernel_3344069/1521488614.py:208: ImplicitModificationWarning: Trying to modify attribute `.obs` of view, initializing view as actual.\n",
      "  adata_cti.obs[f\"has_{ctj}_neighbor_str\"] = adata_cti.obs[f\"has_{ctj}_neighbor\"].astype(str)\n",
      "2025-04-04 16:24:20,517 [WARNING] Duplicated values found in preranked stats: 98.58% of genes\n",
      "The order of those genes will be arbitrary, which may produce unexpected results.\n",
      "2025-04-04 16:24:20,653 [WARNING] Duplicated values found in preranked stats: 98.58% of genes\n",
      "The order of those genes will be arbitrary, which may produce unexpected results.\n"
     ]
    },
    {
     "name": "stdout",
     "output_type": "stream",
     "text": [
      "plasma cell macrophage\n"
     ]
    },
    {
     "name": "stderr",
     "output_type": "stream",
     "text": [
      "2025-04-04 16:24:20,788 [WARNING] Duplicated values found in preranked stats: 98.98% of genes\n",
      "The order of those genes will be arbitrary, which may produce unexpected results.\n",
      "/tmp/ipykernel_3344069/1521488614.py:208: ImplicitModificationWarning: Trying to modify attribute `.obs` of view, initializing view as actual.\n",
      "  adata_cti.obs[f\"has_{ctj}_neighbor_str\"] = adata_cti.obs[f\"has_{ctj}_neighbor\"].astype(str)\n"
     ]
    },
    {
     "name": "stdout",
     "output_type": "stream",
     "text": [
      "malignant cell macrophage\n"
     ]
    },
    {
     "name": "stderr",
     "output_type": "stream",
     "text": [
      "2025-04-04 16:24:21,127 [WARNING] Duplicated values found in preranked stats: 99.14% of genes\n",
      "The order of those genes will be arbitrary, which may produce unexpected results.\n",
      "2025-04-04 16:24:21,260 [WARNING] Duplicated values found in preranked stats: 99.14% of genes\n",
      "The order of those genes will be arbitrary, which may produce unexpected results.\n",
      "2025-04-04 16:24:21,394 [WARNING] Duplicated values found in preranked stats: 99.42% of genes\n",
      "The order of those genes will be arbitrary, which may produce unexpected results.\n",
      "/tmp/ipykernel_3344069/1521488614.py:208: ImplicitModificationWarning: Trying to modify attribute `.obs` of view, initializing view as actual.\n",
      "  adata_cti.obs[f\"has_{ctj}_neighbor_str\"] = adata_cti.obs[f\"has_{ctj}_neighbor\"].astype(str)\n",
      "2025-04-04 16:24:21,576 [WARNING] Duplicated values found in preranked stats: 98.50% of genes\n",
      "The order of those genes will be arbitrary, which may produce unexpected results.\n",
      "2025-04-04 16:24:21,714 [WARNING] Duplicated values found in preranked stats: 98.50% of genes\n",
      "The order of those genes will be arbitrary, which may produce unexpected results.\n"
     ]
    },
    {
     "name": "stdout",
     "output_type": "stream",
     "text": [
      "mast cell macrophage\n"
     ]
    },
    {
     "name": "stderr",
     "output_type": "stream",
     "text": [
      "2025-04-04 16:24:21,849 [WARNING] Duplicated values found in preranked stats: 98.96% of genes\n",
      "The order of those genes will be arbitrary, which may produce unexpected results.\n",
      "/tmp/ipykernel_3344069/1521488614.py:208: ImplicitModificationWarning: Trying to modify attribute `.obs` of view, initializing view as actual.\n",
      "  adata_cti.obs[f\"has_{ctj}_neighbor_str\"] = adata_cti.obs[f\"has_{ctj}_neighbor\"].astype(str)\n",
      "2025-04-04 16:24:22,099 [WARNING] Duplicated values found in preranked stats: 90.06% of genes\n",
      "The order of those genes will be arbitrary, which may produce unexpected results.\n"
     ]
    },
    {
     "name": "stdout",
     "output_type": "stream",
     "text": [
      "pericyte macrophage\n"
     ]
    },
    {
     "name": "stderr",
     "output_type": "stream",
     "text": [
      "2025-04-04 16:24:22,231 [WARNING] Duplicated values found in preranked stats: 90.06% of genes\n",
      "The order of those genes will be arbitrary, which may produce unexpected results.\n",
      "2025-04-04 16:24:22,365 [WARNING] Duplicated values found in preranked stats: 92.84% of genes\n",
      "The order of those genes will be arbitrary, which may produce unexpected results.\n"
     ]
    },
    {
     "name": "stdout",
     "output_type": "stream",
     "text": [
      "macrophage monocyte\n"
     ]
    },
    {
     "name": "stderr",
     "output_type": "stream",
     "text": [
      "/tmp/ipykernel_3344069/1521488614.py:208: ImplicitModificationWarning: Trying to modify attribute `.obs` of view, initializing view as actual.\n",
      "  adata_cti.obs[f\"has_{ctj}_neighbor_str\"] = adata_cti.obs[f\"has_{ctj}_neighbor\"].astype(str)\n",
      "2025-04-04 16:24:26,239 [WARNING] Duplicated values found in preranked stats: 72.19% of genes\n",
      "The order of those genes will be arbitrary, which may produce unexpected results.\n",
      "2025-04-04 16:24:26,373 [WARNING] Duplicated values found in preranked stats: 72.19% of genes\n",
      "The order of those genes will be arbitrary, which may produce unexpected results.\n",
      "2025-04-04 16:24:26,507 [WARNING] Duplicated values found in preranked stats: 78.95% of genes\n",
      "The order of those genes will be arbitrary, which may produce unexpected results.\n",
      "/tmp/ipykernel_3344069/1521488614.py:208: ImplicitModificationWarning: Trying to modify attribute `.obs` of view, initializing view as actual.\n",
      "  adata_cti.obs[f\"has_{ctj}_neighbor_str\"] = adata_cti.obs[f\"has_{ctj}_neighbor\"].astype(str)\n"
     ]
    },
    {
     "name": "stdout",
     "output_type": "stream",
     "text": [
      "T cell monocyte\n"
     ]
    },
    {
     "name": "stderr",
     "output_type": "stream",
     "text": [
      "2025-04-04 16:24:26,930 [WARNING] Duplicated values found in preranked stats: 95.02% of genes\n",
      "The order of those genes will be arbitrary, which may produce unexpected results.\n",
      "2025-04-04 16:24:27,073 [WARNING] Duplicated values found in preranked stats: 95.02% of genes\n",
      "The order of those genes will be arbitrary, which may produce unexpected results.\n",
      "2025-04-04 16:24:27,207 [WARNING] Duplicated values found in preranked stats: 96.66% of genes\n",
      "The order of those genes will be arbitrary, which may produce unexpected results.\n",
      "/tmp/ipykernel_3344069/1521488614.py:208: ImplicitModificationWarning: Trying to modify attribute `.obs` of view, initializing view as actual.\n",
      "  adata_cti.obs[f\"has_{ctj}_neighbor_str\"] = adata_cti.obs[f\"has_{ctj}_neighbor\"].astype(str)\n",
      "2025-04-04 16:24:27,391 [WARNING] Duplicated values found in preranked stats: 98.26% of genes\n",
      "The order of those genes will be arbitrary, which may produce unexpected results.\n",
      "2025-04-04 16:24:27,525 [WARNING] Duplicated values found in preranked stats: 98.26% of genes\n",
      "The order of those genes will be arbitrary, which may produce unexpected results.\n"
     ]
    },
    {
     "name": "stdout",
     "output_type": "stream",
     "text": [
      "natural killer cell monocyte\n"
     ]
    },
    {
     "name": "stderr",
     "output_type": "stream",
     "text": [
      "2025-04-04 16:24:27,659 [WARNING] Duplicated values found in preranked stats: 98.80% of genes\n",
      "The order of those genes will be arbitrary, which may produce unexpected results.\n",
      "/tmp/ipykernel_3344069/1521488614.py:208: ImplicitModificationWarning: Trying to modify attribute `.obs` of view, initializing view as actual.\n",
      "  adata_cti.obs[f\"has_{ctj}_neighbor_str\"] = adata_cti.obs[f\"has_{ctj}_neighbor\"].astype(str)\n"
     ]
    },
    {
     "name": "stdout",
     "output_type": "stream",
     "text": [
      "endothelial cell monocyte\n"
     ]
    },
    {
     "name": "stderr",
     "output_type": "stream",
     "text": [
      "2025-04-04 16:24:28,069 [WARNING] Duplicated values found in preranked stats: 83.03% of genes\n",
      "The order of those genes will be arbitrary, which may produce unexpected results.\n",
      "2025-04-04 16:24:28,200 [WARNING] Duplicated values found in preranked stats: 83.03% of genes\n",
      "The order of those genes will be arbitrary, which may produce unexpected results.\n",
      "2025-04-04 16:24:28,334 [WARNING] Duplicated values found in preranked stats: 88.62% of genes\n",
      "The order of those genes will be arbitrary, which may produce unexpected results.\n",
      "/tmp/ipykernel_3344069/1521488614.py:208: ImplicitModificationWarning: Trying to modify attribute `.obs` of view, initializing view as actual.\n",
      "  adata_cti.obs[f\"has_{ctj}_neighbor_str\"] = adata_cti.obs[f\"has_{ctj}_neighbor\"].astype(str)\n",
      "2025-04-04 16:24:28,567 [WARNING] Duplicated values found in preranked stats: 99.66% of genes\n",
      "The order of those genes will be arbitrary, which may produce unexpected results.\n"
     ]
    },
    {
     "name": "stdout",
     "output_type": "stream",
     "text": [
      "epithelial cell of lung monocyte\n"
     ]
    },
    {
     "name": "stderr",
     "output_type": "stream",
     "text": [
      "2025-04-04 16:24:28,702 [WARNING] Duplicated values found in preranked stats: 99.66% of genes\n",
      "The order of those genes will be arbitrary, which may produce unexpected results.\n",
      "2025-04-04 16:24:28,836 [WARNING] Duplicated values found in preranked stats: 99.80% of genes\n",
      "The order of those genes will be arbitrary, which may produce unexpected results.\n",
      "/tmp/ipykernel_3344069/1521488614.py:208: ImplicitModificationWarning: Trying to modify attribute `.obs` of view, initializing view as actual.\n",
      "  adata_cti.obs[f\"has_{ctj}_neighbor_str\"] = adata_cti.obs[f\"has_{ctj}_neighbor\"].astype(str)\n"
     ]
    },
    {
     "name": "stdout",
     "output_type": "stream",
     "text": [
      "granulocyte monocyte\n"
     ]
    },
    {
     "name": "stderr",
     "output_type": "stream",
     "text": [
      "2025-04-04 16:24:29,289 [WARNING] Duplicated values found in preranked stats: 93.26% of genes\n",
      "The order of those genes will be arbitrary, which may produce unexpected results.\n",
      "2025-04-04 16:24:29,429 [WARNING] Duplicated values found in preranked stats: 93.26% of genes\n",
      "The order of those genes will be arbitrary, which may produce unexpected results.\n",
      "2025-04-04 16:24:29,568 [WARNING] Duplicated values found in preranked stats: 95.82% of genes\n",
      "The order of those genes will be arbitrary, which may produce unexpected results.\n",
      "/tmp/ipykernel_3344069/1521488614.py:208: ImplicitModificationWarning: Trying to modify attribute `.obs` of view, initializing view as actual.\n",
      "  adata_cti.obs[f\"has_{ctj}_neighbor_str\"] = adata_cti.obs[f\"has_{ctj}_neighbor\"].astype(str)\n"
     ]
    },
    {
     "name": "stdout",
     "output_type": "stream",
     "text": [
      "dendritic cell monocyte\n"
     ]
    },
    {
     "name": "stderr",
     "output_type": "stream",
     "text": [
      "2025-04-04 16:24:29,923 [WARNING] Duplicated values found in preranked stats: 89.00% of genes\n",
      "The order of those genes will be arbitrary, which may produce unexpected results.\n",
      "2025-04-04 16:24:30,066 [WARNING] Duplicated values found in preranked stats: 89.00% of genes\n",
      "The order of those genes will be arbitrary, which may produce unexpected results.\n",
      "2025-04-04 16:24:30,206 [WARNING] Duplicated values found in preranked stats: 92.34% of genes\n",
      "The order of those genes will be arbitrary, which may produce unexpected results.\n",
      "/tmp/ipykernel_3344069/1521488614.py:208: ImplicitModificationWarning: Trying to modify attribute `.obs` of view, initializing view as actual.\n",
      "  adata_cti.obs[f\"has_{ctj}_neighbor_str\"] = adata_cti.obs[f\"has_{ctj}_neighbor\"].astype(str)\n"
     ]
    },
    {
     "name": "stdout",
     "output_type": "stream",
     "text": [
      "fibroblast of lung monocyte\n"
     ]
    },
    {
     "name": "stderr",
     "output_type": "stream",
     "text": [
      "2025-04-04 16:24:30,832 [WARNING] Duplicated values found in preranked stats: 85.63% of genes\n",
      "The order of those genes will be arbitrary, which may produce unexpected results.\n",
      "2025-04-04 16:24:30,985 [WARNING] Duplicated values found in preranked stats: 85.63% of genes\n",
      "The order of those genes will be arbitrary, which may produce unexpected results.\n",
      "2025-04-04 16:24:31,125 [WARNING] Duplicated values found in preranked stats: 90.18% of genes\n",
      "The order of those genes will be arbitrary, which may produce unexpected results.\n",
      "/tmp/ipykernel_3344069/1521488614.py:208: ImplicitModificationWarning: Trying to modify attribute `.obs` of view, initializing view as actual.\n",
      "  adata_cti.obs[f\"has_{ctj}_neighbor_str\"] = adata_cti.obs[f\"has_{ctj}_neighbor\"].astype(str)\n",
      "2025-04-04 16:24:31,382 [WARNING] Duplicated values found in preranked stats: 96.68% of genes\n",
      "The order of those genes will be arbitrary, which may produce unexpected results.\n"
     ]
    },
    {
     "name": "stdout",
     "output_type": "stream",
     "text": [
      "cycling lymphocyte monocyte\n"
     ]
    },
    {
     "name": "stderr",
     "output_type": "stream",
     "text": [
      "2025-04-04 16:24:31,521 [WARNING] Duplicated values found in preranked stats: 96.68% of genes\n",
      "The order of those genes will be arbitrary, which may produce unexpected results.\n",
      "2025-04-04 16:24:31,660 [WARNING] Duplicated values found in preranked stats: 98.24% of genes\n",
      "The order of those genes will be arbitrary, which may produce unexpected results.\n",
      "/tmp/ipykernel_3344069/1521488614.py:208: ImplicitModificationWarning: Trying to modify attribute `.obs` of view, initializing view as actual.\n",
      "  adata_cti.obs[f\"has_{ctj}_neighbor_str\"] = adata_cti.obs[f\"has_{ctj}_neighbor\"].astype(str)\n",
      "2025-04-04 16:24:31,894 [WARNING] Duplicated values found in preranked stats: 94.12% of genes\n",
      "The order of those genes will be arbitrary, which may produce unexpected results.\n"
     ]
    },
    {
     "name": "stdout",
     "output_type": "stream",
     "text": [
      "smooth muscle cell monocyte\n"
     ]
    },
    {
     "name": "stderr",
     "output_type": "stream",
     "text": [
      "2025-04-04 16:24:32,037 [WARNING] Duplicated values found in preranked stats: 94.12% of genes\n",
      "The order of those genes will be arbitrary, which may produce unexpected results.\n",
      "2025-04-04 16:24:32,177 [WARNING] Duplicated values found in preranked stats: 95.80% of genes\n",
      "The order of those genes will be arbitrary, which may produce unexpected results.\n",
      "/tmp/ipykernel_3344069/1521488614.py:208: ImplicitModificationWarning: Trying to modify attribute `.obs` of view, initializing view as actual.\n",
      "  adata_cti.obs[f\"has_{ctj}_neighbor_str\"] = adata_cti.obs[f\"has_{ctj}_neighbor\"].astype(str)\n",
      "2025-04-04 16:24:32,420 [WARNING] Duplicated values found in preranked stats: 98.82% of genes\n",
      "The order of those genes will be arbitrary, which may produce unexpected results.\n"
     ]
    },
    {
     "name": "stdout",
     "output_type": "stream",
     "text": [
      "B cell monocyte\n"
     ]
    },
    {
     "name": "stderr",
     "output_type": "stream",
     "text": [
      "2025-04-04 16:24:32,565 [WARNING] Duplicated values found in preranked stats: 98.82% of genes\n",
      "The order of those genes will be arbitrary, which may produce unexpected results.\n",
      "2025-04-04 16:24:32,716 [WARNING] Duplicated values found in preranked stats: 99.08% of genes\n",
      "The order of those genes will be arbitrary, which may produce unexpected results.\n",
      "/tmp/ipykernel_3344069/1521488614.py:208: ImplicitModificationWarning: Trying to modify attribute `.obs` of view, initializing view as actual.\n",
      "  adata_cti.obs[f\"has_{ctj}_neighbor_str\"] = adata_cti.obs[f\"has_{ctj}_neighbor\"].astype(str)\n",
      "2025-04-04 16:24:32,888 [WARNING] Duplicated values found in preranked stats: 98.58% of genes\n",
      "The order of those genes will be arbitrary, which may produce unexpected results.\n",
      "2025-04-04 16:24:33,030 [WARNING] Duplicated values found in preranked stats: 98.58% of genes\n",
      "The order of those genes will be arbitrary, which may produce unexpected results.\n"
     ]
    },
    {
     "name": "stdout",
     "output_type": "stream",
     "text": [
      "plasma cell monocyte\n"
     ]
    },
    {
     "name": "stderr",
     "output_type": "stream",
     "text": [
      "2025-04-04 16:24:33,169 [WARNING] Duplicated values found in preranked stats: 98.98% of genes\n",
      "The order of those genes will be arbitrary, which may produce unexpected results.\n",
      "/tmp/ipykernel_3344069/1521488614.py:208: ImplicitModificationWarning: Trying to modify attribute `.obs` of view, initializing view as actual.\n",
      "  adata_cti.obs[f\"has_{ctj}_neighbor_str\"] = adata_cti.obs[f\"has_{ctj}_neighbor\"].astype(str)\n"
     ]
    },
    {
     "name": "stdout",
     "output_type": "stream",
     "text": [
      "malignant cell monocyte\n"
     ]
    },
    {
     "name": "stderr",
     "output_type": "stream",
     "text": [
      "2025-04-04 16:24:33,512 [WARNING] Duplicated values found in preranked stats: 99.18% of genes\n",
      "The order of those genes will be arbitrary, which may produce unexpected results.\n",
      "2025-04-04 16:24:33,649 [WARNING] Duplicated values found in preranked stats: 99.18% of genes\n",
      "The order of those genes will be arbitrary, which may produce unexpected results.\n",
      "2025-04-04 16:24:33,790 [WARNING] Duplicated values found in preranked stats: 99.52% of genes\n",
      "The order of those genes will be arbitrary, which may produce unexpected results.\n",
      "/tmp/ipykernel_3344069/1521488614.py:208: ImplicitModificationWarning: Trying to modify attribute `.obs` of view, initializing view as actual.\n",
      "  adata_cti.obs[f\"has_{ctj}_neighbor_str\"] = adata_cti.obs[f\"has_{ctj}_neighbor\"].astype(str)\n",
      "2025-04-04 16:24:33,973 [WARNING] Duplicated values found in preranked stats: 98.50% of genes\n",
      "The order of those genes will be arbitrary, which may produce unexpected results.\n",
      "2025-04-04 16:24:34,117 [WARNING] Duplicated values found in preranked stats: 98.50% of genes\n",
      "The order of those genes will be arbitrary, which may produce unexpected results.\n"
     ]
    },
    {
     "name": "stdout",
     "output_type": "stream",
     "text": [
      "mast cell monocyte\n"
     ]
    },
    {
     "name": "stderr",
     "output_type": "stream",
     "text": [
      "2025-04-04 16:24:34,256 [WARNING] Duplicated values found in preranked stats: 98.90% of genes\n",
      "The order of those genes will be arbitrary, which may produce unexpected results.\n",
      "/tmp/ipykernel_3344069/1521488614.py:208: ImplicitModificationWarning: Trying to modify attribute `.obs` of view, initializing view as actual.\n",
      "  adata_cti.obs[f\"has_{ctj}_neighbor_str\"] = adata_cti.obs[f\"has_{ctj}_neighbor\"].astype(str)\n",
      "2025-04-04 16:24:34,509 [WARNING] Duplicated values found in preranked stats: 90.06% of genes\n",
      "The order of those genes will be arbitrary, which may produce unexpected results.\n"
     ]
    },
    {
     "name": "stdout",
     "output_type": "stream",
     "text": [
      "pericyte monocyte\n"
     ]
    },
    {
     "name": "stderr",
     "output_type": "stream",
     "text": [
      "2025-04-04 16:24:34,643 [WARNING] Duplicated values found in preranked stats: 90.06% of genes\n",
      "The order of those genes will be arbitrary, which may produce unexpected results.\n",
      "2025-04-04 16:24:34,780 [WARNING] Duplicated values found in preranked stats: 93.32% of genes\n",
      "The order of those genes will be arbitrary, which may produce unexpected results.\n"
     ]
    },
    {
     "name": "stdout",
     "output_type": "stream",
     "text": [
      "macrophage T cell\n"
     ]
    },
    {
     "name": "stderr",
     "output_type": "stream",
     "text": [
      "/tmp/ipykernel_3344069/1521488614.py:208: ImplicitModificationWarning: Trying to modify attribute `.obs` of view, initializing view as actual.\n",
      "  adata_cti.obs[f\"has_{ctj}_neighbor_str\"] = adata_cti.obs[f\"has_{ctj}_neighbor\"].astype(str)\n",
      "2025-04-04 16:24:38,707 [WARNING] Duplicated values found in preranked stats: 72.19% of genes\n",
      "The order of those genes will be arbitrary, which may produce unexpected results.\n",
      "2025-04-04 16:24:38,846 [WARNING] Duplicated values found in preranked stats: 72.19% of genes\n",
      "The order of those genes will be arbitrary, which may produce unexpected results.\n",
      "2025-04-04 16:24:38,983 [WARNING] Duplicated values found in preranked stats: 79.37% of genes\n",
      "The order of those genes will be arbitrary, which may produce unexpected results.\n",
      "/tmp/ipykernel_3344069/1521488614.py:208: ImplicitModificationWarning: Trying to modify attribute `.obs` of view, initializing view as actual.\n",
      "  adata_cti.obs[f\"has_{ctj}_neighbor_str\"] = adata_cti.obs[f\"has_{ctj}_neighbor\"].astype(str)\n",
      "2025-04-04 16:24:39,308 [WARNING] Duplicated values found in preranked stats: 91.82% of genes\n",
      "The order of those genes will be arbitrary, which may produce unexpected results.\n"
     ]
    },
    {
     "name": "stdout",
     "output_type": "stream",
     "text": [
      "monocyte T cell\n"
     ]
    },
    {
     "name": "stderr",
     "output_type": "stream",
     "text": [
      "2025-04-04 16:24:39,446 [WARNING] Duplicated values found in preranked stats: 91.82% of genes\n",
      "The order of those genes will be arbitrary, which may produce unexpected results.\n",
      "2025-04-04 16:24:39,586 [WARNING] Duplicated values found in preranked stats: 93.88% of genes\n",
      "The order of those genes will be arbitrary, which may produce unexpected results.\n",
      "/tmp/ipykernel_3344069/1521488614.py:208: ImplicitModificationWarning: Trying to modify attribute `.obs` of view, initializing view as actual.\n",
      "  adata_cti.obs[f\"has_{ctj}_neighbor_str\"] = adata_cti.obs[f\"has_{ctj}_neighbor\"].astype(str)\n",
      "2025-04-04 16:24:39,778 [WARNING] Duplicated values found in preranked stats: 98.26% of genes\n",
      "The order of those genes will be arbitrary, which may produce unexpected results.\n",
      "2025-04-04 16:24:39,919 [WARNING] Duplicated values found in preranked stats: 98.26% of genes\n",
      "The order of those genes will be arbitrary, which may produce unexpected results.\n"
     ]
    },
    {
     "name": "stdout",
     "output_type": "stream",
     "text": [
      "natural killer cell T cell\n"
     ]
    },
    {
     "name": "stderr",
     "output_type": "stream",
     "text": [
      "2025-04-04 16:24:40,058 [WARNING] Duplicated values found in preranked stats: 98.84% of genes\n",
      "The order of those genes will be arbitrary, which may produce unexpected results.\n",
      "/tmp/ipykernel_3344069/1521488614.py:208: ImplicitModificationWarning: Trying to modify attribute `.obs` of view, initializing view as actual.\n",
      "  adata_cti.obs[f\"has_{ctj}_neighbor_str\"] = adata_cti.obs[f\"has_{ctj}_neighbor\"].astype(str)\n"
     ]
    },
    {
     "name": "stdout",
     "output_type": "stream",
     "text": [
      "endothelial cell T cell\n"
     ]
    },
    {
     "name": "stderr",
     "output_type": "stream",
     "text": [
      "2025-04-04 16:24:40,466 [WARNING] Duplicated values found in preranked stats: 83.03% of genes\n",
      "The order of those genes will be arbitrary, which may produce unexpected results.\n",
      "2025-04-04 16:24:40,597 [WARNING] Duplicated values found in preranked stats: 83.03% of genes\n",
      "The order of those genes will be arbitrary, which may produce unexpected results.\n",
      "2025-04-04 16:24:40,734 [WARNING] Duplicated values found in preranked stats: 88.18% of genes\n",
      "The order of those genes will be arbitrary, which may produce unexpected results.\n",
      "/tmp/ipykernel_3344069/1521488614.py:208: ImplicitModificationWarning: Trying to modify attribute `.obs` of view, initializing view as actual.\n",
      "  adata_cti.obs[f\"has_{ctj}_neighbor_str\"] = adata_cti.obs[f\"has_{ctj}_neighbor\"].astype(str)\n",
      "2025-04-04 16:24:40,957 [WARNING] Duplicated values found in preranked stats: 99.66% of genes\n",
      "The order of those genes will be arbitrary, which may produce unexpected results.\n"
     ]
    },
    {
     "name": "stdout",
     "output_type": "stream",
     "text": [
      "epithelial cell of lung T cell\n"
     ]
    },
    {
     "name": "stderr",
     "output_type": "stream",
     "text": [
      "2025-04-04 16:24:41,099 [WARNING] Duplicated values found in preranked stats: 99.66% of genes\n",
      "The order of those genes will be arbitrary, which may produce unexpected results.\n",
      "2025-04-04 16:24:41,237 [WARNING] Duplicated values found in preranked stats: 99.74% of genes\n",
      "The order of those genes will be arbitrary, which may produce unexpected results.\n",
      "/tmp/ipykernel_3344069/1521488614.py:208: ImplicitModificationWarning: Trying to modify attribute `.obs` of view, initializing view as actual.\n",
      "  adata_cti.obs[f\"has_{ctj}_neighbor_str\"] = adata_cti.obs[f\"has_{ctj}_neighbor\"].astype(str)\n"
     ]
    },
    {
     "name": "stdout",
     "output_type": "stream",
     "text": [
      "granulocyte T cell\n"
     ]
    },
    {
     "name": "stderr",
     "output_type": "stream",
     "text": [
      "2025-04-04 16:24:41,680 [WARNING] Duplicated values found in preranked stats: 93.26% of genes\n",
      "The order of those genes will be arbitrary, which may produce unexpected results.\n",
      "2025-04-04 16:24:41,816 [WARNING] Duplicated values found in preranked stats: 93.26% of genes\n",
      "The order of those genes will be arbitrary, which may produce unexpected results.\n",
      "2025-04-04 16:24:41,954 [WARNING] Duplicated values found in preranked stats: 95.30% of genes\n",
      "The order of those genes will be arbitrary, which may produce unexpected results.\n",
      "/tmp/ipykernel_3344069/1521488614.py:208: ImplicitModificationWarning: Trying to modify attribute `.obs` of view, initializing view as actual.\n",
      "  adata_cti.obs[f\"has_{ctj}_neighbor_str\"] = adata_cti.obs[f\"has_{ctj}_neighbor\"].astype(str)\n"
     ]
    },
    {
     "name": "stdout",
     "output_type": "stream",
     "text": [
      "dendritic cell T cell\n"
     ]
    },
    {
     "name": "stderr",
     "output_type": "stream",
     "text": [
      "2025-04-04 16:24:42,295 [WARNING] Duplicated values found in preranked stats: 88.98% of genes\n",
      "The order of those genes will be arbitrary, which may produce unexpected results.\n",
      "2025-04-04 16:24:42,426 [WARNING] Duplicated values found in preranked stats: 88.98% of genes\n",
      "The order of those genes will be arbitrary, which may produce unexpected results.\n",
      "2025-04-04 16:24:42,562 [WARNING] Duplicated values found in preranked stats: 92.16% of genes\n",
      "The order of those genes will be arbitrary, which may produce unexpected results.\n",
      "/tmp/ipykernel_3344069/1521488614.py:208: ImplicitModificationWarning: Trying to modify attribute `.obs` of view, initializing view as actual.\n",
      "  adata_cti.obs[f\"has_{ctj}_neighbor_str\"] = adata_cti.obs[f\"has_{ctj}_neighbor\"].astype(str)\n"
     ]
    },
    {
     "name": "stdout",
     "output_type": "stream",
     "text": [
      "fibroblast of lung T cell\n"
     ]
    },
    {
     "name": "stderr",
     "output_type": "stream",
     "text": [
      "2025-04-04 16:24:43,168 [WARNING] Duplicated values found in preranked stats: 85.63% of genes\n",
      "The order of those genes will be arbitrary, which may produce unexpected results.\n",
      "2025-04-04 16:24:43,319 [WARNING] Duplicated values found in preranked stats: 85.63% of genes\n",
      "The order of those genes will be arbitrary, which may produce unexpected results.\n",
      "2025-04-04 16:24:43,457 [WARNING] Duplicated values found in preranked stats: 89.72% of genes\n",
      "The order of those genes will be arbitrary, which may produce unexpected results.\n",
      "/tmp/ipykernel_3344069/1521488614.py:208: ImplicitModificationWarning: Trying to modify attribute `.obs` of view, initializing view as actual.\n",
      "  adata_cti.obs[f\"has_{ctj}_neighbor_str\"] = adata_cti.obs[f\"has_{ctj}_neighbor\"].astype(str)\n",
      "2025-04-04 16:24:43,709 [WARNING] Duplicated values found in preranked stats: 96.68% of genes\n",
      "The order of those genes will be arbitrary, which may produce unexpected results.\n"
     ]
    },
    {
     "name": "stdout",
     "output_type": "stream",
     "text": [
      "cycling lymphocyte T cell\n"
     ]
    },
    {
     "name": "stderr",
     "output_type": "stream",
     "text": [
      "2025-04-04 16:24:43,847 [WARNING] Duplicated values found in preranked stats: 96.68% of genes\n",
      "The order of those genes will be arbitrary, which may produce unexpected results.\n",
      "2025-04-04 16:24:43,984 [WARNING] Duplicated values found in preranked stats: 98.24% of genes\n",
      "The order of those genes will be arbitrary, which may produce unexpected results.\n",
      "/tmp/ipykernel_3344069/1521488614.py:208: ImplicitModificationWarning: Trying to modify attribute `.obs` of view, initializing view as actual.\n",
      "  adata_cti.obs[f\"has_{ctj}_neighbor_str\"] = adata_cti.obs[f\"has_{ctj}_neighbor\"].astype(str)\n",
      "2025-04-04 16:24:44,218 [WARNING] Duplicated values found in preranked stats: 94.12% of genes\n",
      "The order of those genes will be arbitrary, which may produce unexpected results.\n"
     ]
    },
    {
     "name": "stdout",
     "output_type": "stream",
     "text": [
      "smooth muscle cell T cell\n"
     ]
    },
    {
     "name": "stderr",
     "output_type": "stream",
     "text": [
      "2025-04-04 16:24:44,360 [WARNING] Duplicated values found in preranked stats: 94.12% of genes\n",
      "The order of those genes will be arbitrary, which may produce unexpected results.\n",
      "2025-04-04 16:24:44,497 [WARNING] Duplicated values found in preranked stats: 95.72% of genes\n",
      "The order of those genes will be arbitrary, which may produce unexpected results.\n",
      "/tmp/ipykernel_3344069/1521488614.py:208: ImplicitModificationWarning: Trying to modify attribute `.obs` of view, initializing view as actual.\n",
      "  adata_cti.obs[f\"has_{ctj}_neighbor_str\"] = adata_cti.obs[f\"has_{ctj}_neighbor\"].astype(str)\n",
      "2025-04-04 16:24:44,740 [WARNING] Duplicated values found in preranked stats: 98.84% of genes\n",
      "The order of those genes will be arbitrary, which may produce unexpected results.\n"
     ]
    },
    {
     "name": "stdout",
     "output_type": "stream",
     "text": [
      "B cell T cell\n"
     ]
    },
    {
     "name": "stderr",
     "output_type": "stream",
     "text": [
      "2025-04-04 16:24:44,888 [WARNING] Duplicated values found in preranked stats: 98.84% of genes\n",
      "The order of those genes will be arbitrary, which may produce unexpected results.\n",
      "2025-04-04 16:24:45,025 [WARNING] Duplicated values found in preranked stats: 99.08% of genes\n",
      "The order of those genes will be arbitrary, which may produce unexpected results.\n",
      "/tmp/ipykernel_3344069/1521488614.py:208: ImplicitModificationWarning: Trying to modify attribute `.obs` of view, initializing view as actual.\n",
      "  adata_cti.obs[f\"has_{ctj}_neighbor_str\"] = adata_cti.obs[f\"has_{ctj}_neighbor\"].astype(str)\n",
      "2025-04-04 16:24:45,195 [WARNING] Duplicated values found in preranked stats: 98.60% of genes\n",
      "The order of those genes will be arbitrary, which may produce unexpected results.\n",
      "2025-04-04 16:24:45,336 [WARNING] Duplicated values found in preranked stats: 98.60% of genes\n",
      "The order of those genes will be arbitrary, which may produce unexpected results.\n"
     ]
    },
    {
     "name": "stdout",
     "output_type": "stream",
     "text": [
      "plasma cell T cell\n"
     ]
    },
    {
     "name": "stderr",
     "output_type": "stream",
     "text": [
      "2025-04-04 16:24:45,473 [WARNING] Duplicated values found in preranked stats: 99.04% of genes\n",
      "The order of those genes will be arbitrary, which may produce unexpected results.\n",
      "/tmp/ipykernel_3344069/1521488614.py:208: ImplicitModificationWarning: Trying to modify attribute `.obs` of view, initializing view as actual.\n",
      "  adata_cti.obs[f\"has_{ctj}_neighbor_str\"] = adata_cti.obs[f\"has_{ctj}_neighbor\"].astype(str)\n"
     ]
    },
    {
     "name": "stdout",
     "output_type": "stream",
     "text": [
      "malignant cell T cell\n"
     ]
    },
    {
     "name": "stderr",
     "output_type": "stream",
     "text": [
      "2025-04-04 16:24:45,822 [WARNING] Duplicated values found in preranked stats: 99.16% of genes\n",
      "The order of those genes will be arbitrary, which may produce unexpected results.\n",
      "2025-04-04 16:24:45,956 [WARNING] Duplicated values found in preranked stats: 99.16% of genes\n",
      "The order of those genes will be arbitrary, which may produce unexpected results.\n",
      "2025-04-04 16:24:46,095 [WARNING] Duplicated values found in preranked stats: 99.46% of genes\n",
      "The order of those genes will be arbitrary, which may produce unexpected results.\n",
      "/tmp/ipykernel_3344069/1521488614.py:208: ImplicitModificationWarning: Trying to modify attribute `.obs` of view, initializing view as actual.\n",
      "  adata_cti.obs[f\"has_{ctj}_neighbor_str\"] = adata_cti.obs[f\"has_{ctj}_neighbor\"].astype(str)\n",
      "2025-04-04 16:24:46,278 [WARNING] Duplicated values found in preranked stats: 98.50% of genes\n",
      "The order of those genes will be arbitrary, which may produce unexpected results.\n",
      "2025-04-04 16:24:46,421 [WARNING] Duplicated values found in preranked stats: 98.50% of genes\n",
      "The order of those genes will be arbitrary, which may produce unexpected results.\n"
     ]
    },
    {
     "name": "stdout",
     "output_type": "stream",
     "text": [
      "mast cell T cell\n"
     ]
    },
    {
     "name": "stderr",
     "output_type": "stream",
     "text": [
      "2025-04-04 16:24:46,564 [WARNING] Duplicated values found in preranked stats: 98.98% of genes\n",
      "The order of those genes will be arbitrary, which may produce unexpected results.\n",
      "/tmp/ipykernel_3344069/1521488614.py:208: ImplicitModificationWarning: Trying to modify attribute `.obs` of view, initializing view as actual.\n",
      "  adata_cti.obs[f\"has_{ctj}_neighbor_str\"] = adata_cti.obs[f\"has_{ctj}_neighbor\"].astype(str)\n",
      "2025-04-04 16:24:46,813 [WARNING] Duplicated values found in preranked stats: 90.06% of genes\n",
      "The order of those genes will be arbitrary, which may produce unexpected results.\n"
     ]
    },
    {
     "name": "stdout",
     "output_type": "stream",
     "text": [
      "pericyte T cell\n"
     ]
    },
    {
     "name": "stderr",
     "output_type": "stream",
     "text": [
      "2025-04-04 16:24:46,949 [WARNING] Duplicated values found in preranked stats: 90.06% of genes\n",
      "The order of those genes will be arbitrary, which may produce unexpected results.\n",
      "2025-04-04 16:24:47,094 [WARNING] Duplicated values found in preranked stats: 93.22% of genes\n",
      "The order of those genes will be arbitrary, which may produce unexpected results.\n"
     ]
    },
    {
     "name": "stdout",
     "output_type": "stream",
     "text": [
      "macrophage natural killer cell\n"
     ]
    },
    {
     "name": "stderr",
     "output_type": "stream",
     "text": [
      "/tmp/ipykernel_3344069/1521488614.py:208: ImplicitModificationWarning: Trying to modify attribute `.obs` of view, initializing view as actual.\n",
      "  adata_cti.obs[f\"has_{ctj}_neighbor_str\"] = adata_cti.obs[f\"has_{ctj}_neighbor\"].astype(str)\n",
      "2025-04-04 16:24:50,892 [WARNING] Duplicated values found in preranked stats: 72.19% of genes\n",
      "The order of those genes will be arbitrary, which may produce unexpected results.\n",
      "2025-04-04 16:24:51,026 [WARNING] Duplicated values found in preranked stats: 72.19% of genes\n",
      "The order of those genes will be arbitrary, which may produce unexpected results.\n",
      "2025-04-04 16:24:51,165 [WARNING] Duplicated values found in preranked stats: 84.59% of genes\n",
      "The order of those genes will be arbitrary, which may produce unexpected results.\n",
      "/tmp/ipykernel_3344069/1521488614.py:208: ImplicitModificationWarning: Trying to modify attribute `.obs` of view, initializing view as actual.\n",
      "  adata_cti.obs[f\"has_{ctj}_neighbor_str\"] = adata_cti.obs[f\"has_{ctj}_neighbor\"].astype(str)\n",
      "2025-04-04 16:24:51,477 [WARNING] Duplicated values found in preranked stats: 91.84% of genes\n",
      "The order of those genes will be arbitrary, which may produce unexpected results.\n"
     ]
    },
    {
     "name": "stdout",
     "output_type": "stream",
     "text": [
      "monocyte natural killer cell\n"
     ]
    },
    {
     "name": "stderr",
     "output_type": "stream",
     "text": [
      "2025-04-04 16:24:51,619 [WARNING] Duplicated values found in preranked stats: 91.84% of genes\n",
      "The order of those genes will be arbitrary, which may produce unexpected results.\n",
      "2025-04-04 16:24:51,758 [WARNING] Duplicated values found in preranked stats: 95.10% of genes\n",
      "The order of those genes will be arbitrary, which may produce unexpected results.\n",
      "/tmp/ipykernel_3344069/1521488614.py:208: ImplicitModificationWarning: Trying to modify attribute `.obs` of view, initializing view as actual.\n",
      "  adata_cti.obs[f\"has_{ctj}_neighbor_str\"] = adata_cti.obs[f\"has_{ctj}_neighbor\"].astype(str)\n"
     ]
    },
    {
     "name": "stdout",
     "output_type": "stream",
     "text": [
      "T cell natural killer cell\n"
     ]
    },
    {
     "name": "stderr",
     "output_type": "stream",
     "text": [
      "2025-04-04 16:24:52,182 [WARNING] Duplicated values found in preranked stats: 95.08% of genes\n",
      "The order of those genes will be arbitrary, which may produce unexpected results.\n",
      "2025-04-04 16:24:52,336 [WARNING] Duplicated values found in preranked stats: 95.06% of genes\n",
      "The order of those genes will be arbitrary, which may produce unexpected results.\n",
      "2025-04-04 16:24:52,476 [WARNING] Duplicated values found in preranked stats: 97.04% of genes\n",
      "The order of those genes will be arbitrary, which may produce unexpected results.\n",
      "/tmp/ipykernel_3344069/1521488614.py:208: ImplicitModificationWarning: Trying to modify attribute `.obs` of view, initializing view as actual.\n",
      "  adata_cti.obs[f\"has_{ctj}_neighbor_str\"] = adata_cti.obs[f\"has_{ctj}_neighbor\"].astype(str)\n"
     ]
    },
    {
     "name": "stdout",
     "output_type": "stream",
     "text": [
      "endothelial cell natural killer cell\n"
     ]
    },
    {
     "name": "stderr",
     "output_type": "stream",
     "text": [
      "2025-04-04 16:24:52,885 [WARNING] Duplicated values found in preranked stats: 83.03% of genes\n",
      "The order of those genes will be arbitrary, which may produce unexpected results.\n",
      "2025-04-04 16:24:53,018 [WARNING] Duplicated values found in preranked stats: 83.03% of genes\n",
      "The order of those genes will be arbitrary, which may produce unexpected results.\n",
      "2025-04-04 16:24:53,159 [WARNING] Duplicated values found in preranked stats: 89.62% of genes\n",
      "The order of those genes will be arbitrary, which may produce unexpected results.\n",
      "/tmp/ipykernel_3344069/1521488614.py:208: ImplicitModificationWarning: Trying to modify attribute `.obs` of view, initializing view as actual.\n",
      "  adata_cti.obs[f\"has_{ctj}_neighbor_str\"] = adata_cti.obs[f\"has_{ctj}_neighbor\"].astype(str)\n",
      "2025-04-04 16:24:53,390 [WARNING] Duplicated values found in preranked stats: 99.66% of genes\n",
      "The order of those genes will be arbitrary, which may produce unexpected results.\n"
     ]
    },
    {
     "name": "stdout",
     "output_type": "stream",
     "text": [
      "epithelial cell of lung natural killer cell\n"
     ]
    },
    {
     "name": "stderr",
     "output_type": "stream",
     "text": [
      "2025-04-04 16:24:53,533 [WARNING] Duplicated values found in preranked stats: 99.66% of genes\n",
      "The order of those genes will be arbitrary, which may produce unexpected results.\n",
      "2025-04-04 16:24:53,671 [WARNING] Duplicated values found in preranked stats: 99.76% of genes\n",
      "The order of those genes will be arbitrary, which may produce unexpected results.\n",
      "/tmp/ipykernel_3344069/1521488614.py:208: ImplicitModificationWarning: Trying to modify attribute `.obs` of view, initializing view as actual.\n",
      "  adata_cti.obs[f\"has_{ctj}_neighbor_str\"] = adata_cti.obs[f\"has_{ctj}_neighbor\"].astype(str)\n"
     ]
    },
    {
     "name": "stdout",
     "output_type": "stream",
     "text": [
      "granulocyte natural killer cell\n"
     ]
    },
    {
     "name": "stderr",
     "output_type": "stream",
     "text": [
      "2025-04-04 16:24:54,116 [WARNING] Duplicated values found in preranked stats: 93.26% of genes\n",
      "The order of those genes will be arbitrary, which may produce unexpected results.\n",
      "2025-04-04 16:24:54,256 [WARNING] Duplicated values found in preranked stats: 93.26% of genes\n",
      "The order of those genes will be arbitrary, which may produce unexpected results.\n",
      "2025-04-04 16:24:54,393 [WARNING] Duplicated values found in preranked stats: 96.32% of genes\n",
      "The order of those genes will be arbitrary, which may produce unexpected results.\n",
      "/tmp/ipykernel_3344069/1521488614.py:208: ImplicitModificationWarning: Trying to modify attribute `.obs` of view, initializing view as actual.\n",
      "  adata_cti.obs[f\"has_{ctj}_neighbor_str\"] = adata_cti.obs[f\"has_{ctj}_neighbor\"].astype(str)\n",
      "2025-04-04 16:24:54,727 [WARNING] Duplicated values found in preranked stats: 89.02% of genes\n",
      "The order of those genes will be arbitrary, which may produce unexpected results.\n"
     ]
    },
    {
     "name": "stdout",
     "output_type": "stream",
     "text": [
      "dendritic cell natural killer cell\n"
     ]
    },
    {
     "name": "stderr",
     "output_type": "stream",
     "text": [
      "2025-04-04 16:24:54,861 [WARNING] Duplicated values found in preranked stats: 89.02% of genes\n",
      "The order of those genes will be arbitrary, which may produce unexpected results.\n",
      "2025-04-04 16:24:54,999 [WARNING] Duplicated values found in preranked stats: 93.54% of genes\n",
      "The order of those genes will be arbitrary, which may produce unexpected results.\n",
      "/tmp/ipykernel_3344069/1521488614.py:208: ImplicitModificationWarning: Trying to modify attribute `.obs` of view, initializing view as actual.\n",
      "  adata_cti.obs[f\"has_{ctj}_neighbor_str\"] = adata_cti.obs[f\"has_{ctj}_neighbor\"].astype(str)\n"
     ]
    },
    {
     "name": "stdout",
     "output_type": "stream",
     "text": [
      "fibroblast of lung natural killer cell\n"
     ]
    },
    {
     "name": "stderr",
     "output_type": "stream",
     "text": [
      "2025-04-04 16:24:55,601 [WARNING] Duplicated values found in preranked stats: 85.61% of genes\n",
      "The order of those genes will be arbitrary, which may produce unexpected results.\n",
      "2025-04-04 16:24:55,756 [WARNING] Duplicated values found in preranked stats: 85.61% of genes\n",
      "The order of those genes will be arbitrary, which may produce unexpected results.\n",
      "2025-04-04 16:24:55,896 [WARNING] Duplicated values found in preranked stats: 92.00% of genes\n",
      "The order of those genes will be arbitrary, which may produce unexpected results.\n",
      "/tmp/ipykernel_3344069/1521488614.py:208: ImplicitModificationWarning: Trying to modify attribute `.obs` of view, initializing view as actual.\n",
      "  adata_cti.obs[f\"has_{ctj}_neighbor_str\"] = adata_cti.obs[f\"has_{ctj}_neighbor\"].astype(str)\n",
      "2025-04-04 16:24:56,147 [WARNING] Duplicated values found in preranked stats: 96.70% of genes\n",
      "The order of those genes will be arbitrary, which may produce unexpected results.\n"
     ]
    },
    {
     "name": "stdout",
     "output_type": "stream",
     "text": [
      "cycling lymphocyte natural killer cell\n"
     ]
    },
    {
     "name": "stderr",
     "output_type": "stream",
     "text": [
      "2025-04-04 16:24:56,285 [WARNING] Duplicated values found in preranked stats: 96.70% of genes\n",
      "The order of those genes will be arbitrary, which may produce unexpected results.\n",
      "2025-04-04 16:24:56,423 [WARNING] Duplicated values found in preranked stats: 98.40% of genes\n",
      "The order of those genes will be arbitrary, which may produce unexpected results.\n",
      "/tmp/ipykernel_3344069/1521488614.py:208: ImplicitModificationWarning: Trying to modify attribute `.obs` of view, initializing view as actual.\n",
      "  adata_cti.obs[f\"has_{ctj}_neighbor_str\"] = adata_cti.obs[f\"has_{ctj}_neighbor\"].astype(str)\n",
      "2025-04-04 16:24:56,655 [WARNING] Duplicated values found in preranked stats: 94.12% of genes\n",
      "The order of those genes will be arbitrary, which may produce unexpected results.\n"
     ]
    },
    {
     "name": "stdout",
     "output_type": "stream",
     "text": [
      "smooth muscle cell natural killer cell\n"
     ]
    },
    {
     "name": "stderr",
     "output_type": "stream",
     "text": [
      "2025-04-04 16:24:56,800 [WARNING] Duplicated values found in preranked stats: 94.12% of genes\n",
      "The order of those genes will be arbitrary, which may produce unexpected results.\n",
      "2025-04-04 16:24:56,938 [WARNING] Duplicated values found in preranked stats: 97.14% of genes\n",
      "The order of those genes will be arbitrary, which may produce unexpected results.\n",
      "/tmp/ipykernel_3344069/1521488614.py:208: ImplicitModificationWarning: Trying to modify attribute `.obs` of view, initializing view as actual.\n",
      "  adata_cti.obs[f\"has_{ctj}_neighbor_str\"] = adata_cti.obs[f\"has_{ctj}_neighbor\"].astype(str)\n",
      "2025-04-04 16:24:57,181 [WARNING] Duplicated values found in preranked stats: 98.88% of genes\n",
      "The order of those genes will be arbitrary, which may produce unexpected results.\n"
     ]
    },
    {
     "name": "stdout",
     "output_type": "stream",
     "text": [
      "B cell natural killer cell\n"
     ]
    },
    {
     "name": "stderr",
     "output_type": "stream",
     "text": [
      "2025-04-04 16:24:57,327 [WARNING] Duplicated values found in preranked stats: 98.88% of genes\n",
      "The order of those genes will be arbitrary, which may produce unexpected results.\n",
      "2025-04-04 16:24:57,464 [WARNING] Duplicated values found in preranked stats: 99.40% of genes\n",
      "The order of those genes will be arbitrary, which may produce unexpected results.\n",
      "/tmp/ipykernel_3344069/1521488614.py:208: ImplicitModificationWarning: Trying to modify attribute `.obs` of view, initializing view as actual.\n",
      "  adata_cti.obs[f\"has_{ctj}_neighbor_str\"] = adata_cti.obs[f\"has_{ctj}_neighbor\"].astype(str)\n",
      "2025-04-04 16:24:57,632 [WARNING] Duplicated values found in preranked stats: 98.58% of genes\n",
      "The order of those genes will be arbitrary, which may produce unexpected results.\n",
      "2025-04-04 16:24:57,773 [WARNING] Duplicated values found in preranked stats: 98.58% of genes\n",
      "The order of those genes will be arbitrary, which may produce unexpected results.\n"
     ]
    },
    {
     "name": "stdout",
     "output_type": "stream",
     "text": [
      "plasma cell natural killer cell\n"
     ]
    },
    {
     "name": "stderr",
     "output_type": "stream",
     "text": [
      "2025-04-04 16:24:57,915 [WARNING] Duplicated values found in preranked stats: 99.16% of genes\n",
      "The order of those genes will be arbitrary, which may produce unexpected results.\n",
      "/tmp/ipykernel_3344069/1521488614.py:208: ImplicitModificationWarning: Trying to modify attribute `.obs` of view, initializing view as actual.\n",
      "  adata_cti.obs[f\"has_{ctj}_neighbor_str\"] = adata_cti.obs[f\"has_{ctj}_neighbor\"].astype(str)\n"
     ]
    },
    {
     "name": "stdout",
     "output_type": "stream",
     "text": [
      "malignant cell natural killer cell\n"
     ]
    },
    {
     "name": "stderr",
     "output_type": "stream",
     "text": [
      "2025-04-04 16:24:58,273 [WARNING] Duplicated values found in preranked stats: 99.18% of genes\n",
      "The order of those genes will be arbitrary, which may produce unexpected results.\n",
      "2025-04-04 16:24:58,405 [WARNING] Duplicated values found in preranked stats: 99.18% of genes\n",
      "The order of those genes will be arbitrary, which may produce unexpected results.\n",
      "2025-04-04 16:24:58,543 [WARNING] Duplicated values found in preranked stats: 99.56% of genes\n",
      "The order of those genes will be arbitrary, which may produce unexpected results.\n",
      "/tmp/ipykernel_3344069/1521488614.py:208: ImplicitModificationWarning: Trying to modify attribute `.obs` of view, initializing view as actual.\n",
      "  adata_cti.obs[f\"has_{ctj}_neighbor_str\"] = adata_cti.obs[f\"has_{ctj}_neighbor\"].astype(str)\n",
      "2025-04-04 16:24:58,726 [WARNING] Duplicated values found in preranked stats: 98.50% of genes\n",
      "The order of those genes will be arbitrary, which may produce unexpected results.\n",
      "2025-04-04 16:24:58,869 [WARNING] Duplicated values found in preranked stats: 98.50% of genes\n",
      "The order of those genes will be arbitrary, which may produce unexpected results.\n"
     ]
    },
    {
     "name": "stdout",
     "output_type": "stream",
     "text": [
      "mast cell natural killer cell\n"
     ]
    },
    {
     "name": "stderr",
     "output_type": "stream",
     "text": [
      "2025-04-04 16:24:59,012 [WARNING] Duplicated values found in preranked stats: 99.30% of genes\n",
      "The order of those genes will be arbitrary, which may produce unexpected results.\n",
      "/tmp/ipykernel_3344069/1521488614.py:208: ImplicitModificationWarning: Trying to modify attribute `.obs` of view, initializing view as actual.\n",
      "  adata_cti.obs[f\"has_{ctj}_neighbor_str\"] = adata_cti.obs[f\"has_{ctj}_neighbor\"].astype(str)\n",
      "2025-04-04 16:24:59,274 [WARNING] Duplicated values found in preranked stats: 90.06% of genes\n",
      "The order of those genes will be arbitrary, which may produce unexpected results.\n"
     ]
    },
    {
     "name": "stdout",
     "output_type": "stream",
     "text": [
      "pericyte natural killer cell\n"
     ]
    },
    {
     "name": "stderr",
     "output_type": "stream",
     "text": [
      "2025-04-04 16:24:59,409 [WARNING] Duplicated values found in preranked stats: 90.06% of genes\n",
      "The order of those genes will be arbitrary, which may produce unexpected results.\n",
      "2025-04-04 16:24:59,549 [WARNING] Duplicated values found in preranked stats: 94.68% of genes\n",
      "The order of those genes will be arbitrary, which may produce unexpected results.\n"
     ]
    },
    {
     "name": "stdout",
     "output_type": "stream",
     "text": [
      "macrophage endothelial cell\n"
     ]
    },
    {
     "name": "stderr",
     "output_type": "stream",
     "text": [
      "/tmp/ipykernel_3344069/1521488614.py:208: ImplicitModificationWarning: Trying to modify attribute `.obs` of view, initializing view as actual.\n",
      "  adata_cti.obs[f\"has_{ctj}_neighbor_str\"] = adata_cti.obs[f\"has_{ctj}_neighbor\"].astype(str)\n",
      "2025-04-04 16:25:03,622 [WARNING] Duplicated values found in preranked stats: 72.19% of genes\n",
      "The order of those genes will be arbitrary, which may produce unexpected results.\n",
      "2025-04-04 16:25:03,755 [WARNING] Duplicated values found in preranked stats: 72.19% of genes\n",
      "The order of those genes will be arbitrary, which may produce unexpected results.\n",
      "2025-04-04 16:25:03,894 [WARNING] Duplicated values found in preranked stats: 82.17% of genes\n",
      "The order of those genes will be arbitrary, which may produce unexpected results.\n",
      "/tmp/ipykernel_3344069/1521488614.py:208: ImplicitModificationWarning: Trying to modify attribute `.obs` of view, initializing view as actual.\n",
      "  adata_cti.obs[f\"has_{ctj}_neighbor_str\"] = adata_cti.obs[f\"has_{ctj}_neighbor\"].astype(str)\n",
      "2025-04-04 16:25:04,230 [WARNING] Duplicated values found in preranked stats: 91.82% of genes\n",
      "The order of those genes will be arbitrary, which may produce unexpected results.\n"
     ]
    },
    {
     "name": "stdout",
     "output_type": "stream",
     "text": [
      "monocyte endothelial cell\n"
     ]
    },
    {
     "name": "stderr",
     "output_type": "stream",
     "text": [
      "2025-04-04 16:25:04,366 [WARNING] Duplicated values found in preranked stats: 91.82% of genes\n",
      "The order of those genes will be arbitrary, which may produce unexpected results.\n",
      "2025-04-04 16:25:04,506 [WARNING] Duplicated values found in preranked stats: 94.38% of genes\n",
      "The order of those genes will be arbitrary, which may produce unexpected results.\n",
      "/tmp/ipykernel_3344069/1521488614.py:208: ImplicitModificationWarning: Trying to modify attribute `.obs` of view, initializing view as actual.\n",
      "  adata_cti.obs[f\"has_{ctj}_neighbor_str\"] = adata_cti.obs[f\"has_{ctj}_neighbor\"].astype(str)\n"
     ]
    },
    {
     "name": "stdout",
     "output_type": "stream",
     "text": [
      "T cell endothelial cell\n"
     ]
    },
    {
     "name": "stderr",
     "output_type": "stream",
     "text": [
      "2025-04-04 16:25:04,948 [WARNING] Duplicated values found in preranked stats: 95.12% of genes\n",
      "The order of those genes will be arbitrary, which may produce unexpected results.\n",
      "2025-04-04 16:25:05,102 [WARNING] Duplicated values found in preranked stats: 95.10% of genes\n",
      "The order of those genes will be arbitrary, which may produce unexpected results.\n",
      "2025-04-04 16:25:05,245 [WARNING] Duplicated values found in preranked stats: 96.90% of genes\n",
      "The order of those genes will be arbitrary, which may produce unexpected results.\n",
      "/tmp/ipykernel_3344069/1521488614.py:208: ImplicitModificationWarning: Trying to modify attribute `.obs` of view, initializing view as actual.\n",
      "  adata_cti.obs[f\"has_{ctj}_neighbor_str\"] = adata_cti.obs[f\"has_{ctj}_neighbor\"].astype(str)\n",
      "2025-04-04 16:25:05,441 [WARNING] Duplicated values found in preranked stats: 98.24% of genes\n",
      "The order of those genes will be arbitrary, which may produce unexpected results.\n",
      "2025-04-04 16:25:05,576 [WARNING] Duplicated values found in preranked stats: 98.24% of genes\n",
      "The order of those genes will be arbitrary, which may produce unexpected results.\n"
     ]
    },
    {
     "name": "stdout",
     "output_type": "stream",
     "text": [
      "natural killer cell endothelial cell\n"
     ]
    },
    {
     "name": "stderr",
     "output_type": "stream",
     "text": [
      "2025-04-04 16:25:05,719 [WARNING] Duplicated values found in preranked stats: 98.82% of genes\n",
      "The order of those genes will be arbitrary, which may produce unexpected results.\n",
      "/tmp/ipykernel_3344069/1521488614.py:208: ImplicitModificationWarning: Trying to modify attribute `.obs` of view, initializing view as actual.\n",
      "  adata_cti.obs[f\"has_{ctj}_neighbor_str\"] = adata_cti.obs[f\"has_{ctj}_neighbor\"].astype(str)\n",
      "2025-04-04 16:25:05,951 [WARNING] Duplicated values found in preranked stats: 99.66% of genes\n",
      "The order of those genes will be arbitrary, which may produce unexpected results.\n"
     ]
    },
    {
     "name": "stdout",
     "output_type": "stream",
     "text": [
      "epithelial cell of lung endothelial cell\n"
     ]
    },
    {
     "name": "stderr",
     "output_type": "stream",
     "text": [
      "2025-04-04 16:25:06,095 [WARNING] Duplicated values found in preranked stats: 99.66% of genes\n",
      "The order of those genes will be arbitrary, which may produce unexpected results.\n",
      "2025-04-04 16:25:06,237 [WARNING] Duplicated values found in preranked stats: 99.80% of genes\n",
      "The order of those genes will be arbitrary, which may produce unexpected results.\n",
      "/tmp/ipykernel_3344069/1521488614.py:208: ImplicitModificationWarning: Trying to modify attribute `.obs` of view, initializing view as actual.\n",
      "  adata_cti.obs[f\"has_{ctj}_neighbor_str\"] = adata_cti.obs[f\"has_{ctj}_neighbor\"].astype(str)\n"
     ]
    },
    {
     "name": "stdout",
     "output_type": "stream",
     "text": [
      "granulocyte endothelial cell\n"
     ]
    },
    {
     "name": "stderr",
     "output_type": "stream",
     "text": [
      "2025-04-04 16:25:06,691 [WARNING] Duplicated values found in preranked stats: 93.26% of genes\n",
      "The order of those genes will be arbitrary, which may produce unexpected results.\n",
      "2025-04-04 16:25:06,830 [WARNING] Duplicated values found in preranked stats: 93.26% of genes\n",
      "The order of those genes will be arbitrary, which may produce unexpected results.\n",
      "2025-04-04 16:25:06,970 [WARNING] Duplicated values found in preranked stats: 95.38% of genes\n",
      "The order of those genes will be arbitrary, which may produce unexpected results.\n",
      "/tmp/ipykernel_3344069/1521488614.py:208: ImplicitModificationWarning: Trying to modify attribute `.obs` of view, initializing view as actual.\n",
      "  adata_cti.obs[f\"has_{ctj}_neighbor_str\"] = adata_cti.obs[f\"has_{ctj}_neighbor\"].astype(str)\n"
     ]
    },
    {
     "name": "stdout",
     "output_type": "stream",
     "text": [
      "dendritic cell endothelial cell\n"
     ]
    },
    {
     "name": "stderr",
     "output_type": "stream",
     "text": [
      "2025-04-04 16:25:07,315 [WARNING] Duplicated values found in preranked stats: 89.02% of genes\n",
      "The order of those genes will be arbitrary, which may produce unexpected results.\n",
      "2025-04-04 16:25:07,446 [WARNING] Duplicated values found in preranked stats: 89.02% of genes\n",
      "The order of those genes will be arbitrary, which may produce unexpected results.\n",
      "2025-04-04 16:25:07,584 [WARNING] Duplicated values found in preranked stats: 92.32% of genes\n",
      "The order of those genes will be arbitrary, which may produce unexpected results.\n",
      "/tmp/ipykernel_3344069/1521488614.py:208: ImplicitModificationWarning: Trying to modify attribute `.obs` of view, initializing view as actual.\n",
      "  adata_cti.obs[f\"has_{ctj}_neighbor_str\"] = adata_cti.obs[f\"has_{ctj}_neighbor\"].astype(str)\n"
     ]
    },
    {
     "name": "stdout",
     "output_type": "stream",
     "text": [
      "fibroblast of lung endothelial cell\n"
     ]
    },
    {
     "name": "stderr",
     "output_type": "stream",
     "text": [
      "2025-04-04 16:25:08,182 [WARNING] Duplicated values found in preranked stats: 85.59% of genes\n",
      "The order of those genes will be arbitrary, which may produce unexpected results.\n",
      "2025-04-04 16:25:08,335 [WARNING] Duplicated values found in preranked stats: 85.59% of genes\n",
      "The order of those genes will be arbitrary, which may produce unexpected results.\n",
      "2025-04-04 16:25:08,472 [WARNING] Duplicated values found in preranked stats: 89.96% of genes\n",
      "The order of those genes will be arbitrary, which may produce unexpected results.\n",
      "/tmp/ipykernel_3344069/1521488614.py:208: ImplicitModificationWarning: Trying to modify attribute `.obs` of view, initializing view as actual.\n",
      "  adata_cti.obs[f\"has_{ctj}_neighbor_str\"] = adata_cti.obs[f\"has_{ctj}_neighbor\"].astype(str)\n",
      "2025-04-04 16:25:08,731 [WARNING] Duplicated values found in preranked stats: 96.70% of genes\n",
      "The order of those genes will be arbitrary, which may produce unexpected results.\n"
     ]
    },
    {
     "name": "stdout",
     "output_type": "stream",
     "text": [
      "cycling lymphocyte endothelial cell\n"
     ]
    },
    {
     "name": "stderr",
     "output_type": "stream",
     "text": [
      "2025-04-04 16:25:08,873 [WARNING] Duplicated values found in preranked stats: 96.70% of genes\n",
      "The order of those genes will be arbitrary, which may produce unexpected results.\n",
      "2025-04-04 16:25:09,015 [WARNING] Duplicated values found in preranked stats: 98.20% of genes\n",
      "The order of those genes will be arbitrary, which may produce unexpected results.\n",
      "/tmp/ipykernel_3344069/1521488614.py:208: ImplicitModificationWarning: Trying to modify attribute `.obs` of view, initializing view as actual.\n",
      "  adata_cti.obs[f\"has_{ctj}_neighbor_str\"] = adata_cti.obs[f\"has_{ctj}_neighbor\"].astype(str)\n",
      "2025-04-04 16:25:09,245 [WARNING] Duplicated values found in preranked stats: 94.12% of genes\n",
      "The order of those genes will be arbitrary, which may produce unexpected results.\n"
     ]
    },
    {
     "name": "stdout",
     "output_type": "stream",
     "text": [
      "smooth muscle cell endothelial cell\n"
     ]
    },
    {
     "name": "stderr",
     "output_type": "stream",
     "text": [
      "2025-04-04 16:25:09,388 [WARNING] Duplicated values found in preranked stats: 94.12% of genes\n",
      "The order of those genes will be arbitrary, which may produce unexpected results.\n",
      "2025-04-04 16:25:09,535 [WARNING] Duplicated values found in preranked stats: 96.20% of genes\n",
      "The order of those genes will be arbitrary, which may produce unexpected results.\n",
      "/tmp/ipykernel_3344069/1521488614.py:208: ImplicitModificationWarning: Trying to modify attribute `.obs` of view, initializing view as actual.\n",
      "  adata_cti.obs[f\"has_{ctj}_neighbor_str\"] = adata_cti.obs[f\"has_{ctj}_neighbor\"].astype(str)\n",
      "2025-04-04 16:25:09,778 [WARNING] Duplicated values found in preranked stats: 98.84% of genes\n",
      "The order of those genes will be arbitrary, which may produce unexpected results.\n"
     ]
    },
    {
     "name": "stdout",
     "output_type": "stream",
     "text": [
      "B cell endothelial cell\n"
     ]
    },
    {
     "name": "stderr",
     "output_type": "stream",
     "text": [
      "2025-04-04 16:25:09,928 [WARNING] Duplicated values found in preranked stats: 98.84% of genes\n",
      "The order of those genes will be arbitrary, which may produce unexpected results.\n",
      "2025-04-04 16:25:10,069 [WARNING] Duplicated values found in preranked stats: 99.18% of genes\n",
      "The order of those genes will be arbitrary, which may produce unexpected results.\n",
      "/tmp/ipykernel_3344069/1521488614.py:208: ImplicitModificationWarning: Trying to modify attribute `.obs` of view, initializing view as actual.\n",
      "  adata_cti.obs[f\"has_{ctj}_neighbor_str\"] = adata_cti.obs[f\"has_{ctj}_neighbor\"].astype(str)\n",
      "2025-04-04 16:25:10,240 [WARNING] Duplicated values found in preranked stats: 98.58% of genes\n",
      "The order of those genes will be arbitrary, which may produce unexpected results.\n",
      "2025-04-04 16:25:10,386 [WARNING] Duplicated values found in preranked stats: 98.58% of genes\n",
      "The order of those genes will be arbitrary, which may produce unexpected results.\n"
     ]
    },
    {
     "name": "stdout",
     "output_type": "stream",
     "text": [
      "plasma cell endothelial cell\n"
     ]
    },
    {
     "name": "stderr",
     "output_type": "stream",
     "text": [
      "2025-04-04 16:25:10,528 [WARNING] Duplicated values found in preranked stats: 99.04% of genes\n",
      "The order of those genes will be arbitrary, which may produce unexpected results.\n",
      "/tmp/ipykernel_3344069/1521488614.py:208: ImplicitModificationWarning: Trying to modify attribute `.obs` of view, initializing view as actual.\n",
      "  adata_cti.obs[f\"has_{ctj}_neighbor_str\"] = adata_cti.obs[f\"has_{ctj}_neighbor\"].astype(str)\n"
     ]
    },
    {
     "name": "stdout",
     "output_type": "stream",
     "text": [
      "malignant cell endothelial cell\n"
     ]
    },
    {
     "name": "stderr",
     "output_type": "stream",
     "text": [
      "2025-04-04 16:25:10,884 [WARNING] Duplicated values found in preranked stats: 99.16% of genes\n",
      "The order of those genes will be arbitrary, which may produce unexpected results.\n",
      "2025-04-04 16:25:11,018 [WARNING] Duplicated values found in preranked stats: 99.16% of genes\n",
      "The order of those genes will be arbitrary, which may produce unexpected results.\n",
      "2025-04-04 16:25:11,155 [WARNING] Duplicated values found in preranked stats: 99.44% of genes\n",
      "The order of those genes will be arbitrary, which may produce unexpected results.\n",
      "/tmp/ipykernel_3344069/1521488614.py:208: ImplicitModificationWarning: Trying to modify attribute `.obs` of view, initializing view as actual.\n",
      "  adata_cti.obs[f\"has_{ctj}_neighbor_str\"] = adata_cti.obs[f\"has_{ctj}_neighbor\"].astype(str)\n",
      "2025-04-04 16:25:11,331 [WARNING] Duplicated values found in preranked stats: 98.50% of genes\n",
      "The order of those genes will be arbitrary, which may produce unexpected results.\n",
      "2025-04-04 16:25:11,469 [WARNING] Duplicated values found in preranked stats: 98.50% of genes\n",
      "The order of those genes will be arbitrary, which may produce unexpected results.\n"
     ]
    },
    {
     "name": "stdout",
     "output_type": "stream",
     "text": [
      "mast cell endothelial cell\n"
     ]
    },
    {
     "name": "stderr",
     "output_type": "stream",
     "text": [
      "2025-04-04 16:25:11,606 [WARNING] Duplicated values found in preranked stats: 98.92% of genes\n",
      "The order of those genes will be arbitrary, which may produce unexpected results.\n",
      "/tmp/ipykernel_3344069/1521488614.py:208: ImplicitModificationWarning: Trying to modify attribute `.obs` of view, initializing view as actual.\n",
      "  adata_cti.obs[f\"has_{ctj}_neighbor_str\"] = adata_cti.obs[f\"has_{ctj}_neighbor\"].astype(str)\n",
      "2025-04-04 16:25:11,858 [WARNING] Duplicated values found in preranked stats: 90.04% of genes\n",
      "The order of those genes will be arbitrary, which may produce unexpected results.\n"
     ]
    },
    {
     "name": "stdout",
     "output_type": "stream",
     "text": [
      "pericyte endothelial cell\n"
     ]
    },
    {
     "name": "stderr",
     "output_type": "stream",
     "text": [
      "2025-04-04 16:25:11,991 [WARNING] Duplicated values found in preranked stats: 90.04% of genes\n",
      "The order of those genes will be arbitrary, which may produce unexpected results.\n",
      "2025-04-04 16:25:12,129 [WARNING] Duplicated values found in preranked stats: 93.68% of genes\n",
      "The order of those genes will be arbitrary, which may produce unexpected results.\n"
     ]
    },
    {
     "name": "stdout",
     "output_type": "stream",
     "text": [
      "macrophage epithelial cell of lung\n"
     ]
    },
    {
     "name": "stderr",
     "output_type": "stream",
     "text": [
      "/tmp/ipykernel_3344069/1521488614.py:208: ImplicitModificationWarning: Trying to modify attribute `.obs` of view, initializing view as actual.\n",
      "  adata_cti.obs[f\"has_{ctj}_neighbor_str\"] = adata_cti.obs[f\"has_{ctj}_neighbor\"].astype(str)\n",
      "2025-04-04 16:25:16,101 [WARNING] Duplicated values found in preranked stats: 72.19% of genes\n",
      "The order of those genes will be arbitrary, which may produce unexpected results.\n",
      "2025-04-04 16:25:16,239 [WARNING] Duplicated values found in preranked stats: 72.19% of genes\n",
      "The order of those genes will be arbitrary, which may produce unexpected results.\n",
      "2025-04-04 16:25:16,376 [WARNING] Duplicated values found in preranked stats: 85.67% of genes\n",
      "The order of those genes will be arbitrary, which may produce unexpected results.\n",
      "/tmp/ipykernel_3344069/1521488614.py:208: ImplicitModificationWarning: Trying to modify attribute `.obs` of view, initializing view as actual.\n",
      "  adata_cti.obs[f\"has_{ctj}_neighbor_str\"] = adata_cti.obs[f\"has_{ctj}_neighbor\"].astype(str)\n",
      "2025-04-04 16:25:16,693 [WARNING] Duplicated values found in preranked stats: 91.84% of genes\n",
      "The order of those genes will be arbitrary, which may produce unexpected results.\n"
     ]
    },
    {
     "name": "stdout",
     "output_type": "stream",
     "text": [
      "monocyte epithelial cell of lung\n"
     ]
    },
    {
     "name": "stderr",
     "output_type": "stream",
     "text": [
      "2025-04-04 16:25:16,829 [WARNING] Duplicated values found in preranked stats: 91.84% of genes\n",
      "The order of those genes will be arbitrary, which may produce unexpected results.\n",
      "2025-04-04 16:25:16,966 [WARNING] Duplicated values found in preranked stats: 95.90% of genes\n",
      "The order of those genes will be arbitrary, which may produce unexpected results.\n",
      "/tmp/ipykernel_3344069/1521488614.py:208: ImplicitModificationWarning: Trying to modify attribute `.obs` of view, initializing view as actual.\n",
      "  adata_cti.obs[f\"has_{ctj}_neighbor_str\"] = adata_cti.obs[f\"has_{ctj}_neighbor\"].astype(str)\n"
     ]
    },
    {
     "name": "stdout",
     "output_type": "stream",
     "text": [
      "T cell epithelial cell of lung\n"
     ]
    },
    {
     "name": "stderr",
     "output_type": "stream",
     "text": [
      "2025-04-04 16:25:17,384 [WARNING] Duplicated values found in preranked stats: 95.12% of genes\n",
      "The order of those genes will be arbitrary, which may produce unexpected results.\n",
      "2025-04-04 16:25:17,534 [WARNING] Duplicated values found in preranked stats: 95.10% of genes\n",
      "The order of those genes will be arbitrary, which may produce unexpected results.\n",
      "2025-04-04 16:25:17,672 [WARNING] Duplicated values found in preranked stats: 97.72% of genes\n",
      "The order of those genes will be arbitrary, which may produce unexpected results.\n",
      "/tmp/ipykernel_3344069/1521488614.py:208: ImplicitModificationWarning: Trying to modify attribute `.obs` of view, initializing view as actual.\n",
      "  adata_cti.obs[f\"has_{ctj}_neighbor_str\"] = adata_cti.obs[f\"has_{ctj}_neighbor\"].astype(str)\n",
      "2025-04-04 16:25:17,862 [WARNING] Duplicated values found in preranked stats: 98.28% of genes\n",
      "The order of those genes will be arbitrary, which may produce unexpected results.\n",
      "2025-04-04 16:25:17,995 [WARNING] Duplicated values found in preranked stats: 98.28% of genes\n",
      "The order of those genes will be arbitrary, which may produce unexpected results.\n"
     ]
    },
    {
     "name": "stdout",
     "output_type": "stream",
     "text": [
      "natural killer cell epithelial cell of lung\n"
     ]
    },
    {
     "name": "stderr",
     "output_type": "stream",
     "text": [
      "2025-04-04 16:25:18,132 [WARNING] Duplicated values found in preranked stats: 99.28% of genes\n",
      "The order of those genes will be arbitrary, which may produce unexpected results.\n",
      "/tmp/ipykernel_3344069/1521488614.py:208: ImplicitModificationWarning: Trying to modify attribute `.obs` of view, initializing view as actual.\n",
      "  adata_cti.obs[f\"has_{ctj}_neighbor_str\"] = adata_cti.obs[f\"has_{ctj}_neighbor\"].astype(str)\n"
     ]
    },
    {
     "name": "stdout",
     "output_type": "stream",
     "text": [
      "endothelial cell epithelial cell of lung\n"
     ]
    },
    {
     "name": "stderr",
     "output_type": "stream",
     "text": [
      "2025-04-04 16:25:18,534 [WARNING] Duplicated values found in preranked stats: 83.03% of genes\n",
      "The order of those genes will be arbitrary, which may produce unexpected results.\n",
      "2025-04-04 16:25:18,667 [WARNING] Duplicated values found in preranked stats: 83.03% of genes\n",
      "The order of those genes will be arbitrary, which may produce unexpected results.\n",
      "2025-04-04 16:25:18,802 [WARNING] Duplicated values found in preranked stats: 91.76% of genes\n",
      "The order of those genes will be arbitrary, which may produce unexpected results.\n",
      "/tmp/ipykernel_3344069/1521488614.py:208: ImplicitModificationWarning: Trying to modify attribute `.obs` of view, initializing view as actual.\n",
      "  adata_cti.obs[f\"has_{ctj}_neighbor_str\"] = adata_cti.obs[f\"has_{ctj}_neighbor\"].astype(str)\n"
     ]
    },
    {
     "name": "stdout",
     "output_type": "stream",
     "text": [
      "granulocyte epithelial cell of lung\n"
     ]
    },
    {
     "name": "stderr",
     "output_type": "stream",
     "text": [
      "2025-04-04 16:25:19,246 [WARNING] Duplicated values found in preranked stats: 93.26% of genes\n",
      "The order of those genes will be arbitrary, which may produce unexpected results.\n",
      "2025-04-04 16:25:19,378 [WARNING] Duplicated values found in preranked stats: 93.26% of genes\n",
      "The order of those genes will be arbitrary, which may produce unexpected results.\n",
      "2025-04-04 16:25:19,513 [WARNING] Duplicated values found in preranked stats: 96.64% of genes\n",
      "The order of those genes will be arbitrary, which may produce unexpected results.\n",
      "/tmp/ipykernel_3344069/1521488614.py:208: ImplicitModificationWarning: Trying to modify attribute `.obs` of view, initializing view as actual.\n",
      "  adata_cti.obs[f\"has_{ctj}_neighbor_str\"] = adata_cti.obs[f\"has_{ctj}_neighbor\"].astype(str)\n"
     ]
    },
    {
     "name": "stdout",
     "output_type": "stream",
     "text": [
      "dendritic cell epithelial cell of lung\n"
     ]
    },
    {
     "name": "stderr",
     "output_type": "stream",
     "text": [
      "2025-04-04 16:25:19,852 [WARNING] Duplicated values found in preranked stats: 89.06% of genes\n",
      "The order of those genes will be arbitrary, which may produce unexpected results.\n",
      "2025-04-04 16:25:19,985 [WARNING] Duplicated values found in preranked stats: 89.06% of genes\n",
      "The order of those genes will be arbitrary, which may produce unexpected results.\n",
      "2025-04-04 16:25:20,123 [WARNING] Duplicated values found in preranked stats: 95.02% of genes\n",
      "The order of those genes will be arbitrary, which may produce unexpected results.\n",
      "/tmp/ipykernel_3344069/1521488614.py:208: ImplicitModificationWarning: Trying to modify attribute `.obs` of view, initializing view as actual.\n",
      "  adata_cti.obs[f\"has_{ctj}_neighbor_str\"] = adata_cti.obs[f\"has_{ctj}_neighbor\"].astype(str)\n"
     ]
    },
    {
     "name": "stdout",
     "output_type": "stream",
     "text": [
      "fibroblast of lung epithelial cell of lung\n"
     ]
    },
    {
     "name": "stderr",
     "output_type": "stream",
     "text": [
      "2025-04-04 16:25:20,750 [WARNING] Duplicated values found in preranked stats: 85.65% of genes\n",
      "The order of those genes will be arbitrary, which may produce unexpected results.\n",
      "2025-04-04 16:25:20,902 [WARNING] Duplicated values found in preranked stats: 85.63% of genes\n",
      "The order of those genes will be arbitrary, which may produce unexpected results.\n",
      "2025-04-04 16:25:21,038 [WARNING] Duplicated values found in preranked stats: 92.68% of genes\n",
      "The order of those genes will be arbitrary, which may produce unexpected results.\n",
      "/tmp/ipykernel_3344069/1521488614.py:208: ImplicitModificationWarning: Trying to modify attribute `.obs` of view, initializing view as actual.\n",
      "  adata_cti.obs[f\"has_{ctj}_neighbor_str\"] = adata_cti.obs[f\"has_{ctj}_neighbor\"].astype(str)\n",
      "2025-04-04 16:25:21,286 [WARNING] Duplicated values found in preranked stats: 96.70% of genes\n",
      "The order of those genes will be arbitrary, which may produce unexpected results.\n"
     ]
    },
    {
     "name": "stdout",
     "output_type": "stream",
     "text": [
      "cycling lymphocyte epithelial cell of lung\n"
     ]
    },
    {
     "name": "stderr",
     "output_type": "stream",
     "text": [
      "2025-04-04 16:25:21,423 [WARNING] Duplicated values found in preranked stats: 96.70% of genes\n",
      "The order of those genes will be arbitrary, which may produce unexpected results.\n",
      "2025-04-04 16:25:21,562 [WARNING] Duplicated values found in preranked stats: 98.78% of genes\n",
      "The order of those genes will be arbitrary, which may produce unexpected results.\n",
      "/tmp/ipykernel_3344069/1521488614.py:208: ImplicitModificationWarning: Trying to modify attribute `.obs` of view, initializing view as actual.\n",
      "  adata_cti.obs[f\"has_{ctj}_neighbor_str\"] = adata_cti.obs[f\"has_{ctj}_neighbor\"].astype(str)\n",
      "2025-04-04 16:25:21,799 [WARNING] Duplicated values found in preranked stats: 94.12% of genes\n",
      "The order of those genes will be arbitrary, which may produce unexpected results.\n"
     ]
    },
    {
     "name": "stdout",
     "output_type": "stream",
     "text": [
      "smooth muscle cell epithelial cell of lung\n"
     ]
    },
    {
     "name": "stderr",
     "output_type": "stream",
     "text": [
      "2025-04-04 16:25:21,942 [WARNING] Duplicated values found in preranked stats: 94.12% of genes\n",
      "The order of those genes will be arbitrary, which may produce unexpected results.\n",
      "2025-04-04 16:25:22,079 [WARNING] Duplicated values found in preranked stats: 97.70% of genes\n",
      "The order of those genes will be arbitrary, which may produce unexpected results.\n",
      "/tmp/ipykernel_3344069/1521488614.py:208: ImplicitModificationWarning: Trying to modify attribute `.obs` of view, initializing view as actual.\n",
      "  adata_cti.obs[f\"has_{ctj}_neighbor_str\"] = adata_cti.obs[f\"has_{ctj}_neighbor\"].astype(str)\n",
      "2025-04-04 16:25:22,316 [WARNING] Duplicated values found in preranked stats: 98.88% of genes\n",
      "The order of those genes will be arbitrary, which may produce unexpected results.\n"
     ]
    },
    {
     "name": "stdout",
     "output_type": "stream",
     "text": [
      "B cell epithelial cell of lung\n"
     ]
    },
    {
     "name": "stderr",
     "output_type": "stream",
     "text": [
      "2025-04-04 16:25:22,462 [WARNING] Duplicated values found in preranked stats: 98.88% of genes\n",
      "The order of those genes will be arbitrary, which may produce unexpected results.\n",
      "2025-04-04 16:25:22,600 [WARNING] Duplicated values found in preranked stats: 99.42% of genes\n",
      "The order of those genes will be arbitrary, which may produce unexpected results.\n",
      "/tmp/ipykernel_3344069/1521488614.py:208: ImplicitModificationWarning: Trying to modify attribute `.obs` of view, initializing view as actual.\n",
      "  adata_cti.obs[f\"has_{ctj}_neighbor_str\"] = adata_cti.obs[f\"has_{ctj}_neighbor\"].astype(str)\n"
     ]
    },
    {
     "name": "stdout",
     "output_type": "stream",
     "text": [
      "plasma cell epithelial cell of lung\n",
      "Not enough cells from each class to test plasma cell with epithelial cell of lung neighbors\n",
      "malignant cell epithelial cell of lung\n"
     ]
    },
    {
     "name": "stderr",
     "output_type": "stream",
     "text": [
      "2025-04-04 16:25:22,948 [WARNING] Duplicated values found in preranked stats: 99.16% of genes\n",
      "The order of those genes will be arbitrary, which may produce unexpected results.\n",
      "2025-04-04 16:25:23,082 [WARNING] Duplicated values found in preranked stats: 99.16% of genes\n",
      "The order of those genes will be arbitrary, which may produce unexpected results.\n",
      "2025-04-04 16:25:23,220 [WARNING] Duplicated values found in preranked stats: 99.64% of genes\n",
      "The order of those genes will be arbitrary, which may produce unexpected results.\n",
      "/tmp/ipykernel_3344069/1521488614.py:208: ImplicitModificationWarning: Trying to modify attribute `.obs` of view, initializing view as actual.\n",
      "  adata_cti.obs[f\"has_{ctj}_neighbor_str\"] = adata_cti.obs[f\"has_{ctj}_neighbor\"].astype(str)\n",
      "2025-04-04 16:25:23,399 [WARNING] Duplicated values found in preranked stats: 98.50% of genes\n",
      "The order of those genes will be arbitrary, which may produce unexpected results.\n",
      "2025-04-04 16:25:23,539 [WARNING] Duplicated values found in preranked stats: 98.50% of genes\n",
      "The order of those genes will be arbitrary, which may produce unexpected results.\n"
     ]
    },
    {
     "name": "stdout",
     "output_type": "stream",
     "text": [
      "mast cell epithelial cell of lung\n"
     ]
    },
    {
     "name": "stderr",
     "output_type": "stream",
     "text": [
      "2025-04-04 16:25:23,676 [WARNING] Duplicated values found in preranked stats: 99.12% of genes\n",
      "The order of those genes will be arbitrary, which may produce unexpected results.\n",
      "/tmp/ipykernel_3344069/1521488614.py:208: ImplicitModificationWarning: Trying to modify attribute `.obs` of view, initializing view as actual.\n",
      "  adata_cti.obs[f\"has_{ctj}_neighbor_str\"] = adata_cti.obs[f\"has_{ctj}_neighbor\"].astype(str)\n",
      "2025-04-04 16:25:23,916 [WARNING] Duplicated values found in preranked stats: 90.06% of genes\n",
      "The order of those genes will be arbitrary, which may produce unexpected results.\n"
     ]
    },
    {
     "name": "stdout",
     "output_type": "stream",
     "text": [
      "pericyte epithelial cell of lung\n"
     ]
    },
    {
     "name": "stderr",
     "output_type": "stream",
     "text": [
      "2025-04-04 16:25:24,051 [WARNING] Duplicated values found in preranked stats: 90.06% of genes\n",
      "The order of those genes will be arbitrary, which may produce unexpected results.\n",
      "2025-04-04 16:25:24,189 [WARNING] Duplicated values found in preranked stats: 97.00% of genes\n",
      "The order of those genes will be arbitrary, which may produce unexpected results.\n"
     ]
    },
    {
     "name": "stdout",
     "output_type": "stream",
     "text": [
      "macrophage granulocyte\n"
     ]
    },
    {
     "name": "stderr",
     "output_type": "stream",
     "text": [
      "/tmp/ipykernel_3344069/1521488614.py:208: ImplicitModificationWarning: Trying to modify attribute `.obs` of view, initializing view as actual.\n",
      "  adata_cti.obs[f\"has_{ctj}_neighbor_str\"] = adata_cti.obs[f\"has_{ctj}_neighbor\"].astype(str)\n",
      "2025-04-04 16:25:27,997 [WARNING] Duplicated values found in preranked stats: 72.19% of genes\n",
      "The order of those genes will be arbitrary, which may produce unexpected results.\n",
      "2025-04-04 16:25:28,131 [WARNING] Duplicated values found in preranked stats: 72.19% of genes\n",
      "The order of those genes will be arbitrary, which may produce unexpected results.\n",
      "2025-04-04 16:25:28,268 [WARNING] Duplicated values found in preranked stats: 82.29% of genes\n",
      "The order of those genes will be arbitrary, which may produce unexpected results.\n",
      "/tmp/ipykernel_3344069/1521488614.py:208: ImplicitModificationWarning: Trying to modify attribute `.obs` of view, initializing view as actual.\n",
      "  adata_cti.obs[f\"has_{ctj}_neighbor_str\"] = adata_cti.obs[f\"has_{ctj}_neighbor\"].astype(str)\n",
      "2025-04-04 16:25:28,586 [WARNING] Duplicated values found in preranked stats: 91.82% of genes\n",
      "The order of those genes will be arbitrary, which may produce unexpected results.\n"
     ]
    },
    {
     "name": "stdout",
     "output_type": "stream",
     "text": [
      "monocyte granulocyte\n"
     ]
    },
    {
     "name": "stderr",
     "output_type": "stream",
     "text": [
      "2025-04-04 16:25:28,720 [WARNING] Duplicated values found in preranked stats: 91.82% of genes\n",
      "The order of those genes will be arbitrary, which may produce unexpected results.\n",
      "2025-04-04 16:25:28,857 [WARNING] Duplicated values found in preranked stats: 94.72% of genes\n",
      "The order of those genes will be arbitrary, which may produce unexpected results.\n",
      "/tmp/ipykernel_3344069/1521488614.py:208: ImplicitModificationWarning: Trying to modify attribute `.obs` of view, initializing view as actual.\n",
      "  adata_cti.obs[f\"has_{ctj}_neighbor_str\"] = adata_cti.obs[f\"has_{ctj}_neighbor\"].astype(str)\n"
     ]
    },
    {
     "name": "stdout",
     "output_type": "stream",
     "text": [
      "T cell granulocyte\n"
     ]
    },
    {
     "name": "stderr",
     "output_type": "stream",
     "text": [
      "2025-04-04 16:25:29,280 [WARNING] Duplicated values found in preranked stats: 95.08% of genes\n",
      "The order of those genes will be arbitrary, which may produce unexpected results.\n",
      "2025-04-04 16:25:29,430 [WARNING] Duplicated values found in preranked stats: 95.06% of genes\n",
      "The order of those genes will be arbitrary, which may produce unexpected results.\n",
      "2025-04-04 16:25:29,565 [WARNING] Duplicated values found in preranked stats: 96.70% of genes\n",
      "The order of those genes will be arbitrary, which may produce unexpected results.\n",
      "/tmp/ipykernel_3344069/1521488614.py:208: ImplicitModificationWarning: Trying to modify attribute `.obs` of view, initializing view as actual.\n",
      "  adata_cti.obs[f\"has_{ctj}_neighbor_str\"] = adata_cti.obs[f\"has_{ctj}_neighbor\"].astype(str)\n",
      "2025-04-04 16:25:29,751 [WARNING] Duplicated values found in preranked stats: 98.28% of genes\n",
      "The order of those genes will be arbitrary, which may produce unexpected results.\n",
      "2025-04-04 16:25:29,881 [WARNING] Duplicated values found in preranked stats: 98.28% of genes\n",
      "The order of those genes will be arbitrary, which may produce unexpected results.\n"
     ]
    },
    {
     "name": "stdout",
     "output_type": "stream",
     "text": [
      "natural killer cell granulocyte\n"
     ]
    },
    {
     "name": "stderr",
     "output_type": "stream",
     "text": [
      "2025-04-04 16:25:30,019 [WARNING] Duplicated values found in preranked stats: 98.90% of genes\n",
      "The order of those genes will be arbitrary, which may produce unexpected results.\n",
      "/tmp/ipykernel_3344069/1521488614.py:208: ImplicitModificationWarning: Trying to modify attribute `.obs` of view, initializing view as actual.\n",
      "  adata_cti.obs[f\"has_{ctj}_neighbor_str\"] = adata_cti.obs[f\"has_{ctj}_neighbor\"].astype(str)\n"
     ]
    },
    {
     "name": "stdout",
     "output_type": "stream",
     "text": [
      "endothelial cell granulocyte\n"
     ]
    },
    {
     "name": "stderr",
     "output_type": "stream",
     "text": [
      "2025-04-04 16:25:30,432 [WARNING] Duplicated values found in preranked stats: 83.03% of genes\n",
      "The order of those genes will be arbitrary, which may produce unexpected results.\n",
      "2025-04-04 16:25:30,561 [WARNING] Duplicated values found in preranked stats: 83.03% of genes\n",
      "The order of those genes will be arbitrary, which may produce unexpected results.\n",
      "2025-04-04 16:25:30,697 [WARNING] Duplicated values found in preranked stats: 88.62% of genes\n",
      "The order of those genes will be arbitrary, which may produce unexpected results.\n",
      "/tmp/ipykernel_3344069/1521488614.py:208: ImplicitModificationWarning: Trying to modify attribute `.obs` of view, initializing view as actual.\n",
      "  adata_cti.obs[f\"has_{ctj}_neighbor_str\"] = adata_cti.obs[f\"has_{ctj}_neighbor\"].astype(str)\n",
      "2025-04-04 16:25:30,922 [WARNING] Duplicated values found in preranked stats: 99.66% of genes\n",
      "The order of those genes will be arbitrary, which may produce unexpected results.\n"
     ]
    },
    {
     "name": "stdout",
     "output_type": "stream",
     "text": [
      "epithelial cell of lung granulocyte\n"
     ]
    },
    {
     "name": "stderr",
     "output_type": "stream",
     "text": [
      "2025-04-04 16:25:31,062 [WARNING] Duplicated values found in preranked stats: 99.66% of genes\n",
      "The order of those genes will be arbitrary, which may produce unexpected results.\n",
      "2025-04-04 16:25:31,199 [WARNING] Duplicated values found in preranked stats: 99.74% of genes\n",
      "The order of those genes will be arbitrary, which may produce unexpected results.\n",
      "/tmp/ipykernel_3344069/1521488614.py:208: ImplicitModificationWarning: Trying to modify attribute `.obs` of view, initializing view as actual.\n",
      "  adata_cti.obs[f\"has_{ctj}_neighbor_str\"] = adata_cti.obs[f\"has_{ctj}_neighbor\"].astype(str)\n"
     ]
    },
    {
     "name": "stdout",
     "output_type": "stream",
     "text": [
      "dendritic cell granulocyte\n"
     ]
    },
    {
     "name": "stderr",
     "output_type": "stream",
     "text": [
      "2025-04-04 16:25:31,549 [WARNING] Duplicated values found in preranked stats: 88.98% of genes\n",
      "The order of those genes will be arbitrary, which may produce unexpected results.\n",
      "2025-04-04 16:25:31,677 [WARNING] Duplicated values found in preranked stats: 88.98% of genes\n",
      "The order of those genes will be arbitrary, which may produce unexpected results.\n",
      "2025-04-04 16:25:31,811 [WARNING] Duplicated values found in preranked stats: 92.00% of genes\n",
      "The order of those genes will be arbitrary, which may produce unexpected results.\n",
      "/tmp/ipykernel_3344069/1521488614.py:208: ImplicitModificationWarning: Trying to modify attribute `.obs` of view, initializing view as actual.\n",
      "  adata_cti.obs[f\"has_{ctj}_neighbor_str\"] = adata_cti.obs[f\"has_{ctj}_neighbor\"].astype(str)\n"
     ]
    },
    {
     "name": "stdout",
     "output_type": "stream",
     "text": [
      "fibroblast of lung granulocyte\n"
     ]
    },
    {
     "name": "stderr",
     "output_type": "stream",
     "text": [
      "2025-04-04 16:25:32,430 [WARNING] Duplicated values found in preranked stats: 85.61% of genes\n",
      "The order of those genes will be arbitrary, which may produce unexpected results.\n",
      "2025-04-04 16:25:32,555 [WARNING] Duplicated values found in preranked stats: 85.61% of genes\n",
      "The order of those genes will be arbitrary, which may produce unexpected results.\n",
      "2025-04-04 16:25:32,693 [WARNING] Duplicated values found in preranked stats: 89.72% of genes\n",
      "The order of those genes will be arbitrary, which may produce unexpected results.\n",
      "/tmp/ipykernel_3344069/1521488614.py:208: ImplicitModificationWarning: Trying to modify attribute `.obs` of view, initializing view as actual.\n",
      "  adata_cti.obs[f\"has_{ctj}_neighbor_str\"] = adata_cti.obs[f\"has_{ctj}_neighbor\"].astype(str)\n",
      "2025-04-04 16:25:32,951 [WARNING] Duplicated values found in preranked stats: 96.70% of genes\n",
      "The order of those genes will be arbitrary, which may produce unexpected results.\n"
     ]
    },
    {
     "name": "stdout",
     "output_type": "stream",
     "text": [
      "cycling lymphocyte granulocyte\n"
     ]
    },
    {
     "name": "stderr",
     "output_type": "stream",
     "text": [
      "2025-04-04 16:25:33,085 [WARNING] Duplicated values found in preranked stats: 96.70% of genes\n",
      "The order of those genes will be arbitrary, which may produce unexpected results.\n",
      "2025-04-04 16:25:33,222 [WARNING] Duplicated values found in preranked stats: 97.88% of genes\n",
      "The order of those genes will be arbitrary, which may produce unexpected results.\n",
      "/tmp/ipykernel_3344069/1521488614.py:208: ImplicitModificationWarning: Trying to modify attribute `.obs` of view, initializing view as actual.\n",
      "  adata_cti.obs[f\"has_{ctj}_neighbor_str\"] = adata_cti.obs[f\"has_{ctj}_neighbor\"].astype(str)\n",
      "2025-04-04 16:25:33,452 [WARNING] Duplicated values found in preranked stats: 94.12% of genes\n",
      "The order of those genes will be arbitrary, which may produce unexpected results.\n"
     ]
    },
    {
     "name": "stdout",
     "output_type": "stream",
     "text": [
      "smooth muscle cell granulocyte\n"
     ]
    },
    {
     "name": "stderr",
     "output_type": "stream",
     "text": [
      "2025-04-04 16:25:33,582 [WARNING] Duplicated values found in preranked stats: 94.12% of genes\n",
      "The order of those genes will be arbitrary, which may produce unexpected results.\n",
      "2025-04-04 16:25:33,714 [WARNING] Duplicated values found in preranked stats: 96.06% of genes\n",
      "The order of those genes will be arbitrary, which may produce unexpected results.\n",
      "/tmp/ipykernel_3344069/1521488614.py:208: ImplicitModificationWarning: Trying to modify attribute `.obs` of view, initializing view as actual.\n",
      "  adata_cti.obs[f\"has_{ctj}_neighbor_str\"] = adata_cti.obs[f\"has_{ctj}_neighbor\"].astype(str)\n",
      "2025-04-04 16:25:33,940 [WARNING] Duplicated values found in preranked stats: 98.84% of genes\n",
      "The order of those genes will be arbitrary, which may produce unexpected results.\n"
     ]
    },
    {
     "name": "stdout",
     "output_type": "stream",
     "text": [
      "B cell granulocyte\n"
     ]
    },
    {
     "name": "stderr",
     "output_type": "stream",
     "text": [
      "2025-04-04 16:25:34,060 [WARNING] Duplicated values found in preranked stats: 98.84% of genes\n",
      "The order of those genes will be arbitrary, which may produce unexpected results.\n",
      "2025-04-04 16:25:34,192 [WARNING] Duplicated values found in preranked stats: 99.06% of genes\n",
      "The order of those genes will be arbitrary, which may produce unexpected results.\n",
      "/tmp/ipykernel_3344069/1521488614.py:208: ImplicitModificationWarning: Trying to modify attribute `.obs` of view, initializing view as actual.\n",
      "  adata_cti.obs[f\"has_{ctj}_neighbor_str\"] = adata_cti.obs[f\"has_{ctj}_neighbor\"].astype(str)\n",
      "2025-04-04 16:25:34,355 [WARNING] Duplicated values found in preranked stats: 98.58% of genes\n",
      "The order of those genes will be arbitrary, which may produce unexpected results.\n",
      "2025-04-04 16:25:34,488 [WARNING] Duplicated values found in preranked stats: 98.58% of genes\n",
      "The order of those genes will be arbitrary, which may produce unexpected results.\n"
     ]
    },
    {
     "name": "stdout",
     "output_type": "stream",
     "text": [
      "plasma cell granulocyte\n"
     ]
    },
    {
     "name": "stderr",
     "output_type": "stream",
     "text": [
      "2025-04-04 16:25:34,624 [WARNING] Duplicated values found in preranked stats: 99.12% of genes\n",
      "The order of those genes will be arbitrary, which may produce unexpected results.\n",
      "/tmp/ipykernel_3344069/1521488614.py:208: ImplicitModificationWarning: Trying to modify attribute `.obs` of view, initializing view as actual.\n",
      "  adata_cti.obs[f\"has_{ctj}_neighbor_str\"] = adata_cti.obs[f\"has_{ctj}_neighbor\"].astype(str)\n"
     ]
    },
    {
     "name": "stdout",
     "output_type": "stream",
     "text": [
      "malignant cell granulocyte\n"
     ]
    },
    {
     "name": "stderr",
     "output_type": "stream",
     "text": [
      "2025-04-04 16:25:34,970 [WARNING] Duplicated values found in preranked stats: 99.16% of genes\n",
      "The order of those genes will be arbitrary, which may produce unexpected results.\n",
      "2025-04-04 16:25:35,102 [WARNING] Duplicated values found in preranked stats: 99.16% of genes\n",
      "The order of those genes will be arbitrary, which may produce unexpected results.\n",
      "2025-04-04 16:25:35,233 [WARNING] Duplicated values found in preranked stats: 99.52% of genes\n",
      "The order of those genes will be arbitrary, which may produce unexpected results.\n",
      "/tmp/ipykernel_3344069/1521488614.py:208: ImplicitModificationWarning: Trying to modify attribute `.obs` of view, initializing view as actual.\n",
      "  adata_cti.obs[f\"has_{ctj}_neighbor_str\"] = adata_cti.obs[f\"has_{ctj}_neighbor\"].astype(str)\n",
      "2025-04-04 16:25:35,407 [WARNING] Duplicated values found in preranked stats: 98.50% of genes\n",
      "The order of those genes will be arbitrary, which may produce unexpected results.\n",
      "2025-04-04 16:25:35,539 [WARNING] Duplicated values found in preranked stats: 98.50% of genes\n",
      "The order of those genes will be arbitrary, which may produce unexpected results.\n"
     ]
    },
    {
     "name": "stdout",
     "output_type": "stream",
     "text": [
      "mast cell granulocyte\n"
     ]
    },
    {
     "name": "stderr",
     "output_type": "stream",
     "text": [
      "2025-04-04 16:25:35,678 [WARNING] Duplicated values found in preranked stats: 98.90% of genes\n",
      "The order of those genes will be arbitrary, which may produce unexpected results.\n",
      "/tmp/ipykernel_3344069/1521488614.py:208: ImplicitModificationWarning: Trying to modify attribute `.obs` of view, initializing view as actual.\n",
      "  adata_cti.obs[f\"has_{ctj}_neighbor_str\"] = adata_cti.obs[f\"has_{ctj}_neighbor\"].astype(str)\n",
      "2025-04-04 16:25:35,928 [WARNING] Duplicated values found in preranked stats: 90.04% of genes\n",
      "The order of those genes will be arbitrary, which may produce unexpected results.\n"
     ]
    },
    {
     "name": "stdout",
     "output_type": "stream",
     "text": [
      "pericyte granulocyte\n"
     ]
    },
    {
     "name": "stderr",
     "output_type": "stream",
     "text": [
      "2025-04-04 16:25:36,062 [WARNING] Duplicated values found in preranked stats: 90.04% of genes\n",
      "The order of those genes will be arbitrary, which may produce unexpected results.\n",
      "2025-04-04 16:25:36,194 [WARNING] Duplicated values found in preranked stats: 93.44% of genes\n",
      "The order of those genes will be arbitrary, which may produce unexpected results.\n"
     ]
    },
    {
     "name": "stdout",
     "output_type": "stream",
     "text": [
      "macrophage dendritic cell\n"
     ]
    },
    {
     "name": "stderr",
     "output_type": "stream",
     "text": [
      "/tmp/ipykernel_3344069/1521488614.py:208: ImplicitModificationWarning: Trying to modify attribute `.obs` of view, initializing view as actual.\n",
      "  adata_cti.obs[f\"has_{ctj}_neighbor_str\"] = adata_cti.obs[f\"has_{ctj}_neighbor\"].astype(str)\n",
      "2025-04-04 16:25:40,270 [WARNING] Duplicated values found in preranked stats: 72.19% of genes\n",
      "The order of those genes will be arbitrary, which may produce unexpected results.\n",
      "2025-04-04 16:25:40,404 [WARNING] Duplicated values found in preranked stats: 72.19% of genes\n",
      "The order of those genes will be arbitrary, which may produce unexpected results.\n",
      "2025-04-04 16:25:40,538 [WARNING] Duplicated values found in preranked stats: 78.79% of genes\n",
      "The order of those genes will be arbitrary, which may produce unexpected results.\n",
      "/tmp/ipykernel_3344069/1521488614.py:208: ImplicitModificationWarning: Trying to modify attribute `.obs` of view, initializing view as actual.\n",
      "  adata_cti.obs[f\"has_{ctj}_neighbor_str\"] = adata_cti.obs[f\"has_{ctj}_neighbor\"].astype(str)\n",
      "2025-04-04 16:25:40,858 [WARNING] Duplicated values found in preranked stats: 91.84% of genes\n",
      "The order of those genes will be arbitrary, which may produce unexpected results.\n"
     ]
    },
    {
     "name": "stdout",
     "output_type": "stream",
     "text": [
      "monocyte dendritic cell\n"
     ]
    },
    {
     "name": "stderr",
     "output_type": "stream",
     "text": [
      "2025-04-04 16:25:40,991 [WARNING] Duplicated values found in preranked stats: 91.84% of genes\n",
      "The order of those genes will be arbitrary, which may produce unexpected results.\n",
      "2025-04-04 16:25:41,124 [WARNING] Duplicated values found in preranked stats: 93.96% of genes\n",
      "The order of those genes will be arbitrary, which may produce unexpected results.\n",
      "/tmp/ipykernel_3344069/1521488614.py:208: ImplicitModificationWarning: Trying to modify attribute `.obs` of view, initializing view as actual.\n",
      "  adata_cti.obs[f\"has_{ctj}_neighbor_str\"] = adata_cti.obs[f\"has_{ctj}_neighbor\"].astype(str)\n"
     ]
    },
    {
     "name": "stdout",
     "output_type": "stream",
     "text": [
      "T cell dendritic cell\n"
     ]
    },
    {
     "name": "stderr",
     "output_type": "stream",
     "text": [
      "2025-04-04 16:25:41,546 [WARNING] Duplicated values found in preranked stats: 95.02% of genes\n",
      "The order of those genes will be arbitrary, which may produce unexpected results.\n",
      "2025-04-04 16:25:41,655 [WARNING] Duplicated values found in preranked stats: 95.02% of genes\n",
      "The order of those genes will be arbitrary, which may produce unexpected results.\n",
      "2025-04-04 16:25:41,786 [WARNING] Duplicated values found in preranked stats: 96.64% of genes\n",
      "The order of those genes will be arbitrary, which may produce unexpected results.\n",
      "/tmp/ipykernel_3344069/1521488614.py:208: ImplicitModificationWarning: Trying to modify attribute `.obs` of view, initializing view as actual.\n",
      "  adata_cti.obs[f\"has_{ctj}_neighbor_str\"] = adata_cti.obs[f\"has_{ctj}_neighbor\"].astype(str)\n",
      "2025-04-04 16:25:41,971 [WARNING] Duplicated values found in preranked stats: 98.24% of genes\n",
      "The order of those genes will be arbitrary, which may produce unexpected results.\n",
      "2025-04-04 16:25:42,102 [WARNING] Duplicated values found in preranked stats: 98.24% of genes\n",
      "The order of those genes will be arbitrary, which may produce unexpected results.\n"
     ]
    },
    {
     "name": "stdout",
     "output_type": "stream",
     "text": [
      "natural killer cell dendritic cell\n"
     ]
    },
    {
     "name": "stderr",
     "output_type": "stream",
     "text": [
      "2025-04-04 16:25:42,237 [WARNING] Duplicated values found in preranked stats: 98.90% of genes\n",
      "The order of those genes will be arbitrary, which may produce unexpected results.\n",
      "/tmp/ipykernel_3344069/1521488614.py:208: ImplicitModificationWarning: Trying to modify attribute `.obs` of view, initializing view as actual.\n",
      "  adata_cti.obs[f\"has_{ctj}_neighbor_str\"] = adata_cti.obs[f\"has_{ctj}_neighbor\"].astype(str)\n"
     ]
    },
    {
     "name": "stdout",
     "output_type": "stream",
     "text": [
      "endothelial cell dendritic cell\n"
     ]
    },
    {
     "name": "stderr",
     "output_type": "stream",
     "text": [
      "2025-04-04 16:25:42,643 [WARNING] Duplicated values found in preranked stats: 83.03% of genes\n",
      "The order of those genes will be arbitrary, which may produce unexpected results.\n",
      "2025-04-04 16:25:42,772 [WARNING] Duplicated values found in preranked stats: 83.03% of genes\n",
      "The order of those genes will be arbitrary, which may produce unexpected results.\n",
      "2025-04-04 16:25:42,905 [WARNING] Duplicated values found in preranked stats: 88.44% of genes\n",
      "The order of those genes will be arbitrary, which may produce unexpected results.\n",
      "/tmp/ipykernel_3344069/1521488614.py:208: ImplicitModificationWarning: Trying to modify attribute `.obs` of view, initializing view as actual.\n",
      "  adata_cti.obs[f\"has_{ctj}_neighbor_str\"] = adata_cti.obs[f\"has_{ctj}_neighbor\"].astype(str)\n",
      "2025-04-04 16:25:43,122 [WARNING] Duplicated values found in preranked stats: 99.66% of genes\n",
      "The order of those genes will be arbitrary, which may produce unexpected results.\n"
     ]
    },
    {
     "name": "stdout",
     "output_type": "stream",
     "text": [
      "epithelial cell of lung dendritic cell\n"
     ]
    },
    {
     "name": "stderr",
     "output_type": "stream",
     "text": [
      "2025-04-04 16:25:43,265 [WARNING] Duplicated values found in preranked stats: 99.66% of genes\n",
      "The order of those genes will be arbitrary, which may produce unexpected results.\n",
      "2025-04-04 16:25:43,403 [WARNING] Duplicated values found in preranked stats: 99.74% of genes\n",
      "The order of those genes will be arbitrary, which may produce unexpected results.\n",
      "/tmp/ipykernel_3344069/1521488614.py:208: ImplicitModificationWarning: Trying to modify attribute `.obs` of view, initializing view as actual.\n",
      "  adata_cti.obs[f\"has_{ctj}_neighbor_str\"] = adata_cti.obs[f\"has_{ctj}_neighbor\"].astype(str)\n"
     ]
    },
    {
     "name": "stdout",
     "output_type": "stream",
     "text": [
      "granulocyte dendritic cell\n"
     ]
    },
    {
     "name": "stderr",
     "output_type": "stream",
     "text": [
      "2025-04-04 16:25:43,865 [WARNING] Duplicated values found in preranked stats: 93.26% of genes\n",
      "The order of those genes will be arbitrary, which may produce unexpected results.\n",
      "2025-04-04 16:25:43,997 [WARNING] Duplicated values found in preranked stats: 93.26% of genes\n",
      "The order of those genes will be arbitrary, which may produce unexpected results.\n",
      "2025-04-04 16:25:44,130 [WARNING] Duplicated values found in preranked stats: 95.18% of genes\n",
      "The order of those genes will be arbitrary, which may produce unexpected results.\n",
      "/tmp/ipykernel_3344069/1521488614.py:208: ImplicitModificationWarning: Trying to modify attribute `.obs` of view, initializing view as actual.\n",
      "  adata_cti.obs[f\"has_{ctj}_neighbor_str\"] = adata_cti.obs[f\"has_{ctj}_neighbor\"].astype(str)\n"
     ]
    },
    {
     "name": "stdout",
     "output_type": "stream",
     "text": [
      "fibroblast of lung dendritic cell\n"
     ]
    },
    {
     "name": "stderr",
     "output_type": "stream",
     "text": [
      "2025-04-04 16:25:44,741 [WARNING] Duplicated values found in preranked stats: 85.61% of genes\n",
      "The order of those genes will be arbitrary, which may produce unexpected results.\n",
      "2025-04-04 16:25:44,864 [WARNING] Duplicated values found in preranked stats: 85.61% of genes\n",
      "The order of those genes will be arbitrary, which may produce unexpected results.\n",
      "2025-04-04 16:25:44,996 [WARNING] Duplicated values found in preranked stats: 89.82% of genes\n",
      "The order of those genes will be arbitrary, which may produce unexpected results.\n",
      "/tmp/ipykernel_3344069/1521488614.py:208: ImplicitModificationWarning: Trying to modify attribute `.obs` of view, initializing view as actual.\n",
      "  adata_cti.obs[f\"has_{ctj}_neighbor_str\"] = adata_cti.obs[f\"has_{ctj}_neighbor\"].astype(str)\n",
      "2025-04-04 16:25:45,241 [WARNING] Duplicated values found in preranked stats: 96.70% of genes\n",
      "The order of those genes will be arbitrary, which may produce unexpected results.\n"
     ]
    },
    {
     "name": "stdout",
     "output_type": "stream",
     "text": [
      "cycling lymphocyte dendritic cell\n"
     ]
    },
    {
     "name": "stderr",
     "output_type": "stream",
     "text": [
      "2025-04-04 16:25:45,374 [WARNING] Duplicated values found in preranked stats: 96.70% of genes\n",
      "The order of those genes will be arbitrary, which may produce unexpected results.\n",
      "2025-04-04 16:25:45,505 [WARNING] Duplicated values found in preranked stats: 98.10% of genes\n",
      "The order of those genes will be arbitrary, which may produce unexpected results.\n",
      "/tmp/ipykernel_3344069/1521488614.py:208: ImplicitModificationWarning: Trying to modify attribute `.obs` of view, initializing view as actual.\n",
      "  adata_cti.obs[f\"has_{ctj}_neighbor_str\"] = adata_cti.obs[f\"has_{ctj}_neighbor\"].astype(str)\n",
      "2025-04-04 16:25:45,732 [WARNING] Duplicated values found in preranked stats: 94.12% of genes\n",
      "The order of those genes will be arbitrary, which may produce unexpected results.\n"
     ]
    },
    {
     "name": "stdout",
     "output_type": "stream",
     "text": [
      "smooth muscle cell dendritic cell\n"
     ]
    },
    {
     "name": "stderr",
     "output_type": "stream",
     "text": [
      "2025-04-04 16:25:45,864 [WARNING] Duplicated values found in preranked stats: 94.12% of genes\n",
      "The order of those genes will be arbitrary, which may produce unexpected results.\n",
      "2025-04-04 16:25:45,997 [WARNING] Duplicated values found in preranked stats: 96.10% of genes\n",
      "The order of those genes will be arbitrary, which may produce unexpected results.\n",
      "/tmp/ipykernel_3344069/1521488614.py:208: ImplicitModificationWarning: Trying to modify attribute `.obs` of view, initializing view as actual.\n",
      "  adata_cti.obs[f\"has_{ctj}_neighbor_str\"] = adata_cti.obs[f\"has_{ctj}_neighbor\"].astype(str)\n",
      "2025-04-04 16:25:46,228 [WARNING] Duplicated values found in preranked stats: 98.86% of genes\n",
      "The order of those genes will be arbitrary, which may produce unexpected results.\n"
     ]
    },
    {
     "name": "stdout",
     "output_type": "stream",
     "text": [
      "B cell dendritic cell\n"
     ]
    },
    {
     "name": "stderr",
     "output_type": "stream",
     "text": [
      "2025-04-04 16:25:46,350 [WARNING] Duplicated values found in preranked stats: 98.86% of genes\n",
      "The order of those genes will be arbitrary, which may produce unexpected results.\n",
      "2025-04-04 16:25:46,483 [WARNING] Duplicated values found in preranked stats: 99.14% of genes\n",
      "The order of those genes will be arbitrary, which may produce unexpected results.\n",
      "/tmp/ipykernel_3344069/1521488614.py:208: ImplicitModificationWarning: Trying to modify attribute `.obs` of view, initializing view as actual.\n",
      "  adata_cti.obs[f\"has_{ctj}_neighbor_str\"] = adata_cti.obs[f\"has_{ctj}_neighbor\"].astype(str)\n",
      "2025-04-04 16:25:46,646 [WARNING] Duplicated values found in preranked stats: 98.58% of genes\n",
      "The order of those genes will be arbitrary, which may produce unexpected results.\n",
      "2025-04-04 16:25:46,781 [WARNING] Duplicated values found in preranked stats: 98.58% of genes\n",
      "The order of those genes will be arbitrary, which may produce unexpected results.\n"
     ]
    },
    {
     "name": "stdout",
     "output_type": "stream",
     "text": [
      "plasma cell dendritic cell\n"
     ]
    },
    {
     "name": "stderr",
     "output_type": "stream",
     "text": [
      "2025-04-04 16:25:46,917 [WARNING] Duplicated values found in preranked stats: 99.06% of genes\n",
      "The order of those genes will be arbitrary, which may produce unexpected results.\n",
      "/tmp/ipykernel_3344069/1521488614.py:208: ImplicitModificationWarning: Trying to modify attribute `.obs` of view, initializing view as actual.\n",
      "  adata_cti.obs[f\"has_{ctj}_neighbor_str\"] = adata_cti.obs[f\"has_{ctj}_neighbor\"].astype(str)\n"
     ]
    },
    {
     "name": "stdout",
     "output_type": "stream",
     "text": [
      "malignant cell dendritic cell\n"
     ]
    },
    {
     "name": "stderr",
     "output_type": "stream",
     "text": [
      "2025-04-04 16:25:47,251 [WARNING] Duplicated values found in preranked stats: 99.18% of genes\n",
      "The order of those genes will be arbitrary, which may produce unexpected results.\n",
      "2025-04-04 16:25:47,381 [WARNING] Duplicated values found in preranked stats: 99.18% of genes\n",
      "The order of those genes will be arbitrary, which may produce unexpected results.\n",
      "2025-04-04 16:25:47,514 [WARNING] Duplicated values found in preranked stats: 99.44% of genes\n",
      "The order of those genes will be arbitrary, which may produce unexpected results.\n",
      "/tmp/ipykernel_3344069/1521488614.py:208: ImplicitModificationWarning: Trying to modify attribute `.obs` of view, initializing view as actual.\n",
      "  adata_cti.obs[f\"has_{ctj}_neighbor_str\"] = adata_cti.obs[f\"has_{ctj}_neighbor\"].astype(str)\n",
      "2025-04-04 16:25:47,692 [WARNING] Duplicated values found in preranked stats: 98.50% of genes\n",
      "The order of those genes will be arbitrary, which may produce unexpected results.\n",
      "2025-04-04 16:25:47,824 [WARNING] Duplicated values found in preranked stats: 98.50% of genes\n",
      "The order of those genes will be arbitrary, which may produce unexpected results.\n"
     ]
    },
    {
     "name": "stdout",
     "output_type": "stream",
     "text": [
      "mast cell dendritic cell\n"
     ]
    },
    {
     "name": "stderr",
     "output_type": "stream",
     "text": [
      "2025-04-04 16:25:47,961 [WARNING] Duplicated values found in preranked stats: 98.92% of genes\n",
      "The order of those genes will be arbitrary, which may produce unexpected results.\n",
      "/tmp/ipykernel_3344069/1521488614.py:208: ImplicitModificationWarning: Trying to modify attribute `.obs` of view, initializing view as actual.\n",
      "  adata_cti.obs[f\"has_{ctj}_neighbor_str\"] = adata_cti.obs[f\"has_{ctj}_neighbor\"].astype(str)\n",
      "2025-04-04 16:25:48,203 [WARNING] Duplicated values found in preranked stats: 90.06% of genes\n",
      "The order of those genes will be arbitrary, which may produce unexpected results.\n"
     ]
    },
    {
     "name": "stdout",
     "output_type": "stream",
     "text": [
      "pericyte dendritic cell\n"
     ]
    },
    {
     "name": "stderr",
     "output_type": "stream",
     "text": [
      "2025-04-04 16:25:48,337 [WARNING] Duplicated values found in preranked stats: 90.06% of genes\n",
      "The order of those genes will be arbitrary, which may produce unexpected results.\n",
      "2025-04-04 16:25:48,470 [WARNING] Duplicated values found in preranked stats: 93.20% of genes\n",
      "The order of those genes will be arbitrary, which may produce unexpected results.\n"
     ]
    },
    {
     "name": "stdout",
     "output_type": "stream",
     "text": [
      "macrophage fibroblast of lung\n"
     ]
    },
    {
     "name": "stderr",
     "output_type": "stream",
     "text": [
      "/tmp/ipykernel_3344069/1521488614.py:208: ImplicitModificationWarning: Trying to modify attribute `.obs` of view, initializing view as actual.\n",
      "  adata_cti.obs[f\"has_{ctj}_neighbor_str\"] = adata_cti.obs[f\"has_{ctj}_neighbor\"].astype(str)\n",
      "2025-04-04 16:25:52,438 [WARNING] Duplicated values found in preranked stats: 72.19% of genes\n",
      "The order of those genes will be arbitrary, which may produce unexpected results.\n",
      "2025-04-04 16:25:52,569 [WARNING] Duplicated values found in preranked stats: 72.19% of genes\n",
      "The order of those genes will be arbitrary, which may produce unexpected results.\n",
      "2025-04-04 16:25:52,705 [WARNING] Duplicated values found in preranked stats: 78.53% of genes\n",
      "The order of those genes will be arbitrary, which may produce unexpected results.\n",
      "/tmp/ipykernel_3344069/1521488614.py:208: ImplicitModificationWarning: Trying to modify attribute `.obs` of view, initializing view as actual.\n",
      "  adata_cti.obs[f\"has_{ctj}_neighbor_str\"] = adata_cti.obs[f\"has_{ctj}_neighbor\"].astype(str)\n",
      "2025-04-04 16:25:53,024 [WARNING] Duplicated values found in preranked stats: 91.80% of genes\n",
      "The order of those genes will be arbitrary, which may produce unexpected results.\n"
     ]
    },
    {
     "name": "stdout",
     "output_type": "stream",
     "text": [
      "monocyte fibroblast of lung\n"
     ]
    },
    {
     "name": "stderr",
     "output_type": "stream",
     "text": [
      "2025-04-04 16:25:53,157 [WARNING] Duplicated values found in preranked stats: 91.80% of genes\n",
      "The order of those genes will be arbitrary, which may produce unexpected results.\n",
      "2025-04-04 16:25:53,289 [WARNING] Duplicated values found in preranked stats: 94.28% of genes\n",
      "The order of those genes will be arbitrary, which may produce unexpected results.\n",
      "/tmp/ipykernel_3344069/1521488614.py:208: ImplicitModificationWarning: Trying to modify attribute `.obs` of view, initializing view as actual.\n",
      "  adata_cti.obs[f\"has_{ctj}_neighbor_str\"] = adata_cti.obs[f\"has_{ctj}_neighbor\"].astype(str)\n"
     ]
    },
    {
     "name": "stdout",
     "output_type": "stream",
     "text": [
      "T cell fibroblast of lung\n"
     ]
    },
    {
     "name": "stderr",
     "output_type": "stream",
     "text": [
      "2025-04-04 16:25:53,711 [WARNING] Duplicated values found in preranked stats: 95.10% of genes\n",
      "The order of those genes will be arbitrary, which may produce unexpected results.\n",
      "2025-04-04 16:25:53,830 [WARNING] Duplicated values found in preranked stats: 95.10% of genes\n",
      "The order of those genes will be arbitrary, which may produce unexpected results.\n",
      "2025-04-04 16:25:53,964 [WARNING] Duplicated values found in preranked stats: 96.78% of genes\n",
      "The order of those genes will be arbitrary, which may produce unexpected results.\n",
      "/tmp/ipykernel_3344069/1521488614.py:208: ImplicitModificationWarning: Trying to modify attribute `.obs` of view, initializing view as actual.\n",
      "  adata_cti.obs[f\"has_{ctj}_neighbor_str\"] = adata_cti.obs[f\"has_{ctj}_neighbor\"].astype(str)\n",
      "2025-04-04 16:25:54,158 [WARNING] Duplicated values found in preranked stats: 98.26% of genes\n",
      "The order of those genes will be arbitrary, which may produce unexpected results.\n",
      "2025-04-04 16:25:54,286 [WARNING] Duplicated values found in preranked stats: 98.26% of genes\n",
      "The order of those genes will be arbitrary, which may produce unexpected results.\n"
     ]
    },
    {
     "name": "stdout",
     "output_type": "stream",
     "text": [
      "natural killer cell fibroblast of lung\n"
     ]
    },
    {
     "name": "stderr",
     "output_type": "stream",
     "text": [
      "2025-04-04 16:25:54,429 [WARNING] Duplicated values found in preranked stats: 98.78% of genes\n",
      "The order of those genes will be arbitrary, which may produce unexpected results.\n",
      "/tmp/ipykernel_3344069/1521488614.py:208: ImplicitModificationWarning: Trying to modify attribute `.obs` of view, initializing view as actual.\n",
      "  adata_cti.obs[f\"has_{ctj}_neighbor_str\"] = adata_cti.obs[f\"has_{ctj}_neighbor\"].astype(str)\n"
     ]
    },
    {
     "name": "stdout",
     "output_type": "stream",
     "text": [
      "endothelial cell fibroblast of lung\n"
     ]
    },
    {
     "name": "stderr",
     "output_type": "stream",
     "text": [
      "2025-04-04 16:25:54,842 [WARNING] Duplicated values found in preranked stats: 83.03% of genes\n",
      "The order of those genes will be arbitrary, which may produce unexpected results.\n",
      "2025-04-04 16:25:54,977 [WARNING] Duplicated values found in preranked stats: 83.03% of genes\n",
      "The order of those genes will be arbitrary, which may produce unexpected results.\n",
      "2025-04-04 16:25:55,114 [WARNING] Duplicated values found in preranked stats: 88.82% of genes\n",
      "The order of those genes will be arbitrary, which may produce unexpected results.\n",
      "/tmp/ipykernel_3344069/1521488614.py:208: ImplicitModificationWarning: Trying to modify attribute `.obs` of view, initializing view as actual.\n",
      "  adata_cti.obs[f\"has_{ctj}_neighbor_str\"] = adata_cti.obs[f\"has_{ctj}_neighbor\"].astype(str)\n",
      "2025-04-04 16:25:55,340 [WARNING] Duplicated values found in preranked stats: 99.66% of genes\n",
      "The order of those genes will be arbitrary, which may produce unexpected results.\n"
     ]
    },
    {
     "name": "stdout",
     "output_type": "stream",
     "text": [
      "epithelial cell of lung fibroblast of lung\n"
     ]
    },
    {
     "name": "stderr",
     "output_type": "stream",
     "text": [
      "2025-04-04 16:25:55,452 [WARNING] Duplicated values found in preranked stats: 99.66% of genes\n",
      "The order of those genes will be arbitrary, which may produce unexpected results.\n",
      "2025-04-04 16:25:55,585 [WARNING] Duplicated values found in preranked stats: 99.72% of genes\n",
      "The order of those genes will be arbitrary, which may produce unexpected results.\n",
      "/tmp/ipykernel_3344069/1521488614.py:208: ImplicitModificationWarning: Trying to modify attribute `.obs` of view, initializing view as actual.\n",
      "  adata_cti.obs[f\"has_{ctj}_neighbor_str\"] = adata_cti.obs[f\"has_{ctj}_neighbor\"].astype(str)\n"
     ]
    },
    {
     "name": "stdout",
     "output_type": "stream",
     "text": [
      "granulocyte fibroblast of lung\n"
     ]
    },
    {
     "name": "stderr",
     "output_type": "stream",
     "text": [
      "2025-04-04 16:25:56,031 [WARNING] Duplicated values found in preranked stats: 93.26% of genes\n",
      "The order of those genes will be arbitrary, which may produce unexpected results.\n",
      "2025-04-04 16:25:56,154 [WARNING] Duplicated values found in preranked stats: 93.26% of genes\n",
      "The order of those genes will be arbitrary, which may produce unexpected results.\n",
      "2025-04-04 16:25:56,288 [WARNING] Duplicated values found in preranked stats: 95.28% of genes\n",
      "The order of those genes will be arbitrary, which may produce unexpected results.\n",
      "/tmp/ipykernel_3344069/1521488614.py:208: ImplicitModificationWarning: Trying to modify attribute `.obs` of view, initializing view as actual.\n",
      "  adata_cti.obs[f\"has_{ctj}_neighbor_str\"] = adata_cti.obs[f\"has_{ctj}_neighbor\"].astype(str)\n"
     ]
    },
    {
     "name": "stdout",
     "output_type": "stream",
     "text": [
      "dendritic cell fibroblast of lung\n"
     ]
    },
    {
     "name": "stderr",
     "output_type": "stream",
     "text": [
      "2025-04-04 16:25:56,632 [WARNING] Duplicated values found in preranked stats: 89.04% of genes\n",
      "The order of those genes will be arbitrary, which may produce unexpected results.\n",
      "2025-04-04 16:25:56,764 [WARNING] Duplicated values found in preranked stats: 89.04% of genes\n",
      "The order of those genes will be arbitrary, which may produce unexpected results.\n",
      "2025-04-04 16:25:56,900 [WARNING] Duplicated values found in preranked stats: 92.16% of genes\n",
      "The order of those genes will be arbitrary, which may produce unexpected results.\n",
      "/tmp/ipykernel_3344069/1521488614.py:208: ImplicitModificationWarning: Trying to modify attribute `.obs` of view, initializing view as actual.\n",
      "  adata_cti.obs[f\"has_{ctj}_neighbor_str\"] = adata_cti.obs[f\"has_{ctj}_neighbor\"].astype(str)\n",
      "2025-04-04 16:25:57,149 [WARNING] Duplicated values found in preranked stats: 96.70% of genes\n",
      "The order of those genes will be arbitrary, which may produce unexpected results.\n"
     ]
    },
    {
     "name": "stdout",
     "output_type": "stream",
     "text": [
      "cycling lymphocyte fibroblast of lung\n"
     ]
    },
    {
     "name": "stderr",
     "output_type": "stream",
     "text": [
      "2025-04-04 16:25:57,283 [WARNING] Duplicated values found in preranked stats: 96.70% of genes\n",
      "The order of those genes will be arbitrary, which may produce unexpected results.\n",
      "2025-04-04 16:25:57,416 [WARNING] Duplicated values found in preranked stats: 98.02% of genes\n",
      "The order of those genes will be arbitrary, which may produce unexpected results.\n",
      "/tmp/ipykernel_3344069/1521488614.py:208: ImplicitModificationWarning: Trying to modify attribute `.obs` of view, initializing view as actual.\n",
      "  adata_cti.obs[f\"has_{ctj}_neighbor_str\"] = adata_cti.obs[f\"has_{ctj}_neighbor\"].astype(str)\n",
      "2025-04-04 16:25:57,648 [WARNING] Duplicated values found in preranked stats: 94.12% of genes\n",
      "The order of those genes will be arbitrary, which may produce unexpected results.\n"
     ]
    },
    {
     "name": "stdout",
     "output_type": "stream",
     "text": [
      "smooth muscle cell fibroblast of lung\n"
     ]
    },
    {
     "name": "stderr",
     "output_type": "stream",
     "text": [
      "2025-04-04 16:25:57,785 [WARNING] Duplicated values found in preranked stats: 94.12% of genes\n",
      "The order of those genes will be arbitrary, which may produce unexpected results.\n",
      "2025-04-04 16:25:57,925 [WARNING] Duplicated values found in preranked stats: 96.26% of genes\n",
      "The order of those genes will be arbitrary, which may produce unexpected results.\n",
      "/tmp/ipykernel_3344069/1521488614.py:208: ImplicitModificationWarning: Trying to modify attribute `.obs` of view, initializing view as actual.\n",
      "  adata_cti.obs[f\"has_{ctj}_neighbor_str\"] = adata_cti.obs[f\"has_{ctj}_neighbor\"].astype(str)\n",
      "2025-04-04 16:25:58,160 [WARNING] Duplicated values found in preranked stats: 98.86% of genes\n",
      "The order of those genes will be arbitrary, which may produce unexpected results.\n"
     ]
    },
    {
     "name": "stdout",
     "output_type": "stream",
     "text": [
      "B cell fibroblast of lung\n"
     ]
    },
    {
     "name": "stderr",
     "output_type": "stream",
     "text": [
      "2025-04-04 16:25:58,284 [WARNING] Duplicated values found in preranked stats: 98.86% of genes\n",
      "The order of those genes will be arbitrary, which may produce unexpected results.\n",
      "2025-04-04 16:25:58,418 [WARNING] Duplicated values found in preranked stats: 99.14% of genes\n",
      "The order of those genes will be arbitrary, which may produce unexpected results.\n",
      "/tmp/ipykernel_3344069/1521488614.py:208: ImplicitModificationWarning: Trying to modify attribute `.obs` of view, initializing view as actual.\n",
      "  adata_cti.obs[f\"has_{ctj}_neighbor_str\"] = adata_cti.obs[f\"has_{ctj}_neighbor\"].astype(str)\n",
      "2025-04-04 16:25:58,584 [WARNING] Duplicated values found in preranked stats: 98.60% of genes\n",
      "The order of those genes will be arbitrary, which may produce unexpected results.\n",
      "2025-04-04 16:25:58,722 [WARNING] Duplicated values found in preranked stats: 98.60% of genes\n",
      "The order of those genes will be arbitrary, which may produce unexpected results.\n"
     ]
    },
    {
     "name": "stdout",
     "output_type": "stream",
     "text": [
      "plasma cell fibroblast of lung\n"
     ]
    },
    {
     "name": "stderr",
     "output_type": "stream",
     "text": [
      "2025-04-04 16:25:58,858 [WARNING] Duplicated values found in preranked stats: 99.12% of genes\n",
      "The order of those genes will be arbitrary, which may produce unexpected results.\n",
      "/tmp/ipykernel_3344069/1521488614.py:208: ImplicitModificationWarning: Trying to modify attribute `.obs` of view, initializing view as actual.\n",
      "  adata_cti.obs[f\"has_{ctj}_neighbor_str\"] = adata_cti.obs[f\"has_{ctj}_neighbor\"].astype(str)\n"
     ]
    },
    {
     "name": "stdout",
     "output_type": "stream",
     "text": [
      "malignant cell fibroblast of lung\n"
     ]
    },
    {
     "name": "stderr",
     "output_type": "stream",
     "text": [
      "2025-04-04 16:25:59,194 [WARNING] Duplicated values found in preranked stats: 99.16% of genes\n",
      "The order of those genes will be arbitrary, which may produce unexpected results.\n",
      "2025-04-04 16:25:59,327 [WARNING] Duplicated values found in preranked stats: 99.16% of genes\n",
      "The order of those genes will be arbitrary, which may produce unexpected results.\n",
      "2025-04-04 16:25:59,463 [WARNING] Duplicated values found in preranked stats: 99.52% of genes\n",
      "The order of those genes will be arbitrary, which may produce unexpected results.\n",
      "/tmp/ipykernel_3344069/1521488614.py:208: ImplicitModificationWarning: Trying to modify attribute `.obs` of view, initializing view as actual.\n",
      "  adata_cti.obs[f\"has_{ctj}_neighbor_str\"] = adata_cti.obs[f\"has_{ctj}_neighbor\"].astype(str)\n",
      "2025-04-04 16:25:59,645 [WARNING] Duplicated values found in preranked stats: 98.50% of genes\n",
      "The order of those genes will be arbitrary, which may produce unexpected results.\n",
      "2025-04-04 16:25:59,779 [WARNING] Duplicated values found in preranked stats: 98.50% of genes\n",
      "The order of those genes will be arbitrary, which may produce unexpected results.\n"
     ]
    },
    {
     "name": "stdout",
     "output_type": "stream",
     "text": [
      "mast cell fibroblast of lung\n"
     ]
    },
    {
     "name": "stderr",
     "output_type": "stream",
     "text": [
      "2025-04-04 16:25:59,916 [WARNING] Duplicated values found in preranked stats: 99.06% of genes\n",
      "The order of those genes will be arbitrary, which may produce unexpected results.\n",
      "/tmp/ipykernel_3344069/1521488614.py:208: ImplicitModificationWarning: Trying to modify attribute `.obs` of view, initializing view as actual.\n",
      "  adata_cti.obs[f\"has_{ctj}_neighbor_str\"] = adata_cti.obs[f\"has_{ctj}_neighbor\"].astype(str)\n",
      "2025-04-04 16:26:00,166 [WARNING] Duplicated values found in preranked stats: 90.06% of genes\n",
      "The order of those genes will be arbitrary, which may produce unexpected results.\n"
     ]
    },
    {
     "name": "stdout",
     "output_type": "stream",
     "text": [
      "pericyte fibroblast of lung\n"
     ]
    },
    {
     "name": "stderr",
     "output_type": "stream",
     "text": [
      "2025-04-04 16:26:00,297 [WARNING] Duplicated values found in preranked stats: 90.06% of genes\n",
      "The order of those genes will be arbitrary, which may produce unexpected results.\n",
      "2025-04-04 16:26:00,431 [WARNING] Duplicated values found in preranked stats: 92.96% of genes\n",
      "The order of those genes will be arbitrary, which may produce unexpected results.\n"
     ]
    },
    {
     "name": "stdout",
     "output_type": "stream",
     "text": [
      "macrophage cycling lymphocyte\n"
     ]
    },
    {
     "name": "stderr",
     "output_type": "stream",
     "text": [
      "/tmp/ipykernel_3344069/1521488614.py:208: ImplicitModificationWarning: Trying to modify attribute `.obs` of view, initializing view as actual.\n",
      "  adata_cti.obs[f\"has_{ctj}_neighbor_str\"] = adata_cti.obs[f\"has_{ctj}_neighbor\"].astype(str)\n",
      "2025-04-04 16:26:04,244 [WARNING] Duplicated values found in preranked stats: 72.19% of genes\n",
      "The order of those genes will be arbitrary, which may produce unexpected results.\n",
      "2025-04-04 16:26:04,372 [WARNING] Duplicated values found in preranked stats: 72.19% of genes\n",
      "The order of those genes will be arbitrary, which may produce unexpected results.\n",
      "2025-04-04 16:26:04,508 [WARNING] Duplicated values found in preranked stats: 83.45% of genes\n",
      "The order of those genes will be arbitrary, which may produce unexpected results.\n",
      "/tmp/ipykernel_3344069/1521488614.py:208: ImplicitModificationWarning: Trying to modify attribute `.obs` of view, initializing view as actual.\n",
      "  adata_cti.obs[f\"has_{ctj}_neighbor_str\"] = adata_cti.obs[f\"has_{ctj}_neighbor\"].astype(str)\n",
      "2025-04-04 16:26:04,819 [WARNING] Duplicated values found in preranked stats: 91.82% of genes\n",
      "The order of those genes will be arbitrary, which may produce unexpected results.\n"
     ]
    },
    {
     "name": "stdout",
     "output_type": "stream",
     "text": [
      "monocyte cycling lymphocyte\n"
     ]
    },
    {
     "name": "stderr",
     "output_type": "stream",
     "text": [
      "2025-04-04 16:26:04,951 [WARNING] Duplicated values found in preranked stats: 91.82% of genes\n",
      "The order of those genes will be arbitrary, which may produce unexpected results.\n",
      "2025-04-04 16:26:05,085 [WARNING] Duplicated values found in preranked stats: 96.30% of genes\n",
      "The order of those genes will be arbitrary, which may produce unexpected results.\n",
      "/tmp/ipykernel_3344069/1521488614.py:208: ImplicitModificationWarning: Trying to modify attribute `.obs` of view, initializing view as actual.\n",
      "  adata_cti.obs[f\"has_{ctj}_neighbor_str\"] = adata_cti.obs[f\"has_{ctj}_neighbor\"].astype(str)\n"
     ]
    },
    {
     "name": "stdout",
     "output_type": "stream",
     "text": [
      "T cell cycling lymphocyte\n"
     ]
    },
    {
     "name": "stderr",
     "output_type": "stream",
     "text": [
      "2025-04-04 16:26:05,510 [WARNING] Duplicated values found in preranked stats: 95.06% of genes\n",
      "The order of those genes will be arbitrary, which may produce unexpected results.\n",
      "2025-04-04 16:26:05,644 [WARNING] Duplicated values found in preranked stats: 95.06% of genes\n",
      "The order of those genes will be arbitrary, which may produce unexpected results.\n",
      "2025-04-04 16:26:05,778 [WARNING] Duplicated values found in preranked stats: 96.98% of genes\n",
      "The order of those genes will be arbitrary, which may produce unexpected results.\n",
      "/tmp/ipykernel_3344069/1521488614.py:208: ImplicitModificationWarning: Trying to modify attribute `.obs` of view, initializing view as actual.\n",
      "  adata_cti.obs[f\"has_{ctj}_neighbor_str\"] = adata_cti.obs[f\"has_{ctj}_neighbor\"].astype(str)\n",
      "2025-04-04 16:26:05,967 [WARNING] Duplicated values found in preranked stats: 98.28% of genes\n",
      "The order of those genes will be arbitrary, which may produce unexpected results.\n",
      "2025-04-04 16:26:06,096 [WARNING] Duplicated values found in preranked stats: 98.28% of genes\n",
      "The order of those genes will be arbitrary, which may produce unexpected results.\n"
     ]
    },
    {
     "name": "stdout",
     "output_type": "stream",
     "text": [
      "natural killer cell cycling lymphocyte\n"
     ]
    },
    {
     "name": "stderr",
     "output_type": "stream",
     "text": [
      "2025-04-04 16:26:06,231 [WARNING] Duplicated values found in preranked stats: 99.24% of genes\n",
      "The order of those genes will be arbitrary, which may produce unexpected results.\n",
      "/tmp/ipykernel_3344069/1521488614.py:208: ImplicitModificationWarning: Trying to modify attribute `.obs` of view, initializing view as actual.\n",
      "  adata_cti.obs[f\"has_{ctj}_neighbor_str\"] = adata_cti.obs[f\"has_{ctj}_neighbor\"].astype(str)\n"
     ]
    },
    {
     "name": "stdout",
     "output_type": "stream",
     "text": [
      "endothelial cell cycling lymphocyte\n"
     ]
    },
    {
     "name": "stderr",
     "output_type": "stream",
     "text": [
      "2025-04-04 16:26:06,637 [WARNING] Duplicated values found in preranked stats: 83.03% of genes\n",
      "The order of those genes will be arbitrary, which may produce unexpected results.\n",
      "2025-04-04 16:26:06,770 [WARNING] Duplicated values found in preranked stats: 83.03% of genes\n",
      "The order of those genes will be arbitrary, which may produce unexpected results.\n",
      "2025-04-04 16:26:06,908 [WARNING] Duplicated values found in preranked stats: 89.62% of genes\n",
      "The order of those genes will be arbitrary, which may produce unexpected results.\n",
      "/tmp/ipykernel_3344069/1521488614.py:208: ImplicitModificationWarning: Trying to modify attribute `.obs` of view, initializing view as actual.\n",
      "  adata_cti.obs[f\"has_{ctj}_neighbor_str\"] = adata_cti.obs[f\"has_{ctj}_neighbor\"].astype(str)\n",
      "2025-04-04 16:26:07,147 [WARNING] Duplicated values found in preranked stats: 99.66% of genes\n",
      "The order of those genes will be arbitrary, which may produce unexpected results.\n"
     ]
    },
    {
     "name": "stdout",
     "output_type": "stream",
     "text": [
      "epithelial cell of lung cycling lymphocyte\n"
     ]
    },
    {
     "name": "stderr",
     "output_type": "stream",
     "text": [
      "2025-04-04 16:26:07,264 [WARNING] Duplicated values found in preranked stats: 99.66% of genes\n",
      "The order of those genes will be arbitrary, which may produce unexpected results.\n",
      "2025-04-04 16:26:07,400 [WARNING] Duplicated values found in preranked stats: 99.78% of genes\n",
      "The order of those genes will be arbitrary, which may produce unexpected results.\n",
      "/tmp/ipykernel_3344069/1521488614.py:208: ImplicitModificationWarning: Trying to modify attribute `.obs` of view, initializing view as actual.\n",
      "  adata_cti.obs[f\"has_{ctj}_neighbor_str\"] = adata_cti.obs[f\"has_{ctj}_neighbor\"].astype(str)\n"
     ]
    },
    {
     "name": "stdout",
     "output_type": "stream",
     "text": [
      "granulocyte cycling lymphocyte\n"
     ]
    },
    {
     "name": "stderr",
     "output_type": "stream",
     "text": [
      "2025-04-04 16:26:07,836 [WARNING] Duplicated values found in preranked stats: 93.26% of genes\n",
      "The order of those genes will be arbitrary, which may produce unexpected results.\n",
      "2025-04-04 16:26:07,961 [WARNING] Duplicated values found in preranked stats: 93.26% of genes\n",
      "The order of those genes will be arbitrary, which may produce unexpected results.\n",
      "2025-04-04 16:26:08,097 [WARNING] Duplicated values found in preranked stats: 96.44% of genes\n",
      "The order of those genes will be arbitrary, which may produce unexpected results.\n",
      "/tmp/ipykernel_3344069/1521488614.py:208: ImplicitModificationWarning: Trying to modify attribute `.obs` of view, initializing view as actual.\n",
      "  adata_cti.obs[f\"has_{ctj}_neighbor_str\"] = adata_cti.obs[f\"has_{ctj}_neighbor\"].astype(str)\n"
     ]
    },
    {
     "name": "stdout",
     "output_type": "stream",
     "text": [
      "dendritic cell cycling lymphocyte\n"
     ]
    },
    {
     "name": "stderr",
     "output_type": "stream",
     "text": [
      "2025-04-04 16:26:08,439 [WARNING] Duplicated values found in preranked stats: 89.02% of genes\n",
      "The order of those genes will be arbitrary, which may produce unexpected results.\n",
      "2025-04-04 16:26:08,568 [WARNING] Duplicated values found in preranked stats: 89.02% of genes\n",
      "The order of those genes will be arbitrary, which may produce unexpected results.\n",
      "2025-04-04 16:26:08,704 [WARNING] Duplicated values found in preranked stats: 93.28% of genes\n",
      "The order of those genes will be arbitrary, which may produce unexpected results.\n",
      "/tmp/ipykernel_3344069/1521488614.py:208: ImplicitModificationWarning: Trying to modify attribute `.obs` of view, initializing view as actual.\n",
      "  adata_cti.obs[f\"has_{ctj}_neighbor_str\"] = adata_cti.obs[f\"has_{ctj}_neighbor\"].astype(str)\n"
     ]
    },
    {
     "name": "stdout",
     "output_type": "stream",
     "text": [
      "fibroblast of lung cycling lymphocyte\n"
     ]
    },
    {
     "name": "stderr",
     "output_type": "stream",
     "text": [
      "2025-04-04 16:26:09,330 [WARNING] Duplicated values found in preranked stats: 85.63% of genes\n",
      "The order of those genes will be arbitrary, which may produce unexpected results.\n",
      "2025-04-04 16:26:09,448 [WARNING] Duplicated values found in preranked stats: 85.63% of genes\n",
      "The order of those genes will be arbitrary, which may produce unexpected results.\n",
      "2025-04-04 16:26:09,583 [WARNING] Duplicated values found in preranked stats: 92.78% of genes\n",
      "The order of those genes will be arbitrary, which may produce unexpected results.\n",
      "/tmp/ipykernel_3344069/1521488614.py:208: ImplicitModificationWarning: Trying to modify attribute `.obs` of view, initializing view as actual.\n",
      "  adata_cti.obs[f\"has_{ctj}_neighbor_str\"] = adata_cti.obs[f\"has_{ctj}_neighbor\"].astype(str)\n",
      "2025-04-04 16:26:09,812 [WARNING] Duplicated values found in preranked stats: 94.12% of genes\n",
      "The order of those genes will be arbitrary, which may produce unexpected results.\n"
     ]
    },
    {
     "name": "stdout",
     "output_type": "stream",
     "text": [
      "smooth muscle cell cycling lymphocyte\n"
     ]
    },
    {
     "name": "stderr",
     "output_type": "stream",
     "text": [
      "2025-04-04 16:26:09,947 [WARNING] Duplicated values found in preranked stats: 94.12% of genes\n",
      "The order of those genes will be arbitrary, which may produce unexpected results.\n",
      "2025-04-04 16:26:10,082 [WARNING] Duplicated values found in preranked stats: 96.72% of genes\n",
      "The order of those genes will be arbitrary, which may produce unexpected results.\n",
      "/tmp/ipykernel_3344069/1521488614.py:208: ImplicitModificationWarning: Trying to modify attribute `.obs` of view, initializing view as actual.\n",
      "  adata_cti.obs[f\"has_{ctj}_neighbor_str\"] = adata_cti.obs[f\"has_{ctj}_neighbor\"].astype(str)\n",
      "2025-04-04 16:26:10,327 [WARNING] Duplicated values found in preranked stats: 98.88% of genes\n",
      "The order of those genes will be arbitrary, which may produce unexpected results.\n"
     ]
    },
    {
     "name": "stdout",
     "output_type": "stream",
     "text": [
      "B cell cycling lymphocyte\n"
     ]
    },
    {
     "name": "stderr",
     "output_type": "stream",
     "text": [
      "2025-04-04 16:26:10,452 [WARNING] Duplicated values found in preranked stats: 98.88% of genes\n",
      "The order of those genes will be arbitrary, which may produce unexpected results.\n",
      "2025-04-04 16:26:10,587 [WARNING] Duplicated values found in preranked stats: 99.40% of genes\n",
      "The order of those genes will be arbitrary, which may produce unexpected results.\n",
      "/tmp/ipykernel_3344069/1521488614.py:208: ImplicitModificationWarning: Trying to modify attribute `.obs` of view, initializing view as actual.\n",
      "  adata_cti.obs[f\"has_{ctj}_neighbor_str\"] = adata_cti.obs[f\"has_{ctj}_neighbor\"].astype(str)\n"
     ]
    },
    {
     "name": "stdout",
     "output_type": "stream",
     "text": [
      "plasma cell cycling lymphocyte\n",
      "Not enough cells from each class to test plasma cell with cycling lymphocyte neighbors\n",
      "malignant cell cycling lymphocyte\n"
     ]
    },
    {
     "name": "stderr",
     "output_type": "stream",
     "text": [
      "2025-04-04 16:26:10,930 [WARNING] Duplicated values found in preranked stats: 99.16% of genes\n",
      "The order of those genes will be arbitrary, which may produce unexpected results.\n",
      "2025-04-04 16:26:11,061 [WARNING] Duplicated values found in preranked stats: 99.16% of genes\n",
      "The order of those genes will be arbitrary, which may produce unexpected results.\n",
      "2025-04-04 16:26:11,199 [WARNING] Duplicated values found in preranked stats: 99.56% of genes\n",
      "The order of those genes will be arbitrary, which may produce unexpected results.\n",
      "/tmp/ipykernel_3344069/1521488614.py:208: ImplicitModificationWarning: Trying to modify attribute `.obs` of view, initializing view as actual.\n",
      "  adata_cti.obs[f\"has_{ctj}_neighbor_str\"] = adata_cti.obs[f\"has_{ctj}_neighbor\"].astype(str)\n",
      "2025-04-04 16:26:11,381 [WARNING] Duplicated values found in preranked stats: 98.50% of genes\n",
      "The order of those genes will be arbitrary, which may produce unexpected results.\n",
      "2025-04-04 16:26:11,513 [WARNING] Duplicated values found in preranked stats: 98.50% of genes\n",
      "The order of those genes will be arbitrary, which may produce unexpected results.\n"
     ]
    },
    {
     "name": "stdout",
     "output_type": "stream",
     "text": [
      "mast cell cycling lymphocyte\n"
     ]
    },
    {
     "name": "stderr",
     "output_type": "stream",
     "text": [
      "2025-04-04 16:26:11,649 [WARNING] Duplicated values found in preranked stats: 99.18% of genes\n",
      "The order of those genes will be arbitrary, which may produce unexpected results.\n",
      "/tmp/ipykernel_3344069/1521488614.py:208: ImplicitModificationWarning: Trying to modify attribute `.obs` of view, initializing view as actual.\n",
      "  adata_cti.obs[f\"has_{ctj}_neighbor_str\"] = adata_cti.obs[f\"has_{ctj}_neighbor\"].astype(str)\n",
      "2025-04-04 16:26:11,899 [WARNING] Duplicated values found in preranked stats: 90.06% of genes\n",
      "The order of those genes will be arbitrary, which may produce unexpected results.\n"
     ]
    },
    {
     "name": "stdout",
     "output_type": "stream",
     "text": [
      "pericyte cycling lymphocyte\n"
     ]
    },
    {
     "name": "stderr",
     "output_type": "stream",
     "text": [
      "2025-04-04 16:26:12,031 [WARNING] Duplicated values found in preranked stats: 90.06% of genes\n",
      "The order of those genes will be arbitrary, which may produce unexpected results.\n",
      "2025-04-04 16:26:12,166 [WARNING] Duplicated values found in preranked stats: 94.30% of genes\n",
      "The order of those genes will be arbitrary, which may produce unexpected results.\n"
     ]
    },
    {
     "name": "stdout",
     "output_type": "stream",
     "text": [
      "macrophage smooth muscle cell\n"
     ]
    },
    {
     "name": "stderr",
     "output_type": "stream",
     "text": [
      "/tmp/ipykernel_3344069/1521488614.py:208: ImplicitModificationWarning: Trying to modify attribute `.obs` of view, initializing view as actual.\n",
      "  adata_cti.obs[f\"has_{ctj}_neighbor_str\"] = adata_cti.obs[f\"has_{ctj}_neighbor\"].astype(str)\n",
      "2025-04-04 16:26:15,980 [WARNING] Duplicated values found in preranked stats: 72.19% of genes\n",
      "The order of those genes will be arbitrary, which may produce unexpected results.\n",
      "2025-04-04 16:26:16,111 [WARNING] Duplicated values found in preranked stats: 72.19% of genes\n",
      "The order of those genes will be arbitrary, which may produce unexpected results.\n",
      "2025-04-04 16:26:16,245 [WARNING] Duplicated values found in preranked stats: 80.97% of genes\n",
      "The order of those genes will be arbitrary, which may produce unexpected results.\n",
      "/tmp/ipykernel_3344069/1521488614.py:208: ImplicitModificationWarning: Trying to modify attribute `.obs` of view, initializing view as actual.\n",
      "  adata_cti.obs[f\"has_{ctj}_neighbor_str\"] = adata_cti.obs[f\"has_{ctj}_neighbor\"].astype(str)\n",
      "2025-04-04 16:26:16,559 [WARNING] Duplicated values found in preranked stats: 91.82% of genes\n",
      "The order of those genes will be arbitrary, which may produce unexpected results.\n"
     ]
    },
    {
     "name": "stdout",
     "output_type": "stream",
     "text": [
      "monocyte smooth muscle cell\n"
     ]
    },
    {
     "name": "stderr",
     "output_type": "stream",
     "text": [
      "2025-04-04 16:26:16,693 [WARNING] Duplicated values found in preranked stats: 91.82% of genes\n",
      "The order of those genes will be arbitrary, which may produce unexpected results.\n",
      "2025-04-04 16:26:16,828 [WARNING] Duplicated values found in preranked stats: 94.48% of genes\n",
      "The order of those genes will be arbitrary, which may produce unexpected results.\n",
      "/tmp/ipykernel_3344069/1521488614.py:208: ImplicitModificationWarning: Trying to modify attribute `.obs` of view, initializing view as actual.\n",
      "  adata_cti.obs[f\"has_{ctj}_neighbor_str\"] = adata_cti.obs[f\"has_{ctj}_neighbor\"].astype(str)\n"
     ]
    },
    {
     "name": "stdout",
     "output_type": "stream",
     "text": [
      "T cell smooth muscle cell\n"
     ]
    },
    {
     "name": "stderr",
     "output_type": "stream",
     "text": [
      "2025-04-04 16:26:17,251 [WARNING] Duplicated values found in preranked stats: 95.10% of genes\n",
      "The order of those genes will be arbitrary, which may produce unexpected results.\n",
      "2025-04-04 16:26:17,386 [WARNING] Duplicated values found in preranked stats: 95.08% of genes\n",
      "The order of those genes will be arbitrary, which may produce unexpected results.\n",
      "2025-04-04 16:26:17,521 [WARNING] Duplicated values found in preranked stats: 97.06% of genes\n",
      "The order of those genes will be arbitrary, which may produce unexpected results.\n",
      "/tmp/ipykernel_3344069/1521488614.py:208: ImplicitModificationWarning: Trying to modify attribute `.obs` of view, initializing view as actual.\n",
      "  adata_cti.obs[f\"has_{ctj}_neighbor_str\"] = adata_cti.obs[f\"has_{ctj}_neighbor\"].astype(str)\n",
      "2025-04-04 16:26:17,712 [WARNING] Duplicated values found in preranked stats: 98.26% of genes\n",
      "The order of those genes will be arbitrary, which may produce unexpected results.\n",
      "2025-04-04 16:26:17,844 [WARNING] Duplicated values found in preranked stats: 98.26% of genes\n",
      "The order of those genes will be arbitrary, which may produce unexpected results.\n"
     ]
    },
    {
     "name": "stdout",
     "output_type": "stream",
     "text": [
      "natural killer cell smooth muscle cell\n"
     ]
    },
    {
     "name": "stderr",
     "output_type": "stream",
     "text": [
      "2025-04-04 16:26:17,979 [WARNING] Duplicated values found in preranked stats: 98.88% of genes\n",
      "The order of those genes will be arbitrary, which may produce unexpected results.\n",
      "/tmp/ipykernel_3344069/1521488614.py:208: ImplicitModificationWarning: Trying to modify attribute `.obs` of view, initializing view as actual.\n",
      "  adata_cti.obs[f\"has_{ctj}_neighbor_str\"] = adata_cti.obs[f\"has_{ctj}_neighbor\"].astype(str)\n"
     ]
    },
    {
     "name": "stdout",
     "output_type": "stream",
     "text": [
      "endothelial cell smooth muscle cell\n"
     ]
    },
    {
     "name": "stderr",
     "output_type": "stream",
     "text": [
      "2025-04-04 16:26:18,391 [WARNING] Duplicated values found in preranked stats: 83.03% of genes\n",
      "The order of those genes will be arbitrary, which may produce unexpected results.\n",
      "2025-04-04 16:26:18,519 [WARNING] Duplicated values found in preranked stats: 83.03% of genes\n",
      "The order of those genes will be arbitrary, which may produce unexpected results.\n",
      "2025-04-04 16:26:18,653 [WARNING] Duplicated values found in preranked stats: 89.70% of genes\n",
      "The order of those genes will be arbitrary, which may produce unexpected results.\n",
      "/tmp/ipykernel_3344069/1521488614.py:208: ImplicitModificationWarning: Trying to modify attribute `.obs` of view, initializing view as actual.\n",
      "  adata_cti.obs[f\"has_{ctj}_neighbor_str\"] = adata_cti.obs[f\"has_{ctj}_neighbor\"].astype(str)\n",
      "2025-04-04 16:26:18,875 [WARNING] Duplicated values found in preranked stats: 99.66% of genes\n",
      "The order of those genes will be arbitrary, which may produce unexpected results.\n"
     ]
    },
    {
     "name": "stdout",
     "output_type": "stream",
     "text": [
      "epithelial cell of lung smooth muscle cell\n"
     ]
    },
    {
     "name": "stderr",
     "output_type": "stream",
     "text": [
      "2025-04-04 16:26:18,991 [WARNING] Duplicated values found in preranked stats: 99.66% of genes\n",
      "The order of those genes will be arbitrary, which may produce unexpected results.\n",
      "2025-04-04 16:26:19,125 [WARNING] Duplicated values found in preranked stats: 99.80% of genes\n",
      "The order of those genes will be arbitrary, which may produce unexpected results.\n",
      "/tmp/ipykernel_3344069/1521488614.py:208: ImplicitModificationWarning: Trying to modify attribute `.obs` of view, initializing view as actual.\n",
      "  adata_cti.obs[f\"has_{ctj}_neighbor_str\"] = adata_cti.obs[f\"has_{ctj}_neighbor\"].astype(str)\n"
     ]
    },
    {
     "name": "stdout",
     "output_type": "stream",
     "text": [
      "granulocyte smooth muscle cell\n"
     ]
    },
    {
     "name": "stderr",
     "output_type": "stream",
     "text": [
      "2025-04-04 16:26:19,564 [WARNING] Duplicated values found in preranked stats: 93.26% of genes\n",
      "The order of those genes will be arbitrary, which may produce unexpected results.\n",
      "2025-04-04 16:26:19,689 [WARNING] Duplicated values found in preranked stats: 93.26% of genes\n",
      "The order of those genes will be arbitrary, which may produce unexpected results.\n",
      "2025-04-04 16:26:19,823 [WARNING] Duplicated values found in preranked stats: 95.98% of genes\n",
      "The order of those genes will be arbitrary, which may produce unexpected results.\n",
      "/tmp/ipykernel_3344069/1521488614.py:208: ImplicitModificationWarning: Trying to modify attribute `.obs` of view, initializing view as actual.\n",
      "  adata_cti.obs[f\"has_{ctj}_neighbor_str\"] = adata_cti.obs[f\"has_{ctj}_neighbor\"].astype(str)\n"
     ]
    },
    {
     "name": "stdout",
     "output_type": "stream",
     "text": [
      "dendritic cell smooth muscle cell\n"
     ]
    },
    {
     "name": "stderr",
     "output_type": "stream",
     "text": [
      "2025-04-04 16:26:20,178 [WARNING] Duplicated values found in preranked stats: 89.02% of genes\n",
      "The order of those genes will be arbitrary, which may produce unexpected results.\n",
      "2025-04-04 16:26:20,312 [WARNING] Duplicated values found in preranked stats: 89.02% of genes\n",
      "The order of those genes will be arbitrary, which may produce unexpected results.\n",
      "2025-04-04 16:26:20,447 [WARNING] Duplicated values found in preranked stats: 93.22% of genes\n",
      "The order of those genes will be arbitrary, which may produce unexpected results.\n",
      "/tmp/ipykernel_3344069/1521488614.py:208: ImplicitModificationWarning: Trying to modify attribute `.obs` of view, initializing view as actual.\n",
      "  adata_cti.obs[f\"has_{ctj}_neighbor_str\"] = adata_cti.obs[f\"has_{ctj}_neighbor\"].astype(str)\n"
     ]
    },
    {
     "name": "stdout",
     "output_type": "stream",
     "text": [
      "fibroblast of lung smooth muscle cell\n"
     ]
    },
    {
     "name": "stderr",
     "output_type": "stream",
     "text": [
      "2025-04-04 16:26:21,067 [WARNING] Duplicated values found in preranked stats: 85.57% of genes\n",
      "The order of those genes will be arbitrary, which may produce unexpected results.\n",
      "2025-04-04 16:26:21,189 [WARNING] Duplicated values found in preranked stats: 85.57% of genes\n",
      "The order of those genes will be arbitrary, which may produce unexpected results.\n",
      "2025-04-04 16:26:21,327 [WARNING] Duplicated values found in preranked stats: 90.30% of genes\n",
      "The order of those genes will be arbitrary, which may produce unexpected results.\n",
      "/tmp/ipykernel_3344069/1521488614.py:208: ImplicitModificationWarning: Trying to modify attribute `.obs` of view, initializing view as actual.\n",
      "  adata_cti.obs[f\"has_{ctj}_neighbor_str\"] = adata_cti.obs[f\"has_{ctj}_neighbor\"].astype(str)\n",
      "2025-04-04 16:26:21,573 [WARNING] Duplicated values found in preranked stats: 96.56% of genes\n",
      "The order of those genes will be arbitrary, which may produce unexpected results.\n"
     ]
    },
    {
     "name": "stdout",
     "output_type": "stream",
     "text": [
      "cycling lymphocyte smooth muscle cell\n"
     ]
    },
    {
     "name": "stderr",
     "output_type": "stream",
     "text": [
      "2025-04-04 16:26:21,703 [WARNING] Duplicated values found in preranked stats: 96.56% of genes\n",
      "The order of those genes will be arbitrary, which may produce unexpected results.\n",
      "2025-04-04 16:26:21,843 [WARNING] Duplicated values found in preranked stats: 98.14% of genes\n",
      "The order of those genes will be arbitrary, which may produce unexpected results.\n",
      "/tmp/ipykernel_3344069/1521488614.py:208: ImplicitModificationWarning: Trying to modify attribute `.obs` of view, initializing view as actual.\n",
      "  adata_cti.obs[f\"has_{ctj}_neighbor_str\"] = adata_cti.obs[f\"has_{ctj}_neighbor\"].astype(str)\n",
      "2025-04-04 16:26:22,085 [WARNING] Duplicated values found in preranked stats: 98.88% of genes\n",
      "The order of those genes will be arbitrary, which may produce unexpected results.\n"
     ]
    },
    {
     "name": "stdout",
     "output_type": "stream",
     "text": [
      "B cell smooth muscle cell\n"
     ]
    },
    {
     "name": "stderr",
     "output_type": "stream",
     "text": [
      "2025-04-04 16:26:22,218 [WARNING] Duplicated values found in preranked stats: 98.88% of genes\n",
      "The order of those genes will be arbitrary, which may produce unexpected results.\n",
      "2025-04-04 16:26:22,354 [WARNING] Duplicated values found in preranked stats: 99.30% of genes\n",
      "The order of those genes will be arbitrary, which may produce unexpected results.\n",
      "/tmp/ipykernel_3344069/1521488614.py:208: ImplicitModificationWarning: Trying to modify attribute `.obs` of view, initializing view as actual.\n",
      "  adata_cti.obs[f\"has_{ctj}_neighbor_str\"] = adata_cti.obs[f\"has_{ctj}_neighbor\"].astype(str)\n",
      "2025-04-04 16:26:22,524 [WARNING] Duplicated values found in preranked stats: 98.60% of genes\n",
      "The order of those genes will be arbitrary, which may produce unexpected results.\n",
      "2025-04-04 16:26:22,661 [WARNING] Duplicated values found in preranked stats: 98.60% of genes\n",
      "The order of those genes will be arbitrary, which may produce unexpected results.\n"
     ]
    },
    {
     "name": "stdout",
     "output_type": "stream",
     "text": [
      "plasma cell smooth muscle cell\n"
     ]
    },
    {
     "name": "stderr",
     "output_type": "stream",
     "text": [
      "2025-04-04 16:26:22,796 [WARNING] Duplicated values found in preranked stats: 99.06% of genes\n",
      "The order of those genes will be arbitrary, which may produce unexpected results.\n",
      "/tmp/ipykernel_3344069/1521488614.py:208: ImplicitModificationWarning: Trying to modify attribute `.obs` of view, initializing view as actual.\n",
      "  adata_cti.obs[f\"has_{ctj}_neighbor_str\"] = adata_cti.obs[f\"has_{ctj}_neighbor\"].astype(str)\n"
     ]
    },
    {
     "name": "stdout",
     "output_type": "stream",
     "text": [
      "malignant cell smooth muscle cell\n"
     ]
    },
    {
     "name": "stderr",
     "output_type": "stream",
     "text": [
      "2025-04-04 16:26:23,136 [WARNING] Duplicated values found in preranked stats: 99.16% of genes\n",
      "The order of those genes will be arbitrary, which may produce unexpected results.\n",
      "2025-04-04 16:26:23,269 [WARNING] Duplicated values found in preranked stats: 99.16% of genes\n",
      "The order of those genes will be arbitrary, which may produce unexpected results.\n",
      "2025-04-04 16:26:23,405 [WARNING] Duplicated values found in preranked stats: 99.46% of genes\n",
      "The order of those genes will be arbitrary, which may produce unexpected results.\n",
      "/tmp/ipykernel_3344069/1521488614.py:208: ImplicitModificationWarning: Trying to modify attribute `.obs` of view, initializing view as actual.\n",
      "  adata_cti.obs[f\"has_{ctj}_neighbor_str\"] = adata_cti.obs[f\"has_{ctj}_neighbor\"].astype(str)\n",
      "2025-04-04 16:26:23,584 [WARNING] Duplicated values found in preranked stats: 98.50% of genes\n",
      "The order of those genes will be arbitrary, which may produce unexpected results.\n",
      "2025-04-04 16:26:23,716 [WARNING] Duplicated values found in preranked stats: 98.50% of genes\n",
      "The order of those genes will be arbitrary, which may produce unexpected results.\n"
     ]
    },
    {
     "name": "stdout",
     "output_type": "stream",
     "text": [
      "mast cell smooth muscle cell\n"
     ]
    },
    {
     "name": "stderr",
     "output_type": "stream",
     "text": [
      "2025-04-04 16:26:23,855 [WARNING] Duplicated values found in preranked stats: 98.92% of genes\n",
      "The order of those genes will be arbitrary, which may produce unexpected results.\n",
      "/tmp/ipykernel_3344069/1521488614.py:208: ImplicitModificationWarning: Trying to modify attribute `.obs` of view, initializing view as actual.\n",
      "  adata_cti.obs[f\"has_{ctj}_neighbor_str\"] = adata_cti.obs[f\"has_{ctj}_neighbor\"].astype(str)\n",
      "2025-04-04 16:26:24,105 [WARNING] Duplicated values found in preranked stats: 90.06% of genes\n",
      "The order of those genes will be arbitrary, which may produce unexpected results.\n"
     ]
    },
    {
     "name": "stdout",
     "output_type": "stream",
     "text": [
      "pericyte smooth muscle cell\n"
     ]
    },
    {
     "name": "stderr",
     "output_type": "stream",
     "text": [
      "2025-04-04 16:26:24,235 [WARNING] Duplicated values found in preranked stats: 90.06% of genes\n",
      "The order of those genes will be arbitrary, which may produce unexpected results.\n",
      "2025-04-04 16:26:24,369 [WARNING] Duplicated values found in preranked stats: 94.40% of genes\n",
      "The order of those genes will be arbitrary, which may produce unexpected results.\n"
     ]
    },
    {
     "name": "stdout",
     "output_type": "stream",
     "text": [
      "macrophage B cell\n"
     ]
    },
    {
     "name": "stderr",
     "output_type": "stream",
     "text": [
      "/tmp/ipykernel_3344069/1521488614.py:208: ImplicitModificationWarning: Trying to modify attribute `.obs` of view, initializing view as actual.\n",
      "  adata_cti.obs[f\"has_{ctj}_neighbor_str\"] = adata_cti.obs[f\"has_{ctj}_neighbor\"].astype(str)\n",
      "2025-04-04 16:26:28,231 [WARNING] Duplicated values found in preranked stats: 72.19% of genes\n",
      "The order of those genes will be arbitrary, which may produce unexpected results.\n",
      "2025-04-04 16:26:28,373 [WARNING] Duplicated values found in preranked stats: 72.19% of genes\n",
      "The order of those genes will be arbitrary, which may produce unexpected results.\n",
      "2025-04-04 16:26:28,509 [WARNING] Duplicated values found in preranked stats: 84.91% of genes\n",
      "The order of those genes will be arbitrary, which may produce unexpected results.\n",
      "/tmp/ipykernel_3344069/1521488614.py:208: ImplicitModificationWarning: Trying to modify attribute `.obs` of view, initializing view as actual.\n",
      "  adata_cti.obs[f\"has_{ctj}_neighbor_str\"] = adata_cti.obs[f\"has_{ctj}_neighbor\"].astype(str)\n",
      "2025-04-04 16:26:28,827 [WARNING] Duplicated values found in preranked stats: 91.84% of genes\n",
      "The order of those genes will be arbitrary, which may produce unexpected results.\n"
     ]
    },
    {
     "name": "stdout",
     "output_type": "stream",
     "text": [
      "monocyte B cell\n"
     ]
    },
    {
     "name": "stderr",
     "output_type": "stream",
     "text": [
      "2025-04-04 16:26:28,967 [WARNING] Duplicated values found in preranked stats: 91.84% of genes\n",
      "The order of those genes will be arbitrary, which may produce unexpected results.\n",
      "2025-04-04 16:26:29,104 [WARNING] Duplicated values found in preranked stats: 96.14% of genes\n",
      "The order of those genes will be arbitrary, which may produce unexpected results.\n",
      "/tmp/ipykernel_3344069/1521488614.py:208: ImplicitModificationWarning: Trying to modify attribute `.obs` of view, initializing view as actual.\n",
      "  adata_cti.obs[f\"has_{ctj}_neighbor_str\"] = adata_cti.obs[f\"has_{ctj}_neighbor\"].astype(str)\n"
     ]
    },
    {
     "name": "stdout",
     "output_type": "stream",
     "text": [
      "T cell B cell\n"
     ]
    },
    {
     "name": "stderr",
     "output_type": "stream",
     "text": [
      "2025-04-04 16:26:29,538 [WARNING] Duplicated values found in preranked stats: 95.04% of genes\n",
      "The order of those genes will be arbitrary, which may produce unexpected results.\n",
      "2025-04-04 16:26:29,678 [WARNING] Duplicated values found in preranked stats: 95.02% of genes\n",
      "The order of those genes will be arbitrary, which may produce unexpected results.\n",
      "2025-04-04 16:26:29,813 [WARNING] Duplicated values found in preranked stats: 97.02% of genes\n",
      "The order of those genes will be arbitrary, which may produce unexpected results.\n",
      "/tmp/ipykernel_3344069/1521488614.py:208: ImplicitModificationWarning: Trying to modify attribute `.obs` of view, initializing view as actual.\n",
      "  adata_cti.obs[f\"has_{ctj}_neighbor_str\"] = adata_cti.obs[f\"has_{ctj}_neighbor\"].astype(str)\n",
      "2025-04-04 16:26:30,003 [WARNING] Duplicated values found in preranked stats: 98.28% of genes\n",
      "The order of those genes will be arbitrary, which may produce unexpected results.\n",
      "2025-04-04 16:26:30,135 [WARNING] Duplicated values found in preranked stats: 98.28% of genes\n",
      "The order of those genes will be arbitrary, which may produce unexpected results.\n"
     ]
    },
    {
     "name": "stdout",
     "output_type": "stream",
     "text": [
      "natural killer cell B cell\n"
     ]
    },
    {
     "name": "stderr",
     "output_type": "stream",
     "text": [
      "2025-04-04 16:26:30,270 [WARNING] Duplicated values found in preranked stats: 99.10% of genes\n",
      "The order of those genes will be arbitrary, which may produce unexpected results.\n",
      "/tmp/ipykernel_3344069/1521488614.py:208: ImplicitModificationWarning: Trying to modify attribute `.obs` of view, initializing view as actual.\n",
      "  adata_cti.obs[f\"has_{ctj}_neighbor_str\"] = adata_cti.obs[f\"has_{ctj}_neighbor\"].astype(str)\n"
     ]
    },
    {
     "name": "stdout",
     "output_type": "stream",
     "text": [
      "endothelial cell B cell\n"
     ]
    },
    {
     "name": "stderr",
     "output_type": "stream",
     "text": [
      "2025-04-04 16:26:30,694 [WARNING] Duplicated values found in preranked stats: 83.03% of genes\n",
      "The order of those genes will be arbitrary, which may produce unexpected results.\n",
      "2025-04-04 16:26:30,825 [WARNING] Duplicated values found in preranked stats: 83.03% of genes\n",
      "The order of those genes will be arbitrary, which may produce unexpected results.\n",
      "2025-04-04 16:26:30,961 [WARNING] Duplicated values found in preranked stats: 90.64% of genes\n",
      "The order of those genes will be arbitrary, which may produce unexpected results.\n",
      "/tmp/ipykernel_3344069/1521488614.py:208: ImplicitModificationWarning: Trying to modify attribute `.obs` of view, initializing view as actual.\n",
      "  adata_cti.obs[f\"has_{ctj}_neighbor_str\"] = adata_cti.obs[f\"has_{ctj}_neighbor\"].astype(str)\n",
      "2025-04-04 16:26:31,185 [WARNING] Duplicated values found in preranked stats: 99.66% of genes\n",
      "The order of those genes will be arbitrary, which may produce unexpected results.\n"
     ]
    },
    {
     "name": "stdout",
     "output_type": "stream",
     "text": [
      "epithelial cell of lung B cell\n"
     ]
    },
    {
     "name": "stderr",
     "output_type": "stream",
     "text": [
      "2025-04-04 16:26:31,301 [WARNING] Duplicated values found in preranked stats: 99.66% of genes\n",
      "The order of those genes will be arbitrary, which may produce unexpected results.\n",
      "2025-04-04 16:26:31,436 [WARNING] Duplicated values found in preranked stats: 99.78% of genes\n",
      "The order of those genes will be arbitrary, which may produce unexpected results.\n",
      "/tmp/ipykernel_3344069/1521488614.py:208: ImplicitModificationWarning: Trying to modify attribute `.obs` of view, initializing view as actual.\n",
      "  adata_cti.obs[f\"has_{ctj}_neighbor_str\"] = adata_cti.obs[f\"has_{ctj}_neighbor\"].astype(str)\n"
     ]
    },
    {
     "name": "stdout",
     "output_type": "stream",
     "text": [
      "granulocyte B cell\n"
     ]
    },
    {
     "name": "stderr",
     "output_type": "stream",
     "text": [
      "2025-04-04 16:26:31,882 [WARNING] Duplicated values found in preranked stats: 93.26% of genes\n",
      "The order of those genes will be arbitrary, which may produce unexpected results.\n",
      "2025-04-04 16:26:32,006 [WARNING] Duplicated values found in preranked stats: 93.26% of genes\n",
      "The order of those genes will be arbitrary, which may produce unexpected results.\n",
      "2025-04-04 16:26:32,141 [WARNING] Duplicated values found in preranked stats: 96.24% of genes\n",
      "The order of those genes will be arbitrary, which may produce unexpected results.\n",
      "/tmp/ipykernel_3344069/1521488614.py:208: ImplicitModificationWarning: Trying to modify attribute `.obs` of view, initializing view as actual.\n",
      "  adata_cti.obs[f\"has_{ctj}_neighbor_str\"] = adata_cti.obs[f\"has_{ctj}_neighbor\"].astype(str)\n"
     ]
    },
    {
     "name": "stdout",
     "output_type": "stream",
     "text": [
      "dendritic cell B cell\n"
     ]
    },
    {
     "name": "stderr",
     "output_type": "stream",
     "text": [
      "2025-04-04 16:26:32,495 [WARNING] Duplicated values found in preranked stats: 89.06% of genes\n",
      "The order of those genes will be arbitrary, which may produce unexpected results.\n",
      "2025-04-04 16:26:32,632 [WARNING] Duplicated values found in preranked stats: 89.06% of genes\n",
      "The order of those genes will be arbitrary, which may produce unexpected results.\n",
      "2025-04-04 16:26:32,769 [WARNING] Duplicated values found in preranked stats: 93.80% of genes\n",
      "The order of those genes will be arbitrary, which may produce unexpected results.\n",
      "/tmp/ipykernel_3344069/1521488614.py:208: ImplicitModificationWarning: Trying to modify attribute `.obs` of view, initializing view as actual.\n",
      "  adata_cti.obs[f\"has_{ctj}_neighbor_str\"] = adata_cti.obs[f\"has_{ctj}_neighbor\"].astype(str)\n"
     ]
    },
    {
     "name": "stdout",
     "output_type": "stream",
     "text": [
      "fibroblast of lung B cell\n"
     ]
    },
    {
     "name": "stderr",
     "output_type": "stream",
     "text": [
      "2025-04-04 16:26:33,389 [WARNING] Duplicated values found in preranked stats: 85.63% of genes\n",
      "The order of those genes will be arbitrary, which may produce unexpected results.\n",
      "2025-04-04 16:26:33,508 [WARNING] Duplicated values found in preranked stats: 85.63% of genes\n",
      "The order of those genes will be arbitrary, which may produce unexpected results.\n",
      "2025-04-04 16:26:33,642 [WARNING] Duplicated values found in preranked stats: 91.82% of genes\n",
      "The order of those genes will be arbitrary, which may produce unexpected results.\n",
      "/tmp/ipykernel_3344069/1521488614.py:208: ImplicitModificationWarning: Trying to modify attribute `.obs` of view, initializing view as actual.\n",
      "  adata_cti.obs[f\"has_{ctj}_neighbor_str\"] = adata_cti.obs[f\"has_{ctj}_neighbor\"].astype(str)\n",
      "2025-04-04 16:26:33,892 [WARNING] Duplicated values found in preranked stats: 96.70% of genes\n",
      "The order of those genes will be arbitrary, which may produce unexpected results.\n"
     ]
    },
    {
     "name": "stdout",
     "output_type": "stream",
     "text": [
      "cycling lymphocyte B cell\n"
     ]
    },
    {
     "name": "stderr",
     "output_type": "stream",
     "text": [
      "2025-04-04 16:26:34,027 [WARNING] Duplicated values found in preranked stats: 96.70% of genes\n",
      "The order of those genes will be arbitrary, which may produce unexpected results.\n",
      "2025-04-04 16:26:34,163 [WARNING] Duplicated values found in preranked stats: 98.10% of genes\n",
      "The order of those genes will be arbitrary, which may produce unexpected results.\n",
      "/tmp/ipykernel_3344069/1521488614.py:208: ImplicitModificationWarning: Trying to modify attribute `.obs` of view, initializing view as actual.\n",
      "  adata_cti.obs[f\"has_{ctj}_neighbor_str\"] = adata_cti.obs[f\"has_{ctj}_neighbor\"].astype(str)\n",
      "2025-04-04 16:26:34,397 [WARNING] Duplicated values found in preranked stats: 94.12% of genes\n",
      "The order of those genes will be arbitrary, which may produce unexpected results.\n"
     ]
    },
    {
     "name": "stdout",
     "output_type": "stream",
     "text": [
      "smooth muscle cell B cell\n"
     ]
    },
    {
     "name": "stderr",
     "output_type": "stream",
     "text": [
      "2025-04-04 16:26:34,538 [WARNING] Duplicated values found in preranked stats: 94.12% of genes\n",
      "The order of those genes will be arbitrary, which may produce unexpected results.\n",
      "2025-04-04 16:26:34,674 [WARNING] Duplicated values found in preranked stats: 96.74% of genes\n",
      "The order of those genes will be arbitrary, which may produce unexpected results.\n",
      "/tmp/ipykernel_3344069/1521488614.py:208: ImplicitModificationWarning: Trying to modify attribute `.obs` of view, initializing view as actual.\n",
      "  adata_cti.obs[f\"has_{ctj}_neighbor_str\"] = adata_cti.obs[f\"has_{ctj}_neighbor\"].astype(str)\n"
     ]
    },
    {
     "name": "stdout",
     "output_type": "stream",
     "text": [
      "plasma cell B cell\n",
      "Not enough cells from each class to test plasma cell with B cell neighbors\n",
      "malignant cell B cell\n"
     ]
    },
    {
     "name": "stderr",
     "output_type": "stream",
     "text": [
      "2025-04-04 16:26:35,018 [WARNING] Duplicated values found in preranked stats: 99.18% of genes\n",
      "The order of those genes will be arbitrary, which may produce unexpected results.\n",
      "2025-04-04 16:26:35,145 [WARNING] Duplicated values found in preranked stats: 99.18% of genes\n",
      "The order of those genes will be arbitrary, which may produce unexpected results.\n",
      "2025-04-04 16:26:35,282 [WARNING] Duplicated values found in preranked stats: 99.56% of genes\n",
      "The order of those genes will be arbitrary, which may produce unexpected results.\n",
      "/tmp/ipykernel_3344069/1521488614.py:208: ImplicitModificationWarning: Trying to modify attribute `.obs` of view, initializing view as actual.\n",
      "  adata_cti.obs[f\"has_{ctj}_neighbor_str\"] = adata_cti.obs[f\"has_{ctj}_neighbor\"].astype(str)\n",
      "2025-04-04 16:26:35,463 [WARNING] Duplicated values found in preranked stats: 98.50% of genes\n",
      "The order of those genes will be arbitrary, which may produce unexpected results.\n",
      "2025-04-04 16:26:35,598 [WARNING] Duplicated values found in preranked stats: 98.50% of genes\n",
      "The order of those genes will be arbitrary, which may produce unexpected results.\n"
     ]
    },
    {
     "name": "stdout",
     "output_type": "stream",
     "text": [
      "mast cell B cell\n"
     ]
    },
    {
     "name": "stderr",
     "output_type": "stream",
     "text": [
      "2025-04-04 16:26:35,733 [WARNING] Duplicated values found in preranked stats: 99.28% of genes\n",
      "The order of those genes will be arbitrary, which may produce unexpected results.\n",
      "/tmp/ipykernel_3344069/1521488614.py:208: ImplicitModificationWarning: Trying to modify attribute `.obs` of view, initializing view as actual.\n",
      "  adata_cti.obs[f\"has_{ctj}_neighbor_str\"] = adata_cti.obs[f\"has_{ctj}_neighbor\"].astype(str)\n",
      "2025-04-04 16:26:35,977 [WARNING] Duplicated values found in preranked stats: 90.06% of genes\n",
      "The order of those genes will be arbitrary, which may produce unexpected results.\n"
     ]
    },
    {
     "name": "stdout",
     "output_type": "stream",
     "text": [
      "pericyte B cell\n"
     ]
    },
    {
     "name": "stderr",
     "output_type": "stream",
     "text": [
      "2025-04-04 16:26:36,108 [WARNING] Duplicated values found in preranked stats: 90.06% of genes\n",
      "The order of those genes will be arbitrary, which may produce unexpected results.\n",
      "2025-04-04 16:26:36,242 [WARNING] Duplicated values found in preranked stats: 95.60% of genes\n",
      "The order of those genes will be arbitrary, which may produce unexpected results.\n"
     ]
    },
    {
     "name": "stdout",
     "output_type": "stream",
     "text": [
      "macrophage plasma cell\n"
     ]
    },
    {
     "name": "stderr",
     "output_type": "stream",
     "text": [
      "/tmp/ipykernel_3344069/1521488614.py:208: ImplicitModificationWarning: Trying to modify attribute `.obs` of view, initializing view as actual.\n",
      "  adata_cti.obs[f\"has_{ctj}_neighbor_str\"] = adata_cti.obs[f\"has_{ctj}_neighbor\"].astype(str)\n",
      "2025-04-04 16:26:40,101 [WARNING] Duplicated values found in preranked stats: 72.19% of genes\n",
      "The order of those genes will be arbitrary, which may produce unexpected results.\n",
      "2025-04-04 16:26:40,237 [WARNING] Duplicated values found in preranked stats: 72.19% of genes\n",
      "The order of those genes will be arbitrary, which may produce unexpected results.\n",
      "2025-04-04 16:26:40,372 [WARNING] Duplicated values found in preranked stats: 89.56% of genes\n",
      "The order of those genes will be arbitrary, which may produce unexpected results.\n",
      "/tmp/ipykernel_3344069/1521488614.py:208: ImplicitModificationWarning: Trying to modify attribute `.obs` of view, initializing view as actual.\n",
      "  adata_cti.obs[f\"has_{ctj}_neighbor_str\"] = adata_cti.obs[f\"has_{ctj}_neighbor\"].astype(str)\n",
      "2025-04-04 16:26:40,700 [WARNING] Duplicated values found in preranked stats: 91.82% of genes\n",
      "The order of those genes will be arbitrary, which may produce unexpected results.\n"
     ]
    },
    {
     "name": "stdout",
     "output_type": "stream",
     "text": [
      "monocyte plasma cell\n"
     ]
    },
    {
     "name": "stderr",
     "output_type": "stream",
     "text": [
      "2025-04-04 16:26:40,835 [WARNING] Duplicated values found in preranked stats: 91.82% of genes\n",
      "The order of those genes will be arbitrary, which may produce unexpected results.\n",
      "2025-04-04 16:26:40,971 [WARNING] Duplicated values found in preranked stats: 96.50% of genes\n",
      "The order of those genes will be arbitrary, which may produce unexpected results.\n",
      "/tmp/ipykernel_3344069/1521488614.py:208: ImplicitModificationWarning: Trying to modify attribute `.obs` of view, initializing view as actual.\n",
      "  adata_cti.obs[f\"has_{ctj}_neighbor_str\"] = adata_cti.obs[f\"has_{ctj}_neighbor\"].astype(str)\n"
     ]
    },
    {
     "name": "stdout",
     "output_type": "stream",
     "text": [
      "T cell plasma cell\n"
     ]
    },
    {
     "name": "stderr",
     "output_type": "stream",
     "text": [
      "2025-04-04 16:26:41,415 [WARNING] Duplicated values found in preranked stats: 95.12% of genes\n",
      "The order of those genes will be arbitrary, which may produce unexpected results.\n",
      "2025-04-04 16:26:41,554 [WARNING] Duplicated values found in preranked stats: 95.10% of genes\n",
      "The order of those genes will be arbitrary, which may produce unexpected results.\n",
      "2025-04-04 16:26:41,689 [WARNING] Duplicated values found in preranked stats: 97.90% of genes\n",
      "The order of those genes will be arbitrary, which may produce unexpected results.\n",
      "/tmp/ipykernel_3344069/1521488614.py:208: ImplicitModificationWarning: Trying to modify attribute `.obs` of view, initializing view as actual.\n",
      "  adata_cti.obs[f\"has_{ctj}_neighbor_str\"] = adata_cti.obs[f\"has_{ctj}_neighbor\"].astype(str)\n",
      "2025-04-04 16:26:41,879 [WARNING] Duplicated values found in preranked stats: 98.28% of genes\n",
      "The order of those genes will be arbitrary, which may produce unexpected results.\n",
      "2025-04-04 16:26:42,009 [WARNING] Duplicated values found in preranked stats: 98.28% of genes\n",
      "The order of those genes will be arbitrary, which may produce unexpected results.\n"
     ]
    },
    {
     "name": "stdout",
     "output_type": "stream",
     "text": [
      "natural killer cell plasma cell\n"
     ]
    },
    {
     "name": "stderr",
     "output_type": "stream",
     "text": [
      "2025-04-04 16:26:42,144 [WARNING] Duplicated values found in preranked stats: 99.20% of genes\n",
      "The order of those genes will be arbitrary, which may produce unexpected results.\n",
      "/tmp/ipykernel_3344069/1521488614.py:208: ImplicitModificationWarning: Trying to modify attribute `.obs` of view, initializing view as actual.\n",
      "  adata_cti.obs[f\"has_{ctj}_neighbor_str\"] = adata_cti.obs[f\"has_{ctj}_neighbor\"].astype(str)\n"
     ]
    },
    {
     "name": "stdout",
     "output_type": "stream",
     "text": [
      "endothelial cell plasma cell\n"
     ]
    },
    {
     "name": "stderr",
     "output_type": "stream",
     "text": [
      "2025-04-04 16:26:42,563 [WARNING] Duplicated values found in preranked stats: 83.03% of genes\n",
      "The order of those genes will be arbitrary, which may produce unexpected results.\n",
      "2025-04-04 16:26:42,695 [WARNING] Duplicated values found in preranked stats: 83.03% of genes\n",
      "The order of those genes will be arbitrary, which may produce unexpected results.\n",
      "2025-04-04 16:26:42,831 [WARNING] Duplicated values found in preranked stats: 91.70% of genes\n",
      "The order of those genes will be arbitrary, which may produce unexpected results.\n",
      "/tmp/ipykernel_3344069/1521488614.py:208: ImplicitModificationWarning: Trying to modify attribute `.obs` of view, initializing view as actual.\n",
      "  adata_cti.obs[f\"has_{ctj}_neighbor_str\"] = adata_cti.obs[f\"has_{ctj}_neighbor\"].astype(str)\n"
     ]
    },
    {
     "name": "stdout",
     "output_type": "stream",
     "text": [
      "epithelial cell of lung plasma cell\n",
      "Not enough cells from each class to test epithelial cell of lung with plasma cell neighbors\n",
      "granulocyte plasma cell\n"
     ]
    },
    {
     "name": "stderr",
     "output_type": "stream",
     "text": [
      "2025-04-04 16:26:43,278 [WARNING] Duplicated values found in preranked stats: 93.26% of genes\n",
      "The order of those genes will be arbitrary, which may produce unexpected results.\n",
      "2025-04-04 16:26:43,409 [WARNING] Duplicated values found in preranked stats: 93.26% of genes\n",
      "The order of those genes will be arbitrary, which may produce unexpected results.\n",
      "2025-04-04 16:26:43,542 [WARNING] Duplicated values found in preranked stats: 97.98% of genes\n",
      "The order of those genes will be arbitrary, which may produce unexpected results.\n",
      "/tmp/ipykernel_3344069/1521488614.py:208: ImplicitModificationWarning: Trying to modify attribute `.obs` of view, initializing view as actual.\n",
      "  adata_cti.obs[f\"has_{ctj}_neighbor_str\"] = adata_cti.obs[f\"has_{ctj}_neighbor\"].astype(str)\n"
     ]
    },
    {
     "name": "stdout",
     "output_type": "stream",
     "text": [
      "dendritic cell plasma cell\n"
     ]
    },
    {
     "name": "stderr",
     "output_type": "stream",
     "text": [
      "2025-04-04 16:26:43,894 [WARNING] Duplicated values found in preranked stats: 89.06% of genes\n",
      "The order of those genes will be arbitrary, which may produce unexpected results.\n",
      "2025-04-04 16:26:44,030 [WARNING] Duplicated values found in preranked stats: 89.06% of genes\n",
      "The order of those genes will be arbitrary, which may produce unexpected results.\n",
      "2025-04-04 16:26:44,165 [WARNING] Duplicated values found in preranked stats: 95.74% of genes\n",
      "The order of those genes will be arbitrary, which may produce unexpected results.\n",
      "/tmp/ipykernel_3344069/1521488614.py:208: ImplicitModificationWarning: Trying to modify attribute `.obs` of view, initializing view as actual.\n",
      "  adata_cti.obs[f\"has_{ctj}_neighbor_str\"] = adata_cti.obs[f\"has_{ctj}_neighbor\"].astype(str)\n"
     ]
    },
    {
     "name": "stdout",
     "output_type": "stream",
     "text": [
      "fibroblast of lung plasma cell\n"
     ]
    },
    {
     "name": "stderr",
     "output_type": "stream",
     "text": [
      "2025-04-04 16:26:44,798 [WARNING] Duplicated values found in preranked stats: 85.63% of genes\n",
      "The order of those genes will be arbitrary, which may produce unexpected results.\n",
      "2025-04-04 16:26:44,918 [WARNING] Duplicated values found in preranked stats: 85.63% of genes\n",
      "The order of those genes will be arbitrary, which may produce unexpected results.\n",
      "2025-04-04 16:26:45,053 [WARNING] Duplicated values found in preranked stats: 92.66% of genes\n",
      "The order of those genes will be arbitrary, which may produce unexpected results.\n",
      "/tmp/ipykernel_3344069/1521488614.py:208: ImplicitModificationWarning: Trying to modify attribute `.obs` of view, initializing view as actual.\n",
      "  adata_cti.obs[f\"has_{ctj}_neighbor_str\"] = adata_cti.obs[f\"has_{ctj}_neighbor\"].astype(str)\n",
      "2025-04-04 16:26:45,288 [WARNING] Duplicated values found in preranked stats: 94.12% of genes\n",
      "The order of those genes will be arbitrary, which may produce unexpected results.\n"
     ]
    },
    {
     "name": "stdout",
     "output_type": "stream",
     "text": [
      "cycling lymphocyte plasma cell\n",
      "Not enough cells from each class to test cycling lymphocyte with plasma cell neighbors\n",
      "smooth muscle cell plasma cell\n"
     ]
    },
    {
     "name": "stderr",
     "output_type": "stream",
     "text": [
      "2025-04-04 16:26:45,418 [WARNING] Duplicated values found in preranked stats: 94.12% of genes\n",
      "The order of those genes will be arbitrary, which may produce unexpected results.\n",
      "2025-04-04 16:26:45,547 [WARNING] Duplicated values found in preranked stats: 97.52% of genes\n",
      "The order of those genes will be arbitrary, which may produce unexpected results.\n",
      "/tmp/ipykernel_3344069/1521488614.py:208: ImplicitModificationWarning: Trying to modify attribute `.obs` of view, initializing view as actual.\n",
      "  adata_cti.obs[f\"has_{ctj}_neighbor_str\"] = adata_cti.obs[f\"has_{ctj}_neighbor\"].astype(str)\n"
     ]
    },
    {
     "name": "stdout",
     "output_type": "stream",
     "text": [
      "B cell plasma cell\n",
      "Not enough cells from each class to test B cell with plasma cell neighbors\n",
      "malignant cell plasma cell\n"
     ]
    },
    {
     "name": "stderr",
     "output_type": "stream",
     "text": [
      "2025-04-04 16:26:45,891 [WARNING] Duplicated values found in preranked stats: 99.18% of genes\n",
      "The order of those genes will be arbitrary, which may produce unexpected results.\n",
      "2025-04-04 16:26:46,032 [WARNING] Duplicated values found in preranked stats: 99.18% of genes\n",
      "The order of those genes will be arbitrary, which may produce unexpected results.\n",
      "2025-04-04 16:26:46,167 [WARNING] Duplicated values found in preranked stats: 99.58% of genes\n",
      "The order of those genes will be arbitrary, which may produce unexpected results.\n",
      "/tmp/ipykernel_3344069/1521488614.py:208: ImplicitModificationWarning: Trying to modify attribute `.obs` of view, initializing view as actual.\n",
      "  adata_cti.obs[f\"has_{ctj}_neighbor_str\"] = adata_cti.obs[f\"has_{ctj}_neighbor\"].astype(str)\n",
      "2025-04-04 16:26:46,415 [WARNING] Duplicated values found in preranked stats: 90.06% of genes\n",
      "The order of those genes will be arbitrary, which may produce unexpected results.\n"
     ]
    },
    {
     "name": "stdout",
     "output_type": "stream",
     "text": [
      "mast cell plasma cell\n",
      "Not enough cells from each class to test mast cell with plasma cell neighbors\n",
      "pericyte plasma cell\n"
     ]
    },
    {
     "name": "stderr",
     "output_type": "stream",
     "text": [
      "2025-04-04 16:26:46,549 [WARNING] Duplicated values found in preranked stats: 90.06% of genes\n",
      "The order of those genes will be arbitrary, which may produce unexpected results.\n",
      "2025-04-04 16:26:46,683 [WARNING] Duplicated values found in preranked stats: 96.38% of genes\n",
      "The order of those genes will be arbitrary, which may produce unexpected results.\n"
     ]
    },
    {
     "name": "stdout",
     "output_type": "stream",
     "text": [
      "macrophage malignant cell\n"
     ]
    },
    {
     "name": "stderr",
     "output_type": "stream",
     "text": [
      "/tmp/ipykernel_3344069/1521488614.py:208: ImplicitModificationWarning: Trying to modify attribute `.obs` of view, initializing view as actual.\n",
      "  adata_cti.obs[f\"has_{ctj}_neighbor_str\"] = adata_cti.obs[f\"has_{ctj}_neighbor\"].astype(str)\n",
      "2025-04-04 16:26:50,675 [WARNING] Duplicated values found in preranked stats: 72.19% of genes\n",
      "The order of those genes will be arbitrary, which may produce unexpected results.\n",
      "2025-04-04 16:26:50,812 [WARNING] Duplicated values found in preranked stats: 72.19% of genes\n",
      "The order of those genes will be arbitrary, which may produce unexpected results.\n",
      "2025-04-04 16:26:50,948 [WARNING] Duplicated values found in preranked stats: 82.05% of genes\n",
      "The order of those genes will be arbitrary, which may produce unexpected results.\n",
      "/tmp/ipykernel_3344069/1521488614.py:208: ImplicitModificationWarning: Trying to modify attribute `.obs` of view, initializing view as actual.\n",
      "  adata_cti.obs[f\"has_{ctj}_neighbor_str\"] = adata_cti.obs[f\"has_{ctj}_neighbor\"].astype(str)\n",
      "2025-04-04 16:26:51,272 [WARNING] Duplicated values found in preranked stats: 91.82% of genes\n",
      "The order of those genes will be arbitrary, which may produce unexpected results.\n"
     ]
    },
    {
     "name": "stdout",
     "output_type": "stream",
     "text": [
      "monocyte malignant cell\n"
     ]
    },
    {
     "name": "stderr",
     "output_type": "stream",
     "text": [
      "2025-04-04 16:26:51,407 [WARNING] Duplicated values found in preranked stats: 91.82% of genes\n",
      "The order of those genes will be arbitrary, which may produce unexpected results.\n",
      "2025-04-04 16:26:51,543 [WARNING] Duplicated values found in preranked stats: 95.54% of genes\n",
      "The order of those genes will be arbitrary, which may produce unexpected results.\n",
      "/tmp/ipykernel_3344069/1521488614.py:208: ImplicitModificationWarning: Trying to modify attribute `.obs` of view, initializing view as actual.\n",
      "  adata_cti.obs[f\"has_{ctj}_neighbor_str\"] = adata_cti.obs[f\"has_{ctj}_neighbor\"].astype(str)\n"
     ]
    },
    {
     "name": "stdout",
     "output_type": "stream",
     "text": [
      "T cell malignant cell\n"
     ]
    },
    {
     "name": "stderr",
     "output_type": "stream",
     "text": [
      "2025-04-04 16:26:51,980 [WARNING] Duplicated values found in preranked stats: 95.12% of genes\n",
      "The order of those genes will be arbitrary, which may produce unexpected results.\n",
      "2025-04-04 16:26:52,121 [WARNING] Duplicated values found in preranked stats: 95.10% of genes\n",
      "The order of those genes will be arbitrary, which may produce unexpected results.\n",
      "2025-04-04 16:26:52,255 [WARNING] Duplicated values found in preranked stats: 97.38% of genes\n",
      "The order of those genes will be arbitrary, which may produce unexpected results.\n",
      "/tmp/ipykernel_3344069/1521488614.py:208: ImplicitModificationWarning: Trying to modify attribute `.obs` of view, initializing view as actual.\n",
      "  adata_cti.obs[f\"has_{ctj}_neighbor_str\"] = adata_cti.obs[f\"has_{ctj}_neighbor\"].astype(str)\n",
      "2025-04-04 16:26:52,446 [WARNING] Duplicated values found in preranked stats: 98.28% of genes\n",
      "The order of those genes will be arbitrary, which may produce unexpected results.\n",
      "2025-04-04 16:26:52,580 [WARNING] Duplicated values found in preranked stats: 98.28% of genes\n",
      "The order of those genes will be arbitrary, which may produce unexpected results.\n"
     ]
    },
    {
     "name": "stdout",
     "output_type": "stream",
     "text": [
      "natural killer cell malignant cell\n"
     ]
    },
    {
     "name": "stderr",
     "output_type": "stream",
     "text": [
      "2025-04-04 16:26:52,715 [WARNING] Duplicated values found in preranked stats: 99.12% of genes\n",
      "The order of those genes will be arbitrary, which may produce unexpected results.\n",
      "/tmp/ipykernel_3344069/1521488614.py:208: ImplicitModificationWarning: Trying to modify attribute `.obs` of view, initializing view as actual.\n",
      "  adata_cti.obs[f\"has_{ctj}_neighbor_str\"] = adata_cti.obs[f\"has_{ctj}_neighbor\"].astype(str)\n"
     ]
    },
    {
     "name": "stdout",
     "output_type": "stream",
     "text": [
      "endothelial cell malignant cell\n"
     ]
    },
    {
     "name": "stderr",
     "output_type": "stream",
     "text": [
      "2025-04-04 16:26:53,137 [WARNING] Duplicated values found in preranked stats: 83.03% of genes\n",
      "The order of those genes will be arbitrary, which may produce unexpected results.\n",
      "2025-04-04 16:26:53,268 [WARNING] Duplicated values found in preranked stats: 83.03% of genes\n",
      "The order of those genes will be arbitrary, which may produce unexpected results.\n",
      "2025-04-04 16:26:53,403 [WARNING] Duplicated values found in preranked stats: 90.16% of genes\n",
      "The order of those genes will be arbitrary, which may produce unexpected results.\n",
      "/tmp/ipykernel_3344069/1521488614.py:208: ImplicitModificationWarning: Trying to modify attribute `.obs` of view, initializing view as actual.\n",
      "  adata_cti.obs[f\"has_{ctj}_neighbor_str\"] = adata_cti.obs[f\"has_{ctj}_neighbor\"].astype(str)\n",
      "2025-04-04 16:26:53,637 [WARNING] Duplicated values found in preranked stats: 99.66% of genes\n",
      "The order of those genes will be arbitrary, which may produce unexpected results.\n"
     ]
    },
    {
     "name": "stdout",
     "output_type": "stream",
     "text": [
      "epithelial cell of lung malignant cell\n"
     ]
    },
    {
     "name": "stderr",
     "output_type": "stream",
     "text": [
      "2025-04-04 16:26:53,752 [WARNING] Duplicated values found in preranked stats: 99.66% of genes\n",
      "The order of those genes will be arbitrary, which may produce unexpected results.\n",
      "2025-04-04 16:26:53,883 [WARNING] Duplicated values found in preranked stats: 99.74% of genes\n",
      "The order of those genes will be arbitrary, which may produce unexpected results.\n",
      "/tmp/ipykernel_3344069/1521488614.py:208: ImplicitModificationWarning: Trying to modify attribute `.obs` of view, initializing view as actual.\n",
      "  adata_cti.obs[f\"has_{ctj}_neighbor_str\"] = adata_cti.obs[f\"has_{ctj}_neighbor\"].astype(str)\n"
     ]
    },
    {
     "name": "stdout",
     "output_type": "stream",
     "text": [
      "granulocyte malignant cell\n"
     ]
    },
    {
     "name": "stderr",
     "output_type": "stream",
     "text": [
      "2025-04-04 16:26:54,333 [WARNING] Duplicated values found in preranked stats: 93.26% of genes\n",
      "The order of those genes will be arbitrary, which may produce unexpected results.\n",
      "2025-04-04 16:26:54,455 [WARNING] Duplicated values found in preranked stats: 93.26% of genes\n",
      "The order of those genes will be arbitrary, which may produce unexpected results.\n",
      "2025-04-04 16:26:54,595 [WARNING] Duplicated values found in preranked stats: 96.12% of genes\n",
      "The order of those genes will be arbitrary, which may produce unexpected results.\n",
      "/tmp/ipykernel_3344069/1521488614.py:208: ImplicitModificationWarning: Trying to modify attribute `.obs` of view, initializing view as actual.\n",
      "  adata_cti.obs[f\"has_{ctj}_neighbor_str\"] = adata_cti.obs[f\"has_{ctj}_neighbor\"].astype(str)\n"
     ]
    },
    {
     "name": "stdout",
     "output_type": "stream",
     "text": [
      "dendritic cell malignant cell\n"
     ]
    },
    {
     "name": "stderr",
     "output_type": "stream",
     "text": [
      "2025-04-04 16:26:54,955 [WARNING] Duplicated values found in preranked stats: 89.02% of genes\n",
      "The order of those genes will be arbitrary, which may produce unexpected results.\n",
      "2025-04-04 16:26:55,092 [WARNING] Duplicated values found in preranked stats: 89.02% of genes\n",
      "The order of those genes will be arbitrary, which may produce unexpected results.\n",
      "2025-04-04 16:26:55,227 [WARNING] Duplicated values found in preranked stats: 93.68% of genes\n",
      "The order of those genes will be arbitrary, which may produce unexpected results.\n",
      "/tmp/ipykernel_3344069/1521488614.py:208: ImplicitModificationWarning: Trying to modify attribute `.obs` of view, initializing view as actual.\n",
      "  adata_cti.obs[f\"has_{ctj}_neighbor_str\"] = adata_cti.obs[f\"has_{ctj}_neighbor\"].astype(str)\n"
     ]
    },
    {
     "name": "stdout",
     "output_type": "stream",
     "text": [
      "fibroblast of lung malignant cell\n"
     ]
    },
    {
     "name": "stderr",
     "output_type": "stream",
     "text": [
      "2025-04-04 16:26:55,873 [WARNING] Duplicated values found in preranked stats: 85.63% of genes\n",
      "The order of those genes will be arbitrary, which may produce unexpected results.\n",
      "2025-04-04 16:26:56,014 [WARNING] Duplicated values found in preranked stats: 85.63% of genes\n",
      "The order of those genes will be arbitrary, which may produce unexpected results.\n",
      "2025-04-04 16:26:56,150 [WARNING] Duplicated values found in preranked stats: 91.28% of genes\n",
      "The order of those genes will be arbitrary, which may produce unexpected results.\n",
      "/tmp/ipykernel_3344069/1521488614.py:208: ImplicitModificationWarning: Trying to modify attribute `.obs` of view, initializing view as actual.\n",
      "  adata_cti.obs[f\"has_{ctj}_neighbor_str\"] = adata_cti.obs[f\"has_{ctj}_neighbor\"].astype(str)\n",
      "2025-04-04 16:26:56,399 [WARNING] Duplicated values found in preranked stats: 96.70% of genes\n",
      "The order of those genes will be arbitrary, which may produce unexpected results.\n"
     ]
    },
    {
     "name": "stdout",
     "output_type": "stream",
     "text": [
      "cycling lymphocyte malignant cell\n"
     ]
    },
    {
     "name": "stderr",
     "output_type": "stream",
     "text": [
      "2025-04-04 16:26:56,534 [WARNING] Duplicated values found in preranked stats: 96.70% of genes\n",
      "The order of those genes will be arbitrary, which may produce unexpected results.\n",
      "2025-04-04 16:26:56,671 [WARNING] Duplicated values found in preranked stats: 98.98% of genes\n",
      "The order of those genes will be arbitrary, which may produce unexpected results.\n",
      "/tmp/ipykernel_3344069/1521488614.py:208: ImplicitModificationWarning: Trying to modify attribute `.obs` of view, initializing view as actual.\n",
      "  adata_cti.obs[f\"has_{ctj}_neighbor_str\"] = adata_cti.obs[f\"has_{ctj}_neighbor\"].astype(str)\n",
      "2025-04-04 16:26:56,904 [WARNING] Duplicated values found in preranked stats: 94.12% of genes\n",
      "The order of those genes will be arbitrary, which may produce unexpected results.\n"
     ]
    },
    {
     "name": "stdout",
     "output_type": "stream",
     "text": [
      "smooth muscle cell malignant cell\n"
     ]
    },
    {
     "name": "stderr",
     "output_type": "stream",
     "text": [
      "2025-04-04 16:26:57,036 [WARNING] Duplicated values found in preranked stats: 94.12% of genes\n",
      "The order of those genes will be arbitrary, which may produce unexpected results.\n",
      "2025-04-04 16:26:57,167 [WARNING] Duplicated values found in preranked stats: 96.82% of genes\n",
      "The order of those genes will be arbitrary, which may produce unexpected results.\n",
      "/tmp/ipykernel_3344069/1521488614.py:208: ImplicitModificationWarning: Trying to modify attribute `.obs` of view, initializing view as actual.\n",
      "  adata_cti.obs[f\"has_{ctj}_neighbor_str\"] = adata_cti.obs[f\"has_{ctj}_neighbor\"].astype(str)\n",
      "2025-04-04 16:26:57,401 [WARNING] Duplicated values found in preranked stats: 98.88% of genes\n",
      "The order of those genes will be arbitrary, which may produce unexpected results.\n"
     ]
    },
    {
     "name": "stdout",
     "output_type": "stream",
     "text": [
      "B cell malignant cell\n"
     ]
    },
    {
     "name": "stderr",
     "output_type": "stream",
     "text": [
      "2025-04-04 16:26:57,537 [WARNING] Duplicated values found in preranked stats: 98.88% of genes\n",
      "The order of those genes will be arbitrary, which may produce unexpected results.\n",
      "2025-04-04 16:26:57,672 [WARNING] Duplicated values found in preranked stats: 99.20% of genes\n",
      "The order of those genes will be arbitrary, which may produce unexpected results.\n",
      "/tmp/ipykernel_3344069/1521488614.py:208: ImplicitModificationWarning: Trying to modify attribute `.obs` of view, initializing view as actual.\n",
      "  adata_cti.obs[f\"has_{ctj}_neighbor_str\"] = adata_cti.obs[f\"has_{ctj}_neighbor\"].astype(str)\n",
      "2025-04-04 16:26:57,835 [WARNING] Duplicated values found in preranked stats: 98.60% of genes\n",
      "The order of those genes will be arbitrary, which may produce unexpected results.\n",
      "2025-04-04 16:26:57,974 [WARNING] Duplicated values found in preranked stats: 98.60% of genes\n",
      "The order of those genes will be arbitrary, which may produce unexpected results.\n"
     ]
    },
    {
     "name": "stdout",
     "output_type": "stream",
     "text": [
      "plasma cell malignant cell\n"
     ]
    },
    {
     "name": "stderr",
     "output_type": "stream",
     "text": [
      "2025-04-04 16:26:58,108 [WARNING] Duplicated values found in preranked stats: 99.20% of genes\n",
      "The order of those genes will be arbitrary, which may produce unexpected results.\n",
      "/tmp/ipykernel_3344069/1521488614.py:208: ImplicitModificationWarning: Trying to modify attribute `.obs` of view, initializing view as actual.\n",
      "  adata_cti.obs[f\"has_{ctj}_neighbor_str\"] = adata_cti.obs[f\"has_{ctj}_neighbor\"].astype(str)\n",
      "2025-04-04 16:26:58,284 [WARNING] Duplicated values found in preranked stats: 98.50% of genes\n",
      "The order of those genes will be arbitrary, which may produce unexpected results.\n",
      "2025-04-04 16:26:58,419 [WARNING] Duplicated values found in preranked stats: 98.50% of genes\n",
      "The order of those genes will be arbitrary, which may produce unexpected results.\n"
     ]
    },
    {
     "name": "stdout",
     "output_type": "stream",
     "text": [
      "mast cell malignant cell\n"
     ]
    },
    {
     "name": "stderr",
     "output_type": "stream",
     "text": [
      "2025-04-04 16:26:58,554 [WARNING] Duplicated values found in preranked stats: 99.28% of genes\n",
      "The order of those genes will be arbitrary, which may produce unexpected results.\n",
      "/tmp/ipykernel_3344069/1521488614.py:208: ImplicitModificationWarning: Trying to modify attribute `.obs` of view, initializing view as actual.\n",
      "  adata_cti.obs[f\"has_{ctj}_neighbor_str\"] = adata_cti.obs[f\"has_{ctj}_neighbor\"].astype(str)\n",
      "2025-04-04 16:26:58,800 [WARNING] Duplicated values found in preranked stats: 90.06% of genes\n",
      "The order of those genes will be arbitrary, which may produce unexpected results.\n"
     ]
    },
    {
     "name": "stdout",
     "output_type": "stream",
     "text": [
      "pericyte malignant cell\n"
     ]
    },
    {
     "name": "stderr",
     "output_type": "stream",
     "text": [
      "2025-04-04 16:26:58,932 [WARNING] Duplicated values found in preranked stats: 90.06% of genes\n",
      "The order of those genes will be arbitrary, which may produce unexpected results.\n",
      "2025-04-04 16:26:59,068 [WARNING] Duplicated values found in preranked stats: 94.38% of genes\n",
      "The order of those genes will be arbitrary, which may produce unexpected results.\n"
     ]
    },
    {
     "name": "stdout",
     "output_type": "stream",
     "text": [
      "macrophage mast cell\n"
     ]
    },
    {
     "name": "stderr",
     "output_type": "stream",
     "text": [
      "/tmp/ipykernel_3344069/1521488614.py:208: ImplicitModificationWarning: Trying to modify attribute `.obs` of view, initializing view as actual.\n",
      "  adata_cti.obs[f\"has_{ctj}_neighbor_str\"] = adata_cti.obs[f\"has_{ctj}_neighbor\"].astype(str)\n",
      "2025-04-04 16:27:02,943 [WARNING] Duplicated values found in preranked stats: 72.19% of genes\n",
      "The order of those genes will be arbitrary, which may produce unexpected results.\n",
      "2025-04-04 16:27:03,086 [WARNING] Duplicated values found in preranked stats: 72.19% of genes\n",
      "The order of those genes will be arbitrary, which may produce unexpected results.\n",
      "2025-04-04 16:27:03,221 [WARNING] Duplicated values found in preranked stats: 85.05% of genes\n",
      "The order of those genes will be arbitrary, which may produce unexpected results.\n",
      "/tmp/ipykernel_3344069/1521488614.py:208: ImplicitModificationWarning: Trying to modify attribute `.obs` of view, initializing view as actual.\n",
      "  adata_cti.obs[f\"has_{ctj}_neighbor_str\"] = adata_cti.obs[f\"has_{ctj}_neighbor\"].astype(str)\n",
      "2025-04-04 16:27:03,544 [WARNING] Duplicated values found in preranked stats: 91.84% of genes\n",
      "The order of those genes will be arbitrary, which may produce unexpected results.\n"
     ]
    },
    {
     "name": "stdout",
     "output_type": "stream",
     "text": [
      "monocyte mast cell\n"
     ]
    },
    {
     "name": "stderr",
     "output_type": "stream",
     "text": [
      "2025-04-04 16:27:03,677 [WARNING] Duplicated values found in preranked stats: 91.84% of genes\n",
      "The order of those genes will be arbitrary, which may produce unexpected results.\n",
      "2025-04-04 16:27:03,817 [WARNING] Duplicated values found in preranked stats: 94.82% of genes\n",
      "The order of those genes will be arbitrary, which may produce unexpected results.\n",
      "/tmp/ipykernel_3344069/1521488614.py:208: ImplicitModificationWarning: Trying to modify attribute `.obs` of view, initializing view as actual.\n",
      "  adata_cti.obs[f\"has_{ctj}_neighbor_str\"] = adata_cti.obs[f\"has_{ctj}_neighbor\"].astype(str)\n"
     ]
    },
    {
     "name": "stdout",
     "output_type": "stream",
     "text": [
      "T cell mast cell\n"
     ]
    },
    {
     "name": "stderr",
     "output_type": "stream",
     "text": [
      "2025-04-04 16:27:04,247 [WARNING] Duplicated values found in preranked stats: 95.12% of genes\n",
      "The order of those genes will be arbitrary, which may produce unexpected results.\n",
      "2025-04-04 16:27:04,389 [WARNING] Duplicated values found in preranked stats: 95.10% of genes\n",
      "The order of those genes will be arbitrary, which may produce unexpected results.\n",
      "2025-04-04 16:27:04,525 [WARNING] Duplicated values found in preranked stats: 97.46% of genes\n",
      "The order of those genes will be arbitrary, which may produce unexpected results.\n",
      "/tmp/ipykernel_3344069/1521488614.py:208: ImplicitModificationWarning: Trying to modify attribute `.obs` of view, initializing view as actual.\n",
      "  adata_cti.obs[f\"has_{ctj}_neighbor_str\"] = adata_cti.obs[f\"has_{ctj}_neighbor\"].astype(str)\n",
      "2025-04-04 16:27:04,717 [WARNING] Duplicated values found in preranked stats: 98.28% of genes\n",
      "The order of those genes will be arbitrary, which may produce unexpected results.\n",
      "2025-04-04 16:27:04,849 [WARNING] Duplicated values found in preranked stats: 98.28% of genes\n",
      "The order of those genes will be arbitrary, which may produce unexpected results.\n"
     ]
    },
    {
     "name": "stdout",
     "output_type": "stream",
     "text": [
      "natural killer cell mast cell\n"
     ]
    },
    {
     "name": "stderr",
     "output_type": "stream",
     "text": [
      "2025-04-04 16:27:04,984 [WARNING] Duplicated values found in preranked stats: 99.22% of genes\n",
      "The order of those genes will be arbitrary, which may produce unexpected results.\n",
      "/tmp/ipykernel_3344069/1521488614.py:208: ImplicitModificationWarning: Trying to modify attribute `.obs` of view, initializing view as actual.\n",
      "  adata_cti.obs[f\"has_{ctj}_neighbor_str\"] = adata_cti.obs[f\"has_{ctj}_neighbor\"].astype(str)\n"
     ]
    },
    {
     "name": "stdout",
     "output_type": "stream",
     "text": [
      "endothelial cell mast cell\n"
     ]
    },
    {
     "name": "stderr",
     "output_type": "stream",
     "text": [
      "2025-04-04 16:27:05,398 [WARNING] Duplicated values found in preranked stats: 83.03% of genes\n",
      "The order of those genes will be arbitrary, which may produce unexpected results.\n",
      "2025-04-04 16:27:05,524 [WARNING] Duplicated values found in preranked stats: 83.03% of genes\n",
      "The order of those genes will be arbitrary, which may produce unexpected results.\n",
      "2025-04-04 16:27:05,660 [WARNING] Duplicated values found in preranked stats: 91.78% of genes\n",
      "The order of those genes will be arbitrary, which may produce unexpected results.\n",
      "/tmp/ipykernel_3344069/1521488614.py:208: ImplicitModificationWarning: Trying to modify attribute `.obs` of view, initializing view as actual.\n",
      "  adata_cti.obs[f\"has_{ctj}_neighbor_str\"] = adata_cti.obs[f\"has_{ctj}_neighbor\"].astype(str)\n",
      "2025-04-04 16:27:05,887 [WARNING] Duplicated values found in preranked stats: 99.66% of genes\n",
      "The order of those genes will be arbitrary, which may produce unexpected results.\n"
     ]
    },
    {
     "name": "stdout",
     "output_type": "stream",
     "text": [
      "epithelial cell of lung mast cell\n"
     ]
    },
    {
     "name": "stderr",
     "output_type": "stream",
     "text": [
      "2025-04-04 16:27:06,000 [WARNING] Duplicated values found in preranked stats: 99.66% of genes\n",
      "The order of those genes will be arbitrary, which may produce unexpected results.\n",
      "2025-04-04 16:27:06,134 [WARNING] Duplicated values found in preranked stats: 99.78% of genes\n",
      "The order of those genes will be arbitrary, which may produce unexpected results.\n",
      "/tmp/ipykernel_3344069/1521488614.py:208: ImplicitModificationWarning: Trying to modify attribute `.obs` of view, initializing view as actual.\n",
      "  adata_cti.obs[f\"has_{ctj}_neighbor_str\"] = adata_cti.obs[f\"has_{ctj}_neighbor\"].astype(str)\n"
     ]
    },
    {
     "name": "stdout",
     "output_type": "stream",
     "text": [
      "granulocyte mast cell\n"
     ]
    },
    {
     "name": "stderr",
     "output_type": "stream",
     "text": [
      "2025-04-04 16:27:06,584 [WARNING] Duplicated values found in preranked stats: 93.26% of genes\n",
      "The order of those genes will be arbitrary, which may produce unexpected results.\n",
      "2025-04-04 16:27:06,708 [WARNING] Duplicated values found in preranked stats: 93.26% of genes\n",
      "The order of those genes will be arbitrary, which may produce unexpected results.\n",
      "2025-04-04 16:27:06,841 [WARNING] Duplicated values found in preranked stats: 96.60% of genes\n",
      "The order of those genes will be arbitrary, which may produce unexpected results.\n",
      "/tmp/ipykernel_3344069/1521488614.py:208: ImplicitModificationWarning: Trying to modify attribute `.obs` of view, initializing view as actual.\n",
      "  adata_cti.obs[f\"has_{ctj}_neighbor_str\"] = adata_cti.obs[f\"has_{ctj}_neighbor\"].astype(str)\n"
     ]
    },
    {
     "name": "stdout",
     "output_type": "stream",
     "text": [
      "dendritic cell mast cell\n"
     ]
    },
    {
     "name": "stderr",
     "output_type": "stream",
     "text": [
      "2025-04-04 16:27:07,207 [WARNING] Duplicated values found in preranked stats: 89.06% of genes\n",
      "The order of those genes will be arbitrary, which may produce unexpected results.\n",
      "2025-04-04 16:27:07,344 [WARNING] Duplicated values found in preranked stats: 89.06% of genes\n",
      "The order of those genes will be arbitrary, which may produce unexpected results.\n",
      "2025-04-04 16:27:07,478 [WARNING] Duplicated values found in preranked stats: 95.30% of genes\n",
      "The order of those genes will be arbitrary, which may produce unexpected results.\n",
      "/tmp/ipykernel_3344069/1521488614.py:208: ImplicitModificationWarning: Trying to modify attribute `.obs` of view, initializing view as actual.\n",
      "  adata_cti.obs[f\"has_{ctj}_neighbor_str\"] = adata_cti.obs[f\"has_{ctj}_neighbor\"].astype(str)\n"
     ]
    },
    {
     "name": "stdout",
     "output_type": "stream",
     "text": [
      "fibroblast of lung mast cell\n"
     ]
    },
    {
     "name": "stderr",
     "output_type": "stream",
     "text": [
      "2025-04-04 16:27:08,113 [WARNING] Duplicated values found in preranked stats: 85.61% of genes\n",
      "The order of those genes will be arbitrary, which may produce unexpected results.\n",
      "2025-04-04 16:27:08,257 [WARNING] Duplicated values found in preranked stats: 85.61% of genes\n",
      "The order of those genes will be arbitrary, which may produce unexpected results.\n",
      "2025-04-04 16:27:08,391 [WARNING] Duplicated values found in preranked stats: 91.66% of genes\n",
      "The order of those genes will be arbitrary, which may produce unexpected results.\n",
      "/tmp/ipykernel_3344069/1521488614.py:208: ImplicitModificationWarning: Trying to modify attribute `.obs` of view, initializing view as actual.\n",
      "  adata_cti.obs[f\"has_{ctj}_neighbor_str\"] = adata_cti.obs[f\"has_{ctj}_neighbor\"].astype(str)\n",
      "2025-04-04 16:27:08,644 [WARNING] Duplicated values found in preranked stats: 96.70% of genes\n",
      "The order of those genes will be arbitrary, which may produce unexpected results.\n"
     ]
    },
    {
     "name": "stdout",
     "output_type": "stream",
     "text": [
      "cycling lymphocyte mast cell\n"
     ]
    },
    {
     "name": "stderr",
     "output_type": "stream",
     "text": [
      "2025-04-04 16:27:08,775 [WARNING] Duplicated values found in preranked stats: 96.70% of genes\n",
      "The order of those genes will be arbitrary, which may produce unexpected results.\n",
      "2025-04-04 16:27:08,910 [WARNING] Duplicated values found in preranked stats: 99.22% of genes\n",
      "The order of those genes will be arbitrary, which may produce unexpected results.\n",
      "/tmp/ipykernel_3344069/1521488614.py:208: ImplicitModificationWarning: Trying to modify attribute `.obs` of view, initializing view as actual.\n",
      "  adata_cti.obs[f\"has_{ctj}_neighbor_str\"] = adata_cti.obs[f\"has_{ctj}_neighbor\"].astype(str)\n",
      "2025-04-04 16:27:09,138 [WARNING] Duplicated values found in preranked stats: 94.12% of genes\n",
      "The order of those genes will be arbitrary, which may produce unexpected results.\n"
     ]
    },
    {
     "name": "stdout",
     "output_type": "stream",
     "text": [
      "smooth muscle cell mast cell\n"
     ]
    },
    {
     "name": "stderr",
     "output_type": "stream",
     "text": [
      "2025-04-04 16:27:09,271 [WARNING] Duplicated values found in preranked stats: 94.12% of genes\n",
      "The order of those genes will be arbitrary, which may produce unexpected results.\n",
      "2025-04-04 16:27:09,405 [WARNING] Duplicated values found in preranked stats: 97.36% of genes\n",
      "The order of those genes will be arbitrary, which may produce unexpected results.\n",
      "/tmp/ipykernel_3344069/1521488614.py:208: ImplicitModificationWarning: Trying to modify attribute `.obs` of view, initializing view as actual.\n",
      "  adata_cti.obs[f\"has_{ctj}_neighbor_str\"] = adata_cti.obs[f\"has_{ctj}_neighbor\"].astype(str)\n",
      "2025-04-04 16:27:09,637 [WARNING] Duplicated values found in preranked stats: 98.88% of genes\n",
      "The order of those genes will be arbitrary, which may produce unexpected results.\n"
     ]
    },
    {
     "name": "stdout",
     "output_type": "stream",
     "text": [
      "B cell mast cell\n"
     ]
    },
    {
     "name": "stderr",
     "output_type": "stream",
     "text": [
      "2025-04-04 16:27:09,761 [WARNING] Duplicated values found in preranked stats: 98.88% of genes\n",
      "The order of those genes will be arbitrary, which may produce unexpected results.\n",
      "2025-04-04 16:27:09,893 [WARNING] Duplicated values found in preranked stats: 99.28% of genes\n",
      "The order of those genes will be arbitrary, which may produce unexpected results.\n",
      "/tmp/ipykernel_3344069/1521488614.py:208: ImplicitModificationWarning: Trying to modify attribute `.obs` of view, initializing view as actual.\n",
      "  adata_cti.obs[f\"has_{ctj}_neighbor_str\"] = adata_cti.obs[f\"has_{ctj}_neighbor\"].astype(str)\n"
     ]
    },
    {
     "name": "stdout",
     "output_type": "stream",
     "text": [
      "plasma cell mast cell\n",
      "Not enough cells from each class to test plasma cell with mast cell neighbors\n",
      "malignant cell mast cell\n"
     ]
    },
    {
     "name": "stderr",
     "output_type": "stream",
     "text": [
      "2025-04-04 16:27:10,236 [WARNING] Duplicated values found in preranked stats: 99.14% of genes\n",
      "The order of those genes will be arbitrary, which may produce unexpected results.\n",
      "2025-04-04 16:27:10,373 [WARNING] Duplicated values found in preranked stats: 99.14% of genes\n",
      "The order of those genes will be arbitrary, which may produce unexpected results.\n",
      "2025-04-04 16:27:10,507 [WARNING] Duplicated values found in preranked stats: 99.54% of genes\n",
      "The order of those genes will be arbitrary, which may produce unexpected results.\n",
      "/tmp/ipykernel_3344069/1521488614.py:208: ImplicitModificationWarning: Trying to modify attribute `.obs` of view, initializing view as actual.\n",
      "  adata_cti.obs[f\"has_{ctj}_neighbor_str\"] = adata_cti.obs[f\"has_{ctj}_neighbor\"].astype(str)\n",
      "2025-04-04 16:27:10,751 [WARNING] Duplicated values found in preranked stats: 90.06% of genes\n",
      "The order of those genes will be arbitrary, which may produce unexpected results.\n"
     ]
    },
    {
     "name": "stdout",
     "output_type": "stream",
     "text": [
      "pericyte mast cell\n"
     ]
    },
    {
     "name": "stderr",
     "output_type": "stream",
     "text": [
      "2025-04-04 16:27:10,878 [WARNING] Duplicated values found in preranked stats: 90.06% of genes\n",
      "The order of those genes will be arbitrary, which may produce unexpected results.\n",
      "2025-04-04 16:27:11,011 [WARNING] Duplicated values found in preranked stats: 95.02% of genes\n",
      "The order of those genes will be arbitrary, which may produce unexpected results.\n"
     ]
    },
    {
     "name": "stdout",
     "output_type": "stream",
     "text": [
      "macrophage pericyte\n"
     ]
    },
    {
     "name": "stderr",
     "output_type": "stream",
     "text": [
      "/tmp/ipykernel_3344069/1521488614.py:208: ImplicitModificationWarning: Trying to modify attribute `.obs` of view, initializing view as actual.\n",
      "  adata_cti.obs[f\"has_{ctj}_neighbor_str\"] = adata_cti.obs[f\"has_{ctj}_neighbor\"].astype(str)\n",
      "2025-04-04 16:27:14,861 [WARNING] Duplicated values found in preranked stats: 72.19% of genes\n",
      "The order of those genes will be arbitrary, which may produce unexpected results.\n",
      "2025-04-04 16:27:14,995 [WARNING] Duplicated values found in preranked stats: 72.19% of genes\n",
      "The order of those genes will be arbitrary, which may produce unexpected results.\n",
      "2025-04-04 16:27:15,129 [WARNING] Duplicated values found in preranked stats: 84.29% of genes\n",
      "The order of those genes will be arbitrary, which may produce unexpected results.\n",
      "/tmp/ipykernel_3344069/1521488614.py:208: ImplicitModificationWarning: Trying to modify attribute `.obs` of view, initializing view as actual.\n",
      "  adata_cti.obs[f\"has_{ctj}_neighbor_str\"] = adata_cti.obs[f\"has_{ctj}_neighbor\"].astype(str)\n",
      "2025-04-04 16:27:15,451 [WARNING] Duplicated values found in preranked stats: 91.80% of genes\n",
      "The order of those genes will be arbitrary, which may produce unexpected results.\n"
     ]
    },
    {
     "name": "stdout",
     "output_type": "stream",
     "text": [
      "monocyte pericyte\n"
     ]
    },
    {
     "name": "stderr",
     "output_type": "stream",
     "text": [
      "2025-04-04 16:27:15,585 [WARNING] Duplicated values found in preranked stats: 91.80% of genes\n",
      "The order of those genes will be arbitrary, which may produce unexpected results.\n",
      "2025-04-04 16:27:15,718 [WARNING] Duplicated values found in preranked stats: 94.96% of genes\n",
      "The order of those genes will be arbitrary, which may produce unexpected results.\n",
      "/tmp/ipykernel_3344069/1521488614.py:208: ImplicitModificationWarning: Trying to modify attribute `.obs` of view, initializing view as actual.\n",
      "  adata_cti.obs[f\"has_{ctj}_neighbor_str\"] = adata_cti.obs[f\"has_{ctj}_neighbor\"].astype(str)\n"
     ]
    },
    {
     "name": "stdout",
     "output_type": "stream",
     "text": [
      "T cell pericyte\n"
     ]
    },
    {
     "name": "stderr",
     "output_type": "stream",
     "text": [
      "2025-04-04 16:27:16,147 [WARNING] Duplicated values found in preranked stats: 95.08% of genes\n",
      "The order of those genes will be arbitrary, which may produce unexpected results.\n",
      "2025-04-04 16:27:16,259 [WARNING] Duplicated values found in preranked stats: 95.06% of genes\n",
      "The order of those genes will be arbitrary, which may produce unexpected results.\n",
      "2025-04-04 16:27:16,391 [WARNING] Duplicated values found in preranked stats: 97.14% of genes\n",
      "The order of those genes will be arbitrary, which may produce unexpected results.\n",
      "/tmp/ipykernel_3344069/1521488614.py:208: ImplicitModificationWarning: Trying to modify attribute `.obs` of view, initializing view as actual.\n",
      "  adata_cti.obs[f\"has_{ctj}_neighbor_str\"] = adata_cti.obs[f\"has_{ctj}_neighbor\"].astype(str)\n",
      "2025-04-04 16:27:16,580 [WARNING] Duplicated values found in preranked stats: 98.22% of genes\n",
      "The order of those genes will be arbitrary, which may produce unexpected results.\n",
      "2025-04-04 16:27:16,707 [WARNING] Duplicated values found in preranked stats: 98.22% of genes\n",
      "The order of those genes will be arbitrary, which may produce unexpected results.\n"
     ]
    },
    {
     "name": "stdout",
     "output_type": "stream",
     "text": [
      "natural killer cell pericyte\n"
     ]
    },
    {
     "name": "stderr",
     "output_type": "stream",
     "text": [
      "2025-04-04 16:27:16,841 [WARNING] Duplicated values found in preranked stats: 98.76% of genes\n",
      "The order of those genes will be arbitrary, which may produce unexpected results.\n",
      "/tmp/ipykernel_3344069/1521488614.py:208: ImplicitModificationWarning: Trying to modify attribute `.obs` of view, initializing view as actual.\n",
      "  adata_cti.obs[f\"has_{ctj}_neighbor_str\"] = adata_cti.obs[f\"has_{ctj}_neighbor\"].astype(str)\n"
     ]
    },
    {
     "name": "stdout",
     "output_type": "stream",
     "text": [
      "endothelial cell pericyte\n"
     ]
    },
    {
     "name": "stderr",
     "output_type": "stream",
     "text": [
      "2025-04-04 16:27:17,267 [WARNING] Duplicated values found in preranked stats: 83.01% of genes\n",
      "The order of those genes will be arbitrary, which may produce unexpected results.\n",
      "2025-04-04 16:27:17,395 [WARNING] Duplicated values found in preranked stats: 83.01% of genes\n",
      "The order of those genes will be arbitrary, which may produce unexpected results.\n",
      "2025-04-04 16:27:17,531 [WARNING] Duplicated values found in preranked stats: 87.86% of genes\n",
      "The order of those genes will be arbitrary, which may produce unexpected results.\n",
      "/tmp/ipykernel_3344069/1521488614.py:208: ImplicitModificationWarning: Trying to modify attribute `.obs` of view, initializing view as actual.\n",
      "  adata_cti.obs[f\"has_{ctj}_neighbor_str\"] = adata_cti.obs[f\"has_{ctj}_neighbor\"].astype(str)\n",
      "2025-04-04 16:27:17,754 [WARNING] Duplicated values found in preranked stats: 99.66% of genes\n",
      "The order of those genes will be arbitrary, which may produce unexpected results.\n"
     ]
    },
    {
     "name": "stdout",
     "output_type": "stream",
     "text": [
      "epithelial cell of lung pericyte\n"
     ]
    },
    {
     "name": "stderr",
     "output_type": "stream",
     "text": [
      "2025-04-04 16:27:17,868 [WARNING] Duplicated values found in preranked stats: 99.66% of genes\n",
      "The order of those genes will be arbitrary, which may produce unexpected results.\n",
      "2025-04-04 16:27:18,002 [WARNING] Duplicated values found in preranked stats: 99.78% of genes\n",
      "The order of those genes will be arbitrary, which may produce unexpected results.\n",
      "/tmp/ipykernel_3344069/1521488614.py:208: ImplicitModificationWarning: Trying to modify attribute `.obs` of view, initializing view as actual.\n",
      "  adata_cti.obs[f\"has_{ctj}_neighbor_str\"] = adata_cti.obs[f\"has_{ctj}_neighbor\"].astype(str)\n"
     ]
    },
    {
     "name": "stdout",
     "output_type": "stream",
     "text": [
      "granulocyte pericyte\n"
     ]
    },
    {
     "name": "stderr",
     "output_type": "stream",
     "text": [
      "2025-04-04 16:27:18,438 [WARNING] Duplicated values found in preranked stats: 93.26% of genes\n",
      "The order of those genes will be arbitrary, which may produce unexpected results.\n",
      "2025-04-04 16:27:18,562 [WARNING] Duplicated values found in preranked stats: 93.26% of genes\n",
      "The order of those genes will be arbitrary, which may produce unexpected results.\n",
      "2025-04-04 16:27:18,695 [WARNING] Duplicated values found in preranked stats: 95.84% of genes\n",
      "The order of those genes will be arbitrary, which may produce unexpected results.\n",
      "/tmp/ipykernel_3344069/1521488614.py:208: ImplicitModificationWarning: Trying to modify attribute `.obs` of view, initializing view as actual.\n",
      "  adata_cti.obs[f\"has_{ctj}_neighbor_str\"] = adata_cti.obs[f\"has_{ctj}_neighbor\"].astype(str)\n"
     ]
    },
    {
     "name": "stdout",
     "output_type": "stream",
     "text": [
      "dendritic cell pericyte\n"
     ]
    },
    {
     "name": "stderr",
     "output_type": "stream",
     "text": [
      "2025-04-04 16:27:19,048 [WARNING] Duplicated values found in preranked stats: 89.06% of genes\n",
      "The order of those genes will be arbitrary, which may produce unexpected results.\n",
      "2025-04-04 16:27:19,184 [WARNING] Duplicated values found in preranked stats: 89.06% of genes\n",
      "The order of those genes will be arbitrary, which may produce unexpected results.\n",
      "2025-04-04 16:27:19,318 [WARNING] Duplicated values found in preranked stats: 93.06% of genes\n",
      "The order of those genes will be arbitrary, which may produce unexpected results.\n",
      "/tmp/ipykernel_3344069/1521488614.py:208: ImplicitModificationWarning: Trying to modify attribute `.obs` of view, initializing view as actual.\n",
      "  adata_cti.obs[f\"has_{ctj}_neighbor_str\"] = adata_cti.obs[f\"has_{ctj}_neighbor\"].astype(str)\n"
     ]
    },
    {
     "name": "stdout",
     "output_type": "stream",
     "text": [
      "fibroblast of lung pericyte\n"
     ]
    },
    {
     "name": "stderr",
     "output_type": "stream",
     "text": [
      "2025-04-04 16:27:19,936 [WARNING] Duplicated values found in preranked stats: 85.63% of genes\n",
      "The order of those genes will be arbitrary, which may produce unexpected results.\n",
      "2025-04-04 16:27:20,051 [WARNING] Duplicated values found in preranked stats: 85.63% of genes\n",
      "The order of those genes will be arbitrary, which may produce unexpected results.\n",
      "2025-04-04 16:27:20,185 [WARNING] Duplicated values found in preranked stats: 90.36% of genes\n",
      "The order of those genes will be arbitrary, which may produce unexpected results.\n",
      "/tmp/ipykernel_3344069/1521488614.py:208: ImplicitModificationWarning: Trying to modify attribute `.obs` of view, initializing view as actual.\n",
      "  adata_cti.obs[f\"has_{ctj}_neighbor_str\"] = adata_cti.obs[f\"has_{ctj}_neighbor\"].astype(str)\n",
      "2025-04-04 16:27:20,432 [WARNING] Duplicated values found in preranked stats: 96.70% of genes\n",
      "The order of those genes will be arbitrary, which may produce unexpected results.\n"
     ]
    },
    {
     "name": "stdout",
     "output_type": "stream",
     "text": [
      "cycling lymphocyte pericyte\n"
     ]
    },
    {
     "name": "stderr",
     "output_type": "stream",
     "text": [
      "2025-04-04 16:27:20,560 [WARNING] Duplicated values found in preranked stats: 96.70% of genes\n",
      "The order of those genes will be arbitrary, which may produce unexpected results.\n",
      "2025-04-04 16:27:20,695 [WARNING] Duplicated values found in preranked stats: 98.34% of genes\n",
      "The order of those genes will be arbitrary, which may produce unexpected results.\n",
      "/tmp/ipykernel_3344069/1521488614.py:208: ImplicitModificationWarning: Trying to modify attribute `.obs` of view, initializing view as actual.\n",
      "  adata_cti.obs[f\"has_{ctj}_neighbor_str\"] = adata_cti.obs[f\"has_{ctj}_neighbor\"].astype(str)\n",
      "2025-04-04 16:27:20,924 [WARNING] Duplicated values found in preranked stats: 94.12% of genes\n",
      "The order of those genes will be arbitrary, which may produce unexpected results.\n"
     ]
    },
    {
     "name": "stdout",
     "output_type": "stream",
     "text": [
      "smooth muscle cell pericyte\n"
     ]
    },
    {
     "name": "stderr",
     "output_type": "stream",
     "text": [
      "2025-04-04 16:27:21,043 [WARNING] Duplicated values found in preranked stats: 94.12% of genes\n",
      "The order of those genes will be arbitrary, which may produce unexpected results.\n",
      "2025-04-04 16:27:21,147 [WARNING] Duplicated values found in preranked stats: 96.38% of genes\n",
      "The order of those genes will be arbitrary, which may produce unexpected results.\n",
      "/tmp/ipykernel_3344069/1521488614.py:208: ImplicitModificationWarning: Trying to modify attribute `.obs` of view, initializing view as actual.\n",
      "  adata_cti.obs[f\"has_{ctj}_neighbor_str\"] = adata_cti.obs[f\"has_{ctj}_neighbor\"].astype(str)\n",
      "2025-04-04 16:27:21,360 [WARNING] Duplicated values found in preranked stats: 98.88% of genes\n",
      "The order of those genes will be arbitrary, which may produce unexpected results.\n"
     ]
    },
    {
     "name": "stdout",
     "output_type": "stream",
     "text": [
      "B cell pericyte\n"
     ]
    },
    {
     "name": "stderr",
     "output_type": "stream",
     "text": [
      "2025-04-04 16:27:21,489 [WARNING] Duplicated values found in preranked stats: 98.88% of genes\n",
      "The order of those genes will be arbitrary, which may produce unexpected results.\n",
      "2025-04-04 16:27:21,623 [WARNING] Duplicated values found in preranked stats: 99.12% of genes\n",
      "The order of those genes will be arbitrary, which may produce unexpected results.\n",
      "/tmp/ipykernel_3344069/1521488614.py:208: ImplicitModificationWarning: Trying to modify attribute `.obs` of view, initializing view as actual.\n",
      "  adata_cti.obs[f\"has_{ctj}_neighbor_str\"] = adata_cti.obs[f\"has_{ctj}_neighbor\"].astype(str)\n",
      "2025-04-04 16:27:21,789 [WARNING] Duplicated values found in preranked stats: 98.60% of genes\n",
      "The order of those genes will be arbitrary, which may produce unexpected results.\n",
      "2025-04-04 16:27:21,927 [WARNING] Duplicated values found in preranked stats: 98.60% of genes\n",
      "The order of those genes will be arbitrary, which may produce unexpected results.\n"
     ]
    },
    {
     "name": "stdout",
     "output_type": "stream",
     "text": [
      "plasma cell pericyte\n"
     ]
    },
    {
     "name": "stderr",
     "output_type": "stream",
     "text": [
      "2025-04-04 16:27:22,062 [WARNING] Duplicated values found in preranked stats: 99.06% of genes\n",
      "The order of those genes will be arbitrary, which may produce unexpected results.\n",
      "/tmp/ipykernel_3344069/1521488614.py:208: ImplicitModificationWarning: Trying to modify attribute `.obs` of view, initializing view as actual.\n",
      "  adata_cti.obs[f\"has_{ctj}_neighbor_str\"] = adata_cti.obs[f\"has_{ctj}_neighbor\"].astype(str)\n"
     ]
    },
    {
     "name": "stdout",
     "output_type": "stream",
     "text": [
      "malignant cell pericyte\n"
     ]
    },
    {
     "name": "stderr",
     "output_type": "stream",
     "text": [
      "2025-04-04 16:27:22,400 [WARNING] Duplicated values found in preranked stats: 99.18% of genes\n",
      "The order of those genes will be arbitrary, which may produce unexpected results.\n",
      "2025-04-04 16:27:22,534 [WARNING] Duplicated values found in preranked stats: 99.18% of genes\n",
      "The order of those genes will be arbitrary, which may produce unexpected results.\n",
      "2025-04-04 16:27:22,668 [WARNING] Duplicated values found in preranked stats: 99.56% of genes\n",
      "The order of those genes will be arbitrary, which may produce unexpected results.\n",
      "/tmp/ipykernel_3344069/1521488614.py:208: ImplicitModificationWarning: Trying to modify attribute `.obs` of view, initializing view as actual.\n",
      "  adata_cti.obs[f\"has_{ctj}_neighbor_str\"] = adata_cti.obs[f\"has_{ctj}_neighbor\"].astype(str)\n",
      "2025-04-04 16:27:22,847 [WARNING] Duplicated values found in preranked stats: 98.50% of genes\n",
      "The order of those genes will be arbitrary, which may produce unexpected results.\n",
      "2025-04-04 16:27:22,982 [WARNING] Duplicated values found in preranked stats: 98.50% of genes\n",
      "The order of those genes will be arbitrary, which may produce unexpected results.\n"
     ]
    },
    {
     "name": "stdout",
     "output_type": "stream",
     "text": [
      "mast cell pericyte\n"
     ]
    },
    {
     "name": "stderr",
     "output_type": "stream",
     "text": [
      "2025-04-04 16:27:23,116 [WARNING] Duplicated values found in preranked stats: 99.00% of genes\n",
      "The order of those genes will be arbitrary, which may produce unexpected results.\n"
     ]
    }
   ],
   "source": [
    "segmentation = '10x_mm_5um'\n",
    "condition = 'NSCLC'\n",
    "panel = '5k'\n",
    "donor = '1GQ9'\n",
    "sample = '1GQ9'\n",
    "normalisation = 'lognorm'\n",
    "layer = 'data'\n",
    "reference = 'matched_reference_combo'\n",
    "method = 'rctd_class_aware'\n",
    "level = 'Level2.1'\n",
    "\n",
    "k = (segmentation,condition,panel,donor,sample)\n",
    "if 'proseg' in segmentation:\n",
    "    k_dir = ('proseg',condition,panel,donor,sample)\n",
    "else:\n",
    "    k_dir = k\n",
    "name = '/'.join(k)\n",
    "name_dir = '/'.join(k_dir)\n",
    "sample_corrected_counts_path = Path(f\"../../../results/resolvi_supervised/{name}/lognorm/reference_based/matched_reference_combo/rctd_class_aware/Level2.1/mixture_k=50/num_samples=30/corrected_counts.h5\")\n",
    "sample_dir = Path(f'../../../data/xenium/processed/segmentation/{name_dir}') / 'normalised_results/outs' #'raw_results'\n",
    "sample_counts = Path(f'../../../data/xenium/processed/std_seurat_analysis/{name}/lognorm/normalised_counts/data.parquet')\n",
    "sample_idx = Path(f'../../../data/xenium/processed/std_seurat_analysis/{name}/lognorm/normalised_counts/cells.parquet')\n",
    "sample_annotation = Path(f'../../../data/xenium/_backups/_processed_problematic_matched_combo/cell_type_annotation/{name}/lognorm/reference_based/matched_reference_combo/rctd_class_aware/{level}/single_cell/labels.parquet')\n",
    "# ctj_markers_file = Path(f'../../../results/contamination_metrics_diffexpr/{name}/lognorm/{layer}_{reference}_{method}_{level}_marker_genes.parquet')\n",
    "ctj_markers_file = None\n",
    "# precomputed_adata_obs = adata.obs.copy()\n",
    "precomputed_adata_obs = None\n",
    "\n",
    "out_file_df_permutations = sample_dir / 'permutation_summary.parquet'\n",
    "out_file_df_importances = sample_dir / 'importances.parquet'\n",
    "out_file_df_diffexpr = sample_dir / 'diffexpr.parquet'\n",
    "out_file_df_markers_rank_significance_logreg = sample_dir / 'markers_rank_significance_logreg.json'\n",
    "out_file_df_markers_rank_significance_diffexpr = sample_dir / 'markers_rank_significance_diffexpr.json'\n",
    "# out_dir_liana_lrdata = sample_dir / 'liana_lrdata_folder'\n",
    "\n",
    "n_markers = 50\n",
    "pct_expression_threshold = 0.05\n",
    "radius = 20\n",
    "n_neighbors = None\n",
    "n_permutations = 30\n",
    "n_repeats = 5\n",
    "top_n = 20\n",
    "top_n_lr = 10\n",
    "cti = \"macrophage\"\n",
    "ctj = \"malignant cell\"\n",
    "scoring = 'f1'\n",
    "markers = 'diffexpr'\n",
    "# markers = \"xenium_common_markers_file\"\n",
    "rank_metrics = [\"logfoldchanges\", \"-log10pvals_x_logfoldchanges\", \"-log10pvals_x_sign_logfoldchanges\"]\n",
    "index_diffexpr_metrics=[\"Name\",\"Term\",\"ES\",\"NES\",\"NOM p-val\",\"FDR q-val\",\"FWER p-val\",\"Tag %\",\"Gene %\",\"Lead_genes\",\"hypergeometric_pvalue\",\"mean_zscore\",\"mean_zscore_pvalue\"]\n",
    "label_key = \"label_key\"\n",
    "\n",
    "####\n",
    "#### READ DATA\n",
    "####\n",
    "# read raw data to get spatial coordinates\n",
    "adata = readwrite.read_xenium_sample(\n",
    "    sample_dir,\n",
    "    cells_as_circles=False,\n",
    "    cells_boundaries=False,\n",
    "    cells_boundaries_layers=False,\n",
    "    nucleus_boundaries=False,\n",
    "    cells_labels=False,\n",
    "    nucleus_labels=False,\n",
    "    transcripts=False,\n",
    "    morphology_mip=False,\n",
    "    morphology_focus=False,\n",
    "    aligned_images=False,\n",
    "    anndata=True,\n",
    ")\n",
    "if 'proseg_expected' in sample_counts.as_posix():\n",
    "    adata.obs_names = 'proseg-'+adata.obs_names.astype(str)\n",
    "\n",
    "# read corrected counts\n",
    "if sample_corrected_counts_path is not None:\n",
    "    adata_corrected_counts = sc.read_10x_h5(\n",
    "        sample_corrected_counts_path,\n",
    "    )\n",
    "\n",
    "    adata_corrected_counts.obsm[\"spatial\"] = adata[adata_corrected_counts.obs_names].obsm[\"spatial\"]\n",
    "    adata = adata_corrected_counts\n",
    "\n",
    "\n",
    "# read normalised data, filter cells\n",
    "X_normalised = pd.read_parquet(sample_counts)\n",
    "X_normalised.index = pd.read_parquet(sample_idx).iloc[:, 0]\n",
    "X_normalised.columns = X_normalised.columns.str.replace('.','-')\n",
    "obs_found = [c for c in X_normalised.index if c in adata.obs_names]\n",
    "var_found = [g for g in X_normalised.columns if g in adata.var_names]\n",
    "adata = adata[obs_found,var_found]\n",
    "adata.layers['X_normalised'] = X_normalised.loc[obs_found,var_found]\n",
    "\n",
    "# # reapply QC to corrected counts data\n",
    "# preprocessing.preprocess(\n",
    "#     adata,\n",
    "#     min_counts=min_counts,\n",
    "#     min_genes=min_features,\n",
    "#     max_counts=max_counts,\n",
    "#     max_genes=max_features,\n",
    "#     min_cells=min_cells,\n",
    "#     save_raw=False,\n",
    "# )\n",
    "\n",
    "# read labels\n",
    "adata.obs[label_key] = pd.read_parquet(sample_annotation).set_index(\"cell_id\").iloc[:, 0]\n",
    "adata = adata[adata.obs[label_key].notna()]\n",
    "\n",
    "\n",
    "if \"Level2.1\" in sample_annotation.as_posix():\n",
    "    # for custom Level2.1, simplify malignant subtypes to malignant\n",
    "    adata.obs.loc[adata.obs[label_key].str.contains(\"malignant\"), label_key] = \"malignant cell\"\n",
    "    adata.obs.loc[adata.obs[label_key].str.contains(\"T cell\"), label_key] = \"T cell\"\n",
    "\n",
    "# read markers if needed\n",
    "if markers != \"diffexpr\":\n",
    "    if markers == \"xenium_common_markers_file\":\n",
    "        level_simplified = 'Level1'\n",
    "        palette = pd.read_csv('/work/PRTNR/CHUV/DIR/rgottar1/spatial/env/xenium_paper/data/xenium/metadata/col_palette_cell_types_combo.csv')\n",
    "        cell_types_mapping = palette.set_index(level)[level_simplified].replace(r' of .+', '', regex=True)\n",
    "        cell_types_mapping[cell_types_mapping.str.contains('malignant')] = 'malignant cell'\n",
    "        adata.obs[label_key] = adata.obs[label_key].replace(cell_types_mapping)\n",
    "        df_markers = pd.read_csv('/work/PRTNR/CHUV/DIR/rgottar1/spatial/env/xenium_paper/data/markers/Xenium_panels_common_markers.csv')[[\"cell_type\",\"gene_name\"]]\n",
    "    else:\n",
    "        df_markers = pd.read_csv(markers)[[\"cell_type\",\"gene_name\"]]\n",
    "\n",
    "    ct_not_found = adata.obs[label_key][~adata.obs[label_key].isin(df_markers['cell_type'])].unique()\n",
    "    print(f\"Could not find {ct_not_found} in markers file\")\n",
    "    adata = adata[adata.obs[label_key].isin(df_markers['cell_type'])]\n",
    "else:\n",
    "    # get precomputed markers from raw data\n",
    "    if ctj_markers_file is not None:\n",
    "        print(f\"Loading precomputed {ctj} markers\")\n",
    "        df_ctj_marker_genes_precomputed = pd.read_parquet(ctj_markers_file)\n",
    "\n",
    "# define target (cell type j presence in kNN)\n",
    "if precomputed_adata_obs is not None:\n",
    "    print(\"Loading precomputed adata obs\")\n",
    "    # adata.obs = pd.read_parquet(precomputed_adata_obs)\n",
    "    adata.obs = precomputed_adata_obs\n",
    "else:\n",
    "    # get kNN graph\n",
    "    obsm = \"spatial\"\n",
    "    knnlabels, knndis, knnidx, knn_graph = _utils.get_knn_labels(\n",
    "        adata, n_neighbors=n_neighbors, radius=radius, label_key=label_key, obsm=obsm, return_sparse_neighbors=True\n",
    "    )\n",
    "\n",
    "    adata.obsp[f\"{obsm}_connectivities\"] = knn_graph\n",
    "\n",
    "# summary stats\n",
    "adata.obs[\"n_genes\"] = (adata.X > 0).sum(axis=1).A1\n",
    "adata.obs[\"n_counts\"] = (adata.X).sum(axis=1).A1.astype(float)\n",
    "df_percent_expressed = _utils.get_expression_percent_per_celltype(adata=adata, label_key=label_key)\n",
    "\n",
    "# log-normalize before DE\n",
    "sc.pp.normalize_total(adata)\n",
    "sc.pp.log1p(adata)\n",
    "\n",
    "\n",
    "# iterate over targets permutations (cell type i with cell type j presence in kNN)\n",
    "df_diffexpr = {}\n",
    "df_markers_rank_significance_diffexpr = {}\n",
    "df_markers_rank_significance_diffexpr_expressed = {}\n",
    "u_cell_types = adata.obs[label_key].unique()\n",
    "df_ctj_marker_genes = {}\n",
    "\n",
    "for ctj in u_cell_types:\n",
    "    if (adata.obs[label_key] == ctj).sum() < 30:\n",
    "        print(f\"Not enough cells from class {ctj}\")\n",
    "        continue\n",
    "\n",
    "    # get markers\n",
    "    if markers == \"diffexpr\":\n",
    "        if ctj_markers_file is not None:\n",
    "            print(f\"Loading precomputed {ctj} markers\")\n",
    "            ctj_marker_genes_precomputed = df_ctj_marker_genes_precomputed[ctj]\n",
    "\n",
    "        sc.tl.rank_genes_groups(adata, groupby=label_key, groups=[ctj], reference=\"rest\", method=\"wilcoxon\")\n",
    "        ctj_marker_genes = sc.get.rank_genes_groups_df(adata, group=ctj)[\"names\"][: 50].tolist()\n",
    "    else:\n",
    "        ctj_marker_genes = df_markers[df_markers[\"cell_type\"] == ctj][\"gene\"].tolist()\n",
    "        ctj_marker_genes = [g for g in ctj_marker_genes if g in adata.var_names]\n",
    "\n",
    "        assert len(ctj_marker_genes), f\"no markers found for {ctj}\"\n",
    "\n",
    "    df_ctj_marker_genes[ctj] = ctj_marker_genes\n",
    "\n",
    "    for cti in u_cell_types:\n",
    "        if cti == ctj:\n",
    "            continue\n",
    "        print(cti, ctj)\n",
    "        \n",
    "        if precomputed_adata_obs is None:\n",
    "            adata.obs[f\"has_{ctj}_neighbor\"] = knnlabels[ctj] > 0\n",
    "\n",
    "        # Filter for cti\n",
    "        adata_cti = adata[adata.obs[label_key] == cti]\n",
    "\n",
    "        if (adata_cti.obs[f\"has_{ctj}_neighbor\"]).sum() < 30 or (~adata_cti.obs[f\"has_{ctj}_neighbor\"]).sum() < 30:\n",
    "            print(f\"Not enough cells from each class to test {cti} with {ctj} neighbors\")\n",
    "            continue\n",
    "\n",
    "        expressed_genes_cti = df_percent_expressed[df_percent_expressed[cti] > pct_expression_threshold].index\n",
    "\n",
    "        ###\n",
    "        ### DIFF EXPR TEST: check DE genes between cti with ctj neighbor or not\n",
    "        ###\n",
    "\n",
    "        adata_cti.obs[f\"has_{ctj}_neighbor_str\"] = adata_cti.obs[f\"has_{ctj}_neighbor\"].astype(str)\n",
    "        sc.tl.rank_genes_groups(\n",
    "            adata_cti, groupby=f\"has_{ctj}_neighbor_str\", groups=[\"True\"], reference=\"False\", method=\"wilcoxon\"\n",
    "        )\n",
    "        df_diffexpr[cti, ctj] = sc.get.rank_genes_groups_df(adata_cti, group=\"True\")\n",
    "\n",
    "        # add ranking score by -log10pvals_x_logfoldchanges. Use offset to avoid -log10(pval) = inf\n",
    "        pvals = df_diffexpr[cti, ctj][\"pvals\"]\n",
    "        df_diffexpr[cti, ctj][\"pvals_offset\"] = pvals + pvals[pvals > 0].min() * 0.1\n",
    "        df_diffexpr[cti, ctj][\"-log10pvals_x_logfoldchanges\"] = (\n",
    "            -np.log10(df_diffexpr[cti, ctj][\"pvals_offset\"]) * df_diffexpr[cti, ctj][\"logfoldchanges\"]\n",
    "        )\n",
    "\n",
    "        # add ranking score by log10pvals_x_signlogFC\n",
    "        df_diffexpr[cti, ctj][\"-log10pvals_x_sign_logfoldchanges\"] = -np.log10(df_diffexpr[cti, ctj][\"pvals\"]) * np.sign(\n",
    "            df_diffexpr[cti, ctj][\"logfoldchanges\"]\n",
    "        )\n",
    "\n",
    "        # get significance from gsea and hypergeometric test\n",
    "        df_markers_rank_significance_diffexpr[cti, ctj] = pd.DataFrame(index=index_diffexpr_metrics)\n",
    "        df_markers_rank_significance_diffexpr_expressed[cti, ctj] = pd.DataFrame(index=index_diffexpr_metrics)\n",
    "        dict_ctj_marker_genes = {'':ctj_marker_genes}\n",
    "\n",
    "        if ctj_markers_file is not None:\n",
    "            # also compute scores for precomputed marker gene list\n",
    "            dict_ctj_marker_genes['_precomputed'] = (ctj_marker_genes_precomputed)\n",
    "        \n",
    "        # for test_genes in ['raw','filtered']:\n",
    "            \n",
    "        #     if test_genes == 'filtered':\n",
    "        #         df_diffexpr_ = df_diffexpr[cti, ctj].query('names in @expressed_genes_cti')\n",
    "        #         df_rank_ = df_markers_rank_significance_diffexpr_expressed[cti, ctj]\n",
    "        #     else:\n",
    "        #         df_diffexpr_ = df_diffexpr[cti, ctj]\n",
    "        #         df_rank_ = df_markers_rank_significance_diffexpr[cti, ctj]\n",
    "\n",
    "            # for k_,markers_ in dict_ctj_marker_genes.items():\n",
    "            \n",
    "            #     for rank_metric in rank_metrics:\n",
    "            #         df_rank_[rank_metric+k_] = _utils.get_marker_rank_significance(\n",
    "            #             rnk=df_diffexpr_.set_index(\"names\")[rank_metric].sort_values(ascending=False),\n",
    "            #             gene_set=markers_,\n",
    "            #             top_n=top_n,\n",
    "            #         ).iloc[0]\n",
    "\n",
    "            #     # add pvalue metric\n",
    "            #     mean_zscore = df_diffexpr_.set_index(\"names\")[\"scores\"].loc[markers_].mean()\n",
    "            #     mean_zscore_pvalue =  scipy.stats.norm.sf(np.abs(mean_zscore)) * 2 # Two-tailed p-value\n",
    "            #     df_rank_[\"mean_zscore\" + k_] = pd.Series([mean_zscore,mean_zscore_pvalue],index=['mean_zscore','mean_zscore_pvalue'])\n",
    "        for n in [10,20,30,40,50]:\n",
    "            for k_, markers_ in dict_ctj_marker_genes.items():\n",
    "                markers_n_ = markers_[:n]\n",
    "                for rank_metric in rank_metrics:\n",
    "                    df_markers_rank_significance_diffexpr[cti, ctj][rank_metric + k_ + f'_{n=}'] = (\n",
    "                        _utils.get_marker_rank_significance(\n",
    "                            rnk=df_diffexpr[cti, ctj].set_index(\"names\")[rank_metric].sort_values(ascending=False),\n",
    "                            gene_set=markers_n_,\n",
    "                            top_n=top_n,\n",
    "                        ).iloc[0]\n",
    "                    )\n",
    "\n",
    "\n",
    "# count number of True/False for each has_{ctj}_neighbor column\n",
    "cols = [f\"has_{ctj}_neighbor\" for ctj in u_cell_types]\n",
    "df_has_neighbor_counts = (\n",
    "    adata.obs.melt(id_vars=[label_key], value_vars=cols).groupby([label_key, 'variable'],observed=True)['value']\n",
    "    .value_counts()\n",
    "    .reset_index(name='count')\n",
    ")\n",
    "\n",
    "adata.obs['n_genes'] = (adata.X>0).sum(axis=1).A1\n",
    "\n",
    "###\n",
    "### SAVE OUTPUTS\n",
    "###\n",
    "# general stats\n",
    "summary_stats = {\n",
    "    \"n_cells\": len(adata),\n",
    "    \"n_cells_by_type\": adata.obs[label_key].value_counts().to_dict(),\n",
    "    \"mean_n_genes_by_type\": adata.obs.groupby(label_key,observed=True)[\"n_genes\"].mean().to_dict(),\n",
    "    \"median_n_genes_by_type\": adata.obs.groupby(label_key,observed=True)[\"n_genes\"].median().to_dict(),\n",
    "    \"mean_n_genes\": adata.obs[\"n_genes\"].mean(),\n",
    "    \"median_n_genes\": adata.obs[\"n_genes\"].median(),\n",
    "    \"df_has_neighbor_counts\": df_has_neighbor_counts.to_dict(),  # Storing the DataFrame\n",
    "}\n",
    "\n",
    "# with open(\"summary_stats.json\", \"w\") as f:\n",
    "#     json.dump(summary_stats,f)\n",
    "\n",
    "# df_permutations_logreg = pd.concat(df_permutations_logreg)\n",
    "# df_importances_logreg = pd.concat(df_importances_logreg)\n",
    "# df_diffexpr = pd.concat(df_diffexpr)\n",
    "# df_markers_rank_significance_logreg = pd.concat(df_markers_rank_significance_logreg)\n",
    "# df_markers_rank_significance_diffexpr = pd.concat(df_markers_rank_significance_diffexpr)\n",
    "\n",
    "#logreg\n",
    "# df_permutations.to_parquet(out_file_df_permutations)\n",
    "# df_importances.to_parquet(out_file_df_importances)\n",
    "# df_markers_rank_significance_logreg.to_parquet(out_file_df_markers_rank_significance_logreg)\n",
    "\n",
    "# #diffexpr\n",
    "# df_diffexpr.to_parquet(out_file_df_diffexpr)\n",
    "# df_markers_rank_significance_diffexpr.to_parquet(out_file_df_markers_rank_significance_diffexpr)\n",
    "\n",
    "#liana\n",
    "# readwrite.write_anndata_folder(lrdata, outm_dir_liana_lrdata)"
   ]
  },
  {
   "cell_type": "markdown",
   "metadata": {},
   "source": [
    "## Compute metrics marker purity"
   ]
  },
  {
   "cell_type": "code",
   "execution_count": 89,
   "metadata": {},
   "outputs": [
    {
     "name": "stderr",
     "output_type": "stream",
     "text": [
      "/work/PRTNR/CHUV/DIR/rgottar1/spatial/env/jbac/miniforge3/envs/spatial/lib/python3.11/site-packages/anndata/_core/aligned_df.py:68: ImplicitModificationWarning: Transforming to str index.\n",
      "/work/PRTNR/CHUV/DIR/rgottar1/spatial/env/jbac/miniforge3/envs/spatial/lib/python3.11/site-packages/spatialdata/_core/spatialdata.py:185: UserWarning: The table is annotating 'cell_polygons', which is not present in the SpatialData object.\n",
      "/work/PRTNR/CHUV/DIR/rgottar1/spatial/env/jbac/miniforge3/envs/spatial/lib/python3.11/site-packages/anndata/_core/anndata.py:822: UserWarning: \n",
      "AnnData expects .obs.index to contain strings, but got values like:\n",
      "    [0, 1, 2, 3, 4]\n",
      "\n",
      "    Inferred to be: integer\n",
      "\n",
      "/tmp/ipykernel_1891581/602649072.py:69: ImplicitModificationWarning: Setting element `.layers['X_normalised']` of view, initializing view as actual.\n"
     ]
    },
    {
     "name": "stdout",
     "output_type": "stream",
     "text": [
      "metrics_summary.csv not found at: /work/PRTNR/CHUV/DIR/rgottar1/spatial/env/xenium_paper/data/xenium/processed/segmentation/proseg/NSCLC/lung/0S8R/0S8R/raw_results/metrics_summary.csv\n",
      "Could not find ['cycling lymphocyte'] in markers file\n",
      "stromal cell malignant cell\n"
     ]
    },
    {
     "name": "stderr",
     "output_type": "stream",
     "text": [
      "/tmp/ipykernel_1891581/602649072.py:79: ImplicitModificationWarning: Trying to modify attribute `.obs` of view, initializing view as actual.\n",
      "/tmp/ipykernel_1891581/602649072.py:136: ImplicitModificationWarning: Trying to modify attribute `.obs` of view, initializing view as actual.\n"
     ]
    }
   ],
   "source": [
    "segmentation = 'proseg_expected'\n",
    "condition = 'NSCLC'\n",
    "panel = 'lung'\n",
    "donor = '0S8R'\n",
    "sample = '0S8R'\n",
    "k = (segmentation,condition,panel,donor,sample)\n",
    "if 'proseg' in segmentation:\n",
    "    k_dir = ('proseg',condition,panel,donor,sample)\n",
    "else:\n",
    "    k_dir = k\n",
    "name = '/'.join(k)\n",
    "name_dir = '/'.join(k_dir)\n",
    "sample_dir = Path(f'/work/PRTNR/CHUV/DIR/rgottar1/spatial/env/xenium_paper/data/xenium/processed/segmentation/{name_dir}') / 'raw_results'\n",
    "sample_counts = Path(f'/work/PRTNR/CHUV/DIR/rgottar1/spatial/env/xenium_paper/data/xenium/processed/std_seurat_analysis/{name}/lognorm/normalised_counts/data.parquet')\n",
    "sample_idx = Path(f'/work/PRTNR/CHUV/DIR/rgottar1/spatial/env/xenium_paper/data/xenium/processed/std_seurat_analysis/{name}/lognorm/normalised_counts/cells.parquet')\n",
    "cell_type_labels = Path(f'/work/PRTNR/CHUV/DIR/rgottar1/spatial/env/xenium_paper/data/xenium/processed/cell_type_annotation/{name}/lognorm/reference_based/matched_reference_combo/rctd_class_aware/Level2.1/single_cell/labels.parquet')\n",
    "\n",
    "out_file_df_permutations = sample_dir / 'permutation_summary.parquet'\n",
    "out_file_df_importances = sample_dir / 'importances.parquet'\n",
    "out_file_df_diffexpr = sample_dir / 'diffexpr.parquet'\n",
    "out_file_df_markers_rank_significance_logreg = sample_dir / 'markers_rank_significance_logreg.json'\n",
    "out_file_df_markers_rank_significance_diffexpr = sample_dir / 'markers_rank_significance_diffexpr.json'\n",
    "# out_dir_liana_lrdata = sample_dir / 'liana_lrdata_folder'\n",
    "\n",
    "n_neighbors = 10\n",
    "n_permutations = 30\n",
    "n_repeats = 5\n",
    "top_n = 20\n",
    "top_n_lr = 10\n",
    "cti = \"macrophage\"\n",
    "ctj = \"malignant cell\"\n",
    "scoring = 'f1'\n",
    "markers = '/work/PRTNR/CHUV/DIR/rgottar1/spatial/env/xenium_paper/data/markers/Xenium_panels_common_markers.csv'\n",
    "# markers = 'diffexpr'\n",
    "\n",
    "\n",
    "level_simplified = 'Level1'\n",
    "palette = pd.read_csv('/work/PRTNR/CHUV/DIR/rgottar1/spatial/env/xenium_paper/data/xenium/metadata/col_palette_cell_types_combo.csv')\n",
    "cell_types_mapping = palette.set_index('Level2.1')[level_simplified]\n",
    "cell_types_mapping[cell_types_mapping.str.contains('malignant')] = 'malignant cell'\n",
    "\n",
    "####\n",
    "#### READ DATA\n",
    "####\n",
    "# read raw data to get spatial coordinates\n",
    "adata = readwrite.read_xenium_sample(\n",
    "    sample_dir,\n",
    "    cells_as_circles=False,\n",
    "    cells_boundaries=False,\n",
    "    cells_boundaries_layers=False,\n",
    "    nucleus_boundaries=False,\n",
    "    cells_labels=False,\n",
    "    nucleus_labels=False,\n",
    "    transcripts=False,\n",
    "    morphology_mip=False,\n",
    "    morphology_focus=False,\n",
    "    aligned_images=False,\n",
    "    anndata=True,\n",
    ")\n",
    "if 'proseg_expected' in sample_counts.as_posix():\n",
    "    adata.obs_names = 'proseg-'+adata.obs_names.astype(str)\n",
    "\n",
    "\n",
    "# read normalised data, filter cells\n",
    "X_normalised = pd.read_parquet(sample_counts)\n",
    "X_normalised.index = pd.read_parquet(sample_idx).iloc[:, 0]\n",
    "X_normalised.columns = X_normalised.columns.str.replace('.','-')\n",
    "adata = adata[X_normalised.index,X_normalised.columns]\n",
    "adata.layers['X_normalised'] = X_normalised\n",
    "\n",
    "# log-normalize before DE\n",
    "sc.pp.normalize_total(adata)\n",
    "sc.pp.log1p(adata)\n",
    "\n",
    "# read labels\n",
    "label_key = \"label_key\"\n",
    "adata.obs[label_key] = pd.read_parquet(cell_type_labels).set_index(\"cell_id\").iloc[:, 0]\n",
    "adata = adata[adata.obs[label_key].notna()]\n",
    "adata.obs[label_key] = adata.obs[label_key].replace(cell_types_mapping)\n",
    "\n",
    "# read markers if needed\n",
    "if markers != \"diffexpr\":\n",
    "    if markers == \"xenium_common_markers_file\":\n",
    "        level_simplified = 'Level1'\n",
    "        palette = pd.read_csv('/work/PRTNR/CHUV/DIR/rgottar1/spatial/env/xenium_paper/data/xenium/metadata/col_palette_cell_types_combo.csv')\n",
    "        cell_types_mapping = palette.set_index(level)[level_simplified].replace(r' of .+', '', regex=True)\n",
    "        cell_types_mapping[cell_types_mapping.str.contains('malignant')] = 'malignant cell'\n",
    "        adata.obs[label_key] = adata.obs[label_key].replace(cell_types_mapping)\n",
    "        df_markers = pd.read_csv('/work/PRTNR/CHUV/DIR/rgottar1/spatial/env/xenium_paper/data/markers/Xenium_panels_common_markers.csv')[[\"cell_type\",\"gene_name\"]]\n",
    "    else:\n",
    "        df_markers = pd.read_csv(markers)[[\"cell_type\",\"gene_name\"]]\n",
    "\n",
    "    ct_not_found = adata.obs[label_key][~adata.obs[label_key].isin(df_markers['cell_type'])].unique()\n",
    "    print(f\"Could not find {ct_not_found} in markers file\")\n",
    "    adata = adata[adata.obs[label_key].isin(df_markers['cell_type'])]\n",
    "\n",
    "\n",
    "# get kNN graph\n",
    "# obsm = 'spatial'\n",
    "# knnlabels, knndis, knnidx, knn_graph = _utils.get_knn_labels(\n",
    "#     adata,n_neighbors=n_neighbors,\n",
    "#     label_key=label_key,obsm=obsm,\n",
    "#     return_sparse_neighbors=True)\n",
    "# adata.obsp[f'{obsm}_connectivities'] = knn_graph\n",
    "\n",
    "\n",
    "# iterate over targets permutations (cell type i with cell type j presence in kNN)\n",
    "u_cell_types = adata.obs[label_key].unique()\n",
    "df_ctj_marker_genes = {}\n",
    "\n",
    "\n",
    "for ctj in u_cell_types:\n",
    "    if  (adata.obs[label_key]==ctj).sum() < 30:\n",
    "        print(f\"Not enough cells from class {ctj}\")\n",
    "        continue\n",
    "\n",
    "    # get markers\n",
    "    if markers == \"diffexpr\":\n",
    "        sc.tl.rank_genes_groups(adata, groupby=label_key, groups=[ctj], reference='rest', method=\"wilcoxon\")\n",
    "        ctj_marker_genes = sc.get.rank_genes_groups_df(adata, group=ctj)['names'][: top_n].tolist()\n",
    "    else:\n",
    "        ctj_marker_genes = df_markers[df_markers[\"cell_type\"] == ctj][\"gene_name\"].tolist()\n",
    "        ctj_marker_genes = [g for g in ctj_marker_genes if g in adata.var_names]\n",
    "\n",
    "        if len(ctj_marker_genes) == 0:\n",
    "            print(f\"no markers found for {ctj}\")\n",
    "            continue\n",
    "\n",
    "    df_ctj_marker_genes[ctj] = ctj_marker_genes\n",
    "\n",
    "    for cti in u_cell_types:\n",
    "        if cti == ctj:\n",
    "            continue\n",
    "        print(cti, ctj)\n",
    "\n",
    "        adata.obs[f\"has_{ctj}_neighbor\"] = knnlabels[ctj]>0\n",
    "\n",
    "        # Filter for cti\n",
    "        adata_cti = adata[adata.obs[label_key] == cti]\n",
    "\n",
    "        if (   (adata_cti.obs[f\"has_{ctj}_neighbor\"]).sum() < 30\n",
    "            or (~adata_cti.obs[f\"has_{ctj}_neighbor\"]).sum() < 30\n",
    "            ):\n",
    "            print(f\"Not enough cells from each class to test {cti} with {ctj} neighbors\")\n",
    "            continue\n",
    "\n",
    "\n",
    "        ###\n",
    "        ### DIFF EXPR TEST: check DE genes between cti with ctj neighbor or not\n",
    "        ###\n",
    "        # adata_cti.obs[f'has_{ctj}_neighbor_str'] = adata_cti.obs[f'has_{ctj}_neighbor'].astype(str)\n",
    "        # sc.tl.rank_genes_groups(adata_cti, groupby=f\"has_{ctj}_neighbor_str\", groups=['True'], reference='False', method=\"wilcoxon\")\n",
    "        # df_diffexpr[cti,ctj] = sc.get.rank_genes_groups_df(adata_cti, group='True').sort_values('pvals_adj')\n",
    "\n",
    "\n",
    "        # # get significance from gsea and hypergeometric test\n",
    "        # df_markers_rank_significance_diffexpr[cti, ctj] = _utils.get_marker_rank_significance(\n",
    "        #     rnk=df_diffexpr[cti, ctj].set_index(\"names\")[\"logfoldchanges\"],\n",
    "        #     gene_set=ctj_marker_genes,\n",
    "        #     top_n=top_n,\n",
    "        # )"
   ]
  },
  {
   "cell_type": "markdown",
   "metadata": {},
   "source": [
    "## Plot results diffexpr"
   ]
  },
  {
   "cell_type": "code",
   "execution_count": null,
   "metadata": {},
   "outputs": [],
   "source": [
    "# cfg paths\n",
    "xenium_dir = Path(cfg['xenium_processed_data_dir'])\n",
    "xenium_std_seurat_analysis_dir = Path(cfg['xenium_std_seurat_analysis_dir'])\n",
    "xenium_cell_type_annotation_dir = Path(cfg['xenium_cell_type_annotation_dir'])\n",
    "results_dir = Path(cfg['results_dir'])\n",
    "palette_dir = Path(cfg['xenium_metadata_dir'])\n",
    "\n",
    "# Params\n",
    "# probably only need to run for lognorm data\n",
    "normalisations = ['lognorm',]\n",
    "layers = ['data',]\n",
    "reference = 'matched_reference_combo'\n",
    "method = 'rctd_class_aware'\n",
    "level = 'Level2.1'\n",
    "segmentation_palette = palette_dir / 'col_palette_segmentation.csv'\n",
    "\n",
    "n_neighbors = 10\n",
    "n_permutations = 30\n",
    "n_repeats = 5\n",
    "top_n = 20\n",
    "scoring = 'f1'\n",
    "markers = 'diffexpr' #'/work/PRTNR/CHUV/DIR/rgottar1/spatial/env/xenium_paper/data/markers/cellmarker_cell_types_markers.json'\n",
    "\n",
    "# needed to get unique cell types names for each level\n",
    "# cell_types_palette = pd.read_csv(palette_dir / 'col_palette_cell_types_combo.csv')\n",
    "\n",
    "df_diffexpr = {}\n",
    "df_markers_rank_significance_diffexpr = {}\n",
    "for segmentation in (segmentations := xenium_std_seurat_analysis_dir.iterdir()):\n",
    "    for condition in (conditions := segmentation.iterdir()): \n",
    "        for panel in (panels := condition.iterdir()):\n",
    "            for donor in (donors := panel.iterdir()):\n",
    "                for sample in (samples := donor.iterdir()):\n",
    "                    for normalisation in normalisations:\n",
    "                        for layer in layers:\n",
    "                            # for reference in references:\n",
    "                            #     for method in methods:\n",
    "                            #         for level in levels:\n",
    "\n",
    "                            k = (segmentation.stem,condition.stem,panel.stem,donor.stem,sample.stem)\n",
    "                            name = '/'.join(k)\n",
    "\n",
    "                            out_file_df_diffexpr = results_dir / f'contamination_metrics_diffexpr/{name}/{normalisation}/{layer}_{reference}_{method}_{level}_diffexpr.parquet'\n",
    "                            out_file_df_markers_rank_significance_diffexpr = results_dir / f'contamination_metrics_diffexpr/{name}/{normalisation}/{layer}_{reference}_{method}_{level}_markers_rank_significance_diffexpr.parquet'\n",
    "\n",
    "                            if out_file_df_diffexpr.exists():\n",
    "                                # df_diffexpr[k] = pd.read_parquet(out_file_df_diffexpr)\n",
    "                                df_markers_rank_significance_diffexpr[k] = pd.read_parquet(out_file_df_markers_rank_significance_diffexpr)"
   ]
  },
  {
   "cell_type": "code",
   "execution_count": null,
   "metadata": {},
   "outputs": [],
   "source": [
    "cti = 'T cell'\n",
    "ctj = 'malignant cell'\n",
    "xenium_levels = [\"segmentation\", \"condition\", \"panel\", \"donor\", \"sample\",\"cti\",\"ctj\"]\n",
    "\n",
    "hue = \"segmentation\"\n",
    "hue_order = [\n",
    "    \"10x_mm_0um\",\n",
    "    \"10x_mm_5um\",\n",
    "    \"10x_mm_15um\",\n",
    "    \"10x_0um\",\n",
    "    \"10x_5um\",\n",
    "    \"10x_15um\",\n",
    "    \"baysor\",\n",
    "    \"proseg_expected\",\n",
    "    \"proseg_mode\",\n",
    "    \"segger\",\n",
    "]\n",
    "\n",
    "\n",
    "palette = pd.read_csv(segmentation_palette, index_col=0).iloc[:, 0]\n",
    "\n",
    "\n",
    "df = pd.concat(df_markers_rank_significance_diffexpr).reset_index()\n",
    "df.columns = xenium_levels + df.columns[len(xenium_levels) :].tolist()\n",
    "df = df.query(\"cti == @cti and ctj == @ctj\")\n",
    "df['-log10pvalue'] = -np.log10(df['hypergeometric_pvalue'])\n",
    "\n",
    "\n",
    "# plotting params, palette\n",
    "title = f\"Reference: {reference}, Method: {method}, Level: {level} \\n{cti} contaminated by {ctj}\"\n",
    "unique_labels = [c for c in hue_order if c in np.unique(df[hue].dropna())]\n",
    "unique_labels = unique_labels + [c for c in np.unique(df[hue].dropna()) if c not in unique_labels]\n",
    "palette = {u: palette[u] for u in unique_labels}\n",
    "legend_handles = [mpatches.Patch(color=color, label=label) for label, color in palette.items()]\n",
    "\n",
    "sns.set(style=\"ticks\")\n",
    "\n",
    "### hypergeometric pvalue boxplot\n",
    "f = plt.figure(figsize=(6, 6))\n",
    "ax = plt.subplot()\n",
    "g = sns.boxplot(df,x='panel',y='-log10pvalue', \n",
    "                hue=hue, hue_order=unique_labels, \n",
    "                legend=False, palette=palette,ax=ax\n",
    "                )\n",
    "\n",
    "plt.ylabel(r'$-\\log_{10} \\text{ p-value}$')\n",
    "sns.despine(offset=10, trim=True)\n",
    "ax.yaxis.grid(True)\n",
    "\n",
    "plt.suptitle(title)\n",
    "f.legend(\n",
    "    handles=legend_handles,\n",
    "    loc=\"center left\",\n",
    "    bbox_to_anchor=(1, 0.5),\n",
    "    title=hue,\n",
    "    frameon=False,\n",
    ")\n",
    "plt.tight_layout(rect=[0, 0, 1, 0.95])\n",
    "# plt.savefig(out_file, dpi=dpi, bbox_inches=\"tight\")\n",
    "plt.show()\n",
    "\n",
    "\n",
    "### NES boxplot\n",
    "f = plt.figure(figsize=(6, 6))\n",
    "ax = plt.subplot()\n",
    "g = sns.boxplot(df,x='panel',y='NES', \n",
    "                hue=hue, hue_order=unique_labels, \n",
    "                legend=False, palette=palette,ax=ax\n",
    "                )\n",
    "\n",
    "sns.despine(offset=10, trim=True)\n",
    "ax.yaxis.grid(True)\n",
    "\n",
    "plt.suptitle(title)\n",
    "f.legend(\n",
    "    handles=legend_handles,\n",
    "    loc=\"center left\",\n",
    "    bbox_to_anchor=(1, 0.5),\n",
    "    title=hue,\n",
    "    frameon=False,\n",
    ")\n",
    "plt.tight_layout(rect=[0, 0, 1, 0.95])\n",
    "# plt.savefig(out_file, dpi=dpi, bbox_inches=\"tight\")\n",
    "plt.show()\n",
    "\n",
    "\n",
    "### number of hits boxplot\n",
    "f = plt.figure(figsize=(6, 6))\n",
    "ax = plt.subplot()\n",
    "g = sns.boxplot(df,x='panel',y=f'n_hits_{top_n=}', \n",
    "                hue=hue, hue_order=unique_labels, \n",
    "                legend=False, palette=palette,ax=ax\n",
    "                )\n",
    "\n",
    "sns.despine(offset=10, trim=True)\n",
    "ax.yaxis.grid(True)\n",
    "\n",
    "plt.suptitle(title)\n",
    "f.legend(\n",
    "    handles=legend_handles,\n",
    "    loc=\"center left\",\n",
    "    bbox_to_anchor=(1, 0.5),\n",
    "    title=hue,\n",
    "    frameon=False,\n",
    ")\n",
    "plt.tight_layout(rect=[0, 0, 1, 0.95])\n",
    "# plt.savefig(out_file, dpi=dpi, bbox_inches=\"tight\")\n",
    "plt.show()"
   ]
  },
  {
   "cell_type": "code",
   "execution_count": null,
   "metadata": {},
   "outputs": [],
   "source": [
    "sns.set_style('ticks')\n",
    "ref_segmentation = '10x_5um'\n",
    "\n",
    "df = pd.concat(df_markers_rank_significance_diffexpr).reset_index()\n",
    "df['-log10pvalue'] = -np.log10(df['hypergeometric_pvalue'])\n",
    "df.columns = xenium_levels + df.columns[len(xenium_levels) :].tolist()\n",
    "u_condition_panel = df[['condition','panel']].drop_duplicates().values\n",
    "\n",
    "metrics = ['NES', '-log10pvalue', f'n_hits_{top_n=}']\n",
    "\n",
    "for metric in metrics:\n",
    "    for condition,panel in u_condition_panel:\n",
    "\n",
    "        df_plot = df.query(f\"segmentation == '{ref_segmentation}' and condition == '{condition}' and panel == '{panel}'\")\n",
    "        df_plot = df_plot.groupby(['cti', 'ctj'])[metric].mean().unstack()\n",
    "        df_plot = df_plot.loc[df_plot.sum(1).sort_values(ascending=False).index]\n",
    "        df_plot = df_plot[df_plot.sum(0).sort_values(ascending=False).index]\n",
    "\n",
    "        f = plt.figure(figsize=(8,8))\n",
    "        ax = plt.subplot()\n",
    "        ax.set_title(f\"{condition=} {panel=} {metric=}\",fontsize=20)\n",
    "        g = sns.heatmap(df_plot,cmap='coolwarm',center=-np.log10(0.05) if metric == '-log10pvalue' else 0.)\n",
    "        plt.show()"
   ]
  },
  {
   "cell_type": "markdown",
   "metadata": {},
   "source": [
    "## Plot results logreg"
   ]
  },
  {
   "cell_type": "code",
   "execution_count": 7,
   "metadata": {},
   "outputs": [],
   "source": [
    "# cfg paths\n",
    "xenium_dir = Path(cfg['xenium_processed_data_dir'])\n",
    "xenium_std_seurat_analysis_dir = Path(cfg['xenium_std_seurat_analysis_dir'])\n",
    "xenium_cell_type_annotation_dir = Path(cfg['xenium_cell_type_annotation_dir'])\n",
    "results_dir = Path(cfg['results_dir'])\n",
    "palette_dir = Path(cfg['xenium_metadata_dir'])\n",
    "\n",
    "# Params\n",
    "normalisations = ['lognorm',]\n",
    "layers = ['data',]\n",
    "reference = 'matched_reference_combo'\n",
    "method = 'rctd_class_aware'\n",
    "level = 'Level2.1'\n",
    "segmentation_palette = palette_dir / 'col_palette_segmentation.csv'\n",
    "\n",
    "n_neighbors = 10\n",
    "n_permutations = 30\n",
    "n_repeats = 5\n",
    "top_n = 20\n",
    "scoring = 'f1'\n",
    "markers = 'diffexpr' #'/work/PRTNR/CHUV/DIR/rgottar1/spatial/env/xenium_paper/data/markers/cellmarker_cell_types_markers.json'\n",
    "\n",
    "# needed to get unique cell types names for each level\n",
    "# cell_types_palette = pd.read_csv(palette_dir / 'col_palette_cell_types_combo.csv')\n",
    "\n",
    "df_diffexpr = {}\n",
    "df_markers_rank_significance_diffexpr = {}\n",
    "for segmentation in (segmentations := xenium_std_seurat_analysis_dir.iterdir()):\n",
    "    for condition in (conditions := segmentation.iterdir()): \n",
    "        for panel in (panels := condition.iterdir()):\n",
    "            for donor in (donors := panel.iterdir()):\n",
    "                for sample in (samples := donor.iterdir()):\n",
    "                    for normalisation in normalisations:\n",
    "                        for layer in layers:\n",
    "                            # for reference in references:\n",
    "                            #     for method in methods:\n",
    "                            #         for level in levels:\n",
    "\n",
    "                            k = (segmentation.stem,condition.stem,panel.stem,donor.stem,sample.stem)\n",
    "                            name = '/'.join(k)\n",
    "\n",
    "                            out_file_df_permutations_logreg = results_dir / f'contamination_metrics_logreg/{name}/{normalisation}/{layer}_{reference}_{method}_{level}_permutations_logreg.parquet'\n",
    "                            out_file_df_importances_logreg = results_dir / f'contamination_metrics_logreg/{name}/{normalisation}/{layer}_{reference}_{method}_{level}_importances_logreg.parquet'\n",
    "                            out_file_df_markers_rank_significance_logreg = results_dir / f'contamination_metrics_logreg/{name}/{normalisation}/{layer}_{reference}_{method}_{level}_markers_rank_significance_logreg.json'\n",
    "\n",
    "                            if out_file_df_permutations_logreg.exists():\n",
    "                                # df_diffexpr[k] = pd.read_parquet(out_file_df_diffexpr)\n",
    "                                df_permutations_logreg[k] = pd.read_parquet(out_file_df_permutations_logreg)\n",
    "                                df_importances_logreg[k] = pd.read_parquet(out_file_df_importances_logreg)\n",
    "                                df_markers_rank_significance_logreg[k] = pd.read_parquet(out_file_df_markers_rank_significance_logreg)"
   ]
  },
  {
   "cell_type": "code",
   "execution_count": 6,
   "metadata": {},
   "outputs": [
    {
     "ename": "NameError",
     "evalue": "name 'df_markers_rank_significance_logreg' is not defined",
     "output_type": "error",
     "traceback": [
      "\u001b[0;31m---------------------------------------------------------------------------\u001b[0m",
      "\u001b[0;31mNameError\u001b[0m                                 Traceback (most recent call last)",
      "Cell \u001b[0;32mIn[6], line 5\u001b[0m\n\u001b[1;32m      2\u001b[0m ctj \u001b[38;5;241m=\u001b[39m \u001b[38;5;124m'\u001b[39m\u001b[38;5;124mmalignant cell\u001b[39m\u001b[38;5;124m'\u001b[39m\n\u001b[1;32m      3\u001b[0m xenium_levels \u001b[38;5;241m=\u001b[39m [\u001b[38;5;124m\"\u001b[39m\u001b[38;5;124msegmentation\u001b[39m\u001b[38;5;124m\"\u001b[39m, \u001b[38;5;124m\"\u001b[39m\u001b[38;5;124mcondition\u001b[39m\u001b[38;5;124m\"\u001b[39m, \u001b[38;5;124m\"\u001b[39m\u001b[38;5;124mpanel\u001b[39m\u001b[38;5;124m\"\u001b[39m, \u001b[38;5;124m\"\u001b[39m\u001b[38;5;124mdonor\u001b[39m\u001b[38;5;124m\"\u001b[39m, \u001b[38;5;124m\"\u001b[39m\u001b[38;5;124msample\u001b[39m\u001b[38;5;124m\"\u001b[39m,\u001b[38;5;124m\"\u001b[39m\u001b[38;5;124mcti\u001b[39m\u001b[38;5;124m\"\u001b[39m,\u001b[38;5;124m\"\u001b[39m\u001b[38;5;124mctj\u001b[39m\u001b[38;5;124m\"\u001b[39m]\n\u001b[0;32m----> 5\u001b[0m df \u001b[38;5;241m=\u001b[39m pd\u001b[38;5;241m.\u001b[39mconcat(\u001b[43mdf_markers_rank_significance_logreg\u001b[49m)\u001b[38;5;241m.\u001b[39mreset_index()\n\u001b[1;32m      6\u001b[0m df\u001b[38;5;241m.\u001b[39mcolumns \u001b[38;5;241m=\u001b[39m xenium_levels \u001b[38;5;241m+\u001b[39m df\u001b[38;5;241m.\u001b[39mcolumns[\u001b[38;5;28mlen\u001b[39m(xenium_levels) :]\u001b[38;5;241m.\u001b[39mtolist()\n\u001b[1;32m      7\u001b[0m df \u001b[38;5;241m=\u001b[39m df\u001b[38;5;241m.\u001b[39mquery(\u001b[38;5;124m\"\u001b[39m\u001b[38;5;124mcti == @cti and ctj == @ctj\u001b[39m\u001b[38;5;124m\"\u001b[39m)\n",
      "\u001b[0;31mNameError\u001b[0m: name 'df_markers_rank_significance_logreg' is not defined"
     ]
    }
   ],
   "source": [
    "cti = 'T cell'\n",
    "ctj = 'malignant cell'\n",
    "xenium_levels = [\"segmentation\", \"condition\", \"panel\", \"donor\", \"sample\",\"cti\",\"ctj\"]\n",
    "\n",
    "df = pd.concat(df_markers_rank_significance_logreg).reset_index()\n",
    "df.columns = xenium_levels + df.columns[len(xenium_levels) :].tolist()\n",
    "df = df.query(\"cti == @cti and ctj == @ctj\")\n",
    "df['-log10pvalue'] = -np.log10(df['hypergeometric_pvalue'])\n",
    "\n",
    "\n",
    "std_seurat_analysis_dir = Path(cfg['xenium_std_seurat_analysis_dir'])\n",
    "cell_type_annotation_dir = Path(cfg['xenium_cell_type_annotation_dir'])\n",
    "results_dir = Path(cfg['results_dir'])\n",
    "palette_dir = Path(cfg['xenium_metadata_dir'])\n",
    "segmentation_palette = palette_dir / 'col_palette_segmentation.csv'\n",
    "\n",
    "hue = \"segmentation\"\n",
    "hue_order = [\n",
    "    \"10x_mm_0um\",\n",
    "    \"10x_mm_5um\",\n",
    "    \"10x_mm_15um\",\n",
    "    \"10x_0um\",\n",
    "    \"10x_5um\",\n",
    "    \"10x_15um\",\n",
    "    \"baysor\",\n",
    "    \"proseg_expected\",\n",
    "    \"proseg_mode\",\n",
    "    \"segger\",\n",
    "]\n",
    "\n",
    "\n",
    "palette = pd.read_csv(segmentation_palette, index_col=0).iloc[:, 0]\n",
    "\n",
    "\n",
    "# plotting params, palette\n",
    "title = f\"Reference: {reference}, Method: {method}, Level: {level} \\n{cti} contaminated by {ctj}\"\n",
    "unique_labels = [c for c in hue_order if c in np.unique(df[hue].dropna())]\n",
    "unique_labels = unique_labels + [c for c in np.unique(df[hue].dropna()) if c not in unique_labels]\n",
    "palette = {u: palette[u] for u in unique_labels}\n",
    "legend_handles = [mpatches.Patch(color=color, label=label) for label, color in palette.items()]\n",
    "\n",
    "\n",
    "### hypergeometric pvalue boxplot\n",
    "f = plt.figure(figsize=(6, 6))\n",
    "ax = plt.subplot()\n",
    "g = sns.boxplot(df,x='panel',y='-log10pvalue', \n",
    "                hue=hue, hue_order=unique_labels, \n",
    "                legend=False, palette=palette,ax=ax\n",
    "                )\n",
    "\n",
    "plt.ylabel(r'$-\\log_{10} \\text{ p-value}$')\n",
    "sns.despine(offset=10, trim=True)\n",
    "ax.yaxis.grid(True)\n",
    "\n",
    "plt.suptitle(title)\n",
    "f.legend(\n",
    "    handles=legend_handles,\n",
    "    loc=\"center left\",\n",
    "    bbox_to_anchor=(1, 0.5),\n",
    "    title=hue,\n",
    "    frameon=False,\n",
    ")\n",
    "plt.tight_layout(rect=[0, 0, 1, 0.95])\n",
    "# plt.savefig(out_file, dpi=dpi, bbox_inches=\"tight\")\n",
    "plt.show()\n",
    "\n",
    "\n",
    "### NES boxplot\n",
    "f = plt.figure(figsize=(6, 6))\n",
    "ax = plt.subplot()\n",
    "g = sns.boxplot(df,x='panel',y='NES', \n",
    "                hue=hue, hue_order=unique_labels, \n",
    "                legend=False, palette=palette,ax=ax\n",
    "                )\n",
    "\n",
    "sns.despine(offset=10, trim=True)\n",
    "ax.yaxis.grid(True)\n",
    "\n",
    "plt.suptitle(title)\n",
    "f.legend(\n",
    "    handles=legend_handles,\n",
    "    loc=\"center left\",\n",
    "    bbox_to_anchor=(1, 0.5),\n",
    "    title=hue,\n",
    "    frameon=False,\n",
    ")\n",
    "plt.tight_layout(rect=[0, 0, 1, 0.95])\n",
    "# plt.savefig(out_file, dpi=dpi, bbox_inches=\"tight\")\n",
    "plt.show()\n",
    "\n",
    "\n",
    "### number of hits boxplot\n",
    "f = plt.figure(figsize=(6, 6))\n",
    "ax = plt.subplot()\n",
    "g = sns.boxplot(df,x='panel',y=f'n_hits_{top_n=}', \n",
    "                hue=hue, hue_order=unique_labels, \n",
    "                legend=False, palette=palette,ax=ax\n",
    "                )\n",
    "\n",
    "sns.despine(offset=10, trim=True)\n",
    "ax.yaxis.grid(True)\n",
    "\n",
    "plt.suptitle(title)\n",
    "f.legend(\n",
    "    handles=legend_handles,\n",
    "    loc=\"center left\",\n",
    "    bbox_to_anchor=(1, 0.5),\n",
    "    title=hue,\n",
    "    frameon=False,\n",
    ")\n",
    "plt.tight_layout(rect=[0, 0, 1, 0.95])\n",
    "# plt.savefig(out_file, dpi=dpi, bbox_inches=\"tight\")\n",
    "plt.show()"
   ]
  },
  {
   "cell_type": "code",
   "execution_count": null,
   "metadata": {},
   "outputs": [],
   "source": [
    "sns.set_style('ticks')\n",
    "ref_segmentation = '10x_5um'\n",
    "\n",
    "df = pd.concat(df_markers_rank_significance_diffexpr).reset_index()\n",
    "df['-log10pvalue'] = -np.log10(df['hypergeometric_pvalue'])\n",
    "df.columns = xenium_levels + df.columns[len(xenium_levels) :].tolist()\n",
    "u_condition_panel = df[['condition','panel']].drop_duplicates().values\n",
    "\n",
    "metrics = ['NES', '-log10pvalue', f'n_hits_{top_n=}']\n",
    "\n",
    "for metric in metrics:\n",
    "    for condition,panel in u_condition_panel:\n",
    "\n",
    "        df_plot = df.query(f\"segmentation == '{ref_segmentation}' and condition == '{condition}' and panel == '{panel}'\")\n",
    "        df_plot = df_plot.groupby(['cti', 'ctj'])[metric].mean().unstack()\n",
    "        df_plot = df_plot.loc[df_plot.sum(1).sort_values(ascending=False).index]\n",
    "        df_plot = df_plot[df_plot.sum(0).sort_values(ascending=False).index]\n",
    "\n",
    "        f = plt.figure(figsize=(8,8))\n",
    "        ax = plt.subplot()\n",
    "        ax.set_title(f\"{condition=} {panel=} {metric=}\",fontsize=20)\n",
    "        g = sns.heatmap(df_plot,cmap='coolwarm',center=-np.log10(0.05) if metric == '-log10pvalue' else 0.)\n",
    "        plt.show()"
   ]
  },
  {
   "cell_type": "code",
   "execution_count": null,
   "metadata": {},
   "outputs": [],
   "source": [
    "cti = 'T cell'\n",
    "ctj = 'malignant cell'\n",
    "xenium_levels = [\"segmentation\", \"condition\", \"panel\", \"donor\", \"sample\",\"cti\",\"ctj\"]\n",
    "\n",
    "df = pd.concat(df_markers_rank_significance_logreg).reset_index()\n",
    "df.columns = xenium_levels + df.columns[len(xenium_levels) :].tolist()\n",
    "df = df.query(\"cti == @cti and ctj == @ctj\")\n",
    "df['-log10pvalue'] = -np.log10(df['hypergeometric_pvalue'])\n",
    "\n",
    "\n",
    "### hypergeometric pvalue boxplot\n",
    "f = plt.figure(figsize=(6, 6))\n",
    "ax = plt.subplot()\n",
    "g = sns.boxplot(df,x='panel',y='-log10pvalue', \n",
    "                hue=hue, hue_order=unique_labels, \n",
    "                legend=False, palette=palette,ax=ax\n",
    "                )\n",
    "\n",
    "plt.ylabel(r'$-\\log_{10} \\text{ p-value}$')\n",
    "sns.despine(offset=10, trim=True)\n",
    "ax.yaxis.grid(True)\n",
    "\n",
    "plt.suptitle(title)\n",
    "f.legend(\n",
    "    handles=legend_handles,\n",
    "    loc=\"center left\",\n",
    "    bbox_to_anchor=(1, 0.5),\n",
    "    title=hue,\n",
    "    frameon=False,\n",
    ")\n",
    "plt.tight_layout(rect=[0, 0, 1, 0.95])\n",
    "# plt.savefig(out_file, dpi=dpi, bbox_inches=\"tight\")\n",
    "plt.show()\n",
    "\n",
    "\n",
    "### NES boxplot\n",
    "f = plt.figure(figsize=(6, 6))\n",
    "ax = plt.subplot()\n",
    "g = sns.boxplot(df,x='panel',y='NES', \n",
    "                hue=hue, hue_order=unique_labels, \n",
    "                legend=False, palette=palette,ax=ax\n",
    "                )\n",
    "\n",
    "sns.despine(offset=10, trim=True)\n",
    "ax.yaxis.grid(True)\n",
    "\n",
    "plt.suptitle(title)\n",
    "f.legend(\n",
    "    handles=legend_handles,\n",
    "    loc=\"center left\",\n",
    "    bbox_to_anchor=(1, 0.5),\n",
    "    title=hue,\n",
    "    frameon=False,\n",
    ")\n",
    "plt.tight_layout(rect=[0, 0, 1, 0.95])\n",
    "# plt.savefig(out_file, dpi=dpi, bbox_inches=\"tight\")\n",
    "plt.show()\n",
    "\n",
    "\n",
    "### number of hits boxplot\n",
    "f = plt.figure(figsize=(6, 6))\n",
    "ax = plt.subplot()\n",
    "g = sns.boxplot(df,x='panel',y=f'n_hits_{top_n=}', \n",
    "                hue=hue, hue_order=unique_labels, \n",
    "                legend=False, palette=palette,ax=ax\n",
    "                )\n",
    "\n",
    "sns.despine(offset=10, trim=True)\n",
    "ax.yaxis.grid(True)\n",
    "\n",
    "plt.suptitle(title)\n",
    "f.legend(\n",
    "    handles=legend_handles,\n",
    "    loc=\"center left\",\n",
    "    bbox_to_anchor=(1, 0.5),\n",
    "    title=hue,\n",
    "    frameon=False,\n",
    ")\n",
    "plt.tight_layout(rect=[0, 0, 1, 0.95])\n",
    "# plt.savefig(out_file, dpi=dpi, bbox_inches=\"tight\")\n",
    "plt.show()"
   ]
  },
  {
   "cell_type": "code",
   "execution_count": null,
   "metadata": {},
   "outputs": [],
   "source": [
    "df = pd.concat(df_permutations_logreg).reset_index()\n",
    "df.columns = xenium_levels + df.columns[len(xenium_levels) :].tolist()\n",
    "df"
   ]
  },
  {
   "cell_type": "code",
   "execution_count": null,
   "metadata": {},
   "outputs": [],
   "source": []
  }
 ],
 "metadata": {
  "kernelspec": {
   "display_name": "spatial",
   "language": "python",
   "name": "python3"
  },
  "language_info": {
   "codemirror_mode": {
    "name": "ipython",
    "version": 3
   },
   "file_extension": ".py",
   "mimetype": "text/x-python",
   "name": "python",
   "nbconvert_exporter": "python",
   "pygments_lexer": "ipython3",
   "version": "3.11.11"
  }
 },
 "nbformat": 4,
 "nbformat_minor": 2
}
