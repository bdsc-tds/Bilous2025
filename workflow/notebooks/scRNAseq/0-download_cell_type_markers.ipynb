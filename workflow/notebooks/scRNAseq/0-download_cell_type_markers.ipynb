{
 "cells": [
  {
   "cell_type": "code",
   "execution_count": 1,
   "metadata": {},
   "outputs": [],
   "source": [
    "import numpy as np\n",
    "import pandas as pd\n",
    "import pathlib\n",
    "import json\n",
    "import sys; sys.path.append('../../scripts')\n",
    "import download_cell_type_markers\n",
    "import readwrite\n",
    "cfg = readwrite.config()\n",
    "save_dir = cfg['markers_dir']"
   ]
  },
  {
   "cell_type": "markdown",
   "metadata": {},
   "source": [
    "## Load table of cell types to query"
   ]
  },
  {
   "cell_type": "code",
   "execution_count": 2,
   "metadata": {},
   "outputs": [],
   "source": [
    "df_cell_types = pd.read_csv(cfg['data_dir']+'xenium/metadata/col_palette_cell_types.csv')"
   ]
  },
  {
   "cell_type": "code",
   "execution_count": 39,
   "metadata": {},
   "outputs": [],
   "source": [
    "df_cell_types = pd.Series(\n",
    "    {\n",
    "    'glial cell':'CL:0000125',\n",
    "    'B cell':'CL:0000236',\n",
    "    'dendritic cell':'CL:0000451',\n",
    "    'myeloid cell':'CL:0000763',\n",
    "    'endothelial cell':'CL:0000115',\n",
    "    'stromal cell':'CL:0000499',\n",
    "    'fibroblast':'CL:0000057',\n",
    "    'granulocyte':'CL:0000094',\n",
    "    'epithelial cell':'CL:0000066',\n",
    "    'macrophage':'CL:0000235',\n",
    "    'monocyte':'CL:0000576',\n",
    "    'T cell':'CL:0000084',\n",
    "    'natural killer cell':'CL:0000623',\n",
    "    'pericyte':'CL:0000669',\n",
    "    'plasma cell':'CL:0000786',\n",
    "    'smooth muscle cell':'CL:0000192',\n",
    "    'malignant cell':'CL:0001064',\n",
    "    }\n",
    ").to_frame().reset_index()"
   ]
  },
  {
   "cell_type": "code",
   "execution_count": 7,
   "metadata": {},
   "outputs": [],
   "source": [
    "df_cell_types = pd.DataFrame(\n",
    "    [\n",
    "    ['glial cell','glial cell'],\n",
    "    ['B cell','B cell'],\n",
    "    ['dendritic cell','dendritic cell'],\n",
    "    ['myeloid cell','myeloid cell'],\n",
    "    ['myeloid cell','macrophage'],\n",
    "    ['myeloid cell','monocyte'],\n",
    "    ['endothelial cell','endothelial cell'],\n",
    "    ['fibroblast','fibroblast'],\n",
    "    ['epithelial cell','epithelial cell'],\n",
    "    ['smooth muscle cell', 'smooth muscle cell'],\n",
    "    ['granulocyte','granulocyte'],\n",
    "    ['granulocyte','neutrophil'],\n",
    "    ['T cell','T cell'],\n",
    "    ['natural killer cell', 'natural killer cell'],\n",
    "    ['pericyte','pericyte'],\n",
    "    ['plasma cell','plasma cell'],\n",
    "    ['malignant cell','cancer cell']],\n",
    ")\n"
   ]
  },
  {
   "cell_type": "markdown",
   "metadata": {},
   "source": [
    "## CellMarker markers"
   ]
  },
  {
   "cell_type": "code",
   "execution_count": 8,
   "metadata": {},
   "outputs": [
    {
     "name": "stdout",
     "output_type": "stream",
     "text": [
      "\n",
      "\n",
      " all\n"
     ]
    }
   ],
   "source": [
    "# load table of markers\n",
    "if not pathlib.Path(save_dir+'cellmarker_canonical.csv').exists():\n",
    "    df_markers_canonical, df_markers_computational = download_cell_type_markers.download_cellmarker_markers(\n",
    "        canonical_url = 'http://www.bio-bigdata.center/CellMarker_download_files/file/Cell_marker_All.xlsx',\n",
    "        computational_url = 'http://www.bio-bigdata.center/CellMarker_download_files/file/Cell_marker_Seq.xlsx',\n",
    "        species_list=[\"Human\"],save_dir=save_dir)\n",
    "else:\n",
    "    df_markers_canonical, df_markers_computational = download_cell_type_markers.load_cellmarker_markers(save_dir=save_dir)\n",
    "\n",
    "# query table with custom name mapping for missing cell types\n",
    "column = 'cell_name'\n",
    "cellmarker_custom_map = {}\n",
    "# cellmarker_custom_map = {  \n",
    "#     'CL:0000082':'CL:0000066',\n",
    "#     'CL:0005012':'CL:0000066',\n",
    "#     'CL:0002553':'CL:0000057',\n",
    "#     'CL:2000093':'CL:0000057',\n",
    "#     'CL:0002144':'CL:0000115',\n",
    "#     'CL:1001568':'CL:0000115',\n",
    "# }\n",
    "\n",
    "for tissues in ['all']:\n",
    "    print('\\n\\n',tissues)\n",
    "\n",
    "    if tissues !='all':\n",
    "        df_markers_canonical_tissues = df_markers_canonical[df_markers_canonical['tissue_class'].isin(tissues)]\n",
    "        df_markers_computational_tissues = df_markers_computational[df_markers_computational['tissue_class'].isin(tissues)]\n",
    "\n",
    "    else:\n",
    "        df_markers_canonical_tissues = df_markers_canonical\n",
    "        df_markers_computational_tissues = df_markers_computational\n",
    "\n",
    "    (cellmarker_ct_descr_canonical, \n",
    "    cellmarker_ct_markers_canonical, \n",
    "    cellmarker_ct_markers_canonical_df) = download_cell_type_markers.get_cellmarker_markers(\n",
    "        df_cell_types, \n",
    "        df_markers_canonical_tissues, \n",
    "        custom_map=cellmarker_custom_map,\n",
    "        column=column)\n",
    "\n",
    "    (cellmarker_ct_descr_computational, \n",
    "    cellmarker_ct_markers_computational, \n",
    "    cellmarker_ct_markers_computational_df) = download_cell_type_markers.get_cellmarker_markers(\n",
    "        df_cell_types, \n",
    "        df_markers_computational_tissues, \n",
    "        custom_map=cellmarker_custom_map,\n",
    "        column=column)\n",
    "\n",
    "    # add markers for missing cell types\n",
    "    # cDC2 = 'Conventional dendritic cell 2(cDC2)'\n",
    "    # cellmarker_ct_markers_canonical['CD1c-positive myeloid dendritic cell'] = list(df_markers_canonical_tissues.query(f\"cell_name == '{cDC2}'\")['Symbol'].dropna().unique())\n",
    "    # cellmarker_ct_markers_computational['CD1c-positive myeloid dendritic cell'] = list(df_markers_computational_tissues.query(f\"cell_name == '{cDC2}'\")['Symbol'].dropna().unique())\n",
    "\n",
    "    cellmarker_ct_markers = {\n",
    "        'canonical':cellmarker_ct_markers_canonical,\n",
    "        'computational':cellmarker_ct_markers_computational\n",
    "    }\n",
    "\n",
    "    # save markers\n",
    "    if tissues !='all':\n",
    "        t = '_'.join(tissues)\n",
    "        save_name = f'cellmarker_cell_types_markers_{t}.json'\n",
    "    else:\n",
    "        save_name = 'cellmarker_cell_types_markers.json'\n",
    "\n",
    "    path = save_dir+save_name\n",
    "    with open(path, 'w') as json_file:\n",
    "        json.dump(cellmarker_ct_markers, json_file)"
   ]
  },
  {
   "cell_type": "markdown",
   "metadata": {},
   "source": [
    "## Create lists filtered to xenium chuvio panel genes"
   ]
  },
  {
   "cell_type": "code",
   "execution_count": 26,
   "metadata": {},
   "outputs": [
    {
     "name": "stdout",
     "output_type": "stream",
     "text": [
      "hubmap_cell_types_markers\n",
      "cellmarker_cell_types_markers\n",
      "cellmarker_cell_types_markers_lung\n"
     ]
    }
   ],
   "source": [
    "xenium_chuvio_panel_genes = pd.read_csv(cfg['data_dir']+'xenium_chuvio_panel_genes.csv',index_col=0)['0'].values\n",
    "\n",
    "files = [\n",
    "'hubmap_cell_types_markers',\n",
    "'cellmarker_cell_types_markers',\n",
    "'cellmarker_cell_types_markers_lung',\n",
    "]\n",
    "for file in files:\n",
    "    print(file)\n",
    "\n",
    "    # read\n",
    "    path = save_dir+file+'.json'\n",
    "    with open(path, 'r') as json_file:\n",
    "        ct_markers = json.load(json_file)\n",
    "\n",
    "    # filter to chuvio genes\n",
    "    for k in ['canonical','computational']:\n",
    "        ct_markers[k] = {k0:[marker for marker in v0 if marker in xenium_chuvio_panel_genes] \n",
    "                                    for k0,v0 in ct_markers['canonical'].items() }\n",
    "\n",
    "    # write\n",
    "    path = save_dir+file+'_xenium_chuvio_panel_genes.json'\n",
    "    with open(path, 'w') as json_file:\n",
    "        json.dump(ct_markers,json_file)"
   ]
  },
  {
   "cell_type": "markdown",
   "metadata": {},
   "source": [
    "## Check n° of markers per cell type"
   ]
  },
  {
   "cell_type": "code",
   "execution_count": 6,
   "metadata": {},
   "outputs": [
    {
     "name": "stdout",
     "output_type": "stream",
     "text": [
      "hubmap_cell_types_markers\n",
      "cellmarker_cell_types_markers\n",
      "cellmarker_cell_types_markers_lung\n"
     ]
    }
   ],
   "source": [
    "files = [\n",
    "'hubmap_cell_types_markers',\n",
    "'cellmarker_cell_types_markers',\n",
    "'cellmarker_cell_types_markers_lung',\n",
    "]\n",
    "\n",
    "marker_counts = {}\n",
    "for file in files:\n",
    "    print(file)\n",
    "\n",
    "    # read\n",
    "    path = save_dir+file+'.json'\n",
    "    with open(path, 'r') as json_file:\n",
    "        ct_markers = json.load(json_file)\n",
    "\n",
    "    path = save_dir+file+'_xenium_chuvio_panel_genes.json'\n",
    "    with open(path, 'r') as json_file:\n",
    "        ct_markers_chuvio = json.load(json_file)\n",
    "\n",
    "    for k in ['canonical','computational']:\n",
    "\n",
    "        marker_counts[file+'_'+k] = {k0:len(v0) for k0,v0 in ct_markers[k].items()}\n",
    "        marker_counts[file+'_'+k+'_chuvio'] = {k0:len(v0) for k0,v0 in ct_markers_chuvio[k].items()}\n",
    "\n",
    "marker_counts = pd.DataFrame(marker_counts).T.replace(np.nan,0)\n",
    "marker_counts = marker_counts[sorted(marker_counts.columns)]\n",
    "marker_counts.index = marker_counts.index.str.replace('cell_types_markers_','')\n",
    "marker_counts.to_csv(save_dir+'marker_counts.csv')"
   ]
  }
 ],
 "metadata": {
  "kernelspec": {
   "display_name": "spatial",
   "language": "python",
   "name": "python3"
  },
  "language_info": {
   "codemirror_mode": {
    "name": "ipython",
    "version": 3
   },
   "file_extension": ".py",
   "mimetype": "text/x-python",
   "name": "python",
   "nbconvert_exporter": "python",
   "pygments_lexer": "ipython3",
   "version": "3.11.11"
  }
 },
 "nbformat": 4,
 "nbformat_minor": 2
}
