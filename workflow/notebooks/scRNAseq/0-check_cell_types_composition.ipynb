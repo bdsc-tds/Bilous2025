{
 "cells": [
  {
   "cell_type": "code",
   "execution_count": 11,
   "metadata": {},
   "outputs": [
    {
     "name": "stderr",
     "output_type": "stream",
     "text": [
      "/work/PRTNR/CHUV/DIR/rgottar1/spatial/env/jbac/miniforge3/envs/spatial/lib/python3.11/site-packages/tqdm/auto.py:21: TqdmWarning: IProgress not found. Please update jupyter and ipywidgets. See https://ipywidgets.readthedocs.io/en/stable/user_install.html\n",
      "  from .autonotebook import tqdm as notebook_tqdm\n"
     ]
    }
   ],
   "source": [
    "import dask\n",
    "dask.config.set({\"dataframe.query-planning\": False})\n",
    "\n",
    "import itertools\n",
    "import scanpy as sc\n",
    "import numpy as np\n",
    "import pandas as pd\n",
    "import sys\n",
    "import argparse\n",
    "import json\n",
    "import matplotlib.patches as mpatches\n",
    "import seaborn as sns\n",
    "import matplotlib.pyplot as plt\n",
    "from pathlib import Path\n",
    "\n",
    "sys.path.append(\"../../../workflow/scripts/\")\n",
    "import _utils\n",
    "import preprocessing\n",
    "import readwrite\n",
    "cfg = readwrite.config()"
   ]
  },
  {
   "cell_type": "code",
   "execution_count": 23,
   "metadata": {},
   "outputs": [
    {
     "name": "stdout",
     "output_type": "stream",
     "text": [
      "Subsetting\n",
      "Found 284 out of 289 genes.\n",
      "Removed 8283  cells...\n",
      "Removed 1  genes...\n",
      "GPU not available. Switching to CPU backend...\n"
     ]
    },
    {
     "name": "stderr",
     "output_type": "stream",
     "text": [
      "/work/PRTNR/CHUV/DIR/rgottar1/spatial/env/jbac/miniforge3/envs/spatial/lib/python3.11/site-packages/anndata/_core/aligned_df.py:68: ImplicitModificationWarning: Transforming to str index.\n",
      "  warnings.warn(\"Transforming to str index.\", ImplicitModificationWarning)\n"
     ]
    }
   ],
   "source": [
    "counts = '/work/PRTNR/CHUV/DIR/rgottar1/spatial/env/xenium_paper/results/seurat_to_h5/matched_combo_standard_lung_specific/RNA_counts.h5'\n",
    "metadata = '/work/PRTNR/CHUV/DIR/rgottar1/spatial/env/xenium_paper/results/seurat_to_h5/matched_combo_standard_lung_specific/metadata.parquet'\n",
    "genes = pd.read_csv('/work/PRTNR/CHUV/DIR/rgottar1/spatial/env/xenium_paper/data/markers/Xenium_hLung_v1_metadata.csv')['Gene'].tolist()\n",
    "\n",
    "# params from pipeline config\n",
    "min_counts = 10\n",
    "min_features = 5\n",
    "max_counts = float(\"inf\")\n",
    "max_features = float(\"inf\")\n",
    "min_cells = 5\n",
    "\n",
    "\n",
    "adata = sc.read_10x_h5(counts)\n",
    "adata.obs = pd.read_parquet(metadata)\n",
    "adata.obs.loc[adata.obs['Level2.1'].str.contains(\"malignant\") ,'Level2.1']='malignant cell'\n",
    "\n",
    "if len(genes):\n",
    "    print(\"Subsetting\")\n",
    "\n",
    "    genes_found = [\n",
    "        g\n",
    "        for g in adata.var_names\n",
    "        if (g in genes) or (g.replace(\".\", \"-\") in genes)  # possible seurat renaming\n",
    "    ]\n",
    "\n",
    "    print(f\"Found {len(genes_found)} out of {len(genes)} genes.\")\n",
    "\n",
    "    # read raw counts to reapply QC\n",
    "    adata = adata[:, genes_found].copy()\n",
    "\n",
    "    # reapply QC to subset of genes\n",
    "    preprocessing.preprocess(\n",
    "        adata,\n",
    "        min_counts=min_counts,\n",
    "        min_genes=min_features,\n",
    "        max_counts=max_counts,\n",
    "        max_genes=max_features,\n",
    "        min_cells=min_cells,\n",
    "        save_raw=False,\n",
    "    )"
   ]
  },
  {
   "cell_type": "code",
   "execution_count": 25,
   "metadata": {},
   "outputs": [
    {
     "data": {
      "text/plain": [
       "Level2.1\n",
       "plasma cell                        5492\n",
       "macrophage                         4241\n",
       "CD4-positive, alpha-beta T cell    4233\n",
       "CD8-positive, alpha-beta T cell    3596\n",
       "fibroblast of lung                 2177\n",
       "malignant cell                     2177\n",
       "dendritic cell                     1909\n",
       "B cell                             1534\n",
       "smooth muscle cell                 1529\n",
       "monocyte                           1394\n",
       "endothelial cell                    990\n",
       "T cell                              611\n",
       "epithelial cell of lung             589\n",
       "natural killer cell                 587\n",
       "mast cell                           511\n",
       "cycling lymphocyte                  381\n",
       "pericyte                            314\n",
       "granulocyte                          52\n",
       "Name: count, dtype: int64"
      ]
     },
     "execution_count": 25,
     "metadata": {},
     "output_type": "execute_result"
    }
   ],
   "source": [
    "adata.obs['Level2.1'].value_counts()"
   ]
  }
 ],
 "metadata": {
  "kernelspec": {
   "display_name": "spatial",
   "language": "python",
   "name": "python3"
  },
  "language_info": {
   "codemirror_mode": {
    "name": "ipython",
    "version": 3
   },
   "file_extension": ".py",
   "mimetype": "text/x-python",
   "name": "python",
   "nbconvert_exporter": "python",
   "pygments_lexer": "ipython3",
   "version": "3.11.11"
  }
 },
 "nbformat": 4,
 "nbformat_minor": 2
}
